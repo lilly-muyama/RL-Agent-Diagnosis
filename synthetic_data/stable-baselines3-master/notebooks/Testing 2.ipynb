{
 "cells": [
  {
   "cell_type": "code",
   "execution_count": 1,
   "id": "8cf17732",
   "metadata": {},
   "outputs": [
    {
     "ename": "ImportError",
     "evalue": "cannot import name 'simple_constants' from 'lillian_modules' (unknown location)",
     "output_type": "error",
     "traceback": [
      "\u001b[0;31m---------------------------------------------------------------------------\u001b[0m",
      "\u001b[0;31mImportError\u001b[0m                               Traceback (most recent call last)",
      "\u001b[0;32m/tmp/ipykernel_682107/3831168166.py\u001b[0m in \u001b[0;36m<module>\u001b[0;34m\u001b[0m\n\u001b[1;32m      6\u001b[0m \u001b[0;32mimport\u001b[0m \u001b[0msys\u001b[0m\u001b[0;34m\u001b[0m\u001b[0;34m\u001b[0m\u001b[0m\n\u001b[1;32m      7\u001b[0m \u001b[0msys\u001b[0m\u001b[0;34m.\u001b[0m\u001b[0mpath\u001b[0m\u001b[0;34m.\u001b[0m\u001b[0mappend\u001b[0m\u001b[0;34m(\u001b[0m\u001b[0;34m'../'\u001b[0m\u001b[0;34m)\u001b[0m\u001b[0;34m\u001b[0m\u001b[0;34m\u001b[0m\u001b[0m\n\u001b[0;32m----> 8\u001b[0;31m \u001b[0;32mfrom\u001b[0m \u001b[0mlillian_modules\u001b[0m \u001b[0;32mimport\u001b[0m \u001b[0mutils\u001b[0m\u001b[0;34m,\u001b[0m \u001b[0msimple_constants\u001b[0m\u001b[0;34m\u001b[0m\u001b[0;34m\u001b[0m\u001b[0m\n\u001b[0m\u001b[1;32m      9\u001b[0m \u001b[0;32mfrom\u001b[0m \u001b[0mlillian_modules\u001b[0m\u001b[0;34m.\u001b[0m\u001b[0msimple_env\u001b[0m \u001b[0;32mimport\u001b[0m \u001b[0mSimpleEnv\u001b[0m\u001b[0;34m\u001b[0m\u001b[0;34m\u001b[0m\u001b[0m\n\u001b[1;32m     10\u001b[0m \u001b[0;32mfrom\u001b[0m \u001b[0mstable_baselines3\u001b[0m\u001b[0;34m.\u001b[0m\u001b[0mdqn\u001b[0m \u001b[0;32mimport\u001b[0m \u001b[0mDQN\u001b[0m\u001b[0;34m\u001b[0m\u001b[0;34m\u001b[0m\u001b[0m\n",
      "\u001b[0;31mImportError\u001b[0m: cannot import name 'simple_constants' from 'lillian_modules' (unknown location)"
     ]
    }
   ],
   "source": [
    "import pandas as pd\n",
    "import numpy as np\n",
    "import random\n",
    "import os\n",
    "import torch\n",
    "import sys\n",
    "sys.path.append('../')\n",
    "from lillian_modules import utils, simple_constants\n",
    "from lillian_modules.simple_env import SimpleEnv\n",
    "from stable_baselines3.dqn import DQN\n",
    "# from modules.env import LupusEnv\n",
    "from sklearn.model_selection import train_test_split\n",
    "# from stable_baselines3 import DQN\n",
    "from imblearn.under_sampling import ClusterCentroids, RandomUnderSampler\n",
    "import warnings\n",
    "warnings.filterwarnings('ignore')"
   ]
  },
  {
   "cell_type": "code",
   "execution_count": null,
   "id": "7af1e161",
   "metadata": {},
   "outputs": [],
   "source": [
    "SEED = simple_constants.SEED\n",
    "random.seed(SEED)\n",
    "np.random.seed(SEED)\n",
    "os.environ['PYTHONHASHSEED']=str(SEED)\n",
    "torch.manual_seed(SEED)\n",
    "torch.use_deterministic_algorithms(True)"
   ]
  },
  {
   "cell_type": "code",
   "execution_count": null,
   "id": "e694ebd0",
   "metadata": {},
   "outputs": [],
   "source": [
    "testing_df = pd.read_csv('../../RL-Agent-Diagnosis/lupus/data/missingness/0/testing_set.csv')\n",
    "# testing_df = pd.read_csv('../../RL-Agent-Diagnosis/lupus/data/inconclusive_diagnosis/missingness/0/testing_set.csv')\n",
    "X_test, y_test = testing_df.iloc[:, 0:-1], testing_df.iloc[:, -1]\n",
    "X_test, y_test = np.array(X_test), np.array(y_test)\n",
    "testing_df.head()"
   ]
  },
  {
   "cell_type": "code",
   "execution_count": null,
   "id": "99699e0d",
   "metadata": {},
   "outputs": [],
   "source": [
    "model = utils.load_dqn3('../models/very_simple_models/negative_step_reward/unbalanced/11_03_23/23_ft_incorr_-10_corr_1/best_acc_model.zip')\n",
    "# model = utils.load_dqn3('../models/inconclusive_diagnosis/04_03_23/23_ft_incorr_-1_corr_1/best_acc_model.zip')\n",
    "# model = utils.load_dqn3('../models/very_simple_models/best_models/23_ft_20000000/best_acc_model.zip')"
   ]
  },
  {
   "cell_type": "code",
   "execution_count": null,
   "id": "ef03037f",
   "metadata": {},
   "outputs": [],
   "source": [
    "# test_df = pd.read_csv('../../RL-Agent-Diagnosis/lupus/test_dfs/21_jan/dqn_test_df_13000000.csv')"
   ]
  },
  {
   "cell_type": "code",
   "execution_count": null,
   "id": "fc5b136e",
   "metadata": {},
   "outputs": [],
   "source": [
    "test_df = pd.DataFrame()\n",
    "testing_env = SimpleEnv(X_test, y_test, random=False)\n",
    "# testing_env = LupusEnv(X_test, y_test, random=False)\n",
    "count = 0\n",
    "try:\n",
    "    while True:\n",
    "        count += 1\n",
    "        if count %(len(X_test)/5)==0:\n",
    "            print(f'Count: {count}')\n",
    "        obs, done = testing_env.reset(), False\n",
    "        while not done:\n",
    "            action, states = model.predict(obs, deterministic=True)\n",
    "            obs, rew, done, info = testing_env.step(action)\n",
    "            if done==True:\n",
    "                test_df = test_df.append(info, ignore_index=True)\n",
    "except StopIteration:\n",
    "    print('Testing done ....')\n",
    "test_df.head() "
   ]
  },
  {
   "cell_type": "code",
   "execution_count": null,
   "id": "04831628",
   "metadata": {},
   "outputs": [],
   "source": [
    "test_df.episode_length.min(), test_df.episode_length.max()"
   ]
  },
  {
   "cell_type": "code",
   "execution_count": null,
   "id": "499b7fdf",
   "metadata": {},
   "outputs": [],
   "source": [
    "success_rate, success_df = utils.success_rate(test_df)\n",
    "success_rate"
   ]
  },
  {
   "cell_type": "code",
   "execution_count": null,
   "id": "e7786a37",
   "metadata": {},
   "outputs": [],
   "source": [
    "acc, f1, roc_auc, precision, recall = utils.test(test_df['y_actual'], test_df['y_pred'])\n",
    "acc, f1, roc_auc, precision, recall"
   ]
  },
  {
   "cell_type": "code",
   "execution_count": null,
   "id": "075dd0a8",
   "metadata": {},
   "outputs": [],
   "source": [
    "avg_length, avg_return = utils.get_avg_length_reward(test_df)\n",
    "avg_length, avg_return"
   ]
  },
  {
   "cell_type": "code",
   "execution_count": null,
   "id": "f8ad9158",
   "metadata": {},
   "outputs": [],
   "source": [
    "# test_df.to_csv('../../RL-Agent-Diagnosis/lupus/test_dfs/negative_reward/penalty_on_positive.csv', index=False)"
   ]
  },
  {
   "cell_type": "markdown",
   "id": "4a96b57a",
   "metadata": {},
   "source": [
    "###### "
   ]
  },
  {
   "cell_type": "code",
   "execution_count": null,
   "id": "b4dc81b8",
   "metadata": {},
   "outputs": [],
   "source": []
  }
 ],
 "metadata": {
  "kernelspec": {
   "display_name": "Python 3 (ipykernel)",
   "language": "python",
   "name": "python3"
  },
  "language_info": {
   "codemirror_mode": {
    "name": "ipython",
    "version": 3
   },
   "file_extension": ".py",
   "mimetype": "text/x-python",
   "name": "python",
   "nbconvert_exporter": "python",
   "pygments_lexer": "ipython3",
   "version": "3.7.4"
  }
 },
 "nbformat": 4,
 "nbformat_minor": 5
}

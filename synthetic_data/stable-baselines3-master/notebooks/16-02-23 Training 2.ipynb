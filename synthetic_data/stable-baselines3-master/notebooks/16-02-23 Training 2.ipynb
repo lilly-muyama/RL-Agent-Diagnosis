{
 "cells": [
  {
   "cell_type": "code",
   "execution_count": 1,
   "id": "24527bd4",
   "metadata": {},
   "outputs": [],
   "source": [
    "import pandas as pd\n",
    "import numpy as np\n",
    "import random\n",
    "import os\n",
    "import torch\n",
    "import sys\n",
    "sys.path.append('../')\n",
    "from lillian_modules import utils, simple_constants\n",
    "from lillian_modules.simple_env import SimpleEnv\n",
    "from stable_baselines3.dqn import DQN\n",
    "# from modules.env import LupusEnv\n",
    "from sklearn.model_selection import train_test_split\n",
    "# from stable_baselines3 import DQN\n",
    "from imblearn.under_sampling import ClusterCentroids, RandomUnderSampler\n",
    "import warnings\n",
    "warnings.filterwarnings('ignore')"
   ]
  },
  {
   "cell_type": "code",
   "execution_count": 2,
   "id": "00c63cfb",
   "metadata": {},
   "outputs": [],
   "source": [
    "SEED = simple_constants.SEED\n",
    "random.seed(SEED)\n",
    "np.random.seed(SEED)\n",
    "os.environ['PYTHONHASHSEED']=str(SEED)\n",
    "torch.manual_seed(SEED)\n",
    "torch.use_deterministic_algorithms(True)"
   ]
  },
  {
   "cell_type": "code",
   "execution_count": 3,
   "id": "59fcb8db",
   "metadata": {},
   "outputs": [],
   "source": [
    "class_dict = simple_constants.CLASS_DICT"
   ]
  },
  {
   "cell_type": "code",
   "execution_count": 4,
   "id": "a3c81bed",
   "metadata": {},
   "outputs": [],
   "source": [
    "# frac = 0.6"
   ]
  },
  {
   "cell_type": "markdown",
   "id": "62865c48",
   "metadata": {},
   "source": [
    "#### The data"
   ]
  },
  {
   "cell_type": "code",
   "execution_count": 5,
   "id": "ac494008",
   "metadata": {},
   "outputs": [],
   "source": [
    "# def balance_dataframe(df):\n",
    "#     target_num = df.label.value_counts().min()\n",
    "#     sample_amounts = {0: target_num, 1:target_num}\n",
    "\n",
    "#     s = (df.groupby('label').apply(lambda g: g.sample(n=sample_amounts[g.name], \n",
    "#                                                       replace=len(g) < sample_amounts[g.name])\n",
    "#                                   ).reset_index(drop=True))\n",
    "#     return s"
   ]
  },
  {
   "cell_type": "code",
   "execution_count": 6,
   "id": "fff9bcaf",
   "metadata": {},
   "outputs": [],
   "source": [
    "# df = pd.read_csv('../../RL-Agent-Diagnosis/lupus/data/orig/lupus_dataset.csv')\n",
    "# df = pd.read_csv('../../RL-Agent-Diagnosis/lupus/data/very_simple_datasets/feats_8.csv')\n",
    "# df.head()"
   ]
  },
  {
   "cell_type": "code",
   "execution_count": 7,
   "id": "9bb7dd2e",
   "metadata": {},
   "outputs": [],
   "source": [
    "# df.label.value_counts()"
   ]
  },
  {
   "cell_type": "code",
   "execution_count": 8,
   "id": "433acb36",
   "metadata": {},
   "outputs": [
    {
     "data": {
      "text/plain": [
       "((50400, 23), (5600, 23), (14000, 23), (50400,), (5600,), (14000,))"
      ]
     },
     "execution_count": 8,
     "metadata": {},
     "output_type": "execute_result"
    }
   ],
   "source": [
    "# df['label'] = df['label'].replace(class_dict)\n",
    "# # print(df.label.value_counts())\n",
    "# X = df.iloc[:, 0:-1]\n",
    "# y = df.iloc[:, -1]\n",
    "\n",
    "# X_train_val, X_test, y_train_val, y_test = train_test_split(X, y, test_size=0.20, stratify=y, random_state=SEED)\n",
    "# X_train, X_val, y_train, y_val = train_test_split(X_train_val, y_train_val, test_size=0.10, stratify=y_train_val, random_state=SEED)\n",
    "# training_df = pd.concat([X_train, y_train], axis=1).reset_index(drop=True)\n",
    "# validation_df = pd.concat([X_val, y_val], axis=1).reset_index(drop=True)\n",
    "# testing_df = pd.concat([X_test, y_test], axis=1).reset_index(drop=True)\n",
    "training_df = pd.read_csv('../../RL-Agent-Diagnosis/lupus/data/missingness/0/training_set.csv')\n",
    "validation_df = pd.read_csv('../../RL-Agent-Diagnosis/lupus/data/missingness/0/validation_set.csv')\n",
    "testing_df = pd.read_csv('../../RL-Agent-Diagnosis/lupus/data/missingness/0/testing_set.csv')\n",
    "# training_df = pd.read_csv(f'../../RL-Agent-Diagnosis/lupus/data/inconclusive_diagnosis/missingness/0/training_set.csv')\n",
    "# validation_df = pd.read_csv(f'../../RL-Agent-Diagnosis/lupus/data/inconclusive_diagnosis/missingness/0/validation_set.csv')\n",
    "# testing_df = pd.read_csv(f'../../RL-Agent-Diagnosis/lupus/data/inconclusive_diagnosis/missingness/0/testing_set.csv')\n",
    "training_df = training_df.fillna(-1)\n",
    "X_train, y_train = training_df.iloc[:, 0:-1], training_df.iloc[:, -1]\n",
    "X_val, y_val = validation_df.iloc[:, 0:-1], validation_df.iloc[:, -1]\n",
    "X_test, y_test = testing_df.iloc[:, 0:-1], testing_df.iloc[:, -1]\n",
    "# y = df.iloc[:, -1]\n",
    "X_train, y_train = np.array(X_train), np.array(y_train)\n",
    "X_val, y_val = np.array(X_val), np.array(y_val)\n",
    "X_test, y_test = np.array(X_test), np.array(y_test)\n",
    "X_train.shape, X_val.shape, X_test.shape, y_train.shape, y_val.shape, y_test.shape"
   ]
  },
  {
   "cell_type": "code",
   "execution_count": 9,
   "id": "a264ed08",
   "metadata": {},
   "outputs": [
    {
     "data": {
      "text/plain": [
       "ana                             0\n",
       "fever                           0\n",
       "leukopenia                      0\n",
       "thrombocytopenia                0\n",
       "auto_immune_hemolysis           0\n",
       "delirium                        0\n",
       "psychosis                       0\n",
       "seizure                         0\n",
       "non_scarring_alopecia           0\n",
       "oral_ulcers                     0\n",
       "cutaneous_lupus                 0\n",
       "pleural_effusion                0\n",
       "pericardial_effusion            0\n",
       "acute_pericarditis              0\n",
       "joint_involvement               0\n",
       "proteinuria                     0\n",
       "anti_cardioliphin_antibodies    0\n",
       "anti_β2gp1_antibodies           0\n",
       "lupus_anti_coagulant            0\n",
       "low_c3                          0\n",
       "low_c4                          0\n",
       "anti_dsdna_antibody             0\n",
       "anti_smith_antibody             0\n",
       "label                           0\n",
       "dtype: int64"
      ]
     },
     "execution_count": 9,
     "metadata": {},
     "output_type": "execute_result"
    }
   ],
   "source": [
    "testing_df.isna().sum()"
   ]
  },
  {
   "cell_type": "code",
   "execution_count": 10,
   "id": "58a10bbe",
   "metadata": {},
   "outputs": [
    {
     "data": {
      "text/plain": [
       "(array([0, 1]), array([26203, 24197]))"
      ]
     },
     "execution_count": 10,
     "metadata": {},
     "output_type": "execute_result"
    }
   ],
   "source": [
    "unique, counts = np.unique(y_train, return_counts=True)\n",
    "unique, counts"
   ]
  },
  {
   "cell_type": "code",
   "execution_count": 11,
   "id": "f5632cb4",
   "metadata": {},
   "outputs": [],
   "source": [
    "# len(balanced_training_df[(balanced_training_df.ana==1) & (balanced_training_df.label==0)])"
   ]
  },
  {
   "cell_type": "code",
   "execution_count": 12,
   "id": "f17d82c9",
   "metadata": {},
   "outputs": [
    {
     "data": {
      "text/plain": [
       "1265"
      ]
     },
     "execution_count": 12,
     "metadata": {},
     "output_type": "execute_result"
    }
   ],
   "source": [
    "len(validation_df[(validation_df.ana==1) &(validation_df.label==0)])"
   ]
  },
  {
   "cell_type": "code",
   "execution_count": 13,
   "id": "b0b05d7a",
   "metadata": {},
   "outputs": [],
   "source": [
    "# len(balanced_training_df)"
   ]
  },
  {
   "cell_type": "markdown",
   "id": "f65e99e0",
   "metadata": {},
   "source": [
    "#### Training the model"
   ]
  },
  {
   "cell_type": "code",
   "execution_count": 14,
   "id": "b9bea7b3",
   "metadata": {},
   "outputs": [],
   "source": [
    "def stable_dqn3(X_train, y_train, timesteps, validation_times=10, folder_name=None):\n",
    "    training_env = SimpleEnv(X_train, y_train)\n",
    "    print(f'ACTION SPACE: {training_env.actions}')\n",
    "    model = DQN(policy='MlpPolicy', env=training_env, verbose=1, seed=SEED, X_val=X_val, y_val=y_val, \n",
    "                to_save_folder=folder_name)\n",
    "    model.learn(total_timesteps=timesteps, validation_times=validation_times, log_interval=100000)\n",
    "#     if save:\n",
    "#         model.save(filename)\n",
    "    training_env.close()\n",
    "    return model"
   ]
  },
  {
   "cell_type": "code",
   "execution_count": null,
   "id": "8c66bc5e",
   "metadata": {},
   "outputs": [],
   "source": [
    "ft_num = 23\n",
    "steps = 50000000\n",
    "# for steps in [int(6e6)]:\n",
    "# for steps in [int()]:\n",
    "model = stable_dqn3(X_train, y_train, timesteps=steps, validation_times=500,\n",
    "                    folder_name=f'../models/very_simple_models/negative_step_reward/unbalanced/04_03_23/eighteenth')\n",
    "# val_df.to_csv(f'../test_dfs/val_df_ft_{ft_num}_{steps}', index=False)\n",
    "#     stable_dqn3(X_train, y_train, steps)"
   ]
  },
  {
   "cell_type": "code",
   "execution_count": null,
   "id": "5c5c8a2f",
   "metadata": {},
   "outputs": [],
   "source": []
  },
  {
   "cell_type": "code",
   "execution_count": null,
   "id": "0c1d20f9",
   "metadata": {},
   "outputs": [],
   "source": []
  },
  {
   "cell_type": "code",
   "execution_count": null,
   "id": "98970acf",
   "metadata": {},
   "outputs": [],
   "source": []
  },
  {
   "cell_type": "code",
   "execution_count": null,
   "id": "e603e434",
   "metadata": {},
   "outputs": [],
   "source": []
  }
 ],
 "metadata": {
  "kernelspec": {
   "display_name": "Python 3 (ipykernel)",
   "language": "python",
   "name": "python3"
  },
  "language_info": {
   "codemirror_mode": {
    "name": "ipython",
    "version": 3
   },
   "file_extension": ".py",
   "mimetype": "text/x-python",
   "name": "python",
   "nbconvert_exporter": "python",
   "pygments_lexer": "ipython3",
   "version": "3.7.4"
  }
 },
 "nbformat": 4,
 "nbformat_minor": 5
}

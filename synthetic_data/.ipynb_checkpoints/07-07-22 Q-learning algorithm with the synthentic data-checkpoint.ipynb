{
 "cells": [
  {
   "cell_type": "code",
   "execution_count": 164,
   "id": "1671d037",
   "metadata": {},
   "outputs": [],
   "source": [
    "import pandas as pd\n",
    "import numpy as np\n",
    "import random\n",
    "import copy\n",
    "\n",
    "from sklearn.model_selection import train_test_split\n",
    "from sklearn.preprocessing import label_binarize, LabelBinarizer\n",
    "from sklearn.metrics import accuracy_score, f1_score, roc_auc_score, roc_curve, auc"
   ]
  },
  {
   "cell_type": "markdown",
   "id": "a751109e",
   "metadata": {},
   "source": [
    "#### The data"
   ]
  },
  {
   "cell_type": "code",
   "execution_count": 165,
   "id": "f2e54fe8",
   "metadata": {},
   "outputs": [
    {
     "data": {
      "text/html": [
       "<div>\n",
       "<style scoped>\n",
       "    .dataframe tbody tr th:only-of-type {\n",
       "        vertical-align: middle;\n",
       "    }\n",
       "\n",
       "    .dataframe tbody tr th {\n",
       "        vertical-align: top;\n",
       "    }\n",
       "\n",
       "    .dataframe thead th {\n",
       "        text-align: right;\n",
       "    }\n",
       "</style>\n",
       "<table border=\"1\" class=\"dataframe\">\n",
       "  <thead>\n",
       "    <tr style=\"text-align: right;\">\n",
       "      <th></th>\n",
       "      <th>length</th>\n",
       "      <th>width</th>\n",
       "      <th>height</th>\n",
       "      <th>label</th>\n",
       "    </tr>\n",
       "  </thead>\n",
       "  <tbody>\n",
       "    <tr>\n",
       "      <th>0</th>\n",
       "      <td>0</td>\n",
       "      <td>0</td>\n",
       "      <td>0</td>\n",
       "      <td>0</td>\n",
       "    </tr>\n",
       "    <tr>\n",
       "      <th>1</th>\n",
       "      <td>1</td>\n",
       "      <td>1</td>\n",
       "      <td>1</td>\n",
       "      <td>1</td>\n",
       "    </tr>\n",
       "    <tr>\n",
       "      <th>2</th>\n",
       "      <td>1</td>\n",
       "      <td>0</td>\n",
       "      <td>0</td>\n",
       "      <td>0</td>\n",
       "    </tr>\n",
       "    <tr>\n",
       "      <th>3</th>\n",
       "      <td>0</td>\n",
       "      <td>1</td>\n",
       "      <td>0</td>\n",
       "      <td>2</td>\n",
       "    </tr>\n",
       "    <tr>\n",
       "      <th>4</th>\n",
       "      <td>1</td>\n",
       "      <td>1</td>\n",
       "      <td>1</td>\n",
       "      <td>1</td>\n",
       "    </tr>\n",
       "  </tbody>\n",
       "</table>\n",
       "</div>"
      ],
      "text/plain": [
       "   length  width  height  label\n",
       "0       0      0       0      0\n",
       "1       1      1       1      1\n",
       "2       1      0       0      0\n",
       "3       0      1       0      2\n",
       "4       1      1       1      1"
      ]
     },
     "execution_count": 165,
     "metadata": {},
     "output_type": "execute_result"
    }
   ],
   "source": [
    "df = pd.read_csv('data/balanced_q_dataset.csv')\n",
    "df.head()"
   ]
  },
  {
   "cell_type": "code",
   "execution_count": 166,
   "id": "ab423bd8",
   "metadata": {},
   "outputs": [
    {
     "data": {
      "text/plain": [
       "((525, 3), (225, 3), (525,), (225,))"
      ]
     },
     "execution_count": 166,
     "metadata": {},
     "output_type": "execute_result"
    }
   ],
   "source": [
    "X = df.iloc[:, 0:-1]\n",
    "y = df.iloc[:, -1]\n",
    "\n",
    "#X_trainval, X_test, y_trainval, y_test = train_test_split(X, y, test_size=0.2, stratify=y, random_state=42)\n",
    "#X_train, X_val, y_train, y_val = train_test_split(X_trainval, y_trainval, test_size=0.1, stratify=y_trainval, random_state=42)\n",
    "X_train, X_test, y_train, y_test = train_test_split(X, y, test_size=0.3, stratify=y, random_state=42)\n",
    "X_train, y_train = np.array(X_train), np.array(y_train)\n",
    "X_test, y_test = np.array(X_test), np.array(y_test)\n",
    "X_train.shape, X_test.shape, y_train.shape, y_test.shape"
   ]
  },
  {
   "cell_type": "code",
   "execution_count": 167,
   "id": "4978ecd8",
   "metadata": {},
   "outputs": [],
   "source": [
    "class Env:\n",
    "    def __init__(self, X, Y):\n",
    "        self.X = X\n",
    "        self.Y = Y\n",
    "        self.x = np.zeros((1, 3), dtype=np.int32)\n",
    "        self.y = -1\n",
    "        self.num_classes = 3\n",
    "        self.sample_num = len(X)\n",
    "        self.state = np.zeros((1, 3), dtype=np.int32)\n",
    "        self.total_reward = 0\n",
    "        self.trajectory = []\n",
    "        self.episode_length = 0\n",
    "        self.action_space = np.array([0, 1, 2, 3, 4, 5])\n",
    "        #self.available_actions = np.zeros((1, 6), dtype=np.float32)\n",
    "        \n",
    "    def reset(self, i): #I am going to go through the data sequentially\n",
    "        #print(f'Current epsiode completed. Resetting to index {i}')\n",
    "        if i < self.sample_num:\n",
    "            self.trajectory = []\n",
    "            self.total_reward = 0\n",
    "            self.episode_length = 0\n",
    "            self.state = np.zeros((1, 3), dtype=np.int32)\n",
    "            self.x, self.y = self.X[i], self.Y[i]\n",
    "            #self.available_actions = np.zeros((1, 6), dtype=np.float32)\n",
    "            return self.state\n",
    "        else:\n",
    "            pass\n",
    "        \n",
    "    def get_next_state(self, action):\n",
    "        #self.available_actions[0, action] =1\n",
    "        if action < 3: #the classes\n",
    "            next_state = None\n",
    "        elif (action >=3) & (action <=5):\n",
    "            feature_idx = action - 3\n",
    "            self.x = self.x.reshape(-1, 3)\n",
    "            x_value = self.x[0, feature_idx]\n",
    "            next_state = copy.deepcopy(self.state)\n",
    "            next_state[0, feature_idx] = x_value\n",
    "        else:\n",
    "            print('unknown action')\n",
    "            next_state = None\n",
    "        return next_state\n",
    "    \n",
    "    def step(self, action):\n",
    "        self.trajectory.append(action)\n",
    "        ep_length = 1\n",
    "        reward = 0\n",
    "        next_state = self.get_next_state(action)\n",
    "        if action < 3:\n",
    "            if action == self.y:\n",
    "                reward += 1\n",
    "            else:\n",
    "                reward -= 1\n",
    "            y_actual = self.y \n",
    "            y_pred = action\n",
    "            done = True\n",
    "        elif action in self.trajectory:\n",
    "            reward -= 1\n",
    "            y_actual = np.nan\n",
    "            y_pred = np.nan\n",
    "            done = False\n",
    "        else:\n",
    "            reward += 0\n",
    "            y_actual = np.nan\n",
    "            y_pred = np.nan\n",
    "            done=False\n",
    "            \n",
    "        self.total_reward+=reward\n",
    "        self.episode_length+= ep_length\n",
    "        total_reward_metric = self.total_reward \n",
    "        total_length_metric = self.episode_length\n",
    "        \n",
    "        info = {'episode_length':total_length_metric, 'total_reward': total_reward_metric, 'y_actual':y_actual, \n",
    "                   'y_pred': y_pred}\n",
    "        #print(f'The metrics: {metrics}')\n",
    "        return next_state, reward, done, info"
   ]
  },
  {
   "cell_type": "code",
   "execution_count": 168,
   "id": "1d80b8de",
   "metadata": {},
   "outputs": [],
   "source": [
    "class TestingEnv(Env):\n",
    "    def __init__(self, X, y):\n",
    "        super().__init__(X, y)\n",
    "        self.x, self.y = self.X[0], self.Y[0]\n",
    "        self.idx = 0\n",
    "        self.episode_length =len(self.trajectory)\n",
    "        \n",
    "    def step(self, action, name): \n",
    "        self.trajectory.append(action)\n",
    "        reward = 0\n",
    "        if action < 3:\n",
    "            if action == self.y:\n",
    "                reward += 1\n",
    "            else:\n",
    "                reward -= 1\n",
    "            done = True\n",
    "            y_actual = self.y \n",
    "            y_pred = action\n",
    "            self.idx+=1\n",
    "        \n",
    "        elif action in self.trajectory:\n",
    "            reward -= 1\n",
    "            y_actual = np.nan\n",
    "            y_pred = np.nan\n",
    "            done = False\n",
    "        \n",
    "        else:\n",
    "            reward += 0\n",
    "            done = False\n",
    "            y_actual = np.nan\n",
    "            y_pred = np.nan \n",
    "        \n",
    "        next_state = self.get_next_state(action)\n",
    "        episode_number = self.idx\n",
    "        pathway = self.trajectory\n",
    "        self.total_reward += reward\n",
    "        total_reward_metric = self.total_reward \n",
    "        info = {'episode_length':len(pathway), 'total_reward': total_reward_metric, 'y_actual':y_actual, 'y_pred': y_pred, \n",
    "                'pathway': pathway, 'done':done} \n",
    "        return next_state, info"
   ]
  },
  {
   "cell_type": "markdown",
   "id": "13a9f4b7",
   "metadata": {},
   "source": [
    "#### The shit starts here"
   ]
  },
  {
   "cell_type": "code",
   "execution_count": 169,
   "id": "5acafae1",
   "metadata": {},
   "outputs": [],
   "source": [
    "from IPython.display import clear_output"
   ]
  },
  {
   "cell_type": "code",
   "execution_count": 170,
   "id": "0289a64c",
   "metadata": {},
   "outputs": [
    {
     "data": {
      "text/plain": [
       "array([[0., 0., 0., 0., 0., 0.],\n",
       "       [0., 0., 0., 0., 0., 0.],\n",
       "       [0., 0., 0., 0., 0., 0.],\n",
       "       [0., 0., 0., 0., 0., 0.],\n",
       "       [0., 0., 0., 0., 0., 0.],\n",
       "       [0., 0., 0., 0., 0., 0.],\n",
       "       [0., 0., 0., 0., 0., 0.],\n",
       "       [0., 0., 0., 0., 0., 0.]])"
      ]
     },
     "execution_count": 170,
     "metadata": {},
     "output_type": "execute_result"
    }
   ],
   "source": [
    "q_table = np.zeros([8, 6])\n",
    "q_table"
   ]
  },
  {
   "cell_type": "code",
   "execution_count": 171,
   "id": "92ab9c8b",
   "metadata": {},
   "outputs": [],
   "source": [
    "#radical idea\n",
    "states_dict = {'0': [0, 0, 0], '1': [0, 0, 1], '2': [0, 1, 0], '3': [0, 1, 1], '4': [1, 0, 0], '5': [1, 0, 1], '6': [1, 1, 0], \n",
    "               '7': [1, 1, 1]}\n",
    "def get_state(arr):\n",
    "    #print(f'init state in func: {arr}')\n",
    "    ls = list(arr[0])\n",
    "    #print(f'ls in func: {ls}')\n",
    "    state = list(states_dict.keys())[list(states_dict.values()).index(ls)]\n",
    "    #print(f'final state in func: {int(state)}')\n",
    "    return int(state)"
   ]
  },
  {
   "cell_type": "code",
   "execution_count": 172,
   "id": "fed0f5b8",
   "metadata": {},
   "outputs": [
    {
     "data": {
      "text/plain": [
       "0"
      ]
     },
     "execution_count": 172,
     "metadata": {},
     "output_type": "execute_result"
    }
   ],
   "source": [
    "get_state([[0,0,0]])"
   ]
  },
  {
   "cell_type": "code",
   "execution_count": 173,
   "id": "b72ae7e5",
   "metadata": {},
   "outputs": [
    {
     "name": "stdout",
     "output_type": "stream",
     "text": [
      "Epoch 100000\n"
     ]
    }
   ],
   "source": [
    "#%%time\n",
    "\n",
    "alpha = 0.1\n",
    "gamma = 0.7\n",
    "epsilon = 0.1\n",
    "epochs = 100000\n",
    "env = Env(X_train, y_train)\n",
    "\n",
    "for epoch in range(1, epochs+1):\n",
    "#for epoch in range(1, 6):\n",
    "    #print('a')\n",
    "    if epoch%10000 == 0:\n",
    "    #if epoch%(epochs/10)==0:\n",
    "        print(f'Epoch {epoch}')\n",
    "    idx = random.randint(0, env.sample_num-1)\n",
    "    #print(f'idx: {idx}')\n",
    "    state = get_state(env.reset(idx)) #initialize env\n",
    "    #print(f'Initial state:{state}')\n",
    "    done = False\n",
    "    \n",
    "    while not done:\n",
    "        #print('b')\n",
    "        #print(q_table)\n",
    "        if random.uniform(0, 1) < epsilon:\n",
    "            #print('choosing action randomly')\n",
    "            action = random.choice(env.action_space) # Explore action space\n",
    "        else:\n",
    "            #print('choosing action using q table')\n",
    "            action = np.argmax(q_table[state]) # Exploit learned values\n",
    "        #print(f'action: {action}')\n",
    "        #print(f'state: {state}')\n",
    "        next_state, reward, done, info = env.step(action)\n",
    "        #print(f'Initial next state: {next_state}')\n",
    "        if next_state is None:\n",
    "            pass\n",
    "        else:\n",
    "            next_state = get_state(next_state)\n",
    "            #print(f'Revised next state: {next_state}')\n",
    "        \n",
    "        old_value = q_table[state, action]\n",
    "        #print(f'Old value: {old_value}')\n",
    "        next_max = np.max(q_table[next_state])\n",
    "        #print(f'next max: {next_max}')\n",
    "        new_value = (1 - alpha) * old_value + alpha * (reward + gamma * next_max)\n",
    "        #print(f'new value: {new_value}')\n",
    "        q_table[state, action] = new_value\n",
    "        \n",
    "        state = next_state\n",
    "    if epoch % 100 == 0:\n",
    "        clear_output(wait=True)"
   ]
  },
  {
   "cell_type": "code",
   "execution_count": 174,
   "id": "e4862eb3",
   "metadata": {},
   "outputs": [
    {
     "data": {
      "text/plain": [
       "array([0, 1, 0], dtype=int64)"
      ]
     },
     "execution_count": 174,
     "metadata": {},
     "output_type": "execute_result"
    }
   ],
   "source": [
    "X_train[500]"
   ]
  },
  {
   "cell_type": "code",
   "execution_count": null,
   "id": "c3671888",
   "metadata": {},
   "outputs": [],
   "source": []
  }
 ],
 "metadata": {
  "kernelspec": {
   "display_name": "Python 3 (ipykernel)",
   "language": "python",
   "name": "python3"
  },
  "language_info": {
   "codemirror_mode": {
    "name": "ipython",
    "version": 3
   },
   "file_extension": ".py",
   "mimetype": "text/x-python",
   "name": "python",
   "nbconvert_exporter": "python",
   "pygments_lexer": "ipython3",
   "version": "3.7.4"
  }
 },
 "nbformat": 4,
 "nbformat_minor": 5
}

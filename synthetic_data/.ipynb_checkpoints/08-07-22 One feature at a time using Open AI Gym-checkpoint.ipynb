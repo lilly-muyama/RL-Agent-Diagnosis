{
 "cells": [
  {
   "cell_type": "code",
   "execution_count": 10,
   "id": "f3553eee",
   "metadata": {},
   "outputs": [
    {
     "name": "stdout",
     "output_type": "stream",
     "text": [
      "1.13.1\n"
     ]
    }
   ],
   "source": [
    "import pandas as pd\n",
    "import numpy as np\n",
    "import random\n",
    "import gym\n",
    "import tensorflow as tf\n",
    "from sklearn.model_selection import train_test_split\n",
    "from sklearn.preprocessing import MinMaxScaler\n",
    "print(tf. __version__)"
   ]
  },
  {
   "cell_type": "markdown",
   "id": "34503b08",
   "metadata": {},
   "source": [
    "#### The data"
   ]
  },
  {
   "cell_type": "code",
   "execution_count": 11,
   "id": "5fac2ca0",
   "metadata": {},
   "outputs": [],
   "source": [
    "num_classes = 3\n",
    "input_shape = (3,)"
   ]
  },
  {
   "cell_type": "code",
   "execution_count": 12,
   "id": "21a6aa92",
   "metadata": {},
   "outputs": [],
   "source": [
    "df = pd.read_csv('data/dataset_10000.csv')\n",
    "class_dict = {'A':0, 'B':1, 'C':2}\n",
    "df['label'] = df['label'].replace(class_dict)\n",
    "X = df.iloc[:, 0:-1]\n",
    "y = df.iloc[:, -1]\n",
    "\n",
    "X_train, X_test, y_train, y_test = train_test_split(X, y, test_size=0.3, stratify=y, random_state=42)\n",
    "\n",
    "scaler = MinMaxScaler()\n",
    "X_train = scaler.fit_transform(X_train)\n",
    "#X_val = scaler.transform(X_val)\n",
    "X_test = scaler.transform(X_test)\n",
    "X_train, y_train = np.array(X_train), np.array(y_train)\n",
    "#X_val, y_val = np.array(X_val), np.array(y_val)\n",
    "X_test, y_test = np.array(X_test), np.array(y_test)"
   ]
  },
  {
   "cell_type": "markdown",
   "id": "0235bc15",
   "metadata": {},
   "source": [
    "#### The gym env subclass"
   ]
  },
  {
   "cell_type": "code",
   "execution_count": null,
   "id": "370aabdd",
   "metadata": {},
   "outputs": [],
   "source": [
    "class AnemiaDiagnosisEnv(gym.Env):\n",
    "    def __init__(self, data=(X_train, y_train)):\n",
    "        super().__init__()\n",
    "        self.action_space = gym.spaces.Discrete(6)\n",
    "        self.observation_space = gym.spaces.Box(low=0, high=1, shape=(1, 3), dtype=np.float32)\n",
    "        self.step_count = 0\n",
    "        self.X, self.Y = data\n",
    "        self.random = random\n",
    "        self.dataset_idx = 0\n",
    "        self.x, self.y = self.x[self.dataset_idx], self.y[self.dataset_idx]\n",
    "        self.state = np.zeros((1, 3), dtype=np.float32)\n",
    "        self.available_actions = np.zeros((1, 6), dtype=np.float32)\n",
    "        self.total_reward = 0\n",
    "        \n",
    "    \n",
    "    def reset(self, seed):\n",
    "        self.step_count = 0\n",
    "        self.total_reward = 0\n",
    "        self.dataset_idx = random.randint(0, len(self.X)-1)\n",
    "        self.x, self.y = self.x[self.dataset_idx], self.y[self.dataset_idx]\n",
    "        self.state = np.zeros((1, 3), dtype=np.float32)\n",
    "        self.available_actions = np.zeros((1,6), dtype=np.float32)\n",
    "    \n",
    "    def render(self):\n",
    "        print(f': Current state of the environment: {self.state}')\n",
    "        print(f'Available actions: {self.available_actions}')\n",
    "    \n",
    "    def step(self, action):\n",
    "        self.step_count += 1\n",
    "        if action < 3:\n",
    "            done = True\n",
    "            next_state = None\n",
    "            reward = int(action == self.expected_action)\n",
    "            y_actual = self.y\n",
    "            y_pred = action\n",
    "        else:\n",
    "            done = False\n",
    "            next_state = self._get_next_state(action)\n",
    "            reward = 0\n",
    "            y_actual = np.nan\n",
    "            y_pred = np.nan\n",
    "        self.total_reward += reward\n",
    "        info = {'episode_length':self.step_count, 'total_reward': self.total_reward, 'y_actual':y_actual, 'y_pred': y_pred}\n",
    "        return next_state, self.available_actions, reward, done, info\n",
    "    \n",
    "    def _get_next_state(self, action): #_next_obs\n",
    "        self.available_actions[0, action] = 1\n",
    "        feature_idx = action - 3\n",
    "        self.x = self.x.reshape(-1, 3)\n",
    "        x_value = self.x[0, feature_idx]\n",
    "        next_state = copy.deepcopy(self.state)\n",
    "        next_state[0, feature_idx] = x_value\n",
    "        return next_state"
   ]
  }
 ],
 "metadata": {
  "kernelspec": {
   "display_name": "Python 3 (ipykernel)",
   "language": "python",
   "name": "python3"
  },
  "language_info": {
   "codemirror_mode": {
    "name": "ipython",
    "version": 3
   },
   "file_extension": ".py",
   "mimetype": "text/x-python",
   "name": "python",
   "nbconvert_exporter": "python",
   "pygments_lexer": "ipython3",
   "version": "3.7.4"
  }
 },
 "nbformat": 4,
 "nbformat_minor": 5
}

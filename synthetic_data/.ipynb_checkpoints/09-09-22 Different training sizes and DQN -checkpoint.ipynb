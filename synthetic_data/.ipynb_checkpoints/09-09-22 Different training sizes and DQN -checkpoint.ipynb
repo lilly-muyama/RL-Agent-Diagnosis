{
 "cells": [
  {
   "cell_type": "code",
   "execution_count": 36,
   "id": "650a9a46",
   "metadata": {},
   "outputs": [
    {
     "name": "stderr",
     "output_type": "stream",
     "text": [
      "C:\\Users\\User\\Anaconda3\\envs\\tf_v1_env\\lib\\site-packages\\stable_baselines\\__init__.py:33: UserWarning: stable-baselines is in maintenance mode, please use [Stable-Baselines3 (SB3)](https://github.com/DLR-RM/stable-baselines3) for an up-to-date version. You can find a [migration guide](https://stable-baselines3.readthedocs.io/en/master/guide/migration.html) in SB3 documentation.\n",
      "  \"stable-baselines is in maintenance mode, please use [Stable-Baselines3 (SB3)](https://github.com/DLR-RM/stable-baselines3) for an up-to-date version. You can find a [migration guide](https://stable-baselines3.readthedocs.io/en/master/guide/migration.html) in SB3 documentation.\"\n"
     ]
    }
   ],
   "source": [
    "import pandas as pd\n",
    "import numpy as np\n",
    "import random\n",
    "from sklearn.model_selection import train_test_split\n",
    "import tensorflow\n",
    "import os\n",
    "import utils\n",
    "from envs import SyntheticComplexHbEnv\n",
    "from stable_baselines.common.env_checker import check_env\n",
    "from stable_baselines.common.policies import MlpPolicy\n",
    "from stable_baselines.common.vec_env import DummyVecEnv\n",
    "from stable_baselines import DQN\n",
    "from stable_baselines import bench, logger\n",
    "import matplotlib.pyplot as plt\n",
    "%matplotlib inline"
   ]
  },
  {
   "cell_type": "code",
   "execution_count": 3,
   "id": "5ee47f02",
   "metadata": {},
   "outputs": [],
   "source": [
    "SEED = 42\n",
    "random.seed(SEED)\n",
    "np.random.seed(SEED)\n",
    "tensorflow.set_random_seed(SEED)\n",
    "os.environ['PYTHONHASHSEED']=str(SEED)"
   ]
  },
  {
   "cell_type": "markdown",
   "id": "c372b299",
   "metadata": {},
   "source": [
    "#### Functions"
   ]
  },
  {
   "cell_type": "code",
   "execution_count": 16,
   "id": "5a75d5e5",
   "metadata": {},
   "outputs": [],
   "source": [
    "def sample_train_set(x, y, sample_num):\n",
    "    idx_list = random.sample(list(x.index), sample_num)\n",
    "    print(idx_list)\n",
    "    sampled_x = x.loc[idx_list]\n",
    "    sampled_y = y.loc[idx_list]\n",
    "    return np.array(sampled_x), np.array(sampled_y)"
   ]
  },
  {
   "cell_type": "code",
   "execution_count": 38,
   "id": "6ee6cbca",
   "metadata": {},
   "outputs": [],
   "source": [
    "def stable_dqn(X_train, y_train, timesteps, model_file_name):\n",
    "    training_env = SyntheticComplexHbEnv(X_train, y_train)\n",
    "    env = bench.Monitor(training_env, logger.get_dir())\n",
    "    model = DQN('MlpPolicy', training_env, verbose=1, seed=SEED, n_cpu_tf_sess=1)\n",
    "    model.learn(total_timesteps=timesteps, log_interval=10000)\n",
    "    model.save(f'models/{model_file_name}_{timesteps}.pkl')\n",
    "    env.close()\n",
    "    return model"
   ]
  },
  {
   "cell_type": "code",
   "execution_count": 37,
   "id": "ce1c1f66",
   "metadata": {},
   "outputs": [],
   "source": [
    "def evaluate_dqn(dqn_model, X_test, y_test):\n",
    "    test_df = pd.DataFrame()\n",
    "    test_env = SyntheticComplexHbEnv(X_test, y_test, random=False)\n",
    "    count=0\n",
    "\n",
    "    try:\n",
    "        while True:\n",
    "            count+=1\n",
    "            if count%5000==0:\n",
    "                print(f'Count: {count}')\n",
    "            obs, done = test_env.reset(), False\n",
    "            while not done:\n",
    "                action, _states = dqn_model.predict(obs, deterministic=True)\n",
    "                obs, rew, done,info = test_env.step(action)\n",
    "                if done == True:\n",
    "                    test_df = test_df.append(info, ignore_index=True)\n",
    "    except StopIteration:\n",
    "        print('Testing done.....')\n",
    "    return test_df"
   ]
  },
  {
   "cell_type": "markdown",
   "id": "e06a03ee",
   "metadata": {},
   "source": [
    "#### The Data"
   ]
  },
  {
   "cell_type": "code",
   "execution_count": 4,
   "id": "063bad6d",
   "metadata": {},
   "outputs": [
    {
     "data": {
      "text/plain": [
       "{'No anemia': 0,\n",
       " 'Hemolytic anemia': 1,\n",
       " 'Aplastic anemia': 2,\n",
       " 'Iron deficiency anemia': 3,\n",
       " 'Vitamin B12/Folate deficiency anemia': 4,\n",
       " 'Anemia of chronic disease': 5}"
      ]
     },
     "execution_count": 4,
     "metadata": {},
     "output_type": "execute_result"
    }
   ],
   "source": [
    "df = pd.read_csv('data/anemia_synth_dataset_hb_some_nans.csv') #my real dataset i think\n",
    "df = df.fillna(0)\n",
    "classes = list(df.label.unique())\n",
    "nums = [i for i in range(len(classes))]\n",
    "class_dict = dict(zip(classes, nums))\n",
    "print(class_dict)\n",
    "df['label'] = df['label'].replace(class_dict)\n",
    "print(df.label.value_counts())\n",
    "X = df.iloc[:, 0:-1]\n",
    "y = df.iloc[:, -1]\n",
    "\n",
    "full_X_train, X_test, full_y_train, y_test = train_test_split(X, y, test_size=0.3, stratify=y, random_state=SEED)\n",
    "X_test, y_test = np.array(X_test), np.array(y_test)\n",
    "full_X_train.shape, X_test.shape, full_y_train.shape, y_test.shape"
   ]
  },
  {
   "cell_type": "code",
   "execution_count": null,
   "id": "391ddced",
   "metadata": {},
   "outputs": [],
   "source": [
    "train_sizes = [500, 1000, 3000, 5000, 10000]"
   ]
  },
  {
   "cell_type": "code",
   "execution_count": null,
   "id": "c9b9803a",
   "metadata": {},
   "outputs": [],
   "source": [
    "for train_size in train_sizes[1]:\n",
    "    X_train, y_train = sample_train_set(full_X_train, full_y_train, train_size)\n",
    "    unique, counts = np.unique(y_train, return_counts=True)\n",
    "    if len(unique) != 6:\n",
    "        print(f'Skipping {train_size} because only {len(np.unique(y_train))} classes are in the sample')\n",
    "    else:\n",
    "        counts_dict = dict(zip(unique, counts))\n",
    "        print(counts_dict)\n",
    "        dqn_model = stable_dqn(X_train, y_train, int(2e3), f'train_sizes/{train_size}')\n",
    "        test_df = evaluate_dqn(dqn_model, X_test, y_test)\n",
    "        y_pred_df, success_df, success_rate = utils.get_success_rate(test_df)\n",
    "        \n",
    "        test_df.to_csv('test_dfs/train_sizes/test_df_2e6.csv', index=False)\n",
    "        y_pred_df.to_csv('test_dfs/train_sizes/y_pred_df_2e6.csv', index=False)\n",
    "        success_df.to_csv('test_dfs/train_sizes/success_df_2e6.csv', index=False)"
   ]
  },
  {
   "cell_type": "code",
   "execution_count": 5,
   "id": "b53c17bd",
   "metadata": {},
   "outputs": [
    {
     "name": "stdout",
     "output_type": "stream",
     "text": [
      "1    14146\n",
      "0    10000\n",
      "2     9450\n",
      "5     1869\n",
      "4     1575\n",
      "3     1343\n",
      "Name: label, dtype: int64\n"
     ]
    },
    {
     "data": {
      "text/plain": [
       "((26868, 6), (11515, 6), (26868,), (11515,))"
      ]
     },
     "execution_count": 5,
     "metadata": {},
     "output_type": "execute_result"
    }
   ],
   "source": [
    "\n",
    "\n"
   ]
  },
  {
   "cell_type": "code",
   "execution_count": 17,
   "id": "0387707c",
   "metadata": {},
   "outputs": [
    {
     "name": "stdout",
     "output_type": "stream",
     "text": [
      "[28757, 23379, 36616, 36592, 31451, 30815, 25219, 32822, 37936, 7073]\n"
     ]
    },
    {
     "data": {
      "text/html": [
       "<div>\n",
       "<style scoped>\n",
       "    .dataframe tbody tr th:only-of-type {\n",
       "        vertical-align: middle;\n",
       "    }\n",
       "\n",
       "    .dataframe tbody tr th {\n",
       "        vertical-align: top;\n",
       "    }\n",
       "\n",
       "    .dataframe thead th {\n",
       "        text-align: right;\n",
       "    }\n",
       "</style>\n",
       "<table border=\"1\" class=\"dataframe\">\n",
       "  <thead>\n",
       "    <tr style=\"text-align: right;\">\n",
       "      <th></th>\n",
       "      <th>hemoglobin</th>\n",
       "      <th>ferritin</th>\n",
       "      <th>ret_count</th>\n",
       "      <th>segmented_neutrophils</th>\n",
       "      <th>tibc</th>\n",
       "      <th>mcv</th>\n",
       "    </tr>\n",
       "  </thead>\n",
       "  <tbody>\n",
       "    <tr>\n",
       "      <th>28757</th>\n",
       "      <td>2.327392</td>\n",
       "      <td>159.123619</td>\n",
       "      <td>2.301563</td>\n",
       "      <td>0.0</td>\n",
       "      <td>0.000000</td>\n",
       "      <td>86.538896</td>\n",
       "    </tr>\n",
       "    <tr>\n",
       "      <th>23379</th>\n",
       "      <td>10.018695</td>\n",
       "      <td>0.000000</td>\n",
       "      <td>5.113819</td>\n",
       "      <td>0.0</td>\n",
       "      <td>0.000000</td>\n",
       "      <td>83.419710</td>\n",
       "    </tr>\n",
       "    <tr>\n",
       "      <th>36616</th>\n",
       "      <td>2.650073</td>\n",
       "      <td>195.361559</td>\n",
       "      <td>4.727333</td>\n",
       "      <td>0.0</td>\n",
       "      <td>0.000000</td>\n",
       "      <td>90.034990</td>\n",
       "    </tr>\n",
       "    <tr>\n",
       "      <th>36592</th>\n",
       "      <td>9.293322</td>\n",
       "      <td>86.760192</td>\n",
       "      <td>5.399623</td>\n",
       "      <td>0.0</td>\n",
       "      <td>0.000000</td>\n",
       "      <td>84.800889</td>\n",
       "    </tr>\n",
       "    <tr>\n",
       "      <th>31451</th>\n",
       "      <td>2.026132</td>\n",
       "      <td>139.514259</td>\n",
       "      <td>0.343936</td>\n",
       "      <td>0.0</td>\n",
       "      <td>440.542479</td>\n",
       "      <td>81.700721</td>\n",
       "    </tr>\n",
       "    <tr>\n",
       "      <th>30815</th>\n",
       "      <td>14.958928</td>\n",
       "      <td>48.659838</td>\n",
       "      <td>0.000000</td>\n",
       "      <td>0.0</td>\n",
       "      <td>0.000000</td>\n",
       "      <td>89.468000</td>\n",
       "    </tr>\n",
       "    <tr>\n",
       "      <th>25219</th>\n",
       "      <td>14.625554</td>\n",
       "      <td>47.883954</td>\n",
       "      <td>0.000000</td>\n",
       "      <td>0.0</td>\n",
       "      <td>0.000000</td>\n",
       "      <td>96.210813</td>\n",
       "    </tr>\n",
       "    <tr>\n",
       "      <th>32822</th>\n",
       "      <td>16.121179</td>\n",
       "      <td>193.918203</td>\n",
       "      <td>0.000000</td>\n",
       "      <td>0.0</td>\n",
       "      <td>251.490067</td>\n",
       "      <td>82.681152</td>\n",
       "    </tr>\n",
       "    <tr>\n",
       "      <th>37936</th>\n",
       "      <td>8.213408</td>\n",
       "      <td>0.000000</td>\n",
       "      <td>4.333178</td>\n",
       "      <td>0.0</td>\n",
       "      <td>357.561181</td>\n",
       "      <td>95.004433</td>\n",
       "    </tr>\n",
       "    <tr>\n",
       "      <th>7073</th>\n",
       "      <td>3.952061</td>\n",
       "      <td>0.000000</td>\n",
       "      <td>4.363863</td>\n",
       "      <td>0.0</td>\n",
       "      <td>427.077906</td>\n",
       "      <td>98.404189</td>\n",
       "    </tr>\n",
       "  </tbody>\n",
       "</table>\n",
       "</div>"
      ],
      "text/plain": [
       "       hemoglobin    ferritin  ret_count  segmented_neutrophils        tibc  \\\n",
       "28757    2.327392  159.123619   2.301563                    0.0    0.000000   \n",
       "23379   10.018695    0.000000   5.113819                    0.0    0.000000   \n",
       "36616    2.650073  195.361559   4.727333                    0.0    0.000000   \n",
       "36592    9.293322   86.760192   5.399623                    0.0    0.000000   \n",
       "31451    2.026132  139.514259   0.343936                    0.0  440.542479   \n",
       "30815   14.958928   48.659838   0.000000                    0.0    0.000000   \n",
       "25219   14.625554   47.883954   0.000000                    0.0    0.000000   \n",
       "32822   16.121179  193.918203   0.000000                    0.0  251.490067   \n",
       "37936    8.213408    0.000000   4.333178                    0.0  357.561181   \n",
       "7073     3.952061    0.000000   4.363863                    0.0  427.077906   \n",
       "\n",
       "             mcv  \n",
       "28757  86.538896  \n",
       "23379  83.419710  \n",
       "36616  90.034990  \n",
       "36592  84.800889  \n",
       "31451  81.700721  \n",
       "30815  89.468000  \n",
       "25219  96.210813  \n",
       "32822  82.681152  \n",
       "37936  95.004433  \n",
       "7073   98.404189  "
      ]
     },
     "execution_count": 17,
     "metadata": {},
     "output_type": "execute_result"
    }
   ],
   "source": [
    "X_train, y_train = get_train_set(full_X_train, full_y_train, 10)\n",
    "X_train"
   ]
  },
  {
   "cell_type": "code",
   "execution_count": 33,
   "id": "79ab1432",
   "metadata": {},
   "outputs": [
    {
     "data": {
      "text/plain": [
       "3"
      ]
     },
     "execution_count": 33,
     "metadata": {},
     "output_type": "execute_result"
    }
   ],
   "source": [
    "len(np.unique(y_train))"
   ]
  },
  {
   "cell_type": "code",
   "execution_count": 34,
   "id": "9915fc77",
   "metadata": {},
   "outputs": [
    {
     "data": {
      "text/plain": [
       "(array([0, 1, 2], dtype=int64), array([3, 6, 1], dtype=int64))"
      ]
     },
     "execution_count": 34,
     "metadata": {},
     "output_type": "execute_result"
    }
   ],
   "source": [
    "unique, counts = np.unique(y_train, return_counts=True)\n",
    "unique, counts"
   ]
  },
  {
   "cell_type": "code",
   "execution_count": 35,
   "id": "727c93ae",
   "metadata": {},
   "outputs": [
    {
     "data": {
      "text/plain": [
       "{0: 3, 1: 6, 2: 1}"
      ]
     },
     "execution_count": 35,
     "metadata": {},
     "output_type": "execute_result"
    }
   ],
   "source": [
    "counts_dict = dict(zip(unique, counts))\n",
    "counts_dict"
   ]
  },
  {
   "cell_type": "code",
   "execution_count": 31,
   "id": "0c03f3fd",
   "metadata": {},
   "outputs": [
    {
     "data": {
      "text/plain": [
       "hemoglobin                 3.952061\n",
       "ferritin                   0.000000\n",
       "ret_count                  4.363863\n",
       "segmented_neutrophils      0.000000\n",
       "tibc                     427.077906\n",
       "mcv                       98.404189\n",
       "label                      1.000000\n",
       "Name: 7073, dtype: float64"
      ]
     },
     "execution_count": 31,
     "metadata": {},
     "output_type": "execute_result"
    }
   ],
   "source": [
    "df.loc[7073]"
   ]
  },
  {
   "cell_type": "code",
   "execution_count": null,
   "id": "ceed48bf",
   "metadata": {},
   "outputs": [],
   "source": []
  }
 ],
 "metadata": {
  "kernelspec": {
   "display_name": "Python 3 (ipykernel)",
   "language": "python",
   "name": "python3"
  },
  "language_info": {
   "codemirror_mode": {
    "name": "ipython",
    "version": 3
   },
   "file_extension": ".py",
   "mimetype": "text/x-python",
   "name": "python",
   "nbconvert_exporter": "python",
   "pygments_lexer": "ipython3",
   "version": "3.7.4"
  }
 },
 "nbformat": 4,
 "nbformat_minor": 5
}

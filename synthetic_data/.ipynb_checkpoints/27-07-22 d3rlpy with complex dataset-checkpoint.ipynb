{
 "cells": [
  {
   "cell_type": "code",
   "execution_count": 1,
   "id": "cb4aa4dc",
   "metadata": {},
   "outputs": [
    {
     "name": "stderr",
     "output_type": "stream",
     "text": [
      "C:\\Users\\User\\Anaconda3\\envs\\tf_v1_env\\lib\\site-packages\\tensorflow\\python\\framework\\dtypes.py:526: FutureWarning: Passing (type, 1) or '1type' as a synonym of type is deprecated; in a future version of numpy, it will be understood as (type, (1,)) / '(1,)type'.\n",
      "  _np_qint8 = np.dtype([(\"qint8\", np.int8, 1)])\n",
      "C:\\Users\\User\\Anaconda3\\envs\\tf_v1_env\\lib\\site-packages\\tensorflow\\python\\framework\\dtypes.py:527: FutureWarning: Passing (type, 1) or '1type' as a synonym of type is deprecated; in a future version of numpy, it will be understood as (type, (1,)) / '(1,)type'.\n",
      "  _np_quint8 = np.dtype([(\"quint8\", np.uint8, 1)])\n",
      "C:\\Users\\User\\Anaconda3\\envs\\tf_v1_env\\lib\\site-packages\\tensorflow\\python\\framework\\dtypes.py:528: FutureWarning: Passing (type, 1) or '1type' as a synonym of type is deprecated; in a future version of numpy, it will be understood as (type, (1,)) / '(1,)type'.\n",
      "  _np_qint16 = np.dtype([(\"qint16\", np.int16, 1)])\n",
      "C:\\Users\\User\\Anaconda3\\envs\\tf_v1_env\\lib\\site-packages\\tensorflow\\python\\framework\\dtypes.py:529: FutureWarning: Passing (type, 1) or '1type' as a synonym of type is deprecated; in a future version of numpy, it will be understood as (type, (1,)) / '(1,)type'.\n",
      "  _np_quint16 = np.dtype([(\"quint16\", np.uint16, 1)])\n",
      "C:\\Users\\User\\Anaconda3\\envs\\tf_v1_env\\lib\\site-packages\\tensorflow\\python\\framework\\dtypes.py:530: FutureWarning: Passing (type, 1) or '1type' as a synonym of type is deprecated; in a future version of numpy, it will be understood as (type, (1,)) / '(1,)type'.\n",
      "  _np_qint32 = np.dtype([(\"qint32\", np.int32, 1)])\n",
      "C:\\Users\\User\\Anaconda3\\envs\\tf_v1_env\\lib\\site-packages\\tensorflow\\python\\framework\\dtypes.py:535: FutureWarning: Passing (type, 1) or '1type' as a synonym of type is deprecated; in a future version of numpy, it will be understood as (type, (1,)) / '(1,)type'.\n",
      "  np_resource = np.dtype([(\"resource\", np.ubyte, 1)])\n"
     ]
    }
   ],
   "source": [
    "import pandas as pd\n",
    "import numpy as np\n",
    "import random\n",
    "import os\n",
    "import tensorflow\n",
    "from sklearn.preprocessing import MinMaxScaler\n",
    "from sklearn.model_selection import train_test_split\n",
    "import copy\n",
    "from gym import Env\n",
    "from gym.spaces import Discrete, Box\n",
    "import d3rlpy\n",
    "from d3rlpy.algos import DQN\n",
    "from d3rlpy.online.buffers import ReplayBuffer\n",
    "from d3rlpy.online.explorers import LinearDecayEpsilonGreedy\n",
    "from envs import SyntheticSimpleEnv, SyntheticComplexEnv\n",
    "import helper"
   ]
  },
  {
   "cell_type": "code",
   "execution_count": 2,
   "id": "6283d0d1",
   "metadata": {},
   "outputs": [],
   "source": [
    "SEED = 42\n",
    "random.seed(SEED)\n",
    "np.random.seed(SEED)\n",
    "tensorflow.set_random_seed(SEED)\n",
    "os.environ['PYTHONHASHSEED']=str(SEED)"
   ]
  },
  {
   "cell_type": "markdown",
   "id": "aa1fc1c8",
   "metadata": {},
   "source": [
    "#### Original datasets"
   ]
  },
  {
   "cell_type": "code",
   "execution_count": 3,
   "id": "8c69e327",
   "metadata": {},
   "outputs": [],
   "source": [
    "file_simple = 'data/dataset_10000.csv'\n",
    "class_dict_simple = {'A':0, 'B':1, 'C':2}\n",
    "X_train, X_test, y_train, y_test = helper.split_dataset(file_simple, class_dict_simple)"
   ]
  },
  {
   "cell_type": "markdown",
   "id": "06a40bfc",
   "metadata": {},
   "source": [
    "#### Online Training"
   ]
  },
  {
   "cell_type": "code",
   "execution_count": 4,
   "id": "0572f885",
   "metadata": {},
   "outputs": [],
   "source": [
    "simple_online_train_env = SyntheticSimpleEnv(X_train, y_train)\n",
    "simple_online_test_env = SyntheticSimpleEnv(X_test, y_test)"
   ]
  },
  {
   "cell_type": "code",
   "execution_count": 6,
   "id": "955df73a",
   "metadata": {},
   "outputs": [],
   "source": [
    "online_dqn = DQN(batch_size=32, learning_rate=2.5e-4, target_update_interval=100, use_gpu=False)\n",
    "buffer = ReplayBuffer(maxlen=50000, env=simple_online_train_env)\n",
    "explorer = LinearDecayEpsilonGreedy(start_epsilon=1.0, end_epsilon=0.1, duration=10000)"
   ]
  },
  {
   "cell_type": "code",
   "execution_count": 7,
   "id": "5e28a390",
   "metadata": {},
   "outputs": [
    {
     "name": "stdout",
     "output_type": "stream",
     "text": [
      "2022-07-29 19:05.12 [info     ] Directory is created at d3rlpy_logs\\DQN_online_20220729190512\n",
      "2022-07-29 19:05.12 [debug    ] Building model...\n",
      "2022-07-29 19:05.12 [debug    ] Model has been built.\n",
      "2022-07-29 19:05.12 [info     ] Parameters are saved to d3rlpy_logs\\DQN_online_20220729190512\\params.json params={'action_scaler': None, 'batch_size': 32, 'encoder_factory': {'type': 'default', 'params': {'activation': 'relu', 'use_batch_norm': False, 'dropout_rate': None}}, 'gamma': 0.99, 'generated_maxlen': 100000, 'learning_rate': 0.00025, 'n_critics': 1, 'n_frames': 1, 'n_steps': 1, 'optim_factory': {'optim_cls': 'Adam', 'betas': (0.9, 0.999), 'eps': 1e-08, 'weight_decay': 0, 'amsgrad': False}, 'q_func_factory': {'type': 'mean', 'params': {'share_encoder': False}}, 'real_ratio': 1.0, 'reward_scaler': None, 'scaler': None, 'target_update_interval': 100, 'use_gpu': None, 'algorithm': 'DQN', 'observation_shape': (3,), 'action_size': 6}\n"
     ]
    },
    {
     "data": {
      "application/vnd.jupyter.widget-view+json": {
       "model_id": "e0da173272ca4031a4abd13d5b568a3b",
       "version_major": 2,
       "version_minor": 0
      },
      "text/plain": [
       "  0%|          | 0/120000 [00:00<?, ?it/s]"
      ]
     },
     "metadata": {},
     "output_type": "display_data"
    },
    {
     "name": "stdout",
     "output_type": "stream",
     "text": [
      "2022-07-29 19:05.13 [info     ] Model parameters are saved to d3rlpy_logs\\DQN_online_20220729190512\\model_1000.pt\n",
      "2022-07-29 19:05.13 [info     ] DQN_online_20220729190512: epoch=1 step=1000 epoch=1 metrics={'time_inference': 0.0004429876804351807, 'time_environment_step': 1.3001441955566405e-05, 'time_step': 0.0007869985103607178, 'rollout_return': 0.26526315789473687, 'time_sample_batch': 0.00010305335841228053, 'time_algorithm_update': 0.00284526765961008, 'loss': 0.8220997296043278, 'evaluation': -2.6} step=1000\n",
      "2022-07-29 19:05.14 [info     ] Model parameters are saved to d3rlpy_logs\\DQN_online_20220729190512\\model_2000.pt\n",
      "2022-07-29 19:05.14 [info     ] DQN_online_20220729190512: epoch=2 step=2000 epoch=2 metrics={'time_inference': 0.0005050077438354492, 'time_environment_step': 8.996248245239257e-06, 'time_step': 0.0008910181522369385, 'rollout_return': 0.19196428571428573, 'time_sample_batch': 0.00014001846313476562, 'time_algorithm_update': 0.0032301592826843263, 'loss': 0.5757777044177055, 'evaluation': -0.9} step=2000\n",
      "2022-07-29 19:05.15 [info     ] Model parameters are saved to d3rlpy_logs\\DQN_online_20220729190512\\model_3000.pt\n",
      "2022-07-29 19:05.15 [info     ] DQN_online_20220729190512: epoch=3 step=3000 epoch=3 metrics={'time_inference': 0.0005788455009460449, 'time_environment_step': 1.7493486404418946e-05, 'time_step': 0.0010147082805633545, 'rollout_return': 0.3654320987654321, 'time_sample_batch': 6.536245346069335e-05, 'time_algorithm_update': 0.0036419105529785158, 'loss': 0.6239619073271752, 'evaluation': 0.9} step=3000\n",
      "2022-07-29 19:05.16 [info     ] Model parameters are saved to d3rlpy_logs\\DQN_online_20220729190512\\model_4000.pt\n",
      "2022-07-29 19:05.16 [info     ] DQN_online_20220729190512: epoch=4 step=4000 epoch=4 metrics={'time_inference': 0.0004890611171722413, 'time_environment_step': 1.6019821166992186e-05, 'time_step': 0.0008750269412994385, 'rollout_return': 0.47883597883597884, 'time_sample_batch': 5.984306335449219e-05, 'time_algorithm_update': 0.0031497979164123533, 'loss': 0.495763418674469, 'evaluation': 2.1} step=4000\n",
      "2022-07-29 19:05.17 [info     ] Model parameters are saved to d3rlpy_logs\\DQN_online_20220729190512\\model_5000.pt\n",
      "2022-07-29 19:05.17 [info     ] DQN_online_20220729190512: epoch=5 step=5000 epoch=5 metrics={'time_inference': 0.000464998722076416, 'time_environment_step': 4.999399185180664e-06, 'time_step': 0.0008000237941741944, 'rollout_return': 0.5211267605633803, 'time_sample_batch': 9.000062942504883e-05, 'time_algorithm_update': 0.002830400466918945, 'loss': 0.39599848687648775, 'evaluation': 0.4} step=5000\n",
      "2022-07-29 19:05.18 [info     ] Model parameters are saved to d3rlpy_logs\\DQN_online_20220729190512\\model_6000.pt\n",
      "2022-07-29 19:05.18 [info     ] DQN_online_20220729190512: epoch=6 step=6000 epoch=6 metrics={'time_inference': 0.0005340099334716797, 'time_environment_step': 8.99982452392578e-06, 'time_step': 0.0009270052909851074, 'rollout_return': 0.8453947368421053, 'time_sample_batch': 0.00012010335922241211, 'time_algorithm_update': 0.0032999491691589355, 'loss': 0.40970397382974627, 'evaluation': 0.4} step=6000\n",
      "2022-07-29 19:05.19 [info     ] Model parameters are saved to d3rlpy_logs\\DQN_online_20220729190512\\model_7000.pt\n",
      "2022-07-29 19:05.19 [info     ] DQN_online_20220729190512: epoch=7 step=7000 epoch=7 metrics={'time_inference': 0.0005266623497009277, 'time_environment_step': 1.3002872467041015e-05, 'time_step': 0.0009283366203308106, 'rollout_return': 0.8508474576271187, 'time_sample_batch': 0.000139925479888916, 'time_algorithm_update': 0.0033163356781005858, 'loss': 0.3939898419380188, 'evaluation': 1.2} step=7000\n",
      "2022-07-29 19:05.19 [info     ] Model parameters are saved to d3rlpy_logs\\DQN_online_20220729190512\\model_8000.pt\n",
      "2022-07-29 19:05.19 [info     ] DQN_online_20220729190512: epoch=8 step=8000 epoch=8 metrics={'time_inference': 0.0004890229701995849, 'time_environment_step': 1.7000913619995118e-05, 'time_step': 0.0008809995651245117, 'rollout_return': 1.054945054945055, 'time_sample_batch': 6.027698516845703e-05, 'time_algorithm_update': 0.0033094620704650878, 'loss': 0.380772483497858, 'evaluation': 2.1} step=8000\n",
      "2022-07-29 19:05.20 [info     ] Model parameters are saved to d3rlpy_logs\\DQN_online_20220729190512\\model_9000.pt\n",
      "2022-07-29 19:05.20 [info     ] DQN_online_20220729190512: epoch=9 step=9000 epoch=9 metrics={'time_inference': 0.0005530617237091064, 'time_environment_step': 1.6973495483398436e-05, 'time_step': 0.0009910061359405518, 'rollout_return': 1.3674242424242424, 'time_sample_batch': 0.00010012149810791016, 'time_algorithm_update': 0.0036295151710510256, 'loss': 0.37448601961135863, 'evaluation': 1.2} step=9000\n",
      "2022-07-29 19:05.22 [info     ] Model parameters are saved to d3rlpy_logs\\DQN_online_20220729190512\\model_10000.pt\n",
      "2022-07-29 19:05.22 [info     ] DQN_online_20220729190512: epoch=10 step=10000 epoch=10 metrics={'time_inference': 0.0005531892776489258, 'time_environment_step': 8.568286895751954e-06, 'time_step': 0.000980851173400879, 'rollout_return': 1.1030042918454936, 'time_sample_batch': 0.00013014554977416992, 'time_algorithm_update': 0.003645007610321045, 'loss': 0.39292070910334587, 'evaluation': 1.6} step=10000\n",
      "2022-07-29 19:05.22 [info     ] Model parameters are saved to d3rlpy_logs\\DQN_online_20220729190512\\model_11000.pt\n",
      "2022-07-29 19:05.22 [info     ] DQN_online_20220729190512: epoch=11 step=11000 epoch=11 metrics={'time_inference': 0.0005070383548736572, 'time_environment_step': 1.295185089111328e-05, 'time_step': 0.0009099593162536622, 'rollout_return': 1.6680672268907564, 'time_sample_batch': 0.0001002645492553711, 'time_algorithm_update': 0.0034096837043762207, 'loss': 0.3466129826009274, 'evaluation': 2.6} step=11000\n",
      "2022-07-29 19:05.23 [info     ] Model parameters are saved to d3rlpy_logs\\DQN_online_20220729190512\\model_12000.pt\n",
      "2022-07-29 19:05.23 [info     ] DQN_online_20220729190512: epoch=12 step=12000 epoch=12 metrics={'time_inference': 0.0005169801712036132, 'time_environment_step': 1.499462127685547e-05, 'time_step': 0.0009179859161376953, 'rollout_return': 1.2049180327868851, 'time_sample_batch': 9.999513626098633e-05, 'time_algorithm_update': 0.0034301018714904784, 'loss': 0.3231895486265421, 'evaluation': 1.6} step=12000\n",
      "2022-07-29 19:05.24 [info     ] Model parameters are saved to d3rlpy_logs\\DQN_online_20220729190512\\model_13000.pt\n",
      "2022-07-29 19:05.24 [info     ] DQN_online_20220729190512: epoch=13 step=13000 epoch=13 metrics={'time_inference': 0.0005452322959899902, 'time_environment_step': 1.5619754791259765e-05, 'time_step': 0.0009876470565795899, 'rollout_return': 1.7777777777777777, 'time_sample_batch': 6.037473678588867e-05, 'time_algorithm_update': 0.003759934902191162, 'loss': 0.27305126547813413, 'evaluation': 2.3} step=13000\n",
      "2022-07-29 19:05.25 [info     ] Model parameters are saved to d3rlpy_logs\\DQN_online_20220729190512\\model_14000.pt\n",
      "2022-07-29 19:05.25 [info     ] DQN_online_20220729190512: epoch=14 step=14000 epoch=14 metrics={'time_inference': 0.0004900133609771728, 'time_environment_step': 1.1986494064331054e-05, 'rollout_return': 1.9961538461538462, 'time_step': 0.0008749957084655762, 'time_sample_batch': 9.998798370361328e-05, 'time_algorithm_update': 0.0032199668884277345, 'loss': 0.26675999686121943, 'evaluation': 2.1} step=14000\n",
      "2022-07-29 19:05.26 [info     ] Model parameters are saved to d3rlpy_logs\\DQN_online_20220729190512\\model_15000.pt\n",
      "2022-07-29 19:05.26 [info     ] DQN_online_20220729190512: epoch=15 step=15000 epoch=15 metrics={'time_inference': 0.00045499944686889647, 'time_environment_step': 1.5002012252807618e-05, 'time_step': 0.0008290007114410401, 'rollout_return': 2.0749063670411987, 'time_sample_batch': 3.0007362365722656e-05, 'time_algorithm_update': 0.0031600117683410643, 'loss': 0.2651700267195702, 'evaluation': 3.2} step=15000\n",
      "2022-07-29 19:05.27 [info     ] Model parameters are saved to d3rlpy_logs\\DQN_online_20220729190512\\model_16000.pt\n",
      "2022-07-29 19:05.27 [info     ] DQN_online_20220729190512: epoch=16 step=16000 epoch=16 metrics={'time_inference': 0.0005290303230285645, 'time_environment_step': 1.2000083923339844e-05, 'rollout_return': 2.326771653543307, 'time_step': 0.0009600014686584473, 'time_sample_batch': 0.00010989904403686523, 'time_algorithm_update': 0.0036501407623291014, 'loss': 0.2619639101624489, 'evaluation': 3.6} step=16000\n"
     ]
    },
    {
     "name": "stdout",
     "output_type": "stream",
     "text": [
      "2022-07-29 19:05.28 [info     ] Model parameters are saved to d3rlpy_logs\\DQN_online_20220729190512\\model_17000.pt\n",
      "2022-07-29 19:05.28 [info     ] DQN_online_20220729190512: epoch=17 step=17000 epoch=17 metrics={'time_inference': 0.0005289621353149414, 'time_environment_step': 1.1527538299560547e-05, 'time_step': 0.0009734196662902833, 'rollout_return': 2.1544401544401546, 'time_sample_batch': 0.00016013860702514647, 'time_algorithm_update': 0.0037034010887145997, 'loss': 0.27945538103580475, 'evaluation': 2.9} step=17000\n",
      "2022-07-29 19:05.29 [info     ] Model parameters are saved to d3rlpy_logs\\DQN_online_20220729190512\\model_18000.pt\n",
      "2022-07-29 19:05.29 [info     ] DQN_online_20220729190512: epoch=18 step=18000 epoch=18 metrics={'time_inference': 0.00044799613952636717, 'time_environment_step': 8.99958610534668e-06, 'time_step': 0.0008170092105865478, 'rollout_return': 2.289473684210526, 'time_sample_batch': 8.001804351806641e-05, 'time_algorithm_update': 0.0031302809715270997, 'loss': 0.30945775732398034, 'evaluation': 2.2} step=18000\n",
      "2022-07-29 19:05.30 [info     ] Model parameters are saved to d3rlpy_logs\\DQN_online_20220729190512\\model_19000.pt\n",
      "2022-07-29 19:05.30 [info     ] DQN_online_20220729190512: epoch=19 step=19000 epoch=19 metrics={'time_inference': 0.0005040137767791748, 'time_environment_step': 1.2001752853393554e-05, 'time_step': 0.0009279994964599609, 'rollout_return': 2.188976377952756, 'time_sample_batch': 7.99870491027832e-05, 'time_algorithm_update': 0.003609967231750488, 'loss': 0.34704650029540063, 'evaluation': 3.1} step=19000\n",
      "2022-07-29 19:05.31 [info     ] Model parameters are saved to d3rlpy_logs\\DQN_online_20220729190512\\model_20000.pt\n",
      "2022-07-29 19:05.31 [info     ] DQN_online_20220729190512: epoch=20 step=20000 epoch=20 metrics={'time_inference': 0.0005900270938873291, 'time_environment_step': 1.199650764465332e-05, 'time_step': 0.001061033010482788, 'rollout_return': 1.9655172413793103, 'time_sample_batch': 0.0001600527763366699, 'time_algorithm_update': 0.003959991931915283, 'loss': 0.33348328672349453, 'evaluation': 3.0} step=20000\n",
      "2022-07-29 19:05.32 [info     ] Model parameters are saved to d3rlpy_logs\\DQN_online_20220729190512\\model_21000.pt\n",
      "2022-07-29 19:05.32 [info     ] DQN_online_20220729190512: epoch=21 step=21000 epoch=21 metrics={'time_inference': 0.0005125367641448975, 'time_environment_step': 9.009122848510742e-06, 'time_step': 0.0009195418357849122, 'rollout_return': 2.16044776119403, 'time_sample_batch': 4.999160766601563e-05, 'time_algorithm_update': 0.003459627628326416, 'loss': 0.30562753573060036, 'evaluation': 2.0} step=21000\n",
      "2022-07-29 19:05.33 [info     ] Model parameters are saved to d3rlpy_logs\\DQN_online_20220729190512\\model_22000.pt\n",
      "2022-07-29 19:05.33 [info     ] DQN_online_20220729190512: epoch=22 step=22000 epoch=22 metrics={'time_inference': 0.0004759678840637207, 'time_environment_step': 8.961915969848632e-06, 'time_step': 0.0008560190200805664, 'rollout_return': 1.7258064516129032, 'time_sample_batch': 0.00010933399200439453, 'time_algorithm_update': 0.003281235694885254, 'loss': 0.2994462262094021, 'evaluation': 1.7} step=22000\n",
      "2022-07-29 19:05.34 [info     ] Model parameters are saved to d3rlpy_logs\\DQN_online_20220729190512\\model_23000.pt\n",
      "2022-07-29 19:05.34 [info     ] DQN_online_20220729190512: epoch=23 step=23000 epoch=23 metrics={'time_inference': 0.0005819985866546631, 'time_environment_step': 1.800107955932617e-05, 'time_step': 0.0010670075416564942, 'rollout_return': 2.4803149606299213, 'time_sample_batch': 0.00015001535415649415, 'time_algorithm_update': 0.004030189514160156, 'loss': 0.27015997767448424, 'evaluation': 2.5} step=23000\n",
      "2022-07-29 19:05.35 [info     ] Model parameters are saved to d3rlpy_logs\\DQN_online_20220729190512\\model_24000.pt\n",
      "2022-07-29 19:05.35 [info     ] DQN_online_20220729190512: epoch=24 step=24000 epoch=24 metrics={'time_inference': 0.0005305814743041992, 'time_environment_step': 1.7605066299438475e-05, 'rollout_return': 2.4714828897338403, 'time_step': 0.0009929268360137939, 'time_sample_batch': 8.026599884033204e-05, 'time_algorithm_update': 0.003848268985748291, 'loss': 0.26459435671567916, 'evaluation': 3.0} step=24000\n",
      "2022-07-29 19:05.36 [info     ] Model parameters are saved to d3rlpy_logs\\DQN_online_20220729190512\\model_25000.pt\n",
      "2022-07-29 19:05.36 [info     ] DQN_online_20220729190512: epoch=25 step=25000 epoch=25 metrics={'time_inference': 0.0005270023345947265, 'time_environment_step': 8.997201919555665e-06, 'rollout_return': 2.5, 'time_step': 0.0009250037670135498, 'time_sample_batch': 9.000301361083984e-05, 'time_algorithm_update': 0.0035401248931884767, 'loss': 0.23115917347371578, 'evaluation': 3.8} step=25000\n",
      "2022-07-29 19:05.37 [info     ] Model parameters are saved to d3rlpy_logs\\DQN_online_20220729190512\\model_26000.pt\n",
      "2022-07-29 19:05.37 [info     ] DQN_online_20220729190512: epoch=26 step=26000 epoch=26 metrics={'time_inference': 0.0005999319553375244, 'time_environment_step': 2.2992849349975584e-05, 'rollout_return': 2.669230769230769, 'time_step': 0.0011049723625183106, 'time_sample_batch': 0.00019006490707397462, 'time_algorithm_update': 0.004170484542846679, 'loss': 0.20454008042812347, 'evaluation': 2.6} step=26000\n",
      "2022-07-29 19:05.38 [info     ] Model parameters are saved to d3rlpy_logs\\DQN_online_20220729190512\\model_27000.pt\n",
      "2022-07-29 19:05.38 [info     ] DQN_online_20220729190512: epoch=27 step=27000 epoch=27 metrics={'time_inference': 0.000507420301437378, 'time_environment_step': 1.6526460647583006e-05, 'time_step': 0.000964404821395874, 'rollout_return': 2.623076923076923, 'time_sample_batch': 0.00010060548782348633, 'time_algorithm_update': 0.003808333873748779, 'loss': 0.21756049379706383, 'evaluation': 2.4} step=27000\n",
      "2022-07-29 19:05.39 [info     ] Model parameters are saved to d3rlpy_logs\\DQN_online_20220729190512\\model_28000.pt\n",
      "2022-07-29 19:05.39 [info     ] DQN_online_20220729190512: epoch=28 step=28000 epoch=28 metrics={'time_inference': 0.00047495007514953614, 'time_environment_step': 1.5003919601440429e-05, 'time_step': 0.0008520045280456543, 'rollout_return': 2.6292134831460676, 'time_sample_batch': 8.001089096069335e-05, 'time_algorithm_update': 0.003250317573547363, 'loss': 0.2513680078089237, 'evaluation': 3.0} step=28000\n",
      "2022-07-29 19:05.40 [info     ] Model parameters are saved to d3rlpy_logs\\DQN_online_20220729190512\\model_29000.pt\n",
      "2022-07-29 19:05.40 [info     ] DQN_online_20220729190512: epoch=29 step=29000 epoch=29 metrics={'time_inference': 0.0004410107135772705, 'time_environment_step': 1.99892520904541e-05, 'rollout_return': 2.373015873015873, 'time_step': 0.0008710010051727295, 'time_sample_batch': 0.00013994455337524415, 'time_algorithm_update': 0.0034100508689880373, 'loss': 0.2689058604836464, 'evaluation': 3.6} step=29000\n",
      "2022-07-29 19:05.41 [info     ] Model parameters are saved to d3rlpy_logs\\DQN_online_20220729190512\\model_30000.pt\n",
      "2022-07-29 19:05.41 [info     ] DQN_online_20220729190512: epoch=30 step=30000 epoch=30 metrics={'time_inference': 0.0005550315380096436, 'time_environment_step': 1.3001918792724609e-05, 'time_step': 0.0010280001163482666, 'rollout_return': 2.5202952029520294, 'time_sample_batch': 0.00017003774642944337, 'time_algorithm_update': 0.003889620304107666, 'loss': 0.22651210598647595, 'evaluation': 3.1} step=30000\n",
      "2022-07-29 19:05.42 [info     ] Model parameters are saved to d3rlpy_logs\\DQN_online_20220729190512\\model_31000.pt\n",
      "2022-07-29 19:05.42 [info     ] DQN_online_20220729190512: epoch=31 step=31000 epoch=31 metrics={'time_inference': 0.0005116124153137207, 'time_environment_step': 8.528709411621093e-06, 'time_step': 0.0009107205867767334, 'rollout_return': 2.758364312267658, 'time_sample_batch': 6.490707397460938e-05, 'time_algorithm_update': 0.003474433422088623, 'loss': 0.19969614081084727, 'evaluation': 2.0} step=31000\n",
      "2022-07-29 19:05.43 [info     ] Model parameters are saved to d3rlpy_logs\\DQN_online_20220729190512\\model_32000.pt\n",
      "2022-07-29 19:05.43 [info     ] DQN_online_20220729190512: epoch=32 step=32000 epoch=32 metrics={'time_inference': 0.0004700000286102295, 'time_environment_step': 1.1999845504760743e-05, 'time_step': 0.0008690283298492432, 'rollout_return': 2.6988847583643123, 'time_sample_batch': 0.00011000394821166992, 'time_algorithm_update': 0.0033800101280212404, 'loss': 0.20315889306366444, 'evaluation': 2.9} step=32000\n"
     ]
    },
    {
     "name": "stdout",
     "output_type": "stream",
     "text": [
      "2022-07-29 19:05.44 [info     ] Model parameters are saved to d3rlpy_logs\\DQN_online_20220729190512\\model_33000.pt\n",
      "2022-07-29 19:05.44 [info     ] DQN_online_20220729190512: epoch=33 step=33000 epoch=33 metrics={'time_inference': 0.0005580070018768311, 'time_environment_step': 1.2996196746826171e-05, 'time_step': 0.001020998239517212, 'rollout_return': 2.7868217054263567, 'time_sample_batch': 0.00011000633239746093, 'time_algorithm_update': 0.003959884643554687, 'loss': 0.2284731788188219, 'evaluation': 3.4} step=33000\n",
      "2022-07-29 19:05.45 [info     ] Model parameters are saved to d3rlpy_logs\\DQN_online_20220729190512\\model_34000.pt\n",
      "2022-07-29 19:05.45 [info     ] DQN_online_20220729190512: epoch=34 step=34000 epoch=34 metrics={'time_inference': 0.0005558459758758545, 'time_environment_step': 2.2997379302978515e-05, 'rollout_return': 2.661596958174905, 'time_step': 0.0010211074352264404, 'time_sample_batch': 8.521556854248047e-05, 'time_algorithm_update': 0.0038907313346862793, 'loss': 0.22829890102148057, 'evaluation': 3.1} step=34000\n",
      "2022-07-29 19:05.46 [info     ] Model parameters are saved to d3rlpy_logs\\DQN_online_20220729190512\\model_35000.pt\n",
      "2022-07-29 19:05.46 [info     ] DQN_online_20220729190512: epoch=35 step=35000 epoch=35 metrics={'time_inference': 0.0005079519748687744, 'time_environment_step': 1.7001628875732422e-05, 'time_step': 0.0009209957122802735, 'rollout_return': 2.7720588235294117, 'time_sample_batch': 0.00014000415802001954, 'time_algorithm_update': 0.0034804391860961915, 'loss': 0.19756215512752534, 'evaluation': 3.2} step=35000\n",
      "2022-07-29 19:05.47 [info     ] Model parameters are saved to d3rlpy_logs\\DQN_online_20220729190512\\model_36000.pt\n",
      "2022-07-29 19:05.47 [info     ] DQN_online_20220729190512: epoch=36 step=36000 epoch=36 metrics={'time_inference': 0.00048299384117126467, 'time_environment_step': 1.9004344940185545e-05, 'time_step': 0.0008990025520324707, 'rollout_return': 2.9571984435797667, 'time_sample_batch': 0.00011004209518432617, 'time_algorithm_update': 0.00349031925201416, 'loss': 0.20934706717729568, 'evaluation': 3.6} step=36000\n",
      "2022-07-29 19:05.48 [info     ] Model parameters are saved to d3rlpy_logs\\DQN_online_20220729190512\\model_37000.pt\n",
      "2022-07-29 19:05.48 [info     ] DQN_online_20220729190512: epoch=37 step=37000 epoch=37 metrics={'time_inference': 0.000488999605178833, 'time_environment_step': 1.1997699737548829e-05, 'rollout_return': 2.8897338403041823, 'time_step': 0.0008890044689178467, 'time_sample_batch': 7.001399993896485e-05, 'time_algorithm_update': 0.003439948558807373, 'loss': 0.18319917969405652, 'evaluation': 3.4} step=37000\n",
      "2022-07-29 19:05.49 [info     ] Model parameters are saved to d3rlpy_logs\\DQN_online_20220729190512\\model_38000.pt\n",
      "2022-07-29 19:05.49 [info     ] DQN_online_20220729190512: epoch=38 step=38000 epoch=38 metrics={'time_inference': 0.0005225613117218017, 'time_environment_step': 1.6616344451904297e-05, 'time_step': 0.0009740135669708252, 'rollout_return': 2.8801498127340825, 'time_sample_batch': 0.00011094570159912109, 'time_algorithm_update': 0.0037445664405822755, 'loss': 0.2276518765091896, 'evaluation': 3.7} step=38000\n",
      "2022-07-29 19:05.50 [info     ] Model parameters are saved to d3rlpy_logs\\DQN_online_20220729190512\\model_39000.pt\n",
      "2022-07-29 19:05.50 [info     ] DQN_online_20220729190512: epoch=39 step=39000 epoch=39 metrics={'time_inference': 0.0004540102481842041, 'time_environment_step': 1.3999223709106445e-05, 'time_step': 0.0008440005779266357, 'rollout_return': 2.6801470588235294, 'time_sample_batch': 0.00010004520416259766, 'time_algorithm_update': 0.0032900118827819823, 'loss': 0.19784591637551785, 'evaluation': 3.3} step=39000\n",
      "2022-07-29 19:05.51 [info     ] Model parameters are saved to d3rlpy_logs\\DQN_online_20220729190512\\model_40000.pt\n",
      "2022-07-29 19:05.51 [info     ] DQN_online_20220729190512: epoch=40 step=40000 epoch=40 metrics={'time_inference': 0.0005580689907073974, 'time_environment_step': 1.3000249862670899e-05, 'time_step': 0.001022003173828125, 'rollout_return': 2.8192307692307694, 'time_sample_batch': 8.989572525024414e-05, 'time_algorithm_update': 0.003970048427581787, 'loss': 0.19493252232670785, 'evaluation': 2.7} step=40000\n",
      "2022-07-29 19:05.52 [info     ] Model parameters are saved to d3rlpy_logs\\DQN_online_20220729190512\\model_41000.pt\n",
      "2022-07-29 19:05.52 [info     ] DQN_online_20220729190512: epoch=41 step=41000 epoch=41 metrics={'time_inference': 0.0005761651992797852, 'time_environment_step': 2.3119926452636717e-05, 'time_step': 0.0010709154605865478, 'rollout_return': 2.7374517374517375, 'time_sample_batch': 8.50987434387207e-05, 'time_algorithm_update': 0.004103164672851562, 'loss': 0.21096596971154213, 'evaluation': 3.1} step=41000\n",
      "2022-07-29 19:05.53 [info     ] Model parameters are saved to d3rlpy_logs\\DQN_online_20220729190512\\model_42000.pt\n",
      "2022-07-29 19:05.53 [info     ] DQN_online_20220729190512: epoch=42 step=42000 epoch=42 metrics={'time_inference': 0.0004819793701171875, 'time_environment_step': 1.9000768661499022e-05, 'time_step': 0.000905991792678833, 'rollout_return': 2.950570342205323, 'time_sample_batch': 0.00016013145446777343, 'time_algorithm_update': 0.0034799861907958986, 'loss': 0.20525386542081833, 'evaluation': 2.6} step=42000\n",
      "2022-07-29 19:05.54 [info     ] Model parameters are saved to d3rlpy_logs\\DQN_online_20220729190512\\model_43000.pt\n",
      "2022-07-29 19:05.54 [info     ] DQN_online_20220729190512: epoch=43 step=43000 epoch=43 metrics={'time_inference': 0.0004309883117675781, 'time_environment_step': 2.000117301940918e-05, 'time_step': 0.0008629927635192871, 'rollout_return': 2.811808118081181, 'time_sample_batch': 0.00015967607498168946, 'time_algorithm_update': 0.0034203171730041505, 'loss': 0.1905031518638134, 'evaluation': 3.6} step=43000\n",
      "2022-07-29 19:05.55 [info     ] Model parameters are saved to d3rlpy_logs\\DQN_online_20220729190512\\model_44000.pt\n",
      "2022-07-29 19:05.55 [info     ] DQN_online_20220729190512: epoch=44 step=44000 epoch=44 metrics={'time_inference': 0.0005450375080108642, 'time_environment_step': 1.8032073974609376e-05, 'time_step': 0.0010222387313842773, 'rollout_return': 2.9080459770114944, 'time_sample_batch': 8.979320526123047e-05, 'time_algorithm_update': 0.003961372375488281, 'loss': 0.17860502630472183, 'evaluation': 3.7} step=44000\n",
      "2022-07-29 19:05.56 [info     ] Model parameters are saved to d3rlpy_logs\\DQN_online_20220729190512\\model_45000.pt\n",
      "2022-07-29 19:05.56 [info     ] DQN_online_20220729190512: epoch=45 step=45000 epoch=45 metrics={'time_inference': 0.000554579496383667, 'time_environment_step': 1.8519639968872072e-05, 'time_step': 0.0010593760013580323, 'rollout_return': 2.8805970149253732, 'time_sample_batch': 0.0002010345458984375, 'time_algorithm_update': 0.004136481285095215, 'loss': 0.19975630804896355, 'evaluation': 3.8} step=45000\n",
      "2022-07-29 19:05.57 [info     ] Model parameters are saved to d3rlpy_logs\\DQN_online_20220729190512\\model_46000.pt\n",
      "2022-07-29 19:05.57 [info     ] DQN_online_20220729190512: epoch=46 step=46000 epoch=46 metrics={'time_inference': 0.00047899961471557616, 'time_environment_step': 1.3002872467041015e-05, 'rollout_return': 2.9277566539923954, 'time_step': 0.0008850021362304687, 'time_sample_batch': 9.99903678894043e-05, 'time_algorithm_update': 0.003459961414337158, 'loss': 0.18014698572456836, 'evaluation': 3.7} step=46000\n",
      "2022-07-29 19:05.58 [info     ] Model parameters are saved to d3rlpy_logs\\DQN_online_20220729190512\\model_47000.pt\n",
      "2022-07-29 19:05.58 [info     ] DQN_online_20220729190512: epoch=47 step=47000 epoch=47 metrics={'time_inference': 0.0005250129699707031, 'time_environment_step': 1.9000768661499022e-05, 'rollout_return': 2.8178438661710037, 'time_step': 0.000967993974685669, 'time_sample_batch': 0.00012000083923339844, 'time_algorithm_update': 0.0037799572944641115, 'loss': 0.18482100415974856, 'evaluation': 3.5} step=47000\n",
      "2022-07-29 19:05.59 [info     ] Model parameters are saved to d3rlpy_logs\\DQN_online_20220729190512\\model_48000.pt\n",
      "2022-07-29 19:05.59 [info     ] DQN_online_20220729190512: epoch=48 step=48000 epoch=48 metrics={'time_inference': 0.0005294010639190674, 'time_environment_step': 2.2520780563354493e-05, 'rollout_return': 2.7675276752767526, 'time_step': 0.0010330917835235595, 'time_sample_batch': 0.00018524408340454102, 'time_algorithm_update': 0.004031038284301758, 'loss': 0.189022521302104, 'evaluation': 3.2} step=48000\n"
     ]
    },
    {
     "name": "stdout",
     "output_type": "stream",
     "text": [
      "2022-07-29 19:06.00 [info     ] Model parameters are saved to d3rlpy_logs\\DQN_online_20220729190512\\model_49000.pt\n",
      "2022-07-29 19:06.00 [info     ] DQN_online_20220729190512: epoch=49 step=49000 epoch=49 metrics={'time_inference': 0.0005920681953430175, 'time_environment_step': 1.8992900848388673e-05, 'time_step': 0.0011050002574920655, 'rollout_return': 2.936802973977695, 'time_sample_batch': 7.000207901000977e-05, 'time_algorithm_update': 0.004299731254577637, 'loss': 0.15778151974081994, 'evaluation': 3.3} step=49000\n",
      "2022-07-29 19:06.02 [info     ] Model parameters are saved to d3rlpy_logs\\DQN_online_20220729190512\\model_50000.pt\n",
      "2022-07-29 19:06.02 [info     ] DQN_online_20220729190512: epoch=50 step=50000 epoch=50 metrics={'time_inference': 0.0006319773197174072, 'time_environment_step': 1.299905776977539e-05, 'time_step': 0.001140967845916748, 'rollout_return': 2.7517985611510793, 'time_sample_batch': 0.00010004520416259766, 'time_algorithm_update': 0.004339709281921387, 'loss': 0.16641327507793904, 'evaluation': 3.2} step=50000\n",
      "2022-07-29 19:06.03 [info     ] Model parameters are saved to d3rlpy_logs\\DQN_online_20220729190512\\model_51000.pt\n",
      "2022-07-29 19:06.03 [info     ] DQN_online_20220729190512: epoch=51 step=51000 epoch=51 metrics={'time_inference': 0.0005857124328613281, 'time_environment_step': 1.7997026443481445e-05, 'time_step': 0.0010927700996398925, 'rollout_return': 2.87360594795539, 'time_sample_batch': 0.00012533664703369142, 'time_algorithm_update': 0.004265608787536621, 'loss': 0.15541610155254604, 'evaluation': 3.8} step=51000\n",
      "2022-07-29 19:06.04 [info     ] Model parameters are saved to d3rlpy_logs\\DQN_online_20220729190512\\model_52000.pt\n",
      "2022-07-29 19:06.04 [info     ] DQN_online_20220729190512: epoch=52 step=52000 epoch=52 metrics={'time_inference': 0.0005259795188903808, 'time_environment_step': 2.5003433227539062e-05, 'time_step': 0.0010079951286315917, 'rollout_return': 2.946564885496183, 'time_sample_batch': 0.00013994216918945313, 'time_algorithm_update': 0.00393012523651123, 'loss': 0.17200461342930795, 'evaluation': 3.0} step=52000\n",
      "2022-07-29 19:06.06 [info     ] Model parameters are saved to d3rlpy_logs\\DQN_online_20220729190512\\model_53000.pt\n",
      "2022-07-29 19:06.06 [info     ] DQN_online_20220729190512: epoch=53 step=53000 epoch=53 metrics={'time_inference': 0.0008909721374511718, 'time_environment_step': 4.197216033935547e-05, 'time_step': 0.0016691470146179199, 'rollout_return': 2.900735294117647, 'time_sample_batch': 0.00016936540603637695, 'time_algorithm_update': 0.0064496445655822755, 'loss': 0.17018645260483026, 'evaluation': 2.4} step=53000\n",
      "2022-07-29 19:06.08 [info     ] Model parameters are saved to d3rlpy_logs\\DQN_online_20220729190512\\model_54000.pt\n",
      "2022-07-29 19:06.08 [info     ] DQN_online_20220729190512: epoch=54 step=54000 epoch=54 metrics={'time_inference': 0.0013812291622161865, 'time_environment_step': 4.177117347717285e-05, 'rollout_return': 2.9516728624535316, 'time_step': 0.0024927051067352296, 'time_sample_batch': 0.00023364782333374024, 'time_algorithm_update': 0.009281926155090332, 'loss': 0.15289723210036754, 'evaluation': 3.2} step=54000\n",
      "2022-07-29 19:06.10 [info     ] Model parameters are saved to d3rlpy_logs\\DQN_online_20220729190512\\model_55000.pt\n",
      "2022-07-29 19:06.10 [info     ] DQN_online_20220729190512: epoch=55 step=55000 epoch=55 metrics={'time_inference': 0.001032329797744751, 'time_environment_step': 3.2713651657104495e-05, 'time_step': 0.0018807668685913085, 'rollout_return': 2.9660377358490564, 'time_sample_batch': 0.00013262033462524414, 'time_algorithm_update': 0.007173728942871094, 'loss': 0.16566095486283303, 'evaluation': 3.4} step=55000\n",
      "2022-07-29 19:06.13 [info     ] Model parameters are saved to d3rlpy_logs\\DQN_online_20220729190512\\model_56000.pt\n",
      "2022-07-29 19:06.13 [info     ] DQN_online_20220729190512: epoch=56 step=56000 epoch=56 metrics={'time_inference': 0.0014419374465942383, 'time_environment_step': 4.0890693664550784e-05, 'time_step': 0.002654314994812012, 'rollout_return': 3.003717472118959, 'time_sample_batch': 0.0003326725959777832, 'time_algorithm_update': 0.01004455327987671, 'loss': 0.15830783933401107, 'evaluation': 3.3} step=56000\n",
      "2022-07-29 19:06.15 [info     ] Model parameters are saved to d3rlpy_logs\\DQN_online_20220729190512\\model_57000.pt\n",
      "2022-07-29 19:06.15 [info     ] DQN_online_20220729190512: epoch=57 step=57000 epoch=57 metrics={'time_inference': 0.001268878698348999, 'time_environment_step': 3.401470184326172e-05, 'time_step': 0.0022927207946777345, 'rollout_return': 2.9407407407407407, 'time_sample_batch': 0.00022989511489868164, 'time_algorithm_update': 0.008738887310028077, 'loss': 0.15392854426056146, 'evaluation': 2.8} step=57000\n",
      "2022-07-29 19:06.18 [info     ] Model parameters are saved to d3rlpy_logs\\DQN_online_20220729190512\\model_58000.pt\n",
      "2022-07-29 19:06.18 [info     ] DQN_online_20220729190512: epoch=58 step=58000 epoch=58 metrics={'time_inference': 0.0011342229843139648, 'time_environment_step': 2.472043037414551e-05, 'time_step': 0.0020689830780029296, 'rollout_return': 2.8058608058608057, 'time_sample_batch': 0.00023262262344360353, 'time_algorithm_update': 0.007647562026977539, 'loss': 0.1493174458667636, 'evaluation': 3.3} step=58000\n",
      "2022-07-29 19:06.21 [info     ] Model parameters are saved to d3rlpy_logs\\DQN_online_20220729190512\\model_59000.pt\n",
      "2022-07-29 19:06.21 [info     ] DQN_online_20220729190512: epoch=59 step=59000 epoch=59 metrics={'time_inference': 0.0014863486289978028, 'time_environment_step': 4.4918060302734376e-05, 'time_step': 0.002717721939086914, 'rollout_return': 3.12109375, 'time_sample_batch': 0.00024055719375610352, 'time_algorithm_update': 0.01032006025314331, 'loss': 0.15974569700658323, 'evaluation': 4.0} step=59000\n",
      "2022-07-29 19:06.23 [info     ] Model parameters are saved to d3rlpy_logs\\DQN_online_20220729190512\\model_60000.pt\n",
      "2022-07-29 19:06.23 [info     ] DQN_online_20220729190512: epoch=60 step=60000 epoch=60 metrics={'time_inference': 0.0010960414409637452, 'time_environment_step': 2.6038408279418944e-05, 'time_step': 0.0020039222240447996, 'rollout_return': 2.8154981549815496, 'time_sample_batch': 0.0002753162384033203, 'time_algorithm_update': 0.007706451416015625, 'loss': 0.15192320197820663, 'evaluation': 3.1} step=60000\n",
      "2022-07-29 19:06.25 [info     ] Model parameters are saved to d3rlpy_logs\\DQN_online_20220729190512\\model_61000.pt\n",
      "2022-07-29 19:06.25 [info     ] DQN_online_20220729190512: epoch=61 step=61000 epoch=61 metrics={'time_inference': 0.0013859107494354247, 'time_environment_step': 4.617190361022949e-05, 'time_step': 0.0025124313831329345, 'rollout_return': 2.879245283018868, 'time_sample_batch': 0.000240170955657959, 'time_algorithm_update': 0.009454727172851562, 'loss': 0.14547913528978826, 'evaluation': 3.3} step=61000\n",
      "2022-07-29 19:06.28 [info     ] Model parameters are saved to d3rlpy_logs\\DQN_online_20220729190512\\model_62000.pt\n",
      "2022-07-29 19:06.28 [info     ] DQN_online_20220729190512: epoch=62 step=62000 epoch=62 metrics={'time_inference': 0.001298316240310669, 'time_environment_step': 4.346489906311035e-05, 'rollout_return': 2.996282527881041, 'time_step': 0.002397974252700806, 'time_sample_batch': 0.000220491886138916, 'time_algorithm_update': 0.009233205318450928, 'loss': 0.14371135946363212, 'evaluation': 3.6} step=62000\n",
      "2022-07-29 19:06.30 [info     ] Model parameters are saved to d3rlpy_logs\\DQN_online_20220729190512\\model_63000.pt\n",
      "2022-07-29 19:06.30 [info     ] DQN_online_20220729190512: epoch=63 step=63000 epoch=63 metrics={'time_inference': 0.0010691525936126708, 'time_environment_step': 3.957271575927734e-05, 'time_step': 0.0019922003746032715, 'rollout_return': 2.933085501858736, 'time_sample_batch': 0.00020033597946166992, 'time_algorithm_update': 0.00754016399383545, 'loss': 0.13143375236541033, 'evaluation': 4.0} step=63000\n",
      "2022-07-29 19:06.33 [info     ] Model parameters are saved to d3rlpy_logs\\DQN_online_20220729190512\\model_64000.pt\n",
      "2022-07-29 19:06.33 [info     ] DQN_online_20220729190512: epoch=64 step=64000 epoch=64 metrics={'time_inference': 0.0015551764965057373, 'time_environment_step': 4.566597938537598e-05, 'rollout_return': 3.0849420849420848, 'time_step': 0.0028173058032989503, 'time_sample_batch': 0.00033024787902832033, 'time_algorithm_update': 0.010582668781280518, 'loss': 0.13943694829940795, 'evaluation': 3.6} step=64000\n"
     ]
    },
    {
     "name": "stdout",
     "output_type": "stream",
     "text": [
      "2022-07-29 19:06.35 [info     ] Model parameters are saved to d3rlpy_logs\\DQN_online_20220729190512\\model_65000.pt\n",
      "2022-07-29 19:06.35 [info     ] DQN_online_20220729190512: epoch=65 step=65000 epoch=65 metrics={'time_inference': 0.0010744876861572266, 'time_environment_step': 2.063560485839844e-05, 'rollout_return': 2.923636363636364, 'time_step': 0.001987217664718628, 'time_sample_batch': 0.0002056121826171875, 'time_algorithm_update': 0.007682294845581055, 'loss': 0.13588536409661173, 'evaluation': 3.6} step=65000\n",
      "2022-07-29 19:06.37 [info     ] Model parameters are saved to d3rlpy_logs\\DQN_online_20220729190512\\model_66000.pt\n",
      "2022-07-29 19:06.37 [info     ] DQN_online_20220729190512: epoch=66 step=66000 epoch=66 metrics={'time_inference': 0.0012471253871917725, 'time_environment_step': 3.488659858703613e-05, 'time_step': 0.002303144931793213, 'rollout_return': 2.88212927756654, 'time_sample_batch': 0.00027138471603393554, 'time_algorithm_update': 0.008803274631500244, 'loss': 0.12151936009526253, 'evaluation': 3.8} step=66000\n",
      "2022-07-29 19:06.40 [info     ] Model parameters are saved to d3rlpy_logs\\DQN_online_20220729190512\\model_67000.pt\n",
      "2022-07-29 19:06.40 [info     ] DQN_online_20220729190512: epoch=67 step=67000 epoch=67 metrics={'time_inference': 0.0013618474006652833, 'time_environment_step': 4.2609214782714846e-05, 'time_step': 0.0025436177253723145, 'rollout_return': 3.0113207547169814, 'time_sample_batch': 0.0002653336524963379, 'time_algorithm_update': 0.009748389720916748, 'loss': 0.12628650782629847, 'evaluation': 3.6} step=67000\n",
      "2022-07-29 19:06.42 [info     ] Model parameters are saved to d3rlpy_logs\\DQN_online_20220729190512\\model_68000.pt\n",
      "2022-07-29 19:06.42 [info     ] DQN_online_20220729190512: epoch=68 step=68000 epoch=68 metrics={'time_inference': 0.0009423182010650635, 'time_environment_step': 3.329300880432129e-05, 'rollout_return': 2.9553903345724906, 'time_step': 0.0017386486530303956, 'time_sample_batch': 0.00017400741577148438, 'time_algorithm_update': 0.006688909530639648, 'loss': 0.1193127328529954, 'evaluation': 3.4} step=68000\n",
      "2022-07-29 19:06.45 [info     ] Model parameters are saved to d3rlpy_logs\\DQN_online_20220729190512\\model_69000.pt\n",
      "2022-07-29 19:06.45 [info     ] DQN_online_20220729190512: epoch=69 step=69000 epoch=69 metrics={'time_inference': 0.001405658483505249, 'time_environment_step': 4.592800140380859e-05, 'rollout_return': 2.988593155893536, 'time_step': 0.0025762176513671876, 'time_sample_batch': 0.00024313926696777343, 'time_algorithm_update': 0.009766418933868409, 'loss': 0.12137174919247627, 'evaluation': 3.6} step=69000\n",
      "2022-07-29 19:06.47 [info     ] Model parameters are saved to d3rlpy_logs\\DQN_online_20220729190512\\model_70000.pt\n",
      "2022-07-29 19:06.47 [info     ] DQN_online_20220729190512: epoch=70 step=70000 epoch=70 metrics={'time_inference': 0.001143723726272583, 'time_environment_step': 3.412961959838867e-05, 'time_step': 0.002106851577758789, 'rollout_return': 3.041198501872659, 'time_sample_batch': 0.0002771139144897461, 'time_algorithm_update': 0.008028934001922608, 'loss': 0.12645479202270507, 'evaluation': 3.6} step=70000\n",
      "2022-07-29 19:06.49 [info     ] Model parameters are saved to d3rlpy_logs\\DQN_online_20220729190512\\model_71000.pt\n",
      "2022-07-29 19:06.49 [info     ] DQN_online_20220729190512: epoch=71 step=71000 epoch=71 metrics={'time_inference': 0.0012114739418029785, 'time_environment_step': 3.728985786437988e-05, 'time_step': 0.0022051074504852294, 'rollout_return': 2.933085501858736, 'time_sample_batch': 0.00018510818481445312, 'time_algorithm_update': 0.00844027042388916, 'loss': 0.11747255718335509, 'evaluation': 3.6} step=71000\n",
      "2022-07-29 19:06.52 [info     ] Model parameters are saved to d3rlpy_logs\\DQN_online_20220729190512\\model_72000.pt\n",
      "2022-07-29 19:06.52 [info     ] DQN_online_20220729190512: epoch=72 step=72000 epoch=72 metrics={'time_inference': 0.0014895977973937988, 'time_environment_step': 4.220438003540039e-05, 'time_step': 0.0027189242839813234, 'rollout_return': 2.9924528301886792, 'time_sample_batch': 0.00026039361953735353, 'time_algorithm_update': 0.01034770965576172, 'loss': 0.1257286114618182, 'evaluation': 3.7} step=72000\n",
      "2022-07-29 19:06.54 [info     ] Model parameters are saved to d3rlpy_logs\\DQN_online_20220729190512\\model_73000.pt\n",
      "2022-07-29 19:06.54 [info     ] DQN_online_20220729190512: epoch=73 step=73000 epoch=73 metrics={'time_inference': 0.0011279423236846924, 'time_environment_step': 3.1186342239379884e-05, 'time_step': 0.0020545952320098876, 'rollout_return': 2.9775280898876404, 'time_sample_batch': 0.00018220901489257813, 'time_algorithm_update': 0.007840304374694825, 'loss': 0.12384474880993367, 'evaluation': 3.5} step=73000\n",
      "2022-07-29 19:06.57 [info     ] Model parameters are saved to d3rlpy_logs\\DQN_online_20220729190512\\model_74000.pt\n",
      "2022-07-29 19:06.57 [info     ] DQN_online_20220729190512: epoch=74 step=74000 epoch=74 metrics={'time_inference': 0.0013735225200653075, 'time_environment_step': 5.404233932495117e-05, 'rollout_return': 2.933579335793358, 'time_step': 0.0025441317558288572, 'time_sample_batch': 0.0003235101699829102, 'time_algorithm_update': 0.009652888774871827, 'loss': 0.11235844317823648, 'evaluation': 3.8} step=74000\n",
      "2022-07-29 19:07.00 [info     ] Model parameters are saved to d3rlpy_logs\\DQN_online_20220729190512\\model_75000.pt\n",
      "2022-07-29 19:07.00 [info     ] DQN_online_20220729190512: epoch=75 step=75000 epoch=75 metrics={'time_inference': 0.001305039644241333, 'time_environment_step': 4.2026758193969726e-05, 'time_step': 0.002422044038772583, 'rollout_return': 2.899628252788104, 'time_sample_batch': 0.00020613431930541993, 'time_algorithm_update': 0.009322757720947266, 'loss': 0.12675595872104167, 'evaluation': 3.4} step=75000\n",
      "2022-07-29 19:07.02 [info     ] Model parameters are saved to d3rlpy_logs\\DQN_online_20220729190512\\model_76000.pt\n",
      "2022-07-29 19:07.02 [info     ] DQN_online_20220729190512: epoch=76 step=76000 epoch=76 metrics={'time_inference': 0.0009684412479400635, 'time_environment_step': 2.5442123413085938e-05, 'rollout_return': 2.869888475836431, 'time_step': 0.0017912840843200683, 'time_sample_batch': 0.0001989150047302246, 'time_algorithm_update': 0.006923174858093262, 'loss': 0.1378181340917945, 'evaluation': 4.0} step=76000\n",
      "2022-07-29 19:07.04 [info     ] Model parameters are saved to d3rlpy_logs\\DQN_online_20220729190512\\model_77000.pt\n",
      "2022-07-29 19:07.04 [info     ] DQN_online_20220729190512: epoch=77 step=77000 epoch=77 metrics={'time_inference': 0.0011813302040100098, 'time_environment_step': 3.881072998046875e-05, 'rollout_return': 2.943609022556391, 'time_step': 0.002182879686355591, 'time_sample_batch': 0.00028396129608154296, 'time_algorithm_update': 0.008356046676635743, 'loss': 0.1149886952713132, 'evaluation': 3.6} step=77000\n",
      "2022-07-29 19:07.06 [info     ] Model parameters are saved to d3rlpy_logs\\DQN_online_20220729190512\\model_78000.pt\n",
      "2022-07-29 19:07.06 [info     ] DQN_online_20220729190512: epoch=78 step=78000 epoch=78 metrics={'time_inference': 0.0010112600326538086, 'time_environment_step': 3.928971290588379e-05, 'rollout_return': 2.952205882352941, 'time_step': 0.0018889279365539551, 'time_sample_batch': 0.000176389217376709, 'time_algorithm_update': 0.007317271232604981, 'loss': 0.13028428822755814, 'evaluation': 3.2} step=78000\n",
      "2022-07-29 19:07.09 [info     ] Model parameters are saved to d3rlpy_logs\\DQN_online_20220729190512\\model_79000.pt\n",
      "2022-07-29 19:07.09 [info     ] DQN_online_20220729190512: epoch=79 step=79000 epoch=79 metrics={'time_inference': 0.00148769211769104, 'time_environment_step': 4.1817188262939454e-05, 'time_step': 0.002736029863357544, 'rollout_return': 2.9625468164794007, 'time_sample_batch': 0.0002990269660949707, 'time_algorithm_update': 0.010451080799102784, 'loss': 0.11802527135238051, 'evaluation': 3.4} step=79000\n",
      "2022-07-29 19:07.11 [info     ] Model parameters are saved to d3rlpy_logs\\DQN_online_20220729190512\\model_80000.pt\n",
      "2022-07-29 19:07.11 [info     ] DQN_online_20220729190512: epoch=80 step=80000 epoch=80 metrics={'time_inference': 0.0011200072765350341, 'time_environment_step': 3.3232688903808595e-05, 'rollout_return': 2.977859778597786, 'time_step': 0.0020743293762207032, 'time_sample_batch': 0.0002300715446472168, 'time_algorithm_update': 0.007978458404541016, 'loss': 0.10952622573822737, 'evaluation': 3.7} step=80000\n"
     ]
    },
    {
     "name": "stdout",
     "output_type": "stream",
     "text": [
      "2022-07-29 19:07.13 [info     ] Model parameters are saved to d3rlpy_logs\\DQN_online_20220729190512\\model_81000.pt\n",
      "2022-07-29 19:07.13 [info     ] DQN_online_20220729190512: epoch=81 step=81000 epoch=81 metrics={'time_inference': 0.0012333672046661377, 'time_environment_step': 3.1943082809448245e-05, 'rollout_return': 3.0858208955223883, 'time_step': 0.0022273242473602297, 'time_sample_batch': 0.0002346062660217285, 'time_algorithm_update': 0.008483984470367432, 'loss': 0.11449691937305033, 'evaluation': 3.6} step=81000\n",
      "2022-07-29 19:07.16 [info     ] Model parameters are saved to d3rlpy_logs\\DQN_online_20220729190512\\model_82000.pt\n",
      "2022-07-29 19:07.16 [info     ] DQN_online_20220729190512: epoch=82 step=82000 epoch=82 metrics={'time_inference': 0.0013758890628814697, 'time_environment_step': 3.577995300292969e-05, 'time_step': 0.002539657115936279, 'rollout_return': 2.92619926199262, 'time_sample_batch': 0.00027652740478515623, 'time_algorithm_update': 0.009724953174591065, 'loss': 0.1201138555817306, 'evaluation': 3.6} step=82000\n",
      "2022-07-29 19:07.18 [info     ] Model parameters are saved to d3rlpy_logs\\DQN_online_20220729190512\\model_83000.pt\n",
      "2022-07-29 19:07.18 [info     ] DQN_online_20220729190512: epoch=83 step=83000 epoch=83 metrics={'time_inference': 0.0010212535858154298, 'time_environment_step': 2.4798154830932616e-05, 'time_step': 0.0018702619075775147, 'rollout_return': 2.8296296296296295, 'time_sample_batch': 0.00020245790481567382, 'time_algorithm_update': 0.007164428234100342, 'loss': 0.10806476516649127, 'evaluation': 3.7} step=83000\n",
      "2022-07-29 19:07.21 [info     ] Model parameters are saved to d3rlpy_logs\\DQN_online_20220729190512\\model_84000.pt\n",
      "2022-07-29 19:07.21 [info     ] DQN_online_20220729190512: epoch=84 step=84000 epoch=84 metrics={'time_inference': 0.0014836914539337158, 'time_environment_step': 4.6571731567382816e-05, 'time_step': 0.0027103095054626463, 'rollout_return': 3.052434456928839, 'time_sample_batch': 0.00029457807540893554, 'time_algorithm_update': 0.010227103233337403, 'loss': 0.10905816055834293, 'evaluation': 3.4} step=84000\n",
      "2022-07-29 19:07.23 [info     ] Model parameters are saved to d3rlpy_logs\\DQN_online_20220729190512\\model_85000.pt\n",
      "2022-07-29 19:07.23 [info     ] DQN_online_20220729190512: epoch=85 step=85000 epoch=85 metrics={'time_inference': 0.001159015417098999, 'time_environment_step': 3.832554817199707e-05, 'time_step': 0.0021592230796813965, 'rollout_return': 2.9363295880149813, 'time_sample_batch': 0.00030606508255004883, 'time_algorithm_update': 0.008269352912902832, 'loss': 0.10731990322470665, 'evaluation': 3.3} step=85000\n",
      "2022-07-29 19:07.25 [info     ] Model parameters are saved to d3rlpy_logs\\DQN_online_20220729190512\\model_86000.pt\n",
      "2022-07-29 19:07.25 [info     ] DQN_online_20220729190512: epoch=86 step=86000 epoch=86 metrics={'time_inference': 0.0011624703407287597, 'time_environment_step': 4.208016395568848e-05, 'rollout_return': 3.059479553903346, 'time_step': 0.0021433470249176026, 'time_sample_batch': 0.00028113126754760744, 'time_algorithm_update': 0.008147726058959961, 'loss': 0.10798053078353405, 'evaluation': 3.7} step=86000\n",
      "2022-07-29 19:07.28 [info     ] Model parameters are saved to d3rlpy_logs\\DQN_online_20220729190512\\model_87000.pt\n",
      "2022-07-29 19:07.28 [info     ] DQN_online_20220729190512: epoch=87 step=87000 epoch=87 metrics={'time_inference': 0.0014391155242919921, 'time_environment_step': 4.4290781021118165e-05, 'time_step': 0.0026617329120635987, 'rollout_return': 3.0, 'time_sample_batch': 0.00027550697326660155, 'time_algorithm_update': 0.010173153877258301, 'loss': 0.11958335736766458, 'evaluation': 3.4} step=87000\n",
      "2022-07-29 19:07.30 [info     ] Model parameters are saved to d3rlpy_logs\\DQN_online_20220729190512\\model_88000.pt\n",
      "2022-07-29 19:07.30 [info     ] DQN_online_20220729190512: epoch=88 step=88000 epoch=88 metrics={'time_inference': 0.0010942740440368652, 'time_environment_step': 3.443026542663574e-05, 'rollout_return': 2.867158671586716, 'time_step': 0.0020194334983825685, 'time_sample_batch': 0.00021912574768066407, 'time_algorithm_update': 0.007771201133728027, 'loss': 0.11579355333000421, 'evaluation': 3.2} step=88000\n",
      "2022-07-29 19:07.33 [info     ] Model parameters are saved to d3rlpy_logs\\DQN_online_20220729190512\\model_89000.pt\n",
      "2022-07-29 19:07.33 [info     ] DQN_online_20220729190512: epoch=89 step=89000 epoch=89 metrics={'time_inference': 0.0013979406356811523, 'time_environment_step': 3.485345840454102e-05, 'time_step': 0.0025647106170654296, 'rollout_return': 3.071969696969697, 'time_sample_batch': 0.0003822779655456543, 'time_algorithm_update': 0.009643373489379882, 'loss': 0.10861765326932073, 'evaluation': 3.6} step=89000\n",
      "2022-07-29 19:07.36 [info     ] Model parameters are saved to d3rlpy_logs\\DQN_online_20220729190512\\model_90000.pt\n",
      "2022-07-29 19:07.36 [info     ] DQN_online_20220729190512: epoch=90 step=90000 epoch=90 metrics={'time_inference': 0.001267838716506958, 'time_environment_step': 4.4504642486572265e-05, 'time_step': 0.002333024024963379, 'rollout_return': 3.048507462686567, 'time_sample_batch': 0.00027737855911254885, 'time_algorithm_update': 0.008854353427886963, 'loss': 0.11352677162736655, 'evaluation': 3.8} step=90000\n",
      "2022-07-29 19:07.38 [info     ] Model parameters are saved to d3rlpy_logs\\DQN_online_20220729190512\\model_91000.pt\n",
      "2022-07-29 19:07.38 [info     ] DQN_online_20220729190512: epoch=91 step=91000 epoch=91 metrics={'time_inference': 0.0010415210723876953, 'time_environment_step': 3.108382225036621e-05, 'time_step': 0.0019290983676910401, 'rollout_return': 2.927007299270073, 'time_sample_batch': 0.00024470806121826174, 'time_algorithm_update': 0.007415769100189209, 'loss': 0.11662988860160112, 'evaluation': 3.2} step=91000\n",
      "2022-07-29 19:07.41 [info     ] Model parameters are saved to d3rlpy_logs\\DQN_online_20220729190512\\model_92000.pt\n",
      "2022-07-29 19:07.41 [info     ] DQN_online_20220729190512: epoch=92 step=92000 epoch=92 metrics={'time_inference': 0.0015646610260009765, 'time_environment_step': 4.962420463562012e-05, 'time_step': 0.0028798184394836428, 'rollout_return': 2.9812734082397006, 'time_sample_batch': 0.00032509803771972655, 'time_algorithm_update': 0.011003932952880859, 'loss': 0.10948468782007695, 'evaluation': 3.8} step=92000\n",
      "2022-07-29 19:07.43 [info     ] Model parameters are saved to d3rlpy_logs\\DQN_online_20220729190512\\model_93000.pt\n",
      "2022-07-29 19:07.43 [info     ] DQN_online_20220729190512: epoch=93 step=93000 epoch=93 metrics={'time_inference': 0.001161896228790283, 'time_environment_step': 2.3451805114746095e-05, 'time_step': 0.002116135835647583, 'rollout_return': 2.989051094890511, 'time_sample_batch': 0.00022567033767700195, 'time_algorithm_update': 0.008179209232330321, 'loss': 0.10982959466055035, 'evaluation': 3.5} step=93000\n",
      "2022-07-29 19:07.45 [info     ] Model parameters are saved to d3rlpy_logs\\DQN_online_20220729190512\\model_94000.pt\n",
      "2022-07-29 19:07.45 [info     ] DQN_online_20220729190512: epoch=94 step=94000 epoch=94 metrics={'time_inference': 0.0012731399536132812, 'time_environment_step': 3.919124603271484e-05, 'rollout_return': 3.056179775280899, 'time_step': 0.0023610520362854002, 'time_sample_batch': 0.0002518153190612793, 'time_algorithm_update': 0.009051096439361573, 'loss': 0.11227987792342901, 'evaluation': 3.8} step=94000\n",
      "2022-07-29 19:07.48 [info     ] Model parameters are saved to d3rlpy_logs\\DQN_online_20220729190512\\model_95000.pt\n",
      "2022-07-29 19:07.48 [info     ] DQN_online_20220729190512: epoch=95 step=95000 epoch=95 metrics={'time_inference': 0.0013558001518249512, 'time_environment_step': 4.723381996154785e-05, 'time_step': 0.002553243637084961, 'rollout_return': 2.99618320610687, 'time_sample_batch': 0.00026345014572143555, 'time_algorithm_update': 0.009853205680847167, 'loss': 0.11332443848252297, 'evaluation': 3.0} step=95000\n",
      "2022-07-29 19:07.50 [info     ] Model parameters are saved to d3rlpy_logs\\DQN_online_20220729190512\\model_96000.pt\n",
      "2022-07-29 19:07.50 [info     ] DQN_online_20220729190512: epoch=96 step=96000 epoch=96 metrics={'time_inference': 0.0010344367027282715, 'time_environment_step': 2.5662660598754883e-05, 'time_step': 0.0018980228900909424, 'rollout_return': 3.118320610687023, 'time_sample_batch': 0.00027434587478637697, 'time_algorithm_update': 0.0073260307312011715, 'loss': 0.11147071851417423, 'evaluation': 3.4} step=96000\n"
     ]
    },
    {
     "name": "stdout",
     "output_type": "stream",
     "text": [
      "2022-07-29 19:07.53 [info     ] Model parameters are saved to d3rlpy_logs\\DQN_online_20220729190512\\model_97000.pt\n",
      "2022-07-29 19:07.53 [info     ] DQN_online_20220729190512: epoch=97 step=97000 epoch=97 metrics={'time_inference': 0.0014285097122192383, 'time_environment_step': 4.713153839111328e-05, 'rollout_return': 3.071969696969697, 'time_step': 0.0026534504890441896, 'time_sample_batch': 0.00028429031372070315, 'time_algorithm_update': 0.01008375883102417, 'loss': 0.11200985274277628, 'evaluation': 3.4} step=97000\n",
      "2022-07-29 19:07.55 [info     ] Model parameters are saved to d3rlpy_logs\\DQN_online_20220729190512\\model_98000.pt\n",
      "2022-07-29 19:07.55 [info     ] DQN_online_20220729190512: epoch=98 step=98000 epoch=98 metrics={'time_inference': 0.0012408924102783204, 'time_environment_step': 3.900504112243652e-05, 'time_step': 0.0023322315216064453, 'rollout_return': 3.18, 'time_sample_batch': 0.00031463623046875, 'time_algorithm_update': 0.009060571193695069, 'loss': 0.11282971821725368, 'evaluation': 4.0} step=98000\n",
      "2022-07-29 19:07.58 [info     ] Model parameters are saved to d3rlpy_logs\\DQN_online_20220729190512\\model_99000.pt\n",
      "2022-07-29 19:07.58 [info     ] DQN_online_20220729190512: epoch=99 step=99000 epoch=99 metrics={'time_inference': 0.0011834497451782226, 'time_environment_step': 4.4510602951049805e-05, 'time_step': 0.0021965086460113527, 'rollout_return': 3.0306513409961684, 'time_sample_batch': 0.0002295708656311035, 'time_algorithm_update': 0.008448927402496339, 'loss': 0.11122912814840674, 'evaluation': 3.8} step=99000\n",
      "2022-07-29 19:08.01 [info     ] Model parameters are saved to d3rlpy_logs\\DQN_online_20220729190512\\model_100000.pt\n",
      "2022-07-29 19:08.01 [info     ] DQN_online_20220729190512: epoch=100 step=100000 epoch=100 metrics={'time_inference': 0.001458137035369873, 'time_environment_step': 4.418468475341797e-05, 'time_step': 0.0027264370918273924, 'rollout_return': 3.146718146718147, 'time_sample_batch': 0.00024246692657470704, 'time_algorithm_update': 0.010524768829345704, 'loss': 0.11412891643121839, 'evaluation': 3.8} step=100000\n",
      "2022-07-29 19:08.02 [info     ] Model parameters are saved to d3rlpy_logs\\DQN_online_20220729190512\\model_101000.pt\n",
      "2022-07-29 19:08.02 [info     ] DQN_online_20220729190512: epoch=101 step=101000 epoch=101 metrics={'time_inference': 0.0009483566284179687, 'time_environment_step': 3.236699104309082e-05, 'rollout_return': 3.011278195488722, 'time_step': 0.001746440887451172, 'time_sample_batch': 0.00022217273712158203, 'time_algorithm_update': 0.006782958507537842, 'loss': 0.10534153828397393, 'evaluation': 3.5} step=101000\n",
      "2022-07-29 19:08.05 [info     ] Model parameters are saved to d3rlpy_logs\\DQN_online_20220729190512\\model_102000.pt\n",
      "2022-07-29 19:08.05 [info     ] DQN_online_20220729190512: epoch=102 step=102000 epoch=102 metrics={'time_inference': 0.0014325261116027832, 'time_environment_step': 4.501652717590332e-05, 'time_step': 0.0026437129974365235, 'rollout_return': 3.0262172284644193, 'time_sample_batch': 0.0002246546745300293, 'time_algorithm_update': 0.010209858417510986, 'loss': 0.11519996762275696, 'evaluation': 3.6} step=102000\n",
      "2022-07-29 19:08.08 [info     ] Model parameters are saved to d3rlpy_logs\\DQN_online_20220729190512\\model_103000.pt\n",
      "2022-07-29 19:08.08 [info     ] DQN_online_20220729190512: epoch=103 step=103000 epoch=103 metrics={'time_inference': 0.0012697575092315673, 'time_environment_step': 3.89857292175293e-05, 'time_step': 0.0023475825786590577, 'rollout_return': 3.0716981132075474, 'time_sample_batch': 0.00027969837188720706, 'time_algorithm_update': 0.009047038555145263, 'loss': 0.11721702590584755, 'evaluation': 3.3} step=103000\n",
      "2022-07-29 19:08.10 [info     ] Model parameters are saved to d3rlpy_logs\\DQN_online_20220729190512\\model_104000.pt\n",
      "2022-07-29 19:08.10 [info     ] DQN_online_20220729190512: epoch=104 step=104000 epoch=104 metrics={'time_inference': 0.0010532402992248534, 'time_environment_step': 3.7470817565917966e-05, 'time_step': 0.0019869141578674316, 'rollout_return': 2.838827838827839, 'time_sample_batch': 0.00022582292556762694, 'time_algorithm_update': 0.007645924091339112, 'loss': 0.10533685697242617, 'evaluation': 3.9} step=104000\n",
      "2022-07-29 19:08.13 [info     ] Model parameters are saved to d3rlpy_logs\\DQN_online_20220729190512\\model_105000.pt\n",
      "2022-07-29 19:08.13 [info     ] DQN_online_20220729190512: epoch=105 step=105000 epoch=105 metrics={'time_inference': 0.0015320255756378174, 'time_environment_step': 4.3402671813964846e-05, 'rollout_return': 3.048507462686567, 'time_step': 0.0028270788192749025, 'time_sample_batch': 0.0002849769592285156, 'time_algorithm_update': 0.01082552433013916, 'loss': 0.10987676739692688, 'evaluation': 3.7} step=105000\n",
      "2022-07-29 19:08.15 [info     ] Model parameters are saved to d3rlpy_logs\\DQN_online_20220729190512\\model_106000.pt\n",
      "2022-07-29 19:08.15 [info     ] DQN_online_20220729190512: epoch=106 step=106000 epoch=106 metrics={'time_inference': 0.0010450148582458495, 'time_environment_step': 3.191018104553223e-05, 'time_step': 0.0019835450649261475, 'rollout_return': 2.9667896678966788, 'time_sample_batch': 0.0002273416519165039, 'time_algorithm_update': 0.0077181124687194826, 'loss': 0.11045589283108712, 'evaluation': 3.6} step=106000\n",
      "2022-07-29 19:08.17 [info     ] Model parameters are saved to d3rlpy_logs\\DQN_online_20220729190512\\model_107000.pt\n",
      "2022-07-29 19:08.17 [info     ] DQN_online_20220729190512: epoch=107 step=107000 epoch=107 metrics={'time_inference': 0.0012346243858337403, 'time_environment_step': 3.636598587036133e-05, 'time_step': 0.0022939438819885253, 'rollout_return': 3.053639846743295, 'time_sample_batch': 0.00029717206954956056, 'time_algorithm_update': 0.008720693588256835, 'loss': 0.11725628092885017, 'evaluation': 4.0} step=107000\n",
      "2022-07-29 19:08.20 [info     ] Model parameters are saved to d3rlpy_logs\\DQN_online_20220729190512\\model_108000.pt\n",
      "2022-07-29 19:08.20 [info     ] DQN_online_20220729190512: epoch=108 step=108000 epoch=108 metrics={'time_inference': 0.001433556079864502, 'time_environment_step': 3.9284229278564456e-05, 'rollout_return': 3.054054054054054, 'time_step': 0.002652463436126709, 'time_sample_batch': 0.0003351593017578125, 'time_algorithm_update': 0.010135815143585206, 'loss': 0.10722021917812526, 'evaluation': 3.6} step=108000\n",
      "2022-07-29 19:08.22 [info     ] Model parameters are saved to d3rlpy_logs\\DQN_online_20220729190512\\model_109000.pt\n",
      "2022-07-29 19:08.22 [info     ] DQN_online_20220729190512: epoch=109 step=109000 epoch=109 metrics={'time_inference': 0.0010508413314819335, 'time_environment_step': 2.6739835739135742e-05, 'time_step': 0.0019428837299346924, 'rollout_return': 3.090909090909091, 'time_sample_batch': 0.0002472233772277832, 'time_algorithm_update': 0.00745180606842041, 'loss': 0.12362360183149576, 'evaluation': 4.0} step=109000\n",
      "2022-07-29 19:08.25 [info     ] Model parameters are saved to d3rlpy_logs\\DQN_online_20220729190512\\model_110000.pt\n",
      "2022-07-29 19:08.25 [info     ] DQN_online_20220729190512: epoch=110 step=110000 epoch=110 metrics={'time_inference': 0.0014546949863433838, 'time_environment_step': 3.5739898681640624e-05, 'time_step': 0.0026800425052642823, 'rollout_return': 3.049056603773585, 'time_sample_batch': 0.00027028560638427736, 'time_algorithm_update': 0.010340490341186524, 'loss': 0.11155459523200989, 'evaluation': 3.6} step=110000\n",
      "2022-07-29 19:08.27 [info     ] Model parameters are saved to d3rlpy_logs\\DQN_online_20220729190512\\model_111000.pt\n",
      "2022-07-29 19:08.28 [info     ] DQN_online_20220729190512: epoch=111 step=111000 epoch=111 metrics={'time_inference': 0.001194805383682251, 'time_environment_step': 3.251051902770996e-05, 'time_step': 0.0022296135425567626, 'rollout_return': 2.9963636363636366, 'time_sample_batch': 0.00024677515029907225, 'time_algorithm_update': 0.008660671710968017, 'loss': 0.10503815148957074, 'evaluation': 4.0} step=111000\n",
      "2022-07-29 19:08.30 [info     ] Model parameters are saved to d3rlpy_logs\\DQN_online_20220729190512\\model_112000.pt\n",
      "2022-07-29 19:08.30 [info     ] DQN_online_20220729190512: epoch=112 step=112000 epoch=112 metrics={'time_inference': 0.0011207294464111329, 'time_environment_step': 3.521728515625e-05, 'time_step': 0.002089353084564209, 'rollout_return': 2.9239130434782608, 'time_sample_batch': 0.0002628898620605469, 'time_algorithm_update': 0.008077614307403565, 'loss': 0.10314850021153689, 'evaluation': 3.6} step=112000\n"
     ]
    },
    {
     "name": "stdout",
     "output_type": "stream",
     "text": [
      "2022-07-29 19:08.33 [info     ] Model parameters are saved to d3rlpy_logs\\DQN_online_20220729190512\\model_113000.pt\n",
      "2022-07-29 19:08.33 [info     ] DQN_online_20220729190512: epoch=113 step=113000 epoch=113 metrics={'time_inference': 0.0015215396881103516, 'time_environment_step': 4.035019874572754e-05, 'time_step': 0.002821653604507446, 'rollout_return': 2.951310861423221, 'time_sample_batch': 0.0003615951538085938, 'time_algorithm_update': 0.01077650785446167, 'loss': 0.11042534437030554, 'evaluation': 3.0} step=113000\n",
      "2022-07-29 19:08.35 [info     ] Model parameters are saved to d3rlpy_logs\\DQN_online_20220729190512\\model_114000.pt\n",
      "2022-07-29 19:08.35 [info     ] DQN_online_20220729190512: epoch=114 step=114000 epoch=114 metrics={'time_inference': 0.0010175437927246094, 'time_environment_step': 2.8738021850585938e-05, 'time_step': 0.001891339063644409, 'rollout_return': 3.0076045627376424, 'time_sample_batch': 0.0002674603462219238, 'time_algorithm_update': 0.007377159595489502, 'loss': 0.11536817841231822, 'evaluation': 3.4} step=114000\n",
      "2022-07-29 19:08.37 [info     ] Model parameters are saved to d3rlpy_logs\\DQN_online_20220729190512\\model_115000.pt\n",
      "2022-07-29 19:08.37 [info     ] DQN_online_20220729190512: epoch=115 step=115000 epoch=115 metrics={'time_inference': 0.0013469297885894775, 'time_environment_step': 3.715682029724121e-05, 'time_step': 0.0024797465801239013, 'rollout_return': 2.885608856088561, 'time_sample_batch': 0.0002575945854187012, 'time_algorithm_update': 0.009574329853057862, 'loss': 0.1145081352442503, 'evaluation': 3.8} step=115000\n",
      "2022-07-29 19:08.40 [info     ] Model parameters are saved to d3rlpy_logs\\DQN_online_20220729190512\\model_116000.pt\n",
      "2022-07-29 19:08.40 [info     ] DQN_online_20220729190512: epoch=116 step=116000 epoch=116 metrics={'time_inference': 0.0013375508785247803, 'time_environment_step': 3.951692581176758e-05, 'time_step': 0.002521656513214111, 'rollout_return': 2.786231884057971, 'time_sample_batch': 0.00025797605514526367, 'time_algorithm_update': 0.009822492599487304, 'loss': 0.11158151200041175, 'evaluation': 3.5} step=116000\n",
      "2022-07-29 19:08.42 [info     ] Model parameters are saved to d3rlpy_logs\\DQN_online_20220729190512\\model_117000.pt\n",
      "2022-07-29 19:08.42 [info     ] DQN_online_20220729190512: epoch=117 step=117000 epoch=117 metrics={'time_inference': 0.0011169288158416747, 'time_environment_step': 3.998136520385742e-05, 'rollout_return': 3.007575757575758, 'time_step': 0.002074467658996582, 'time_sample_batch': 0.00017475605010986329, 'time_algorithm_update': 0.008084819316864014, 'loss': 0.10887742590159177, 'evaluation': 3.8} step=117000\n",
      "2022-07-29 19:08.45 [info     ] Model parameters are saved to d3rlpy_logs\\DQN_online_20220729190512\\model_118000.pt\n",
      "2022-07-29 19:08.45 [info     ] DQN_online_20220729190512: epoch=118 step=118000 epoch=118 metrics={'time_inference': 0.0015471434593200683, 'time_environment_step': 4.776835441589355e-05, 'time_step': 0.002862828493118286, 'rollout_return': 3.038022813688213, 'time_sample_batch': 0.00032227277755737306, 'time_algorithm_update': 0.011071100234985351, 'loss': 0.10791172651574016, 'evaluation': 4.0} step=118000\n",
      "2022-07-29 19:08.48 [info     ] Model parameters are saved to d3rlpy_logs\\DQN_online_20220729190512\\model_119000.pt\n",
      "2022-07-29 19:08.48 [info     ] DQN_online_20220729190512: epoch=119 step=119000 epoch=119 metrics={'time_inference': 0.00119329833984375, 'time_environment_step': 3.0057191848754883e-05, 'rollout_return': 2.9049429657794676, 'time_step': 0.0022303438186645507, 'time_sample_batch': 0.0003052592277526855, 'time_algorithm_update': 0.008767013549804687, 'loss': 0.11795707648620009, 'evaluation': 3.4} step=119000\n",
      "2022-07-29 19:08.50 [info     ] Model parameters are saved to d3rlpy_logs\\DQN_online_20220729190512\\model_120000.pt\n",
      "2022-07-29 19:08.50 [info     ] DQN_online_20220729190512: epoch=120 step=120000 epoch=120 metrics={'time_inference': 0.0011292970180511474, 'time_environment_step': 2.779102325439453e-05, 'time_step': 0.0020949082374572756, 'rollout_return': 2.8876404494382024, 'time_sample_batch': 0.0002413511276245117, 'time_algorithm_update': 0.008067116737365723, 'loss': 0.11988049250096083, 'evaluation': 3.5} step=120000\n"
     ]
    }
   ],
   "source": [
    "online_dqn.fit_online(simple_online_train_env, buffer, explorer=explorer, eval_env=simple_online_train_env, n_steps=120000, \n",
    "                      n_steps_per_epoch=1000, update_interval=10) "
   ]
  },
  {
   "cell_type": "code",
   "execution_count": null,
   "id": "2a7a3284",
   "metadata": {},
   "outputs": [],
   "source": [
    "online_test_df = helper.test_d3rlpy_dqn(online_dqn, simple_online_test_env)"
   ]
  },
  {
   "cell_type": "code",
   "execution_count": null,
   "id": "dd561dd4",
   "metadata": {},
   "outputs": [],
   "source": [
    "len(X_test), len(online_test_df)"
   ]
  },
  {
   "cell_type": "code",
   "execution_count": null,
   "id": "9d8fe862",
   "metadata": {},
   "outputs": [],
   "source": [
    "y_pred_df = test_df[online_test_df['y_pred'].notna()]\n",
    "success_df = y_pred_df[y_pred_df['y_pred']== y_pred_df['y_actual']]\n",
    "len(success_df)"
   ]
  },
  {
   "cell_type": "code",
   "execution_count": null,
   "id": "e8262d16",
   "metadata": {},
   "outputs": [],
   "source": [
    "success_rate = len(success_df)/len(online_test_df)*100\n",
    "success_rate"
   ]
  },
  {
   "cell_type": "code",
   "execution_count": null,
   "id": "f16def48",
   "metadata": {},
   "outputs": [],
   "source": [
    "#avg length and return \n",
    "avg_length, avg_return = helper.get_avg_length_reward(online_test_df)\n",
    "avg_length, avg_return"
   ]
  },
  {
   "cell_type": "code",
   "execution_count": null,
   "id": "5e8c650e",
   "metadata": {},
   "outputs": [],
   "source": [
    "acc, f1, roc_auc = test(y_pred_df['y_actual'], y_pred_df['y_pred'])\n",
    "acc, f1, roc_auc"
   ]
  },
  {
   "cell_type": "markdown",
   "id": "ed508c75",
   "metadata": {},
   "source": [
    "#### Offline"
   ]
  },
  {
   "cell_type": "code",
   "execution_count": null,
   "id": "f9195bc7",
   "metadata": {},
   "outputs": [],
   "source": [
    "offline_dataset = MDPDataset.load('data/dqn_simple_dataset.h5')\n",
    "simple_offline_train_env = SyntheticSimpleEnv(X_train, y_train)\n",
    "simple_offline_test_env = SyntheticSimpleEnv(X_test, y_test)"
   ]
  },
  {
   "cell_type": "code",
   "execution_count": null,
   "id": "00ea8649",
   "metadata": {},
   "outputs": [],
   "source": [
    "offline_dqn = d3rlpy.algos.DQN()\n",
    "offline_dqn.fit(offline_dataset, eval_episodes=offline_dataset.episodes, n_steps=120000, n_steps_per_epoch=10000, \n",
    "        scorers={\"environment\": d3rlpy.metrics.evaluate_on_environment(simple_offline_train_env),\n",
    "                },\n",
    "       )"
   ]
  },
  {
   "cell_type": "code",
   "execution_count": null,
   "id": "aaea1515",
   "metadata": {},
   "outputs": [],
   "source": []
  },
  {
   "cell_type": "code",
   "execution_count": null,
   "id": "d973b4b6",
   "metadata": {},
   "outputs": [],
   "source": []
  },
  {
   "cell_type": "markdown",
   "id": "13c65658",
   "metadata": {},
   "source": [
    "#### Creating datasets"
   ]
  },
  {
   "cell_type": "code",
   "execution_count": null,
   "id": "09b3d24f",
   "metadata": {},
   "outputs": [],
   "source": [
    "# \n",
    "# complex_env = SyntheticComplexEnv(X_train_comp, y_train_comp)"
   ]
  },
  {
   "cell_type": "code",
   "execution_count": null,
   "id": "9b4377c6",
   "metadata": {},
   "outputs": [],
   "source": [
    "# random_simple_dataset = helper.create_d3rlpy_dataset('random', simple_env, 'data/random_simple_dataset.h5')\n",
    "# dqn_simple_dataset = helper.create_d3rlpy_dataset('dqn', simple_env, 'data/dqn_simple_dataset.h5')"
   ]
  },
  {
   "cell_type": "code",
   "execution_count": null,
   "id": "967196f7",
   "metadata": {},
   "outputs": [],
   "source": [
    "# dqn_complex_dataset = helper.create_dataset('dqn', complex_env, 'data/dqn_complex_dataset.h5')\n",
    "# random_complex_dataset = helper.create_dataset('random', complex_env, 'data/random_complex_dataset.h5')"
   ]
  },
  {
   "cell_type": "markdown",
   "id": "98f0e4e0",
   "metadata": {},
   "source": [
    "#### Training the dqns"
   ]
  },
  {
   "cell_type": "code",
   "execution_count": null,
   "id": "a1a867a5",
   "metadata": {},
   "outputs": [],
   "source": [
    "# simple_random_dqn = helper.train_dqn('data/random_simple_dataset.h5', simple_env, 'models/random_simple_dqn')"
   ]
  },
  {
   "cell_type": "code",
   "execution_count": null,
   "id": "a8ce152d",
   "metadata": {},
   "outputs": [],
   "source": [
    "simple_dqn_dqn = train_dqn('data/dqn_simple_dataset.h5', simple_env, 'models/dqn_simple_dqn')"
   ]
  },
  {
   "cell_type": "code",
   "execution_count": null,
   "id": "e1ecfc86",
   "metadata": {},
   "outputs": [],
   "source": [
    "#complex_dqn_dqn = train_dqn('data/dqn_complex_dataset.h5', simple_env, 'models/dqn_complex_dqn')"
   ]
  },
  {
   "cell_type": "code",
   "execution_count": null,
   "id": "e9462673",
   "metadata": {},
   "outputs": [],
   "source": [
    "#complex_random_dqn = train_dqn('data/random_complex_dataset.h5', simple_env, 'models/random_complex_dqn')"
   ]
  },
  {
   "cell_type": "markdown",
   "id": "d5ca34c3",
   "metadata": {},
   "source": [
    "#### Testing the trained dqns"
   ]
  },
  {
   "cell_type": "code",
   "execution_count": null,
   "id": "494856d6",
   "metadata": {},
   "outputs": [],
   "source": [
    "testing_simple_env = SyntheticSimpleEnv(X_test_simp[:5], y_test_simp[:5], random=False)\n",
    "simple_random_test_df = test_dqn(simple_random_dqn, testing_simple_env)\n",
    "simple_random_test_df"
   ]
  },
  {
   "cell_type": "code",
   "execution_count": null,
   "id": "1d79e22a",
   "metadata": {},
   "outputs": [],
   "source": [
    "X_test[:5]"
   ]
  },
  {
   "cell_type": "code",
   "execution_count": null,
   "id": "9bc91d95",
   "metadata": {},
   "outputs": [],
   "source": []
  }
 ],
 "metadata": {
  "kernelspec": {
   "display_name": "Python 3 (ipykernel)",
   "language": "python",
   "name": "python3"
  },
  "language_info": {
   "codemirror_mode": {
    "name": "ipython",
    "version": 3
   },
   "file_extension": ".py",
   "mimetype": "text/x-python",
   "name": "python",
   "nbconvert_exporter": "python",
   "pygments_lexer": "ipython3",
   "version": "3.7.4"
  }
 },
 "nbformat": 4,
 "nbformat_minor": 5
}

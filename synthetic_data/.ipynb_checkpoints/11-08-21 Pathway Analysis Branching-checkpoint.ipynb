{
 "cells": [
  {
   "cell_type": "code",
   "execution_count": 51,
   "id": "4db34980",
   "metadata": {},
   "outputs": [],
   "source": [
    "import pandas as pd\n",
    "import numpy as np\n",
    "import ast\n",
    "import os\n",
    "import random\n",
    "import seaborn as sns\n",
    "from sklearn.model_selection import train_test_split\n",
    "import matplotlib.pyplot as plt\n",
    "%matplotlib inline"
   ]
  },
  {
   "cell_type": "code",
   "execution_count": 52,
   "id": "42d8a8f0",
   "metadata": {},
   "outputs": [],
   "source": [
    "SEED = 42\n",
    "random.seed(SEED)\n",
    "np.random.seed(SEED)\n",
    "os.environ['PYTHONHASHSEED']=str(SEED)"
   ]
  },
  {
   "cell_type": "markdown",
   "id": "7ff7390b",
   "metadata": {},
   "source": [
    "#### X_test"
   ]
  },
  {
   "cell_type": "code",
   "execution_count": 54,
   "id": "f40b2016",
   "metadata": {},
   "outputs": [
    {
     "data": {
      "text/plain": [
       "{'No anemia': 0,\n",
       " 'Hemolytic anemia': 1,\n",
       " 'Aplastic anemia': 2,\n",
       " 'Iron deficiency anemia': 3,\n",
       " 'Vitamin B12/Folate deficiency anemia': 4,\n",
       " 'Anemia of chronic disease': 5}"
      ]
     },
     "execution_count": 54,
     "metadata": {},
     "output_type": "execute_result"
    }
   ],
   "source": [
    "df = pd.read_csv('data/anemia_synth_dataset_hb_some_nans.csv')\n",
    "df = df.fillna(0)\n",
    "classes = list(df.label.unique())\n",
    "nums = [i for i in range(len(classes))]\n",
    "class_dict = dict(zip(classes, nums))\n",
    "class_dict"
   ]
  },
  {
   "cell_type": "code",
   "execution_count": 55,
   "id": "9773d0f4",
   "metadata": {},
   "outputs": [
    {
     "data": {
      "text/plain": [
       "(11515, 7)"
      ]
     },
     "execution_count": 55,
     "metadata": {},
     "output_type": "execute_result"
    }
   ],
   "source": [
    "df['label'] = df['label'].replace(class_dict)\n",
    "X = df.iloc[:, 0:-1]\n",
    "y = df.iloc[:, -1]\n",
    "\n",
    "X_train, X_test, y_train, y_test = train_test_split(X, y, test_size=0.3, stratify=y, random_state=SEED)\n",
    "test_set = pd.concat([X_test, y_test], axis=1).reset_index(drop=True)\n",
    "# X_train, y_train = np.array(X_train), np.array(y_train)\n",
    "# X_test, y_test = np.array(X_test), np.array(y_test)\n",
    "test_set.shape"
   ]
  },
  {
   "cell_type": "code",
   "execution_count": 56,
   "id": "96812bdb",
   "metadata": {},
   "outputs": [
    {
     "data": {
      "text/html": [
       "<div>\n",
       "<style scoped>\n",
       "    .dataframe tbody tr th:only-of-type {\n",
       "        vertical-align: middle;\n",
       "    }\n",
       "\n",
       "    .dataframe tbody tr th {\n",
       "        vertical-align: top;\n",
       "    }\n",
       "\n",
       "    .dataframe thead th {\n",
       "        text-align: right;\n",
       "    }\n",
       "</style>\n",
       "<table border=\"1\" class=\"dataframe\">\n",
       "  <thead>\n",
       "    <tr style=\"text-align: right;\">\n",
       "      <th></th>\n",
       "      <th>hemoglobin</th>\n",
       "      <th>ferritin</th>\n",
       "      <th>ret_count</th>\n",
       "      <th>segmented_neutrophils</th>\n",
       "      <th>tibc</th>\n",
       "      <th>mcv</th>\n",
       "      <th>label</th>\n",
       "    </tr>\n",
       "  </thead>\n",
       "  <tbody>\n",
       "    <tr>\n",
       "      <th>0</th>\n",
       "      <td>2.427097</td>\n",
       "      <td>0.000000</td>\n",
       "      <td>3.644838</td>\n",
       "      <td>0.0</td>\n",
       "      <td>305.819648</td>\n",
       "      <td>95.006486</td>\n",
       "      <td>1</td>\n",
       "    </tr>\n",
       "    <tr>\n",
       "      <th>1</th>\n",
       "      <td>5.847005</td>\n",
       "      <td>0.000000</td>\n",
       "      <td>0.364588</td>\n",
       "      <td>0.0</td>\n",
       "      <td>0.000000</td>\n",
       "      <td>87.136160</td>\n",
       "      <td>2</td>\n",
       "    </tr>\n",
       "    <tr>\n",
       "      <th>2</th>\n",
       "      <td>5.978975</td>\n",
       "      <td>0.000000</td>\n",
       "      <td>2.274289</td>\n",
       "      <td>0.0</td>\n",
       "      <td>338.180977</td>\n",
       "      <td>83.886697</td>\n",
       "      <td>1</td>\n",
       "    </tr>\n",
       "    <tr>\n",
       "      <th>3</th>\n",
       "      <td>15.224254</td>\n",
       "      <td>0.000000</td>\n",
       "      <td>0.000000</td>\n",
       "      <td>0.0</td>\n",
       "      <td>361.625413</td>\n",
       "      <td>0.000000</td>\n",
       "      <td>0</td>\n",
       "    </tr>\n",
       "    <tr>\n",
       "      <th>4</th>\n",
       "      <td>7.736022</td>\n",
       "      <td>30.522768</td>\n",
       "      <td>1.216256</td>\n",
       "      <td>0.0</td>\n",
       "      <td>0.000000</td>\n",
       "      <td>80.355429</td>\n",
       "      <td>2</td>\n",
       "    </tr>\n",
       "  </tbody>\n",
       "</table>\n",
       "</div>"
      ],
      "text/plain": [
       "   hemoglobin   ferritin  ret_count  segmented_neutrophils        tibc  \\\n",
       "0    2.427097   0.000000   3.644838                    0.0  305.819648   \n",
       "1    5.847005   0.000000   0.364588                    0.0    0.000000   \n",
       "2    5.978975   0.000000   2.274289                    0.0  338.180977   \n",
       "3   15.224254   0.000000   0.000000                    0.0  361.625413   \n",
       "4    7.736022  30.522768   1.216256                    0.0    0.000000   \n",
       "\n",
       "         mcv  label  \n",
       "0  95.006486      1  \n",
       "1  87.136160      2  \n",
       "2  83.886697      1  \n",
       "3   0.000000      0  \n",
       "4  80.355429      2  "
      ]
     },
     "execution_count": 56,
     "metadata": {},
     "output_type": "execute_result"
    }
   ],
   "source": [
    "test_set.head()"
   ]
  },
  {
   "cell_type": "markdown",
   "id": "11627ff4",
   "metadata": {},
   "source": [
    "#### test_df"
   ]
  },
  {
   "cell_type": "code",
   "execution_count": 58,
   "id": "bff77ad3",
   "metadata": {},
   "outputs": [
    {
     "data": {
      "text/html": [
       "<div>\n",
       "<style scoped>\n",
       "    .dataframe tbody tr th:only-of-type {\n",
       "        vertical-align: middle;\n",
       "    }\n",
       "\n",
       "    .dataframe tbody tr th {\n",
       "        vertical-align: top;\n",
       "    }\n",
       "\n",
       "    .dataframe thead th {\n",
       "        text-align: right;\n",
       "    }\n",
       "</style>\n",
       "<table border=\"1\" class=\"dataframe\">\n",
       "  <thead>\n",
       "    <tr style=\"text-align: right;\">\n",
       "      <th></th>\n",
       "      <th>episode_length</th>\n",
       "      <th>index</th>\n",
       "      <th>is_success</th>\n",
       "      <th>reward</th>\n",
       "      <th>terminated</th>\n",
       "      <th>trajectory</th>\n",
       "      <th>y_actual</th>\n",
       "      <th>y_pred</th>\n",
       "    </tr>\n",
       "  </thead>\n",
       "  <tbody>\n",
       "    <tr>\n",
       "      <th>0</th>\n",
       "      <td>4.0</td>\n",
       "      <td>0.0</td>\n",
       "      <td>1.0</td>\n",
       "      <td>4.0</td>\n",
       "      <td>0.0</td>\n",
       "      <td>['hemoglobin', 'mcv', 'ret_count', 'Hemolytic ...</td>\n",
       "      <td>1.0</td>\n",
       "      <td>1.0</td>\n",
       "    </tr>\n",
       "    <tr>\n",
       "      <th>1</th>\n",
       "      <td>4.0</td>\n",
       "      <td>1.0</td>\n",
       "      <td>1.0</td>\n",
       "      <td>4.0</td>\n",
       "      <td>0.0</td>\n",
       "      <td>['hemoglobin', 'mcv', 'ret_count', 'Aplastic a...</td>\n",
       "      <td>2.0</td>\n",
       "      <td>2.0</td>\n",
       "    </tr>\n",
       "    <tr>\n",
       "      <th>2</th>\n",
       "      <td>4.0</td>\n",
       "      <td>2.0</td>\n",
       "      <td>1.0</td>\n",
       "      <td>4.0</td>\n",
       "      <td>0.0</td>\n",
       "      <td>['hemoglobin', 'mcv', 'ret_count', 'Hemolytic ...</td>\n",
       "      <td>1.0</td>\n",
       "      <td>1.0</td>\n",
       "    </tr>\n",
       "    <tr>\n",
       "      <th>3</th>\n",
       "      <td>2.0</td>\n",
       "      <td>3.0</td>\n",
       "      <td>1.0</td>\n",
       "      <td>2.0</td>\n",
       "      <td>0.0</td>\n",
       "      <td>['hemoglobin', 'No anemia']</td>\n",
       "      <td>0.0</td>\n",
       "      <td>0.0</td>\n",
       "    </tr>\n",
       "    <tr>\n",
       "      <th>4</th>\n",
       "      <td>4.0</td>\n",
       "      <td>4.0</td>\n",
       "      <td>1.0</td>\n",
       "      <td>4.0</td>\n",
       "      <td>0.0</td>\n",
       "      <td>['hemoglobin', 'mcv', 'ret_count', 'Aplastic a...</td>\n",
       "      <td>2.0</td>\n",
       "      <td>2.0</td>\n",
       "    </tr>\n",
       "  </tbody>\n",
       "</table>\n",
       "</div>"
      ],
      "text/plain": [
       "   episode_length  index  is_success  reward  terminated  \\\n",
       "0             4.0    0.0         1.0     4.0         0.0   \n",
       "1             4.0    1.0         1.0     4.0         0.0   \n",
       "2             4.0    2.0         1.0     4.0         0.0   \n",
       "3             2.0    3.0         1.0     2.0         0.0   \n",
       "4             4.0    4.0         1.0     4.0         0.0   \n",
       "\n",
       "                                          trajectory  y_actual  y_pred  \n",
       "0  ['hemoglobin', 'mcv', 'ret_count', 'Hemolytic ...       1.0     1.0  \n",
       "1  ['hemoglobin', 'mcv', 'ret_count', 'Aplastic a...       2.0     2.0  \n",
       "2  ['hemoglobin', 'mcv', 'ret_count', 'Hemolytic ...       1.0     1.0  \n",
       "3                        ['hemoglobin', 'No anemia']       0.0     0.0  \n",
       "4  ['hemoglobin', 'mcv', 'ret_count', 'Aplastic a...       2.0     2.0  "
      ]
     },
     "execution_count": 58,
     "metadata": {},
     "output_type": "execute_result"
    }
   ],
   "source": [
    "#test_df = pd.read_csv('test_dfs/test_df_with_hb_1e6.csv')\n",
    "test_df = pd.read_csv('test_dfs/test_df_with_hb_some_nans_2e6.csv')\n",
    "test_df.head()"
   ]
  },
  {
   "cell_type": "code",
   "execution_count": 59,
   "id": "20ecb773",
   "metadata": {},
   "outputs": [
    {
     "data": {
      "text/plain": [
       "array([1, 2, 0, 5, 4, 3], dtype=int64)"
      ]
     },
     "execution_count": 59,
     "metadata": {},
     "output_type": "execute_result"
    }
   ],
   "source": [
    "test_set.label.unique()"
   ]
  },
  {
   "cell_type": "code",
   "execution_count": 60,
   "id": "fec9dd6b",
   "metadata": {},
   "outputs": [
    {
     "data": {
      "text/plain": [
       "11515"
      ]
     },
     "execution_count": 60,
     "metadata": {},
     "output_type": "execute_result"
    }
   ],
   "source": [
    "len(test_df)"
   ]
  },
  {
   "cell_type": "code",
   "execution_count": 61,
   "id": "b2477072",
   "metadata": {},
   "outputs": [
    {
     "data": {
      "text/plain": [
       "1.0    4179\n",
       "0.0    3009\n",
       "2.0    2860\n",
       "4.0     453\n",
       "5.0     437\n",
       "3.0     104\n",
       "Name: y_pred, dtype: int64"
      ]
     },
     "execution_count": 61,
     "metadata": {},
     "output_type": "execute_result"
    }
   ],
   "source": [
    "test_df.y_pred.value_counts()"
   ]
  },
  {
   "cell_type": "code",
   "execution_count": 62,
   "id": "e2d56230",
   "metadata": {},
   "outputs": [],
   "source": [
    "def get_idx_df(target_df, idx_list):\n",
    "    idx_df = target_df.iloc[idx_list]\n",
    "    return idx_df"
   ]
  },
  {
   "cell_type": "code",
   "execution_count": 63,
   "id": "bcee14b8",
   "metadata": {},
   "outputs": [],
   "source": [
    "def get_distribution(df, feat): #df = anemia_test_df feat = where branching happens and whose value distribution we desire\n",
    "    feat_dict = get_indices(df, feat)\n",
    "    next_feat_df_dict = {}\n",
    "    for i, next_feat in enumerate(list(feat_dict.keys())):\n",
    "        next_feat_df = get_idx_df(test_set, feat_dict[next_feat])\n",
    "        next_feat_df_dict[next_feat] = next_feat_df[feat]\n",
    "    combined_df = pd.DataFrame(next_feat_df_dict)\n",
    "    sns.set_style('dark')\n",
    "    gfg = sns.boxplot(data = combined_df, palette='pastel')\n",
    "    gfg.set(ylabel = feat, title = f'{feat} value distribution')\n",
    "    #plt.xticks(rotation=45)\n",
    "    sns.despine()\n",
    "    plt.show()    \n",
    "    return combined_df"
   ]
  },
  {
   "cell_type": "code",
   "execution_count": 64,
   "id": "11668e04",
   "metadata": {},
   "outputs": [],
   "source": [
    "def get_indices(df, feat):\n",
    "    idx_dict = {}\n",
    "    for i, row in df.iterrows():\n",
    "        pathway = ast.literal_eval(row['trajectory'])\n",
    "        if feat in pathway:\n",
    "            feat_idx = pathway.index(feat)\n",
    "            next_element = pathway[feat_idx+1]\n",
    "            if next_element not in list(idx_dict.keys()):\n",
    "                idx_dict[next_element] = [row.name]\n",
    "            else:\n",
    "                idx_dict[next_element].append(row.name)\n",
    "    return idx_dict"
   ]
  },
  {
   "cell_type": "markdown",
   "id": "303a501c",
   "metadata": {},
   "source": [
    "#### delete from here"
   ]
  },
  {
   "cell_type": "code",
   "execution_count": 37,
   "id": "6e6b330a",
   "metadata": {},
   "outputs": [],
   "source": [
    "terminated_df = test_df[test_df.y_pred.isna()]"
   ]
  },
  {
   "cell_type": "code",
   "execution_count": 50,
   "id": "6653eab6",
   "metadata": {},
   "outputs": [
    {
     "data": {
      "text/plain": [
       "0"
      ]
     },
     "execution_count": 50,
     "metadata": {},
     "output_type": "execute_result"
    }
   ],
   "source": [
    "idx_dict = {}\n",
    "feat = 'mcv'\n",
    "count = 0\n",
    "for i, row in terminated_df.iterrows():\n",
    "    pathway = ast.literal_eval(row['trajectory'])\n",
    "    if feat in pathway:\n",
    "        feat_idx = pathway.index(feat)\n",
    "        next_element = pathway[feat_idx+1]\n",
    "        if next_element == feat:\n",
    "            count+=1\n",
    "count"
   ]
  },
  {
   "cell_type": "code",
   "execution_count": null,
   "id": "2430ec0d",
   "metadata": {},
   "outputs": [],
   "source": []
  },
  {
   "cell_type": "code",
   "execution_count": null,
   "id": "9a933774",
   "metadata": {},
   "outputs": [],
   "source": []
  },
  {
   "cell_type": "code",
   "execution_count": null,
   "id": "7cdb701a",
   "metadata": {},
   "outputs": [],
   "source": []
  },
  {
   "cell_type": "code",
   "execution_count": 44,
   "id": "bb852be5",
   "metadata": {},
   "outputs": [
    {
     "data": {
      "text/plain": [
       "dict_keys(['segmented_neutrophils', 'ret_count', 'ferritin', 'tibc', 'mcv'])"
      ]
     },
     "execution_count": 44,
     "metadata": {},
     "output_type": "execute_result"
    }
   ],
   "source": [
    "feat_dict = get_indices(terminated_df, 'ret_count')\n",
    "feat_dict.keys()"
   ]
  },
  {
   "cell_type": "code",
   "execution_count": 49,
   "id": "0142223c",
   "metadata": {},
   "outputs": [
    {
     "data": {
      "text/plain": [
       "2"
      ]
     },
     "execution_count": 49,
     "metadata": {},
     "output_type": "execute_result"
    }
   ],
   "source": [
    "len(feat_dict['mcv'])"
   ]
  },
  {
   "cell_type": "code",
   "execution_count": null,
   "id": "defdffe2",
   "metadata": {},
   "outputs": [],
   "source": []
  },
  {
   "cell_type": "code",
   "execution_count": null,
   "id": "d0c1b503",
   "metadata": {},
   "outputs": [],
   "source": []
  },
  {
   "cell_type": "markdown",
   "id": "29b6c5bf",
   "metadata": {},
   "source": [
    "#### end here"
   ]
  },
  {
   "cell_type": "markdown",
   "id": "a7ee9a6b",
   "metadata": {},
   "source": [
    "#### 0 - No anemia"
   ]
  },
  {
   "cell_type": "code",
   "execution_count": 67,
   "id": "19594eea",
   "metadata": {},
   "outputs": [
    {
     "data": {
      "text/html": [
       "<div>\n",
       "<style scoped>\n",
       "    .dataframe tbody tr th:only-of-type {\n",
       "        vertical-align: middle;\n",
       "    }\n",
       "\n",
       "    .dataframe tbody tr th {\n",
       "        vertical-align: top;\n",
       "    }\n",
       "\n",
       "    .dataframe thead th {\n",
       "        text-align: right;\n",
       "    }\n",
       "</style>\n",
       "<table border=\"1\" class=\"dataframe\">\n",
       "  <thead>\n",
       "    <tr style=\"text-align: right;\">\n",
       "      <th></th>\n",
       "      <th>episode_length</th>\n",
       "      <th>index</th>\n",
       "      <th>is_success</th>\n",
       "      <th>reward</th>\n",
       "      <th>terminated</th>\n",
       "      <th>trajectory</th>\n",
       "      <th>y_actual</th>\n",
       "      <th>y_pred</th>\n",
       "    </tr>\n",
       "  </thead>\n",
       "  <tbody>\n",
       "    <tr>\n",
       "      <th>3</th>\n",
       "      <td>2.0</td>\n",
       "      <td>3.0</td>\n",
       "      <td>1.0</td>\n",
       "      <td>2.0</td>\n",
       "      <td>0.0</td>\n",
       "      <td>['hemoglobin', 'No anemia']</td>\n",
       "      <td>0.0</td>\n",
       "      <td>0.0</td>\n",
       "    </tr>\n",
       "    <tr>\n",
       "      <th>13</th>\n",
       "      <td>2.0</td>\n",
       "      <td>13.0</td>\n",
       "      <td>1.0</td>\n",
       "      <td>2.0</td>\n",
       "      <td>0.0</td>\n",
       "      <td>['hemoglobin', 'No anemia']</td>\n",
       "      <td>0.0</td>\n",
       "      <td>0.0</td>\n",
       "    </tr>\n",
       "    <tr>\n",
       "      <th>25</th>\n",
       "      <td>2.0</td>\n",
       "      <td>25.0</td>\n",
       "      <td>1.0</td>\n",
       "      <td>2.0</td>\n",
       "      <td>0.0</td>\n",
       "      <td>['hemoglobin', 'No anemia']</td>\n",
       "      <td>0.0</td>\n",
       "      <td>0.0</td>\n",
       "    </tr>\n",
       "    <tr>\n",
       "      <th>26</th>\n",
       "      <td>2.0</td>\n",
       "      <td>26.0</td>\n",
       "      <td>1.0</td>\n",
       "      <td>2.0</td>\n",
       "      <td>0.0</td>\n",
       "      <td>['hemoglobin', 'No anemia']</td>\n",
       "      <td>0.0</td>\n",
       "      <td>0.0</td>\n",
       "    </tr>\n",
       "    <tr>\n",
       "      <th>29</th>\n",
       "      <td>2.0</td>\n",
       "      <td>29.0</td>\n",
       "      <td>1.0</td>\n",
       "      <td>2.0</td>\n",
       "      <td>0.0</td>\n",
       "      <td>['hemoglobin', 'No anemia']</td>\n",
       "      <td>0.0</td>\n",
       "      <td>0.0</td>\n",
       "    </tr>\n",
       "  </tbody>\n",
       "</table>\n",
       "</div>"
      ],
      "text/plain": [
       "    episode_length  index  is_success  reward  terminated  \\\n",
       "3              2.0    3.0         1.0     2.0         0.0   \n",
       "13             2.0   13.0         1.0     2.0         0.0   \n",
       "25             2.0   25.0         1.0     2.0         0.0   \n",
       "26             2.0   26.0         1.0     2.0         0.0   \n",
       "29             2.0   29.0         1.0     2.0         0.0   \n",
       "\n",
       "                     trajectory  y_actual  y_pred  \n",
       "3   ['hemoglobin', 'No anemia']       0.0     0.0  \n",
       "13  ['hemoglobin', 'No anemia']       0.0     0.0  \n",
       "25  ['hemoglobin', 'No anemia']       0.0     0.0  \n",
       "26  ['hemoglobin', 'No anemia']       0.0     0.0  \n",
       "29  ['hemoglobin', 'No anemia']       0.0     0.0  "
      ]
     },
     "execution_count": 67,
     "metadata": {},
     "output_type": "execute_result"
    }
   ],
   "source": [
    "no_df = test_df[test_df.y_pred == 0]\n",
    "no_df.head()"
   ]
  },
  {
   "cell_type": "code",
   "execution_count": 68,
   "id": "09958ac4",
   "metadata": {},
   "outputs": [
    {
     "data": {
      "image/png": "[encoded data removed]",
      "text/plain": [
       "<Figure size 432x288 with 1 Axes>"
      ]
     },
     "metadata": {},
     "output_type": "display_data"
    }
   ],
   "source": [
    "no_hb_distribution = get_distribution(no_df, 'hemoglobin')"
   ]
  },
  {
   "cell_type": "code",
   "execution_count": 69,
   "id": "fb6c9c09",
   "metadata": {},
   "outputs": [
    {
     "data": {
      "image/png": "[encoded data removed]",
      "text/plain": [
       "<Figure size 432x288 with 1 Axes>"
      ]
     },
     "metadata": {},
     "output_type": "display_data"
    }
   ],
   "source": [
    "no_mcv_distribution = get_distribution(no_df, 'mcv')"
   ]
  },
  {
   "cell_type": "markdown",
   "id": "63408a37",
   "metadata": {},
   "source": [
    "#### 1- Hemolytic anemia"
   ]
  },
  {
   "cell_type": "code",
   "execution_count": 70,
   "id": "8a45e8f5",
   "metadata": {},
   "outputs": [],
   "source": [
    "hemolytic_df = test_df[test_df.y_pred == 1]"
   ]
  },
  {
   "cell_type": "code",
   "execution_count": 71,
   "id": "e039eca7",
   "metadata": {},
   "outputs": [
    {
     "data": {
      "image/png": "[encoded data removed]",
      "text/plain": [
       "<Figure size 432x288 with 1 Axes>"
      ]
     },
     "metadata": {},
     "output_type": "display_data"
    }
   ],
   "source": [
    "hemolytic_mcv_distribution = get_distribution(hemolytic_df, 'mcv')"
   ]
  },
  {
   "cell_type": "code",
   "execution_count": 72,
   "id": "235b86aa",
   "metadata": {},
   "outputs": [
    {
     "data": {
      "image/png": "[encoded data removed]",
      "text/plain": [
       "<Figure size 432x288 with 1 Axes>"
      ]
     },
     "metadata": {},
     "output_type": "display_data"
    }
   ],
   "source": [
    "hemolytic_ferritin_distribution = get_distribution(hemolytic_df, 'ferritin')"
   ]
  },
  {
   "cell_type": "markdown",
   "id": "0891d29a",
   "metadata": {},
   "source": [
    "#### 2 -  Aplastic anemia"
   ]
  },
  {
   "cell_type": "code",
   "execution_count": 73,
   "id": "b0ff734f",
   "metadata": {},
   "outputs": [
    {
     "data": {
      "text/html": [
       "<div>\n",
       "<style scoped>\n",
       "    .dataframe tbody tr th:only-of-type {\n",
       "        vertical-align: middle;\n",
       "    }\n",
       "\n",
       "    .dataframe tbody tr th {\n",
       "        vertical-align: top;\n",
       "    }\n",
       "\n",
       "    .dataframe thead th {\n",
       "        text-align: right;\n",
       "    }\n",
       "</style>\n",
       "<table border=\"1\" class=\"dataframe\">\n",
       "  <thead>\n",
       "    <tr style=\"text-align: right;\">\n",
       "      <th></th>\n",
       "      <th>episode_length</th>\n",
       "      <th>index</th>\n",
       "      <th>is_success</th>\n",
       "      <th>reward</th>\n",
       "      <th>terminated</th>\n",
       "      <th>trajectory</th>\n",
       "      <th>y_actual</th>\n",
       "      <th>y_pred</th>\n",
       "    </tr>\n",
       "  </thead>\n",
       "  <tbody>\n",
       "    <tr>\n",
       "      <th>1</th>\n",
       "      <td>4.0</td>\n",
       "      <td>1.0</td>\n",
       "      <td>1.0</td>\n",
       "      <td>4.0</td>\n",
       "      <td>0.0</td>\n",
       "      <td>['hemoglobin', 'mcv', 'ret_count', 'Aplastic a...</td>\n",
       "      <td>2.0</td>\n",
       "      <td>2.0</td>\n",
       "    </tr>\n",
       "    <tr>\n",
       "      <th>4</th>\n",
       "      <td>4.0</td>\n",
       "      <td>4.0</td>\n",
       "      <td>1.0</td>\n",
       "      <td>4.0</td>\n",
       "      <td>0.0</td>\n",
       "      <td>['hemoglobin', 'mcv', 'ret_count', 'Aplastic a...</td>\n",
       "      <td>2.0</td>\n",
       "      <td>2.0</td>\n",
       "    </tr>\n",
       "    <tr>\n",
       "      <th>5</th>\n",
       "      <td>4.0</td>\n",
       "      <td>5.0</td>\n",
       "      <td>1.0</td>\n",
       "      <td>4.0</td>\n",
       "      <td>0.0</td>\n",
       "      <td>['hemoglobin', 'mcv', 'ret_count', 'Aplastic a...</td>\n",
       "      <td>2.0</td>\n",
       "      <td>2.0</td>\n",
       "    </tr>\n",
       "    <tr>\n",
       "      <th>9</th>\n",
       "      <td>4.0</td>\n",
       "      <td>9.0</td>\n",
       "      <td>1.0</td>\n",
       "      <td>4.0</td>\n",
       "      <td>0.0</td>\n",
       "      <td>['hemoglobin', 'mcv', 'ret_count', 'Aplastic a...</td>\n",
       "      <td>2.0</td>\n",
       "      <td>2.0</td>\n",
       "    </tr>\n",
       "    <tr>\n",
       "      <th>11</th>\n",
       "      <td>4.0</td>\n",
       "      <td>11.0</td>\n",
       "      <td>1.0</td>\n",
       "      <td>4.0</td>\n",
       "      <td>0.0</td>\n",
       "      <td>['hemoglobin', 'mcv', 'ret_count', 'Aplastic a...</td>\n",
       "      <td>2.0</td>\n",
       "      <td>2.0</td>\n",
       "    </tr>\n",
       "  </tbody>\n",
       "</table>\n",
       "</div>"
      ],
      "text/plain": [
       "    episode_length  index  is_success  reward  terminated  \\\n",
       "1              4.0    1.0         1.0     4.0         0.0   \n",
       "4              4.0    4.0         1.0     4.0         0.0   \n",
       "5              4.0    5.0         1.0     4.0         0.0   \n",
       "9              4.0    9.0         1.0     4.0         0.0   \n",
       "11             4.0   11.0         1.0     4.0         0.0   \n",
       "\n",
       "                                           trajectory  y_actual  y_pred  \n",
       "1   ['hemoglobin', 'mcv', 'ret_count', 'Aplastic a...       2.0     2.0  \n",
       "4   ['hemoglobin', 'mcv', 'ret_count', 'Aplastic a...       2.0     2.0  \n",
       "5   ['hemoglobin', 'mcv', 'ret_count', 'Aplastic a...       2.0     2.0  \n",
       "9   ['hemoglobin', 'mcv', 'ret_count', 'Aplastic a...       2.0     2.0  \n",
       "11  ['hemoglobin', 'mcv', 'ret_count', 'Aplastic a...       2.0     2.0  "
      ]
     },
     "execution_count": 73,
     "metadata": {},
     "output_type": "execute_result"
    }
   ],
   "source": [
    "aplastic_df = test_df[test_df.y_pred == 2]\n",
    "aplastic_df.head()"
   ]
  },
  {
   "cell_type": "code",
   "execution_count": 74,
   "id": "c24cdbae",
   "metadata": {},
   "outputs": [
    {
     "data": {
      "text/plain": [
       "2860"
      ]
     },
     "execution_count": 74,
     "metadata": {},
     "output_type": "execute_result"
    }
   ],
   "source": [
    "len(aplastic_df)"
   ]
  },
  {
   "cell_type": "code",
   "execution_count": 75,
   "id": "9cce544d",
   "metadata": {},
   "outputs": [
    {
     "data": {
      "image/png": "[encoded data removed]",
      "text/plain": [
       "<Figure size 432x288 with 1 Axes>"
      ]
     },
     "metadata": {},
     "output_type": "display_data"
    }
   ],
   "source": [
    "aplastic_mcv_distribution = get_distribution(aplastic_df, 'mcv')"
   ]
  },
  {
   "cell_type": "markdown",
   "id": "412c321f",
   "metadata": {},
   "source": [
    "#### 3 - Iron deficiency anemia"
   ]
  },
  {
   "cell_type": "code",
   "execution_count": 76,
   "id": "30c32644",
   "metadata": {},
   "outputs": [
    {
     "data": {
      "text/html": [
       "<div>\n",
       "<style scoped>\n",
       "    .dataframe tbody tr th:only-of-type {\n",
       "        vertical-align: middle;\n",
       "    }\n",
       "\n",
       "    .dataframe tbody tr th {\n",
       "        vertical-align: top;\n",
       "    }\n",
       "\n",
       "    .dataframe thead th {\n",
       "        text-align: right;\n",
       "    }\n",
       "</style>\n",
       "<table border=\"1\" class=\"dataframe\">\n",
       "  <thead>\n",
       "    <tr style=\"text-align: right;\">\n",
       "      <th></th>\n",
       "      <th>episode_length</th>\n",
       "      <th>index</th>\n",
       "      <th>is_success</th>\n",
       "      <th>reward</th>\n",
       "      <th>terminated</th>\n",
       "      <th>trajectory</th>\n",
       "      <th>y_actual</th>\n",
       "      <th>y_pred</th>\n",
       "    </tr>\n",
       "  </thead>\n",
       "  <tbody>\n",
       "    <tr>\n",
       "      <th>268</th>\n",
       "      <td>6.0</td>\n",
       "      <td>268.0</td>\n",
       "      <td>1.0</td>\n",
       "      <td>6.0</td>\n",
       "      <td>0.0</td>\n",
       "      <td>['hemoglobin', 'mcv', 'ferritin', 'ret_count',...</td>\n",
       "      <td>3.0</td>\n",
       "      <td>3.0</td>\n",
       "    </tr>\n",
       "    <tr>\n",
       "      <th>660</th>\n",
       "      <td>6.0</td>\n",
       "      <td>660.0</td>\n",
       "      <td>1.0</td>\n",
       "      <td>6.0</td>\n",
       "      <td>0.0</td>\n",
       "      <td>['hemoglobin', 'mcv', 'ferritin', 'ret_count',...</td>\n",
       "      <td>3.0</td>\n",
       "      <td>3.0</td>\n",
       "    </tr>\n",
       "    <tr>\n",
       "      <th>717</th>\n",
       "      <td>6.0</td>\n",
       "      <td>717.0</td>\n",
       "      <td>1.0</td>\n",
       "      <td>6.0</td>\n",
       "      <td>0.0</td>\n",
       "      <td>['hemoglobin', 'mcv', 'ferritin', 'ret_count',...</td>\n",
       "      <td>3.0</td>\n",
       "      <td>3.0</td>\n",
       "    </tr>\n",
       "    <tr>\n",
       "      <th>762</th>\n",
       "      <td>6.0</td>\n",
       "      <td>762.0</td>\n",
       "      <td>1.0</td>\n",
       "      <td>6.0</td>\n",
       "      <td>0.0</td>\n",
       "      <td>['hemoglobin', 'mcv', 'ferritin', 'ret_count',...</td>\n",
       "      <td>3.0</td>\n",
       "      <td>3.0</td>\n",
       "    </tr>\n",
       "    <tr>\n",
       "      <th>855</th>\n",
       "      <td>5.0</td>\n",
       "      <td>855.0</td>\n",
       "      <td>1.0</td>\n",
       "      <td>5.0</td>\n",
       "      <td>0.0</td>\n",
       "      <td>['hemoglobin', 'mcv', 'ferritin', 'tibc', 'Iro...</td>\n",
       "      <td>3.0</td>\n",
       "      <td>3.0</td>\n",
       "    </tr>\n",
       "  </tbody>\n",
       "</table>\n",
       "</div>"
      ],
      "text/plain": [
       "     episode_length  index  is_success  reward  terminated  \\\n",
       "268             6.0  268.0         1.0     6.0         0.0   \n",
       "660             6.0  660.0         1.0     6.0         0.0   \n",
       "717             6.0  717.0         1.0     6.0         0.0   \n",
       "762             6.0  762.0         1.0     6.0         0.0   \n",
       "855             5.0  855.0         1.0     5.0         0.0   \n",
       "\n",
       "                                            trajectory  y_actual  y_pred  \n",
       "268  ['hemoglobin', 'mcv', 'ferritin', 'ret_count',...       3.0     3.0  \n",
       "660  ['hemoglobin', 'mcv', 'ferritin', 'ret_count',...       3.0     3.0  \n",
       "717  ['hemoglobin', 'mcv', 'ferritin', 'ret_count',...       3.0     3.0  \n",
       "762  ['hemoglobin', 'mcv', 'ferritin', 'ret_count',...       3.0     3.0  \n",
       "855  ['hemoglobin', 'mcv', 'ferritin', 'tibc', 'Iro...       3.0     3.0  "
      ]
     },
     "execution_count": 76,
     "metadata": {},
     "output_type": "execute_result"
    }
   ],
   "source": [
    "ida_df = test_df[test_df.y_pred == 3]\n",
    "ida_df.head()"
   ]
  },
  {
   "cell_type": "code",
   "execution_count": 77,
   "id": "f878ae35",
   "metadata": {},
   "outputs": [
    {
     "data": {
      "image/png": "[encoded data removed]",
      "text/plain": [
       "<Figure size 432x288 with 1 Axes>"
      ]
     },
     "metadata": {},
     "output_type": "display_data"
    }
   ],
   "source": [
    "ida_mcv_distribution = get_distribution(ida_df, 'ferritin')"
   ]
  },
  {
   "cell_type": "markdown",
   "id": "d90b2311",
   "metadata": {},
   "source": [
    "#### Vitamin B12/Folate deficiency anemia"
   ]
  },
  {
   "cell_type": "code",
   "execution_count": 80,
   "id": "8cccd5ee",
   "metadata": {},
   "outputs": [
    {
     "data": {
      "text/html": [
       "<div>\n",
       "<style scoped>\n",
       "    .dataframe tbody tr th:only-of-type {\n",
       "        vertical-align: middle;\n",
       "    }\n",
       "\n",
       "    .dataframe tbody tr th {\n",
       "        vertical-align: top;\n",
       "    }\n",
       "\n",
       "    .dataframe thead th {\n",
       "        text-align: right;\n",
       "    }\n",
       "</style>\n",
       "<table border=\"1\" class=\"dataframe\">\n",
       "  <thead>\n",
       "    <tr style=\"text-align: right;\">\n",
       "      <th></th>\n",
       "      <th>episode_length</th>\n",
       "      <th>index</th>\n",
       "      <th>is_success</th>\n",
       "      <th>reward</th>\n",
       "      <th>terminated</th>\n",
       "      <th>trajectory</th>\n",
       "      <th>y_actual</th>\n",
       "      <th>y_pred</th>\n",
       "    </tr>\n",
       "  </thead>\n",
       "  <tbody>\n",
       "    <tr>\n",
       "      <th>24</th>\n",
       "      <td>4.0</td>\n",
       "      <td>24.0</td>\n",
       "      <td>1.0</td>\n",
       "      <td>4.0</td>\n",
       "      <td>0.0</td>\n",
       "      <td>['hemoglobin', 'mcv', 'segmented_neutrophils',...</td>\n",
       "      <td>4.0</td>\n",
       "      <td>4.0</td>\n",
       "    </tr>\n",
       "    <tr>\n",
       "      <th>41</th>\n",
       "      <td>4.0</td>\n",
       "      <td>41.0</td>\n",
       "      <td>1.0</td>\n",
       "      <td>4.0</td>\n",
       "      <td>0.0</td>\n",
       "      <td>['hemoglobin', 'mcv', 'segmented_neutrophils',...</td>\n",
       "      <td>4.0</td>\n",
       "      <td>4.0</td>\n",
       "    </tr>\n",
       "    <tr>\n",
       "      <th>51</th>\n",
       "      <td>4.0</td>\n",
       "      <td>51.0</td>\n",
       "      <td>1.0</td>\n",
       "      <td>4.0</td>\n",
       "      <td>0.0</td>\n",
       "      <td>['hemoglobin', 'mcv', 'segmented_neutrophils',...</td>\n",
       "      <td>4.0</td>\n",
       "      <td>4.0</td>\n",
       "    </tr>\n",
       "    <tr>\n",
       "      <th>70</th>\n",
       "      <td>4.0</td>\n",
       "      <td>70.0</td>\n",
       "      <td>1.0</td>\n",
       "      <td>4.0</td>\n",
       "      <td>0.0</td>\n",
       "      <td>['hemoglobin', 'mcv', 'segmented_neutrophils',...</td>\n",
       "      <td>4.0</td>\n",
       "      <td>4.0</td>\n",
       "    </tr>\n",
       "    <tr>\n",
       "      <th>134</th>\n",
       "      <td>4.0</td>\n",
       "      <td>134.0</td>\n",
       "      <td>1.0</td>\n",
       "      <td>4.0</td>\n",
       "      <td>0.0</td>\n",
       "      <td>['hemoglobin', 'mcv', 'segmented_neutrophils',...</td>\n",
       "      <td>4.0</td>\n",
       "      <td>4.0</td>\n",
       "    </tr>\n",
       "  </tbody>\n",
       "</table>\n",
       "</div>"
      ],
      "text/plain": [
       "     episode_length  index  is_success  reward  terminated  \\\n",
       "24              4.0   24.0         1.0     4.0         0.0   \n",
       "41              4.0   41.0         1.0     4.0         0.0   \n",
       "51              4.0   51.0         1.0     4.0         0.0   \n",
       "70              4.0   70.0         1.0     4.0         0.0   \n",
       "134             4.0  134.0         1.0     4.0         0.0   \n",
       "\n",
       "                                            trajectory  y_actual  y_pred  \n",
       "24   ['hemoglobin', 'mcv', 'segmented_neutrophils',...       4.0     4.0  \n",
       "41   ['hemoglobin', 'mcv', 'segmented_neutrophils',...       4.0     4.0  \n",
       "51   ['hemoglobin', 'mcv', 'segmented_neutrophils',...       4.0     4.0  \n",
       "70   ['hemoglobin', 'mcv', 'segmented_neutrophils',...       4.0     4.0  \n",
       "134  ['hemoglobin', 'mcv', 'segmented_neutrophils',...       4.0     4.0  "
      ]
     },
     "execution_count": 80,
     "metadata": {},
     "output_type": "execute_result"
    }
   ],
   "source": [
    "vitamin_df = test_df[test_df.y_pred == 4]\n",
    "vitamin_df.head()"
   ]
  },
  {
   "cell_type": "code",
   "execution_count": 83,
   "id": "d1241217",
   "metadata": {},
   "outputs": [
    {
     "data": {
      "image/png": "[encoded data removed]",
      "text/plain": [
       "<Figure size 432x288 with 1 Axes>"
      ]
     },
     "metadata": {},
     "output_type": "display_data"
    }
   ],
   "source": [
    "vitamin_mcv_distribution = get_distribution(vitamin_df, 'segmented_neutrophils')"
   ]
  },
  {
   "cell_type": "markdown",
   "id": "26f525bf",
   "metadata": {},
   "source": [
    "#### terminated episodes"
   ]
  },
  {
   "cell_type": "code",
   "execution_count": 84,
   "id": "793135ac",
   "metadata": {},
   "outputs": [
    {
     "data": {
      "text/html": [
       "<div>\n",
       "<style scoped>\n",
       "    .dataframe tbody tr th:only-of-type {\n",
       "        vertical-align: middle;\n",
       "    }\n",
       "\n",
       "    .dataframe tbody tr th {\n",
       "        vertical-align: top;\n",
       "    }\n",
       "\n",
       "    .dataframe thead th {\n",
       "        text-align: right;\n",
       "    }\n",
       "</style>\n",
       "<table border=\"1\" class=\"dataframe\">\n",
       "  <thead>\n",
       "    <tr style=\"text-align: right;\">\n",
       "      <th></th>\n",
       "      <th>episode_length</th>\n",
       "      <th>index</th>\n",
       "      <th>is_success</th>\n",
       "      <th>reward</th>\n",
       "      <th>terminated</th>\n",
       "      <th>trajectory</th>\n",
       "      <th>y_actual</th>\n",
       "      <th>y_pred</th>\n",
       "    </tr>\n",
       "  </thead>\n",
       "  <tbody>\n",
       "    <tr>\n",
       "      <th>30</th>\n",
       "      <td>8.0</td>\n",
       "      <td>30.0</td>\n",
       "      <td>0.0</td>\n",
       "      <td>-2.0</td>\n",
       "      <td>1.0</td>\n",
       "      <td>['hemoglobin', 'mcv', 'segmented_neutrophils',...</td>\n",
       "      <td>1.0</td>\n",
       "      <td>NaN</td>\n",
       "    </tr>\n",
       "    <tr>\n",
       "      <th>81</th>\n",
       "      <td>8.0</td>\n",
       "      <td>81.0</td>\n",
       "      <td>0.0</td>\n",
       "      <td>0.0</td>\n",
       "      <td>1.0</td>\n",
       "      <td>['hemoglobin', 'mcv', 'ferritin', 'ret_count',...</td>\n",
       "      <td>3.0</td>\n",
       "      <td>NaN</td>\n",
       "    </tr>\n",
       "    <tr>\n",
       "      <th>92</th>\n",
       "      <td>8.0</td>\n",
       "      <td>92.0</td>\n",
       "      <td>0.0</td>\n",
       "      <td>-2.0</td>\n",
       "      <td>1.0</td>\n",
       "      <td>['hemoglobin', 'mcv', 'ret_count', 'ret_count'...</td>\n",
       "      <td>5.0</td>\n",
       "      <td>NaN</td>\n",
       "    </tr>\n",
       "    <tr>\n",
       "      <th>183</th>\n",
       "      <td>8.0</td>\n",
       "      <td>183.0</td>\n",
       "      <td>0.0</td>\n",
       "      <td>-2.0</td>\n",
       "      <td>1.0</td>\n",
       "      <td>['hemoglobin', 'mcv', 'ret_count', 'ret_count'...</td>\n",
       "      <td>5.0</td>\n",
       "      <td>NaN</td>\n",
       "    </tr>\n",
       "    <tr>\n",
       "      <th>191</th>\n",
       "      <td>8.0</td>\n",
       "      <td>191.0</td>\n",
       "      <td>0.0</td>\n",
       "      <td>0.0</td>\n",
       "      <td>1.0</td>\n",
       "      <td>['hemoglobin', 'mcv', 'ferritin', 'ret_count',...</td>\n",
       "      <td>3.0</td>\n",
       "      <td>NaN</td>\n",
       "    </tr>\n",
       "  </tbody>\n",
       "</table>\n",
       "</div>"
      ],
      "text/plain": [
       "     episode_length  index  is_success  reward  terminated  \\\n",
       "30              8.0   30.0         0.0    -2.0         1.0   \n",
       "81              8.0   81.0         0.0     0.0         1.0   \n",
       "92              8.0   92.0         0.0    -2.0         1.0   \n",
       "183             8.0  183.0         0.0    -2.0         1.0   \n",
       "191             8.0  191.0         0.0     0.0         1.0   \n",
       "\n",
       "                                            trajectory  y_actual  y_pred  \n",
       "30   ['hemoglobin', 'mcv', 'segmented_neutrophils',...       1.0     NaN  \n",
       "81   ['hemoglobin', 'mcv', 'ferritin', 'ret_count',...       3.0     NaN  \n",
       "92   ['hemoglobin', 'mcv', 'ret_count', 'ret_count'...       5.0     NaN  \n",
       "183  ['hemoglobin', 'mcv', 'ret_count', 'ret_count'...       5.0     NaN  \n",
       "191  ['hemoglobin', 'mcv', 'ferritin', 'ret_count',...       3.0     NaN  "
      ]
     },
     "execution_count": 84,
     "metadata": {},
     "output_type": "execute_result"
    }
   ],
   "source": [
    "terminated_df = test_df[test_df.y_pred.isna()]\n",
    "terminated_df.head()"
   ]
  },
  {
   "cell_type": "code",
   "execution_count": 85,
   "id": "0871a851",
   "metadata": {},
   "outputs": [
    {
     "data": {
      "image/png": "[encoded data removed]",
      "text/plain": [
       "<Figure size 432x288 with 1 Axes>"
      ]
     },
     "metadata": {},
     "output_type": "display_data"
    }
   ],
   "source": [
    "terminated_mcv_distribution = get_distribution(terminated_df, 'hemoglobin')"
   ]
  },
  {
   "cell_type": "code",
   "execution_count": 86,
   "id": "1637f778",
   "metadata": {},
   "outputs": [
    {
     "data": {
      "image/png": "[encoded data removed]",
      "text/plain": [
       "<Figure size 432x288 with 1 Axes>"
      ]
     },
     "metadata": {},
     "output_type": "display_data"
    }
   ],
   "source": [
    "terminated_ret_distribution = get_distribution(terminated_df, 'mcv')"
   ]
  },
  {
   "cell_type": "code",
   "execution_count": 87,
   "id": "53ad30b4",
   "metadata": {},
   "outputs": [
    {
     "data": {
      "image/png": "[encoded data removed]",
      "text/plain": [
       "<Figure size 432x288 with 1 Axes>"
      ]
     },
     "metadata": {},
     "output_type": "display_data"
    }
   ],
   "source": [
    "terminated_ret_distribution = get_distribution(terminated_df, 'ret_count')"
   ]
  },
  {
   "cell_type": "code",
   "execution_count": 88,
   "id": "e1d138ec",
   "metadata": {},
   "outputs": [
    {
     "data": {
      "image/png": "[encoded data removed]",
      "text/plain": [
       "<Figure size 432x288 with 1 Axes>"
      ]
     },
     "metadata": {},
     "output_type": "display_data"
    }
   ],
   "source": [
    "terminated_ret_distribution = get_distribution(terminated_df, 'segmented_neutrophils')"
   ]
  },
  {
   "cell_type": "code",
   "execution_count": 89,
   "id": "87621f5e",
   "metadata": {},
   "outputs": [
    {
     "data": {
      "image/png": "[encoded data removed]",
      "text/plain": [
       "<Figure size 432x288 with 1 Axes>"
      ]
     },
     "metadata": {},
     "output_type": "display_data"
    }
   ],
   "source": [
    "terminated_ferritin_distribution = get_distribution(terminated_df, 'ferritin')"
   ]
  },
  {
   "cell_type": "code",
   "execution_count": 90,
   "id": "aaeeaa51",
   "metadata": {},
   "outputs": [
    {
     "data": {
      "image/png": "[encoded data removed]",
      "text/plain": [
       "<Figure size 432x288 with 1 Axes>"
      ]
     },
     "metadata": {},
     "output_type": "display_data"
    }
   ],
   "source": [
    "terminated_ferritin_distribution = get_distribution(terminated_df, 'tibc')"
   ]
  },
  {
   "cell_type": "code",
   "execution_count": null,
   "id": "eb7faeb5",
   "metadata": {},
   "outputs": [],
   "source": []
  }
 ],
 "metadata": {
  "kernelspec": {
   "display_name": "Python 3 (ipykernel)",
   "language": "python",
   "name": "python3"
  },
  "language_info": {
   "codemirror_mode": {
    "name": "ipython",
    "version": 3
   },
   "file_extension": ".py",
   "mimetype": "text/x-python",
   "name": "python",
   "nbconvert_exporter": "python",
   "pygments_lexer": "ipython3",
   "version": "3.7.4"
  }
 },
 "nbformat": 4,
 "nbformat_minor": 5
}

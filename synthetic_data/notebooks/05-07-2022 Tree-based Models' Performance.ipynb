{
 "cells": [
  {
   "cell_type": "code",
   "execution_count": 172,
   "id": "51952884",
   "metadata": {},
   "outputs": [],
   "source": [
    "import pandas as pd\n",
    "import numpy as np\n",
    "import random\n",
    "import joblib\n",
    "import seaborn as sns\n",
    "from sklearn.model_selection import train_test_split\n",
    "import matplotlib.pyplot as plt\n",
    "%matplotlib inline"
   ]
  },
  {
   "cell_type": "code",
   "execution_count": 173,
   "id": "960efed5",
   "metadata": {},
   "outputs": [],
   "source": [
    "SEED = 42\n",
    "random.seed(SEED)\n",
    "np.random.seed(SEED)"
   ]
  },
  {
   "cell_type": "code",
   "execution_count": 174,
   "id": "0ee503c8",
   "metadata": {},
   "outputs": [],
   "source": [
    "def sample_train_set(x, y, sample_num):\n",
    "    idx_list = random.sample(list(x.index), sample_num)\n",
    "    sampled_x = x.loc[idx_list]\n",
    "    sampled_y = y.loc[idx_list]\n",
    "    return np.array(sampled_x), np.array(sampled_y)"
   ]
  },
  {
   "cell_type": "markdown",
   "id": "c0b1ff33",
   "metadata": {},
   "source": [
    "#### The Datasets"
   ]
  },
  {
   "cell_type": "code",
   "execution_count": 175,
   "id": "cc7ae052",
   "metadata": {},
   "outputs": [
    {
     "data": {
      "text/plain": [
       "{'No anemia': 0,\n",
       " 'Hemolytic anemia': 1,\n",
       " 'Aplastic anemia': 2,\n",
       " 'Iron deficiency anemia': 3,\n",
       " 'Vitamin B12/Folate deficiency anemia': 4,\n",
       " 'Anemia of chronic disease': 5}"
      ]
     },
     "execution_count": 175,
     "metadata": {},
     "output_type": "execute_result"
    }
   ],
   "source": [
    "df = pd.read_csv('data/anemia_synth_dataset_hb_some_nans.csv') #my real dataset i think\n",
    "#df = pd.read_csv('data/anemia_synth_dataset_hb.csv')\n",
    "#df = pd.read_csv('data/noisy_dataset.csv')\n",
    "df = df.fillna(0)\n",
    "classes = list(df.label.unique())\n",
    "nums = [i for i in range(len(classes))]\n",
    "class_dict = dict(zip(classes, nums))\n",
    "class_dict"
   ]
  },
  {
   "cell_type": "code",
   "execution_count": 176,
   "id": "96a7f482",
   "metadata": {},
   "outputs": [
    {
     "name": "stdout",
     "output_type": "stream",
     "text": [
      "1    14146\n",
      "0    10000\n",
      "2     9450\n",
      "5     1869\n",
      "4     1575\n",
      "3     1343\n",
      "Name: label, dtype: int64\n"
     ]
    },
    {
     "data": {
      "text/plain": [
       "((26868, 6), (11515, 6), (26868,), (11515,))"
      ]
     },
     "execution_count": 176,
     "metadata": {},
     "output_type": "execute_result"
    }
   ],
   "source": [
    "# X, y = df.drop(['label'], axis=1), df['label']\n",
    "# X_train, X_test, y_train, y_test = train_test_split(X, y, test_size=0.3, stratify=y, random_state=42)\n",
    "\n",
    "df['label'] = df['label'].replace(class_dict)\n",
    "print(df.label.value_counts())\n",
    "X = df.iloc[:, 0:-1]\n",
    "y = df.iloc[:, -1]\n",
    "\n",
    "X_train, X_test, y_train, y_test = train_test_split(X, y, test_size=0.3, stratify=y, random_state=SEED)\n",
    "X_train, y_train = np.array(X_train), np.array(y_train)\n",
    "#X_train, y_train = sample_train_set(full_X_train, full_y_train, 1000)\n",
    "X_test, y_test = np.array(X_test), np.array(y_test)\n",
    "X_train.shape, X_test.shape, y_train.shape, y_test.shape"
   ]
  },
  {
   "cell_type": "markdown",
   "id": "7f54b211",
   "metadata": {},
   "source": [
    "#### Some useful functions and variables"
   ]
  },
  {
   "cell_type": "code",
   "execution_count": 177,
   "id": "f13bdbf8",
   "metadata": {},
   "outputs": [],
   "source": [
    "#class_dict = {'A':0, 'B':1, 'C':2}\n",
    "# classes = list(df.label.unique())\n",
    "# nums = [i for i in range(len(classes))]\n",
    "# class_dict = dict(zip(classes, nums))\n",
    "# class_dict"
   ]
  },
  {
   "cell_type": "code",
   "execution_count": 178,
   "id": "e9f3d668",
   "metadata": {},
   "outputs": [],
   "source": [
    "def compute_feature_importance(model, x, verbose=False):\n",
    "    importance = model.feature_importances_\n",
    "    if verbose:\n",
    "        for i,v in enumerate(importance):\n",
    "            print('Feature: %0d, Score: %.5f' % (i,v))\n",
    "    feats = {} # a dict to hold feature_name: feature_importance\n",
    "    for feature, importance in zip(x.columns, importance):\n",
    "        feats[feature] = importance #add the name/value pair \n",
    "\n",
    "    importances = pd.DataFrame.from_dict(feats, orient='index').rename(columns={0: 'Importance'})\n",
    "    importances.sort_values(by='Importance').plot(kind='bar', rot=90)"
   ]
  },
  {
   "cell_type": "code",
   "execution_count": 179,
   "id": "41301426",
   "metadata": {},
   "outputs": [],
   "source": [
    "def multiclass_roc_auc_score(y_test, y_pred, average=\"macro\"):\n",
    "    '''Calculate roc_auc score'''\n",
    "    fig, c_ax = plt.subplots(1,1, figsize = (12, 8))\n",
    "    target= list(class_dict.keys())\n",
    "    lb = LabelBinarizer()\n",
    "    lb.fit(y_test)\n",
    "    y_test = lb.transform(y_test)\n",
    "    y_pred = lb.transform(y_pred)\n",
    "\n",
    "    for (idx, c_label) in enumerate(target):\n",
    "        fpr, tpr, thresholds = roc_curve(y_test[:,idx].astype(int), y_pred[:,idx])\n",
    "        c_ax.plot(fpr, tpr, label = '%s (AUC:%0.2f)'  % (c_label, auc(fpr, tpr)))\n",
    "    c_ax.plot(fpr, fpr, 'b-', label = 'Random Guessing')\n",
    "    plt.close()\n",
    "    return roc_auc_score(y_test, y_pred, average=average)"
   ]
  },
  {
   "cell_type": "code",
   "execution_count": 180,
   "id": "e4d522cc",
   "metadata": {},
   "outputs": [],
   "source": [
    "def multiclass(actual_class, pred_class, average = \"macro\"):\n",
    "\n",
    "    #creating a set of all the unique classes using the actual class list\n",
    "    unique_class = set(actual_class)\n",
    "    roc_auc_dict = {}\n",
    "    for per_class in unique_class:\n",
    "        #creating a list of all the classes except the current class \n",
    "        other_class = [x for x in unique_class if x != per_class]\n",
    "\n",
    "        #marking the current class as 1 and all other classes as 0\n",
    "        new_actual_class = [0 if x in other_class else 1 for x in actual_class]\n",
    "        new_pred_class = [0 if x in other_class else 1 for x in pred_class]\n",
    "\n",
    "        #using the sklearn metrics method to calculate the roc_auc_score\n",
    "        roc_auc = roc_auc_score(new_actual_class, new_pred_class, average = average)\n",
    "        roc_auc_dict[per_class] = roc_auc\n",
    "    print(f'Roc auc dict: {roc_auc_dict}')\n",
    "    avg = sum(roc_auc_dict.values()) / len(roc_auc_dict)\n",
    "    \n",
    "    #return roc_auc_dict\n",
    "    return avg"
   ]
  },
  {
   "cell_type": "code",
   "execution_count": 181,
   "id": "8f142fa8",
   "metadata": {},
   "outputs": [],
   "source": [
    "def test(model, Xtest, ytest):\n",
    "    ypred = model.predict(Xtest)\n",
    "    acc = accuracy_score(ytest, ypred)\n",
    "    f1_macro = f1_score(ytest, ypred, average ='macro', labels=np.unique(ytest))\n",
    "    #f1_micro = f1_score(ytest, ypred, average ='micro', labels=np.unique(ytest))\n",
    "    cr = classification_report(ytest, ypred)\n",
    "    cm = confusion_matrix(ytest, ypred)\n",
    "    roc_auc = multiclass_roc_auc_score(ytest, ypred)\n",
    "    roc_auc2 = multiclass(ytest, ypred)\n",
    "    return acc, f1_macro, cr, cm, roc_auc, roc_auc2, ypred"
   ]
  },
  {
   "cell_type": "markdown",
   "id": "13775641",
   "metadata": {},
   "source": [
    "#### Decision Tree classifier"
   ]
  },
  {
   "cell_type": "code",
   "execution_count": 182,
   "id": "0a37b301",
   "metadata": {},
   "outputs": [],
   "source": [
    "from sklearn.tree import DecisionTreeClassifier, export_graphviz\n",
    "from sklearn.preprocessing import label_binarize, LabelBinarizer\n",
    "from sklearn.metrics import accuracy_score, f1_score, roc_auc_score, confusion_matrix, classification_report, roc_curve, auc\n",
    "import graphviz"
   ]
  },
  {
   "cell_type": "code",
   "execution_count": 183,
   "id": "1b743e43",
   "metadata": {},
   "outputs": [
    {
     "name": "stdout",
     "output_type": "stream",
     "text": [
      "Roc auc dict: {0: 1.0, 1: 0.9997937010039885, 2: 0.999647266313933, 3: 1.0, 4: 1.0, 5: 0.999108734402852}\n",
      "Accuracy - 0.9997394702561876, F1 Score: 0.9997336276523091, ROC AUC Score: 0.999758283620129, ROC AUC 2: 0.999758283620129\n",
      "Unique predicted classes: [0 1 2 3 4 5]\n"
     ]
    }
   ],
   "source": [
    "dt = DecisionTreeClassifier(random_state=42).fit(X_train, y_train)\n",
    "joblib.dump(dt, 'models/baselines/decision_tree.joblib')\n",
    "acc, f1, cr, cm, roc_auc, roc_auc2, y_pred  = test(dt, X_test, y_test) \n",
    "print(f'Accuracy - {acc}, F1 Score: {f1}, ROC AUC Score: {roc_auc}, ROC AUC 2: {roc_auc2}')\n",
    "print(f'Unique predicted classes: {np.unique(y_pred)}')"
   ]
  },
  {
   "cell_type": "markdown",
   "id": "f8a59002",
   "metadata": {},
   "source": [
    "#### delete from here"
   ]
  },
  {
   "cell_type": "code",
   "execution_count": 152,
   "id": "6b407d08",
   "metadata": {},
   "outputs": [
    {
     "data": {
      "text/plain": [
       "(11515, 11515)"
      ]
     },
     "execution_count": 152,
     "metadata": {},
     "output_type": "execute_result"
    }
   ],
   "source": [
    "len(test_dataset), len(y_test)"
   ]
  },
  {
   "cell_type": "code",
   "execution_count": 153,
   "id": "2a44992d",
   "metadata": {},
   "outputs": [
    {
     "data": {
      "text/html": [
       "<div>\n",
       "<style scoped>\n",
       "    .dataframe tbody tr th:only-of-type {\n",
       "        vertical-align: middle;\n",
       "    }\n",
       "\n",
       "    .dataframe tbody tr th {\n",
       "        vertical-align: top;\n",
       "    }\n",
       "\n",
       "    .dataframe thead th {\n",
       "        text-align: right;\n",
       "    }\n",
       "</style>\n",
       "<table border=\"1\" class=\"dataframe\">\n",
       "  <thead>\n",
       "    <tr style=\"text-align: right;\">\n",
       "      <th></th>\n",
       "      <th>hemoglobin</th>\n",
       "      <th>ferritin</th>\n",
       "      <th>ret_count</th>\n",
       "      <th>segmented_neutrophils</th>\n",
       "      <th>tibc</th>\n",
       "      <th>mcv</th>\n",
       "      <th>label</th>\n",
       "      <th>predicted_label</th>\n",
       "    </tr>\n",
       "  </thead>\n",
       "  <tbody>\n",
       "    <tr>\n",
       "      <th>0</th>\n",
       "      <td>2.427097</td>\n",
       "      <td>0.000000</td>\n",
       "      <td>3.644838</td>\n",
       "      <td>0.0</td>\n",
       "      <td>305.819648</td>\n",
       "      <td>95.006486</td>\n",
       "      <td>1</td>\n",
       "      <td>1</td>\n",
       "    </tr>\n",
       "    <tr>\n",
       "      <th>1</th>\n",
       "      <td>5.847005</td>\n",
       "      <td>0.000000</td>\n",
       "      <td>0.364588</td>\n",
       "      <td>0.0</td>\n",
       "      <td>0.000000</td>\n",
       "      <td>87.136160</td>\n",
       "      <td>2</td>\n",
       "      <td>2</td>\n",
       "    </tr>\n",
       "    <tr>\n",
       "      <th>2</th>\n",
       "      <td>5.978975</td>\n",
       "      <td>0.000000</td>\n",
       "      <td>2.274289</td>\n",
       "      <td>0.0</td>\n",
       "      <td>338.180977</td>\n",
       "      <td>83.886697</td>\n",
       "      <td>1</td>\n",
       "      <td>1</td>\n",
       "    </tr>\n",
       "    <tr>\n",
       "      <th>3</th>\n",
       "      <td>15.224254</td>\n",
       "      <td>0.000000</td>\n",
       "      <td>0.000000</td>\n",
       "      <td>0.0</td>\n",
       "      <td>361.625413</td>\n",
       "      <td>0.000000</td>\n",
       "      <td>0</td>\n",
       "      <td>0</td>\n",
       "    </tr>\n",
       "    <tr>\n",
       "      <th>4</th>\n",
       "      <td>7.736022</td>\n",
       "      <td>30.522768</td>\n",
       "      <td>1.216256</td>\n",
       "      <td>0.0</td>\n",
       "      <td>0.000000</td>\n",
       "      <td>80.355429</td>\n",
       "      <td>2</td>\n",
       "      <td>2</td>\n",
       "    </tr>\n",
       "  </tbody>\n",
       "</table>\n",
       "</div>"
      ],
      "text/plain": [
       "   hemoglobin   ferritin  ret_count  segmented_neutrophils        tibc  \\\n",
       "0    2.427097   0.000000   3.644838                    0.0  305.819648   \n",
       "1    5.847005   0.000000   0.364588                    0.0    0.000000   \n",
       "2    5.978975   0.000000   2.274289                    0.0  338.180977   \n",
       "3   15.224254   0.000000   0.000000                    0.0  361.625413   \n",
       "4    7.736022  30.522768   1.216256                    0.0    0.000000   \n",
       "\n",
       "         mcv  label  predicted_label  \n",
       "0  95.006486      1                1  \n",
       "1  87.136160      2                2  \n",
       "2  83.886697      1                1  \n",
       "3   0.000000      0                0  \n",
       "4  80.355429      2                2  "
      ]
     },
     "execution_count": 153,
     "metadata": {},
     "output_type": "execute_result"
    }
   ],
   "source": [
    "cols = [i for i in df.columns if i != 'label']\n",
    "test_dataset = pd.DataFrame(X_test, columns = cols)\n",
    "test_dataset['label'] = y_test\n",
    "test_dataset['predicted_label'] = y_pred\n",
    "test_dataset.head()"
   ]
  },
  {
   "cell_type": "code",
   "execution_count": 161,
   "id": "d352d8bc",
   "metadata": {},
   "outputs": [
    {
     "data": {
      "text/html": [
       "<div>\n",
       "<style scoped>\n",
       "    .dataframe tbody tr th:only-of-type {\n",
       "        vertical-align: middle;\n",
       "    }\n",
       "\n",
       "    .dataframe tbody tr th {\n",
       "        vertical-align: top;\n",
       "    }\n",
       "\n",
       "    .dataframe thead th {\n",
       "        text-align: right;\n",
       "    }\n",
       "</style>\n",
       "<table border=\"1\" class=\"dataframe\">\n",
       "  <thead>\n",
       "    <tr style=\"text-align: right;\">\n",
       "      <th></th>\n",
       "      <th>hemoglobin</th>\n",
       "      <th>ferritin</th>\n",
       "      <th>ret_count</th>\n",
       "      <th>segmented_neutrophils</th>\n",
       "      <th>tibc</th>\n",
       "      <th>mcv</th>\n",
       "      <th>label</th>\n",
       "      <th>predicted_label</th>\n",
       "    </tr>\n",
       "  </thead>\n",
       "  <tbody>\n",
       "    <tr>\n",
       "      <th>1576</th>\n",
       "      <td>5.712431</td>\n",
       "      <td>141.747425</td>\n",
       "      <td>1.999754</td>\n",
       "      <td>0.0</td>\n",
       "      <td>278.420249</td>\n",
       "      <td>92.439027</td>\n",
       "      <td>2</td>\n",
       "      <td>1</td>\n",
       "    </tr>\n",
       "    <tr>\n",
       "      <th>2718</th>\n",
       "      <td>9.204358</td>\n",
       "      <td>0.000000</td>\n",
       "      <td>1.999790</td>\n",
       "      <td>0.0</td>\n",
       "      <td>0.000000</td>\n",
       "      <td>94.933238</td>\n",
       "      <td>2</td>\n",
       "      <td>1</td>\n",
       "    </tr>\n",
       "    <tr>\n",
       "      <th>7350</th>\n",
       "      <td>4.406195</td>\n",
       "      <td>2683.423820</td>\n",
       "      <td>2.180173</td>\n",
       "      <td>0.0</td>\n",
       "      <td>157.875506</td>\n",
       "      <td>79.998863</td>\n",
       "      <td>5</td>\n",
       "      <td>1</td>\n",
       "    </tr>\n",
       "  </tbody>\n",
       "</table>\n",
       "</div>"
      ],
      "text/plain": [
       "      hemoglobin     ferritin  ret_count  segmented_neutrophils        tibc  \\\n",
       "1576    5.712431   141.747425   1.999754                    0.0  278.420249   \n",
       "2718    9.204358     0.000000   1.999790                    0.0    0.000000   \n",
       "7350    4.406195  2683.423820   2.180173                    0.0  157.875506   \n",
       "\n",
       "            mcv  label  predicted_label  \n",
       "1576  92.439027      2                1  \n",
       "2718  94.933238      2                1  \n",
       "7350  79.998863      5                1  "
      ]
     },
     "execution_count": 161,
     "metadata": {},
     "output_type": "execute_result"
    }
   ],
   "source": [
    "misdiagnosed_samples = test_dataset[test_dataset.label != test_dataset.predicted_label]\n",
    "misdiagnosed_samples"
   ]
  },
  {
   "cell_type": "code",
   "execution_count": 164,
   "id": "497129f3",
   "metadata": {},
   "outputs": [
    {
     "data": {
      "text/plain": [
       "array([[5.71243120e+00, 1.41747425e+02, 1.99975383e+00, 0.00000000e+00,\n",
       "        2.78420249e+02, 9.24390269e+01],\n",
       "       [9.20435816e+00, 0.00000000e+00, 1.99978958e+00, 0.00000000e+00,\n",
       "        0.00000000e+00, 9.49332380e+01],\n",
       "       [4.40619532e+00, 2.68342382e+03, 2.18017289e+00, 0.00000000e+00,\n",
       "        1.57875506e+02, 7.99988632e+01]])"
      ]
     },
     "execution_count": 164,
     "metadata": {},
     "output_type": "execute_result"
    }
   ],
   "source": [
    "X_miss = np.array(misdiagnosed_samples.drop(['label', 'predicted_label'], axis=1))\n",
    "y_miss = np.array(misdiagnosed_samples['label'])\n",
    "X_miss"
   ]
  },
  {
   "cell_type": "code",
   "execution_count": 166,
   "id": "4394c234",
   "metadata": {},
   "outputs": [
    {
     "name": "stdout",
     "output_type": "stream",
     "text": [
      "Loading a model without an environment, this model cannot be trained until it has a valid environment.\n"
     ]
    }
   ],
   "source": [
    "from stable_baselines import DQN\n",
    "from envs import SyntheticComplexHbEnv\n",
    "dqn_model = DQN.load('models/synthentic_with_hb_some_nans_stable_dqn2e6.pkl')"
   ]
  },
  {
   "cell_type": "code",
   "execution_count": 168,
   "id": "cc052f85",
   "metadata": {},
   "outputs": [
    {
     "name": "stdout",
     "output_type": "stream",
     "text": [
      "Testing done.....\n"
     ]
    },
    {
     "data": {
      "text/html": [
       "<div>\n",
       "<style scoped>\n",
       "    .dataframe tbody tr th:only-of-type {\n",
       "        vertical-align: middle;\n",
       "    }\n",
       "\n",
       "    .dataframe tbody tr th {\n",
       "        vertical-align: top;\n",
       "    }\n",
       "\n",
       "    .dataframe thead th {\n",
       "        text-align: right;\n",
       "    }\n",
       "</style>\n",
       "<table border=\"1\" class=\"dataframe\">\n",
       "  <thead>\n",
       "    <tr style=\"text-align: right;\">\n",
       "      <th></th>\n",
       "      <th>episode_length</th>\n",
       "      <th>index</th>\n",
       "      <th>is_success</th>\n",
       "      <th>reward</th>\n",
       "      <th>terminated</th>\n",
       "      <th>trajectory</th>\n",
       "      <th>y_actual</th>\n",
       "      <th>y_pred</th>\n",
       "    </tr>\n",
       "  </thead>\n",
       "  <tbody>\n",
       "    <tr>\n",
       "      <th>0</th>\n",
       "      <td>4.0</td>\n",
       "      <td>0.0</td>\n",
       "      <td>1.0</td>\n",
       "      <td>4.0</td>\n",
       "      <td>0.0</td>\n",
       "      <td>[hemoglobin, mcv, ret_count, Aplastic anemia]</td>\n",
       "      <td>2.0</td>\n",
       "      <td>2.0</td>\n",
       "    </tr>\n",
       "    <tr>\n",
       "      <th>1</th>\n",
       "      <td>4.0</td>\n",
       "      <td>1.0</td>\n",
       "      <td>1.0</td>\n",
       "      <td>4.0</td>\n",
       "      <td>0.0</td>\n",
       "      <td>[hemoglobin, mcv, ret_count, Aplastic anemia]</td>\n",
       "      <td>2.0</td>\n",
       "      <td>2.0</td>\n",
       "    </tr>\n",
       "    <tr>\n",
       "      <th>2</th>\n",
       "      <td>4.0</td>\n",
       "      <td>2.0</td>\n",
       "      <td>0.0</td>\n",
       "      <td>2.0</td>\n",
       "      <td>0.0</td>\n",
       "      <td>[hemoglobin, mcv, ret_count, Hemolytic anemia]</td>\n",
       "      <td>5.0</td>\n",
       "      <td>1.0</td>\n",
       "    </tr>\n",
       "  </tbody>\n",
       "</table>\n",
       "</div>"
      ],
      "text/plain": [
       "   episode_length  index  is_success  reward  terminated  \\\n",
       "0             4.0    0.0         1.0     4.0         0.0   \n",
       "1             4.0    1.0         1.0     4.0         0.0   \n",
       "2             4.0    2.0         0.0     2.0         0.0   \n",
       "\n",
       "                                       trajectory  y_actual  y_pred  \n",
       "0   [hemoglobin, mcv, ret_count, Aplastic anemia]       2.0     2.0  \n",
       "1   [hemoglobin, mcv, ret_count, Aplastic anemia]       2.0     2.0  \n",
       "2  [hemoglobin, mcv, ret_count, Hemolytic anemia]       5.0     1.0  "
      ]
     },
     "execution_count": 168,
     "metadata": {},
     "output_type": "execute_result"
    }
   ],
   "source": [
    "def synthetic_dqn_eval(dqn_model):\n",
    "    test_df = pd.DataFrame()\n",
    "\n",
    "    env = SyntheticComplexHbEnv(X_miss, y_miss, random=False)\n",
    "    #env = SyntheticComplexHbEnv(X_train, y_train, random=False)\n",
    "    count=0\n",
    "\n",
    "    try:\n",
    "        while True:\n",
    "            count+=1\n",
    "            if count%5000==0:\n",
    "                print(f'Count: {count}')\n",
    "            obs, done = env.reset(), False\n",
    "            while not done:\n",
    "                action, _states = dqn_model.predict(obs, deterministic=True)\n",
    "                obs, rew, done,info = env.step(action)\n",
    "                #if (done==True) & (np.isfinite(info['y_pred'])):\n",
    "                if done == True:\n",
    "                    test_df = test_df.append(info, ignore_index=True)\n",
    "                #print('....................TEST DF ....................')\n",
    "                #if len(test_df) != 0:\n",
    "                #    print(test_df.head())\n",
    "\n",
    "    except StopIteration:\n",
    "        print('Testing done.....')\n",
    "    return test_df\n",
    "\n",
    "test_df = synthetic_dqn_eval(dqn_model)\n",
    "test_df.head()"
   ]
  },
  {
   "cell_type": "markdown",
   "id": "32082a8d",
   "metadata": {},
   "source": [
    "#### end here"
   ]
  },
  {
   "cell_type": "code",
   "execution_count": 155,
   "id": "3b920251",
   "metadata": {},
   "outputs": [],
   "source": [
    "# dot_data = export_graphviz(dt, out_file='images/complex_dt.dot', \n",
    "#                            feature_names = list(X_train.columns),  \n",
    "#                            class_names = list(class_dict.keys()),\n",
    "#                            filled=True)\n",
    "#Convert to image using dot -Tpng images/dt.dot -o images/dt.png \n",
    "#Make sure to have graphviz installed (windows executable file lie normal software)"
   ]
  },
  {
   "cell_type": "markdown",
   "id": "b245a30c",
   "metadata": {},
   "source": [
    "#### Random Forest Classifier"
   ]
  },
  {
   "cell_type": "code",
   "execution_count": 95,
   "id": "1ff2796b",
   "metadata": {},
   "outputs": [
    {
     "name": "stdout",
     "output_type": "stream",
     "text": [
      "Roc auc dict: {0: 1.0, 1: 0.9998624673359924, 2: 0.999647266313933, 3: 1.0, 4: 1.0, 5: 1.0}\n",
      "Accuracy - 0.9998263135041251, F1 Score Macro: 0.9999019284314451, ROC AUC Score: 0.9999182889416542, ROC AUC 2: 0.9999182889416542\n",
      "Unique predicted classes: [0 1 2 3 4 5]\n"
     ]
    }
   ],
   "source": [
    "from sklearn.ensemble import RandomForestClassifier\n",
    "rf = RandomForestClassifier(random_state=42).fit(X_train, y_train)\n",
    "acc, f1, cr, cm, roc_auc, roc_auc2, y_pred  = test(rf, X_test, y_test) \n",
    "print(f'Accuracy - {acc}, F1 Score Macro: {f1}, ROC AUC Score: {roc_auc}, ROC AUC 2: {roc_auc2}')\n",
    "print(f'Unique predicted classes: {np.unique(y_pred)}')"
   ]
  },
  {
   "cell_type": "markdown",
   "id": "df091f3f",
   "metadata": {},
   "source": [
    "#### XGBoost"
   ]
  },
  {
   "cell_type": "code",
   "execution_count": 13,
   "id": "033bdc3d",
   "metadata": {},
   "outputs": [],
   "source": [
    "def numerize_labels(pd_series):\n",
    "    series_copy = pd_series.copy()\n",
    "    series_copy = series_copy.map(class_dict)\n",
    "    return series_copy"
   ]
  },
  {
   "cell_type": "code",
   "execution_count": 14,
   "id": "06e8212f",
   "metadata": {},
   "outputs": [],
   "source": [
    "# y_train_xgb = numerize_labels(y_train)\n",
    "# y_test_xgb = numerize_labels(y_test)"
   ]
  },
  {
   "cell_type": "code",
   "execution_count": 96,
   "id": "df6b5375",
   "metadata": {},
   "outputs": [
    {
     "name": "stdout",
     "output_type": "stream",
     "text": [
      "Roc auc dict: {0: 0.9999412800939518, 1: 0.9998624673359924, 2: 0.9994708994708994, 3: 1.0, 4: 1.0, 5: 1.0}\n",
      "Accuracy - 0.9997394702561876, F1 Score Macro: 0.9998447348702512, ROC AUC Score: 0.9998791078168073, ROC AUC 2: 0.9998791078168073\n",
      "Unique predicted classes: [0 1 2 3 4 5]\n"
     ]
    }
   ],
   "source": [
    "import xgboost as xgb\n",
    "xg = xgb.XGBClassifier(random_state=42).fit(X_train, y_train)\n",
    "acc, f1, cr, cm, roc_auc, roc_auc2, y_pred = test(xg, X_test, y_test) \n",
    "print(f'Accuracy - {acc}, F1 Score Macro: {f1}, ROC AUC Score: {roc_auc}, ROC AUC 2: {roc_auc2}')\n",
    "print(f'Unique predicted classes: {np.unique(y_pred)}')"
   ]
  },
  {
   "cell_type": "markdown",
   "id": "5a5a378d",
   "metadata": {},
   "source": [
    "#### Testing Rf and data with random zeros"
   ]
  },
  {
   "cell_type": "code",
   "execution_count": 16,
   "id": "ed1731c3",
   "metadata": {},
   "outputs": [],
   "source": [
    "# #data with random zeros\n",
    "# X_train = np.loadtxt('data/zeros/X_train.txt', dtype=np.float32)\n",
    "# #X_val = np.loadtxt('data/zeros/X_val.txt', dtype=np.float32)\n",
    "# X_test = np.loadtxt('data/zeros/X_test.txt', dtype=np.float32)\n",
    "\n",
    "# y_train = np.loadtxt('data/zeros/y_train.txt', dtype=int)\n",
    "# #y_val = np.loadtxt('data/zeros/y_val.txt', dtype=int)\n",
    "# y_test = np.loadtxt('data/zeros/y_test.txt', dtype=int)"
   ]
  },
  {
   "cell_type": "code",
   "execution_count": 17,
   "id": "8f326d08",
   "metadata": {},
   "outputs": [],
   "source": [
    "# from sklearn.ensemble import RandomForestClassifier\n",
    "# rf = RandomForestClassifier(random_state=42).fit(X_train, y_train)\n",
    "# acc, f1, cr, cm, roc_auc, roc_auc2, y_pred  = test(rf, X_test, y_test) \n",
    "# print(f'Accuracy - {acc}, F1 Score Macro: {f1}, ROC AUC Score: {roc_auc}, ROC AUC 2: {roc_auc2}')\n",
    "# print(f'Unique predicted classes: {np.unique(y_pred)}')"
   ]
  },
  {
   "cell_type": "code",
   "execution_count": null,
   "id": "de7514d2",
   "metadata": {},
   "outputs": [],
   "source": []
  }
 ],
 "metadata": {
  "kernelspec": {
   "display_name": "Python 3 (ipykernel)",
   "language": "python",
   "name": "python3"
  },
  "language_info": {
   "codemirror_mode": {
    "name": "ipython",
    "version": 3
   },
   "file_extension": ".py",
   "mimetype": "text/x-python",
   "name": "python",
   "nbconvert_exporter": "python",
   "pygments_lexer": "ipython3",
   "version": "3.8.10"
  }
 },
 "nbformat": 4,
 "nbformat_minor": 5
}

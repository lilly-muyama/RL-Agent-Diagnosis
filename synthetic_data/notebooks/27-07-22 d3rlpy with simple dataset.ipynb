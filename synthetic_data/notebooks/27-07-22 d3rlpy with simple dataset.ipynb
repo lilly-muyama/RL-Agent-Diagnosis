{
 "cells": [
  {
   "cell_type": "code",
   "execution_count": 3,
   "id": "cb4aa4dc",
   "metadata": {},
   "outputs": [
    {
     "ename": "ModuleNotFoundError",
     "evalue": "No module named 'd3rlpy'",
     "output_type": "error",
     "traceback": [
      "\u001b[1;31m---------------------------------------------------------------------------\u001b[0m",
      "\u001b[1;31mModuleNotFoundError\u001b[0m                       Traceback (most recent call last)",
      "\u001b[1;32m~\\AppData\\Local\\Temp\\ipykernel_12060\\1176810071.py\u001b[0m in \u001b[0;36m<module>\u001b[1;34m\u001b[0m\n\u001b[0;32m      9\u001b[0m \u001b[1;32mfrom\u001b[0m \u001b[0mgym\u001b[0m \u001b[1;32mimport\u001b[0m \u001b[0mEnv\u001b[0m\u001b[1;33m\u001b[0m\u001b[1;33m\u001b[0m\u001b[0m\n\u001b[0;32m     10\u001b[0m \u001b[1;32mfrom\u001b[0m \u001b[0mgym\u001b[0m\u001b[1;33m.\u001b[0m\u001b[0mspaces\u001b[0m \u001b[1;32mimport\u001b[0m \u001b[0mDiscrete\u001b[0m\u001b[1;33m,\u001b[0m \u001b[0mBox\u001b[0m\u001b[1;33m\u001b[0m\u001b[1;33m\u001b[0m\u001b[0m\n\u001b[1;32m---> 11\u001b[1;33m \u001b[1;32mimport\u001b[0m \u001b[0md3rlpy\u001b[0m\u001b[1;33m\u001b[0m\u001b[1;33m\u001b[0m\u001b[0m\n\u001b[0m\u001b[0;32m     12\u001b[0m \u001b[1;32mfrom\u001b[0m \u001b[0md3rlpy\u001b[0m\u001b[1;33m.\u001b[0m\u001b[0malgos\u001b[0m \u001b[1;32mimport\u001b[0m \u001b[0mDQN\u001b[0m\u001b[1;33m\u001b[0m\u001b[1;33m\u001b[0m\u001b[0m\n\u001b[0;32m     13\u001b[0m \u001b[1;32mfrom\u001b[0m \u001b[0md3rlpy\u001b[0m\u001b[1;33m.\u001b[0m\u001b[0mdataset\u001b[0m \u001b[1;32mimport\u001b[0m \u001b[0mMDPDataset\u001b[0m\u001b[1;33m\u001b[0m\u001b[1;33m\u001b[0m\u001b[0m\n",
      "\u001b[1;31mModuleNotFoundError\u001b[0m: No module named 'd3rlpy'"
     ]
    }
   ],
   "source": [
    "import pandas as pd\n",
    "import numpy as np\n",
    "import random\n",
    "import os\n",
    "import tensorflow\n",
    "from sklearn.preprocessing import MinMaxScaler\n",
    "from sklearn.model_selection import train_test_split\n",
    "import copy\n",
    "from gym import Env\n",
    "from gym.spaces import Discrete, Box\n",
    "import d3rlpy\n",
    "from d3rlpy.algos import DQN\n",
    "from d3rlpy.dataset import MDPDataset\n",
    "from d3rlpy.online.buffers import ReplayBuffer\n",
    "from d3rlpy.online.explorers import LinearDecayEpsilonGreedy\n",
    "from envs import SyntheticSimpleEnv, SyntheticComplexEnv\n",
    "import helper"
   ]
  },
  {
   "cell_type": "code",
   "execution_count": 2,
   "id": "6283d0d1",
   "metadata": {},
   "outputs": [],
   "source": [
    "SEED = 42\n",
    "random.seed(SEED)\n",
    "np.random.seed(SEED)\n",
    "tensorflow.set_random_seed(SEED)\n",
    "os.environ['PYTHONHASHSEED']=str(SEED)"
   ]
  },
  {
   "cell_type": "markdown",
   "id": "aa1fc1c8",
   "metadata": {},
   "source": [
    "#### Original datasets"
   ]
  },
  {
   "cell_type": "code",
   "execution_count": 3,
   "id": "8c69e327",
   "metadata": {},
   "outputs": [],
   "source": [
    "file_simple = 'data/dataset_10000.csv'\n",
    "class_dict_simple = {'A':0, 'B':1, 'C':2}\n",
    "X_train, X_test, y_train, y_test = helper.split_dataset(file_simple, class_dict_simple)"
   ]
  },
  {
   "cell_type": "markdown",
   "id": "6ae35afb",
   "metadata": {},
   "source": [
    "#### Online Training"
   ]
  },
  {
   "cell_type": "code",
   "execution_count": 4,
   "id": "81e98c59",
   "metadata": {},
   "outputs": [],
   "source": [
    "simple_online_train_env = SyntheticSimpleEnv(X_train, y_train)\n",
    "simple_online_test_env = SyntheticSimpleEnv(X_test, y_test, random=False)"
   ]
  },
  {
   "cell_type": "code",
   "execution_count": 5,
   "id": "bccff03f",
   "metadata": {},
   "outputs": [],
   "source": [
    "online_dqn = DQN(batch_size=32, learning_rate=2.5e-4, target_update_interval=100, use_gpu=False)\n",
    "buffer = ReplayBuffer(maxlen=50000, env=simple_online_train_env)\n",
    "explorer = LinearDecayEpsilonGreedy(start_epsilon=1.0, end_epsilon=0.1, duration=10000)"
   ]
  },
  {
   "cell_type": "code",
   "execution_count": 6,
   "id": "cbd40b67",
   "metadata": {},
   "outputs": [
    {
     "name": "stdout",
     "output_type": "stream",
     "text": [
      "2022-07-29 20:36.54 [info     ] Directory is created at d3rlpy_logs\\DQN_online_20220729203654\n",
      "2022-07-29 20:36.54 [debug    ] Building model...\n",
      "2022-07-29 20:36.54 [debug    ] Model has been built.\n",
      "2022-07-29 20:36.54 [info     ] Parameters are saved to d3rlpy_logs\\DQN_online_20220729203654\\params.json params={'action_scaler': None, 'batch_size': 32, 'encoder_factory': {'type': 'default', 'params': {'activation': 'relu', 'use_batch_norm': False, 'dropout_rate': None}}, 'gamma': 0.99, 'generated_maxlen': 100000, 'learning_rate': 0.00025, 'n_critics': 1, 'n_frames': 1, 'n_steps': 1, 'optim_factory': {'optim_cls': 'Adam', 'betas': (0.9, 0.999), 'eps': 1e-08, 'weight_decay': 0, 'amsgrad': False}, 'q_func_factory': {'type': 'mean', 'params': {'share_encoder': False}}, 'real_ratio': 1.0, 'reward_scaler': None, 'scaler': None, 'target_update_interval': 100, 'use_gpu': None, 'algorithm': 'DQN', 'observation_shape': (3,), 'action_size': 6}\n"
     ]
    },
    {
     "data": {
      "application/vnd.jupyter.widget-view+json": {
       "model_id": "15c7543537ef4f92824f76ed91f0df1d",
       "version_major": 2,
       "version_minor": 0
      },
      "text/plain": [
       "  0%|          | 0/120000 [00:00<?, ?it/s]"
      ]
     },
     "metadata": {},
     "output_type": "display_data"
    },
    {
     "name": "stdout",
     "output_type": "stream",
     "text": [
      "2022-07-29 20:36.56 [info     ] Model parameters are saved to d3rlpy_logs\\DQN_online_20220729203654\\model_1000.pt\n",
      "2022-07-29 20:36.56 [info     ] DQN_online_20220729203654: epoch=1 step=1000 epoch=1 metrics={'time_inference': 0.0010172193050384522, 'time_environment_step': 3.274679183959961e-05, 'time_step': 0.001764174222946167, 'rollout_return': 0.26105263157894737, 'time_sample_batch': 0.00021169849277771625, 'time_algorithm_update': 0.006254965497046402, 'loss': 0.8539277963417092, 'evaluation': -0.4} step=1000\n",
      "2022-07-29 20:36.58 [info     ] Model parameters are saved to d3rlpy_logs\\DQN_online_20220729203654\\model_2000.pt\n",
      "2022-07-29 20:36.58 [info     ] DQN_online_20220729203654: epoch=2 step=2000 epoch=2 metrics={'time_inference': 0.0013331966400146485, 'time_environment_step': 2.53603458404541e-05, 'rollout_return': 0.2345132743362832, 'time_step': 0.002310093402862549, 'time_sample_batch': 0.0002476668357849121, 'time_algorithm_update': 0.008156418800354004, 'loss': 0.6523407554626465, 'evaluation': 2.0} step=2000\n",
      "2022-07-29 20:37.00 [info     ] Model parameters are saved to d3rlpy_logs\\DQN_online_20220729203654\\model_3000.pt\n",
      "2022-07-29 20:37.00 [info     ] DQN_online_20220729203654: epoch=3 step=3000 epoch=3 metrics={'time_inference': 0.0012552127838134765, 'time_environment_step': 3.3443689346313476e-05, 'rollout_return': 0.4151898734177215, 'time_step': 0.002114314317703247, 'time_sample_batch': 0.00019594430923461915, 'time_algorithm_update': 0.007090129852294922, 'loss': 0.5853267124295235, 'evaluation': 0.6} step=3000\n",
      "2022-07-29 20:37.03 [info     ] Model parameters are saved to d3rlpy_logs\\DQN_online_20220729203654\\model_4000.pt\n",
      "2022-07-29 20:37.03 [info     ] DQN_online_20220729203654: epoch=4 step=4000 epoch=4 metrics={'time_inference': 0.001177626609802246, 'time_environment_step': 3.413701057434082e-05, 'rollout_return': 0.3963730569948187, 'time_step': 0.002101632833480835, 'time_sample_batch': 0.00029815673828125, 'time_algorithm_update': 0.007412135601043701, 'loss': 0.7056140181422234, 'evaluation': 1.2} step=4000\n",
      "2022-07-29 20:37.04 [info     ] Model parameters are saved to d3rlpy_logs\\DQN_online_20220729203654\\model_5000.pt\n",
      "2022-07-29 20:37.04 [info     ] DQN_online_20220729203654: epoch=5 step=5000 epoch=5 metrics={'time_inference': 0.001036959171295166, 'time_environment_step': 2.7875423431396486e-05, 'time_step': 0.0017858867645263671, 'rollout_return': 0.31896551724137934, 'time_sample_batch': 0.00021390438079833983, 'time_algorithm_update': 0.006331727504730224, 'loss': 0.906822780072689, 'evaluation': -5.0} step=5000\n",
      "2022-07-29 20:37.07 [info     ] Model parameters are saved to d3rlpy_logs\\DQN_online_20220729203654\\model_6000.pt\n",
      "2022-07-29 20:37.07 [info     ] DQN_online_20220729203654: epoch=6 step=6000 epoch=6 metrics={'time_inference': 0.0011392366886138917, 'time_environment_step': 3.178286552429199e-05, 'time_step': 0.002004138469696045, 'rollout_return': 0.4036697247706422, 'time_sample_batch': 0.0002250075340270996, 'time_algorithm_update': 0.007241008281707764, 'loss': 0.6529909238219261, 'evaluation': -0.3} step=6000\n",
      "2022-07-29 20:37.08 [info     ] Model parameters are saved to d3rlpy_logs\\DQN_online_20220729203654\\model_7000.pt\n",
      "2022-07-29 20:37.08 [info     ] DQN_online_20220729203654: epoch=7 step=7000 epoch=7 metrics={'time_inference': 0.0009080548286437988, 'time_environment_step': 1.935553550720215e-05, 'time_step': 0.00157639217376709, 'rollout_return': 0.6923076923076923, 'time_sample_batch': 0.00017680644989013673, 'time_algorithm_update': 0.0056552600860595706, 'loss': 0.5276720407605171, 'evaluation': 2.2} step=7000\n",
      "2022-07-29 20:37.10 [info     ] Model parameters are saved to d3rlpy_logs\\DQN_online_20220729203654\\model_8000.pt\n",
      "2022-07-29 20:37.10 [info     ] DQN_online_20220729203654: epoch=8 step=8000 epoch=8 metrics={'time_inference': 0.0011229898929595947, 'time_environment_step': 3.3962726593017575e-05, 'rollout_return': 0.9403973509933775, 'time_step': 0.002002023935317993, 'time_sample_batch': 0.00022971630096435547, 'time_algorithm_update': 0.007327351570129394, 'loss': 0.45555826514959336, 'evaluation': 0.6} step=8000\n",
      "2022-07-29 20:37.12 [info     ] Model parameters are saved to d3rlpy_logs\\DQN_online_20220729203654\\model_9000.pt\n",
      "2022-07-29 20:37.12 [info     ] DQN_online_20220729203654: epoch=9 step=9000 epoch=9 metrics={'time_inference': 0.0009589598178863525, 'time_environment_step': 2.4438858032226564e-05, 'time_step': 0.0017110583782196044, 'rollout_return': 1.184782608695652, 'time_sample_batch': 0.00016171932220458983, 'time_algorithm_update': 0.006284260749816894, 'loss': 0.36520425856113437, 'evaluation': 1.1} step=9000\n",
      "2022-07-29 20:37.14 [info     ] Model parameters are saved to d3rlpy_logs\\DQN_online_20220729203654\\model_10000.pt\n",
      "2022-07-29 20:37.14 [info     ] DQN_online_20220729203654: epoch=10 step=10000 epoch=10 metrics={'time_inference': 0.001125558614730835, 'time_environment_step': 2.4924755096435547e-05, 'time_step': 0.002037465810775757, 'rollout_return': 1.3571428571428572, 'time_sample_batch': 0.00026548147201538086, 'time_algorithm_update': 0.007696824073791504, 'loss': 0.33213330671191216, 'evaluation': 2.0} step=10000\n",
      "2022-07-29 20:37.16 [info     ] Model parameters are saved to d3rlpy_logs\\DQN_online_20220729203654\\model_11000.pt\n",
      "2022-07-29 20:37.16 [info     ] DQN_online_20220729203654: epoch=11 step=11000 epoch=11 metrics={'time_inference': 0.0010033450126647949, 'time_environment_step': 2.856898307800293e-05, 'time_step': 0.0018042328357696534, 'rollout_return': 1.8152610441767068, 'time_sample_batch': 0.00014551162719726564, 'time_algorithm_update': 0.006578452587127685, 'loss': 0.287712944149971, 'evaluation': 2.3} step=11000\n",
      "2022-07-29 20:37.18 [info     ] Model parameters are saved to d3rlpy_logs\\DQN_online_20220729203654\\model_12000.pt\n",
      "2022-07-29 20:37.18 [info     ] DQN_online_20220729203654: epoch=12 step=12000 epoch=12 metrics={'time_inference': 0.0010985090732574462, 'time_environment_step': 2.700495719909668e-05, 'time_step': 0.0019452877044677734, 'rollout_return': 1.6923076923076923, 'time_sample_batch': 0.00023926496505737304, 'time_algorithm_update': 0.0071488690376281736, 'loss': 0.321512974947691, 'evaluation': 2.3} step=12000\n",
      "2022-07-29 20:37.20 [info     ] Model parameters are saved to d3rlpy_logs\\DQN_online_20220729203654\\model_13000.pt\n",
      "2022-07-29 20:37.20 [info     ] DQN_online_20220729203654: epoch=13 step=13000 epoch=13 metrics={'time_inference': 0.001063918113708496, 'time_environment_step': 2.7602672576904297e-05, 'time_step': 0.0018896706104278565, 'rollout_return': 1.8416666666666666, 'time_sample_batch': 0.00021586418151855468, 'time_algorithm_update': 0.006902446746826172, 'loss': 0.40347114220261576, 'evaluation': 0.3} step=13000\n",
      "2022-07-29 20:37.22 [info     ] Model parameters are saved to d3rlpy_logs\\DQN_online_20220729203654\\model_14000.pt\n",
      "2022-07-29 20:37.22 [info     ] DQN_online_20220729203654: epoch=14 step=14000 epoch=14 metrics={'time_inference': 0.001020925998687744, 'time_environment_step': 3.7237882614135745e-05, 'time_step': 0.0018676106929779053, 'rollout_return': 1.6952789699570816, 'time_sample_batch': 0.00020568370819091798, 'time_algorithm_update': 0.006952996253967285, 'loss': 0.37761874198913575, 'evaluation': 0.2} step=14000\n",
      "2022-07-29 20:37.24 [info     ] Model parameters are saved to d3rlpy_logs\\DQN_online_20220729203654\\model_15000.pt\n",
      "2022-07-29 20:37.24 [info     ] DQN_online_20220729203654: epoch=15 step=15000 epoch=15 metrics={'time_inference': 0.0011369709968566894, 'time_environment_step': 3.0089139938354493e-05, 'time_step': 0.0020339977741241455, 'rollout_return': 1.9688715953307394, 'time_sample_batch': 0.0001965618133544922, 'time_algorithm_update': 0.007531538009643555, 'loss': 0.30242673769593237, 'evaluation': 2.8} step=15000\n",
      "2022-07-29 20:37.26 [info     ] Model parameters are saved to d3rlpy_logs\\DQN_online_20220729203654\\model_16000.pt\n",
      "2022-07-29 20:37.26 [info     ] DQN_online_20220729203654: epoch=16 step=16000 epoch=16 metrics={'time_inference': 0.000976644515991211, 'time_environment_step': 1.9439935684204103e-05, 'rollout_return': 2.318007662835249, 'time_step': 0.0017337088584899903, 'time_sample_batch': 0.00023246049880981445, 'time_algorithm_update': 0.00631235122680664, 'loss': 0.25623016625642775, 'evaluation': 3.4} step=16000\n"
     ]
    },
    {
     "name": "stdout",
     "output_type": "stream",
     "text": [
      "2022-07-29 20:37.29 [info     ] Model parameters are saved to d3rlpy_logs\\DQN_online_20220729203654\\model_17000.pt\n",
      "2022-07-29 20:37.29 [info     ] DQN_online_20220729203654: epoch=17 step=17000 epoch=17 metrics={'time_inference': 0.0012085368633270263, 'time_environment_step': 3.552365303039551e-05, 'time_step': 0.0021881020069122316, 'rollout_return': 2.1653846153846152, 'time_sample_batch': 0.0002582907676696777, 'time_algorithm_update': 0.008096771240234375, 'loss': 0.2911991833150387, 'evaluation': 3.7} step=17000\n",
      "2022-07-29 20:37.30 [info     ] Model parameters are saved to d3rlpy_logs\\DQN_online_20220729203654\\model_18000.pt\n",
      "2022-07-29 20:37.30 [info     ] DQN_online_20220729203654: epoch=18 step=18000 epoch=18 metrics={'time_inference': 0.0008996052742004394, 'time_environment_step': 2.9068708419799805e-05, 'time_step': 0.0016700036525726318, 'rollout_return': 2.457692307692308, 'time_sample_batch': 0.0002337837219238281, 'time_algorithm_update': 0.006192667484283447, 'loss': 0.24684048280119897, 'evaluation': 1.9} step=18000\n",
      "2022-07-29 20:37.33 [info     ] Model parameters are saved to d3rlpy_logs\\DQN_online_20220729203654\\model_19000.pt\n",
      "2022-07-29 20:37.33 [info     ] DQN_online_20220729203654: epoch=19 step=19000 epoch=19 metrics={'time_inference': 0.0012195448875427246, 'time_environment_step': 3.811979293823242e-05, 'time_step': 0.002227362394332886, 'rollout_return': 2.3976833976833976, 'time_sample_batch': 0.00029050111770629884, 'time_algorithm_update': 0.008252685070037841, 'loss': 0.26650219738483427, 'evaluation': 2.6} step=19000\n",
      "2022-07-29 20:37.35 [info     ] Model parameters are saved to d3rlpy_logs\\DQN_online_20220729203654\\model_20000.pt\n",
      "2022-07-29 20:37.35 [info     ] DQN_online_20220729203654: epoch=20 step=20000 epoch=20 metrics={'time_inference': 0.0009403231143951417, 'time_environment_step': 2.474379539489746e-05, 'time_step': 0.001723419189453125, 'rollout_return': 2.156716417910448, 'time_sample_batch': 0.00022570848464965822, 'time_algorithm_update': 0.006395759582519531, 'loss': 0.2646092984825373, 'evaluation': 2.9} step=20000\n",
      "2022-07-29 20:37.37 [info     ] Model parameters are saved to d3rlpy_logs\\DQN_online_20220729203654\\model_21000.pt\n",
      "2022-07-29 20:37.37 [info     ] DQN_online_20220729203654: epoch=21 step=21000 epoch=21 metrics={'time_inference': 0.0011810953617095946, 'time_environment_step': 2.2594451904296875e-05, 'time_step': 0.002113816738128662, 'rollout_return': 2.1067193675889326, 'time_sample_batch': 0.00028153181076049803, 'time_algorithm_update': 0.007797729969024658, 'loss': 0.27237998008728026, 'evaluation': 1.4} step=21000\n",
      "2022-07-29 20:37.39 [info     ] Model parameters are saved to d3rlpy_logs\\DQN_online_20220729203654\\model_22000.pt\n",
      "2022-07-29 20:37.39 [info     ] DQN_online_20220729203654: epoch=22 step=22000 epoch=22 metrics={'time_inference': 0.001035331964492798, 'time_environment_step': 3.054571151733398e-05, 'time_step': 0.0018470911979675292, 'rollout_return': 2.548262548262548, 'time_sample_batch': 0.00021193742752075194, 'time_algorithm_update': 0.006836183071136474, 'loss': 0.258819599673152, 'evaluation': 2.9} step=22000\n",
      "2022-07-29 20:37.41 [info     ] Model parameters are saved to d3rlpy_logs\\DQN_online_20220729203654\\model_23000.pt\n",
      "2022-07-29 20:37.41 [info     ] DQN_online_20220729203654: epoch=23 step=23000 epoch=23 metrics={'time_inference': 0.0011315538883209229, 'time_environment_step': 2.484893798828125e-05, 'time_step': 0.0020408689975738525, 'rollout_return': 2.637065637065637, 'time_sample_batch': 0.0001973295211791992, 'time_algorithm_update': 0.0077536702156066895, 'loss': 0.24983570843935013, 'evaluation': 3.1} step=23000\n",
      "2022-07-29 20:37.43 [info     ] Model parameters are saved to d3rlpy_logs\\DQN_online_20220729203654\\model_24000.pt\n",
      "2022-07-29 20:37.43 [info     ] DQN_online_20220729203654: epoch=24 step=24000 epoch=24 metrics={'time_inference': 0.0010316216945648194, 'time_environment_step': 3.575277328491211e-05, 'time_step': 0.0018909785747528076, 'rollout_return': 2.4944237918215615, 'time_sample_batch': 0.00022553443908691407, 'time_algorithm_update': 0.007098309993743897, 'loss': 0.224157342761755, 'evaluation': 2.3} step=24000\n",
      "2022-07-29 20:37.45 [info     ] Model parameters are saved to d3rlpy_logs\\DQN_online_20220729203654\\model_25000.pt\n",
      "2022-07-29 20:37.45 [info     ] DQN_online_20220729203654: epoch=25 step=25000 epoch=25 metrics={'time_inference': 0.0010754010677337647, 'time_environment_step': 2.6673078536987305e-05, 'time_step': 0.0019388580322265625, 'rollout_return': 2.7480916030534353, 'time_sample_batch': 0.00025533437728881837, 'time_algorithm_update': 0.007290346622467041, 'loss': 0.20872631438076497, 'evaluation': 3.6} step=25000\n",
      "2022-07-29 20:37.47 [info     ] Model parameters are saved to d3rlpy_logs\\DQN_online_20220729203654\\model_26000.pt\n",
      "2022-07-29 20:37.47 [info     ] DQN_online_20220729203654: epoch=26 step=26000 epoch=26 metrics={'time_inference': 0.0011425483226776122, 'time_environment_step': 3.060078620910644e-05, 'time_step': 0.0020156199932098388, 'rollout_return': 2.6254826254826256, 'time_sample_batch': 0.00028278589248657225, 'time_algorithm_update': 0.007402231693267822, 'loss': 0.21655951023101808, 'evaluation': 3.5} step=26000\n",
      "2022-07-29 20:37.49 [info     ] Model parameters are saved to d3rlpy_logs\\DQN_online_20220729203654\\model_27000.pt\n",
      "2022-07-29 20:37.49 [info     ] DQN_online_20220729203654: epoch=27 step=27000 epoch=27 metrics={'time_inference': 0.0009718341827392578, 'time_environment_step': 3.655815124511719e-05, 'time_step': 0.0018122851848602294, 'rollout_return': 2.772727272727273, 'time_sample_batch': 0.00023615121841430664, 'time_algorithm_update': 0.006760728359222412, 'loss': 0.21781422279775142, 'evaluation': 3.3} step=27000\n",
      "2022-07-29 20:37.51 [info     ] Model parameters are saved to d3rlpy_logs\\DQN_online_20220729203654\\model_28000.pt\n",
      "2022-07-29 20:37.51 [info     ] DQN_online_20220729203654: epoch=28 step=28000 epoch=28 metrics={'time_inference': 0.001168372631072998, 'time_environment_step': 3.6380529403686525e-05, 'time_step': 0.0021012258529663087, 'rollout_return': 2.6791044776119404, 'time_sample_batch': 0.00030698537826538084, 'time_algorithm_update': 0.00767601490020752, 'loss': 0.2109539470076561, 'evaluation': 3.6} step=28000\n",
      "2022-07-29 20:37.53 [info     ] Model parameters are saved to d3rlpy_logs\\DQN_online_20220729203654\\model_29000.pt\n",
      "2022-07-29 20:37.53 [info     ] DQN_online_20220729203654: epoch=29 step=29000 epoch=29 metrics={'time_inference': 0.0009489455223083496, 'time_environment_step': 3.0497550964355468e-05, 'time_step': 0.0016900126934051513, 'rollout_return': 2.7662835249042144, 'time_sample_batch': 0.00017785310745239258, 'time_algorithm_update': 0.006284942626953125, 'loss': 0.29357428193092344, 'evaluation': 3.0} step=29000\n",
      "2022-07-29 20:37.55 [info     ] Model parameters are saved to d3rlpy_logs\\DQN_online_20220729203654\\model_30000.pt\n",
      "2022-07-29 20:37.55 [info     ] DQN_online_20220729203654: epoch=30 step=30000 epoch=30 metrics={'time_inference': 0.0012264471054077148, 'time_environment_step': 3.967618942260742e-05, 'time_step': 0.002226792812347412, 'rollout_return': 2.618320610687023, 'time_sample_batch': 0.00031343221664428714, 'time_algorithm_update': 0.008205461502075195, 'loss': 0.24227143689990044, 'evaluation': 2.8} step=30000\n",
      "2022-07-29 20:37.57 [info     ] Model parameters are saved to d3rlpy_logs\\DQN_online_20220729203654\\model_31000.pt\n",
      "2022-07-29 20:37.57 [info     ] DQN_online_20220729203654: epoch=31 step=31000 epoch=31 metrics={'time_inference': 0.0009447269439697266, 'time_environment_step': 2.859330177307129e-05, 'time_step': 0.0016873924732208252, 'rollout_return': 2.8470149253731343, 'time_sample_batch': 0.00013336181640625, 'time_algorithm_update': 0.006252987384796143, 'loss': 0.19876513682305813, 'evaluation': 3.6} step=31000\n",
      "2022-07-29 20:37.59 [info     ] Model parameters are saved to d3rlpy_logs\\DQN_online_20220729203654\\model_32000.pt\n",
      "2022-07-29 20:37.59 [info     ] DQN_online_20220729203654: epoch=32 step=32000 epoch=32 metrics={'time_inference': 0.0012166645526885986, 'time_environment_step': 3.0181884765625e-05, 'time_step': 0.0021867709159851074, 'rollout_return': 2.7761194029850746, 'time_sample_batch': 0.0002021503448486328, 'time_algorithm_update': 0.008251690864562988, 'loss': 0.18734880961477757, 'evaluation': 2.7} step=32000\n"
     ]
    },
    {
     "name": "stdout",
     "output_type": "stream",
     "text": [
      "2022-07-29 20:38.01 [info     ] Model parameters are saved to d3rlpy_logs\\DQN_online_20220729203654\\model_33000.pt\n",
      "2022-07-29 20:38.01 [info     ] DQN_online_20220729203654: epoch=33 step=33000 epoch=33 metrics={'time_inference': 0.0009734985828399658, 'time_environment_step': 3.065776824951172e-05, 'time_step': 0.0017981698513031006, 'rollout_return': 2.8534798534798536, 'time_sample_batch': 0.00019713878631591797, 'time_algorithm_update': 0.006828250885009765, 'loss': 0.19443919122219086, 'evaluation': 2.7} step=33000\n",
      "2022-07-29 20:38.04 [info     ] Model parameters are saved to d3rlpy_logs\\DQN_online_20220729203654\\model_34000.pt\n",
      "2022-07-29 20:38.04 [info     ] DQN_online_20220729203654: epoch=34 step=34000 epoch=34 metrics={'time_inference': 0.0011284751892089843, 'time_environment_step': 3.16925048828125e-05, 'time_step': 0.0020751471519470216, 'rollout_return': 2.6867924528301885, 'time_sample_batch': 0.00027476787567138673, 'time_algorithm_update': 0.007766733169555664, 'loss': 0.2196843173354864, 'evaluation': 3.2} step=34000\n",
      "2022-07-29 20:38.06 [info     ] Model parameters are saved to d3rlpy_logs\\DQN_online_20220729203654\\model_35000.pt\n",
      "2022-07-29 20:38.06 [info     ] DQN_online_20220729203654: epoch=35 step=35000 epoch=35 metrics={'time_inference': 0.0010133678913116454, 'time_environment_step': 2.8329133987426757e-05, 'time_step': 0.0018676605224609375, 'rollout_return': 2.7545126353790614, 'time_sample_batch': 0.0002100348472595215, 'time_algorithm_update': 0.006921532154083252, 'loss': 0.19663373269140721, 'evaluation': 4.0} step=35000\n",
      "2022-07-29 20:38.08 [info     ] Model parameters are saved to d3rlpy_logs\\DQN_online_20220729203654\\model_36000.pt\n",
      "2022-07-29 20:38.08 [info     ] DQN_online_20220729203654: epoch=36 step=36000 epoch=36 metrics={'time_inference': 0.0011208028793334962, 'time_environment_step': 2.6136398315429686e-05, 'time_step': 0.001987006664276123, 'rollout_return': 3.058139534883721, 'time_sample_batch': 0.00023313283920288087, 'time_algorithm_update': 0.007471799850463867, 'loss': 0.18220626667141915, 'evaluation': 2.7} step=36000\n",
      "2022-07-29 20:38.10 [info     ] Model parameters are saved to d3rlpy_logs\\DQN_online_20220729203654\\model_37000.pt\n",
      "2022-07-29 20:38.10 [info     ] DQN_online_20220729203654: epoch=37 step=37000 epoch=37 metrics={'time_inference': 0.0010984914302825928, 'time_environment_step': 4.031467437744141e-05, 'time_step': 0.001993889093399048, 'rollout_return': 2.9575289575289574, 'time_sample_batch': 0.00015847921371459962, 'time_algorithm_update': 0.007483313083648682, 'loss': 0.2044065747410059, 'evaluation': 2.7} step=37000\n",
      "2022-07-29 20:38.12 [info     ] Model parameters are saved to d3rlpy_logs\\DQN_online_20220729203654\\model_38000.pt\n",
      "2022-07-29 20:38.12 [info     ] DQN_online_20220729203654: epoch=38 step=38000 epoch=38 metrics={'time_inference': 0.0010435595512390137, 'time_environment_step': 2.4935722351074217e-05, 'time_step': 0.0018873887062072754, 'rollout_return': 2.867424242424242, 'time_sample_batch': 0.00015350580215454102, 'time_algorithm_update': 0.007153573036193847, 'loss': 0.1699708303436637, 'evaluation': 3.0} step=38000\n",
      "2022-07-29 20:38.14 [info     ] Model parameters are saved to d3rlpy_logs\\DQN_online_20220729203654\\model_39000.pt\n",
      "2022-07-29 20:38.14 [info     ] DQN_online_20220729203654: epoch=39 step=39000 epoch=39 metrics={'time_inference': 0.0011350541114807128, 'time_environment_step': 2.7072191238403322e-05, 'rollout_return': 2.7007575757575757, 'time_step': 0.002037813425064087, 'time_sample_batch': 0.00017839670181274414, 'time_algorithm_update': 0.007671048641204834, 'loss': 0.18143590740859508, 'evaluation': 3.6} step=39000\n",
      "2022-07-29 20:38.16 [info     ] Model parameters are saved to d3rlpy_logs\\DQN_online_20220729203654\\model_40000.pt\n",
      "2022-07-29 20:38.16 [info     ] DQN_online_20220729203654: epoch=40 step=40000 epoch=40 metrics={'time_inference': 0.0009826335906982422, 'time_environment_step': 2.6691675186157227e-05, 'time_step': 0.0017771649360656739, 'rollout_return': 2.8446969696969697, 'time_sample_batch': 0.0002119278907775879, 'time_algorithm_update': 0.0067167019844055174, 'loss': 0.17123697020113468, 'evaluation': 3.3} step=40000\n",
      "2022-07-29 20:38.18 [info     ] Model parameters are saved to d3rlpy_logs\\DQN_online_20220729203654\\model_41000.pt\n",
      "2022-07-29 20:38.18 [info     ] DQN_online_20220729203654: epoch=41 step=41000 epoch=41 metrics={'time_inference': 0.001181086540222168, 'time_environment_step': 4.40220832824707e-05, 'rollout_return': 2.912878787878788, 'time_step': 0.002173548221588135, 'time_sample_batch': 0.00026732921600341797, 'time_algorithm_update': 0.00807976245880127, 'loss': 0.1778650404140353, 'evaluation': 2.5} step=41000\n",
      "2022-07-29 20:38.20 [info     ] Model parameters are saved to d3rlpy_logs\\DQN_online_20220729203654\\model_42000.pt\n",
      "2022-07-29 20:38.20 [info     ] DQN_online_20220729203654: epoch=42 step=42000 epoch=42 metrics={'time_inference': 0.0009265987873077392, 'time_environment_step': 3.25934886932373e-05, 'time_step': 0.0016850581169128417, 'rollout_return': 2.7613636363636362, 'time_sample_batch': 0.00016242027282714844, 'time_algorithm_update': 0.00640336275100708, 'loss': 0.16924713172018527, 'evaluation': 3.9} step=42000\n",
      "2022-07-29 20:38.22 [info     ] Model parameters are saved to d3rlpy_logs\\DQN_online_20220729203654\\model_43000.pt\n",
      "2022-07-29 20:38.22 [info     ] DQN_online_20220729203654: epoch=43 step=43000 epoch=43 metrics={'time_inference': 0.0012288367748260498, 'time_environment_step': 3.653764724731445e-05, 'rollout_return': 2.7083333333333335, 'time_step': 0.0022476155757904055, 'time_sample_batch': 0.0003528380393981934, 'time_algorithm_update': 0.008368849754333496, 'loss': 0.16540237031877042, 'evaluation': 3.3} step=43000\n",
      "2022-07-29 20:38.24 [info     ] Model parameters are saved to d3rlpy_logs\\DQN_online_20220729203654\\model_44000.pt\n",
      "2022-07-29 20:38.24 [info     ] DQN_online_20220729203654: epoch=44 step=44000 epoch=44 metrics={'time_inference': 0.0009646241664886475, 'time_environment_step': 2.8842449188232423e-05, 'time_step': 0.0017314164638519288, 'rollout_return': 2.9732824427480917, 'time_sample_batch': 0.0001544952392578125, 'time_algorithm_update': 0.00649090051651001, 'loss': 0.17300444681197405, 'evaluation': 3.6} step=44000\n",
      "2022-07-29 20:38.26 [info     ] Model parameters are saved to d3rlpy_logs\\DQN_online_20220729203654\\model_45000.pt\n",
      "2022-07-29 20:38.26 [info     ] DQN_online_20220729203654: epoch=45 step=45000 epoch=45 metrics={'time_inference': 0.0011732196807861328, 'time_environment_step': 3.4898996353149416e-05, 'rollout_return': 2.8377358490566036, 'time_step': 0.0021246581077575682, 'time_sample_batch': 0.000270233154296875, 'time_algorithm_update': 0.007818474769592285, 'loss': 0.1611610946431756, 'evaluation': 3.4} step=45000\n",
      "2022-07-29 20:38.28 [info     ] Model parameters are saved to d3rlpy_logs\\DQN_online_20220729203654\\model_46000.pt\n",
      "2022-07-29 20:38.28 [info     ] DQN_online_20220729203654: epoch=46 step=46000 epoch=46 metrics={'time_inference': 0.000983290433883667, 'time_environment_step': 2.966022491455078e-05, 'time_step': 0.0018028109073638917, 'rollout_return': 2.8314176245210727, 'time_sample_batch': 0.0002821516990661621, 'time_algorithm_update': 0.006775057315826416, 'loss': 0.15881128065288067, 'evaluation': 3.8} step=46000\n",
      "2022-07-29 20:38.30 [info     ] Model parameters are saved to d3rlpy_logs\\DQN_online_20220729203654\\model_47000.pt\n",
      "2022-07-29 20:38.30 [info     ] DQN_online_20220729203654: epoch=47 step=47000 epoch=47 metrics={'time_inference': 0.0011146543025970458, 'time_environment_step': 3.192615509033203e-05, 'time_step': 0.0020313754081726075, 'rollout_return': 2.737037037037037, 'time_sample_batch': 0.000207674503326416, 'time_algorithm_update': 0.007672486305236817, 'loss': 0.1619678920507431, 'evaluation': 3.5} step=47000\n",
      "2022-07-29 20:38.32 [info     ] Model parameters are saved to d3rlpy_logs\\DQN_online_20220729203654\\model_48000.pt\n",
      "2022-07-29 20:38.32 [info     ] DQN_online_20220729203654: epoch=48 step=48000 epoch=48 metrics={'time_inference': 0.0010632607936859131, 'time_environment_step': 3.4173011779785155e-05, 'time_step': 0.00192041015625, 'rollout_return': 2.915129151291513, 'time_sample_batch': 0.00023590326309204103, 'time_algorithm_update': 0.007158582210540772, 'loss': 0.16997959785163402, 'evaluation': 3.8} step=48000\n"
     ]
    },
    {
     "name": "stdout",
     "output_type": "stream",
     "text": [
      "2022-07-29 20:38.34 [info     ] Model parameters are saved to d3rlpy_logs\\DQN_online_20220729203654\\model_49000.pt\n",
      "2022-07-29 20:38.34 [info     ] DQN_online_20220729203654: epoch=49 step=49000 epoch=49 metrics={'time_inference': 0.0010795350074768067, 'time_environment_step': 3.016161918640137e-05, 'rollout_return': 2.9185185185185185, 'time_step': 0.0019543190002441406, 'time_sample_batch': 0.00027100324630737306, 'time_algorithm_update': 0.007357971668243408, 'loss': 0.16666044175624847, 'evaluation': 3.2} step=49000\n",
      "2022-07-29 20:38.37 [info     ] Model parameters are saved to d3rlpy_logs\\DQN_online_20220729203654\\model_50000.pt\n",
      "2022-07-29 20:38.37 [info     ] DQN_online_20220729203654: epoch=50 step=50000 epoch=50 metrics={'time_inference': 0.001124497652053833, 'time_environment_step': 2.7388811111450194e-05, 'time_step': 0.0020516290664672854, 'rollout_return': 2.7773722627737225, 'time_sample_batch': 0.00028213977813720706, 'time_algorithm_update': 0.007743971347808838, 'loss': 0.16177367705851795, 'evaluation': 3.7} step=50000\n",
      "2022-07-29 20:38.39 [info     ] Model parameters are saved to d3rlpy_logs\\DQN_online_20220729203654\\model_51000.pt\n",
      "2022-07-29 20:38.39 [info     ] DQN_online_20220729203654: epoch=51 step=51000 epoch=51 metrics={'time_inference': 0.0009871318340301514, 'time_environment_step': 3.824901580810547e-05, 'time_step': 0.0018056833744049072, 'rollout_return': 2.8065693430656933, 'time_sample_batch': 0.0002832746505737305, 'time_algorithm_update': 0.006712980270385742, 'loss': 0.15906860910356044, 'evaluation': 3.7} step=51000\n",
      "2022-07-29 20:38.41 [info     ] Model parameters are saved to d3rlpy_logs\\DQN_online_20220729203654\\model_52000.pt\n",
      "2022-07-29 20:38.41 [info     ] DQN_online_20220729203654: epoch=52 step=52000 epoch=52 metrics={'time_inference': 0.0011679725646972657, 'time_environment_step': 3.198528289794922e-05, 'rollout_return': 2.9310344827586206, 'time_step': 0.0021579341888427733, 'time_sample_batch': 0.0002020883560180664, 'time_algorithm_update': 0.008252568244934082, 'loss': 0.16040212750434876, 'evaluation': 3.8} step=52000\n",
      "2022-07-29 20:38.43 [info     ] Model parameters are saved to d3rlpy_logs\\DQN_online_20220729203654\\model_53000.pt\n",
      "2022-07-29 20:38.43 [info     ] DQN_online_20220729203654: epoch=53 step=53000 epoch=53 metrics={'time_inference': 0.0010486814975738524, 'time_environment_step': 3.1414985656738284e-05, 'time_step': 0.001914318323135376, 'rollout_return': 2.88929889298893, 'time_sample_batch': 0.00018074750900268555, 'time_algorithm_update': 0.007215178012847901, 'loss': 0.16058222334831954, 'evaluation': 3.8} step=53000\n",
      "2022-07-29 20:38.45 [info     ] Model parameters are saved to d3rlpy_logs\\DQN_online_20220729203654\\model_54000.pt\n",
      "2022-07-29 20:38.45 [info     ] DQN_online_20220729203654: epoch=54 step=54000 epoch=54 metrics={'time_inference': 0.0013207197189331055, 'time_environment_step': 3.201532363891602e-05, 'rollout_return': 2.791208791208791, 'time_step': 0.0023894021511077883, 'time_sample_batch': 0.0002876186370849609, 'time_algorithm_update': 0.008888695240020752, 'loss': 0.15326631329953672, 'evaluation': 3.4} step=54000\n",
      "2022-07-29 20:38.48 [info     ] Model parameters are saved to d3rlpy_logs\\DQN_online_20220729203654\\model_55000.pt\n",
      "2022-07-29 20:38.48 [info     ] DQN_online_20220729203654: epoch=55 step=55000 epoch=55 metrics={'time_inference': 0.0013219799995422363, 'time_environment_step': 4.2523860931396485e-05, 'rollout_return': 2.7220216606498195, 'time_step': 0.00244397497177124, 'time_sample_batch': 0.0002974438667297363, 'time_algorithm_update': 0.00915708065032959, 'loss': 0.14957446862012147, 'evaluation': 3.8} step=55000\n",
      "2022-07-29 20:38.50 [info     ] Model parameters are saved to d3rlpy_logs\\DQN_online_20220729203654\\model_56000.pt\n",
      "2022-07-29 20:38.50 [info     ] DQN_online_20220729203654: epoch=56 step=56000 epoch=56 metrics={'time_inference': 0.0010236337184906005, 'time_environment_step': 2.7884244918823242e-05, 'rollout_return': 2.7971014492753623, 'time_step': 0.0018788771629333497, 'time_sample_batch': 0.0001878046989440918, 'time_algorithm_update': 0.007079939842224121, 'loss': 0.14862903740257025, 'evaluation': 3.9} step=56000\n",
      "2022-07-29 20:38.53 [info     ] Model parameters are saved to d3rlpy_logs\\DQN_online_20220729203654\\model_57000.pt\n",
      "2022-07-29 20:38.53 [info     ] DQN_online_20220729203654: epoch=57 step=57000 epoch=57 metrics={'time_inference': 0.0015014488697052003, 'time_environment_step': 4.453563690185547e-05, 'time_step': 0.002716651439666748, 'rollout_return': 2.8461538461538463, 'time_sample_batch': 0.00030339717864990234, 'time_algorithm_update': 0.010232222080230714, 'loss': 0.13312847331166267, 'evaluation': 3.9} step=57000\n",
      "2022-07-29 20:38.55 [info     ] Model parameters are saved to d3rlpy_logs\\DQN_online_20220729203654\\model_58000.pt\n",
      "2022-07-29 20:38.55 [info     ] DQN_online_20220729203654: epoch=58 step=58000 epoch=58 metrics={'time_inference': 0.001120467185974121, 'time_environment_step': 3.0249834060668944e-05, 'rollout_return': 2.9, 'time_step': 0.002079730033874512, 'time_sample_batch': 0.0002768349647521973, 'time_algorithm_update': 0.007862694263458252, 'loss': 0.11963351855054498, 'evaluation': 3.1} step=58000\n",
      "2022-07-29 20:38.57 [info     ] Model parameters are saved to d3rlpy_logs\\DQN_online_20220729203654\\model_59000.pt\n",
      "2022-07-29 20:38.57 [info     ] DQN_online_20220729203654: epoch=59 step=59000 epoch=59 metrics={'time_inference': 0.001235772132873535, 'time_environment_step': 4.2922258377075194e-05, 'time_step': 0.002255680561065674, 'rollout_return': 3.0606060606060606, 'time_sample_batch': 0.00031638383865356445, 'time_algorithm_update': 0.008435256481170654, 'loss': 0.12902880627661945, 'evaluation': 3.0} step=59000\n",
      "2022-07-29 20:39.00 [info     ] Model parameters are saved to d3rlpy_logs\\DQN_online_20220729203654\\model_60000.pt\n",
      "2022-07-29 20:39.00 [info     ] DQN_online_20220729203654: epoch=60 step=60000 epoch=60 metrics={'time_inference': 0.001447321891784668, 'time_environment_step': 4.498147964477539e-05, 'rollout_return': 2.899628252788104, 'time_step': 0.0026031746864318846, 'time_sample_batch': 0.0003673124313354492, 'time_algorithm_update': 0.00964057445526123, 'loss': 0.12776148425415157, 'evaluation': 4.0} step=60000\n",
      "2022-07-29 20:39.02 [info     ] Model parameters are saved to d3rlpy_logs\\DQN_online_20220729203654\\model_61000.pt\n",
      "2022-07-29 20:39.02 [info     ] DQN_online_20220729203654: epoch=61 step=61000 epoch=61 metrics={'time_inference': 0.0009448416233062744, 'time_environment_step': 3.335857391357422e-05, 'rollout_return': 2.7472527472527473, 'time_step': 0.0017488877773284913, 'time_sample_batch': 0.00022479772567749024, 'time_algorithm_update': 0.006714894771575928, 'loss': 0.12356044966727495, 'evaluation': 3.5} step=61000\n",
      "2022-07-29 20:39.05 [info     ] Model parameters are saved to d3rlpy_logs\\DQN_online_20220729203654\\model_62000.pt\n",
      "2022-07-29 20:39.05 [info     ] DQN_online_20220729203654: epoch=62 step=62000 epoch=62 metrics={'time_inference': 0.0014857733249664306, 'time_environment_step': 4.302215576171875e-05, 'time_step': 0.002675750732421875, 'rollout_return': 2.9452554744525545, 'time_sample_batch': 0.0002535581588745117, 'time_algorithm_update': 0.010061321258544921, 'loss': 0.13635261543095112, 'evaluation': 3.0} step=62000\n",
      "2022-07-29 20:39.07 [info     ] Model parameters are saved to d3rlpy_logs\\DQN_online_20220729203654\\model_63000.pt\n",
      "2022-07-29 20:39.07 [info     ] DQN_online_20220729203654: epoch=63 step=63000 epoch=63 metrics={'time_inference': 0.0011949522495269776, 'time_environment_step': 3.6953210830688475e-05, 'time_step': 0.002199732780456543, 'rollout_return': 2.973684210526316, 'time_sample_batch': 0.0003520035743713379, 'time_algorithm_update': 0.008275179862976075, 'loss': 0.1338067702949047, 'evaluation': 3.4} step=63000\n",
      "2022-07-29 20:39.10 [info     ] Model parameters are saved to d3rlpy_logs\\DQN_online_20220729203654\\model_64000.pt\n",
      "2022-07-29 20:39.10 [info     ] DQN_online_20220729203654: epoch=64 step=64000 epoch=64 metrics={'time_inference': 0.0011227340698242187, 'time_environment_step': 4.210138320922852e-05, 'rollout_return': 3.0265151515151514, 'time_step': 0.00206594181060791, 'time_sample_batch': 0.00023399114608764647, 'time_algorithm_update': 0.007797625064849854, 'loss': 0.13017057426273823, 'evaluation': 2.9} step=64000\n"
     ]
    },
    {
     "name": "stdout",
     "output_type": "stream",
     "text": [
      "2022-07-29 20:39.12 [info     ] Model parameters are saved to d3rlpy_logs\\DQN_online_20220729203654\\model_65000.pt\n",
      "2022-07-29 20:39.12 [info     ] DQN_online_20220729203654: epoch=65 step=65000 epoch=65 metrics={'time_inference': 0.0015290341377258302, 'time_environment_step': 4.6573877334594726e-05, 'time_step': 0.0027666208744049074, 'rollout_return': 2.8823529411764706, 'time_sample_batch': 0.00034874916076660156, 'time_algorithm_update': 0.010338315963745117, 'loss': 0.13069478698074818, 'evaluation': 3.5} step=65000\n",
      "2022-07-29 20:39.14 [info     ] Model parameters are saved to d3rlpy_logs\\DQN_online_20220729203654\\model_66000.pt\n",
      "2022-07-29 20:39.14 [info     ] DQN_online_20220729203654: epoch=66 step=66000 epoch=66 metrics={'time_inference': 0.001039897918701172, 'time_environment_step': 4.05733585357666e-05, 'time_step': 0.001902510643005371, 'rollout_return': 3.048689138576779, 'time_sample_batch': 0.00018747806549072266, 'time_algorithm_update': 0.0071240425109863285, 'loss': 0.12874735843390225, 'evaluation': 3.7} step=66000\n",
      "2022-07-29 20:39.17 [info     ] Model parameters are saved to d3rlpy_logs\\DQN_online_20220729203654\\model_67000.pt\n",
      "2022-07-29 20:39.17 [info     ] DQN_online_20220729203654: epoch=67 step=67000 epoch=67 metrics={'time_inference': 0.0013396060466766358, 'time_environment_step': 4.29234504699707e-05, 'time_step': 0.0024362640380859377, 'rollout_return': 2.9144981412639406, 'time_sample_batch': 0.0002944016456604004, 'time_algorithm_update': 0.008991644382476807, 'loss': 0.12439067185856402, 'evaluation': 3.1} step=67000\n",
      "2022-07-29 20:39.19 [info     ] Model parameters are saved to d3rlpy_logs\\DQN_online_20220729203654\\model_68000.pt\n",
      "2022-07-29 20:39.19 [info     ] DQN_online_20220729203654: epoch=68 step=68000 epoch=68 metrics={'time_inference': 0.0011424438953399657, 'time_environment_step': 2.8342485427856444e-05, 'time_step': 0.002087092399597168, 'rollout_return': 2.861940298507463, 'time_sample_batch': 0.00020035266876220704, 'time_algorithm_update': 0.00787353515625, 'loss': 0.12796382002532483, 'evaluation': 3.8} step=68000\n",
      "2022-07-29 20:39.22 [info     ] Model parameters are saved to d3rlpy_logs\\DQN_online_20220729203654\\model_69000.pt\n",
      "2022-07-29 20:39.22 [info     ] DQN_online_20220729203654: epoch=69 step=69000 epoch=69 metrics={'time_inference': 0.001290524959564209, 'time_environment_step': 3.7842988967895506e-05, 'rollout_return': 3.029850746268657, 'time_step': 0.0023403995037078857, 'time_sample_batch': 0.0002870011329650879, 'time_algorithm_update': 0.008860085010528564, 'loss': 0.12482535049319267, 'evaluation': 3.5} step=69000\n",
      "2022-07-29 20:39.24 [info     ] Model parameters are saved to d3rlpy_logs\\DQN_online_20220729203654\\model_70000.pt\n",
      "2022-07-29 20:39.24 [info     ] DQN_online_20220729203654: epoch=70 step=70000 epoch=70 metrics={'time_inference': 0.0013028886318206788, 'time_environment_step': 3.936290740966797e-05, 'time_step': 0.00237076997756958, 'rollout_return': 2.5635738831615122, 'time_sample_batch': 0.00023808479309082032, 'time_algorithm_update': 0.008990576267242431, 'loss': 0.12843127463012935, 'evaluation': 3.6} step=70000\n",
      "2022-07-29 20:39.27 [info     ] Model parameters are saved to d3rlpy_logs\\DQN_online_20220729203654\\model_71000.pt\n",
      "2022-07-29 20:39.27 [info     ] DQN_online_20220729203654: epoch=71 step=71000 epoch=71 metrics={'time_inference': 0.0012089371681213378, 'time_environment_step': 2.7711868286132812e-05, 'time_step': 0.0021880903244018554, 'rollout_return': 2.6572438162544167, 'time_sample_batch': 0.00022791624069213868, 'time_algorithm_update': 0.008218998908996583, 'loss': 0.11784007541835308, 'evaluation': 3.4} step=71000\n",
      "2022-07-29 20:39.29 [info     ] Model parameters are saved to d3rlpy_logs\\DQN_online_20220729203654\\model_72000.pt\n",
      "2022-07-29 20:39.29 [info     ] DQN_online_20220729203654: epoch=72 step=72000 epoch=72 metrics={'time_inference': 0.0014818785190582274, 'time_environment_step': 5.0798654556274414e-05, 'rollout_return': 2.827205882352941, 'time_step': 0.0027195124626159667, 'time_sample_batch': 0.00032061338424682617, 'time_algorithm_update': 0.010244433879852294, 'loss': 0.11445946052670479, 'evaluation': 3.4} step=72000\n",
      "2022-07-29 20:39.32 [info     ] Model parameters are saved to d3rlpy_logs\\DQN_online_20220729203654\\model_73000.pt\n",
      "2022-07-29 20:39.32 [info     ] DQN_online_20220729203654: epoch=73 step=73000 epoch=73 metrics={'time_inference': 0.0010137557983398438, 'time_environment_step': 4.0689229965209964e-05, 'time_step': 0.0018933634757995605, 'rollout_return': 2.9962962962962965, 'time_sample_batch': 0.0002213430404663086, 'time_algorithm_update': 0.007168660163879395, 'loss': 0.11864374324679375, 'evaluation': 3.8} step=73000\n",
      "2022-07-29 20:39.34 [info     ] Model parameters are saved to d3rlpy_logs\\DQN_online_20220729203654\\model_74000.pt\n",
      "2022-07-29 20:39.34 [info     ] DQN_online_20220729203654: epoch=74 step=74000 epoch=74 metrics={'time_inference': 0.0014711639881134033, 'time_environment_step': 4.4434785842895506e-05, 'rollout_return': 2.984732824427481, 'time_step': 0.002673264741897583, 'time_sample_batch': 0.00024776458740234376, 'time_algorithm_update': 0.009967586994171142, 'loss': 0.12956974230706692, 'evaluation': 3.5} step=74000\n",
      "2022-07-29 20:39.36 [info     ] Model parameters are saved to d3rlpy_logs\\DQN_online_20220729203654\\model_75000.pt\n",
      "2022-07-29 20:39.36 [info     ] DQN_online_20220729203654: epoch=75 step=75000 epoch=75 metrics={'time_inference': 0.0010795340538024903, 'time_environment_step': 4.5248985290527346e-05, 'rollout_return': 2.775735294117647, 'time_step': 0.002012228012084961, 'time_sample_batch': 0.00025846004486083983, 'time_algorithm_update': 0.0076646566390991214, 'loss': 0.1201529397442937, 'evaluation': 3.6} step=75000\n",
      "2022-07-29 20:39.39 [info     ] Model parameters are saved to d3rlpy_logs\\DQN_online_20220729203654\\model_76000.pt\n",
      "2022-07-29 20:39.39 [info     ] DQN_online_20220729203654: epoch=76 step=76000 epoch=76 metrics={'time_inference': 0.0014434261322021484, 'time_environment_step': 3.111600875854492e-05, 'time_step': 0.0026202173233032225, 'rollout_return': 2.951310861423221, 'time_sample_batch': 0.00030745983123779295, 'time_algorithm_update': 0.009775269031524658, 'loss': 0.1233790590427816, 'evaluation': 3.5} step=76000\n",
      "2022-07-29 20:39.42 [info     ] Model parameters are saved to d3rlpy_logs\\DQN_online_20220729203654\\model_77000.pt\n",
      "2022-07-29 20:39.42 [info     ] DQN_online_20220729203654: epoch=77 step=77000 epoch=77 metrics={'time_inference': 0.0013877520561218263, 'time_environment_step': 3.9451837539672855e-05, 'time_step': 0.002549856185913086, 'rollout_return': 2.918819188191882, 'time_sample_batch': 0.0002999711036682129, 'time_algorithm_update': 0.009614958763122558, 'loss': 0.11915644939988851, 'evaluation': 3.8} step=77000\n",
      "2022-07-29 20:39.44 [info     ] Model parameters are saved to d3rlpy_logs\\DQN_online_20220729203654\\model_78000.pt\n",
      "2022-07-29 20:39.44 [info     ] DQN_online_20220729203654: epoch=78 step=78000 epoch=78 metrics={'time_inference': 0.0012444968223571777, 'time_environment_step': 5.101680755615234e-05, 'rollout_return': 2.8339483394833946, 'time_step': 0.002328231334686279, 'time_sample_batch': 0.00030106306076049805, 'time_algorithm_update': 0.008884432315826417, 'loss': 0.11909530833363532, 'evaluation': 3.9} step=78000\n",
      "2022-07-29 20:39.47 [info     ] Model parameters are saved to d3rlpy_logs\\DQN_online_20220729203654\\model_79000.pt\n",
      "2022-07-29 20:39.47 [info     ] DQN_online_20220729203654: epoch=79 step=79000 epoch=79 metrics={'time_inference': 0.001414918899536133, 'time_environment_step': 4.591989517211914e-05, 'time_step': 0.0026075947284698487, 'rollout_return': 2.8905109489051095, 'time_sample_batch': 0.0002900815010070801, 'time_algorithm_update': 0.009978787899017334, 'loss': 0.12798658024519682, 'evaluation': 3.5} step=79000\n",
      "2022-07-29 20:39.49 [info     ] Model parameters are saved to d3rlpy_logs\\DQN_online_20220729203654\\model_80000.pt\n",
      "2022-07-29 20:39.49 [info     ] DQN_online_20220729203654: epoch=80 step=80000 epoch=80 metrics={'time_inference': 0.0010755355358123778, 'time_environment_step': 3.4750938415527344e-05, 'rollout_return': 2.8609022556390977, 'time_step': 0.0019823181629180908, 'time_sample_batch': 0.0002453112602233887, 'time_algorithm_update': 0.0075169897079467776, 'loss': 0.12464657563716174, 'evaluation': 3.8} step=80000\n"
     ]
    },
    {
     "name": "stdout",
     "output_type": "stream",
     "text": [
      "2022-07-29 20:39.52 [info     ] Model parameters are saved to d3rlpy_logs\\DQN_online_20220729203654\\model_81000.pt\n",
      "2022-07-29 20:39.52 [info     ] DQN_online_20220729203654: epoch=81 step=81000 epoch=81 metrics={'time_inference': 0.001444373607635498, 'time_environment_step': 4.5512914657592776e-05, 'time_step': 0.0026233859062194825, 'rollout_return': 3.007434944237918, 'time_sample_batch': 0.0002528572082519531, 'time_algorithm_update': 0.009892404079437256, 'loss': 0.11325032778084278, 'evaluation': 3.6} step=81000\n",
      "2022-07-29 20:39.54 [info     ] Model parameters are saved to d3rlpy_logs\\DQN_online_20220729203654\\model_82000.pt\n",
      "2022-07-29 20:39.54 [info     ] DQN_online_20220729203654: epoch=82 step=82000 epoch=82 metrics={'time_inference': 0.0011957592964172363, 'time_environment_step': 2.9945850372314454e-05, 'time_step': 0.00216660737991333, 'rollout_return': 2.8453237410071943, 'time_sample_batch': 0.00027755975723266603, 'time_algorithm_update': 0.008275725841522218, 'loss': 0.117279251832515, 'evaluation': 3.9} step=82000\n",
      "2022-07-29 20:39.57 [info     ] Model parameters are saved to d3rlpy_logs\\DQN_online_20220729203654\\model_83000.pt\n",
      "2022-07-29 20:39.57 [info     ] DQN_online_20220729203654: epoch=83 step=83000 epoch=83 metrics={'time_inference': 0.001169851064682007, 'time_environment_step': 3.468585014343262e-05, 'rollout_return': 2.9185185185185185, 'time_step': 0.002164173364639282, 'time_sample_batch': 0.00026533603668212893, 'time_algorithm_update': 0.00831575870513916, 'loss': 0.11522371543571353, 'evaluation': 3.8} step=83000\n",
      "2022-07-29 20:40.00 [info     ] Model parameters are saved to d3rlpy_logs\\DQN_online_20220729203654\\model_84000.pt\n",
      "2022-07-29 20:40.00 [info     ] DQN_online_20220729203654: epoch=84 step=84000 epoch=84 metrics={'time_inference': 0.0014729247093200684, 'time_environment_step': 4.341006278991699e-05, 'time_step': 0.002730452299118042, 'rollout_return': 3.014705882352941, 'time_sample_batch': 0.0003382730484008789, 'time_algorithm_update': 0.010420525074005127, 'loss': 0.11081058546900749, 'evaluation': 3.8} step=84000\n",
      "2022-07-29 20:40.02 [info     ] Model parameters are saved to d3rlpy_logs\\DQN_online_20220729203654\\model_85000.pt\n",
      "2022-07-29 20:40.02 [info     ] DQN_online_20220729203654: epoch=85 step=85000 epoch=85 metrics={'time_inference': 0.0009795196056365967, 'time_environment_step': 2.2147655487060548e-05, 'time_step': 0.001783252477645874, 'rollout_return': 3.0037037037037035, 'time_sample_batch': 0.0001773834228515625, 'time_algorithm_update': 0.006868968009948731, 'loss': 0.11539263602346182, 'evaluation': 3.7} step=85000\n",
      "2022-07-29 20:40.04 [info     ] Model parameters are saved to d3rlpy_logs\\DQN_online_20220729203654\\model_86000.pt\n",
      "2022-07-29 20:40.04 [info     ] DQN_online_20220729203654: epoch=86 step=86000 epoch=86 metrics={'time_inference': 0.001369544267654419, 'time_environment_step': 3.9637088775634766e-05, 'time_step': 0.0025278685092926024, 'rollout_return': 2.9962962962962965, 'time_sample_batch': 0.0003028583526611328, 'time_algorithm_update': 0.009549634456634521, 'loss': 0.12246537672355771, 'evaluation': 3.8} step=86000\n",
      "2022-07-29 20:40.07 [info     ] Model parameters are saved to d3rlpy_logs\\DQN_online_20220729203654\\model_87000.pt\n",
      "2022-07-29 20:40.07 [info     ] DQN_online_20220729203654: epoch=87 step=87000 epoch=87 metrics={'time_inference': 0.0012492411136627198, 'time_environment_step': 3.027939796447754e-05, 'rollout_return': 2.996282527881041, 'time_step': 0.002290086507797241, 'time_sample_batch': 0.000314795970916748, 'time_algorithm_update': 0.008642072677612305, 'loss': 0.11573097242042422, 'evaluation': 3.2} step=87000\n",
      "2022-07-29 20:40.09 [info     ] Model parameters are saved to d3rlpy_logs\\DQN_online_20220729203654\\model_88000.pt\n",
      "2022-07-29 20:40.09 [info     ] DQN_online_20220729203654: epoch=88 step=88000 epoch=88 metrics={'time_inference': 0.001062791109085083, 'time_environment_step': 2.6067495346069334e-05, 'time_step': 0.001955913782119751, 'rollout_return': 2.8205128205128207, 'time_sample_batch': 0.00015078306198120116, 'time_algorithm_update': 0.007540764808654785, 'loss': 0.1206299989297986, 'evaluation': 3.4} step=88000\n",
      "2022-07-29 20:40.12 [info     ] Model parameters are saved to d3rlpy_logs\\DQN_online_20220729203654\\model_89000.pt\n",
      "2022-07-29 20:40.12 [info     ] DQN_online_20220729203654: epoch=89 step=89000 epoch=89 metrics={'time_inference': 0.0015102627277374268, 'time_environment_step': 3.896546363830566e-05, 'time_step': 0.002762481927871704, 'rollout_return': 2.918819188191882, 'time_sample_batch': 0.00035106182098388673, 'time_algorithm_update': 0.010566213130950929, 'loss': 0.11344668824225664, 'evaluation': 2.4} step=89000\n",
      "2022-07-29 20:40.14 [info     ] Model parameters are saved to d3rlpy_logs\\DQN_online_20220729203654\\model_90000.pt\n",
      "2022-07-29 20:40.14 [info     ] DQN_online_20220729203654: epoch=90 step=90000 epoch=90 metrics={'time_inference': 0.0010526542663574219, 'time_environment_step': 3.294539451599121e-05, 'time_step': 0.0019337284564971925, 'rollout_return': 2.8949275362318843, 'time_sample_batch': 0.0002028799057006836, 'time_algorithm_update': 0.007465717792510987, 'loss': 0.1216268079355359, 'evaluation': 3.3} step=90000\n",
      "2022-07-29 20:40.15 [info     ] Model parameters are saved to d3rlpy_logs\\DQN_online_20220729203654\\model_91000.pt\n",
      "2022-07-29 20:40.15 [info     ] DQN_online_20220729203654: epoch=91 step=91000 epoch=91 metrics={'time_inference': 0.0008355019092559815, 'time_environment_step': 3.0096054077148437e-05, 'time_step': 0.001572551965713501, 'rollout_return': 2.911111111111111, 'time_sample_batch': 0.00018679380416870118, 'time_algorithm_update': 0.006168694496154785, 'loss': 0.11778077688068152, 'evaluation': 3.4} step=91000\n",
      "2022-07-29 20:40.17 [info     ] Model parameters are saved to d3rlpy_logs\\DQN_online_20220729203654\\model_92000.pt\n",
      "2022-07-29 20:40.17 [info     ] DQN_online_20220729203654: epoch=92 step=92000 epoch=92 metrics={'time_inference': 0.0008526172637939453, 'time_environment_step': 3.077387809753418e-05, 'time_step': 0.0015895304679870606, 'rollout_return': 2.829090909090909, 'time_sample_batch': 0.00017254829406738282, 'time_algorithm_update': 0.006163175106048584, 'loss': 0.13038014352321625, 'evaluation': 3.2} step=92000\n",
      "2022-07-29 20:40.20 [info     ] Model parameters are saved to d3rlpy_logs\\DQN_online_20220729203654\\model_93000.pt\n",
      "2022-07-29 20:40.20 [info     ] DQN_online_20220729203654: epoch=93 step=93000 epoch=93 metrics={'time_inference': 0.0014636182785034179, 'time_environment_step': 5.231094360351562e-05, 'time_step': 0.0027225341796875, 'rollout_return': 2.9813432835820897, 'time_sample_batch': 0.00031562566757202147, 'time_algorithm_update': 0.010411927700042725, 'loss': 0.12321268625557423, 'evaluation': 3.8} step=93000\n",
      "2022-07-29 20:40.22 [info     ] Model parameters are saved to d3rlpy_logs\\DQN_online_20220729203654\\model_94000.pt\n",
      "2022-07-29 20:40.22 [info     ] DQN_online_20220729203654: epoch=94 step=94000 epoch=94 metrics={'time_inference': 0.0011480867862701416, 'time_environment_step': 4.490804672241211e-05, 'rollout_return': 3.079847908745247, 'time_step': 0.002128972053527832, 'time_sample_batch': 0.00020853042602539062, 'time_algorithm_update': 0.008168702125549316, 'loss': 0.11896895080804824, 'evaluation': 3.8} step=94000\n",
      "2022-07-29 20:40.24 [info     ] Model parameters are saved to d3rlpy_logs\\DQN_online_20220729203654\\model_95000.pt\n",
      "2022-07-29 20:40.24 [info     ] DQN_online_20220729203654: epoch=95 step=95000 epoch=95 metrics={'time_inference': 0.0011871309280395508, 'time_environment_step': 3.706073760986328e-05, 'rollout_return': 3.1842105263157894, 'time_step': 0.0022204835414886474, 'time_sample_batch': 0.0002888965606689453, 'time_algorithm_update': 0.008465087413787842, 'loss': 0.11944281967356801, 'evaluation': 3.6} step=95000\n",
      "2022-07-29 20:40.27 [info     ] Model parameters are saved to d3rlpy_logs\\DQN_online_20220729203654\\model_96000.pt\n",
      "2022-07-29 20:40.27 [info     ] DQN_online_20220729203654: epoch=96 step=96000 epoch=96 metrics={'time_inference': 0.0014436287879943848, 'time_environment_step': 4.011964797973633e-05, 'time_step': 0.0026588895320892336, 'rollout_return': 3.0559701492537314, 'time_sample_batch': 0.00019370555877685548, 'time_algorithm_update': 0.010278933048248291, 'loss': 0.12428409736603499, 'evaluation': 3.9} step=96000\n"
     ]
    },
    {
     "name": "stdout",
     "output_type": "stream",
     "text": [
      "2022-07-29 20:40.30 [info     ] Model parameters are saved to d3rlpy_logs\\DQN_online_20220729203654\\model_97000.pt\n",
      "2022-07-29 20:40.30 [info     ] DQN_online_20220729203654: epoch=97 step=97000 epoch=97 metrics={'time_inference': 0.0011446592807769775, 'time_environment_step': 3.237628936767578e-05, 'rollout_return': 2.99250936329588, 'time_step': 0.002116929054260254, 'time_sample_batch': 0.0002729320526123047, 'time_algorithm_update': 0.008077132701873779, 'loss': 0.1172642557322979, 'evaluation': 3.6} step=97000\n",
      "2022-07-29 20:40.33 [info     ] Model parameters are saved to d3rlpy_logs\\DQN_online_20220729203654\\model_98000.pt\n",
      "2022-07-29 20:40.33 [info     ] DQN_online_20220729203654: epoch=98 step=98000 epoch=98 metrics={'time_inference': 0.001502098798751831, 'time_environment_step': 4.025149345397949e-05, 'time_step': 0.0027723491191864015, 'rollout_return': 3.2222222222222223, 'time_sample_batch': 0.00024533748626708984, 'time_algorithm_update': 0.010491960048675537, 'loss': 0.11688231341540814, 'evaluation': 3.3} step=98000\n",
      "2022-07-29 20:40.35 [info     ] Model parameters are saved to d3rlpy_logs\\DQN_online_20220729203654\\model_99000.pt\n",
      "2022-07-29 20:40.35 [info     ] DQN_online_20220729203654: epoch=99 step=99000 epoch=99 metrics={'time_inference': 0.0010800178050994873, 'time_environment_step': 3.35543155670166e-05, 'time_step': 0.0020320143699645997, 'rollout_return': 2.943820224719101, 'time_sample_batch': 0.00022940397262573243, 'time_algorithm_update': 0.007839303016662597, 'loss': 0.11756567895412445, 'evaluation': 3.6} step=99000\n",
      "2022-07-29 20:40.37 [info     ] Model parameters are saved to d3rlpy_logs\\DQN_online_20220729203654\\model_100000.pt\n",
      "2022-07-29 20:40.37 [info     ] DQN_online_20220729203654: epoch=100 step=100000 epoch=100 metrics={'time_inference': 0.0013911738395690919, 'time_environment_step': 4.83548641204834e-05, 'time_step': 0.0025692782402038576, 'rollout_return': 3.0229007633587788, 'time_sample_batch': 0.00029874801635742187, 'time_algorithm_update': 0.009726479053497314, 'loss': 0.11805408656597137, 'evaluation': 3.1} step=100000\n",
      "2022-07-29 20:40.40 [info     ] Model parameters are saved to d3rlpy_logs\\DQN_online_20220729203654\\model_101000.pt\n",
      "2022-07-29 20:40.40 [info     ] DQN_online_20220729203654: epoch=101 step=101000 epoch=101 metrics={'time_inference': 0.0013213415145874024, 'time_environment_step': 4.432082176208496e-05, 'time_step': 0.0024322588443756103, 'rollout_return': 2.9393939393939394, 'time_sample_batch': 0.000190582275390625, 'time_algorithm_update': 0.009287447929382324, 'loss': 0.12435304483398796, 'evaluation': 3.4} step=101000\n",
      "2022-07-29 20:40.42 [info     ] Model parameters are saved to d3rlpy_logs\\DQN_online_20220729203654\\model_102000.pt\n",
      "2022-07-29 20:40.42 [info     ] DQN_online_20220729203654: epoch=102 step=102000 epoch=102 metrics={'time_inference': 0.0011719803810119628, 'time_environment_step': 3.1734704971313474e-05, 'time_step': 0.002161527872085571, 'rollout_return': 2.8840579710144927, 'time_sample_batch': 0.00026633501052856443, 'time_algorithm_update': 0.008270335197448731, 'loss': 0.11833279518410564, 'evaluation': 3.8} step=102000\n",
      "2022-07-29 20:40.45 [info     ] Model parameters are saved to d3rlpy_logs\\DQN_online_20220729203654\\model_103000.pt\n",
      "2022-07-29 20:40.45 [info     ] DQN_online_20220729203654: epoch=103 step=103000 epoch=103 metrics={'time_inference': 0.001514923334121704, 'time_environment_step': 4.77602481842041e-05, 'time_step': 0.002793672800064087, 'rollout_return': 3.0187265917602994, 'time_sample_batch': 0.0002564048767089844, 'time_algorithm_update': 0.010714573860168457, 'loss': 0.11956929517909884, 'evaluation': 3.5} step=103000\n",
      "2022-07-29 20:40.48 [info     ] Model parameters are saved to d3rlpy_logs\\DQN_online_20220729203654\\model_104000.pt\n",
      "2022-07-29 20:40.48 [info     ] DQN_online_20220729203654: epoch=104 step=104000 epoch=104 metrics={'time_inference': 0.00114087176322937, 'time_environment_step': 3.776764869689941e-05, 'time_step': 0.0021121785640716554, 'rollout_return': 2.8191489361702127, 'time_sample_batch': 0.00019503593444824218, 'time_algorithm_update': 0.00809257745742798, 'loss': 0.11668461970984936, 'evaluation': 3.8} step=104000\n",
      "2022-07-29 20:40.50 [info     ] Model parameters are saved to d3rlpy_logs\\DQN_online_20220729203654\\model_105000.pt\n",
      "2022-07-29 20:40.50 [info     ] DQN_online_20220729203654: epoch=105 step=105000 epoch=105 metrics={'time_inference': 0.0014961895942687989, 'time_environment_step': 3.8053274154663086e-05, 'time_step': 0.0027228147983551026, 'rollout_return': 2.9444444444444446, 'time_sample_batch': 0.00029665470123291015, 'time_algorithm_update': 0.010329952239990234, 'loss': 0.11172109050676227, 'evaluation': 3.7} step=105000\n",
      "2022-07-29 20:40.53 [info     ] Model parameters are saved to d3rlpy_logs\\DQN_online_20220729203654\\model_106000.pt\n",
      "2022-07-29 20:40.53 [info     ] DQN_online_20220729203654: epoch=106 step=106000 epoch=106 metrics={'time_inference': 0.0013179697990417481, 'time_environment_step': 3.968310356140137e-05, 'time_step': 0.0023890244960784912, 'rollout_return': 2.8131868131868134, 'time_sample_batch': 0.00027768850326538087, 'time_algorithm_update': 0.009048094749450683, 'loss': 0.12341936867684127, 'evaluation': 3.2} step=106000\n",
      "2022-07-29 20:40.55 [info     ] Model parameters are saved to d3rlpy_logs\\DQN_online_20220729203654\\model_107000.pt\n",
      "2022-07-29 20:40.55 [info     ] DQN_online_20220729203654: epoch=107 step=107000 epoch=107 metrics={'time_inference': 0.0013185601234436035, 'time_environment_step': 4.735207557678223e-05, 'time_step': 0.0024066829681396486, 'rollout_return': 3.148854961832061, 'time_sample_batch': 0.0002966594696044922, 'time_algorithm_update': 0.009043123722076416, 'loss': 0.11989823518320918, 'evaluation': 3.6} step=107000\n",
      "2022-07-29 20:40.58 [info     ] Model parameters are saved to d3rlpy_logs\\DQN_online_20220729203654\\model_108000.pt\n",
      "2022-07-29 20:40.58 [info     ] DQN_online_20220729203654: epoch=108 step=108000 epoch=108 metrics={'time_inference': 0.0013950729370117187, 'time_environment_step': 4.331088066101074e-05, 'rollout_return': 2.9440298507462686, 'time_step': 0.002604909181594849, 'time_sample_batch': 0.00029484987258911134, 'time_algorithm_update': 0.010082142353057861, 'loss': 0.11485865673050284, 'evaluation': 3.3} step=108000\n",
      "2022-07-29 20:41.00 [info     ] Model parameters are saved to d3rlpy_logs\\DQN_online_20220729203654\\model_109000.pt\n",
      "2022-07-29 20:41.00 [info     ] DQN_online_20220729203654: epoch=109 step=109000 epoch=109 metrics={'time_inference': 0.0010718319416046142, 'time_environment_step': 4.3636322021484375e-05, 'time_step': 0.00204488205909729, 'rollout_return': 2.985294117647059, 'time_sample_batch': 0.0002665352821350098, 'time_algorithm_update': 0.007915878295898437, 'loss': 0.12109991839155555, 'evaluation': 3.6} step=109000\n",
      "2022-07-29 20:41.03 [info     ] Model parameters are saved to d3rlpy_logs\\DQN_online_20220729203654\\model_110000.pt\n",
      "2022-07-29 20:41.03 [info     ] DQN_online_20220729203654: epoch=110 step=110000 epoch=110 metrics={'time_inference': 0.0015591461658477784, 'time_environment_step': 4.602360725402832e-05, 'time_step': 0.0028638749122619628, 'rollout_return': 3.018867924528302, 'time_sample_batch': 0.00032374143600463865, 'time_algorithm_update': 0.010949265956878663, 'loss': 0.11062808426097036, 'evaluation': 3.6} step=110000\n",
      "2022-07-29 20:41.05 [info     ] Model parameters are saved to d3rlpy_logs\\DQN_online_20220729203654\\model_111000.pt\n",
      "2022-07-29 20:41.05 [info     ] DQN_online_20220729203654: epoch=111 step=111000 epoch=111 metrics={'time_inference': 0.0010221612453460694, 'time_environment_step': 3.1689167022705075e-05, 'time_step': 0.0019299113750457764, 'rollout_return': 3.068702290076336, 'time_sample_batch': 0.00016416072845458984, 'time_algorithm_update': 0.007536301612854004, 'loss': 0.11803479410707951, 'evaluation': 3.6} step=111000\n",
      "2022-07-29 20:41.08 [info     ] Model parameters are saved to d3rlpy_logs\\DQN_online_20220729203654\\model_112000.pt\n",
      "2022-07-29 20:41.08 [info     ] DQN_online_20220729203654: epoch=112 step=112000 epoch=112 metrics={'time_inference': 0.0014444775581359864, 'time_environment_step': 5.2110671997070315e-05, 'time_step': 0.0026688630580902098, 'rollout_return': 2.872262773722628, 'time_sample_batch': 0.00033650875091552736, 'time_algorithm_update': 0.010178742408752441, 'loss': 0.12530114743858575, 'evaluation': 3.4} step=112000\n"
     ]
    },
    {
     "name": "stdout",
     "output_type": "stream",
     "text": [
      "2022-07-29 20:41.11 [info     ] Model parameters are saved to d3rlpy_logs\\DQN_online_20220729203654\\model_113000.pt\n",
      "2022-07-29 20:41.11 [info     ] DQN_online_20220729203654: epoch=113 step=113000 epoch=113 metrics={'time_inference': 0.0012943923473358154, 'time_environment_step': 4.304862022399902e-05, 'time_step': 0.002413138151168823, 'rollout_return': 2.8796992481203008, 'time_sample_batch': 0.00024608135223388674, 'time_algorithm_update': 0.009230849742889404, 'loss': 0.1224897537752986, 'evaluation': 4.0} step=113000\n",
      "2022-07-29 20:41.13 [info     ] Model parameters are saved to d3rlpy_logs\\DQN_online_20220729203654\\model_114000.pt\n",
      "2022-07-29 20:41.13 [info     ] DQN_online_20220729203654: epoch=114 step=114000 epoch=114 metrics={'time_inference': 0.001274198293685913, 'time_environment_step': 4.2238473892211914e-05, 'rollout_return': 3.0634328358208953, 'time_step': 0.0023850975036621095, 'time_sample_batch': 0.00023446559906005858, 'time_algorithm_update': 0.009123404026031495, 'loss': 0.11277760984376073, 'evaluation': 3.7} step=114000\n",
      "2022-07-29 20:41.16 [info     ] Model parameters are saved to d3rlpy_logs\\DQN_online_20220729203654\\model_115000.pt\n",
      "2022-07-29 20:41.16 [info     ] DQN_online_20220729203654: epoch=115 step=115000 epoch=115 metrics={'time_inference': 0.0014349410533905029, 'time_environment_step': 4.738616943359375e-05, 'time_step': 0.0026500937938690188, 'rollout_return': 2.922222222222222, 'time_sample_batch': 0.0002712154388427734, 'time_algorithm_update': 0.010183138847351074, 'loss': 0.11424314748495817, 'evaluation': 4.0} step=115000\n",
      "2022-07-29 20:41.18 [info     ] Model parameters are saved to d3rlpy_logs\\DQN_online_20220729203654\\model_116000.pt\n",
      "2022-07-29 20:41.18 [info     ] DQN_online_20220729203654: epoch=116 step=116000 epoch=116 metrics={'time_inference': 0.001157750129699707, 'time_environment_step': 2.5945425033569334e-05, 'rollout_return': 2.883211678832117, 'time_step': 0.002109938383102417, 'time_sample_batch': 0.0002449774742126465, 'time_algorithm_update': 0.008127508163452148, 'loss': 0.11127873782068491, 'evaluation': 3.6} step=116000\n",
      "2022-07-29 20:41.21 [info     ] Model parameters are saved to d3rlpy_logs\\DQN_online_20220729203654\\model_117000.pt\n",
      "2022-07-29 20:41.21 [info     ] DQN_online_20220729203654: epoch=117 step=117000 epoch=117 metrics={'time_inference': 0.001565436840057373, 'time_environment_step': 4.733419418334961e-05, 'rollout_return': 2.9776119402985075, 'time_step': 0.00284612250328064, 'time_sample_batch': 0.00028600692749023435, 'time_algorithm_update': 0.010790646076202393, 'loss': 0.1138523195311427, 'evaluation': 3.2} step=117000\n",
      "2022-07-29 20:41.24 [info     ] Model parameters are saved to d3rlpy_logs\\DQN_online_20220729203654\\model_118000.pt\n",
      "2022-07-29 20:41.24 [info     ] DQN_online_20220729203654: epoch=118 step=118000 epoch=118 metrics={'time_inference': 0.001040985107421875, 'time_environment_step': 2.6843547821044923e-05, 'time_step': 0.0019420862197875976, 'rollout_return': 2.973977695167286, 'time_sample_batch': 0.00023958444595336914, 'time_algorithm_update': 0.007490935325622558, 'loss': 0.12542368717491625, 'evaluation': 3.6} step=118000\n",
      "2022-07-29 20:41.26 [info     ] Model parameters are saved to d3rlpy_logs\\DQN_online_20220729203654\\model_119000.pt\n",
      "2022-07-29 20:41.26 [info     ] DQN_online_20220729203654: epoch=119 step=119000 epoch=119 metrics={'time_inference': 0.0013195366859436034, 'time_environment_step': 4.960966110229492e-05, 'rollout_return': 2.955056179775281, 'time_step': 0.002464860439300537, 'time_sample_batch': 0.00027864933013916016, 'time_algorithm_update': 0.00944143533706665, 'loss': 0.10950381245464086, 'evaluation': 3.4} step=119000\n",
      "2022-07-29 20:41.29 [info     ] Model parameters are saved to d3rlpy_logs\\DQN_online_20220729203654\\model_120000.pt\n",
      "2022-07-29 20:41.29 [info     ] DQN_online_20220729203654: epoch=120 step=120000 epoch=120 metrics={'time_inference': 0.0013021631240844726, 'time_environment_step': 4.699373245239258e-05, 'time_step': 0.002427093029022217, 'rollout_return': 2.9851851851851854, 'time_sample_batch': 0.00027587175369262693, 'time_algorithm_update': 0.009329233169555664, 'loss': 0.11638542467728258, 'evaluation': 3.2} step=120000\n"
     ]
    }
   ],
   "source": [
    "online_dqn.fit_online(simple_online_train_env, buffer, explorer=explorer, eval_env=simple_online_train_env, n_steps=120000, \n",
    "                      n_steps_per_epoch=1000, update_interval=10) "
   ]
  },
  {
   "cell_type": "code",
   "execution_count": 1,
   "id": "729ab9f1",
   "metadata": {},
   "outputs": [
    {
     "ename": "NameError",
     "evalue": "name 'helper' is not defined",
     "output_type": "error",
     "traceback": [
      "\u001b[1;31m---------------------------------------------------------------------------\u001b[0m",
      "\u001b[1;31mNameError\u001b[0m                                 Traceback (most recent call last)",
      "\u001b[1;32m~\\AppData\\Local\\Temp\\ipykernel_12060\\2416491945.py\u001b[0m in \u001b[0;36m<module>\u001b[1;34m\u001b[0m\n\u001b[1;32m----> 1\u001b[1;33m \u001b[0monline_test_df\u001b[0m \u001b[1;33m=\u001b[0m \u001b[0mhelper\u001b[0m\u001b[1;33m.\u001b[0m\u001b[0mtest_d3rlpy_dqn\u001b[0m\u001b[1;33m(\u001b[0m\u001b[0monline_dqn\u001b[0m\u001b[1;33m,\u001b[0m \u001b[0msimple_online_test_env\u001b[0m\u001b[1;33m)\u001b[0m\u001b[1;33m\u001b[0m\u001b[1;33m\u001b[0m\u001b[0m\n\u001b[0m",
      "\u001b[1;31mNameError\u001b[0m: name 'helper' is not defined"
     ]
    }
   ],
   "source": [
    "online_test_df = helper.test_d3rlpy_dqn(online_dqn, simple_online_test_env)"
   ]
  },
  {
   "cell_type": "code",
   "execution_count": 8,
   "id": "c8fdf65c",
   "metadata": {},
   "outputs": [
    {
     "data": {
      "text/plain": [
       "(3000, 3000)"
      ]
     },
     "execution_count": 8,
     "metadata": {},
     "output_type": "execute_result"
    }
   ],
   "source": [
    "len(X_test), len(online_test_df)"
   ]
  },
  {
   "cell_type": "code",
   "execution_count": 10,
   "id": "67d09227",
   "metadata": {},
   "outputs": [
    {
     "data": {
      "text/plain": [
       "2507"
      ]
     },
     "execution_count": 10,
     "metadata": {},
     "output_type": "execute_result"
    }
   ],
   "source": [
    "y_pred_df = online_test_df[online_test_df['y_pred'].notna()]\n",
    "success_df = y_pred_df[y_pred_df['y_pred']== y_pred_df['y_actual']]\n",
    "len(success_df)"
   ]
  },
  {
   "cell_type": "code",
   "execution_count": 11,
   "id": "39147c83",
   "metadata": {},
   "outputs": [
    {
     "data": {
      "text/plain": [
       "83.56666666666666"
      ]
     },
     "execution_count": 11,
     "metadata": {},
     "output_type": "execute_result"
    }
   ],
   "source": [
    "success_rate = len(success_df)/len(online_test_df)*100\n",
    "success_rate"
   ]
  },
  {
   "cell_type": "code",
   "execution_count": 12,
   "id": "6deed51c",
   "metadata": {},
   "outputs": [
    {
     "data": {
      "text/plain": [
       "(3.9703333333333335, 3.6336666666666666)"
      ]
     },
     "execution_count": 12,
     "metadata": {},
     "output_type": "execute_result"
    }
   ],
   "source": [
    "#avg length and return \n",
    "avg_length, avg_return = helper.get_avg_length_reward(online_test_df)\n",
    "avg_length, avg_return"
   ]
  },
  {
   "cell_type": "code",
   "execution_count": 14,
   "id": "be3c576f",
   "metadata": {},
   "outputs": [
    {
     "data": {
      "text/plain": [
       "(0.8367823765020027, 0.8390825356105415, 0.8834565709254397)"
      ]
     },
     "execution_count": 14,
     "metadata": {},
     "output_type": "execute_result"
    }
   ],
   "source": [
    "acc, f1, roc_auc = helper.test(y_pred_df['y_actual'], y_pred_df['y_pred'])\n",
    "acc, f1, roc_auc"
   ]
  },
  {
   "cell_type": "markdown",
   "id": "8404f6b2",
   "metadata": {},
   "source": [
    "#### Offline"
   ]
  },
  {
   "cell_type": "code",
   "execution_count": 19,
   "id": "2b320e4e",
   "metadata": {},
   "outputs": [],
   "source": [
    "offline_dataset = MDPDataset.load('data/dqn_simple_dataset.h5')\n",
    "simple_offline_train_env = SyntheticSimpleEnv(X_train, y_train)\n",
    "simple_offline_test_env = SyntheticSimpleEnv(X_test, y_test, random=False)"
   ]
  },
  {
   "cell_type": "code",
   "execution_count": 18,
   "id": "a2411cf1",
   "metadata": {},
   "outputs": [
    {
     "name": "stdout",
     "output_type": "stream",
     "text": [
      "2022-07-29 20:56.04 [debug    ] RandomIterator is selected.\n",
      "2022-07-29 20:56.04 [info     ] Directory is created at d3rlpy_logs\\DQN_20220729205604\n",
      "2022-07-29 20:56.04 [debug    ] Building models...\n",
      "2022-07-29 20:56.04 [debug    ] Models have been built.\n",
      "2022-07-29 20:56.04 [info     ] Parameters are saved to d3rlpy_logs\\DQN_20220729205604\\params.json params={'action_scaler': None, 'batch_size': 32, 'encoder_factory': {'type': 'default', 'params': {'activation': 'relu', 'use_batch_norm': False, 'dropout_rate': None}}, 'gamma': 0.99, 'generated_maxlen': 100000, 'learning_rate': 6.25e-05, 'n_critics': 1, 'n_frames': 1, 'n_steps': 1, 'optim_factory': {'optim_cls': 'Adam', 'betas': (0.9, 0.999), 'eps': 1e-08, 'weight_decay': 0, 'amsgrad': False}, 'q_func_factory': {'type': 'mean', 'params': {'share_encoder': False}}, 'real_ratio': 1.0, 'reward_scaler': None, 'scaler': None, 'target_update_interval': 8000, 'use_gpu': None, 'algorithm': 'DQN', 'observation_shape': (3,), 'action_size': 6}\n"
     ]
    },
    {
     "data": {
      "application/vnd.jupyter.widget-view+json": {
       "model_id": "5c2e8989b40f4edca94994977447fdb0",
       "version_major": 2,
       "version_minor": 0
      },
      "text/plain": [
       "Epoch 1/12:   0%|          | 0/10000 [00:00<?, ?it/s]"
      ]
     },
     "metadata": {},
     "output_type": "display_data"
    },
    {
     "name": "stdout",
     "output_type": "stream",
     "text": [
      "2022-07-29 20:57.35 [info     ] DQN_20220729205604: epoch=1 step=10000 epoch=1 metrics={'time_sample_batch': 0.0004963466882705688, 'time_algorithm_update': 0.007851599740982056, 'loss': 0.3459163155451417, 'time_step': 0.008802766156196594, 'environment': -1.5} step=10000\n",
      "2022-07-29 20:57.35 [info     ] Model parameters are saved to d3rlpy_logs\\DQN_20220729205604\\model_10000.pt\n"
     ]
    },
    {
     "data": {
      "application/vnd.jupyter.widget-view+json": {
       "model_id": "610a594f453d47969489fff8b702ff44",
       "version_major": 2,
       "version_minor": 0
      },
      "text/plain": [
       "Epoch 2/12:   0%|          | 0/10000 [00:00<?, ?it/s]"
      ]
     },
     "metadata": {},
     "output_type": "display_data"
    },
    {
     "name": "stdout",
     "output_type": "stream",
     "text": [
      "2022-07-29 20:59.04 [info     ] DQN_20220729205604: epoch=2 step=20000 epoch=2 metrics={'time_sample_batch': 0.00048010497093200686, 'time_algorithm_update': 0.007798137092590332, 'loss': 0.26114884775057434, 'time_step': 0.008700963139533996, 'environment': -4.6} step=20000\n",
      "2022-07-29 20:59.04 [info     ] Model parameters are saved to d3rlpy_logs\\DQN_20220729205604\\model_20000.pt\n"
     ]
    },
    {
     "data": {
      "application/vnd.jupyter.widget-view+json": {
       "model_id": "80ec380c19454be08b05390b61d3d221",
       "version_major": 2,
       "version_minor": 0
      },
      "text/plain": [
       "Epoch 3/12:   0%|          | 0/10000 [00:00<?, ?it/s]"
      ]
     },
     "metadata": {},
     "output_type": "display_data"
    },
    {
     "name": "stdout",
     "output_type": "stream",
     "text": [
      "2022-07-29 21:00.34 [info     ] DQN_20220729205604: epoch=3 step=30000 epoch=3 metrics={'time_sample_batch': 0.00047753713130950926, 'time_algorithm_update': 0.007797300910949707, 'loss': 0.22103062183186412, 'time_step': 0.00867125174999237, 'environment': -3.0} step=30000\n",
      "2022-07-29 21:00.34 [info     ] Model parameters are saved to d3rlpy_logs\\DQN_20220729205604\\model_30000.pt\n"
     ]
    },
    {
     "data": {
      "application/vnd.jupyter.widget-view+json": {
       "model_id": "02814a3b13504050bfd9a93519ff2e2c",
       "version_major": 2,
       "version_minor": 0
      },
      "text/plain": [
       "Epoch 4/12:   0%|          | 0/10000 [00:00<?, ?it/s]"
      ]
     },
     "metadata": {},
     "output_type": "display_data"
    },
    {
     "name": "stdout",
     "output_type": "stream",
     "text": [
      "2022-07-29 21:02.00 [info     ] DQN_20220729205604: epoch=4 step=40000 epoch=4 metrics={'time_sample_batch': 0.0004535848379135132, 'time_algorithm_update': 0.007609726071357727, 'loss': 0.1586648769404739, 'time_step': 0.00845857036113739, 'environment': -0.9} step=40000\n",
      "2022-07-29 21:02.00 [info     ] Model parameters are saved to d3rlpy_logs\\DQN_20220729205604\\model_40000.pt\n"
     ]
    },
    {
     "data": {
      "application/vnd.jupyter.widget-view+json": {
       "model_id": "7d7f5bf1b1724c87ad9486ee6907a948",
       "version_major": 2,
       "version_minor": 0
      },
      "text/plain": [
       "Epoch 5/12:   0%|          | 0/10000 [00:00<?, ?it/s]"
      ]
     },
     "metadata": {},
     "output_type": "display_data"
    },
    {
     "name": "stdout",
     "output_type": "stream",
     "text": [
      "2022-07-29 21:03.28 [info     ] DQN_20220729205604: epoch=5 step=50000 epoch=5 metrics={'time_sample_batch': 0.00045339446067810057, 'time_algorithm_update': 0.0076961973667144775, 'loss': 0.11598078709822147, 'time_step': 0.008524190926551819, 'environment': 2.3} step=50000\n",
      "2022-07-29 21:03.28 [info     ] Model parameters are saved to d3rlpy_logs\\DQN_20220729205604\\model_50000.pt\n"
     ]
    },
    {
     "data": {
      "application/vnd.jupyter.widget-view+json": {
       "model_id": "376e60c9667c47b1b92020af7547202e",
       "version_major": 2,
       "version_minor": 0
      },
      "text/plain": [
       "Epoch 6/12:   0%|          | 0/10000 [00:00<?, ?it/s]"
      ]
     },
     "metadata": {},
     "output_type": "display_data"
    },
    {
     "name": "stdout",
     "output_type": "stream",
     "text": [
      "2022-07-29 21:04.44 [info     ] DQN_20220729205604: epoch=6 step=60000 epoch=6 metrics={'time_sample_batch': 0.00039135234355926516, 'time_algorithm_update': 0.006762499737739563, 'loss': 0.10929135550744831, 'time_step': 0.00746098051071167, 'environment': -0.8} step=60000\n",
      "2022-07-29 21:04.44 [info     ] Model parameters are saved to d3rlpy_logs\\DQN_20220729205604\\model_60000.pt\n"
     ]
    },
    {
     "data": {
      "application/vnd.jupyter.widget-view+json": {
       "model_id": "5e44b58edf7f4af4b820928d6fa3e066",
       "version_major": 2,
       "version_minor": 0
      },
      "text/plain": [
       "Epoch 7/12:   0%|          | 0/10000 [00:00<?, ?it/s]"
      ]
     },
     "metadata": {},
     "output_type": "display_data"
    },
    {
     "name": "stdout",
     "output_type": "stream",
     "text": [
      "2022-07-29 21:05.54 [info     ] DQN_20220729205604: epoch=7 step=70000 epoch=7 metrics={'time_sample_batch': 0.00035663702487945557, 'time_algorithm_update': 0.006184486532211304, 'loss': 0.10894690727936104, 'time_step': 0.00684428346157074, 'environment': 1.6} step=70000\n",
      "2022-07-29 21:05.54 [info     ] Model parameters are saved to d3rlpy_logs\\DQN_20220729205604\\model_70000.pt\n"
     ]
    },
    {
     "data": {
      "application/vnd.jupyter.widget-view+json": {
       "model_id": "44fe47905b3b495fb25c3ce163606003",
       "version_major": 2,
       "version_minor": 0
      },
      "text/plain": [
       "Epoch 8/12:   0%|          | 0/10000 [00:00<?, ?it/s]"
      ]
     },
     "metadata": {},
     "output_type": "display_data"
    },
    {
     "name": "stdout",
     "output_type": "stream",
     "text": [
      "2022-07-29 21:07.06 [info     ] DQN_20220729205604: epoch=8 step=80000 epoch=8 metrics={'time_sample_batch': 0.00035919458866119386, 'time_algorithm_update': 0.006380054235458374, 'loss': 0.11639473493695258, 'time_step': 0.007037436699867249, 'environment': 1.1} step=80000\n",
      "2022-07-29 21:07.06 [info     ] Model parameters are saved to d3rlpy_logs\\DQN_20220729205604\\model_80000.pt\n"
     ]
    },
    {
     "data": {
      "application/vnd.jupyter.widget-view+json": {
       "model_id": "2ecebd401b1a48f18645fb418d90c718",
       "version_major": 2,
       "version_minor": 0
      },
      "text/plain": [
       "Epoch 9/12:   0%|          | 0/10000 [00:00<?, ?it/s]"
      ]
     },
     "metadata": {},
     "output_type": "display_data"
    },
    {
     "name": "stdout",
     "output_type": "stream",
     "text": [
      "2022-07-29 21:08.18 [info     ] DQN_20220729205604: epoch=9 step=90000 epoch=9 metrics={'time_sample_batch': 0.0003602618217468262, 'time_algorithm_update': 0.006418586802482605, 'loss': 0.11403368643736467, 'time_step': 0.0070811615705490116, 'environment': -0.7} step=90000\n",
      "2022-07-29 21:08.18 [info     ] Model parameters are saved to d3rlpy_logs\\DQN_20220729205604\\model_90000.pt\n"
     ]
    },
    {
     "data": {
      "application/vnd.jupyter.widget-view+json": {
       "model_id": "41724db05eac4f43a9d079430820a13d",
       "version_major": 2,
       "version_minor": 0
      },
      "text/plain": [
       "Epoch 10/12:   0%|          | 0/10000 [00:00<?, ?it/s]"
      ]
     },
     "metadata": {},
     "output_type": "display_data"
    },
    {
     "name": "stdout",
     "output_type": "stream",
     "text": [
      "2022-07-29 21:09.31 [info     ] DQN_20220729205604: epoch=10 step=100000 epoch=10 metrics={'time_sample_batch': 0.00036128361225128174, 'time_algorithm_update': 0.006477787351608276, 'loss': 0.10713017215915024, 'time_step': 0.007139286565780639, 'environment': 1.3} step=100000\n",
      "2022-07-29 21:09.31 [info     ] Model parameters are saved to d3rlpy_logs\\DQN_20220729205604\\model_100000.pt\n"
     ]
    },
    {
     "data": {
      "application/vnd.jupyter.widget-view+json": {
       "model_id": "0c2472321f9449debbff2eea80b37ed6",
       "version_major": 2,
       "version_minor": 0
      },
      "text/plain": [
       "Epoch 11/12:   0%|          | 0/10000 [00:00<?, ?it/s]"
      ]
     },
     "metadata": {},
     "output_type": "display_data"
    },
    {
     "name": "stdout",
     "output_type": "stream",
     "text": [
      "2022-07-29 21:10.46 [info     ] DQN_20220729205604: epoch=11 step=110000 epoch=11 metrics={'time_sample_batch': 0.0003677783727645874, 'time_algorithm_update': 0.006686350655555725, 'loss': 0.1054789417117834, 'time_step': 0.0073614606380462645, 'environment': 2.5} step=110000\n",
      "2022-07-29 21:10.46 [info     ] Model parameters are saved to d3rlpy_logs\\DQN_20220729205604\\model_110000.pt\n"
     ]
    },
    {
     "data": {
      "application/vnd.jupyter.widget-view+json": {
       "model_id": "ff2d7585ba8a419f9f043e36c14ee957",
       "version_major": 2,
       "version_minor": 0
      },
      "text/plain": [
       "Epoch 12/12:   0%|          | 0/10000 [00:00<?, ?it/s]"
      ]
     },
     "metadata": {},
     "output_type": "display_data"
    },
    {
     "name": "stdout",
     "output_type": "stream",
     "text": [
      "2022-07-29 21:12.05 [info     ] DQN_20220729205604: epoch=12 step=120000 epoch=12 metrics={'time_sample_batch': 0.00038762409687042237, 'time_algorithm_update': 0.007022116637229919, 'loss': 0.10050704800421371, 'time_step': 0.007734153461456299, 'environment': 0.7} step=120000\n",
      "2022-07-29 21:12.05 [info     ] Model parameters are saved to d3rlpy_logs\\DQN_20220729205604\\model_120000.pt\n"
     ]
    },
    {
     "data": {
      "text/plain": [
       "[(1,\n",
       "  {'time_sample_batch': 0.0004963466882705688,\n",
       "   'time_algorithm_update': 0.007851599740982056,\n",
       "   'loss': 0.3459163155451417,\n",
       "   'time_step': 0.008802766156196594,\n",
       "   'environment': -1.5}),\n",
       " (2,\n",
       "  {'time_sample_batch': 0.00048010497093200686,\n",
       "   'time_algorithm_update': 0.007798137092590332,\n",
       "   'loss': 0.26114884775057434,\n",
       "   'time_step': 0.008700963139533996,\n",
       "   'environment': -4.6}),\n",
       " (3,\n",
       "  {'time_sample_batch': 0.00047753713130950926,\n",
       "   'time_algorithm_update': 0.007797300910949707,\n",
       "   'loss': 0.22103062183186412,\n",
       "   'time_step': 0.00867125174999237,\n",
       "   'environment': -3.0}),\n",
       " (4,\n",
       "  {'time_sample_batch': 0.0004535848379135132,\n",
       "   'time_algorithm_update': 0.007609726071357727,\n",
       "   'loss': 0.1586648769404739,\n",
       "   'time_step': 0.00845857036113739,\n",
       "   'environment': -0.9}),\n",
       " (5,\n",
       "  {'time_sample_batch': 0.00045339446067810057,\n",
       "   'time_algorithm_update': 0.0076961973667144775,\n",
       "   'loss': 0.11598078709822147,\n",
       "   'time_step': 0.008524190926551819,\n",
       "   'environment': 2.3}),\n",
       " (6,\n",
       "  {'time_sample_batch': 0.00039135234355926516,\n",
       "   'time_algorithm_update': 0.006762499737739563,\n",
       "   'loss': 0.10929135550744831,\n",
       "   'time_step': 0.00746098051071167,\n",
       "   'environment': -0.8}),\n",
       " (7,\n",
       "  {'time_sample_batch': 0.00035663702487945557,\n",
       "   'time_algorithm_update': 0.006184486532211304,\n",
       "   'loss': 0.10894690727936104,\n",
       "   'time_step': 0.00684428346157074,\n",
       "   'environment': 1.6}),\n",
       " (8,\n",
       "  {'time_sample_batch': 0.00035919458866119386,\n",
       "   'time_algorithm_update': 0.006380054235458374,\n",
       "   'loss': 0.11639473493695258,\n",
       "   'time_step': 0.007037436699867249,\n",
       "   'environment': 1.1}),\n",
       " (9,\n",
       "  {'time_sample_batch': 0.0003602618217468262,\n",
       "   'time_algorithm_update': 0.006418586802482605,\n",
       "   'loss': 0.11403368643736467,\n",
       "   'time_step': 0.0070811615705490116,\n",
       "   'environment': -0.7}),\n",
       " (10,\n",
       "  {'time_sample_batch': 0.00036128361225128174,\n",
       "   'time_algorithm_update': 0.006477787351608276,\n",
       "   'loss': 0.10713017215915024,\n",
       "   'time_step': 0.007139286565780639,\n",
       "   'environment': 1.3}),\n",
       " (11,\n",
       "  {'time_sample_batch': 0.0003677783727645874,\n",
       "   'time_algorithm_update': 0.006686350655555725,\n",
       "   'loss': 0.1054789417117834,\n",
       "   'time_step': 0.0073614606380462645,\n",
       "   'environment': 2.5}),\n",
       " (12,\n",
       "  {'time_sample_batch': 0.00038762409687042237,\n",
       "   'time_algorithm_update': 0.007022116637229919,\n",
       "   'loss': 0.10050704800421371,\n",
       "   'time_step': 0.007734153461456299,\n",
       "   'environment': 0.7})]"
      ]
     },
     "execution_count": 18,
     "metadata": {},
     "output_type": "execute_result"
    }
   ],
   "source": [
    "offline_dqn = d3rlpy.algos.DQN()\n",
    "offline_dqn.fit(offline_dataset, eval_episodes=offline_dataset.episodes, n_steps=120000, n_steps_per_epoch=10000, \n",
    "        scorers={\"environment\": d3rlpy.metrics.evaluate_on_environment(simple_offline_train_env),\n",
    "                },\n",
    "       )"
   ]
  },
  {
   "cell_type": "code",
   "execution_count": 20,
   "id": "433e73c1",
   "metadata": {},
   "outputs": [
    {
     "name": "stdout",
     "output_type": "stream",
     "text": [
      "0\n",
      "1000\n",
      "2000\n",
      "Testing done.....\n"
     ]
    }
   ],
   "source": [
    "offline_test_df = helper.test_d3rlpy_dqn(offline_dqn, simple_offline_test_env)"
   ]
  },
  {
   "cell_type": "code",
   "execution_count": 21,
   "id": "853fbcab",
   "metadata": {},
   "outputs": [
    {
     "data": {
      "text/plain": [
       "(3000, 3000)"
      ]
     },
     "execution_count": 21,
     "metadata": {},
     "output_type": "execute_result"
    }
   ],
   "source": [
    "len(X_test), len(offline_test_df)"
   ]
  },
  {
   "cell_type": "code",
   "execution_count": 22,
   "id": "c97bd0fd",
   "metadata": {},
   "outputs": [
    {
     "data": {
      "text/plain": [
       "1049"
      ]
     },
     "execution_count": 22,
     "metadata": {},
     "output_type": "execute_result"
    }
   ],
   "source": [
    "y_pred_df = offline_test_df[offline_test_df['y_pred'].notna()]\n",
    "success_df = y_pred_df[y_pred_df['y_pred']== y_pred_df['y_actual']]\n",
    "len(success_df)"
   ]
  },
  {
   "cell_type": "code",
   "execution_count": 23,
   "id": "c837701c",
   "metadata": {},
   "outputs": [
    {
     "data": {
      "text/plain": [
       "34.96666666666667"
      ]
     },
     "execution_count": 23,
     "metadata": {},
     "output_type": "execute_result"
    }
   ],
   "source": [
    "success_rate = len(success_df)/len(offline_test_df)*100\n",
    "success_rate"
   ]
  },
  {
   "cell_type": "code",
   "execution_count": 24,
   "id": "abaf98c7",
   "metadata": {},
   "outputs": [
    {
     "data": {
      "text/plain": [
       "(3.147, 0.045)"
      ]
     },
     "execution_count": 24,
     "metadata": {},
     "output_type": "execute_result"
    }
   ],
   "source": [
    "#avg length and return \n",
    "avg_length, avg_return = helper.get_avg_length_reward(offline_test_df)\n",
    "avg_length, avg_return"
   ]
  },
  {
   "cell_type": "code",
   "execution_count": 25,
   "id": "7f4b6b8b",
   "metadata": {},
   "outputs": [
    {
     "data": {
      "text/plain": [
       "(0.434009102192801, 0.2124771570719668, 0.5055197159671433)"
      ]
     },
     "execution_count": 25,
     "metadata": {},
     "output_type": "execute_result"
    }
   ],
   "source": [
    "acc, f1, roc_auc = helper.test(y_pred_df['y_actual'], y_pred_df['y_pred'])\n",
    "acc, f1, roc_auc"
   ]
  },
  {
   "cell_type": "code",
   "execution_count": null,
   "id": "8244dba4",
   "metadata": {},
   "outputs": [],
   "source": []
  }
 ],
 "metadata": {
  "kernelspec": {
   "display_name": "Python 3 (ipykernel)",
   "language": "python",
   "name": "python3"
  },
  "language_info": {
   "codemirror_mode": {
    "name": "ipython",
    "version": 3
   },
   "file_extension": ".py",
   "mimetype": "text/x-python",
   "name": "python",
   "nbconvert_exporter": "python",
   "pygments_lexer": "ipython3",
   "version": "3.7.4"
  }
 },
 "nbformat": 4,
 "nbformat_minor": 5
}

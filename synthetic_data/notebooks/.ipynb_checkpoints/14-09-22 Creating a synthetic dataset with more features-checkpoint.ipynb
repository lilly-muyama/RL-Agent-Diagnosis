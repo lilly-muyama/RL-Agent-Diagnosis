{
 "cells": [
  {
   "cell_type": "code",
   "execution_count": 29,
   "id": "28374b86",
   "metadata": {},
   "outputs": [],
   "source": [
    "import pandas as pd\n",
    "import numpy as np\n",
    "import seaborn as sns\n",
    "import random\n",
    "import matplotlib.pyplot as plt\n",
    "%matplotlib inline"
   ]
  },
  {
   "cell_type": "code",
   "execution_count": 30,
   "id": "91251613",
   "metadata": {},
   "outputs": [],
   "source": [
    "SEED = 42\n",
    "random.seed(SEED)\n",
    "np.random.seed(SEED)"
   ]
  },
  {
   "cell_type": "code",
   "execution_count": 31,
   "id": "fdafde88",
   "metadata": {},
   "outputs": [],
   "source": [
    "def get_mean_std(norm_lower, norm_upper):\n",
    "    std = (norm_upper-norm_lower)/4\n",
    "    mean = norm_upper - (2*std)\n",
    "    return mean, std"
   ]
  },
  {
   "cell_type": "code",
   "execution_count": 32,
   "id": "594f6968",
   "metadata": {},
   "outputs": [
    {
     "data": {
      "text/plain": [
       "(1.0, 0.5)"
      ]
     },
     "execution_count": 32,
     "metadata": {},
     "output_type": "execute_result"
    }
   ],
   "source": [
    "get_mean_std(0, 2)"
   ]
  },
  {
   "cell_type": "code",
   "execution_count": 33,
   "id": "90113ddb",
   "metadata": {},
   "outputs": [],
   "source": [
    "feat_arr = [{'name':'hemoglobin', 'lower':12, 'upper':17.2, 'abnorm_lower':6, 'abnorm_upper':20},\n",
    "            {'name':'ferritin', 'lower':10, 'upper':336, 'abnorm_lower':1, 'abnorm_upper': 700},\n",
    "            {'name':'ret_count', 'lower':0.5, 'upper':2.5, 'abnorm_lower':0.1, 'abnorm_upper':6},\n",
    "            {'name':'segmented_neutrophils', 'lower':0, 'upper':1}, #0 absent\n",
    "            {'name':'serum_iron', 'lower':60, 'upper':170, 'abnorm_lower':20, 'abnorm_upper':250},\n",
    "            {'name':'tibc', 'lower':240, 'upper':450, 'abnorm_lower': 100, 'abnorm_upper':700},\n",
    "            {'name':'rbc', 'lower':3.8, 'upper':5.9, 'abnorm_lower': 2.5, 'abnorm_upper':7},\n",
    "            {'name':'mcv', 'lower':80, 'upper':100, 'abnorm_lower': 75, 'abnorm_upper':107},\n",
    "            {'name':'age', 'lower':20, 'upper':90, 'abnorm_lower':18, 'abnorm_upper':95},\n",
    "            {'name':'gender', 'lower':0, 'upper':1}, #0=Female 1=male\n",
    "            {'name':'indirect_bilirubin', 'lower':0.2, 'upper':1.2, 'abnorm_lower':0, 'abnorm_upper':3},\n",
    "            {'name':'transferrin', 'lower':204, 'upper':360, 'abnorm_lower':150, 'abnorm_upper':450},\n",
    "            {'name':'creatinine', 'lower':0.6, 'upper':1.3, 'abnorm_lower':0.2, 'abnorm_upper':2},\n",
    "            {'name':'cholestrol', 'lower':30, 'upper':100, 'abnorm_lower':0, 'abnorm_upper':150},\n",
    "            {'name':'copper', 'lower':62, 'upper':140, 'abnorm_lower':30, 'abnorm_upper':130},\n",
    "            {'name':'ethanol', 'lower':0, 'upper':50, 'abnorm_lower':0, 'abnorm_upper':80},\n",
    "            {'name':'folate', 'lower':2.7, 'upper':17, 'abnorm_lower':0.5, 'abnorm_upper':30},\n",
    "            {'name':'glucose', 'lower':70, 'upper':100, 'abnorm_lower':40, 'abnorm_upper':140},\n",
    "           ]"
   ]
  },
  {
   "cell_type": "code",
   "execution_count": 34,
   "id": "f2780a78",
   "metadata": {},
   "outputs": [],
   "source": [
    "# def clip_value(row, col, lowest_val, highest_val):\n",
    "#     if row[col] <= lowest_val:\n",
    "#         new_val = np.random.uniform(lowest_val, highest_val)\n",
    "#     else:\n",
    "#         new_val = row[col]\n",
    "#     return new_val"
   ]
  },
  {
   "cell_type": "code",
   "execution_count": 35,
   "id": "a3afc348",
   "metadata": {},
   "outputs": [],
   "source": [
    "def create_label(row):\n",
    "    if row['hemoglobin']> 13:\n",
    "        return 'No anemia'\n",
    "    elif (row['hemoglobin'] > 12) & (row['gender']==0):\n",
    "        return 'No anemia'\n",
    "    else:\n",
    "        if row['mcv']<80 :\n",
    "            if row['ferritin']<30:\n",
    "                return 'Iron deficiency anemia'\n",
    "            elif row['ferritin']>100:\n",
    "                return 'Anemia of chronic disease'\n",
    "            elif row['tibc']<450:\n",
    "                return 'Anemia of chronic disease'\n",
    "            elif row['tibc']>=450:\n",
    "                return 'Iron deficiency anemia'\n",
    "            else:\n",
    "                return 'Unspecified anemia'\n",
    "        elif row['mcv']<=100:\n",
    "            if row['ret_count'] <=2:\n",
    "                return 'Aplastic anemia'\n",
    "            elif row['ret_count'] > 2:\n",
    "                return 'Hemolytic anemia'\n",
    "            else:\n",
    "                return 'Unspecified anemia'\n",
    "\n",
    "        elif row['mcv']> 100:\n",
    "            if row['segmented_neutrophils']>0:\n",
    "                return 'Vitamin B12/Folate deficiency anemia'\n",
    "            else:\n",
    "                return 'Unspecified anemia'\n",
    "        else:\n",
    "            return 'Unspecified anemia'"
   ]
  },
  {
   "cell_type": "code",
   "execution_count": 36,
   "id": "0f89bc10",
   "metadata": {},
   "outputs": [],
   "source": [
    "# def normal_dist(df, feat_dict, num=None):\n",
    "#     col_name = feat_dict['name']\n",
    "#     mean, std = get_mean_std(feat_dict['lower'], feat_dict['upper'])\n",
    "#     #print(f'name:{col_name}, mean:{mean}, std:{std}')\n",
    "#     df[col_name] = np.random.normal(mean, std, num)\n",
    "#     col_values = df.apply(lambda row: clip_value(row, col_name, feat_dict['abnorm_lower'], feat_dict['lower']), axis=1).tolist()\n",
    "#     return col_values"
   ]
  },
  {
   "cell_type": "code",
   "execution_count": 37,
   "id": "1a24354d",
   "metadata": {},
   "outputs": [],
   "source": [
    "def uniform_dist(df, feat_dict, num=None):\n",
    "    col_name = feat_dict['name']\n",
    "    col_values = np.random.uniform(feat_dict['abnorm_lower'], feat_dict['abnorm_upper'], num)\n",
    "    return col_values"
   ]
  },
  {
   "cell_type": "code",
   "execution_count": 38,
   "id": "02abd17f",
   "metadata": {},
   "outputs": [],
   "source": [
    "def create_dataset(sample_num, dist_type='uniform'):\n",
    "    dataset = pd.DataFrame()\n",
    "    for feat_dict in feat_arr:\n",
    "        if feat_dict['name'] in ['gender', 'segmented_neutrophils']:\n",
    "            dataset[feat_dict['name']] = np.random.choice([feat_dict['lower'], feat_dict['upper']], sample_num)\n",
    "        elif dist_type=='normal':\n",
    "            dataset[feat_dict['name']] = normal_dist(dataset, feat_dict, sample_num)\n",
    "        else:\n",
    "            dataset[feat_dict['name']] = uniform_dist(dataset, feat_dict, sample_num)\n",
    "    dataset['old_label'] = dataset.apply(lambda row: create_label(row), axis=1)\n",
    "    return dataset"
   ]
  },
  {
   "cell_type": "markdown",
   "id": "390d4f26",
   "metadata": {},
   "source": [
    "#### delete from here"
   ]
  },
  {
   "cell_type": "markdown",
   "id": "120b92a5",
   "metadata": {},
   "source": [
    "#### end here"
   ]
  },
  {
   "cell_type": "code",
   "execution_count": 39,
   "id": "9492037a",
   "metadata": {},
   "outputs": [],
   "source": [
    "# norm_dataset = create_dataset(1000000, 'normal')\n",
    "# norm_dataset.head(3)"
   ]
  },
  {
   "cell_type": "code",
   "execution_count": 40,
   "id": "96cd22f0",
   "metadata": {},
   "outputs": [],
   "source": [
    "# norm_dataset.gender.value_counts()"
   ]
  },
  {
   "cell_type": "code",
   "execution_count": 41,
   "id": "d1e81bb0",
   "metadata": {},
   "outputs": [],
   "source": [
    "# norm_dataset.label.value_counts()"
   ]
  },
  {
   "cell_type": "markdown",
   "id": "31c3e0f8",
   "metadata": {},
   "source": [
    "#### Uniform distribution"
   ]
  },
  {
   "cell_type": "code",
   "execution_count": 42,
   "id": "392a4857",
   "metadata": {},
   "outputs": [],
   "source": [
    "uniform_dataset = create_dataset(500000, 'uniform')"
   ]
  },
  {
   "cell_type": "code",
   "execution_count": 43,
   "id": "3abbf202",
   "metadata": {},
   "outputs": [
    {
     "data": {
      "text/html": [
       "<div>\n",
       "<style scoped>\n",
       "    .dataframe tbody tr th:only-of-type {\n",
       "        vertical-align: middle;\n",
       "    }\n",
       "\n",
       "    .dataframe tbody tr th {\n",
       "        vertical-align: top;\n",
       "    }\n",
       "\n",
       "    .dataframe thead th {\n",
       "        text-align: right;\n",
       "    }\n",
       "</style>\n",
       "<table border=\"1\" class=\"dataframe\">\n",
       "  <thead>\n",
       "    <tr style=\"text-align: right;\">\n",
       "      <th></th>\n",
       "      <th>hemoglobin</th>\n",
       "      <th>ferritin</th>\n",
       "      <th>ret_count</th>\n",
       "      <th>segmented_neutrophils</th>\n",
       "      <th>serum_iron</th>\n",
       "      <th>tibc</th>\n",
       "      <th>rbc</th>\n",
       "      <th>mcv</th>\n",
       "      <th>age</th>\n",
       "      <th>gender</th>\n",
       "      <th>indirect_bilirubin</th>\n",
       "      <th>transferrin</th>\n",
       "      <th>creatinine</th>\n",
       "      <th>cholestrol</th>\n",
       "      <th>copper</th>\n",
       "      <th>ethanol</th>\n",
       "      <th>folate</th>\n",
       "      <th>glucose</th>\n",
       "      <th>old_label</th>\n",
       "    </tr>\n",
       "  </thead>\n",
       "  <tbody>\n",
       "    <tr>\n",
       "      <th>0</th>\n",
       "      <td>11.243562</td>\n",
       "      <td>210.077977</td>\n",
       "      <td>3.611418</td>\n",
       "      <td>0</td>\n",
       "      <td>218.036775</td>\n",
       "      <td>278.744646</td>\n",
       "      <td>3.636441</td>\n",
       "      <td>78.018120</td>\n",
       "      <td>86.370404</td>\n",
       "      <td>1</td>\n",
       "      <td>0.023658</td>\n",
       "      <td>304.995997</td>\n",
       "      <td>1.907599</td>\n",
       "      <td>48.457335</td>\n",
       "      <td>113.453604</td>\n",
       "      <td>40.948280</td>\n",
       "      <td>10.539183</td>\n",
       "      <td>90.434051</td>\n",
       "      <td>Anemia of chronic disease</td>\n",
       "    </tr>\n",
       "    <tr>\n",
       "      <th>1</th>\n",
       "      <td>19.310000</td>\n",
       "      <td>357.138739</td>\n",
       "      <td>2.251831</td>\n",
       "      <td>0</td>\n",
       "      <td>166.339471</td>\n",
       "      <td>664.997977</td>\n",
       "      <td>3.672425</td>\n",
       "      <td>97.706041</td>\n",
       "      <td>45.286651</td>\n",
       "      <td>1</td>\n",
       "      <td>0.241711</td>\n",
       "      <td>431.201168</td>\n",
       "      <td>0.406441</td>\n",
       "      <td>147.655611</td>\n",
       "      <td>70.859502</td>\n",
       "      <td>43.402668</td>\n",
       "      <td>23.180844</td>\n",
       "      <td>90.449374</td>\n",
       "      <td>No anemia</td>\n",
       "    </tr>\n",
       "    <tr>\n",
       "      <th>2</th>\n",
       "      <td>16.247915</td>\n",
       "      <td>451.115085</td>\n",
       "      <td>0.131716</td>\n",
       "      <td>0</td>\n",
       "      <td>230.701465</td>\n",
       "      <td>661.779913</td>\n",
       "      <td>6.899282</td>\n",
       "      <td>96.431631</td>\n",
       "      <td>51.278808</td>\n",
       "      <td>0</td>\n",
       "      <td>2.391879</td>\n",
       "      <td>285.282307</td>\n",
       "      <td>1.648165</td>\n",
       "      <td>15.259417</td>\n",
       "      <td>34.314192</td>\n",
       "      <td>11.548448</td>\n",
       "      <td>28.112940</td>\n",
       "      <td>122.910032</td>\n",
       "      <td>No anemia</td>\n",
       "    </tr>\n",
       "  </tbody>\n",
       "</table>\n",
       "</div>"
      ],
      "text/plain": [
       "   hemoglobin    ferritin  ret_count  segmented_neutrophils  serum_iron  \\\n",
       "0   11.243562  210.077977   3.611418                      0  218.036775   \n",
       "1   19.310000  357.138739   2.251831                      0  166.339471   \n",
       "2   16.247915  451.115085   0.131716                      0  230.701465   \n",
       "\n",
       "         tibc       rbc        mcv        age  gender  indirect_bilirubin  \\\n",
       "0  278.744646  3.636441  78.018120  86.370404       1            0.023658   \n",
       "1  664.997977  3.672425  97.706041  45.286651       1            0.241711   \n",
       "2  661.779913  6.899282  96.431631  51.278808       0            2.391879   \n",
       "\n",
       "   transferrin  creatinine  cholestrol      copper    ethanol     folate  \\\n",
       "0   304.995997    1.907599   48.457335  113.453604  40.948280  10.539183   \n",
       "1   431.201168    0.406441  147.655611   70.859502  43.402668  23.180844   \n",
       "2   285.282307    1.648165   15.259417   34.314192  11.548448  28.112940   \n",
       "\n",
       "      glucose                  old_label  \n",
       "0   90.434051  Anemia of chronic disease  \n",
       "1   90.449374                  No anemia  \n",
       "2  122.910032                  No anemia  "
      ]
     },
     "execution_count": 43,
     "metadata": {},
     "output_type": "execute_result"
    }
   ],
   "source": [
    "uniform_dataset.head(3)"
   ]
  },
  {
   "cell_type": "code",
   "execution_count": 44,
   "id": "1eaf5bc0",
   "metadata": {},
   "outputs": [
    {
     "data": {
      "text/html": [
       "<div>\n",
       "<style scoped>\n",
       "    .dataframe tbody tr th:only-of-type {\n",
       "        vertical-align: middle;\n",
       "    }\n",
       "\n",
       "    .dataframe tbody tr th {\n",
       "        vertical-align: top;\n",
       "    }\n",
       "\n",
       "    .dataframe thead th {\n",
       "        text-align: right;\n",
       "    }\n",
       "</style>\n",
       "<table border=\"1\" class=\"dataframe\">\n",
       "  <thead>\n",
       "    <tr style=\"text-align: right;\">\n",
       "      <th></th>\n",
       "      <th>hemoglobin</th>\n",
       "      <th>ferritin</th>\n",
       "      <th>ret_count</th>\n",
       "      <th>segmented_neutrophils</th>\n",
       "      <th>serum_iron</th>\n",
       "      <th>tibc</th>\n",
       "      <th>rbc</th>\n",
       "      <th>mcv</th>\n",
       "      <th>age</th>\n",
       "      <th>gender</th>\n",
       "      <th>indirect_bilirubin</th>\n",
       "      <th>transferrin</th>\n",
       "      <th>creatinine</th>\n",
       "      <th>cholestrol</th>\n",
       "      <th>copper</th>\n",
       "      <th>ethanol</th>\n",
       "      <th>folate</th>\n",
       "      <th>glucose</th>\n",
       "    </tr>\n",
       "  </thead>\n",
       "  <tbody>\n",
       "    <tr>\n",
       "      <th>count</th>\n",
       "      <td>500000.000000</td>\n",
       "      <td>500000.000000</td>\n",
       "      <td>500000.000000</td>\n",
       "      <td>500000.000000</td>\n",
       "      <td>500000.000000</td>\n",
       "      <td>500000.000000</td>\n",
       "      <td>500000.000000</td>\n",
       "      <td>500000.000000</td>\n",
       "      <td>500000.000000</td>\n",
       "      <td>500000.000000</td>\n",
       "      <td>500000.000000</td>\n",
       "      <td>500000.000000</td>\n",
       "      <td>500000.000000</td>\n",
       "      <td>500000.000000</td>\n",
       "      <td>500000.000000</td>\n",
       "      <td>500000.000000</td>\n",
       "      <td>500000.000000</td>\n",
       "      <td>500000.000000</td>\n",
       "    </tr>\n",
       "    <tr>\n",
       "      <th>mean</th>\n",
       "      <td>13.003971</td>\n",
       "      <td>350.769359</td>\n",
       "      <td>3.045332</td>\n",
       "      <td>0.498884</td>\n",
       "      <td>134.943555</td>\n",
       "      <td>400.026614</td>\n",
       "      <td>4.753610</td>\n",
       "      <td>90.993877</td>\n",
       "      <td>56.480173</td>\n",
       "      <td>0.499352</td>\n",
       "      <td>1.500213</td>\n",
       "      <td>299.894903</td>\n",
       "      <td>1.100455</td>\n",
       "      <td>74.970478</td>\n",
       "      <td>79.989495</td>\n",
       "      <td>40.001671</td>\n",
       "      <td>15.241994</td>\n",
       "      <td>90.064706</td>\n",
       "    </tr>\n",
       "    <tr>\n",
       "      <th>std</th>\n",
       "      <td>4.039662</td>\n",
       "      <td>201.756022</td>\n",
       "      <td>1.701648</td>\n",
       "      <td>0.499999</td>\n",
       "      <td>66.403089</td>\n",
       "      <td>173.246047</td>\n",
       "      <td>1.298912</td>\n",
       "      <td>9.245392</td>\n",
       "      <td>22.226400</td>\n",
       "      <td>0.500000</td>\n",
       "      <td>0.866253</td>\n",
       "      <td>86.562405</td>\n",
       "      <td>0.519701</td>\n",
       "      <td>43.352213</td>\n",
       "      <td>28.860783</td>\n",
       "      <td>23.093249</td>\n",
       "      <td>8.510158</td>\n",
       "      <td>28.885822</td>\n",
       "    </tr>\n",
       "    <tr>\n",
       "      <th>min</th>\n",
       "      <td>6.000031</td>\n",
       "      <td>1.000363</td>\n",
       "      <td>0.100003</td>\n",
       "      <td>0.000000</td>\n",
       "      <td>20.001088</td>\n",
       "      <td>100.000597</td>\n",
       "      <td>2.500006</td>\n",
       "      <td>75.000087</td>\n",
       "      <td>18.000030</td>\n",
       "      <td>0.000000</td>\n",
       "      <td>0.000002</td>\n",
       "      <td>150.000447</td>\n",
       "      <td>0.200001</td>\n",
       "      <td>0.000051</td>\n",
       "      <td>30.000102</td>\n",
       "      <td>0.000073</td>\n",
       "      <td>0.500014</td>\n",
       "      <td>40.000102</td>\n",
       "    </tr>\n",
       "    <tr>\n",
       "      <th>25%</th>\n",
       "      <td>9.500952</td>\n",
       "      <td>176.164267</td>\n",
       "      <td>1.572735</td>\n",
       "      <td>0.000000</td>\n",
       "      <td>77.406516</td>\n",
       "      <td>250.088456</td>\n",
       "      <td>3.628478</td>\n",
       "      <td>82.995188</td>\n",
       "      <td>37.238985</td>\n",
       "      <td>0.000000</td>\n",
       "      <td>0.751110</td>\n",
       "      <td>224.852627</td>\n",
       "      <td>0.649452</td>\n",
       "      <td>37.434317</td>\n",
       "      <td>55.042281</td>\n",
       "      <td>19.993881</td>\n",
       "      <td>7.875210</td>\n",
       "      <td>65.035262</td>\n",
       "    </tr>\n",
       "    <tr>\n",
       "      <th>50%</th>\n",
       "      <td>13.012940</td>\n",
       "      <td>350.600707</td>\n",
       "      <td>3.042479</td>\n",
       "      <td>0.000000</td>\n",
       "      <td>135.036083</td>\n",
       "      <td>399.866173</td>\n",
       "      <td>4.758423</td>\n",
       "      <td>90.979249</td>\n",
       "      <td>56.430450</td>\n",
       "      <td>0.000000</td>\n",
       "      <td>1.499021</td>\n",
       "      <td>299.995027</td>\n",
       "      <td>1.102095</td>\n",
       "      <td>74.922802</td>\n",
       "      <td>79.959037</td>\n",
       "      <td>40.007384</td>\n",
       "      <td>15.240238</td>\n",
       "      <td>90.104985</td>\n",
       "    </tr>\n",
       "    <tr>\n",
       "      <th>75%</th>\n",
       "      <td>16.498267</td>\n",
       "      <td>525.463125</td>\n",
       "      <td>4.517583</td>\n",
       "      <td>1.000000</td>\n",
       "      <td>192.382117</td>\n",
       "      <td>549.875849</td>\n",
       "      <td>5.878574</td>\n",
       "      <td>98.986917</td>\n",
       "      <td>75.744503</td>\n",
       "      <td>1.000000</td>\n",
       "      <td>2.250666</td>\n",
       "      <td>374.670476</td>\n",
       "      <td>1.550022</td>\n",
       "      <td>112.641018</td>\n",
       "      <td>104.973880</td>\n",
       "      <td>60.000531</td>\n",
       "      <td>22.615373</td>\n",
       "      <td>115.100372</td>\n",
       "    </tr>\n",
       "    <tr>\n",
       "      <th>max</th>\n",
       "      <td>19.999976</td>\n",
       "      <td>699.996456</td>\n",
       "      <td>5.999987</td>\n",
       "      <td>1.000000</td>\n",
       "      <td>249.999514</td>\n",
       "      <td>699.998180</td>\n",
       "      <td>6.999967</td>\n",
       "      <td>106.999996</td>\n",
       "      <td>94.999789</td>\n",
       "      <td>1.000000</td>\n",
       "      <td>2.999988</td>\n",
       "      <td>449.999975</td>\n",
       "      <td>1.999998</td>\n",
       "      <td>149.999887</td>\n",
       "      <td>129.999698</td>\n",
       "      <td>79.999894</td>\n",
       "      <td>29.999991</td>\n",
       "      <td>139.998894</td>\n",
       "    </tr>\n",
       "  </tbody>\n",
       "</table>\n",
       "</div>"
      ],
      "text/plain": [
       "          hemoglobin       ferritin      ret_count  segmented_neutrophils  \\\n",
       "count  500000.000000  500000.000000  500000.000000          500000.000000   \n",
       "mean       13.003971     350.769359       3.045332               0.498884   \n",
       "std         4.039662     201.756022       1.701648               0.499999   \n",
       "min         6.000031       1.000363       0.100003               0.000000   \n",
       "25%         9.500952     176.164267       1.572735               0.000000   \n",
       "50%        13.012940     350.600707       3.042479               0.000000   \n",
       "75%        16.498267     525.463125       4.517583               1.000000   \n",
       "max        19.999976     699.996456       5.999987               1.000000   \n",
       "\n",
       "          serum_iron           tibc            rbc            mcv  \\\n",
       "count  500000.000000  500000.000000  500000.000000  500000.000000   \n",
       "mean      134.943555     400.026614       4.753610      90.993877   \n",
       "std        66.403089     173.246047       1.298912       9.245392   \n",
       "min        20.001088     100.000597       2.500006      75.000087   \n",
       "25%        77.406516     250.088456       3.628478      82.995188   \n",
       "50%       135.036083     399.866173       4.758423      90.979249   \n",
       "75%       192.382117     549.875849       5.878574      98.986917   \n",
       "max       249.999514     699.998180       6.999967     106.999996   \n",
       "\n",
       "                 age         gender  indirect_bilirubin    transferrin  \\\n",
       "count  500000.000000  500000.000000       500000.000000  500000.000000   \n",
       "mean       56.480173       0.499352            1.500213     299.894903   \n",
       "std        22.226400       0.500000            0.866253      86.562405   \n",
       "min        18.000030       0.000000            0.000002     150.000447   \n",
       "25%        37.238985       0.000000            0.751110     224.852627   \n",
       "50%        56.430450       0.000000            1.499021     299.995027   \n",
       "75%        75.744503       1.000000            2.250666     374.670476   \n",
       "max        94.999789       1.000000            2.999988     449.999975   \n",
       "\n",
       "          creatinine     cholestrol         copper        ethanol  \\\n",
       "count  500000.000000  500000.000000  500000.000000  500000.000000   \n",
       "mean        1.100455      74.970478      79.989495      40.001671   \n",
       "std         0.519701      43.352213      28.860783      23.093249   \n",
       "min         0.200001       0.000051      30.000102       0.000073   \n",
       "25%         0.649452      37.434317      55.042281      19.993881   \n",
       "50%         1.102095      74.922802      79.959037      40.007384   \n",
       "75%         1.550022     112.641018     104.973880      60.000531   \n",
       "max         1.999998     149.999887     129.999698      79.999894   \n",
       "\n",
       "              folate        glucose  \n",
       "count  500000.000000  500000.000000  \n",
       "mean       15.241994      90.064706  \n",
       "std         8.510158      28.885822  \n",
       "min         0.500014      40.000102  \n",
       "25%         7.875210      65.035262  \n",
       "50%        15.240238      90.104985  \n",
       "75%        22.615373     115.100372  \n",
       "max        29.999991     139.998894  "
      ]
     },
     "execution_count": 44,
     "metadata": {},
     "output_type": "execute_result"
    }
   ],
   "source": [
    "uniform_dataset.describe()"
   ]
  },
  {
   "cell_type": "code",
   "execution_count": 45,
   "id": "e82ed6b1",
   "metadata": {},
   "outputs": [
    {
     "data": {
      "text/plain": [
       "0    250324\n",
       "1    249676\n",
       "Name: gender, dtype: int64"
      ]
     },
     "execution_count": 45,
     "metadata": {},
     "output_type": "execute_result"
    }
   ],
   "source": [
    "uniform_dataset.gender.value_counts()"
   ]
  },
  {
   "cell_type": "code",
   "execution_count": 46,
   "id": "d99330fb",
   "metadata": {},
   "outputs": [
    {
     "data": {
      "text/plain": [
       "No anemia                               268346\n",
       "Hemolytic anemia                         98008\n",
       "Aplastic anemia                          46480\n",
       "Anemia of chronic disease                33479\n",
       "Unspecified anemia                       25312\n",
       "Vitamin B12/Folate deficiency anemia     25304\n",
       "Iron deficiency anemia                    3071\n",
       "Name: old_label, dtype: int64"
      ]
     },
     "execution_count": 46,
     "metadata": {},
     "output_type": "execute_result"
    }
   ],
   "source": [
    "uniform_dataset.old_label.value_counts()"
   ]
  },
  {
   "cell_type": "markdown",
   "id": "f25af2e2",
   "metadata": {},
   "source": [
    "#### Simulating missing values"
   ]
  },
  {
   "cell_type": "code",
   "execution_count": 47,
   "id": "0f210a92",
   "metadata": {},
   "outputs": [],
   "source": [
    "def add_nans(df):\n",
    "    for col in df.columns:\n",
    "        if col not in ['old_label', 'hemoglobin', 'mcv', 'gender', 'age', 'gender']:\n",
    "            col_frac = round(random.uniform(0.1, 0.7), 1)\n",
    "            #print(f'col:{col}, frac:{col_frac}')\n",
    "            #df[col] = df[col].sample(frac=col_frac, random_state=SEED).reset_index(drop=True)\n",
    "            df.loc[df.sample(frac=col_frac, random_state=SEED).index, col] = np.nan\n",
    "    df['label'] = df.apply(lambda row: create_label(row), axis=1)\n",
    "    df['label'] = df['label'].fillna('Unspecified anemia')\n",
    "    return df"
   ]
  },
  {
   "cell_type": "code",
   "execution_count": 48,
   "id": "2b216df5",
   "metadata": {},
   "outputs": [
    {
     "data": {
      "text/html": [
       "<div>\n",
       "<style scoped>\n",
       "    .dataframe tbody tr th:only-of-type {\n",
       "        vertical-align: middle;\n",
       "    }\n",
       "\n",
       "    .dataframe tbody tr th {\n",
       "        vertical-align: top;\n",
       "    }\n",
       "\n",
       "    .dataframe thead th {\n",
       "        text-align: right;\n",
       "    }\n",
       "</style>\n",
       "<table border=\"1\" class=\"dataframe\">\n",
       "  <thead>\n",
       "    <tr style=\"text-align: right;\">\n",
       "      <th></th>\n",
       "      <th>hemoglobin</th>\n",
       "      <th>ferritin</th>\n",
       "      <th>ret_count</th>\n",
       "      <th>segmented_neutrophils</th>\n",
       "      <th>serum_iron</th>\n",
       "      <th>tibc</th>\n",
       "      <th>rbc</th>\n",
       "      <th>mcv</th>\n",
       "      <th>age</th>\n",
       "      <th>gender</th>\n",
       "      <th>indirect_bilirubin</th>\n",
       "      <th>transferrin</th>\n",
       "      <th>creatinine</th>\n",
       "      <th>cholestrol</th>\n",
       "      <th>copper</th>\n",
       "      <th>ethanol</th>\n",
       "      <th>folate</th>\n",
       "      <th>glucose</th>\n",
       "      <th>label</th>\n",
       "    </tr>\n",
       "  </thead>\n",
       "  <tbody>\n",
       "    <tr>\n",
       "      <th>0</th>\n",
       "      <td>11.243562</td>\n",
       "      <td>NaN</td>\n",
       "      <td>3.611418</td>\n",
       "      <td>0.0</td>\n",
       "      <td>218.036775</td>\n",
       "      <td>NaN</td>\n",
       "      <td>NaN</td>\n",
       "      <td>78.018120</td>\n",
       "      <td>86.370404</td>\n",
       "      <td>1</td>\n",
       "      <td>NaN</td>\n",
       "      <td>304.995997</td>\n",
       "      <td>NaN</td>\n",
       "      <td>48.457335</td>\n",
       "      <td>113.453604</td>\n",
       "      <td>NaN</td>\n",
       "      <td>10.539183</td>\n",
       "      <td>90.434051</td>\n",
       "      <td>Unspecified anemia</td>\n",
       "    </tr>\n",
       "    <tr>\n",
       "      <th>1</th>\n",
       "      <td>19.310000</td>\n",
       "      <td>357.138739</td>\n",
       "      <td>2.251831</td>\n",
       "      <td>0.0</td>\n",
       "      <td>166.339471</td>\n",
       "      <td>664.997977</td>\n",
       "      <td>3.672425</td>\n",
       "      <td>97.706041</td>\n",
       "      <td>45.286651</td>\n",
       "      <td>1</td>\n",
       "      <td>0.241711</td>\n",
       "      <td>431.201168</td>\n",
       "      <td>0.406441</td>\n",
       "      <td>147.655611</td>\n",
       "      <td>70.859502</td>\n",
       "      <td>43.402668</td>\n",
       "      <td>23.180844</td>\n",
       "      <td>90.449374</td>\n",
       "      <td>No anemia</td>\n",
       "    </tr>\n",
       "    <tr>\n",
       "      <th>2</th>\n",
       "      <td>16.247915</td>\n",
       "      <td>NaN</td>\n",
       "      <td>0.131716</td>\n",
       "      <td>NaN</td>\n",
       "      <td>NaN</td>\n",
       "      <td>NaN</td>\n",
       "      <td>NaN</td>\n",
       "      <td>96.431631</td>\n",
       "      <td>51.278808</td>\n",
       "      <td>0</td>\n",
       "      <td>NaN</td>\n",
       "      <td>NaN</td>\n",
       "      <td>NaN</td>\n",
       "      <td>15.259417</td>\n",
       "      <td>NaN</td>\n",
       "      <td>NaN</td>\n",
       "      <td>28.112940</td>\n",
       "      <td>NaN</td>\n",
       "      <td>No anemia</td>\n",
       "    </tr>\n",
       "    <tr>\n",
       "      <th>3</th>\n",
       "      <td>14.381219</td>\n",
       "      <td>694.530540</td>\n",
       "      <td>3.410418</td>\n",
       "      <td>1.0</td>\n",
       "      <td>64.362020</td>\n",
       "      <td>335.026698</td>\n",
       "      <td>3.611168</td>\n",
       "      <td>79.415885</td>\n",
       "      <td>86.571007</td>\n",
       "      <td>0</td>\n",
       "      <td>0.869521</td>\n",
       "      <td>352.346424</td>\n",
       "      <td>1.409694</td>\n",
       "      <td>79.928174</td>\n",
       "      <td>67.817426</td>\n",
       "      <td>32.048900</td>\n",
       "      <td>14.714770</td>\n",
       "      <td>133.970358</td>\n",
       "      <td>No anemia</td>\n",
       "    </tr>\n",
       "    <tr>\n",
       "      <th>4</th>\n",
       "      <td>8.184261</td>\n",
       "      <td>487.067819</td>\n",
       "      <td>5.389765</td>\n",
       "      <td>0.0</td>\n",
       "      <td>32.610605</td>\n",
       "      <td>577.489247</td>\n",
       "      <td>6.000037</td>\n",
       "      <td>90.184231</td>\n",
       "      <td>48.706332</td>\n",
       "      <td>0</td>\n",
       "      <td>NaN</td>\n",
       "      <td>206.654372</td>\n",
       "      <td>1.789641</td>\n",
       "      <td>134.362148</td>\n",
       "      <td>38.559706</td>\n",
       "      <td>36.376891</td>\n",
       "      <td>24.166456</td>\n",
       "      <td>59.624352</td>\n",
       "      <td>Hemolytic anemia</td>\n",
       "    </tr>\n",
       "  </tbody>\n",
       "</table>\n",
       "</div>"
      ],
      "text/plain": [
       "   hemoglobin    ferritin  ret_count  segmented_neutrophils  serum_iron  \\\n",
       "0   11.243562         NaN   3.611418                    0.0  218.036775   \n",
       "1   19.310000  357.138739   2.251831                    0.0  166.339471   \n",
       "2   16.247915         NaN   0.131716                    NaN         NaN   \n",
       "3   14.381219  694.530540   3.410418                    1.0   64.362020   \n",
       "4    8.184261  487.067819   5.389765                    0.0   32.610605   \n",
       "\n",
       "         tibc       rbc        mcv        age  gender  indirect_bilirubin  \\\n",
       "0         NaN       NaN  78.018120  86.370404       1                 NaN   \n",
       "1  664.997977  3.672425  97.706041  45.286651       1            0.241711   \n",
       "2         NaN       NaN  96.431631  51.278808       0                 NaN   \n",
       "3  335.026698  3.611168  79.415885  86.571007       0            0.869521   \n",
       "4  577.489247  6.000037  90.184231  48.706332       0                 NaN   \n",
       "\n",
       "   transferrin  creatinine  cholestrol      copper    ethanol     folate  \\\n",
       "0   304.995997         NaN   48.457335  113.453604        NaN  10.539183   \n",
       "1   431.201168    0.406441  147.655611   70.859502  43.402668  23.180844   \n",
       "2          NaN         NaN   15.259417         NaN        NaN  28.112940   \n",
       "3   352.346424    1.409694   79.928174   67.817426  32.048900  14.714770   \n",
       "4   206.654372    1.789641  134.362148   38.559706  36.376891  24.166456   \n",
       "\n",
       "      glucose               label  \n",
       "0   90.434051  Unspecified anemia  \n",
       "1   90.449374           No anemia  \n",
       "2         NaN           No anemia  \n",
       "3  133.970358           No anemia  \n",
       "4   59.624352    Hemolytic anemia  "
      ]
     },
     "execution_count": 48,
     "metadata": {},
     "output_type": "execute_result"
    }
   ],
   "source": [
    "uniform_df_with_nans = add_nans(uniform_dataset.copy())\n",
    "uniform_df_with_nans = uniform_df_with_nans.drop(['old_label'], axis=1)\n",
    "uniform_df_with_nans.head()"
   ]
  },
  {
   "cell_type": "code",
   "execution_count": 49,
   "id": "97d36b7b",
   "metadata": {},
   "outputs": [
    {
     "data": {
      "text/plain": [
       "No anemia                               268346\n",
       "Hemolytic anemia                         88192\n",
       "Unspecified anemia                       65601\n",
       "Aplastic anemia                          41921\n",
       "Vitamin B12/Folate deficiency anemia     17601\n",
       "Anemia of chronic disease                16830\n",
       "Iron deficiency anemia                    1509\n",
       "Name: label, dtype: int64"
      ]
     },
     "execution_count": 49,
     "metadata": {},
     "output_type": "execute_result"
    }
   ],
   "source": [
    "uniform_df_with_nans.label.value_counts()"
   ]
  },
  {
   "cell_type": "code",
   "execution_count": 23,
   "id": "4c559c07",
   "metadata": {},
   "outputs": [],
   "source": [
    "# total_sampled_df = pd.DataFrame()\n",
    "# min_count_value = uniform_df_with_nans.label.value_counts().min()\n",
    "# for label in uniform_df_with_nans.label.unique():\n",
    "#     label_df = uniform_df_with_nans[uniform_df_with_nans.label==label]\n",
    "#     label_indices = list(label_df.index)\n",
    "#     label_count = uniform_df_with_nans.label.value_counts()[label]\n",
    "#     percentage = ((label_count-min_count_value)/min_count_value)\n",
    "#     if percentage == 0:\n",
    "#         total_sampled_df = total_sampled_df.append(label_df)\n",
    "#     else:\n",
    "#         if label == 'Unspecified anemia':\n",
    "#             new_label_count = 1000\n",
    "#         elif percentage < 50:\n",
    "#             new_label_count = int(0.3* label_count)\n",
    "#         elif percentage > 100:\n",
    "#             new_label_count = int(0.005*label_count) #there is something wrong here investigate i.e. the value counts below should be much less I think\n",
    "#         else:\n",
    "#             new_label_count = int(0.01*label_count)\n",
    "#         sampled_indices = random.sample(label_indices, new_label_count, r)\n",
    "#         sampled_df = uniform_df_with_nans.loc[sampled_indices]\n",
    "#         total_sampled_df = total_sampled_df.append(sampled_df)\n",
    "# total_sampled_df = total_sampled_df.sample(frac=1).reset_index(drop=True)\n",
    "            \n",
    "# total_sampled_df.head()"
   ]
  },
  {
   "cell_type": "code",
   "execution_count": 50,
   "id": "37740a65",
   "metadata": {},
   "outputs": [],
   "source": [
    "uniform_df_with_nans.to_csv('data/anemia_synth_dataset_20_feats.csv', index=False)"
   ]
  },
  {
   "cell_type": "code",
   "execution_count": 26,
   "id": "fd61de78",
   "metadata": {},
   "outputs": [],
   "source": [
    "# len(total_sampled_df)"
   ]
  },
  {
   "cell_type": "code",
   "execution_count": 27,
   "id": "7313d98a",
   "metadata": {},
   "outputs": [],
   "source": [
    "# total_sampled_df.isna().sum()"
   ]
  },
  {
   "cell_type": "code",
   "execution_count": 28,
   "id": "f9e2f6fb",
   "metadata": {},
   "outputs": [],
   "source": [
    "# total_sampled_df.describe()"
   ]
  },
  {
   "cell_type": "markdown",
   "id": "330abe3d",
   "metadata": {},
   "source": [
    "#### Some plots"
   ]
  },
  {
   "cell_type": "code",
   "execution_count": 24,
   "id": "19274fca",
   "metadata": {},
   "outputs": [
    {
     "data": {
      "text/plain": [
       "<matplotlib.axes._subplots.AxesSubplot at 0x1d7699c7e08>"
      ]
     },
     "execution_count": 24,
     "metadata": {},
     "output_type": "execute_result"
    },
    {
     "data": {
      "image/png": "[encoded data removed]",
      "text/plain": [
       "<Figure size 432x288 with 1 Axes>"
      ]
     },
     "metadata": {
      "needs_background": "light"
     },
     "output_type": "display_data"
    }
   ],
   "source": [
    "plt.xticks(rotation=90)\n",
    "sns.countplot(x='label', data=total_sampled_df, palette = 'Set1')"
   ]
  },
  {
   "cell_type": "code",
   "execution_count": 28,
   "id": "25cffddd",
   "metadata": {},
   "outputs": [],
   "source": [
    "isna_series = total_sampled_df.isna().sum()"
   ]
  },
  {
   "cell_type": "code",
   "execution_count": 29,
   "id": "b3f08a48",
   "metadata": {},
   "outputs": [],
   "source": [
    "def plot_feature_frequencies(df):\n",
    "    output_df  = pd.DataFrame()\n",
    "    for col in df.columns:\n",
    "        if col != 'label':\n",
    "            missing_num = df.isna().sum()[col]\n",
    "            present_num = df.notna().sum()[col]\n",
    "            col_dict = {'feature name':col, 'present': present_num, 'missing':missing_num,}\n",
    "            output_df = output_df.append(col_dict, ignore_index=True)\n",
    "    output_df = output_df[['feature name', 'present', 'missing']]\n",
    "    output_df.plot(x='feature name', kind='bar', figsize=(8,6), stacked=True)\n",
    "    return output_df"
   ]
  },
  {
   "cell_type": "code",
   "execution_count": 30,
   "id": "ef820a6d",
   "metadata": {},
   "outputs": [
    {
     "data": {
      "image/png": "[encoded data removed]",
      "text/plain": [
       "<Figure size 576x432 with 1 Axes>"
      ]
     },
     "metadata": {
      "needs_background": "light"
     },
     "output_type": "display_data"
    }
   ],
   "source": [
    "output_df = plot_feature_frequencies(total_sampled_df)"
   ]
  },
  {
   "cell_type": "code",
   "execution_count": null,
   "id": "b7915eb7",
   "metadata": {},
   "outputs": [],
   "source": []
  }
 ],
 "metadata": {
  "kernelspec": {
   "display_name": "Python 3 (ipykernel)",
   "language": "python",
   "name": "python3"
  },
  "language_info": {
   "codemirror_mode": {
    "name": "ipython",
    "version": 3
   },
   "file_extension": ".py",
   "mimetype": "text/x-python",
   "name": "python",
   "nbconvert_exporter": "python",
   "pygments_lexer": "ipython3",
   "version": "3.7.4"
  }
 },
 "nbformat": 4,
 "nbformat_minor": 5
}

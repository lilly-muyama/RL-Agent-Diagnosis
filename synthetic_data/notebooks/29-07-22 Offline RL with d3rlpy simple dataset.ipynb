{
 "cells": [
  {
   "cell_type": "code",
   "execution_count": 41,
   "id": "3db77b2d",
   "metadata": {},
   "outputs": [],
   "source": [
    "import random\n",
    "import d3rlpy\n",
    "import numpy as np\n",
    "import pandas as pd\n",
    "import tensorflow\n",
    "import os\n",
    "from d3rlpy.algos import DQN\n",
    "from d3rlpy.dataset import MDPDataset\n",
    "from sklearn.model_selection import train_test_split\n",
    "from d3rlpy.metrics.scorer import td_error_scorer\n",
    "from d3rlpy.metrics.scorer import average_value_estimation_scorer\n",
    "from d3rlpy.metrics.scorer import evaluate_on_environment\n",
    "from envs import SyntheticSimpleEnv, SyntheticComplexEnv"
   ]
  },
  {
   "cell_type": "code",
   "execution_count": 42,
   "id": "a7643125",
   "metadata": {},
   "outputs": [],
   "source": [
    "SEED = 42\n",
    "random.seed(SEED)\n",
    "np.random.seed(SEED)\n",
    "tensorflow.set_random_seed(SEED)\n",
    "os.environ['PYTHONHASHSEED']=str(SEED)"
   ]
  },
  {
   "cell_type": "code",
   "execution_count": 43,
   "id": "8df1f262",
   "metadata": {},
   "outputs": [],
   "source": [
    "df_simple = pd.read_csv('data/dataset_10000.csv')\n",
    "class_dict_simple = {'A':0, 'B':1, 'C':2}\n",
    "df_simple['label'] = df_simple['label'].replace(class_dict_simple)\n",
    "X_simple = df_simple.iloc[:, 0:-1]\n",
    "y_simple = df_simple.iloc[:, -1]\n",
    "X_simple, y_simple = np.array(X_simple), np.array(y_simple)"
   ]
  },
  {
   "cell_type": "code",
   "execution_count": 44,
   "id": "4064a999",
   "metadata": {},
   "outputs": [],
   "source": [
    "df_complex = pd.read_csv('data/anemia_synth_dataset.csv')\n",
    "df_complex = df_complex.fillna(0)\n",
    "classes = list(df_complex.label.unique())\n",
    "nums = [i for i in range(len(classes))]\n",
    "class_dict_complex = dict(zip(classes, nums))\n",
    "df_complex['label'] = df_complex['label'].replace(class_dict_complex)\n",
    "X_complex = df_complex.iloc[:, 0:-1]\n",
    "y_complex = df_complex.iloc[:, -1]\n",
    "X_complex, y_complex = np.array(X_complex), np.array(y_complex)"
   ]
  },
  {
   "cell_type": "code",
   "execution_count": 45,
   "id": "ef406c95",
   "metadata": {},
   "outputs": [],
   "source": [
    "simple_env = SyntheticSimpleEnv(X_simple, y_simple)\n",
    "complex_env = SyntheticComplexEnv(X_complex, y_complex)"
   ]
  },
  {
   "cell_type": "markdown",
   "id": "c18c4766",
   "metadata": {},
   "source": [
    "#### Random dataset"
   ]
  },
  {
   "cell_type": "code",
   "execution_count": 20,
   "id": "9a3b94dc",
   "metadata": {},
   "outputs": [],
   "source": [
    "dataset = MDPDataset.load('data/random_simple_dataset.h5')"
   ]
  },
  {
   "cell_type": "code",
   "execution_count": 21,
   "id": "cacd8df2",
   "metadata": {},
   "outputs": [
    {
     "data": {
      "text/plain": [
       "50242"
      ]
     },
     "execution_count": 21,
     "metadata": {},
     "output_type": "execute_result"
    }
   ],
   "source": [
    "len(dataset.episodes)"
   ]
  },
  {
   "cell_type": "code",
   "execution_count": 49,
   "id": "5bbcf026",
   "metadata": {},
   "outputs": [],
   "source": [
    "def train_dqn(dataset, env, model_name):\n",
    "    dataset = MDPDataset.load(dataset)\n",
    "    train_episodes, test_episodes = train_test_split(dataset, test_size=0.3, random_state=SEED)\n",
    "    dqn = DQN(use_gpu = False)\n",
    "    dqn.build_with_dataset(dataset)\n",
    "    td_error = td_error_scorer(dqn, test_episodes)\n",
    "    evaluate_scorer = evaluate_on_environment(env)\n",
    "    rewards = evaluate_scorer(dqn)\n",
    "    dqn.fit(train_episodes,\n",
    "            eval_episodes=test_episodes,\n",
    "            n_epochs=10,\n",
    "            scorers={\n",
    "                'td_error': td_error_scorer,\n",
    "                'value_scale': average_value_estimation_scorer,\n",
    "                'environment': evaluate_scorer\n",
    "            })\n",
    "    dqn.save_model(f'{model_name}.pt')\n",
    "    return dqn"
   ]
  },
  {
   "cell_type": "code",
   "execution_count": 50,
   "id": "c573aec0",
   "metadata": {},
   "outputs": [
    {
     "name": "stdout",
     "output_type": "stream",
     "text": [
      "2022-07-29 17:02.24 [debug    ] RoundIterator is selected.\n",
      "2022-07-29 17:02.24 [info     ] Directory is created at d3rlpy_logs\\DQN_20220729170224\n",
      "2022-07-29 17:02.24 [warning  ] Skip building models since they're already built.\n",
      "2022-07-29 17:02.24 [info     ] Parameters are saved to d3rlpy_logs\\DQN_20220729170224\\params.json params={'action_scaler': None, 'batch_size': 32, 'encoder_factory': {'type': 'default', 'params': {'activation': 'relu', 'use_batch_norm': False, 'dropout_rate': None}}, 'gamma': 0.99, 'generated_maxlen': 100000, 'learning_rate': 6.25e-05, 'n_critics': 1, 'n_frames': 1, 'n_steps': 1, 'optim_factory': {'optim_cls': 'Adam', 'betas': (0.9, 0.999), 'eps': 1e-08, 'weight_decay': 0, 'amsgrad': False}, 'q_func_factory': {'type': 'mean', 'params': {'share_encoder': False}}, 'real_ratio': 1.0, 'reward_scaler': None, 'scaler': None, 'target_update_interval': 8000, 'use_gpu': None, 'algorithm': 'DQN', 'observation_shape': (3,), 'action_size': 6}\n"
     ]
    },
    {
     "data": {
      "application/vnd.jupyter.widget-view+json": {
       "model_id": "92daf5b66e554c6eacd2e72141e37f6f",
       "version_major": 2,
       "version_minor": 0
      },
      "text/plain": [
       "Epoch 1/10:   0%|          | 0/2190 [00:00<?, ?it/s]"
      ]
     },
     "metadata": {},
     "output_type": "display_data"
    },
    {
     "name": "stdout",
     "output_type": "stream",
     "text": [
      "2022-07-29 17:03.08 [info     ] DQN_20220729170224: epoch=1 step=2190 epoch=1 metrics={'time_sample_batch': 0.00012073451525544467, 'time_algorithm_update': 0.003488982975755108, 'loss': 0.33465556674488056, 'time_step': 0.0037048583705675655, 'td_error': 1.5565589000518754, 'value_scale': 2.2305529996314526, 'environment': -0.2} step=2190\n",
      "2022-07-29 17:03.08 [info     ] Model parameters are saved to d3rlpy_logs\\DQN_20220729170224\\model_2190.pt\n"
     ]
    },
    {
     "data": {
      "application/vnd.jupyter.widget-view+json": {
       "model_id": "0c59c56747554576a9b5b3046aa28d57",
       "version_major": 2,
       "version_minor": 0
      },
      "text/plain": [
       "Epoch 2/10:   0%|          | 0/2190 [00:00<?, ?it/s]"
      ]
     },
     "metadata": {},
     "output_type": "display_data"
    },
    {
     "name": "stdout",
     "output_type": "stream",
     "text": [
      "2022-07-29 17:03.57 [info     ] DQN_20220729170224: epoch=2 step=4380 epoch=2 metrics={'time_sample_batch': 0.0001150887850757059, 'time_algorithm_update': 0.0035611700249589197, 'loss': 0.2667383168692186, 'time_step': 0.0037607726441126438, 'td_error': 1.5310171544096254, 'value_scale': 2.2278952830401986, 'environment': -1.0} step=4380\n",
      "2022-07-29 17:03.57 [info     ] Model parameters are saved to d3rlpy_logs\\DQN_20220729170224\\model_4380.pt\n"
     ]
    },
    {
     "data": {
      "application/vnd.jupyter.widget-view+json": {
       "model_id": "eff8df36e7304ae1972613292e97d717",
       "version_major": 2,
       "version_minor": 0
      },
      "text/plain": [
       "Epoch 3/10:   0%|          | 0/2190 [00:00<?, ?it/s]"
      ]
     },
     "metadata": {},
     "output_type": "display_data"
    },
    {
     "name": "stdout",
     "output_type": "stream",
     "text": [
      "2022-07-29 17:04.44 [info     ] DQN_20220729170224: epoch=3 step=6570 epoch=3 metrics={'time_sample_batch': 9.680480173189346e-05, 'time_algorithm_update': 0.0035394613056966705, 'loss': 0.25470457389678586, 'time_step': 0.003724697300288231, 'td_error': 1.444722966252833, 'value_scale': 2.2445662006178644, 'environment': 0.0} step=6570\n",
      "2022-07-29 17:04.44 [info     ] Model parameters are saved to d3rlpy_logs\\DQN_20220729170224\\model_6570.pt\n"
     ]
    },
    {
     "data": {
      "application/vnd.jupyter.widget-view+json": {
       "model_id": "6bd1fb9cd51849b49de1b774e3964f6d",
       "version_major": 2,
       "version_minor": 0
      },
      "text/plain": [
       "Epoch 4/10:   0%|          | 0/2190 [00:00<?, ?it/s]"
      ]
     },
     "metadata": {},
     "output_type": "display_data"
    },
    {
     "name": "stdout",
     "output_type": "stream",
     "text": [
      "2022-07-29 17:05.32 [info     ] DQN_20220729170224: epoch=4 step=8760 epoch=4 metrics={'time_sample_batch': 0.00011194721204505119, 'time_algorithm_update': 0.0035849449297064516, 'loss': 0.25112347174520905, 'time_step': 0.0037773973865596125, 'td_error': 0.6159708031527409, 'value_scale': 2.6878994670018814, 'environment': 2.4} step=8760\n",
      "2022-07-29 17:05.32 [info     ] Model parameters are saved to d3rlpy_logs\\DQN_20220729170224\\model_8760.pt\n"
     ]
    },
    {
     "data": {
      "application/vnd.jupyter.widget-view+json": {
       "model_id": "bdac775c39f243fcaefa8c95aef36997",
       "version_major": 2,
       "version_minor": 0
      },
      "text/plain": [
       "Epoch 5/10:   0%|          | 0/2190 [00:00<?, ?it/s]"
      ]
     },
     "metadata": {},
     "output_type": "display_data"
    },
    {
     "name": "stdout",
     "output_type": "stream",
     "text": [
      "2022-07-29 17:06.20 [info     ] DQN_20220729170224: epoch=5 step=10950 epoch=5 metrics={'time_sample_batch': 9.741412994524116e-05, 'time_algorithm_update': 0.0036812642937925854, 'loss': 0.2293070062960936, 'time_step': 0.003878346970092216, 'td_error': 0.7284105694805405, 'value_scale': 2.808781335344405, 'environment': 0.4} step=10950\n",
      "2022-07-29 17:06.20 [info     ] Model parameters are saved to d3rlpy_logs\\DQN_20220729170224\\model_10950.pt\n"
     ]
    },
    {
     "data": {
      "application/vnd.jupyter.widget-view+json": {
       "model_id": "2ff5b8931e62422685a082da3bed0a8b",
       "version_major": 2,
       "version_minor": 0
      },
      "text/plain": [
       "Epoch 6/10:   0%|          | 0/2190 [00:00<?, ?it/s]"
      ]
     },
     "metadata": {},
     "output_type": "display_data"
    },
    {
     "name": "stdout",
     "output_type": "stream",
     "text": [
      "2022-07-29 17:07.07 [info     ] DQN_20220729170224: epoch=6 step=13140 epoch=6 metrics={'time_sample_batch': 0.00010601516183652834, 'time_algorithm_update': 0.00364995198707058, 'loss': 0.22698394043124429, 'time_step': 0.0038447806824287866, 'td_error': 0.6653001610627708, 'value_scale': 2.7427495893282514, 'environment': 1.0} step=13140\n",
      "2022-07-29 17:07.07 [info     ] Model parameters are saved to d3rlpy_logs\\DQN_20220729170224\\model_13140.pt\n"
     ]
    },
    {
     "data": {
      "application/vnd.jupyter.widget-view+json": {
       "model_id": "297d0e3cb93c440f990f84496b7df5fb",
       "version_major": 2,
       "version_minor": 0
      },
      "text/plain": [
       "Epoch 7/10:   0%|          | 0/2190 [00:00<?, ?it/s]"
      ]
     },
     "metadata": {},
     "output_type": "display_data"
    },
    {
     "name": "stdout",
     "output_type": "stream",
     "text": [
      "2022-07-29 17:07.54 [info     ] DQN_20220729170224: epoch=7 step=15330 epoch=7 metrics={'time_sample_batch': 0.00010072357578364681, 'time_algorithm_update': 0.003601349543218743, 'loss': 0.22453893180511314, 'time_step': 0.003787745297227276, 'td_error': 0.8311620545555137, 'value_scale': 2.8374592755538486, 'environment': 1.1} step=15330\n",
      "2022-07-29 17:07.54 [info     ] Model parameters are saved to d3rlpy_logs\\DQN_20220729170224\\model_15330.pt\n"
     ]
    },
    {
     "data": {
      "application/vnd.jupyter.widget-view+json": {
       "model_id": "7b6b175999c6441eb37f9b037c06bc23",
       "version_major": 2,
       "version_minor": 0
      },
      "text/plain": [
       "Epoch 8/10:   0%|          | 0/2190 [00:00<?, ?it/s]"
      ]
     },
     "metadata": {},
     "output_type": "display_data"
    },
    {
     "name": "stdout",
     "output_type": "stream",
     "text": [
      "2022-07-29 17:08.40 [info     ] DQN_20220729170224: epoch=8 step=17520 epoch=8 metrics={'time_sample_batch': 9.891714679596086e-05, 'time_algorithm_update': 0.0036265472298887768, 'loss': 0.21909881134657827, 'time_step': 0.0038120181593176436, 'td_error': 0.5217435184555583, 'value_scale': 3.01786881357415, 'environment': 2.0} step=17520\n",
      "2022-07-29 17:08.40 [info     ] Model parameters are saved to d3rlpy_logs\\DQN_20220729170224\\model_17520.pt\n"
     ]
    },
    {
     "data": {
      "application/vnd.jupyter.widget-view+json": {
       "model_id": "a31abbb004ba4492be3a22a0c5025317",
       "version_major": 2,
       "version_minor": 0
      },
      "text/plain": [
       "Epoch 9/10:   0%|          | 0/2190 [00:00<?, ?it/s]"
      ]
     },
     "metadata": {},
     "output_type": "display_data"
    },
    {
     "name": "stdout",
     "output_type": "stream",
     "text": [
      "2022-07-29 17:09.28 [info     ] DQN_20220729170224: epoch=9 step=19710 epoch=9 metrics={'time_sample_batch': 9.191852726348459e-05, 'time_algorithm_update': 0.0036418330179501888, 'loss': 0.21166769268169794, 'time_step': 0.0038241975383671452, 'td_error': 0.5121731461590434, 'value_scale': 3.075703610174872, 'environment': 2.8} step=19710\n",
      "2022-07-29 17:09.28 [info     ] Model parameters are saved to d3rlpy_logs\\DQN_20220729170224\\model_19710.pt\n"
     ]
    },
    {
     "data": {
      "application/vnd.jupyter.widget-view+json": {
       "model_id": "258edbbd4aed44879aa2aaf130597551",
       "version_major": 2,
       "version_minor": 0
      },
      "text/plain": [
       "Epoch 10/10:   0%|          | 0/2190 [00:00<?, ?it/s]"
      ]
     },
     "metadata": {},
     "output_type": "display_data"
    },
    {
     "name": "stdout",
     "output_type": "stream",
     "text": [
      "2022-07-29 17:10.16 [info     ] DQN_20220729170224: epoch=10 step=21900 epoch=10 metrics={'time_sample_batch': 0.00011400425270812152, 'time_algorithm_update': 0.003809371277621892, 'loss': 0.2101646257623962, 'time_step': 0.00401546606734463, 'td_error': 0.4999135833799437, 'value_scale': 3.06569347494352, 'environment': 1.1} step=21900\n",
      "2022-07-29 17:10.16 [info     ] Model parameters are saved to d3rlpy_logs\\DQN_20220729170224\\model_21900.pt\n"
     ]
    }
   ],
   "source": [
    "simple_random_dqn = train_dqn('data/random_simple_dataset.h5', simple_env)"
   ]
  },
  {
   "cell_type": "code",
   "execution_count": null,
   "id": "80aa3504",
   "metadata": {},
   "outputs": [],
   "source": [
    "def synthetic_dqn_eval(dqn_model):\n",
    "    attempts, correct = 0,0\n",
    "    test_df = pd.DataFrame()\n",
    "\n",
    "    env = SyntheticSimpleEnv(X_test, y_test, random=False)\n",
    "    count=0\n",
    "\n",
    "    try:\n",
    "        while True:\n",
    "            count+=1\n",
    "            if count%5000==0:\n",
    "                print(f'Count: {count}')\n",
    "            obs, done = env.reset(), False\n",
    "            while not done:\n",
    "                action = dqn_model.predict([obs])[0]\n",
    "                obs, rew, done,info = env.step(action)\n",
    "                #if (done==True) & (np.isfinite(info['y_pred'])):\n",
    "                if done == True:\n",
    "                    test_df = test_df.append(info, ignore_index=True)\n",
    "                #print('....................TEST DF ....................')\n",
    "                #if len(test_df) != 0:\n",
    "                #    print(test_df.head())\n",
    "\n",
    "    except StopIteration:\n",
    "        print('Testing done.....')\n",
    "    return test_df\n",
    "\n",
    "test_df = synthetic_dqn_eval(dqn_model)"
   ]
  }
 ],
 "metadata": {
  "kernelspec": {
   "display_name": "Python 3 (ipykernel)",
   "language": "python",
   "name": "python3"
  },
  "language_info": {
   "codemirror_mode": {
    "name": "ipython",
    "version": 3
   },
   "file_extension": ".py",
   "mimetype": "text/x-python",
   "name": "python",
   "nbconvert_exporter": "python",
   "pygments_lexer": "ipython3",
   "version": "3.7.4"
  }
 },
 "nbformat": 4,
 "nbformat_minor": 5
}

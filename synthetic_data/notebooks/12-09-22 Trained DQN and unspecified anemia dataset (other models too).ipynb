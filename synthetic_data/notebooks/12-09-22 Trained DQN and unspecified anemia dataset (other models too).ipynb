{
 "cells": [
  {
   "cell_type": "code",
   "execution_count": 36,
   "id": "4c9c09d8",
   "metadata": {},
   "outputs": [],
   "source": [
    "import pandas as pd\n",
    "import numpy as np\n",
    "import seaborn as sns\n",
    "import random\n",
    "import joblib\n",
    "import os\n",
    "import tensorflow\n",
    "from sklearn.model_selection import train_test_split\n",
    "import matplotlib.pyplot as plt\n",
    "%matplotlib inline"
   ]
  },
  {
   "cell_type": "code",
   "execution_count": 28,
   "id": "fe22d515",
   "metadata": {},
   "outputs": [],
   "source": [
    "SEED = 42\n",
    "random.seed(SEED)\n",
    "np.random.seed(SEED)\n",
    "tensorflow.set_random_seed(SEED)\n",
    "os.environ['PYTHONHASHSEED']=str(SEED)"
   ]
  },
  {
   "cell_type": "markdown",
   "id": "982f7395",
   "metadata": {},
   "source": [
    "#### The data"
   ]
  },
  {
   "cell_type": "code",
   "execution_count": 29,
   "id": "d5c5c9cf",
   "metadata": {},
   "outputs": [
    {
     "data": {
      "text/html": [
       "<div>\n",
       "<style scoped>\n",
       "    .dataframe tbody tr th:only-of-type {\n",
       "        vertical-align: middle;\n",
       "    }\n",
       "\n",
       "    .dataframe tbody tr th {\n",
       "        vertical-align: top;\n",
       "    }\n",
       "\n",
       "    .dataframe thead th {\n",
       "        text-align: right;\n",
       "    }\n",
       "</style>\n",
       "<table border=\"1\" class=\"dataframe\">\n",
       "  <thead>\n",
       "    <tr style=\"text-align: right;\">\n",
       "      <th></th>\n",
       "      <th>hemoglobin</th>\n",
       "      <th>ferritin</th>\n",
       "      <th>ret_count</th>\n",
       "      <th>segmented_neutrophils</th>\n",
       "      <th>tibc</th>\n",
       "      <th>mcv</th>\n",
       "      <th>label</th>\n",
       "    </tr>\n",
       "  </thead>\n",
       "  <tbody>\n",
       "    <tr>\n",
       "      <th>0</th>\n",
       "      <td>6.370861</td>\n",
       "      <td>0.0</td>\n",
       "      <td>0.0</td>\n",
       "      <td>0.0</td>\n",
       "      <td>0.0</td>\n",
       "      <td>102.541060</td>\n",
       "      <td>7</td>\n",
       "    </tr>\n",
       "    <tr>\n",
       "      <th>1</th>\n",
       "      <td>11.556429</td>\n",
       "      <td>0.0</td>\n",
       "      <td>0.0</td>\n",
       "      <td>0.0</td>\n",
       "      <td>0.0</td>\n",
       "      <td>102.449492</td>\n",
       "      <td>7</td>\n",
       "    </tr>\n",
       "    <tr>\n",
       "      <th>2</th>\n",
       "      <td>9.587945</td>\n",
       "      <td>0.0</td>\n",
       "      <td>0.0</td>\n",
       "      <td>0.0</td>\n",
       "      <td>0.0</td>\n",
       "      <td>102.357827</td>\n",
       "      <td>7</td>\n",
       "    </tr>\n",
       "    <tr>\n",
       "      <th>3</th>\n",
       "      <td>8.387926</td>\n",
       "      <td>0.0</td>\n",
       "      <td>0.0</td>\n",
       "      <td>0.0</td>\n",
       "      <td>0.0</td>\n",
       "      <td>100.862312</td>\n",
       "      <td>7</td>\n",
       "    </tr>\n",
       "    <tr>\n",
       "      <th>4</th>\n",
       "      <td>4.404168</td>\n",
       "      <td>0.0</td>\n",
       "      <td>0.0</td>\n",
       "      <td>0.0</td>\n",
       "      <td>0.0</td>\n",
       "      <td>100.814369</td>\n",
       "      <td>7</td>\n",
       "    </tr>\n",
       "  </tbody>\n",
       "</table>\n",
       "</div>"
      ],
      "text/plain": [
       "   hemoglobin  ferritin  ret_count  segmented_neutrophils  tibc         mcv  \\\n",
       "0    6.370861       0.0        0.0                    0.0   0.0  102.541060   \n",
       "1   11.556429       0.0        0.0                    0.0   0.0  102.449492   \n",
       "2    9.587945       0.0        0.0                    0.0   0.0  102.357827   \n",
       "3    8.387926       0.0        0.0                    0.0   0.0  100.862312   \n",
       "4    4.404168       0.0        0.0                    0.0   0.0  100.814369   \n",
       "\n",
       "   label  \n",
       "0      7  \n",
       "1      7  \n",
       "2      7  \n",
       "3      7  \n",
       "4      7  "
      ]
     },
     "execution_count": 29,
     "metadata": {},
     "output_type": "execute_result"
    }
   ],
   "source": [
    "unspecified_df = pd.read_csv('data/unspecified_anemia_dataset.csv')\n",
    "unspecified_df = unspecified_df.drop(['rbc', 'mentzer_index', 'iron'], axis=1)\n",
    "unspecified_df['label'] = 7\n",
    "unspecified_df['hemoglobin'] = np.random.uniform(3, 12, len(unspecified_df))\n",
    "unspecified_df = unspecified_df[['hemoglobin', 'ferritin', 'ret_count', 'segmented_neutrophils', 'tibc', 'mcv', 'label']]\n",
    "unspecified_df.head()"
   ]
  },
  {
   "cell_type": "code",
   "execution_count": 30,
   "id": "f59a7f60",
   "metadata": {},
   "outputs": [],
   "source": [
    "X_test = np.array(unspecified_df.drop(['label'], axis=1))\n",
    "y_test = np.array(unspecified_df['label'])"
   ]
  },
  {
   "cell_type": "code",
   "execution_count": 31,
   "id": "65197e18",
   "metadata": {},
   "outputs": [
    {
     "data": {
      "text/plain": [
       "(1604, 6)"
      ]
     },
     "execution_count": 31,
     "metadata": {},
     "output_type": "execute_result"
    }
   ],
   "source": [
    "X_test.shape"
   ]
  },
  {
   "cell_type": "markdown",
   "id": "84990d10",
   "metadata": {},
   "source": [
    "#### DQN"
   ]
  },
  {
   "cell_type": "code",
   "execution_count": 32,
   "id": "ef22e845",
   "metadata": {},
   "outputs": [],
   "source": [
    "from envs import SyntheticComplexHbEnv\n",
    "from stable_baselines import DQN"
   ]
  },
  {
   "cell_type": "code",
   "execution_count": 33,
   "id": "58242ef1",
   "metadata": {},
   "outputs": [
    {
     "name": "stdout",
     "output_type": "stream",
     "text": [
      "Loading a model without an environment, this model cannot be trained until it has a valid environment.\n"
     ]
    }
   ],
   "source": [
    "dqn_model = DQN.load('models/synthentic_with_hb_some_nans_stable_dqn2e6.pkl')"
   ]
  },
  {
   "cell_type": "code",
   "execution_count": 34,
   "id": "69a6295d",
   "metadata": {},
   "outputs": [
    {
     "name": "stdout",
     "output_type": "stream",
     "text": [
      "Testing done.....\n"
     ]
    },
    {
     "data": {
      "text/html": [
       "<div>\n",
       "<style scoped>\n",
       "    .dataframe tbody tr th:only-of-type {\n",
       "        vertical-align: middle;\n",
       "    }\n",
       "\n",
       "    .dataframe tbody tr th {\n",
       "        vertical-align: top;\n",
       "    }\n",
       "\n",
       "    .dataframe thead th {\n",
       "        text-align: right;\n",
       "    }\n",
       "</style>\n",
       "<table border=\"1\" class=\"dataframe\">\n",
       "  <thead>\n",
       "    <tr style=\"text-align: right;\">\n",
       "      <th></th>\n",
       "      <th>episode_length</th>\n",
       "      <th>index</th>\n",
       "      <th>is_success</th>\n",
       "      <th>reward</th>\n",
       "      <th>terminated</th>\n",
       "      <th>trajectory</th>\n",
       "      <th>y_actual</th>\n",
       "      <th>y_pred</th>\n",
       "    </tr>\n",
       "  </thead>\n",
       "  <tbody>\n",
       "    <tr>\n",
       "      <th>0</th>\n",
       "      <td>8.0</td>\n",
       "      <td>0.0</td>\n",
       "      <td>0.0</td>\n",
       "      <td>-2.0</td>\n",
       "      <td>1.0</td>\n",
       "      <td>[hemoglobin, mcv, segmented_neutrophils, segme...</td>\n",
       "      <td>7.0</td>\n",
       "      <td>NaN</td>\n",
       "    </tr>\n",
       "    <tr>\n",
       "      <th>1</th>\n",
       "      <td>8.0</td>\n",
       "      <td>1.0</td>\n",
       "      <td>0.0</td>\n",
       "      <td>-2.0</td>\n",
       "      <td>1.0</td>\n",
       "      <td>[hemoglobin, mcv, segmented_neutrophils, segme...</td>\n",
       "      <td>7.0</td>\n",
       "      <td>NaN</td>\n",
       "    </tr>\n",
       "    <tr>\n",
       "      <th>2</th>\n",
       "      <td>8.0</td>\n",
       "      <td>2.0</td>\n",
       "      <td>0.0</td>\n",
       "      <td>-2.0</td>\n",
       "      <td>1.0</td>\n",
       "      <td>[hemoglobin, mcv, segmented_neutrophils, segme...</td>\n",
       "      <td>7.0</td>\n",
       "      <td>NaN</td>\n",
       "    </tr>\n",
       "    <tr>\n",
       "      <th>3</th>\n",
       "      <td>8.0</td>\n",
       "      <td>3.0</td>\n",
       "      <td>0.0</td>\n",
       "      <td>-2.0</td>\n",
       "      <td>1.0</td>\n",
       "      <td>[hemoglobin, mcv, segmented_neutrophils, segme...</td>\n",
       "      <td>7.0</td>\n",
       "      <td>NaN</td>\n",
       "    </tr>\n",
       "    <tr>\n",
       "      <th>4</th>\n",
       "      <td>8.0</td>\n",
       "      <td>4.0</td>\n",
       "      <td>0.0</td>\n",
       "      <td>-2.0</td>\n",
       "      <td>1.0</td>\n",
       "      <td>[hemoglobin, mcv, segmented_neutrophils, segme...</td>\n",
       "      <td>7.0</td>\n",
       "      <td>NaN</td>\n",
       "    </tr>\n",
       "  </tbody>\n",
       "</table>\n",
       "</div>"
      ],
      "text/plain": [
       "   episode_length  index  is_success  reward  terminated  \\\n",
       "0             8.0    0.0         0.0    -2.0         1.0   \n",
       "1             8.0    1.0         0.0    -2.0         1.0   \n",
       "2             8.0    2.0         0.0    -2.0         1.0   \n",
       "3             8.0    3.0         0.0    -2.0         1.0   \n",
       "4             8.0    4.0         0.0    -2.0         1.0   \n",
       "\n",
       "                                          trajectory  y_actual  y_pred  \n",
       "0  [hemoglobin, mcv, segmented_neutrophils, segme...       7.0     NaN  \n",
       "1  [hemoglobin, mcv, segmented_neutrophils, segme...       7.0     NaN  \n",
       "2  [hemoglobin, mcv, segmented_neutrophils, segme...       7.0     NaN  \n",
       "3  [hemoglobin, mcv, segmented_neutrophils, segme...       7.0     NaN  \n",
       "4  [hemoglobin, mcv, segmented_neutrophils, segme...       7.0     NaN  "
      ]
     },
     "execution_count": 34,
     "metadata": {},
     "output_type": "execute_result"
    }
   ],
   "source": [
    "test_df = pd.DataFrame()\n",
    "\n",
    "env = SyntheticComplexHbEnv(X_test, y_test, random=False)\n",
    "count=0\n",
    "\n",
    "try:\n",
    "    while True:\n",
    "        count+=1\n",
    "        if count%5000==0:\n",
    "            print(f'Count: {count}')\n",
    "        obs, done = env.reset(), False\n",
    "        while not done:\n",
    "            action, _states = dqn_model.predict(obs, deterministic=True)\n",
    "            obs, rew, done,info = env.step(action)\n",
    "            #if (done==True) & (np.isfinite(info['y_pred'])):\n",
    "            if done == True:\n",
    "                test_df = test_df.append(info, ignore_index=True)\n",
    "            #print('....................TEST DF ....................')\n",
    "            #if len(test_df) != 0:\n",
    "            #    print(test_df.head())\n",
    "\n",
    "except StopIteration:\n",
    "    print('Testing done.....')\n",
    "\n",
    "test_df.head()"
   ]
  },
  {
   "cell_type": "code",
   "execution_count": 37,
   "id": "d2c04484",
   "metadata": {},
   "outputs": [],
   "source": [
    "dt = joblib.load('models/baselines/decision_tree.joblib')"
   ]
  },
  {
   "cell_type": "code",
   "execution_count": 43,
   "id": "aa95556b",
   "metadata": {},
   "outputs": [
    {
     "data": {
      "text/plain": [
       "2    1604\n",
       "Name: dt_prediction, dtype: int64"
      ]
     },
     "execution_count": 43,
     "metadata": {},
     "output_type": "execute_result"
    }
   ],
   "source": [
    "unspecified_df['dt_prediction']= dt.predict(X_test)\n",
    "unspecified_df.dt_prediction.value_counts()"
   ]
  },
  {
   "cell_type": "code",
   "execution_count": null,
   "id": "a5eb2f8d",
   "metadata": {},
   "outputs": [],
   "source": [
    "unspecified_df['dt_prediction'].va"
   ]
  }
 ],
 "metadata": {
  "kernelspec": {
   "display_name": "Python 3 (ipykernel)",
   "language": "python",
   "name": "python3"
  },
  "language_info": {
   "codemirror_mode": {
    "name": "ipython",
    "version": 3
   },
   "file_extension": ".py",
   "mimetype": "text/x-python",
   "name": "python",
   "nbconvert_exporter": "python",
   "pygments_lexer": "ipython3",
   "version": "3.7.4"
  }
 },
 "nbformat": 4,
 "nbformat_minor": 5
}

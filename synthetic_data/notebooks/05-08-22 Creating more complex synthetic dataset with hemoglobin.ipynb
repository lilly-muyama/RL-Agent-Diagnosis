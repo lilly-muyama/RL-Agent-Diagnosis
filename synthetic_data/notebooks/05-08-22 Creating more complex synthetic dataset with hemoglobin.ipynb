{
 "cells": [
  {
   "cell_type": "code",
   "execution_count": 15,
   "metadata": {},
   "outputs": [],
   "source": [
    "import pandas as pd\n",
    "import numpy as np\n",
    "import seaborn as sns\n",
    "import random\n",
    "import matplotlib.pyplot as plt\n",
    "%matplotlib inline"
   ]
  },
  {
   "cell_type": "code",
   "execution_count": 16,
   "metadata": {},
   "outputs": [],
   "source": [
    "SEED = 42\n",
    "random.seed(SEED)\n",
    "np.random.seed(SEED)"
   ]
  },
  {
   "cell_type": "code",
   "execution_count": 17,
   "metadata": {},
   "outputs": [],
   "source": [
    "feat_arr = [{'name':'hemoglobin', 'lower':12.1, 'upper':17.2, 'mean':10.3, 'std':2.3, 'min':(0, 5)},\n",
    "            {'name':'ferritin', 'lower':10, 'upper':263, 'mean':697, 'std':3305, 'min':(1.6, 8)},\n",
    "            {'name':'ret_count', 'lower':0.5, 'upper':2.5, 'mean':2.6, 'std':2.5, 'min':(0, 0.5)},\n",
    "            {'name':'segmented_neutrophils', 'lower':0, 'upper':0, 'mean':0, 'std':2.4, 'min':(0, 0)},\n",
    "            {'name':'iron', 'lower':60, 'upper':170, 'mean':50, 'std':44, 'min':(0.9, 40)},\n",
    "            {'name':'tibc', 'lower':250, 'upper':450, 'mean':242, 'std':90, 'min':(3, 100)},\n",
    "            {'name':'rbc', 'lower':3.92, 'upper':5.65, 'mean':3.5, 'std':0.8, 'min':(0, 3)},\n",
    "            {'name':'mcv', 'lower':80, 'upper':100, 'mean':90, 'std':8, 'min':(0, 65)}]"
   ]
  },
  {
   "cell_type": "markdown",
   "metadata": {},
   "source": [
    "#### Creating normal hemoglobin dataset"
   ]
  },
  {
   "cell_type": "code",
   "execution_count": 18,
   "metadata": {},
   "outputs": [
    {
     "data": {
      "text/plain": [
       "['hemoglobin', 'ferritin', 'ret_count', 'segmented_neutrophils', 'tibc', 'mcv']"
      ]
     },
     "execution_count": 18,
     "metadata": {},
     "output_type": "execute_result"
    }
   ],
   "source": [
    "cols_to_use = [feat['name'] for feat in feat_arr if feat['name'] not in ['iron', 'rbc']]\n",
    "nan_fractions = [1.0, 0.6, 0.3, 0.1, 0.6, 0.8]\n",
    "cols_to_use"
   ]
  },
  {
   "cell_type": "code",
   "execution_count": 19,
   "metadata": {},
   "outputs": [
    {
     "data": {
      "text/html": [
       "<div>\n",
       "<style scoped>\n",
       "    .dataframe tbody tr th:only-of-type {\n",
       "        vertical-align: middle;\n",
       "    }\n",
       "\n",
       "    .dataframe tbody tr th {\n",
       "        vertical-align: top;\n",
       "    }\n",
       "\n",
       "    .dataframe thead th {\n",
       "        text-align: right;\n",
       "    }\n",
       "</style>\n",
       "<table border=\"1\" class=\"dataframe\">\n",
       "  <thead>\n",
       "    <tr style=\"text-align: right;\">\n",
       "      <th></th>\n",
       "      <th>hemoglobin</th>\n",
       "      <th>ferritin</th>\n",
       "      <th>ret_count</th>\n",
       "      <th>segmented_neutrophils</th>\n",
       "      <th>tibc</th>\n",
       "      <th>mcv</th>\n",
       "      <th>label</th>\n",
       "    </tr>\n",
       "  </thead>\n",
       "  <tbody>\n",
       "    <tr>\n",
       "      <th>0</th>\n",
       "      <td>14.010155</td>\n",
       "      <td>NaN</td>\n",
       "      <td>NaN</td>\n",
       "      <td>NaN</td>\n",
       "      <td>345.481644</td>\n",
       "      <td>91.442937</td>\n",
       "      <td>No anemia</td>\n",
       "    </tr>\n",
       "    <tr>\n",
       "      <th>1</th>\n",
       "      <td>16.948643</td>\n",
       "      <td>NaN</td>\n",
       "      <td>NaN</td>\n",
       "      <td>NaN</td>\n",
       "      <td>NaN</td>\n",
       "      <td>97.958187</td>\n",
       "      <td>No anemia</td>\n",
       "    </tr>\n",
       "    <tr>\n",
       "      <th>2</th>\n",
       "      <td>15.833169</td>\n",
       "      <td>171.449291</td>\n",
       "      <td>0.800313</td>\n",
       "      <td>NaN</td>\n",
       "      <td>363.985025</td>\n",
       "      <td>96.683212</td>\n",
       "      <td>No anemia</td>\n",
       "    </tr>\n",
       "    <tr>\n",
       "      <th>3</th>\n",
       "      <td>15.153158</td>\n",
       "      <td>NaN</td>\n",
       "      <td>NaN</td>\n",
       "      <td>NaN</td>\n",
       "      <td>NaN</td>\n",
       "      <td>85.347757</td>\n",
       "      <td>No anemia</td>\n",
       "    </tr>\n",
       "    <tr>\n",
       "      <th>4</th>\n",
       "      <td>12.895695</td>\n",
       "      <td>96.569765</td>\n",
       "      <td>NaN</td>\n",
       "      <td>NaN</td>\n",
       "      <td>271.622851</td>\n",
       "      <td>NaN</td>\n",
       "      <td>No anemia</td>\n",
       "    </tr>\n",
       "  </tbody>\n",
       "</table>\n",
       "</div>"
      ],
      "text/plain": [
       "   hemoglobin    ferritin  ret_count  segmented_neutrophils        tibc  \\\n",
       "0   14.010155         NaN        NaN                    NaN  345.481644   \n",
       "1   16.948643         NaN        NaN                    NaN         NaN   \n",
       "2   15.833169  171.449291   0.800313                    NaN  363.985025   \n",
       "3   15.153158         NaN        NaN                    NaN         NaN   \n",
       "4   12.895695   96.569765        NaN                    NaN  271.622851   \n",
       "\n",
       "         mcv      label  \n",
       "0  91.442937  No anemia  \n",
       "1  97.958187  No anemia  \n",
       "2  96.683212  No anemia  \n",
       "3  85.347757  No anemia  \n",
       "4        NaN  No anemia  "
      ]
     },
     "execution_count": 19,
     "metadata": {},
     "output_type": "execute_result"
    }
   ],
   "source": [
    "synth_hb_df = pd.DataFrame()\n",
    "for i in feat_arr:\n",
    "    if i['name'] in cols_to_use:\n",
    "        lst_idx = cols_to_use.index(i['name'])\n",
    "        synth_hb_df[i['name']] = np.random.uniform(i['lower'], i['upper'], 10000)\n",
    "        synth_hb_df[i['name']] = synth_hb_df[i['name']].sample(frac=nan_fractions[lst_idx])\n",
    "synth_hb_df['label'] = 'No anemia'\n",
    "synth_hb_df.head()"
   ]
  },
  {
   "cell_type": "code",
   "execution_count": 20,
   "metadata": {},
   "outputs": [
    {
     "data": {
      "text/plain": [
       "hemoglobin                  0\n",
       "ferritin                 4000\n",
       "ret_count                7000\n",
       "segmented_neutrophils    9000\n",
       "tibc                     4000\n",
       "mcv                      2000\n",
       "label                       0\n",
       "dtype: int64"
      ]
     },
     "execution_count": 20,
     "metadata": {},
     "output_type": "execute_result"
    }
   ],
   "source": [
    "synth_hb_df.isna().sum()"
   ]
  },
  {
   "cell_type": "code",
   "execution_count": 21,
   "metadata": {},
   "outputs": [
    {
     "data": {
      "text/html": [
       "<div>\n",
       "<style scoped>\n",
       "    .dataframe tbody tr th:only-of-type {\n",
       "        vertical-align: middle;\n",
       "    }\n",
       "\n",
       "    .dataframe tbody tr th {\n",
       "        vertical-align: top;\n",
       "    }\n",
       "\n",
       "    .dataframe thead th {\n",
       "        text-align: right;\n",
       "    }\n",
       "</style>\n",
       "<table border=\"1\" class=\"dataframe\">\n",
       "  <thead>\n",
       "    <tr style=\"text-align: right;\">\n",
       "      <th></th>\n",
       "      <th>hemoglobin</th>\n",
       "      <th>ferritin</th>\n",
       "      <th>ret_count</th>\n",
       "      <th>segmented_neutrophils</th>\n",
       "      <th>tibc</th>\n",
       "      <th>mcv</th>\n",
       "    </tr>\n",
       "  </thead>\n",
       "  <tbody>\n",
       "    <tr>\n",
       "      <th>count</th>\n",
       "      <td>10000.000000</td>\n",
       "      <td>6000.000000</td>\n",
       "      <td>3000.000000</td>\n",
       "      <td>1000.0</td>\n",
       "      <td>6000.000000</td>\n",
       "      <td>8000.000000</td>\n",
       "    </tr>\n",
       "    <tr>\n",
       "      <th>mean</th>\n",
       "      <td>14.620214</td>\n",
       "      <td>137.008678</td>\n",
       "      <td>1.510928</td>\n",
       "      <td>0.0</td>\n",
       "      <td>349.515381</td>\n",
       "      <td>89.935405</td>\n",
       "    </tr>\n",
       "    <tr>\n",
       "      <th>std</th>\n",
       "      <td>1.466914</td>\n",
       "      <td>73.190153</td>\n",
       "      <td>0.577518</td>\n",
       "      <td>0.0</td>\n",
       "      <td>57.136086</td>\n",
       "      <td>5.770953</td>\n",
       "    </tr>\n",
       "    <tr>\n",
       "      <th>min</th>\n",
       "      <td>12.100059</td>\n",
       "      <td>10.002352</td>\n",
       "      <td>0.500406</td>\n",
       "      <td>0.0</td>\n",
       "      <td>250.026002</td>\n",
       "      <td>80.006622</td>\n",
       "    </tr>\n",
       "    <tr>\n",
       "      <th>25%</th>\n",
       "      <td>13.356277</td>\n",
       "      <td>73.978997</td>\n",
       "      <td>1.023732</td>\n",
       "      <td>0.0</td>\n",
       "      <td>299.915333</td>\n",
       "      <td>84.868078</td>\n",
       "    </tr>\n",
       "    <tr>\n",
       "      <th>50%</th>\n",
       "      <td>14.611896</td>\n",
       "      <td>136.345683</td>\n",
       "      <td>1.501286</td>\n",
       "      <td>0.0</td>\n",
       "      <td>349.882057</td>\n",
       "      <td>89.977931</td>\n",
       "    </tr>\n",
       "    <tr>\n",
       "      <th>75%</th>\n",
       "      <td>15.874032</td>\n",
       "      <td>201.072785</td>\n",
       "      <td>2.017250</td>\n",
       "      <td>0.0</td>\n",
       "      <td>399.100208</td>\n",
       "      <td>94.913663</td>\n",
       "    </tr>\n",
       "    <tr>\n",
       "      <th>max</th>\n",
       "      <td>17.198560</td>\n",
       "      <td>262.972439</td>\n",
       "      <td>2.498595</td>\n",
       "      <td>0.0</td>\n",
       "      <td>449.973440</td>\n",
       "      <td>99.998240</td>\n",
       "    </tr>\n",
       "  </tbody>\n",
       "</table>\n",
       "</div>"
      ],
      "text/plain": [
       "         hemoglobin     ferritin    ret_count  segmented_neutrophils  \\\n",
       "count  10000.000000  6000.000000  3000.000000                 1000.0   \n",
       "mean      14.620214   137.008678     1.510928                    0.0   \n",
       "std        1.466914    73.190153     0.577518                    0.0   \n",
       "min       12.100059    10.002352     0.500406                    0.0   \n",
       "25%       13.356277    73.978997     1.023732                    0.0   \n",
       "50%       14.611896   136.345683     1.501286                    0.0   \n",
       "75%       15.874032   201.072785     2.017250                    0.0   \n",
       "max       17.198560   262.972439     2.498595                    0.0   \n",
       "\n",
       "              tibc          mcv  \n",
       "count  6000.000000  8000.000000  \n",
       "mean    349.515381    89.935405  \n",
       "std      57.136086     5.770953  \n",
       "min     250.026002    80.006622  \n",
       "25%     299.915333    84.868078  \n",
       "50%     349.882057    89.977931  \n",
       "75%     399.100208    94.913663  \n",
       "max     449.973440    99.998240  "
      ]
     },
     "execution_count": 21,
     "metadata": {},
     "output_type": "execute_result"
    }
   ],
   "source": [
    "synth_hb_df.describe()"
   ]
  },
  {
   "cell_type": "markdown",
   "metadata": {},
   "source": [
    "#### Reading anemic synth dataset"
   ]
  },
  {
   "cell_type": "code",
   "execution_count": 22,
   "metadata": {},
   "outputs": [
    {
     "data": {
      "text/html": [
       "<div>\n",
       "<style scoped>\n",
       "    .dataframe tbody tr th:only-of-type {\n",
       "        vertical-align: middle;\n",
       "    }\n",
       "\n",
       "    .dataframe tbody tr th {\n",
       "        vertical-align: top;\n",
       "    }\n",
       "\n",
       "    .dataframe thead th {\n",
       "        text-align: right;\n",
       "    }\n",
       "</style>\n",
       "<table border=\"1\" class=\"dataframe\">\n",
       "  <thead>\n",
       "    <tr style=\"text-align: right;\">\n",
       "      <th></th>\n",
       "      <th>hemoglobin</th>\n",
       "      <th>ferritin</th>\n",
       "      <th>ret_count</th>\n",
       "      <th>segmented_neutrophils</th>\n",
       "      <th>tibc</th>\n",
       "      <th>mcv</th>\n",
       "      <th>label</th>\n",
       "    </tr>\n",
       "  </thead>\n",
       "  <tbody>\n",
       "    <tr>\n",
       "      <th>0</th>\n",
       "      <td>5.231766</td>\n",
       "      <td>NaN</td>\n",
       "      <td>0.253194</td>\n",
       "      <td>NaN</td>\n",
       "      <td>NaN</td>\n",
       "      <td>88.164375</td>\n",
       "      <td>Aplastic anemia</td>\n",
       "    </tr>\n",
       "    <tr>\n",
       "      <th>1</th>\n",
       "      <td>2.382725</td>\n",
       "      <td>99.558391</td>\n",
       "      <td>0.087604</td>\n",
       "      <td>NaN</td>\n",
       "      <td>NaN</td>\n",
       "      <td>87.223193</td>\n",
       "      <td>Aplastic anemia</td>\n",
       "    </tr>\n",
       "    <tr>\n",
       "      <th>2</th>\n",
       "      <td>4.768318</td>\n",
       "      <td>134.020515</td>\n",
       "      <td>9.093607</td>\n",
       "      <td>NaN</td>\n",
       "      <td>NaN</td>\n",
       "      <td>82.525400</td>\n",
       "      <td>Hemolytic anemia</td>\n",
       "    </tr>\n",
       "    <tr>\n",
       "      <th>3</th>\n",
       "      <td>5.743648</td>\n",
       "      <td>NaN</td>\n",
       "      <td>0.292759</td>\n",
       "      <td>0.000000</td>\n",
       "      <td>NaN</td>\n",
       "      <td>96.353048</td>\n",
       "      <td>Aplastic anemia</td>\n",
       "    </tr>\n",
       "    <tr>\n",
       "      <th>4</th>\n",
       "      <td>2.772130</td>\n",
       "      <td>129.481445</td>\n",
       "      <td>1.717516</td>\n",
       "      <td>1.698862</td>\n",
       "      <td>NaN</td>\n",
       "      <td>103.899232</td>\n",
       "      <td>Vitamin B12/Folate deficiency anemia</td>\n",
       "    </tr>\n",
       "  </tbody>\n",
       "</table>\n",
       "</div>"
      ],
      "text/plain": [
       "   hemoglobin    ferritin  ret_count  segmented_neutrophils  tibc         mcv  \\\n",
       "0    5.231766         NaN   0.253194                    NaN   NaN   88.164375   \n",
       "1    2.382725   99.558391   0.087604                    NaN   NaN   87.223193   \n",
       "2    4.768318  134.020515   9.093607                    NaN   NaN   82.525400   \n",
       "3    5.743648         NaN   0.292759               0.000000   NaN   96.353048   \n",
       "4    2.772130  129.481445   1.717516               1.698862   NaN  103.899232   \n",
       "\n",
       "                                  label  \n",
       "0                       Aplastic anemia  \n",
       "1                       Aplastic anemia  \n",
       "2                      Hemolytic anemia  \n",
       "3                       Aplastic anemia  \n",
       "4  Vitamin B12/Folate deficiency anemia  "
      ]
     },
     "execution_count": 22,
     "metadata": {},
     "output_type": "execute_result"
    }
   ],
   "source": [
    "#non_hb_df = pd.read_csv('data/anemia_synth_dataset_some_filled.csv')\n",
    "non_hb_df = pd.read_csv('data/anemia_synth_dataset_with_unspecified.csv')\n",
    "non_hb_df = non_hb_df.drop(['mentzer_index', 'iron', 'rbc'], axis=1)\n",
    "non_hb_df['hemoglobin'] = np.random.uniform(1, 12, len(non_hb_df))\n",
    "non_hb_df = non_hb_df[cols_to_use + ['label']]\n",
    "non_hb_df= non_hb_df[non_hb_df.label!='Thalassemia']\n",
    "non_hb_df.head()"
   ]
  },
  {
   "cell_type": "code",
   "execution_count": 23,
   "metadata": {},
   "outputs": [
    {
     "data": {
      "text/plain": [
       "hemoglobin                   0\n",
       "ferritin                 18742\n",
       "ret_count                 4470\n",
       "segmented_neutrophils    18764\n",
       "tibc                     18742\n",
       "mcv                          0\n",
       "label                        0\n",
       "dtype: int64"
      ]
     },
     "execution_count": 23,
     "metadata": {},
     "output_type": "execute_result"
    }
   ],
   "source": [
    "non_hb_df.isna().sum()"
   ]
  },
  {
   "cell_type": "code",
   "execution_count": 24,
   "metadata": {},
   "outputs": [
    {
     "data": {
      "text/plain": [
       "hemoglobin                  0\n",
       "ferritin                 4000\n",
       "ret_count                7000\n",
       "segmented_neutrophils    9000\n",
       "tibc                     4000\n",
       "mcv                      2000\n",
       "label                       0\n",
       "dtype: int64"
      ]
     },
     "execution_count": 24,
     "metadata": {},
     "output_type": "execute_result"
    }
   ],
   "source": [
    "synth_hb_df.isna().sum()"
   ]
  },
  {
   "cell_type": "markdown",
   "metadata": {},
   "source": [
    "#### Combining the dataframes"
   ]
  },
  {
   "cell_type": "code",
   "execution_count": 25,
   "metadata": {},
   "outputs": [
    {
     "data": {
      "text/html": [
       "<div>\n",
       "<style scoped>\n",
       "    .dataframe tbody tr th:only-of-type {\n",
       "        vertical-align: middle;\n",
       "    }\n",
       "\n",
       "    .dataframe tbody tr th {\n",
       "        vertical-align: top;\n",
       "    }\n",
       "\n",
       "    .dataframe thead th {\n",
       "        text-align: right;\n",
       "    }\n",
       "</style>\n",
       "<table border=\"1\" class=\"dataframe\">\n",
       "  <thead>\n",
       "    <tr style=\"text-align: right;\">\n",
       "      <th></th>\n",
       "      <th>hemoglobin</th>\n",
       "      <th>ferritin</th>\n",
       "      <th>ret_count</th>\n",
       "      <th>segmented_neutrophils</th>\n",
       "      <th>tibc</th>\n",
       "      <th>mcv</th>\n",
       "      <th>label</th>\n",
       "    </tr>\n",
       "  </thead>\n",
       "  <tbody>\n",
       "    <tr>\n",
       "      <th>0</th>\n",
       "      <td>6.780822</td>\n",
       "      <td>NaN</td>\n",
       "      <td>0.765900</td>\n",
       "      <td>NaN</td>\n",
       "      <td>NaN</td>\n",
       "      <td>94.832889</td>\n",
       "      <td>Aplastic anemia</td>\n",
       "    </tr>\n",
       "    <tr>\n",
       "      <th>1</th>\n",
       "      <td>8.273517</td>\n",
       "      <td>NaN</td>\n",
       "      <td>1.886329</td>\n",
       "      <td>NaN</td>\n",
       "      <td>255.874605</td>\n",
       "      <td>80.271248</td>\n",
       "      <td>Aplastic anemia</td>\n",
       "    </tr>\n",
       "    <tr>\n",
       "      <th>2</th>\n",
       "      <td>6.476354</td>\n",
       "      <td>NaN</td>\n",
       "      <td>2.242322</td>\n",
       "      <td>NaN</td>\n",
       "      <td>NaN</td>\n",
       "      <td>96.768764</td>\n",
       "      <td>Hemolytic anemia</td>\n",
       "    </tr>\n",
       "    <tr>\n",
       "      <th>3</th>\n",
       "      <td>9.667797</td>\n",
       "      <td>NaN</td>\n",
       "      <td>0.764684</td>\n",
       "      <td>0.0</td>\n",
       "      <td>NaN</td>\n",
       "      <td>114.090607</td>\n",
       "      <td>Unspecified anemia</td>\n",
       "    </tr>\n",
       "    <tr>\n",
       "      <th>4</th>\n",
       "      <td>1.239798</td>\n",
       "      <td>NaN</td>\n",
       "      <td>6.775830</td>\n",
       "      <td>0.0</td>\n",
       "      <td>NaN</td>\n",
       "      <td>87.933601</td>\n",
       "      <td>Hemolytic anemia</td>\n",
       "    </tr>\n",
       "  </tbody>\n",
       "</table>\n",
       "</div>"
      ],
      "text/plain": [
       "   hemoglobin  ferritin  ret_count  segmented_neutrophils        tibc  \\\n",
       "0    6.780822       NaN   0.765900                    NaN         NaN   \n",
       "1    8.273517       NaN   1.886329                    NaN  255.874605   \n",
       "2    6.476354       NaN   2.242322                    NaN         NaN   \n",
       "3    9.667797       NaN   0.764684                    0.0         NaN   \n",
       "4    1.239798       NaN   6.775830                    0.0         NaN   \n",
       "\n",
       "          mcv               label  \n",
       "0   94.832889     Aplastic anemia  \n",
       "1   80.271248     Aplastic anemia  \n",
       "2   96.768764    Hemolytic anemia  \n",
       "3  114.090607  Unspecified anemia  \n",
       "4   87.933601    Hemolytic anemia  "
      ]
     },
     "execution_count": 25,
     "metadata": {},
     "output_type": "execute_result"
    }
   ],
   "source": [
    "hb_df = pd.concat([synth_hb_df, non_hb_df], axis=0)\n",
    "hb_df = hb_df.sample(frac=1, random_state = SEED).reset_index(drop=True)\n",
    "#hb_df = hb_df.fillna(0)\n",
    "hb_df.head()"
   ]
  },
  {
   "cell_type": "code",
   "execution_count": 26,
   "metadata": {},
   "outputs": [
    {
     "data": {
      "text/html": [
       "<div>\n",
       "<style scoped>\n",
       "    .dataframe tbody tr th:only-of-type {\n",
       "        vertical-align: middle;\n",
       "    }\n",
       "\n",
       "    .dataframe tbody tr th {\n",
       "        vertical-align: top;\n",
       "    }\n",
       "\n",
       "    .dataframe thead th {\n",
       "        text-align: right;\n",
       "    }\n",
       "</style>\n",
       "<table border=\"1\" class=\"dataframe\">\n",
       "  <thead>\n",
       "    <tr style=\"text-align: right;\">\n",
       "      <th></th>\n",
       "      <th>hemoglobin</th>\n",
       "      <th>ferritin</th>\n",
       "      <th>ret_count</th>\n",
       "      <th>segmented_neutrophils</th>\n",
       "      <th>tibc</th>\n",
       "      <th>mcv</th>\n",
       "      <th>label</th>\n",
       "    </tr>\n",
       "  </thead>\n",
       "  <tbody>\n",
       "    <tr>\n",
       "      <th>39982</th>\n",
       "      <td>14.654471</td>\n",
       "      <td>189.449579</td>\n",
       "      <td>0.852599</td>\n",
       "      <td>NaN</td>\n",
       "      <td>NaN</td>\n",
       "      <td>95.737308</td>\n",
       "      <td>No anemia</td>\n",
       "    </tr>\n",
       "    <tr>\n",
       "      <th>39983</th>\n",
       "      <td>5.310422</td>\n",
       "      <td>NaN</td>\n",
       "      <td>4.146689</td>\n",
       "      <td>NaN</td>\n",
       "      <td>NaN</td>\n",
       "      <td>98.090707</td>\n",
       "      <td>Hemolytic anemia</td>\n",
       "    </tr>\n",
       "    <tr>\n",
       "      <th>39984</th>\n",
       "      <td>11.529573</td>\n",
       "      <td>250.921463</td>\n",
       "      <td>5.813760</td>\n",
       "      <td>NaN</td>\n",
       "      <td>NaN</td>\n",
       "      <td>99.231139</td>\n",
       "      <td>Hemolytic anemia</td>\n",
       "    </tr>\n",
       "    <tr>\n",
       "      <th>39985</th>\n",
       "      <td>16.055191</td>\n",
       "      <td>NaN</td>\n",
       "      <td>NaN</td>\n",
       "      <td>NaN</td>\n",
       "      <td>340.54774</td>\n",
       "      <td>NaN</td>\n",
       "      <td>No anemia</td>\n",
       "    </tr>\n",
       "    <tr>\n",
       "      <th>39986</th>\n",
       "      <td>5.708435</td>\n",
       "      <td>157.133032</td>\n",
       "      <td>4.737997</td>\n",
       "      <td>NaN</td>\n",
       "      <td>NaN</td>\n",
       "      <td>86.344622</td>\n",
       "      <td>Hemolytic anemia</td>\n",
       "    </tr>\n",
       "  </tbody>\n",
       "</table>\n",
       "</div>"
      ],
      "text/plain": [
       "       hemoglobin    ferritin  ret_count  segmented_neutrophils       tibc  \\\n",
       "39982   14.654471  189.449579   0.852599                    NaN        NaN   \n",
       "39983    5.310422         NaN   4.146689                    NaN        NaN   \n",
       "39984   11.529573  250.921463   5.813760                    NaN        NaN   \n",
       "39985   16.055191         NaN        NaN                    NaN  340.54774   \n",
       "39986    5.708435  157.133032   4.737997                    NaN        NaN   \n",
       "\n",
       "             mcv             label  \n",
       "39982  95.737308         No anemia  \n",
       "39983  98.090707  Hemolytic anemia  \n",
       "39984  99.231139  Hemolytic anemia  \n",
       "39985        NaN         No anemia  \n",
       "39986  86.344622  Hemolytic anemia  "
      ]
     },
     "execution_count": 26,
     "metadata": {},
     "output_type": "execute_result"
    }
   ],
   "source": [
    "hb_df.tail()"
   ]
  },
  {
   "cell_type": "code",
   "execution_count": 27,
   "metadata": {},
   "outputs": [
    {
     "data": {
      "text/plain": [
       "array(['Aplastic anemia', 'Hemolytic anemia', 'Unspecified anemia',\n",
       "       'Anemia of chronic disease', 'No anemia', 'Iron deficiency anemia',\n",
       "       'Vitamin B12/Folate deficiency anemia'], dtype=object)"
      ]
     },
     "execution_count": 27,
     "metadata": {},
     "output_type": "execute_result"
    }
   ],
   "source": [
    "hb_df.label.unique()"
   ]
  },
  {
   "cell_type": "code",
   "execution_count": 28,
   "metadata": {},
   "outputs": [],
   "source": [
    "hb_df.to_csv('data/anemia_synth_dataset_hb_with_unspecified.csv', index=False)"
   ]
  },
  {
   "cell_type": "code",
   "execution_count": 15,
   "metadata": {},
   "outputs": [],
   "source": [
    "#hb_df.to_csv('data/anemia_synth_dataset_hb_some_nans.csv', index=False)"
   ]
  },
  {
   "cell_type": "markdown",
   "metadata": {},
   "source": [
    "#### Data analysis"
   ]
  },
  {
   "cell_type": "code",
   "execution_count": 127,
   "metadata": {},
   "outputs": [
    {
     "data": {
      "text/html": [
       "<div>\n",
       "<style scoped>\n",
       "    .dataframe tbody tr th:only-of-type {\n",
       "        vertical-align: middle;\n",
       "    }\n",
       "\n",
       "    .dataframe tbody tr th {\n",
       "        vertical-align: top;\n",
       "    }\n",
       "\n",
       "    .dataframe thead th {\n",
       "        text-align: right;\n",
       "    }\n",
       "</style>\n",
       "<table border=\"1\" class=\"dataframe\">\n",
       "  <thead>\n",
       "    <tr style=\"text-align: right;\">\n",
       "      <th></th>\n",
       "      <th>hemoglobin</th>\n",
       "      <th>ferritin</th>\n",
       "      <th>ret_count</th>\n",
       "      <th>segmented_neutrophils</th>\n",
       "      <th>tibc</th>\n",
       "      <th>mcv</th>\n",
       "      <th>label</th>\n",
       "    </tr>\n",
       "  </thead>\n",
       "  <tbody>\n",
       "    <tr>\n",
       "      <th>0</th>\n",
       "      <td>12.176139</td>\n",
       "      <td>13.829445</td>\n",
       "      <td>0.000000</td>\n",
       "      <td>0.0</td>\n",
       "      <td>0.000000</td>\n",
       "      <td>82.648043</td>\n",
       "      <td>No anemia</td>\n",
       "    </tr>\n",
       "    <tr>\n",
       "      <th>1</th>\n",
       "      <td>2.691116</td>\n",
       "      <td>0.000000</td>\n",
       "      <td>5.445103</td>\n",
       "      <td>0.0</td>\n",
       "      <td>334.674350</td>\n",
       "      <td>95.635788</td>\n",
       "      <td>Hemolytic anemia</td>\n",
       "    </tr>\n",
       "    <tr>\n",
       "      <th>2</th>\n",
       "      <td>14.139714</td>\n",
       "      <td>44.223073</td>\n",
       "      <td>0.000000</td>\n",
       "      <td>0.0</td>\n",
       "      <td>0.000000</td>\n",
       "      <td>94.631075</td>\n",
       "      <td>No anemia</td>\n",
       "    </tr>\n",
       "    <tr>\n",
       "      <th>3</th>\n",
       "      <td>11.946911</td>\n",
       "      <td>202.228906</td>\n",
       "      <td>4.032461</td>\n",
       "      <td>0.0</td>\n",
       "      <td>0.000000</td>\n",
       "      <td>99.628591</td>\n",
       "      <td>Hemolytic anemia</td>\n",
       "    </tr>\n",
       "    <tr>\n",
       "      <th>4</th>\n",
       "      <td>6.543366</td>\n",
       "      <td>0.000000</td>\n",
       "      <td>3.420648</td>\n",
       "      <td>0.0</td>\n",
       "      <td>421.689813</td>\n",
       "      <td>99.829839</td>\n",
       "      <td>Hemolytic anemia</td>\n",
       "    </tr>\n",
       "  </tbody>\n",
       "</table>\n",
       "</div>"
      ],
      "text/plain": [
       "   hemoglobin    ferritin  ret_count  segmented_neutrophils        tibc  \\\n",
       "0   12.176139   13.829445   0.000000                    0.0    0.000000   \n",
       "1    2.691116    0.000000   5.445103                    0.0  334.674350   \n",
       "2   14.139714   44.223073   0.000000                    0.0    0.000000   \n",
       "3   11.946911  202.228906   4.032461                    0.0    0.000000   \n",
       "4    6.543366    0.000000   3.420648                    0.0  421.689813   \n",
       "\n",
       "         mcv             label  \n",
       "0  82.648043         No anemia  \n",
       "1  95.635788  Hemolytic anemia  \n",
       "2  94.631075         No anemia  \n",
       "3  99.628591  Hemolytic anemia  \n",
       "4  99.829839  Hemolytic anemia  "
      ]
     },
     "execution_count": 127,
     "metadata": {},
     "output_type": "execute_result"
    }
   ],
   "source": [
    "analytic_df = pd.read_csv('data/anemia_synth_dataset_hb_some_nans.csv')\n",
    "analytic_df.head()"
   ]
  },
  {
   "cell_type": "code",
   "execution_count": 51,
   "metadata": {},
   "outputs": [
    {
     "data": {
      "text/plain": [
       "Hemolytic anemia                        14146\n",
       "No anemia                               10000\n",
       "Aplastic anemia                          9450\n",
       "Anemia of chronic disease                1869\n",
       "Vitamin B12/Folate deficiency anemia     1575\n",
       "Iron deficiency anemia                   1343\n",
       "Name: label, dtype: int64"
      ]
     },
     "execution_count": 51,
     "metadata": {},
     "output_type": "execute_result"
    }
   ],
   "source": [
    "analytic_df.label.value_counts()"
   ]
  },
  {
   "cell_type": "code",
   "execution_count": 47,
   "metadata": {},
   "outputs": [
    {
     "data": {
      "text/plain": [
       "<AxesSubplot:xlabel='label', ylabel='count'>"
      ]
     },
     "execution_count": 47,
     "metadata": {},
     "output_type": "execute_result"
    },
    {
     "data": {
      "image/png": "[encoded data removed]",
      "text/plain": [
       "<Figure size 432x288 with 1 Axes>"
      ]
     },
     "metadata": {
      "needs_background": "light"
     },
     "output_type": "display_data"
    }
   ],
   "source": [
    "plt.xticks(rotation=90)\n",
    "sns.countplot(x='label', data=analytic_df, palette = 'Set1')"
   ]
  },
  {
   "cell_type": "code",
   "execution_count": 48,
   "metadata": {},
   "outputs": [],
   "source": [
    "isna_series = analytic_df.isna().sum()"
   ]
  },
  {
   "cell_type": "code",
   "execution_count": 49,
   "metadata": {},
   "outputs": [],
   "source": [
    "def plot_feature_frequencies(df):\n",
    "    output_df  = pd.DataFrame()\n",
    "    for col in df.columns:\n",
    "        if col != 'label':\n",
    "            missing_num = df.isna().sum()[col]\n",
    "            present_num = df.notna().sum()[col]\n",
    "            col_dict = {'feature name':col, 'present': present_num, 'missing':missing_num,}\n",
    "            output_df = output_df.append(col_dict, ignore_index=True)\n",
    "    output_df = output_df[['feature name', 'present', 'missing']]\n",
    "    output_df.plot(x='feature name', kind='bar', figsize=(8,6), stacked=True)\n",
    "    return output_df"
   ]
  },
  {
   "cell_type": "code",
   "execution_count": 50,
   "metadata": {},
   "outputs": [
    {
     "data": {
      "image/png": "[encoded data removed]",
      "text/plain": [
       "<Figure size 576x432 with 1 Axes>"
      ]
     },
     "metadata": {
      "needs_background": "light"
     },
     "output_type": "display_data"
    }
   ],
   "source": [
    "output_df = plot_feature_frequencies(analytic_df)"
   ]
  },
  {
   "cell_type": "markdown",
   "metadata": {},
   "source": [
    "#### Filling nans with normal values"
   ]
  },
  {
   "cell_type": "code",
   "execution_count": 81,
   "metadata": {},
   "outputs": [
    {
     "data": {
      "text/html": [
       "<div>\n",
       "<style scoped>\n",
       "    .dataframe tbody tr th:only-of-type {\n",
       "        vertical-align: middle;\n",
       "    }\n",
       "\n",
       "    .dataframe tbody tr th {\n",
       "        vertical-align: top;\n",
       "    }\n",
       "\n",
       "    .dataframe thead th {\n",
       "        text-align: right;\n",
       "    }\n",
       "</style>\n",
       "<table border=\"1\" class=\"dataframe\">\n",
       "  <thead>\n",
       "    <tr style=\"text-align: right;\">\n",
       "      <th></th>\n",
       "      <th>hemoglobin</th>\n",
       "      <th>ferritin</th>\n",
       "      <th>ret_count</th>\n",
       "      <th>segmented_neutrophils</th>\n",
       "      <th>tibc</th>\n",
       "      <th>mcv</th>\n",
       "      <th>label</th>\n",
       "    </tr>\n",
       "  </thead>\n",
       "  <tbody>\n",
       "    <tr>\n",
       "      <th>0</th>\n",
       "      <td>12.442170</td>\n",
       "      <td>167.275524</td>\n",
       "      <td>1.341424</td>\n",
       "      <td>0.0</td>\n",
       "      <td>NaN</td>\n",
       "      <td>97.382663</td>\n",
       "      <td>No anemia</td>\n",
       "    </tr>\n",
       "    <tr>\n",
       "      <th>1</th>\n",
       "      <td>8.392233</td>\n",
       "      <td>NaN</td>\n",
       "      <td>6.501167</td>\n",
       "      <td>NaN</td>\n",
       "      <td>NaN</td>\n",
       "      <td>92.195492</td>\n",
       "      <td>Hemolytic anemia</td>\n",
       "    </tr>\n",
       "    <tr>\n",
       "      <th>2</th>\n",
       "      <td>10.804115</td>\n",
       "      <td>NaN</td>\n",
       "      <td>5.799928</td>\n",
       "      <td>NaN</td>\n",
       "      <td>NaN</td>\n",
       "      <td>89.732722</td>\n",
       "      <td>Hemolytic anemia</td>\n",
       "    </tr>\n",
       "    <tr>\n",
       "      <th>3</th>\n",
       "      <td>15.232526</td>\n",
       "      <td>239.655346</td>\n",
       "      <td>0.853124</td>\n",
       "      <td>0.0</td>\n",
       "      <td>252.363317</td>\n",
       "      <td>93.776990</td>\n",
       "      <td>No anemia</td>\n",
       "    </tr>\n",
       "    <tr>\n",
       "      <th>4</th>\n",
       "      <td>12.615418</td>\n",
       "      <td>165.499679</td>\n",
       "      <td>2.279108</td>\n",
       "      <td>0.0</td>\n",
       "      <td>447.558641</td>\n",
       "      <td>84.541755</td>\n",
       "      <td>No anemia</td>\n",
       "    </tr>\n",
       "  </tbody>\n",
       "</table>\n",
       "</div>"
      ],
      "text/plain": [
       "   hemoglobin    ferritin  ret_count  segmented_neutrophils        tibc  \\\n",
       "0   12.442170  167.275524   1.341424                    0.0         NaN   \n",
       "1    8.392233         NaN   6.501167                    NaN         NaN   \n",
       "2   10.804115         NaN   5.799928                    NaN         NaN   \n",
       "3   15.232526  239.655346   0.853124                    0.0  252.363317   \n",
       "4   12.615418  165.499679   2.279108                    0.0  447.558641   \n",
       "\n",
       "         mcv             label  \n",
       "0  97.382663         No anemia  \n",
       "1  92.195492  Hemolytic anemia  \n",
       "2  89.732722  Hemolytic anemia  \n",
       "3  93.776990         No anemia  \n",
       "4  84.541755         No anemia  "
      ]
     },
     "execution_count": 81,
     "metadata": {},
     "output_type": "execute_result"
    }
   ],
   "source": [
    "nan_df = hb_df.copy()\n",
    "nan_df.head()"
   ]
  },
  {
   "cell_type": "code",
   "execution_count": 82,
   "metadata": {},
   "outputs": [
    {
     "data": {
      "text/plain": [
       "38383"
      ]
     },
     "execution_count": 82,
     "metadata": {},
     "output_type": "execute_result"
    }
   ],
   "source": [
    "len(nan_df)"
   ]
  },
  {
   "cell_type": "code",
   "execution_count": 83,
   "metadata": {},
   "outputs": [
    {
     "data": {
      "text/plain": [
       "hemoglobin                   0\n",
       "ferritin                 26171\n",
       "ret_count                 7787\n",
       "segmented_neutrophils    30808\n",
       "tibc                     28171\n",
       "mcv                          0\n",
       "label                        0\n",
       "dtype: int64"
      ]
     },
     "execution_count": 83,
     "metadata": {},
     "output_type": "execute_result"
    }
   ],
   "source": [
    "nan_df.isna().sum()"
   ]
  },
  {
   "cell_type": "code",
   "execution_count": 84,
   "metadata": {},
   "outputs": [],
   "source": [
    "def replace_nans(df, cols, frac): #can implement where frac is a list\n",
    "    for col_name in cols:\n",
    "        for feat_dict in feat_arr:\n",
    "            if feat_dict['name'] == col_name:\n",
    "                nan_num = df[col_name].isna().sum()\n",
    "                fill_num = int(np.ceil(frac*nan_num))\n",
    "                generated_nums = np.random.uniform(feat_dict['lower'], feat_dict['upper'], fill_num)\n",
    "                indices = list(df[df[col_name].isna()].index)\n",
    "                new_indices = random.sample(indices, fill_num)\n",
    "                df.loc[new_indices, col_name] = generated_nums\n",
    "    return df"
   ]
  },
  {
   "cell_type": "code",
   "execution_count": 85,
   "metadata": {},
   "outputs": [
    {
     "data": {
      "text/plain": [
       "hemoglobin               0\n",
       "ferritin                 0\n",
       "ret_count                0\n",
       "segmented_neutrophils    0\n",
       "tibc                     0\n",
       "mcv                      0\n",
       "label                    0\n",
       "dtype: int64"
      ]
     },
     "execution_count": 85,
     "metadata": {},
     "output_type": "execute_result"
    }
   ],
   "source": [
    "cols = ['ferritin', 'ret_count', 'segmented_neutrophils', 'tibc']\n",
    "norm_df = replace_nans(nan_df, cols, 1.0)\n",
    "norm_df.isna().sum()"
   ]
  },
  {
   "cell_type": "code",
   "execution_count": 86,
   "metadata": {},
   "outputs": [
    {
     "data": {
      "text/html": [
       "<div>\n",
       "<style scoped>\n",
       "    .dataframe tbody tr th:only-of-type {\n",
       "        vertical-align: middle;\n",
       "    }\n",
       "\n",
       "    .dataframe tbody tr th {\n",
       "        vertical-align: top;\n",
       "    }\n",
       "\n",
       "    .dataframe thead th {\n",
       "        text-align: right;\n",
       "    }\n",
       "</style>\n",
       "<table border=\"1\" class=\"dataframe\">\n",
       "  <thead>\n",
       "    <tr style=\"text-align: right;\">\n",
       "      <th></th>\n",
       "      <th>hemoglobin</th>\n",
       "      <th>ferritin</th>\n",
       "      <th>ret_count</th>\n",
       "      <th>segmented_neutrophils</th>\n",
       "      <th>tibc</th>\n",
       "      <th>mcv</th>\n",
       "      <th>label</th>\n",
       "    </tr>\n",
       "  </thead>\n",
       "  <tbody>\n",
       "    <tr>\n",
       "      <th>0</th>\n",
       "      <td>12.442170</td>\n",
       "      <td>167.275524</td>\n",
       "      <td>1.341424</td>\n",
       "      <td>0.0</td>\n",
       "      <td>298.084258</td>\n",
       "      <td>97.382663</td>\n",
       "      <td>No anemia</td>\n",
       "    </tr>\n",
       "    <tr>\n",
       "      <th>1</th>\n",
       "      <td>8.392233</td>\n",
       "      <td>70.616552</td>\n",
       "      <td>6.501167</td>\n",
       "      <td>0.0</td>\n",
       "      <td>405.346012</td>\n",
       "      <td>92.195492</td>\n",
       "      <td>Hemolytic anemia</td>\n",
       "    </tr>\n",
       "    <tr>\n",
       "      <th>2</th>\n",
       "      <td>10.804115</td>\n",
       "      <td>164.093965</td>\n",
       "      <td>5.799928</td>\n",
       "      <td>0.0</td>\n",
       "      <td>429.481592</td>\n",
       "      <td>89.732722</td>\n",
       "      <td>Hemolytic anemia</td>\n",
       "    </tr>\n",
       "    <tr>\n",
       "      <th>3</th>\n",
       "      <td>15.232526</td>\n",
       "      <td>239.655346</td>\n",
       "      <td>0.853124</td>\n",
       "      <td>0.0</td>\n",
       "      <td>252.363317</td>\n",
       "      <td>93.776990</td>\n",
       "      <td>No anemia</td>\n",
       "    </tr>\n",
       "    <tr>\n",
       "      <th>4</th>\n",
       "      <td>12.615418</td>\n",
       "      <td>165.499679</td>\n",
       "      <td>2.279108</td>\n",
       "      <td>0.0</td>\n",
       "      <td>447.558641</td>\n",
       "      <td>84.541755</td>\n",
       "      <td>No anemia</td>\n",
       "    </tr>\n",
       "  </tbody>\n",
       "</table>\n",
       "</div>"
      ],
      "text/plain": [
       "   hemoglobin    ferritin  ret_count  segmented_neutrophils        tibc  \\\n",
       "0   12.442170  167.275524   1.341424                    0.0  298.084258   \n",
       "1    8.392233   70.616552   6.501167                    0.0  405.346012   \n",
       "2   10.804115  164.093965   5.799928                    0.0  429.481592   \n",
       "3   15.232526  239.655346   0.853124                    0.0  252.363317   \n",
       "4   12.615418  165.499679   2.279108                    0.0  447.558641   \n",
       "\n",
       "         mcv             label  \n",
       "0  97.382663         No anemia  \n",
       "1  92.195492  Hemolytic anemia  \n",
       "2  89.732722  Hemolytic anemia  \n",
       "3  93.776990         No anemia  \n",
       "4  84.541755         No anemia  "
      ]
     },
     "execution_count": 86,
     "metadata": {},
     "output_type": "execute_result"
    }
   ],
   "source": [
    "norm_df.head()"
   ]
  },
  {
   "cell_type": "code",
   "execution_count": 88,
   "metadata": {},
   "outputs": [],
   "source": [
    "norm_df.to_csv('data/anemia_synth_dataset_hb_all_filled.csv', index=False)"
   ]
  },
  {
   "cell_type": "code",
   "execution_count": null,
   "metadata": {},
   "outputs": [],
   "source": []
  }
 ],
 "metadata": {
  "kernelspec": {
   "display_name": "Python 3",
   "language": "python",
   "name": "python3"
  },
  "language_info": {
   "codemirror_mode": {
    "name": "ipython",
    "version": 3
   },
   "file_extension": ".py",
   "mimetype": "text/x-python",
   "name": "python",
   "nbconvert_exporter": "python",
   "pygments_lexer": "ipython3",
   "version": "3.7.4"
  }
 },
 "nbformat": 4,
 "nbformat_minor": 5
}

{
 "cells": [
  {
   "cell_type": "code",
   "execution_count": 22,
   "id": "f0d48d05",
   "metadata": {},
   "outputs": [],
   "source": [
    "import pandas as pd\n",
    "import numpy as np\n",
    "import random\n",
    "import seaborn as sns\n",
    "from sklearn.model_selection import train_test_split\n",
    "from sklearn.metrics import accuracy_score, f1_score, roc_auc_score, confusion_matrix, classification_report, roc_curve, auc\n",
    "import matplotlib.pyplot as plt\n",
    "from sklearn.preprocessing import label_binarize, LabelBinarizer"
   ]
  },
  {
   "cell_type": "code",
   "execution_count": 23,
   "id": "f8c40edb",
   "metadata": {},
   "outputs": [],
   "source": [
    "SEED = 42\n",
    "np.random.seed(SEED)\n",
    "random.seed(SEED)"
   ]
  },
  {
   "cell_type": "code",
   "execution_count": 24,
   "id": "58e75ec3",
   "metadata": {},
   "outputs": [],
   "source": [
    "def sample_train_set(x, y, sample_num):\n",
    "    idx_list = random.sample(list(x.index), sample_num)\n",
    "    sampled_x = x.loc[idx_list]\n",
    "    sampled_y = y.loc[idx_list]\n",
    "    return np.array(sampled_x), np.array(sampled_y)"
   ]
  },
  {
   "cell_type": "markdown",
   "id": "4842fdf3",
   "metadata": {},
   "source": [
    "#### The Datasets"
   ]
  },
  {
   "cell_type": "code",
   "execution_count": 25,
   "id": "3aba48a9",
   "metadata": {},
   "outputs": [
    {
     "data": {
      "text/plain": [
       "{'No anemia': 0,\n",
       " 'Hemolytic anemia': 1,\n",
       " 'Aplastic anemia': 2,\n",
       " 'Iron deficiency anemia': 3,\n",
       " 'Vitamin B12/Folate deficiency anemia': 4,\n",
       " 'Anemia of chronic disease': 5}"
      ]
     },
     "execution_count": 25,
     "metadata": {},
     "output_type": "execute_result"
    }
   ],
   "source": [
    "df = pd.read_csv('data/anemia_synth_dataset_hb_some_nans.csv') #my real dataset i think\n",
    "#df = pd.read_csv('data/anemia_synth_dataset_hb.csv')\n",
    "#df = pd.read_csv('data/noisy_dataset.csv')\n",
    "df = df.fillna(0)\n",
    "classes = list(df.label.unique())\n",
    "nums = [i for i in range(len(classes))]\n",
    "class_dict = dict(zip(classes, nums))\n",
    "class_dict"
   ]
  },
  {
   "cell_type": "code",
   "execution_count": 26,
   "id": "a2dff472",
   "metadata": {},
   "outputs": [
    {
     "name": "stdout",
     "output_type": "stream",
     "text": [
      "1    14146\n",
      "0    10000\n",
      "2     9450\n",
      "5     1869\n",
      "4     1575\n",
      "3     1343\n",
      "Name: label, dtype: int64\n"
     ]
    },
    {
     "data": {
      "text/plain": [
       "((500, 6), (11515, 6), (500,), (11515,))"
      ]
     },
     "execution_count": 26,
     "metadata": {},
     "output_type": "execute_result"
    }
   ],
   "source": [
    "# X, y = df.drop(['label'], axis=1), df['label']\n",
    "# X_train, X_test, y_train, y_test = train_test_split(X, y, test_size=0.3, stratify=y, random_state=42)\n",
    "\n",
    "df['label'] = df['label'].replace(class_dict)\n",
    "print(df.label.value_counts())\n",
    "X = df.iloc[:, 0:-1]\n",
    "y = df.iloc[:, -1]\n",
    "\n",
    "full_X_train, X_test, full_y_train, y_test = train_test_split(X, y, test_size=0.3, stratify=y, random_state=SEED)\n",
    "#X_train, y_train = np.array(X_train), np.array(y_train)\n",
    "X_train, y_train = sample_train_set(full_X_train, full_y_train, 500)\n",
    "X_test, y_test = np.array(X_test), np.array(y_test)\n",
    "X_train.shape, X_test.shape, y_train.shape, y_test.shape"
   ]
  },
  {
   "cell_type": "code",
   "execution_count": 27,
   "id": "568c5a88",
   "metadata": {},
   "outputs": [
    {
     "data": {
      "text/plain": [
       "array([1, 2, 1, ..., 1, 1, 1], dtype=int64)"
      ]
     },
     "execution_count": 27,
     "metadata": {},
     "output_type": "execute_result"
    }
   ],
   "source": [
    "y_test"
   ]
  },
  {
   "cell_type": "code",
   "execution_count": 28,
   "id": "82b879f1",
   "metadata": {},
   "outputs": [],
   "source": [
    "# df = pd.read_csv('data/anemia_synth_dataset_hb_some_nans.csv') #my real dataset i think\n",
    "# df = df.fillna(0)\n",
    "# classes = list(df.label.unique())\n",
    "# nums = [i for i in range(len(classes))]\n",
    "# class_dict = dict(zip(classes, nums))\n",
    "# class_dict"
   ]
  },
  {
   "cell_type": "code",
   "execution_count": 29,
   "id": "00d264a0",
   "metadata": {},
   "outputs": [],
   "source": [
    "# df['label'] = df['label'].replace(class_dict)\n",
    "# print(df.label.value_counts())\n",
    "# X = df.iloc[:, 0:-1]\n",
    "# y = df.iloc[:, -1]\n",
    "\n",
    "# X_train, X_test, y_train, y_test = train_test_split(X, y, test_size=0.3, stratify=y, random_state=SEED)\n",
    "# X_train, y_train = np.array(X_train), np.array(y_train)\n",
    "# X_test, y_test = np.array(X_test), np.array(y_test)\n",
    "# X_train.shape, X_test.shape, y_train.shape, y_test.shape"
   ]
  },
  {
   "cell_type": "markdown",
   "id": "cd78ffc1",
   "metadata": {},
   "source": [
    "#### Some useful functions and variables"
   ]
  },
  {
   "cell_type": "code",
   "execution_count": 30,
   "id": "e2a5ec1d",
   "metadata": {},
   "outputs": [],
   "source": [
    "#class_dict = {'A':0, 'B':1, 'C':2}\n",
    "# classes = list(df.label.unique())\n",
    "# nums = [i for i in range(len(classes))]\n",
    "# class_dict = dict(zip(classes, nums))\n",
    "# class_dict"
   ]
  },
  {
   "cell_type": "code",
   "execution_count": 31,
   "id": "a1409f70",
   "metadata": {},
   "outputs": [],
   "source": [
    "def multiclass_roc_auc_score(y_test, y_pred, average=\"macro\"):\n",
    "    '''Calculate roc_auc score'''\n",
    "    fig, c_ax = plt.subplots(1,1, figsize = (12, 8))\n",
    "    target= list(class_dict.keys())\n",
    "    lb = LabelBinarizer()\n",
    "    lb.fit(y_test)\n",
    "    y_test = lb.transform(y_test)\n",
    "    y_pred = lb.transform(y_pred)\n",
    "\n",
    "    for (idx, c_label) in enumerate(target):\n",
    "        fpr, tpr, thresholds = roc_curve(y_test[:,idx].astype(int), y_pred[:,idx])\n",
    "        c_ax.plot(fpr, tpr, label = '%s (AUC:%0.2f)'  % (c_label, auc(fpr, tpr)))\n",
    "    c_ax.plot(fpr, fpr, 'b-', label = 'Random Guessing')\n",
    "    plt.close()\n",
    "    return roc_auc_score(y_test, y_pred, average=average)"
   ]
  },
  {
   "cell_type": "code",
   "execution_count": 32,
   "id": "41407fb0",
   "metadata": {},
   "outputs": [],
   "source": [
    "def multiclass(actual_class, pred_class, average = \"macro\"):\n",
    "\n",
    "    #creating a set of all the unique classes using the actual class list\n",
    "    unique_class = set(actual_class)\n",
    "    roc_auc_dict = {}\n",
    "    for per_class in unique_class:\n",
    "        #creating a list of all the classes except the current class \n",
    "        other_class = [x for x in unique_class if x != per_class]\n",
    "\n",
    "        #marking the current class as 1 and all other classes as 0\n",
    "        new_actual_class = [0 if x in other_class else 1 for x in actual_class]\n",
    "        new_pred_class = [0 if x in other_class else 1 for x in pred_class]\n",
    "\n",
    "        #using the sklearn metrics method to calculate the roc_auc_score\n",
    "        roc_auc = roc_auc_score(new_actual_class, new_pred_class, average = average)\n",
    "        roc_auc_dict[per_class] = roc_auc\n",
    "    print(f'Roc auc dict: {roc_auc_dict}')\n",
    "    avg = sum(roc_auc_dict.values()) / len(roc_auc_dict)\n",
    "    \n",
    "    #return roc_auc_dict\n",
    "    return avg"
   ]
  },
  {
   "cell_type": "code",
   "execution_count": 33,
   "id": "b04c1114",
   "metadata": {},
   "outputs": [],
   "source": [
    "def test(model, Xtest, ytest):\n",
    "    ypred = model.predict(Xtest)\n",
    "    acc = accuracy_score(ytest, ypred)\n",
    "    f1_macro = f1_score(ytest, ypred, average ='macro', labels=np.unique(ytest))\n",
    "    #f1_micro = f1_score(ytest, ypred, average ='micro', labels=np.unique(ytest))\n",
    "    cr = classification_report(ytest, ypred)\n",
    "    cm = confusion_matrix(ytest, ypred)\n",
    "    roc_auc = multiclass_roc_auc_score(ytest, ypred)\n",
    "    roc_auc2 = multiclass(ytest, ypred)\n",
    "    return acc, f1_macro, cr, cm, roc_auc, roc_auc2, ypred"
   ]
  },
  {
   "cell_type": "markdown",
   "id": "70a49beb",
   "metadata": {},
   "source": [
    "#### Normalizing X"
   ]
  },
  {
   "cell_type": "code",
   "execution_count": 34,
   "id": "1c8f4d09",
   "metadata": {},
   "outputs": [],
   "source": [
    "from sklearn.preprocessing import MinMaxScaler"
   ]
  },
  {
   "cell_type": "code",
   "execution_count": 35,
   "id": "f84a6a0c",
   "metadata": {},
   "outputs": [],
   "source": [
    "mmc = MinMaxScaler()"
   ]
  },
  {
   "cell_type": "code",
   "execution_count": 36,
   "id": "2396768c",
   "metadata": {},
   "outputs": [],
   "source": [
    "X_train_norm = mmc.fit_transform(X_train)\n",
    "X_test_norm = mmc.transform(X_test)"
   ]
  },
  {
   "cell_type": "code",
   "execution_count": 37,
   "id": "fae7148f",
   "metadata": {},
   "outputs": [
    {
     "data": {
      "text/plain": [
       "((500, 6), (11515, 6))"
      ]
     },
     "execution_count": 37,
     "metadata": {},
     "output_type": "execute_result"
    }
   ],
   "source": [
    "X_train_norm.shape, X_test_norm.shape"
   ]
  },
  {
   "cell_type": "markdown",
   "id": "78698f77",
   "metadata": {},
   "source": [
    "#### Support Vector Machine"
   ]
  },
  {
   "cell_type": "code",
   "execution_count": 38,
   "id": "e56536e3",
   "metadata": {},
   "outputs": [],
   "source": [
    "from sklearn.svm import SVC"
   ]
  },
  {
   "cell_type": "code",
   "execution_count": 39,
   "id": "5363d4f5",
   "metadata": {},
   "outputs": [
    {
     "name": "stderr",
     "output_type": "stream",
     "text": [
      "C:\\Users\\User\\Anaconda3\\envs\\tf_v1_env\\lib\\site-packages\\sklearn\\metrics\\_classification.py:1318: UndefinedMetricWarning: Precision and F-score are ill-defined and being set to 0.0 in labels with no predicted samples. Use `zero_division` parameter to control this behavior.\n",
      "  _warn_prf(average, modifier, msg_start, len(result))\n",
      "C:\\Users\\User\\Anaconda3\\envs\\tf_v1_env\\lib\\site-packages\\sklearn\\metrics\\_classification.py:1318: UndefinedMetricWarning: Precision and F-score are ill-defined and being set to 0.0 in labels with no predicted samples. Use `zero_division` parameter to control this behavior.\n",
      "  _warn_prf(average, modifier, msg_start, len(result))\n",
      "C:\\Users\\User\\Anaconda3\\envs\\tf_v1_env\\lib\\site-packages\\sklearn\\metrics\\_classification.py:1318: UndefinedMetricWarning: Precision and F-score are ill-defined and being set to 0.0 in labels with no predicted samples. Use `zero_division` parameter to control this behavior.\n",
      "  _warn_prf(average, modifier, msg_start, len(result))\n"
     ]
    },
    {
     "name": "stdout",
     "output_type": "stream",
     "text": [
      "Roc auc dict: {0: 0.989033078880407, 1: 0.9716140715488731, 2: 0.9283125675598793, 3: 0.5, 4: 0.788135593220339, 5: 0.7754010695187166}\n",
      "Accuracy - 0.8986539296569692, F1 Score: 0.70382855357099, ROC AUC Score: 0.8254160634547025, ROC AUC 2: 0.8254160634547025\n",
      "Unique predicted classes: [0 1 2 4 5]\n"
     ]
    }
   ],
   "source": [
    "svm_model = SVC(kernel='linear', C=1, decision_function_shape='ovo', random_state=42).fit(X_train_norm, y_train)\n",
    "acc, f1, cr, cm, roc_auc, roc_auc2, y_pred  = test(svm_model, X_test_norm, y_test) \n",
    "print(f'Accuracy - {acc}, F1 Score: {f1}, ROC AUC Score: {roc_auc}, ROC AUC 2: {roc_auc2}')\n",
    "print(f'Unique predicted classes: {np.unique(y_pred)}')"
   ]
  },
  {
   "cell_type": "markdown",
   "id": "0d772f7f",
   "metadata": {},
   "source": [
    "#### Feed-forward Neural Network - Keras"
   ]
  },
  {
   "cell_type": "code",
   "execution_count": null,
   "id": "84e9832a",
   "metadata": {},
   "outputs": [],
   "source": [
    "from keras.models import Sequential\n",
    "from keras.layers import Dense, Dropout\n",
    "from keras.wrappers.scikit_learn import KerasClassifier\n",
    "from keras.utils import np_utils\n",
    "from sklearn.preprocessing import LabelEncoder\n",
    "from keras import backend as K\n",
    "import keras"
   ]
  },
  {
   "cell_type": "code",
   "execution_count": null,
   "id": "b7bf8276",
   "metadata": {},
   "outputs": [],
   "source": [
    "#keras.utils.set_random_seed(42)"
   ]
  },
  {
   "cell_type": "code",
   "execution_count": null,
   "id": "5cef8387",
   "metadata": {},
   "outputs": [],
   "source": [
    "def recall_m(y_true, y_pred):\n",
    "    true_positives = K.sum(K.round(K.clip(y_true * y_pred, 0, 1)))\n",
    "    possible_positives = K.sum(K.round(K.clip(y_true, 0, 1)))\n",
    "    recall = true_positives / (possible_positives + K.epsilon())\n",
    "    return recall\n",
    "\n",
    "def precision_m(y_true, y_pred):\n",
    "    true_positives = K.sum(K.round(K.clip(y_true * y_pred, 0, 1)))\n",
    "    predicted_positives = K.sum(K.round(K.clip(y_pred, 0, 1)))\n",
    "    precision = true_positives / (predicted_positives + K.epsilon())\n",
    "    return precision\n",
    "\n",
    "def f1_m(y_true, y_pred):\n",
    "    precision = precision_m(y_true, y_pred)\n",
    "    recall = recall_m(y_true, y_pred)\n",
    "    return 2*((precision*recall)/(precision+recall+K.epsilon()))"
   ]
  },
  {
   "cell_type": "code",
   "execution_count": null,
   "id": "fba0bccd",
   "metadata": {},
   "outputs": [],
   "source": [
    "def numerize_labels(pd_series):\n",
    "    series_copy = pd_series.copy()\n",
    "    series_copy = series_copy.map(class_dict)\n",
    "    return series_copy\n",
    "\n",
    "y_train_num = numerize_labels(y_train)\n",
    "y_test_num = numerize_labels(y_test)\n",
    "\n",
    "dummy_y_train = np_utils.to_categorical(y_train_num)\n",
    "dummy_y_test = np_utils.to_categorical(y_test_num)\n",
    "dummy_y_train.shape, dummy_y_test.shape"
   ]
  },
  {
   "cell_type": "code",
   "execution_count": null,
   "id": "bb559992",
   "metadata": {},
   "outputs": [],
   "source": [
    "model = Sequential()\n",
    "model.add(Dropout(0.5, input_shape=(6,)))\n",
    "model.add(Dense(16, activation='relu'))\n",
    "model.add(Dropout(0.5))\n",
    "model.add(Dense(6, activation='softmax'))\n",
    "model.compile(loss='categorical_crossentropy', optimizer='adam', metrics=['accuracy', f1_m, precision_m, recall_m])\n",
    "history = model.fit(X_train_norm, dummy_y_train, nb_epoch=100, batch_size=1024, shuffle=True, validation_split=0.20, verbose=0)\n",
    "#model.save('../models/baselines/synthentic_nn.h5')\n",
    "loss, accuracy, f1, precision, recall = model.evaluate(X_test_norm, dummy_y_test, verbose=0)\n",
    "loss, accuracy, f1, precision, recall"
   ]
  },
  {
   "cell_type": "code",
   "execution_count": null,
   "id": "6c9e138a",
   "metadata": {},
   "outputs": [],
   "source": [
    "#Alternatively\n",
    "y_pred1 = model.predict(X_test_norm)\n",
    "y_pred = np.argmax(y_pred1, axis=1)\n",
    "np.unique(y_pred)"
   ]
  },
  {
   "cell_type": "code",
   "execution_count": null,
   "id": "9b27f193",
   "metadata": {},
   "outputs": [],
   "source": [
    "np.unique(y_test_num)"
   ]
  },
  {
   "cell_type": "code",
   "execution_count": null,
   "id": "5a263081",
   "metadata": {},
   "outputs": [],
   "source": [
    "acc = accuracy_score(y_test_num, y_pred)\n",
    "f1 = f1_score(y_test_num, y_pred, average='macro', labels=np.unique(y_test_num))\n",
    "roc_auc = multiclass_roc_auc_score(y_test_num, y_pred)\n",
    "acc, f1, roc_auc"
   ]
  },
  {
   "cell_type": "markdown",
   "id": "192a799c",
   "metadata": {},
   "source": [
    "#### Feed-forward Neural Network - PyTorch"
   ]
  },
  {
   "cell_type": "code",
   "execution_count": null,
   "id": "352937ca",
   "metadata": {},
   "outputs": [],
   "source": [
    "import torch\n",
    "import torch.nn as nn\n",
    "import torch.optim as optim\n",
    "from torch.utils.data import Dataset, DataLoader, WeightedRandomSampler\n",
    "from tqdm.notebook import tqdm"
   ]
  },
  {
   "cell_type": "code",
   "execution_count": null,
   "id": "ef72b3b6",
   "metadata": {},
   "outputs": [],
   "source": [
    "def get_class_distribution(obj):\n",
    "    #count_dict = {'A': 0, 'B': 0, 'C': 0}\n",
    "    count_dict = {'No anemia': 0, 'Hemolytic anemia': 0, 'Aplastic anemia': 0, 'Iron deficiency anemia': 0,\n",
    "                  'Vitamin B12/Folate deficiency anemia': 0, 'Anemia of chronic disease': 0}\n",
    "    \n",
    "    for i in obj:\n",
    "        if i == 0: \n",
    "            count_dict['No anemia'] += 1\n",
    "        elif i == 1: \n",
    "            count_dict['Hemolytic anemia'] += 1\n",
    "        elif i == 2: \n",
    "            count_dict['Aplastic anemia'] += 1\n",
    "        elif i == 3: \n",
    "            count_dict['Iron deficiency anemia'] += 1\n",
    "        elif i == 4: \n",
    "            count_dict['Vitamin B12/Folate deficiency anemia'] += 1\n",
    "        elif i == 5: \n",
    "            count_dict['Anemia of chronic disease'] += 1\n",
    "        else:\n",
    "            print('Check classes')\n",
    "            \n",
    "    return count_dict"
   ]
  },
  {
   "cell_type": "code",
   "execution_count": null,
   "id": "9a386635",
   "metadata": {},
   "outputs": [],
   "source": [
    "class ClassifierDataset(Dataset):\n",
    "    \n",
    "    def __init__(self, X_data, y_data):\n",
    "        self.X_data = X_data\n",
    "        self.y_data = y_data\n",
    "        \n",
    "    def __getitem__(self, index):\n",
    "        return self.X_data[index], self.y_data[index]\n",
    "        \n",
    "    def __len__ (self):\n",
    "        return len(self.X_data)"
   ]
  },
  {
   "cell_type": "code",
   "execution_count": null,
   "id": "af9387c5",
   "metadata": {},
   "outputs": [],
   "source": [
    "nn_df = pd.read_csv('data/anemia_synth_dataset_hb_some_nans.csv')\n",
    "\n",
    "class_dict = {'No anemia': 0, 'Hemolytic anemia': 1, 'Aplastic anemia': 2, 'Iron deficiency anemia': 3, \n",
    "              'Vitamin B12/Folate deficiency anemia': 4, 'Anemia of chronic disease': 5}\n",
    "\n",
    "nn_df['label'].replace(class_dict, inplace=True)\n",
    "\n",
    "X = nn_df.iloc[:, 0:-1]\n",
    "y = nn_df.iloc[:, -1]\n",
    "\n",
    "X_trainval, X_test, y_trainval, y_test = train_test_split(X, y, test_size=0.3, stratify=y, random_state=42)\n",
    "X_train, X_val, y_train, y_val = train_test_split(X_trainval, y_trainval, test_size=0.1, stratify=y_trainval, random_state=42)"
   ]
  },
  {
   "cell_type": "code",
   "execution_count": null,
   "id": "2489a9e1",
   "metadata": {},
   "outputs": [],
   "source": [
    "scaler = MinMaxScaler()\n",
    "X_train = scaler.fit_transform(X_train)\n",
    "X_val = scaler.transform(X_val)\n",
    "X_test = scaler.transform(X_test)\n",
    "X_train, y_train = np.array(X_train), np.array(y_train)\n",
    "X_val, y_val = np.array(X_val), np.array(y_val)\n",
    "X_test, y_test = np.array(X_test), np.array(y_test)"
   ]
  },
  {
   "cell_type": "code",
   "execution_count": null,
   "id": "7244712f",
   "metadata": {},
   "outputs": [],
   "source": [
    "train_dataset = ClassifierDataset(torch.from_numpy(X_train).float(), torch.from_numpy(np.array(y_train)).long())\n",
    "\n",
    "val_dataset = ClassifierDataset(torch.from_numpy(X_val).float(), torch.from_numpy(y_val).long())\n",
    "\n",
    "test_dataset = ClassifierDataset(torch.from_numpy(X_test).float(), torch.from_numpy(np.array(y_test)).long())"
   ]
  },
  {
   "cell_type": "code",
   "execution_count": null,
   "id": "82d044b3",
   "metadata": {},
   "outputs": [],
   "source": [
    "target_list = []\n",
    "for _, t in train_dataset:\n",
    "    target_list.append(t)\n",
    "    \n",
    "target_list = torch.tensor(target_list)"
   ]
  },
  {
   "cell_type": "code",
   "execution_count": null,
   "id": "a9b673f1",
   "metadata": {},
   "outputs": [],
   "source": [
    "class_count = [i for i in get_class_distribution(y_train).values()]\n",
    "class_weights = 1./torch.tensor(class_count, dtype=torch.float) \n",
    "print(class_weights)\n",
    "###################### OUTPUT ######################tensor([0.1429, 0.0263, 0.0020, 0.0022, 0.0070, 0.0714])"
   ]
  },
  {
   "cell_type": "code",
   "execution_count": null,
   "id": "4b1d7bea",
   "metadata": {},
   "outputs": [],
   "source": [
    "class_weights_all = class_weights[target_list]"
   ]
  },
  {
   "cell_type": "code",
   "execution_count": null,
   "id": "ccf13359",
   "metadata": {},
   "outputs": [],
   "source": [
    "weighted_sampler = WeightedRandomSampler(\n",
    "    weights=class_weights_all,\n",
    "    num_samples=len(class_weights_all),\n",
    "    replacement=True\n",
    ")"
   ]
  },
  {
   "cell_type": "code",
   "execution_count": null,
   "id": "b57ecf97",
   "metadata": {},
   "outputs": [],
   "source": [
    "#EPOCHS = 300\n",
    "EPOCHS = 11\n",
    "BATCH_SIZE = 16\n",
    "LEARNING_RATE = 0.0007\n",
    "NUM_FEATURES = len(X.columns)\n",
    "NUM_CLASSES = 6"
   ]
  },
  {
   "cell_type": "code",
   "execution_count": null,
   "id": "be5d1fb3",
   "metadata": {},
   "outputs": [],
   "source": [
    "train_loader = DataLoader(dataset=train_dataset, batch_size=BATCH_SIZE, sampler=weighted_sampler)\n",
    "\n",
    "val_loader = DataLoader(dataset=val_dataset, batch_size=1)\n",
    "\n",
    "test_loader = DataLoader(dataset=test_dataset, batch_size=1)"
   ]
  },
  {
   "cell_type": "code",
   "execution_count": null,
   "id": "50547061",
   "metadata": {},
   "outputs": [],
   "source": [
    "class MulticlassClassification(nn.Module):\n",
    "    def __init__(self, num_feature, num_class):\n",
    "        super(MulticlassClassification, self).__init__()\n",
    "        \n",
    "        self.layer_1 = nn.Linear(num_feature, 512)\n",
    "        self.layer_2 = nn.Linear(512, 128)\n",
    "        self.layer_3 = nn.Linear(128, 64)\n",
    "        self.layer_out = nn.Linear(64, num_class) \n",
    "        \n",
    "        self.relu = nn.ReLU()\n",
    "        self.dropout = nn.Dropout(p=0.2)\n",
    "        self.batchnorm1 = nn.BatchNorm1d(512)\n",
    "        self.batchnorm2 = nn.BatchNorm1d(128)\n",
    "        self.batchnorm3 = nn.BatchNorm1d(64)\n",
    "        \n",
    "    def forward(self, x):\n",
    "        x = self.layer_1(x)\n",
    "        x = self.batchnorm1(x)\n",
    "        x = self.relu(x)\n",
    "        \n",
    "        x = self.layer_2(x)\n",
    "        x = self.batchnorm2(x)\n",
    "        x = self.relu(x)\n",
    "        x = self.dropout(x)\n",
    "        \n",
    "        x = self.layer_3(x)\n",
    "        x = self.batchnorm3(x)\n",
    "        x = self.relu(x)\n",
    "        x = self.dropout(x)\n",
    "        \n",
    "        x = self.layer_out(x)\n",
    "        \n",
    "        return x"
   ]
  },
  {
   "cell_type": "code",
   "execution_count": null,
   "id": "3b520e1a",
   "metadata": {},
   "outputs": [],
   "source": [
    "device = torch.device('cuda:0' if torch.cuda.is_available() else 'cpu')\n",
    "device"
   ]
  },
  {
   "cell_type": "code",
   "execution_count": null,
   "id": "4a955d25",
   "metadata": {},
   "outputs": [],
   "source": [
    "model = MulticlassClassification(num_feature = NUM_FEATURES, num_class=NUM_CLASSES)\n",
    "model.to(device)\n",
    "\n",
    "criterion = nn.CrossEntropyLoss(weight=class_weights.to(device))\n",
    "optimizer = optim.Adam(model.parameters(), lr=LEARNING_RATE)\n",
    "model"
   ]
  },
  {
   "cell_type": "code",
   "execution_count": null,
   "id": "8438517e",
   "metadata": {},
   "outputs": [],
   "source": [
    "def multi_acc(y_pred, y_test):\n",
    "    y_pred_softmax = torch.log_softmax(y_pred, dim = 1)\n",
    "    _, y_pred_tags = torch.max(y_pred_softmax, dim = 1)    \n",
    "    \n",
    "    correct_pred = (y_pred_tags == y_test).float()\n",
    "    acc = correct_pred.sum() / len(correct_pred)\n",
    "    \n",
    "    acc = torch.round(acc * 100)\n",
    "    \n",
    "    return acc"
   ]
  },
  {
   "cell_type": "code",
   "execution_count": null,
   "id": "9e0e237e",
   "metadata": {},
   "outputs": [],
   "source": [
    "accuracy_stats = {\n",
    "    'train': [],\n",
    "    \"val\": []\n",
    "}\n",
    "\n",
    "loss_stats = {\n",
    "    'train': [],\n",
    "    \"val\": []\n",
    "}"
   ]
  },
  {
   "cell_type": "code",
   "execution_count": null,
   "id": "a3d634b9",
   "metadata": {},
   "outputs": [],
   "source": [
    "print(\"Begin training.\")\n",
    "for e in tqdm(range(1, EPOCHS+1)):\n",
    "    \n",
    "    # TRAINING\n",
    "    train_epoch_loss = 0\n",
    "    train_epoch_acc = 0\n",
    "    model.train()\n",
    "    for X_train_batch, y_train_batch in train_loader:\n",
    "        X_train_batch, y_train_batch = X_train_batch.to(device), y_train_batch.to(device)\n",
    "        optimizer.zero_grad()\n",
    "        \n",
    "        y_train_pred = model(X_train_batch)\n",
    "        \n",
    "        train_loss = criterion(y_train_pred, y_train_batch)\n",
    "        train_acc = multi_acc(y_train_pred, y_train_batch)\n",
    "        \n",
    "        train_loss.backward()\n",
    "        optimizer.step()\n",
    "        \n",
    "        train_epoch_loss += train_loss.item()\n",
    "        train_epoch_acc += train_acc.item()\n",
    "        \n",
    "        \n",
    "    # VALIDATION    \n",
    "    with torch.no_grad():\n",
    "        \n",
    "        val_epoch_loss = 0\n",
    "        val_epoch_acc = 0\n",
    "        \n",
    "        model.eval()\n",
    "        for X_val_batch, y_val_batch in val_loader:\n",
    "            X_val_batch, y_val_batch = X_val_batch.to(device), y_val_batch.to(device)\n",
    "            \n",
    "            y_val_pred = model(X_val_batch)\n",
    "                        \n",
    "            val_loss = criterion(y_val_pred, y_val_batch)\n",
    "            val_acc = multi_acc(y_val_pred, y_val_batch)\n",
    "            \n",
    "            val_epoch_loss += val_loss.item()\n",
    "            val_epoch_acc += val_acc.item()\n",
    "            \n",
    "    loss_stats['train'].append(train_epoch_loss/len(train_loader))\n",
    "    loss_stats['val'].append(val_epoch_loss/len(val_loader))\n",
    "    accuracy_stats['train'].append(train_epoch_acc/len(train_loader))\n",
    "    accuracy_stats['val'].append(val_epoch_acc/len(val_loader))\n",
    "                              \n",
    "    \n",
    "    print(f'Epoch {e+0:03}: | Train Loss: {train_epoch_loss/len(train_loader):.5f} | Val Loss: {val_epoch_loss/len(val_loader):.5f} | Train Acc: {train_epoch_acc/len(train_loader):.3f}| Val Acc: {val_epoch_acc/len(val_loader):.3f}')"
   ]
  },
  {
   "cell_type": "code",
   "execution_count": null,
   "id": "e4b8026a",
   "metadata": {},
   "outputs": [],
   "source": [
    "y_pred_list = []\n",
    "with torch.no_grad():\n",
    "    model.eval()\n",
    "    for X_batch, _ in test_loader:\n",
    "        X_batch = X_batch.to(device)\n",
    "        y_test_pred = model(X_batch)\n",
    "        _, y_pred_tags = torch.max(y_test_pred, dim = 1)\n",
    "        y_pred_list.append(y_pred_tags.cpu().numpy())\n",
    "y_pred_list = [a.squeeze().tolist() for a in y_pred_list]\n",
    "y_pred_list[:5]"
   ]
  },
  {
   "cell_type": "code",
   "execution_count": null,
   "id": "b8a8e65b",
   "metadata": {},
   "outputs": [],
   "source": [
    "#11 epochs\n",
    "acc = accuracy_score(y_test, y_pred_list)\n",
    "f1 = f1_score(y_test, y_pred_list, average='macro', labels=np.unique(y_test))\n",
    "roc_auc = multiclass_roc_auc_score(y_test, y_pred_list)\n",
    "acc, f1, roc_auc"
   ]
  },
  {
   "cell_type": "code",
   "execution_count": null,
   "id": "bde086c8",
   "metadata": {},
   "outputs": [],
   "source": [
    "#300 epochs\n",
    "acc = accuracy_score(y_test, y_pred_list)\n",
    "f1 = f1_score(y_test, y_pred_list, average='macro', labels=np.unique(y_test))\n",
    "roc_auc = multiclass_roc_auc_score(y_test, y_pred_list)\n",
    "acc, f1, roc_auc"
   ]
  },
  {
   "cell_type": "code",
   "execution_count": null,
   "id": "30f86c6d",
   "metadata": {},
   "outputs": [],
   "source": [
    "np.unique(y_test)"
   ]
  },
  {
   "cell_type": "code",
   "execution_count": null,
   "id": "b6f743df",
   "metadata": {},
   "outputs": [],
   "source": [
    "y_test"
   ]
  },
  {
   "cell_type": "code",
   "execution_count": null,
   "id": "3b90caff",
   "metadata": {},
   "outputs": [],
   "source": []
  }
 ],
 "metadata": {
  "kernelspec": {
   "display_name": "Python 3 (ipykernel)",
   "language": "python",
   "name": "python3"
  },
  "language_info": {
   "codemirror_mode": {
    "name": "ipython",
    "version": 3
   },
   "file_extension": ".py",
   "mimetype": "text/x-python",
   "name": "python",
   "nbconvert_exporter": "python",
   "pygments_lexer": "ipython3",
   "version": "3.7.4"
  }
 },
 "nbformat": 4,
 "nbformat_minor": 5
}

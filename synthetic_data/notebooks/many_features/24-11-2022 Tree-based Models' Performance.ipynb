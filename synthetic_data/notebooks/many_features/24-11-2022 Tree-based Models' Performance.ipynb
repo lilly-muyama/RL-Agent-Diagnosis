{
 "cells": [
  {
   "cell_type": "code",
   "execution_count": 1,
   "id": "f840e927",
   "metadata": {},
   "outputs": [],
   "source": [
    "import pandas as pd\n",
    "import numpy as np\n",
    "import random\n",
    "import joblib\n",
    "import seaborn as sns\n",
    "from sklearn.model_selection import train_test_split\n",
    "import matplotlib.pyplot as plt\n",
    "%matplotlib inline\n",
    "import sys\n",
    "sys.path.append('../..')\n",
    "from modules.many_features import utils, constants\n",
    "from sklearn.model_selection import train_test_split\n",
    "from sklearn.preprocessing import label_binarize, LabelBinarizer\n",
    "from sklearn.metrics import accuracy_score, f1_score, roc_auc_score, confusion_matrix, classification_report \n",
    "from sklearn.metrics import roc_curve, auc"
   ]
  },
  {
   "cell_type": "code",
   "execution_count": 2,
   "id": "c5365e3c",
   "metadata": {},
   "outputs": [],
   "source": [
    "SEED = 42\n",
    "random.seed(SEED)\n",
    "np.random.seed(SEED)"
   ]
  },
  {
   "cell_type": "code",
   "execution_count": 3,
   "id": "cc5cebc6",
   "metadata": {},
   "outputs": [],
   "source": [
    "#def sample_train_set(x, y, sample_num):\n",
    "#    idx_list = random.sample(list(x.index), sample_num)\n",
    "#    sampled_x = x.loc[idx_list]\n",
    "#    sampled_y = y.loc[idx_list]\n",
    "#    return np.array(sampled_x), np.array(sampled_y)"
   ]
  },
  {
   "cell_type": "markdown",
   "id": "122f43e5",
   "metadata": {},
   "source": [
    "#### The Datasets"
   ]
  },
  {
   "cell_type": "code",
   "execution_count": 71,
   "id": "9d469f87",
   "metadata": {},
   "outputs": [
    {
     "data": {
      "text/html": [
       "<div>\n",
       "<style scoped>\n",
       "    .dataframe tbody tr th:only-of-type {\n",
       "        vertical-align: middle;\n",
       "    }\n",
       "\n",
       "    .dataframe tbody tr th {\n",
       "        vertical-align: top;\n",
       "    }\n",
       "\n",
       "    .dataframe thead th {\n",
       "        text-align: right;\n",
       "    }\n",
       "</style>\n",
       "<table border=\"1\" class=\"dataframe\">\n",
       "  <thead>\n",
       "    <tr style=\"text-align: right;\">\n",
       "      <th></th>\n",
       "      <th>hemoglobin</th>\n",
       "      <th>ferritin</th>\n",
       "      <th>ret_count</th>\n",
       "      <th>segmented_neutrophils</th>\n",
       "      <th>tibc</th>\n",
       "      <th>mcv</th>\n",
       "      <th>serum_iron</th>\n",
       "      <th>rbc</th>\n",
       "      <th>gender</th>\n",
       "      <th>creatinine</th>\n",
       "      <th>cholestrol</th>\n",
       "      <th>copper</th>\n",
       "      <th>ethanol</th>\n",
       "      <th>folate</th>\n",
       "      <th>glucose</th>\n",
       "      <th>hematocrit</th>\n",
       "      <th>tsat</th>\n",
       "    </tr>\n",
       "  </thead>\n",
       "  <tbody>\n",
       "    <tr>\n",
       "      <th>0</th>\n",
       "      <td>6.104489</td>\n",
       "      <td>-1.000000</td>\n",
       "      <td>-1.000000</td>\n",
       "      <td>0.920616</td>\n",
       "      <td>150.863286</td>\n",
       "      <td>77.936869</td>\n",
       "      <td>45.018443</td>\n",
       "      <td>2.349782</td>\n",
       "      <td>1</td>\n",
       "      <td>1.297655</td>\n",
       "      <td>34.961997</td>\n",
       "      <td>60.378870</td>\n",
       "      <td>7.798268</td>\n",
       "      <td>6.015069</td>\n",
       "      <td>112.750517</td>\n",
       "      <td>18.313467</td>\n",
       "      <td>29.840555</td>\n",
       "    </tr>\n",
       "    <tr>\n",
       "      <th>1</th>\n",
       "      <td>7.781663</td>\n",
       "      <td>215.967826</td>\n",
       "      <td>1.643871</td>\n",
       "      <td>5.956930</td>\n",
       "      <td>-1.000000</td>\n",
       "      <td>85.512847</td>\n",
       "      <td>-1.000000</td>\n",
       "      <td>2.729998</td>\n",
       "      <td>0</td>\n",
       "      <td>1.157021</td>\n",
       "      <td>87.155613</td>\n",
       "      <td>-1.000000</td>\n",
       "      <td>-1.000000</td>\n",
       "      <td>-1.000000</td>\n",
       "      <td>-1.000000</td>\n",
       "      <td>23.344989</td>\n",
       "      <td>-1.000000</td>\n",
       "    </tr>\n",
       "    <tr>\n",
       "      <th>2</th>\n",
       "      <td>10.306951</td>\n",
       "      <td>-1.000000</td>\n",
       "      <td>-1.000000</td>\n",
       "      <td>3.269642</td>\n",
       "      <td>361.637557</td>\n",
       "      <td>101.949912</td>\n",
       "      <td>213.802158</td>\n",
       "      <td>3.032946</td>\n",
       "      <td>0</td>\n",
       "      <td>1.983531</td>\n",
       "      <td>3.371683</td>\n",
       "      <td>128.512264</td>\n",
       "      <td>14.157427</td>\n",
       "      <td>19.486851</td>\n",
       "      <td>133.035690</td>\n",
       "      <td>30.920853</td>\n",
       "      <td>59.120563</td>\n",
       "    </tr>\n",
       "    <tr>\n",
       "      <th>3</th>\n",
       "      <td>8.034653</td>\n",
       "      <td>-1.000000</td>\n",
       "      <td>5.322562</td>\n",
       "      <td>1.290493</td>\n",
       "      <td>-1.000000</td>\n",
       "      <td>89.288985</td>\n",
       "      <td>-1.000000</td>\n",
       "      <td>2.699544</td>\n",
       "      <td>0</td>\n",
       "      <td>1.135298</td>\n",
       "      <td>57.357480</td>\n",
       "      <td>73.669678</td>\n",
       "      <td>-1.000000</td>\n",
       "      <td>1.485512</td>\n",
       "      <td>-1.000000</td>\n",
       "      <td>24.103959</td>\n",
       "      <td>-1.000000</td>\n",
       "    </tr>\n",
       "    <tr>\n",
       "      <th>4</th>\n",
       "      <td>8.314152</td>\n",
       "      <td>-1.000000</td>\n",
       "      <td>0.222138</td>\n",
       "      <td>6.084132</td>\n",
       "      <td>-1.000000</td>\n",
       "      <td>81.319810</td>\n",
       "      <td>-1.000000</td>\n",
       "      <td>3.067205</td>\n",
       "      <td>1</td>\n",
       "      <td>-1.000000</td>\n",
       "      <td>-1.000000</td>\n",
       "      <td>-1.000000</td>\n",
       "      <td>-1.000000</td>\n",
       "      <td>-1.000000</td>\n",
       "      <td>-1.000000</td>\n",
       "      <td>24.942456</td>\n",
       "      <td>-1.000000</td>\n",
       "    </tr>\n",
       "  </tbody>\n",
       "</table>\n",
       "</div>"
      ],
      "text/plain": [
       "   hemoglobin    ferritin  ret_count  segmented_neutrophils        tibc  \\\n",
       "0    6.104489   -1.000000  -1.000000               0.920616  150.863286   \n",
       "1    7.781663  215.967826   1.643871               5.956930   -1.000000   \n",
       "2   10.306951   -1.000000  -1.000000               3.269642  361.637557   \n",
       "3    8.034653   -1.000000   5.322562               1.290493   -1.000000   \n",
       "4    8.314152   -1.000000   0.222138               6.084132   -1.000000   \n",
       "\n",
       "          mcv  serum_iron       rbc  gender  creatinine  cholestrol  \\\n",
       "0   77.936869   45.018443  2.349782       1    1.297655   34.961997   \n",
       "1   85.512847   -1.000000  2.729998       0    1.157021   87.155613   \n",
       "2  101.949912  213.802158  3.032946       0    1.983531    3.371683   \n",
       "3   89.288985   -1.000000  2.699544       0    1.135298   57.357480   \n",
       "4   81.319810   -1.000000  3.067205       1   -1.000000   -1.000000   \n",
       "\n",
       "       copper    ethanol     folate     glucose  hematocrit       tsat  \n",
       "0   60.378870   7.798268   6.015069  112.750517   18.313467  29.840555  \n",
       "1   -1.000000  -1.000000  -1.000000   -1.000000   23.344989  -1.000000  \n",
       "2  128.512264  14.157427  19.486851  133.035690   30.920853  59.120563  \n",
       "3   73.669678  -1.000000   1.485512   -1.000000   24.103959  -1.000000  \n",
       "4   -1.000000  -1.000000  -1.000000   -1.000000   24.942456  -1.000000  "
      ]
     },
     "execution_count": 71,
     "metadata": {},
     "output_type": "execute_result"
    }
   ],
   "source": [
    "train_df = pd.read_csv('../../final/data/train_set_0.05')\n",
    "train_df = train_df.fillna(-1)\n",
    "X_train = train_df.iloc[:, 0:-1]\n",
    "y_train = train_df.iloc[:, -1]\n",
    "X_train.head()"
   ]
  },
  {
   "cell_type": "code",
   "execution_count": 72,
   "id": "17d2fa2e",
   "metadata": {},
   "outputs": [
    {
     "data": {
      "text/html": [
       "<div>\n",
       "<style scoped>\n",
       "    .dataframe tbody tr th:only-of-type {\n",
       "        vertical-align: middle;\n",
       "    }\n",
       "\n",
       "    .dataframe tbody tr th {\n",
       "        vertical-align: top;\n",
       "    }\n",
       "\n",
       "    .dataframe thead th {\n",
       "        text-align: right;\n",
       "    }\n",
       "</style>\n",
       "<table border=\"1\" class=\"dataframe\">\n",
       "  <thead>\n",
       "    <tr style=\"text-align: right;\">\n",
       "      <th></th>\n",
       "      <th>hemoglobin</th>\n",
       "      <th>ferritin</th>\n",
       "      <th>ret_count</th>\n",
       "      <th>segmented_neutrophils</th>\n",
       "      <th>tibc</th>\n",
       "      <th>mcv</th>\n",
       "      <th>serum_iron</th>\n",
       "      <th>rbc</th>\n",
       "      <th>gender</th>\n",
       "      <th>creatinine</th>\n",
       "      <th>cholestrol</th>\n",
       "      <th>copper</th>\n",
       "      <th>ethanol</th>\n",
       "      <th>folate</th>\n",
       "      <th>glucose</th>\n",
       "      <th>hematocrit</th>\n",
       "      <th>tsat</th>\n",
       "    </tr>\n",
       "  </thead>\n",
       "  <tbody>\n",
       "    <tr>\n",
       "      <th>0</th>\n",
       "      <td>7.116363</td>\n",
       "      <td>-1.000000</td>\n",
       "      <td>3.781573</td>\n",
       "      <td>2.738413</td>\n",
       "      <td>-1.000000</td>\n",
       "      <td>95.904198</td>\n",
       "      <td>68.457895</td>\n",
       "      <td>2.226085</td>\n",
       "      <td>0</td>\n",
       "      <td>1.892912</td>\n",
       "      <td>39.808550</td>\n",
       "      <td>110.329197</td>\n",
       "      <td>64.404350</td>\n",
       "      <td>21.654404</td>\n",
       "      <td>73.787009</td>\n",
       "      <td>21.349089</td>\n",
       "      <td>-1.000000</td>\n",
       "    </tr>\n",
       "    <tr>\n",
       "      <th>1</th>\n",
       "      <td>8.125320</td>\n",
       "      <td>92.230003</td>\n",
       "      <td>4.231419</td>\n",
       "      <td>1.188039</td>\n",
       "      <td>143.365567</td>\n",
       "      <td>104.057204</td>\n",
       "      <td>204.747831</td>\n",
       "      <td>2.342554</td>\n",
       "      <td>0</td>\n",
       "      <td>0.652614</td>\n",
       "      <td>13.478089</td>\n",
       "      <td>-1.000000</td>\n",
       "      <td>32.705481</td>\n",
       "      <td>-1.000000</td>\n",
       "      <td>43.520272</td>\n",
       "      <td>24.375961</td>\n",
       "      <td>142.815207</td>\n",
       "    </tr>\n",
       "    <tr>\n",
       "      <th>2</th>\n",
       "      <td>11.309450</td>\n",
       "      <td>38.324563</td>\n",
       "      <td>-1.000000</td>\n",
       "      <td>-1.000000</td>\n",
       "      <td>455.077909</td>\n",
       "      <td>76.402602</td>\n",
       "      <td>-1.000000</td>\n",
       "      <td>4.440732</td>\n",
       "      <td>0</td>\n",
       "      <td>-1.000000</td>\n",
       "      <td>-1.000000</td>\n",
       "      <td>-1.000000</td>\n",
       "      <td>-1.000000</td>\n",
       "      <td>-1.000000</td>\n",
       "      <td>-1.000000</td>\n",
       "      <td>33.928350</td>\n",
       "      <td>-1.000000</td>\n",
       "    </tr>\n",
       "    <tr>\n",
       "      <th>3</th>\n",
       "      <td>13.763858</td>\n",
       "      <td>253.513394</td>\n",
       "      <td>2.262606</td>\n",
       "      <td>0.551444</td>\n",
       "      <td>453.772884</td>\n",
       "      <td>82.781943</td>\n",
       "      <td>90.101466</td>\n",
       "      <td>4.987993</td>\n",
       "      <td>0</td>\n",
       "      <td>0.853521</td>\n",
       "      <td>104.005514</td>\n",
       "      <td>34.639227</td>\n",
       "      <td>0.963866</td>\n",
       "      <td>22.083012</td>\n",
       "      <td>88.891838</td>\n",
       "      <td>41.291574</td>\n",
       "      <td>19.856071</td>\n",
       "    </tr>\n",
       "    <tr>\n",
       "      <th>4</th>\n",
       "      <td>11.464002</td>\n",
       "      <td>-1.000000</td>\n",
       "      <td>-1.000000</td>\n",
       "      <td>-1.000000</td>\n",
       "      <td>320.964653</td>\n",
       "      <td>104.287127</td>\n",
       "      <td>-1.000000</td>\n",
       "      <td>3.297819</td>\n",
       "      <td>0</td>\n",
       "      <td>1.163516</td>\n",
       "      <td>121.616315</td>\n",
       "      <td>105.895897</td>\n",
       "      <td>-1.000000</td>\n",
       "      <td>9.337462</td>\n",
       "      <td>-1.000000</td>\n",
       "      <td>34.392007</td>\n",
       "      <td>-1.000000</td>\n",
       "    </tr>\n",
       "  </tbody>\n",
       "</table>\n",
       "</div>"
      ],
      "text/plain": [
       "   hemoglobin    ferritin  ret_count  segmented_neutrophils        tibc  \\\n",
       "0    7.116363   -1.000000   3.781573               2.738413   -1.000000   \n",
       "1    8.125320   92.230003   4.231419               1.188039  143.365567   \n",
       "2   11.309450   38.324563  -1.000000              -1.000000  455.077909   \n",
       "3   13.763858  253.513394   2.262606               0.551444  453.772884   \n",
       "4   11.464002   -1.000000  -1.000000              -1.000000  320.964653   \n",
       "\n",
       "          mcv  serum_iron       rbc  gender  creatinine  cholestrol  \\\n",
       "0   95.904198   68.457895  2.226085       0    1.892912   39.808550   \n",
       "1  104.057204  204.747831  2.342554       0    0.652614   13.478089   \n",
       "2   76.402602   -1.000000  4.440732       0   -1.000000   -1.000000   \n",
       "3   82.781943   90.101466  4.987993       0    0.853521  104.005514   \n",
       "4  104.287127   -1.000000  3.297819       0    1.163516  121.616315   \n",
       "\n",
       "       copper    ethanol     folate    glucose  hematocrit        tsat  \n",
       "0  110.329197  64.404350  21.654404  73.787009   21.349089   -1.000000  \n",
       "1   -1.000000  32.705481  -1.000000  43.520272   24.375961  142.815207  \n",
       "2   -1.000000  -1.000000  -1.000000  -1.000000   33.928350   -1.000000  \n",
       "3   34.639227   0.963866  22.083012  88.891838   41.291574   19.856071  \n",
       "4  105.895897  -1.000000   9.337462  -1.000000   34.392007   -1.000000  "
      ]
     },
     "execution_count": 72,
     "metadata": {},
     "output_type": "execute_result"
    }
   ],
   "source": [
    "test_df = pd.read_csv('../../final/data/test_set_constant.csv')\n",
    "X_test = test_df.iloc[:, 0:-1]\n",
    "y_test = test_df.iloc[:, -1]\n",
    "X_test.head()"
   ]
  },
  {
   "cell_type": "markdown",
   "id": "50a92ab9",
   "metadata": {},
   "source": [
    "#### Some useful functions and variables"
   ]
  },
  {
   "cell_type": "code",
   "execution_count": 73,
   "id": "5f72246b",
   "metadata": {},
   "outputs": [
    {
     "data": {
      "text/plain": [
       "((2800, 17), (14000, 17), (2800,), (14000,))"
      ]
     },
     "execution_count": 73,
     "metadata": {},
     "output_type": "execute_result"
    }
   ],
   "source": [
    "X_train, y_train = np.array(X_train), np.array(y_train)\n",
    "X_test, y_test = np.array(X_test), np.array(y_test)\n",
    "X_train.shape, X_test.shape, y_train.shape, y_test.shape"
   ]
  },
  {
   "cell_type": "markdown",
   "id": "9b3629de",
   "metadata": {},
   "source": [
    "#### Decision Tree"
   ]
  },
  {
   "cell_type": "code",
   "execution_count": 74,
   "id": "dfffaf34",
   "metadata": {},
   "outputs": [
    {
     "data": {
      "text/plain": [
       "y_actual    0\n",
       "y_pred      0\n",
       "dtype: int64"
      ]
     },
     "execution_count": 74,
     "metadata": {},
     "output_type": "execute_result"
    }
   ],
   "source": [
    "from sklearn.tree import DecisionTreeClassifier\n",
    "dt = DecisionTreeClassifier(random_state=constants.SEED).fit(X_train, y_train)\n",
    "y_pred_dt = dt.predict(X_test)\n",
    "test_df_dt = pd.DataFrame()\n",
    "test_df_dt['y_actual'] = y_test\n",
    "test_df_dt['y_pred'] = y_pred_dt\n",
    "test_df_dt.isna().sum()"
   ]
  },
  {
   "cell_type": "code",
   "execution_count": 75,
   "id": "21a98f6c",
   "metadata": {},
   "outputs": [
    {
     "data": {
      "text/plain": [
       "99.28571428571429"
      ]
     },
     "execution_count": 75,
     "metadata": {},
     "output_type": "execute_result"
    }
   ],
   "source": [
    "success_rate_dt, success_df_dt = utils.success_rate(test_df_dt)\n",
    "success_rate_dt"
   ]
  },
  {
   "cell_type": "code",
   "execution_count": 76,
   "id": "b83eaa28",
   "metadata": {},
   "outputs": [
    {
     "data": {
      "text/plain": [
       "(0.9928571428571429, 0.9930482456157006, 0.9961870187060404)"
      ]
     },
     "execution_count": 76,
     "metadata": {},
     "output_type": "execute_result"
    }
   ],
   "source": [
    "acc_dt, f1_dt, roc_auc_dt = utils.test(test_df_dt['y_actual'], test_df_dt['y_pred'])\n",
    "acc_dt, f1_dt, roc_auc_dt"
   ]
  },
  {
   "cell_type": "markdown",
   "id": "4e13945a",
   "metadata": {},
   "source": [
    "#### Random Forest Classifier"
   ]
  },
  {
   "cell_type": "code",
   "execution_count": 77,
   "id": "38ad70d5",
   "metadata": {},
   "outputs": [
    {
     "data": {
      "text/plain": [
       "y_actual    0\n",
       "y_pred      0\n",
       "dtype: int64"
      ]
     },
     "execution_count": 77,
     "metadata": {},
     "output_type": "execute_result"
    }
   ],
   "source": [
    "from sklearn.ensemble import RandomForestClassifier\n",
    "rf = RandomForestClassifier(random_state=constants.SEED).fit(X_train, y_train)\n",
    "y_pred_rf = rf.predict(X_test)\n",
    "test_df_rf = pd.DataFrame()\n",
    "test_df_rf['y_actual'] = y_test\n",
    "test_df_rf['y_pred'] = y_pred_rf\n",
    "test_df_rf.isna().sum()"
   ]
  },
  {
   "cell_type": "code",
   "execution_count": 78,
   "id": "91c65a41",
   "metadata": {},
   "outputs": [
    {
     "data": {
      "text/plain": [
       "98.15"
      ]
     },
     "execution_count": 78,
     "metadata": {},
     "output_type": "execute_result"
    }
   ],
   "source": [
    "success_rate_rf, success_df_rf = utils.success_rate(test_df_rf)\n",
    "success_rate_rf"
   ]
  },
  {
   "cell_type": "code",
   "execution_count": 79,
   "id": "7d3f6f16",
   "metadata": {},
   "outputs": [
    {
     "data": {
      "text/plain": [
       "(0.9815, 0.9803949185610775, 0.9886211643054849)"
      ]
     },
     "execution_count": 79,
     "metadata": {},
     "output_type": "execute_result"
    }
   ],
   "source": [
    "acc_rf, f1_rf, roc_auc_rf = utils.test(test_df_rf['y_actual'], test_df_rf['y_pred'])\n",
    "acc_rf, f1_rf, roc_auc_rf"
   ]
  },
  {
   "cell_type": "markdown",
   "id": "ac884eb1",
   "metadata": {},
   "source": [
    "#### XGBoost"
   ]
  },
  {
   "cell_type": "code",
   "execution_count": 80,
   "id": "f79112ec",
   "metadata": {},
   "outputs": [],
   "source": [
    "# y_train_xgb = numerize_labels(y_train)\n",
    "# y_test_xgb = numerize_labels(y_test)"
   ]
  },
  {
   "cell_type": "code",
   "execution_count": 81,
   "id": "3f9c88ea",
   "metadata": {},
   "outputs": [
    {
     "data": {
      "text/plain": [
       "y_actual    0\n",
       "y_pred      0\n",
       "dtype: int64"
      ]
     },
     "execution_count": 81,
     "metadata": {},
     "output_type": "execute_result"
    }
   ],
   "source": [
    "import xgboost as xgb\n",
    "xg = xgb.XGBClassifier(random_state=constants.SEED).fit(X_train, y_train)\n",
    "y_pred_xg = xg.predict(X_test)\n",
    "test_df_xg = pd.DataFrame()\n",
    "test_df_xg['y_actual'] = y_test\n",
    "test_df_xg['y_pred'] = y_pred_xg\n",
    "test_df_xg.isna().sum()"
   ]
  },
  {
   "cell_type": "code",
   "execution_count": 82,
   "id": "05e4cff4",
   "metadata": {},
   "outputs": [
    {
     "data": {
      "text/plain": [
       "99.57142857142857"
      ]
     },
     "execution_count": 82,
     "metadata": {},
     "output_type": "execute_result"
    }
   ],
   "source": [
    "success_rate_xg, success_df_xg = utils.success_rate(test_df_xg)\n",
    "success_rate_xg"
   ]
  },
  {
   "cell_type": "code",
   "execution_count": 83,
   "id": "309e2b6b",
   "metadata": {},
   "outputs": [
    {
     "data": {
      "text/plain": [
       "(0.9957142857142857, 0.9955532372329976, 0.9976256709300482)"
      ]
     },
     "execution_count": 83,
     "metadata": {},
     "output_type": "execute_result"
    }
   ],
   "source": [
    "acc_xg, f1_xg, roc_auc_xg = utils.test(test_df_xg['y_actual'], test_df_xg['y_pred'])\n",
    "acc_xg, f1_xg, roc_auc_xg"
   ]
  },
  {
   "cell_type": "markdown",
   "id": "29704524",
   "metadata": {},
   "source": [
    "#### Testing Rf and data with random zeros"
   ]
  },
  {
   "cell_type": "code",
   "execution_count": 84,
   "id": "305ac7ca",
   "metadata": {},
   "outputs": [],
   "source": [
    "# #data with random zeros\n",
    "# X_train = np.loadtxt('data/zeros/X_train.txt', dtype=np.float32)\n",
    "# #X_val = np.loadtxt('data/zeros/X_val.txt', dtype=np.float32)\n",
    "# X_test = np.loadtxt('data/zeros/X_test.txt', dtype=np.float32)\n",
    "\n",
    "# y_train = np.loadtxt('data/zeros/y_train.txt', dtype=int)\n",
    "# #y_val = np.loadtxt('data/zeros/y_val.txt', dtype=int)\n",
    "# y_test = np.loadtxt('data/zeros/y_test.txt', dtype=int)"
   ]
  },
  {
   "cell_type": "code",
   "execution_count": 139,
   "id": "117f8494",
   "metadata": {},
   "outputs": [],
   "source": [
    "# from sklearn.ensemble import RandomForestClassifier\n",
    "# rf = RandomForestClassifier(random_state=42).fit(X_train, y_train)\n",
    "# acc, f1, cr, cm, roc_auc, roc_auc2, y_pred  = test(rf, X_test, y_test) \n",
    "# print(f'Accuracy - {acc}, F1 Score Macro: {f1}, ROC AUC Score: {roc_auc}, ROC AUC 2: {roc_auc2}')\n",
    "# print(f'Unique predicted classes: {np.unique(y_pred)}')"
   ]
  },
  {
   "cell_type": "code",
   "execution_count": null,
   "id": "be8ede3b",
   "metadata": {},
   "outputs": [],
   "source": []
  }
 ],
 "metadata": {
  "kernelspec": {
   "display_name": "Python 3 (ipykernel)",
   "language": "python",
   "name": "python3"
  },
  "language_info": {
   "codemirror_mode": {
    "name": "ipython",
    "version": 3
   },
   "file_extension": ".py",
   "mimetype": "text/x-python",
   "name": "python",
   "nbconvert_exporter": "python",
   "pygments_lexer": "ipython3",
   "version": "3.7.4"
  }
 },
 "nbformat": 4,
 "nbformat_minor": 5
}

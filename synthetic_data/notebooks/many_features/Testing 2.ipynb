{
 "cells": [
  {
   "cell_type": "code",
   "execution_count": 1,
   "metadata": {},
   "outputs": [
    {
     "name": "stderr",
     "output_type": "stream",
     "text": [
      "C:\\Users\\User\\Anaconda3\\lib\\site-packages\\statsmodels\\tools\\_testing.py:19: FutureWarning: pandas.util.testing is deprecated. Use the functions in the public API at pandas.testing instead.\n",
      "  import pandas.util.testing as tm\n"
     ]
    }
   ],
   "source": [
    "import pandas as pd\n",
    "import numpy as np\n",
    "import seaborn as sns\n",
    "from datetime import datetime\n",
    "import random\n",
    "import os\n",
    "import torch\n",
    "import sys\n",
    "sys.path.append('../..')\n",
    "from modules.many_features import utils, constants\n",
    "from sklearn.model_selection import train_test_split\n",
    "import matplotlib.pyplot as plt\n",
    "%matplotlib inline\n",
    "import warnings\n",
    "warnings.filterwarnings('ignore')"
   ]
  },
  {
   "cell_type": "code",
   "execution_count": 2,
   "metadata": {},
   "outputs": [],
   "source": [
    "SEED = 42\n",
    "random.seed(SEED)\n",
    "np.random.seed(SEED)\n",
    "os.environ['PYTHONHASHSEED']=str(SEED)\n",
    "torch.manual_seed(SEED)\n",
    "torch.use_deterministic_algorithms(True)"
   ]
  },
  {
   "cell_type": "markdown",
   "metadata": {},
   "source": [
    "#### The Data"
   ]
  },
  {
   "cell_type": "code",
   "execution_count": 3,
   "metadata": {},
   "outputs": [
    {
     "data": {
      "text/html": [
       "<div>\n",
       "<style scoped>\n",
       "    .dataframe tbody tr th:only-of-type {\n",
       "        vertical-align: middle;\n",
       "    }\n",
       "\n",
       "    .dataframe tbody tr th {\n",
       "        vertical-align: top;\n",
       "    }\n",
       "\n",
       "    .dataframe thead th {\n",
       "        text-align: right;\n",
       "    }\n",
       "</style>\n",
       "<table border=\"1\" class=\"dataframe\">\n",
       "  <thead>\n",
       "    <tr style=\"text-align: right;\">\n",
       "      <th></th>\n",
       "      <th>hemoglobin</th>\n",
       "      <th>ferritin</th>\n",
       "      <th>ret_count</th>\n",
       "      <th>segmented_neutrophils</th>\n",
       "      <th>tibc</th>\n",
       "      <th>mcv</th>\n",
       "      <th>serum_iron</th>\n",
       "      <th>rbc</th>\n",
       "      <th>gender</th>\n",
       "      <th>creatinine</th>\n",
       "      <th>cholestrol</th>\n",
       "      <th>copper</th>\n",
       "      <th>ethanol</th>\n",
       "      <th>folate</th>\n",
       "      <th>glucose</th>\n",
       "      <th>hematocrit</th>\n",
       "      <th>tsat</th>\n",
       "      <th>label</th>\n",
       "    </tr>\n",
       "  </thead>\n",
       "  <tbody>\n",
       "    <tr>\n",
       "      <th>0</th>\n",
       "      <td>12.322384</td>\n",
       "      <td>163.121429</td>\n",
       "      <td>4.121959</td>\n",
       "      <td>-1.00000</td>\n",
       "      <td>433.145097</td>\n",
       "      <td>100.147359</td>\n",
       "      <td>51.037057</td>\n",
       "      <td>3.691276</td>\n",
       "      <td>1</td>\n",
       "      <td>0.819482</td>\n",
       "      <td>147.693827</td>\n",
       "      <td>59.199141</td>\n",
       "      <td>41.958432</td>\n",
       "      <td>20.792161</td>\n",
       "      <td>101.383932</td>\n",
       "      <td>36.967153</td>\n",
       "      <td>11.782901</td>\n",
       "      <td>Unspecified anemia</td>\n",
       "    </tr>\n",
       "    <tr>\n",
       "      <th>1</th>\n",
       "      <td>8.298889</td>\n",
       "      <td>-1.000000</td>\n",
       "      <td>2.076950</td>\n",
       "      <td>-1.00000</td>\n",
       "      <td>483.617753</td>\n",
       "      <td>98.431076</td>\n",
       "      <td>-1.000000</td>\n",
       "      <td>2.529350</td>\n",
       "      <td>0</td>\n",
       "      <td>-1.000000</td>\n",
       "      <td>-1.000000</td>\n",
       "      <td>-1.000000</td>\n",
       "      <td>36.118322</td>\n",
       "      <td>-1.000000</td>\n",
       "      <td>-1.000000</td>\n",
       "      <td>24.896668</td>\n",
       "      <td>-1.000000</td>\n",
       "      <td>Hemolytic anemia</td>\n",
       "    </tr>\n",
       "    <tr>\n",
       "      <th>2</th>\n",
       "      <td>12.696391</td>\n",
       "      <td>3.393723</td>\n",
       "      <td>-1.000000</td>\n",
       "      <td>-1.00000</td>\n",
       "      <td>451.933132</td>\n",
       "      <td>79.486542</td>\n",
       "      <td>85.001345</td>\n",
       "      <td>4.791902</td>\n",
       "      <td>1</td>\n",
       "      <td>-1.000000</td>\n",
       "      <td>4.852168</td>\n",
       "      <td>89.831485</td>\n",
       "      <td>44.946238</td>\n",
       "      <td>0.965963</td>\n",
       "      <td>-1.000000</td>\n",
       "      <td>38.089174</td>\n",
       "      <td>18.808390</td>\n",
       "      <td>Iron deficiency anemia</td>\n",
       "    </tr>\n",
       "    <tr>\n",
       "      <th>3</th>\n",
       "      <td>12.705102</td>\n",
       "      <td>-1.000000</td>\n",
       "      <td>2.305379</td>\n",
       "      <td>-1.00000</td>\n",
       "      <td>-1.000000</td>\n",
       "      <td>81.057541</td>\n",
       "      <td>135.371313</td>\n",
       "      <td>4.702253</td>\n",
       "      <td>1</td>\n",
       "      <td>1.324140</td>\n",
       "      <td>32.717943</td>\n",
       "      <td>76.524319</td>\n",
       "      <td>-1.000000</td>\n",
       "      <td>27.439316</td>\n",
       "      <td>-1.000000</td>\n",
       "      <td>38.115305</td>\n",
       "      <td>-1.000000</td>\n",
       "      <td>Aplastic anemia</td>\n",
       "    </tr>\n",
       "    <tr>\n",
       "      <th>4</th>\n",
       "      <td>8.211543</td>\n",
       "      <td>29.622561</td>\n",
       "      <td>-1.000000</td>\n",
       "      <td>0.93619</td>\n",
       "      <td>479.914773</td>\n",
       "      <td>78.388480</td>\n",
       "      <td>-1.000000</td>\n",
       "      <td>3.142634</td>\n",
       "      <td>1</td>\n",
       "      <td>-1.000000</td>\n",
       "      <td>-1.000000</td>\n",
       "      <td>-1.000000</td>\n",
       "      <td>-1.000000</td>\n",
       "      <td>-1.000000</td>\n",
       "      <td>-1.000000</td>\n",
       "      <td>24.634629</td>\n",
       "      <td>-1.000000</td>\n",
       "      <td>Iron deficiency anemia</td>\n",
       "    </tr>\n",
       "  </tbody>\n",
       "</table>\n",
       "</div>"
      ],
      "text/plain": [
       "   hemoglobin    ferritin  ret_count  segmented_neutrophils        tibc  \\\n",
       "0   12.322384  163.121429   4.121959               -1.00000  433.145097   \n",
       "1    8.298889   -1.000000   2.076950               -1.00000  483.617753   \n",
       "2   12.696391    3.393723  -1.000000               -1.00000  451.933132   \n",
       "3   12.705102   -1.000000   2.305379               -1.00000   -1.000000   \n",
       "4    8.211543   29.622561  -1.000000                0.93619  479.914773   \n",
       "\n",
       "          mcv  serum_iron       rbc  gender  creatinine  cholestrol  \\\n",
       "0  100.147359   51.037057  3.691276       1    0.819482  147.693827   \n",
       "1   98.431076   -1.000000  2.529350       0   -1.000000   -1.000000   \n",
       "2   79.486542   85.001345  4.791902       1   -1.000000    4.852168   \n",
       "3   81.057541  135.371313  4.702253       1    1.324140   32.717943   \n",
       "4   78.388480   -1.000000  3.142634       1   -1.000000   -1.000000   \n",
       "\n",
       "      copper    ethanol     folate     glucose  hematocrit       tsat  \\\n",
       "0  59.199141  41.958432  20.792161  101.383932   36.967153  11.782901   \n",
       "1  -1.000000  36.118322  -1.000000   -1.000000   24.896668  -1.000000   \n",
       "2  89.831485  44.946238   0.965963   -1.000000   38.089174  18.808390   \n",
       "3  76.524319  -1.000000  27.439316   -1.000000   38.115305  -1.000000   \n",
       "4  -1.000000  -1.000000  -1.000000   -1.000000   24.634629  -1.000000   \n",
       "\n",
       "                    label  \n",
       "0      Unspecified anemia  \n",
       "1        Hemolytic anemia  \n",
       "2  Iron deficiency anemia  \n",
       "3         Aplastic anemia  \n",
       "4  Iron deficiency anemia  "
      ]
     },
     "execution_count": 3,
     "metadata": {},
     "output_type": "execute_result"
    }
   ],
   "source": [
    "#df = pd.read_csv('../../data/anemia_synth_dataset_some_nans_unspecified_more_feats.csv')\n",
    "#df = pd.read_csv('../../data/more_feats_0.2.csv')\n",
    "#df= pd.read_csv('../../data/more_features/more_feats_new_labels_0.1.csv')\n",
    "#df =pd.read_csv('../../data/more_features/more_feats_new_labels_0.1_noisy_0.6.csv')\n",
    "df = pd.read_csv('../../data/more_features/more_feats_correlated_noisy_6.csv')\n",
    "#df = utils.balance_dataset(df, 8000)\n",
    "df = df.fillna(-1)\n",
    "df.head()"
   ]
  },
  {
   "cell_type": "code",
   "execution_count": 4,
   "metadata": {},
   "outputs": [
    {
     "data": {
      "text/plain": [
       "hemoglobin               0\n",
       "ferritin                 0\n",
       "ret_count                0\n",
       "segmented_neutrophils    0\n",
       "tibc                     0\n",
       "mcv                      0\n",
       "serum_iron               0\n",
       "rbc                      0\n",
       "gender                   0\n",
       "creatinine               0\n",
       "cholestrol               0\n",
       "copper                   0\n",
       "ethanol                  0\n",
       "folate                   0\n",
       "glucose                  0\n",
       "hematocrit               0\n",
       "tsat                     0\n",
       "label                    0\n",
       "dtype: int64"
      ]
     },
     "execution_count": 4,
     "metadata": {},
     "output_type": "execute_result"
    }
   ],
   "source": [
    "df.isna().sum()"
   ]
  },
  {
   "cell_type": "code",
   "execution_count": 5,
   "metadata": {},
   "outputs": [
    {
     "data": {
      "text/plain": [
       "(0.6596428571428572,\n",
       " 0.6536656960257498,\n",
       " 0.8005238687826254,\n",
       " datetime.timedelta(microseconds=9010))"
      ]
     },
     "execution_count": 5,
     "metadata": {},
     "output_type": "execute_result"
    }
   ],
   "source": [
    "utils.get_dt_performance(df)"
   ]
  },
  {
   "cell_type": "code",
   "execution_count": 6,
   "metadata": {},
   "outputs": [
    {
     "data": {
      "text/plain": [
       "No anemia                               16000\n",
       "Anemia of chronic disease                8828\n",
       "Iron deficiency anemia                   8331\n",
       "Unspecified anemia                       8104\n",
       "Aplastic anemia                          8093\n",
       "Hemolytic anemia                         8089\n",
       "Vitamin B12/Folate deficiency anemia     8082\n",
       "Inconclusive diagnosis                   4473\n",
       "Name: label, dtype: int64"
      ]
     },
     "execution_count": 6,
     "metadata": {},
     "output_type": "execute_result"
    }
   ],
   "source": [
    "df.label.value_counts()"
   ]
  },
  {
   "cell_type": "code",
   "execution_count": 7,
   "metadata": {},
   "outputs": [
    {
     "data": {
      "text/plain": [
       "((56000, 17), (14000, 17), (56000,), (14000,))"
      ]
     },
     "execution_count": 7,
     "metadata": {},
     "output_type": "execute_result"
    }
   ],
   "source": [
    "class_dict = constants.CLASS_DICT\n",
    "df['label'] = df['label'].replace(class_dict)\n",
    "X = df.iloc[:, 0:-1]\n",
    "y = df.iloc[:, -1]\n",
    "X_train, X_test, y_train, y_test = train_test_split(X, y, test_size=0.2, stratify=y, random_state=SEED)\n",
    "X_train, y_train = np.array(X_train), np.array(y_train)\n",
    "X_test, y_test = np.array(X_test), np.array(y_test)\n",
    "X_train.shape, X_test.shape, y_train.shape, y_test.shape"
   ]
  },
  {
   "cell_type": "code",
   "execution_count": 8,
   "metadata": {},
   "outputs": [
    {
     "data": {
      "text/plain": [
       "['No anemia',\n",
       " 'Vitamin B12/Folate deficiency anemia',\n",
       " 'Unspecified anemia',\n",
       " 'Anemia of chronic disease',\n",
       " 'Iron deficiency anemia',\n",
       " 'Hemolytic anemia',\n",
       " 'Aplastic anemia',\n",
       " 'Inconclusive diagnosis',\n",
       " 'hemoglobin',\n",
       " 'ferritin',\n",
       " 'ret_count',\n",
       " 'segmented_neutrophils',\n",
       " 'tibc',\n",
       " 'mcv',\n",
       " 'serum_iron',\n",
       " 'rbc',\n",
       " 'gender',\n",
       " 'creatinine',\n",
       " 'cholestrol',\n",
       " 'copper',\n",
       " 'ethanol',\n",
       " 'folate',\n",
       " 'glucose',\n",
       " 'hematocrit',\n",
       " 'tsat']"
      ]
     },
     "execution_count": 8,
     "metadata": {},
     "output_type": "execute_result"
    }
   ],
   "source": [
    "action_list = list(class_dict.keys()) + [col  for col in df.columns if col!='label']\n",
    "action_list"
   ]
  },
  {
   "cell_type": "code",
   "execution_count": 9,
   "metadata": {},
   "outputs": [
    {
     "data": {
      "text/plain": [
       "25"
      ]
     },
     "execution_count": 9,
     "metadata": {},
     "output_type": "execute_result"
    }
   ],
   "source": [
    "len(action_list)"
   ]
  },
  {
   "cell_type": "code",
   "execution_count": 10,
   "metadata": {},
   "outputs": [
    {
     "data": {
      "text/html": [
       "<div>\n",
       "<style scoped>\n",
       "    .dataframe tbody tr th:only-of-type {\n",
       "        vertical-align: middle;\n",
       "    }\n",
       "\n",
       "    .dataframe tbody tr th {\n",
       "        vertical-align: top;\n",
       "    }\n",
       "\n",
       "    .dataframe thead th {\n",
       "        text-align: right;\n",
       "    }\n",
       "</style>\n",
       "<table border=\"1\" class=\"dataframe\">\n",
       "  <thead>\n",
       "    <tr style=\"text-align: right;\">\n",
       "      <th></th>\n",
       "      <th>hemoglobin</th>\n",
       "      <th>ferritin</th>\n",
       "      <th>ret_count</th>\n",
       "      <th>segmented_neutrophils</th>\n",
       "      <th>tibc</th>\n",
       "      <th>mcv</th>\n",
       "      <th>serum_iron</th>\n",
       "      <th>rbc</th>\n",
       "      <th>gender</th>\n",
       "      <th>creatinine</th>\n",
       "      <th>cholestrol</th>\n",
       "      <th>copper</th>\n",
       "      <th>ethanol</th>\n",
       "      <th>folate</th>\n",
       "      <th>glucose</th>\n",
       "      <th>hematocrit</th>\n",
       "      <th>tsat</th>\n",
       "      <th>label</th>\n",
       "    </tr>\n",
       "  </thead>\n",
       "  <tbody>\n",
       "    <tr>\n",
       "      <th>0</th>\n",
       "      <td>12.322384</td>\n",
       "      <td>163.121429</td>\n",
       "      <td>4.121959</td>\n",
       "      <td>-1.00000</td>\n",
       "      <td>433.145097</td>\n",
       "      <td>100.147359</td>\n",
       "      <td>51.037057</td>\n",
       "      <td>3.691276</td>\n",
       "      <td>1</td>\n",
       "      <td>0.819482</td>\n",
       "      <td>147.693827</td>\n",
       "      <td>59.199141</td>\n",
       "      <td>41.958432</td>\n",
       "      <td>20.792161</td>\n",
       "      <td>101.383932</td>\n",
       "      <td>36.967153</td>\n",
       "      <td>11.782901</td>\n",
       "      <td>2</td>\n",
       "    </tr>\n",
       "    <tr>\n",
       "      <th>1</th>\n",
       "      <td>8.298889</td>\n",
       "      <td>-1.000000</td>\n",
       "      <td>2.076950</td>\n",
       "      <td>-1.00000</td>\n",
       "      <td>483.617753</td>\n",
       "      <td>98.431076</td>\n",
       "      <td>-1.000000</td>\n",
       "      <td>2.529350</td>\n",
       "      <td>0</td>\n",
       "      <td>-1.000000</td>\n",
       "      <td>-1.000000</td>\n",
       "      <td>-1.000000</td>\n",
       "      <td>36.118322</td>\n",
       "      <td>-1.000000</td>\n",
       "      <td>-1.000000</td>\n",
       "      <td>24.896668</td>\n",
       "      <td>-1.000000</td>\n",
       "      <td>5</td>\n",
       "    </tr>\n",
       "    <tr>\n",
       "      <th>2</th>\n",
       "      <td>12.696391</td>\n",
       "      <td>3.393723</td>\n",
       "      <td>-1.000000</td>\n",
       "      <td>-1.00000</td>\n",
       "      <td>451.933132</td>\n",
       "      <td>79.486542</td>\n",
       "      <td>85.001345</td>\n",
       "      <td>4.791902</td>\n",
       "      <td>1</td>\n",
       "      <td>-1.000000</td>\n",
       "      <td>4.852168</td>\n",
       "      <td>89.831485</td>\n",
       "      <td>44.946238</td>\n",
       "      <td>0.965963</td>\n",
       "      <td>-1.000000</td>\n",
       "      <td>38.089174</td>\n",
       "      <td>18.808390</td>\n",
       "      <td>4</td>\n",
       "    </tr>\n",
       "    <tr>\n",
       "      <th>3</th>\n",
       "      <td>12.705102</td>\n",
       "      <td>-1.000000</td>\n",
       "      <td>2.305379</td>\n",
       "      <td>-1.00000</td>\n",
       "      <td>-1.000000</td>\n",
       "      <td>81.057541</td>\n",
       "      <td>135.371313</td>\n",
       "      <td>4.702253</td>\n",
       "      <td>1</td>\n",
       "      <td>1.324140</td>\n",
       "      <td>32.717943</td>\n",
       "      <td>76.524319</td>\n",
       "      <td>-1.000000</td>\n",
       "      <td>27.439316</td>\n",
       "      <td>-1.000000</td>\n",
       "      <td>38.115305</td>\n",
       "      <td>-1.000000</td>\n",
       "      <td>6</td>\n",
       "    </tr>\n",
       "    <tr>\n",
       "      <th>4</th>\n",
       "      <td>8.211543</td>\n",
       "      <td>29.622561</td>\n",
       "      <td>-1.000000</td>\n",
       "      <td>0.93619</td>\n",
       "      <td>479.914773</td>\n",
       "      <td>78.388480</td>\n",
       "      <td>-1.000000</td>\n",
       "      <td>3.142634</td>\n",
       "      <td>1</td>\n",
       "      <td>-1.000000</td>\n",
       "      <td>-1.000000</td>\n",
       "      <td>-1.000000</td>\n",
       "      <td>-1.000000</td>\n",
       "      <td>-1.000000</td>\n",
       "      <td>-1.000000</td>\n",
       "      <td>24.634629</td>\n",
       "      <td>-1.000000</td>\n",
       "      <td>4</td>\n",
       "    </tr>\n",
       "  </tbody>\n",
       "</table>\n",
       "</div>"
      ],
      "text/plain": [
       "   hemoglobin    ferritin  ret_count  segmented_neutrophils        tibc  \\\n",
       "0   12.322384  163.121429   4.121959               -1.00000  433.145097   \n",
       "1    8.298889   -1.000000   2.076950               -1.00000  483.617753   \n",
       "2   12.696391    3.393723  -1.000000               -1.00000  451.933132   \n",
       "3   12.705102   -1.000000   2.305379               -1.00000   -1.000000   \n",
       "4    8.211543   29.622561  -1.000000                0.93619  479.914773   \n",
       "\n",
       "          mcv  serum_iron       rbc  gender  creatinine  cholestrol  \\\n",
       "0  100.147359   51.037057  3.691276       1    0.819482  147.693827   \n",
       "1   98.431076   -1.000000  2.529350       0   -1.000000   -1.000000   \n",
       "2   79.486542   85.001345  4.791902       1   -1.000000    4.852168   \n",
       "3   81.057541  135.371313  4.702253       1    1.324140   32.717943   \n",
       "4   78.388480   -1.000000  3.142634       1   -1.000000   -1.000000   \n",
       "\n",
       "      copper    ethanol     folate     glucose  hematocrit       tsat  label  \n",
       "0  59.199141  41.958432  20.792161  101.383932   36.967153  11.782901      2  \n",
       "1  -1.000000  36.118322  -1.000000   -1.000000   24.896668  -1.000000      5  \n",
       "2  89.831485  44.946238   0.965963   -1.000000   38.089174  18.808390      4  \n",
       "3  76.524319  -1.000000  27.439316   -1.000000   38.115305  -1.000000      6  \n",
       "4  -1.000000  -1.000000  -1.000000   -1.000000   24.634629  -1.000000      4  "
      ]
     },
     "execution_count": 10,
     "metadata": {},
     "output_type": "execute_result"
    }
   ],
   "source": [
    "df.head()"
   ]
  },
  {
   "cell_type": "markdown",
   "metadata": {},
   "source": [
    "#### Testing"
   ]
  },
  {
   "cell_type": "code",
   "execution_count": 74,
   "metadata": {},
   "outputs": [
    {
     "name": "stdout",
     "output_type": "stream",
     "text": [
      "Using stable baselines 3\n",
      "Wrapping the env with a `Monitor` wrapper\n",
      "Wrapping the env in a DummyVecEnv.\n",
      "Count: 2800\n",
      "Count: 5600\n",
      "Count: 8400\n",
      "Count: 11200\n",
      "Count: 14000\n",
      "Testing done.....\n"
     ]
    },
    {
     "data": {
      "text/html": [
       "<div>\n",
       "<style scoped>\n",
       "    .dataframe tbody tr th:only-of-type {\n",
       "        vertical-align: middle;\n",
       "    }\n",
       "\n",
       "    .dataframe tbody tr th {\n",
       "        vertical-align: top;\n",
       "    }\n",
       "\n",
       "    .dataframe thead th {\n",
       "        text-align: right;\n",
       "    }\n",
       "</style>\n",
       "<table border=\"1\" class=\"dataframe\">\n",
       "  <thead>\n",
       "    <tr style=\"text-align: right;\">\n",
       "      <th></th>\n",
       "      <th>episode_length</th>\n",
       "      <th>index</th>\n",
       "      <th>is_success</th>\n",
       "      <th>reward</th>\n",
       "      <th>terminated</th>\n",
       "      <th>trajectory</th>\n",
       "      <th>y_actual</th>\n",
       "      <th>y_pred</th>\n",
       "    </tr>\n",
       "  </thead>\n",
       "  <tbody>\n",
       "    <tr>\n",
       "      <th>0</th>\n",
       "      <td>4.0</td>\n",
       "      <td>0.0</td>\n",
       "      <td>1.0</td>\n",
       "      <td>1.0</td>\n",
       "      <td>0.0</td>\n",
       "      <td>[hemoglobin, mcv, segmented_neutrophils, Vitam...</td>\n",
       "      <td>1.0</td>\n",
       "      <td>1.0</td>\n",
       "    </tr>\n",
       "    <tr>\n",
       "      <th>1</th>\n",
       "      <td>5.0</td>\n",
       "      <td>1.0</td>\n",
       "      <td>1.0</td>\n",
       "      <td>1.0</td>\n",
       "      <td>0.0</td>\n",
       "      <td>[hemoglobin, gender, mcv, hematocrit, Hemolyti...</td>\n",
       "      <td>5.0</td>\n",
       "      <td>5.0</td>\n",
       "    </tr>\n",
       "    <tr>\n",
       "      <th>2</th>\n",
       "      <td>5.0</td>\n",
       "      <td>2.0</td>\n",
       "      <td>1.0</td>\n",
       "      <td>1.0</td>\n",
       "      <td>0.0</td>\n",
       "      <td>[hemoglobin, gender, mcv, tibc, Anemia of chro...</td>\n",
       "      <td>3.0</td>\n",
       "      <td>3.0</td>\n",
       "    </tr>\n",
       "    <tr>\n",
       "      <th>3</th>\n",
       "      <td>4.0</td>\n",
       "      <td>3.0</td>\n",
       "      <td>0.0</td>\n",
       "      <td>-1.0</td>\n",
       "      <td>1.0</td>\n",
       "      <td>[hemoglobin, mcv, segmented_neutrophils, Incon...</td>\n",
       "      <td>2.0</td>\n",
       "      <td>7.0</td>\n",
       "    </tr>\n",
       "    <tr>\n",
       "      <th>4</th>\n",
       "      <td>4.0</td>\n",
       "      <td>4.0</td>\n",
       "      <td>0.0</td>\n",
       "      <td>-1.0</td>\n",
       "      <td>1.0</td>\n",
       "      <td>[hemoglobin, mcv, segmented_neutrophils, Incon...</td>\n",
       "      <td>0.0</td>\n",
       "      <td>7.0</td>\n",
       "    </tr>\n",
       "  </tbody>\n",
       "</table>\n",
       "</div>"
      ],
      "text/plain": [
       "   episode_length  index  is_success  reward  terminated  \\\n",
       "0             4.0    0.0         1.0     1.0         0.0   \n",
       "1             5.0    1.0         1.0     1.0         0.0   \n",
       "2             5.0    2.0         1.0     1.0         0.0   \n",
       "3             4.0    3.0         0.0    -1.0         1.0   \n",
       "4             4.0    4.0         0.0    -1.0         1.0   \n",
       "\n",
       "                                          trajectory  y_actual  y_pred  \n",
       "0  [hemoglobin, mcv, segmented_neutrophils, Vitam...       1.0     1.0  \n",
       "1  [hemoglobin, gender, mcv, hematocrit, Hemolyti...       5.0     5.0  \n",
       "2  [hemoglobin, gender, mcv, tibc, Anemia of chro...       3.0     3.0  \n",
       "3  [hemoglobin, mcv, segmented_neutrophils, Incon...       2.0     7.0  \n",
       "4  [hemoglobin, mcv, segmented_neutrophils, Incon...       0.0     7.0  "
      ]
     },
     "execution_count": 74,
     "metadata": {},
     "output_type": "execute_result"
    }
   ],
   "source": [
    "training_env = utils.create_env(X_train, y_train)\n",
    "dqn_model = utils.load_dqn3('../../models/many_features/0.1/with_correlated_fts/dqn3_by_type_noisy_6_21000000', training_env)\n",
    "test_df = utils.evaluate_dqn(dqn_model, X_test, y_test)\n",
    "test_df.head()"
   ]
  },
  {
   "cell_type": "code",
   "execution_count": 75,
   "metadata": {},
   "outputs": [
    {
     "data": {
      "text/plain": [
       "57.72142857142857"
      ]
     },
     "execution_count": 75,
     "metadata": {},
     "output_type": "execute_result"
    }
   ],
   "source": [
    "success_rate, success_df = utils.success_rate(test_df)\n",
    "success_rate"
   ]
  },
  {
   "cell_type": "code",
   "execution_count": 76,
   "metadata": {},
   "outputs": [
    {
     "data": {
      "text/plain": [
       "(4.863, 0.06557142857142857)"
      ]
     },
     "execution_count": 76,
     "metadata": {},
     "output_type": "execute_result"
    }
   ],
   "source": [
    "avg_length, avg_return = utils.get_avg_length_reward(test_df)\n",
    "avg_length, avg_return"
   ]
  },
  {
   "cell_type": "code",
   "execution_count": 77,
   "metadata": {},
   "outputs": [
    {
     "data": {
      "text/plain": [
       "(0.5772142857142857, 0.5705362138756946, 0.7581002746920356)"
      ]
     },
     "execution_count": 77,
     "metadata": {},
     "output_type": "execute_result"
    }
   ],
   "source": [
    "acc, f1, roc_auc = utils.test(test_df['y_actual'], test_df['y_pred'])\n",
    "acc, f1, roc_auc"
   ]
  },
  {
   "cell_type": "code",
   "execution_count": 78,
   "metadata": {},
   "outputs": [
    {
     "data": {
      "text/plain": [
       "array([1., 5., 3., 7., 2., 0., 6., 4.])"
      ]
     },
     "execution_count": 78,
     "metadata": {},
     "output_type": "execute_result"
    }
   ],
   "source": [
    "test_df.y_pred.unique()"
   ]
  },
  {
   "cell_type": "code",
   "execution_count": 43,
   "metadata": {},
   "outputs": [
    {
     "data": {
      "text/html": [
       "<div>\n",
       "<style scoped>\n",
       "    .dataframe tbody tr th:only-of-type {\n",
       "        vertical-align: middle;\n",
       "    }\n",
       "\n",
       "    .dataframe tbody tr th {\n",
       "        vertical-align: top;\n",
       "    }\n",
       "\n",
       "    .dataframe thead th {\n",
       "        text-align: right;\n",
       "    }\n",
       "</style>\n",
       "<table border=\"1\" class=\"dataframe\">\n",
       "  <thead>\n",
       "    <tr style=\"text-align: right;\">\n",
       "      <th></th>\n",
       "      <th>episode_length</th>\n",
       "      <th>index</th>\n",
       "      <th>is_success</th>\n",
       "      <th>reward</th>\n",
       "      <th>terminated</th>\n",
       "      <th>trajectory</th>\n",
       "      <th>y_actual</th>\n",
       "      <th>y_pred</th>\n",
       "    </tr>\n",
       "  </thead>\n",
       "  <tbody>\n",
       "    <tr>\n",
       "      <th>24</th>\n",
       "      <td>5.0</td>\n",
       "      <td>24.0</td>\n",
       "      <td>1.0</td>\n",
       "      <td>1.0</td>\n",
       "      <td>0.0</td>\n",
       "      <td>[hemoglobin, rbc, tibc, ferritin, Iron deficie...</td>\n",
       "      <td>4.0</td>\n",
       "      <td>4.0</td>\n",
       "    </tr>\n",
       "    <tr>\n",
       "      <th>26</th>\n",
       "      <td>5.0</td>\n",
       "      <td>26.0</td>\n",
       "      <td>1.0</td>\n",
       "      <td>1.0</td>\n",
       "      <td>0.0</td>\n",
       "      <td>[hemoglobin, rbc, tibc, ferritin, Iron deficie...</td>\n",
       "      <td>4.0</td>\n",
       "      <td>4.0</td>\n",
       "    </tr>\n",
       "    <tr>\n",
       "      <th>28</th>\n",
       "      <td>6.0</td>\n",
       "      <td>28.0</td>\n",
       "      <td>0.0</td>\n",
       "      <td>-1.0</td>\n",
       "      <td>0.0</td>\n",
       "      <td>[hemoglobin, gender, rbc, tibc, ferritin, Iron...</td>\n",
       "      <td>0.0</td>\n",
       "      <td>4.0</td>\n",
       "    </tr>\n",
       "    <tr>\n",
       "      <th>33</th>\n",
       "      <td>5.0</td>\n",
       "      <td>33.0</td>\n",
       "      <td>0.0</td>\n",
       "      <td>-1.0</td>\n",
       "      <td>0.0</td>\n",
       "      <td>[hemoglobin, rbc, tibc, ferritin, Iron deficie...</td>\n",
       "      <td>3.0</td>\n",
       "      <td>4.0</td>\n",
       "    </tr>\n",
       "    <tr>\n",
       "      <th>34</th>\n",
       "      <td>6.0</td>\n",
       "      <td>34.0</td>\n",
       "      <td>1.0</td>\n",
       "      <td>1.0</td>\n",
       "      <td>0.0</td>\n",
       "      <td>[hemoglobin, gender, rbc, tibc, ferritin, Iron...</td>\n",
       "      <td>4.0</td>\n",
       "      <td>4.0</td>\n",
       "    </tr>\n",
       "    <tr>\n",
       "      <th>...</th>\n",
       "      <td>...</td>\n",
       "      <td>...</td>\n",
       "      <td>...</td>\n",
       "      <td>...</td>\n",
       "      <td>...</td>\n",
       "      <td>...</td>\n",
       "      <td>...</td>\n",
       "      <td>...</td>\n",
       "    </tr>\n",
       "    <tr>\n",
       "      <th>13953</th>\n",
       "      <td>5.0</td>\n",
       "      <td>13953.0</td>\n",
       "      <td>1.0</td>\n",
       "      <td>1.0</td>\n",
       "      <td>0.0</td>\n",
       "      <td>[hemoglobin, rbc, tibc, ferritin, Iron deficie...</td>\n",
       "      <td>4.0</td>\n",
       "      <td>4.0</td>\n",
       "    </tr>\n",
       "    <tr>\n",
       "      <th>13972</th>\n",
       "      <td>5.0</td>\n",
       "      <td>13972.0</td>\n",
       "      <td>1.0</td>\n",
       "      <td>1.0</td>\n",
       "      <td>0.0</td>\n",
       "      <td>[hemoglobin, rbc, tibc, ferritin, Iron deficie...</td>\n",
       "      <td>4.0</td>\n",
       "      <td>4.0</td>\n",
       "    </tr>\n",
       "    <tr>\n",
       "      <th>13977</th>\n",
       "      <td>5.0</td>\n",
       "      <td>13977.0</td>\n",
       "      <td>1.0</td>\n",
       "      <td>1.0</td>\n",
       "      <td>0.0</td>\n",
       "      <td>[hemoglobin, rbc, tibc, ferritin, Iron deficie...</td>\n",
       "      <td>4.0</td>\n",
       "      <td>4.0</td>\n",
       "    </tr>\n",
       "    <tr>\n",
       "      <th>13979</th>\n",
       "      <td>5.0</td>\n",
       "      <td>13979.0</td>\n",
       "      <td>1.0</td>\n",
       "      <td>1.0</td>\n",
       "      <td>0.0</td>\n",
       "      <td>[hemoglobin, rbc, tibc, ferritin, Iron deficie...</td>\n",
       "      <td>4.0</td>\n",
       "      <td>4.0</td>\n",
       "    </tr>\n",
       "    <tr>\n",
       "      <th>13994</th>\n",
       "      <td>5.0</td>\n",
       "      <td>13994.0</td>\n",
       "      <td>1.0</td>\n",
       "      <td>1.0</td>\n",
       "      <td>0.0</td>\n",
       "      <td>[hemoglobin, rbc, tibc, ferritin, Iron deficie...</td>\n",
       "      <td>4.0</td>\n",
       "      <td>4.0</td>\n",
       "    </tr>\n",
       "  </tbody>\n",
       "</table>\n",
       "<p>1413 rows × 8 columns</p>\n",
       "</div>"
      ],
      "text/plain": [
       "       episode_length    index  is_success  reward  terminated  \\\n",
       "24                5.0     24.0         1.0     1.0         0.0   \n",
       "26                5.0     26.0         1.0     1.0         0.0   \n",
       "28                6.0     28.0         0.0    -1.0         0.0   \n",
       "33                5.0     33.0         0.0    -1.0         0.0   \n",
       "34                6.0     34.0         1.0     1.0         0.0   \n",
       "...               ...      ...         ...     ...         ...   \n",
       "13953             5.0  13953.0         1.0     1.0         0.0   \n",
       "13972             5.0  13972.0         1.0     1.0         0.0   \n",
       "13977             5.0  13977.0         1.0     1.0         0.0   \n",
       "13979             5.0  13979.0         1.0     1.0         0.0   \n",
       "13994             5.0  13994.0         1.0     1.0         0.0   \n",
       "\n",
       "                                              trajectory  y_actual  y_pred  \n",
       "24     [hemoglobin, rbc, tibc, ferritin, Iron deficie...       4.0     4.0  \n",
       "26     [hemoglobin, rbc, tibc, ferritin, Iron deficie...       4.0     4.0  \n",
       "28     [hemoglobin, gender, rbc, tibc, ferritin, Iron...       0.0     4.0  \n",
       "33     [hemoglobin, rbc, tibc, ferritin, Iron deficie...       3.0     4.0  \n",
       "34     [hemoglobin, gender, rbc, tibc, ferritin, Iron...       4.0     4.0  \n",
       "...                                                  ...       ...     ...  \n",
       "13953  [hemoglobin, rbc, tibc, ferritin, Iron deficie...       4.0     4.0  \n",
       "13972  [hemoglobin, rbc, tibc, ferritin, Iron deficie...       4.0     4.0  \n",
       "13977  [hemoglobin, rbc, tibc, ferritin, Iron deficie...       4.0     4.0  \n",
       "13979  [hemoglobin, rbc, tibc, ferritin, Iron deficie...       4.0     4.0  \n",
       "13994  [hemoglobin, rbc, tibc, ferritin, Iron deficie...       4.0     4.0  \n",
       "\n",
       "[1413 rows x 8 columns]"
      ]
     },
     "execution_count": 43,
     "metadata": {},
     "output_type": "execute_result"
    }
   ],
   "source": [
    "test_df[test_df.y_pred==4]"
   ]
  },
  {
   "cell_type": "markdown",
   "metadata": {},
   "source": [
    "#### Saving files"
   ]
  },
  {
   "cell_type": "code",
   "execution_count": null,
   "metadata": {},
   "outputs": [],
   "source": [
    "# test_df.to_csv(f'../../test_dfs/many_features/0.1/correlated/test_df3_9000000.csv', index=False)\n",
    "# success_df.to_csv(f'../../test_dfs/many_features/0.1/correlated/success_df3_9000000.csv', index=False)"
   ]
  },
  {
   "cell_type": "markdown",
   "metadata": {},
   "source": [
    "#### Confusion matrix and classification report"
   ]
  },
  {
   "cell_type": "code",
   "execution_count": null,
   "metadata": {},
   "outputs": [],
   "source": [
    "test_df = pd.read_csv('../../test_dfs/many_features/0.1/test_df3_6500000.csv')\n",
    "test_df.head()"
   ]
  },
  {
   "cell_type": "code",
   "execution_count": null,
   "metadata": {},
   "outputs": [],
   "source": [
    "utils.plot_classification_report(test_df['y_actual'], test_df['y_pred'])"
   ]
  },
  {
   "cell_type": "code",
   "execution_count": null,
   "metadata": {},
   "outputs": [],
   "source": [
    "# def plot_confusion_matrix(y_actual, y_pred, save=False, filename=False):\n",
    "#     from sklearn.metrics import confusion_matrix\n",
    "#     cm = confusion_matrix(y_actual, y_pred)\n",
    "#     cm_df = pd.DataFrame(cm, index = [0, 1, 2, 3, 4, 5, 6], columns = [0, 1, 2, 3, 4, 5, 6], dtype='object')\n",
    "#     #cm_df = pd.DataFrame(cm, index = constants.CLASS_DICT.keys(), columns = constants.CLASS_DICT.keys())\n",
    "#     plt.figure(figsize=(8, 6))\n",
    "#     sns.heatmap(cm_df, annot=True)\n",
    "#     plt.title('Confusion Matrix')\n",
    "#     plt.ylabel('Actual Anemia')\n",
    "#     plt.xlabel('Predicted Anemia')\n",
    "#     plt.tight_layout()\n",
    "#     if save:\n",
    "#         plt.savefig(filename)\n",
    "#     plt.show()\n",
    "#     plt.close()"
   ]
  },
  {
   "cell_type": "code",
   "execution_count": null,
   "metadata": {},
   "outputs": [],
   "source": [
    "utils.plot_confusion_matrix(test_df['y_actual'], test_df['y_pred'])"
   ]
  },
  {
   "cell_type": "code",
   "execution_count": null,
   "metadata": {},
   "outputs": [],
   "source": []
  }
 ],
 "metadata": {
  "kernelspec": {
   "display_name": "Python 3",
   "language": "python",
   "name": "python3"
  },
  "language_info": {
   "codemirror_mode": {
    "name": "ipython",
    "version": 3
   },
   "file_extension": ".py",
   "mimetype": "text/x-python",
   "name": "python",
   "nbconvert_exporter": "python",
   "pygments_lexer": "ipython3",
   "version": "3.7.4"
  }
 },
 "nbformat": 4,
 "nbformat_minor": 5
}

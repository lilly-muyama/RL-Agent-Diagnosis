{
 "cells": [
  {
   "cell_type": "code",
   "execution_count": 1,
   "metadata": {},
   "outputs": [
    {
     "name": "stderr",
     "output_type": "stream",
     "text": [
      "C:\\Users\\User\\Anaconda3\\lib\\site-packages\\statsmodels\\tools\\_testing.py:19: FutureWarning: pandas.util.testing is deprecated. Use the functions in the public API at pandas.testing instead.\n",
      "  import pandas.util.testing as tm\n"
     ]
    }
   ],
   "source": [
    "import pandas as pd\n",
    "import numpy as np\n",
    "import seaborn as sns\n",
    "from datetime import datetime\n",
    "import random\n",
    "import os\n",
    "import torch\n",
    "import sys\n",
    "sys.path.append('../..')\n",
    "from modules.many_features import utils, constants\n",
    "from sklearn.model_selection import train_test_split\n",
    "import matplotlib.pyplot as plt\n",
    "%matplotlib inline\n",
    "import warnings\n",
    "warnings.filterwarnings('ignore')"
   ]
  },
  {
   "cell_type": "code",
   "execution_count": 2,
   "metadata": {},
   "outputs": [],
   "source": [
    "SEED = 42\n",
    "random.seed(SEED)\n",
    "np.random.seed(SEED)\n",
    "os.environ['PYTHONHASHSEED']=str(SEED)\n",
    "torch.manual_seed(SEED)\n",
    "torch.use_deterministic_algorithms(True)"
   ]
  },
  {
   "cell_type": "markdown",
   "metadata": {},
   "source": [
    "#### The Data"
   ]
  },
  {
   "cell_type": "code",
   "execution_count": 3,
   "metadata": {},
   "outputs": [
    {
     "data": {
      "text/html": [
       "<div>\n",
       "<style scoped>\n",
       "    .dataframe tbody tr th:only-of-type {\n",
       "        vertical-align: middle;\n",
       "    }\n",
       "\n",
       "    .dataframe tbody tr th {\n",
       "        vertical-align: top;\n",
       "    }\n",
       "\n",
       "    .dataframe thead th {\n",
       "        text-align: right;\n",
       "    }\n",
       "</style>\n",
       "<table border=\"1\" class=\"dataframe\">\n",
       "  <thead>\n",
       "    <tr style=\"text-align: right;\">\n",
       "      <th></th>\n",
       "      <th>hemoglobin</th>\n",
       "      <th>ferritin</th>\n",
       "      <th>ret_count</th>\n",
       "      <th>segmented_neutrophils</th>\n",
       "      <th>tibc</th>\n",
       "      <th>mcv</th>\n",
       "      <th>serum_iron</th>\n",
       "      <th>rbc</th>\n",
       "      <th>gender</th>\n",
       "      <th>creatinine</th>\n",
       "      <th>cholestrol</th>\n",
       "      <th>copper</th>\n",
       "      <th>ethanol</th>\n",
       "      <th>folate</th>\n",
       "      <th>glucose</th>\n",
       "      <th>hematocrit</th>\n",
       "      <th>tsat</th>\n",
       "      <th>label</th>\n",
       "    </tr>\n",
       "  </thead>\n",
       "  <tbody>\n",
       "    <tr>\n",
       "      <th>0</th>\n",
       "      <td>11.317680</td>\n",
       "      <td>-1.000000</td>\n",
       "      <td>2.088832</td>\n",
       "      <td>-1.000000</td>\n",
       "      <td>-1.000000</td>\n",
       "      <td>90.986272</td>\n",
       "      <td>113.064122</td>\n",
       "      <td>3.731666</td>\n",
       "      <td>1</td>\n",
       "      <td>1.276701</td>\n",
       "      <td>81.145964</td>\n",
       "      <td>78.146183</td>\n",
       "      <td>29.513433</td>\n",
       "      <td>26.029977</td>\n",
       "      <td>105.808765</td>\n",
       "      <td>33.953040</td>\n",
       "      <td>-1.000000</td>\n",
       "      <td>Aplastic anemia</td>\n",
       "    </tr>\n",
       "    <tr>\n",
       "      <th>1</th>\n",
       "      <td>10.109186</td>\n",
       "      <td>-1.000000</td>\n",
       "      <td>-1.000000</td>\n",
       "      <td>-1.000000</td>\n",
       "      <td>-1.000000</td>\n",
       "      <td>104.941225</td>\n",
       "      <td>107.239455</td>\n",
       "      <td>2.889957</td>\n",
       "      <td>0</td>\n",
       "      <td>1.191488</td>\n",
       "      <td>86.444945</td>\n",
       "      <td>103.728730</td>\n",
       "      <td>32.453257</td>\n",
       "      <td>20.009164</td>\n",
       "      <td>90.105559</td>\n",
       "      <td>30.327558</td>\n",
       "      <td>-1.000000</td>\n",
       "      <td>Unspecified anemia</td>\n",
       "    </tr>\n",
       "    <tr>\n",
       "      <th>2</th>\n",
       "      <td>6.289434</td>\n",
       "      <td>-1.000000</td>\n",
       "      <td>4.156000</td>\n",
       "      <td>-1.000000</td>\n",
       "      <td>-1.000000</td>\n",
       "      <td>86.013564</td>\n",
       "      <td>-1.000000</td>\n",
       "      <td>2.193642</td>\n",
       "      <td>1</td>\n",
       "      <td>-1.000000</td>\n",
       "      <td>-1.000000</td>\n",
       "      <td>-1.000000</td>\n",
       "      <td>-1.000000</td>\n",
       "      <td>-1.000000</td>\n",
       "      <td>-1.000000</td>\n",
       "      <td>18.868301</td>\n",
       "      <td>-1.000000</td>\n",
       "      <td>Hemolytic anemia</td>\n",
       "    </tr>\n",
       "    <tr>\n",
       "      <th>3</th>\n",
       "      <td>7.077683</td>\n",
       "      <td>97.195746</td>\n",
       "      <td>0.261727</td>\n",
       "      <td>0.142422</td>\n",
       "      <td>263.478460</td>\n",
       "      <td>94.058079</td>\n",
       "      <td>102.335651</td>\n",
       "      <td>2.257440</td>\n",
       "      <td>1</td>\n",
       "      <td>-1.000000</td>\n",
       "      <td>114.702341</td>\n",
       "      <td>64.345736</td>\n",
       "      <td>20.102258</td>\n",
       "      <td>3.865156</td>\n",
       "      <td>-1.000000</td>\n",
       "      <td>21.233048</td>\n",
       "      <td>38.840234</td>\n",
       "      <td>No anemia</td>\n",
       "    </tr>\n",
       "    <tr>\n",
       "      <th>4</th>\n",
       "      <td>9.717874</td>\n",
       "      <td>101.889169</td>\n",
       "      <td>-1.000000</td>\n",
       "      <td>3.937127</td>\n",
       "      <td>475.993105</td>\n",
       "      <td>78.258930</td>\n",
       "      <td>-1.000000</td>\n",
       "      <td>3.725277</td>\n",
       "      <td>0</td>\n",
       "      <td>1.367858</td>\n",
       "      <td>-1.000000</td>\n",
       "      <td>-1.000000</td>\n",
       "      <td>38.308559</td>\n",
       "      <td>-1.000000</td>\n",
       "      <td>-1.000000</td>\n",
       "      <td>29.153622</td>\n",
       "      <td>-1.000000</td>\n",
       "      <td>No anemia</td>\n",
       "    </tr>\n",
       "  </tbody>\n",
       "</table>\n",
       "</div>"
      ],
      "text/plain": [
       "   hemoglobin    ferritin  ret_count  segmented_neutrophils        tibc  \\\n",
       "0   11.317680   -1.000000   2.088832              -1.000000   -1.000000   \n",
       "1   10.109186   -1.000000  -1.000000              -1.000000   -1.000000   \n",
       "2    6.289434   -1.000000   4.156000              -1.000000   -1.000000   \n",
       "3    7.077683   97.195746   0.261727               0.142422  263.478460   \n",
       "4    9.717874  101.889169  -1.000000               3.937127  475.993105   \n",
       "\n",
       "          mcv  serum_iron       rbc  gender  creatinine  cholestrol  \\\n",
       "0   90.986272  113.064122  3.731666       1    1.276701   81.145964   \n",
       "1  104.941225  107.239455  2.889957       0    1.191488   86.444945   \n",
       "2   86.013564   -1.000000  2.193642       1   -1.000000   -1.000000   \n",
       "3   94.058079  102.335651  2.257440       1   -1.000000  114.702341   \n",
       "4   78.258930   -1.000000  3.725277       0    1.367858   -1.000000   \n",
       "\n",
       "       copper    ethanol     folate     glucose  hematocrit       tsat  \\\n",
       "0   78.146183  29.513433  26.029977  105.808765   33.953040  -1.000000   \n",
       "1  103.728730  32.453257  20.009164   90.105559   30.327558  -1.000000   \n",
       "2   -1.000000  -1.000000  -1.000000   -1.000000   18.868301  -1.000000   \n",
       "3   64.345736  20.102258   3.865156   -1.000000   21.233048  38.840234   \n",
       "4   -1.000000  38.308559  -1.000000   -1.000000   29.153622  -1.000000   \n",
       "\n",
       "                label  \n",
       "0     Aplastic anemia  \n",
       "1  Unspecified anemia  \n",
       "2    Hemolytic anemia  \n",
       "3           No anemia  \n",
       "4           No anemia  "
      ]
     },
     "execution_count": 3,
     "metadata": {},
     "output_type": "execute_result"
    }
   ],
   "source": [
    "#df = pd.read_csv('../../data/anemia_synth_dataset_some_nans_unspecified_more_feats.csv')\n",
    "#df = pd.read_csv('../../data/more_feats_0.2.csv')\n",
    "#df= pd.read_csv('../../data/more_features/more_feats_new_labels_0.1.csv')\n",
    "#df =pd.read_csv('../../data/more_features/more_feats_new_labels_0.1_noisy_0.6.csv')\n",
    "df = pd.read_csv('../../data/more_features/more_feats_correlated_noisy_8.csv')\n",
    "#df = utils.balance_dataset(df, 8000)\n",
    "df = df.fillna(-1)\n",
    "df.head()"
   ]
  },
  {
   "cell_type": "code",
   "execution_count": 4,
   "metadata": {},
   "outputs": [
    {
     "data": {
      "text/plain": [
       "hemoglobin               0\n",
       "ferritin                 0\n",
       "ret_count                0\n",
       "segmented_neutrophils    0\n",
       "tibc                     0\n",
       "mcv                      0\n",
       "serum_iron               0\n",
       "rbc                      0\n",
       "gender                   0\n",
       "creatinine               0\n",
       "cholestrol               0\n",
       "copper                   0\n",
       "ethanol                  0\n",
       "folate                   0\n",
       "glucose                  0\n",
       "hematocrit               0\n",
       "tsat                     0\n",
       "label                    0\n",
       "dtype: int64"
      ]
     },
     "execution_count": 4,
     "metadata": {},
     "output_type": "execute_result"
    }
   ],
   "source": [
    "df.isna().sum()"
   ]
  },
  {
   "cell_type": "code",
   "execution_count": 5,
   "metadata": {},
   "outputs": [
    {
     "data": {
      "text/plain": [
       "(0.6207142857142857,\n",
       " 0.6122228660331646,\n",
       " 0.7775530397555184,\n",
       " datetime.timedelta(microseconds=6002))"
      ]
     },
     "execution_count": 5,
     "metadata": {},
     "output_type": "execute_result"
    }
   ],
   "source": [
    "utils.get_dt_performance(df)"
   ]
  },
  {
   "cell_type": "code",
   "execution_count": 6,
   "metadata": {},
   "outputs": [
    {
     "data": {
      "text/plain": [
       "No anemia                               16000\n",
       "Anemia of chronic disease                8801\n",
       "Iron deficiency anemia                   8362\n",
       "Unspecified anemia                       8134\n",
       "Aplastic anemia                          8097\n",
       "Vitamin B12/Folate deficiency anemia     8085\n",
       "Hemolytic anemia                         8068\n",
       "Inconclusive diagnosis                   4453\n",
       "Name: label, dtype: int64"
      ]
     },
     "execution_count": 6,
     "metadata": {},
     "output_type": "execute_result"
    }
   ],
   "source": [
    "df.label.value_counts()"
   ]
  },
  {
   "cell_type": "code",
   "execution_count": 7,
   "metadata": {},
   "outputs": [
    {
     "data": {
      "text/plain": [
       "((56000, 17), (14000, 17), (56000,), (14000,))"
      ]
     },
     "execution_count": 7,
     "metadata": {},
     "output_type": "execute_result"
    }
   ],
   "source": [
    "class_dict = constants.CLASS_DICT\n",
    "df['label'] = df['label'].replace(class_dict)\n",
    "X = df.iloc[:, 0:-1]\n",
    "y = df.iloc[:, -1]\n",
    "X_train, X_test, y_train, y_test = train_test_split(X, y, test_size=0.2, stratify=y, random_state=SEED)\n",
    "X_train, y_train = np.array(X_train), np.array(y_train)\n",
    "X_test, y_test = np.array(X_test), np.array(y_test)\n",
    "X_train.shape, X_test.shape, y_train.shape, y_test.shape"
   ]
  },
  {
   "cell_type": "code",
   "execution_count": 8,
   "metadata": {},
   "outputs": [
    {
     "data": {
      "text/plain": [
       "['No anemia',\n",
       " 'Vitamin B12/Folate deficiency anemia',\n",
       " 'Unspecified anemia',\n",
       " 'Anemia of chronic disease',\n",
       " 'Iron deficiency anemia',\n",
       " 'Hemolytic anemia',\n",
       " 'Aplastic anemia',\n",
       " 'Inconclusive diagnosis',\n",
       " 'hemoglobin',\n",
       " 'ferritin',\n",
       " 'ret_count',\n",
       " 'segmented_neutrophils',\n",
       " 'tibc',\n",
       " 'mcv',\n",
       " 'serum_iron',\n",
       " 'rbc',\n",
       " 'gender',\n",
       " 'creatinine',\n",
       " 'cholestrol',\n",
       " 'copper',\n",
       " 'ethanol',\n",
       " 'folate',\n",
       " 'glucose',\n",
       " 'hematocrit',\n",
       " 'tsat']"
      ]
     },
     "execution_count": 8,
     "metadata": {},
     "output_type": "execute_result"
    }
   ],
   "source": [
    "action_list = list(class_dict.keys()) + [col  for col in df.columns if col!='label']\n",
    "action_list"
   ]
  },
  {
   "cell_type": "code",
   "execution_count": 9,
   "metadata": {},
   "outputs": [
    {
     "data": {
      "text/plain": [
       "25"
      ]
     },
     "execution_count": 9,
     "metadata": {},
     "output_type": "execute_result"
    }
   ],
   "source": [
    "len(action_list)"
   ]
  },
  {
   "cell_type": "code",
   "execution_count": 10,
   "metadata": {},
   "outputs": [
    {
     "data": {
      "text/html": [
       "<div>\n",
       "<style scoped>\n",
       "    .dataframe tbody tr th:only-of-type {\n",
       "        vertical-align: middle;\n",
       "    }\n",
       "\n",
       "    .dataframe tbody tr th {\n",
       "        vertical-align: top;\n",
       "    }\n",
       "\n",
       "    .dataframe thead th {\n",
       "        text-align: right;\n",
       "    }\n",
       "</style>\n",
       "<table border=\"1\" class=\"dataframe\">\n",
       "  <thead>\n",
       "    <tr style=\"text-align: right;\">\n",
       "      <th></th>\n",
       "      <th>hemoglobin</th>\n",
       "      <th>ferritin</th>\n",
       "      <th>ret_count</th>\n",
       "      <th>segmented_neutrophils</th>\n",
       "      <th>tibc</th>\n",
       "      <th>mcv</th>\n",
       "      <th>serum_iron</th>\n",
       "      <th>rbc</th>\n",
       "      <th>gender</th>\n",
       "      <th>creatinine</th>\n",
       "      <th>cholestrol</th>\n",
       "      <th>copper</th>\n",
       "      <th>ethanol</th>\n",
       "      <th>folate</th>\n",
       "      <th>glucose</th>\n",
       "      <th>hematocrit</th>\n",
       "      <th>tsat</th>\n",
       "      <th>label</th>\n",
       "    </tr>\n",
       "  </thead>\n",
       "  <tbody>\n",
       "    <tr>\n",
       "      <th>0</th>\n",
       "      <td>11.317680</td>\n",
       "      <td>-1.000000</td>\n",
       "      <td>2.088832</td>\n",
       "      <td>-1.000000</td>\n",
       "      <td>-1.000000</td>\n",
       "      <td>90.986272</td>\n",
       "      <td>113.064122</td>\n",
       "      <td>3.731666</td>\n",
       "      <td>1</td>\n",
       "      <td>1.276701</td>\n",
       "      <td>81.145964</td>\n",
       "      <td>78.146183</td>\n",
       "      <td>29.513433</td>\n",
       "      <td>26.029977</td>\n",
       "      <td>105.808765</td>\n",
       "      <td>33.953040</td>\n",
       "      <td>-1.000000</td>\n",
       "      <td>6</td>\n",
       "    </tr>\n",
       "    <tr>\n",
       "      <th>1</th>\n",
       "      <td>10.109186</td>\n",
       "      <td>-1.000000</td>\n",
       "      <td>-1.000000</td>\n",
       "      <td>-1.000000</td>\n",
       "      <td>-1.000000</td>\n",
       "      <td>104.941225</td>\n",
       "      <td>107.239455</td>\n",
       "      <td>2.889957</td>\n",
       "      <td>0</td>\n",
       "      <td>1.191488</td>\n",
       "      <td>86.444945</td>\n",
       "      <td>103.728730</td>\n",
       "      <td>32.453257</td>\n",
       "      <td>20.009164</td>\n",
       "      <td>90.105559</td>\n",
       "      <td>30.327558</td>\n",
       "      <td>-1.000000</td>\n",
       "      <td>2</td>\n",
       "    </tr>\n",
       "    <tr>\n",
       "      <th>2</th>\n",
       "      <td>6.289434</td>\n",
       "      <td>-1.000000</td>\n",
       "      <td>4.156000</td>\n",
       "      <td>-1.000000</td>\n",
       "      <td>-1.000000</td>\n",
       "      <td>86.013564</td>\n",
       "      <td>-1.000000</td>\n",
       "      <td>2.193642</td>\n",
       "      <td>1</td>\n",
       "      <td>-1.000000</td>\n",
       "      <td>-1.000000</td>\n",
       "      <td>-1.000000</td>\n",
       "      <td>-1.000000</td>\n",
       "      <td>-1.000000</td>\n",
       "      <td>-1.000000</td>\n",
       "      <td>18.868301</td>\n",
       "      <td>-1.000000</td>\n",
       "      <td>5</td>\n",
       "    </tr>\n",
       "    <tr>\n",
       "      <th>3</th>\n",
       "      <td>7.077683</td>\n",
       "      <td>97.195746</td>\n",
       "      <td>0.261727</td>\n",
       "      <td>0.142422</td>\n",
       "      <td>263.478460</td>\n",
       "      <td>94.058079</td>\n",
       "      <td>102.335651</td>\n",
       "      <td>2.257440</td>\n",
       "      <td>1</td>\n",
       "      <td>-1.000000</td>\n",
       "      <td>114.702341</td>\n",
       "      <td>64.345736</td>\n",
       "      <td>20.102258</td>\n",
       "      <td>3.865156</td>\n",
       "      <td>-1.000000</td>\n",
       "      <td>21.233048</td>\n",
       "      <td>38.840234</td>\n",
       "      <td>0</td>\n",
       "    </tr>\n",
       "    <tr>\n",
       "      <th>4</th>\n",
       "      <td>9.717874</td>\n",
       "      <td>101.889169</td>\n",
       "      <td>-1.000000</td>\n",
       "      <td>3.937127</td>\n",
       "      <td>475.993105</td>\n",
       "      <td>78.258930</td>\n",
       "      <td>-1.000000</td>\n",
       "      <td>3.725277</td>\n",
       "      <td>0</td>\n",
       "      <td>1.367858</td>\n",
       "      <td>-1.000000</td>\n",
       "      <td>-1.000000</td>\n",
       "      <td>38.308559</td>\n",
       "      <td>-1.000000</td>\n",
       "      <td>-1.000000</td>\n",
       "      <td>29.153622</td>\n",
       "      <td>-1.000000</td>\n",
       "      <td>0</td>\n",
       "    </tr>\n",
       "  </tbody>\n",
       "</table>\n",
       "</div>"
      ],
      "text/plain": [
       "   hemoglobin    ferritin  ret_count  segmented_neutrophils        tibc  \\\n",
       "0   11.317680   -1.000000   2.088832              -1.000000   -1.000000   \n",
       "1   10.109186   -1.000000  -1.000000              -1.000000   -1.000000   \n",
       "2    6.289434   -1.000000   4.156000              -1.000000   -1.000000   \n",
       "3    7.077683   97.195746   0.261727               0.142422  263.478460   \n",
       "4    9.717874  101.889169  -1.000000               3.937127  475.993105   \n",
       "\n",
       "          mcv  serum_iron       rbc  gender  creatinine  cholestrol  \\\n",
       "0   90.986272  113.064122  3.731666       1    1.276701   81.145964   \n",
       "1  104.941225  107.239455  2.889957       0    1.191488   86.444945   \n",
       "2   86.013564   -1.000000  2.193642       1   -1.000000   -1.000000   \n",
       "3   94.058079  102.335651  2.257440       1   -1.000000  114.702341   \n",
       "4   78.258930   -1.000000  3.725277       0    1.367858   -1.000000   \n",
       "\n",
       "       copper    ethanol     folate     glucose  hematocrit       tsat  label  \n",
       "0   78.146183  29.513433  26.029977  105.808765   33.953040  -1.000000      6  \n",
       "1  103.728730  32.453257  20.009164   90.105559   30.327558  -1.000000      2  \n",
       "2   -1.000000  -1.000000  -1.000000   -1.000000   18.868301  -1.000000      5  \n",
       "3   64.345736  20.102258   3.865156   -1.000000   21.233048  38.840234      0  \n",
       "4   -1.000000  38.308559  -1.000000   -1.000000   29.153622  -1.000000      0  "
      ]
     },
     "execution_count": 10,
     "metadata": {},
     "output_type": "execute_result"
    }
   ],
   "source": [
    "df.head()"
   ]
  },
  {
   "cell_type": "markdown",
   "metadata": {},
   "source": [
    "#### Testing"
   ]
  },
  {
   "cell_type": "code",
   "execution_count": 11,
   "metadata": {},
   "outputs": [
    {
     "name": "stdout",
     "output_type": "stream",
     "text": [
      "Using stable baselines 3\n",
      "Wrapping the env with a `Monitor` wrapper\n",
      "Wrapping the env in a DummyVecEnv.\n",
      "Count: 2800\n",
      "Count: 5600\n",
      "Count: 8400\n",
      "Count: 11200\n",
      "Count: 14000\n",
      "Testing done.....\n"
     ]
    },
    {
     "data": {
      "text/html": [
       "<div>\n",
       "<style scoped>\n",
       "    .dataframe tbody tr th:only-of-type {\n",
       "        vertical-align: middle;\n",
       "    }\n",
       "\n",
       "    .dataframe tbody tr th {\n",
       "        vertical-align: top;\n",
       "    }\n",
       "\n",
       "    .dataframe thead th {\n",
       "        text-align: right;\n",
       "    }\n",
       "</style>\n",
       "<table border=\"1\" class=\"dataframe\">\n",
       "  <thead>\n",
       "    <tr style=\"text-align: right;\">\n",
       "      <th></th>\n",
       "      <th>episode_length</th>\n",
       "      <th>index</th>\n",
       "      <th>is_success</th>\n",
       "      <th>reward</th>\n",
       "      <th>terminated</th>\n",
       "      <th>trajectory</th>\n",
       "      <th>y_actual</th>\n",
       "      <th>y_pred</th>\n",
       "    </tr>\n",
       "  </thead>\n",
       "  <tbody>\n",
       "    <tr>\n",
       "      <th>0</th>\n",
       "      <td>4.0</td>\n",
       "      <td>0.0</td>\n",
       "      <td>1.0</td>\n",
       "      <td>1.0</td>\n",
       "      <td>0.0</td>\n",
       "      <td>[hemoglobin, mcv, tibc, Iron deficiency anemia]</td>\n",
       "      <td>4.0</td>\n",
       "      <td>4.0</td>\n",
       "    </tr>\n",
       "    <tr>\n",
       "      <th>1</th>\n",
       "      <td>4.0</td>\n",
       "      <td>1.0</td>\n",
       "      <td>1.0</td>\n",
       "      <td>1.0</td>\n",
       "      <td>0.0</td>\n",
       "      <td>[hemoglobin, mcv, tibc, Iron deficiency anemia]</td>\n",
       "      <td>4.0</td>\n",
       "      <td>4.0</td>\n",
       "    </tr>\n",
       "    <tr>\n",
       "      <th>2</th>\n",
       "      <td>5.0</td>\n",
       "      <td>2.0</td>\n",
       "      <td>1.0</td>\n",
       "      <td>1.0</td>\n",
       "      <td>0.0</td>\n",
       "      <td>[hemoglobin, gender, mcv, ret_count, Hemolytic...</td>\n",
       "      <td>5.0</td>\n",
       "      <td>5.0</td>\n",
       "    </tr>\n",
       "    <tr>\n",
       "      <th>3</th>\n",
       "      <td>4.0</td>\n",
       "      <td>3.0</td>\n",
       "      <td>1.0</td>\n",
       "      <td>-1.0</td>\n",
       "      <td>1.0</td>\n",
       "      <td>[hemoglobin, mcv, ret_count, Inconclusive diag...</td>\n",
       "      <td>7.0</td>\n",
       "      <td>7.0</td>\n",
       "    </tr>\n",
       "    <tr>\n",
       "      <th>4</th>\n",
       "      <td>4.0</td>\n",
       "      <td>4.0</td>\n",
       "      <td>0.0</td>\n",
       "      <td>-1.0</td>\n",
       "      <td>1.0</td>\n",
       "      <td>[hemoglobin, mcv, tibc, Inconclusive diagnosis]</td>\n",
       "      <td>5.0</td>\n",
       "      <td>7.0</td>\n",
       "    </tr>\n",
       "  </tbody>\n",
       "</table>\n",
       "</div>"
      ],
      "text/plain": [
       "   episode_length  index  is_success  reward  terminated  \\\n",
       "0             4.0    0.0         1.0     1.0         0.0   \n",
       "1             4.0    1.0         1.0     1.0         0.0   \n",
       "2             5.0    2.0         1.0     1.0         0.0   \n",
       "3             4.0    3.0         1.0    -1.0         1.0   \n",
       "4             4.0    4.0         0.0    -1.0         1.0   \n",
       "\n",
       "                                          trajectory  y_actual  y_pred  \n",
       "0    [hemoglobin, mcv, tibc, Iron deficiency anemia]       4.0     4.0  \n",
       "1    [hemoglobin, mcv, tibc, Iron deficiency anemia]       4.0     4.0  \n",
       "2  [hemoglobin, gender, mcv, ret_count, Hemolytic...       5.0     5.0  \n",
       "3  [hemoglobin, mcv, ret_count, Inconclusive diag...       7.0     7.0  \n",
       "4    [hemoglobin, mcv, tibc, Inconclusive diagnosis]       5.0     7.0  "
      ]
     },
     "execution_count": 11,
     "metadata": {},
     "output_type": "execute_result"
    }
   ],
   "source": [
    "training_env = utils.create_env(X_train, y_train)\n",
    "dqn_model = utils.load_dqn3('../../models/many_features/0.1/with_correlated_fts/dqn3_by_type_noisy_8_16000000', training_env)\n",
    "test_df = utils.evaluate_dqn(dqn_model, X_test, y_test)\n",
    "test_df.head()"
   ]
  },
  {
   "cell_type": "code",
   "execution_count": 12,
   "metadata": {},
   "outputs": [
    {
     "data": {
      "text/plain": [
       "58.278571428571425"
      ]
     },
     "execution_count": 12,
     "metadata": {},
     "output_type": "execute_result"
    }
   ],
   "source": [
    "success_rate, success_df = utils.success_rate(test_df)\n",
    "success_rate"
   ]
  },
  {
   "cell_type": "code",
   "execution_count": 13,
   "metadata": {},
   "outputs": [
    {
     "data": {
      "text/plain": [
       "(4.236857142857143, 0.04285714285714286)"
      ]
     },
     "execution_count": 13,
     "metadata": {},
     "output_type": "execute_result"
    }
   ],
   "source": [
    "avg_length, avg_return = utils.get_avg_length_reward(test_df)\n",
    "avg_length, avg_return"
   ]
  },
  {
   "cell_type": "code",
   "execution_count": 14,
   "metadata": {},
   "outputs": [
    {
     "data": {
      "text/plain": [
       "(0.5827857142857142, 0.5803843481414573, 0.7742865490594403)"
      ]
     },
     "execution_count": 14,
     "metadata": {},
     "output_type": "execute_result"
    }
   ],
   "source": [
    "acc, f1, roc_auc = utils.test(test_df['y_actual'], test_df['y_pred'])\n",
    "acc, f1, roc_auc"
   ]
  },
  {
   "cell_type": "code",
   "execution_count": 15,
   "metadata": {},
   "outputs": [
    {
     "data": {
      "text/plain": [
       "array([4., 5., 7., 3., 0., 6., 2., 1.])"
      ]
     },
     "execution_count": 15,
     "metadata": {},
     "output_type": "execute_result"
    }
   ],
   "source": [
    "test_df.y_pred.unique()"
   ]
  },
  {
   "cell_type": "code",
   "execution_count": 43,
   "metadata": {},
   "outputs": [
    {
     "data": {
      "text/html": [
       "<div>\n",
       "<style scoped>\n",
       "    .dataframe tbody tr th:only-of-type {\n",
       "        vertical-align: middle;\n",
       "    }\n",
       "\n",
       "    .dataframe tbody tr th {\n",
       "        vertical-align: top;\n",
       "    }\n",
       "\n",
       "    .dataframe thead th {\n",
       "        text-align: right;\n",
       "    }\n",
       "</style>\n",
       "<table border=\"1\" class=\"dataframe\">\n",
       "  <thead>\n",
       "    <tr style=\"text-align: right;\">\n",
       "      <th></th>\n",
       "      <th>episode_length</th>\n",
       "      <th>index</th>\n",
       "      <th>is_success</th>\n",
       "      <th>reward</th>\n",
       "      <th>terminated</th>\n",
       "      <th>trajectory</th>\n",
       "      <th>y_actual</th>\n",
       "      <th>y_pred</th>\n",
       "    </tr>\n",
       "  </thead>\n",
       "  <tbody>\n",
       "    <tr>\n",
       "      <th>24</th>\n",
       "      <td>5.0</td>\n",
       "      <td>24.0</td>\n",
       "      <td>1.0</td>\n",
       "      <td>1.0</td>\n",
       "      <td>0.0</td>\n",
       "      <td>[hemoglobin, rbc, tibc, ferritin, Iron deficie...</td>\n",
       "      <td>4.0</td>\n",
       "      <td>4.0</td>\n",
       "    </tr>\n",
       "    <tr>\n",
       "      <th>26</th>\n",
       "      <td>5.0</td>\n",
       "      <td>26.0</td>\n",
       "      <td>1.0</td>\n",
       "      <td>1.0</td>\n",
       "      <td>0.0</td>\n",
       "      <td>[hemoglobin, rbc, tibc, ferritin, Iron deficie...</td>\n",
       "      <td>4.0</td>\n",
       "      <td>4.0</td>\n",
       "    </tr>\n",
       "    <tr>\n",
       "      <th>28</th>\n",
       "      <td>6.0</td>\n",
       "      <td>28.0</td>\n",
       "      <td>0.0</td>\n",
       "      <td>-1.0</td>\n",
       "      <td>0.0</td>\n",
       "      <td>[hemoglobin, gender, rbc, tibc, ferritin, Iron...</td>\n",
       "      <td>0.0</td>\n",
       "      <td>4.0</td>\n",
       "    </tr>\n",
       "    <tr>\n",
       "      <th>33</th>\n",
       "      <td>5.0</td>\n",
       "      <td>33.0</td>\n",
       "      <td>0.0</td>\n",
       "      <td>-1.0</td>\n",
       "      <td>0.0</td>\n",
       "      <td>[hemoglobin, rbc, tibc, ferritin, Iron deficie...</td>\n",
       "      <td>3.0</td>\n",
       "      <td>4.0</td>\n",
       "    </tr>\n",
       "    <tr>\n",
       "      <th>34</th>\n",
       "      <td>6.0</td>\n",
       "      <td>34.0</td>\n",
       "      <td>1.0</td>\n",
       "      <td>1.0</td>\n",
       "      <td>0.0</td>\n",
       "      <td>[hemoglobin, gender, rbc, tibc, ferritin, Iron...</td>\n",
       "      <td>4.0</td>\n",
       "      <td>4.0</td>\n",
       "    </tr>\n",
       "    <tr>\n",
       "      <th>...</th>\n",
       "      <td>...</td>\n",
       "      <td>...</td>\n",
       "      <td>...</td>\n",
       "      <td>...</td>\n",
       "      <td>...</td>\n",
       "      <td>...</td>\n",
       "      <td>...</td>\n",
       "      <td>...</td>\n",
       "    </tr>\n",
       "    <tr>\n",
       "      <th>13953</th>\n",
       "      <td>5.0</td>\n",
       "      <td>13953.0</td>\n",
       "      <td>1.0</td>\n",
       "      <td>1.0</td>\n",
       "      <td>0.0</td>\n",
       "      <td>[hemoglobin, rbc, tibc, ferritin, Iron deficie...</td>\n",
       "      <td>4.0</td>\n",
       "      <td>4.0</td>\n",
       "    </tr>\n",
       "    <tr>\n",
       "      <th>13972</th>\n",
       "      <td>5.0</td>\n",
       "      <td>13972.0</td>\n",
       "      <td>1.0</td>\n",
       "      <td>1.0</td>\n",
       "      <td>0.0</td>\n",
       "      <td>[hemoglobin, rbc, tibc, ferritin, Iron deficie...</td>\n",
       "      <td>4.0</td>\n",
       "      <td>4.0</td>\n",
       "    </tr>\n",
       "    <tr>\n",
       "      <th>13977</th>\n",
       "      <td>5.0</td>\n",
       "      <td>13977.0</td>\n",
       "      <td>1.0</td>\n",
       "      <td>1.0</td>\n",
       "      <td>0.0</td>\n",
       "      <td>[hemoglobin, rbc, tibc, ferritin, Iron deficie...</td>\n",
       "      <td>4.0</td>\n",
       "      <td>4.0</td>\n",
       "    </tr>\n",
       "    <tr>\n",
       "      <th>13979</th>\n",
       "      <td>5.0</td>\n",
       "      <td>13979.0</td>\n",
       "      <td>1.0</td>\n",
       "      <td>1.0</td>\n",
       "      <td>0.0</td>\n",
       "      <td>[hemoglobin, rbc, tibc, ferritin, Iron deficie...</td>\n",
       "      <td>4.0</td>\n",
       "      <td>4.0</td>\n",
       "    </tr>\n",
       "    <tr>\n",
       "      <th>13994</th>\n",
       "      <td>5.0</td>\n",
       "      <td>13994.0</td>\n",
       "      <td>1.0</td>\n",
       "      <td>1.0</td>\n",
       "      <td>0.0</td>\n",
       "      <td>[hemoglobin, rbc, tibc, ferritin, Iron deficie...</td>\n",
       "      <td>4.0</td>\n",
       "      <td>4.0</td>\n",
       "    </tr>\n",
       "  </tbody>\n",
       "</table>\n",
       "<p>1413 rows × 8 columns</p>\n",
       "</div>"
      ],
      "text/plain": [
       "       episode_length    index  is_success  reward  terminated  \\\n",
       "24                5.0     24.0         1.0     1.0         0.0   \n",
       "26                5.0     26.0         1.0     1.0         0.0   \n",
       "28                6.0     28.0         0.0    -1.0         0.0   \n",
       "33                5.0     33.0         0.0    -1.0         0.0   \n",
       "34                6.0     34.0         1.0     1.0         0.0   \n",
       "...               ...      ...         ...     ...         ...   \n",
       "13953             5.0  13953.0         1.0     1.0         0.0   \n",
       "13972             5.0  13972.0         1.0     1.0         0.0   \n",
       "13977             5.0  13977.0         1.0     1.0         0.0   \n",
       "13979             5.0  13979.0         1.0     1.0         0.0   \n",
       "13994             5.0  13994.0         1.0     1.0         0.0   \n",
       "\n",
       "                                              trajectory  y_actual  y_pred  \n",
       "24     [hemoglobin, rbc, tibc, ferritin, Iron deficie...       4.0     4.0  \n",
       "26     [hemoglobin, rbc, tibc, ferritin, Iron deficie...       4.0     4.0  \n",
       "28     [hemoglobin, gender, rbc, tibc, ferritin, Iron...       0.0     4.0  \n",
       "33     [hemoglobin, rbc, tibc, ferritin, Iron deficie...       3.0     4.0  \n",
       "34     [hemoglobin, gender, rbc, tibc, ferritin, Iron...       4.0     4.0  \n",
       "...                                                  ...       ...     ...  \n",
       "13953  [hemoglobin, rbc, tibc, ferritin, Iron deficie...       4.0     4.0  \n",
       "13972  [hemoglobin, rbc, tibc, ferritin, Iron deficie...       4.0     4.0  \n",
       "13977  [hemoglobin, rbc, tibc, ferritin, Iron deficie...       4.0     4.0  \n",
       "13979  [hemoglobin, rbc, tibc, ferritin, Iron deficie...       4.0     4.0  \n",
       "13994  [hemoglobin, rbc, tibc, ferritin, Iron deficie...       4.0     4.0  \n",
       "\n",
       "[1413 rows x 8 columns]"
      ]
     },
     "execution_count": 43,
     "metadata": {},
     "output_type": "execute_result"
    }
   ],
   "source": [
    "test_df[test_df.y_pred==4]"
   ]
  },
  {
   "cell_type": "markdown",
   "metadata": {},
   "source": [
    "#### Saving files"
   ]
  },
  {
   "cell_type": "code",
   "execution_count": null,
   "metadata": {},
   "outputs": [],
   "source": [
    "# test_df.to_csv(f'../../test_dfs/many_features/0.1/correlated/test_df3_9000000.csv', index=False)\n",
    "# success_df.to_csv(f'../../test_dfs/many_features/0.1/correlated/success_df3_9000000.csv', index=False)"
   ]
  },
  {
   "cell_type": "markdown",
   "metadata": {},
   "source": [
    "#### Confusion matrix and classification report"
   ]
  },
  {
   "cell_type": "code",
   "execution_count": null,
   "metadata": {},
   "outputs": [],
   "source": [
    "test_df = pd.read_csv('../../test_dfs/many_features/0.1/test_df3_6500000.csv')\n",
    "test_df.head()"
   ]
  },
  {
   "cell_type": "code",
   "execution_count": null,
   "metadata": {},
   "outputs": [],
   "source": [
    "utils.plot_classification_report(test_df['y_actual'], test_df['y_pred'])"
   ]
  },
  {
   "cell_type": "code",
   "execution_count": null,
   "metadata": {},
   "outputs": [],
   "source": [
    "# def plot_confusion_matrix(y_actual, y_pred, save=False, filename=False):\n",
    "#     from sklearn.metrics import confusion_matrix\n",
    "#     cm = confusion_matrix(y_actual, y_pred)\n",
    "#     cm_df = pd.DataFrame(cm, index = [0, 1, 2, 3, 4, 5, 6], columns = [0, 1, 2, 3, 4, 5, 6], dtype='object')\n",
    "#     #cm_df = pd.DataFrame(cm, index = constants.CLASS_DICT.keys(), columns = constants.CLASS_DICT.keys())\n",
    "#     plt.figure(figsize=(8, 6))\n",
    "#     sns.heatmap(cm_df, annot=True)\n",
    "#     plt.title('Confusion Matrix')\n",
    "#     plt.ylabel('Actual Anemia')\n",
    "#     plt.xlabel('Predicted Anemia')\n",
    "#     plt.tight_layout()\n",
    "#     if save:\n",
    "#         plt.savefig(filename)\n",
    "#     plt.show()\n",
    "#     plt.close()"
   ]
  },
  {
   "cell_type": "code",
   "execution_count": null,
   "metadata": {},
   "outputs": [],
   "source": [
    "utils.plot_confusion_matrix(test_df['y_actual'], test_df['y_pred'])"
   ]
  },
  {
   "cell_type": "code",
   "execution_count": null,
   "metadata": {},
   "outputs": [],
   "source": []
  }
 ],
 "metadata": {
  "kernelspec": {
   "display_name": "Python 3",
   "language": "python",
   "name": "python3"
  },
  "language_info": {
   "codemirror_mode": {
    "name": "ipython",
    "version": 3
   },
   "file_extension": ".py",
   "mimetype": "text/x-python",
   "name": "python",
   "nbconvert_exporter": "python",
   "pygments_lexer": "ipython3",
   "version": "3.7.4"
  }
 },
 "nbformat": 4,
 "nbformat_minor": 5
}

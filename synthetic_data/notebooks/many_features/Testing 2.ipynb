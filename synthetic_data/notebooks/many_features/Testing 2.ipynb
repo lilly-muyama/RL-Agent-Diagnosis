{
 "cells": [
  {
   "cell_type": "code",
   "execution_count": 1,
   "metadata": {},
   "outputs": [
    {
     "name": "stderr",
     "output_type": "stream",
     "text": [
      "C:\\Users\\User\\Anaconda3\\lib\\site-packages\\statsmodels\\tools\\_testing.py:19: FutureWarning: pandas.util.testing is deprecated. Use the functions in the public API at pandas.testing instead.\n",
      "  import pandas.util.testing as tm\n"
     ]
    }
   ],
   "source": [
    "import pandas as pd\n",
    "import numpy as np\n",
    "import seaborn as sns\n",
    "from datetime import datetime\n",
    "import random\n",
    "import os\n",
    "import torch\n",
    "import sys\n",
    "sys.path.append('../..')\n",
    "from modules.many_features import utils, constants\n",
    "from sklearn.model_selection import train_test_split\n",
    "import matplotlib.pyplot as plt\n",
    "%matplotlib inline\n",
    "import warnings\n",
    "warnings.filterwarnings('ignore')"
   ]
  },
  {
   "cell_type": "code",
   "execution_count": 2,
   "metadata": {},
   "outputs": [],
   "source": [
    "SEED = 42\n",
    "random.seed(SEED)\n",
    "np.random.seed(SEED)\n",
    "os.environ['PYTHONHASHSEED']=str(SEED)\n",
    "torch.manual_seed(SEED)\n",
    "torch.use_deterministic_algorithms(True)"
   ]
  },
  {
   "cell_type": "markdown",
   "metadata": {},
   "source": [
    "#### The Data"
   ]
  },
  {
   "cell_type": "code",
   "execution_count": 3,
   "metadata": {},
   "outputs": [
    {
     "data": {
      "text/html": [
       "<div>\n",
       "<style scoped>\n",
       "    .dataframe tbody tr th:only-of-type {\n",
       "        vertical-align: middle;\n",
       "    }\n",
       "\n",
       "    .dataframe tbody tr th {\n",
       "        vertical-align: top;\n",
       "    }\n",
       "\n",
       "    .dataframe thead th {\n",
       "        text-align: right;\n",
       "    }\n",
       "</style>\n",
       "<table border=\"1\" class=\"dataframe\">\n",
       "  <thead>\n",
       "    <tr style=\"text-align: right;\">\n",
       "      <th></th>\n",
       "      <th>hemoglobin</th>\n",
       "      <th>ferritin</th>\n",
       "      <th>ret_count</th>\n",
       "      <th>segmented_neutrophils</th>\n",
       "      <th>tibc</th>\n",
       "      <th>mcv</th>\n",
       "      <th>serum_iron</th>\n",
       "      <th>rbc</th>\n",
       "      <th>gender</th>\n",
       "      <th>creatinine</th>\n",
       "      <th>cholestrol</th>\n",
       "      <th>copper</th>\n",
       "      <th>ethanol</th>\n",
       "      <th>folate</th>\n",
       "      <th>glucose</th>\n",
       "      <th>hematocrit</th>\n",
       "      <th>tsat</th>\n",
       "      <th>label</th>\n",
       "    </tr>\n",
       "  </thead>\n",
       "  <tbody>\n",
       "    <tr>\n",
       "      <th>0</th>\n",
       "      <td>11.183192</td>\n",
       "      <td>187.573466</td>\n",
       "      <td>4.951674</td>\n",
       "      <td>1.661383</td>\n",
       "      <td>316.593436</td>\n",
       "      <td>95.006424</td>\n",
       "      <td>-1.000000</td>\n",
       "      <td>3.531295</td>\n",
       "      <td>1</td>\n",
       "      <td>-1.000000</td>\n",
       "      <td>28.040619</td>\n",
       "      <td>96.721542</td>\n",
       "      <td>49.530542</td>\n",
       "      <td>23.186628</td>\n",
       "      <td>-1.0</td>\n",
       "      <td>-1.000000</td>\n",
       "      <td>57.247868</td>\n",
       "      <td>Hemolytic anemia</td>\n",
       "    </tr>\n",
       "    <tr>\n",
       "      <th>1</th>\n",
       "      <td>14.387445</td>\n",
       "      <td>-1.000000</td>\n",
       "      <td>-1.000000</td>\n",
       "      <td>-1.000000</td>\n",
       "      <td>-1.000000</td>\n",
       "      <td>-1.000000</td>\n",
       "      <td>125.249617</td>\n",
       "      <td>-1.000000</td>\n",
       "      <td>1</td>\n",
       "      <td>-1.000000</td>\n",
       "      <td>98.357508</td>\n",
       "      <td>112.758764</td>\n",
       "      <td>62.464566</td>\n",
       "      <td>7.168920</td>\n",
       "      <td>-1.0</td>\n",
       "      <td>43.162335</td>\n",
       "      <td>-1.000000</td>\n",
       "      <td>No anemia</td>\n",
       "    </tr>\n",
       "    <tr>\n",
       "      <th>2</th>\n",
       "      <td>12.749357</td>\n",
       "      <td>-1.000000</td>\n",
       "      <td>3.502800</td>\n",
       "      <td>6.179371</td>\n",
       "      <td>498.418768</td>\n",
       "      <td>76.759285</td>\n",
       "      <td>159.834784</td>\n",
       "      <td>4.982859</td>\n",
       "      <td>1</td>\n",
       "      <td>1.022939</td>\n",
       "      <td>56.850479</td>\n",
       "      <td>75.739552</td>\n",
       "      <td>72.072041</td>\n",
       "      <td>20.600875</td>\n",
       "      <td>-1.0</td>\n",
       "      <td>38.248071</td>\n",
       "      <td>32.068372</td>\n",
       "      <td>Iron deficiency anemia</td>\n",
       "    </tr>\n",
       "    <tr>\n",
       "      <th>3</th>\n",
       "      <td>11.508870</td>\n",
       "      <td>197.180945</td>\n",
       "      <td>1.200125</td>\n",
       "      <td>0.000000</td>\n",
       "      <td>457.033309</td>\n",
       "      <td>102.900301</td>\n",
       "      <td>131.177927</td>\n",
       "      <td>3.355346</td>\n",
       "      <td>1</td>\n",
       "      <td>-1.000000</td>\n",
       "      <td>111.220307</td>\n",
       "      <td>66.999185</td>\n",
       "      <td>18.353272</td>\n",
       "      <td>-1.000000</td>\n",
       "      <td>-1.0</td>\n",
       "      <td>34.526609</td>\n",
       "      <td>28.702050</td>\n",
       "      <td>Unspecified anemia</td>\n",
       "    </tr>\n",
       "    <tr>\n",
       "      <th>4</th>\n",
       "      <td>9.456656</td>\n",
       "      <td>427.952052</td>\n",
       "      <td>-1.000000</td>\n",
       "      <td>0.660252</td>\n",
       "      <td>-1.000000</td>\n",
       "      <td>104.543774</td>\n",
       "      <td>-1.000000</td>\n",
       "      <td>2.713693</td>\n",
       "      <td>0</td>\n",
       "      <td>-1.000000</td>\n",
       "      <td>-1.000000</td>\n",
       "      <td>-1.000000</td>\n",
       "      <td>-1.000000</td>\n",
       "      <td>-1.000000</td>\n",
       "      <td>-1.0</td>\n",
       "      <td>28.369968</td>\n",
       "      <td>-1.000000</td>\n",
       "      <td>Vitamin B12/Folate deficiency anemia</td>\n",
       "    </tr>\n",
       "  </tbody>\n",
       "</table>\n",
       "</div>"
      ],
      "text/plain": [
       "   hemoglobin    ferritin  ret_count  segmented_neutrophils        tibc  \\\n",
       "0   11.183192  187.573466   4.951674               1.661383  316.593436   \n",
       "1   14.387445   -1.000000  -1.000000              -1.000000   -1.000000   \n",
       "2   12.749357   -1.000000   3.502800               6.179371  498.418768   \n",
       "3   11.508870  197.180945   1.200125               0.000000  457.033309   \n",
       "4    9.456656  427.952052  -1.000000               0.660252   -1.000000   \n",
       "\n",
       "          mcv  serum_iron       rbc  gender  creatinine  cholestrol  \\\n",
       "0   95.006424   -1.000000  3.531295       1   -1.000000   28.040619   \n",
       "1   -1.000000  125.249617 -1.000000       1   -1.000000   98.357508   \n",
       "2   76.759285  159.834784  4.982859       1    1.022939   56.850479   \n",
       "3  102.900301  131.177927  3.355346       1   -1.000000  111.220307   \n",
       "4  104.543774   -1.000000  2.713693       0   -1.000000   -1.000000   \n",
       "\n",
       "       copper    ethanol     folate  glucose  hematocrit       tsat  \\\n",
       "0   96.721542  49.530542  23.186628     -1.0   -1.000000  57.247868   \n",
       "1  112.758764  62.464566   7.168920     -1.0   43.162335  -1.000000   \n",
       "2   75.739552  72.072041  20.600875     -1.0   38.248071  32.068372   \n",
       "3   66.999185  18.353272  -1.000000     -1.0   34.526609  28.702050   \n",
       "4   -1.000000  -1.000000  -1.000000     -1.0   28.369968  -1.000000   \n",
       "\n",
       "                                  label  \n",
       "0                      Hemolytic anemia  \n",
       "1                             No anemia  \n",
       "2                Iron deficiency anemia  \n",
       "3                    Unspecified anemia  \n",
       "4  Vitamin B12/Folate deficiency anemia  "
      ]
     },
     "execution_count": 3,
     "metadata": {},
     "output_type": "execute_result"
    }
   ],
   "source": [
    "#df = pd.read_csv('../../data/anemia_synth_dataset_some_nans_unspecified_more_feats.csv')\n",
    "#df = pd.read_csv('../../data/more_feats_0.2.csv')\n",
    "#df= pd.read_csv('../../data/more_features/more_feats_new_labels_0.1.csv')\n",
    "#df =pd.read_csv('../../data/more_features/more_feats_new_labels_0.1_noisy_0.6.csv')\n",
    "df = pd.read_csv('../../data/more_features//more_feats_correlated_missing_2.csv')\n",
    "#df = utils.balance_dataset(df, 8000)\n",
    "df = df.fillna(-1)\n",
    "df.head()"
   ]
  },
  {
   "cell_type": "code",
   "execution_count": 4,
   "metadata": {},
   "outputs": [
    {
     "data": {
      "text/plain": [
       "hemoglobin               0\n",
       "ferritin                 0\n",
       "ret_count                0\n",
       "segmented_neutrophils    0\n",
       "tibc                     0\n",
       "mcv                      0\n",
       "serum_iron               0\n",
       "rbc                      0\n",
       "gender                   0\n",
       "creatinine               0\n",
       "cholestrol               0\n",
       "copper                   0\n",
       "ethanol                  0\n",
       "folate                   0\n",
       "glucose                  0\n",
       "hematocrit               0\n",
       "tsat                     0\n",
       "label                    0\n",
       "dtype: int64"
      ]
     },
     "execution_count": 4,
     "metadata": {},
     "output_type": "execute_result"
    }
   ],
   "source": [
    "df.isna().sum()"
   ]
  },
  {
   "cell_type": "code",
   "execution_count": 5,
   "metadata": {},
   "outputs": [
    {
     "data": {
      "text/plain": [
       "(0.8411428571428572,\n",
       " 0.8121419872418816,\n",
       " 0.8947143145116141,\n",
       " datetime.timedelta(microseconds=5349))"
      ]
     },
     "execution_count": 5,
     "metadata": {},
     "output_type": "execute_result"
    }
   ],
   "source": [
    "utils.get_dt_performance(df)"
   ]
  },
  {
   "cell_type": "code",
   "execution_count": 6,
   "metadata": {},
   "outputs": [
    {
     "data": {
      "text/plain": [
       "No anemia                               10000\n",
       "Anemia of chronic disease                9756\n",
       "Iron deficiency anemia                   9267\n",
       "Unspecified anemia                       9033\n",
       "Aplastic anemia                          9020\n",
       "Vitamin B12/Folate deficiency anemia     9000\n",
       "Hemolytic anemia                         8976\n",
       "Inconclusive diagnosis                   4948\n",
       "Name: label, dtype: int64"
      ]
     },
     "execution_count": 6,
     "metadata": {},
     "output_type": "execute_result"
    }
   ],
   "source": [
    "df.label.value_counts()"
   ]
  },
  {
   "cell_type": "code",
   "execution_count": 7,
   "metadata": {},
   "outputs": [
    {
     "data": {
      "text/plain": [
       "((56000, 17), (14000, 17), (56000,), (14000,))"
      ]
     },
     "execution_count": 7,
     "metadata": {},
     "output_type": "execute_result"
    }
   ],
   "source": [
    "class_dict = constants.CLASS_DICT\n",
    "df['label'] = df['label'].replace(class_dict)\n",
    "X = df.iloc[:, 0:-1]\n",
    "y = df.iloc[:, -1]\n",
    "X_train, X_test, y_train, y_test = train_test_split(X, y, test_size=0.2, stratify=y, random_state=SEED)\n",
    "X_train, y_train = np.array(X_train), np.array(y_train)\n",
    "X_test, y_test = np.array(X_test), np.array(y_test)\n",
    "X_train.shape, X_test.shape, y_train.shape, y_test.shape"
   ]
  },
  {
   "cell_type": "code",
   "execution_count": 8,
   "metadata": {},
   "outputs": [
    {
     "data": {
      "text/plain": [
       "['No anemia',\n",
       " 'Vitamin B12/Folate deficiency anemia',\n",
       " 'Unspecified anemia',\n",
       " 'Anemia of chronic disease',\n",
       " 'Iron deficiency anemia',\n",
       " 'Hemolytic anemia',\n",
       " 'Aplastic anemia',\n",
       " 'Inconclusive diagnosis',\n",
       " 'hemoglobin',\n",
       " 'ferritin',\n",
       " 'ret_count',\n",
       " 'segmented_neutrophils',\n",
       " 'tibc',\n",
       " 'mcv',\n",
       " 'serum_iron',\n",
       " 'rbc',\n",
       " 'gender',\n",
       " 'creatinine',\n",
       " 'cholestrol',\n",
       " 'copper',\n",
       " 'ethanol',\n",
       " 'folate',\n",
       " 'glucose',\n",
       " 'hematocrit',\n",
       " 'tsat']"
      ]
     },
     "execution_count": 8,
     "metadata": {},
     "output_type": "execute_result"
    }
   ],
   "source": [
    "action_list = list(class_dict.keys()) + [col  for col in df.columns if col!='label']\n",
    "action_list"
   ]
  },
  {
   "cell_type": "code",
   "execution_count": 9,
   "metadata": {},
   "outputs": [
    {
     "data": {
      "text/plain": [
       "25"
      ]
     },
     "execution_count": 9,
     "metadata": {},
     "output_type": "execute_result"
    }
   ],
   "source": [
    "len(action_list)"
   ]
  },
  {
   "cell_type": "code",
   "execution_count": 10,
   "metadata": {},
   "outputs": [
    {
     "data": {
      "text/html": [
       "<div>\n",
       "<style scoped>\n",
       "    .dataframe tbody tr th:only-of-type {\n",
       "        vertical-align: middle;\n",
       "    }\n",
       "\n",
       "    .dataframe tbody tr th {\n",
       "        vertical-align: top;\n",
       "    }\n",
       "\n",
       "    .dataframe thead th {\n",
       "        text-align: right;\n",
       "    }\n",
       "</style>\n",
       "<table border=\"1\" class=\"dataframe\">\n",
       "  <thead>\n",
       "    <tr style=\"text-align: right;\">\n",
       "      <th></th>\n",
       "      <th>hemoglobin</th>\n",
       "      <th>ferritin</th>\n",
       "      <th>ret_count</th>\n",
       "      <th>segmented_neutrophils</th>\n",
       "      <th>tibc</th>\n",
       "      <th>mcv</th>\n",
       "      <th>serum_iron</th>\n",
       "      <th>rbc</th>\n",
       "      <th>gender</th>\n",
       "      <th>creatinine</th>\n",
       "      <th>cholestrol</th>\n",
       "      <th>copper</th>\n",
       "      <th>ethanol</th>\n",
       "      <th>folate</th>\n",
       "      <th>glucose</th>\n",
       "      <th>hematocrit</th>\n",
       "      <th>tsat</th>\n",
       "      <th>label</th>\n",
       "    </tr>\n",
       "  </thead>\n",
       "  <tbody>\n",
       "    <tr>\n",
       "      <th>0</th>\n",
       "      <td>11.183192</td>\n",
       "      <td>187.573466</td>\n",
       "      <td>4.951674</td>\n",
       "      <td>1.661383</td>\n",
       "      <td>316.593436</td>\n",
       "      <td>95.006424</td>\n",
       "      <td>-1.000000</td>\n",
       "      <td>3.531295</td>\n",
       "      <td>1</td>\n",
       "      <td>-1.000000</td>\n",
       "      <td>28.040619</td>\n",
       "      <td>96.721542</td>\n",
       "      <td>49.530542</td>\n",
       "      <td>23.186628</td>\n",
       "      <td>-1.0</td>\n",
       "      <td>-1.000000</td>\n",
       "      <td>57.247868</td>\n",
       "      <td>5</td>\n",
       "    </tr>\n",
       "    <tr>\n",
       "      <th>1</th>\n",
       "      <td>14.387445</td>\n",
       "      <td>-1.000000</td>\n",
       "      <td>-1.000000</td>\n",
       "      <td>-1.000000</td>\n",
       "      <td>-1.000000</td>\n",
       "      <td>-1.000000</td>\n",
       "      <td>125.249617</td>\n",
       "      <td>-1.000000</td>\n",
       "      <td>1</td>\n",
       "      <td>-1.000000</td>\n",
       "      <td>98.357508</td>\n",
       "      <td>112.758764</td>\n",
       "      <td>62.464566</td>\n",
       "      <td>7.168920</td>\n",
       "      <td>-1.0</td>\n",
       "      <td>43.162335</td>\n",
       "      <td>-1.000000</td>\n",
       "      <td>0</td>\n",
       "    </tr>\n",
       "    <tr>\n",
       "      <th>2</th>\n",
       "      <td>12.749357</td>\n",
       "      <td>-1.000000</td>\n",
       "      <td>3.502800</td>\n",
       "      <td>6.179371</td>\n",
       "      <td>498.418768</td>\n",
       "      <td>76.759285</td>\n",
       "      <td>159.834784</td>\n",
       "      <td>4.982859</td>\n",
       "      <td>1</td>\n",
       "      <td>1.022939</td>\n",
       "      <td>56.850479</td>\n",
       "      <td>75.739552</td>\n",
       "      <td>72.072041</td>\n",
       "      <td>20.600875</td>\n",
       "      <td>-1.0</td>\n",
       "      <td>38.248071</td>\n",
       "      <td>32.068372</td>\n",
       "      <td>4</td>\n",
       "    </tr>\n",
       "    <tr>\n",
       "      <th>3</th>\n",
       "      <td>11.508870</td>\n",
       "      <td>197.180945</td>\n",
       "      <td>1.200125</td>\n",
       "      <td>0.000000</td>\n",
       "      <td>457.033309</td>\n",
       "      <td>102.900301</td>\n",
       "      <td>131.177927</td>\n",
       "      <td>3.355346</td>\n",
       "      <td>1</td>\n",
       "      <td>-1.000000</td>\n",
       "      <td>111.220307</td>\n",
       "      <td>66.999185</td>\n",
       "      <td>18.353272</td>\n",
       "      <td>-1.000000</td>\n",
       "      <td>-1.0</td>\n",
       "      <td>34.526609</td>\n",
       "      <td>28.702050</td>\n",
       "      <td>2</td>\n",
       "    </tr>\n",
       "    <tr>\n",
       "      <th>4</th>\n",
       "      <td>9.456656</td>\n",
       "      <td>427.952052</td>\n",
       "      <td>-1.000000</td>\n",
       "      <td>0.660252</td>\n",
       "      <td>-1.000000</td>\n",
       "      <td>104.543774</td>\n",
       "      <td>-1.000000</td>\n",
       "      <td>2.713693</td>\n",
       "      <td>0</td>\n",
       "      <td>-1.000000</td>\n",
       "      <td>-1.000000</td>\n",
       "      <td>-1.000000</td>\n",
       "      <td>-1.000000</td>\n",
       "      <td>-1.000000</td>\n",
       "      <td>-1.0</td>\n",
       "      <td>28.369968</td>\n",
       "      <td>-1.000000</td>\n",
       "      <td>1</td>\n",
       "    </tr>\n",
       "  </tbody>\n",
       "</table>\n",
       "</div>"
      ],
      "text/plain": [
       "   hemoglobin    ferritin  ret_count  segmented_neutrophils        tibc  \\\n",
       "0   11.183192  187.573466   4.951674               1.661383  316.593436   \n",
       "1   14.387445   -1.000000  -1.000000              -1.000000   -1.000000   \n",
       "2   12.749357   -1.000000   3.502800               6.179371  498.418768   \n",
       "3   11.508870  197.180945   1.200125               0.000000  457.033309   \n",
       "4    9.456656  427.952052  -1.000000               0.660252   -1.000000   \n",
       "\n",
       "          mcv  serum_iron       rbc  gender  creatinine  cholestrol  \\\n",
       "0   95.006424   -1.000000  3.531295       1   -1.000000   28.040619   \n",
       "1   -1.000000  125.249617 -1.000000       1   -1.000000   98.357508   \n",
       "2   76.759285  159.834784  4.982859       1    1.022939   56.850479   \n",
       "3  102.900301  131.177927  3.355346       1   -1.000000  111.220307   \n",
       "4  104.543774   -1.000000  2.713693       0   -1.000000   -1.000000   \n",
       "\n",
       "       copper    ethanol     folate  glucose  hematocrit       tsat  label  \n",
       "0   96.721542  49.530542  23.186628     -1.0   -1.000000  57.247868      5  \n",
       "1  112.758764  62.464566   7.168920     -1.0   43.162335  -1.000000      0  \n",
       "2   75.739552  72.072041  20.600875     -1.0   38.248071  32.068372      4  \n",
       "3   66.999185  18.353272  -1.000000     -1.0   34.526609  28.702050      2  \n",
       "4   -1.000000  -1.000000  -1.000000     -1.0   28.369968  -1.000000      1  "
      ]
     },
     "execution_count": 10,
     "metadata": {},
     "output_type": "execute_result"
    }
   ],
   "source": [
    "df.head()"
   ]
  },
  {
   "cell_type": "markdown",
   "metadata": {},
   "source": [
    "#### Testing"
   ]
  },
  {
   "cell_type": "code",
   "execution_count": 49,
   "metadata": {},
   "outputs": [
    {
     "name": "stdout",
     "output_type": "stream",
     "text": [
      "Using stable baselines 3\n",
      "Wrapping the env with a `Monitor` wrapper\n",
      "Wrapping the env in a DummyVecEnv.\n",
      "Count: 2800\n",
      "Count: 5600\n",
      "Count: 8400\n",
      "Count: 11200\n",
      "Count: 14000\n",
      "Testing done.....\n"
     ]
    },
    {
     "data": {
      "text/html": [
       "<div>\n",
       "<style scoped>\n",
       "    .dataframe tbody tr th:only-of-type {\n",
       "        vertical-align: middle;\n",
       "    }\n",
       "\n",
       "    .dataframe tbody tr th {\n",
       "        vertical-align: top;\n",
       "    }\n",
       "\n",
       "    .dataframe thead th {\n",
       "        text-align: right;\n",
       "    }\n",
       "</style>\n",
       "<table border=\"1\" class=\"dataframe\">\n",
       "  <thead>\n",
       "    <tr style=\"text-align: right;\">\n",
       "      <th></th>\n",
       "      <th>episode_length</th>\n",
       "      <th>index</th>\n",
       "      <th>is_success</th>\n",
       "      <th>reward</th>\n",
       "      <th>terminated</th>\n",
       "      <th>trajectory</th>\n",
       "      <th>y_actual</th>\n",
       "      <th>y_pred</th>\n",
       "    </tr>\n",
       "  </thead>\n",
       "  <tbody>\n",
       "    <tr>\n",
       "      <th>0</th>\n",
       "      <td>4.0</td>\n",
       "      <td>0.0</td>\n",
       "      <td>0.0</td>\n",
       "      <td>-1.0</td>\n",
       "      <td>0.0</td>\n",
       "      <td>[hemoglobin, mcv, gender, Hemolytic anemia]</td>\n",
       "      <td>6.0</td>\n",
       "      <td>5.0</td>\n",
       "    </tr>\n",
       "    <tr>\n",
       "      <th>1</th>\n",
       "      <td>4.0</td>\n",
       "      <td>1.0</td>\n",
       "      <td>1.0</td>\n",
       "      <td>1.0</td>\n",
       "      <td>0.0</td>\n",
       "      <td>[hemoglobin, mcv, segmented_neutrophils, Unspe...</td>\n",
       "      <td>2.0</td>\n",
       "      <td>2.0</td>\n",
       "    </tr>\n",
       "    <tr>\n",
       "      <th>2</th>\n",
       "      <td>4.0</td>\n",
       "      <td>2.0</td>\n",
       "      <td>1.0</td>\n",
       "      <td>1.0</td>\n",
       "      <td>0.0</td>\n",
       "      <td>[hemoglobin, mcv, segmented_neutrophils, Unspe...</td>\n",
       "      <td>2.0</td>\n",
       "      <td>2.0</td>\n",
       "    </tr>\n",
       "    <tr>\n",
       "      <th>3</th>\n",
       "      <td>4.0</td>\n",
       "      <td>3.0</td>\n",
       "      <td>0.0</td>\n",
       "      <td>-1.0</td>\n",
       "      <td>1.0</td>\n",
       "      <td>[hemoglobin, mcv, segmented_neutrophils, Incon...</td>\n",
       "      <td>5.0</td>\n",
       "      <td>7.0</td>\n",
       "    </tr>\n",
       "    <tr>\n",
       "      <th>4</th>\n",
       "      <td>4.0</td>\n",
       "      <td>4.0</td>\n",
       "      <td>0.0</td>\n",
       "      <td>-1.0</td>\n",
       "      <td>0.0</td>\n",
       "      <td>[hemoglobin, mcv, gender, Aplastic anemia]</td>\n",
       "      <td>5.0</td>\n",
       "      <td>6.0</td>\n",
       "    </tr>\n",
       "  </tbody>\n",
       "</table>\n",
       "</div>"
      ],
      "text/plain": [
       "   episode_length  index  is_success  reward  terminated  \\\n",
       "0             4.0    0.0         0.0    -1.0         0.0   \n",
       "1             4.0    1.0         1.0     1.0         0.0   \n",
       "2             4.0    2.0         1.0     1.0         0.0   \n",
       "3             4.0    3.0         0.0    -1.0         1.0   \n",
       "4             4.0    4.0         0.0    -1.0         0.0   \n",
       "\n",
       "                                          trajectory  y_actual  y_pred  \n",
       "0        [hemoglobin, mcv, gender, Hemolytic anemia]       6.0     5.0  \n",
       "1  [hemoglobin, mcv, segmented_neutrophils, Unspe...       2.0     2.0  \n",
       "2  [hemoglobin, mcv, segmented_neutrophils, Unspe...       2.0     2.0  \n",
       "3  [hemoglobin, mcv, segmented_neutrophils, Incon...       5.0     7.0  \n",
       "4         [hemoglobin, mcv, gender, Aplastic anemia]       5.0     6.0  "
      ]
     },
     "execution_count": 49,
     "metadata": {},
     "output_type": "execute_result"
    }
   ],
   "source": [
    "training_env = utils.create_env(X_train, y_train)\n",
    "dqn_model = utils.load_dqn3('../../models/many_features/0.1/with_correlated_fts/dqn3_by_type_missing_2_7500000', training_env)\n",
    "test_df = utils.evaluate_dqn(dqn_model, X_test, y_test)\n",
    "test_df.head()"
   ]
  },
  {
   "cell_type": "code",
   "execution_count": 50,
   "metadata": {},
   "outputs": [
    {
     "data": {
      "text/plain": [
       "60.0"
      ]
     },
     "execution_count": 50,
     "metadata": {},
     "output_type": "execute_result"
    }
   ],
   "source": [
    "success_rate, success_df = utils.success_rate(test_df)\n",
    "success_rate"
   ]
  },
  {
   "cell_type": "code",
   "execution_count": 51,
   "metadata": {},
   "outputs": [
    {
     "data": {
      "text/plain": [
       "(3.7334285714285715, 0.09528571428571428)"
      ]
     },
     "execution_count": 51,
     "metadata": {},
     "output_type": "execute_result"
    }
   ],
   "source": [
    "avg_length, avg_return = utils.get_avg_length_reward(test_df)\n",
    "avg_length, avg_return"
   ]
  },
  {
   "cell_type": "code",
   "execution_count": 52,
   "metadata": {},
   "outputs": [
    {
     "data": {
      "text/plain": [
       "(0.6, 0.6194012330450807, 0.7740232346744845)"
      ]
     },
     "execution_count": 52,
     "metadata": {},
     "output_type": "execute_result"
    }
   ],
   "source": [
    "acc, f1, roc_auc = utils.test(test_df['y_actual'], test_df['y_pred'])\n",
    "acc, f1, roc_auc"
   ]
  },
  {
   "cell_type": "code",
   "execution_count": 53,
   "metadata": {},
   "outputs": [
    {
     "data": {
      "text/plain": [
       "array([5., 2., 7., 6., 0., 4., 3., 1.])"
      ]
     },
     "execution_count": 53,
     "metadata": {},
     "output_type": "execute_result"
    }
   ],
   "source": [
    "test_df.y_pred.unique()"
   ]
  },
  {
   "cell_type": "code",
   "execution_count": 43,
   "metadata": {},
   "outputs": [
    {
     "data": {
      "text/html": [
       "<div>\n",
       "<style scoped>\n",
       "    .dataframe tbody tr th:only-of-type {\n",
       "        vertical-align: middle;\n",
       "    }\n",
       "\n",
       "    .dataframe tbody tr th {\n",
       "        vertical-align: top;\n",
       "    }\n",
       "\n",
       "    .dataframe thead th {\n",
       "        text-align: right;\n",
       "    }\n",
       "</style>\n",
       "<table border=\"1\" class=\"dataframe\">\n",
       "  <thead>\n",
       "    <tr style=\"text-align: right;\">\n",
       "      <th></th>\n",
       "      <th>episode_length</th>\n",
       "      <th>index</th>\n",
       "      <th>is_success</th>\n",
       "      <th>reward</th>\n",
       "      <th>terminated</th>\n",
       "      <th>trajectory</th>\n",
       "      <th>y_actual</th>\n",
       "      <th>y_pred</th>\n",
       "    </tr>\n",
       "  </thead>\n",
       "  <tbody>\n",
       "    <tr>\n",
       "      <th>8</th>\n",
       "      <td>4.0</td>\n",
       "      <td>8.0</td>\n",
       "      <td>1.0</td>\n",
       "      <td>1.0</td>\n",
       "      <td>0.0</td>\n",
       "      <td>[hemoglobin, mcv, tibc, Iron deficiency anemia]</td>\n",
       "      <td>4.0</td>\n",
       "      <td>4.0</td>\n",
       "    </tr>\n",
       "    <tr>\n",
       "      <th>16</th>\n",
       "      <td>5.0</td>\n",
       "      <td>16.0</td>\n",
       "      <td>1.0</td>\n",
       "      <td>1.0</td>\n",
       "      <td>0.0</td>\n",
       "      <td>[hemoglobin, gender, mcv, tibc, Iron deficienc...</td>\n",
       "      <td>4.0</td>\n",
       "      <td>4.0</td>\n",
       "    </tr>\n",
       "    <tr>\n",
       "      <th>31</th>\n",
       "      <td>4.0</td>\n",
       "      <td>31.0</td>\n",
       "      <td>1.0</td>\n",
       "      <td>1.0</td>\n",
       "      <td>0.0</td>\n",
       "      <td>[hemoglobin, mcv, tibc, Iron deficiency anemia]</td>\n",
       "      <td>4.0</td>\n",
       "      <td>4.0</td>\n",
       "    </tr>\n",
       "    <tr>\n",
       "      <th>41</th>\n",
       "      <td>4.0</td>\n",
       "      <td>41.0</td>\n",
       "      <td>1.0</td>\n",
       "      <td>1.0</td>\n",
       "      <td>0.0</td>\n",
       "      <td>[hemoglobin, mcv, tibc, Iron deficiency anemia]</td>\n",
       "      <td>4.0</td>\n",
       "      <td>4.0</td>\n",
       "    </tr>\n",
       "    <tr>\n",
       "      <th>44</th>\n",
       "      <td>4.0</td>\n",
       "      <td>44.0</td>\n",
       "      <td>1.0</td>\n",
       "      <td>1.0</td>\n",
       "      <td>0.0</td>\n",
       "      <td>[hemoglobin, mcv, tibc, Iron deficiency anemia]</td>\n",
       "      <td>4.0</td>\n",
       "      <td>4.0</td>\n",
       "    </tr>\n",
       "    <tr>\n",
       "      <th>...</th>\n",
       "      <td>...</td>\n",
       "      <td>...</td>\n",
       "      <td>...</td>\n",
       "      <td>...</td>\n",
       "      <td>...</td>\n",
       "      <td>...</td>\n",
       "      <td>...</td>\n",
       "      <td>...</td>\n",
       "    </tr>\n",
       "    <tr>\n",
       "      <th>13965</th>\n",
       "      <td>4.0</td>\n",
       "      <td>13965.0</td>\n",
       "      <td>1.0</td>\n",
       "      <td>1.0</td>\n",
       "      <td>0.0</td>\n",
       "      <td>[hemoglobin, mcv, tibc, Iron deficiency anemia]</td>\n",
       "      <td>4.0</td>\n",
       "      <td>4.0</td>\n",
       "    </tr>\n",
       "    <tr>\n",
       "      <th>13968</th>\n",
       "      <td>4.0</td>\n",
       "      <td>13968.0</td>\n",
       "      <td>1.0</td>\n",
       "      <td>1.0</td>\n",
       "      <td>0.0</td>\n",
       "      <td>[hemoglobin, mcv, tibc, Iron deficiency anemia]</td>\n",
       "      <td>4.0</td>\n",
       "      <td>4.0</td>\n",
       "    </tr>\n",
       "    <tr>\n",
       "      <th>13989</th>\n",
       "      <td>4.0</td>\n",
       "      <td>13989.0</td>\n",
       "      <td>1.0</td>\n",
       "      <td>1.0</td>\n",
       "      <td>0.0</td>\n",
       "      <td>[hemoglobin, mcv, tibc, Iron deficiency anemia]</td>\n",
       "      <td>4.0</td>\n",
       "      <td>4.0</td>\n",
       "    </tr>\n",
       "    <tr>\n",
       "      <th>13995</th>\n",
       "      <td>4.0</td>\n",
       "      <td>13995.0</td>\n",
       "      <td>1.0</td>\n",
       "      <td>1.0</td>\n",
       "      <td>0.0</td>\n",
       "      <td>[hemoglobin, mcv, tibc, Iron deficiency anemia]</td>\n",
       "      <td>4.0</td>\n",
       "      <td>4.0</td>\n",
       "    </tr>\n",
       "    <tr>\n",
       "      <th>13996</th>\n",
       "      <td>5.0</td>\n",
       "      <td>13996.0</td>\n",
       "      <td>1.0</td>\n",
       "      <td>1.0</td>\n",
       "      <td>0.0</td>\n",
       "      <td>[hemoglobin, gender, mcv, tibc, Iron deficienc...</td>\n",
       "      <td>4.0</td>\n",
       "      <td>4.0</td>\n",
       "    </tr>\n",
       "  </tbody>\n",
       "</table>\n",
       "<p>1199 rows × 8 columns</p>\n",
       "</div>"
      ],
      "text/plain": [
       "       episode_length    index  is_success  reward  terminated  \\\n",
       "8                 4.0      8.0         1.0     1.0         0.0   \n",
       "16                5.0     16.0         1.0     1.0         0.0   \n",
       "31                4.0     31.0         1.0     1.0         0.0   \n",
       "41                4.0     41.0         1.0     1.0         0.0   \n",
       "44                4.0     44.0         1.0     1.0         0.0   \n",
       "...               ...      ...         ...     ...         ...   \n",
       "13965             4.0  13965.0         1.0     1.0         0.0   \n",
       "13968             4.0  13968.0         1.0     1.0         0.0   \n",
       "13989             4.0  13989.0         1.0     1.0         0.0   \n",
       "13995             4.0  13995.0         1.0     1.0         0.0   \n",
       "13996             5.0  13996.0         1.0     1.0         0.0   \n",
       "\n",
       "                                              trajectory  y_actual  y_pred  \n",
       "8        [hemoglobin, mcv, tibc, Iron deficiency anemia]       4.0     4.0  \n",
       "16     [hemoglobin, gender, mcv, tibc, Iron deficienc...       4.0     4.0  \n",
       "31       [hemoglobin, mcv, tibc, Iron deficiency anemia]       4.0     4.0  \n",
       "41       [hemoglobin, mcv, tibc, Iron deficiency anemia]       4.0     4.0  \n",
       "44       [hemoglobin, mcv, tibc, Iron deficiency anemia]       4.0     4.0  \n",
       "...                                                  ...       ...     ...  \n",
       "13965    [hemoglobin, mcv, tibc, Iron deficiency anemia]       4.0     4.0  \n",
       "13968    [hemoglobin, mcv, tibc, Iron deficiency anemia]       4.0     4.0  \n",
       "13989    [hemoglobin, mcv, tibc, Iron deficiency anemia]       4.0     4.0  \n",
       "13995    [hemoglobin, mcv, tibc, Iron deficiency anemia]       4.0     4.0  \n",
       "13996  [hemoglobin, gender, mcv, tibc, Iron deficienc...       4.0     4.0  \n",
       "\n",
       "[1199 rows x 8 columns]"
      ]
     },
     "execution_count": 43,
     "metadata": {},
     "output_type": "execute_result"
    }
   ],
   "source": [
    "test_df[test_df.y_pred==4]"
   ]
  },
  {
   "cell_type": "markdown",
   "metadata": {},
   "source": [
    "#### Saving files"
   ]
  },
  {
   "cell_type": "code",
   "execution_count": null,
   "metadata": {},
   "outputs": [],
   "source": [
    "# test_df.to_csv(f'../../test_dfs/many_features/0.1/correlated/test_df3_9000000.csv', index=False)\n",
    "# success_df.to_csv(f'../../test_dfs/many_features/0.1/correlated/success_df3_9000000.csv', index=False)"
   ]
  },
  {
   "cell_type": "markdown",
   "metadata": {},
   "source": [
    "#### Confusion matrix and classification report"
   ]
  },
  {
   "cell_type": "code",
   "execution_count": null,
   "metadata": {},
   "outputs": [],
   "source": [
    "test_df = pd.read_csv('../../test_dfs/many_features/0.1/test_df3_6500000.csv')\n",
    "test_df.head()"
   ]
  },
  {
   "cell_type": "code",
   "execution_count": null,
   "metadata": {},
   "outputs": [],
   "source": [
    "utils.plot_classification_report(test_df['y_actual'], test_df['y_pred'])"
   ]
  },
  {
   "cell_type": "code",
   "execution_count": null,
   "metadata": {},
   "outputs": [],
   "source": [
    "# def plot_confusion_matrix(y_actual, y_pred, save=False, filename=False):\n",
    "#     from sklearn.metrics import confusion_matrix\n",
    "#     cm = confusion_matrix(y_actual, y_pred)\n",
    "#     cm_df = pd.DataFrame(cm, index = [0, 1, 2, 3, 4, 5, 6], columns = [0, 1, 2, 3, 4, 5, 6], dtype='object')\n",
    "#     #cm_df = pd.DataFrame(cm, index = constants.CLASS_DICT.keys(), columns = constants.CLASS_DICT.keys())\n",
    "#     plt.figure(figsize=(8, 6))\n",
    "#     sns.heatmap(cm_df, annot=True)\n",
    "#     plt.title('Confusion Matrix')\n",
    "#     plt.ylabel('Actual Anemia')\n",
    "#     plt.xlabel('Predicted Anemia')\n",
    "#     plt.tight_layout()\n",
    "#     if save:\n",
    "#         plt.savefig(filename)\n",
    "#     plt.show()\n",
    "#     plt.close()"
   ]
  },
  {
   "cell_type": "code",
   "execution_count": null,
   "metadata": {},
   "outputs": [],
   "source": [
    "utils.plot_confusion_matrix(test_df['y_actual'], test_df['y_pred'])"
   ]
  },
  {
   "cell_type": "code",
   "execution_count": null,
   "metadata": {},
   "outputs": [],
   "source": []
  }
 ],
 "metadata": {
  "kernelspec": {
   "display_name": "Python 3",
   "language": "python",
   "name": "python3"
  },
  "language_info": {
   "codemirror_mode": {
    "name": "ipython",
    "version": 3
   },
   "file_extension": ".py",
   "mimetype": "text/x-python",
   "name": "python",
   "nbconvert_exporter": "python",
   "pygments_lexer": "ipython3",
   "version": "3.7.4"
  }
 },
 "nbformat": 4,
 "nbformat_minor": 5
}

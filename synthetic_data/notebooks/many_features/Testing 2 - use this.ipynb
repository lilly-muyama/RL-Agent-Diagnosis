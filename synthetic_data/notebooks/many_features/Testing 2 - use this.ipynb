{
 "cells": [
  {
   "cell_type": "code",
   "execution_count": 1,
   "id": "3853d40a",
   "metadata": {},
   "outputs": [],
   "source": [
    "import pandas as pd\n",
    "import numpy as np\n",
    "import seaborn as sns\n",
    "from datetime import datetime\n",
    "import random\n",
    "import os\n",
    "import torch\n",
    "import sys\n",
    "sys.path.append('../..')\n",
    "from modules.many_features import utils, lupus_constants\n",
    "from sklearn.model_selection import train_test_split\n",
    "import matplotlib.pyplot as plt\n",
    "%matplotlib inline\n",
    "import warnings\n",
    "warnings.filterwarnings('ignore')"
   ]
  },
  {
   "cell_type": "code",
   "execution_count": 2,
   "id": "9ac94693",
   "metadata": {},
   "outputs": [],
   "source": [
    "SEED = 42\n",
    "random.seed(SEED)\n",
    "np.random.seed(SEED)\n",
    "os.environ['PYTHONHASHSEED']=str(SEED)\n",
    "torch.manual_seed(SEED)\n",
    "torch.use_deterministic_algorithms(True)"
   ]
  },
  {
   "cell_type": "markdown",
   "id": "7f8f0fc2",
   "metadata": {},
   "source": [
    "#### The Data"
   ]
  },
  {
   "cell_type": "code",
   "execution_count": 3,
   "id": "e88f0065",
   "metadata": {},
   "outputs": [],
   "source": [
    "# df = pd.read_csv('../../data/more_features/more_feats_correlated_0.1.csv')\n",
    "# df = df.fillna(-1)\n",
    "# df.head()"
   ]
  },
  {
   "cell_type": "code",
   "execution_count": 4,
   "id": "c0db1b47",
   "metadata": {},
   "outputs": [],
   "source": [
    "#train_df = pd.read_csv('../../final/data/train_set_basic.csv')\n",
    "#train_df.head()"
   ]
  },
  {
   "cell_type": "code",
   "execution_count": 5,
   "id": "e60329fa",
   "metadata": {},
   "outputs": [],
   "source": [
    "#train_df.iloc[0]"
   ]
  },
  {
   "cell_type": "code",
   "execution_count": 277,
   "id": "19f129ab",
   "metadata": {},
   "outputs": [
    {
     "data": {
      "text/html": [
       "<div>\n",
       "<style scoped>\n",
       "    .dataframe tbody tr th:only-of-type {\n",
       "        vertical-align: middle;\n",
       "    }\n",
       "\n",
       "    .dataframe tbody tr th {\n",
       "        vertical-align: top;\n",
       "    }\n",
       "\n",
       "    .dataframe thead th {\n",
       "        text-align: right;\n",
       "    }\n",
       "</style>\n",
       "<table border=\"1\" class=\"dataframe\">\n",
       "  <thead>\n",
       "    <tr style=\"text-align: right;\">\n",
       "      <th></th>\n",
       "      <th>hemoglobin</th>\n",
       "      <th>ferritin</th>\n",
       "      <th>ret_count</th>\n",
       "      <th>segmented_neutrophils</th>\n",
       "      <th>tibc</th>\n",
       "      <th>mcv</th>\n",
       "      <th>serum_iron</th>\n",
       "      <th>rbc</th>\n",
       "      <th>gender</th>\n",
       "      <th>creatinine</th>\n",
       "      <th>cholestrol</th>\n",
       "      <th>copper</th>\n",
       "      <th>ethanol</th>\n",
       "      <th>folate</th>\n",
       "      <th>glucose</th>\n",
       "      <th>hematocrit</th>\n",
       "      <th>tsat</th>\n",
       "      <th>label</th>\n",
       "    </tr>\n",
       "  </thead>\n",
       "  <tbody>\n",
       "    <tr>\n",
       "      <th>0</th>\n",
       "      <td>9.496631</td>\n",
       "      <td>-1.000000</td>\n",
       "      <td>-1.000000</td>\n",
       "      <td>3.515439</td>\n",
       "      <td>375.685261</td>\n",
       "      <td>101.027779</td>\n",
       "      <td>122.174205</td>\n",
       "      <td>2.820006</td>\n",
       "      <td>1</td>\n",
       "      <td>1.276220</td>\n",
       "      <td>147.925454</td>\n",
       "      <td>74.188240</td>\n",
       "      <td>23.800042</td>\n",
       "      <td>11.545421</td>\n",
       "      <td>97.593498</td>\n",
       "      <td>28.489894</td>\n",
       "      <td>32.520362</td>\n",
       "      <td>1</td>\n",
       "    </tr>\n",
       "    <tr>\n",
       "      <th>1</th>\n",
       "      <td>7.092780</td>\n",
       "      <td>336.562609</td>\n",
       "      <td>-1.000000</td>\n",
       "      <td>-1.000000</td>\n",
       "      <td>115.507513</td>\n",
       "      <td>75.569193</td>\n",
       "      <td>35.449822</td>\n",
       "      <td>2.815743</td>\n",
       "      <td>0</td>\n",
       "      <td>0.870413</td>\n",
       "      <td>105.709466</td>\n",
       "      <td>118.836405</td>\n",
       "      <td>30.607322</td>\n",
       "      <td>2.113748</td>\n",
       "      <td>88.833122</td>\n",
       "      <td>21.278341</td>\n",
       "      <td>30.690491</td>\n",
       "      <td>3</td>\n",
       "    </tr>\n",
       "    <tr>\n",
       "      <th>2</th>\n",
       "      <td>6.554136</td>\n",
       "      <td>-1.000000</td>\n",
       "      <td>1.774495</td>\n",
       "      <td>6.145810</td>\n",
       "      <td>-1.000000</td>\n",
       "      <td>86.849700</td>\n",
       "      <td>-1.000000</td>\n",
       "      <td>2.263958</td>\n",
       "      <td>0</td>\n",
       "      <td>0.569184</td>\n",
       "      <td>139.078814</td>\n",
       "      <td>-1.000000</td>\n",
       "      <td>-1.000000</td>\n",
       "      <td>-1.000000</td>\n",
       "      <td>-1.000000</td>\n",
       "      <td>19.662409</td>\n",
       "      <td>-1.000000</td>\n",
       "      <td>6</td>\n",
       "    </tr>\n",
       "    <tr>\n",
       "      <th>3</th>\n",
       "      <td>12.417159</td>\n",
       "      <td>252.249921</td>\n",
       "      <td>1.701860</td>\n",
       "      <td>0.188413</td>\n",
       "      <td>515.449324</td>\n",
       "      <td>76.102948</td>\n",
       "      <td>-1.000000</td>\n",
       "      <td>4.894880</td>\n",
       "      <td>1</td>\n",
       "      <td>0.576132</td>\n",
       "      <td>4.588230</td>\n",
       "      <td>-1.000000</td>\n",
       "      <td>-1.000000</td>\n",
       "      <td>-1.000000</td>\n",
       "      <td>-1.000000</td>\n",
       "      <td>37.251478</td>\n",
       "      <td>-1.000000</td>\n",
       "      <td>3</td>\n",
       "    </tr>\n",
       "    <tr>\n",
       "      <th>4</th>\n",
       "      <td>7.748672</td>\n",
       "      <td>258.549935</td>\n",
       "      <td>2.980693</td>\n",
       "      <td>5.137341</td>\n",
       "      <td>363.214987</td>\n",
       "      <td>82.395181</td>\n",
       "      <td>99.002425</td>\n",
       "      <td>2.821283</td>\n",
       "      <td>1</td>\n",
       "      <td>0.885522</td>\n",
       "      <td>84.419465</td>\n",
       "      <td>33.706997</td>\n",
       "      <td>19.591641</td>\n",
       "      <td>27.675132</td>\n",
       "      <td>69.578682</td>\n",
       "      <td>23.246016</td>\n",
       "      <td>27.257252</td>\n",
       "      <td>5</td>\n",
       "    </tr>\n",
       "  </tbody>\n",
       "</table>\n",
       "</div>"
      ],
      "text/plain": [
       "   hemoglobin    ferritin  ret_count  segmented_neutrophils        tibc  \\\n",
       "0    9.496631   -1.000000  -1.000000               3.515439  375.685261   \n",
       "1    7.092780  336.562609  -1.000000              -1.000000  115.507513   \n",
       "2    6.554136   -1.000000   1.774495               6.145810   -1.000000   \n",
       "3   12.417159  252.249921   1.701860               0.188413  515.449324   \n",
       "4    7.748672  258.549935   2.980693               5.137341  363.214987   \n",
       "\n",
       "          mcv  serum_iron       rbc  gender  creatinine  cholestrol  \\\n",
       "0  101.027779  122.174205  2.820006       1    1.276220  147.925454   \n",
       "1   75.569193   35.449822  2.815743       0    0.870413  105.709466   \n",
       "2   86.849700   -1.000000  2.263958       0    0.569184  139.078814   \n",
       "3   76.102948   -1.000000  4.894880       1    0.576132    4.588230   \n",
       "4   82.395181   99.002425  2.821283       1    0.885522   84.419465   \n",
       "\n",
       "       copper    ethanol     folate    glucose  hematocrit       tsat  label  \n",
       "0   74.188240  23.800042  11.545421  97.593498   28.489894  32.520362      1  \n",
       "1  118.836405  30.607322   2.113748  88.833122   21.278341  30.690491      3  \n",
       "2   -1.000000  -1.000000  -1.000000  -1.000000   19.662409  -1.000000      6  \n",
       "3   -1.000000  -1.000000  -1.000000  -1.000000   37.251478  -1.000000      3  \n",
       "4   33.706997  19.591641  27.675132  69.578682   23.246016  27.257252      5  "
      ]
     },
     "execution_count": 277,
     "metadata": {},
     "output_type": "execute_result"
    }
   ],
   "source": [
    "# test_df = pd.read_csv('../../final/data/test_set_constant.csv')\n",
    "# test_df = pd.read_csv('../../lupus_trial/data/anemia/test_set_constant.csv')\n",
    "# test_df = pd.read_csv('../../../anemia_ml4hc/data/test_set_constant.csv')\n",
    "test_df = pd.read_csv('../../../anemia_ml4hc/data/val_set_constant.csv')\n",
    "test_df.head()"
   ]
  },
  {
   "cell_type": "code",
   "execution_count": 278,
   "id": "e2b073d3",
   "metadata": {},
   "outputs": [
    {
     "data": {
      "text/plain": [
       "((5600, 17), (5600,))"
      ]
     },
     "execution_count": 278,
     "metadata": {},
     "output_type": "execute_result"
    }
   ],
   "source": [
    "X_test = test_df.iloc[:, 0:-1]\n",
    "y_test = test_df.iloc[:, -1]\n",
    "\n",
    "X_test, y_test = np.array(X_test), np.array(y_test)\n",
    "X_test.shape, y_test.shape"
   ]
  },
  {
   "cell_type": "code",
   "execution_count": 279,
   "id": "56b57d42",
   "metadata": {},
   "outputs": [],
   "source": [
    "# utils.get_dt_performance(df)"
   ]
  },
  {
   "cell_type": "code",
   "execution_count": 280,
   "id": "8cc5b594",
   "metadata": {},
   "outputs": [],
   "source": [
    "# df.label.value_counts()"
   ]
  },
  {
   "cell_type": "code",
   "execution_count": 281,
   "id": "2dddbb20",
   "metadata": {},
   "outputs": [],
   "source": [
    "# class_dict = constants.CLASS_DICT\n",
    "# df['label'] = df['label'].replace(class_dict)\n",
    "# X = df.iloc[:, 0:-1]\n",
    "# y = df.iloc[:, -1]\n",
    "# X_train, X_test, y_train, y_test = train_test_split(X, y, test_size=0.2, stratify=y, random_state=SEED)\n",
    "# X_train, y_train = np.array(X_train), np.array(y_train)\n",
    "# X_test, y_test = np.array(X_test), np.array(y_test)\n",
    "# X_train.shape, X_test.shape, y_train.shape, y_test.shape"
   ]
  },
  {
   "cell_type": "code",
   "execution_count": 282,
   "id": "03f70d17",
   "metadata": {},
   "outputs": [],
   "source": [
    "# y_test[:5]"
   ]
  },
  {
   "cell_type": "code",
   "execution_count": 283,
   "id": "3c549390",
   "metadata": {},
   "outputs": [],
   "source": [
    "# action_list = list(class_dict) + [col  for col in df.columns if col!='label']\n",
    "# action_list"
   ]
  },
  {
   "cell_type": "code",
   "execution_count": 284,
   "id": "af9dae91",
   "metadata": {},
   "outputs": [],
   "source": [
    "# len(action_list)"
   ]
  },
  {
   "cell_type": "markdown",
   "id": "da51070c",
   "metadata": {},
   "source": [
    "#### Testing"
   ]
  },
  {
   "cell_type": "code",
   "execution_count": 285,
   "id": "1d1b3598",
   "metadata": {},
   "outputs": [],
   "source": [
    "# training_env = utils.create_env(X_train, y_train)\n",
    "# dqn_model = utils.load_dqn3('../../models/many_features/0.1/with_correlated_fts/constant_test_set/dqn_missing_1_6000000', \n",
    "#                             training_env)\n",
    "# test_df = utils.evaluate_dqn(dqn_model, X_test, y_test)\n",
    "# test_df.head()"
   ]
  },
  {
   "cell_type": "code",
   "execution_count": 315,
   "id": "e9ac58ad",
   "metadata": {},
   "outputs": [
    {
     "name": "stdout",
     "output_type": "stream",
     "text": [
      "Using just stable baselines (not 3)\n",
      "Loading a model without an environment, this model cannot be trained until it has a valid environment.\n",
      "Testing done.....\n"
     ]
    },
    {
     "data": {
      "text/html": [
       "<div>\n",
       "<style scoped>\n",
       "    .dataframe tbody tr th:only-of-type {\n",
       "        vertical-align: middle;\n",
       "    }\n",
       "\n",
       "    .dataframe tbody tr th {\n",
       "        vertical-align: top;\n",
       "    }\n",
       "\n",
       "    .dataframe thead th {\n",
       "        text-align: right;\n",
       "    }\n",
       "</style>\n",
       "<table border=\"1\" class=\"dataframe\">\n",
       "  <thead>\n",
       "    <tr style=\"text-align: right;\">\n",
       "      <th></th>\n",
       "      <th>index</th>\n",
       "      <th>episode_length</th>\n",
       "      <th>reward</th>\n",
       "      <th>y_pred</th>\n",
       "      <th>y_actual</th>\n",
       "      <th>trajectory</th>\n",
       "      <th>terminated</th>\n",
       "      <th>is_success</th>\n",
       "    </tr>\n",
       "  </thead>\n",
       "  <tbody>\n",
       "    <tr>\n",
       "      <th>0</th>\n",
       "      <td>0.0</td>\n",
       "      <td>5.0</td>\n",
       "      <td>1.0</td>\n",
       "      <td>1.0</td>\n",
       "      <td>1.0</td>\n",
       "      <td>[gender, hemoglobin, rbc, segmented_neutrophil...</td>\n",
       "      <td>0.0</td>\n",
       "      <td>1.0</td>\n",
       "    </tr>\n",
       "    <tr>\n",
       "      <th>1</th>\n",
       "      <td>1.0</td>\n",
       "      <td>6.0</td>\n",
       "      <td>1.0</td>\n",
       "      <td>3.0</td>\n",
       "      <td>3.0</td>\n",
       "      <td>[gender, hemoglobin, rbc, ferritin, mcv, Anemi...</td>\n",
       "      <td>0.0</td>\n",
       "      <td>1.0</td>\n",
       "    </tr>\n",
       "    <tr>\n",
       "      <th>2</th>\n",
       "      <td>2.0</td>\n",
       "      <td>5.0</td>\n",
       "      <td>1.0</td>\n",
       "      <td>6.0</td>\n",
       "      <td>6.0</td>\n",
       "      <td>[gender, hemoglobin, rbc, ret_count, Aplastic ...</td>\n",
       "      <td>0.0</td>\n",
       "      <td>1.0</td>\n",
       "    </tr>\n",
       "    <tr>\n",
       "      <th>3</th>\n",
       "      <td>3.0</td>\n",
       "      <td>6.0</td>\n",
       "      <td>1.0</td>\n",
       "      <td>3.0</td>\n",
       "      <td>3.0</td>\n",
       "      <td>[gender, hemoglobin, rbc, ferritin, mcv, Anemi...</td>\n",
       "      <td>0.0</td>\n",
       "      <td>1.0</td>\n",
       "    </tr>\n",
       "    <tr>\n",
       "      <th>4</th>\n",
       "      <td>4.0</td>\n",
       "      <td>5.0</td>\n",
       "      <td>1.0</td>\n",
       "      <td>5.0</td>\n",
       "      <td>5.0</td>\n",
       "      <td>[gender, hemoglobin, rbc, ret_count, Hemolytic...</td>\n",
       "      <td>0.0</td>\n",
       "      <td>1.0</td>\n",
       "    </tr>\n",
       "  </tbody>\n",
       "</table>\n",
       "</div>"
      ],
      "text/plain": [
       "   index  episode_length  reward  y_pred  y_actual  \\\n",
       "0    0.0             5.0     1.0     1.0       1.0   \n",
       "1    1.0             6.0     1.0     3.0       3.0   \n",
       "2    2.0             5.0     1.0     6.0       6.0   \n",
       "3    3.0             6.0     1.0     3.0       3.0   \n",
       "4    4.0             5.0     1.0     5.0       5.0   \n",
       "\n",
       "                                          trajectory  terminated  is_success  \n",
       "0  [gender, hemoglobin, rbc, segmented_neutrophil...         0.0         1.0  \n",
       "1  [gender, hemoglobin, rbc, ferritin, mcv, Anemi...         0.0         1.0  \n",
       "2  [gender, hemoglobin, rbc, ret_count, Aplastic ...         0.0         1.0  \n",
       "3  [gender, hemoglobin, rbc, ferritin, mcv, Anemi...         0.0         1.0  \n",
       "4  [gender, hemoglobin, rbc, ret_count, Hemolytic...         0.0         1.0  "
      ]
     },
     "execution_count": 315,
     "metadata": {},
     "output_type": "execute_result"
    }
   ],
   "source": [
    "# dqn_model = utils.load_dqn3('../../../anemia_ml4hc/models/sb/dueling_double_dqn/dddqn_basic_3000000_steps.zip')\n",
    "dqn_model = utils.load_dqn(f'../../../anemia_ml4hc/models/sb/missingness/double_dqn_pr_noisiness_2_12000000.pkl')\n",
    "# dqn_model = utils.load_dqn3('../../final/models/dqn_noisy_6_missing_3_21300000')\n",
    "test_df = utils.evaluate_dqn(dqn_model, X_test, y_test)\n",
    "test_df.head()"
   ]
  },
  {
   "cell_type": "code",
   "execution_count": 316,
   "id": "fffa5e25",
   "metadata": {},
   "outputs": [
    {
     "data": {
      "text/plain": [
       "93.58928571428572"
      ]
     },
     "execution_count": 316,
     "metadata": {},
     "output_type": "execute_result"
    }
   ],
   "source": [
    "success_rate, success_df = utils.success_rate(test_df)\n",
    "success_rate"
   ]
  },
  {
   "cell_type": "code",
   "execution_count": 317,
   "id": "2cc5a569",
   "metadata": {},
   "outputs": [
    {
     "data": {
      "text/plain": [
       "['gender', 'hemoglobin', 'No anemia']"
      ]
     },
     "execution_count": 317,
     "metadata": {},
     "output_type": "execute_result"
    }
   ],
   "source": [
    "test_df[test_df.episode_length==test_df.episode_length.min()].iloc[-1]['trajectory']"
   ]
  },
  {
   "cell_type": "code",
   "execution_count": 318,
   "id": "19d53307",
   "metadata": {},
   "outputs": [
    {
     "data": {
      "text/plain": [
       "(3.0, 7.0)"
      ]
     },
     "execution_count": 318,
     "metadata": {},
     "output_type": "execute_result"
    }
   ],
   "source": [
    "test_df.episode_length.min(), test_df.episode_length.max()"
   ]
  },
  {
   "cell_type": "code",
   "execution_count": 319,
   "id": "c5960f87",
   "metadata": {},
   "outputs": [],
   "source": [
    "# test_df[test_df.episode_length == test_df.episode_length.max()]"
   ]
  },
  {
   "cell_type": "code",
   "execution_count": 320,
   "id": "831c7a27",
   "metadata": {},
   "outputs": [
    {
     "data": {
      "text/plain": [
       "(4.8653571428571425, 0.7021428571428572)"
      ]
     },
     "execution_count": 320,
     "metadata": {},
     "output_type": "execute_result"
    }
   ],
   "source": [
    "avg_length, avg_return = utils.get_avg_length_reward(test_df)\n",
    "avg_length, avg_return"
   ]
  },
  {
   "cell_type": "code",
   "execution_count": 321,
   "id": "e7119ebb",
   "metadata": {},
   "outputs": [
    {
     "data": {
      "text/plain": [
       "(93.58928571428572, 93.26442456734509, 96.24146742302162)"
      ]
     },
     "execution_count": 321,
     "metadata": {},
     "output_type": "execute_result"
    }
   ],
   "source": [
    "acc, f1, roc_auc = utils.test(test_df['y_actual'], test_df['y_pred'])\n",
    "acc, f1, roc_auc"
   ]
  },
  {
   "cell_type": "code",
   "execution_count": 322,
   "id": "9ad8da8c",
   "metadata": {},
   "outputs": [
    {
     "data": {
      "text/plain": [
       "4.0    788\n",
       "1.0    780\n",
       "0.0    763\n",
       "2.0    719\n",
       "5.0    707\n",
       "6.0    699\n",
       "3.0    577\n",
       "7.0    567\n",
       "Name: y_pred, dtype: int64"
      ]
     },
     "execution_count": 322,
     "metadata": {},
     "output_type": "execute_result"
    }
   ],
   "source": [
    "test_df.y_pred.value_counts()"
   ]
  },
  {
   "cell_type": "markdown",
   "id": "e31e6e79",
   "metadata": {},
   "source": [
    "#### Saving files"
   ]
  },
  {
   "cell_type": "code",
   "execution_count": null,
   "id": "d0718582",
   "metadata": {},
   "outputs": [],
   "source": [
    "# test_df.to_csv(f'../../lupus_trial/test_dfs/orig/dqn_test_df_9500000.csv', index=False)\n",
    "# success_df.to_csv(f'../../lupus_trial/test_dfs/orig/dqn_success_df_9500000.csv', index=False)"
   ]
  },
  {
   "cell_type": "code",
   "execution_count": null,
   "id": "2bb0ebe3",
   "metadata": {},
   "outputs": [],
   "source": [
    "# for steps in [int(9.5e6), int(10e6), int(10.5e6), int(11e6), int(11.5e6), int(12e6), int(12.5e6), int(13e6), int(13.5e6), int(15e6), int(16e6), int(17e6), int(18e6), int(19e6), int(20e6), int(21e6), int(22e6), int(23e6), int(24e6)]:\n",
    "#     training_env = utils.create_env(X_train, y_train)\n",
    "#     dqn_model = utils.load_dqn3(f'../../models/many_features/0.1/with_correlated_fts/dqn3_by_type_noisy_6_{steps}', \n",
    "#                                 training_env)\n",
    "#     test_df = utils.evaluate_dqn(dqn_model, X_test, y_test)\n",
    "#     success_rate, success_df = utils.success_rate(test_df)\n",
    "#     avg_length, avg_return = utils.get_avg_length_reward(test_df)\n",
    "#     print(f'steps: {steps}, success_rate: {success_rate}, avg_length: {avg_length}, avg_return: {avg_return}')"
   ]
  },
  {
   "cell_type": "markdown",
   "id": "9b916351",
   "metadata": {},
   "source": [
    "#### Confusion matrix and classification report"
   ]
  },
  {
   "cell_type": "code",
   "execution_count": null,
   "id": "92be2212",
   "metadata": {},
   "outputs": [],
   "source": [
    "# test_df = pd.read_csv('../../test_dfs/many_features/0.1/correlated/test_df3_missing3_12500000.csv')\n",
    "# test_df.head()"
   ]
  },
  {
   "cell_type": "code",
   "execution_count": null,
   "id": "115563e1",
   "metadata": {},
   "outputs": [],
   "source": [
    "utils.plot_classification_report(test_df['y_actual'], test_df['y_pred'])"
   ]
  },
  {
   "cell_type": "code",
   "execution_count": null,
   "id": "2cbe6beb",
   "metadata": {},
   "outputs": [],
   "source": [
    "# def plot_confusion_matrix(y_actual, y_pred, save=False, filename=False):\n",
    "#     from sklearn.metrics import confusion_matrix\n",
    "#     cm = confusion_matrix(y_actual, y_pred)\n",
    "#     cm_df = pd.DataFrame(cm, index = [0, 1, 2, 3, 4, 5, 6], columns = [0, 1, 2, 3, 4, 5, 6], dtype='object')\n",
    "#     #cm_df = pd.DataFrame(cm, index = constants.CLASS_DICT.keys(), columns = constants.CLASS_DICT.keys())\n",
    "#     plt.figure(figsize=(8, 6))\n",
    "#     sns.heatmap(cm_df, annot=True)\n",
    "#     plt.title('Confusion Matrix')\n",
    "#     plt.ylabel('Actual Anemia')\n",
    "#     plt.xlabel('Predicted Anemia')\n",
    "#     plt.tight_layout()\n",
    "#     if save:\n",
    "#         plt.savefig(filename)\n",
    "#     plt.show()\n",
    "#     plt.close()"
   ]
  },
  {
   "cell_type": "code",
   "execution_count": null,
   "id": "9232c0f9",
   "metadata": {},
   "outputs": [],
   "source": [
    "utils.plot_confusion_matrix(test_df['y_actual'], test_df['y_pred'])"
   ]
  },
  {
   "cell_type": "code",
   "execution_count": null,
   "id": "22f3e1e9",
   "metadata": {},
   "outputs": [],
   "source": []
  }
 ],
 "metadata": {
  "kernelspec": {
   "display_name": "Python 3 (ipykernel)",
   "language": "python",
   "name": "python3"
  },
  "language_info": {
   "codemirror_mode": {
    "name": "ipython",
    "version": 3
   },
   "file_extension": ".py",
   "mimetype": "text/x-python",
   "name": "python",
   "nbconvert_exporter": "python",
   "pygments_lexer": "ipython3",
   "version": "3.7.4"
  }
 },
 "nbformat": 4,
 "nbformat_minor": 5
}

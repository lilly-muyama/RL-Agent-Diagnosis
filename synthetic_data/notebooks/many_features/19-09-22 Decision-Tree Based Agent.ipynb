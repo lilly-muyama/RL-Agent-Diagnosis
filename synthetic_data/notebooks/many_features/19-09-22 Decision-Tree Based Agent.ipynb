{
 "cells": [
  {
   "cell_type": "code",
   "execution_count": 2,
   "metadata": {},
   "outputs": [],
   "source": [
    "import pandas as pd\n",
    "import numpy as np\n",
    "import sys\n",
    "sys.path.append('../..')\n",
    "from modules.many_features import utils, constants, env\n",
    "from modules.many_features.dt_agent import DTAgent\n",
    "from sklearn.model_selection import train_test_split"
   ]
  },
  {
   "cell_type": "code",
   "execution_count": 3,
   "metadata": {},
   "outputs": [],
   "source": [
    "SEED = 42\n",
    "np.random.seed(SEED)"
   ]
  },
  {
   "cell_type": "markdown",
   "metadata": {},
   "source": [
    "#### The data"
   ]
  },
  {
   "cell_type": "code",
   "execution_count": 4,
   "metadata": {},
   "outputs": [
    {
     "data": {
      "text/html": [
       "<div>\n",
       "<style scoped>\n",
       "    .dataframe tbody tr th:only-of-type {\n",
       "        vertical-align: middle;\n",
       "    }\n",
       "\n",
       "    .dataframe tbody tr th {\n",
       "        vertical-align: top;\n",
       "    }\n",
       "\n",
       "    .dataframe thead th {\n",
       "        text-align: right;\n",
       "    }\n",
       "</style>\n",
       "<table border=\"1\" class=\"dataframe\">\n",
       "  <thead>\n",
       "    <tr style=\"text-align: right;\">\n",
       "      <th></th>\n",
       "      <th>hemoglobin</th>\n",
       "      <th>ferritin</th>\n",
       "      <th>ret_count</th>\n",
       "      <th>segmented_neutrophils</th>\n",
       "      <th>tibc</th>\n",
       "      <th>mcv</th>\n",
       "      <th>serum_iron</th>\n",
       "      <th>rbc</th>\n",
       "      <th>gender</th>\n",
       "      <th>creatinine</th>\n",
       "      <th>cholestrol</th>\n",
       "      <th>copper</th>\n",
       "      <th>ethanol</th>\n",
       "      <th>folate</th>\n",
       "      <th>glucose</th>\n",
       "      <th>hematocrit</th>\n",
       "      <th>tsat</th>\n",
       "      <th>label</th>\n",
       "    </tr>\n",
       "  </thead>\n",
       "  <tbody>\n",
       "    <tr>\n",
       "      <th>0</th>\n",
       "      <td>11.783006</td>\n",
       "      <td>112.011007</td>\n",
       "      <td>-1.000000</td>\n",
       "      <td>3.308648</td>\n",
       "      <td>348.014906</td>\n",
       "      <td>86.577465</td>\n",
       "      <td>-1.000000</td>\n",
       "      <td>4.082935</td>\n",
       "      <td>0</td>\n",
       "      <td>1.617594</td>\n",
       "      <td>131.868365</td>\n",
       "      <td>-1.000000</td>\n",
       "      <td>-1.000000</td>\n",
       "      <td>-1.000000</td>\n",
       "      <td>-1.000000</td>\n",
       "      <td>35.349018</td>\n",
       "      <td>-1.000000</td>\n",
       "      <td>7</td>\n",
       "    </tr>\n",
       "    <tr>\n",
       "      <th>1</th>\n",
       "      <td>12.609666</td>\n",
       "      <td>104.475099</td>\n",
       "      <td>5.445972</td>\n",
       "      <td>-1.000000</td>\n",
       "      <td>-1.000000</td>\n",
       "      <td>75.082198</td>\n",
       "      <td>-1.000000</td>\n",
       "      <td>5.038345</td>\n",
       "      <td>1</td>\n",
       "      <td>0.334722</td>\n",
       "      <td>97.568987</td>\n",
       "      <td>83.161880</td>\n",
       "      <td>-1.000000</td>\n",
       "      <td>7.147270</td>\n",
       "      <td>-1.000000</td>\n",
       "      <td>37.828999</td>\n",
       "      <td>-1.000000</td>\n",
       "      <td>3</td>\n",
       "    </tr>\n",
       "    <tr>\n",
       "      <th>2</th>\n",
       "      <td>7.940172</td>\n",
       "      <td>4.925400</td>\n",
       "      <td>3.255130</td>\n",
       "      <td>5.766738</td>\n",
       "      <td>209.031102</td>\n",
       "      <td>75.254082</td>\n",
       "      <td>-1.000000</td>\n",
       "      <td>3.165345</td>\n",
       "      <td>1</td>\n",
       "      <td>1.649478</td>\n",
       "      <td>2.082970</td>\n",
       "      <td>-1.000000</td>\n",
       "      <td>-1.000000</td>\n",
       "      <td>-1.000000</td>\n",
       "      <td>-1.000000</td>\n",
       "      <td>23.820517</td>\n",
       "      <td>-1.000000</td>\n",
       "      <td>4</td>\n",
       "    </tr>\n",
       "    <tr>\n",
       "      <th>3</th>\n",
       "      <td>7.785840</td>\n",
       "      <td>103.757096</td>\n",
       "      <td>2.874384</td>\n",
       "      <td>3.839597</td>\n",
       "      <td>-1.000000</td>\n",
       "      <td>81.873581</td>\n",
       "      <td>39.638010</td>\n",
       "      <td>2.852876</td>\n",
       "      <td>1</td>\n",
       "      <td>0.637843</td>\n",
       "      <td>127.412065</td>\n",
       "      <td>38.534760</td>\n",
       "      <td>51.437387</td>\n",
       "      <td>28.150784</td>\n",
       "      <td>73.296289</td>\n",
       "      <td>23.357519</td>\n",
       "      <td>-1.000000</td>\n",
       "      <td>5</td>\n",
       "    </tr>\n",
       "    <tr>\n",
       "      <th>4</th>\n",
       "      <td>12.359715</td>\n",
       "      <td>51.274141</td>\n",
       "      <td>0.178269</td>\n",
       "      <td>1.233844</td>\n",
       "      <td>474.589534</td>\n",
       "      <td>76.469181</td>\n",
       "      <td>49.839768</td>\n",
       "      <td>4.848900</td>\n",
       "      <td>1</td>\n",
       "      <td>0.621034</td>\n",
       "      <td>137.433107</td>\n",
       "      <td>55.314614</td>\n",
       "      <td>47.302738</td>\n",
       "      <td>3.808612</td>\n",
       "      <td>60.076211</td>\n",
       "      <td>37.079144</td>\n",
       "      <td>10.501658</td>\n",
       "      <td>4</td>\n",
       "    </tr>\n",
       "  </tbody>\n",
       "</table>\n",
       "</div>"
      ],
      "text/plain": [
       "   hemoglobin    ferritin  ret_count  segmented_neutrophils        tibc  \\\n",
       "0   11.783006  112.011007  -1.000000               3.308648  348.014906   \n",
       "1   12.609666  104.475099   5.445972              -1.000000   -1.000000   \n",
       "2    7.940172    4.925400   3.255130               5.766738  209.031102   \n",
       "3    7.785840  103.757096   2.874384               3.839597   -1.000000   \n",
       "4   12.359715   51.274141   0.178269               1.233844  474.589534   \n",
       "\n",
       "         mcv  serum_iron       rbc  gender  creatinine  cholestrol     copper  \\\n",
       "0  86.577465   -1.000000  4.082935       0    1.617594  131.868365  -1.000000   \n",
       "1  75.082198   -1.000000  5.038345       1    0.334722   97.568987  83.161880   \n",
       "2  75.254082   -1.000000  3.165345       1    1.649478    2.082970  -1.000000   \n",
       "3  81.873581   39.638010  2.852876       1    0.637843  127.412065  38.534760   \n",
       "4  76.469181   49.839768  4.848900       1    0.621034  137.433107  55.314614   \n",
       "\n",
       "     ethanol     folate    glucose  hematocrit       tsat  label  \n",
       "0  -1.000000  -1.000000  -1.000000   35.349018  -1.000000      7  \n",
       "1  -1.000000   7.147270  -1.000000   37.828999  -1.000000      3  \n",
       "2  -1.000000  -1.000000  -1.000000   23.820517  -1.000000      4  \n",
       "3  51.437387  28.150784  73.296289   23.357519  -1.000000      5  \n",
       "4  47.302738   3.808612  60.076211   37.079144  10.501658      4  "
      ]
     },
     "execution_count": 4,
     "metadata": {},
     "output_type": "execute_result"
    }
   ],
   "source": [
    "# df = pd.read_csv('../../data/more_features/more_feats_correlated_noisy_2.csv')\n",
    "# df = df.fillna(-1)\n",
    "# df.head()\n",
    "test_df = pd.read_csv('../../final/data/test_set_constant.csv')\n",
    "test_df = test_df.fillna(-1)\n",
    "test_df.head()"
   ]
  },
  {
   "cell_type": "code",
   "execution_count": 5,
   "metadata": {},
   "outputs": [],
   "source": [
    "X_test = test_df.iloc[:, 0:-1]\n",
    "y_test = test_df.iloc[:, -1]\n",
    "\n",
    "X_test, y_test = np.array(X_test), np.array(y_test)"
   ]
  },
  {
   "cell_type": "markdown",
   "metadata": {},
   "source": [
    "#### The DT agent"
   ]
  },
  {
   "cell_type": "code",
   "execution_count": 6,
   "metadata": {},
   "outputs": [
    {
     "name": "stdout",
     "output_type": "stream",
     "text": [
      "Testing done.....\n"
     ]
    },
    {
     "data": {
      "text/html": [
       "<div>\n",
       "<style scoped>\n",
       "    .dataframe tbody tr th:only-of-type {\n",
       "        vertical-align: middle;\n",
       "    }\n",
       "\n",
       "    .dataframe tbody tr th {\n",
       "        vertical-align: top;\n",
       "    }\n",
       "\n",
       "    .dataframe thead th {\n",
       "        text-align: right;\n",
       "    }\n",
       "</style>\n",
       "<table border=\"1\" class=\"dataframe\">\n",
       "  <thead>\n",
       "    <tr style=\"text-align: right;\">\n",
       "      <th></th>\n",
       "      <th>episode_length</th>\n",
       "      <th>index</th>\n",
       "      <th>is_success</th>\n",
       "      <th>reward</th>\n",
       "      <th>terminated</th>\n",
       "      <th>trajectory</th>\n",
       "      <th>y_actual</th>\n",
       "      <th>y_pred</th>\n",
       "    </tr>\n",
       "  </thead>\n",
       "  <tbody>\n",
       "    <tr>\n",
       "      <th>0</th>\n",
       "      <td>4.0</td>\n",
       "      <td>0.0</td>\n",
       "      <td>1.0</td>\n",
       "      <td>1.0</td>\n",
       "      <td>0.0</td>\n",
       "      <td>[hemoglobin, mcv, ret_count, Inconclusive diag...</td>\n",
       "      <td>7.0</td>\n",
       "      <td>7.0</td>\n",
       "    </tr>\n",
       "    <tr>\n",
       "      <th>1</th>\n",
       "      <td>5.0</td>\n",
       "      <td>1.0</td>\n",
       "      <td>1.0</td>\n",
       "      <td>1.0</td>\n",
       "      <td>0.0</td>\n",
       "      <td>[hemoglobin, gender, mcv, ferritin, Anemia of ...</td>\n",
       "      <td>3.0</td>\n",
       "      <td>3.0</td>\n",
       "    </tr>\n",
       "    <tr>\n",
       "      <th>2</th>\n",
       "      <td>4.0</td>\n",
       "      <td>2.0</td>\n",
       "      <td>1.0</td>\n",
       "      <td>1.0</td>\n",
       "      <td>0.0</td>\n",
       "      <td>[hemoglobin, mcv, ferritin, Iron deficiency an...</td>\n",
       "      <td>4.0</td>\n",
       "      <td>4.0</td>\n",
       "    </tr>\n",
       "    <tr>\n",
       "      <th>3</th>\n",
       "      <td>4.0</td>\n",
       "      <td>3.0</td>\n",
       "      <td>1.0</td>\n",
       "      <td>1.0</td>\n",
       "      <td>0.0</td>\n",
       "      <td>[hemoglobin, mcv, ret_count, Hemolytic anemia]</td>\n",
       "      <td>5.0</td>\n",
       "      <td>5.0</td>\n",
       "    </tr>\n",
       "    <tr>\n",
       "      <th>4</th>\n",
       "      <td>6.0</td>\n",
       "      <td>4.0</td>\n",
       "      <td>1.0</td>\n",
       "      <td>1.0</td>\n",
       "      <td>0.0</td>\n",
       "      <td>[hemoglobin, gender, mcv, ferritin, tibc, Iron...</td>\n",
       "      <td>4.0</td>\n",
       "      <td>4.0</td>\n",
       "    </tr>\n",
       "  </tbody>\n",
       "</table>\n",
       "</div>"
      ],
      "text/plain": [
       "   episode_length  index  is_success  reward  terminated  \\\n",
       "0             4.0    0.0         1.0     1.0         0.0   \n",
       "1             5.0    1.0         1.0     1.0         0.0   \n",
       "2             4.0    2.0         1.0     1.0         0.0   \n",
       "3             4.0    3.0         1.0     1.0         0.0   \n",
       "4             6.0    4.0         1.0     1.0         0.0   \n",
       "\n",
       "                                          trajectory  y_actual  y_pred  \n",
       "0  [hemoglobin, mcv, ret_count, Inconclusive diag...       7.0     7.0  \n",
       "1  [hemoglobin, gender, mcv, ferritin, Anemia of ...       3.0     3.0  \n",
       "2  [hemoglobin, mcv, ferritin, Iron deficiency an...       4.0     4.0  \n",
       "3     [hemoglobin, mcv, ret_count, Hemolytic anemia]       5.0     5.0  \n",
       "4  [hemoglobin, gender, mcv, ferritin, tibc, Iron...       4.0     4.0  "
      ]
     },
     "execution_count": 6,
     "metadata": {},
     "output_type": "execute_result"
    }
   ],
   "source": [
    "# %%time\n",
    "dt_agent = DTAgent(X_test, y_test)\n",
    "test_df = dt_agent.test()\n",
    "test_df.head()"
   ]
  },
  {
   "cell_type": "code",
   "execution_count": 7,
   "metadata": {},
   "outputs": [
    {
     "data": {
      "text/plain": [
       "(14000, 14000)"
      ]
     },
     "execution_count": 7,
     "metadata": {},
     "output_type": "execute_result"
    }
   ],
   "source": [
    "len(test_df), len(X_test)"
   ]
  },
  {
   "cell_type": "code",
   "execution_count": 8,
   "metadata": {},
   "outputs": [],
   "source": [
    "# test_df.to_csv('../../test_dfs/many_features/0.1/correlated/dt_test_df_corr.csv', index=False)"
   ]
  },
  {
   "cell_type": "code",
   "execution_count": 9,
   "metadata": {},
   "outputs": [],
   "source": [
    "# test_df = pd.read_csv('../../test_dfs/many_features/dt_test_df_0.1.csv')\n",
    "# test_df.head()"
   ]
  },
  {
   "cell_type": "code",
   "execution_count": 10,
   "metadata": {},
   "outputs": [
    {
     "data": {
      "text/plain": [
       "100.0"
      ]
     },
     "execution_count": 10,
     "metadata": {},
     "output_type": "execute_result"
    }
   ],
   "source": [
    "success_rate, success_df = utils.success_rate(test_df)\n",
    "success_rate"
   ]
  },
  {
   "cell_type": "code",
   "execution_count": 11,
   "metadata": {},
   "outputs": [
    {
     "data": {
      "text/plain": [
       "(4.002357142857143, 1.0)"
      ]
     },
     "execution_count": 11,
     "metadata": {},
     "output_type": "execute_result"
    }
   ],
   "source": [
    "avg_length, avg_return = utils.get_avg_length_reward(test_df)\n",
    "avg_length, avg_return"
   ]
  },
  {
   "cell_type": "code",
   "execution_count": 12,
   "metadata": {},
   "outputs": [
    {
     "data": {
      "text/plain": [
       "(1.0, 1.0, 1.0)"
      ]
     },
     "execution_count": 12,
     "metadata": {},
     "output_type": "execute_result"
    }
   ],
   "source": [
    "acc, f1, roc_auc = utils.test(test_df['y_actual'], test_df['y_pred'])\n",
    "acc, f1, roc_auc"
   ]
  },
  {
   "cell_type": "code",
   "execution_count": null,
   "metadata": {},
   "outputs": [],
   "source": [
    "# utils.plot_classification_report(test_df['y_actual'], test_df['y_pred'])"
   ]
  },
  {
   "cell_type": "code",
   "execution_count": null,
   "metadata": {},
   "outputs": [],
   "source": [
    "# utils.plot_confusion_matrix(test_df['y_actual'], test_df['y_pred'])"
   ]
  },
  {
   "cell_type": "code",
   "execution_count": null,
   "metadata": {},
   "outputs": [],
   "source": []
  }
 ],
 "metadata": {
  "kernelspec": {
   "display_name": "Python 3",
   "language": "python",
   "name": "python3"
  },
  "language_info": {
   "codemirror_mode": {
    "name": "ipython",
    "version": 3
   },
   "file_extension": ".py",
   "mimetype": "text/x-python",
   "name": "python",
   "nbconvert_exporter": "python",
   "pygments_lexer": "ipython3",
   "version": "3.7.4"
  }
 },
 "nbformat": 4,
 "nbformat_minor": 2
}

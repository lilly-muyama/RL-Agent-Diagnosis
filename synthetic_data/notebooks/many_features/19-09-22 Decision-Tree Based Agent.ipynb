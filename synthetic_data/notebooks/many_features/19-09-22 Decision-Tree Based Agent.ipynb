{
 "cells": [
  {
   "cell_type": "code",
   "execution_count": 1,
   "metadata": {},
   "outputs": [
    {
     "name": "stderr",
     "output_type": "stream",
     "text": [
      "C:\\Users\\User\\Anaconda3\\lib\\site-packages\\statsmodels\\tools\\_testing.py:19: FutureWarning: pandas.util.testing is deprecated. Use the functions in the public API at pandas.testing instead.\n",
      "  import pandas.util.testing as tm\n",
      "C:\\Users\\User\\Anaconda3\\lib\\site-packages\\sklearn\\linear_model\\least_angle.py:30: DeprecationWarning:\n",
      "\n",
      "`np.float` is a deprecated alias for the builtin `float`. To silence this warning, use `float` by itself. Doing this will not modify any behavior and is safe. If you specifically wanted the numpy scalar type, use `np.float64` here.\n",
      "Deprecated in NumPy 1.20; for more details and guidance: https://numpy.org/devdocs/release/1.20.0-notes.html#deprecations\n",
      "\n",
      "C:\\Users\\User\\Anaconda3\\lib\\site-packages\\sklearn\\linear_model\\least_angle.py:167: DeprecationWarning:\n",
      "\n",
      "`np.float` is a deprecated alias for the builtin `float`. To silence this warning, use `float` by itself. Doing this will not modify any behavior and is safe. If you specifically wanted the numpy scalar type, use `np.float64` here.\n",
      "Deprecated in NumPy 1.20; for more details and guidance: https://numpy.org/devdocs/release/1.20.0-notes.html#deprecations\n",
      "\n",
      "C:\\Users\\User\\Anaconda3\\lib\\site-packages\\sklearn\\linear_model\\least_angle.py:284: DeprecationWarning:\n",
      "\n",
      "`np.float` is a deprecated alias for the builtin `float`. To silence this warning, use `float` by itself. Doing this will not modify any behavior and is safe. If you specifically wanted the numpy scalar type, use `np.float64` here.\n",
      "Deprecated in NumPy 1.20; for more details and guidance: https://numpy.org/devdocs/release/1.20.0-notes.html#deprecations\n",
      "\n",
      "C:\\Users\\User\\Anaconda3\\lib\\site-packages\\sklearn\\linear_model\\least_angle.py:862: DeprecationWarning:\n",
      "\n",
      "`np.float` is a deprecated alias for the builtin `float`. To silence this warning, use `float` by itself. Doing this will not modify any behavior and is safe. If you specifically wanted the numpy scalar type, use `np.float64` here.\n",
      "Deprecated in NumPy 1.20; for more details and guidance: https://numpy.org/devdocs/release/1.20.0-notes.html#deprecations\n",
      "\n",
      "C:\\Users\\User\\Anaconda3\\lib\\site-packages\\sklearn\\linear_model\\least_angle.py:1101: DeprecationWarning:\n",
      "\n",
      "`np.float` is a deprecated alias for the builtin `float`. To silence this warning, use `float` by itself. Doing this will not modify any behavior and is safe. If you specifically wanted the numpy scalar type, use `np.float64` here.\n",
      "Deprecated in NumPy 1.20; for more details and guidance: https://numpy.org/devdocs/release/1.20.0-notes.html#deprecations\n",
      "\n",
      "C:\\Users\\User\\Anaconda3\\lib\\site-packages\\sklearn\\linear_model\\least_angle.py:1127: DeprecationWarning:\n",
      "\n",
      "`np.float` is a deprecated alias for the builtin `float`. To silence this warning, use `float` by itself. Doing this will not modify any behavior and is safe. If you specifically wanted the numpy scalar type, use `np.float64` here.\n",
      "Deprecated in NumPy 1.20; for more details and guidance: https://numpy.org/devdocs/release/1.20.0-notes.html#deprecations\n",
      "\n",
      "C:\\Users\\User\\Anaconda3\\lib\\site-packages\\sklearn\\linear_model\\least_angle.py:1362: DeprecationWarning:\n",
      "\n",
      "`np.float` is a deprecated alias for the builtin `float`. To silence this warning, use `float` by itself. Doing this will not modify any behavior and is safe. If you specifically wanted the numpy scalar type, use `np.float64` here.\n",
      "Deprecated in NumPy 1.20; for more details and guidance: https://numpy.org/devdocs/release/1.20.0-notes.html#deprecations\n",
      "\n",
      "C:\\Users\\User\\Anaconda3\\lib\\site-packages\\sklearn\\linear_model\\least_angle.py:1602: DeprecationWarning:\n",
      "\n",
      "`np.float` is a deprecated alias for the builtin `float`. To silence this warning, use `float` by itself. Doing this will not modify any behavior and is safe. If you specifically wanted the numpy scalar type, use `np.float64` here.\n",
      "Deprecated in NumPy 1.20; for more details and guidance: https://numpy.org/devdocs/release/1.20.0-notes.html#deprecations\n",
      "\n",
      "C:\\Users\\User\\Anaconda3\\lib\\site-packages\\sklearn\\linear_model\\least_angle.py:1738: DeprecationWarning:\n",
      "\n",
      "`np.float` is a deprecated alias for the builtin `float`. To silence this warning, use `float` by itself. Doing this will not modify any behavior and is safe. If you specifically wanted the numpy scalar type, use `np.float64` here.\n",
      "Deprecated in NumPy 1.20; for more details and guidance: https://numpy.org/devdocs/release/1.20.0-notes.html#deprecations\n",
      "\n",
      "C:\\Users\\User\\Anaconda3\\lib\\site-packages\\sklearn\\decomposition\\online_lda.py:29: DeprecationWarning:\n",
      "\n",
      "`np.float` is a deprecated alias for the builtin `float`. To silence this warning, use `float` by itself. Doing this will not modify any behavior and is safe. If you specifically wanted the numpy scalar type, use `np.float64` here.\n",
      "Deprecated in NumPy 1.20; for more details and guidance: https://numpy.org/devdocs/release/1.20.0-notes.html#deprecations\n",
      "\n"
     ]
    }
   ],
   "source": [
    "import pandas as pd\n",
    "import numpy as np\n",
    "import sys\n",
    "sys.path.append('../..')\n",
    "from modules.many_features import utils, constants, env\n",
    "from modules.many_features.dt_agent import DTAgent\n",
    "from sklearn.model_selection import train_test_split"
   ]
  },
  {
   "cell_type": "code",
   "execution_count": 2,
   "metadata": {},
   "outputs": [],
   "source": [
    "SEED = 42\n",
    "np.random.seed(SEED)"
   ]
  },
  {
   "cell_type": "markdown",
   "metadata": {},
   "source": [
    "#### The data"
   ]
  },
  {
   "cell_type": "code",
   "execution_count": 3,
   "metadata": {},
   "outputs": [
    {
     "data": {
      "text/html": [
       "<div>\n",
       "<style scoped>\n",
       "    .dataframe tbody tr th:only-of-type {\n",
       "        vertical-align: middle;\n",
       "    }\n",
       "\n",
       "    .dataframe tbody tr th {\n",
       "        vertical-align: top;\n",
       "    }\n",
       "\n",
       "    .dataframe thead th {\n",
       "        text-align: right;\n",
       "    }\n",
       "</style>\n",
       "<table border=\"1\" class=\"dataframe\">\n",
       "  <thead>\n",
       "    <tr style=\"text-align: right;\">\n",
       "      <th></th>\n",
       "      <th>hemoglobin</th>\n",
       "      <th>ferritin</th>\n",
       "      <th>ret_count</th>\n",
       "      <th>segmented_neutrophils</th>\n",
       "      <th>tibc</th>\n",
       "      <th>mcv</th>\n",
       "      <th>serum_iron</th>\n",
       "      <th>rbc</th>\n",
       "      <th>age</th>\n",
       "      <th>gender</th>\n",
       "      <th>indirect_bilirubin</th>\n",
       "      <th>transferrin</th>\n",
       "      <th>creatinine</th>\n",
       "      <th>cholestrol</th>\n",
       "      <th>copper</th>\n",
       "      <th>ethanol</th>\n",
       "      <th>folate</th>\n",
       "      <th>glucose</th>\n",
       "      <th>label</th>\n",
       "    </tr>\n",
       "  </thead>\n",
       "  <tbody>\n",
       "    <tr>\n",
       "      <th>0</th>\n",
       "      <td>12.190830</td>\n",
       "      <td>163.097819</td>\n",
       "      <td>3.084127</td>\n",
       "      <td>5.923027</td>\n",
       "      <td>232.339305</td>\n",
       "      <td>79.550470</td>\n",
       "      <td>-1.000000</td>\n",
       "      <td>3.748689</td>\n",
       "      <td>-1.000000</td>\n",
       "      <td>1</td>\n",
       "      <td>-1.000000</td>\n",
       "      <td>-1.000000</td>\n",
       "      <td>-1.000000</td>\n",
       "      <td>-1.000000</td>\n",
       "      <td>-1.000000</td>\n",
       "      <td>-1.000000</td>\n",
       "      <td>-1.000000</td>\n",
       "      <td>-1.000000</td>\n",
       "      <td>Anemia of chronic disease</td>\n",
       "    </tr>\n",
       "    <tr>\n",
       "      <th>1</th>\n",
       "      <td>9.944819</td>\n",
       "      <td>187.086684</td>\n",
       "      <td>5.096256</td>\n",
       "      <td>-1.000000</td>\n",
       "      <td>-1.000000</td>\n",
       "      <td>100.121185</td>\n",
       "      <td>-1.000000</td>\n",
       "      <td>5.857746</td>\n",
       "      <td>72.837294</td>\n",
       "      <td>0</td>\n",
       "      <td>1.146823</td>\n",
       "      <td>-1.000000</td>\n",
       "      <td>-1.000000</td>\n",
       "      <td>-1.000000</td>\n",
       "      <td>-1.000000</td>\n",
       "      <td>20.943783</td>\n",
       "      <td>-1.000000</td>\n",
       "      <td>-1.000000</td>\n",
       "      <td>Unspecified anemia</td>\n",
       "    </tr>\n",
       "    <tr>\n",
       "      <th>2</th>\n",
       "      <td>13.703345</td>\n",
       "      <td>-1.000000</td>\n",
       "      <td>-1.000000</td>\n",
       "      <td>-1.000000</td>\n",
       "      <td>-1.000000</td>\n",
       "      <td>-1.000000</td>\n",
       "      <td>80.372015</td>\n",
       "      <td>5.684361</td>\n",
       "      <td>45.702318</td>\n",
       "      <td>0</td>\n",
       "      <td>1.789854</td>\n",
       "      <td>206.817706</td>\n",
       "      <td>1.551467</td>\n",
       "      <td>90.217875</td>\n",
       "      <td>76.009442</td>\n",
       "      <td>22.651663</td>\n",
       "      <td>12.551513</td>\n",
       "      <td>-1.000000</td>\n",
       "      <td>No anemia</td>\n",
       "    </tr>\n",
       "    <tr>\n",
       "      <th>3</th>\n",
       "      <td>7.346123</td>\n",
       "      <td>27.669632</td>\n",
       "      <td>-1.000000</td>\n",
       "      <td>-1.000000</td>\n",
       "      <td>428.089083</td>\n",
       "      <td>77.375356</td>\n",
       "      <td>95.912445</td>\n",
       "      <td>6.469686</td>\n",
       "      <td>52.594562</td>\n",
       "      <td>0</td>\n",
       "      <td>0.222080</td>\n",
       "      <td>297.319109</td>\n",
       "      <td>1.265341</td>\n",
       "      <td>126.999491</td>\n",
       "      <td>46.998397</td>\n",
       "      <td>77.183582</td>\n",
       "      <td>8.518821</td>\n",
       "      <td>119.113878</td>\n",
       "      <td>Anemia of chronic disease</td>\n",
       "    </tr>\n",
       "    <tr>\n",
       "      <th>4</th>\n",
       "      <td>12.295548</td>\n",
       "      <td>225.097199</td>\n",
       "      <td>3.827717</td>\n",
       "      <td>0.000000</td>\n",
       "      <td>-1.000000</td>\n",
       "      <td>102.137453</td>\n",
       "      <td>-1.000000</td>\n",
       "      <td>-1.000000</td>\n",
       "      <td>-1.000000</td>\n",
       "      <td>1</td>\n",
       "      <td>-1.000000</td>\n",
       "      <td>-1.000000</td>\n",
       "      <td>-1.000000</td>\n",
       "      <td>-1.000000</td>\n",
       "      <td>-1.000000</td>\n",
       "      <td>-1.000000</td>\n",
       "      <td>-1.000000</td>\n",
       "      <td>-1.000000</td>\n",
       "      <td>Unspecified anemia</td>\n",
       "    </tr>\n",
       "  </tbody>\n",
       "</table>\n",
       "</div>"
      ],
      "text/plain": [
       "   hemoglobin    ferritin  ret_count  segmented_neutrophils        tibc  \\\n",
       "0   12.190830  163.097819   3.084127               5.923027  232.339305   \n",
       "1    9.944819  187.086684   5.096256              -1.000000   -1.000000   \n",
       "2   13.703345   -1.000000  -1.000000              -1.000000   -1.000000   \n",
       "3    7.346123   27.669632  -1.000000              -1.000000  428.089083   \n",
       "4   12.295548  225.097199   3.827717               0.000000   -1.000000   \n",
       "\n",
       "          mcv  serum_iron       rbc        age  gender  indirect_bilirubin  \\\n",
       "0   79.550470   -1.000000  3.748689  -1.000000       1           -1.000000   \n",
       "1  100.121185   -1.000000  5.857746  72.837294       0            1.146823   \n",
       "2   -1.000000   80.372015  5.684361  45.702318       0            1.789854   \n",
       "3   77.375356   95.912445  6.469686  52.594562       0            0.222080   \n",
       "4  102.137453   -1.000000 -1.000000  -1.000000       1           -1.000000   \n",
       "\n",
       "   transferrin  creatinine  cholestrol     copper    ethanol     folate  \\\n",
       "0    -1.000000   -1.000000   -1.000000  -1.000000  -1.000000  -1.000000   \n",
       "1    -1.000000   -1.000000   -1.000000  -1.000000  20.943783  -1.000000   \n",
       "2   206.817706    1.551467   90.217875  76.009442  22.651663  12.551513   \n",
       "3   297.319109    1.265341  126.999491  46.998397  77.183582   8.518821   \n",
       "4    -1.000000   -1.000000   -1.000000  -1.000000  -1.000000  -1.000000   \n",
       "\n",
       "      glucose                      label  \n",
       "0   -1.000000  Anemia of chronic disease  \n",
       "1   -1.000000         Unspecified anemia  \n",
       "2   -1.000000                  No anemia  \n",
       "3  119.113878  Anemia of chronic disease  \n",
       "4   -1.000000         Unspecified anemia  "
      ]
     },
     "execution_count": 3,
     "metadata": {},
     "output_type": "execute_result"
    }
   ],
   "source": [
    "#df = pd.read_csv('../../data/anemia_synth_dataset_some_nans_unspecified_more_feats.csv')\n",
    "#df= pd.read_csv('../../data/more_features/more_feats_new_labels_0.1.csv')\n",
    "df = pd.read_csv('../../data/more_features/more_feats_new_labels_0.1_noisy_0.4.csv')\n",
    "#df = df.fillna(-1)\n",
    "df.head()"
   ]
  },
  {
   "cell_type": "code",
   "execution_count": 4,
   "metadata": {},
   "outputs": [
    {
     "name": "stderr",
     "output_type": "stream",
     "text": [
      "C:\\Users\\User\\Anaconda3\\lib\\site-packages\\sklearn\\utils\\__init__.py:806: DeprecationWarning:\n",
      "\n",
      "`np.int` is a deprecated alias for the builtin `int`. To silence this warning, use `int` by itself. Doing this will not modify any behavior and is safe. When replacing `np.int`, you may wish to use e.g. `np.int64` or `np.int32` to specify the precision. If you wish to review your current use, check the release note link for additional information.\n",
      "Deprecated in NumPy 1.20; for more details and guidance: https://numpy.org/devdocs/release/1.20.0-notes.html#deprecations\n",
      "\n",
      "C:\\Users\\User\\Anaconda3\\lib\\site-packages\\sklearn\\utils\\__init__.py:806: DeprecationWarning:\n",
      "\n",
      "`np.int` is a deprecated alias for the builtin `int`. To silence this warning, use `int` by itself. Doing this will not modify any behavior and is safe. When replacing `np.int`, you may wish to use e.g. `np.int64` or `np.int32` to specify the precision. If you wish to review your current use, check the release note link for additional information.\n",
      "Deprecated in NumPy 1.20; for more details and guidance: https://numpy.org/devdocs/release/1.20.0-notes.html#deprecations\n",
      "\n",
      "C:\\Users\\User\\Anaconda3\\lib\\site-packages\\sklearn\\tree\\tree.py:163: DeprecationWarning:\n",
      "\n",
      "`np.int` is a deprecated alias for the builtin `int`. To silence this warning, use `int` by itself. Doing this will not modify any behavior and is safe. When replacing `np.int`, you may wish to use e.g. `np.int64` or `np.int32` to specify the precision. If you wish to review your current use, check the release note link for additional information.\n",
      "Deprecated in NumPy 1.20; for more details and guidance: https://numpy.org/devdocs/release/1.20.0-notes.html#deprecations\n",
      "\n"
     ]
    },
    {
     "data": {
      "text/plain": [
       "(0.9495714285714286,\n",
       " 0.9375796043606589,\n",
       " 0.9649074036208941,\n",
       " datetime.timedelta(microseconds=3999))"
      ]
     },
     "execution_count": 4,
     "metadata": {},
     "output_type": "execute_result"
    }
   ],
   "source": [
    "utils.get_dt_performance(df)"
   ]
  },
  {
   "cell_type": "code",
   "execution_count": 5,
   "metadata": {},
   "outputs": [
    {
     "name": "stderr",
     "output_type": "stream",
     "text": [
      "C:\\Users\\User\\Anaconda3\\lib\\site-packages\\sklearn\\utils\\__init__.py:806: DeprecationWarning:\n",
      "\n",
      "`np.int` is a deprecated alias for the builtin `int`. To silence this warning, use `int` by itself. Doing this will not modify any behavior and is safe. When replacing `np.int`, you may wish to use e.g. `np.int64` or `np.int32` to specify the precision. If you wish to review your current use, check the release note link for additional information.\n",
      "Deprecated in NumPy 1.20; for more details and guidance: https://numpy.org/devdocs/release/1.20.0-notes.html#deprecations\n",
      "\n",
      "C:\\Users\\User\\Anaconda3\\lib\\site-packages\\sklearn\\utils\\__init__.py:806: DeprecationWarning:\n",
      "\n",
      "`np.int` is a deprecated alias for the builtin `int`. To silence this warning, use `int` by itself. Doing this will not modify any behavior and is safe. When replacing `np.int`, you may wish to use e.g. `np.int64` or `np.int32` to specify the precision. If you wish to review your current use, check the release note link for additional information.\n",
      "Deprecated in NumPy 1.20; for more details and guidance: https://numpy.org/devdocs/release/1.20.0-notes.html#deprecations\n",
      "\n"
     ]
    },
    {
     "data": {
      "text/plain": [
       "((56000, 18), (14000, 18), (56000,), (14000,))"
      ]
     },
     "execution_count": 5,
     "metadata": {},
     "output_type": "execute_result"
    }
   ],
   "source": [
    "class_dict = constants.CLASS_DICT\n",
    "df['label'] = df['label'].replace(class_dict)\n",
    "X = df.iloc[:, 0:-1]\n",
    "y = df.iloc[:, -1]\n",
    "X_train_df, X_test_df, y_train_df, y_test_df = train_test_split(X, y, test_size=0.2, stratify=y, random_state=SEED)\n",
    "X_train, y_train = np.array(X_train_df), np.array(y_train_df)\n",
    "X_test, y_test = np.array(X_test_df), np.array(y_test_df)\n",
    "X_train.shape, X_test.shape, y_train.shape, y_test.shape"
   ]
  },
  {
   "cell_type": "code",
   "execution_count": 6,
   "metadata": {},
   "outputs": [
    {
     "data": {
      "text/plain": [
       "array([6, 2, 2, 5, 5], dtype=int64)"
      ]
     },
     "execution_count": 6,
     "metadata": {},
     "output_type": "execute_result"
    }
   ],
   "source": [
    "y_test[:5]"
   ]
  },
  {
   "cell_type": "markdown",
   "metadata": {},
   "source": [
    "#### The DT agent"
   ]
  },
  {
   "cell_type": "code",
   "execution_count": 7,
   "metadata": {},
   "outputs": [
    {
     "name": "stdout",
     "output_type": "stream",
     "text": [
      "Testing done.....\n",
      "Wall time: 2min 45s\n"
     ]
    },
    {
     "data": {
      "text/html": [
       "<div>\n",
       "<style scoped>\n",
       "    .dataframe tbody tr th:only-of-type {\n",
       "        vertical-align: middle;\n",
       "    }\n",
       "\n",
       "    .dataframe tbody tr th {\n",
       "        vertical-align: top;\n",
       "    }\n",
       "\n",
       "    .dataframe thead th {\n",
       "        text-align: right;\n",
       "    }\n",
       "</style>\n",
       "<table border=\"1\" class=\"dataframe\">\n",
       "  <thead>\n",
       "    <tr style=\"text-align: right;\">\n",
       "      <th></th>\n",
       "      <th>episode_length</th>\n",
       "      <th>index</th>\n",
       "      <th>is_success</th>\n",
       "      <th>reward</th>\n",
       "      <th>terminated</th>\n",
       "      <th>trajectory</th>\n",
       "      <th>y_actual</th>\n",
       "      <th>y_pred</th>\n",
       "    </tr>\n",
       "  </thead>\n",
       "  <tbody>\n",
       "    <tr>\n",
       "      <th>0</th>\n",
       "      <td>4.0</td>\n",
       "      <td>0.0</td>\n",
       "      <td>1.0</td>\n",
       "      <td>1.0</td>\n",
       "      <td>0.0</td>\n",
       "      <td>[hemoglobin, mcv, ret_count, Aplastic anemia]</td>\n",
       "      <td>6.0</td>\n",
       "      <td>6.0</td>\n",
       "    </tr>\n",
       "    <tr>\n",
       "      <th>1</th>\n",
       "      <td>4.0</td>\n",
       "      <td>1.0</td>\n",
       "      <td>0.0</td>\n",
       "      <td>-1.0</td>\n",
       "      <td>0.0</td>\n",
       "      <td>[hemoglobin, mcv, ret_count, Aplastic anemia]</td>\n",
       "      <td>2.0</td>\n",
       "      <td>6.0</td>\n",
       "    </tr>\n",
       "    <tr>\n",
       "      <th>2</th>\n",
       "      <td>4.0</td>\n",
       "      <td>2.0</td>\n",
       "      <td>1.0</td>\n",
       "      <td>1.0</td>\n",
       "      <td>0.0</td>\n",
       "      <td>[hemoglobin, mcv, segmented_neutrophils, Unspe...</td>\n",
       "      <td>2.0</td>\n",
       "      <td>2.0</td>\n",
       "    </tr>\n",
       "    <tr>\n",
       "      <th>3</th>\n",
       "      <td>4.0</td>\n",
       "      <td>3.0</td>\n",
       "      <td>0.0</td>\n",
       "      <td>-1.0</td>\n",
       "      <td>0.0</td>\n",
       "      <td>[hemoglobin, mcv, ret_count, Aplastic anemia]</td>\n",
       "      <td>5.0</td>\n",
       "      <td>6.0</td>\n",
       "    </tr>\n",
       "    <tr>\n",
       "      <th>4</th>\n",
       "      <td>4.0</td>\n",
       "      <td>4.0</td>\n",
       "      <td>1.0</td>\n",
       "      <td>1.0</td>\n",
       "      <td>0.0</td>\n",
       "      <td>[hemoglobin, mcv, ret_count, Hemolytic anemia]</td>\n",
       "      <td>5.0</td>\n",
       "      <td>5.0</td>\n",
       "    </tr>\n",
       "  </tbody>\n",
       "</table>\n",
       "</div>"
      ],
      "text/plain": [
       "   episode_length  index  is_success  reward  terminated  \\\n",
       "0             4.0    0.0         1.0     1.0         0.0   \n",
       "1             4.0    1.0         0.0    -1.0         0.0   \n",
       "2             4.0    2.0         1.0     1.0         0.0   \n",
       "3             4.0    3.0         0.0    -1.0         0.0   \n",
       "4             4.0    4.0         1.0     1.0         0.0   \n",
       "\n",
       "                                          trajectory  y_actual  y_pred  \n",
       "0      [hemoglobin, mcv, ret_count, Aplastic anemia]       6.0     6.0  \n",
       "1      [hemoglobin, mcv, ret_count, Aplastic anemia]       2.0     6.0  \n",
       "2  [hemoglobin, mcv, segmented_neutrophils, Unspe...       2.0     2.0  \n",
       "3      [hemoglobin, mcv, ret_count, Aplastic anemia]       5.0     6.0  \n",
       "4     [hemoglobin, mcv, ret_count, Hemolytic anemia]       5.0     5.0  "
      ]
     },
     "execution_count": 7,
     "metadata": {},
     "output_type": "execute_result"
    }
   ],
   "source": [
    "%%time\n",
    "dt_agent = DTAgent(X_test, y_test)\n",
    "test_df = dt_agent.test()\n",
    "test_df.head()"
   ]
  },
  {
   "cell_type": "code",
   "execution_count": 8,
   "metadata": {},
   "outputs": [],
   "source": [
    "# %%time\n",
    "# dt_agent.test_sample(2)"
   ]
  },
  {
   "cell_type": "code",
   "execution_count": 9,
   "metadata": {},
   "outputs": [],
   "source": [
    "# from datetime import datetime\n",
    "# start = datetime.now()\n",
    "# dt_agent.test_sample(2)\n",
    "# end = datetime.now()\n",
    "# duration = end-start\n",
    "# duration"
   ]
  },
  {
   "cell_type": "code",
   "execution_count": 10,
   "metadata": {},
   "outputs": [
    {
     "data": {
      "text/html": [
       "<div>\n",
       "<style scoped>\n",
       "    .dataframe tbody tr th:only-of-type {\n",
       "        vertical-align: middle;\n",
       "    }\n",
       "\n",
       "    .dataframe tbody tr th {\n",
       "        vertical-align: top;\n",
       "    }\n",
       "\n",
       "    .dataframe thead th {\n",
       "        text-align: right;\n",
       "    }\n",
       "</style>\n",
       "<table border=\"1\" class=\"dataframe\">\n",
       "  <thead>\n",
       "    <tr style=\"text-align: right;\">\n",
       "      <th></th>\n",
       "      <th>hemoglobin</th>\n",
       "      <th>ferritin</th>\n",
       "      <th>ret_count</th>\n",
       "      <th>segmented_neutrophils</th>\n",
       "      <th>tibc</th>\n",
       "      <th>mcv</th>\n",
       "      <th>serum_iron</th>\n",
       "      <th>rbc</th>\n",
       "      <th>age</th>\n",
       "      <th>gender</th>\n",
       "      <th>indirect_bilirubin</th>\n",
       "      <th>transferrin</th>\n",
       "      <th>creatinine</th>\n",
       "      <th>cholestrol</th>\n",
       "      <th>copper</th>\n",
       "      <th>ethanol</th>\n",
       "      <th>folate</th>\n",
       "      <th>glucose</th>\n",
       "    </tr>\n",
       "  </thead>\n",
       "  <tbody>\n",
       "    <tr>\n",
       "      <th>12328</th>\n",
       "      <td>10.349960</td>\n",
       "      <td>-1.000000</td>\n",
       "      <td>0.998554</td>\n",
       "      <td>-1.0</td>\n",
       "      <td>-1.000000</td>\n",
       "      <td>86.411147</td>\n",
       "      <td>111.707488</td>\n",
       "      <td>4.944340</td>\n",
       "      <td>27.502990</td>\n",
       "      <td>0</td>\n",
       "      <td>0.279290</td>\n",
       "      <td>157.791243</td>\n",
       "      <td>0.728968</td>\n",
       "      <td>19.372712</td>\n",
       "      <td>51.439289</td>\n",
       "      <td>43.598944</td>\n",
       "      <td>7.558525</td>\n",
       "      <td>64.723397</td>\n",
       "    </tr>\n",
       "    <tr>\n",
       "      <th>4793</th>\n",
       "      <td>6.859704</td>\n",
       "      <td>305.139323</td>\n",
       "      <td>1.169502</td>\n",
       "      <td>0.0</td>\n",
       "      <td>106.333555</td>\n",
       "      <td>95.125054</td>\n",
       "      <td>-1.000000</td>\n",
       "      <td>5.097877</td>\n",
       "      <td>57.787603</td>\n",
       "      <td>1</td>\n",
       "      <td>2.908458</td>\n",
       "      <td>-1.000000</td>\n",
       "      <td>-1.000000</td>\n",
       "      <td>-1.000000</td>\n",
       "      <td>-1.000000</td>\n",
       "      <td>57.254153</td>\n",
       "      <td>-1.000000</td>\n",
       "      <td>-1.000000</td>\n",
       "    </tr>\n",
       "    <tr>\n",
       "      <th>13226</th>\n",
       "      <td>10.726840</td>\n",
       "      <td>-1.000000</td>\n",
       "      <td>-1.000000</td>\n",
       "      <td>0.0</td>\n",
       "      <td>-1.000000</td>\n",
       "      <td>101.259302</td>\n",
       "      <td>-1.000000</td>\n",
       "      <td>-1.000000</td>\n",
       "      <td>-1.000000</td>\n",
       "      <td>1</td>\n",
       "      <td>-1.000000</td>\n",
       "      <td>-1.000000</td>\n",
       "      <td>-1.000000</td>\n",
       "      <td>-1.000000</td>\n",
       "      <td>-1.000000</td>\n",
       "      <td>-1.000000</td>\n",
       "      <td>-1.000000</td>\n",
       "      <td>-1.000000</td>\n",
       "    </tr>\n",
       "    <tr>\n",
       "      <th>16629</th>\n",
       "      <td>9.126403</td>\n",
       "      <td>353.363040</td>\n",
       "      <td>1.514899</td>\n",
       "      <td>-1.0</td>\n",
       "      <td>299.684880</td>\n",
       "      <td>91.025495</td>\n",
       "      <td>203.806921</td>\n",
       "      <td>3.691072</td>\n",
       "      <td>44.381796</td>\n",
       "      <td>0</td>\n",
       "      <td>1.518567</td>\n",
       "      <td>444.995942</td>\n",
       "      <td>-1.000000</td>\n",
       "      <td>85.974431</td>\n",
       "      <td>95.398276</td>\n",
       "      <td>58.902609</td>\n",
       "      <td>27.090162</td>\n",
       "      <td>-1.000000</td>\n",
       "    </tr>\n",
       "    <tr>\n",
       "      <th>1786</th>\n",
       "      <td>9.721776</td>\n",
       "      <td>-1.000000</td>\n",
       "      <td>3.116853</td>\n",
       "      <td>-1.0</td>\n",
       "      <td>-1.000000</td>\n",
       "      <td>91.022674</td>\n",
       "      <td>-1.000000</td>\n",
       "      <td>-1.000000</td>\n",
       "      <td>-1.000000</td>\n",
       "      <td>1</td>\n",
       "      <td>-1.000000</td>\n",
       "      <td>-1.000000</td>\n",
       "      <td>-1.000000</td>\n",
       "      <td>-1.000000</td>\n",
       "      <td>-1.000000</td>\n",
       "      <td>-1.000000</td>\n",
       "      <td>-1.000000</td>\n",
       "      <td>-1.000000</td>\n",
       "    </tr>\n",
       "  </tbody>\n",
       "</table>\n",
       "</div>"
      ],
      "text/plain": [
       "       hemoglobin    ferritin  ret_count  segmented_neutrophils        tibc  \\\n",
       "12328   10.349960   -1.000000   0.998554                   -1.0   -1.000000   \n",
       "4793     6.859704  305.139323   1.169502                    0.0  106.333555   \n",
       "13226   10.726840   -1.000000  -1.000000                    0.0   -1.000000   \n",
       "16629    9.126403  353.363040   1.514899                   -1.0  299.684880   \n",
       "1786     9.721776   -1.000000   3.116853                   -1.0   -1.000000   \n",
       "\n",
       "              mcv  serum_iron       rbc        age  gender  \\\n",
       "12328   86.411147  111.707488  4.944340  27.502990       0   \n",
       "4793    95.125054   -1.000000  5.097877  57.787603       1   \n",
       "13226  101.259302   -1.000000 -1.000000  -1.000000       1   \n",
       "16629   91.025495  203.806921  3.691072  44.381796       0   \n",
       "1786    91.022674   -1.000000 -1.000000  -1.000000       1   \n",
       "\n",
       "       indirect_bilirubin  transferrin  creatinine  cholestrol     copper  \\\n",
       "12328            0.279290   157.791243    0.728968   19.372712  51.439289   \n",
       "4793             2.908458    -1.000000   -1.000000   -1.000000  -1.000000   \n",
       "13226           -1.000000    -1.000000   -1.000000   -1.000000  -1.000000   \n",
       "16629            1.518567   444.995942   -1.000000   85.974431  95.398276   \n",
       "1786            -1.000000    -1.000000   -1.000000   -1.000000  -1.000000   \n",
       "\n",
       "         ethanol     folate    glucose  \n",
       "12328  43.598944   7.558525  64.723397  \n",
       "4793   57.254153  -1.000000  -1.000000  \n",
       "13226  -1.000000  -1.000000  -1.000000  \n",
       "16629  58.902609  27.090162  -1.000000  \n",
       "1786   -1.000000  -1.000000  -1.000000  "
      ]
     },
     "execution_count": 10,
     "metadata": {},
     "output_type": "execute_result"
    }
   ],
   "source": [
    "X_test_df.head()"
   ]
  },
  {
   "cell_type": "code",
   "execution_count": 11,
   "metadata": {},
   "outputs": [
    {
     "data": {
      "text/plain": [
       "(14000, 14000)"
      ]
     },
     "execution_count": 11,
     "metadata": {},
     "output_type": "execute_result"
    }
   ],
   "source": [
    "len(test_df), len(X_test)"
   ]
  },
  {
   "cell_type": "code",
   "execution_count": 12,
   "metadata": {},
   "outputs": [],
   "source": [
    "# test_df.to_csv('../../test_dfs/many_features/dt_test_df_0.1.csv', index=False)"
   ]
  },
  {
   "cell_type": "code",
   "execution_count": 13,
   "metadata": {},
   "outputs": [],
   "source": [
    "# test_df = pd.read_csv('../../test_dfs/many_features/dt_test_df_0.1.csv')\n",
    "# test_df.head()"
   ]
  },
  {
   "cell_type": "code",
   "execution_count": 14,
   "metadata": {},
   "outputs": [
    {
     "data": {
      "text/plain": [
       "73.21428571428571"
      ]
     },
     "execution_count": 14,
     "metadata": {},
     "output_type": "execute_result"
    }
   ],
   "source": [
    "success_rate, success_df = utils.success_rate(test_df)\n",
    "success_rate"
   ]
  },
  {
   "cell_type": "code",
   "execution_count": 15,
   "metadata": {},
   "outputs": [
    {
     "data": {
      "text/plain": [
       "(4.007571428571429, 0.4642857142857143)"
      ]
     },
     "execution_count": 15,
     "metadata": {},
     "output_type": "execute_result"
    }
   ],
   "source": [
    "avg_length, avg_return = utils.get_avg_length_reward(test_df)\n",
    "avg_length, avg_return"
   ]
  },
  {
   "cell_type": "code",
   "execution_count": 16,
   "metadata": {},
   "outputs": [
    {
     "data": {
      "text/plain": [
       "(0.7321428571428571, 0.7300745292142863, 0.8530306145287138)"
      ]
     },
     "execution_count": 16,
     "metadata": {},
     "output_type": "execute_result"
    }
   ],
   "source": [
    "acc, f1, roc_auc = utils.test(test_df['y_actual'], test_df['y_pred'])\n",
    "acc, f1, roc_auc"
   ]
  },
  {
   "cell_type": "code",
   "execution_count": 17,
   "metadata": {},
   "outputs": [
    {
     "name": "stderr",
     "output_type": "stream",
     "text": [
      "../..\\modules\\many_features\\utils.py:336: MatplotlibDeprecationWarning:\n",
      "\n",
      "\n",
      "The tick1On function was deprecated in Matplotlib 3.1 and will be removed in 3.3. Use Tick.tick1line.set_visible instead.\n",
      "\n",
      "../..\\modules\\many_features\\utils.py:337: MatplotlibDeprecationWarning:\n",
      "\n",
      "\n",
      "The tick2On function was deprecated in Matplotlib 3.1 and will be removed in 3.3. Use Tick.tick2line.set_visible instead.\n",
      "\n",
      "../..\\modules\\many_features\\utils.py:339: MatplotlibDeprecationWarning:\n",
      "\n",
      "\n",
      "The tick1On function was deprecated in Matplotlib 3.1 and will be removed in 3.3. Use Tick.tick1line.set_visible instead.\n",
      "\n",
      "../..\\modules\\many_features\\utils.py:340: MatplotlibDeprecationWarning:\n",
      "\n",
      "\n",
      "The tick2On function was deprecated in Matplotlib 3.1 and will be removed in 3.3. Use Tick.tick2line.set_visible instead.\n",
      "\n"
     ]
    },
    {
     "data": {
      "image/png": "[encoded data removed]",
      "text/plain": [
       "<Figure size 708.661x425.197 with 2 Axes>"
      ]
     },
     "metadata": {
      "needs_background": "light"
     },
     "output_type": "display_data"
    }
   ],
   "source": [
    "utils.plot_classification_report(test_df['y_actual'], test_df['y_pred'])"
   ]
  },
  {
   "cell_type": "code",
   "execution_count": 18,
   "metadata": {},
   "outputs": [
    {
     "data": {
      "image/png": "[encoded data removed]",
      "text/plain": [
       "<Figure size 720x576 with 2 Axes>"
      ]
     },
     "metadata": {
      "needs_background": "light"
     },
     "output_type": "display_data"
    }
   ],
   "source": [
    "utils.plot_confusion_matrix(test_df['y_actual'], test_df['y_pred'])"
   ]
  },
  {
   "cell_type": "code",
   "execution_count": null,
   "metadata": {},
   "outputs": [],
   "source": []
  }
 ],
 "metadata": {
  "kernelspec": {
   "display_name": "Python 3",
   "language": "python",
   "name": "python3"
  },
  "language_info": {
   "codemirror_mode": {
    "name": "ipython",
    "version": 3
   },
   "file_extension": ".py",
   "mimetype": "text/x-python",
   "name": "python",
   "nbconvert_exporter": "python",
   "pygments_lexer": "ipython3",
   "version": "3.7.4"
  }
 },
 "nbformat": 4,
 "nbformat_minor": 2
}

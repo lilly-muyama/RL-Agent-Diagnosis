{
 "cells": [
  {
   "cell_type": "code",
   "execution_count": 1,
   "metadata": {},
   "outputs": [
    {
     "name": "stderr",
     "output_type": "stream",
     "text": [
      "C:\\Users\\User\\Anaconda3\\lib\\site-packages\\statsmodels\\tools\\_testing.py:19: FutureWarning: pandas.util.testing is deprecated. Use the functions in the public API at pandas.testing instead.\n",
      "  import pandas.util.testing as tm\n"
     ]
    }
   ],
   "source": [
    "import pandas as pd\n",
    "import numpy as np\n",
    "import sys\n",
    "sys.path.append('../..')\n",
    "from modules.many_features import utils, constants, env\n",
    "from modules.many_features.dt_agent import DTAgent\n",
    "from sklearn.model_selection import train_test_split"
   ]
  },
  {
   "cell_type": "code",
   "execution_count": 2,
   "metadata": {},
   "outputs": [],
   "source": [
    "SEED = 42\n",
    "np.random.seed(SEED)"
   ]
  },
  {
   "cell_type": "markdown",
   "metadata": {},
   "source": [
    "#### The data"
   ]
  },
  {
   "cell_type": "code",
   "execution_count": 3,
   "metadata": {},
   "outputs": [
    {
     "data": {
      "text/html": [
       "<div>\n",
       "<style scoped>\n",
       "    .dataframe tbody tr th:only-of-type {\n",
       "        vertical-align: middle;\n",
       "    }\n",
       "\n",
       "    .dataframe tbody tr th {\n",
       "        vertical-align: top;\n",
       "    }\n",
       "\n",
       "    .dataframe thead th {\n",
       "        text-align: right;\n",
       "    }\n",
       "</style>\n",
       "<table border=\"1\" class=\"dataframe\">\n",
       "  <thead>\n",
       "    <tr style=\"text-align: right;\">\n",
       "      <th></th>\n",
       "      <th>hemoglobin</th>\n",
       "      <th>ferritin</th>\n",
       "      <th>ret_count</th>\n",
       "      <th>segmented_neutrophils</th>\n",
       "      <th>tibc</th>\n",
       "      <th>mcv</th>\n",
       "      <th>serum_iron</th>\n",
       "      <th>rbc</th>\n",
       "      <th>gender</th>\n",
       "      <th>creatinine</th>\n",
       "      <th>cholestrol</th>\n",
       "      <th>copper</th>\n",
       "      <th>ethanol</th>\n",
       "      <th>folate</th>\n",
       "      <th>glucose</th>\n",
       "      <th>hematocrit</th>\n",
       "      <th>tsat</th>\n",
       "      <th>label</th>\n",
       "    </tr>\n",
       "  </thead>\n",
       "  <tbody>\n",
       "    <tr>\n",
       "      <th>0</th>\n",
       "      <td>11.317680</td>\n",
       "      <td>-1.000000</td>\n",
       "      <td>2.088832</td>\n",
       "      <td>-1.000000</td>\n",
       "      <td>-1.000000</td>\n",
       "      <td>90.986272</td>\n",
       "      <td>113.064122</td>\n",
       "      <td>3.731666</td>\n",
       "      <td>1</td>\n",
       "      <td>1.276701</td>\n",
       "      <td>81.145964</td>\n",
       "      <td>78.146183</td>\n",
       "      <td>29.513433</td>\n",
       "      <td>26.029977</td>\n",
       "      <td>105.808765</td>\n",
       "      <td>33.953040</td>\n",
       "      <td>-1.000000</td>\n",
       "      <td>Aplastic anemia</td>\n",
       "    </tr>\n",
       "    <tr>\n",
       "      <th>1</th>\n",
       "      <td>10.109186</td>\n",
       "      <td>-1.000000</td>\n",
       "      <td>-1.000000</td>\n",
       "      <td>-1.000000</td>\n",
       "      <td>-1.000000</td>\n",
       "      <td>104.941225</td>\n",
       "      <td>107.239455</td>\n",
       "      <td>2.889957</td>\n",
       "      <td>0</td>\n",
       "      <td>1.191488</td>\n",
       "      <td>86.444945</td>\n",
       "      <td>103.728730</td>\n",
       "      <td>32.453257</td>\n",
       "      <td>20.009164</td>\n",
       "      <td>90.105559</td>\n",
       "      <td>30.327558</td>\n",
       "      <td>-1.000000</td>\n",
       "      <td>Unspecified anemia</td>\n",
       "    </tr>\n",
       "    <tr>\n",
       "      <th>2</th>\n",
       "      <td>6.289434</td>\n",
       "      <td>-1.000000</td>\n",
       "      <td>4.156000</td>\n",
       "      <td>-1.000000</td>\n",
       "      <td>-1.000000</td>\n",
       "      <td>86.013564</td>\n",
       "      <td>-1.000000</td>\n",
       "      <td>2.193642</td>\n",
       "      <td>1</td>\n",
       "      <td>-1.000000</td>\n",
       "      <td>-1.000000</td>\n",
       "      <td>-1.000000</td>\n",
       "      <td>-1.000000</td>\n",
       "      <td>-1.000000</td>\n",
       "      <td>-1.000000</td>\n",
       "      <td>18.868301</td>\n",
       "      <td>-1.000000</td>\n",
       "      <td>Hemolytic anemia</td>\n",
       "    </tr>\n",
       "    <tr>\n",
       "      <th>3</th>\n",
       "      <td>7.077683</td>\n",
       "      <td>97.195746</td>\n",
       "      <td>0.261727</td>\n",
       "      <td>0.142422</td>\n",
       "      <td>263.478460</td>\n",
       "      <td>94.058079</td>\n",
       "      <td>102.335651</td>\n",
       "      <td>2.257440</td>\n",
       "      <td>1</td>\n",
       "      <td>-1.000000</td>\n",
       "      <td>114.702341</td>\n",
       "      <td>64.345736</td>\n",
       "      <td>20.102258</td>\n",
       "      <td>3.865156</td>\n",
       "      <td>-1.000000</td>\n",
       "      <td>21.233048</td>\n",
       "      <td>38.840234</td>\n",
       "      <td>No anemia</td>\n",
       "    </tr>\n",
       "    <tr>\n",
       "      <th>4</th>\n",
       "      <td>9.717874</td>\n",
       "      <td>101.889169</td>\n",
       "      <td>-1.000000</td>\n",
       "      <td>3.937127</td>\n",
       "      <td>475.993105</td>\n",
       "      <td>78.258930</td>\n",
       "      <td>-1.000000</td>\n",
       "      <td>3.725277</td>\n",
       "      <td>0</td>\n",
       "      <td>1.367858</td>\n",
       "      <td>-1.000000</td>\n",
       "      <td>-1.000000</td>\n",
       "      <td>38.308559</td>\n",
       "      <td>-1.000000</td>\n",
       "      <td>-1.000000</td>\n",
       "      <td>29.153622</td>\n",
       "      <td>-1.000000</td>\n",
       "      <td>No anemia</td>\n",
       "    </tr>\n",
       "  </tbody>\n",
       "</table>\n",
       "</div>"
      ],
      "text/plain": [
       "   hemoglobin    ferritin  ret_count  segmented_neutrophils        tibc  \\\n",
       "0   11.317680   -1.000000   2.088832              -1.000000   -1.000000   \n",
       "1   10.109186   -1.000000  -1.000000              -1.000000   -1.000000   \n",
       "2    6.289434   -1.000000   4.156000              -1.000000   -1.000000   \n",
       "3    7.077683   97.195746   0.261727               0.142422  263.478460   \n",
       "4    9.717874  101.889169  -1.000000               3.937127  475.993105   \n",
       "\n",
       "          mcv  serum_iron       rbc  gender  creatinine  cholestrol  \\\n",
       "0   90.986272  113.064122  3.731666       1    1.276701   81.145964   \n",
       "1  104.941225  107.239455  2.889957       0    1.191488   86.444945   \n",
       "2   86.013564   -1.000000  2.193642       1   -1.000000   -1.000000   \n",
       "3   94.058079  102.335651  2.257440       1   -1.000000  114.702341   \n",
       "4   78.258930   -1.000000  3.725277       0    1.367858   -1.000000   \n",
       "\n",
       "       copper    ethanol     folate     glucose  hematocrit       tsat  \\\n",
       "0   78.146183  29.513433  26.029977  105.808765   33.953040  -1.000000   \n",
       "1  103.728730  32.453257  20.009164   90.105559   30.327558  -1.000000   \n",
       "2   -1.000000  -1.000000  -1.000000   -1.000000   18.868301  -1.000000   \n",
       "3   64.345736  20.102258   3.865156   -1.000000   21.233048  38.840234   \n",
       "4   -1.000000  38.308559  -1.000000   -1.000000   29.153622  -1.000000   \n",
       "\n",
       "                label  \n",
       "0     Aplastic anemia  \n",
       "1  Unspecified anemia  \n",
       "2    Hemolytic anemia  \n",
       "3           No anemia  \n",
       "4           No anemia  "
      ]
     },
     "execution_count": 3,
     "metadata": {},
     "output_type": "execute_result"
    }
   ],
   "source": [
    "#df = pd.read_csv('../../data/anemia_synth_dataset_some_nans_unspecified_more_feats.csv')\n",
    "#df= pd.read_csv('../../data/more_features/more_feats_new_labels_0.1.csv')\n",
    "df = pd.read_csv('../../data/more_features/more_feats_correlated_noisy_8.csv')\n",
    "df = df.fillna(-1)\n",
    "df.head()"
   ]
  },
  {
   "cell_type": "code",
   "execution_count": 4,
   "metadata": {},
   "outputs": [
    {
     "data": {
      "text/plain": [
       "(0.6207142857142857,\n",
       " 0.6122228660331646,\n",
       " 0.7775530397555184,\n",
       " datetime.timedelta(microseconds=5024))"
      ]
     },
     "execution_count": 4,
     "metadata": {},
     "output_type": "execute_result"
    }
   ],
   "source": [
    "utils.get_dt_performance(df)"
   ]
  },
  {
   "cell_type": "code",
   "execution_count": 5,
   "metadata": {},
   "outputs": [
    {
     "data": {
      "text/plain": [
       "((56000, 17), (14000, 17), (56000,), (14000,))"
      ]
     },
     "execution_count": 5,
     "metadata": {},
     "output_type": "execute_result"
    }
   ],
   "source": [
    "class_dict = constants.CLASS_DICT\n",
    "df['label'] = df['label'].replace(class_dict)\n",
    "X = df.iloc[:, 0:-1]\n",
    "y = df.iloc[:, -1]\n",
    "X_train_df, X_test_df, y_train_df, y_test_df = train_test_split(X, y, test_size=0.2, stratify=y, random_state=SEED)\n",
    "X_train, y_train = np.array(X_train_df), np.array(y_train_df)\n",
    "X_test, y_test = np.array(X_test_df), np.array(y_test_df)\n",
    "X_train.shape, X_test.shape, y_train.shape, y_test.shape"
   ]
  },
  {
   "cell_type": "code",
   "execution_count": 6,
   "metadata": {},
   "outputs": [
    {
     "data": {
      "text/plain": [
       "array([4, 4, 5, 7, 5], dtype=int64)"
      ]
     },
     "execution_count": 6,
     "metadata": {},
     "output_type": "execute_result"
    }
   ],
   "source": [
    "y_test[:5]"
   ]
  },
  {
   "cell_type": "markdown",
   "metadata": {},
   "source": [
    "#### The DT agent"
   ]
  },
  {
   "cell_type": "code",
   "execution_count": 7,
   "metadata": {},
   "outputs": [
    {
     "name": "stdout",
     "output_type": "stream",
     "text": [
      "Testing done.....\n",
      "Wall time: 3min 28s\n"
     ]
    },
    {
     "data": {
      "text/html": [
       "<div>\n",
       "<style scoped>\n",
       "    .dataframe tbody tr th:only-of-type {\n",
       "        vertical-align: middle;\n",
       "    }\n",
       "\n",
       "    .dataframe tbody tr th {\n",
       "        vertical-align: top;\n",
       "    }\n",
       "\n",
       "    .dataframe thead th {\n",
       "        text-align: right;\n",
       "    }\n",
       "</style>\n",
       "<table border=\"1\" class=\"dataframe\">\n",
       "  <thead>\n",
       "    <tr style=\"text-align: right;\">\n",
       "      <th></th>\n",
       "      <th>episode_length</th>\n",
       "      <th>index</th>\n",
       "      <th>is_success</th>\n",
       "      <th>reward</th>\n",
       "      <th>terminated</th>\n",
       "      <th>trajectory</th>\n",
       "      <th>y_actual</th>\n",
       "      <th>y_pred</th>\n",
       "    </tr>\n",
       "  </thead>\n",
       "  <tbody>\n",
       "    <tr>\n",
       "      <th>0</th>\n",
       "      <td>5.0</td>\n",
       "      <td>0.0</td>\n",
       "      <td>1.0</td>\n",
       "      <td>1.0</td>\n",
       "      <td>0.0</td>\n",
       "      <td>[hemoglobin, mcv, ferritin, tibc, Iron deficie...</td>\n",
       "      <td>4.0</td>\n",
       "      <td>4.0</td>\n",
       "    </tr>\n",
       "    <tr>\n",
       "      <th>1</th>\n",
       "      <td>5.0</td>\n",
       "      <td>1.0</td>\n",
       "      <td>1.0</td>\n",
       "      <td>1.0</td>\n",
       "      <td>0.0</td>\n",
       "      <td>[hemoglobin, mcv, ferritin, tibc, Iron deficie...</td>\n",
       "      <td>4.0</td>\n",
       "      <td>4.0</td>\n",
       "    </tr>\n",
       "    <tr>\n",
       "      <th>2</th>\n",
       "      <td>5.0</td>\n",
       "      <td>2.0</td>\n",
       "      <td>1.0</td>\n",
       "      <td>1.0</td>\n",
       "      <td>0.0</td>\n",
       "      <td>[hemoglobin, gender, mcv, ret_count, Hemolytic...</td>\n",
       "      <td>5.0</td>\n",
       "      <td>5.0</td>\n",
       "    </tr>\n",
       "    <tr>\n",
       "      <th>3</th>\n",
       "      <td>4.0</td>\n",
       "      <td>3.0</td>\n",
       "      <td>1.0</td>\n",
       "      <td>1.0</td>\n",
       "      <td>0.0</td>\n",
       "      <td>[hemoglobin, mcv, ret_count, Inconclusive diag...</td>\n",
       "      <td>7.0</td>\n",
       "      <td>7.0</td>\n",
       "    </tr>\n",
       "    <tr>\n",
       "      <th>4</th>\n",
       "      <td>4.0</td>\n",
       "      <td>4.0</td>\n",
       "      <td>1.0</td>\n",
       "      <td>1.0</td>\n",
       "      <td>0.0</td>\n",
       "      <td>[hemoglobin, mcv, ret_count, Hemolytic anemia]</td>\n",
       "      <td>5.0</td>\n",
       "      <td>5.0</td>\n",
       "    </tr>\n",
       "  </tbody>\n",
       "</table>\n",
       "</div>"
      ],
      "text/plain": [
       "   episode_length  index  is_success  reward  terminated  \\\n",
       "0             5.0    0.0         1.0     1.0         0.0   \n",
       "1             5.0    1.0         1.0     1.0         0.0   \n",
       "2             5.0    2.0         1.0     1.0         0.0   \n",
       "3             4.0    3.0         1.0     1.0         0.0   \n",
       "4             4.0    4.0         1.0     1.0         0.0   \n",
       "\n",
       "                                          trajectory  y_actual  y_pred  \n",
       "0  [hemoglobin, mcv, ferritin, tibc, Iron deficie...       4.0     4.0  \n",
       "1  [hemoglobin, mcv, ferritin, tibc, Iron deficie...       4.0     4.0  \n",
       "2  [hemoglobin, gender, mcv, ret_count, Hemolytic...       5.0     5.0  \n",
       "3  [hemoglobin, mcv, ret_count, Inconclusive diag...       7.0     7.0  \n",
       "4     [hemoglobin, mcv, ret_count, Hemolytic anemia]       5.0     5.0  "
      ]
     },
     "execution_count": 7,
     "metadata": {},
     "output_type": "execute_result"
    }
   ],
   "source": [
    "%%time\n",
    "dt_agent = DTAgent(X_test, y_test)\n",
    "test_df = dt_agent.test()\n",
    "test_df.head()"
   ]
  },
  {
   "cell_type": "code",
   "execution_count": 8,
   "metadata": {},
   "outputs": [],
   "source": [
    "# %%time\n",
    "# dt_agent.test_sample(2)"
   ]
  },
  {
   "cell_type": "code",
   "execution_count": 9,
   "metadata": {},
   "outputs": [],
   "source": [
    "# from datetime import datetime\n",
    "# start = datetime.now()\n",
    "# dt_agent.test_sample(2)\n",
    "# end = datetime.now()\n",
    "# duration = end-start\n",
    "# duration"
   ]
  },
  {
   "cell_type": "code",
   "execution_count": 10,
   "metadata": {},
   "outputs": [],
   "source": [
    "# X_test_df.head()"
   ]
  },
  {
   "cell_type": "code",
   "execution_count": 11,
   "metadata": {},
   "outputs": [
    {
     "data": {
      "text/plain": [
       "(14000, 14000)"
      ]
     },
     "execution_count": 11,
     "metadata": {},
     "output_type": "execute_result"
    }
   ],
   "source": [
    "len(test_df), len(X_test)"
   ]
  },
  {
   "cell_type": "code",
   "execution_count": 12,
   "metadata": {},
   "outputs": [],
   "source": [
    "test_df.to_csv('../../test_dfs/many_features/0.1/correlated/dt_test_df_corr_noisy_8.csv', index=False)"
   ]
  },
  {
   "cell_type": "code",
   "execution_count": 13,
   "metadata": {},
   "outputs": [],
   "source": [
    "# test_df = pd.read_csv('../../test_dfs/many_features/dt_test_df_0.1.csv')\n",
    "# test_df.head()"
   ]
  },
  {
   "cell_type": "code",
   "execution_count": 14,
   "metadata": {},
   "outputs": [
    {
     "data": {
      "text/plain": [
       "62.76428571428572"
      ]
     },
     "execution_count": 14,
     "metadata": {},
     "output_type": "execute_result"
    }
   ],
   "source": [
    "success_rate, success_df = utils.success_rate(test_df)\n",
    "success_rate"
   ]
  },
  {
   "cell_type": "code",
   "execution_count": 15,
   "metadata": {},
   "outputs": [
    {
     "data": {
      "text/plain": [
       "(4.013, 0.2552857142857143)"
      ]
     },
     "execution_count": 15,
     "metadata": {},
     "output_type": "execute_result"
    }
   ],
   "source": [
    "avg_length, avg_return = utils.get_avg_length_reward(test_df)\n",
    "avg_length, avg_return"
   ]
  },
  {
   "cell_type": "code",
   "execution_count": 16,
   "metadata": {},
   "outputs": [
    {
     "data": {
      "text/plain": [
       "(0.6276428571428572, 0.6199216163840183, 0.7994301659335363)"
      ]
     },
     "execution_count": 16,
     "metadata": {},
     "output_type": "execute_result"
    }
   ],
   "source": [
    "acc, f1, roc_auc = utils.test(test_df['y_actual'], test_df['y_pred'])\n",
    "acc, f1, roc_auc"
   ]
  },
  {
   "cell_type": "code",
   "execution_count": null,
   "metadata": {},
   "outputs": [],
   "source": [
    "# utils.plot_classification_report(test_df['y_actual'], test_df['y_pred'])"
   ]
  },
  {
   "cell_type": "code",
   "execution_count": null,
   "metadata": {},
   "outputs": [],
   "source": [
    "# utils.plot_confusion_matrix(test_df['y_actual'], test_df['y_pred'])"
   ]
  },
  {
   "cell_type": "code",
   "execution_count": null,
   "metadata": {},
   "outputs": [],
   "source": []
  }
 ],
 "metadata": {
  "kernelspec": {
   "display_name": "Python 3",
   "language": "python",
   "name": "python3"
  },
  "language_info": {
   "codemirror_mode": {
    "name": "ipython",
    "version": 3
   },
   "file_extension": ".py",
   "mimetype": "text/x-python",
   "name": "python",
   "nbconvert_exporter": "python",
   "pygments_lexer": "ipython3",
   "version": "3.7.4"
  }
 },
 "nbformat": 4,
 "nbformat_minor": 2
}

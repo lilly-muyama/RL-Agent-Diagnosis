{
 "cells": [
  {
   "cell_type": "code",
   "execution_count": 2,
   "metadata": {},
   "outputs": [],
   "source": [
    "import pandas as pd\n",
    "import numpy as np\n",
    "import random\n",
    "import os\n",
    "import sys\n",
    "sys.path.append('../..')\n",
    "from modules.many_features import utils, constants, env\n",
    "from modules.many_features.random_agent import RandomAgent\n",
    "from sklearn.model_selection import train_test_split\n",
    "import matplotlib.pyplot as plt\n",
    "%matplotlib inline"
   ]
  },
  {
   "cell_type": "code",
   "execution_count": 3,
   "metadata": {},
   "outputs": [],
   "source": [
    "SEED = 42\n",
    "random.seed(SEED)\n",
    "np.random.seed(SEED)"
   ]
  },
  {
   "cell_type": "code",
   "execution_count": 4,
   "metadata": {},
   "outputs": [
    {
     "data": {
      "text/html": [
       "<div>\n",
       "<style scoped>\n",
       "    .dataframe tbody tr th:only-of-type {\n",
       "        vertical-align: middle;\n",
       "    }\n",
       "\n",
       "    .dataframe tbody tr th {\n",
       "        vertical-align: top;\n",
       "    }\n",
       "\n",
       "    .dataframe thead th {\n",
       "        text-align: right;\n",
       "    }\n",
       "</style>\n",
       "<table border=\"1\" class=\"dataframe\">\n",
       "  <thead>\n",
       "    <tr style=\"text-align: right;\">\n",
       "      <th></th>\n",
       "      <th>hemoglobin</th>\n",
       "      <th>ferritin</th>\n",
       "      <th>ret_count</th>\n",
       "      <th>segmented_neutrophils</th>\n",
       "      <th>tibc</th>\n",
       "      <th>mcv</th>\n",
       "      <th>serum_iron</th>\n",
       "      <th>rbc</th>\n",
       "      <th>gender</th>\n",
       "      <th>creatinine</th>\n",
       "      <th>cholestrol</th>\n",
       "      <th>copper</th>\n",
       "      <th>ethanol</th>\n",
       "      <th>folate</th>\n",
       "      <th>glucose</th>\n",
       "      <th>hematocrit</th>\n",
       "      <th>tsat</th>\n",
       "      <th>label</th>\n",
       "    </tr>\n",
       "  </thead>\n",
       "  <tbody>\n",
       "    <tr>\n",
       "      <th>0</th>\n",
       "      <td>6.863691</td>\n",
       "      <td>341.823457</td>\n",
       "      <td>-1.000000</td>\n",
       "      <td>0.681783</td>\n",
       "      <td>284.835163</td>\n",
       "      <td>92.819484</td>\n",
       "      <td>-1.000000</td>\n",
       "      <td>2.218400</td>\n",
       "      <td>1</td>\n",
       "      <td>-1.000000</td>\n",
       "      <td>-1.000000</td>\n",
       "      <td>-1.000000</td>\n",
       "      <td>-1.000000</td>\n",
       "      <td>-1.000000</td>\n",
       "      <td>-1.0</td>\n",
       "      <td>20.591074</td>\n",
       "      <td>-1.000000</td>\n",
       "      <td>Inconclusive diagnosis</td>\n",
       "    </tr>\n",
       "    <tr>\n",
       "      <th>1</th>\n",
       "      <td>8.745950</td>\n",
       "      <td>104.470248</td>\n",
       "      <td>0.461482</td>\n",
       "      <td>0.787183</td>\n",
       "      <td>409.993509</td>\n",
       "      <td>104.531457</td>\n",
       "      <td>77.222298</td>\n",
       "      <td>2.510043</td>\n",
       "      <td>1</td>\n",
       "      <td>0.713849</td>\n",
       "      <td>-1.000000</td>\n",
       "      <td>51.527756</td>\n",
       "      <td>7.722555</td>\n",
       "      <td>7.822857</td>\n",
       "      <td>-1.0</td>\n",
       "      <td>26.237850</td>\n",
       "      <td>18.835005</td>\n",
       "      <td>Vitamin B12/Folate deficiency anemia</td>\n",
       "    </tr>\n",
       "    <tr>\n",
       "      <th>2</th>\n",
       "      <td>10.308881</td>\n",
       "      <td>475.936322</td>\n",
       "      <td>-1.000000</td>\n",
       "      <td>6.155778</td>\n",
       "      <td>-1.000000</td>\n",
       "      <td>104.647240</td>\n",
       "      <td>95.040788</td>\n",
       "      <td>2.955323</td>\n",
       "      <td>1</td>\n",
       "      <td>-1.000000</td>\n",
       "      <td>18.285577</td>\n",
       "      <td>100.169515</td>\n",
       "      <td>54.471371</td>\n",
       "      <td>11.239513</td>\n",
       "      <td>-1.0</td>\n",
       "      <td>30.926642</td>\n",
       "      <td>-1.000000</td>\n",
       "      <td>Vitamin B12/Folate deficiency anemia</td>\n",
       "    </tr>\n",
       "    <tr>\n",
       "      <th>3</th>\n",
       "      <td>7.525442</td>\n",
       "      <td>-1.000000</td>\n",
       "      <td>1.972946</td>\n",
       "      <td>2.172161</td>\n",
       "      <td>-1.000000</td>\n",
       "      <td>97.271565</td>\n",
       "      <td>-1.000000</td>\n",
       "      <td>2.320958</td>\n",
       "      <td>0</td>\n",
       "      <td>-1.000000</td>\n",
       "      <td>-1.000000</td>\n",
       "      <td>-1.000000</td>\n",
       "      <td>-1.000000</td>\n",
       "      <td>-1.000000</td>\n",
       "      <td>-1.0</td>\n",
       "      <td>22.576325</td>\n",
       "      <td>-1.000000</td>\n",
       "      <td>No anemia</td>\n",
       "    </tr>\n",
       "    <tr>\n",
       "      <th>4</th>\n",
       "      <td>9.544870</td>\n",
       "      <td>411.496642</td>\n",
       "      <td>0.891182</td>\n",
       "      <td>0.000000</td>\n",
       "      <td>236.428214</td>\n",
       "      <td>104.721025</td>\n",
       "      <td>-1.000000</td>\n",
       "      <td>2.734371</td>\n",
       "      <td>1</td>\n",
       "      <td>-1.000000</td>\n",
       "      <td>-1.000000</td>\n",
       "      <td>-1.000000</td>\n",
       "      <td>-1.000000</td>\n",
       "      <td>-1.000000</td>\n",
       "      <td>-1.0</td>\n",
       "      <td>28.634611</td>\n",
       "      <td>-1.000000</td>\n",
       "      <td>Unspecified anemia</td>\n",
       "    </tr>\n",
       "  </tbody>\n",
       "</table>\n",
       "</div>"
      ],
      "text/plain": [
       "   hemoglobin    ferritin  ret_count  segmented_neutrophils        tibc  \\\n",
       "0    6.863691  341.823457  -1.000000               0.681783  284.835163   \n",
       "1    8.745950  104.470248   0.461482               0.787183  409.993509   \n",
       "2   10.308881  475.936322  -1.000000               6.155778   -1.000000   \n",
       "3    7.525442   -1.000000   1.972946               2.172161   -1.000000   \n",
       "4    9.544870  411.496642   0.891182               0.000000  236.428214   \n",
       "\n",
       "          mcv  serum_iron       rbc  gender  creatinine  cholestrol  \\\n",
       "0   92.819484   -1.000000  2.218400       1   -1.000000   -1.000000   \n",
       "1  104.531457   77.222298  2.510043       1    0.713849   -1.000000   \n",
       "2  104.647240   95.040788  2.955323       1   -1.000000   18.285577   \n",
       "3   97.271565   -1.000000  2.320958       0   -1.000000   -1.000000   \n",
       "4  104.721025   -1.000000  2.734371       1   -1.000000   -1.000000   \n",
       "\n",
       "       copper    ethanol     folate  glucose  hematocrit       tsat  \\\n",
       "0   -1.000000  -1.000000  -1.000000     -1.0   20.591074  -1.000000   \n",
       "1   51.527756   7.722555   7.822857     -1.0   26.237850  18.835005   \n",
       "2  100.169515  54.471371  11.239513     -1.0   30.926642  -1.000000   \n",
       "3   -1.000000  -1.000000  -1.000000     -1.0   22.576325  -1.000000   \n",
       "4   -1.000000  -1.000000  -1.000000     -1.0   28.634611  -1.000000   \n",
       "\n",
       "                                  label  \n",
       "0                Inconclusive diagnosis  \n",
       "1  Vitamin B12/Folate deficiency anemia  \n",
       "2  Vitamin B12/Folate deficiency anemia  \n",
       "3                             No anemia  \n",
       "4                    Unspecified anemia  "
      ]
     },
     "execution_count": 4,
     "metadata": {},
     "output_type": "execute_result"
    }
   ],
   "source": [
    "#df = pd.read_csv('../../data/anemia_synth_dataset_some_nans_unspecified_more_feats.csv')\n",
    "#df = pd.read_csv('../../data/more_features/more_feats_new_labels_0.1.csv')\n",
    "df = pd.read_csv('../../data/more_features/more_feats_correlated_noisy_2_missing_05.csv')\n",
    "df = df.fillna(-1)\n",
    "df.head()"
   ]
  },
  {
   "cell_type": "code",
   "execution_count": 5,
   "metadata": {},
   "outputs": [
    {
     "name": "stderr",
     "output_type": "stream",
     "text": [
      "C:\\Users\\User\\Anaconda3\\lib\\site-packages\\sklearn\\utils\\__init__.py:806: DeprecationWarning:\n",
      "\n",
      "`np.int` is a deprecated alias for the builtin `int`. To silence this warning, use `int` by itself. Doing this will not modify any behavior and is safe. When replacing `np.int`, you may wish to use e.g. `np.int64` or `np.int32` to specify the precision. If you wish to review your current use, check the release note link for additional information.\n",
      "Deprecated in NumPy 1.20; for more details and guidance: https://numpy.org/devdocs/release/1.20.0-notes.html#deprecations\n",
      "\n",
      "C:\\Users\\User\\Anaconda3\\lib\\site-packages\\sklearn\\utils\\__init__.py:806: DeprecationWarning:\n",
      "\n",
      "`np.int` is a deprecated alias for the builtin `int`. To silence this warning, use `int` by itself. Doing this will not modify any behavior and is safe. When replacing `np.int`, you may wish to use e.g. `np.int64` or `np.int32` to specify the precision. If you wish to review your current use, check the release note link for additional information.\n",
      "Deprecated in NumPy 1.20; for more details and guidance: https://numpy.org/devdocs/release/1.20.0-notes.html#deprecations\n",
      "\n"
     ]
    },
    {
     "data": {
      "text/plain": [
       "((56000, 17), (14000, 17), (56000,), (14000,))"
      ]
     },
     "execution_count": 5,
     "metadata": {},
     "output_type": "execute_result"
    }
   ],
   "source": [
    "class_dict = constants.CLASS_DICT\n",
    "df['label'] = df['label'].replace(class_dict)\n",
    "X = df.iloc[:, 0:-1]\n",
    "y = df.iloc[:, -1]\n",
    "X_train, X_test, y_train, y_test = train_test_split(X, y, test_size=0.2, stratify=y, random_state=SEED)\n",
    "X_train, y_train = np.array(X_train), np.array(y_train)\n",
    "X_test, y_test = np.array(X_test), np.array(y_test)\n",
    "X_train.shape, X_test.shape, y_train.shape, y_test.shape"
   ]
  },
  {
   "cell_type": "markdown",
   "metadata": {},
   "source": [
    "#### The Random Agent"
   ]
  },
  {
   "cell_type": "code",
   "execution_count": 6,
   "metadata": {},
   "outputs": [
    {
     "name": "stdout",
     "output_type": "stream",
     "text": [
      "Testing done.....\n",
      "Wall time: 2min 53s\n"
     ]
    },
    {
     "data": {
      "text/html": [
       "<div>\n",
       "<style scoped>\n",
       "    .dataframe tbody tr th:only-of-type {\n",
       "        vertical-align: middle;\n",
       "    }\n",
       "\n",
       "    .dataframe tbody tr th {\n",
       "        vertical-align: top;\n",
       "    }\n",
       "\n",
       "    .dataframe thead th {\n",
       "        text-align: right;\n",
       "    }\n",
       "</style>\n",
       "<table border=\"1\" class=\"dataframe\">\n",
       "  <thead>\n",
       "    <tr style=\"text-align: right;\">\n",
       "      <th></th>\n",
       "      <th>episode_length</th>\n",
       "      <th>index</th>\n",
       "      <th>is_success</th>\n",
       "      <th>reward</th>\n",
       "      <th>terminated</th>\n",
       "      <th>trajectory</th>\n",
       "      <th>y_actual</th>\n",
       "      <th>y_pred</th>\n",
       "    </tr>\n",
       "  </thead>\n",
       "  <tbody>\n",
       "    <tr>\n",
       "      <th>0</th>\n",
       "      <td>2.0</td>\n",
       "      <td>0.0</td>\n",
       "      <td>0.0</td>\n",
       "      <td>-1.0</td>\n",
       "      <td>0.0</td>\n",
       "      <td>[ret_count, Vitamin B12/Folate deficiency anemia]</td>\n",
       "      <td>4.0</td>\n",
       "      <td>1.0</td>\n",
       "    </tr>\n",
       "    <tr>\n",
       "      <th>1</th>\n",
       "      <td>1.0</td>\n",
       "      <td>1.0</td>\n",
       "      <td>0.0</td>\n",
       "      <td>-1.0</td>\n",
       "      <td>0.0</td>\n",
       "      <td>[No anemia]</td>\n",
       "      <td>3.0</td>\n",
       "      <td>0.0</td>\n",
       "    </tr>\n",
       "    <tr>\n",
       "      <th>2</th>\n",
       "      <td>2.0</td>\n",
       "      <td>2.0</td>\n",
       "      <td>0.0</td>\n",
       "      <td>-1.0</td>\n",
       "      <td>0.0</td>\n",
       "      <td>[segmented_neutrophils, Iron deficiency anemia]</td>\n",
       "      <td>3.0</td>\n",
       "      <td>4.0</td>\n",
       "    </tr>\n",
       "    <tr>\n",
       "      <th>3</th>\n",
       "      <td>1.0</td>\n",
       "      <td>3.0</td>\n",
       "      <td>0.0</td>\n",
       "      <td>-1.0</td>\n",
       "      <td>0.0</td>\n",
       "      <td>[Anemia of chronic disease]</td>\n",
       "      <td>4.0</td>\n",
       "      <td>3.0</td>\n",
       "    </tr>\n",
       "    <tr>\n",
       "      <th>4</th>\n",
       "      <td>1.0</td>\n",
       "      <td>4.0</td>\n",
       "      <td>0.0</td>\n",
       "      <td>-1.0</td>\n",
       "      <td>0.0</td>\n",
       "      <td>[Anemia of chronic disease]</td>\n",
       "      <td>2.0</td>\n",
       "      <td>3.0</td>\n",
       "    </tr>\n",
       "  </tbody>\n",
       "</table>\n",
       "</div>"
      ],
      "text/plain": [
       "   episode_length  index  is_success  reward  terminated  \\\n",
       "0             2.0    0.0         0.0    -1.0         0.0   \n",
       "1             1.0    1.0         0.0    -1.0         0.0   \n",
       "2             2.0    2.0         0.0    -1.0         0.0   \n",
       "3             1.0    3.0         0.0    -1.0         0.0   \n",
       "4             1.0    4.0         0.0    -1.0         0.0   \n",
       "\n",
       "                                          trajectory  y_actual  y_pred  \n",
       "0  [ret_count, Vitamin B12/Folate deficiency anemia]       4.0     1.0  \n",
       "1                                        [No anemia]       3.0     0.0  \n",
       "2    [segmented_neutrophils, Iron deficiency anemia]       3.0     4.0  \n",
       "3                        [Anemia of chronic disease]       4.0     3.0  \n",
       "4                        [Anemia of chronic disease]       2.0     3.0  "
      ]
     },
     "execution_count": 6,
     "metadata": {},
     "output_type": "execute_result"
    }
   ],
   "source": [
    "%%time\n",
    "rand_agent = RandomAgent(X_test[0:], y_test[0:])\n",
    "test_df = rand_agent.test()\n",
    "test_df.head()"
   ]
  },
  {
   "cell_type": "code",
   "execution_count": 7,
   "metadata": {},
   "outputs": [],
   "source": [
    "# %%time\n",
    "# rand_agent.test_sample(2)"
   ]
  },
  {
   "cell_type": "code",
   "execution_count": 8,
   "metadata": {},
   "outputs": [],
   "source": [
    "# from datetime import datetime\n",
    "# start = datetime.now()\n",
    "# rand_agent.test_sample(2)\n",
    "# end = datetime.now()\n",
    "# duration = end-start\n",
    "# duration"
   ]
  },
  {
   "cell_type": "code",
   "execution_count": 9,
   "metadata": {},
   "outputs": [
    {
     "data": {
      "text/plain": [
       "(14000, 14000)"
      ]
     },
     "execution_count": 9,
     "metadata": {},
     "output_type": "execute_result"
    }
   ],
   "source": [
    "len(X_test), len(test_df)"
   ]
  },
  {
   "cell_type": "code",
   "execution_count": 10,
   "metadata": {},
   "outputs": [],
   "source": [
    "# test_df.to_csv('../../test_dfs/many_features/random_test_df_noisy_0.4.csv', index=False)"
   ]
  },
  {
   "cell_type": "code",
   "execution_count": 11,
   "metadata": {},
   "outputs": [
    {
     "data": {
      "text/plain": [
       "12.128571428571428"
      ]
     },
     "execution_count": 11,
     "metadata": {},
     "output_type": "execute_result"
    }
   ],
   "source": [
    "success_rate, success_df = utils.success_rate(test_df)\n",
    "success_rate"
   ]
  },
  {
   "cell_type": "code",
   "execution_count": 12,
   "metadata": {},
   "outputs": [
    {
     "data": {
      "text/plain": [
       "(1.5399285714285715, -0.7627142857142857)"
      ]
     },
     "execution_count": 12,
     "metadata": {},
     "output_type": "execute_result"
    }
   ],
   "source": [
    "avg_length, avg_return = utils.get_avg_length_reward(test_df)\n",
    "avg_length, avg_return"
   ]
  },
  {
   "cell_type": "code",
   "execution_count": 13,
   "metadata": {},
   "outputs": [
    {
     "data": {
      "text/plain": [
       "(0.12128571428571429, 0.1193536303210731, 0.49936365251486314)"
      ]
     },
     "execution_count": 13,
     "metadata": {},
     "output_type": "execute_result"
    }
   ],
   "source": [
    "acc, f1, roc_auc = utils.test(test_df['y_actual'], test_df['y_pred'])\n",
    "acc, f1, roc_auc"
   ]
  },
  {
   "cell_type": "code",
   "execution_count": 14,
   "metadata": {},
   "outputs": [
    {
     "data": {
      "text/plain": [
       "array([1., 0., 4., 3., 2., 6., 7., 5.])"
      ]
     },
     "execution_count": 14,
     "metadata": {},
     "output_type": "execute_result"
    }
   ],
   "source": [
    "test_df.y_pred.unique()"
   ]
  },
  {
   "cell_type": "code",
   "execution_count": null,
   "metadata": {},
   "outputs": [],
   "source": []
  },
  {
   "cell_type": "code",
   "execution_count": null,
   "metadata": {},
   "outputs": [],
   "source": []
  }
 ],
 "metadata": {
  "kernelspec": {
   "display_name": "Python 3",
   "language": "python",
   "name": "python3"
  },
  "language_info": {
   "codemirror_mode": {
    "name": "ipython",
    "version": 3
   },
   "file_extension": ".py",
   "mimetype": "text/x-python",
   "name": "python",
   "nbconvert_exporter": "python",
   "pygments_lexer": "ipython3",
   "version": "3.7.4"
  }
 },
 "nbformat": 4,
 "nbformat_minor": 5
}

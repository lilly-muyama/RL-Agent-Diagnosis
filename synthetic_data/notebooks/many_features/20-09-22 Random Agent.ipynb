{
 "cells": [
  {
   "cell_type": "code",
   "execution_count": 1,
   "metadata": {},
   "outputs": [
    {
     "name": "stderr",
     "output_type": "stream",
     "text": [
      "C:\\Users\\User\\Anaconda3\\lib\\site-packages\\statsmodels\\tools\\_testing.py:19: FutureWarning: pandas.util.testing is deprecated. Use the functions in the public API at pandas.testing instead.\n",
      "  import pandas.util.testing as tm\n"
     ]
    }
   ],
   "source": [
    "import pandas as pd\n",
    "import numpy as np\n",
    "import random\n",
    "import os\n",
    "import sys\n",
    "sys.path.append('../..')\n",
    "from modules.many_features import utils, constants, env\n",
    "from modules.many_features.random_agent import RandomAgent\n",
    "from sklearn.model_selection import train_test_split\n",
    "import matplotlib.pyplot as plt\n",
    "%matplotlib inline"
   ]
  },
  {
   "cell_type": "code",
   "execution_count": 2,
   "metadata": {},
   "outputs": [],
   "source": [
    "SEED = 42\n",
    "random.seed(SEED)\n",
    "np.random.seed(SEED)"
   ]
  },
  {
   "cell_type": "code",
   "execution_count": 3,
   "metadata": {},
   "outputs": [
    {
     "data": {
      "text/html": [
       "<div>\n",
       "<style scoped>\n",
       "    .dataframe tbody tr th:only-of-type {\n",
       "        vertical-align: middle;\n",
       "    }\n",
       "\n",
       "    .dataframe tbody tr th {\n",
       "        vertical-align: top;\n",
       "    }\n",
       "\n",
       "    .dataframe thead th {\n",
       "        text-align: right;\n",
       "    }\n",
       "</style>\n",
       "<table border=\"1\" class=\"dataframe\">\n",
       "  <thead>\n",
       "    <tr style=\"text-align: right;\">\n",
       "      <th></th>\n",
       "      <th>hemoglobin</th>\n",
       "      <th>ferritin</th>\n",
       "      <th>ret_count</th>\n",
       "      <th>segmented_neutrophils</th>\n",
       "      <th>tibc</th>\n",
       "      <th>mcv</th>\n",
       "      <th>serum_iron</th>\n",
       "      <th>rbc</th>\n",
       "      <th>gender</th>\n",
       "      <th>creatinine</th>\n",
       "      <th>cholestrol</th>\n",
       "      <th>copper</th>\n",
       "      <th>ethanol</th>\n",
       "      <th>folate</th>\n",
       "      <th>glucose</th>\n",
       "      <th>hematocrit</th>\n",
       "      <th>tsat</th>\n",
       "      <th>label</th>\n",
       "    </tr>\n",
       "  </thead>\n",
       "  <tbody>\n",
       "    <tr>\n",
       "      <th>0</th>\n",
       "      <td>8.725667</td>\n",
       "      <td>-1.000000</td>\n",
       "      <td>2.344526</td>\n",
       "      <td>-1.000000</td>\n",
       "      <td>-1.000000</td>\n",
       "      <td>96.678418</td>\n",
       "      <td>-1.000000</td>\n",
       "      <td>2.707637</td>\n",
       "      <td>1</td>\n",
       "      <td>-1.000000</td>\n",
       "      <td>-1.000000</td>\n",
       "      <td>-1.000000</td>\n",
       "      <td>-1.000000</td>\n",
       "      <td>-1.000000</td>\n",
       "      <td>-1.000000</td>\n",
       "      <td>26.177001</td>\n",
       "      <td>-1.000000</td>\n",
       "      <td>Hemolytic anemia</td>\n",
       "    </tr>\n",
       "    <tr>\n",
       "      <th>1</th>\n",
       "      <td>12.430232</td>\n",
       "      <td>231.691743</td>\n",
       "      <td>5.143660</td>\n",
       "      <td>5.339158</td>\n",
       "      <td>484.590922</td>\n",
       "      <td>87.353532</td>\n",
       "      <td>-1.000000</td>\n",
       "      <td>4.268940</td>\n",
       "      <td>0</td>\n",
       "      <td>-1.000000</td>\n",
       "      <td>-1.000000</td>\n",
       "      <td>-1.000000</td>\n",
       "      <td>8.718062</td>\n",
       "      <td>-1.000000</td>\n",
       "      <td>-1.000000</td>\n",
       "      <td>37.290695</td>\n",
       "      <td>-1.000000</td>\n",
       "      <td>No anemia</td>\n",
       "    </tr>\n",
       "    <tr>\n",
       "      <th>2</th>\n",
       "      <td>6.737760</td>\n",
       "      <td>360.843434</td>\n",
       "      <td>-1.000000</td>\n",
       "      <td>5.481140</td>\n",
       "      <td>421.177091</td>\n",
       "      <td>75.086568</td>\n",
       "      <td>82.986344</td>\n",
       "      <td>2.691997</td>\n",
       "      <td>0</td>\n",
       "      <td>0.458698</td>\n",
       "      <td>19.596767</td>\n",
       "      <td>69.527433</td>\n",
       "      <td>-1.000000</td>\n",
       "      <td>-1.000000</td>\n",
       "      <td>-1.000000</td>\n",
       "      <td>20.213279</td>\n",
       "      <td>19.703433</td>\n",
       "      <td>Anemia of chronic disease</td>\n",
       "    </tr>\n",
       "    <tr>\n",
       "      <th>3</th>\n",
       "      <td>12.313034</td>\n",
       "      <td>-1.000000</td>\n",
       "      <td>2.765581</td>\n",
       "      <td>0.000000</td>\n",
       "      <td>-1.000000</td>\n",
       "      <td>99.494524</td>\n",
       "      <td>-1.000000</td>\n",
       "      <td>3.712677</td>\n",
       "      <td>1</td>\n",
       "      <td>-1.000000</td>\n",
       "      <td>-1.000000</td>\n",
       "      <td>-1.000000</td>\n",
       "      <td>-1.000000</td>\n",
       "      <td>-1.000000</td>\n",
       "      <td>-1.000000</td>\n",
       "      <td>36.939103</td>\n",
       "      <td>-1.000000</td>\n",
       "      <td>Unspecified anemia</td>\n",
       "    </tr>\n",
       "    <tr>\n",
       "      <th>4</th>\n",
       "      <td>6.758140</td>\n",
       "      <td>-1.000000</td>\n",
       "      <td>1.696525</td>\n",
       "      <td>-1.000000</td>\n",
       "      <td>-1.000000</td>\n",
       "      <td>86.643128</td>\n",
       "      <td>199.741346</td>\n",
       "      <td>2.339992</td>\n",
       "      <td>0</td>\n",
       "      <td>0.887158</td>\n",
       "      <td>80.614718</td>\n",
       "      <td>109.197814</td>\n",
       "      <td>18.770122</td>\n",
       "      <td>7.668335</td>\n",
       "      <td>63.159054</td>\n",
       "      <td>20.274421</td>\n",
       "      <td>-1.000000</td>\n",
       "      <td>Aplastic anemia</td>\n",
       "    </tr>\n",
       "  </tbody>\n",
       "</table>\n",
       "</div>"
      ],
      "text/plain": [
       "   hemoglobin    ferritin  ret_count  segmented_neutrophils        tibc  \\\n",
       "0    8.725667   -1.000000   2.344526              -1.000000   -1.000000   \n",
       "1   12.430232  231.691743   5.143660               5.339158  484.590922   \n",
       "2    6.737760  360.843434  -1.000000               5.481140  421.177091   \n",
       "3   12.313034   -1.000000   2.765581               0.000000   -1.000000   \n",
       "4    6.758140   -1.000000   1.696525              -1.000000   -1.000000   \n",
       "\n",
       "         mcv  serum_iron       rbc  gender  creatinine  cholestrol  \\\n",
       "0  96.678418   -1.000000  2.707637       1   -1.000000   -1.000000   \n",
       "1  87.353532   -1.000000  4.268940       0   -1.000000   -1.000000   \n",
       "2  75.086568   82.986344  2.691997       0    0.458698   19.596767   \n",
       "3  99.494524   -1.000000  3.712677       1   -1.000000   -1.000000   \n",
       "4  86.643128  199.741346  2.339992       0    0.887158   80.614718   \n",
       "\n",
       "       copper    ethanol    folate    glucose  hematocrit       tsat  \\\n",
       "0   -1.000000  -1.000000 -1.000000  -1.000000   26.177001  -1.000000   \n",
       "1   -1.000000   8.718062 -1.000000  -1.000000   37.290695  -1.000000   \n",
       "2   69.527433  -1.000000 -1.000000  -1.000000   20.213279  19.703433   \n",
       "3   -1.000000  -1.000000 -1.000000  -1.000000   36.939103  -1.000000   \n",
       "4  109.197814  18.770122  7.668335  63.159054   20.274421  -1.000000   \n",
       "\n",
       "                       label  \n",
       "0           Hemolytic anemia  \n",
       "1                  No anemia  \n",
       "2  Anemia of chronic disease  \n",
       "3         Unspecified anemia  \n",
       "4            Aplastic anemia  "
      ]
     },
     "execution_count": 3,
     "metadata": {},
     "output_type": "execute_result"
    }
   ],
   "source": [
    "#df = pd.read_csv('../../data/anemia_synth_dataset_some_nans_unspecified_more_feats.csv')\n",
    "#df = pd.read_csv('../../data/more_features/more_feats_new_labels_0.1.csv')\n",
    "df = pd.read_csv('../../data/more_features//more_feats_correlated_noisy_4_missing_1.csv')\n",
    "df = df.fillna(-1)\n",
    "df.head()"
   ]
  },
  {
   "cell_type": "code",
   "execution_count": 4,
   "metadata": {},
   "outputs": [
    {
     "data": {
      "text/plain": [
       "((56000, 17), (14000, 17), (56000,), (14000,))"
      ]
     },
     "execution_count": 4,
     "metadata": {},
     "output_type": "execute_result"
    }
   ],
   "source": [
    "class_dict = constants.CLASS_DICT\n",
    "df['label'] = df['label'].replace(class_dict)\n",
    "X = df.iloc[:, 0:-1]\n",
    "y = df.iloc[:, -1]\n",
    "X_train, X_test, y_train, y_test = train_test_split(X, y, test_size=0.2, stratify=y, random_state=SEED)\n",
    "X_train, y_train = np.array(X_train), np.array(y_train)\n",
    "X_test, y_test = np.array(X_test), np.array(y_test)\n",
    "X_train.shape, X_test.shape, y_train.shape, y_test.shape"
   ]
  },
  {
   "cell_type": "markdown",
   "metadata": {},
   "source": [
    "#### The Random Agent"
   ]
  },
  {
   "cell_type": "code",
   "execution_count": 5,
   "metadata": {},
   "outputs": [
    {
     "name": "stdout",
     "output_type": "stream",
     "text": [
      "Testing done.....\n",
      "Wall time: 3min 14s\n"
     ]
    },
    {
     "data": {
      "text/html": [
       "<div>\n",
       "<style scoped>\n",
       "    .dataframe tbody tr th:only-of-type {\n",
       "        vertical-align: middle;\n",
       "    }\n",
       "\n",
       "    .dataframe tbody tr th {\n",
       "        vertical-align: top;\n",
       "    }\n",
       "\n",
       "    .dataframe thead th {\n",
       "        text-align: right;\n",
       "    }\n",
       "</style>\n",
       "<table border=\"1\" class=\"dataframe\">\n",
       "  <thead>\n",
       "    <tr style=\"text-align: right;\">\n",
       "      <th></th>\n",
       "      <th>episode_length</th>\n",
       "      <th>index</th>\n",
       "      <th>is_success</th>\n",
       "      <th>reward</th>\n",
       "      <th>terminated</th>\n",
       "      <th>trajectory</th>\n",
       "      <th>y_actual</th>\n",
       "      <th>y_pred</th>\n",
       "    </tr>\n",
       "  </thead>\n",
       "  <tbody>\n",
       "    <tr>\n",
       "      <th>0</th>\n",
       "      <td>2.0</td>\n",
       "      <td>0.0</td>\n",
       "      <td>0.0</td>\n",
       "      <td>-1.0</td>\n",
       "      <td>0.0</td>\n",
       "      <td>[ret_count, Vitamin B12/Folate deficiency anemia]</td>\n",
       "      <td>0.0</td>\n",
       "      <td>1.0</td>\n",
       "    </tr>\n",
       "    <tr>\n",
       "      <th>1</th>\n",
       "      <td>1.0</td>\n",
       "      <td>1.0</td>\n",
       "      <td>1.0</td>\n",
       "      <td>1.0</td>\n",
       "      <td>0.0</td>\n",
       "      <td>[No anemia]</td>\n",
       "      <td>0.0</td>\n",
       "      <td>0.0</td>\n",
       "    </tr>\n",
       "    <tr>\n",
       "      <th>2</th>\n",
       "      <td>2.0</td>\n",
       "      <td>2.0</td>\n",
       "      <td>1.0</td>\n",
       "      <td>1.0</td>\n",
       "      <td>0.0</td>\n",
       "      <td>[segmented_neutrophils, Iron deficiency anemia]</td>\n",
       "      <td>4.0</td>\n",
       "      <td>4.0</td>\n",
       "    </tr>\n",
       "    <tr>\n",
       "      <th>3</th>\n",
       "      <td>1.0</td>\n",
       "      <td>3.0</td>\n",
       "      <td>0.0</td>\n",
       "      <td>-1.0</td>\n",
       "      <td>0.0</td>\n",
       "      <td>[Anemia of chronic disease]</td>\n",
       "      <td>1.0</td>\n",
       "      <td>3.0</td>\n",
       "    </tr>\n",
       "    <tr>\n",
       "      <th>4</th>\n",
       "      <td>1.0</td>\n",
       "      <td>4.0</td>\n",
       "      <td>0.0</td>\n",
       "      <td>-1.0</td>\n",
       "      <td>0.0</td>\n",
       "      <td>[Anemia of chronic disease]</td>\n",
       "      <td>6.0</td>\n",
       "      <td>3.0</td>\n",
       "    </tr>\n",
       "  </tbody>\n",
       "</table>\n",
       "</div>"
      ],
      "text/plain": [
       "   episode_length  index  is_success  reward  terminated  \\\n",
       "0             2.0    0.0         0.0    -1.0         0.0   \n",
       "1             1.0    1.0         1.0     1.0         0.0   \n",
       "2             2.0    2.0         1.0     1.0         0.0   \n",
       "3             1.0    3.0         0.0    -1.0         0.0   \n",
       "4             1.0    4.0         0.0    -1.0         0.0   \n",
       "\n",
       "                                          trajectory  y_actual  y_pred  \n",
       "0  [ret_count, Vitamin B12/Folate deficiency anemia]       0.0     1.0  \n",
       "1                                        [No anemia]       0.0     0.0  \n",
       "2    [segmented_neutrophils, Iron deficiency anemia]       4.0     4.0  \n",
       "3                        [Anemia of chronic disease]       1.0     3.0  \n",
       "4                        [Anemia of chronic disease]       6.0     3.0  "
      ]
     },
     "execution_count": 5,
     "metadata": {},
     "output_type": "execute_result"
    }
   ],
   "source": [
    "%%time\n",
    "rand_agent = RandomAgent(X_test[0:], y_test[0:])\n",
    "test_df = rand_agent.test()\n",
    "test_df.head()"
   ]
  },
  {
   "cell_type": "code",
   "execution_count": 6,
   "metadata": {},
   "outputs": [],
   "source": [
    "# %%time\n",
    "# rand_agent.test_sample(2)"
   ]
  },
  {
   "cell_type": "code",
   "execution_count": 7,
   "metadata": {},
   "outputs": [],
   "source": [
    "# from datetime import datetime\n",
    "# start = datetime.now()\n",
    "# rand_agent.test_sample(2)\n",
    "# end = datetime.now()\n",
    "# duration = end-start\n",
    "# duration"
   ]
  },
  {
   "cell_type": "code",
   "execution_count": 8,
   "metadata": {},
   "outputs": [
    {
     "data": {
      "text/plain": [
       "(14000, 14000)"
      ]
     },
     "execution_count": 8,
     "metadata": {},
     "output_type": "execute_result"
    }
   ],
   "source": [
    "len(X_test), len(test_df)"
   ]
  },
  {
   "cell_type": "code",
   "execution_count": 9,
   "metadata": {},
   "outputs": [],
   "source": [
    "# test_df.to_csv('../../test_dfs/many_features/random_test_df_noisy_0.4.csv', index=False)"
   ]
  },
  {
   "cell_type": "code",
   "execution_count": 10,
   "metadata": {},
   "outputs": [
    {
     "data": {
      "text/plain": [
       "11.678571428571429"
      ]
     },
     "execution_count": 10,
     "metadata": {},
     "output_type": "execute_result"
    }
   ],
   "source": [
    "success_rate, success_df = utils.success_rate(test_df)\n",
    "success_rate"
   ]
  },
  {
   "cell_type": "code",
   "execution_count": 11,
   "metadata": {},
   "outputs": [
    {
     "data": {
      "text/plain": [
       "(1.5399285714285715, -0.772)"
      ]
     },
     "execution_count": 11,
     "metadata": {},
     "output_type": "execute_result"
    }
   ],
   "source": [
    "avg_length, avg_return = utils.get_avg_length_reward(test_df)\n",
    "avg_length, avg_return"
   ]
  },
  {
   "cell_type": "code",
   "execution_count": 12,
   "metadata": {},
   "outputs": [
    {
     "data": {
      "text/plain": [
       "(0.11678571428571428, 0.11539404043969742, 0.4976183828511908)"
      ]
     },
     "execution_count": 12,
     "metadata": {},
     "output_type": "execute_result"
    }
   ],
   "source": [
    "acc, f1, roc_auc = utils.test(test_df['y_actual'], test_df['y_pred'])\n",
    "acc, f1, roc_auc"
   ]
  },
  {
   "cell_type": "code",
   "execution_count": 13,
   "metadata": {},
   "outputs": [
    {
     "data": {
      "text/plain": [
       "array([1., 0., 4., 3., 2., 6., 7., 5.])"
      ]
     },
     "execution_count": 13,
     "metadata": {},
     "output_type": "execute_result"
    }
   ],
   "source": [
    "test_df.y_pred.unique()"
   ]
  },
  {
   "cell_type": "code",
   "execution_count": null,
   "metadata": {},
   "outputs": [],
   "source": []
  },
  {
   "cell_type": "code",
   "execution_count": null,
   "metadata": {},
   "outputs": [],
   "source": []
  }
 ],
 "metadata": {
  "kernelspec": {
   "display_name": "Python 3",
   "language": "python",
   "name": "python3"
  },
  "language_info": {
   "codemirror_mode": {
    "name": "ipython",
    "version": 3
   },
   "file_extension": ".py",
   "mimetype": "text/x-python",
   "name": "python",
   "nbconvert_exporter": "python",
   "pygments_lexer": "ipython3",
   "version": "3.7.4"
  }
 },
 "nbformat": 4,
 "nbformat_minor": 5
}

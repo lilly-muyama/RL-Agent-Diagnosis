{
 "cells": [
  {
   "cell_type": "code",
   "execution_count": 1,
   "id": "f5cb767e",
   "metadata": {},
   "outputs": [],
   "source": [
    "import pandas as pd\n",
    "import numpy as np\n",
    "import seaborn as sns\n",
    "import matplotlib.pyplot as plt\n",
    "%matplotlib inline"
   ]
  },
  {
   "cell_type": "code",
   "execution_count": 2,
   "id": "cc75e5ed",
   "metadata": {},
   "outputs": [],
   "source": [
    "# sns.set(font_scale=1.5)\n",
    "# sns.set_theme(style='white')"
   ]
  },
  {
   "cell_type": "code",
   "execution_count": 3,
   "id": "c53ac1bb",
   "metadata": {},
   "outputs": [
    {
     "ename": "SyntaxError",
     "evalue": "invalid syntax (1002816420.py, line 18)",
     "output_type": "error",
     "traceback": [
      "\u001b[0;36m  File \u001b[0;32m\"/tmp/ipykernel_947313/1002816420.py\"\u001b[0;36m, line \u001b[0;32m18\u001b[0m\n\u001b[0;31m    ax.axes.set_title(title, fontsize=18)\u001b[0m\n\u001b[0m     ^\u001b[0m\n\u001b[0;31mSyntaxError\u001b[0m\u001b[0;31m:\u001b[0m invalid syntax\n"
     ]
    }
   ],
   "source": [
    "def pretty_plot(success_dict, xlabel = 'Missingness', title='Model Performance', has_legend=False, save=False, filename=''):\n",
    "    xticks = [0.0, 0.1, 0.2, 0.3]\n",
    "    df = pd.DataFrame()\n",
    "    df['Dueling DQN-PER'] = success_dict['dueling_dqn_pr']\n",
    "    df['Dueling DDQN-PER'] = success_dict['dueling_ddqn_pr']\n",
    "    df['RF'] = success_dict['random forest']\n",
    "    df['SVM'] = success_dict['SVM']\n",
    "#     df['XGBoost'] = success_dict['XGBoost']\n",
    "    df['DT'] = success_dict['decision tree']\n",
    "    df['FFNN'] = success_dict['neural network']\n",
    "    plt.figure(figsize=(8, 5))\n",
    "    ax = sns.lineplot(data=df, linewidth=2.5)\n",
    "    ax.set_xticks(range(len(df))) # <--- set the ticks first\n",
    "    ax.set_xticklabels(xticks)\n",
    "    ax.set_ylim([0, 100])\n",
    "    ax.set_xlabel(xlabel, fontsize=16)\n",
    "    ax.set_ylabel('Accuracy', fontsize=16\n",
    "    ax.axes.set_title(title, fontsize=18)\n",
    "    ax.set_xticklabels(xticks, fontsize=14)\n",
    "    ax.yaxis.set_tick_params(labelsize=14)\n",
    "#     ax.set(xlabel=xlabel, ylabel='Accuracy score', title=title)\n",
    "    if has_legend == True:\n",
    "        ax.legend(fontsize='xx-large')\n",
    "    else:\n",
    "        ax.legend_.remove()\n",
    "    if save:\n",
    "        plt.savefig(f'../../../anemia_ml4hc/plots/{filename}_with_nn_ltst.png')\n",
    "    plt.show()"
   ]
  },
  {
   "cell_type": "markdown",
   "id": "e0559e29",
   "metadata": {},
   "source": [
    "#### Missingness - Median"
   ]
  },
  {
   "cell_type": "code",
   "execution_count": null,
   "id": "0065ecee",
   "metadata": {},
   "outputs": [],
   "source": [
    "missingness_median_dict = {'decision tree': [99.957, 95.607, 93.993, 93.014], \n",
    "                           'dueling_dqn_pr': [97.239, 96.186, 94.050, 94.614], \n",
    "                           'dueling_ddqn_pr': [96.318, 94.400, 94.436, 93.793], \n",
    "                           'random forest': [99.893, 97.364, 92.807, 91.236], \n",
    "                           'SVM':[94.893, 90.036, 87.750, 85.900], \n",
    "#                            'XGBoost':[99.986, 97.964, 93.514, 91.536],\n",
    "                           'neural network': [98.021, 97.143, 93.829, 91.143]}\n",
    "pretty_plot(missingness_median_dict, xlabel = 'Missingness', title='Varying Missingness', has_legend=True, \n",
    "            save=True, filename='missingness')"
   ]
  },
  {
   "cell_type": "markdown",
   "id": "9a4b3100",
   "metadata": {},
   "source": [
    "#### Noisiness - Median"
   ]
  },
  {
   "cell_type": "code",
   "execution_count": null,
   "id": "b6394a4a",
   "metadata": {},
   "outputs": [],
   "source": [
    "noisiness_median_dict = {'decision tree': [99.957, 99.421, 98.557, 96.986], \n",
    "                         'dueling_dqn_pr': [97.239, 96.300, 95.107, 96.493], \n",
    "                         'dueling_ddqn_pr': [96.318, 97.607, 95.636, 94.307], \n",
    "                         'random forest': [99.893, 99.543, 98.757, 97.736], \n",
    "                         'SVM':[94.893, 89.386, 88.636, 87.479], \n",
    "#                          'XGBoost':[99.986, 99.371, 98.543, 97.450],\n",
    "                         'neural network': [98.029, 96.893, 96.414, 94.814]}\n",
    "pretty_plot(noisiness_median_dict, xlabel = 'Noisiness', title='Varying Noisiness', has_legend=False, save=True,\n",
    "           filename='noisiness')"
   ]
  },
  {
   "cell_type": "markdown",
   "id": "505d7535",
   "metadata": {},
   "source": [
    "#### Noisiness + Missingness - Median"
   ]
  },
  {
   "cell_type": "code",
   "execution_count": null,
   "id": "532678c5",
   "metadata": {},
   "outputs": [],
   "source": [
    "noisiness_missingness_median_dict = {'decision tree': [99.957, 97.021, 90.000, 87.100], \n",
    "                                     'dueling_dqn_pr': [97.239, 94.393, 94.607, 93.407], \n",
    "                                     'dueling_ddqn_pr': [96.318, 94.643, 93.314, 93.057], \n",
    "                                     'random forest': [99.893, 95.986, 92.543, 90.871], \n",
    "                                     'SVM':[94.893, 85.364, 83.214, 81.371], \n",
    "#                                      'XGBoost':[99.986, 96.893, 92.650, 90.929],\n",
    "                                     'neural network':[98.021, 94.264, 91.264, 88.714]}\n",
    "pretty_plot(noisiness_missingness_median_dict, xlabel = 'Missingness', title='Varying Missingness; Constant Noise=0.2', has_legend=False,\n",
    "           save=True, filename='missingness+noisiness')"
   ]
  },
  {
   "cell_type": "markdown",
   "id": "ac306a10",
   "metadata": {},
   "source": [
    "#### Missingness - Mean"
   ]
  },
  {
   "cell_type": "code",
   "execution_count": null,
   "id": "baa352b2",
   "metadata": {},
   "outputs": [],
   "source": [
    "# missingness_mean_dict = {'decision tree': [99.960, 95.561, 94.020, 93.019], \n",
    "#                           'dueling_dqn_pr': [96.639, 96.303, 91.042, 88.813 ], \n",
    "#                           'dueling_ddqn_pr': [96.330, 95.320, 93.899, 91.960], \n",
    "#                           'random forest': [99.897, 97.402, 92.760, 91.226], \n",
    "#                           'SVM':[94.893, 90.036, 87.750, 85.900], \n",
    "#                           'XGBoost':[99.986, 97.964, 93.514, 91.536]}\n",
    "# pretty_plot(missingness_mean_dict, xlabel = 'Missingness', title='Varying Missingness', has_legend=True, \n",
    "#             save=True, filename='missingness')"
   ]
  },
  {
   "cell_type": "markdown",
   "id": "64804b29",
   "metadata": {},
   "source": [
    "#### Noisiness + Missingness - Mean"
   ]
  },
  {
   "cell_type": "code",
   "execution_count": null,
   "id": "c83993eb",
   "metadata": {},
   "outputs": [],
   "source": [
    "# noisiness_missingness_mean_dict = {'decision tree': [99.960, 97.021, 90.000, 87.099], \n",
    "#                                    'dueling_dqn_pr': [96.639, 94.323, 93.806, 92.851], \n",
    "#                                    'dueling_ddqn_pr': [96.330, 94.190, 93.191, 90.721], \n",
    "#                                    'random forest': [99.897, 96.011, 92.532, 90.868], \n",
    "#                                    'SVM':[94.893, 85.364, 83.214, 81.371], \n",
    "#                                    'XGBoost':[99.986, 96.893, 92.650, 90.929]}\n",
    "# pretty_plot(noisiness_missingness_mean_dict, xlabel = 'Level of Missingness', title='Model Performance')"
   ]
  },
  {
   "cell_type": "markdown",
   "id": "925b742c",
   "metadata": {},
   "source": [
    "#### Noisiness - Mean"
   ]
  },
  {
   "cell_type": "code",
   "execution_count": null,
   "id": "593761da",
   "metadata": {},
   "outputs": [],
   "source": [
    "# noisiness_mean_dict = {'decision tree': [99.960, 99.423, 98.560, 96.986], \n",
    "#                        'dueling_dqn_pr': [96.639, 93.101, 95.084, 95.686], \n",
    "#                        'dueling_ddqn_pr': [96.330, 97.313, 95.023, 94.697], \n",
    "#                        'random forest': [99.897, 99.559, 98.734, 97.734], \n",
    "#                        'SVM':[94.893, 89.386, 88.636, 87.479], \n",
    "#                        'XGBoost':[99.986, 99.371, 98.543, 97.450]}\n",
    "# pretty_plot(noisiness_mean_dict, xlabel = 'Level of Noisiness', title='Model Performance')"
   ]
  },
  {
   "cell_type": "code",
   "execution_count": null,
   "id": "b4de5eee",
   "metadata": {},
   "outputs": [],
   "source": [
    "rf_results_mean_std_dict = {1: [99.89714285714287, 0.013248026422134872],\n",
    "                            0.5: [99.80999999999999, 0.023299294900430163],\n",
    "                            0.1: [98.85285714285715, 0.19921273625377012],\n",
    "                            0.05: [98.00428571428571, 0.12573051843250446],\n",
    "                            0.01: [93.31285714285714, 1.14050114298183]}\n",
    "\n",
    "sizes = ['n', '0.5n', '0.1n', '0.05n', '0.01n']\n",
    "variable_means_dueling_dqn_pr = [96.309, 94.768, 87.824, 92.851, 87.466]\n",
    "# variable_medians_dueling_dqn_pr = [97.186, 94.714, 93.821, 93.486, 87.350]\n",
    "variable_stds_dueling_dqn_pr = [1.449, 2.682, 14.433, 5.652, 1.657]\n",
    "\n",
    "variable_means_dueling_ddqn_pr = [96.523, 94.654, 93.283, 93.024, 84.876]\n",
    "variable_stds_dueling_ddqn_pr = [0.760, 1.370, 3.328, 6.556, 3.604]\n",
    "\n",
    "variable_means_rf = [i[0] for i in rf_results_mean_std_dict.values()]\n",
    "variable_stds_rf = [i[1] for i in rf_results_mean_std_dict.values()]\n",
    "\n",
    "lower_bounds_dueling_dqn_pr = [variable_means_dueling_dqn_pr[i]-1.96*variable_stds_dueling_dqn_pr[i] for i in range(len(variable_means_dueling_dqn_pr))]\n",
    "upper_bounds_dueling_dqn_pr = [variable_means_dueling_dqn_pr[i]+1.96*variable_stds_dueling_dqn_pr[i] for i in range(len(variable_means_dueling_dqn_pr))]\n",
    "\n",
    "lower_bounds_dueling_ddqn_pr = [variable_means_dueling_ddqn_pr[i]-1.96*variable_stds_dueling_ddqn_pr[i] for i in range(len(variable_means_dueling_ddqn_pr))]\n",
    "upper_bounds_dueling_ddqn_pr = [variable_means_dueling_ddqn_pr[i]+1.96*variable_stds_dueling_ddqn_pr[i] for i in range(len(variable_means_dueling_ddqn_pr))]\n",
    "\n",
    "lower_bounds_rf = [variable_means_rf[i]-1.96*variable_stds_rf[i] for i in range(len(variable_means_rf))]\n",
    "upper_bounds_rf = [variable_means_rf[i]+1.96*variable_stds_rf[i] for i in range(len(variable_means_rf))]\n",
    "\n",
    "\n",
    "\n",
    "plt.figure(figsize=(8, 5))\n",
    "#plt.title('Varied Training Sizes: $\\it{n=56000}$')\n",
    "text_to_italic = 'n = 50400'\n",
    "plt.title('Varying Training Size; $\\it{n=50{,}400}$', fontsize=18)\n",
    "plt.xlabel('Training set size', fontsize=16)\n",
    "plt.ylabel('Accuracy', fontsize=16)\n",
    "plt.ylim(0, 100)\n",
    "plt.xticks(fontsize=14)\n",
    "plt.yticks(fontsize=14)\n",
    "#plt.title('$\\Gamma + \\mathit{\\Gamma}$', fontsize=40)\n",
    "# plt.plot(sizes, variable_means_dueling_dqn_pr, linewidth=2.5, label='Dueling DQN-PER', color='blue')\n",
    "# plt.plot(sizes, variable_medians_6m, '--', linewidth=2.5, label='Dueling DQN-PER Median', color='green')\n",
    "plt.plot(sizes, variable_means_dueling_ddqn_pr, linewidth=2.5, label= 'Dueling DDQN-PER', color='blue')\n",
    "plt.plot(sizes, variable_means_rf, linewidth=2.5, label='RF', color='red')\n",
    "# plt.fill_between(sizes, lower_bounds_dueling_dqn_pr, upper_bounds_dueling_dqn_pr, alpha=0.2, color='blue')\n",
    "plt.fill_between(sizes, lower_bounds_dueling_ddqn_pr, upper_bounds_dueling_ddqn_pr, alpha=0.2, color='blue')\n",
    "plt.fill_between(sizes, lower_bounds_rf, upper_bounds_rf, alpha=0.2, color='red')\n",
    "plt.legend(loc='lower left', fontsize='xx-large')\n",
    "plt.savefig(f'../../../anemia_ml4hc/plots/varying_training_size_ltst.png')\n",
    "plt.show()"
   ]
  },
  {
   "cell_type": "markdown",
   "id": "9d8cb921",
   "metadata": {},
   "source": [
    "#### Variable training sizes "
   ]
  },
  {
   "cell_type": "code",
   "execution_count": null,
   "id": "3cd415be",
   "metadata": {},
   "outputs": [],
   "source": []
  },
  {
   "cell_type": "code",
   "execution_count": null,
   "id": "1de773b1",
   "metadata": {},
   "outputs": [],
   "source": []
  }
 ],
 "metadata": {
  "kernelspec": {
   "display_name": "Python 3 (ipykernel)",
   "language": "python",
   "name": "python3"
  },
  "language_info": {
   "codemirror_mode": {
    "name": "ipython",
    "version": 3
   },
   "file_extension": ".py",
   "mimetype": "text/x-python",
   "name": "python",
   "nbconvert_exporter": "python",
   "pygments_lexer": "ipython3",
   "version": "3.9.13"
  }
 },
 "nbformat": 4,
 "nbformat_minor": 5
}

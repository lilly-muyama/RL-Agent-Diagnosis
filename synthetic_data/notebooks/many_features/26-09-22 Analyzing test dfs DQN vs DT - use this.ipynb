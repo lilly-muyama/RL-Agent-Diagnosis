{
 "cells": [
  {
   "cell_type": "code",
   "execution_count": 1,
   "metadata": {},
   "outputs": [
    {
     "name": "stderr",
     "output_type": "stream",
     "text": [
      "C:\\Users\\User\\Anaconda3\\lib\\site-packages\\statsmodels\\tools\\_testing.py:19: FutureWarning: pandas.util.testing is deprecated. Use the functions in the public API at pandas.testing instead.\n",
      "  import pandas.util.testing as tm\n"
     ]
    }
   ],
   "source": [
    "import pandas as pd\n",
    "import numpy as np\n",
    "import ast\n",
    "import random\n",
    "import os\n",
    "import sys\n",
    "sys.path.append('../..')\n",
    "from modules.many_features import utils, constants\n",
    "from sklearn.model_selection import train_test_split\n",
    "import matplotlib.pyplot as plt\n",
    "%matplotlib inline"
   ]
  },
  {
   "cell_type": "code",
   "execution_count": 2,
   "metadata": {},
   "outputs": [],
   "source": [
    "SEED = 42\n",
    "random.seed(SEED)\n",
    "np.random.seed(SEED)\n",
    "os.environ['PYTHONHASHSEED']=str(SEED)"
   ]
  },
  {
   "cell_type": "markdown",
   "metadata": {},
   "source": [
    "#### X test df"
   ]
  },
  {
   "cell_type": "code",
   "execution_count": 3,
   "metadata": {},
   "outputs": [
    {
     "data": {
      "text/html": [
       "<div>\n",
       "<style scoped>\n",
       "    .dataframe tbody tr th:only-of-type {\n",
       "        vertical-align: middle;\n",
       "    }\n",
       "\n",
       "    .dataframe tbody tr th {\n",
       "        vertical-align: top;\n",
       "    }\n",
       "\n",
       "    .dataframe thead th {\n",
       "        text-align: right;\n",
       "    }\n",
       "</style>\n",
       "<table border=\"1\" class=\"dataframe\">\n",
       "  <thead>\n",
       "    <tr style=\"text-align: right;\">\n",
       "      <th></th>\n",
       "      <th>hemoglobin</th>\n",
       "      <th>ferritin</th>\n",
       "      <th>ret_count</th>\n",
       "      <th>segmented_neutrophils</th>\n",
       "      <th>tibc</th>\n",
       "      <th>mcv</th>\n",
       "      <th>serum_iron</th>\n",
       "      <th>rbc</th>\n",
       "      <th>gender</th>\n",
       "      <th>creatinine</th>\n",
       "      <th>cholestrol</th>\n",
       "      <th>copper</th>\n",
       "      <th>ethanol</th>\n",
       "      <th>folate</th>\n",
       "      <th>glucose</th>\n",
       "      <th>hematocrit</th>\n",
       "      <th>tsat</th>\n",
       "      <th>label</th>\n",
       "    </tr>\n",
       "  </thead>\n",
       "  <tbody>\n",
       "    <tr>\n",
       "      <th>0</th>\n",
       "      <td>6.204978</td>\n",
       "      <td>-1.000000</td>\n",
       "      <td>-1.000000</td>\n",
       "      <td>2.131408</td>\n",
       "      <td>-1.000000</td>\n",
       "      <td>104.163393</td>\n",
       "      <td>22.492093</td>\n",
       "      <td>1.787090</td>\n",
       "      <td>0</td>\n",
       "      <td>0.469956</td>\n",
       "      <td>40.182165</td>\n",
       "      <td>128.473462</td>\n",
       "      <td>5.733055</td>\n",
       "      <td>21.877512</td>\n",
       "      <td>135.419585</td>\n",
       "      <td>18.614933</td>\n",
       "      <td>-1.000000</td>\n",
       "      <td>1</td>\n",
       "    </tr>\n",
       "    <tr>\n",
       "      <th>1</th>\n",
       "      <td>11.808473</td>\n",
       "      <td>368.003443</td>\n",
       "      <td>1.786517</td>\n",
       "      <td>-1.000000</td>\n",
       "      <td>392.060251</td>\n",
       "      <td>95.795621</td>\n",
       "      <td>203.695622</td>\n",
       "      <td>3.698021</td>\n",
       "      <td>0</td>\n",
       "      <td>-1.000000</td>\n",
       "      <td>100.416558</td>\n",
       "      <td>78.044472</td>\n",
       "      <td>60.941983</td>\n",
       "      <td>12.747098</td>\n",
       "      <td>80.654395</td>\n",
       "      <td>35.425420</td>\n",
       "      <td>51.955183</td>\n",
       "      <td>5</td>\n",
       "    </tr>\n",
       "    <tr>\n",
       "      <th>2</th>\n",
       "      <td>12.783204</td>\n",
       "      <td>-1.000000</td>\n",
       "      <td>5.029038</td>\n",
       "      <td>0.585740</td>\n",
       "      <td>163.190083</td>\n",
       "      <td>77.413587</td>\n",
       "      <td>241.639496</td>\n",
       "      <td>4.953861</td>\n",
       "      <td>1</td>\n",
       "      <td>1.472039</td>\n",
       "      <td>100.304009</td>\n",
       "      <td>98.373316</td>\n",
       "      <td>22.997871</td>\n",
       "      <td>10.402095</td>\n",
       "      <td>-1.000000</td>\n",
       "      <td>38.349613</td>\n",
       "      <td>148.072414</td>\n",
       "      <td>3</td>\n",
       "    </tr>\n",
       "    <tr>\n",
       "      <th>3</th>\n",
       "      <td>7.095181</td>\n",
       "      <td>214.430322</td>\n",
       "      <td>2.735406</td>\n",
       "      <td>-1.000000</td>\n",
       "      <td>490.037934</td>\n",
       "      <td>104.419608</td>\n",
       "      <td>78.891697</td>\n",
       "      <td>2.038462</td>\n",
       "      <td>0</td>\n",
       "      <td>-1.000000</td>\n",
       "      <td>58.217330</td>\n",
       "      <td>36.944337</td>\n",
       "      <td>61.723799</td>\n",
       "      <td>21.393480</td>\n",
       "      <td>53.380670</td>\n",
       "      <td>21.285544</td>\n",
       "      <td>16.099100</td>\n",
       "      <td>2</td>\n",
       "    </tr>\n",
       "    <tr>\n",
       "      <th>4</th>\n",
       "      <td>8.240238</td>\n",
       "      <td>396.572632</td>\n",
       "      <td>2.043808</td>\n",
       "      <td>-1.000000</td>\n",
       "      <td>335.569660</td>\n",
       "      <td>104.500375</td>\n",
       "      <td>88.215797</td>\n",
       "      <td>2.365610</td>\n",
       "      <td>0</td>\n",
       "      <td>-1.000000</td>\n",
       "      <td>107.350500</td>\n",
       "      <td>52.099095</td>\n",
       "      <td>-1.000000</td>\n",
       "      <td>10.237103</td>\n",
       "      <td>-1.000000</td>\n",
       "      <td>24.720715</td>\n",
       "      <td>26.288371</td>\n",
       "      <td>0</td>\n",
       "    </tr>\n",
       "  </tbody>\n",
       "</table>\n",
       "</div>"
      ],
      "text/plain": [
       "   hemoglobin    ferritin  ret_count  segmented_neutrophils        tibc  \\\n",
       "0    6.204978   -1.000000  -1.000000               2.131408   -1.000000   \n",
       "1   11.808473  368.003443   1.786517              -1.000000  392.060251   \n",
       "2   12.783204   -1.000000   5.029038               0.585740  163.190083   \n",
       "3    7.095181  214.430322   2.735406              -1.000000  490.037934   \n",
       "4    8.240238  396.572632   2.043808              -1.000000  335.569660   \n",
       "\n",
       "          mcv  serum_iron       rbc  gender  creatinine  cholestrol  \\\n",
       "0  104.163393   22.492093  1.787090       0    0.469956   40.182165   \n",
       "1   95.795621  203.695622  3.698021       0   -1.000000  100.416558   \n",
       "2   77.413587  241.639496  4.953861       1    1.472039  100.304009   \n",
       "3  104.419608   78.891697  2.038462       0   -1.000000   58.217330   \n",
       "4  104.500375   88.215797  2.365610       0   -1.000000  107.350500   \n",
       "\n",
       "       copper    ethanol     folate     glucose  hematocrit        tsat  label  \n",
       "0  128.473462   5.733055  21.877512  135.419585   18.614933   -1.000000      1  \n",
       "1   78.044472  60.941983  12.747098   80.654395   35.425420   51.955183      5  \n",
       "2   98.373316  22.997871  10.402095   -1.000000   38.349613  148.072414      3  \n",
       "3   36.944337  61.723799  21.393480   53.380670   21.285544   16.099100      2  \n",
       "4   52.099095  -1.000000  10.237103   -1.000000   24.720715   26.288371      0  "
      ]
     },
     "execution_count": 3,
     "metadata": {},
     "output_type": "execute_result"
    }
   ],
   "source": [
    "df = pd.read_csv('../../data/more_features//more_feats_correlated_noisy_6.csv')\n",
    "#df = df.fillna(-1)\n",
    "class_dict = constants.CLASS_DICT\n",
    "df['label'] = df['label'].replace(class_dict)\n",
    "X = df.iloc[:, 0:-1]\n",
    "y = df.iloc[:, -1]\n",
    "X_train, X_test, y_train, y_test = train_test_split(X, y, test_size=0.2, stratify=y, random_state=SEED)\n",
    "X_test_df = pd.concat([X_test, y_test], axis=1)\n",
    "X_test_df = X_test_df.reset_index(drop=True)\n",
    "X_test_df.head()"
   ]
  },
  {
   "cell_type": "markdown",
   "metadata": {},
   "source": [
    "#### The test dfs"
   ]
  },
  {
   "cell_type": "code",
   "execution_count": 4,
   "metadata": {},
   "outputs": [
    {
     "data": {
      "text/html": [
       "<div>\n",
       "<style scoped>\n",
       "    .dataframe tbody tr th:only-of-type {\n",
       "        vertical-align: middle;\n",
       "    }\n",
       "\n",
       "    .dataframe tbody tr th {\n",
       "        vertical-align: top;\n",
       "    }\n",
       "\n",
       "    .dataframe thead th {\n",
       "        text-align: right;\n",
       "    }\n",
       "</style>\n",
       "<table border=\"1\" class=\"dataframe\">\n",
       "  <thead>\n",
       "    <tr style=\"text-align: right;\">\n",
       "      <th></th>\n",
       "      <th>episode_length</th>\n",
       "      <th>index</th>\n",
       "      <th>is_success</th>\n",
       "      <th>reward</th>\n",
       "      <th>terminated</th>\n",
       "      <th>trajectory</th>\n",
       "      <th>y_actual</th>\n",
       "      <th>y_pred</th>\n",
       "    </tr>\n",
       "  </thead>\n",
       "  <tbody>\n",
       "    <tr>\n",
       "      <th>0</th>\n",
       "      <td>4.0</td>\n",
       "      <td>0.0</td>\n",
       "      <td>1.0</td>\n",
       "      <td>1.0</td>\n",
       "      <td>0.0</td>\n",
       "      <td>['hemoglobin', 'mcv', 'segmented_neutrophils',...</td>\n",
       "      <td>1.0</td>\n",
       "      <td>1.0</td>\n",
       "    </tr>\n",
       "    <tr>\n",
       "      <th>1</th>\n",
       "      <td>4.0</td>\n",
       "      <td>1.0</td>\n",
       "      <td>0.0</td>\n",
       "      <td>-1.0</td>\n",
       "      <td>0.0</td>\n",
       "      <td>['hemoglobin', 'mcv', 'ret_count', 'Aplastic a...</td>\n",
       "      <td>5.0</td>\n",
       "      <td>6.0</td>\n",
       "    </tr>\n",
       "    <tr>\n",
       "      <th>2</th>\n",
       "      <td>5.0</td>\n",
       "      <td>2.0</td>\n",
       "      <td>1.0</td>\n",
       "      <td>1.0</td>\n",
       "      <td>0.0</td>\n",
       "      <td>['hemoglobin', 'gender', 'mcv', 'tibc', 'Anemi...</td>\n",
       "      <td>3.0</td>\n",
       "      <td>3.0</td>\n",
       "    </tr>\n",
       "    <tr>\n",
       "      <th>3</th>\n",
       "      <td>4.0</td>\n",
       "      <td>3.0</td>\n",
       "      <td>0.0</td>\n",
       "      <td>-1.0</td>\n",
       "      <td>1.0</td>\n",
       "      <td>['hemoglobin', 'mcv', 'segmented_neutrophils',...</td>\n",
       "      <td>2.0</td>\n",
       "      <td>7.0</td>\n",
       "    </tr>\n",
       "    <tr>\n",
       "      <th>4</th>\n",
       "      <td>4.0</td>\n",
       "      <td>4.0</td>\n",
       "      <td>0.0</td>\n",
       "      <td>-1.0</td>\n",
       "      <td>1.0</td>\n",
       "      <td>['hemoglobin', 'mcv', 'segmented_neutrophils',...</td>\n",
       "      <td>0.0</td>\n",
       "      <td>7.0</td>\n",
       "    </tr>\n",
       "  </tbody>\n",
       "</table>\n",
       "</div>"
      ],
      "text/plain": [
       "   episode_length  index  is_success  reward  terminated  \\\n",
       "0             4.0    0.0         1.0     1.0         0.0   \n",
       "1             4.0    1.0         0.0    -1.0         0.0   \n",
       "2             5.0    2.0         1.0     1.0         0.0   \n",
       "3             4.0    3.0         0.0    -1.0         1.0   \n",
       "4             4.0    4.0         0.0    -1.0         1.0   \n",
       "\n",
       "                                          trajectory  y_actual  y_pred  \n",
       "0  ['hemoglobin', 'mcv', 'segmented_neutrophils',...       1.0     1.0  \n",
       "1  ['hemoglobin', 'mcv', 'ret_count', 'Aplastic a...       5.0     6.0  \n",
       "2  ['hemoglobin', 'gender', 'mcv', 'tibc', 'Anemi...       3.0     3.0  \n",
       "3  ['hemoglobin', 'mcv', 'segmented_neutrophils',...       2.0     7.0  \n",
       "4  ['hemoglobin', 'mcv', 'segmented_neutrophils',...       0.0     7.0  "
      ]
     },
     "execution_count": 4,
     "metadata": {},
     "output_type": "execute_result"
    }
   ],
   "source": [
    "dqn_test_df = pd.read_csv('../../test_dfs/many_features/0.1/correlated/test_df3_noisy6_23000000.csv')\n",
    "dqn_test_df.head()"
   ]
  },
  {
   "cell_type": "code",
   "execution_count": 5,
   "metadata": {},
   "outputs": [
    {
     "data": {
      "text/plain": [
       "7.0    3254\n",
       "0.0    2079\n",
       "6.0    1923\n",
       "3.0    1801\n",
       "5.0    1460\n",
       "4.0    1299\n",
       "1.0    1167\n",
       "2.0    1017\n",
       "Name: y_pred, dtype: int64"
      ]
     },
     "execution_count": 5,
     "metadata": {},
     "output_type": "execute_result"
    }
   ],
   "source": [
    "dqn_test_df.y_pred.value_counts()"
   ]
  },
  {
   "cell_type": "code",
   "execution_count": 6,
   "metadata": {},
   "outputs": [
    {
     "data": {
      "text/plain": [
       "0.0    2005\n",
       "3.0    1319\n",
       "6.0    1254\n",
       "4.0    1103\n",
       "5.0     991\n",
       "2.0     898\n",
       "7.0     884\n",
       "1.0     834\n",
       "Name: y_pred, dtype: int64"
      ]
     },
     "execution_count": 6,
     "metadata": {},
     "output_type": "execute_result"
    }
   ],
   "source": [
    "dqn_test_df[dqn_test_df.y_actual==dqn_test_df.y_pred].y_pred.value_counts()"
   ]
  },
  {
   "cell_type": "code",
   "execution_count": 7,
   "metadata": {},
   "outputs": [
    {
     "data": {
      "text/html": [
       "<div>\n",
       "<style scoped>\n",
       "    .dataframe tbody tr th:only-of-type {\n",
       "        vertical-align: middle;\n",
       "    }\n",
       "\n",
       "    .dataframe tbody tr th {\n",
       "        vertical-align: top;\n",
       "    }\n",
       "\n",
       "    .dataframe thead th {\n",
       "        text-align: right;\n",
       "    }\n",
       "</style>\n",
       "<table border=\"1\" class=\"dataframe\">\n",
       "  <thead>\n",
       "    <tr style=\"text-align: right;\">\n",
       "      <th></th>\n",
       "      <th>episode_length</th>\n",
       "      <th>index</th>\n",
       "      <th>is_success</th>\n",
       "      <th>reward</th>\n",
       "      <th>terminated</th>\n",
       "      <th>trajectory</th>\n",
       "      <th>y_actual</th>\n",
       "      <th>y_pred</th>\n",
       "    </tr>\n",
       "  </thead>\n",
       "  <tbody>\n",
       "    <tr>\n",
       "      <th>0</th>\n",
       "      <td>4.0</td>\n",
       "      <td>0.0</td>\n",
       "      <td>1.0</td>\n",
       "      <td>1.0</td>\n",
       "      <td>0.0</td>\n",
       "      <td>['hemoglobin', 'mcv', 'segmented_neutrophils',...</td>\n",
       "      <td>1.0</td>\n",
       "      <td>1.0</td>\n",
       "    </tr>\n",
       "    <tr>\n",
       "      <th>1</th>\n",
       "      <td>4.0</td>\n",
       "      <td>1.0</td>\n",
       "      <td>0.0</td>\n",
       "      <td>-1.0</td>\n",
       "      <td>0.0</td>\n",
       "      <td>['hemoglobin', 'mcv', 'ret_count', 'Aplastic a...</td>\n",
       "      <td>5.0</td>\n",
       "      <td>6.0</td>\n",
       "    </tr>\n",
       "    <tr>\n",
       "      <th>2</th>\n",
       "      <td>6.0</td>\n",
       "      <td>2.0</td>\n",
       "      <td>1.0</td>\n",
       "      <td>1.0</td>\n",
       "      <td>0.0</td>\n",
       "      <td>['hemoglobin', 'gender', 'mcv', 'ferritin', 't...</td>\n",
       "      <td>3.0</td>\n",
       "      <td>3.0</td>\n",
       "    </tr>\n",
       "    <tr>\n",
       "      <th>3</th>\n",
       "      <td>4.0</td>\n",
       "      <td>3.0</td>\n",
       "      <td>0.0</td>\n",
       "      <td>-1.0</td>\n",
       "      <td>0.0</td>\n",
       "      <td>['hemoglobin', 'mcv', 'segmented_neutrophils',...</td>\n",
       "      <td>2.0</td>\n",
       "      <td>7.0</td>\n",
       "    </tr>\n",
       "    <tr>\n",
       "      <th>4</th>\n",
       "      <td>4.0</td>\n",
       "      <td>4.0</td>\n",
       "      <td>0.0</td>\n",
       "      <td>-1.0</td>\n",
       "      <td>0.0</td>\n",
       "      <td>['hemoglobin', 'mcv', 'segmented_neutrophils',...</td>\n",
       "      <td>0.0</td>\n",
       "      <td>7.0</td>\n",
       "    </tr>\n",
       "  </tbody>\n",
       "</table>\n",
       "</div>"
      ],
      "text/plain": [
       "   episode_length  index  is_success  reward  terminated  \\\n",
       "0             4.0    0.0         1.0     1.0         0.0   \n",
       "1             4.0    1.0         0.0    -1.0         0.0   \n",
       "2             6.0    2.0         1.0     1.0         0.0   \n",
       "3             4.0    3.0         0.0    -1.0         0.0   \n",
       "4             4.0    4.0         0.0    -1.0         0.0   \n",
       "\n",
       "                                          trajectory  y_actual  y_pred  \n",
       "0  ['hemoglobin', 'mcv', 'segmented_neutrophils',...       1.0     1.0  \n",
       "1  ['hemoglobin', 'mcv', 'ret_count', 'Aplastic a...       5.0     6.0  \n",
       "2  ['hemoglobin', 'gender', 'mcv', 'ferritin', 't...       3.0     3.0  \n",
       "3  ['hemoglobin', 'mcv', 'segmented_neutrophils',...       2.0     7.0  \n",
       "4  ['hemoglobin', 'mcv', 'segmented_neutrophils',...       0.0     7.0  "
      ]
     },
     "execution_count": 7,
     "metadata": {},
     "output_type": "execute_result"
    }
   ],
   "source": [
    "dt_test_df = pd.read_csv('../../test_dfs/many_features/0.1/correlated/dt_test_df_corr_noisy_6.csv')\n",
    "dt_test_df.head()"
   ]
  },
  {
   "cell_type": "code",
   "execution_count": 8,
   "metadata": {},
   "outputs": [
    {
     "data": {
      "text/html": [
       "<div>\n",
       "<style scoped>\n",
       "    .dataframe tbody tr th:only-of-type {\n",
       "        vertical-align: middle;\n",
       "    }\n",
       "\n",
       "    .dataframe tbody tr th {\n",
       "        vertical-align: top;\n",
       "    }\n",
       "\n",
       "    .dataframe thead th {\n",
       "        text-align: right;\n",
       "    }\n",
       "</style>\n",
       "<table border=\"1\" class=\"dataframe\">\n",
       "  <thead>\n",
       "    <tr style=\"text-align: right;\">\n",
       "      <th></th>\n",
       "      <th>episode_length</th>\n",
       "      <th>index</th>\n",
       "      <th>is_success</th>\n",
       "      <th>reward</th>\n",
       "      <th>terminated</th>\n",
       "      <th>trajectory</th>\n",
       "      <th>y_actual</th>\n",
       "      <th>dqn_y_pred</th>\n",
       "      <th>dt_y_pred</th>\n",
       "    </tr>\n",
       "  </thead>\n",
       "  <tbody>\n",
       "    <tr>\n",
       "      <th>0</th>\n",
       "      <td>4.0</td>\n",
       "      <td>0.0</td>\n",
       "      <td>1.0</td>\n",
       "      <td>1.0</td>\n",
       "      <td>0.0</td>\n",
       "      <td>['hemoglobin', 'mcv', 'segmented_neutrophils',...</td>\n",
       "      <td>1.0</td>\n",
       "      <td>1.0</td>\n",
       "      <td>1.0</td>\n",
       "    </tr>\n",
       "    <tr>\n",
       "      <th>1</th>\n",
       "      <td>4.0</td>\n",
       "      <td>1.0</td>\n",
       "      <td>0.0</td>\n",
       "      <td>-1.0</td>\n",
       "      <td>0.0</td>\n",
       "      <td>['hemoglobin', 'mcv', 'ret_count', 'Aplastic a...</td>\n",
       "      <td>5.0</td>\n",
       "      <td>6.0</td>\n",
       "      <td>6.0</td>\n",
       "    </tr>\n",
       "    <tr>\n",
       "      <th>2</th>\n",
       "      <td>5.0</td>\n",
       "      <td>2.0</td>\n",
       "      <td>1.0</td>\n",
       "      <td>1.0</td>\n",
       "      <td>0.0</td>\n",
       "      <td>['hemoglobin', 'gender', 'mcv', 'tibc', 'Anemi...</td>\n",
       "      <td>3.0</td>\n",
       "      <td>3.0</td>\n",
       "      <td>3.0</td>\n",
       "    </tr>\n",
       "    <tr>\n",
       "      <th>3</th>\n",
       "      <td>4.0</td>\n",
       "      <td>3.0</td>\n",
       "      <td>0.0</td>\n",
       "      <td>-1.0</td>\n",
       "      <td>1.0</td>\n",
       "      <td>['hemoglobin', 'mcv', 'segmented_neutrophils',...</td>\n",
       "      <td>2.0</td>\n",
       "      <td>7.0</td>\n",
       "      <td>7.0</td>\n",
       "    </tr>\n",
       "    <tr>\n",
       "      <th>4</th>\n",
       "      <td>4.0</td>\n",
       "      <td>4.0</td>\n",
       "      <td>0.0</td>\n",
       "      <td>-1.0</td>\n",
       "      <td>1.0</td>\n",
       "      <td>['hemoglobin', 'mcv', 'segmented_neutrophils',...</td>\n",
       "      <td>0.0</td>\n",
       "      <td>7.0</td>\n",
       "      <td>7.0</td>\n",
       "    </tr>\n",
       "  </tbody>\n",
       "</table>\n",
       "</div>"
      ],
      "text/plain": [
       "   episode_length  index  is_success  reward  terminated  \\\n",
       "0             4.0    0.0         1.0     1.0         0.0   \n",
       "1             4.0    1.0         0.0    -1.0         0.0   \n",
       "2             5.0    2.0         1.0     1.0         0.0   \n",
       "3             4.0    3.0         0.0    -1.0         1.0   \n",
       "4             4.0    4.0         0.0    -1.0         1.0   \n",
       "\n",
       "                                          trajectory  y_actual  dqn_y_pred  \\\n",
       "0  ['hemoglobin', 'mcv', 'segmented_neutrophils',...       1.0         1.0   \n",
       "1  ['hemoglobin', 'mcv', 'ret_count', 'Aplastic a...       5.0         6.0   \n",
       "2  ['hemoglobin', 'gender', 'mcv', 'tibc', 'Anemi...       3.0         3.0   \n",
       "3  ['hemoglobin', 'mcv', 'segmented_neutrophils',...       2.0         7.0   \n",
       "4  ['hemoglobin', 'mcv', 'segmented_neutrophils',...       0.0         7.0   \n",
       "\n",
       "   dt_y_pred  \n",
       "0        1.0  \n",
       "1        6.0  \n",
       "2        3.0  \n",
       "3        7.0  \n",
       "4        7.0  "
      ]
     },
     "execution_count": 8,
     "metadata": {},
     "output_type": "execute_result"
    }
   ],
   "source": [
    "test_df = dqn_test_df.copy()\n",
    "test_df = test_df.rename({'y_pred': 'dqn_y_pred'}, axis=1)\n",
    "test_df['dt_y_pred'] = dt_test_df['y_pred']\n",
    "test_df.head()"
   ]
  },
  {
   "cell_type": "code",
   "execution_count": 36,
   "metadata": {},
   "outputs": [
    {
     "data": {
      "text/plain": [
       "7.0    3254\n",
       "0.0    2079\n",
       "6.0    1923\n",
       "3.0    1801\n",
       "5.0    1460\n",
       "4.0    1299\n",
       "1.0    1167\n",
       "2.0    1017\n",
       "Name: dqn_y_pred, dtype: int64"
      ]
     },
     "execution_count": 36,
     "metadata": {},
     "output_type": "execute_result"
    }
   ],
   "source": [
    "test_df.dqn_y_pred.value_counts()"
   ]
  },
  {
   "cell_type": "code",
   "execution_count": 37,
   "metadata": {},
   "outputs": [
    {
     "data": {
      "text/plain": [
       "0.0    1999\n",
       "3.0    1339\n",
       "6.0    1141\n",
       "5.0    1102\n",
       "4.0    1082\n",
       "7.0     891\n",
       "2.0     887\n",
       "1.0     847\n",
       "Name: dt_y_pred, dtype: int64"
      ]
     },
     "execution_count": 37,
     "metadata": {},
     "output_type": "execute_result"
    }
   ],
   "source": [
    "test_df[test_df.y_actual==test_df.dqn_y_pred].dt_y_pred.value_counts()"
   ]
  },
  {
   "cell_type": "markdown",
   "metadata": {},
   "source": [
    "#### Episodes where DQN performs better than DT agent"
   ]
  },
  {
   "cell_type": "code",
   "execution_count": 11,
   "metadata": {},
   "outputs": [
    {
     "data": {
      "text/html": [
       "<div>\n",
       "<style scoped>\n",
       "    .dataframe tbody tr th:only-of-type {\n",
       "        vertical-align: middle;\n",
       "    }\n",
       "\n",
       "    .dataframe tbody tr th {\n",
       "        vertical-align: top;\n",
       "    }\n",
       "\n",
       "    .dataframe thead th {\n",
       "        text-align: right;\n",
       "    }\n",
       "</style>\n",
       "<table border=\"1\" class=\"dataframe\">\n",
       "  <thead>\n",
       "    <tr style=\"text-align: right;\">\n",
       "      <th></th>\n",
       "      <th>episode_length</th>\n",
       "      <th>index</th>\n",
       "      <th>is_success</th>\n",
       "      <th>reward</th>\n",
       "      <th>terminated</th>\n",
       "      <th>trajectory</th>\n",
       "      <th>y_actual</th>\n",
       "      <th>dqn_y_pred</th>\n",
       "      <th>dt_y_pred</th>\n",
       "    </tr>\n",
       "  </thead>\n",
       "  <tbody>\n",
       "    <tr>\n",
       "      <th>35</th>\n",
       "      <td>5.0</td>\n",
       "      <td>35.0</td>\n",
       "      <td>1.0</td>\n",
       "      <td>1.0</td>\n",
       "      <td>0.0</td>\n",
       "      <td>['hemoglobin', 'gender', 'mcv', 'ret_count', '...</td>\n",
       "      <td>6.0</td>\n",
       "      <td>6.0</td>\n",
       "      <td>5.0</td>\n",
       "    </tr>\n",
       "    <tr>\n",
       "      <th>50</th>\n",
       "      <td>5.0</td>\n",
       "      <td>50.0</td>\n",
       "      <td>1.0</td>\n",
       "      <td>1.0</td>\n",
       "      <td>0.0</td>\n",
       "      <td>['hemoglobin', 'gender', 'mcv', 'tibc', 'Anemi...</td>\n",
       "      <td>3.0</td>\n",
       "      <td>3.0</td>\n",
       "      <td>4.0</td>\n",
       "    </tr>\n",
       "    <tr>\n",
       "      <th>66</th>\n",
       "      <td>4.0</td>\n",
       "      <td>66.0</td>\n",
       "      <td>1.0</td>\n",
       "      <td>1.0</td>\n",
       "      <td>0.0</td>\n",
       "      <td>['hemoglobin', 'mcv', 'tibc', 'Anemia of chron...</td>\n",
       "      <td>3.0</td>\n",
       "      <td>3.0</td>\n",
       "      <td>4.0</td>\n",
       "    </tr>\n",
       "    <tr>\n",
       "      <th>131</th>\n",
       "      <td>5.0</td>\n",
       "      <td>131.0</td>\n",
       "      <td>1.0</td>\n",
       "      <td>1.0</td>\n",
       "      <td>0.0</td>\n",
       "      <td>['hemoglobin', 'mcv', 'tibc', 'ferritin', 'Iro...</td>\n",
       "      <td>4.0</td>\n",
       "      <td>4.0</td>\n",
       "      <td>3.0</td>\n",
       "    </tr>\n",
       "    <tr>\n",
       "      <th>148</th>\n",
       "      <td>5.0</td>\n",
       "      <td>148.0</td>\n",
       "      <td>1.0</td>\n",
       "      <td>1.0</td>\n",
       "      <td>0.0</td>\n",
       "      <td>['hemoglobin', 'gender', 'mcv', 'ret_count', '...</td>\n",
       "      <td>6.0</td>\n",
       "      <td>6.0</td>\n",
       "      <td>5.0</td>\n",
       "    </tr>\n",
       "  </tbody>\n",
       "</table>\n",
       "</div>"
      ],
      "text/plain": [
       "     episode_length  index  is_success  reward  terminated  \\\n",
       "35              5.0   35.0         1.0     1.0         0.0   \n",
       "50              5.0   50.0         1.0     1.0         0.0   \n",
       "66              4.0   66.0         1.0     1.0         0.0   \n",
       "131             5.0  131.0         1.0     1.0         0.0   \n",
       "148             5.0  148.0         1.0     1.0         0.0   \n",
       "\n",
       "                                            trajectory  y_actual  dqn_y_pred  \\\n",
       "35   ['hemoglobin', 'gender', 'mcv', 'ret_count', '...       6.0         6.0   \n",
       "50   ['hemoglobin', 'gender', 'mcv', 'tibc', 'Anemi...       3.0         3.0   \n",
       "66   ['hemoglobin', 'mcv', 'tibc', 'Anemia of chron...       3.0         3.0   \n",
       "131  ['hemoglobin', 'mcv', 'tibc', 'ferritin', 'Iro...       4.0         4.0   \n",
       "148  ['hemoglobin', 'gender', 'mcv', 'ret_count', '...       6.0         6.0   \n",
       "\n",
       "     dt_y_pred  \n",
       "35         5.0  \n",
       "50         4.0  \n",
       "66         4.0  \n",
       "131        3.0  \n",
       "148        5.0  "
      ]
     },
     "execution_count": 11,
     "metadata": {},
     "output_type": "execute_result"
    }
   ],
   "source": [
    "better_dqn_df = test_df[(test_df.y_actual==test_df.dqn_y_pred) & (test_df.y_actual!=test_df.dt_y_pred)]\n",
    "better_dqn_df.head()"
   ]
  },
  {
   "cell_type": "code",
   "execution_count": 12,
   "metadata": {},
   "outputs": [
    {
     "data": {
      "text/plain": [
       "252"
      ]
     },
     "execution_count": 12,
     "metadata": {},
     "output_type": "execute_result"
    }
   ],
   "source": [
    "len(better_dqn_df)"
   ]
  },
  {
   "cell_type": "code",
   "execution_count": 13,
   "metadata": {},
   "outputs": [
    {
     "data": {
      "text/plain": [
       "5.0    112\n",
       "3.0     70\n",
       "4.0     49\n",
       "1.0     13\n",
       "7.0      7\n",
       "2.0      1\n",
       "Name: dt_y_pred, dtype: int64"
      ]
     },
     "execution_count": 13,
     "metadata": {},
     "output_type": "execute_result"
    }
   ],
   "source": [
    "better_dqn_df.dt_y_pred.value_counts()"
   ]
  },
  {
   "cell_type": "code",
   "execution_count": 14,
   "metadata": {},
   "outputs": [
    {
     "data": {
      "text/plain": [
       "6.0    113\n",
       "4.0     70\n",
       "3.0     50\n",
       "2.0     12\n",
       "0.0      6\n",
       "5.0      1\n",
       "Name: dqn_y_pred, dtype: int64"
      ]
     },
     "execution_count": 14,
     "metadata": {},
     "output_type": "execute_result"
    }
   ],
   "source": [
    "better_dqn_df.dqn_y_pred.value_counts()"
   ]
  },
  {
   "cell_type": "code",
   "execution_count": 15,
   "metadata": {},
   "outputs": [
    {
     "data": {
      "text/plain": [
       "5.0    101\n",
       "1.0     12\n",
       "Name: dt_y_pred, dtype: int64"
      ]
     },
     "execution_count": 15,
     "metadata": {},
     "output_type": "execute_result"
    }
   ],
   "source": [
    "better_dqn_df[better_dqn_df.y_actual==6].dt_y_pred.value_counts()"
   ]
  },
  {
   "cell_type": "code",
   "execution_count": 16,
   "metadata": {},
   "outputs": [
    {
     "data": {
      "text/plain": [
       "array([[  0,   0,   1,   2,   1,   1,   0,   1],\n",
       "       [  0,   0,   0,   0,   0,   0,   0,   0],\n",
       "       [  0,   0,   0,   0,   0,   8,   0,   4],\n",
       "       [  0,   0,   0,   0,  48,   2,   0,   0],\n",
       "       [  0,   0,   0,  68,   0,   0,   0,   2],\n",
       "       [  0,   1,   0,   0,   0,   0,   0,   0],\n",
       "       [  0,  12,   0,   0,   0, 101,   0,   0],\n",
       "       [  0,   0,   0,   0,   0,   0,   0,   0]], dtype=int64)"
      ]
     },
     "execution_count": 16,
     "metadata": {},
     "output_type": "execute_result"
    }
   ],
   "source": [
    "cm = utils.confusion_matrix(better_dqn_df['y_actual'], better_dqn_df['dt_y_pred'])\n",
    "cm"
   ]
  },
  {
   "cell_type": "code",
   "execution_count": 17,
   "metadata": {},
   "outputs": [
    {
     "data": {
      "text/html": [
       "<div>\n",
       "<style scoped>\n",
       "    .dataframe tbody tr th:only-of-type {\n",
       "        vertical-align: middle;\n",
       "    }\n",
       "\n",
       "    .dataframe tbody tr th {\n",
       "        vertical-align: top;\n",
       "    }\n",
       "\n",
       "    .dataframe thead th {\n",
       "        text-align: right;\n",
       "    }\n",
       "</style>\n",
       "<table border=\"1\" class=\"dataframe\">\n",
       "  <thead>\n",
       "    <tr style=\"text-align: right;\">\n",
       "      <th></th>\n",
       "      <th>No anemia</th>\n",
       "      <th>Vitamin B12/Folate deficiency anemia</th>\n",
       "      <th>Unspecified anemia</th>\n",
       "      <th>Anemia of chronic disease</th>\n",
       "      <th>Iron deficiency anemia</th>\n",
       "      <th>Hemolytic anemia</th>\n",
       "      <th>Aplastic anemia</th>\n",
       "      <th>Inconclusive diagnosis</th>\n",
       "    </tr>\n",
       "  </thead>\n",
       "  <tbody>\n",
       "    <tr>\n",
       "      <th>No anemia</th>\n",
       "      <td>0</td>\n",
       "      <td>0</td>\n",
       "      <td>1</td>\n",
       "      <td>2</td>\n",
       "      <td>1</td>\n",
       "      <td>1</td>\n",
       "      <td>0</td>\n",
       "      <td>1</td>\n",
       "    </tr>\n",
       "    <tr>\n",
       "      <th>Vitamin B12/Folate deficiency anemia</th>\n",
       "      <td>0</td>\n",
       "      <td>0</td>\n",
       "      <td>0</td>\n",
       "      <td>0</td>\n",
       "      <td>0</td>\n",
       "      <td>0</td>\n",
       "      <td>0</td>\n",
       "      <td>0</td>\n",
       "    </tr>\n",
       "    <tr>\n",
       "      <th>Unspecified anemia</th>\n",
       "      <td>0</td>\n",
       "      <td>0</td>\n",
       "      <td>0</td>\n",
       "      <td>0</td>\n",
       "      <td>0</td>\n",
       "      <td>8</td>\n",
       "      <td>0</td>\n",
       "      <td>4</td>\n",
       "    </tr>\n",
       "    <tr>\n",
       "      <th>Anemia of chronic disease</th>\n",
       "      <td>0</td>\n",
       "      <td>0</td>\n",
       "      <td>0</td>\n",
       "      <td>0</td>\n",
       "      <td>48</td>\n",
       "      <td>2</td>\n",
       "      <td>0</td>\n",
       "      <td>0</td>\n",
       "    </tr>\n",
       "    <tr>\n",
       "      <th>Iron deficiency anemia</th>\n",
       "      <td>0</td>\n",
       "      <td>0</td>\n",
       "      <td>0</td>\n",
       "      <td>68</td>\n",
       "      <td>0</td>\n",
       "      <td>0</td>\n",
       "      <td>0</td>\n",
       "      <td>2</td>\n",
       "    </tr>\n",
       "    <tr>\n",
       "      <th>Hemolytic anemia</th>\n",
       "      <td>0</td>\n",
       "      <td>1</td>\n",
       "      <td>0</td>\n",
       "      <td>0</td>\n",
       "      <td>0</td>\n",
       "      <td>0</td>\n",
       "      <td>0</td>\n",
       "      <td>0</td>\n",
       "    </tr>\n",
       "    <tr>\n",
       "      <th>Aplastic anemia</th>\n",
       "      <td>0</td>\n",
       "      <td>12</td>\n",
       "      <td>0</td>\n",
       "      <td>0</td>\n",
       "      <td>0</td>\n",
       "      <td>101</td>\n",
       "      <td>0</td>\n",
       "      <td>0</td>\n",
       "    </tr>\n",
       "    <tr>\n",
       "      <th>Inconclusive diagnosis</th>\n",
       "      <td>0</td>\n",
       "      <td>0</td>\n",
       "      <td>0</td>\n",
       "      <td>0</td>\n",
       "      <td>0</td>\n",
       "      <td>0</td>\n",
       "      <td>0</td>\n",
       "      <td>0</td>\n",
       "    </tr>\n",
       "  </tbody>\n",
       "</table>\n",
       "</div>"
      ],
      "text/plain": [
       "                                      No anemia  \\\n",
       "No anemia                                     0   \n",
       "Vitamin B12/Folate deficiency anemia          0   \n",
       "Unspecified anemia                            0   \n",
       "Anemia of chronic disease                     0   \n",
       "Iron deficiency anemia                        0   \n",
       "Hemolytic anemia                              0   \n",
       "Aplastic anemia                               0   \n",
       "Inconclusive diagnosis                        0   \n",
       "\n",
       "                                      Vitamin B12/Folate deficiency anemia  \\\n",
       "No anemia                                                                0   \n",
       "Vitamin B12/Folate deficiency anemia                                     0   \n",
       "Unspecified anemia                                                       0   \n",
       "Anemia of chronic disease                                                0   \n",
       "Iron deficiency anemia                                                   0   \n",
       "Hemolytic anemia                                                         1   \n",
       "Aplastic anemia                                                         12   \n",
       "Inconclusive diagnosis                                                   0   \n",
       "\n",
       "                                      Unspecified anemia  \\\n",
       "No anemia                                              1   \n",
       "Vitamin B12/Folate deficiency anemia                   0   \n",
       "Unspecified anemia                                     0   \n",
       "Anemia of chronic disease                              0   \n",
       "Iron deficiency anemia                                 0   \n",
       "Hemolytic anemia                                       0   \n",
       "Aplastic anemia                                        0   \n",
       "Inconclusive diagnosis                                 0   \n",
       "\n",
       "                                      Anemia of chronic disease  \\\n",
       "No anemia                                                     2   \n",
       "Vitamin B12/Folate deficiency anemia                          0   \n",
       "Unspecified anemia                                            0   \n",
       "Anemia of chronic disease                                     0   \n",
       "Iron deficiency anemia                                       68   \n",
       "Hemolytic anemia                                              0   \n",
       "Aplastic anemia                                               0   \n",
       "Inconclusive diagnosis                                        0   \n",
       "\n",
       "                                      Iron deficiency anemia  \\\n",
       "No anemia                                                  1   \n",
       "Vitamin B12/Folate deficiency anemia                       0   \n",
       "Unspecified anemia                                         0   \n",
       "Anemia of chronic disease                                 48   \n",
       "Iron deficiency anemia                                     0   \n",
       "Hemolytic anemia                                           0   \n",
       "Aplastic anemia                                            0   \n",
       "Inconclusive diagnosis                                     0   \n",
       "\n",
       "                                      Hemolytic anemia  Aplastic anemia  \\\n",
       "No anemia                                            1                0   \n",
       "Vitamin B12/Folate deficiency anemia                 0                0   \n",
       "Unspecified anemia                                   8                0   \n",
       "Anemia of chronic disease                            2                0   \n",
       "Iron deficiency anemia                               0                0   \n",
       "Hemolytic anemia                                     0                0   \n",
       "Aplastic anemia                                    101                0   \n",
       "Inconclusive diagnosis                               0                0   \n",
       "\n",
       "                                      Inconclusive diagnosis  \n",
       "No anemia                                                  1  \n",
       "Vitamin B12/Folate deficiency anemia                       0  \n",
       "Unspecified anemia                                         4  \n",
       "Anemia of chronic disease                                  0  \n",
       "Iron deficiency anemia                                     2  \n",
       "Hemolytic anemia                                           0  \n",
       "Aplastic anemia                                            0  \n",
       "Inconclusive diagnosis                                     0  "
      ]
     },
     "execution_count": 17,
     "metadata": {},
     "output_type": "execute_result"
    }
   ],
   "source": [
    "cm_df = pd.DataFrame(cm, columns = list(constants.CLASS_DICT.keys()), index=list(constants.CLASS_DICT.keys()))\n",
    "cm_df"
   ]
  },
  {
   "cell_type": "code",
   "execution_count": 18,
   "metadata": {},
   "outputs": [
    {
     "data": {
      "image/png": "[encoded data removed]",
      "text/plain": [
       "<Figure size 576x432 with 2 Axes>"
      ]
     },
     "metadata": {
      "needs_background": "light"
     },
     "output_type": "display_data"
    }
   ],
   "source": [
    "import seaborn as sns\n",
    "plt.figure(figsize=(8, 6))\n",
    "plt.title('Confusion Matrix')\n",
    "plt.ylabel('Actual Anemia')\n",
    "plt.xlabel('Predicted Anemia')\n",
    "ax = sns.heatmap(cm_df, annot=True)\n",
    "bottom, top = ax.get_ylim()\n",
    "ax.set_ylim(bottom + 0.5, top - 0.5)\n",
    "plt.show()"
   ]
  },
  {
   "cell_type": "code",
   "execution_count": 19,
   "metadata": {},
   "outputs": [],
   "source": [
    "def plot_confusion_matrix(y_actual, y_pred, save=False, filename=False):\n",
    "    from sklearn.metrics import confusion_matrix\n",
    "    import seaborn as sns\n",
    "    cm = confusion_matrix(y_actual, y_pred)\n",
    "    cm_df = pd.DataFrame(cm, index = list(constants.CLASS_DICT.keys()), columns = list(constants.CLASS_DICT.keys()))\n",
    "    #cm_df = pd.DataFrame(cm, index = list(constants.CLASS_DICT.keys()), columns = list(constants.CLASS_DICT.keys()))\n",
    "    plt.figure(figsize=(8, 6))\n",
    "    ax=sns.heatmap(cm_df, annot=True)\n",
    "    bottom, top = ax.get_ylim()\n",
    "    ax.set_ylim(bottom + 0.5, top - 0.5)\n",
    "    plt.title('Confusion Matrix')\n",
    "    plt.ylabel('Actual Anemia')\n",
    "    plt.xlabel('Predicted Anemia')\n",
    "    #plt.tight_layout()\n",
    "    if save:\n",
    "        plt.savefig(filename)\n",
    "    plt.show()\n",
    "    #plt.close()"
   ]
  },
  {
   "cell_type": "code",
   "execution_count": 20,
   "metadata": {},
   "outputs": [
    {
     "data": {
      "image/png": "[encoded data removed]",
      "text/plain": [
       "<Figure size 576x432 with 2 Axes>"
      ]
     },
     "metadata": {
      "needs_background": "light"
     },
     "output_type": "display_data"
    }
   ],
   "source": [
    "plot_confusion_matrix(better_dqn_df['y_actual'], better_dqn_df['dt_y_pred'])"
   ]
  },
  {
   "cell_type": "code",
   "execution_count": 21,
   "metadata": {},
   "outputs": [
    {
     "data": {
      "text/plain": [
       "['hemoglobin', 'mcv', 'segmented_neutrophils', 'Unspecified anemia']              9\n",
       "['hemoglobin', 'gender', 'mcv', 'segmented_neutrophils', 'Unspecified anemia']    3\n",
       "Name: trajectory, dtype: int64"
      ]
     },
     "execution_count": 21,
     "metadata": {},
     "output_type": "execute_result"
    }
   ],
   "source": [
    "better_dqn_df[better_dqn_df.y_actual==2].trajectory.value_counts()"
   ]
  },
  {
   "cell_type": "markdown",
   "metadata": {},
   "source": [
    "#### Episodes where DT agent is better than DQN"
   ]
  },
  {
   "cell_type": "code",
   "execution_count": 22,
   "metadata": {},
   "outputs": [
    {
     "data": {
      "text/html": [
       "<div>\n",
       "<style scoped>\n",
       "    .dataframe tbody tr th:only-of-type {\n",
       "        vertical-align: middle;\n",
       "    }\n",
       "\n",
       "    .dataframe tbody tr th {\n",
       "        vertical-align: top;\n",
       "    }\n",
       "\n",
       "    .dataframe thead th {\n",
       "        text-align: right;\n",
       "    }\n",
       "</style>\n",
       "<table border=\"1\" class=\"dataframe\">\n",
       "  <thead>\n",
       "    <tr style=\"text-align: right;\">\n",
       "      <th></th>\n",
       "      <th>episode_length</th>\n",
       "      <th>index</th>\n",
       "      <th>is_success</th>\n",
       "      <th>reward</th>\n",
       "      <th>terminated</th>\n",
       "      <th>trajectory</th>\n",
       "      <th>y_actual</th>\n",
       "      <th>dqn_y_pred</th>\n",
       "      <th>dt_y_pred</th>\n",
       "    </tr>\n",
       "  </thead>\n",
       "  <tbody>\n",
       "    <tr>\n",
       "      <th>6</th>\n",
       "      <td>5.0</td>\n",
       "      <td>6.0</td>\n",
       "      <td>0.0</td>\n",
       "      <td>-1.0</td>\n",
       "      <td>1.0</td>\n",
       "      <td>['hemoglobin', 'mcv', 'ret_count', 'gender', '...</td>\n",
       "      <td>5.0</td>\n",
       "      <td>7.0</td>\n",
       "      <td>5.0</td>\n",
       "    </tr>\n",
       "    <tr>\n",
       "      <th>17</th>\n",
       "      <td>4.0</td>\n",
       "      <td>17.0</td>\n",
       "      <td>0.0</td>\n",
       "      <td>-1.0</td>\n",
       "      <td>0.0</td>\n",
       "      <td>['hemoglobin', 'mcv', 'tibc', 'Anemia of chron...</td>\n",
       "      <td>4.0</td>\n",
       "      <td>3.0</td>\n",
       "      <td>4.0</td>\n",
       "    </tr>\n",
       "    <tr>\n",
       "      <th>86</th>\n",
       "      <td>5.0</td>\n",
       "      <td>86.0</td>\n",
       "      <td>0.0</td>\n",
       "      <td>-1.0</td>\n",
       "      <td>0.0</td>\n",
       "      <td>['hemoglobin', 'mcv', 'tibc', 'ferritin', 'Iro...</td>\n",
       "      <td>3.0</td>\n",
       "      <td>4.0</td>\n",
       "      <td>3.0</td>\n",
       "    </tr>\n",
       "    <tr>\n",
       "      <th>117</th>\n",
       "      <td>3.0</td>\n",
       "      <td>117.0</td>\n",
       "      <td>0.0</td>\n",
       "      <td>-1.0</td>\n",
       "      <td>0.0</td>\n",
       "      <td>['hemoglobin', 'gender', 'No anemia']</td>\n",
       "      <td>3.0</td>\n",
       "      <td>0.0</td>\n",
       "      <td>3.0</td>\n",
       "    </tr>\n",
       "    <tr>\n",
       "      <th>142</th>\n",
       "      <td>5.0</td>\n",
       "      <td>142.0</td>\n",
       "      <td>0.0</td>\n",
       "      <td>-1.0</td>\n",
       "      <td>0.0</td>\n",
       "      <td>['hemoglobin', 'mcv', 'tibc', 'ferritin', 'Iro...</td>\n",
       "      <td>3.0</td>\n",
       "      <td>4.0</td>\n",
       "      <td>3.0</td>\n",
       "    </tr>\n",
       "  </tbody>\n",
       "</table>\n",
       "</div>"
      ],
      "text/plain": [
       "     episode_length  index  is_success  reward  terminated  \\\n",
       "6               5.0    6.0         0.0    -1.0         1.0   \n",
       "17              4.0   17.0         0.0    -1.0         0.0   \n",
       "86              5.0   86.0         0.0    -1.0         0.0   \n",
       "117             3.0  117.0         0.0    -1.0         0.0   \n",
       "142             5.0  142.0         0.0    -1.0         0.0   \n",
       "\n",
       "                                            trajectory  y_actual  dqn_y_pred  \\\n",
       "6    ['hemoglobin', 'mcv', 'ret_count', 'gender', '...       5.0         7.0   \n",
       "17   ['hemoglobin', 'mcv', 'tibc', 'Anemia of chron...       4.0         3.0   \n",
       "86   ['hemoglobin', 'mcv', 'tibc', 'ferritin', 'Iro...       3.0         4.0   \n",
       "117              ['hemoglobin', 'gender', 'No anemia']       3.0         0.0   \n",
       "142  ['hemoglobin', 'mcv', 'tibc', 'ferritin', 'Iro...       3.0         4.0   \n",
       "\n",
       "     dt_y_pred  \n",
       "6          5.0  \n",
       "17         4.0  \n",
       "86         3.0  \n",
       "117        3.0  \n",
       "142        3.0  "
      ]
     },
     "execution_count": 22,
     "metadata": {},
     "output_type": "execute_result"
    }
   ],
   "source": [
    "better_dt_df = test_df[(test_df.y_actual!=test_df.dqn_y_pred) & (test_df.y_actual==test_df.dt_y_pred)]\n",
    "better_dt_df.head()"
   ]
  },
  {
   "cell_type": "code",
   "execution_count": 23,
   "metadata": {},
   "outputs": [
    {
     "data": {
      "text/plain": [
       "722"
      ]
     },
     "execution_count": 23,
     "metadata": {},
     "output_type": "execute_result"
    }
   ],
   "source": [
    "len(better_dt_df)"
   ]
  },
  {
   "cell_type": "code",
   "execution_count": 24,
   "metadata": {},
   "outputs": [
    {
     "data": {
      "text/plain": [
       "4.0    197\n",
       "5.0    189\n",
       "3.0    139\n",
       "1.0     97\n",
       "6.0     42\n",
       "0.0     29\n",
       "2.0     19\n",
       "7.0     10\n",
       "Name: dt_y_pred, dtype: int64"
      ]
     },
     "execution_count": 24,
     "metadata": {},
     "output_type": "execute_result"
    }
   ],
   "source": [
    "better_dt_df.dt_y_pred.value_counts()"
   ]
  },
  {
   "cell_type": "code",
   "execution_count": 25,
   "metadata": {},
   "outputs": [
    {
     "data": {
      "text/plain": [
       "6.0    113\n",
       "4.0     70\n",
       "3.0     50\n",
       "2.0     12\n",
       "0.0      6\n",
       "5.0      1\n",
       "Name: dqn_y_pred, dtype: int64"
      ]
     },
     "execution_count": 25,
     "metadata": {},
     "output_type": "execute_result"
    }
   ],
   "source": [
    "better_dqn_df.dqn_y_pred.value_counts()"
   ]
  },
  {
   "cell_type": "code",
   "execution_count": 26,
   "metadata": {},
   "outputs": [
    {
     "data": {
      "text/plain": [
       "7.0    486\n",
       "5.0    116\n",
       "3.0     51\n",
       "6.0     47\n",
       "2.0     19\n",
       "4.0      4\n",
       "Name: dt_y_pred, dtype: int64"
      ]
     },
     "execution_count": 26,
     "metadata": {},
     "output_type": "execute_result"
    }
   ],
   "source": [
    "test_df[(test_df.y_actual==2) & (test_df.dqn_y_pred!=2)].dt_y_pred.value_counts()"
   ]
  },
  {
   "cell_type": "markdown",
   "metadata": {},
   "source": [
    "#### Shorter DQN paths"
   ]
  },
  {
   "cell_type": "code",
   "execution_count": 27,
   "metadata": {},
   "outputs": [
    {
     "data": {
      "text/html": [
       "<div>\n",
       "<style scoped>\n",
       "    .dataframe tbody tr th:only-of-type {\n",
       "        vertical-align: middle;\n",
       "    }\n",
       "\n",
       "    .dataframe tbody tr th {\n",
       "        vertical-align: top;\n",
       "    }\n",
       "\n",
       "    .dataframe thead th {\n",
       "        text-align: right;\n",
       "    }\n",
       "</style>\n",
       "<table border=\"1\" class=\"dataframe\">\n",
       "  <thead>\n",
       "    <tr style=\"text-align: right;\">\n",
       "      <th></th>\n",
       "      <th>dqn_length</th>\n",
       "      <th>is_success</th>\n",
       "      <th>terminated</th>\n",
       "      <th>dqn_trajectory</th>\n",
       "      <th>y_actual</th>\n",
       "      <th>dqn_y_pred</th>\n",
       "      <th>dt_y_pred</th>\n",
       "      <th>dt_trajectory</th>\n",
       "      <th>dt_length</th>\n",
       "    </tr>\n",
       "  </thead>\n",
       "  <tbody>\n",
       "    <tr>\n",
       "      <th>0</th>\n",
       "      <td>4.0</td>\n",
       "      <td>1.0</td>\n",
       "      <td>0.0</td>\n",
       "      <td>[hemoglobin, mcv, segmented_neutrophils, Vitam...</td>\n",
       "      <td>1.0</td>\n",
       "      <td>1.0</td>\n",
       "      <td>1.0</td>\n",
       "      <td>[hemoglobin, mcv, segmented_neutrophils, Vitam...</td>\n",
       "      <td>4.0</td>\n",
       "    </tr>\n",
       "    <tr>\n",
       "      <th>1</th>\n",
       "      <td>4.0</td>\n",
       "      <td>0.0</td>\n",
       "      <td>0.0</td>\n",
       "      <td>[hemoglobin, mcv, ret_count, Aplastic anemia]</td>\n",
       "      <td>5.0</td>\n",
       "      <td>6.0</td>\n",
       "      <td>6.0</td>\n",
       "      <td>[hemoglobin, mcv, ret_count, Aplastic anemia]</td>\n",
       "      <td>4.0</td>\n",
       "    </tr>\n",
       "    <tr>\n",
       "      <th>2</th>\n",
       "      <td>5.0</td>\n",
       "      <td>1.0</td>\n",
       "      <td>0.0</td>\n",
       "      <td>[hemoglobin, gender, mcv, tibc, Anemia of chro...</td>\n",
       "      <td>3.0</td>\n",
       "      <td>3.0</td>\n",
       "      <td>3.0</td>\n",
       "      <td>[hemoglobin, gender, mcv, ferritin, tibc, Anem...</td>\n",
       "      <td>6.0</td>\n",
       "    </tr>\n",
       "    <tr>\n",
       "      <th>3</th>\n",
       "      <td>4.0</td>\n",
       "      <td>0.0</td>\n",
       "      <td>1.0</td>\n",
       "      <td>[hemoglobin, mcv, segmented_neutrophils, Incon...</td>\n",
       "      <td>2.0</td>\n",
       "      <td>7.0</td>\n",
       "      <td>7.0</td>\n",
       "      <td>[hemoglobin, mcv, segmented_neutrophils, Incon...</td>\n",
       "      <td>4.0</td>\n",
       "    </tr>\n",
       "    <tr>\n",
       "      <th>4</th>\n",
       "      <td>4.0</td>\n",
       "      <td>0.0</td>\n",
       "      <td>1.0</td>\n",
       "      <td>[hemoglobin, mcv, segmented_neutrophils, Incon...</td>\n",
       "      <td>0.0</td>\n",
       "      <td>7.0</td>\n",
       "      <td>7.0</td>\n",
       "      <td>[hemoglobin, mcv, segmented_neutrophils, Incon...</td>\n",
       "      <td>4.0</td>\n",
       "    </tr>\n",
       "  </tbody>\n",
       "</table>\n",
       "</div>"
      ],
      "text/plain": [
       "   dqn_length  is_success  terminated  \\\n",
       "0         4.0         1.0         0.0   \n",
       "1         4.0         0.0         0.0   \n",
       "2         5.0         1.0         0.0   \n",
       "3         4.0         0.0         1.0   \n",
       "4         4.0         0.0         1.0   \n",
       "\n",
       "                                      dqn_trajectory  y_actual  dqn_y_pred  \\\n",
       "0  [hemoglobin, mcv, segmented_neutrophils, Vitam...       1.0         1.0   \n",
       "1      [hemoglobin, mcv, ret_count, Aplastic anemia]       5.0         6.0   \n",
       "2  [hemoglobin, gender, mcv, tibc, Anemia of chro...       3.0         3.0   \n",
       "3  [hemoglobin, mcv, segmented_neutrophils, Incon...       2.0         7.0   \n",
       "4  [hemoglobin, mcv, segmented_neutrophils, Incon...       0.0         7.0   \n",
       "\n",
       "   dt_y_pred                                      dt_trajectory  dt_length  \n",
       "0        1.0  [hemoglobin, mcv, segmented_neutrophils, Vitam...        4.0  \n",
       "1        6.0      [hemoglobin, mcv, ret_count, Aplastic anemia]        4.0  \n",
       "2        3.0  [hemoglobin, gender, mcv, ferritin, tibc, Anem...        6.0  \n",
       "3        7.0  [hemoglobin, mcv, segmented_neutrophils, Incon...        4.0  \n",
       "4        7.0  [hemoglobin, mcv, segmented_neutrophils, Incon...        4.0  "
      ]
     },
     "execution_count": 27,
     "metadata": {},
     "output_type": "execute_result"
    }
   ],
   "source": [
    "shorters_df = test_df.copy()\n",
    "shorters_df = shorters_df.rename({'trajectory':'dqn_trajectory', 'episode_length':'dqn_length'}, axis=1)\n",
    "shorters_df['dt_trajectory'] = dt_test_df['trajectory']\n",
    "shorters_df['dt_length'] = dt_test_df['episode_length']\n",
    "shorters_df = shorters_df.drop(['index', 'reward'], axis=1)\n",
    "shorters_df['dt_trajectory'] = shorters_df['dt_trajectory'].apply(lambda x: ast.literal_eval(x))\n",
    "shorters_df['dqn_trajectory'] = shorters_df['dqn_trajectory'].apply(lambda x: ast.literal_eval(x))\n",
    "shorters_df.head()"
   ]
  },
  {
   "cell_type": "code",
   "execution_count": 28,
   "metadata": {},
   "outputs": [
    {
     "data": {
      "text/html": [
       "<div>\n",
       "<style scoped>\n",
       "    .dataframe tbody tr th:only-of-type {\n",
       "        vertical-align: middle;\n",
       "    }\n",
       "\n",
       "    .dataframe tbody tr th {\n",
       "        vertical-align: top;\n",
       "    }\n",
       "\n",
       "    .dataframe thead th {\n",
       "        text-align: right;\n",
       "    }\n",
       "</style>\n",
       "<table border=\"1\" class=\"dataframe\">\n",
       "  <thead>\n",
       "    <tr style=\"text-align: right;\">\n",
       "      <th></th>\n",
       "      <th>dqn_length</th>\n",
       "      <th>dqn_trajectory</th>\n",
       "      <th>dqn_y_pred</th>\n",
       "      <th>dt_length</th>\n",
       "      <th>dt_trajectory</th>\n",
       "      <th>dt_y_pred</th>\n",
       "      <th>is_success</th>\n",
       "      <th>terminated</th>\n",
       "      <th>y_actual</th>\n",
       "    </tr>\n",
       "  </thead>\n",
       "  <tbody>\n",
       "    <tr>\n",
       "      <th>2</th>\n",
       "      <td>5.0</td>\n",
       "      <td>[hemoglobin, gender, mcv, tibc, Anemia of chro...</td>\n",
       "      <td>3.0</td>\n",
       "      <td>6.0</td>\n",
       "      <td>[hemoglobin, gender, mcv, ferritin, tibc, Anem...</td>\n",
       "      <td>3.0</td>\n",
       "      <td>1.0</td>\n",
       "      <td>0.0</td>\n",
       "      <td>3.0</td>\n",
       "    </tr>\n",
       "    <tr>\n",
       "      <th>7</th>\n",
       "      <td>4.0</td>\n",
       "      <td>[hemoglobin, mcv, tibc, Inconclusive diagnosis]</td>\n",
       "      <td>7.0</td>\n",
       "      <td>5.0</td>\n",
       "      <td>[hemoglobin, mcv, ferritin, tibc, Inconclusive...</td>\n",
       "      <td>7.0</td>\n",
       "      <td>0.0</td>\n",
       "      <td>1.0</td>\n",
       "      <td>5.0</td>\n",
       "    </tr>\n",
       "    <tr>\n",
       "      <th>26</th>\n",
       "      <td>4.0</td>\n",
       "      <td>[hemoglobin, mcv, tibc, Anemia of chronic dise...</td>\n",
       "      <td>3.0</td>\n",
       "      <td>5.0</td>\n",
       "      <td>[hemoglobin, mcv, ferritin, tibc, Anemia of ch...</td>\n",
       "      <td>3.0</td>\n",
       "      <td>0.0</td>\n",
       "      <td>0.0</td>\n",
       "      <td>4.0</td>\n",
       "    </tr>\n",
       "    <tr>\n",
       "      <th>33</th>\n",
       "      <td>4.0</td>\n",
       "      <td>[hemoglobin, mcv, tibc, Anemia of chronic dise...</td>\n",
       "      <td>3.0</td>\n",
       "      <td>5.0</td>\n",
       "      <td>[hemoglobin, mcv, ferritin, tibc, Anemia of ch...</td>\n",
       "      <td>3.0</td>\n",
       "      <td>1.0</td>\n",
       "      <td>0.0</td>\n",
       "      <td>3.0</td>\n",
       "    </tr>\n",
       "    <tr>\n",
       "      <th>49</th>\n",
       "      <td>4.0</td>\n",
       "      <td>[hemoglobin, mcv, tibc, Anemia of chronic dise...</td>\n",
       "      <td>3.0</td>\n",
       "      <td>5.0</td>\n",
       "      <td>[hemoglobin, mcv, ferritin, tibc, Anemia of ch...</td>\n",
       "      <td>3.0</td>\n",
       "      <td>1.0</td>\n",
       "      <td>0.0</td>\n",
       "      <td>3.0</td>\n",
       "    </tr>\n",
       "  </tbody>\n",
       "</table>\n",
       "</div>"
      ],
      "text/plain": [
       "    dqn_length                                     dqn_trajectory  dqn_y_pred  \\\n",
       "2          5.0  [hemoglobin, gender, mcv, tibc, Anemia of chro...         3.0   \n",
       "7          4.0    [hemoglobin, mcv, tibc, Inconclusive diagnosis]         7.0   \n",
       "26         4.0  [hemoglobin, mcv, tibc, Anemia of chronic dise...         3.0   \n",
       "33         4.0  [hemoglobin, mcv, tibc, Anemia of chronic dise...         3.0   \n",
       "49         4.0  [hemoglobin, mcv, tibc, Anemia of chronic dise...         3.0   \n",
       "\n",
       "    dt_length                                      dt_trajectory  dt_y_pred  \\\n",
       "2         6.0  [hemoglobin, gender, mcv, ferritin, tibc, Anem...        3.0   \n",
       "7         5.0  [hemoglobin, mcv, ferritin, tibc, Inconclusive...        7.0   \n",
       "26        5.0  [hemoglobin, mcv, ferritin, tibc, Anemia of ch...        3.0   \n",
       "33        5.0  [hemoglobin, mcv, ferritin, tibc, Anemia of ch...        3.0   \n",
       "49        5.0  [hemoglobin, mcv, ferritin, tibc, Anemia of ch...        3.0   \n",
       "\n",
       "    is_success  terminated  y_actual  \n",
       "2          1.0         0.0       3.0  \n",
       "7          0.0         1.0       5.0  \n",
       "26         0.0         0.0       4.0  \n",
       "33         1.0         0.0       3.0  \n",
       "49         1.0         0.0       3.0  "
      ]
     },
     "execution_count": 28,
     "metadata": {},
     "output_type": "execute_result"
    }
   ],
   "source": [
    "shorters_dqn_df = pd.DataFrame()\n",
    "for i, row in shorters_df.iterrows():\n",
    "    if len(row.dqn_trajectory) < len(row.dt_trajectory):\n",
    "        #if row.dqn_y_pred == row.y_actual:\n",
    "        shorters_dqn_df = shorters_dqn_df.append(row)\n",
    "shorters_dqn_df.head()"
   ]
  },
  {
   "cell_type": "code",
   "execution_count": 29,
   "metadata": {},
   "outputs": [],
   "source": [
    "# assert shorters_dqn_df.y_actual.tolist() == shorters_dqn_df.dqn_y_pred.tolist()"
   ]
  },
  {
   "cell_type": "code",
   "execution_count": 30,
   "metadata": {},
   "outputs": [],
   "source": [
    "def plot_confusion_matrix(y_actual, y_pred, save=False, filename=False):\n",
    "    from sklearn.metrics import confusion_matrix\n",
    "    import seaborn as sns\n",
    "    cm = confusion_matrix(y_actual, y_pred)\n",
    "    cm_df = pd.DataFrame(cm, index = list(constants.CLASS_DICT.keys()), columns = list(constants.CLASS_DICT.keys()))\n",
    "    #cm_df = pd.DataFrame(cm, index = list(constants.CLASS_DICT.keys()), columns = list(constants.CLASS_DICT.keys()))\n",
    "    plt.figure(figsize=(8, 6))\n",
    "    ax=sns.heatmap(cm_df, annot=True)\n",
    "    bottom, top = ax.get_ylim()\n",
    "    ax.set_ylim(bottom + 0.5, top - 0.5)\n",
    "    plt.title('Confusion Matrix')\n",
    "    plt.ylabel('Actual Anemia')\n",
    "    plt.xlabel('Predicted Anemia')\n",
    "    #plt.tight_layout()\n",
    "    if save:\n",
    "        plt.savefig(filename)\n",
    "    plt.show()\n",
    "    #plt.close()"
   ]
  },
  {
   "cell_type": "code",
   "execution_count": 31,
   "metadata": {},
   "outputs": [
    {
     "data": {
      "image/png": "[encoded data removed]",
      "text/plain": [
       "<Figure size 576x432 with 2 Axes>"
      ]
     },
     "metadata": {
      "needs_background": "light"
     },
     "output_type": "display_data"
    }
   ],
   "source": [
    "plot_confusion_matrix(shorters_dqn_df['y_actual'], shorters_dqn_df['dqn_y_pred'])"
   ]
  },
  {
   "cell_type": "code",
   "execution_count": 32,
   "metadata": {},
   "outputs": [
    {
     "name": "stderr",
     "output_type": "stream",
     "text": [
      "C:\\Users\\User\\Anaconda3\\lib\\site-packages\\sklearn\\metrics\\classification.py:1437: UndefinedMetricWarning:\n",
      "\n",
      "Precision and F-score are ill-defined and being set to 0.0 in labels with no predicted samples.\n",
      "\n",
      "../..\\modules\\many_features\\utils.py:338: MatplotlibDeprecationWarning:\n",
      "\n",
      "\n",
      "The tick1On function was deprecated in Matplotlib 3.1 and will be removed in 3.3. Use Tick.tick1line.set_visible instead.\n",
      "\n",
      "../..\\modules\\many_features\\utils.py:339: MatplotlibDeprecationWarning:\n",
      "\n",
      "\n",
      "The tick2On function was deprecated in Matplotlib 3.1 and will be removed in 3.3. Use Tick.tick2line.set_visible instead.\n",
      "\n",
      "../..\\modules\\many_features\\utils.py:341: MatplotlibDeprecationWarning:\n",
      "\n",
      "\n",
      "The tick1On function was deprecated in Matplotlib 3.1 and will be removed in 3.3. Use Tick.tick1line.set_visible instead.\n",
      "\n",
      "../..\\modules\\many_features\\utils.py:342: MatplotlibDeprecationWarning:\n",
      "\n",
      "\n",
      "The tick2On function was deprecated in Matplotlib 3.1 and will be removed in 3.3. Use Tick.tick2line.set_visible instead.\n",
      "\n"
     ]
    },
    {
     "data": {
      "image/png": "[encoded data removed]",
      "text/plain": [
       "<Figure size 708.661x425.197 with 2 Axes>"
      ]
     },
     "metadata": {
      "needs_background": "light"
     },
     "output_type": "display_data"
    }
   ],
   "source": [
    "utils.plot_classification_report(shorters_dqn_df['y_actual'], shorters_dqn_df['dqn_y_pred'])"
   ]
  },
  {
   "cell_type": "code",
   "execution_count": 33,
   "metadata": {},
   "outputs": [
    {
     "data": {
      "text/plain": [
       "3.0    532\n",
       "7.0    391\n",
       "0.0     83\n",
       "4.0      8\n",
       "Name: dqn_y_pred, dtype: int64"
      ]
     },
     "execution_count": 33,
     "metadata": {},
     "output_type": "execute_result"
    }
   ],
   "source": [
    "shorters_dqn_df.dqn_y_pred.value_counts()"
   ]
  },
  {
   "cell_type": "code",
   "execution_count": 34,
   "metadata": {},
   "outputs": [
    {
     "data": {
      "text/plain": [
       "3.0    331\n",
       "7.0    167\n",
       "0.0     11\n",
       "4.0      6\n",
       "Name: dqn_y_pred, dtype: int64"
      ]
     },
     "execution_count": 34,
     "metadata": {},
     "output_type": "execute_result"
    }
   ],
   "source": [
    "shorters_dqn_df[shorters_dqn_df.dqn_y_pred == shorters_dqn_df.y_actual].dqn_y_pred.value_counts()"
   ]
  },
  {
   "cell_type": "code",
   "execution_count": null,
   "metadata": {},
   "outputs": [],
   "source": [
    "shorter_dqn_df_1 = shorters_dqn_df[shorters_dqn_df.dqn_y_pred==7]\n",
    "shorter_dqn_df_1.head()"
   ]
  },
  {
   "cell_type": "code",
   "execution_count": null,
   "metadata": {},
   "outputs": [],
   "source": [
    "shorter_dqn_df_1.tail()"
   ]
  },
  {
   "cell_type": "code",
   "execution_count": null,
   "metadata": {},
   "outputs": [],
   "source": [
    "len(shorter_dqn_df_1)"
   ]
  },
  {
   "cell_type": "code",
   "execution_count": null,
   "metadata": {},
   "outputs": [],
   "source": [
    "shorter_dqn_df_1.dqn_length.unique()"
   ]
  },
  {
   "cell_type": "code",
   "execution_count": null,
   "metadata": {},
   "outputs": [],
   "source": [
    "cols = ['hemoglobin', 'mcv', 'ferritin', 'tibc']\n",
    "X_test_df.iloc[shorter_dqn_df_1.index][cols].describe()"
   ]
  },
  {
   "cell_type": "code",
   "execution_count": null,
   "metadata": {},
   "outputs": [],
   "source": [
    "X_test_df.iloc[17]"
   ]
  },
  {
   "cell_type": "code",
   "execution_count": null,
   "metadata": {},
   "outputs": [],
   "source": [
    "shorter_dqn_df_1.tail()"
   ]
  },
  {
   "cell_type": "code",
   "execution_count": null,
   "metadata": {},
   "outputs": [],
   "source": [
    "shorter_dqn_df_1[shorter_dqn_df_1.dqn_length==5]"
   ]
  },
  {
   "cell_type": "code",
   "execution_count": null,
   "metadata": {},
   "outputs": [],
   "source": [
    "shorter_dqn_df_1.dqn_length.unique()"
   ]
  },
  {
   "cell_type": "code",
   "execution_count": null,
   "metadata": {},
   "outputs": [],
   "source": [
    "# shorter_dqn_df_1[shorter_dqn_df_1.dqn_length==4].dt_length.unique()"
   ]
  },
  {
   "cell_type": "code",
   "execution_count": null,
   "metadata": {},
   "outputs": [],
   "source": [
    "X_test_df.iloc[shorter_dqn_df_1.index].describe()"
   ]
  },
  {
   "cell_type": "code",
   "execution_count": null,
   "metadata": {},
   "outputs": [],
   "source": [
    "analytics_test_df =shorter_dqn_df_1[shorter_dqn_df_1.dqn_length==3]\n",
    "analytics_test_df.head()"
   ]
  },
  {
   "cell_type": "code",
   "execution_count": null,
   "metadata": {},
   "outputs": [],
   "source": [
    "index_list = list(analytics_test_df.index)\n",
    "analytics_x_test_df = X_test_df.iloc[index_list]\n",
    "analytics_x_test_df.describe()"
   ]
  },
  {
   "cell_type": "code",
   "execution_count": null,
   "metadata": {},
   "outputs": [],
   "source": [
    "shorter_dqn_df_1.dqn_trajectory.value_counts()"
   ]
  },
  {
   "cell_type": "code",
   "execution_count": null,
   "metadata": {},
   "outputs": [],
   "source": []
  }
 ],
 "metadata": {
  "kernelspec": {
   "display_name": "Python 3",
   "language": "python",
   "name": "python3"
  },
  "language_info": {
   "codemirror_mode": {
    "name": "ipython",
    "version": 3
   },
   "file_extension": ".py",
   "mimetype": "text/x-python",
   "name": "python",
   "nbconvert_exporter": "python",
   "pygments_lexer": "ipython3",
   "version": "3.7.4"
  }
 },
 "nbformat": 4,
 "nbformat_minor": 2
}

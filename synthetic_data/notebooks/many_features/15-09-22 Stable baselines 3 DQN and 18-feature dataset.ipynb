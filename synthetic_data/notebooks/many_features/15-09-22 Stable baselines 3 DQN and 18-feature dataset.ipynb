{
 "cells": [
  {
   "cell_type": "code",
   "execution_count": 9,
   "metadata": {},
   "outputs": [],
   "source": [
    "import pandas as pd\n",
    "import numpy as np\n",
    "import seaborn as sns\n",
    "from datetime import datetime\n",
    "import random\n",
    "import os\n",
    "import torch\n",
    "import sys\n",
    "sys.path.append('../..')\n",
    "from modules.many_features import utils, constants\n",
    "from sklearn.model_selection import train_test_split\n",
    "import matplotlib.pyplot as plt\n",
    "%matplotlib inline\n",
    "import warnings\n",
    "warnings.filterwarnings('ignore')"
   ]
  },
  {
   "cell_type": "code",
   "execution_count": 10,
   "metadata": {},
   "outputs": [],
   "source": [
    "SEED = 42\n",
    "random.seed(SEED)\n",
    "np.random.seed(SEED)\n",
    "os.environ['PYTHONHASHSEED']=str(SEED)\n",
    "torch.manual_seed(SEED)\n",
    "torch.use_deterministic_algorithms(True)"
   ]
  },
  {
   "cell_type": "markdown",
   "metadata": {},
   "source": [
    "#### The Data"
   ]
  },
  {
   "cell_type": "code",
   "execution_count": 11,
   "metadata": {},
   "outputs": [
    {
     "data": {
      "text/html": [
       "<div>\n",
       "<style scoped>\n",
       "    .dataframe tbody tr th:only-of-type {\n",
       "        vertical-align: middle;\n",
       "    }\n",
       "\n",
       "    .dataframe tbody tr th {\n",
       "        vertical-align: top;\n",
       "    }\n",
       "\n",
       "    .dataframe thead th {\n",
       "        text-align: right;\n",
       "    }\n",
       "</style>\n",
       "<table border=\"1\" class=\"dataframe\">\n",
       "  <thead>\n",
       "    <tr style=\"text-align: right;\">\n",
       "      <th></th>\n",
       "      <th>hemoglobin</th>\n",
       "      <th>ferritin</th>\n",
       "      <th>ret_count</th>\n",
       "      <th>segmented_neutrophils</th>\n",
       "      <th>tibc</th>\n",
       "      <th>mcv</th>\n",
       "      <th>serum_iron</th>\n",
       "      <th>rbc</th>\n",
       "      <th>gender</th>\n",
       "      <th>creatinine</th>\n",
       "      <th>cholestrol</th>\n",
       "      <th>copper</th>\n",
       "      <th>ethanol</th>\n",
       "      <th>folate</th>\n",
       "      <th>glucose</th>\n",
       "      <th>hematocrit</th>\n",
       "      <th>tsat</th>\n",
       "      <th>label</th>\n",
       "    </tr>\n",
       "  </thead>\n",
       "  <tbody>\n",
       "    <tr>\n",
       "      <th>0</th>\n",
       "      <td>10.706860</td>\n",
       "      <td>-1.000000</td>\n",
       "      <td>-1.000000</td>\n",
       "      <td>-1.000000</td>\n",
       "      <td>308.295738</td>\n",
       "      <td>104.212335</td>\n",
       "      <td>50.527083</td>\n",
       "      <td>3.082224</td>\n",
       "      <td>1</td>\n",
       "      <td>0.410824</td>\n",
       "      <td>65.084260</td>\n",
       "      <td>118.607783</td>\n",
       "      <td>45.819372</td>\n",
       "      <td>21.282930</td>\n",
       "      <td>50.512056</td>\n",
       "      <td>32.120580</td>\n",
       "      <td>16.389161</td>\n",
       "      <td>1</td>\n",
       "    </tr>\n",
       "    <tr>\n",
       "      <th>1</th>\n",
       "      <td>8.502071</td>\n",
       "      <td>-1.000000</td>\n",
       "      <td>0.106615</td>\n",
       "      <td>6.434651</td>\n",
       "      <td>-1.000000</td>\n",
       "      <td>96.250534</td>\n",
       "      <td>-1.000000</td>\n",
       "      <td>2.649981</td>\n",
       "      <td>0</td>\n",
       "      <td>-1.000000</td>\n",
       "      <td>-1.000000</td>\n",
       "      <td>-1.000000</td>\n",
       "      <td>-1.000000</td>\n",
       "      <td>-1.000000</td>\n",
       "      <td>-1.000000</td>\n",
       "      <td>25.506212</td>\n",
       "      <td>-1.000000</td>\n",
       "      <td>6</td>\n",
       "    </tr>\n",
       "    <tr>\n",
       "      <th>2</th>\n",
       "      <td>17.134148</td>\n",
       "      <td>450.994047</td>\n",
       "      <td>2.785983</td>\n",
       "      <td>3.580950</td>\n",
       "      <td>221.642272</td>\n",
       "      <td>95.404759</td>\n",
       "      <td>-1.000000</td>\n",
       "      <td>5.387828</td>\n",
       "      <td>1</td>\n",
       "      <td>1.004988</td>\n",
       "      <td>51.333192</td>\n",
       "      <td>-1.000000</td>\n",
       "      <td>-1.000000</td>\n",
       "      <td>-1.000000</td>\n",
       "      <td>-1.000000</td>\n",
       "      <td>51.402444</td>\n",
       "      <td>-1.000000</td>\n",
       "      <td>0</td>\n",
       "    </tr>\n",
       "    <tr>\n",
       "      <th>3</th>\n",
       "      <td>12.600706</td>\n",
       "      <td>307.881516</td>\n",
       "      <td>-1.000000</td>\n",
       "      <td>-1.000000</td>\n",
       "      <td>-1.000000</td>\n",
       "      <td>-1.000000</td>\n",
       "      <td>68.163818</td>\n",
       "      <td>4.127231</td>\n",
       "      <td>1</td>\n",
       "      <td>-1.000000</td>\n",
       "      <td>8.894795</td>\n",
       "      <td>-1.000000</td>\n",
       "      <td>26.676604</td>\n",
       "      <td>2.402901</td>\n",
       "      <td>73.780752</td>\n",
       "      <td>37.802117</td>\n",
       "      <td>-1.000000</td>\n",
       "      <td>5</td>\n",
       "    </tr>\n",
       "    <tr>\n",
       "      <th>4</th>\n",
       "      <td>11.708159</td>\n",
       "      <td>-1.000000</td>\n",
       "      <td>5.601042</td>\n",
       "      <td>-1.000000</td>\n",
       "      <td>-1.000000</td>\n",
       "      <td>92.100873</td>\n",
       "      <td>46.823176</td>\n",
       "      <td>-1.000000</td>\n",
       "      <td>1</td>\n",
       "      <td>-1.000000</td>\n",
       "      <td>-1.000000</td>\n",
       "      <td>54.558476</td>\n",
       "      <td>-1.000000</td>\n",
       "      <td>25.629368</td>\n",
       "      <td>-1.000000</td>\n",
       "      <td>-1.000000</td>\n",
       "      <td>-1.000000</td>\n",
       "      <td>5</td>\n",
       "    </tr>\n",
       "  </tbody>\n",
       "</table>\n",
       "</div>"
      ],
      "text/plain": [
       "   hemoglobin    ferritin  ret_count  segmented_neutrophils        tibc  \\\n",
       "0   10.706860   -1.000000  -1.000000              -1.000000  308.295738   \n",
       "1    8.502071   -1.000000   0.106615               6.434651   -1.000000   \n",
       "2   17.134148  450.994047   2.785983               3.580950  221.642272   \n",
       "3   12.600706  307.881516  -1.000000              -1.000000   -1.000000   \n",
       "4   11.708159   -1.000000   5.601042              -1.000000   -1.000000   \n",
       "\n",
       "          mcv  serum_iron       rbc  gender  creatinine  cholestrol  \\\n",
       "0  104.212335   50.527083  3.082224       1    0.410824   65.084260   \n",
       "1   96.250534   -1.000000  2.649981       0   -1.000000   -1.000000   \n",
       "2   95.404759   -1.000000  5.387828       1    1.004988   51.333192   \n",
       "3   -1.000000   68.163818  4.127231       1   -1.000000    8.894795   \n",
       "4   92.100873   46.823176 -1.000000       1   -1.000000   -1.000000   \n",
       "\n",
       "       copper    ethanol     folate    glucose  hematocrit       tsat  label  \n",
       "0  118.607783  45.819372  21.282930  50.512056   32.120580  16.389161      1  \n",
       "1   -1.000000  -1.000000  -1.000000  -1.000000   25.506212  -1.000000      6  \n",
       "2   -1.000000  -1.000000  -1.000000  -1.000000   51.402444  -1.000000      0  \n",
       "3   -1.000000  26.676604   2.402901  73.780752   37.802117  -1.000000      5  \n",
       "4   54.558476  -1.000000  25.629368  -1.000000   -1.000000  -1.000000      5  "
      ]
     },
     "execution_count": 11,
     "metadata": {},
     "output_type": "execute_result"
    }
   ],
   "source": [
    "# df = pd.read_csv('../../data/more_features/more_feats_correlated_testing_noanem_noisy_6.csv')\n",
    "# df = df.fillna(-1)\n",
    "# df.head()\n",
    "train_df = pd.read_csv('../../final/data/train_set_missing_2.csv')\n",
    "train_df = train_df.fillna(-1)\n",
    "train_df.head()"
   ]
  },
  {
   "cell_type": "code",
   "execution_count": 12,
   "metadata": {},
   "outputs": [
    {
     "data": {
      "text/html": [
       "<div>\n",
       "<style scoped>\n",
       "    .dataframe tbody tr th:only-of-type {\n",
       "        vertical-align: middle;\n",
       "    }\n",
       "\n",
       "    .dataframe tbody tr th {\n",
       "        vertical-align: top;\n",
       "    }\n",
       "\n",
       "    .dataframe thead th {\n",
       "        text-align: right;\n",
       "    }\n",
       "</style>\n",
       "<table border=\"1\" class=\"dataframe\">\n",
       "  <thead>\n",
       "    <tr style=\"text-align: right;\">\n",
       "      <th></th>\n",
       "      <th>hemoglobin</th>\n",
       "      <th>ferritin</th>\n",
       "      <th>ret_count</th>\n",
       "      <th>segmented_neutrophils</th>\n",
       "      <th>tibc</th>\n",
       "      <th>mcv</th>\n",
       "      <th>serum_iron</th>\n",
       "      <th>rbc</th>\n",
       "      <th>gender</th>\n",
       "      <th>creatinine</th>\n",
       "      <th>cholestrol</th>\n",
       "      <th>copper</th>\n",
       "      <th>ethanol</th>\n",
       "      <th>folate</th>\n",
       "      <th>glucose</th>\n",
       "      <th>hematocrit</th>\n",
       "      <th>tsat</th>\n",
       "      <th>label</th>\n",
       "    </tr>\n",
       "  </thead>\n",
       "  <tbody>\n",
       "    <tr>\n",
       "      <th>0</th>\n",
       "      <td>11.783006</td>\n",
       "      <td>112.011007</td>\n",
       "      <td>-1.000000</td>\n",
       "      <td>3.308648</td>\n",
       "      <td>348.014906</td>\n",
       "      <td>86.577465</td>\n",
       "      <td>-1.000000</td>\n",
       "      <td>4.082935</td>\n",
       "      <td>0</td>\n",
       "      <td>1.617594</td>\n",
       "      <td>131.868365</td>\n",
       "      <td>-1.000000</td>\n",
       "      <td>-1.000000</td>\n",
       "      <td>-1.000000</td>\n",
       "      <td>-1.000000</td>\n",
       "      <td>35.349018</td>\n",
       "      <td>-1.000000</td>\n",
       "      <td>7</td>\n",
       "    </tr>\n",
       "    <tr>\n",
       "      <th>1</th>\n",
       "      <td>12.609666</td>\n",
       "      <td>104.475099</td>\n",
       "      <td>5.445972</td>\n",
       "      <td>-1.000000</td>\n",
       "      <td>-1.000000</td>\n",
       "      <td>75.082198</td>\n",
       "      <td>-1.000000</td>\n",
       "      <td>5.038345</td>\n",
       "      <td>1</td>\n",
       "      <td>0.334722</td>\n",
       "      <td>97.568987</td>\n",
       "      <td>83.161880</td>\n",
       "      <td>-1.000000</td>\n",
       "      <td>7.147270</td>\n",
       "      <td>-1.000000</td>\n",
       "      <td>37.828999</td>\n",
       "      <td>-1.000000</td>\n",
       "      <td>3</td>\n",
       "    </tr>\n",
       "    <tr>\n",
       "      <th>2</th>\n",
       "      <td>7.940172</td>\n",
       "      <td>4.925400</td>\n",
       "      <td>3.255130</td>\n",
       "      <td>5.766738</td>\n",
       "      <td>209.031102</td>\n",
       "      <td>75.254082</td>\n",
       "      <td>-1.000000</td>\n",
       "      <td>3.165345</td>\n",
       "      <td>1</td>\n",
       "      <td>1.649478</td>\n",
       "      <td>2.082970</td>\n",
       "      <td>-1.000000</td>\n",
       "      <td>-1.000000</td>\n",
       "      <td>-1.000000</td>\n",
       "      <td>-1.000000</td>\n",
       "      <td>23.820517</td>\n",
       "      <td>-1.000000</td>\n",
       "      <td>4</td>\n",
       "    </tr>\n",
       "    <tr>\n",
       "      <th>3</th>\n",
       "      <td>7.785840</td>\n",
       "      <td>103.757096</td>\n",
       "      <td>2.874384</td>\n",
       "      <td>3.839597</td>\n",
       "      <td>-1.000000</td>\n",
       "      <td>81.873581</td>\n",
       "      <td>39.638010</td>\n",
       "      <td>2.852876</td>\n",
       "      <td>1</td>\n",
       "      <td>0.637843</td>\n",
       "      <td>127.412065</td>\n",
       "      <td>38.534760</td>\n",
       "      <td>51.437387</td>\n",
       "      <td>28.150784</td>\n",
       "      <td>73.296289</td>\n",
       "      <td>23.357519</td>\n",
       "      <td>-1.000000</td>\n",
       "      <td>5</td>\n",
       "    </tr>\n",
       "    <tr>\n",
       "      <th>4</th>\n",
       "      <td>12.359715</td>\n",
       "      <td>51.274141</td>\n",
       "      <td>0.178269</td>\n",
       "      <td>1.233844</td>\n",
       "      <td>474.589534</td>\n",
       "      <td>76.469181</td>\n",
       "      <td>49.839768</td>\n",
       "      <td>4.848900</td>\n",
       "      <td>1</td>\n",
       "      <td>0.621034</td>\n",
       "      <td>137.433107</td>\n",
       "      <td>55.314614</td>\n",
       "      <td>47.302738</td>\n",
       "      <td>3.808612</td>\n",
       "      <td>60.076211</td>\n",
       "      <td>37.079144</td>\n",
       "      <td>10.501658</td>\n",
       "      <td>4</td>\n",
       "    </tr>\n",
       "  </tbody>\n",
       "</table>\n",
       "</div>"
      ],
      "text/plain": [
       "   hemoglobin    ferritin  ret_count  segmented_neutrophils        tibc  \\\n",
       "0   11.783006  112.011007  -1.000000               3.308648  348.014906   \n",
       "1   12.609666  104.475099   5.445972              -1.000000   -1.000000   \n",
       "2    7.940172    4.925400   3.255130               5.766738  209.031102   \n",
       "3    7.785840  103.757096   2.874384               3.839597   -1.000000   \n",
       "4   12.359715   51.274141   0.178269               1.233844  474.589534   \n",
       "\n",
       "         mcv  serum_iron       rbc  gender  creatinine  cholestrol     copper  \\\n",
       "0  86.577465   -1.000000  4.082935       0    1.617594  131.868365  -1.000000   \n",
       "1  75.082198   -1.000000  5.038345       1    0.334722   97.568987  83.161880   \n",
       "2  75.254082   -1.000000  3.165345       1    1.649478    2.082970  -1.000000   \n",
       "3  81.873581   39.638010  2.852876       1    0.637843  127.412065  38.534760   \n",
       "4  76.469181   49.839768  4.848900       1    0.621034  137.433107  55.314614   \n",
       "\n",
       "     ethanol     folate    glucose  hematocrit       tsat  label  \n",
       "0  -1.000000  -1.000000  -1.000000   35.349018  -1.000000      7  \n",
       "1  -1.000000   7.147270  -1.000000   37.828999  -1.000000      3  \n",
       "2  -1.000000  -1.000000  -1.000000   23.820517  -1.000000      4  \n",
       "3  51.437387  28.150784  73.296289   23.357519  -1.000000      5  \n",
       "4  47.302738   3.808612  60.076211   37.079144  10.501658      4  "
      ]
     },
     "execution_count": 12,
     "metadata": {},
     "output_type": "execute_result"
    }
   ],
   "source": [
    "test_df = pd.read_csv('../../final/data/test_set_constant.csv')\n",
    "test_df.head()"
   ]
  },
  {
   "cell_type": "code",
   "execution_count": 13,
   "metadata": {},
   "outputs": [
    {
     "data": {
      "text/plain": [
       "((56000, 17), (14000, 17), (56000,), (14000,))"
      ]
     },
     "execution_count": 13,
     "metadata": {},
     "output_type": "execute_result"
    }
   ],
   "source": [
    "X_train = train_df.iloc[:, 0:-1]\n",
    "y_train = train_df.iloc[:, -1]\n",
    "\n",
    "X_test = test_df.iloc[:, 0:-1]\n",
    "y_test = test_df.iloc[:, -1]\n",
    "\n",
    "X_train, y_train = np.array(X_train), np.array(y_train)\n",
    "X_test, y_test = np.array(X_test), np.array(y_test)\n",
    "X_train.shape, X_test.shape, y_train.shape, y_test.shape"
   ]
  },
  {
   "cell_type": "code",
   "execution_count": 14,
   "metadata": {},
   "outputs": [
    {
     "data": {
      "text/plain": [
       "['No anemia',\n",
       " 'Vitamin B12/Folate deficiency anemia',\n",
       " 'Unspecified anemia',\n",
       " 'Anemia of chronic disease',\n",
       " 'Iron deficiency anemia',\n",
       " 'Hemolytic anemia',\n",
       " 'Aplastic anemia',\n",
       " 'Inconclusive diagnosis',\n",
       " 'hemoglobin',\n",
       " 'ferritin',\n",
       " 'ret_count',\n",
       " 'segmented_neutrophils',\n",
       " 'tibc',\n",
       " 'mcv',\n",
       " 'serum_iron',\n",
       " 'rbc',\n",
       " 'gender',\n",
       " 'creatinine',\n",
       " 'cholestrol',\n",
       " 'copper',\n",
       " 'ethanol',\n",
       " 'folate',\n",
       " 'glucose',\n",
       " 'hematocrit',\n",
       " 'tsat']"
      ]
     },
     "execution_count": 14,
     "metadata": {},
     "output_type": "execute_result"
    }
   ],
   "source": [
    "action_list = list(constants.CLASS_DICT.keys()) + [col  for col in train_df.columns if col!='label']\n",
    "action_list"
   ]
  },
  {
   "cell_type": "markdown",
   "metadata": {},
   "source": [
    "#### Training "
   ]
  },
  {
   "cell_type": "code",
   "execution_count": null,
   "metadata": {},
   "outputs": [
    {
     "name": "stdout",
     "output_type": "stream",
     "text": [
      "using stable baselines 3\n",
      "Using cpu device\n",
      "Wrapping the env with a `Monitor` wrapper\n",
      "Wrapping the env in a DummyVecEnv.\n",
      "----------------------------------\n",
      "| rollout/            |          |\n",
      "|    ep_len_mean      | 2.81     |\n",
      "|    ep_rew_mean      | -0.92    |\n",
      "|    exploration_rate | 0.421    |\n",
      "|    success_rate     | 0.08     |\n",
      "| time/               |          |\n",
      "|    episodes         | 100000   |\n",
      "|    fps              | 913      |\n",
      "|    time_elapsed     | 333      |\n",
      "|    total_timesteps  | 304952   |\n",
      "| train/              |          |\n",
      "|    learning_rate    | 0.0001   |\n",
      "|    loss             | 6.36     |\n",
      "|    n_updates        | 63737    |\n",
      "----------------------------------\n",
      "----------------------------------\n",
      "| rollout/            |          |\n",
      "|    ep_len_mean      | 3.39     |\n",
      "|    ep_rew_mean      | -0.98    |\n",
      "|    exploration_rate | 0.05     |\n",
      "|    success_rate     | 0.07     |\n",
      "| time/               |          |\n",
      "|    episodes         | 200000   |\n",
      "|    fps              | 756      |\n",
      "|    time_elapsed     | 837      |\n",
      "|    total_timesteps  | 633544   |\n",
      "| train/              |          |\n",
      "|    learning_rate    | 0.0001   |\n",
      "|    loss             | 9.56     |\n",
      "|    n_updates        | 145885   |\n",
      "----------------------------------\n",
      "----------------------------------\n",
      "| rollout/            |          |\n",
      "|    ep_len_mean      | 2.91     |\n",
      "|    ep_rew_mean      | -1       |\n",
      "|    exploration_rate | 0.05     |\n",
      "|    success_rate     | 0.06     |\n",
      "| time/               |          |\n",
      "|    episodes         | 300000   |\n",
      "|    fps              | 709      |\n",
      "|    time_elapsed     | 1325     |\n",
      "|    total_timesteps  | 940817   |\n",
      "| train/              |          |\n",
      "|    learning_rate    | 0.0001   |\n",
      "|    loss             | 4.48     |\n",
      "|    n_updates        | 222704   |\n",
      "----------------------------------\n"
     ]
    }
   ],
   "source": [
    "for steps in [int(5e6), int(5.5e6), int(6e6), int(6.5e6), int(7e6), int(7.5e6), int(8e6), int(8.5e6), int(9e6)]:\n",
    "    dqn_model = utils.stable_dqn3(X_train, y_train, steps, True, f'../../final/models/dqn_missing_2_{steps}')"
   ]
  },
  {
   "cell_type": "code",
   "execution_count": null,
   "metadata": {},
   "outputs": [],
   "source": [
    "# class_dict = constants.CLASS_DICT\n",
    "# df['label'] = df['label'].replace(class_dict)\n",
    "# X = df.iloc[:, 0:-1]\n",
    "# y = df.iloc[:, -1]\n",
    "# X_train, X_test, y_train, y_test = train_test_split(X, y, test_size=0.2, stratify=y, random_state=SEED)\n",
    "# X_train, y_train = np.array(X_train), np.array(y_train)\n",
    "# X_test, y_test = np.array(X_test), np.array(y_test)\n",
    "# X_train.shape, X_test.shape, y_train.shape, y_test.shape"
   ]
  },
  {
   "cell_type": "code",
   "execution_count": null,
   "metadata": {},
   "outputs": [],
   "source": [
    "# %%time\n",
    "# timesteps = int(2e6)\n",
    "# dqn_model = utils.stable_dqn3(X_train, y_train, timesteps, True, f'../../models/many_features/stable_dqn3_{timesteps}')\n",
    "# test_df = utils.evaluate_dqn(dqn_model, X_test, y_test)\n",
    "# test_df.head()"
   ]
  },
  {
   "cell_type": "markdown",
   "metadata": {},
   "source": [
    "#### Testing"
   ]
  },
  {
   "cell_type": "code",
   "execution_count": null,
   "metadata": {},
   "outputs": [],
   "source": [
    "# training_env = utils.create_env(X_train, y_train)\n",
    "# dqn_model = utils.load_dqn3('../../models/many_features/0.1/with_correlated_fts/dqn3_by_type_noisy_6_16000000', training_env)\n",
    "# test_df = utils.evaluate_dqn(dqn_model, X_test, y_test)\n",
    "# test_df.head()"
   ]
  },
  {
   "cell_type": "code",
   "execution_count": null,
   "metadata": {},
   "outputs": [],
   "source": [
    "success_rate, success_df = utils.success_rate(test_df)\n",
    "success_rate"
   ]
  },
  {
   "cell_type": "code",
   "execution_count": null,
   "metadata": {},
   "outputs": [],
   "source": [
    "avg_length, avg_return = utils.get_avg_length_reward(test_df)\n",
    "avg_length, avg_return"
   ]
  },
  {
   "cell_type": "code",
   "execution_count": null,
   "metadata": {},
   "outputs": [],
   "source": [
    "acc, f1, roc_auc = utils.test(test_df['y_actual'], test_df['y_pred'])\n",
    "acc, f1, roc_auc"
   ]
  },
  {
   "cell_type": "code",
   "execution_count": null,
   "metadata": {},
   "outputs": [],
   "source": [
    "test_df.y_pred.unique()"
   ]
  },
  {
   "cell_type": "code",
   "execution_count": null,
   "metadata": {},
   "outputs": [],
   "source": [
    "test_df[test_df.y_pred==4]"
   ]
  },
  {
   "cell_type": "markdown",
   "metadata": {},
   "source": [
    "#### Saving files"
   ]
  },
  {
   "cell_type": "code",
   "execution_count": null,
   "metadata": {},
   "outputs": [],
   "source": [
    "# test_df.to_csv(f'../../test_dfs/many_features/0.1/correlated/test_df3_9000000.csv', index=False)\n",
    "# success_df.to_csv(f'../../test_dfs/many_features/0.1/correlated/success_df3_9000000.csv', index=False)"
   ]
  },
  {
   "cell_type": "markdown",
   "metadata": {},
   "source": [
    "#### Confusion matrix and classification report"
   ]
  },
  {
   "cell_type": "code",
   "execution_count": null,
   "metadata": {},
   "outputs": [],
   "source": [
    "test_df = pd.read_csv('../../test_dfs/many_features/0.1/test_df3_6500000.csv')\n",
    "test_df.head()"
   ]
  },
  {
   "cell_type": "code",
   "execution_count": null,
   "metadata": {},
   "outputs": [],
   "source": [
    "utils.plot_classification_report(test_df['y_actual'], test_df['y_pred'])"
   ]
  },
  {
   "cell_type": "code",
   "execution_count": null,
   "metadata": {},
   "outputs": [],
   "source": [
    "# def plot_confusion_matrix(y_actual, y_pred, save=False, filename=False):\n",
    "#     from sklearn.metrics import confusion_matrix\n",
    "#     cm = confusion_matrix(y_actual, y_pred)\n",
    "#     cm_df = pd.DataFrame(cm, index = [0, 1, 2, 3, 4, 5, 6], columns = [0, 1, 2, 3, 4, 5, 6], dtype='object')\n",
    "#     #cm_df = pd.DataFrame(cm, index = constants.CLASS_DICT.keys(), columns = constants.CLASS_DICT.keys())\n",
    "#     plt.figure(figsize=(8, 6))\n",
    "#     sns.heatmap(cm_df, annot=True)\n",
    "#     plt.title('Confusion Matrix')\n",
    "#     plt.ylabel('Actual Anemia')\n",
    "#     plt.xlabel('Predicted Anemia')\n",
    "#     plt.tight_layout()\n",
    "#     if save:\n",
    "#         plt.savefig(filename)\n",
    "#     plt.show()\n",
    "#     plt.close()"
   ]
  },
  {
   "cell_type": "code",
   "execution_count": null,
   "metadata": {},
   "outputs": [],
   "source": [
    "utils.plot_confusion_matrix(test_df['y_actual'], test_df['y_pred'])"
   ]
  },
  {
   "cell_type": "code",
   "execution_count": null,
   "metadata": {},
   "outputs": [],
   "source": []
  }
 ],
 "metadata": {
  "kernelspec": {
   "display_name": "Python 3",
   "language": "python",
   "name": "python3"
  },
  "language_info": {
   "codemirror_mode": {
    "name": "ipython",
    "version": 3
   },
   "file_extension": ".py",
   "mimetype": "text/x-python",
   "name": "python",
   "nbconvert_exporter": "python",
   "pygments_lexer": "ipython3",
   "version": "3.7.4"
  }
 },
 "nbformat": 4,
 "nbformat_minor": 5
}

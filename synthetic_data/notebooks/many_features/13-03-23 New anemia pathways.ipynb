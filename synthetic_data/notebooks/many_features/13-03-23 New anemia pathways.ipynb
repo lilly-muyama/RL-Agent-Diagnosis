{
 "cells": [
  {
   "cell_type": "code",
   "execution_count": 1,
   "id": "597604ed",
   "metadata": {},
   "outputs": [],
   "source": [
    "import pandas as pd\n",
    "import numpy as np\n",
    "import ast\n",
    "import math\n",
    "import random\n",
    "import collections\n",
    "import networkx as nx\n",
    "from pyvis.network import Network\n",
    "import plotly.graph_objects as go\n",
    "import sys\n",
    "sys.path.append('../../')\n",
    "from modules.many_features import utils, constants"
   ]
  },
  {
   "cell_type": "markdown",
   "id": "369ade75",
   "metadata": {},
   "source": [
    "#### The functions"
   ]
  },
  {
   "cell_type": "code",
   "execution_count": 2,
   "id": "09d71371",
   "metadata": {},
   "outputs": [],
   "source": [
    "def streamline_frequency_dict(frequency_dict):\n",
    "    frequency_dict_list = [] #will hold dictonaries with 2 keys i.e. 'set' and 'value'\n",
    "    for path_dict, value in frequency_dict.items():\n",
    "        all_set_list = [i['set'] for i in frequency_dict_list] #get all the sets so far in the list \n",
    "        path_set = set(ast.literal_eval(path_dict)) #get the set of current path dict to check if its already in list\n",
    "        if path_set in all_set_list: #increase value else insert it - work on this!!!!!!!!!!!!!!!\n",
    "            for elem in frequency_dict_list: #look for if path_set is already in frequency_dict_list \n",
    "                if elem['set'] == path_set: #find the matching path_set in the frequency_dict_list\n",
    "                    elem['value'] += value #increase the value for that set\n",
    "        else:\n",
    "            frequency_dict_list.append({'set':path_set, 'value':value})\n",
    "    \n",
    "    all_list = [list(path_dict['set']) for path_dict in frequency_dict_list]\n",
    "    flat_list = [item for sublist in all_list for item in sublist]\n",
    "    commonest_elements = dict(collections.Counter(flat_list))\n",
    "    commonest_elements = {k: v for k, v in sorted(commonest_elements.items(), reverse=True, key=lambda item: item[1])}\n",
    "    commonest_elements_list = list(commonest_elements.keys())\n",
    "    commonest_elements_list = [i for i in commonest_elements_list if i not in ['Lupus', 'No lupus', 'Inconclusive diagnosis']] + ['Lupus', 'No lupus', 'Inconclusive diagnosis']\n",
    "    \n",
    "    for item in frequency_dict_list:\n",
    "        item['set'] = sorted(list(item['set']), key=lambda x: commonest_elements_list.index(x))\n",
    "    \n",
    "    keys = [str(i['set']) for i in frequency_dict_list]\n",
    "    values = [i['value'] for i in frequency_dict_list]\n",
    "    final_frequency_dict = {k:v for (k,v) in zip(keys, values)}\n",
    "    \n",
    "    return final_frequency_dict"
   ]
  },
  {
   "cell_type": "code",
   "execution_count": 3,
   "id": "eb7dd3d9",
   "metadata": {},
   "outputs": [],
   "source": [
    "def generate_tuple_dict(df):\n",
    "    frequency_dict = {}\n",
    "    for traj in df.trajectory:\n",
    "        if traj in frequency_dict.keys():\n",
    "            frequency_dict[traj] += 1\n",
    "        else:\n",
    "            frequency_dict[traj] = 1\n",
    "    streamlined_frequency_dict = streamline_frequency_dict(frequency_dict)\n",
    "    overall_tup_dict = {}\n",
    "    for key, value in streamlined_frequency_dict.items():\n",
    "#     for key, value in frequency_dict.items():\n",
    "        new_key = ast.literal_eval(key)\n",
    "        for tup in zip(new_key, new_key[1:]):\n",
    "            #print(f'tup: {tup}')\n",
    "            if tup in overall_tup_dict.keys():\n",
    "                overall_tup_dict[tup] += value\n",
    "            else:\n",
    "                overall_tup_dict[tup] = value\n",
    "    #print(f'overall_tup_dict: {overall_tup_dict}')\n",
    "    return overall_tup_dict"
   ]
  },
  {
   "cell_type": "code",
   "execution_count": 4,
   "id": "6de9cfdd",
   "metadata": {},
   "outputs": [],
   "source": [
    "def create_sankey_df(df):\n",
    "    overall_tup_dict = generate_tuple_dict(df)\n",
    "    sankey_df = pd.DataFrame()\n",
    "    sankey_df['source'] = [i[0] for i in overall_tup_dict.keys()]\n",
    "    sankey_df['target'] = [i[1] for i in overall_tup_dict.keys()]\n",
    "    sankey_df['value'] = list(overall_tup_dict.values())\n",
    "    sankey_df['link_type'] = sankey_df['target'].apply(lambda i: 'terminal' if i in list(constants.CLASS_DICT.keys()) else 'non_terminal')\n",
    "    return sankey_df"
   ]
  },
  {
   "cell_type": "code",
   "execution_count": 5,
   "id": "98c613e7",
   "metadata": {},
   "outputs": [],
   "source": [
    "def get_threshold_value(row):\n",
    "    substring = f\"'{row.source}', '{row.target}'\"\n",
    "    substring_df = pd.DataFrame()\n",
    "    for i, test_row in test_df.iterrows():\n",
    "        if substring in test_row.trajectory:\n",
    "            substring_df = substring_df.append(test_row)\n",
    "    substring_testing_df = testing_df.loc[substring_df.index]\n",
    "    \n",
    "    threshold_values = substring_testing_df[row.source].unique().tolist()\n",
    "    if len(threshold_values) == 1:\n",
    "        return int(threshold_values[0])\n",
    "    else:\n",
    "#         print(f'There is {len(threshold_values)} threshold values for the edge between {row.source} and {row.target}')\n",
    "        return np.nan"
   ]
  },
  {
   "cell_type": "code",
   "execution_count": 6,
   "id": "9a6b520b",
   "metadata": {},
   "outputs": [],
   "source": [
    "def draw_pyvis_network(pathways_df):\n",
    "#     pathways_df = create_sankey_df(test_df)\n",
    "    pathways_df['type'] = 'directed'\n",
    "    \n",
    "    got_net = Network(notebook=True, height='750px', width='100%', directed=True, cdn_resources='in_line')\n",
    "    got_net.add_node(start_node, color='purple', size=20)\n",
    "    got_net.add_nodes(non_terminal_nodes, size=[15]*len(non_terminal_nodes), color=['blue']*len(non_terminal_nodes))\n",
    "    got_net.add_nodes(terminal_nodes, color=['green']*len(terminal_nodes), size=[20]*len(terminal_nodes))\n",
    "    for src, target, value in zip(pathways_df.source, pathways_df.target, pathways_df.value):\n",
    "        if value > threshold:\n",
    "            got_net.add_edge(src, target, value=value, color='red')\n",
    "        else:\n",
    "            got_net.add_edge(src, target, value=value, color='blue')\n",
    "    return got_net"
   ]
  },
  {
   "cell_type": "code",
   "execution_count": 7,
   "id": "4aefd277",
   "metadata": {},
   "outputs": [],
   "source": [
    "def draw_labelled_pyvis_network(pathways_df, pathway_type='network'): #second type is trajectory \n",
    "    pathways_df['type'] = 'directed'\n",
    "    pathways_df['edge_threshold'] = pathways_df.apply(lambda row: get_threshold_value(row), axis=1)\n",
    "    \n",
    "    #change get_net to something else since it satnds for Game of Thrones\n",
    "    got_net = Network(notebook=True, height='750px', width='100%', directed=True, cdn_resources='in_line')\n",
    "    got_net.add_node(start_node, color='purple', size=20)\n",
    "    got_net.add_nodes(non_terminal_nodes, size=[15]*len(non_terminal_nodes), color=['blue']*len(non_terminal_nodes))\n",
    "    got_net.add_nodes(terminal_nodes, color=['green']*len(terminal_nodes), size=[20]*len(terminal_nodes))\n",
    "    for src, target, value, edge_thresh in zip(pathways_df.source, pathways_df.target, pathways_df.value, pathways_df.edge_threshold):\n",
    "#         if pathway_type =='network':\n",
    "        if value > threshold: #this is what mainly changes\n",
    "            if math.isnan(edge_thresh):\n",
    "                got_net.add_edge(src, target, value=value, color='red')\n",
    "            else:\n",
    "                got_net.add_edge(src, target, value=value, color='red', label=str(int(edge_thresh)))\n",
    "        else:\n",
    "            got_net.add_edge(src, target, value=value, color='blue')\n",
    "#         elif pathway_type =='trajectory': #It's just one trajectory\n",
    "#             if math.isnan(edge_thresh):\n",
    "#                 got_net.add_edge(src, target, value=value, color='blue')\n",
    "#             else:\n",
    "#                 got_net.add_edge(src, target, value=value, color='blue', label=str(int(edge_thresh)))\n",
    "#         else:\n",
    "#             print('Unknown pathway type')\n",
    "    return got_net"
   ]
  },
  {
   "cell_type": "markdown",
   "id": "afe37214",
   "metadata": {},
   "source": [
    "#### The data"
   ]
  },
  {
   "cell_type": "code",
   "execution_count": 8,
   "id": "8f88e881",
   "metadata": {},
   "outputs": [
    {
     "data": {
      "text/html": [
       "<div>\n",
       "<style scoped>\n",
       "    .dataframe tbody tr th:only-of-type {\n",
       "        vertical-align: middle;\n",
       "    }\n",
       "\n",
       "    .dataframe tbody tr th {\n",
       "        vertical-align: top;\n",
       "    }\n",
       "\n",
       "    .dataframe thead th {\n",
       "        text-align: right;\n",
       "    }\n",
       "</style>\n",
       "<table border=\"1\" class=\"dataframe\">\n",
       "  <thead>\n",
       "    <tr style=\"text-align: right;\">\n",
       "      <th></th>\n",
       "      <th>hemoglobin</th>\n",
       "      <th>ferritin</th>\n",
       "      <th>ret_count</th>\n",
       "      <th>segmented_neutrophils</th>\n",
       "      <th>tibc</th>\n",
       "      <th>mcv</th>\n",
       "      <th>serum_iron</th>\n",
       "      <th>rbc</th>\n",
       "      <th>gender</th>\n",
       "      <th>creatinine</th>\n",
       "      <th>cholestrol</th>\n",
       "      <th>copper</th>\n",
       "      <th>ethanol</th>\n",
       "      <th>folate</th>\n",
       "      <th>glucose</th>\n",
       "      <th>hematocrit</th>\n",
       "      <th>tsat</th>\n",
       "      <th>label</th>\n",
       "    </tr>\n",
       "  </thead>\n",
       "  <tbody>\n",
       "    <tr>\n",
       "      <th>0</th>\n",
       "      <td>7.116363</td>\n",
       "      <td>-1.000000</td>\n",
       "      <td>3.781573</td>\n",
       "      <td>2.738413</td>\n",
       "      <td>-1.000000</td>\n",
       "      <td>95.904198</td>\n",
       "      <td>68.457895</td>\n",
       "      <td>2.226085</td>\n",
       "      <td>0</td>\n",
       "      <td>1.892912</td>\n",
       "      <td>39.808550</td>\n",
       "      <td>110.329197</td>\n",
       "      <td>64.404350</td>\n",
       "      <td>21.654404</td>\n",
       "      <td>73.787009</td>\n",
       "      <td>21.349089</td>\n",
       "      <td>-1.000000</td>\n",
       "      <td>5</td>\n",
       "    </tr>\n",
       "    <tr>\n",
       "      <th>1</th>\n",
       "      <td>8.125320</td>\n",
       "      <td>92.230003</td>\n",
       "      <td>4.231419</td>\n",
       "      <td>1.188039</td>\n",
       "      <td>143.365567</td>\n",
       "      <td>104.057204</td>\n",
       "      <td>204.747831</td>\n",
       "      <td>2.342554</td>\n",
       "      <td>0</td>\n",
       "      <td>0.652614</td>\n",
       "      <td>13.478089</td>\n",
       "      <td>-1.000000</td>\n",
       "      <td>32.705481</td>\n",
       "      <td>-1.000000</td>\n",
       "      <td>43.520272</td>\n",
       "      <td>24.375961</td>\n",
       "      <td>142.815207</td>\n",
       "      <td>1</td>\n",
       "    </tr>\n",
       "    <tr>\n",
       "      <th>2</th>\n",
       "      <td>11.309450</td>\n",
       "      <td>38.324563</td>\n",
       "      <td>-1.000000</td>\n",
       "      <td>-1.000000</td>\n",
       "      <td>455.077909</td>\n",
       "      <td>76.402602</td>\n",
       "      <td>-1.000000</td>\n",
       "      <td>4.440732</td>\n",
       "      <td>0</td>\n",
       "      <td>-1.000000</td>\n",
       "      <td>-1.000000</td>\n",
       "      <td>-1.000000</td>\n",
       "      <td>-1.000000</td>\n",
       "      <td>-1.000000</td>\n",
       "      <td>-1.000000</td>\n",
       "      <td>33.928350</td>\n",
       "      <td>-1.000000</td>\n",
       "      <td>4</td>\n",
       "    </tr>\n",
       "    <tr>\n",
       "      <th>3</th>\n",
       "      <td>13.763858</td>\n",
       "      <td>253.513394</td>\n",
       "      <td>2.262606</td>\n",
       "      <td>0.551444</td>\n",
       "      <td>453.772884</td>\n",
       "      <td>82.781943</td>\n",
       "      <td>90.101466</td>\n",
       "      <td>4.987993</td>\n",
       "      <td>0</td>\n",
       "      <td>0.853521</td>\n",
       "      <td>104.005514</td>\n",
       "      <td>34.639227</td>\n",
       "      <td>0.963866</td>\n",
       "      <td>22.083012</td>\n",
       "      <td>88.891838</td>\n",
       "      <td>41.291574</td>\n",
       "      <td>19.856071</td>\n",
       "      <td>0</td>\n",
       "    </tr>\n",
       "    <tr>\n",
       "      <th>4</th>\n",
       "      <td>11.464002</td>\n",
       "      <td>-1.000000</td>\n",
       "      <td>-1.000000</td>\n",
       "      <td>-1.000000</td>\n",
       "      <td>320.964653</td>\n",
       "      <td>104.287127</td>\n",
       "      <td>-1.000000</td>\n",
       "      <td>3.297819</td>\n",
       "      <td>0</td>\n",
       "      <td>1.163516</td>\n",
       "      <td>121.616315</td>\n",
       "      <td>105.895897</td>\n",
       "      <td>-1.000000</td>\n",
       "      <td>9.337462</td>\n",
       "      <td>-1.000000</td>\n",
       "      <td>34.392007</td>\n",
       "      <td>-1.000000</td>\n",
       "      <td>7</td>\n",
       "    </tr>\n",
       "  </tbody>\n",
       "</table>\n",
       "</div>"
      ],
      "text/plain": [
       "   hemoglobin    ferritin  ret_count  segmented_neutrophils        tibc  \\\n",
       "0    7.116363   -1.000000   3.781573               2.738413   -1.000000   \n",
       "1    8.125320   92.230003   4.231419               1.188039  143.365567   \n",
       "2   11.309450   38.324563  -1.000000              -1.000000  455.077909   \n",
       "3   13.763858  253.513394   2.262606               0.551444  453.772884   \n",
       "4   11.464002   -1.000000  -1.000000              -1.000000  320.964653   \n",
       "\n",
       "          mcv  serum_iron       rbc  gender  creatinine  cholestrol  \\\n",
       "0   95.904198   68.457895  2.226085       0    1.892912   39.808550   \n",
       "1  104.057204  204.747831  2.342554       0    0.652614   13.478089   \n",
       "2   76.402602   -1.000000  4.440732       0   -1.000000   -1.000000   \n",
       "3   82.781943   90.101466  4.987993       0    0.853521  104.005514   \n",
       "4  104.287127   -1.000000  3.297819       0    1.163516  121.616315   \n",
       "\n",
       "       copper    ethanol     folate    glucose  hematocrit        tsat  label  \n",
       "0  110.329197  64.404350  21.654404  73.787009   21.349089   -1.000000      5  \n",
       "1   -1.000000  32.705481  -1.000000  43.520272   24.375961  142.815207      1  \n",
       "2   -1.000000  -1.000000  -1.000000  -1.000000   33.928350   -1.000000      4  \n",
       "3   34.639227   0.963866  22.083012  88.891838   41.291574   19.856071      0  \n",
       "4  105.895897  -1.000000   9.337462  -1.000000   34.392007   -1.000000      7  "
      ]
     },
     "execution_count": 8,
     "metadata": {},
     "output_type": "execute_result"
    }
   ],
   "source": [
    "testing_df = pd.read_csv('../../final/data/with_new_stable_baselines/testing_set.csv')\n",
    "testing_df.head()"
   ]
  },
  {
   "cell_type": "code",
   "execution_count": 9,
   "id": "8b077aeb",
   "metadata": {},
   "outputs": [
    {
     "data": {
      "text/html": [
       "<div>\n",
       "<style scoped>\n",
       "    .dataframe tbody tr th:only-of-type {\n",
       "        vertical-align: middle;\n",
       "    }\n",
       "\n",
       "    .dataframe tbody tr th {\n",
       "        vertical-align: top;\n",
       "    }\n",
       "\n",
       "    .dataframe thead th {\n",
       "        text-align: right;\n",
       "    }\n",
       "</style>\n",
       "<table border=\"1\" class=\"dataframe\">\n",
       "  <thead>\n",
       "    <tr style=\"text-align: right;\">\n",
       "      <th></th>\n",
       "      <th>episode_length</th>\n",
       "      <th>reward</th>\n",
       "      <th>y_pred</th>\n",
       "      <th>y_actual</th>\n",
       "      <th>trajectory</th>\n",
       "      <th>terminated</th>\n",
       "      <th>is_success</th>\n",
       "    </tr>\n",
       "  </thead>\n",
       "  <tbody>\n",
       "    <tr>\n",
       "      <th>0</th>\n",
       "      <td>5.0</td>\n",
       "      <td>1.0</td>\n",
       "      <td>5.0</td>\n",
       "      <td>5.0</td>\n",
       "      <td>['hemoglobin', 'rbc', 'mcv', 'ret_count', 'Hem...</td>\n",
       "      <td>0.0</td>\n",
       "      <td>1.0</td>\n",
       "    </tr>\n",
       "    <tr>\n",
       "      <th>1</th>\n",
       "      <td>5.0</td>\n",
       "      <td>1.0</td>\n",
       "      <td>1.0</td>\n",
       "      <td>1.0</td>\n",
       "      <td>['hemoglobin', 'rbc', 'mcv', 'segmented_neutro...</td>\n",
       "      <td>0.0</td>\n",
       "      <td>1.0</td>\n",
       "    </tr>\n",
       "    <tr>\n",
       "      <th>2</th>\n",
       "      <td>6.0</td>\n",
       "      <td>1.0</td>\n",
       "      <td>4.0</td>\n",
       "      <td>4.0</td>\n",
       "      <td>['hemoglobin', 'rbc', 'ferritin', 'tibc', 'hem...</td>\n",
       "      <td>0.0</td>\n",
       "      <td>1.0</td>\n",
       "    </tr>\n",
       "    <tr>\n",
       "      <th>3</th>\n",
       "      <td>3.0</td>\n",
       "      <td>1.0</td>\n",
       "      <td>0.0</td>\n",
       "      <td>0.0</td>\n",
       "      <td>['hemoglobin', 'hematocrit', 'No anemia']</td>\n",
       "      <td>0.0</td>\n",
       "      <td>1.0</td>\n",
       "    </tr>\n",
       "    <tr>\n",
       "      <th>4</th>\n",
       "      <td>5.0</td>\n",
       "      <td>-1.0</td>\n",
       "      <td>7.0</td>\n",
       "      <td>7.0</td>\n",
       "      <td>['hemoglobin', 'rbc', 'mcv', 'segmented_neutro...</td>\n",
       "      <td>1.0</td>\n",
       "      <td>1.0</td>\n",
       "    </tr>\n",
       "  </tbody>\n",
       "</table>\n",
       "</div>"
      ],
      "text/plain": [
       "   episode_length  reward  y_pred  y_actual  \\\n",
       "0             5.0     1.0     5.0       5.0   \n",
       "1             5.0     1.0     1.0       1.0   \n",
       "2             6.0     1.0     4.0       4.0   \n",
       "3             3.0     1.0     0.0       0.0   \n",
       "4             5.0    -1.0     7.0       7.0   \n",
       "\n",
       "                                          trajectory  terminated  is_success  \n",
       "0  ['hemoglobin', 'rbc', 'mcv', 'ret_count', 'Hem...         0.0         1.0  \n",
       "1  ['hemoglobin', 'rbc', 'mcv', 'segmented_neutro...         0.0         1.0  \n",
       "2  ['hemoglobin', 'rbc', 'ferritin', 'tibc', 'hem...         0.0         1.0  \n",
       "3          ['hemoglobin', 'hematocrit', 'No anemia']         0.0         1.0  \n",
       "4  ['hemoglobin', 'rbc', 'mcv', 'segmented_neutro...         1.0         1.0  "
      ]
     },
     "execution_count": 9,
     "metadata": {},
     "output_type": "execute_result"
    }
   ],
   "source": [
    "# test_df = pd.read_csv('../test_dfs/negative_reward/missingness_0.5.csv').drop(['index'], axis=1)\n",
    "test_df = pd.read_csv('../../final/test_dfs/new/test_df_basic.csv').drop(['index'], axis=1)\n",
    "test_df.head()"
   ]
  },
  {
   "cell_type": "code",
   "execution_count": 10,
   "id": "fc2224d8",
   "metadata": {},
   "outputs": [],
   "source": [
    "threshold = 0.1*len(test_df)"
   ]
  },
  {
   "cell_type": "code",
   "execution_count": 11,
   "id": "c6692ce1",
   "metadata": {},
   "outputs": [
    {
     "data": {
      "text/plain": [
       "97.52142857142857"
      ]
     },
     "execution_count": 11,
     "metadata": {},
     "output_type": "execute_result"
    }
   ],
   "source": [
    "success_rate, success_df = utils.success_rate(test_df)\n",
    "success_rate"
   ]
  },
  {
   "cell_type": "markdown",
   "id": "4ea2139d",
   "metadata": {},
   "source": [
    "#### The pathways"
   ]
  },
  {
   "cell_type": "code",
   "execution_count": 12,
   "id": "60040413",
   "metadata": {},
   "outputs": [
    {
     "data": {
      "text/html": [
       "<div>\n",
       "<style scoped>\n",
       "    .dataframe tbody tr th:only-of-type {\n",
       "        vertical-align: middle;\n",
       "    }\n",
       "\n",
       "    .dataframe tbody tr th {\n",
       "        vertical-align: top;\n",
       "    }\n",
       "\n",
       "    .dataframe thead th {\n",
       "        text-align: right;\n",
       "    }\n",
       "</style>\n",
       "<table border=\"1\" class=\"dataframe\">\n",
       "  <thead>\n",
       "    <tr style=\"text-align: right;\">\n",
       "      <th></th>\n",
       "      <th>source</th>\n",
       "      <th>target</th>\n",
       "      <th>value</th>\n",
       "      <th>link_type</th>\n",
       "    </tr>\n",
       "  </thead>\n",
       "  <tbody>\n",
       "    <tr>\n",
       "      <th>0</th>\n",
       "      <td>hemoglobin</td>\n",
       "      <td>rbc</td>\n",
       "      <td>12037</td>\n",
       "      <td>non_terminal</td>\n",
       "    </tr>\n",
       "    <tr>\n",
       "      <th>1</th>\n",
       "      <td>rbc</td>\n",
       "      <td>mcv</td>\n",
       "      <td>6546</td>\n",
       "      <td>non_terminal</td>\n",
       "    </tr>\n",
       "    <tr>\n",
       "      <th>2</th>\n",
       "      <td>mcv</td>\n",
       "      <td>ret_count</td>\n",
       "      <td>3764</td>\n",
       "      <td>non_terminal</td>\n",
       "    </tr>\n",
       "    <tr>\n",
       "      <th>3</th>\n",
       "      <td>ret_count</td>\n",
       "      <td>Hemolytic anemia</td>\n",
       "      <td>1835</td>\n",
       "      <td>terminal</td>\n",
       "    </tr>\n",
       "    <tr>\n",
       "      <th>4</th>\n",
       "      <td>mcv</td>\n",
       "      <td>segmented_neutrophils</td>\n",
       "      <td>4060</td>\n",
       "      <td>non_terminal</td>\n",
       "    </tr>\n",
       "  </tbody>\n",
       "</table>\n",
       "</div>"
      ],
      "text/plain": [
       "       source                 target  value     link_type\n",
       "0  hemoglobin                    rbc  12037  non_terminal\n",
       "1         rbc                    mcv   6546  non_terminal\n",
       "2         mcv              ret_count   3764  non_terminal\n",
       "3   ret_count       Hemolytic anemia   1835      terminal\n",
       "4         mcv  segmented_neutrophils   4060  non_terminal"
      ]
     },
     "execution_count": 12,
     "metadata": {},
     "output_type": "execute_result"
    }
   ],
   "source": [
    "pathways_df = create_sankey_df(test_df)\n",
    "pathways_df.head()"
   ]
  },
  {
   "cell_type": "code",
   "execution_count": 13,
   "id": "79bf8891",
   "metadata": {},
   "outputs": [
    {
     "data": {
      "text/plain": [
       "array(['rbc', 'mcv', 'ret_count', 'Hemolytic anemia',\n",
       "       'segmented_neutrophils', 'Vitamin B12/Folate deficiency anemia',\n",
       "       'ferritin', 'tibc', 'Iron deficiency anemia', 'hematocrit',\n",
       "       'No anemia', 'Inconclusive diagnosis', 'gender',\n",
       "       'Unspecified anemia', 'Anemia of chronic disease',\n",
       "       'Aplastic anemia', 'tsat', 'creatinine', 'copper', 'glucose'],\n",
       "      dtype=object)"
      ]
     },
     "execution_count": 13,
     "metadata": {},
     "output_type": "execute_result"
    }
   ],
   "source": [
    "pathways_df.target.unique()"
   ]
  },
  {
   "cell_type": "code",
   "execution_count": 14,
   "id": "cd8ba297",
   "metadata": {},
   "outputs": [],
   "source": [
    "start_node = pathways_df.iloc[0]['source']\n",
    "all_nodes = list(set(pathways_df.source.unique().tolist() + pathways_df.target.unique().tolist()))\n",
    "terminal_nodes = list(set(pathways_df[pathways_df.link_type=='terminal'].target))\n",
    "non_terminal_nodes = [i for i in all_nodes if i not in terminal_nodes and i!=start_node]"
   ]
  },
  {
   "cell_type": "code",
   "execution_count": 15,
   "id": "449f0e4d",
   "metadata": {},
   "outputs": [
    {
     "data": {
      "text/html": [
       "\n",
       "        <iframe\n",
       "            width=\"100%\"\n",
       "            height=\"750px\"\n",
       "            src=\"Example.html\"\n",
       "            frameborder=\"0\"\n",
       "            allowfullscreen\n",
       "            \n",
       "        ></iframe>\n",
       "        "
      ],
      "text/plain": [
       "<IPython.lib.display.IFrame at 0x7ff810151cd0>"
      ]
     },
     "execution_count": 15,
     "metadata": {},
     "output_type": "execute_result"
    }
   ],
   "source": [
    "anem_net = draw_pyvis_network(pathways_df)    \n",
    "anem_net.show('Example.html')"
   ]
  },
  {
   "cell_type": "markdown",
   "id": "f45b33a2",
   "metadata": {},
   "source": [
    "#### Anemia Class 0"
   ]
  },
  {
   "cell_type": "code",
   "execution_count": 16,
   "id": "04ccbfdb",
   "metadata": {},
   "outputs": [
    {
     "data": {
      "text/html": [
       "\n",
       "        <iframe\n",
       "            width=\"100%\"\n",
       "            height=\"750px\"\n",
       "            src=\"Example.html\"\n",
       "            frameborder=\"0\"\n",
       "            allowfullscreen\n",
       "            \n",
       "        ></iframe>\n",
       "        "
      ],
      "text/plain": [
       "<IPython.lib.display.IFrame at 0x7ff810151810>"
      ]
     },
     "execution_count": 16,
     "metadata": {},
     "output_type": "execute_result"
    }
   ],
   "source": [
    "test_df_0 = test_df[test_df.y_pred==0]\n",
    "pathways_df_0 = create_sankey_df(test_df_0)\n",
    "anem_net_0 = draw_pyvis_network(pathways_df_0)    \n",
    "anem_net_0.show('Example.html')"
   ]
  },
  {
   "cell_type": "markdown",
   "id": "af65221a",
   "metadata": {},
   "source": [
    "#### Labelled network"
   ]
  },
  {
   "cell_type": "code",
   "execution_count": null,
   "id": "d43502c4",
   "metadata": {},
   "outputs": [],
   "source": [
    "labelled_anem_net = draw_labelled_pyvis_network(pathways_df)    \n",
    "labelled_anem_net.show('Example.html')"
   ]
  },
  {
   "cell_type": "markdown",
   "id": "889d1387",
   "metadata": {},
   "source": [
    "#### The Confusion Matrix"
   ]
  },
  {
   "cell_type": "code",
   "execution_count": null,
   "id": "2201266d",
   "metadata": {},
   "outputs": [],
   "source": [
    "utils.plot_confusion_matrix(test_df['y_actual'], test_df['y_pred'])"
   ]
  },
  {
   "cell_type": "markdown",
   "id": "3ca2dca2",
   "metadata": {},
   "source": [
    "#### The Classification Report"
   ]
  },
  {
   "cell_type": "code",
   "execution_count": null,
   "id": "8366248c",
   "metadata": {},
   "outputs": [],
   "source": [
    "utils.plot_classification_report(test_df['y_actual'], test_df['y_pred'])"
   ]
  }
 ],
 "metadata": {
  "kernelspec": {
   "display_name": "Python 3 (ipykernel)",
   "language": "python",
   "name": "python3"
  },
  "language_info": {
   "codemirror_mode": {
    "name": "ipython",
    "version": 3
   },
   "file_extension": ".py",
   "mimetype": "text/x-python",
   "name": "python",
   "nbconvert_exporter": "python",
   "pygments_lexer": "ipython3",
   "version": "3.7.4"
  }
 },
 "nbformat": 4,
 "nbformat_minor": 5
}

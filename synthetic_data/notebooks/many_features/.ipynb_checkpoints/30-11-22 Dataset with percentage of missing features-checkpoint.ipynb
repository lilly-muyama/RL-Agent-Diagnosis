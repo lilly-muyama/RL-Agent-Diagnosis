{
 "cells": [
  {
   "cell_type": "code",
   "execution_count": 19,
   "id": "da399ec1",
   "metadata": {},
   "outputs": [],
   "source": [
    "import pandas as pd\n",
    "import numpy as np\n",
    "import random\n",
    "import sys\n",
    "sys.path.append('../..')\n",
    "from modules.many_features import utils, constants"
   ]
  },
  {
   "cell_type": "code",
   "execution_count": 20,
   "id": "f002bea7",
   "metadata": {},
   "outputs": [],
   "source": [
    "SEED = 42\n",
    "random.seed(SEED)\n",
    "np.random.seed(SEED)"
   ]
  },
  {
   "cell_type": "markdown",
   "id": "9eca068a",
   "metadata": {},
   "source": [
    "#### The dataset"
   ]
  },
  {
   "cell_type": "code",
   "execution_count": 21,
   "id": "cdcd65a9",
   "metadata": {},
   "outputs": [
    {
     "data": {
      "text/html": [
       "<div>\n",
       "<style scoped>\n",
       "    .dataframe tbody tr th:only-of-type {\n",
       "        vertical-align: middle;\n",
       "    }\n",
       "\n",
       "    .dataframe tbody tr th {\n",
       "        vertical-align: top;\n",
       "    }\n",
       "\n",
       "    .dataframe thead th {\n",
       "        text-align: right;\n",
       "    }\n",
       "</style>\n",
       "<table border=\"1\" class=\"dataframe\">\n",
       "  <thead>\n",
       "    <tr style=\"text-align: right;\">\n",
       "      <th></th>\n",
       "      <th>hemoglobin</th>\n",
       "      <th>ferritin</th>\n",
       "      <th>ret_count</th>\n",
       "      <th>segmented_neutrophils</th>\n",
       "      <th>tibc</th>\n",
       "      <th>mcv</th>\n",
       "      <th>serum_iron</th>\n",
       "      <th>rbc</th>\n",
       "      <th>gender</th>\n",
       "      <th>creatinine</th>\n",
       "      <th>cholestrol</th>\n",
       "      <th>copper</th>\n",
       "      <th>ethanol</th>\n",
       "      <th>folate</th>\n",
       "      <th>glucose</th>\n",
       "      <th>hematocrit</th>\n",
       "      <th>tsat</th>\n",
       "      <th>label</th>\n",
       "    </tr>\n",
       "  </thead>\n",
       "  <tbody>\n",
       "    <tr>\n",
       "      <th>0</th>\n",
       "      <td>9.007012</td>\n",
       "      <td>NaN</td>\n",
       "      <td>NaN</td>\n",
       "      <td>3.519565</td>\n",
       "      <td>440.499323</td>\n",
       "      <td>103.442762</td>\n",
       "      <td>59.017997</td>\n",
       "      <td>2.612173</td>\n",
       "      <td>1</td>\n",
       "      <td>0.650757</td>\n",
       "      <td>114.794964</td>\n",
       "      <td>112.308159</td>\n",
       "      <td>25.612786</td>\n",
       "      <td>5.969710</td>\n",
       "      <td>116.026042</td>\n",
       "      <td>27.021037</td>\n",
       "      <td>13.397977</td>\n",
       "      <td>1</td>\n",
       "    </tr>\n",
       "    <tr>\n",
       "      <th>1</th>\n",
       "      <td>8.760976</td>\n",
       "      <td>NaN</td>\n",
       "      <td>0.491469</td>\n",
       "      <td>NaN</td>\n",
       "      <td>259.895852</td>\n",
       "      <td>103.885481</td>\n",
       "      <td>NaN</td>\n",
       "      <td>2.529991</td>\n",
       "      <td>0</td>\n",
       "      <td>0.728641</td>\n",
       "      <td>74.824352</td>\n",
       "      <td>NaN</td>\n",
       "      <td>NaN</td>\n",
       "      <td>NaN</td>\n",
       "      <td>NaN</td>\n",
       "      <td>26.282929</td>\n",
       "      <td>NaN</td>\n",
       "      <td>7</td>\n",
       "    </tr>\n",
       "    <tr>\n",
       "      <th>2</th>\n",
       "      <td>7.490324</td>\n",
       "      <td>70.812609</td>\n",
       "      <td>NaN</td>\n",
       "      <td>1.495604</td>\n",
       "      <td>482.109919</td>\n",
       "      <td>79.543391</td>\n",
       "      <td>NaN</td>\n",
       "      <td>2.824995</td>\n",
       "      <td>0</td>\n",
       "      <td>NaN</td>\n",
       "      <td>NaN</td>\n",
       "      <td>NaN</td>\n",
       "      <td>NaN</td>\n",
       "      <td>NaN</td>\n",
       "      <td>NaN</td>\n",
       "      <td>22.470972</td>\n",
       "      <td>NaN</td>\n",
       "      <td>4</td>\n",
       "    </tr>\n",
       "    <tr>\n",
       "      <th>3</th>\n",
       "      <td>8.113370</td>\n",
       "      <td>499.313483</td>\n",
       "      <td>3.507612</td>\n",
       "      <td>0.000000</td>\n",
       "      <td>195.351883</td>\n",
       "      <td>100.545858</td>\n",
       "      <td>203.895756</td>\n",
       "      <td>2.420797</td>\n",
       "      <td>1</td>\n",
       "      <td>0.860863</td>\n",
       "      <td>9.120947</td>\n",
       "      <td>41.131511</td>\n",
       "      <td>1.843890</td>\n",
       "      <td>18.845473</td>\n",
       "      <td>106.199806</td>\n",
       "      <td>24.340111</td>\n",
       "      <td>104.373581</td>\n",
       "      <td>2</td>\n",
       "    </tr>\n",
       "    <tr>\n",
       "      <th>4</th>\n",
       "      <td>13.935301</td>\n",
       "      <td>349.569415</td>\n",
       "      <td>5.190725</td>\n",
       "      <td>6.894195</td>\n",
       "      <td>489.595939</td>\n",
       "      <td>102.234294</td>\n",
       "      <td>150.085853</td>\n",
       "      <td>4.089225</td>\n",
       "      <td>1</td>\n",
       "      <td>0.216907</td>\n",
       "      <td>20.344863</td>\n",
       "      <td>92.547095</td>\n",
       "      <td>19.815123</td>\n",
       "      <td>29.543875</td>\n",
       "      <td>98.388710</td>\n",
       "      <td>41.805903</td>\n",
       "      <td>30.655044</td>\n",
       "      <td>0</td>\n",
       "    </tr>\n",
       "  </tbody>\n",
       "</table>\n",
       "</div>"
      ],
      "text/plain": [
       "   hemoglobin    ferritin  ret_count  segmented_neutrophils        tibc  \\\n",
       "0    9.007012         NaN        NaN               3.519565  440.499323   \n",
       "1    8.760976         NaN   0.491469                    NaN  259.895852   \n",
       "2    7.490324   70.812609        NaN               1.495604  482.109919   \n",
       "3    8.113370  499.313483   3.507612               0.000000  195.351883   \n",
       "4   13.935301  349.569415   5.190725               6.894195  489.595939   \n",
       "\n",
       "          mcv  serum_iron       rbc  gender  creatinine  cholestrol  \\\n",
       "0  103.442762   59.017997  2.612173       1    0.650757  114.794964   \n",
       "1  103.885481         NaN  2.529991       0    0.728641   74.824352   \n",
       "2   79.543391         NaN  2.824995       0         NaN         NaN   \n",
       "3  100.545858  203.895756  2.420797       1    0.860863    9.120947   \n",
       "4  102.234294  150.085853  4.089225       1    0.216907   20.344863   \n",
       "\n",
       "       copper    ethanol     folate     glucose  hematocrit        tsat  label  \n",
       "0  112.308159  25.612786   5.969710  116.026042   27.021037   13.397977      1  \n",
       "1         NaN        NaN        NaN         NaN   26.282929         NaN      7  \n",
       "2         NaN        NaN        NaN         NaN   22.470972         NaN      4  \n",
       "3   41.131511   1.843890  18.845473  106.199806   24.340111  104.373581      2  \n",
       "4   92.547095  19.815123  29.543875   98.388710   41.805903   30.655044      0  "
      ]
     },
     "execution_count": 21,
     "metadata": {},
     "output_type": "execute_result"
    }
   ],
   "source": [
    "train_df = pd.read_csv('../../final/data/train_set_basic.csv')\n",
    "train_df = train_df.replace(-1, np.nan)\n",
    "train_df.head()"
   ]
  },
  {
   "cell_type": "code",
   "execution_count": 22,
   "id": "14dc666e",
   "metadata": {},
   "outputs": [
    {
     "data": {
      "text/plain": [
       "hemoglobin                   0\n",
       "ferritin                 22951\n",
       "ret_count                15681\n",
       "segmented_neutrophils    14249\n",
       "tibc                     22036\n",
       "mcv                       4023\n",
       "serum_iron               30799\n",
       "rbc                       4023\n",
       "gender                       0\n",
       "creatinine               15623\n",
       "cholestrol               15623\n",
       "copper                   35875\n",
       "ethanol                  30799\n",
       "folate                   35875\n",
       "glucose                  30799\n",
       "hematocrit                   0\n",
       "tsat                     40805\n",
       "label                        0\n",
       "dtype: int64"
      ]
     },
     "execution_count": 22,
     "metadata": {},
     "output_type": "execute_result"
    }
   ],
   "source": [
    "train_df.isna().sum()"
   ]
  },
  {
   "cell_type": "markdown",
   "id": "d451bf69",
   "metadata": {},
   "source": [
    "#### Replacing features"
   ]
  },
  {
   "cell_type": "code",
   "execution_count": 23,
   "id": "4812e353",
   "metadata": {},
   "outputs": [],
   "source": [
    "def miss_feature(df, feature_name, frac):\n",
    "    copy_df = df.copy(deep=True)\n",
    "    copy_df[feature_name] = copy_df[feature_name].sample(frac=frac)\n",
    "    return copy_df    "
   ]
  },
  {
   "cell_type": "code",
   "execution_count": 24,
   "id": "beb6f87e",
   "metadata": {},
   "outputs": [
    {
     "data": {
      "text/plain": [
       "hemoglobin                   0\n",
       "ferritin                 22951\n",
       "ret_count                15681\n",
       "segmented_neutrophils    14249\n",
       "tibc                     22036\n",
       "mcv                      30069\n",
       "serum_iron               30799\n",
       "rbc                       4023\n",
       "gender                       0\n",
       "creatinine               15623\n",
       "cholestrol               15623\n",
       "copper                   35875\n",
       "ethanol                  30799\n",
       "folate                   35875\n",
       "glucose                  30799\n",
       "hematocrit                   0\n",
       "tsat                     40805\n",
       "label                        0\n",
       "dtype: int64"
      ]
     },
     "execution_count": 24,
     "metadata": {},
     "output_type": "execute_result"
    }
   ],
   "source": [
    "train_df_mcv_50 = miss_feature(train_df, 'mcv', 0.5)\n",
    "train_df_mcv_50.isna().sum()"
   ]
  },
  {
   "cell_type": "code",
   "execution_count": 25,
   "id": "98c3a03a",
   "metadata": {},
   "outputs": [],
   "source": [
    "train_df_mcv_50.to_csv('../../final/data/train_set_mcv_50.csv', index=False)"
   ]
  },
  {
   "cell_type": "code",
   "execution_count": null,
   "id": "ca1d401b",
   "metadata": {},
   "outputs": [],
   "source": []
  }
 ],
 "metadata": {
  "kernelspec": {
   "display_name": "Python 3 (ipykernel)",
   "language": "python",
   "name": "python3"
  },
  "language_info": {
   "codemirror_mode": {
    "name": "ipython",
    "version": 3
   },
   "file_extension": ".py",
   "mimetype": "text/x-python",
   "name": "python",
   "nbconvert_exporter": "python",
   "pygments_lexer": "ipython3",
   "version": "3.7.4"
  }
 },
 "nbformat": 4,
 "nbformat_minor": 5
}

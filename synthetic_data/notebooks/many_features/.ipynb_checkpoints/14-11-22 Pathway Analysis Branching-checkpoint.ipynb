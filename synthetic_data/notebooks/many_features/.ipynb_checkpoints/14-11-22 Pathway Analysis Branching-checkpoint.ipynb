{
 "cells": [
  {
   "cell_type": "code",
   "execution_count": 1,
   "id": "9d1bfa4d",
   "metadata": {},
   "outputs": [],
   "source": [
    "import pandas as pd\n",
    "import numpy as np\n",
    "import ast\n",
    "import os\n",
    "import random\n",
    "import seaborn as sns\n",
    "from sklearn.model_selection import train_test_split\n",
    "import sys\n",
    "sys.path.append('../..')\n",
    "from modules.many_features import utils, constants\n",
    "import matplotlib.pyplot as plt\n",
    "%matplotlib inline"
   ]
  },
  {
   "cell_type": "code",
   "execution_count": 2,
   "id": "624f333b",
   "metadata": {},
   "outputs": [],
   "source": [
    "SEED = 63\n",
    "random.seed(SEED)\n",
    "np.random.seed(SEED)\n",
    "os.environ['PYTHONHASHSEED']=str(SEED)"
   ]
  },
  {
   "cell_type": "markdown",
   "id": "16da2a47",
   "metadata": {},
   "source": [
    "#### X_test"
   ]
  },
  {
   "cell_type": "code",
   "execution_count": 3,
   "id": "ad6abaf7",
   "metadata": {},
   "outputs": [
    {
     "data": {
      "text/plain": [
       "((14000, 17), (14000,))"
      ]
     },
     "execution_count": 3,
     "metadata": {},
     "output_type": "execute_result"
    }
   ],
   "source": [
    "# test_set = pd.read_csv('../../data/more_features/train_sets/test_set_constant.csv')\n",
    "test_set = pd.read_csv('../../../anemia_ml4hc/data/test_set_constant.csv')\n",
    "X_test = test_set.iloc[:, 0:-1]\n",
    "y_test = test_set.iloc[:, -1]\n",
    "X_test, y_test = np.array(X_test), np.array(y_test)\n",
    "X_test.shape, y_test.shape"
   ]
  },
  {
   "cell_type": "code",
   "execution_count": 4,
   "id": "56875e39",
   "metadata": {},
   "outputs": [],
   "source": [
    "# df['label'] = df['label'].replace(class_dict)\n",
    "# X = df.iloc[:, 0:-1]\n",
    "# y = df.iloc[:, -1]\n",
    "\n",
    "# X_train, X_test, y_train, y_test = train_test_split(X, y, test_size=0.2, stratify=y, random_state=SEED)\n",
    "# test_set = pd.concat([X_test, y_test], axis=1).reset_index(drop=True)\n",
    "# # X_train, y_train = np.array(X_train), np.array(y_train)\n",
    "# # X_test, y_test = np.array(X_test), np.array(y_test)\n",
    "# test_set.shape"
   ]
  },
  {
   "cell_type": "code",
   "execution_count": 5,
   "id": "b7a91ed3",
   "metadata": {},
   "outputs": [
    {
     "data": {
      "text/html": [
       "<div>\n",
       "<style scoped>\n",
       "    .dataframe tbody tr th:only-of-type {\n",
       "        vertical-align: middle;\n",
       "    }\n",
       "\n",
       "    .dataframe tbody tr th {\n",
       "        vertical-align: top;\n",
       "    }\n",
       "\n",
       "    .dataframe thead th {\n",
       "        text-align: right;\n",
       "    }\n",
       "</style>\n",
       "<table border=\"1\" class=\"dataframe\">\n",
       "  <thead>\n",
       "    <tr style=\"text-align: right;\">\n",
       "      <th></th>\n",
       "      <th>hemoglobin</th>\n",
       "      <th>ferritin</th>\n",
       "      <th>ret_count</th>\n",
       "      <th>segmented_neutrophils</th>\n",
       "      <th>tibc</th>\n",
       "      <th>mcv</th>\n",
       "      <th>serum_iron</th>\n",
       "      <th>rbc</th>\n",
       "      <th>gender</th>\n",
       "      <th>creatinine</th>\n",
       "      <th>cholestrol</th>\n",
       "      <th>copper</th>\n",
       "      <th>ethanol</th>\n",
       "      <th>folate</th>\n",
       "      <th>glucose</th>\n",
       "      <th>hematocrit</th>\n",
       "      <th>tsat</th>\n",
       "      <th>label</th>\n",
       "    </tr>\n",
       "  </thead>\n",
       "  <tbody>\n",
       "    <tr>\n",
       "      <th>0</th>\n",
       "      <td>7.116363</td>\n",
       "      <td>-1.000000</td>\n",
       "      <td>3.781573</td>\n",
       "      <td>2.738413</td>\n",
       "      <td>-1.000000</td>\n",
       "      <td>95.904198</td>\n",
       "      <td>68.457895</td>\n",
       "      <td>2.226085</td>\n",
       "      <td>0</td>\n",
       "      <td>1.892912</td>\n",
       "      <td>39.808550</td>\n",
       "      <td>110.329197</td>\n",
       "      <td>64.404350</td>\n",
       "      <td>21.654404</td>\n",
       "      <td>73.787009</td>\n",
       "      <td>21.349089</td>\n",
       "      <td>-1.000000</td>\n",
       "      <td>5</td>\n",
       "    </tr>\n",
       "    <tr>\n",
       "      <th>1</th>\n",
       "      <td>8.125320</td>\n",
       "      <td>92.230003</td>\n",
       "      <td>4.231419</td>\n",
       "      <td>1.188039</td>\n",
       "      <td>143.365567</td>\n",
       "      <td>104.057204</td>\n",
       "      <td>204.747831</td>\n",
       "      <td>2.342554</td>\n",
       "      <td>0</td>\n",
       "      <td>0.652614</td>\n",
       "      <td>13.478089</td>\n",
       "      <td>-1.000000</td>\n",
       "      <td>32.705481</td>\n",
       "      <td>-1.000000</td>\n",
       "      <td>43.520272</td>\n",
       "      <td>24.375961</td>\n",
       "      <td>142.815207</td>\n",
       "      <td>1</td>\n",
       "    </tr>\n",
       "    <tr>\n",
       "      <th>2</th>\n",
       "      <td>11.309450</td>\n",
       "      <td>38.324563</td>\n",
       "      <td>-1.000000</td>\n",
       "      <td>-1.000000</td>\n",
       "      <td>455.077909</td>\n",
       "      <td>76.402602</td>\n",
       "      <td>-1.000000</td>\n",
       "      <td>4.440732</td>\n",
       "      <td>0</td>\n",
       "      <td>-1.000000</td>\n",
       "      <td>-1.000000</td>\n",
       "      <td>-1.000000</td>\n",
       "      <td>-1.000000</td>\n",
       "      <td>-1.000000</td>\n",
       "      <td>-1.000000</td>\n",
       "      <td>33.928350</td>\n",
       "      <td>-1.000000</td>\n",
       "      <td>4</td>\n",
       "    </tr>\n",
       "    <tr>\n",
       "      <th>3</th>\n",
       "      <td>13.763858</td>\n",
       "      <td>253.513394</td>\n",
       "      <td>2.262606</td>\n",
       "      <td>0.551444</td>\n",
       "      <td>453.772884</td>\n",
       "      <td>82.781943</td>\n",
       "      <td>90.101466</td>\n",
       "      <td>4.987993</td>\n",
       "      <td>0</td>\n",
       "      <td>0.853521</td>\n",
       "      <td>104.005514</td>\n",
       "      <td>34.639227</td>\n",
       "      <td>0.963866</td>\n",
       "      <td>22.083012</td>\n",
       "      <td>88.891838</td>\n",
       "      <td>41.291574</td>\n",
       "      <td>19.856071</td>\n",
       "      <td>0</td>\n",
       "    </tr>\n",
       "    <tr>\n",
       "      <th>4</th>\n",
       "      <td>11.464002</td>\n",
       "      <td>-1.000000</td>\n",
       "      <td>-1.000000</td>\n",
       "      <td>-1.000000</td>\n",
       "      <td>320.964653</td>\n",
       "      <td>104.287127</td>\n",
       "      <td>-1.000000</td>\n",
       "      <td>3.297819</td>\n",
       "      <td>0</td>\n",
       "      <td>1.163516</td>\n",
       "      <td>121.616315</td>\n",
       "      <td>105.895897</td>\n",
       "      <td>-1.000000</td>\n",
       "      <td>9.337462</td>\n",
       "      <td>-1.000000</td>\n",
       "      <td>34.392007</td>\n",
       "      <td>-1.000000</td>\n",
       "      <td>7</td>\n",
       "    </tr>\n",
       "  </tbody>\n",
       "</table>\n",
       "</div>"
      ],
      "text/plain": [
       "   hemoglobin    ferritin  ret_count  segmented_neutrophils        tibc  \\\n",
       "0    7.116363   -1.000000   3.781573               2.738413   -1.000000   \n",
       "1    8.125320   92.230003   4.231419               1.188039  143.365567   \n",
       "2   11.309450   38.324563  -1.000000              -1.000000  455.077909   \n",
       "3   13.763858  253.513394   2.262606               0.551444  453.772884   \n",
       "4   11.464002   -1.000000  -1.000000              -1.000000  320.964653   \n",
       "\n",
       "          mcv  serum_iron       rbc  gender  creatinine  cholestrol  \\\n",
       "0   95.904198   68.457895  2.226085       0    1.892912   39.808550   \n",
       "1  104.057204  204.747831  2.342554       0    0.652614   13.478089   \n",
       "2   76.402602   -1.000000  4.440732       0   -1.000000   -1.000000   \n",
       "3   82.781943   90.101466  4.987993       0    0.853521  104.005514   \n",
       "4  104.287127   -1.000000  3.297819       0    1.163516  121.616315   \n",
       "\n",
       "       copper    ethanol     folate    glucose  hematocrit        tsat  label  \n",
       "0  110.329197  64.404350  21.654404  73.787009   21.349089   -1.000000      5  \n",
       "1   -1.000000  32.705481  -1.000000  43.520272   24.375961  142.815207      1  \n",
       "2   -1.000000  -1.000000  -1.000000  -1.000000   33.928350   -1.000000      4  \n",
       "3   34.639227   0.963866  22.083012  88.891838   41.291574   19.856071      0  \n",
       "4  105.895897  -1.000000   9.337462  -1.000000   34.392007   -1.000000      7  "
      ]
     },
     "execution_count": 5,
     "metadata": {},
     "output_type": "execute_result"
    }
   ],
   "source": [
    "test_set.head()"
   ]
  },
  {
   "cell_type": "markdown",
   "id": "a90ca185",
   "metadata": {},
   "source": [
    "#### test_df"
   ]
  },
  {
   "cell_type": "code",
   "execution_count": 6,
   "id": "b5557107",
   "metadata": {},
   "outputs": [
    {
     "data": {
      "text/html": [
       "<div>\n",
       "<style scoped>\n",
       "    .dataframe tbody tr th:only-of-type {\n",
       "        vertical-align: middle;\n",
       "    }\n",
       "\n",
       "    .dataframe tbody tr th {\n",
       "        vertical-align: top;\n",
       "    }\n",
       "\n",
       "    .dataframe thead th {\n",
       "        text-align: right;\n",
       "    }\n",
       "</style>\n",
       "<table border=\"1\" class=\"dataframe\">\n",
       "  <thead>\n",
       "    <tr style=\"text-align: right;\">\n",
       "      <th></th>\n",
       "      <th>index</th>\n",
       "      <th>episode_length</th>\n",
       "      <th>reward</th>\n",
       "      <th>y_pred</th>\n",
       "      <th>y_actual</th>\n",
       "      <th>trajectory</th>\n",
       "      <th>terminated</th>\n",
       "      <th>is_success</th>\n",
       "    </tr>\n",
       "  </thead>\n",
       "  <tbody>\n",
       "    <tr>\n",
       "      <th>0</th>\n",
       "      <td>0.0</td>\n",
       "      <td>5.0</td>\n",
       "      <td>1.0</td>\n",
       "      <td>5.0</td>\n",
       "      <td>5.0</td>\n",
       "      <td>['hemoglobin', 'gender', 'rbc', 'ret_count', '...</td>\n",
       "      <td>0.0</td>\n",
       "      <td>1.0</td>\n",
       "    </tr>\n",
       "    <tr>\n",
       "      <th>1</th>\n",
       "      <td>1.0</td>\n",
       "      <td>6.0</td>\n",
       "      <td>1.0</td>\n",
       "      <td>1.0</td>\n",
       "      <td>1.0</td>\n",
       "      <td>['hemoglobin', 'gender', 'rbc', 'mcv', 'segmen...</td>\n",
       "      <td>0.0</td>\n",
       "      <td>1.0</td>\n",
       "    </tr>\n",
       "    <tr>\n",
       "      <th>2</th>\n",
       "      <td>2.0</td>\n",
       "      <td>8.0</td>\n",
       "      <td>1.0</td>\n",
       "      <td>4.0</td>\n",
       "      <td>4.0</td>\n",
       "      <td>['hemoglobin', 'rbc', 'mcv', 'ferritin', 'hema...</td>\n",
       "      <td>0.0</td>\n",
       "      <td>1.0</td>\n",
       "    </tr>\n",
       "    <tr>\n",
       "      <th>3</th>\n",
       "      <td>3.0</td>\n",
       "      <td>2.0</td>\n",
       "      <td>1.0</td>\n",
       "      <td>0.0</td>\n",
       "      <td>0.0</td>\n",
       "      <td>['hemoglobin', 'No anemia']</td>\n",
       "      <td>0.0</td>\n",
       "      <td>1.0</td>\n",
       "    </tr>\n",
       "    <tr>\n",
       "      <th>4</th>\n",
       "      <td>4.0</td>\n",
       "      <td>6.0</td>\n",
       "      <td>-1.0</td>\n",
       "      <td>7.0</td>\n",
       "      <td>7.0</td>\n",
       "      <td>['hemoglobin', 'gender', 'rbc', 'mcv', 'segmen...</td>\n",
       "      <td>1.0</td>\n",
       "      <td>1.0</td>\n",
       "    </tr>\n",
       "  </tbody>\n",
       "</table>\n",
       "</div>"
      ],
      "text/plain": [
       "   index  episode_length  reward  y_pred  y_actual  \\\n",
       "0    0.0             5.0     1.0     5.0       5.0   \n",
       "1    1.0             6.0     1.0     1.0       1.0   \n",
       "2    2.0             8.0     1.0     4.0       4.0   \n",
       "3    3.0             2.0     1.0     0.0       0.0   \n",
       "4    4.0             6.0    -1.0     7.0       7.0   \n",
       "\n",
       "                                          trajectory  terminated  is_success  \n",
       "0  ['hemoglobin', 'gender', 'rbc', 'ret_count', '...         0.0         1.0  \n",
       "1  ['hemoglobin', 'gender', 'rbc', 'mcv', 'segmen...         0.0         1.0  \n",
       "2  ['hemoglobin', 'rbc', 'mcv', 'ferritin', 'hema...         0.0         1.0  \n",
       "3                        ['hemoglobin', 'No anemia']         0.0         1.0  \n",
       "4  ['hemoglobin', 'gender', 'rbc', 'mcv', 'segmen...         1.0         1.0  "
      ]
     },
     "execution_count": 6,
     "metadata": {},
     "output_type": "execute_result"
    }
   ],
   "source": [
    "# test_df =pd.read_csv('../../test_dfs/many_features/0.1/correlated/constant_test_set/test_df_noisy6_17000000.csv')\n",
    "test_df = pd.read_csv('../../../anemia_ml4hc/test_dfs/dueling_dqn_pr_test_df_seed_63_10000000.csv')\n",
    "test_df.head()"
   ]
  },
  {
   "cell_type": "code",
   "execution_count": 7,
   "id": "ebf3348e",
   "metadata": {},
   "outputs": [
    {
     "data": {
      "text/plain": [
       "array([5, 1, 4, 0, 7, 2, 3, 6])"
      ]
     },
     "execution_count": 7,
     "metadata": {},
     "output_type": "execute_result"
    }
   ],
   "source": [
    "test_set.label.unique()"
   ]
  },
  {
   "cell_type": "code",
   "execution_count": 8,
   "id": "17631ef1",
   "metadata": {},
   "outputs": [
    {
     "data": {
      "text/plain": [
       "14000"
      ]
     },
     "execution_count": 8,
     "metadata": {},
     "output_type": "execute_result"
    }
   ],
   "source": [
    "len(test_df)"
   ]
  },
  {
   "cell_type": "code",
   "execution_count": 9,
   "id": "c139517d",
   "metadata": {},
   "outputs": [
    {
     "data": {
      "text/plain": [
       "0.0    2164\n",
       "1.0    1848\n",
       "2.0    1769\n",
       "3.0    1734\n",
       "5.0    1702\n",
       "6.0    1702\n",
       "4.0    1680\n",
       "7.0    1401\n",
       "Name: y_pred, dtype: int64"
      ]
     },
     "execution_count": 9,
     "metadata": {},
     "output_type": "execute_result"
    }
   ],
   "source": [
    "test_df.y_pred.value_counts()"
   ]
  },
  {
   "cell_type": "code",
   "execution_count": 10,
   "id": "e3568083",
   "metadata": {},
   "outputs": [],
   "source": [
    "def get_idx_df(target_df, idx_list):\n",
    "    idx_df = target_df.iloc[idx_list]\n",
    "    return idx_df"
   ]
  },
  {
   "cell_type": "code",
   "execution_count": 31,
   "id": "b91b6688",
   "metadata": {},
   "outputs": [],
   "source": [
    "def get_distribution(df, feat): #df = anemia_test_df feat = where branching happens and whose value distribution we desire\n",
    "    feat_dict = get_indices(df, feat)\n",
    "    next_feat_df_dict = {}\n",
    "    for i, next_feat in enumerate(list(feat_dict.keys())):\n",
    "        next_feat_df = get_idx_df(test_set, feat_dict[next_feat])\n",
    "        next_feat_df_dict[next_feat] = next_feat_df[feat]\n",
    "    combined_df = pd.DataFrame(next_feat_df_dict)\n",
    "#     print(combined_df)\n",
    "    sns.set_style('dark')\n",
    "    gfg = sns.boxplot(data = combined_df, palette='pastel')\n",
    "    gfg.set(ylabel = feat, title = f'{feat} value distribution')\n",
    "    plt.xticks(rotation=90)\n",
    "    sns.despine()\n",
    "    plt.show()    \n",
    "    return combined_df"
   ]
  },
  {
   "cell_type": "code",
   "execution_count": 21,
   "id": "3e22cefc",
   "metadata": {},
   "outputs": [],
   "source": [
    "def get_indices(df, feat): #get indices in  df where feature is in pathway\n",
    "    idx_dict = {}\n",
    "    for i, row in df.iterrows():\n",
    "        pathway = ast.literal_eval(row['trajectory'])\n",
    "        if feat in pathway:\n",
    "            feat_idx = pathway.index(feat)\n",
    "            next_element = pathway[feat_idx+1]\n",
    "            if next_element not in list(idx_dict.keys()):\n",
    "                idx_dict[next_element] = [row.name]\n",
    "            else:\n",
    "                idx_dict[next_element].append(row.name)\n",
    "    return idx_dict"
   ]
  },
  {
   "cell_type": "markdown",
   "id": "2a9a8222",
   "metadata": {},
   "source": [
    "#### delete from here"
   ]
  },
  {
   "cell_type": "code",
   "execution_count": 22,
   "id": "16bd472e",
   "metadata": {},
   "outputs": [],
   "source": [
    "terminated_df = test_df[test_df.y_pred.isna()]"
   ]
  },
  {
   "cell_type": "code",
   "execution_count": null,
   "id": "7e1f36d3",
   "metadata": {},
   "outputs": [],
   "source": [
    "idx_dict = {}\n",
    "feat = 'mcv'\n",
    "count = 0\n",
    "for i, row in terminated_df.iterrows():\n",
    "    pathway = ast.literal_eval(row['trajectory'])\n",
    "    if feat in pathway:\n",
    "        feat_idx = pathway.index(feat)\n",
    "        next_element = pathway[feat_idx+1]\n",
    "        if next_element == feat:\n",
    "            count+=1\n",
    "count"
   ]
  },
  {
   "cell_type": "code",
   "execution_count": null,
   "id": "4c7593af",
   "metadata": {},
   "outputs": [],
   "source": []
  },
  {
   "cell_type": "code",
   "execution_count": null,
   "id": "eb9a336c",
   "metadata": {},
   "outputs": [],
   "source": []
  },
  {
   "cell_type": "code",
   "execution_count": null,
   "id": "cc96e0fd",
   "metadata": {},
   "outputs": [],
   "source": []
  },
  {
   "cell_type": "code",
   "execution_count": null,
   "id": "ed8eb316",
   "metadata": {},
   "outputs": [],
   "source": [
    "feat_dict = get_indices(terminated_df, 'ret_count')\n",
    "feat_dict.keys()"
   ]
  },
  {
   "cell_type": "code",
   "execution_count": null,
   "id": "a3a1db2c",
   "metadata": {},
   "outputs": [],
   "source": [
    "len(feat_dict['mcv'])"
   ]
  },
  {
   "cell_type": "code",
   "execution_count": null,
   "id": "6bb6ef03",
   "metadata": {},
   "outputs": [],
   "source": []
  },
  {
   "cell_type": "code",
   "execution_count": null,
   "id": "532f9da4",
   "metadata": {},
   "outputs": [],
   "source": []
  },
  {
   "cell_type": "markdown",
   "id": "dbe0b352",
   "metadata": {},
   "source": [
    "#### end here"
   ]
  },
  {
   "cell_type": "markdown",
   "id": "037fa4d7",
   "metadata": {},
   "source": [
    "#### 0 - No anemia - predicted as"
   ]
  },
  {
   "cell_type": "code",
   "execution_count": 23,
   "id": "3a28dcb5",
   "metadata": {},
   "outputs": [
    {
     "data": {
      "text/html": [
       "<div>\n",
       "<style scoped>\n",
       "    .dataframe tbody tr th:only-of-type {\n",
       "        vertical-align: middle;\n",
       "    }\n",
       "\n",
       "    .dataframe tbody tr th {\n",
       "        vertical-align: top;\n",
       "    }\n",
       "\n",
       "    .dataframe thead th {\n",
       "        text-align: right;\n",
       "    }\n",
       "</style>\n",
       "<table border=\"1\" class=\"dataframe\">\n",
       "  <thead>\n",
       "    <tr style=\"text-align: right;\">\n",
       "      <th></th>\n",
       "      <th>index</th>\n",
       "      <th>episode_length</th>\n",
       "      <th>reward</th>\n",
       "      <th>y_pred</th>\n",
       "      <th>y_actual</th>\n",
       "      <th>trajectory</th>\n",
       "      <th>terminated</th>\n",
       "      <th>is_success</th>\n",
       "    </tr>\n",
       "  </thead>\n",
       "  <tbody>\n",
       "    <tr>\n",
       "      <th>3</th>\n",
       "      <td>3.0</td>\n",
       "      <td>2.0</td>\n",
       "      <td>1.0</td>\n",
       "      <td>0.0</td>\n",
       "      <td>0.0</td>\n",
       "      <td>['hemoglobin', 'No anemia']</td>\n",
       "      <td>0.0</td>\n",
       "      <td>1.0</td>\n",
       "    </tr>\n",
       "    <tr>\n",
       "      <th>7</th>\n",
       "      <td>7.0</td>\n",
       "      <td>3.0</td>\n",
       "      <td>-1.0</td>\n",
       "      <td>0.0</td>\n",
       "      <td>5.0</td>\n",
       "      <td>['hemoglobin', 'gender', 'No anemia']</td>\n",
       "      <td>0.0</td>\n",
       "      <td>0.0</td>\n",
       "    </tr>\n",
       "    <tr>\n",
       "      <th>9</th>\n",
       "      <td>9.0</td>\n",
       "      <td>3.0</td>\n",
       "      <td>1.0</td>\n",
       "      <td>0.0</td>\n",
       "      <td>0.0</td>\n",
       "      <td>['hemoglobin', 'gender', 'No anemia']</td>\n",
       "      <td>0.0</td>\n",
       "      <td>1.0</td>\n",
       "    </tr>\n",
       "    <tr>\n",
       "      <th>17</th>\n",
       "      <td>17.0</td>\n",
       "      <td>2.0</td>\n",
       "      <td>1.0</td>\n",
       "      <td>0.0</td>\n",
       "      <td>0.0</td>\n",
       "      <td>['hemoglobin', 'No anemia']</td>\n",
       "      <td>0.0</td>\n",
       "      <td>1.0</td>\n",
       "    </tr>\n",
       "    <tr>\n",
       "      <th>21</th>\n",
       "      <td>21.0</td>\n",
       "      <td>2.0</td>\n",
       "      <td>1.0</td>\n",
       "      <td>0.0</td>\n",
       "      <td>0.0</td>\n",
       "      <td>['hemoglobin', 'No anemia']</td>\n",
       "      <td>0.0</td>\n",
       "      <td>1.0</td>\n",
       "    </tr>\n",
       "  </tbody>\n",
       "</table>\n",
       "</div>"
      ],
      "text/plain": [
       "    index  episode_length  reward  y_pred  y_actual  \\\n",
       "3     3.0             2.0     1.0     0.0       0.0   \n",
       "7     7.0             3.0    -1.0     0.0       5.0   \n",
       "9     9.0             3.0     1.0     0.0       0.0   \n",
       "17   17.0             2.0     1.0     0.0       0.0   \n",
       "21   21.0             2.0     1.0     0.0       0.0   \n",
       "\n",
       "                               trajectory  terminated  is_success  \n",
       "3             ['hemoglobin', 'No anemia']         0.0         1.0  \n",
       "7   ['hemoglobin', 'gender', 'No anemia']         0.0         0.0  \n",
       "9   ['hemoglobin', 'gender', 'No anemia']         0.0         1.0  \n",
       "17            ['hemoglobin', 'No anemia']         0.0         1.0  \n",
       "21            ['hemoglobin', 'No anemia']         0.0         1.0  "
      ]
     },
     "execution_count": 23,
     "metadata": {},
     "output_type": "execute_result"
    }
   ],
   "source": [
    "no_num = 0\n",
    "no_df = test_df[test_df.y_pred == no_num]\n",
    "no_df.head()"
   ]
  },
  {
   "cell_type": "code",
   "execution_count": 24,
   "id": "bf537dbb",
   "metadata": {},
   "outputs": [
    {
     "name": "stdout",
     "output_type": "stream",
     "text": [
      "       No anemia     gender  hematocrit\n",
      "3      13.763858        NaN         NaN\n",
      "7            NaN  12.987288         NaN\n",
      "9            NaN  12.490978         NaN\n",
      "17     13.890780        NaN         NaN\n",
      "21     13.857400        NaN         NaN\n",
      "...          ...        ...         ...\n",
      "13946        NaN        NaN   16.623479\n",
      "13980        NaN  11.896173         NaN\n",
      "13990        NaN  11.923948         NaN\n",
      "13991        NaN  11.947862         NaN\n",
      "13993        NaN  15.234553         NaN\n",
      "\n",
      "[2164 rows x 3 columns]\n"
     ]
    },
    {
     "data": {
      "image/png": "[encoded data removed]",
      "text/plain": [
       "<Figure size 640x480 with 1 Axes>"
      ]
     },
     "metadata": {},
     "output_type": "display_data"
    }
   ],
   "source": [
    "no_hb_distribution = get_distribution(no_df, 'hemoglobin')"
   ]
  },
  {
   "cell_type": "code",
   "execution_count": 25,
   "id": "e4a7b7af",
   "metadata": {},
   "outputs": [],
   "source": [
    "#no_mcv_distribution = get_distribution(no_df, 'mcv')"
   ]
  },
  {
   "cell_type": "code",
   "execution_count": null,
   "id": "a8fca692",
   "metadata": {},
   "outputs": [],
   "source": [
    "#hemolytic_ferritin_distribution = get_distribution(hemolytic_df, 'ferritin')"
   ]
  },
  {
   "cell_type": "markdown",
   "id": "bddc5be4",
   "metadata": {},
   "source": [
    "#### 1 - Vitamin B12/Folate deficiency anemia"
   ]
  },
  {
   "cell_type": "code",
   "execution_count": 51,
   "id": "231c5061",
   "metadata": {},
   "outputs": [
    {
     "data": {
      "text/html": [
       "<div>\n",
       "<style scoped>\n",
       "    .dataframe tbody tr th:only-of-type {\n",
       "        vertical-align: middle;\n",
       "    }\n",
       "\n",
       "    .dataframe tbody tr th {\n",
       "        vertical-align: top;\n",
       "    }\n",
       "\n",
       "    .dataframe thead th {\n",
       "        text-align: right;\n",
       "    }\n",
       "</style>\n",
       "<table border=\"1\" class=\"dataframe\">\n",
       "  <thead>\n",
       "    <tr style=\"text-align: right;\">\n",
       "      <th></th>\n",
       "      <th>index</th>\n",
       "      <th>episode_length</th>\n",
       "      <th>reward</th>\n",
       "      <th>y_pred</th>\n",
       "      <th>y_actual</th>\n",
       "      <th>trajectory</th>\n",
       "      <th>terminated</th>\n",
       "      <th>is_success</th>\n",
       "    </tr>\n",
       "  </thead>\n",
       "  <tbody>\n",
       "    <tr>\n",
       "      <th>1</th>\n",
       "      <td>1.0</td>\n",
       "      <td>6.0</td>\n",
       "      <td>1.0</td>\n",
       "      <td>1.0</td>\n",
       "      <td>1.0</td>\n",
       "      <td>['hemoglobin', 'gender', 'rbc', 'mcv', 'segmen...</td>\n",
       "      <td>0.0</td>\n",
       "      <td>1.0</td>\n",
       "    </tr>\n",
       "    <tr>\n",
       "      <th>6</th>\n",
       "      <td>6.0</td>\n",
       "      <td>5.0</td>\n",
       "      <td>1.0</td>\n",
       "      <td>1.0</td>\n",
       "      <td>1.0</td>\n",
       "      <td>['hemoglobin', 'rbc', 'segmented_neutrophils',...</td>\n",
       "      <td>0.0</td>\n",
       "      <td>1.0</td>\n",
       "    </tr>\n",
       "    <tr>\n",
       "      <th>8</th>\n",
       "      <td>8.0</td>\n",
       "      <td>5.0</td>\n",
       "      <td>1.0</td>\n",
       "      <td>1.0</td>\n",
       "      <td>1.0</td>\n",
       "      <td>['hemoglobin', 'rbc', 'segmented_neutrophils',...</td>\n",
       "      <td>0.0</td>\n",
       "      <td>1.0</td>\n",
       "    </tr>\n",
       "    <tr>\n",
       "      <th>28</th>\n",
       "      <td>28.0</td>\n",
       "      <td>6.0</td>\n",
       "      <td>1.0</td>\n",
       "      <td>1.0</td>\n",
       "      <td>1.0</td>\n",
       "      <td>['hemoglobin', 'gender', 'rbc', 'segmented_neu...</td>\n",
       "      <td>0.0</td>\n",
       "      <td>1.0</td>\n",
       "    </tr>\n",
       "    <tr>\n",
       "      <th>34</th>\n",
       "      <td>34.0</td>\n",
       "      <td>6.0</td>\n",
       "      <td>1.0</td>\n",
       "      <td>1.0</td>\n",
       "      <td>1.0</td>\n",
       "      <td>['hemoglobin', 'rbc', 'segmented_neutrophils',...</td>\n",
       "      <td>0.0</td>\n",
       "      <td>1.0</td>\n",
       "    </tr>\n",
       "  </tbody>\n",
       "</table>\n",
       "</div>"
      ],
      "text/plain": [
       "    index  episode_length  reward  y_pred  y_actual  \\\n",
       "1     1.0             6.0     1.0     1.0       1.0   \n",
       "6     6.0             5.0     1.0     1.0       1.0   \n",
       "8     8.0             5.0     1.0     1.0       1.0   \n",
       "28   28.0             6.0     1.0     1.0       1.0   \n",
       "34   34.0             6.0     1.0     1.0       1.0   \n",
       "\n",
       "                                           trajectory  terminated  is_success  \n",
       "1   ['hemoglobin', 'gender', 'rbc', 'mcv', 'segmen...         0.0         1.0  \n",
       "6   ['hemoglobin', 'rbc', 'segmented_neutrophils',...         0.0         1.0  \n",
       "8   ['hemoglobin', 'rbc', 'segmented_neutrophils',...         0.0         1.0  \n",
       "28  ['hemoglobin', 'gender', 'rbc', 'segmented_neu...         0.0         1.0  \n",
       "34  ['hemoglobin', 'rbc', 'segmented_neutrophils',...         0.0         1.0  "
      ]
     },
     "execution_count": 51,
     "metadata": {},
     "output_type": "execute_result"
    }
   ],
   "source": [
    "vitamin_num = 1\n",
    "vitamin_df = test_df[test_df.y_pred == vitamin_num]\n",
    "vitamin_recall_df = test_df[test_df.y_actual == vitamin_num]\n",
    "vitamin_df.head()"
   ]
  },
  {
   "cell_type": "code",
   "execution_count": 52,
   "id": "f3af6273",
   "metadata": {},
   "outputs": [
    {
     "data": {
      "image/png": "[encoded data removed]",
      "text/plain": [
       "<Figure size 640x480 with 1 Axes>"
      ]
     },
     "metadata": {},
     "output_type": "display_data"
    }
   ],
   "source": [
    "vitamin_mcv_distribution = get_distribution(vitamin_df, 'mcv')"
   ]
  },
  {
   "cell_type": "markdown",
   "id": "1e90f680",
   "metadata": {},
   "source": [
    "#### 2 - Unspecified anemia"
   ]
  },
  {
   "cell_type": "code",
   "execution_count": 32,
   "id": "429ee950",
   "metadata": {},
   "outputs": [
    {
     "data": {
      "text/html": [
       "<div>\n",
       "<style scoped>\n",
       "    .dataframe tbody tr th:only-of-type {\n",
       "        vertical-align: middle;\n",
       "    }\n",
       "\n",
       "    .dataframe tbody tr th {\n",
       "        vertical-align: top;\n",
       "    }\n",
       "\n",
       "    .dataframe thead th {\n",
       "        text-align: right;\n",
       "    }\n",
       "</style>\n",
       "<table border=\"1\" class=\"dataframe\">\n",
       "  <thead>\n",
       "    <tr style=\"text-align: right;\">\n",
       "      <th></th>\n",
       "      <th>index</th>\n",
       "      <th>episode_length</th>\n",
       "      <th>reward</th>\n",
       "      <th>y_pred</th>\n",
       "      <th>y_actual</th>\n",
       "      <th>trajectory</th>\n",
       "      <th>terminated</th>\n",
       "      <th>is_success</th>\n",
       "    </tr>\n",
       "  </thead>\n",
       "  <tbody>\n",
       "    <tr>\n",
       "      <th>11</th>\n",
       "      <td>11.0</td>\n",
       "      <td>5.0</td>\n",
       "      <td>1.0</td>\n",
       "      <td>2.0</td>\n",
       "      <td>2.0</td>\n",
       "      <td>['hemoglobin', 'gender', 'rbc', 'segmented_neu...</td>\n",
       "      <td>0.0</td>\n",
       "      <td>1.0</td>\n",
       "    </tr>\n",
       "    <tr>\n",
       "      <th>12</th>\n",
       "      <td>12.0</td>\n",
       "      <td>6.0</td>\n",
       "      <td>1.0</td>\n",
       "      <td>2.0</td>\n",
       "      <td>2.0</td>\n",
       "      <td>['hemoglobin', 'gender', 'rbc', 'mcv', 'segmen...</td>\n",
       "      <td>0.0</td>\n",
       "      <td>1.0</td>\n",
       "    </tr>\n",
       "    <tr>\n",
       "      <th>39</th>\n",
       "      <td>39.0</td>\n",
       "      <td>4.0</td>\n",
       "      <td>1.0</td>\n",
       "      <td>2.0</td>\n",
       "      <td>2.0</td>\n",
       "      <td>['hemoglobin', 'rbc', 'segmented_neutrophils',...</td>\n",
       "      <td>0.0</td>\n",
       "      <td>1.0</td>\n",
       "    </tr>\n",
       "    <tr>\n",
       "      <th>61</th>\n",
       "      <td>61.0</td>\n",
       "      <td>4.0</td>\n",
       "      <td>1.0</td>\n",
       "      <td>2.0</td>\n",
       "      <td>2.0</td>\n",
       "      <td>['hemoglobin', 'rbc', 'segmented_neutrophils',...</td>\n",
       "      <td>0.0</td>\n",
       "      <td>1.0</td>\n",
       "    </tr>\n",
       "    <tr>\n",
       "      <th>64</th>\n",
       "      <td>64.0</td>\n",
       "      <td>5.0</td>\n",
       "      <td>1.0</td>\n",
       "      <td>2.0</td>\n",
       "      <td>2.0</td>\n",
       "      <td>['hemoglobin', 'gender', 'rbc', 'segmented_neu...</td>\n",
       "      <td>0.0</td>\n",
       "      <td>1.0</td>\n",
       "    </tr>\n",
       "  </tbody>\n",
       "</table>\n",
       "</div>"
      ],
      "text/plain": [
       "    index  episode_length  reward  y_pred  y_actual  \\\n",
       "11   11.0             5.0     1.0     2.0       2.0   \n",
       "12   12.0             6.0     1.0     2.0       2.0   \n",
       "39   39.0             4.0     1.0     2.0       2.0   \n",
       "61   61.0             4.0     1.0     2.0       2.0   \n",
       "64   64.0             5.0     1.0     2.0       2.0   \n",
       "\n",
       "                                           trajectory  terminated  is_success  \n",
       "11  ['hemoglobin', 'gender', 'rbc', 'segmented_neu...         0.0         1.0  \n",
       "12  ['hemoglobin', 'gender', 'rbc', 'mcv', 'segmen...         0.0         1.0  \n",
       "39  ['hemoglobin', 'rbc', 'segmented_neutrophils',...         0.0         1.0  \n",
       "61  ['hemoglobin', 'rbc', 'segmented_neutrophils',...         0.0         1.0  \n",
       "64  ['hemoglobin', 'gender', 'rbc', 'segmented_neu...         0.0         1.0  "
      ]
     },
     "execution_count": 32,
     "metadata": {},
     "output_type": "execute_result"
    }
   ],
   "source": [
    "unspecified_num = 2\n",
    "unspecified_df = test_df[test_df.y_pred == unspecified_num]\n",
    "unspecified_df.head()"
   ]
  },
  {
   "cell_type": "code",
   "execution_count": 33,
   "id": "84c791d8",
   "metadata": {},
   "outputs": [
    {
     "data": {
      "text/plain": [
       "1769"
      ]
     },
     "execution_count": 33,
     "metadata": {},
     "output_type": "execute_result"
    }
   ],
   "source": [
    "len(unspecified_df)"
   ]
  },
  {
   "cell_type": "code",
   "execution_count": 34,
   "id": "23eaf315",
   "metadata": {},
   "outputs": [
    {
     "data": {
      "image/png": "[encoded data removed]",
      "text/plain": [
       "<Figure size 640x480 with 1 Axes>"
      ]
     },
     "metadata": {},
     "output_type": "display_data"
    }
   ],
   "source": [
    "aplastic_mcv_distribution = get_distribution(unspecified_df, 'mcv')"
   ]
  },
  {
   "cell_type": "markdown",
   "id": "785d8d22",
   "metadata": {},
   "source": [
    "#### 3 - Anemia of chrnonic disease"
   ]
  },
  {
   "cell_type": "code",
   "execution_count": 37,
   "id": "a0c46469",
   "metadata": {},
   "outputs": [
    {
     "data": {
      "text/html": [
       "<div>\n",
       "<style scoped>\n",
       "    .dataframe tbody tr th:only-of-type {\n",
       "        vertical-align: middle;\n",
       "    }\n",
       "\n",
       "    .dataframe tbody tr th {\n",
       "        vertical-align: top;\n",
       "    }\n",
       "\n",
       "    .dataframe thead th {\n",
       "        text-align: right;\n",
       "    }\n",
       "</style>\n",
       "<table border=\"1\" class=\"dataframe\">\n",
       "  <thead>\n",
       "    <tr style=\"text-align: right;\">\n",
       "      <th></th>\n",
       "      <th>index</th>\n",
       "      <th>episode_length</th>\n",
       "      <th>reward</th>\n",
       "      <th>y_pred</th>\n",
       "      <th>y_actual</th>\n",
       "      <th>trajectory</th>\n",
       "      <th>terminated</th>\n",
       "      <th>is_success</th>\n",
       "    </tr>\n",
       "  </thead>\n",
       "  <tbody>\n",
       "    <tr>\n",
       "      <th>13</th>\n",
       "      <td>13.0</td>\n",
       "      <td>5.0</td>\n",
       "      <td>1.0</td>\n",
       "      <td>3.0</td>\n",
       "      <td>3.0</td>\n",
       "      <td>['hemoglobin', 'gender', 'rbc', 'ferritin', 'A...</td>\n",
       "      <td>0.0</td>\n",
       "      <td>1.0</td>\n",
       "    </tr>\n",
       "    <tr>\n",
       "      <th>16</th>\n",
       "      <td>16.0</td>\n",
       "      <td>6.0</td>\n",
       "      <td>1.0</td>\n",
       "      <td>3.0</td>\n",
       "      <td>3.0</td>\n",
       "      <td>['hemoglobin', 'gender', 'rbc', 'ferritin', 'h...</td>\n",
       "      <td>0.0</td>\n",
       "      <td>1.0</td>\n",
       "    </tr>\n",
       "    <tr>\n",
       "      <th>19</th>\n",
       "      <td>19.0</td>\n",
       "      <td>6.0</td>\n",
       "      <td>1.0</td>\n",
       "      <td>3.0</td>\n",
       "      <td>3.0</td>\n",
       "      <td>['hemoglobin', 'gender', 'rbc', 'ferritin', 'm...</td>\n",
       "      <td>0.0</td>\n",
       "      <td>1.0</td>\n",
       "    </tr>\n",
       "    <tr>\n",
       "      <th>20</th>\n",
       "      <td>20.0</td>\n",
       "      <td>5.0</td>\n",
       "      <td>1.0</td>\n",
       "      <td>3.0</td>\n",
       "      <td>3.0</td>\n",
       "      <td>['hemoglobin', 'gender', 'rbc', 'ferritin', 'A...</td>\n",
       "      <td>0.0</td>\n",
       "      <td>1.0</td>\n",
       "    </tr>\n",
       "    <tr>\n",
       "      <th>29</th>\n",
       "      <td>29.0</td>\n",
       "      <td>4.0</td>\n",
       "      <td>1.0</td>\n",
       "      <td>3.0</td>\n",
       "      <td>3.0</td>\n",
       "      <td>['hemoglobin', 'rbc', 'ferritin', 'Anemia of c...</td>\n",
       "      <td>0.0</td>\n",
       "      <td>1.0</td>\n",
       "    </tr>\n",
       "  </tbody>\n",
       "</table>\n",
       "</div>"
      ],
      "text/plain": [
       "    index  episode_length  reward  y_pred  y_actual  \\\n",
       "13   13.0             5.0     1.0     3.0       3.0   \n",
       "16   16.0             6.0     1.0     3.0       3.0   \n",
       "19   19.0             6.0     1.0     3.0       3.0   \n",
       "20   20.0             5.0     1.0     3.0       3.0   \n",
       "29   29.0             4.0     1.0     3.0       3.0   \n",
       "\n",
       "                                           trajectory  terminated  is_success  \n",
       "13  ['hemoglobin', 'gender', 'rbc', 'ferritin', 'A...         0.0         1.0  \n",
       "16  ['hemoglobin', 'gender', 'rbc', 'ferritin', 'h...         0.0         1.0  \n",
       "19  ['hemoglobin', 'gender', 'rbc', 'ferritin', 'm...         0.0         1.0  \n",
       "20  ['hemoglobin', 'gender', 'rbc', 'ferritin', 'A...         0.0         1.0  \n",
       "29  ['hemoglobin', 'rbc', 'ferritin', 'Anemia of c...         0.0         1.0  "
      ]
     },
     "execution_count": 37,
     "metadata": {},
     "output_type": "execute_result"
    }
   ],
   "source": [
    "acd_num = 3\n",
    "acd_df = test_df[test_df.y_pred == acd_num]\n",
    "acd_df.head()"
   ]
  },
  {
   "cell_type": "code",
   "execution_count": 40,
   "id": "eb516e6a",
   "metadata": {},
   "outputs": [
    {
     "data": {
      "image/png": "[encoded data removed]",
      "text/plain": [
       "<Figure size 640x480 with 1 Axes>"
      ]
     },
     "metadata": {},
     "output_type": "display_data"
    }
   ],
   "source": [
    "acd_mcv_distribution = get_distribution(acd_df, 'ferritin') #no branching"
   ]
  },
  {
   "cell_type": "markdown",
   "id": "2c900b0b",
   "metadata": {},
   "source": [
    "#### 4 - Iron deficiency anemia"
   ]
  },
  {
   "cell_type": "code",
   "execution_count": 41,
   "id": "60c1ea2e",
   "metadata": {},
   "outputs": [
    {
     "data": {
      "text/html": [
       "<div>\n",
       "<style scoped>\n",
       "    .dataframe tbody tr th:only-of-type {\n",
       "        vertical-align: middle;\n",
       "    }\n",
       "\n",
       "    .dataframe tbody tr th {\n",
       "        vertical-align: top;\n",
       "    }\n",
       "\n",
       "    .dataframe thead th {\n",
       "        text-align: right;\n",
       "    }\n",
       "</style>\n",
       "<table border=\"1\" class=\"dataframe\">\n",
       "  <thead>\n",
       "    <tr style=\"text-align: right;\">\n",
       "      <th></th>\n",
       "      <th>index</th>\n",
       "      <th>episode_length</th>\n",
       "      <th>reward</th>\n",
       "      <th>y_pred</th>\n",
       "      <th>y_actual</th>\n",
       "      <th>trajectory</th>\n",
       "      <th>terminated</th>\n",
       "      <th>is_success</th>\n",
       "    </tr>\n",
       "  </thead>\n",
       "  <tbody>\n",
       "    <tr>\n",
       "      <th>2</th>\n",
       "      <td>2.0</td>\n",
       "      <td>8.0</td>\n",
       "      <td>1.0</td>\n",
       "      <td>4.0</td>\n",
       "      <td>4.0</td>\n",
       "      <td>['hemoglobin', 'rbc', 'mcv', 'ferritin', 'hema...</td>\n",
       "      <td>0.0</td>\n",
       "      <td>1.0</td>\n",
       "    </tr>\n",
       "    <tr>\n",
       "      <th>10</th>\n",
       "      <td>10.0</td>\n",
       "      <td>4.0</td>\n",
       "      <td>1.0</td>\n",
       "      <td>4.0</td>\n",
       "      <td>4.0</td>\n",
       "      <td>['hemoglobin', 'rbc', 'ferritin', 'Iron defici...</td>\n",
       "      <td>0.0</td>\n",
       "      <td>1.0</td>\n",
       "    </tr>\n",
       "    <tr>\n",
       "      <th>18</th>\n",
       "      <td>18.0</td>\n",
       "      <td>5.0</td>\n",
       "      <td>1.0</td>\n",
       "      <td>4.0</td>\n",
       "      <td>4.0</td>\n",
       "      <td>['hemoglobin', 'gender', 'rbc', 'ferritin', 'I...</td>\n",
       "      <td>0.0</td>\n",
       "      <td>1.0</td>\n",
       "    </tr>\n",
       "    <tr>\n",
       "      <th>25</th>\n",
       "      <td>25.0</td>\n",
       "      <td>7.0</td>\n",
       "      <td>1.0</td>\n",
       "      <td>4.0</td>\n",
       "      <td>4.0</td>\n",
       "      <td>['hemoglobin', 'rbc', 'ferritin', 'tibc', 'mcv...</td>\n",
       "      <td>0.0</td>\n",
       "      <td>1.0</td>\n",
       "    </tr>\n",
       "    <tr>\n",
       "      <th>27</th>\n",
       "      <td>27.0</td>\n",
       "      <td>7.0</td>\n",
       "      <td>1.0</td>\n",
       "      <td>4.0</td>\n",
       "      <td>4.0</td>\n",
       "      <td>['hemoglobin', 'gender', 'rbc', 'ferritin', 't...</td>\n",
       "      <td>0.0</td>\n",
       "      <td>1.0</td>\n",
       "    </tr>\n",
       "  </tbody>\n",
       "</table>\n",
       "</div>"
      ],
      "text/plain": [
       "    index  episode_length  reward  y_pred  y_actual  \\\n",
       "2     2.0             8.0     1.0     4.0       4.0   \n",
       "10   10.0             4.0     1.0     4.0       4.0   \n",
       "18   18.0             5.0     1.0     4.0       4.0   \n",
       "25   25.0             7.0     1.0     4.0       4.0   \n",
       "27   27.0             7.0     1.0     4.0       4.0   \n",
       "\n",
       "                                           trajectory  terminated  is_success  \n",
       "2   ['hemoglobin', 'rbc', 'mcv', 'ferritin', 'hema...         0.0         1.0  \n",
       "10  ['hemoglobin', 'rbc', 'ferritin', 'Iron defici...         0.0         1.0  \n",
       "18  ['hemoglobin', 'gender', 'rbc', 'ferritin', 'I...         0.0         1.0  \n",
       "25  ['hemoglobin', 'rbc', 'ferritin', 'tibc', 'mcv...         0.0         1.0  \n",
       "27  ['hemoglobin', 'gender', 'rbc', 'ferritin', 't...         0.0         1.0  "
      ]
     },
     "execution_count": 41,
     "metadata": {},
     "output_type": "execute_result"
    }
   ],
   "source": [
    "ida_num = 4\n",
    "ida_df = test_df[test_df.y_pred == ida_num]\n",
    "ida_df.head()"
   ]
  },
  {
   "cell_type": "code",
   "execution_count": 42,
   "id": "3835ce9f",
   "metadata": {},
   "outputs": [
    {
     "data": {
      "image/png": "[encoded data removed]",
      "text/plain": [
       "<Figure size 640x480 with 1 Axes>"
      ]
     },
     "metadata": {},
     "output_type": "display_data"
    }
   ],
   "source": [
    "ida_mcv_distribution = get_distribution(ida_df, 'ferritin') #no branching"
   ]
  },
  {
   "cell_type": "markdown",
   "id": "d583b879",
   "metadata": {},
   "source": [
    "#### 5 - Hemolytic anemia"
   ]
  },
  {
   "cell_type": "code",
   "execution_count": 43,
   "id": "5d07586c",
   "metadata": {},
   "outputs": [],
   "source": [
    "hemolytic_num = 5\n",
    "hemolytic_df = test_df[test_df.y_pred == hemolytic_num]"
   ]
  },
  {
   "cell_type": "code",
   "execution_count": 44,
   "id": "ca98587c",
   "metadata": {},
   "outputs": [
    {
     "data": {
      "image/png": "[encoded data removed]",
      "text/plain": [
       "<Figure size 640x480 with 1 Axes>"
      ]
     },
     "metadata": {},
     "output_type": "display_data"
    }
   ],
   "source": [
    "hemolytic_mcv_distribution = get_distribution(hemolytic_df, 'ret_count')"
   ]
  },
  {
   "cell_type": "markdown",
   "id": "87bfb534",
   "metadata": {},
   "source": [
    "#### 6 -  Aplastic anemia"
   ]
  },
  {
   "cell_type": "code",
   "execution_count": 45,
   "id": "b77d4269",
   "metadata": {},
   "outputs": [
    {
     "data": {
      "text/html": [
       "<div>\n",
       "<style scoped>\n",
       "    .dataframe tbody tr th:only-of-type {\n",
       "        vertical-align: middle;\n",
       "    }\n",
       "\n",
       "    .dataframe tbody tr th {\n",
       "        vertical-align: top;\n",
       "    }\n",
       "\n",
       "    .dataframe thead th {\n",
       "        text-align: right;\n",
       "    }\n",
       "</style>\n",
       "<table border=\"1\" class=\"dataframe\">\n",
       "  <thead>\n",
       "    <tr style=\"text-align: right;\">\n",
       "      <th></th>\n",
       "      <th>index</th>\n",
       "      <th>episode_length</th>\n",
       "      <th>reward</th>\n",
       "      <th>y_pred</th>\n",
       "      <th>y_actual</th>\n",
       "      <th>trajectory</th>\n",
       "      <th>terminated</th>\n",
       "      <th>is_success</th>\n",
       "    </tr>\n",
       "  </thead>\n",
       "  <tbody>\n",
       "    <tr>\n",
       "      <th>15</th>\n",
       "      <td>15.0</td>\n",
       "      <td>5.0</td>\n",
       "      <td>1.0</td>\n",
       "      <td>6.0</td>\n",
       "      <td>6.0</td>\n",
       "      <td>['hemoglobin', 'gender', 'rbc', 'ret_count', '...</td>\n",
       "      <td>0.0</td>\n",
       "      <td>1.0</td>\n",
       "    </tr>\n",
       "    <tr>\n",
       "      <th>22</th>\n",
       "      <td>22.0</td>\n",
       "      <td>4.0</td>\n",
       "      <td>1.0</td>\n",
       "      <td>6.0</td>\n",
       "      <td>6.0</td>\n",
       "      <td>['hemoglobin', 'rbc', 'ret_count', 'Aplastic a...</td>\n",
       "      <td>0.0</td>\n",
       "      <td>1.0</td>\n",
       "    </tr>\n",
       "    <tr>\n",
       "      <th>26</th>\n",
       "      <td>26.0</td>\n",
       "      <td>5.0</td>\n",
       "      <td>1.0</td>\n",
       "      <td>6.0</td>\n",
       "      <td>6.0</td>\n",
       "      <td>['hemoglobin', 'gender', 'rbc', 'ret_count', '...</td>\n",
       "      <td>0.0</td>\n",
       "      <td>1.0</td>\n",
       "    </tr>\n",
       "    <tr>\n",
       "      <th>48</th>\n",
       "      <td>48.0</td>\n",
       "      <td>4.0</td>\n",
       "      <td>1.0</td>\n",
       "      <td>6.0</td>\n",
       "      <td>6.0</td>\n",
       "      <td>['hemoglobin', 'rbc', 'ret_count', 'Aplastic a...</td>\n",
       "      <td>0.0</td>\n",
       "      <td>1.0</td>\n",
       "    </tr>\n",
       "    <tr>\n",
       "      <th>53</th>\n",
       "      <td>53.0</td>\n",
       "      <td>4.0</td>\n",
       "      <td>1.0</td>\n",
       "      <td>6.0</td>\n",
       "      <td>6.0</td>\n",
       "      <td>['hemoglobin', 'rbc', 'ret_count', 'Aplastic a...</td>\n",
       "      <td>0.0</td>\n",
       "      <td>1.0</td>\n",
       "    </tr>\n",
       "  </tbody>\n",
       "</table>\n",
       "</div>"
      ],
      "text/plain": [
       "    index  episode_length  reward  y_pred  y_actual  \\\n",
       "15   15.0             5.0     1.0     6.0       6.0   \n",
       "22   22.0             4.0     1.0     6.0       6.0   \n",
       "26   26.0             5.0     1.0     6.0       6.0   \n",
       "48   48.0             4.0     1.0     6.0       6.0   \n",
       "53   53.0             4.0     1.0     6.0       6.0   \n",
       "\n",
       "                                           trajectory  terminated  is_success  \n",
       "15  ['hemoglobin', 'gender', 'rbc', 'ret_count', '...         0.0         1.0  \n",
       "22  ['hemoglobin', 'rbc', 'ret_count', 'Aplastic a...         0.0         1.0  \n",
       "26  ['hemoglobin', 'gender', 'rbc', 'ret_count', '...         0.0         1.0  \n",
       "48  ['hemoglobin', 'rbc', 'ret_count', 'Aplastic a...         0.0         1.0  \n",
       "53  ['hemoglobin', 'rbc', 'ret_count', 'Aplastic a...         0.0         1.0  "
      ]
     },
     "execution_count": 45,
     "metadata": {},
     "output_type": "execute_result"
    }
   ],
   "source": [
    "aplastic_num = 6\n",
    "aplastic_df = test_df[test_df.y_pred == aplastic_num]\n",
    "aplastic_df.head()"
   ]
  },
  {
   "cell_type": "code",
   "execution_count": 48,
   "id": "07d55d0b",
   "metadata": {},
   "outputs": [
    {
     "data": {
      "image/png": "[encoded data removed]",
      "text/plain": [
       "<Figure size 640x480 with 1 Axes>"
      ]
     },
     "metadata": {},
     "output_type": "display_data"
    }
   ],
   "source": [
    "aplastic_mcv_distribution = get_distribution(aplastic_df, 'rbc')"
   ]
  },
  {
   "cell_type": "markdown",
   "id": "ff1b63cd",
   "metadata": {},
   "source": [
    "#### Inconclusive diagnosis"
   ]
  },
  {
   "cell_type": "code",
   "execution_count": 49,
   "id": "9aa0170e",
   "metadata": {},
   "outputs": [
    {
     "data": {
      "text/html": [
       "<div>\n",
       "<style scoped>\n",
       "    .dataframe tbody tr th:only-of-type {\n",
       "        vertical-align: middle;\n",
       "    }\n",
       "\n",
       "    .dataframe tbody tr th {\n",
       "        vertical-align: top;\n",
       "    }\n",
       "\n",
       "    .dataframe thead th {\n",
       "        text-align: right;\n",
       "    }\n",
       "</style>\n",
       "<table border=\"1\" class=\"dataframe\">\n",
       "  <thead>\n",
       "    <tr style=\"text-align: right;\">\n",
       "      <th></th>\n",
       "      <th>index</th>\n",
       "      <th>episode_length</th>\n",
       "      <th>reward</th>\n",
       "      <th>y_pred</th>\n",
       "      <th>y_actual</th>\n",
       "      <th>trajectory</th>\n",
       "      <th>terminated</th>\n",
       "      <th>is_success</th>\n",
       "    </tr>\n",
       "  </thead>\n",
       "  <tbody>\n",
       "    <tr>\n",
       "      <th>4</th>\n",
       "      <td>4.0</td>\n",
       "      <td>6.0</td>\n",
       "      <td>-1.0</td>\n",
       "      <td>7.0</td>\n",
       "      <td>7.0</td>\n",
       "      <td>['hemoglobin', 'gender', 'rbc', 'mcv', 'segmen...</td>\n",
       "      <td>1.0</td>\n",
       "      <td>1.0</td>\n",
       "    </tr>\n",
       "    <tr>\n",
       "      <th>30</th>\n",
       "      <td>30.0</td>\n",
       "      <td>5.0</td>\n",
       "      <td>-1.0</td>\n",
       "      <td>7.0</td>\n",
       "      <td>7.0</td>\n",
       "      <td>['hemoglobin', 'gender', 'rbc', 'ferritin', 'I...</td>\n",
       "      <td>1.0</td>\n",
       "      <td>1.0</td>\n",
       "    </tr>\n",
       "    <tr>\n",
       "      <th>35</th>\n",
       "      <td>35.0</td>\n",
       "      <td>4.0</td>\n",
       "      <td>-1.0</td>\n",
       "      <td>7.0</td>\n",
       "      <td>7.0</td>\n",
       "      <td>['hemoglobin', 'rbc', 'segmented_neutrophils',...</td>\n",
       "      <td>1.0</td>\n",
       "      <td>1.0</td>\n",
       "    </tr>\n",
       "    <tr>\n",
       "      <th>38</th>\n",
       "      <td>38.0</td>\n",
       "      <td>4.0</td>\n",
       "      <td>-1.0</td>\n",
       "      <td>7.0</td>\n",
       "      <td>7.0</td>\n",
       "      <td>['hemoglobin', 'rbc', 'ferritin', 'Inconclusiv...</td>\n",
       "      <td>1.0</td>\n",
       "      <td>1.0</td>\n",
       "    </tr>\n",
       "    <tr>\n",
       "      <th>45</th>\n",
       "      <td>45.0</td>\n",
       "      <td>4.0</td>\n",
       "      <td>-1.0</td>\n",
       "      <td>7.0</td>\n",
       "      <td>7.0</td>\n",
       "      <td>['hemoglobin', 'rbc', 'segmented_neutrophils',...</td>\n",
       "      <td>1.0</td>\n",
       "      <td>1.0</td>\n",
       "    </tr>\n",
       "  </tbody>\n",
       "</table>\n",
       "</div>"
      ],
      "text/plain": [
       "    index  episode_length  reward  y_pred  y_actual  \\\n",
       "4     4.0             6.0    -1.0     7.0       7.0   \n",
       "30   30.0             5.0    -1.0     7.0       7.0   \n",
       "35   35.0             4.0    -1.0     7.0       7.0   \n",
       "38   38.0             4.0    -1.0     7.0       7.0   \n",
       "45   45.0             4.0    -1.0     7.0       7.0   \n",
       "\n",
       "                                           trajectory  terminated  is_success  \n",
       "4   ['hemoglobin', 'gender', 'rbc', 'mcv', 'segmen...         1.0         1.0  \n",
       "30  ['hemoglobin', 'gender', 'rbc', 'ferritin', 'I...         1.0         1.0  \n",
       "35  ['hemoglobin', 'rbc', 'segmented_neutrophils',...         1.0         1.0  \n",
       "38  ['hemoglobin', 'rbc', 'ferritin', 'Inconclusiv...         1.0         1.0  \n",
       "45  ['hemoglobin', 'rbc', 'segmented_neutrophils',...         1.0         1.0  "
      ]
     },
     "execution_count": 49,
     "metadata": {},
     "output_type": "execute_result"
    }
   ],
   "source": [
    "inconclusive_num = 7\n",
    "inconclusive_df = test_df[test_df.y_pred == inconclusive_num]\n",
    "inconclusive_df.head()"
   ]
  },
  {
   "cell_type": "code",
   "execution_count": 50,
   "id": "efabd02a",
   "metadata": {},
   "outputs": [
    {
     "data": {
      "image/png": "[encoded data removed]",
      "text/plain": [
       "<Figure size 640x480 with 1 Axes>"
      ]
     },
     "metadata": {},
     "output_type": "display_data"
    }
   ],
   "source": [
    "inconclusive_mcv_distribution = get_distribution(inconclusive_df, 'mcv')"
   ]
  }
 ],
 "metadata": {
  "kernelspec": {
   "display_name": "Python 3 (ipykernel)",
   "language": "python",
   "name": "python3"
  },
  "language_info": {
   "codemirror_mode": {
    "name": "ipython",
    "version": 3
   },
   "file_extension": ".py",
   "mimetype": "text/x-python",
   "name": "python",
   "nbconvert_exporter": "python",
   "pygments_lexer": "ipython3",
   "version": "3.7.4"
  }
 },
 "nbformat": 4,
 "nbformat_minor": 5
}

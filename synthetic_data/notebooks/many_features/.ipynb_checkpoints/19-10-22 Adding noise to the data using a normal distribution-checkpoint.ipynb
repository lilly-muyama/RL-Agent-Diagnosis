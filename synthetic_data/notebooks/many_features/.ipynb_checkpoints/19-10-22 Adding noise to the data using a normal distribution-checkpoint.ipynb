{
 "cells": [
  {
   "cell_type": "code",
   "execution_count": 2,
   "metadata": {},
   "outputs": [],
   "source": [
    "import warnings\n",
    "warnings.filterwarnings('ignore')\n",
    "import pandas as pd\n",
    "import numpy as np\n",
    "import random\n",
    "import sys\n",
    "sys.path.append('../..')\n",
    "from modules.many_features import utils, constants"
   ]
  },
  {
   "cell_type": "code",
   "execution_count": 3,
   "metadata": {},
   "outputs": [],
   "source": [
    "feat_arr = [{'name':'hemoglobin', 'lower':12, 'upper':17.2, 'mean':10.3, 'std':2.3, 'min':(0, 5)},\n",
    "            {'name':'ferritin', 'lower':10, 'upper':263, 'mean':697, 'std':3305, 'min':(1.6, 8)},\n",
    "            {'name':'ret_count', 'lower':0.5, 'upper':2.5, 'mean':2.6, 'std':2.5, 'min':(0, 0.5)},\n",
    "            {'name':'segmented_neutrophils', 'lower':0, 'upper':0, 'mean':0, 'std':2.4, 'min':(0, 0)},\n",
    "            {'name':'tibc', 'lower':250, 'upper':450, 'mean':242, 'std':90, 'min':(3, 100)},\n",
    "            {'name':'mcv', 'lower':80, 'upper':100, 'mean':90, 'std':8, 'min':(0, 65)}]\n",
    "\n",
    "anem_feat_arr = [{'name':'hemoglobin', 'lower':12, 'upper':17.2, 'abnorm_lower':6, 'abnorm_upper':18},\n",
    "                 {'name':'ferritin', 'lower':10, 'upper':263, 'abnorm_lower':0, 'abnorm_upper': 500},\n",
    "                 {'name':'ret_count', 'lower':0.5, 'upper':2.5, 'abnorm_lower':0, 'abnorm_upper':6},\n",
    "                 {'name':'segmented_neutrophils', 'lower':0, 'upper':0, 'abnorm_lower':0.1, 'abnorm_upper':7},\n",
    "                 {'name':'tibc', 'lower':250, 'upper':450, 'abnorm_lower': 100, 'abnorm_upper':500},\n",
    "                 {'name':'mcv', 'lower':80, 'upper':100, 'abnorm_lower': 75, 'abnorm_upper':105},\n",
    "                 {'name':'gender', 'lower':0, 'upper':1}, #0=Female 1=male\n",
    "                ]"
   ]
  },
  {
   "cell_type": "markdown",
   "metadata": {},
   "source": [
    "#### The data"
   ]
  },
  {
   "cell_type": "code",
   "execution_count": 4,
   "metadata": {},
   "outputs": [
    {
     "data": {
      "text/html": [
       "<div>\n",
       "<style scoped>\n",
       "    .dataframe tbody tr th:only-of-type {\n",
       "        vertical-align: middle;\n",
       "    }\n",
       "\n",
       "    .dataframe tbody tr th {\n",
       "        vertical-align: top;\n",
       "    }\n",
       "\n",
       "    .dataframe thead th {\n",
       "        text-align: right;\n",
       "    }\n",
       "</style>\n",
       "<table border=\"1\" class=\"dataframe\">\n",
       "  <thead>\n",
       "    <tr style=\"text-align: right;\">\n",
       "      <th></th>\n",
       "      <th>hemoglobin</th>\n",
       "      <th>ferritin</th>\n",
       "      <th>ret_count</th>\n",
       "      <th>segmented_neutrophils</th>\n",
       "      <th>tibc</th>\n",
       "      <th>mcv</th>\n",
       "      <th>serum_iron</th>\n",
       "      <th>rbc</th>\n",
       "      <th>gender</th>\n",
       "      <th>creatinine</th>\n",
       "      <th>cholestrol</th>\n",
       "      <th>copper</th>\n",
       "      <th>ethanol</th>\n",
       "      <th>folate</th>\n",
       "      <th>glucose</th>\n",
       "      <th>hematocrit</th>\n",
       "      <th>tsat</th>\n",
       "      <th>label</th>\n",
       "    </tr>\n",
       "  </thead>\n",
       "  <tbody>\n",
       "    <tr>\n",
       "      <th>0</th>\n",
       "      <td>11.183192</td>\n",
       "      <td>187.573466</td>\n",
       "      <td>4.951674</td>\n",
       "      <td>1.661383</td>\n",
       "      <td>316.593436</td>\n",
       "      <td>95.006424</td>\n",
       "      <td>181.242992</td>\n",
       "      <td>3.531295</td>\n",
       "      <td>1</td>\n",
       "      <td>-1.000000</td>\n",
       "      <td>28.040619</td>\n",
       "      <td>96.721542</td>\n",
       "      <td>49.530542</td>\n",
       "      <td>23.186628</td>\n",
       "      <td>-1.000000</td>\n",
       "      <td>33.549575</td>\n",
       "      <td>57.247868</td>\n",
       "      <td>Hemolytic anemia</td>\n",
       "    </tr>\n",
       "    <tr>\n",
       "      <th>1</th>\n",
       "      <td>14.387445</td>\n",
       "      <td>-1.000000</td>\n",
       "      <td>-1.000000</td>\n",
       "      <td>-1.000000</td>\n",
       "      <td>-1.000000</td>\n",
       "      <td>-1.000000</td>\n",
       "      <td>125.249617</td>\n",
       "      <td>-1.000000</td>\n",
       "      <td>1</td>\n",
       "      <td>-1.000000</td>\n",
       "      <td>98.357508</td>\n",
       "      <td>112.758764</td>\n",
       "      <td>62.464566</td>\n",
       "      <td>7.168920</td>\n",
       "      <td>-1.000000</td>\n",
       "      <td>43.162335</td>\n",
       "      <td>-1.000000</td>\n",
       "      <td>No anemia</td>\n",
       "    </tr>\n",
       "    <tr>\n",
       "      <th>2</th>\n",
       "      <td>12.749357</td>\n",
       "      <td>5.012158</td>\n",
       "      <td>3.502800</td>\n",
       "      <td>6.179371</td>\n",
       "      <td>498.418768</td>\n",
       "      <td>76.759285</td>\n",
       "      <td>159.834784</td>\n",
       "      <td>4.982859</td>\n",
       "      <td>1</td>\n",
       "      <td>1.022939</td>\n",
       "      <td>56.850479</td>\n",
       "      <td>75.739552</td>\n",
       "      <td>72.072041</td>\n",
       "      <td>20.600875</td>\n",
       "      <td>44.872138</td>\n",
       "      <td>38.248071</td>\n",
       "      <td>32.068372</td>\n",
       "      <td>Iron deficiency anemia</td>\n",
       "    </tr>\n",
       "    <tr>\n",
       "      <th>3</th>\n",
       "      <td>11.508870</td>\n",
       "      <td>197.180945</td>\n",
       "      <td>1.200125</td>\n",
       "      <td>0.000000</td>\n",
       "      <td>457.033309</td>\n",
       "      <td>102.900301</td>\n",
       "      <td>131.177927</td>\n",
       "      <td>3.355346</td>\n",
       "      <td>1</td>\n",
       "      <td>-1.000000</td>\n",
       "      <td>111.220307</td>\n",
       "      <td>66.999185</td>\n",
       "      <td>18.353272</td>\n",
       "      <td>14.132423</td>\n",
       "      <td>-1.000000</td>\n",
       "      <td>34.526609</td>\n",
       "      <td>28.702050</td>\n",
       "      <td>Unspecified anemia</td>\n",
       "    </tr>\n",
       "    <tr>\n",
       "      <th>4</th>\n",
       "      <td>9.456656</td>\n",
       "      <td>427.952052</td>\n",
       "      <td>-1.000000</td>\n",
       "      <td>0.660252</td>\n",
       "      <td>-1.000000</td>\n",
       "      <td>104.543774</td>\n",
       "      <td>-1.000000</td>\n",
       "      <td>2.713693</td>\n",
       "      <td>0</td>\n",
       "      <td>-1.000000</td>\n",
       "      <td>-1.000000</td>\n",
       "      <td>-1.000000</td>\n",
       "      <td>-1.000000</td>\n",
       "      <td>-1.000000</td>\n",
       "      <td>-1.000000</td>\n",
       "      <td>28.369968</td>\n",
       "      <td>-1.000000</td>\n",
       "      <td>Vitamin B12/Folate deficiency anemia</td>\n",
       "    </tr>\n",
       "  </tbody>\n",
       "</table>\n",
       "</div>"
      ],
      "text/plain": [
       "   hemoglobin    ferritin  ret_count  segmented_neutrophils        tibc  \\\n",
       "0   11.183192  187.573466   4.951674               1.661383  316.593436   \n",
       "1   14.387445   -1.000000  -1.000000              -1.000000   -1.000000   \n",
       "2   12.749357    5.012158   3.502800               6.179371  498.418768   \n",
       "3   11.508870  197.180945   1.200125               0.000000  457.033309   \n",
       "4    9.456656  427.952052  -1.000000               0.660252   -1.000000   \n",
       "\n",
       "          mcv  serum_iron       rbc  gender  creatinine  cholestrol  \\\n",
       "0   95.006424  181.242992  3.531295       1   -1.000000   28.040619   \n",
       "1   -1.000000  125.249617 -1.000000       1   -1.000000   98.357508   \n",
       "2   76.759285  159.834784  4.982859       1    1.022939   56.850479   \n",
       "3  102.900301  131.177927  3.355346       1   -1.000000  111.220307   \n",
       "4  104.543774   -1.000000  2.713693       0   -1.000000   -1.000000   \n",
       "\n",
       "       copper    ethanol     folate    glucose  hematocrit       tsat  \\\n",
       "0   96.721542  49.530542  23.186628  -1.000000   33.549575  57.247868   \n",
       "1  112.758764  62.464566   7.168920  -1.000000   43.162335  -1.000000   \n",
       "2   75.739552  72.072041  20.600875  44.872138   38.248071  32.068372   \n",
       "3   66.999185  18.353272  14.132423  -1.000000   34.526609  28.702050   \n",
       "4   -1.000000  -1.000000  -1.000000  -1.000000   28.369968  -1.000000   \n",
       "\n",
       "                                  label  \n",
       "0                      Hemolytic anemia  \n",
       "1                             No anemia  \n",
       "2                Iron deficiency anemia  \n",
       "3                    Unspecified anemia  \n",
       "4  Vitamin B12/Folate deficiency anemia  "
      ]
     },
     "execution_count": 4,
     "metadata": {},
     "output_type": "execute_result"
    }
   ],
   "source": [
    "df= pd.read_csv('../../data/more_features/more_feats_correlated_0.1.csv')\n",
    "df = df.fillna(-1)\n",
    "df.head()"
   ]
  },
  {
   "cell_type": "code",
   "execution_count": 5,
   "metadata": {},
   "outputs": [
    {
     "data": {
      "text/plain": [
       "array(['Hemolytic anemia', 'No anemia', 'Iron deficiency anemia',\n",
       "       'Unspecified anemia', 'Vitamin B12/Folate deficiency anemia',\n",
       "       'Aplastic anemia', 'Anemia of chronic disease',\n",
       "       'Inconclusive diagnosis'], dtype=object)"
      ]
     },
     "execution_count": 5,
     "metadata": {},
     "output_type": "execute_result"
    }
   ],
   "source": [
    "df.label.unique()"
   ]
  },
  {
   "cell_type": "code",
   "execution_count": 6,
   "metadata": {},
   "outputs": [],
   "source": [
    "mult = 1"
   ]
  },
  {
   "cell_type": "code",
   "execution_count": 8,
   "metadata": {},
   "outputs": [],
   "source": [
    "anemias_features_dict = {'Vitamin B12/Folate deficiency anemia': ['mcv', 'segmented_neutrophils'], \n",
    "                         'Unspecified anemia': ['mcv', 'segmented_neutrophils'], \n",
    "                         'Anemia of chronic disease': ['mcv', 'ferritin', 'tibc'], \n",
    "                         'Iron deficiency anemia': ['mcv', 'ferritin', 'tibc'], \n",
    "                         'Hemolytic anemia': ['mcv', 'ret_count'], \n",
    "                         'Aplastic anemia': ['mcv', 'ret_count']}"
   ]
  },
  {
   "cell_type": "code",
   "execution_count": null,
   "metadata": {},
   "outputs": [],
   "source": [
    "def feat_noisiness(df, feat_name, frac, mean, std):\n",
    "    df[feat_name] = df[feat_name].sample(frac=1-frac)\n",
    "    nan_index = df[df[feat_name].isna()].index\n",
    "    fill_values = np.random.normal(mean, std, size=len(index))\n",
    "    df[feat_name] = df.feat_name.fillna(pd.Series(fill_values, index=index))\n",
    "    return df[feat_name]"
   ]
  },
  {
   "cell_type": "code",
   "execution_count": null,
   "metadata": {},
   "outputs": [],
   "source": [
    "### delete from here"
   ]
  },
  {
   "cell_type": "code",
   "execution_count": 13,
   "metadata": {},
   "outputs": [
    {
     "data": {
      "text/plain": [
       "Int64Index([0, 1, 3], dtype='int64')"
      ]
     },
     "execution_count": 13,
     "metadata": {},
     "output_type": "execute_result"
    }
   ],
   "source": [
    "index = df[df['b'].isna()].index\n",
    "index"
   ]
  },
  {
   "cell_type": "code",
   "execution_count": 16,
   "metadata": {},
   "outputs": [
    {
     "data": {
      "text/plain": [
       "3"
      ]
     },
     "execution_count": 16,
     "metadata": {},
     "output_type": "execute_result"
    }
   ],
   "source": [
    "len(index)"
   ]
  },
  {
   "cell_type": "code",
   "execution_count": 14,
   "metadata": {},
   "outputs": [
    {
     "data": {
      "text/plain": [
       "array([4.7234714 , 6.29537708, 8.04605971])"
      ]
     },
     "execution_count": 14,
     "metadata": {},
     "output_type": "execute_result"
    }
   ],
   "source": [
    "value = np.random.normal(5, 2, size=df['b'].isna().sum())\n",
    "value"
   ]
  },
  {
   "cell_type": "code",
   "execution_count": 15,
   "metadata": {},
   "outputs": [
    {
     "data": {
      "text/html": [
       "<div>\n",
       "<style scoped>\n",
       "    .dataframe tbody tr th:only-of-type {\n",
       "        vertical-align: middle;\n",
       "    }\n",
       "\n",
       "    .dataframe tbody tr th {\n",
       "        vertical-align: top;\n",
       "    }\n",
       "\n",
       "    .dataframe thead th {\n",
       "        text-align: right;\n",
       "    }\n",
       "</style>\n",
       "<table border=\"1\" class=\"dataframe\">\n",
       "  <thead>\n",
       "    <tr style=\"text-align: right;\">\n",
       "      <th></th>\n",
       "      <th>a</th>\n",
       "      <th>b</th>\n",
       "      <th>c</th>\n",
       "    </tr>\n",
       "  </thead>\n",
       "  <tbody>\n",
       "    <tr>\n",
       "      <th>0</th>\n",
       "      <td>1.0</td>\n",
       "      <td>4.723471</td>\n",
       "      <td>2.0</td>\n",
       "    </tr>\n",
       "    <tr>\n",
       "      <th>1</th>\n",
       "      <td>2.0</td>\n",
       "      <td>6.295377</td>\n",
       "      <td>NaN</td>\n",
       "    </tr>\n",
       "    <tr>\n",
       "      <th>2</th>\n",
       "      <td>5.0</td>\n",
       "      <td>8.000000</td>\n",
       "      <td>4.0</td>\n",
       "    </tr>\n",
       "    <tr>\n",
       "      <th>3</th>\n",
       "      <td>NaN</td>\n",
       "      <td>8.046060</td>\n",
       "      <td>NaN</td>\n",
       "    </tr>\n",
       "  </tbody>\n",
       "</table>\n",
       "</div>"
      ],
      "text/plain": [
       "     a         b    c\n",
       "0  1.0  4.723471  2.0\n",
       "1  2.0  6.295377  NaN\n",
       "2  5.0  8.000000  4.0\n",
       "3  NaN  8.046060  NaN"
      ]
     },
     "execution_count": 15,
     "metadata": {},
     "output_type": "execute_result"
    }
   ],
   "source": [
    "df['b'] = df['b'].fillna(pd.Series(value, index=index))\n",
    "df.head()"
   ]
  },
  {
   "cell_type": "code",
   "execution_count": null,
   "metadata": {},
   "outputs": [],
   "source": [
    "### end here"
   ]
  },
  {
   "cell_type": "markdown",
   "metadata": {},
   "source": [
    "#### Vitamin B12/Folate deficiency anemia"
   ]
  },
  {
   "cell_type": "code",
   "execution_count": 7,
   "metadata": {},
   "outputs": [
    {
     "data": {
      "text/html": [
       "<div>\n",
       "<style scoped>\n",
       "    .dataframe tbody tr th:only-of-type {\n",
       "        vertical-align: middle;\n",
       "    }\n",
       "\n",
       "    .dataframe tbody tr th {\n",
       "        vertical-align: top;\n",
       "    }\n",
       "\n",
       "    .dataframe thead th {\n",
       "        text-align: right;\n",
       "    }\n",
       "</style>\n",
       "<table border=\"1\" class=\"dataframe\">\n",
       "  <thead>\n",
       "    <tr style=\"text-align: right;\">\n",
       "      <th></th>\n",
       "      <th>hemoglobin</th>\n",
       "      <th>ferritin</th>\n",
       "      <th>ret_count</th>\n",
       "      <th>segmented_neutrophils</th>\n",
       "      <th>tibc</th>\n",
       "      <th>mcv</th>\n",
       "      <th>serum_iron</th>\n",
       "      <th>rbc</th>\n",
       "      <th>gender</th>\n",
       "      <th>creatinine</th>\n",
       "      <th>cholestrol</th>\n",
       "      <th>copper</th>\n",
       "      <th>ethanol</th>\n",
       "      <th>folate</th>\n",
       "      <th>glucose</th>\n",
       "      <th>hematocrit</th>\n",
       "      <th>tsat</th>\n",
       "      <th>label</th>\n",
       "    </tr>\n",
       "  </thead>\n",
       "  <tbody>\n",
       "    <tr>\n",
       "      <th>4</th>\n",
       "      <td>9.456656</td>\n",
       "      <td>427.952052</td>\n",
       "      <td>-1.000000</td>\n",
       "      <td>0.660252</td>\n",
       "      <td>-1.000000</td>\n",
       "      <td>104.543774</td>\n",
       "      <td>-1.000000</td>\n",
       "      <td>2.713693</td>\n",
       "      <td>0</td>\n",
       "      <td>-1.000000</td>\n",
       "      <td>-1.000000</td>\n",
       "      <td>-1.000000</td>\n",
       "      <td>-1.000000</td>\n",
       "      <td>-1.000000</td>\n",
       "      <td>-1.00000</td>\n",
       "      <td>28.369968</td>\n",
       "      <td>-1.000000</td>\n",
       "      <td>Vitamin B12/Folate deficiency anemia</td>\n",
       "    </tr>\n",
       "    <tr>\n",
       "      <th>6</th>\n",
       "      <td>6.939906</td>\n",
       "      <td>433.022945</td>\n",
       "      <td>-1.000000</td>\n",
       "      <td>3.831731</td>\n",
       "      <td>-1.000000</td>\n",
       "      <td>102.390026</td>\n",
       "      <td>-1.000000</td>\n",
       "      <td>2.033373</td>\n",
       "      <td>1</td>\n",
       "      <td>-1.000000</td>\n",
       "      <td>-1.000000</td>\n",
       "      <td>-1.000000</td>\n",
       "      <td>5.377878</td>\n",
       "      <td>-1.000000</td>\n",
       "      <td>-1.00000</td>\n",
       "      <td>20.819717</td>\n",
       "      <td>-1.000000</td>\n",
       "      <td>Vitamin B12/Folate deficiency anemia</td>\n",
       "    </tr>\n",
       "    <tr>\n",
       "      <th>13</th>\n",
       "      <td>10.821902</td>\n",
       "      <td>134.578931</td>\n",
       "      <td>4.438313</td>\n",
       "      <td>3.022130</td>\n",
       "      <td>482.327091</td>\n",
       "      <td>101.919603</td>\n",
       "      <td>125.867191</td>\n",
       "      <td>3.185423</td>\n",
       "      <td>0</td>\n",
       "      <td>-1.000000</td>\n",
       "      <td>100.431364</td>\n",
       "      <td>109.078360</td>\n",
       "      <td>63.046145</td>\n",
       "      <td>25.636901</td>\n",
       "      <td>-1.00000</td>\n",
       "      <td>32.465707</td>\n",
       "      <td>26.095816</td>\n",
       "      <td>Vitamin B12/Folate deficiency anemia</td>\n",
       "    </tr>\n",
       "    <tr>\n",
       "      <th>20</th>\n",
       "      <td>11.778437</td>\n",
       "      <td>191.937028</td>\n",
       "      <td>3.918479</td>\n",
       "      <td>1.881728</td>\n",
       "      <td>389.835900</td>\n",
       "      <td>101.602359</td>\n",
       "      <td>169.283019</td>\n",
       "      <td>3.477804</td>\n",
       "      <td>1</td>\n",
       "      <td>0.807224</td>\n",
       "      <td>22.503145</td>\n",
       "      <td>98.530413</td>\n",
       "      <td>35.562075</td>\n",
       "      <td>12.959532</td>\n",
       "      <td>136.43449</td>\n",
       "      <td>35.335312</td>\n",
       "      <td>43.424174</td>\n",
       "      <td>Vitamin B12/Folate deficiency anemia</td>\n",
       "    </tr>\n",
       "    <tr>\n",
       "      <th>25</th>\n",
       "      <td>9.232404</td>\n",
       "      <td>-1.000000</td>\n",
       "      <td>-1.000000</td>\n",
       "      <td>0.709700</td>\n",
       "      <td>-1.000000</td>\n",
       "      <td>101.375414</td>\n",
       "      <td>109.743201</td>\n",
       "      <td>2.732143</td>\n",
       "      <td>0</td>\n",
       "      <td>-1.000000</td>\n",
       "      <td>48.672338</td>\n",
       "      <td>67.691590</td>\n",
       "      <td>34.493253</td>\n",
       "      <td>26.806454</td>\n",
       "      <td>-1.00000</td>\n",
       "      <td>27.697211</td>\n",
       "      <td>-1.000000</td>\n",
       "      <td>Vitamin B12/Folate deficiency anemia</td>\n",
       "    </tr>\n",
       "  </tbody>\n",
       "</table>\n",
       "</div>"
      ],
      "text/plain": [
       "    hemoglobin    ferritin  ret_count  segmented_neutrophils        tibc  \\\n",
       "4     9.456656  427.952052  -1.000000               0.660252   -1.000000   \n",
       "6     6.939906  433.022945  -1.000000               3.831731   -1.000000   \n",
       "13   10.821902  134.578931   4.438313               3.022130  482.327091   \n",
       "20   11.778437  191.937028   3.918479               1.881728  389.835900   \n",
       "25    9.232404   -1.000000  -1.000000               0.709700   -1.000000   \n",
       "\n",
       "           mcv  serum_iron       rbc  gender  creatinine  cholestrol  \\\n",
       "4   104.543774   -1.000000  2.713693       0   -1.000000   -1.000000   \n",
       "6   102.390026   -1.000000  2.033373       1   -1.000000   -1.000000   \n",
       "13  101.919603  125.867191  3.185423       0   -1.000000  100.431364   \n",
       "20  101.602359  169.283019  3.477804       1    0.807224   22.503145   \n",
       "25  101.375414  109.743201  2.732143       0   -1.000000   48.672338   \n",
       "\n",
       "        copper    ethanol     folate    glucose  hematocrit       tsat  \\\n",
       "4    -1.000000  -1.000000  -1.000000   -1.00000   28.369968  -1.000000   \n",
       "6    -1.000000   5.377878  -1.000000   -1.00000   20.819717  -1.000000   \n",
       "13  109.078360  63.046145  25.636901   -1.00000   32.465707  26.095816   \n",
       "20   98.530413  35.562075  12.959532  136.43449   35.335312  43.424174   \n",
       "25   67.691590  34.493253  26.806454   -1.00000   27.697211  -1.000000   \n",
       "\n",
       "                                   label  \n",
       "4   Vitamin B12/Folate deficiency anemia  \n",
       "6   Vitamin B12/Folate deficiency anemia  \n",
       "13  Vitamin B12/Folate deficiency anemia  \n",
       "20  Vitamin B12/Folate deficiency anemia  \n",
       "25  Vitamin B12/Folate deficiency anemia  "
      ]
     },
     "execution_count": 7,
     "metadata": {},
     "output_type": "execute_result"
    }
   ],
   "source": [
    "vit_df = df[df.label=='Vitamin B12/Folate deficiency anemia']\n",
    "vit_df.head()"
   ]
  },
  {
   "cell_type": "code",
   "execution_count": null,
   "metadata": {},
   "outputs": [],
   "source": [
    "for i in ['mcv', 'segmented_neutrophils']:\n",
    "    vit_df[i] = vit_df[i].sample(frac=1-mult*0.05)\n",
    "vit_df.isna().sum()"
   ]
  },
  {
   "cell_type": "code",
   "execution_count": null,
   "metadata": {},
   "outputs": [],
   "source": [
    "vit_df['mcv'] = vit_df['mcv'].fillna(random.uniform(95, 100))\n",
    "vit_df['segmented_neutrophils'] = vit_df['segmented_neutrophils'].fillna(-1)\n",
    "vit_df.head()"
   ]
  },
  {
   "cell_type": "code",
   "execution_count": null,
   "metadata": {},
   "outputs": [],
   "source": []
  }
 ],
 "metadata": {
  "kernelspec": {
   "display_name": "Python 3",
   "language": "python",
   "name": "python3"
  },
  "language_info": {
   "codemirror_mode": {
    "name": "ipython",
    "version": 3
   },
   "file_extension": ".py",
   "mimetype": "text/x-python",
   "name": "python",
   "nbconvert_exporter": "python",
   "pygments_lexer": "ipython3",
   "version": "3.7.4"
  }
 },
 "nbformat": 4,
 "nbformat_minor": 2
}

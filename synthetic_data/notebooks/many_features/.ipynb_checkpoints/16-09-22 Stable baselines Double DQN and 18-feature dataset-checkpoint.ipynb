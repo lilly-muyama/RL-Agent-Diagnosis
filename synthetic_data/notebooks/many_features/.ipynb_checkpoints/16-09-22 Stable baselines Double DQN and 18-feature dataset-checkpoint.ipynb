{
 "cells": [
  {
   "cell_type": "code",
   "execution_count": 2,
   "id": "4842d63b",
   "metadata": {},
   "outputs": [],
   "source": [
    "import pandas as pd\n",
    "import numpy as np\n",
    "import seaborn as sns\n",
    "import random\n",
    "import os\n",
    "import tensorflow\n",
    "from datetime import datetime\n",
    "# import torch\n",
    "import sys\n",
    "sys.path.append('../..')\n",
    "from modules.many_features import utils, constants\n",
    "from sklearn.model_selection import train_test_split\n",
    "import matplotlib.pyplot as plt\n",
    "%matplotlib inline"
   ]
  },
  {
   "cell_type": "code",
   "execution_count": 3,
   "id": "44b2ddaf",
   "metadata": {},
   "outputs": [
    {
     "name": "stdout",
     "output_type": "stream",
     "text": [
      "21\n"
     ]
    }
   ],
   "source": [
    "SEED = constants.SEED\n",
    "random.seed(SEED)\n",
    "np.random.seed(SEED)\n",
    "os.environ['PYTHONHASHSEED']=str(SEED)\n",
    "tensorflow.set_random_seed(constants.SEED)\n",
    "tensorflow.compat.v1.set_random_seed(constants.SEED)\n",
    "print(SEED)\n",
    "# torch.manual_seed(SEED)\n",
    "# torch.use_deterministic_algorithms(True)"
   ]
  },
  {
   "cell_type": "markdown",
   "id": "73525e8e",
   "metadata": {},
   "source": [
    "#### The Data"
   ]
  },
  {
   "cell_type": "code",
   "execution_count": null,
   "id": "8d16a82d",
   "metadata": {},
   "outputs": [],
   "source": [
    "sizes = [0.1, 0.05, 0.01]\n",
    "for size in sizes:\n",
    "    train_df = pd.read_csv(f'../../../anemia_ml4hc/data/train_set_basic_{size}_seed_{SEED}.csv')\n",
    "    train_df = train_df.fillna(-1)\n",
    "    X_train = train_df.iloc[:, 0:-1]\n",
    "    y_train = train_df.iloc[:, -1]\n",
    "    X_train, y_train = np.array(X_train), np.array(y_train)\n",
    "    for steps in [int(10e6)]:\n",
    "        dqn_model = utils.stable_dueling_dqn(X_train, y_train, steps, True, \n",
    "            f'../../../anemia_ml4hc/models/sb/new_different_training_sizes/{size}/dueling_dqn_pr_seed_{SEED}_{steps}')"
   ]
  },
  {
   "cell_type": "code",
   "execution_count": null,
   "id": "3009a6e5",
   "metadata": {},
   "outputs": [],
   "source": [
    "# missingness_levels = [0.1, 0.2, 0.3]\n",
    "\n",
    "# for level in missingness_levels:\n",
    "# # for level in missingness_levels[:1]:\n",
    "#     train_df = pd.read_csv(f'../../../anemia_ml4hc/data/train_set_missingness_{level}.csv')\n",
    "#     train_df = train_df.fillna(-1)\n",
    "# #     print(len(train_df))\n",
    "#     X_train = train_df.iloc[:, 0:-1]\n",
    "#     y_train = train_df.iloc[:, -1]\n",
    "#     X_train, y_train = np.array(X_train), np.array(y_train)\n",
    "#     print(X_train.shape, y_train.shape)\n",
    "    \n",
    "#     for steps in [int(15e6), int(12e6), int(10e6)]:\n",
    "# #     for steps in [int(2e3)]:\n",
    "#         dqn_model = utils.stable_dueling_dqn(X_train, y_train, steps, True, \n",
    "#         f'../../../anemia_ml4hc/models/sb/new_missingness_noisiness/seed_{SEED}/dueling_dqn_pr_missingness_{level}_{steps}')"
   ]
  },
  {
   "cell_type": "code",
   "execution_count": null,
   "id": "d910eb69",
   "metadata": {},
   "outputs": [],
   "source": [
    "level=0.2\n",
    "train_df = pd.read_csv(f'../../../anemia_ml4hc/data/train_set_missingness_{level}.csv')\n",
    "train_df = train_df.fillna(-1)\n",
    "train_df.head()"
   ]
  },
  {
   "cell_type": "code",
   "execution_count": null,
   "id": "b5c7264c",
   "metadata": {},
   "outputs": [],
   "source": [
    "len(train_df)"
   ]
  },
  {
   "cell_type": "code",
   "execution_count": null,
   "id": "9f37c949",
   "metadata": {},
   "outputs": [],
   "source": [
    "test_df = pd.read_csv('../../final/data/test_set_constant.csv')\n",
    "test_df.head()"
   ]
  },
  {
   "cell_type": "code",
   "execution_count": null,
   "id": "c57275da",
   "metadata": {},
   "outputs": [],
   "source": [
    "X_train = train_df.iloc[:, 0:-1]\n",
    "y_train = train_df.iloc[:, -1]\n",
    "\n",
    "X_test = test_df.iloc[:, 0:-1]\n",
    "y_test = test_df.iloc[:, -1]\n",
    "\n",
    "X_train, y_train = np.array(X_train), np.array(y_train)\n",
    "X_test, y_test = np.array(X_test), np.array(y_test)\n",
    "X_train.shape, X_test.shape, y_train.shape, y_test.shape"
   ]
  },
  {
   "cell_type": "markdown",
   "id": "7c3dba7c",
   "metadata": {},
   "source": [
    "#### Training "
   ]
  },
  {
   "cell_type": "code",
   "execution_count": null,
   "id": "245634f8",
   "metadata": {},
   "outputs": [],
   "source": [
    "# %%time\n",
    "# timesteps = int(1e6)\n",
    "# dqn_model = utils.stable_dqn(X_train, y_train, timesteps, True, f'../../models/many_features/stable_dqn_{timesteps}')\n",
    "# test_df = utils.evaluate_dqn(dqn_model, X_test, y_test)\n",
    "# test_df.head()"
   ]
  },
  {
   "cell_type": "code",
   "execution_count": null,
   "id": "7dc69f41",
   "metadata": {},
   "outputs": [],
   "source": [
    "#missingness\n",
    "# if level==0.1:\n",
    "#     steps = int(12e6)\n",
    "# elif level==0.2:\n",
    "#     steps = int(10e6)\n",
    "# elif level==0.3:\n",
    "#     steps = int(12e6)\n",
    "# else:\n",
    "#     print('UNKNOWN LEVEL')\n",
    "# level, steps"
   ]
  },
  {
   "cell_type": "code",
   "execution_count": null,
   "id": "0a4e2585",
   "metadata": {},
   "outputs": [],
   "source": [
    "#noisiness\n",
    "# if level==0.1:\n",
    "#     steps = int(15e6)\n",
    "# elif level==0.2:\n",
    "#     steps = int(15e6)\n",
    "# elif level==0.3:\n",
    "#     steps = int(10e6)\n",
    "# else:\n",
    "#     print('UNKNOWN LEVEL')\n",
    "# level, steps\n",
    "# steps = int(12e6)\n",
    "# level, steps, SEED\n",
    "level, SEED"
   ]
  },
  {
   "cell_type": "code",
   "execution_count": null,
   "id": "9737db1b",
   "metadata": {},
   "outputs": [],
   "source": [
    "# for steps in [int(50e6)]:\n",
    "#     dqn_model = utils.stable_dqn(X_train, y_train, steps, True, \n",
    "#                                  f'../../../anemia_ml4hc/models/complete_models/dueling_ddqn_{steps}',\n",
    "#                                  checkpoint_folder = '../../../anemia_ml4hc/models/sb/dueling_double_dqn',\n",
    "#                                  checkpoint_prefix='dddqn_basic')\n",
    "    \n",
    "# for steps in [int(15e6)]:\n",
    "# # for steps in [int(2e3)]:\n",
    "#     dqn_model = utils.stable_vanilla_dqn(X_train, y_train, steps, True, \n",
    "#                                  f'../../../anemia_ml4hc/models/sb/seed_{SEED}/dqn_pr_{steps}')#,\n",
    "# dqn_model = utils.stable_dueling_ddqn(X_train, y_train, steps, True,\n",
    "# f'../../../anemia_ml4hc/models/sb/new_missingness_noisiness/seed_{SEED}/dueling_ddqn_pr_noisiness_{level}_{steps}')\n",
    "\n",
    "for steps in [int(15e6), int(12e6), int(10e6)]:\n",
    "    dqn_model = utils.stable_dueling_dqn(X_train, y_train, steps, True, \n",
    "    f'../../../anemia_ml4hc/models/sb/new_missingness_noisiness/seed_{SEED}/dueling_dqn_pr_missingness_{level}_{steps}')"
   ]
  },
  {
   "cell_type": "markdown",
   "id": "cc74c47c",
   "metadata": {},
   "source": [
    "#### Testing"
   ]
  },
  {
   "cell_type": "markdown",
   "id": "3c0a3120",
   "metadata": {},
   "source": [
    "#### Saving files"
   ]
  },
  {
   "cell_type": "code",
   "execution_count": null,
   "id": "c029c279",
   "metadata": {},
   "outputs": [],
   "source": [
    "# test_df.to_csv(f'../../test_dfs/many_features/test_df_2800000.csv', index=False)\n",
    "# success_df.to_csv(f'../../test_dfs/many_features/success_df_2800000.csv', index=False)"
   ]
  },
  {
   "cell_type": "code",
   "execution_count": null,
   "id": "41d9b20f",
   "metadata": {},
   "outputs": [],
   "source": []
  },
  {
   "cell_type": "code",
   "execution_count": null,
   "id": "5834b4c0",
   "metadata": {},
   "outputs": [],
   "source": []
  }
 ],
 "metadata": {
  "kernelspec": {
   "display_name": "Python 3 (ipykernel)",
   "language": "python",
   "name": "python3"
  },
  "language_info": {
   "codemirror_mode": {
    "name": "ipython",
    "version": 3
   },
   "file_extension": ".py",
   "mimetype": "text/x-python",
   "name": "python",
   "nbconvert_exporter": "python",
   "pygments_lexer": "ipython3",
   "version": "3.7.4"
  }
 },
 "nbformat": 4,
 "nbformat_minor": 5
}

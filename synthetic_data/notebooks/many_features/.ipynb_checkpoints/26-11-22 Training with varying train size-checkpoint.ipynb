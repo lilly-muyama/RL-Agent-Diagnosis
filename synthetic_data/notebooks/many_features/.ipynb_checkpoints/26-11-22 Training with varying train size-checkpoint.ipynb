{
 "cells": [
  {
   "cell_type": "code",
   "execution_count": 1,
   "id": "59b43a8c",
   "metadata": {},
   "outputs": [],
   "source": [
    "import pandas as pd\n",
    "import numpy as np\n",
    "import seaborn as sns\n",
    "import random\n",
    "import os\n",
    "from datetime import datetime\n",
    "import torch\n",
    "import sys\n",
    "sys.path.append('../..')\n",
    "from modules.many_features import utils, constants\n",
    "from sklearn.model_selection import train_test_split\n",
    "import matplotlib.pyplot as plt\n",
    "%matplotlib inline"
   ]
  },
  {
   "cell_type": "code",
   "execution_count": 2,
   "id": "02ff017e",
   "metadata": {},
   "outputs": [],
   "source": [
    "#SEED = 42\n",
    "#random.seed(SEED)\n",
    "#np.random.seed(SEED)\n",
    "#os.environ['PYTHONHASHSEED']=str(SEED)\n",
    "#torch.manual_seed(SEED)\n",
    "#torch.use_deterministic_algorithms(True)"
   ]
  },
  {
   "cell_type": "code",
   "execution_count": null,
   "id": "0e61dc55",
   "metadata": {},
   "outputs": [
    {
     "name": "stdout",
     "output_type": "stream",
     "text": [
      "using stable baselines 3\n",
      "Using cpu device\n",
      "Wrapping the env with a `Monitor` wrapper\n",
      "Wrapping the env in a DummyVecEnv.\n"
     ]
    }
   ],
   "source": [
    "sizes = [0.5, 0.1, 0.05, 0.01]\n",
    "seeds = [0, 21, 63, 84]\n",
    "for size in sizes:\n",
    "    for seed in seeds:\n",
    "        random.seed(seed)\n",
    "        np.random.seed(seed)\n",
    "        os.environ['PYTHONHASHSEED']=str(seed)\n",
    "        torch.manual_seed(seed)\n",
    "        torch.use_deterministic_algorithms(True)\n",
    "        train_df = pd.read_csv(f'../../final/data/train_set_basic_{size}_seed_{seed}.csv')\n",
    "        train_df = train_df.fillna(-1)\n",
    "        X_train = train_df.iloc[:, 0:-1]\n",
    "        y_train = train_df.iloc[:, -1]\n",
    "        X_train, y_train = np.array(X_train), np.array(y_train)\n",
    "        dqn_model = utils.stable_dqn3(X_train, y_train, 5500000, True, \n",
    "                                      f'../../final/models/dqn_set_{size}_{seed}_5500000')"
   ]
  },
  {
   "cell_type": "code",
   "execution_count": null,
   "id": "68b43a91",
   "metadata": {},
   "outputs": [],
   "source": [
    "#c =  [89.521, 91.807, 79.350, 89.157, 75.521]\n",
    "#np.mean(c), np.std(c)"
   ]
  },
  {
   "cell_type": "code",
   "execution_count": null,
   "id": "7b9132ce",
   "metadata": {},
   "outputs": [],
   "source": []
  }
 ],
 "metadata": {
  "kernelspec": {
   "display_name": "Python 3 (ipykernel)",
   "language": "python",
   "name": "python3"
  },
  "language_info": {
   "codemirror_mode": {
    "name": "ipython",
    "version": 3
   },
   "file_extension": ".py",
   "mimetype": "text/x-python",
   "name": "python",
   "nbconvert_exporter": "python",
   "pygments_lexer": "ipython3",
   "version": "3.7.4"
  }
 },
 "nbformat": 4,
 "nbformat_minor": 5
}

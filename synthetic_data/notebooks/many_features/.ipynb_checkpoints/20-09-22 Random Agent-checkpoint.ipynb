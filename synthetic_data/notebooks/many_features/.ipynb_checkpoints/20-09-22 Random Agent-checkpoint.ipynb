{
 "cells": [
  {
   "cell_type": "code",
   "execution_count": 1,
   "id": "73745d5b",
   "metadata": {},
   "outputs": [],
   "source": [
    "import pandas as pd\n",
    "import numpy as np\n",
    "import random\n",
    "import os\n",
    "import sys\n",
    "sys.path.append('../..')\n",
    "from modules.many_features import utils, constants, env\n",
    "from modules.many_features.random_agent import RandomAgent\n",
    "from sklearn.model_selection import train_test_split\n",
    "import matplotlib.pyplot as plt\n",
    "%matplotlib inline"
   ]
  },
  {
   "cell_type": "code",
   "execution_count": 2,
   "id": "99ee280b",
   "metadata": {},
   "outputs": [],
   "source": [
    "SEED = 42\n",
    "random.seed(SEED)\n",
    "np.random.seed(SEED)"
   ]
  },
  {
   "cell_type": "code",
   "execution_count": 3,
   "id": "975ac4ec",
   "metadata": {},
   "outputs": [
    {
     "data": {
      "text/html": [
       "<div>\n",
       "<style scoped>\n",
       "    .dataframe tbody tr th:only-of-type {\n",
       "        vertical-align: middle;\n",
       "    }\n",
       "\n",
       "    .dataframe tbody tr th {\n",
       "        vertical-align: top;\n",
       "    }\n",
       "\n",
       "    .dataframe thead th {\n",
       "        text-align: right;\n",
       "    }\n",
       "</style>\n",
       "<table border=\"1\" class=\"dataframe\">\n",
       "  <thead>\n",
       "    <tr style=\"text-align: right;\">\n",
       "      <th></th>\n",
       "      <th>hemoglobin</th>\n",
       "      <th>ferritin</th>\n",
       "      <th>ret_count</th>\n",
       "      <th>segmented_neutrophils</th>\n",
       "      <th>tibc</th>\n",
       "      <th>mcv</th>\n",
       "      <th>serum_iron</th>\n",
       "      <th>rbc</th>\n",
       "      <th>age</th>\n",
       "      <th>gender</th>\n",
       "      <th>indirect_bilirubin</th>\n",
       "      <th>transferrin</th>\n",
       "      <th>creatinine</th>\n",
       "      <th>cholestrol</th>\n",
       "      <th>copper</th>\n",
       "      <th>ethanol</th>\n",
       "      <th>folate</th>\n",
       "      <th>glucose</th>\n",
       "      <th>label</th>\n",
       "    </tr>\n",
       "  </thead>\n",
       "  <tbody>\n",
       "    <tr>\n",
       "      <th>0</th>\n",
       "      <td>11.183192</td>\n",
       "      <td>187.573466</td>\n",
       "      <td>4.951674</td>\n",
       "      <td>1.661383</td>\n",
       "      <td>316.593436</td>\n",
       "      <td>95.006424</td>\n",
       "      <td>181.242992</td>\n",
       "      <td>6.758433</td>\n",
       "      <td>60.586525</td>\n",
       "      <td>1</td>\n",
       "      <td>2.976104</td>\n",
       "      <td>282.291951</td>\n",
       "      <td>-1.000000</td>\n",
       "      <td>28.040619</td>\n",
       "      <td>96.721542</td>\n",
       "      <td>49.530542</td>\n",
       "      <td>23.186628</td>\n",
       "      <td>-1.000000</td>\n",
       "      <td>Hemolytic anemia</td>\n",
       "    </tr>\n",
       "    <tr>\n",
       "      <th>1</th>\n",
       "      <td>14.387445</td>\n",
       "      <td>-1.000000</td>\n",
       "      <td>-1.000000</td>\n",
       "      <td>-1.000000</td>\n",
       "      <td>-1.000000</td>\n",
       "      <td>-1.000000</td>\n",
       "      <td>125.249617</td>\n",
       "      <td>6.350652</td>\n",
       "      <td>86.964793</td>\n",
       "      <td>1</td>\n",
       "      <td>2.968983</td>\n",
       "      <td>158.844879</td>\n",
       "      <td>-1.000000</td>\n",
       "      <td>98.357508</td>\n",
       "      <td>112.758764</td>\n",
       "      <td>62.464566</td>\n",
       "      <td>7.168920</td>\n",
       "      <td>-1.000000</td>\n",
       "      <td>No anemia</td>\n",
       "    </tr>\n",
       "    <tr>\n",
       "      <th>2</th>\n",
       "      <td>12.749357</td>\n",
       "      <td>5.012158</td>\n",
       "      <td>3.502800</td>\n",
       "      <td>6.179371</td>\n",
       "      <td>498.418768</td>\n",
       "      <td>76.759285</td>\n",
       "      <td>159.834784</td>\n",
       "      <td>5.018156</td>\n",
       "      <td>67.065069</td>\n",
       "      <td>1</td>\n",
       "      <td>2.705719</td>\n",
       "      <td>442.293823</td>\n",
       "      <td>1.022939</td>\n",
       "      <td>56.850479</td>\n",
       "      <td>75.739552</td>\n",
       "      <td>72.072041</td>\n",
       "      <td>20.600875</td>\n",
       "      <td>44.872138</td>\n",
       "      <td>Iron deficiency anemia</td>\n",
       "    </tr>\n",
       "    <tr>\n",
       "      <th>3</th>\n",
       "      <td>11.508870</td>\n",
       "      <td>197.180945</td>\n",
       "      <td>1.200125</td>\n",
       "      <td>0.000000</td>\n",
       "      <td>457.033309</td>\n",
       "      <td>102.900301</td>\n",
       "      <td>131.177927</td>\n",
       "      <td>6.656823</td>\n",
       "      <td>66.403181</td>\n",
       "      <td>1</td>\n",
       "      <td>1.869338</td>\n",
       "      <td>223.896404</td>\n",
       "      <td>-1.000000</td>\n",
       "      <td>111.220307</td>\n",
       "      <td>66.999185</td>\n",
       "      <td>18.353272</td>\n",
       "      <td>14.132423</td>\n",
       "      <td>-1.000000</td>\n",
       "      <td>Unspecified anemia</td>\n",
       "    </tr>\n",
       "    <tr>\n",
       "      <th>4</th>\n",
       "      <td>9.456656</td>\n",
       "      <td>427.952052</td>\n",
       "      <td>-1.000000</td>\n",
       "      <td>0.660252</td>\n",
       "      <td>-1.000000</td>\n",
       "      <td>104.543774</td>\n",
       "      <td>-1.000000</td>\n",
       "      <td>-1.000000</td>\n",
       "      <td>-1.000000</td>\n",
       "      <td>0</td>\n",
       "      <td>-1.000000</td>\n",
       "      <td>-1.000000</td>\n",
       "      <td>-1.000000</td>\n",
       "      <td>-1.000000</td>\n",
       "      <td>-1.000000</td>\n",
       "      <td>-1.000000</td>\n",
       "      <td>-1.000000</td>\n",
       "      <td>-1.000000</td>\n",
       "      <td>Vitamin B12/Folate deficiency anemia</td>\n",
       "    </tr>\n",
       "  </tbody>\n",
       "</table>\n",
       "</div>"
      ],
      "text/plain": [
       "   hemoglobin    ferritin  ret_count  segmented_neutrophils        tibc  \\\n",
       "0   11.183192  187.573466   4.951674               1.661383  316.593436   \n",
       "1   14.387445   -1.000000  -1.000000              -1.000000   -1.000000   \n",
       "2   12.749357    5.012158   3.502800               6.179371  498.418768   \n",
       "3   11.508870  197.180945   1.200125               0.000000  457.033309   \n",
       "4    9.456656  427.952052  -1.000000               0.660252   -1.000000   \n",
       "\n",
       "          mcv  serum_iron       rbc        age  gender  indirect_bilirubin  \\\n",
       "0   95.006424  181.242992  6.758433  60.586525       1            2.976104   \n",
       "1   -1.000000  125.249617  6.350652  86.964793       1            2.968983   \n",
       "2   76.759285  159.834784  5.018156  67.065069       1            2.705719   \n",
       "3  102.900301  131.177927  6.656823  66.403181       1            1.869338   \n",
       "4  104.543774   -1.000000 -1.000000  -1.000000       0           -1.000000   \n",
       "\n",
       "   transferrin  creatinine  cholestrol      copper    ethanol     folate  \\\n",
       "0   282.291951   -1.000000   28.040619   96.721542  49.530542  23.186628   \n",
       "1   158.844879   -1.000000   98.357508  112.758764  62.464566   7.168920   \n",
       "2   442.293823    1.022939   56.850479   75.739552  72.072041  20.600875   \n",
       "3   223.896404   -1.000000  111.220307   66.999185  18.353272  14.132423   \n",
       "4    -1.000000   -1.000000   -1.000000   -1.000000  -1.000000  -1.000000   \n",
       "\n",
       "     glucose                                 label  \n",
       "0  -1.000000                      Hemolytic anemia  \n",
       "1  -1.000000                             No anemia  \n",
       "2  44.872138                Iron deficiency anemia  \n",
       "3  -1.000000                    Unspecified anemia  \n",
       "4  -1.000000  Vitamin B12/Folate deficiency anemia  "
      ]
     },
     "execution_count": 3,
     "metadata": {},
     "output_type": "execute_result"
    }
   ],
   "source": [
    "#df = pd.read_csv('../../data/anemia_synth_dataset_some_nans_unspecified_more_feats.csv')\n",
    "df = pd.read_csv('../../data/more_features/more_feats_new_labels_0.1.csv')\n",
    "df = df.fillna(-1)\n",
    "df.head()"
   ]
  },
  {
   "cell_type": "code",
   "execution_count": 4,
   "id": "3a512cd8",
   "metadata": {},
   "outputs": [
    {
     "data": {
      "text/plain": [
       "((56000, 18), (14000, 18), (56000,), (14000,))"
      ]
     },
     "execution_count": 4,
     "metadata": {},
     "output_type": "execute_result"
    }
   ],
   "source": [
    "class_dict = constants.CLASS_DICT\n",
    "df['label'] = df['label'].replace(class_dict)\n",
    "X = df.iloc[:, 0:-1]\n",
    "y = df.iloc[:, -1]\n",
    "X_train, X_test, y_train, y_test = train_test_split(X, y, test_size=0.2, stratify=y, random_state=SEED)\n",
    "X_train, y_train = np.array(X_train), np.array(y_train)\n",
    "X_test, y_test = np.array(X_test), np.array(y_test)\n",
    "X_train.shape, X_test.shape, y_train.shape, y_test.shape"
   ]
  },
  {
   "cell_type": "markdown",
   "id": "72355b01",
   "metadata": {},
   "source": [
    "#### The Random Agent"
   ]
  },
  {
   "cell_type": "code",
   "execution_count": 6,
   "id": "cc9ef8f5",
   "metadata": {},
   "outputs": [
    {
     "name": "stdout",
     "output_type": "stream",
     "text": [
      "Testing done.....\n",
      "Wall time: 1min 44s\n"
     ]
    },
    {
     "data": {
      "text/html": [
       "<div>\n",
       "<style scoped>\n",
       "    .dataframe tbody tr th:only-of-type {\n",
       "        vertical-align: middle;\n",
       "    }\n",
       "\n",
       "    .dataframe tbody tr th {\n",
       "        vertical-align: top;\n",
       "    }\n",
       "\n",
       "    .dataframe thead th {\n",
       "        text-align: right;\n",
       "    }\n",
       "</style>\n",
       "<table border=\"1\" class=\"dataframe\">\n",
       "  <thead>\n",
       "    <tr style=\"text-align: right;\">\n",
       "      <th></th>\n",
       "      <th>episode_length</th>\n",
       "      <th>index</th>\n",
       "      <th>is_success</th>\n",
       "      <th>reward</th>\n",
       "      <th>terminated</th>\n",
       "      <th>trajectory</th>\n",
       "      <th>y_actual</th>\n",
       "      <th>y_pred</th>\n",
       "    </tr>\n",
       "  </thead>\n",
       "  <tbody>\n",
       "    <tr>\n",
       "      <th>0</th>\n",
       "      <td>2.0</td>\n",
       "      <td>0.0</td>\n",
       "      <td>0.0</td>\n",
       "      <td>-1.0</td>\n",
       "      <td>0.0</td>\n",
       "      <td>[ret_count, Vitamin B12/Folate deficiency anemia]</td>\n",
       "      <td>6.0</td>\n",
       "      <td>1.0</td>\n",
       "    </tr>\n",
       "    <tr>\n",
       "      <th>1</th>\n",
       "      <td>1.0</td>\n",
       "      <td>1.0</td>\n",
       "      <td>0.0</td>\n",
       "      <td>-1.0</td>\n",
       "      <td>0.0</td>\n",
       "      <td>[No anemia]</td>\n",
       "      <td>2.0</td>\n",
       "      <td>0.0</td>\n",
       "    </tr>\n",
       "    <tr>\n",
       "      <th>2</th>\n",
       "      <td>2.0</td>\n",
       "      <td>2.0</td>\n",
       "      <td>0.0</td>\n",
       "      <td>-1.0</td>\n",
       "      <td>0.0</td>\n",
       "      <td>[segmented_neutrophils, Iron deficiency anemia]</td>\n",
       "      <td>2.0</td>\n",
       "      <td>4.0</td>\n",
       "    </tr>\n",
       "    <tr>\n",
       "      <th>3</th>\n",
       "      <td>1.0</td>\n",
       "      <td>3.0</td>\n",
       "      <td>0.0</td>\n",
       "      <td>-1.0</td>\n",
       "      <td>0.0</td>\n",
       "      <td>[Anemia of chronic disease]</td>\n",
       "      <td>5.0</td>\n",
       "      <td>3.0</td>\n",
       "    </tr>\n",
       "    <tr>\n",
       "      <th>4</th>\n",
       "      <td>1.0</td>\n",
       "      <td>4.0</td>\n",
       "      <td>0.0</td>\n",
       "      <td>-1.0</td>\n",
       "      <td>0.0</td>\n",
       "      <td>[Anemia of chronic disease]</td>\n",
       "      <td>5.0</td>\n",
       "      <td>3.0</td>\n",
       "    </tr>\n",
       "  </tbody>\n",
       "</table>\n",
       "</div>"
      ],
      "text/plain": [
       "   episode_length  index  is_success  reward  terminated  \\\n",
       "0             2.0    0.0         0.0    -1.0         0.0   \n",
       "1             1.0    1.0         0.0    -1.0         0.0   \n",
       "2             2.0    2.0         0.0    -1.0         0.0   \n",
       "3             1.0    3.0         0.0    -1.0         0.0   \n",
       "4             1.0    4.0         0.0    -1.0         0.0   \n",
       "\n",
       "                                          trajectory  y_actual  y_pred  \n",
       "0  [ret_count, Vitamin B12/Folate deficiency anemia]       6.0     1.0  \n",
       "1                                        [No anemia]       2.0     0.0  \n",
       "2    [segmented_neutrophils, Iron deficiency anemia]       2.0     4.0  \n",
       "3                        [Anemia of chronic disease]       5.0     3.0  \n",
       "4                        [Anemia of chronic disease]       5.0     3.0  "
      ]
     },
     "execution_count": 6,
     "metadata": {},
     "output_type": "execute_result"
    }
   ],
   "source": [
    "%%time\n",
    "rand_agent = RandomAgent(X_test[0:], y_test[0:])\n",
    "test_df = rand_agent.test()\n",
    "test_df.head()"
   ]
  },
  {
   "cell_type": "code",
   "execution_count": 7,
   "id": "c50a650f",
   "metadata": {},
   "outputs": [
    {
     "name": "stdout",
     "output_type": "stream",
     "text": [
      "Wall time: 0 ns\n"
     ]
    },
    {
     "data": {
      "text/plain": [
       "['segmented_neutrophils', 'Inconclusive diagnosis']"
      ]
     },
     "execution_count": 7,
     "metadata": {},
     "output_type": "execute_result"
    }
   ],
   "source": [
    "%%time\n",
    "rand_agent.test_sample(2)"
   ]
  },
  {
   "cell_type": "code",
   "execution_count": 8,
   "id": "5894a639",
   "metadata": {},
   "outputs": [
    {
     "data": {
      "text/plain": [
       "datetime.timedelta(0)"
      ]
     },
     "execution_count": 8,
     "metadata": {},
     "output_type": "execute_result"
    }
   ],
   "source": [
    "from datetime import datetime\n",
    "start = datetime.now()\n",
    "rand_agent.test_sample(2)\n",
    "end = datetime.now()\n",
    "duration = end-start\n",
    "duration"
   ]
  },
  {
   "cell_type": "code",
   "execution_count": 9,
   "id": "3bc60400",
   "metadata": {},
   "outputs": [
    {
     "data": {
      "text/plain": [
       "(14000, 14000)"
      ]
     },
     "execution_count": 9,
     "metadata": {},
     "output_type": "execute_result"
    }
   ],
   "source": [
    "len(X_test), len(test_df)"
   ]
  },
  {
   "cell_type": "code",
   "execution_count": 10,
   "id": "7bfe8905",
   "metadata": {},
   "outputs": [],
   "source": [
    "test_df.to_csv('../../test_dfs/many_features/random_test_df_0.1.csv', index=False)"
   ]
  },
  {
   "cell_type": "code",
   "execution_count": 11,
   "id": "cff2bc7b",
   "metadata": {},
   "outputs": [
    {
     "data": {
      "text/plain": [
       "11.95"
      ]
     },
     "execution_count": 11,
     "metadata": {},
     "output_type": "execute_result"
    }
   ],
   "source": [
    "success_rate, success_df = utils.success_rate(test_df)\n",
    "success_rate"
   ]
  },
  {
   "cell_type": "code",
   "execution_count": 12,
   "id": "4f8dbbbb",
   "metadata": {},
   "outputs": [
    {
     "data": {
      "text/plain": [
       "(1.6277857142857144, -0.8301428571428572)"
      ]
     },
     "execution_count": 12,
     "metadata": {},
     "output_type": "execute_result"
    }
   ],
   "source": [
    "avg_length, avg_return = utils.get_avg_length_reward(test_df)\n",
    "avg_length, avg_return"
   ]
  },
  {
   "cell_type": "code",
   "execution_count": 13,
   "id": "a2191f10",
   "metadata": {},
   "outputs": [
    {
     "data": {
      "text/plain": [
       "(0.1195, 0.11850572076556337, 0.49691026010673406)"
      ]
     },
     "execution_count": 13,
     "metadata": {},
     "output_type": "execute_result"
    }
   ],
   "source": [
    "acc, f1, roc_auc = utils.test(test_df['y_actual'], test_df['y_pred'])\n",
    "acc, f1, roc_auc"
   ]
  },
  {
   "cell_type": "code",
   "execution_count": 14,
   "id": "9f0fb2b8",
   "metadata": {},
   "outputs": [
    {
     "data": {
      "text/plain": [
       "array([1., 0., 4., 3., 2., 6., 7., 5.])"
      ]
     },
     "execution_count": 14,
     "metadata": {},
     "output_type": "execute_result"
    }
   ],
   "source": [
    "test_df.y_pred.unique()"
   ]
  },
  {
   "cell_type": "code",
   "execution_count": null,
   "id": "b453d87d",
   "metadata": {},
   "outputs": [],
   "source": []
  }
 ],
 "metadata": {
  "kernelspec": {
   "display_name": "Python 3 (ipykernel)",
   "language": "python",
   "name": "python3"
  },
  "language_info": {
   "codemirror_mode": {
    "name": "ipython",
    "version": 3
   },
   "file_extension": ".py",
   "mimetype": "text/x-python",
   "name": "python",
   "nbconvert_exporter": "python",
   "pygments_lexer": "ipython3",
   "version": "3.7.4"
  }
 },
 "nbformat": 4,
 "nbformat_minor": 5
}

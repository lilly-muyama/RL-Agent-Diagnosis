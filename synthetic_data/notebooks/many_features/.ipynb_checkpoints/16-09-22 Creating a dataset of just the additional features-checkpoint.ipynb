{
 "cells": [
  {
   "cell_type": "code",
   "execution_count": null,
   "metadata": {},
   "outputs": [],
   "source": [
    "import pandas as pd\n",
    "import numpy as np\n",
    "import random\n",
    "import joblib\n",
    "import sys\n",
    "sys.path.append('../..')\n",
    "from modules.many_features import utils, constants\n",
    "import seaborn as sns\n",
    "import matplotlib.pyplot as plt\n",
    "%matplotlib inline"
   ]
  },
  {
   "cell_type": "code",
   "execution_count": null,
   "metadata": {},
   "outputs": [],
   "source": [
    "SEED = 42\n",
    "random.seed(SEED)\n",
    "np.random.seed(SEED)"
   ]
  },
  {
   "cell_type": "code",
   "execution_count": null,
   "metadata": {},
   "outputs": [],
   "source": [
    "df = pd.read_csv('../../data/anemia_synth_dataset_hb_with_unspecified.csv')\n",
    "#df = df.fillna(-1)\n",
    "df.head()"
   ]
  },
  {
   "cell_type": "code",
   "execution_count": null,
   "metadata": {},
   "outputs": [],
   "source": [
    "class_dict = constants.CLASS_DICT"
   ]
  },
  {
   "cell_type": "code",
   "execution_count": null,
   "metadata": {},
   "outputs": [],
   "source": [
    "anem_feat_arr = [{'name':'hemoglobin', 'lower':12.1, 'upper':17.2, 'abnorm_lower':6, 'abnorm_upper':18},\n",
    "                 {'name':'ferritin', 'lower':10, 'upper':263, 'abnorm_lower':0, 'abnorm_upper': 500},\n",
    "                 {'name':'ret_count', 'lower':0.5, 'upper':2.5, 'abnorm_lower':0, 'abnorm_upper':6},\n",
    "                 {'name':'segmented_neutrophils', 'lower':0, 'upper':0, 'abnorm_lower':0.01, 'abnorm_upper':7},\n",
    "                 {'name':'tibc', 'lower':250, 'upper':450, 'abnorm_lower': 100, 'abnorm_upper':500},\n",
    "                 {'name':'mcv', 'lower':80, 'upper':100, 'abnorm_lower': 75, 'abnorm_upper':105}]"
   ]
  },
  {
   "cell_type": "code",
   "execution_count": null,
   "metadata": {},
   "outputs": [],
   "source": [
    "add_feat_arr = [{'name':'serum_iron', 'lower':60, 'upper':170, 'abnorm_lower':20, 'abnorm_upper':250},\n",
    "                {'name':'rbc', 'lower':3.8, 'upper':5.9, 'abnorm_lower': 2.5, 'abnorm_upper':7},\n",
    "                {'name':'age', 'lower':20, 'upper':90, 'abnorm_lower':18, 'abnorm_upper':95},\n",
    "                {'name':'gender', 'lower':0, 'upper':1}, #0=Female 1=male\n",
    "                {'name':'indirect_bilirubin', 'lower':0.2, 'upper':1.2, 'abnorm_lower':0, 'abnorm_upper':3},\n",
    "                {'name':'transferrin', 'lower':204, 'upper':360, 'abnorm_lower':150, 'abnorm_upper':450},\n",
    "                {'name':'creatinine', 'lower':0.6, 'upper':1.3, 'abnorm_lower':0.2, 'abnorm_upper':2},\n",
    "                {'name':'cholestrol', 'lower':30, 'upper':100, 'abnorm_lower':0, 'abnorm_upper':150},\n",
    "                {'name':'copper', 'lower':62, 'upper':140, 'abnorm_lower':30, 'abnorm_upper':130},\n",
    "                {'name':'ethanol', 'lower':0, 'upper':50, 'abnorm_lower':0, 'abnorm_upper':80},\n",
    "                {'name':'folate', 'lower':2.7, 'upper':17, 'abnorm_lower':0.5, 'abnorm_upper':30},\n",
    "                {'name':'glucose', 'lower':70, 'upper':100, 'abnorm_lower':40, 'abnorm_upper':140}\n",
    "               ]"
   ]
  },
  {
   "cell_type": "code",
   "execution_count": null,
   "metadata": {},
   "outputs": [],
   "source": [
    "def create_label(row):\n",
    "    if row['hemoglobin']> 13:\n",
    "        return 'No anemia'\n",
    "    elif (row['hemoglobin'] > 12) & (row['gender']==0):\n",
    "        return 'No anemia'\n",
    "    else:\n",
    "        if row['mcv']<80 :\n",
    "            if row['ferritin']<30:\n",
    "                return 'Iron deficiency anemia'\n",
    "            elif row['ferritin']>100:\n",
    "                return 'Anemia of chronic disease'\n",
    "            elif row['tibc']<450:\n",
    "                return 'Anemia of chronic disease'\n",
    "            elif row['tibc']>=450:\n",
    "                return 'Iron deficiency anemia'\n",
    "            else:\n",
    "                return 'Inconclusive diagnosis'\n",
    "        elif row['mcv']<=100:\n",
    "            if row['ret_count'] <= 2:\n",
    "                return 'Aplastic anemia'\n",
    "            elif row['ret_count'] >2:\n",
    "                return 'Hemolytic anemia'\n",
    "            else:\n",
    "                return 'Inconclusive diagnosis'\n",
    "\n",
    "        elif row['mcv']> 100:\n",
    "            if row['segmented_neutrophils']>0:\n",
    "                return 'Vitamin B12/Folate deficiency anemia'\n",
    "            elif row['segmented_neutrophils']==0:\n",
    "                return 'Unspecified anemia'\n",
    "            else:\n",
    "                return 'Inconclusive diagnosis'\n",
    "        else:\n",
    "            return 'Inconclusive diagnosis'"
   ]
  },
  {
   "cell_type": "code",
   "execution_count": null,
   "metadata": {},
   "outputs": [],
   "source": [
    "def uniform_dist(df, feat_dict, num=None):\n",
    "    col_name = feat_dict['name']\n",
    "    col_values = np.random.uniform(feat_dict['abnorm_lower'], feat_dict['abnorm_upper'], num)\n",
    "    return col_values"
   ]
  },
  {
   "cell_type": "code",
   "execution_count": null,
   "metadata": {},
   "outputs": [],
   "source": [
    "def create_dataset(sample_num, dist_type='uniform'):\n",
    "    dataset = pd.DataFrame()\n",
    "    for feat_dict in add_feat_arr:\n",
    "        if feat_dict['name'] == 'gender':\n",
    "            dataset[feat_dict['name']] = np.random.choice([feat_dict['lower'], feat_dict['upper']], sample_num)\n",
    "        elif dist_type=='normal':\n",
    "            dataset[feat_dict['name']] = normal_dist(dataset, feat_dict, sample_num)\n",
    "        else:\n",
    "            dataset[feat_dict['name']] = uniform_dist(dataset, feat_dict, sample_num)\n",
    "    return dataset"
   ]
  },
  {
   "cell_type": "code",
   "execution_count": null,
   "metadata": {},
   "outputs": [],
   "source": [
    "def add_nans(df):\n",
    "    for col in df.columns:\n",
    "        if col not in ['gender', 'age']:\n",
    "            col_frac = round(random.uniform(0.1, 0.7), 1)\n",
    "            df.loc[df.sample(frac=col_frac, random_state=SEED).index, col] = np.nan\n",
    "    return df"
   ]
  },
  {
   "cell_type": "code",
   "execution_count": null,
   "metadata": {},
   "outputs": [],
   "source": [
    "add_ft_df = create_dataset(len(df))\n",
    "add_ft_df = add_nans(add_ft_df)\n",
    "#add_ft_df = add_ft_df.fillna(-1)\n",
    "add_ft_df.head()"
   ]
  },
  {
   "cell_type": "code",
   "execution_count": null,
   "metadata": {},
   "outputs": [],
   "source": [
    "len(df), len(add_ft_df)"
   ]
  },
  {
   "cell_type": "markdown",
   "metadata": {},
   "source": [
    "#### Concatenate the dfs"
   ]
  },
  {
   "cell_type": "code",
   "execution_count": null,
   "metadata": {},
   "outputs": [],
   "source": [
    "new_df = pd.concat([df, add_ft_df], axis=1) #pd.concat([Xtest.reset_index(drop=True), ytest.reset_index(drop=True)], axis=1)\n",
    "new_df['new_label'] = new_df.apply(lambda row: create_label(row), axis=1)\n",
    "new_df = new_df.drop(['label'], axis=1)\n",
    "new_df = new_df.rename({'new_label': 'label'}, axis=1)\n",
    "new_df.head()"
   ]
  },
  {
   "cell_type": "code",
   "execution_count": null,
   "metadata": {},
   "outputs": [],
   "source": [
    "new_df.isna().sum()"
   ]
  },
  {
   "cell_type": "code",
   "execution_count": null,
   "metadata": {},
   "outputs": [],
   "source": [
    "new_df.label.value_counts()"
   ]
  },
  {
   "cell_type": "code",
   "execution_count": null,
   "metadata": {},
   "outputs": [],
   "source": [
    "new_df.to_csv('../../data/anemia_synth_dataset_some_nans_unspecified_more_feats.csv', index=False)"
   ]
  },
  {
   "cell_type": "code",
   "execution_count": null,
   "metadata": {},
   "outputs": [],
   "source": []
  }
 ],
 "metadata": {
  "kernelspec": {
   "display_name": "Python 3",
   "language": "python",
   "name": "python3"
  },
  "language_info": {
   "codemirror_mode": {
    "name": "ipython",
    "version": 3
   },
   "file_extension": ".py",
   "mimetype": "text/x-python",
   "name": "python",
   "nbconvert_exporter": "python",
   "pygments_lexer": "ipython3",
   "version": "3.7.4"
  }
 },
 "nbformat": 4,
 "nbformat_minor": 5
}

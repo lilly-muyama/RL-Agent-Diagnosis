{
 "cells": [
  {
   "cell_type": "code",
   "execution_count": 1,
   "id": "9d1bfa4d",
   "metadata": {},
   "outputs": [
    {
     "name": "stderr",
     "output_type": "stream",
     "text": [
      "C:\\Users\\User\\Anaconda3\\lib\\site-packages\\statsmodels\\tools\\_testing.py:19: FutureWarning: pandas.util.testing is deprecated. Use the functions in the public API at pandas.testing instead.\n",
      "  import pandas.util.testing as tm\n",
      "C:\\Users\\User\\Anaconda3\\lib\\site-packages\\sklearn\\linear_model\\least_angle.py:30: DeprecationWarning:\n",
      "\n",
      "`np.float` is a deprecated alias for the builtin `float`. To silence this warning, use `float` by itself. Doing this will not modify any behavior and is safe. If you specifically wanted the numpy scalar type, use `np.float64` here.\n",
      "Deprecated in NumPy 1.20; for more details and guidance: https://numpy.org/devdocs/release/1.20.0-notes.html#deprecations\n",
      "\n",
      "C:\\Users\\User\\Anaconda3\\lib\\site-packages\\sklearn\\linear_model\\least_angle.py:167: DeprecationWarning:\n",
      "\n",
      "`np.float` is a deprecated alias for the builtin `float`. To silence this warning, use `float` by itself. Doing this will not modify any behavior and is safe. If you specifically wanted the numpy scalar type, use `np.float64` here.\n",
      "Deprecated in NumPy 1.20; for more details and guidance: https://numpy.org/devdocs/release/1.20.0-notes.html#deprecations\n",
      "\n",
      "C:\\Users\\User\\Anaconda3\\lib\\site-packages\\sklearn\\linear_model\\least_angle.py:284: DeprecationWarning:\n",
      "\n",
      "`np.float` is a deprecated alias for the builtin `float`. To silence this warning, use `float` by itself. Doing this will not modify any behavior and is safe. If you specifically wanted the numpy scalar type, use `np.float64` here.\n",
      "Deprecated in NumPy 1.20; for more details and guidance: https://numpy.org/devdocs/release/1.20.0-notes.html#deprecations\n",
      "\n",
      "C:\\Users\\User\\Anaconda3\\lib\\site-packages\\sklearn\\linear_model\\least_angle.py:862: DeprecationWarning:\n",
      "\n",
      "`np.float` is a deprecated alias for the builtin `float`. To silence this warning, use `float` by itself. Doing this will not modify any behavior and is safe. If you specifically wanted the numpy scalar type, use `np.float64` here.\n",
      "Deprecated in NumPy 1.20; for more details and guidance: https://numpy.org/devdocs/release/1.20.0-notes.html#deprecations\n",
      "\n",
      "C:\\Users\\User\\Anaconda3\\lib\\site-packages\\sklearn\\linear_model\\least_angle.py:1101: DeprecationWarning:\n",
      "\n",
      "`np.float` is a deprecated alias for the builtin `float`. To silence this warning, use `float` by itself. Doing this will not modify any behavior and is safe. If you specifically wanted the numpy scalar type, use `np.float64` here.\n",
      "Deprecated in NumPy 1.20; for more details and guidance: https://numpy.org/devdocs/release/1.20.0-notes.html#deprecations\n",
      "\n",
      "C:\\Users\\User\\Anaconda3\\lib\\site-packages\\sklearn\\linear_model\\least_angle.py:1127: DeprecationWarning:\n",
      "\n",
      "`np.float` is a deprecated alias for the builtin `float`. To silence this warning, use `float` by itself. Doing this will not modify any behavior and is safe. If you specifically wanted the numpy scalar type, use `np.float64` here.\n",
      "Deprecated in NumPy 1.20; for more details and guidance: https://numpy.org/devdocs/release/1.20.0-notes.html#deprecations\n",
      "\n",
      "C:\\Users\\User\\Anaconda3\\lib\\site-packages\\sklearn\\linear_model\\least_angle.py:1362: DeprecationWarning:\n",
      "\n",
      "`np.float` is a deprecated alias for the builtin `float`. To silence this warning, use `float` by itself. Doing this will not modify any behavior and is safe. If you specifically wanted the numpy scalar type, use `np.float64` here.\n",
      "Deprecated in NumPy 1.20; for more details and guidance: https://numpy.org/devdocs/release/1.20.0-notes.html#deprecations\n",
      "\n",
      "C:\\Users\\User\\Anaconda3\\lib\\site-packages\\sklearn\\linear_model\\least_angle.py:1602: DeprecationWarning:\n",
      "\n",
      "`np.float` is a deprecated alias for the builtin `float`. To silence this warning, use `float` by itself. Doing this will not modify any behavior and is safe. If you specifically wanted the numpy scalar type, use `np.float64` here.\n",
      "Deprecated in NumPy 1.20; for more details and guidance: https://numpy.org/devdocs/release/1.20.0-notes.html#deprecations\n",
      "\n",
      "C:\\Users\\User\\Anaconda3\\lib\\site-packages\\sklearn\\linear_model\\least_angle.py:1738: DeprecationWarning:\n",
      "\n",
      "`np.float` is a deprecated alias for the builtin `float`. To silence this warning, use `float` by itself. Doing this will not modify any behavior and is safe. If you specifically wanted the numpy scalar type, use `np.float64` here.\n",
      "Deprecated in NumPy 1.20; for more details and guidance: https://numpy.org/devdocs/release/1.20.0-notes.html#deprecations\n",
      "\n",
      "C:\\Users\\User\\Anaconda3\\lib\\site-packages\\sklearn\\decomposition\\online_lda.py:29: DeprecationWarning:\n",
      "\n",
      "`np.float` is a deprecated alias for the builtin `float`. To silence this warning, use `float` by itself. Doing this will not modify any behavior and is safe. If you specifically wanted the numpy scalar type, use `np.float64` here.\n",
      "Deprecated in NumPy 1.20; for more details and guidance: https://numpy.org/devdocs/release/1.20.0-notes.html#deprecations\n",
      "\n"
     ]
    }
   ],
   "source": [
    "import pandas as pd\n",
    "import numpy as np\n",
    "import ast\n",
    "import os\n",
    "import random\n",
    "import seaborn as sns\n",
    "from sklearn.model_selection import train_test_split\n",
    "import sys\n",
    "sys.path.append('../..')\n",
    "from modules.many_features import utils, constants\n",
    "import matplotlib.pyplot as plt\n",
    "%matplotlib inline"
   ]
  },
  {
   "cell_type": "code",
   "execution_count": 2,
   "id": "624f333b",
   "metadata": {},
   "outputs": [],
   "source": [
    "SEED = 42\n",
    "random.seed(SEED)\n",
    "np.random.seed(SEED)\n",
    "os.environ['PYTHONHASHSEED']=str(SEED)"
   ]
  },
  {
   "cell_type": "markdown",
   "id": "16da2a47",
   "metadata": {},
   "source": [
    "#### X_test"
   ]
  },
  {
   "cell_type": "code",
   "execution_count": 4,
   "id": "ad6abaf7",
   "metadata": {},
   "outputs": [
    {
     "data": {
      "text/plain": [
       "((14000, 17), (14000,))"
      ]
     },
     "execution_count": 4,
     "metadata": {},
     "output_type": "execute_result"
    }
   ],
   "source": [
    "#df = pd.read_csv('data/anemia_synth_dataset_hb_some_nans.csv')\n",
    "#df = pd.read_csv('data/noisy_data_uniform_all_30_08_22.csv')\n",
    "# df = pd.read_csv('../../data/more_features/more_feats_correlated_noisy_6.csv')\n",
    "# df = df.fillna(-1)\n",
    "# class_dict = constants.CLASS_DICT\n",
    "test_set = pd.read_csv('../../data/more_features/train_sets/test_set_constant.csv')\n",
    "X_test = test_set.iloc[:, 0:-1]\n",
    "y_test = test_set.iloc[:, -1]\n",
    "X_test, y_test = np.array(X_test), np.array(y_test)\n",
    "X_test.shape, y_test.shape"
   ]
  },
  {
   "cell_type": "code",
   "execution_count": 5,
   "id": "56875e39",
   "metadata": {},
   "outputs": [],
   "source": [
    "# df['label'] = df['label'].replace(class_dict)\n",
    "# X = df.iloc[:, 0:-1]\n",
    "# y = df.iloc[:, -1]\n",
    "\n",
    "# X_train, X_test, y_train, y_test = train_test_split(X, y, test_size=0.2, stratify=y, random_state=SEED)\n",
    "# test_set = pd.concat([X_test, y_test], axis=1).reset_index(drop=True)\n",
    "# # X_train, y_train = np.array(X_train), np.array(y_train)\n",
    "# # X_test, y_test = np.array(X_test), np.array(y_test)\n",
    "# test_set.shape"
   ]
  },
  {
   "cell_type": "code",
   "execution_count": 6,
   "id": "b7a91ed3",
   "metadata": {},
   "outputs": [
    {
     "data": {
      "text/html": [
       "<div>\n",
       "<style scoped>\n",
       "    .dataframe tbody tr th:only-of-type {\n",
       "        vertical-align: middle;\n",
       "    }\n",
       "\n",
       "    .dataframe tbody tr th {\n",
       "        vertical-align: top;\n",
       "    }\n",
       "\n",
       "    .dataframe thead th {\n",
       "        text-align: right;\n",
       "    }\n",
       "</style>\n",
       "<table border=\"1\" class=\"dataframe\">\n",
       "  <thead>\n",
       "    <tr style=\"text-align: right;\">\n",
       "      <th></th>\n",
       "      <th>hemoglobin</th>\n",
       "      <th>ferritin</th>\n",
       "      <th>ret_count</th>\n",
       "      <th>segmented_neutrophils</th>\n",
       "      <th>tibc</th>\n",
       "      <th>mcv</th>\n",
       "      <th>serum_iron</th>\n",
       "      <th>rbc</th>\n",
       "      <th>gender</th>\n",
       "      <th>creatinine</th>\n",
       "      <th>cholestrol</th>\n",
       "      <th>copper</th>\n",
       "      <th>ethanol</th>\n",
       "      <th>folate</th>\n",
       "      <th>glucose</th>\n",
       "      <th>hematocrit</th>\n",
       "      <th>tsat</th>\n",
       "      <th>label</th>\n",
       "    </tr>\n",
       "  </thead>\n",
       "  <tbody>\n",
       "    <tr>\n",
       "      <th>0</th>\n",
       "      <td>11.391136</td>\n",
       "      <td>-1.000000</td>\n",
       "      <td>1.504298</td>\n",
       "      <td>5.058881</td>\n",
       "      <td>467.197112</td>\n",
       "      <td>96.252926</td>\n",
       "      <td>217.860499</td>\n",
       "      <td>3.550376</td>\n",
       "      <td>1</td>\n",
       "      <td>-1.000000</td>\n",
       "      <td>36.703810</td>\n",
       "      <td>122.310168</td>\n",
       "      <td>49.897027</td>\n",
       "      <td>20.353251</td>\n",
       "      <td>-1.000000</td>\n",
       "      <td>34.173407</td>\n",
       "      <td>46.631388</td>\n",
       "      <td>6</td>\n",
       "    </tr>\n",
       "    <tr>\n",
       "      <th>1</th>\n",
       "      <td>10.355048</td>\n",
       "      <td>272.506966</td>\n",
       "      <td>-1.000000</td>\n",
       "      <td>0.000000</td>\n",
       "      <td>128.706486</td>\n",
       "      <td>101.912313</td>\n",
       "      <td>-1.000000</td>\n",
       "      <td>3.048223</td>\n",
       "      <td>1</td>\n",
       "      <td>-1.000000</td>\n",
       "      <td>-1.000000</td>\n",
       "      <td>-1.000000</td>\n",
       "      <td>29.327349</td>\n",
       "      <td>-1.000000</td>\n",
       "      <td>-1.000000</td>\n",
       "      <td>31.065144</td>\n",
       "      <td>-1.000000</td>\n",
       "      <td>2</td>\n",
       "    </tr>\n",
       "    <tr>\n",
       "      <th>2</th>\n",
       "      <td>11.159385</td>\n",
       "      <td>-1.000000</td>\n",
       "      <td>-1.000000</td>\n",
       "      <td>0.000000</td>\n",
       "      <td>-1.000000</td>\n",
       "      <td>103.395616</td>\n",
       "      <td>77.212369</td>\n",
       "      <td>3.237870</td>\n",
       "      <td>0</td>\n",
       "      <td>-1.000000</td>\n",
       "      <td>8.690122</td>\n",
       "      <td>65.554731</td>\n",
       "      <td>19.167967</td>\n",
       "      <td>7.239049</td>\n",
       "      <td>-1.000000</td>\n",
       "      <td>33.478155</td>\n",
       "      <td>-1.000000</td>\n",
       "      <td>2</td>\n",
       "    </tr>\n",
       "    <tr>\n",
       "      <th>3</th>\n",
       "      <td>8.179735</td>\n",
       "      <td>140.876632</td>\n",
       "      <td>5.484515</td>\n",
       "      <td>-1.000000</td>\n",
       "      <td>303.740826</td>\n",
       "      <td>99.877458</td>\n",
       "      <td>155.573175</td>\n",
       "      <td>2.456931</td>\n",
       "      <td>0</td>\n",
       "      <td>-1.000000</td>\n",
       "      <td>41.123526</td>\n",
       "      <td>119.433840</td>\n",
       "      <td>39.384848</td>\n",
       "      <td>6.394235</td>\n",
       "      <td>-1.000000</td>\n",
       "      <td>24.539204</td>\n",
       "      <td>51.219053</td>\n",
       "      <td>5</td>\n",
       "    </tr>\n",
       "    <tr>\n",
       "      <th>4</th>\n",
       "      <td>9.916825</td>\n",
       "      <td>-1.000000</td>\n",
       "      <td>3.909810</td>\n",
       "      <td>-1.000000</td>\n",
       "      <td>-1.000000</td>\n",
       "      <td>90.543986</td>\n",
       "      <td>189.347916</td>\n",
       "      <td>3.285748</td>\n",
       "      <td>0</td>\n",
       "      <td>1.501433</td>\n",
       "      <td>34.905667</td>\n",
       "      <td>59.177001</td>\n",
       "      <td>58.538524</td>\n",
       "      <td>22.843594</td>\n",
       "      <td>139.245204</td>\n",
       "      <td>29.750475</td>\n",
       "      <td>-1.000000</td>\n",
       "      <td>5</td>\n",
       "    </tr>\n",
       "  </tbody>\n",
       "</table>\n",
       "</div>"
      ],
      "text/plain": [
       "   hemoglobin    ferritin  ret_count  segmented_neutrophils        tibc  \\\n",
       "0   11.391136   -1.000000   1.504298               5.058881  467.197112   \n",
       "1   10.355048  272.506966  -1.000000               0.000000  128.706486   \n",
       "2   11.159385   -1.000000  -1.000000               0.000000   -1.000000   \n",
       "3    8.179735  140.876632   5.484515              -1.000000  303.740826   \n",
       "4    9.916825   -1.000000   3.909810              -1.000000   -1.000000   \n",
       "\n",
       "          mcv  serum_iron       rbc  gender  creatinine  cholestrol  \\\n",
       "0   96.252926  217.860499  3.550376       1   -1.000000   36.703810   \n",
       "1  101.912313   -1.000000  3.048223       1   -1.000000   -1.000000   \n",
       "2  103.395616   77.212369  3.237870       0   -1.000000    8.690122   \n",
       "3   99.877458  155.573175  2.456931       0   -1.000000   41.123526   \n",
       "4   90.543986  189.347916  3.285748       0    1.501433   34.905667   \n",
       "\n",
       "       copper    ethanol     folate     glucose  hematocrit       tsat  label  \n",
       "0  122.310168  49.897027  20.353251   -1.000000   34.173407  46.631388      6  \n",
       "1   -1.000000  29.327349  -1.000000   -1.000000   31.065144  -1.000000      2  \n",
       "2   65.554731  19.167967   7.239049   -1.000000   33.478155  -1.000000      2  \n",
       "3  119.433840  39.384848   6.394235   -1.000000   24.539204  51.219053      5  \n",
       "4   59.177001  58.538524  22.843594  139.245204   29.750475  -1.000000      5  "
      ]
     },
     "execution_count": 6,
     "metadata": {},
     "output_type": "execute_result"
    }
   ],
   "source": [
    "test_set.head()"
   ]
  },
  {
   "cell_type": "markdown",
   "id": "a90ca185",
   "metadata": {},
   "source": [
    "#### test_df"
   ]
  },
  {
   "cell_type": "code",
   "execution_count": 7,
   "id": "b5557107",
   "metadata": {},
   "outputs": [
    {
     "data": {
      "text/html": [
       "<div>\n",
       "<style scoped>\n",
       "    .dataframe tbody tr th:only-of-type {\n",
       "        vertical-align: middle;\n",
       "    }\n",
       "\n",
       "    .dataframe tbody tr th {\n",
       "        vertical-align: top;\n",
       "    }\n",
       "\n",
       "    .dataframe thead th {\n",
       "        text-align: right;\n",
       "    }\n",
       "</style>\n",
       "<table border=\"1\" class=\"dataframe\">\n",
       "  <thead>\n",
       "    <tr style=\"text-align: right;\">\n",
       "      <th></th>\n",
       "      <th>episode_length</th>\n",
       "      <th>index</th>\n",
       "      <th>is_success</th>\n",
       "      <th>reward</th>\n",
       "      <th>terminated</th>\n",
       "      <th>trajectory</th>\n",
       "      <th>y_actual</th>\n",
       "      <th>y_pred</th>\n",
       "    </tr>\n",
       "  </thead>\n",
       "  <tbody>\n",
       "    <tr>\n",
       "      <th>0</th>\n",
       "      <td>4.0</td>\n",
       "      <td>0.0</td>\n",
       "      <td>1.0</td>\n",
       "      <td>1.0</td>\n",
       "      <td>0.0</td>\n",
       "      <td>['hemoglobin', 'mcv', 'ret_count', 'Aplastic a...</td>\n",
       "      <td>6.0</td>\n",
       "      <td>6.0</td>\n",
       "    </tr>\n",
       "    <tr>\n",
       "      <th>1</th>\n",
       "      <td>4.0</td>\n",
       "      <td>1.0</td>\n",
       "      <td>1.0</td>\n",
       "      <td>1.0</td>\n",
       "      <td>0.0</td>\n",
       "      <td>['hemoglobin', 'mcv', 'segmented_neutrophils',...</td>\n",
       "      <td>2.0</td>\n",
       "      <td>2.0</td>\n",
       "    </tr>\n",
       "    <tr>\n",
       "      <th>2</th>\n",
       "      <td>4.0</td>\n",
       "      <td>2.0</td>\n",
       "      <td>1.0</td>\n",
       "      <td>1.0</td>\n",
       "      <td>0.0</td>\n",
       "      <td>['hemoglobin', 'mcv', 'segmented_neutrophils',...</td>\n",
       "      <td>2.0</td>\n",
       "      <td>2.0</td>\n",
       "    </tr>\n",
       "    <tr>\n",
       "      <th>3</th>\n",
       "      <td>4.0</td>\n",
       "      <td>3.0</td>\n",
       "      <td>0.0</td>\n",
       "      <td>-1.0</td>\n",
       "      <td>1.0</td>\n",
       "      <td>['hemoglobin', 'mcv', 'segmented_neutrophils',...</td>\n",
       "      <td>5.0</td>\n",
       "      <td>7.0</td>\n",
       "    </tr>\n",
       "    <tr>\n",
       "      <th>4</th>\n",
       "      <td>4.0</td>\n",
       "      <td>4.0</td>\n",
       "      <td>1.0</td>\n",
       "      <td>1.0</td>\n",
       "      <td>0.0</td>\n",
       "      <td>['hemoglobin', 'mcv', 'ret_count', 'Hemolytic ...</td>\n",
       "      <td>5.0</td>\n",
       "      <td>5.0</td>\n",
       "    </tr>\n",
       "  </tbody>\n",
       "</table>\n",
       "</div>"
      ],
      "text/plain": [
       "   episode_length  index  is_success  reward  terminated  \\\n",
       "0             4.0    0.0         1.0     1.0         0.0   \n",
       "1             4.0    1.0         1.0     1.0         0.0   \n",
       "2             4.0    2.0         1.0     1.0         0.0   \n",
       "3             4.0    3.0         0.0    -1.0         1.0   \n",
       "4             4.0    4.0         1.0     1.0         0.0   \n",
       "\n",
       "                                          trajectory  y_actual  y_pred  \n",
       "0  ['hemoglobin', 'mcv', 'ret_count', 'Aplastic a...       6.0     6.0  \n",
       "1  ['hemoglobin', 'mcv', 'segmented_neutrophils',...       2.0     2.0  \n",
       "2  ['hemoglobin', 'mcv', 'segmented_neutrophils',...       2.0     2.0  \n",
       "3  ['hemoglobin', 'mcv', 'segmented_neutrophils',...       5.0     7.0  \n",
       "4  ['hemoglobin', 'mcv', 'ret_count', 'Hemolytic ...       5.0     5.0  "
      ]
     },
     "execution_count": 7,
     "metadata": {},
     "output_type": "execute_result"
    }
   ],
   "source": [
    "test_df =pd.read_csv('../../test_dfs/many_features/0.1/correlated/constant_test_set/test_df_noisy6_17000000.csv')\n",
    "test_df.head()"
   ]
  },
  {
   "cell_type": "code",
   "execution_count": 8,
   "id": "ebf3348e",
   "metadata": {},
   "outputs": [
    {
     "data": {
      "text/plain": [
       "array([6, 2, 5, 0, 4, 3, 7, 1], dtype=int64)"
      ]
     },
     "execution_count": 8,
     "metadata": {},
     "output_type": "execute_result"
    }
   ],
   "source": [
    "test_set.label.unique()"
   ]
  },
  {
   "cell_type": "code",
   "execution_count": 9,
   "id": "17631ef1",
   "metadata": {},
   "outputs": [
    {
     "data": {
      "text/plain": [
       "14000"
      ]
     },
     "execution_count": 9,
     "metadata": {},
     "output_type": "execute_result"
    }
   ],
   "source": [
    "len(test_df)"
   ]
  },
  {
   "cell_type": "code",
   "execution_count": 10,
   "id": "c139517d",
   "metadata": {},
   "outputs": [
    {
     "data": {
      "text/plain": [
       "0.0    2014\n",
       "1.0    1881\n",
       "4.0    1820\n",
       "2.0    1810\n",
       "3.0    1771\n",
       "6.0    1646\n",
       "5.0    1594\n",
       "7.0    1464\n",
       "Name: y_pred, dtype: int64"
      ]
     },
     "execution_count": 10,
     "metadata": {},
     "output_type": "execute_result"
    }
   ],
   "source": [
    "test_df.y_pred.value_counts()"
   ]
  },
  {
   "cell_type": "code",
   "execution_count": 11,
   "id": "e3568083",
   "metadata": {},
   "outputs": [],
   "source": [
    "def get_idx_df(target_df, idx_list):\n",
    "    idx_df = target_df.iloc[idx_list]\n",
    "    return idx_df"
   ]
  },
  {
   "cell_type": "code",
   "execution_count": 12,
   "id": "b91b6688",
   "metadata": {},
   "outputs": [],
   "source": [
    "def get_distribution(df, feat): #df = anemia_test_df feat = where branching happens and whose value distribution we desire\n",
    "    feat_dict = get_indices(df, feat)\n",
    "    next_feat_df_dict = {}\n",
    "    for i, next_feat in enumerate(list(feat_dict.keys())):\n",
    "        next_feat_df = get_idx_df(test_set, feat_dict[next_feat])\n",
    "        next_feat_df_dict[next_feat] = next_feat_df[feat]\n",
    "    combined_df = pd.DataFrame(next_feat_df_dict)\n",
    "    sns.set_style('dark')\n",
    "    gfg = sns.boxplot(data = combined_df, palette='pastel')\n",
    "    gfg.set(ylabel = feat, title = f'{feat} value distribution')\n",
    "    plt.xticks(rotation=90)\n",
    "    sns.despine()\n",
    "    plt.show()    \n",
    "    return combined_df"
   ]
  },
  {
   "cell_type": "code",
   "execution_count": 13,
   "id": "3e22cefc",
   "metadata": {},
   "outputs": [],
   "source": [
    "def get_indices(df, feat): #get indices n  df where feature is in pathway\n",
    "    idx_dict = {}\n",
    "    for i, row in df.iterrows():\n",
    "        pathway = ast.literal_eval(row['trajectory'])\n",
    "        if feat in pathway:\n",
    "            feat_idx = pathway.index(feat)\n",
    "            next_element = pathway[feat_idx+1]\n",
    "            if next_element not in list(idx_dict.keys()):\n",
    "                idx_dict[next_element] = [row.name]\n",
    "            else:\n",
    "                idx_dict[next_element].append(row.name)\n",
    "    return idx_dict"
   ]
  },
  {
   "cell_type": "markdown",
   "id": "2a9a8222",
   "metadata": {},
   "source": [
    "#### delete from here"
   ]
  },
  {
   "cell_type": "code",
   "execution_count": 37,
   "id": "16bd472e",
   "metadata": {},
   "outputs": [],
   "source": [
    "terminated_df = test_df[test_df.y_pred.isna()]"
   ]
  },
  {
   "cell_type": "code",
   "execution_count": 50,
   "id": "7e1f36d3",
   "metadata": {},
   "outputs": [
    {
     "data": {
      "text/plain": [
       "0"
      ]
     },
     "execution_count": 50,
     "metadata": {},
     "output_type": "execute_result"
    }
   ],
   "source": [
    "idx_dict = {}\n",
    "feat = 'mcv'\n",
    "count = 0\n",
    "for i, row in terminated_df.iterrows():\n",
    "    pathway = ast.literal_eval(row['trajectory'])\n",
    "    if feat in pathway:\n",
    "        feat_idx = pathway.index(feat)\n",
    "        next_element = pathway[feat_idx+1]\n",
    "        if next_element == feat:\n",
    "            count+=1\n",
    "count"
   ]
  },
  {
   "cell_type": "code",
   "execution_count": null,
   "id": "4c7593af",
   "metadata": {},
   "outputs": [],
   "source": []
  },
  {
   "cell_type": "code",
   "execution_count": null,
   "id": "eb9a336c",
   "metadata": {},
   "outputs": [],
   "source": []
  },
  {
   "cell_type": "code",
   "execution_count": null,
   "id": "cc96e0fd",
   "metadata": {},
   "outputs": [],
   "source": []
  },
  {
   "cell_type": "code",
   "execution_count": 44,
   "id": "ed8eb316",
   "metadata": {},
   "outputs": [
    {
     "data": {
      "text/plain": [
       "dict_keys(['segmented_neutrophils', 'ret_count', 'ferritin', 'tibc', 'mcv'])"
      ]
     },
     "execution_count": 44,
     "metadata": {},
     "output_type": "execute_result"
    }
   ],
   "source": [
    "feat_dict = get_indices(terminated_df, 'ret_count')\n",
    "feat_dict.keys()"
   ]
  },
  {
   "cell_type": "code",
   "execution_count": 49,
   "id": "a3a1db2c",
   "metadata": {},
   "outputs": [
    {
     "data": {
      "text/plain": [
       "2"
      ]
     },
     "execution_count": 49,
     "metadata": {},
     "output_type": "execute_result"
    }
   ],
   "source": [
    "len(feat_dict['mcv'])"
   ]
  },
  {
   "cell_type": "code",
   "execution_count": null,
   "id": "6bb6ef03",
   "metadata": {},
   "outputs": [],
   "source": []
  },
  {
   "cell_type": "code",
   "execution_count": null,
   "id": "532f9da4",
   "metadata": {},
   "outputs": [],
   "source": []
  },
  {
   "cell_type": "markdown",
   "id": "dbe0b352",
   "metadata": {},
   "source": [
    "#### end here"
   ]
  },
  {
   "cell_type": "markdown",
   "id": "037fa4d7",
   "metadata": {},
   "source": [
    "#### 0 - No anemia"
   ]
  },
  {
   "cell_type": "code",
   "execution_count": 14,
   "id": "3a28dcb5",
   "metadata": {},
   "outputs": [
    {
     "data": {
      "text/html": [
       "<div>\n",
       "<style scoped>\n",
       "    .dataframe tbody tr th:only-of-type {\n",
       "        vertical-align: middle;\n",
       "    }\n",
       "\n",
       "    .dataframe tbody tr th {\n",
       "        vertical-align: top;\n",
       "    }\n",
       "\n",
       "    .dataframe thead th {\n",
       "        text-align: right;\n",
       "    }\n",
       "</style>\n",
       "<table border=\"1\" class=\"dataframe\">\n",
       "  <thead>\n",
       "    <tr style=\"text-align: right;\">\n",
       "      <th></th>\n",
       "      <th>episode_length</th>\n",
       "      <th>index</th>\n",
       "      <th>is_success</th>\n",
       "      <th>reward</th>\n",
       "      <th>terminated</th>\n",
       "      <th>trajectory</th>\n",
       "      <th>y_actual</th>\n",
       "      <th>y_pred</th>\n",
       "    </tr>\n",
       "  </thead>\n",
       "  <tbody>\n",
       "    <tr>\n",
       "      <th>6</th>\n",
       "      <td>3.0</td>\n",
       "      <td>6.0</td>\n",
       "      <td>1.0</td>\n",
       "      <td>1.0</td>\n",
       "      <td>0.0</td>\n",
       "      <td>['hemoglobin', 'gender', 'No anemia']</td>\n",
       "      <td>0.0</td>\n",
       "      <td>0.0</td>\n",
       "    </tr>\n",
       "    <tr>\n",
       "      <th>12</th>\n",
       "      <td>3.0</td>\n",
       "      <td>12.0</td>\n",
       "      <td>1.0</td>\n",
       "      <td>1.0</td>\n",
       "      <td>0.0</td>\n",
       "      <td>['hemoglobin', 'gender', 'No anemia']</td>\n",
       "      <td>0.0</td>\n",
       "      <td>0.0</td>\n",
       "    </tr>\n",
       "    <tr>\n",
       "      <th>14</th>\n",
       "      <td>2.0</td>\n",
       "      <td>14.0</td>\n",
       "      <td>1.0</td>\n",
       "      <td>1.0</td>\n",
       "      <td>0.0</td>\n",
       "      <td>['hemoglobin', 'No anemia']</td>\n",
       "      <td>0.0</td>\n",
       "      <td>0.0</td>\n",
       "    </tr>\n",
       "    <tr>\n",
       "      <th>17</th>\n",
       "      <td>3.0</td>\n",
       "      <td>17.0</td>\n",
       "      <td>1.0</td>\n",
       "      <td>1.0</td>\n",
       "      <td>0.0</td>\n",
       "      <td>['hemoglobin', 'gender', 'No anemia']</td>\n",
       "      <td>0.0</td>\n",
       "      <td>0.0</td>\n",
       "    </tr>\n",
       "    <tr>\n",
       "      <th>21</th>\n",
       "      <td>3.0</td>\n",
       "      <td>21.0</td>\n",
       "      <td>1.0</td>\n",
       "      <td>1.0</td>\n",
       "      <td>0.0</td>\n",
       "      <td>['hemoglobin', 'gender', 'No anemia']</td>\n",
       "      <td>0.0</td>\n",
       "      <td>0.0</td>\n",
       "    </tr>\n",
       "  </tbody>\n",
       "</table>\n",
       "</div>"
      ],
      "text/plain": [
       "    episode_length  index  is_success  reward  terminated  \\\n",
       "6              3.0    6.0         1.0     1.0         0.0   \n",
       "12             3.0   12.0         1.0     1.0         0.0   \n",
       "14             2.0   14.0         1.0     1.0         0.0   \n",
       "17             3.0   17.0         1.0     1.0         0.0   \n",
       "21             3.0   21.0         1.0     1.0         0.0   \n",
       "\n",
       "                               trajectory  y_actual  y_pred  \n",
       "6   ['hemoglobin', 'gender', 'No anemia']       0.0     0.0  \n",
       "12  ['hemoglobin', 'gender', 'No anemia']       0.0     0.0  \n",
       "14            ['hemoglobin', 'No anemia']       0.0     0.0  \n",
       "17  ['hemoglobin', 'gender', 'No anemia']       0.0     0.0  \n",
       "21  ['hemoglobin', 'gender', 'No anemia']       0.0     0.0  "
      ]
     },
     "execution_count": 14,
     "metadata": {},
     "output_type": "execute_result"
    }
   ],
   "source": [
    "no_num = 0\n",
    "no_df = test_df[test_df.y_pred == no_num]\n",
    "no_df.head()"
   ]
  },
  {
   "cell_type": "code",
   "execution_count": 15,
   "id": "bf537dbb",
   "metadata": {},
   "outputs": [
    {
     "data": {
      "image/png": "[encoded data removed]",
      "text/plain": [
       "<Figure size 432x288 with 1 Axes>"
      ]
     },
     "metadata": {},
     "output_type": "display_data"
    }
   ],
   "source": [
    "no_hb_distribution = get_distribution(no_df, 'hemoglobin')"
   ]
  },
  {
   "cell_type": "code",
   "execution_count": 18,
   "id": "e4a7b7af",
   "metadata": {},
   "outputs": [],
   "source": [
    "#no_mcv_distribution = get_distribution(no_df, 'mcv')"
   ]
  },
  {
   "cell_type": "markdown",
   "id": "d583b879",
   "metadata": {},
   "source": [
    "#### 1- Hemolytic anemia"
   ]
  },
  {
   "cell_type": "code",
   "execution_count": 19,
   "id": "5d07586c",
   "metadata": {},
   "outputs": [],
   "source": [
    "hemolytic_num = 0\n",
    "hemolytic_df = test_df[test_df.y_pred == hemolytic_num]"
   ]
  },
  {
   "cell_type": "code",
   "execution_count": 20,
   "id": "ca98587c",
   "metadata": {},
   "outputs": [
    {
     "data": {
      "image/png": "[encoded data removed]",
      "text/plain": [
       "<Figure size 432x288 with 1 Axes>"
      ]
     },
     "metadata": {},
     "output_type": "display_data"
    }
   ],
   "source": [
    "hemolytic_mcv_distribution = get_distribution(hemolytic_df, 'mcv')"
   ]
  },
  {
   "cell_type": "code",
   "execution_count": 21,
   "id": "a8fca692",
   "metadata": {},
   "outputs": [],
   "source": [
    "#hemolytic_ferritin_distribution = get_distribution(hemolytic_df, 'ferritin')"
   ]
  },
  {
   "cell_type": "markdown",
   "id": "87bfb534",
   "metadata": {},
   "source": [
    "#### 2 -  Aplastic anemia"
   ]
  },
  {
   "cell_type": "code",
   "execution_count": 24,
   "id": "b77d4269",
   "metadata": {},
   "outputs": [
    {
     "data": {
      "text/html": [
       "<div>\n",
       "<style scoped>\n",
       "    .dataframe tbody tr th:only-of-type {\n",
       "        vertical-align: middle;\n",
       "    }\n",
       "\n",
       "    .dataframe tbody tr th {\n",
       "        vertical-align: top;\n",
       "    }\n",
       "\n",
       "    .dataframe thead th {\n",
       "        text-align: right;\n",
       "    }\n",
       "</style>\n",
       "<table border=\"1\" class=\"dataframe\">\n",
       "  <thead>\n",
       "    <tr style=\"text-align: right;\">\n",
       "      <th></th>\n",
       "      <th>episode_length</th>\n",
       "      <th>index</th>\n",
       "      <th>is_success</th>\n",
       "      <th>reward</th>\n",
       "      <th>terminated</th>\n",
       "      <th>trajectory</th>\n",
       "      <th>y_actual</th>\n",
       "      <th>y_pred</th>\n",
       "    </tr>\n",
       "  </thead>\n",
       "  <tbody>\n",
       "    <tr>\n",
       "      <th>4</th>\n",
       "      <td>4.0</td>\n",
       "      <td>4.0</td>\n",
       "      <td>1.0</td>\n",
       "      <td>4.0</td>\n",
       "      <td>0.0</td>\n",
       "      <td>['hemoglobin', 'mcv', 'ret_count', 'Aplastic a...</td>\n",
       "      <td>3.0</td>\n",
       "      <td>3.0</td>\n",
       "    </tr>\n",
       "    <tr>\n",
       "      <th>9</th>\n",
       "      <td>4.0</td>\n",
       "      <td>9.0</td>\n",
       "      <td>1.0</td>\n",
       "      <td>4.0</td>\n",
       "      <td>0.0</td>\n",
       "      <td>['hemoglobin', 'mcv', 'ret_count', 'Aplastic a...</td>\n",
       "      <td>3.0</td>\n",
       "      <td>3.0</td>\n",
       "    </tr>\n",
       "    <tr>\n",
       "      <th>10</th>\n",
       "      <td>4.0</td>\n",
       "      <td>10.0</td>\n",
       "      <td>1.0</td>\n",
       "      <td>4.0</td>\n",
       "      <td>0.0</td>\n",
       "      <td>['hemoglobin', 'mcv', 'ret_count', 'Aplastic a...</td>\n",
       "      <td>3.0</td>\n",
       "      <td>3.0</td>\n",
       "    </tr>\n",
       "    <tr>\n",
       "      <th>16</th>\n",
       "      <td>4.0</td>\n",
       "      <td>16.0</td>\n",
       "      <td>1.0</td>\n",
       "      <td>4.0</td>\n",
       "      <td>0.0</td>\n",
       "      <td>['hemoglobin', 'mcv', 'ret_count', 'Aplastic a...</td>\n",
       "      <td>3.0</td>\n",
       "      <td>3.0</td>\n",
       "    </tr>\n",
       "    <tr>\n",
       "      <th>27</th>\n",
       "      <td>4.0</td>\n",
       "      <td>27.0</td>\n",
       "      <td>1.0</td>\n",
       "      <td>4.0</td>\n",
       "      <td>0.0</td>\n",
       "      <td>['hemoglobin', 'mcv', 'ret_count', 'Aplastic a...</td>\n",
       "      <td>3.0</td>\n",
       "      <td>3.0</td>\n",
       "    </tr>\n",
       "  </tbody>\n",
       "</table>\n",
       "</div>"
      ],
      "text/plain": [
       "    episode_length  index  is_success  reward  terminated  \\\n",
       "4              4.0    4.0         1.0     4.0         0.0   \n",
       "9              4.0    9.0         1.0     4.0         0.0   \n",
       "10             4.0   10.0         1.0     4.0         0.0   \n",
       "16             4.0   16.0         1.0     4.0         0.0   \n",
       "27             4.0   27.0         1.0     4.0         0.0   \n",
       "\n",
       "                                           trajectory  y_actual  y_pred  \n",
       "4   ['hemoglobin', 'mcv', 'ret_count', 'Aplastic a...       3.0     3.0  \n",
       "9   ['hemoglobin', 'mcv', 'ret_count', 'Aplastic a...       3.0     3.0  \n",
       "10  ['hemoglobin', 'mcv', 'ret_count', 'Aplastic a...       3.0     3.0  \n",
       "16  ['hemoglobin', 'mcv', 'ret_count', 'Aplastic a...       3.0     3.0  \n",
       "27  ['hemoglobin', 'mcv', 'ret_count', 'Aplastic a...       3.0     3.0  "
      ]
     },
     "execution_count": 24,
     "metadata": {},
     "output_type": "execute_result"
    }
   ],
   "source": [
    "aplastic_num = 3\n",
    "aplastic_df = test_df[test_df.y_pred == aplastic_num]\n",
    "aplastic_df.head()"
   ]
  },
  {
   "cell_type": "code",
   "execution_count": 25,
   "id": "4e79b868",
   "metadata": {},
   "outputs": [
    {
     "data": {
      "text/plain": [
       "3454"
      ]
     },
     "execution_count": 25,
     "metadata": {},
     "output_type": "execute_result"
    }
   ],
   "source": [
    "len(aplastic_df)"
   ]
  },
  {
   "cell_type": "code",
   "execution_count": 26,
   "id": "07d55d0b",
   "metadata": {},
   "outputs": [
    {
     "data": {
      "image/png": "[encoded data removed]",
      "text/plain": [
       "<Figure size 432x288 with 1 Axes>"
      ]
     },
     "metadata": {},
     "output_type": "display_data"
    }
   ],
   "source": [
    "aplastic_mcv_distribution = get_distribution(aplastic_df, 'mcv')"
   ]
  },
  {
   "cell_type": "markdown",
   "id": "785d8d22",
   "metadata": {},
   "source": [
    "#### 3 - Iron deficiency anemia"
   ]
  },
  {
   "cell_type": "code",
   "execution_count": 27,
   "id": "a0c46469",
   "metadata": {},
   "outputs": [
    {
     "data": {
      "text/html": [
       "<div>\n",
       "<style scoped>\n",
       "    .dataframe tbody tr th:only-of-type {\n",
       "        vertical-align: middle;\n",
       "    }\n",
       "\n",
       "    .dataframe tbody tr th {\n",
       "        vertical-align: top;\n",
       "    }\n",
       "\n",
       "    .dataframe thead th {\n",
       "        text-align: right;\n",
       "    }\n",
       "</style>\n",
       "<table border=\"1\" class=\"dataframe\">\n",
       "  <thead>\n",
       "    <tr style=\"text-align: right;\">\n",
       "      <th></th>\n",
       "      <th>episode_length</th>\n",
       "      <th>index</th>\n",
       "      <th>is_success</th>\n",
       "      <th>reward</th>\n",
       "      <th>terminated</th>\n",
       "      <th>trajectory</th>\n",
       "      <th>y_actual</th>\n",
       "      <th>y_pred</th>\n",
       "    </tr>\n",
       "  </thead>\n",
       "  <tbody>\n",
       "    <tr>\n",
       "      <th>437</th>\n",
       "      <td>5.0</td>\n",
       "      <td>437.0</td>\n",
       "      <td>1.0</td>\n",
       "      <td>5.0</td>\n",
       "      <td>0.0</td>\n",
       "      <td>['hemoglobin', 'mcv', 'tibc', 'ferritin', 'Iro...</td>\n",
       "      <td>5.0</td>\n",
       "      <td>5.0</td>\n",
       "    </tr>\n",
       "    <tr>\n",
       "      <th>635</th>\n",
       "      <td>5.0</td>\n",
       "      <td>635.0</td>\n",
       "      <td>1.0</td>\n",
       "      <td>5.0</td>\n",
       "      <td>0.0</td>\n",
       "      <td>['hemoglobin', 'mcv', 'tibc', 'ferritin', 'Iro...</td>\n",
       "      <td>5.0</td>\n",
       "      <td>5.0</td>\n",
       "    </tr>\n",
       "    <tr>\n",
       "      <th>766</th>\n",
       "      <td>5.0</td>\n",
       "      <td>766.0</td>\n",
       "      <td>1.0</td>\n",
       "      <td>5.0</td>\n",
       "      <td>0.0</td>\n",
       "      <td>['hemoglobin', 'mcv', 'tibc', 'ferritin', 'Iro...</td>\n",
       "      <td>5.0</td>\n",
       "      <td>5.0</td>\n",
       "    </tr>\n",
       "    <tr>\n",
       "      <th>776</th>\n",
       "      <td>5.0</td>\n",
       "      <td>776.0</td>\n",
       "      <td>1.0</td>\n",
       "      <td>5.0</td>\n",
       "      <td>0.0</td>\n",
       "      <td>['hemoglobin', 'mcv', 'tibc', 'ferritin', 'Iro...</td>\n",
       "      <td>5.0</td>\n",
       "      <td>5.0</td>\n",
       "    </tr>\n",
       "    <tr>\n",
       "      <th>1271</th>\n",
       "      <td>5.0</td>\n",
       "      <td>1271.0</td>\n",
       "      <td>1.0</td>\n",
       "      <td>5.0</td>\n",
       "      <td>0.0</td>\n",
       "      <td>['hemoglobin', 'mcv', 'tibc', 'ferritin', 'Iro...</td>\n",
       "      <td>5.0</td>\n",
       "      <td>5.0</td>\n",
       "    </tr>\n",
       "  </tbody>\n",
       "</table>\n",
       "</div>"
      ],
      "text/plain": [
       "      episode_length   index  is_success  reward  terminated  \\\n",
       "437              5.0   437.0         1.0     5.0         0.0   \n",
       "635              5.0   635.0         1.0     5.0         0.0   \n",
       "766              5.0   766.0         1.0     5.0         0.0   \n",
       "776              5.0   776.0         1.0     5.0         0.0   \n",
       "1271             5.0  1271.0         1.0     5.0         0.0   \n",
       "\n",
       "                                             trajectory  y_actual  y_pred  \n",
       "437   ['hemoglobin', 'mcv', 'tibc', 'ferritin', 'Iro...       5.0     5.0  \n",
       "635   ['hemoglobin', 'mcv', 'tibc', 'ferritin', 'Iro...       5.0     5.0  \n",
       "766   ['hemoglobin', 'mcv', 'tibc', 'ferritin', 'Iro...       5.0     5.0  \n",
       "776   ['hemoglobin', 'mcv', 'tibc', 'ferritin', 'Iro...       5.0     5.0  \n",
       "1271  ['hemoglobin', 'mcv', 'tibc', 'ferritin', 'Iro...       5.0     5.0  "
      ]
     },
     "execution_count": 27,
     "metadata": {},
     "output_type": "execute_result"
    }
   ],
   "source": [
    "ida_num = 5\n",
    "ida_df = test_df[test_df.y_pred == ida_num]\n",
    "ida_df.head()"
   ]
  },
  {
   "cell_type": "code",
   "execution_count": 28,
   "id": "eb516e6a",
   "metadata": {},
   "outputs": [
    {
     "data": {
      "image/png": "[encoded data removed]",
      "text/plain": [
       "<Figure size 432x288 with 1 Axes>"
      ]
     },
     "metadata": {},
     "output_type": "display_data"
    }
   ],
   "source": [
    "ida_mcv_distribution = get_distribution(ida_df, 'ferritin') #no branching"
   ]
  },
  {
   "cell_type": "markdown",
   "id": "bddc5be4",
   "metadata": {},
   "source": [
    "#### Vitamin B12/Folate deficiency anemia"
   ]
  },
  {
   "cell_type": "code",
   "execution_count": 30,
   "id": "231c5061",
   "metadata": {},
   "outputs": [
    {
     "data": {
      "text/html": [
       "<div>\n",
       "<style scoped>\n",
       "    .dataframe tbody tr th:only-of-type {\n",
       "        vertical-align: middle;\n",
       "    }\n",
       "\n",
       "    .dataframe tbody tr th {\n",
       "        vertical-align: top;\n",
       "    }\n",
       "\n",
       "    .dataframe thead th {\n",
       "        text-align: right;\n",
       "    }\n",
       "</style>\n",
       "<table border=\"1\" class=\"dataframe\">\n",
       "  <thead>\n",
       "    <tr style=\"text-align: right;\">\n",
       "      <th></th>\n",
       "      <th>episode_length</th>\n",
       "      <th>index</th>\n",
       "      <th>is_success</th>\n",
       "      <th>reward</th>\n",
       "      <th>terminated</th>\n",
       "      <th>trajectory</th>\n",
       "      <th>y_actual</th>\n",
       "      <th>y_pred</th>\n",
       "    </tr>\n",
       "  </thead>\n",
       "  <tbody>\n",
       "    <tr>\n",
       "      <th>13</th>\n",
       "      <td>3.0</td>\n",
       "      <td>13.0</td>\n",
       "      <td>1.0</td>\n",
       "      <td>3.0</td>\n",
       "      <td>0.0</td>\n",
       "      <td>['hemoglobin', 'mcv', 'Vitamin B12/Folate defi...</td>\n",
       "      <td>4.0</td>\n",
       "      <td>4.0</td>\n",
       "    </tr>\n",
       "    <tr>\n",
       "      <th>14</th>\n",
       "      <td>3.0</td>\n",
       "      <td>14.0</td>\n",
       "      <td>1.0</td>\n",
       "      <td>3.0</td>\n",
       "      <td>0.0</td>\n",
       "      <td>['hemoglobin', 'mcv', 'Vitamin B12/Folate defi...</td>\n",
       "      <td>4.0</td>\n",
       "      <td>4.0</td>\n",
       "    </tr>\n",
       "    <tr>\n",
       "      <th>44</th>\n",
       "      <td>3.0</td>\n",
       "      <td>44.0</td>\n",
       "      <td>1.0</td>\n",
       "      <td>3.0</td>\n",
       "      <td>0.0</td>\n",
       "      <td>['hemoglobin', 'mcv', 'Vitamin B12/Folate defi...</td>\n",
       "      <td>4.0</td>\n",
       "      <td>4.0</td>\n",
       "    </tr>\n",
       "    <tr>\n",
       "      <th>48</th>\n",
       "      <td>3.0</td>\n",
       "      <td>48.0</td>\n",
       "      <td>1.0</td>\n",
       "      <td>3.0</td>\n",
       "      <td>0.0</td>\n",
       "      <td>['hemoglobin', 'mcv', 'Vitamin B12/Folate defi...</td>\n",
       "      <td>4.0</td>\n",
       "      <td>4.0</td>\n",
       "    </tr>\n",
       "    <tr>\n",
       "      <th>51</th>\n",
       "      <td>4.0</td>\n",
       "      <td>51.0</td>\n",
       "      <td>1.0</td>\n",
       "      <td>4.0</td>\n",
       "      <td>0.0</td>\n",
       "      <td>['hemoglobin', 'mcv', 'segmented_neutrophils',...</td>\n",
       "      <td>4.0</td>\n",
       "      <td>4.0</td>\n",
       "    </tr>\n",
       "  </tbody>\n",
       "</table>\n",
       "</div>"
      ],
      "text/plain": [
       "    episode_length  index  is_success  reward  terminated  \\\n",
       "13             3.0   13.0         1.0     3.0         0.0   \n",
       "14             3.0   14.0         1.0     3.0         0.0   \n",
       "44             3.0   44.0         1.0     3.0         0.0   \n",
       "48             3.0   48.0         1.0     3.0         0.0   \n",
       "51             4.0   51.0         1.0     4.0         0.0   \n",
       "\n",
       "                                           trajectory  y_actual  y_pred  \n",
       "13  ['hemoglobin', 'mcv', 'Vitamin B12/Folate defi...       4.0     4.0  \n",
       "14  ['hemoglobin', 'mcv', 'Vitamin B12/Folate defi...       4.0     4.0  \n",
       "44  ['hemoglobin', 'mcv', 'Vitamin B12/Folate defi...       4.0     4.0  \n",
       "48  ['hemoglobin', 'mcv', 'Vitamin B12/Folate defi...       4.0     4.0  \n",
       "51  ['hemoglobin', 'mcv', 'segmented_neutrophils',...       4.0     4.0  "
      ]
     },
     "execution_count": 30,
     "metadata": {},
     "output_type": "execute_result"
    }
   ],
   "source": [
    "vitamin_num = 4\n",
    "vitamin_df = test_df[test_df.y_pred == vitamin_num]\n",
    "vitamin_df.head()"
   ]
  },
  {
   "cell_type": "code",
   "execution_count": 33,
   "id": "f3af6273",
   "metadata": {},
   "outputs": [
    {
     "data": {
      "image/png": "[encoded data removed]",
      "text/plain": [
       "<Figure size 432x288 with 1 Axes>"
      ]
     },
     "metadata": {},
     "output_type": "display_data"
    }
   ],
   "source": [
    "vitamin_mcv_distribution = get_distribution(vitamin_df, 'mcv')"
   ]
  },
  {
   "cell_type": "markdown",
   "id": "2c900b0b",
   "metadata": {},
   "source": [
    "#### Anemia of chronic disease"
   ]
  },
  {
   "cell_type": "code",
   "execution_count": 34,
   "id": "60c1ea2e",
   "metadata": {},
   "outputs": [
    {
     "data": {
      "text/html": [
       "<div>\n",
       "<style scoped>\n",
       "    .dataframe tbody tr th:only-of-type {\n",
       "        vertical-align: middle;\n",
       "    }\n",
       "\n",
       "    .dataframe tbody tr th {\n",
       "        vertical-align: top;\n",
       "    }\n",
       "\n",
       "    .dataframe thead th {\n",
       "        text-align: right;\n",
       "    }\n",
       "</style>\n",
       "<table border=\"1\" class=\"dataframe\">\n",
       "  <thead>\n",
       "    <tr style=\"text-align: right;\">\n",
       "      <th></th>\n",
       "      <th>episode_length</th>\n",
       "      <th>index</th>\n",
       "      <th>is_success</th>\n",
       "      <th>reward</th>\n",
       "      <th>terminated</th>\n",
       "      <th>trajectory</th>\n",
       "      <th>y_actual</th>\n",
       "      <th>y_pred</th>\n",
       "    </tr>\n",
       "  </thead>\n",
       "  <tbody>\n",
       "    <tr>\n",
       "      <th>1</th>\n",
       "      <td>5.0</td>\n",
       "      <td>1.0</td>\n",
       "      <td>1.0</td>\n",
       "      <td>5.0</td>\n",
       "      <td>0.0</td>\n",
       "      <td>['hemoglobin', 'mcv', 'tibc', 'ferritin', 'Ane...</td>\n",
       "      <td>1.0</td>\n",
       "      <td>1.0</td>\n",
       "    </tr>\n",
       "    <tr>\n",
       "      <th>11</th>\n",
       "      <td>5.0</td>\n",
       "      <td>11.0</td>\n",
       "      <td>1.0</td>\n",
       "      <td>5.0</td>\n",
       "      <td>0.0</td>\n",
       "      <td>['hemoglobin', 'mcv', 'tibc', 'ferritin', 'Ane...</td>\n",
       "      <td>1.0</td>\n",
       "      <td>1.0</td>\n",
       "    </tr>\n",
       "    <tr>\n",
       "      <th>15</th>\n",
       "      <td>5.0</td>\n",
       "      <td>15.0</td>\n",
       "      <td>1.0</td>\n",
       "      <td>5.0</td>\n",
       "      <td>0.0</td>\n",
       "      <td>['hemoglobin', 'mcv', 'tibc', 'ferritin', 'Ane...</td>\n",
       "      <td>1.0</td>\n",
       "      <td>1.0</td>\n",
       "    </tr>\n",
       "    <tr>\n",
       "      <th>18</th>\n",
       "      <td>5.0</td>\n",
       "      <td>18.0</td>\n",
       "      <td>1.0</td>\n",
       "      <td>5.0</td>\n",
       "      <td>0.0</td>\n",
       "      <td>['hemoglobin', 'mcv', 'tibc', 'ferritin', 'Ane...</td>\n",
       "      <td>1.0</td>\n",
       "      <td>1.0</td>\n",
       "    </tr>\n",
       "    <tr>\n",
       "      <th>20</th>\n",
       "      <td>5.0</td>\n",
       "      <td>20.0</td>\n",
       "      <td>1.0</td>\n",
       "      <td>5.0</td>\n",
       "      <td>0.0</td>\n",
       "      <td>['hemoglobin', 'mcv', 'tibc', 'ferritin', 'Ane...</td>\n",
       "      <td>1.0</td>\n",
       "      <td>1.0</td>\n",
       "    </tr>\n",
       "  </tbody>\n",
       "</table>\n",
       "</div>"
      ],
      "text/plain": [
       "    episode_length  index  is_success  reward  terminated  \\\n",
       "1              5.0    1.0         1.0     5.0         0.0   \n",
       "11             5.0   11.0         1.0     5.0         0.0   \n",
       "15             5.0   15.0         1.0     5.0         0.0   \n",
       "18             5.0   18.0         1.0     5.0         0.0   \n",
       "20             5.0   20.0         1.0     5.0         0.0   \n",
       "\n",
       "                                           trajectory  y_actual  y_pred  \n",
       "1   ['hemoglobin', 'mcv', 'tibc', 'ferritin', 'Ane...       1.0     1.0  \n",
       "11  ['hemoglobin', 'mcv', 'tibc', 'ferritin', 'Ane...       1.0     1.0  \n",
       "15  ['hemoglobin', 'mcv', 'tibc', 'ferritin', 'Ane...       1.0     1.0  \n",
       "18  ['hemoglobin', 'mcv', 'tibc', 'ferritin', 'Ane...       1.0     1.0  \n",
       "20  ['hemoglobin', 'mcv', 'tibc', 'ferritin', 'Ane...       1.0     1.0  "
      ]
     },
     "execution_count": 34,
     "metadata": {},
     "output_type": "execute_result"
    }
   ],
   "source": [
    "acd_num = 1\n",
    "acd_df = test_df[test_df.y_pred == acd_num]\n",
    "acd_df.head()"
   ]
  },
  {
   "cell_type": "code",
   "execution_count": 35,
   "id": "efabd02a",
   "metadata": {},
   "outputs": [
    {
     "data": {
      "image/png": "[encoded data removed]",
      "text/plain": [
       "<Figure size 432x288 with 1 Axes>"
      ]
     },
     "metadata": {},
     "output_type": "display_data"
    }
   ],
   "source": [
    "acd_mcv_distribution = get_distribution(acd_df, 'mcv')"
   ]
  },
  {
   "cell_type": "markdown",
   "id": "5965feb1",
   "metadata": {},
   "source": [
    "#### terminated episodes"
   ]
  },
  {
   "cell_type": "code",
   "execution_count": 84,
   "id": "b00c68ad",
   "metadata": {},
   "outputs": [
    {
     "data": {
      "text/html": [
       "<div>\n",
       "<style scoped>\n",
       "    .dataframe tbody tr th:only-of-type {\n",
       "        vertical-align: middle;\n",
       "    }\n",
       "\n",
       "    .dataframe tbody tr th {\n",
       "        vertical-align: top;\n",
       "    }\n",
       "\n",
       "    .dataframe thead th {\n",
       "        text-align: right;\n",
       "    }\n",
       "</style>\n",
       "<table border=\"1\" class=\"dataframe\">\n",
       "  <thead>\n",
       "    <tr style=\"text-align: right;\">\n",
       "      <th></th>\n",
       "      <th>episode_length</th>\n",
       "      <th>index</th>\n",
       "      <th>is_success</th>\n",
       "      <th>reward</th>\n",
       "      <th>terminated</th>\n",
       "      <th>trajectory</th>\n",
       "      <th>y_actual</th>\n",
       "      <th>y_pred</th>\n",
       "    </tr>\n",
       "  </thead>\n",
       "  <tbody>\n",
       "    <tr>\n",
       "      <th>30</th>\n",
       "      <td>8.0</td>\n",
       "      <td>30.0</td>\n",
       "      <td>0.0</td>\n",
       "      <td>-2.0</td>\n",
       "      <td>1.0</td>\n",
       "      <td>['hemoglobin', 'mcv', 'segmented_neutrophils',...</td>\n",
       "      <td>1.0</td>\n",
       "      <td>NaN</td>\n",
       "    </tr>\n",
       "    <tr>\n",
       "      <th>81</th>\n",
       "      <td>8.0</td>\n",
       "      <td>81.0</td>\n",
       "      <td>0.0</td>\n",
       "      <td>0.0</td>\n",
       "      <td>1.0</td>\n",
       "      <td>['hemoglobin', 'mcv', 'ferritin', 'ret_count',...</td>\n",
       "      <td>3.0</td>\n",
       "      <td>NaN</td>\n",
       "    </tr>\n",
       "    <tr>\n",
       "      <th>92</th>\n",
       "      <td>8.0</td>\n",
       "      <td>92.0</td>\n",
       "      <td>0.0</td>\n",
       "      <td>-2.0</td>\n",
       "      <td>1.0</td>\n",
       "      <td>['hemoglobin', 'mcv', 'ret_count', 'ret_count'...</td>\n",
       "      <td>5.0</td>\n",
       "      <td>NaN</td>\n",
       "    </tr>\n",
       "    <tr>\n",
       "      <th>183</th>\n",
       "      <td>8.0</td>\n",
       "      <td>183.0</td>\n",
       "      <td>0.0</td>\n",
       "      <td>-2.0</td>\n",
       "      <td>1.0</td>\n",
       "      <td>['hemoglobin', 'mcv', 'ret_count', 'ret_count'...</td>\n",
       "      <td>5.0</td>\n",
       "      <td>NaN</td>\n",
       "    </tr>\n",
       "    <tr>\n",
       "      <th>191</th>\n",
       "      <td>8.0</td>\n",
       "      <td>191.0</td>\n",
       "      <td>0.0</td>\n",
       "      <td>0.0</td>\n",
       "      <td>1.0</td>\n",
       "      <td>['hemoglobin', 'mcv', 'ferritin', 'ret_count',...</td>\n",
       "      <td>3.0</td>\n",
       "      <td>NaN</td>\n",
       "    </tr>\n",
       "  </tbody>\n",
       "</table>\n",
       "</div>"
      ],
      "text/plain": [
       "     episode_length  index  is_success  reward  terminated  \\\n",
       "30              8.0   30.0         0.0    -2.0         1.0   \n",
       "81              8.0   81.0         0.0     0.0         1.0   \n",
       "92              8.0   92.0         0.0    -2.0         1.0   \n",
       "183             8.0  183.0         0.0    -2.0         1.0   \n",
       "191             8.0  191.0         0.0     0.0         1.0   \n",
       "\n",
       "                                            trajectory  y_actual  y_pred  \n",
       "30   ['hemoglobin', 'mcv', 'segmented_neutrophils',...       1.0     NaN  \n",
       "81   ['hemoglobin', 'mcv', 'ferritin', 'ret_count',...       3.0     NaN  \n",
       "92   ['hemoglobin', 'mcv', 'ret_count', 'ret_count'...       5.0     NaN  \n",
       "183  ['hemoglobin', 'mcv', 'ret_count', 'ret_count'...       5.0     NaN  \n",
       "191  ['hemoglobin', 'mcv', 'ferritin', 'ret_count',...       3.0     NaN  "
      ]
     },
     "execution_count": 84,
     "metadata": {},
     "output_type": "execute_result"
    }
   ],
   "source": [
    "terminated_df = test_df[test_df.y_pred.isna()]\n",
    "terminated_df.head()"
   ]
  },
  {
   "cell_type": "code",
   "execution_count": 85,
   "id": "387ca275",
   "metadata": {},
   "outputs": [
    {
     "data": {
      "image/png": "[encoded data removed]",
      "text/plain": [
       "<Figure size 432x288 with 1 Axes>"
      ]
     },
     "metadata": {},
     "output_type": "display_data"
    }
   ],
   "source": [
    "terminated_mcv_distribution = get_distribution(terminated_df, 'hemoglobin')"
   ]
  },
  {
   "cell_type": "code",
   "execution_count": 86,
   "id": "cfb72662",
   "metadata": {},
   "outputs": [
    {
     "data": {
      "image/png": "[encoded data removed]",
      "text/plain": [
       "<Figure size 432x288 with 1 Axes>"
      ]
     },
     "metadata": {},
     "output_type": "display_data"
    }
   ],
   "source": [
    "terminated_ret_distribution = get_distribution(terminated_df, 'mcv')"
   ]
  },
  {
   "cell_type": "code",
   "execution_count": 87,
   "id": "451f6950",
   "metadata": {},
   "outputs": [
    {
     "data": {
      "image/png": "[encoded data removed]",
      "text/plain": [
       "<Figure size 432x288 with 1 Axes>"
      ]
     },
     "metadata": {},
     "output_type": "display_data"
    }
   ],
   "source": [
    "terminated_ret_distribution = get_distribution(terminated_df, 'ret_count')"
   ]
  },
  {
   "cell_type": "code",
   "execution_count": 88,
   "id": "2a6ac9be",
   "metadata": {},
   "outputs": [
    {
     "data": {
      "image/png": "[encoded data removed]",
      "text/plain": [
       "<Figure size 432x288 with 1 Axes>"
      ]
     },
     "metadata": {},
     "output_type": "display_data"
    }
   ],
   "source": [
    "terminated_ret_distribution = get_distribution(terminated_df, 'segmented_neutrophils')"
   ]
  },
  {
   "cell_type": "code",
   "execution_count": 89,
   "id": "b548a83d",
   "metadata": {},
   "outputs": [
    {
     "data": {
      "image/png": "[encoded data removed]",
      "text/plain": [
       "<Figure size 432x288 with 1 Axes>"
      ]
     },
     "metadata": {},
     "output_type": "display_data"
    }
   ],
   "source": [
    "terminated_ferritin_distribution = get_distribution(terminated_df, 'ferritin')"
   ]
  },
  {
   "cell_type": "code",
   "execution_count": 90,
   "id": "a7a33eb7",
   "metadata": {},
   "outputs": [
    {
     "data": {
      "image/png": "[encoded data removed]",
      "text/plain": [
       "<Figure size 432x288 with 1 Axes>"
      ]
     },
     "metadata": {},
     "output_type": "display_data"
    }
   ],
   "source": [
    "terminated_ferritin_distribution = get_distribution(terminated_df, 'tibc')"
   ]
  },
  {
   "cell_type": "code",
   "execution_count": null,
   "id": "879e5d55",
   "metadata": {},
   "outputs": [],
   "source": []
  }
 ],
 "metadata": {
  "kernelspec": {
   "display_name": "Python 3 (ipykernel)",
   "language": "python",
   "name": "python3"
  },
  "language_info": {
   "codemirror_mode": {
    "name": "ipython",
    "version": 3
   },
   "file_extension": ".py",
   "mimetype": "text/x-python",
   "name": "python",
   "nbconvert_exporter": "python",
   "pygments_lexer": "ipython3",
   "version": "3.7.4"
  }
 },
 "nbformat": 4,
 "nbformat_minor": 5
}

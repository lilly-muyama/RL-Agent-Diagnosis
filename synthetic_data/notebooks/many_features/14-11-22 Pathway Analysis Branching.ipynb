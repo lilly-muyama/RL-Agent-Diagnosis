{
 "cells": [
  {
   "cell_type": "code",
   "execution_count": 29,
   "id": "9d1bfa4d",
   "metadata": {},
   "outputs": [],
   "source": [
    "import pandas as pd\n",
    "import numpy as np\n",
    "import ast\n",
    "import os\n",
    "import random\n",
    "import seaborn as sns\n",
    "from sklearn.model_selection import train_test_split\n",
    "import sys\n",
    "sys.path.append('../..')\n",
    "from modules.many_features import utils, constants\n",
    "import matplotlib.pyplot as plt\n",
    "%matplotlib inline"
   ]
  },
  {
   "cell_type": "code",
   "execution_count": 30,
   "id": "624f333b",
   "metadata": {},
   "outputs": [],
   "source": [
    "SEED = 147\n",
    "random.seed(SEED)\n",
    "np.random.seed(SEED)\n",
    "os.environ['PYTHONHASHSEED']=str(SEED)"
   ]
  },
  {
   "cell_type": "markdown",
   "id": "16da2a47",
   "metadata": {},
   "source": [
    "#### X_test"
   ]
  },
  {
   "cell_type": "code",
   "execution_count": 31,
   "id": "ad6abaf7",
   "metadata": {},
   "outputs": [
    {
     "data": {
      "text/plain": [
       "((14000, 17), (14000,))"
      ]
     },
     "execution_count": 31,
     "metadata": {},
     "output_type": "execute_result"
    }
   ],
   "source": [
    "# test_set = pd.read_csv('../../data/more_features/train_sets/test_set_constant.csv')\n",
    "test_set = pd.read_csv('../../../anemia_ml4hc/data/test_set_constant.csv')\n",
    "X_test = test_set.iloc[:, 0:-1]\n",
    "y_test = test_set.iloc[:, -1]\n",
    "X_test, y_test = np.array(X_test), np.array(y_test)\n",
    "X_test.shape, y_test.shape"
   ]
  },
  {
   "cell_type": "code",
   "execution_count": 32,
   "id": "56875e39",
   "metadata": {},
   "outputs": [],
   "source": [
    "# df['label'] = df['label'].replace(class_dict)\n",
    "# X = df.iloc[:, 0:-1]\n",
    "# y = df.iloc[:, -1]\n",
    "\n",
    "# X_train, X_test, y_train, y_test = train_test_split(X, y, test_size=0.2, stratify=y, random_state=SEED)\n",
    "# test_set = pd.concat([X_test, y_test], axis=1).reset_index(drop=True)\n",
    "# # X_train, y_train = np.array(X_train), np.array(y_train)\n",
    "# # X_test, y_test = np.array(X_test), np.array(y_test)\n",
    "# test_set.shape"
   ]
  },
  {
   "cell_type": "code",
   "execution_count": 33,
   "id": "b7a91ed3",
   "metadata": {},
   "outputs": [
    {
     "data": {
      "text/html": [
       "<div>\n",
       "<style scoped>\n",
       "    .dataframe tbody tr th:only-of-type {\n",
       "        vertical-align: middle;\n",
       "    }\n",
       "\n",
       "    .dataframe tbody tr th {\n",
       "        vertical-align: top;\n",
       "    }\n",
       "\n",
       "    .dataframe thead th {\n",
       "        text-align: right;\n",
       "    }\n",
       "</style>\n",
       "<table border=\"1\" class=\"dataframe\">\n",
       "  <thead>\n",
       "    <tr style=\"text-align: right;\">\n",
       "      <th></th>\n",
       "      <th>hemoglobin</th>\n",
       "      <th>ferritin</th>\n",
       "      <th>ret_count</th>\n",
       "      <th>segmented_neutrophils</th>\n",
       "      <th>tibc</th>\n",
       "      <th>mcv</th>\n",
       "      <th>serum_iron</th>\n",
       "      <th>rbc</th>\n",
       "      <th>gender</th>\n",
       "      <th>creatinine</th>\n",
       "      <th>cholestrol</th>\n",
       "      <th>copper</th>\n",
       "      <th>ethanol</th>\n",
       "      <th>folate</th>\n",
       "      <th>glucose</th>\n",
       "      <th>hematocrit</th>\n",
       "      <th>tsat</th>\n",
       "      <th>label</th>\n",
       "    </tr>\n",
       "  </thead>\n",
       "  <tbody>\n",
       "    <tr>\n",
       "      <th>0</th>\n",
       "      <td>7.116363</td>\n",
       "      <td>-1.000000</td>\n",
       "      <td>3.781573</td>\n",
       "      <td>2.738413</td>\n",
       "      <td>-1.000000</td>\n",
       "      <td>95.904198</td>\n",
       "      <td>68.457895</td>\n",
       "      <td>2.226085</td>\n",
       "      <td>0</td>\n",
       "      <td>1.892912</td>\n",
       "      <td>39.808550</td>\n",
       "      <td>110.329197</td>\n",
       "      <td>64.404350</td>\n",
       "      <td>21.654404</td>\n",
       "      <td>73.787009</td>\n",
       "      <td>21.349089</td>\n",
       "      <td>-1.000000</td>\n",
       "      <td>5</td>\n",
       "    </tr>\n",
       "    <tr>\n",
       "      <th>1</th>\n",
       "      <td>8.125320</td>\n",
       "      <td>92.230003</td>\n",
       "      <td>4.231419</td>\n",
       "      <td>1.188039</td>\n",
       "      <td>143.365567</td>\n",
       "      <td>104.057204</td>\n",
       "      <td>204.747831</td>\n",
       "      <td>2.342554</td>\n",
       "      <td>0</td>\n",
       "      <td>0.652614</td>\n",
       "      <td>13.478089</td>\n",
       "      <td>-1.000000</td>\n",
       "      <td>32.705481</td>\n",
       "      <td>-1.000000</td>\n",
       "      <td>43.520272</td>\n",
       "      <td>24.375961</td>\n",
       "      <td>142.815207</td>\n",
       "      <td>1</td>\n",
       "    </tr>\n",
       "    <tr>\n",
       "      <th>2</th>\n",
       "      <td>11.309450</td>\n",
       "      <td>38.324563</td>\n",
       "      <td>-1.000000</td>\n",
       "      <td>-1.000000</td>\n",
       "      <td>455.077909</td>\n",
       "      <td>76.402602</td>\n",
       "      <td>-1.000000</td>\n",
       "      <td>4.440732</td>\n",
       "      <td>0</td>\n",
       "      <td>-1.000000</td>\n",
       "      <td>-1.000000</td>\n",
       "      <td>-1.000000</td>\n",
       "      <td>-1.000000</td>\n",
       "      <td>-1.000000</td>\n",
       "      <td>-1.000000</td>\n",
       "      <td>33.928350</td>\n",
       "      <td>-1.000000</td>\n",
       "      <td>4</td>\n",
       "    </tr>\n",
       "    <tr>\n",
       "      <th>3</th>\n",
       "      <td>13.763858</td>\n",
       "      <td>253.513394</td>\n",
       "      <td>2.262606</td>\n",
       "      <td>0.551444</td>\n",
       "      <td>453.772884</td>\n",
       "      <td>82.781943</td>\n",
       "      <td>90.101466</td>\n",
       "      <td>4.987993</td>\n",
       "      <td>0</td>\n",
       "      <td>0.853521</td>\n",
       "      <td>104.005514</td>\n",
       "      <td>34.639227</td>\n",
       "      <td>0.963866</td>\n",
       "      <td>22.083012</td>\n",
       "      <td>88.891838</td>\n",
       "      <td>41.291574</td>\n",
       "      <td>19.856071</td>\n",
       "      <td>0</td>\n",
       "    </tr>\n",
       "    <tr>\n",
       "      <th>4</th>\n",
       "      <td>11.464002</td>\n",
       "      <td>-1.000000</td>\n",
       "      <td>-1.000000</td>\n",
       "      <td>-1.000000</td>\n",
       "      <td>320.964653</td>\n",
       "      <td>104.287127</td>\n",
       "      <td>-1.000000</td>\n",
       "      <td>3.297819</td>\n",
       "      <td>0</td>\n",
       "      <td>1.163516</td>\n",
       "      <td>121.616315</td>\n",
       "      <td>105.895897</td>\n",
       "      <td>-1.000000</td>\n",
       "      <td>9.337462</td>\n",
       "      <td>-1.000000</td>\n",
       "      <td>34.392007</td>\n",
       "      <td>-1.000000</td>\n",
       "      <td>7</td>\n",
       "    </tr>\n",
       "  </tbody>\n",
       "</table>\n",
       "</div>"
      ],
      "text/plain": [
       "   hemoglobin    ferritin  ret_count  segmented_neutrophils        tibc  \\\n",
       "0    7.116363   -1.000000   3.781573               2.738413   -1.000000   \n",
       "1    8.125320   92.230003   4.231419               1.188039  143.365567   \n",
       "2   11.309450   38.324563  -1.000000              -1.000000  455.077909   \n",
       "3   13.763858  253.513394   2.262606               0.551444  453.772884   \n",
       "4   11.464002   -1.000000  -1.000000              -1.000000  320.964653   \n",
       "\n",
       "          mcv  serum_iron       rbc  gender  creatinine  cholestrol  \\\n",
       "0   95.904198   68.457895  2.226085       0    1.892912   39.808550   \n",
       "1  104.057204  204.747831  2.342554       0    0.652614   13.478089   \n",
       "2   76.402602   -1.000000  4.440732       0   -1.000000   -1.000000   \n",
       "3   82.781943   90.101466  4.987993       0    0.853521  104.005514   \n",
       "4  104.287127   -1.000000  3.297819       0    1.163516  121.616315   \n",
       "\n",
       "       copper    ethanol     folate    glucose  hematocrit        tsat  label  \n",
       "0  110.329197  64.404350  21.654404  73.787009   21.349089   -1.000000      5  \n",
       "1   -1.000000  32.705481  -1.000000  43.520272   24.375961  142.815207      1  \n",
       "2   -1.000000  -1.000000  -1.000000  -1.000000   33.928350   -1.000000      4  \n",
       "3   34.639227   0.963866  22.083012  88.891838   41.291574   19.856071      0  \n",
       "4  105.895897  -1.000000   9.337462  -1.000000   34.392007   -1.000000      7  "
      ]
     },
     "execution_count": 33,
     "metadata": {},
     "output_type": "execute_result"
    }
   ],
   "source": [
    "test_set.head()"
   ]
  },
  {
   "cell_type": "markdown",
   "id": "a90ca185",
   "metadata": {},
   "source": [
    "#### test_df"
   ]
  },
  {
   "cell_type": "code",
   "execution_count": 34,
   "id": "b5557107",
   "metadata": {},
   "outputs": [
    {
     "data": {
      "text/html": [
       "<div>\n",
       "<style scoped>\n",
       "    .dataframe tbody tr th:only-of-type {\n",
       "        vertical-align: middle;\n",
       "    }\n",
       "\n",
       "    .dataframe tbody tr th {\n",
       "        vertical-align: top;\n",
       "    }\n",
       "\n",
       "    .dataframe thead th {\n",
       "        text-align: right;\n",
       "    }\n",
       "</style>\n",
       "<table border=\"1\" class=\"dataframe\">\n",
       "  <thead>\n",
       "    <tr style=\"text-align: right;\">\n",
       "      <th></th>\n",
       "      <th>index</th>\n",
       "      <th>episode_length</th>\n",
       "      <th>reward</th>\n",
       "      <th>y_pred</th>\n",
       "      <th>y_actual</th>\n",
       "      <th>trajectory</th>\n",
       "      <th>terminated</th>\n",
       "      <th>is_success</th>\n",
       "    </tr>\n",
       "  </thead>\n",
       "  <tbody>\n",
       "    <tr>\n",
       "      <th>0</th>\n",
       "      <td>0.0</td>\n",
       "      <td>4.0</td>\n",
       "      <td>1.0</td>\n",
       "      <td>5.0</td>\n",
       "      <td>5.0</td>\n",
       "      <td>['hemoglobin', 'rbc', 'ret_count', 'Hemolytic ...</td>\n",
       "      <td>0.0</td>\n",
       "      <td>1.0</td>\n",
       "    </tr>\n",
       "    <tr>\n",
       "      <th>1</th>\n",
       "      <td>1.0</td>\n",
       "      <td>4.0</td>\n",
       "      <td>1.0</td>\n",
       "      <td>1.0</td>\n",
       "      <td>1.0</td>\n",
       "      <td>['hemoglobin', 'rbc', 'segmented_neutrophils',...</td>\n",
       "      <td>0.0</td>\n",
       "      <td>1.0</td>\n",
       "    </tr>\n",
       "    <tr>\n",
       "      <th>2</th>\n",
       "      <td>2.0</td>\n",
       "      <td>6.0</td>\n",
       "      <td>1.0</td>\n",
       "      <td>4.0</td>\n",
       "      <td>4.0</td>\n",
       "      <td>['hemoglobin', 'gender', 'rbc', 'ferritin', 't...</td>\n",
       "      <td>0.0</td>\n",
       "      <td>1.0</td>\n",
       "    </tr>\n",
       "    <tr>\n",
       "      <th>3</th>\n",
       "      <td>3.0</td>\n",
       "      <td>2.0</td>\n",
       "      <td>1.0</td>\n",
       "      <td>0.0</td>\n",
       "      <td>0.0</td>\n",
       "      <td>['hemoglobin', 'No anemia']</td>\n",
       "      <td>0.0</td>\n",
       "      <td>1.0</td>\n",
       "    </tr>\n",
       "    <tr>\n",
       "      <th>4</th>\n",
       "      <td>4.0</td>\n",
       "      <td>5.0</td>\n",
       "      <td>-1.0</td>\n",
       "      <td>7.0</td>\n",
       "      <td>7.0</td>\n",
       "      <td>['hemoglobin', 'gender', 'rbc', 'segmented_neu...</td>\n",
       "      <td>1.0</td>\n",
       "      <td>1.0</td>\n",
       "    </tr>\n",
       "  </tbody>\n",
       "</table>\n",
       "</div>"
      ],
      "text/plain": [
       "   index  episode_length  reward  y_pred  y_actual  \\\n",
       "0    0.0             4.0     1.0     5.0       5.0   \n",
       "1    1.0             4.0     1.0     1.0       1.0   \n",
       "2    2.0             6.0     1.0     4.0       4.0   \n",
       "3    3.0             2.0     1.0     0.0       0.0   \n",
       "4    4.0             5.0    -1.0     7.0       7.0   \n",
       "\n",
       "                                          trajectory  terminated  is_success  \n",
       "0  ['hemoglobin', 'rbc', 'ret_count', 'Hemolytic ...         0.0         1.0  \n",
       "1  ['hemoglobin', 'rbc', 'segmented_neutrophils',...         0.0         1.0  \n",
       "2  ['hemoglobin', 'gender', 'rbc', 'ferritin', 't...         0.0         1.0  \n",
       "3                        ['hemoglobin', 'No anemia']         0.0         1.0  \n",
       "4  ['hemoglobin', 'gender', 'rbc', 'segmented_neu...         1.0         1.0  "
      ]
     },
     "execution_count": 34,
     "metadata": {},
     "output_type": "execute_result"
    }
   ],
   "source": [
    "# test_df =pd.read_csv('../../test_dfs/many_features/0.1/correlated/constant_test_set/test_df_noisy6_17000000.csv')\n",
    "test_df = pd.read_csv('../../../anemia_ml4hc/test_dfs/dueling_dqn_pr_test_df_seed_147_10000000.csv')\n",
    "test_df.head()"
   ]
  },
  {
   "cell_type": "code",
   "execution_count": 35,
   "id": "741eb35d",
   "metadata": {},
   "outputs": [
    {
     "data": {
      "text/plain": [
       "(97.20714285714286, 97.09763295502441, 98.42156225103214)"
      ]
     },
     "execution_count": 35,
     "metadata": {},
     "output_type": "execute_result"
    }
   ],
   "source": [
    "utils.test(test_df.y_actual, test_df.y_pred)"
   ]
  },
  {
   "cell_type": "code",
   "execution_count": 36,
   "id": "ebf3348e",
   "metadata": {},
   "outputs": [
    {
     "data": {
      "text/plain": [
       "array([5, 1, 4, 0, 7, 2, 3, 6])"
      ]
     },
     "execution_count": 36,
     "metadata": {},
     "output_type": "execute_result"
    }
   ],
   "source": [
    "test_set.label.unique()"
   ]
  },
  {
   "cell_type": "code",
   "execution_count": 37,
   "id": "17631ef1",
   "metadata": {},
   "outputs": [
    {
     "data": {
      "text/plain": [
       "14000"
      ]
     },
     "execution_count": 37,
     "metadata": {},
     "output_type": "execute_result"
    }
   ],
   "source": [
    "len(test_df)"
   ]
  },
  {
   "cell_type": "code",
   "execution_count": 38,
   "id": "c139517d",
   "metadata": {},
   "outputs": [
    {
     "data": {
      "text/plain": [
       "0.0    1968\n",
       "1.0    1965\n",
       "2.0    1795\n",
       "3.0    1771\n",
       "6.0    1705\n",
       "5.0    1673\n",
       "4.0    1634\n",
       "7.0    1489\n",
       "Name: y_pred, dtype: int64"
      ]
     },
     "execution_count": 38,
     "metadata": {},
     "output_type": "execute_result"
    }
   ],
   "source": [
    "test_df.y_pred.value_counts()"
   ]
  },
  {
   "cell_type": "code",
   "execution_count": 39,
   "id": "e3568083",
   "metadata": {},
   "outputs": [],
   "source": [
    "def get_idx_df(target_df, idx_list):\n",
    "    idx_df = target_df.iloc[idx_list]\n",
    "    return idx_df"
   ]
  },
  {
   "cell_type": "code",
   "execution_count": 40,
   "id": "b91b6688",
   "metadata": {},
   "outputs": [],
   "source": [
    "def get_distribution(df, feat): #df = anemia_test_df feat = where branching happens and whose value distribution we desire\n",
    "    feat_dict = get_indices(df, feat)\n",
    "    next_feat_df_dict = {}\n",
    "    for i, next_feat in enumerate(list(feat_dict.keys())):\n",
    "        next_feat_df = get_idx_df(test_set, feat_dict[next_feat])\n",
    "        next_feat_df_dict[next_feat] = next_feat_df[feat]\n",
    "    combined_df = pd.DataFrame(next_feat_df_dict)\n",
    "#     print(combined_df)\n",
    "    sns.set_style('dark')\n",
    "    gfg = sns.boxplot(data = combined_df, palette='pastel')\n",
    "    gfg.set(ylabel = feat, title = f'{feat} value distribution')\n",
    "    plt.xticks(rotation=90)\n",
    "    sns.despine()\n",
    "    plt.show()    \n",
    "    return combined_df"
   ]
  },
  {
   "cell_type": "code",
   "execution_count": 41,
   "id": "3e22cefc",
   "metadata": {},
   "outputs": [],
   "source": [
    "def get_indices(df, feat): #get indices in  df where feature is in pathway\n",
    "    idx_dict = {}\n",
    "    for i, row in df.iterrows():\n",
    "        pathway = ast.literal_eval(row['trajectory'])\n",
    "        if feat in pathway:\n",
    "            feat_idx = pathway.index(feat)\n",
    "            next_element = pathway[feat_idx+1]\n",
    "            if next_element not in list(idx_dict.keys()):\n",
    "                idx_dict[next_element] = [row.name]\n",
    "            else:\n",
    "                idx_dict[next_element].append(row.name)\n",
    "    return idx_dict"
   ]
  },
  {
   "cell_type": "markdown",
   "id": "2a9a8222",
   "metadata": {},
   "source": [
    "#### delete from here"
   ]
  },
  {
   "cell_type": "code",
   "execution_count": null,
   "id": "16bd472e",
   "metadata": {},
   "outputs": [],
   "source": [
    "terminated_df = test_df[test_df.y_pred.isna()]"
   ]
  },
  {
   "cell_type": "code",
   "execution_count": null,
   "id": "7e1f36d3",
   "metadata": {},
   "outputs": [],
   "source": [
    "idx_dict = {}\n",
    "feat = 'mcv'\n",
    "count = 0\n",
    "for i, row in terminated_df.iterrows():\n",
    "    pathway = ast.literal_eval(row['trajectory'])\n",
    "    if feat in pathway:\n",
    "        feat_idx = pathway.index(feat)\n",
    "        next_element = pathway[feat_idx+1]\n",
    "        if next_element == feat:\n",
    "            count+=1\n",
    "count"
   ]
  },
  {
   "cell_type": "code",
   "execution_count": null,
   "id": "4c7593af",
   "metadata": {},
   "outputs": [],
   "source": []
  },
  {
   "cell_type": "code",
   "execution_count": null,
   "id": "eb9a336c",
   "metadata": {},
   "outputs": [],
   "source": []
  },
  {
   "cell_type": "code",
   "execution_count": null,
   "id": "cc96e0fd",
   "metadata": {},
   "outputs": [],
   "source": []
  },
  {
   "cell_type": "code",
   "execution_count": null,
   "id": "ed8eb316",
   "metadata": {},
   "outputs": [],
   "source": [
    "feat_dict = get_indices(terminated_df, 'ret_count')\n",
    "feat_dict.keys()"
   ]
  },
  {
   "cell_type": "code",
   "execution_count": null,
   "id": "a3a1db2c",
   "metadata": {},
   "outputs": [],
   "source": [
    "len(feat_dict['mcv'])"
   ]
  },
  {
   "cell_type": "code",
   "execution_count": null,
   "id": "6bb6ef03",
   "metadata": {},
   "outputs": [],
   "source": []
  },
  {
   "cell_type": "code",
   "execution_count": null,
   "id": "532f9da4",
   "metadata": {},
   "outputs": [],
   "source": []
  },
  {
   "cell_type": "markdown",
   "id": "dbe0b352",
   "metadata": {},
   "source": [
    "#### end here"
   ]
  },
  {
   "cell_type": "markdown",
   "id": "037fa4d7",
   "metadata": {},
   "source": [
    "#### 0 - No anemia - predicted as"
   ]
  },
  {
   "cell_type": "code",
   "execution_count": 42,
   "id": "3a28dcb5",
   "metadata": {},
   "outputs": [
    {
     "data": {
      "text/html": [
       "<div>\n",
       "<style scoped>\n",
       "    .dataframe tbody tr th:only-of-type {\n",
       "        vertical-align: middle;\n",
       "    }\n",
       "\n",
       "    .dataframe tbody tr th {\n",
       "        vertical-align: top;\n",
       "    }\n",
       "\n",
       "    .dataframe thead th {\n",
       "        text-align: right;\n",
       "    }\n",
       "</style>\n",
       "<table border=\"1\" class=\"dataframe\">\n",
       "  <thead>\n",
       "    <tr style=\"text-align: right;\">\n",
       "      <th></th>\n",
       "      <th>index</th>\n",
       "      <th>episode_length</th>\n",
       "      <th>reward</th>\n",
       "      <th>y_pred</th>\n",
       "      <th>y_actual</th>\n",
       "      <th>trajectory</th>\n",
       "      <th>terminated</th>\n",
       "      <th>is_success</th>\n",
       "    </tr>\n",
       "  </thead>\n",
       "  <tbody>\n",
       "    <tr>\n",
       "      <th>3</th>\n",
       "      <td>3.0</td>\n",
       "      <td>2.0</td>\n",
       "      <td>1.0</td>\n",
       "      <td>0.0</td>\n",
       "      <td>0.0</td>\n",
       "      <td>['hemoglobin', 'No anemia']</td>\n",
       "      <td>0.0</td>\n",
       "      <td>1.0</td>\n",
       "    </tr>\n",
       "    <tr>\n",
       "      <th>9</th>\n",
       "      <td>9.0</td>\n",
       "      <td>3.0</td>\n",
       "      <td>1.0</td>\n",
       "      <td>0.0</td>\n",
       "      <td>0.0</td>\n",
       "      <td>['hemoglobin', 'gender', 'No anemia']</td>\n",
       "      <td>0.0</td>\n",
       "      <td>1.0</td>\n",
       "    </tr>\n",
       "    <tr>\n",
       "      <th>17</th>\n",
       "      <td>17.0</td>\n",
       "      <td>2.0</td>\n",
       "      <td>1.0</td>\n",
       "      <td>0.0</td>\n",
       "      <td>0.0</td>\n",
       "      <td>['hemoglobin', 'No anemia']</td>\n",
       "      <td>0.0</td>\n",
       "      <td>1.0</td>\n",
       "    </tr>\n",
       "    <tr>\n",
       "      <th>21</th>\n",
       "      <td>21.0</td>\n",
       "      <td>2.0</td>\n",
       "      <td>1.0</td>\n",
       "      <td>0.0</td>\n",
       "      <td>0.0</td>\n",
       "      <td>['hemoglobin', 'No anemia']</td>\n",
       "      <td>0.0</td>\n",
       "      <td>1.0</td>\n",
       "    </tr>\n",
       "    <tr>\n",
       "      <th>32</th>\n",
       "      <td>32.0</td>\n",
       "      <td>2.0</td>\n",
       "      <td>1.0</td>\n",
       "      <td>0.0</td>\n",
       "      <td>0.0</td>\n",
       "      <td>['hemoglobin', 'No anemia']</td>\n",
       "      <td>0.0</td>\n",
       "      <td>1.0</td>\n",
       "    </tr>\n",
       "  </tbody>\n",
       "</table>\n",
       "</div>"
      ],
      "text/plain": [
       "    index  episode_length  reward  y_pred  y_actual  \\\n",
       "3     3.0             2.0     1.0     0.0       0.0   \n",
       "9     9.0             3.0     1.0     0.0       0.0   \n",
       "17   17.0             2.0     1.0     0.0       0.0   \n",
       "21   21.0             2.0     1.0     0.0       0.0   \n",
       "32   32.0             2.0     1.0     0.0       0.0   \n",
       "\n",
       "                               trajectory  terminated  is_success  \n",
       "3             ['hemoglobin', 'No anemia']         0.0         1.0  \n",
       "9   ['hemoglobin', 'gender', 'No anemia']         0.0         1.0  \n",
       "17            ['hemoglobin', 'No anemia']         0.0         1.0  \n",
       "21            ['hemoglobin', 'No anemia']         0.0         1.0  \n",
       "32            ['hemoglobin', 'No anemia']         0.0         1.0  "
      ]
     },
     "execution_count": 42,
     "metadata": {},
     "output_type": "execute_result"
    }
   ],
   "source": [
    "no_num = 0\n",
    "no_df = test_df[test_df.y_pred == no_num]\n",
    "no_df.head()"
   ]
  },
  {
   "cell_type": "code",
   "execution_count": 44,
   "id": "bf537dbb",
   "metadata": {},
   "outputs": [
    {
     "data": {
      "image/png": "[encoded data removed]",
      "text/plain": [
       "<Figure size 640x480 with 1 Axes>"
      ]
     },
     "metadata": {},
     "output_type": "display_data"
    }
   ],
   "source": [
    "no_hb_distribution = get_distribution(no_df, 'gender')"
   ]
  },
  {
   "cell_type": "code",
   "execution_count": null,
   "id": "e4a7b7af",
   "metadata": {},
   "outputs": [],
   "source": [
    "#no_mcv_distribution = get_distribution(no_df, 'mcv')"
   ]
  },
  {
   "cell_type": "code",
   "execution_count": null,
   "id": "a8fca692",
   "metadata": {},
   "outputs": [],
   "source": [
    "#hemolytic_ferritin_distribution = get_distribution(hemolytic_df, 'ferritin')"
   ]
  },
  {
   "cell_type": "markdown",
   "id": "bddc5be4",
   "metadata": {},
   "source": [
    "#### 1 - Vitamin B12/Folate deficiency anemia"
   ]
  },
  {
   "cell_type": "code",
   "execution_count": null,
   "id": "231c5061",
   "metadata": {},
   "outputs": [],
   "source": [
    "vitamin_num = 1\n",
    "vitamin_df = test_df[test_df.y_pred == vitamin_num]\n",
    "vitamin_recall_df = test_df[test_df.y_actual == vitamin_num]\n",
    "vitamin_df.head()"
   ]
  },
  {
   "cell_type": "code",
   "execution_count": null,
   "id": "f3af6273",
   "metadata": {},
   "outputs": [],
   "source": [
    "vitamin_mcv_distribution = get_distribution(vitamin_df, 'rbc')"
   ]
  },
  {
   "cell_type": "markdown",
   "id": "b0cbaa09",
   "metadata": {},
   "source": [
    "#### 2 - Unspecified anemia"
   ]
  },
  {
   "cell_type": "code",
   "execution_count": null,
   "id": "54ddbeeb",
   "metadata": {},
   "outputs": [],
   "source": [
    "unspecified_num = 2\n",
    "unspecified_df = test_df[test_df.y_pred == unspecified_num]\n",
    "unspecified_df.head()"
   ]
  },
  {
   "cell_type": "code",
   "execution_count": null,
   "id": "d3b8e4fc",
   "metadata": {},
   "outputs": [],
   "source": [
    "len(unspecified_df)"
   ]
  },
  {
   "cell_type": "code",
   "execution_count": null,
   "id": "3bde5419",
   "metadata": {},
   "outputs": [],
   "source": [
    "aplastic_mcv_distribution = get_distribution(unspecified_df, 'mcv')"
   ]
  },
  {
   "cell_type": "markdown",
   "id": "785d8d22",
   "metadata": {},
   "source": [
    "#### 3 - Anemia of chronic disease"
   ]
  },
  {
   "cell_type": "code",
   "execution_count": null,
   "id": "a0c46469",
   "metadata": {},
   "outputs": [],
   "source": [
    "acd_num = 3\n",
    "acd_df = test_df[test_df.y_pred == acd_num]\n",
    "acd_df.head()"
   ]
  },
  {
   "cell_type": "code",
   "execution_count": null,
   "id": "eb516e6a",
   "metadata": {},
   "outputs": [],
   "source": [
    "acd_mcv_distribution = get_distribution(acd_df, 'ferritin') #no branching"
   ]
  },
  {
   "cell_type": "markdown",
   "id": "2c900b0b",
   "metadata": {},
   "source": [
    "#### 4 - Iron deficiency anemia"
   ]
  },
  {
   "cell_type": "code",
   "execution_count": null,
   "id": "60c1ea2e",
   "metadata": {},
   "outputs": [],
   "source": [
    "ida_num = 4\n",
    "ida_df = test_df[test_df.y_pred == ida_num]\n",
    "ida_df.head()"
   ]
  },
  {
   "cell_type": "code",
   "execution_count": null,
   "id": "f512cdc0",
   "metadata": {},
   "outputs": [],
   "source": [
    "ida_mcv_distribution = get_distribution(ida_df, 'ferritin') #no branching"
   ]
  },
  {
   "cell_type": "markdown",
   "id": "d583b879",
   "metadata": {},
   "source": [
    "#### 5 - Hemolytic anemia"
   ]
  },
  {
   "cell_type": "code",
   "execution_count": 45,
   "id": "5d07586c",
   "metadata": {},
   "outputs": [],
   "source": [
    "hemolytic_num = 5\n",
    "hemolytic_df = test_df[(test_df.y_pred==hemolytic_num)]"
   ]
  },
  {
   "cell_type": "code",
   "execution_count": 48,
   "id": "ca98587c",
   "metadata": {},
   "outputs": [
    {
     "data": {
      "image/png": "[encoded data removed]",
      "text/plain": [
       "<Figure size 640x480 with 1 Axes>"
      ]
     },
     "metadata": {},
     "output_type": "display_data"
    }
   ],
   "source": [
    "hemolytic_mcv_distribution = get_distribution(hemolytic_df, 'gender')"
   ]
  },
  {
   "cell_type": "markdown",
   "id": "87bfb534",
   "metadata": {},
   "source": [
    "#### 6 -  Aplastic anemia"
   ]
  },
  {
   "cell_type": "code",
   "execution_count": 23,
   "id": "b77d4269",
   "metadata": {},
   "outputs": [
    {
     "data": {
      "text/html": [
       "<div>\n",
       "<style scoped>\n",
       "    .dataframe tbody tr th:only-of-type {\n",
       "        vertical-align: middle;\n",
       "    }\n",
       "\n",
       "    .dataframe tbody tr th {\n",
       "        vertical-align: top;\n",
       "    }\n",
       "\n",
       "    .dataframe thead th {\n",
       "        text-align: right;\n",
       "    }\n",
       "</style>\n",
       "<table border=\"1\" class=\"dataframe\">\n",
       "  <thead>\n",
       "    <tr style=\"text-align: right;\">\n",
       "      <th></th>\n",
       "      <th>index</th>\n",
       "      <th>episode_length</th>\n",
       "      <th>reward</th>\n",
       "      <th>y_pred</th>\n",
       "      <th>y_actual</th>\n",
       "      <th>trajectory</th>\n",
       "      <th>terminated</th>\n",
       "      <th>is_success</th>\n",
       "    </tr>\n",
       "  </thead>\n",
       "  <tbody>\n",
       "    <tr>\n",
       "      <th>15</th>\n",
       "      <td>15.0</td>\n",
       "      <td>5.0</td>\n",
       "      <td>1.0</td>\n",
       "      <td>6.0</td>\n",
       "      <td>6.0</td>\n",
       "      <td>['hemoglobin', 'mcv', 'ret_count', 'rbc', 'Apl...</td>\n",
       "      <td>0.0</td>\n",
       "      <td>1.0</td>\n",
       "    </tr>\n",
       "    <tr>\n",
       "      <th>22</th>\n",
       "      <td>22.0</td>\n",
       "      <td>5.0</td>\n",
       "      <td>1.0</td>\n",
       "      <td>6.0</td>\n",
       "      <td>6.0</td>\n",
       "      <td>['hemoglobin', 'mcv', 'ret_count', 'rbc', 'Apl...</td>\n",
       "      <td>0.0</td>\n",
       "      <td>1.0</td>\n",
       "    </tr>\n",
       "    <tr>\n",
       "      <th>26</th>\n",
       "      <td>26.0</td>\n",
       "      <td>5.0</td>\n",
       "      <td>1.0</td>\n",
       "      <td>6.0</td>\n",
       "      <td>6.0</td>\n",
       "      <td>['hemoglobin', 'mcv', 'ret_count', 'rbc', 'Apl...</td>\n",
       "      <td>0.0</td>\n",
       "      <td>1.0</td>\n",
       "    </tr>\n",
       "    <tr>\n",
       "      <th>48</th>\n",
       "      <td>48.0</td>\n",
       "      <td>5.0</td>\n",
       "      <td>1.0</td>\n",
       "      <td>6.0</td>\n",
       "      <td>6.0</td>\n",
       "      <td>['hemoglobin', 'mcv', 'ret_count', 'gender', '...</td>\n",
       "      <td>0.0</td>\n",
       "      <td>1.0</td>\n",
       "    </tr>\n",
       "    <tr>\n",
       "      <th>53</th>\n",
       "      <td>53.0</td>\n",
       "      <td>5.0</td>\n",
       "      <td>1.0</td>\n",
       "      <td>6.0</td>\n",
       "      <td>6.0</td>\n",
       "      <td>['hemoglobin', 'mcv', 'ret_count', 'rbc', 'Apl...</td>\n",
       "      <td>0.0</td>\n",
       "      <td>1.0</td>\n",
       "    </tr>\n",
       "  </tbody>\n",
       "</table>\n",
       "</div>"
      ],
      "text/plain": [
       "    index  episode_length  reward  y_pred  y_actual  \\\n",
       "15   15.0             5.0     1.0     6.0       6.0   \n",
       "22   22.0             5.0     1.0     6.0       6.0   \n",
       "26   26.0             5.0     1.0     6.0       6.0   \n",
       "48   48.0             5.0     1.0     6.0       6.0   \n",
       "53   53.0             5.0     1.0     6.0       6.0   \n",
       "\n",
       "                                           trajectory  terminated  is_success  \n",
       "15  ['hemoglobin', 'mcv', 'ret_count', 'rbc', 'Apl...         0.0         1.0  \n",
       "22  ['hemoglobin', 'mcv', 'ret_count', 'rbc', 'Apl...         0.0         1.0  \n",
       "26  ['hemoglobin', 'mcv', 'ret_count', 'rbc', 'Apl...         0.0         1.0  \n",
       "48  ['hemoglobin', 'mcv', 'ret_count', 'gender', '...         0.0         1.0  \n",
       "53  ['hemoglobin', 'mcv', 'ret_count', 'rbc', 'Apl...         0.0         1.0  "
      ]
     },
     "execution_count": 23,
     "metadata": {},
     "output_type": "execute_result"
    }
   ],
   "source": [
    "aplastic_num = 6\n",
    "aplastic_df = test_df[test_df.y_pred == aplastic_num]\n",
    "aplastic_df.head()"
   ]
  },
  {
   "cell_type": "code",
   "execution_count": 28,
   "id": "07d55d0b",
   "metadata": {},
   "outputs": [
    {
     "data": {
      "image/png": "[encoded data removed]",
      "text/plain": [
       "<Figure size 640x480 with 1 Axes>"
      ]
     },
     "metadata": {},
     "output_type": "display_data"
    }
   ],
   "source": [
    "aplastic_mcv_distribution = get_distribution(aplastic_df, 'mcv')"
   ]
  },
  {
   "cell_type": "markdown",
   "id": "eb1164f2",
   "metadata": {},
   "source": [
    "#### Inconclusive diagnosis"
   ]
  },
  {
   "cell_type": "code",
   "execution_count": null,
   "id": "af36648c",
   "metadata": {},
   "outputs": [],
   "source": [
    "inconclusive_num = 7\n",
    "inconclusive_df = test_df[test_df.y_pred == inconclusive_num]\n",
    "inconclusive_df.head()"
   ]
  },
  {
   "cell_type": "code",
   "execution_count": null,
   "id": "efabd02a",
   "metadata": {},
   "outputs": [],
   "source": [
    "inconclusive_mcv_distribution = get_distribution(inconclusive_df, 'mcv')"
   ]
  }
 ],
 "metadata": {
  "kernelspec": {
   "display_name": "Python 3 (ipykernel)",
   "language": "python",
   "name": "python3"
  },
  "language_info": {
   "codemirror_mode": {
    "name": "ipython",
    "version": 3
   },
   "file_extension": ".py",
   "mimetype": "text/x-python",
   "name": "python",
   "nbconvert_exporter": "python",
   "pygments_lexer": "ipython3",
   "version": "3.7.4"
  }
 },
 "nbformat": 4,
 "nbformat_minor": 5
}

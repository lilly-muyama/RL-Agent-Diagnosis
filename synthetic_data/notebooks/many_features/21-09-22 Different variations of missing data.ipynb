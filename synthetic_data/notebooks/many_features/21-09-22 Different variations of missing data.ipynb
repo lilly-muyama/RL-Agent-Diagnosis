{
 "cells": [
  {
   "cell_type": "code",
   "execution_count": 20,
   "metadata": {},
   "outputs": [],
   "source": [
    "import pandas as pd\n",
    "import numpy as np\n",
    "import seaborn as sns\n",
    "import random\n",
    "import os\n",
    "import torch\n",
    "import sys\n",
    "sys.path.append('../..')\n",
    "from modules.many_features import utils, constants\n",
    "import matplotlib.pyplot as plt\n",
    "%matplotlib inline"
   ]
  },
  {
   "cell_type": "code",
   "execution_count": 21,
   "metadata": {},
   "outputs": [],
   "source": [
    "SEED = 42\n",
    "random.seed(SEED)\n",
    "np.random.seed(SEED)\n",
    "os.environ['PYTHONHASHSEED']=str(SEED)\n",
    "torch.manual_seed(SEED)\n",
    "torch.use_deterministic_algorithms(True)"
   ]
  },
  {
   "cell_type": "code",
   "execution_count": 22,
   "metadata": {},
   "outputs": [],
   "source": [
    "def create_label(row):\n",
    "    if row['hemoglobin']> 13:\n",
    "        return 'No anemia'\n",
    "    elif (row['hemoglobin'] > 12) & (row['gender']==0):\n",
    "        return 'No anemia'\n",
    "    else:\n",
    "        if row['mcv']<80 :\n",
    "            if row['ferritin']<30:\n",
    "                return 'Iron deficiency anemia'\n",
    "            elif row['ferritin']>100:\n",
    "                return 'Anemia of chronic disease'\n",
    "            elif ((row['ferritin']>=30 ) & (row['tibc']<450)):\n",
    "                return 'Anemia of chronic disease'\n",
    "            elif ((row['ferritin']>=30) & (row['tibc']>=450)):\n",
    "                return 'Iron deficiency anemia'\n",
    "            else:\n",
    "                return 'Inconclusive diagnosis'\n",
    "            \n",
    "        elif row['mcv']<=100:\n",
    "            if row['ret_count'] <= 2:\n",
    "                return 'Aplastic anemia'\n",
    "            elif row['ret_count'] >2:\n",
    "                return 'Hemolytic anemia'\n",
    "            else:\n",
    "                return 'Inconclusive diagnosis'\n",
    "\n",
    "        elif row['mcv']> 100:\n",
    "            if row['segmented_neutrophils']>0:\n",
    "                return 'Vitamin B12/Folate deficiency anemia'\n",
    "            elif row['segmented_neutrophils']==0:\n",
    "                return 'Unspecified anemia'\n",
    "            else:\n",
    "                return 'Inconclusive diagnosis'\n",
    "        else:\n",
    "            return 'Inconclusive diagnosis'"
   ]
  },
  {
   "cell_type": "code",
   "execution_count": 23,
   "metadata": {},
   "outputs": [
    {
     "data": {
      "text/html": [
       "<div>\n",
       "<style scoped>\n",
       "    .dataframe tbody tr th:only-of-type {\n",
       "        vertical-align: middle;\n",
       "    }\n",
       "\n",
       "    .dataframe tbody tr th {\n",
       "        vertical-align: top;\n",
       "    }\n",
       "\n",
       "    .dataframe thead th {\n",
       "        text-align: right;\n",
       "    }\n",
       "</style>\n",
       "<table border=\"1\" class=\"dataframe\">\n",
       "  <thead>\n",
       "    <tr style=\"text-align: right;\">\n",
       "      <th></th>\n",
       "      <th>hemoglobin</th>\n",
       "      <th>ferritin</th>\n",
       "      <th>ret_count</th>\n",
       "      <th>segmented_neutrophils</th>\n",
       "      <th>tibc</th>\n",
       "      <th>mcv</th>\n",
       "      <th>serum_iron</th>\n",
       "      <th>rbc</th>\n",
       "      <th>age</th>\n",
       "      <th>gender</th>\n",
       "      <th>indirect_bilirubin</th>\n",
       "      <th>transferrin</th>\n",
       "      <th>creatinine</th>\n",
       "      <th>cholestrol</th>\n",
       "      <th>copper</th>\n",
       "      <th>ethanol</th>\n",
       "      <th>folate</th>\n",
       "      <th>glucose</th>\n",
       "      <th>label</th>\n",
       "    </tr>\n",
       "  </thead>\n",
       "  <tbody>\n",
       "    <tr>\n",
       "      <th>0</th>\n",
       "      <td>11.875670</td>\n",
       "      <td>161.104070</td>\n",
       "      <td>3.981397</td>\n",
       "      <td>NaN</td>\n",
       "      <td>358.191297</td>\n",
       "      <td>77.370085</td>\n",
       "      <td>NaN</td>\n",
       "      <td>6.918734</td>\n",
       "      <td>74.271409</td>\n",
       "      <td>0</td>\n",
       "      <td>NaN</td>\n",
       "      <td>441.651953</td>\n",
       "      <td>0.508604</td>\n",
       "      <td>86.888802</td>\n",
       "      <td>NaN</td>\n",
       "      <td>NaN</td>\n",
       "      <td>NaN</td>\n",
       "      <td>NaN</td>\n",
       "      <td>Anemia of chronic disease</td>\n",
       "    </tr>\n",
       "    <tr>\n",
       "      <th>1</th>\n",
       "      <td>9.296779</td>\n",
       "      <td>457.149834</td>\n",
       "      <td>1.874231</td>\n",
       "      <td>5.544915</td>\n",
       "      <td>NaN</td>\n",
       "      <td>78.717345</td>\n",
       "      <td>NaN</td>\n",
       "      <td>3.999210</td>\n",
       "      <td>70.112738</td>\n",
       "      <td>0</td>\n",
       "      <td>NaN</td>\n",
       "      <td>414.333999</td>\n",
       "      <td>0.784442</td>\n",
       "      <td>37.659905</td>\n",
       "      <td>NaN</td>\n",
       "      <td>NaN</td>\n",
       "      <td>NaN</td>\n",
       "      <td>NaN</td>\n",
       "      <td>Anemia of chronic disease</td>\n",
       "    </tr>\n",
       "    <tr>\n",
       "      <th>2</th>\n",
       "      <td>9.780377</td>\n",
       "      <td>483.216550</td>\n",
       "      <td>4.041312</td>\n",
       "      <td>5.515052</td>\n",
       "      <td>304.155693</td>\n",
       "      <td>100.750651</td>\n",
       "      <td>118.428782</td>\n",
       "      <td>6.273777</td>\n",
       "      <td>87.682835</td>\n",
       "      <td>1</td>\n",
       "      <td>2.705387</td>\n",
       "      <td>350.319553</td>\n",
       "      <td>1.129411</td>\n",
       "      <td>140.917968</td>\n",
       "      <td>47.714319</td>\n",
       "      <td>62.722981</td>\n",
       "      <td>20.039071</td>\n",
       "      <td>46.973234</td>\n",
       "      <td>Vitamin B12/Folate deficiency anemia</td>\n",
       "    </tr>\n",
       "    <tr>\n",
       "      <th>3</th>\n",
       "      <td>9.131688</td>\n",
       "      <td>57.578776</td>\n",
       "      <td>5.778568</td>\n",
       "      <td>1.976049</td>\n",
       "      <td>207.684776</td>\n",
       "      <td>96.855220</td>\n",
       "      <td>NaN</td>\n",
       "      <td>3.773108</td>\n",
       "      <td>39.425050</td>\n",
       "      <td>0</td>\n",
       "      <td>NaN</td>\n",
       "      <td>353.517996</td>\n",
       "      <td>1.569724</td>\n",
       "      <td>26.393979</td>\n",
       "      <td>NaN</td>\n",
       "      <td>NaN</td>\n",
       "      <td>NaN</td>\n",
       "      <td>NaN</td>\n",
       "      <td>Hemolytic anemia</td>\n",
       "    </tr>\n",
       "    <tr>\n",
       "      <th>4</th>\n",
       "      <td>11.395680</td>\n",
       "      <td>260.627627</td>\n",
       "      <td>3.892581</td>\n",
       "      <td>1.320481</td>\n",
       "      <td>318.250045</td>\n",
       "      <td>102.206351</td>\n",
       "      <td>NaN</td>\n",
       "      <td>NaN</td>\n",
       "      <td>NaN</td>\n",
       "      <td>0</td>\n",
       "      <td>NaN</td>\n",
       "      <td>NaN</td>\n",
       "      <td>NaN</td>\n",
       "      <td>NaN</td>\n",
       "      <td>NaN</td>\n",
       "      <td>NaN</td>\n",
       "      <td>NaN</td>\n",
       "      <td>NaN</td>\n",
       "      <td>Vitamin B12/Folate deficiency anemia</td>\n",
       "    </tr>\n",
       "  </tbody>\n",
       "</table>\n",
       "</div>"
      ],
      "text/plain": [
       "   hemoglobin    ferritin  ret_count  segmented_neutrophils        tibc  \\\n",
       "0   11.875670  161.104070   3.981397                    NaN  358.191297   \n",
       "1    9.296779  457.149834   1.874231               5.544915         NaN   \n",
       "2    9.780377  483.216550   4.041312               5.515052  304.155693   \n",
       "3    9.131688   57.578776   5.778568               1.976049  207.684776   \n",
       "4   11.395680  260.627627   3.892581               1.320481  318.250045   \n",
       "\n",
       "          mcv  serum_iron       rbc        age  gender  indirect_bilirubin  \\\n",
       "0   77.370085         NaN  6.918734  74.271409       0                 NaN   \n",
       "1   78.717345         NaN  3.999210  70.112738       0                 NaN   \n",
       "2  100.750651  118.428782  6.273777  87.682835       1            2.705387   \n",
       "3   96.855220         NaN  3.773108  39.425050       0                 NaN   \n",
       "4  102.206351         NaN       NaN        NaN       0                 NaN   \n",
       "\n",
       "   transferrin  creatinine  cholestrol     copper    ethanol     folate  \\\n",
       "0   441.651953    0.508604   86.888802        NaN        NaN        NaN   \n",
       "1   414.333999    0.784442   37.659905        NaN        NaN        NaN   \n",
       "2   350.319553    1.129411  140.917968  47.714319  62.722981  20.039071   \n",
       "3   353.517996    1.569724   26.393979        NaN        NaN        NaN   \n",
       "4          NaN         NaN         NaN        NaN        NaN        NaN   \n",
       "\n",
       "     glucose                                 label  \n",
       "0        NaN             Anemia of chronic disease  \n",
       "1        NaN             Anemia of chronic disease  \n",
       "2  46.973234  Vitamin B12/Folate deficiency anemia  \n",
       "3        NaN                      Hemolytic anemia  \n",
       "4        NaN  Vitamin B12/Folate deficiency anemia  "
      ]
     },
     "execution_count": 23,
     "metadata": {},
     "output_type": "execute_result"
    }
   ],
   "source": [
    "#df = pd.read_csv('../../data/anemia_synth_dataset_some_nans_unspecified_more_feats.csv')\n",
    "#df = pd.read_csv('../../data/more_features/synth_dataset_by_type_more_feats.csv')\n",
    "df = pd.read_csv('../../final/data/dataset_by_type.csv')\n",
    "# df = df.fillna(-1)\n",
    "df.head()"
   ]
  },
  {
   "cell_type": "code",
   "execution_count": 24,
   "metadata": {},
   "outputs": [
    {
     "data": {
      "text/plain": [
       "Aplastic anemia                         10000\n",
       "Hemolytic anemia                        10000\n",
       "Unspecified anemia                      10000\n",
       "Vitamin B12/Folate deficiency anemia    10000\n",
       "No anemia                               10000\n",
       "Anemia of chronic disease               10000\n",
       "Iron deficiency anemia                  10000\n",
       "Name: label, dtype: int64"
      ]
     },
     "execution_count": 24,
     "metadata": {},
     "output_type": "execute_result"
    }
   ],
   "source": [
    "df.label.value_counts()"
   ]
  },
  {
   "cell_type": "code",
   "execution_count": 25,
   "metadata": {},
   "outputs": [
    {
     "data": {
      "text/plain": [
       "hemoglobin                   0\n",
       "ferritin                 24000\n",
       "ret_count                14000\n",
       "segmented_neutrophils    12000\n",
       "tibc                     22806\n",
       "mcv                       5000\n",
       "serum_iron               35000\n",
       "rbc                      21000\n",
       "age                      14000\n",
       "gender                       0\n",
       "indirect_bilirubin       49000\n",
       "transferrin              21000\n",
       "creatinine               14000\n",
       "cholestrol               14000\n",
       "copper                   42000\n",
       "ethanol                  35000\n",
       "folate                   42000\n",
       "glucose                  35000\n",
       "label                        0\n",
       "dtype: int64"
      ]
     },
     "execution_count": 25,
     "metadata": {},
     "output_type": "execute_result"
    }
   ],
   "source": [
    "df.isna().sum()"
   ]
  },
  {
   "cell_type": "code",
   "execution_count": 26,
   "metadata": {},
   "outputs": [
    {
     "name": "stderr",
     "output_type": "stream",
     "text": [
      "C:\\Users\\User\\Anaconda3\\lib\\site-packages\\sklearn\\utils\\__init__.py:806: DeprecationWarning:\n",
      "\n",
      "`np.int` is a deprecated alias for the builtin `int`. To silence this warning, use `int` by itself. Doing this will not modify any behavior and is safe. When replacing `np.int`, you may wish to use e.g. `np.int64` or `np.int32` to specify the precision. If you wish to review your current use, check the release note link for additional information.\n",
      "Deprecated in NumPy 1.20; for more details and guidance: https://numpy.org/devdocs/release/1.20.0-notes.html#deprecations\n",
      "\n",
      "C:\\Users\\User\\Anaconda3\\lib\\site-packages\\sklearn\\utils\\__init__.py:806: DeprecationWarning:\n",
      "\n",
      "`np.int` is a deprecated alias for the builtin `int`. To silence this warning, use `int` by itself. Doing this will not modify any behavior and is safe. When replacing `np.int`, you may wish to use e.g. `np.int64` or `np.int32` to specify the precision. If you wish to review your current use, check the release note link for additional information.\n",
      "Deprecated in NumPy 1.20; for more details and guidance: https://numpy.org/devdocs/release/1.20.0-notes.html#deprecations\n",
      "\n",
      "C:\\Users\\User\\Anaconda3\\lib\\site-packages\\sklearn\\tree\\tree.py:163: DeprecationWarning:\n",
      "\n",
      "`np.int` is a deprecated alias for the builtin `int`. To silence this warning, use `int` by itself. Doing this will not modify any behavior and is safe. When replacing `np.int`, you may wish to use e.g. `np.int64` or `np.int32` to specify the precision. If you wish to review your current use, check the release note link for additional information.\n",
      "Deprecated in NumPy 1.20; for more details and guidance: https://numpy.org/devdocs/release/1.20.0-notes.html#deprecations\n",
      "\n"
     ]
    },
    {
     "data": {
      "text/plain": [
       "(0.9997857142857143,\n",
       " 0.9997857142723214,\n",
       " 0.9998750000000001,\n",
       " datetime.timedelta(microseconds=2000))"
      ]
     },
     "execution_count": 26,
     "metadata": {},
     "output_type": "execute_result"
    }
   ],
   "source": [
    "utils.get_dt_performance(df)"
   ]
  },
  {
   "cell_type": "code",
   "execution_count": 27,
   "metadata": {},
   "outputs": [],
   "source": [
    "col_list = [col for col in df.columns if col not in ['hemoglobin', 'gender', 'age', 'mcv', 'label']]"
   ]
  },
  {
   "cell_type": "code",
   "execution_count": 28,
   "metadata": {},
   "outputs": [],
   "source": [
    "nan_frac = 0.1\n",
    "trial_df = utils.generate_nans(df.copy(), col_list, nan_frac)"
   ]
  },
  {
   "cell_type": "code",
   "execution_count": 29,
   "metadata": {},
   "outputs": [
    {
     "data": {
      "text/plain": [
       "hemoglobin                   0\n",
       "ferritin                 28600\n",
       "ret_count                19600\n",
       "segmented_neutrophils    17800\n",
       "tibc                     27525\n",
       "mcv                       5000\n",
       "serum_iron               38500\n",
       "rbc                      25900\n",
       "age                      14000\n",
       "gender                       0\n",
       "indirect_bilirubin       51100\n",
       "transferrin              25900\n",
       "creatinine               19600\n",
       "cholestrol               19600\n",
       "copper                   44800\n",
       "ethanol                  38500\n",
       "folate                   44800\n",
       "glucose                  38500\n",
       "label                        0\n",
       "dtype: int64"
      ]
     },
     "execution_count": 29,
     "metadata": {},
     "output_type": "execute_result"
    }
   ],
   "source": [
    "trial_df.isna().sum()"
   ]
  },
  {
   "cell_type": "code",
   "execution_count": 30,
   "metadata": {},
   "outputs": [
    {
     "data": {
      "text/html": [
       "<div>\n",
       "<style scoped>\n",
       "    .dataframe tbody tr th:only-of-type {\n",
       "        vertical-align: middle;\n",
       "    }\n",
       "\n",
       "    .dataframe tbody tr th {\n",
       "        vertical-align: top;\n",
       "    }\n",
       "\n",
       "    .dataframe thead th {\n",
       "        text-align: right;\n",
       "    }\n",
       "</style>\n",
       "<table border=\"1\" class=\"dataframe\">\n",
       "  <thead>\n",
       "    <tr style=\"text-align: right;\">\n",
       "      <th></th>\n",
       "      <th>hemoglobin</th>\n",
       "      <th>ferritin</th>\n",
       "      <th>ret_count</th>\n",
       "      <th>segmented_neutrophils</th>\n",
       "      <th>tibc</th>\n",
       "      <th>mcv</th>\n",
       "      <th>serum_iron</th>\n",
       "      <th>rbc</th>\n",
       "      <th>age</th>\n",
       "      <th>gender</th>\n",
       "      <th>indirect_bilirubin</th>\n",
       "      <th>transferrin</th>\n",
       "      <th>creatinine</th>\n",
       "      <th>cholestrol</th>\n",
       "      <th>copper</th>\n",
       "      <th>ethanol</th>\n",
       "      <th>folate</th>\n",
       "      <th>glucose</th>\n",
       "      <th>label</th>\n",
       "    </tr>\n",
       "  </thead>\n",
       "  <tbody>\n",
       "    <tr>\n",
       "      <th>0</th>\n",
       "      <td>11.875670</td>\n",
       "      <td>161.104070</td>\n",
       "      <td>3.981397</td>\n",
       "      <td>NaN</td>\n",
       "      <td>358.191297</td>\n",
       "      <td>77.370085</td>\n",
       "      <td>NaN</td>\n",
       "      <td>6.918734</td>\n",
       "      <td>74.271409</td>\n",
       "      <td>0</td>\n",
       "      <td>NaN</td>\n",
       "      <td>441.651953</td>\n",
       "      <td>0.508604</td>\n",
       "      <td>86.888802</td>\n",
       "      <td>NaN</td>\n",
       "      <td>NaN</td>\n",
       "      <td>NaN</td>\n",
       "      <td>NaN</td>\n",
       "      <td>Anemia of chronic disease</td>\n",
       "    </tr>\n",
       "    <tr>\n",
       "      <th>1</th>\n",
       "      <td>9.296779</td>\n",
       "      <td>457.149834</td>\n",
       "      <td>1.874231</td>\n",
       "      <td>5.544915</td>\n",
       "      <td>NaN</td>\n",
       "      <td>78.717345</td>\n",
       "      <td>NaN</td>\n",
       "      <td>3.999210</td>\n",
       "      <td>70.112738</td>\n",
       "      <td>0</td>\n",
       "      <td>NaN</td>\n",
       "      <td>414.333999</td>\n",
       "      <td>0.784442</td>\n",
       "      <td>37.659905</td>\n",
       "      <td>NaN</td>\n",
       "      <td>NaN</td>\n",
       "      <td>NaN</td>\n",
       "      <td>NaN</td>\n",
       "      <td>Anemia of chronic disease</td>\n",
       "    </tr>\n",
       "    <tr>\n",
       "      <th>2</th>\n",
       "      <td>9.780377</td>\n",
       "      <td>483.216550</td>\n",
       "      <td>4.041312</td>\n",
       "      <td>5.515052</td>\n",
       "      <td>304.155693</td>\n",
       "      <td>100.750651</td>\n",
       "      <td>118.428782</td>\n",
       "      <td>6.273777</td>\n",
       "      <td>87.682835</td>\n",
       "      <td>1</td>\n",
       "      <td>2.705387</td>\n",
       "      <td>350.319553</td>\n",
       "      <td>1.129411</td>\n",
       "      <td>140.917968</td>\n",
       "      <td>47.714319</td>\n",
       "      <td>62.722981</td>\n",
       "      <td>20.039071</td>\n",
       "      <td>46.973234</td>\n",
       "      <td>Vitamin B12/Folate deficiency anemia</td>\n",
       "    </tr>\n",
       "    <tr>\n",
       "      <th>3</th>\n",
       "      <td>9.131688</td>\n",
       "      <td>57.578776</td>\n",
       "      <td>5.778568</td>\n",
       "      <td>1.976049</td>\n",
       "      <td>207.684776</td>\n",
       "      <td>96.855220</td>\n",
       "      <td>NaN</td>\n",
       "      <td>3.773108</td>\n",
       "      <td>39.425050</td>\n",
       "      <td>0</td>\n",
       "      <td>NaN</td>\n",
       "      <td>353.517996</td>\n",
       "      <td>1.569724</td>\n",
       "      <td>26.393979</td>\n",
       "      <td>NaN</td>\n",
       "      <td>NaN</td>\n",
       "      <td>NaN</td>\n",
       "      <td>NaN</td>\n",
       "      <td>Hemolytic anemia</td>\n",
       "    </tr>\n",
       "    <tr>\n",
       "      <th>4</th>\n",
       "      <td>11.395680</td>\n",
       "      <td>NaN</td>\n",
       "      <td>NaN</td>\n",
       "      <td>1.320481</td>\n",
       "      <td>318.250045</td>\n",
       "      <td>102.206351</td>\n",
       "      <td>NaN</td>\n",
       "      <td>NaN</td>\n",
       "      <td>NaN</td>\n",
       "      <td>0</td>\n",
       "      <td>NaN</td>\n",
       "      <td>NaN</td>\n",
       "      <td>NaN</td>\n",
       "      <td>NaN</td>\n",
       "      <td>NaN</td>\n",
       "      <td>NaN</td>\n",
       "      <td>NaN</td>\n",
       "      <td>NaN</td>\n",
       "      <td>Vitamin B12/Folate deficiency anemia</td>\n",
       "    </tr>\n",
       "  </tbody>\n",
       "</table>\n",
       "</div>"
      ],
      "text/plain": [
       "   hemoglobin    ferritin  ret_count  segmented_neutrophils        tibc  \\\n",
       "0   11.875670  161.104070   3.981397                    NaN  358.191297   \n",
       "1    9.296779  457.149834   1.874231               5.544915         NaN   \n",
       "2    9.780377  483.216550   4.041312               5.515052  304.155693   \n",
       "3    9.131688   57.578776   5.778568               1.976049  207.684776   \n",
       "4   11.395680         NaN        NaN               1.320481  318.250045   \n",
       "\n",
       "          mcv  serum_iron       rbc        age  gender  indirect_bilirubin  \\\n",
       "0   77.370085         NaN  6.918734  74.271409       0                 NaN   \n",
       "1   78.717345         NaN  3.999210  70.112738       0                 NaN   \n",
       "2  100.750651  118.428782  6.273777  87.682835       1            2.705387   \n",
       "3   96.855220         NaN  3.773108  39.425050       0                 NaN   \n",
       "4  102.206351         NaN       NaN        NaN       0                 NaN   \n",
       "\n",
       "   transferrin  creatinine  cholestrol     copper    ethanol     folate  \\\n",
       "0   441.651953    0.508604   86.888802        NaN        NaN        NaN   \n",
       "1   414.333999    0.784442   37.659905        NaN        NaN        NaN   \n",
       "2   350.319553    1.129411  140.917968  47.714319  62.722981  20.039071   \n",
       "3   353.517996    1.569724   26.393979        NaN        NaN        NaN   \n",
       "4          NaN         NaN         NaN        NaN        NaN        NaN   \n",
       "\n",
       "     glucose                                 label  \n",
       "0        NaN             Anemia of chronic disease  \n",
       "1        NaN             Anemia of chronic disease  \n",
       "2  46.973234  Vitamin B12/Folate deficiency anemia  \n",
       "3        NaN                      Hemolytic anemia  \n",
       "4        NaN  Vitamin B12/Folate deficiency anemia  "
      ]
     },
     "execution_count": 30,
     "metadata": {},
     "output_type": "execute_result"
    }
   ],
   "source": [
    "trial_df.head()"
   ]
  },
  {
   "cell_type": "code",
   "execution_count": 31,
   "metadata": {},
   "outputs": [
    {
     "data": {
      "text/plain": [
       "Aplastic anemia                         10000\n",
       "Hemolytic anemia                        10000\n",
       "Unspecified anemia                      10000\n",
       "Vitamin B12/Folate deficiency anemia    10000\n",
       "No anemia                               10000\n",
       "Anemia of chronic disease               10000\n",
       "Iron deficiency anemia                  10000\n",
       "Name: label, dtype: int64"
      ]
     },
     "execution_count": 31,
     "metadata": {},
     "output_type": "execute_result"
    }
   ],
   "source": [
    "trial_df.label.value_counts()"
   ]
  },
  {
   "cell_type": "code",
   "execution_count": 32,
   "metadata": {},
   "outputs": [],
   "source": [
    "# trial_df.to_csv(f'../../final/data/more_feats_{nan_frac}.csv', index=False)"
   ]
  },
  {
   "cell_type": "code",
   "execution_count": 33,
   "metadata": {},
   "outputs": [
    {
     "name": "stderr",
     "output_type": "stream",
     "text": [
      "C:\\Users\\User\\Anaconda3\\lib\\site-packages\\sklearn\\utils\\__init__.py:806: DeprecationWarning:\n",
      "\n",
      "`np.int` is a deprecated alias for the builtin `int`. To silence this warning, use `int` by itself. Doing this will not modify any behavior and is safe. When replacing `np.int`, you may wish to use e.g. `np.int64` or `np.int32` to specify the precision. If you wish to review your current use, check the release note link for additional information.\n",
      "Deprecated in NumPy 1.20; for more details and guidance: https://numpy.org/devdocs/release/1.20.0-notes.html#deprecations\n",
      "\n",
      "C:\\Users\\User\\Anaconda3\\lib\\site-packages\\sklearn\\utils\\__init__.py:806: DeprecationWarning:\n",
      "\n",
      "`np.int` is a deprecated alias for the builtin `int`. To silence this warning, use `int` by itself. Doing this will not modify any behavior and is safe. When replacing `np.int`, you may wish to use e.g. `np.int64` or `np.int32` to specify the precision. If you wish to review your current use, check the release note link for additional information.\n",
      "Deprecated in NumPy 1.20; for more details and guidance: https://numpy.org/devdocs/release/1.20.0-notes.html#deprecations\n",
      "\n",
      "C:\\Users\\User\\Anaconda3\\lib\\site-packages\\sklearn\\tree\\tree.py:163: DeprecationWarning:\n",
      "\n",
      "`np.int` is a deprecated alias for the builtin `int`. To silence this warning, use `int` by itself. Doing this will not modify any behavior and is safe. When replacing `np.int`, you may wish to use e.g. `np.int64` or `np.int32` to specify the precision. If you wish to review your current use, check the release note link for additional information.\n",
      "Deprecated in NumPy 1.20; for more details and guidance: https://numpy.org/devdocs/release/1.20.0-notes.html#deprecations\n",
      "\n"
     ]
    },
    {
     "data": {
      "text/plain": [
       "(0.9647857142857142,\n",
       " 0.9647924366247957,\n",
       " 0.9794583333333333,\n",
       " datetime.timedelta(microseconds=3001))"
      ]
     },
     "execution_count": 33,
     "metadata": {},
     "output_type": "execute_result"
    }
   ],
   "source": [
    "utils.get_dt_performance(trial_df)"
   ]
  },
  {
   "cell_type": "code",
   "execution_count": 34,
   "metadata": {},
   "outputs": [
    {
     "name": "stderr",
     "output_type": "stream",
     "text": [
      "C:\\Users\\User\\Anaconda3\\lib\\site-packages\\sklearn\\utils\\__init__.py:806: DeprecationWarning:\n",
      "\n",
      "`np.int` is a deprecated alias for the builtin `int`. To silence this warning, use `int` by itself. Doing this will not modify any behavior and is safe. When replacing `np.int`, you may wish to use e.g. `np.int64` or `np.int32` to specify the precision. If you wish to review your current use, check the release note link for additional information.\n",
      "Deprecated in NumPy 1.20; for more details and guidance: https://numpy.org/devdocs/release/1.20.0-notes.html#deprecations\n",
      "\n",
      "C:\\Users\\User\\Anaconda3\\lib\\site-packages\\sklearn\\utils\\__init__.py:806: DeprecationWarning:\n",
      "\n",
      "`np.int` is a deprecated alias for the builtin `int`. To silence this warning, use `int` by itself. Doing this will not modify any behavior and is safe. When replacing `np.int`, you may wish to use e.g. `np.int64` or `np.int32` to specify the precision. If you wish to review your current use, check the release note link for additional information.\n",
      "Deprecated in NumPy 1.20; for more details and guidance: https://numpy.org/devdocs/release/1.20.0-notes.html#deprecations\n",
      "\n",
      "C:\\Users\\User\\Anaconda3\\lib\\site-packages\\sklearn\\tree\\tree.py:163: DeprecationWarning:\n",
      "\n",
      "`np.int` is a deprecated alias for the builtin `int`. To silence this warning, use `int` by itself. Doing this will not modify any behavior and is safe. When replacing `np.int`, you may wish to use e.g. `np.int64` or `np.int32` to specify the precision. If you wish to review your current use, check the release note link for additional information.\n",
      "Deprecated in NumPy 1.20; for more details and guidance: https://numpy.org/devdocs/release/1.20.0-notes.html#deprecations\n",
      "\n"
     ]
    },
    {
     "data": {
      "text/plain": [
       "(0.9995,\n",
       " 0.9994990407834472,\n",
       " 0.9997316430824832,\n",
       " datetime.timedelta(microseconds=1995))"
      ]
     },
     "execution_count": 34,
     "metadata": {},
     "output_type": "execute_result"
    }
   ],
   "source": [
    "trial_df['label'] = trial_df.apply(lambda row: create_label(row), axis=1)\n",
    "utils.get_dt_performance(trial_df)"
   ]
  },
  {
   "cell_type": "code",
   "execution_count": 35,
   "metadata": {},
   "outputs": [],
   "source": [
    "trial_df.to_csv(f'../../final/data/dataset_with_inconclusive.csv', index=False)"
   ]
  },
  {
   "cell_type": "code",
   "execution_count": 36,
   "metadata": {},
   "outputs": [
    {
     "data": {
      "text/plain": [
       "No anemia                               10000\n",
       "Aplastic anemia                          9029\n",
       "Hemolytic anemia                         9025\n",
       "Vitamin B12/Folate deficiency anemia     9004\n",
       "Unspecified anemia                       8964\n",
       "Anemia of chronic disease                8859\n",
       "Iron deficiency anemia                   8398\n",
       "Inconclusive diagnosis                   6721\n",
       "Name: label, dtype: int64"
      ]
     },
     "execution_count": 36,
     "metadata": {},
     "output_type": "execute_result"
    }
   ],
   "source": [
    "trial_df.label.value_counts()"
   ]
  },
  {
   "cell_type": "code",
   "execution_count": 37,
   "metadata": {},
   "outputs": [
    {
     "data": {
      "text/plain": [
       "70000"
      ]
     },
     "execution_count": 37,
     "metadata": {},
     "output_type": "execute_result"
    }
   ],
   "source": [
    "len(trial_df)"
   ]
  },
  {
   "cell_type": "code",
   "execution_count": null,
   "metadata": {},
   "outputs": [],
   "source": []
  }
 ],
 "metadata": {
  "kernelspec": {
   "display_name": "Python 3",
   "language": "python",
   "name": "python3"
  },
  "language_info": {
   "codemirror_mode": {
    "name": "ipython",
    "version": 3
   },
   "file_extension": ".py",
   "mimetype": "text/x-python",
   "name": "python",
   "nbconvert_exporter": "python",
   "pygments_lexer": "ipython3",
   "version": "3.7.4"
  }
 },
 "nbformat": 4,
 "nbformat_minor": 5
}

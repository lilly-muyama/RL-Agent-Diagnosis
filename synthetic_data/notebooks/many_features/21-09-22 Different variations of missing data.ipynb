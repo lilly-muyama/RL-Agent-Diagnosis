{
 "cells": [
  {
   "cell_type": "code",
   "execution_count": 17,
   "metadata": {},
   "outputs": [],
   "source": [
    "import pandas as pd\n",
    "import numpy as np\n",
    "import seaborn as sns\n",
    "import random\n",
    "import os\n",
    "import torch\n",
    "import sys\n",
    "sys.path.append('../..')\n",
    "from modules.many_features import utils, constants\n",
    "import matplotlib.pyplot as plt\n",
    "%matplotlib inline"
   ]
  },
  {
   "cell_type": "code",
   "execution_count": 18,
   "metadata": {},
   "outputs": [],
   "source": [
    "SEED = 42\n",
    "random.seed(SEED)\n",
    "np.random.seed(SEED)\n",
    "os.environ['PYTHONHASHSEED']=str(SEED)\n",
    "torch.manual_seed(SEED)\n",
    "torch.use_deterministic_algorithms(True)"
   ]
  },
  {
   "cell_type": "code",
   "execution_count": 19,
   "metadata": {},
   "outputs": [],
   "source": [
    "def create_label(row):\n",
    "    if row['hemoglobin']> 13:\n",
    "        return 'No anemia'\n",
    "    elif (row['hemoglobin'] > 12) & (row['gender']==0):\n",
    "        return 'No anemia'\n",
    "    else:\n",
    "        if row['mcv']<80 :\n",
    "            if row['ferritin']<30:\n",
    "                return 'Iron deficiency anemia'\n",
    "            elif row['ferritin']>100:\n",
    "                return 'Anemia of chronic disease'\n",
    "            elif row['tibc']<450:\n",
    "                return 'Anemia of chronic disease'\n",
    "            elif row['tibc']>=450:\n",
    "                return 'Iron deficiency anemia'\n",
    "            else:\n",
    "                return 'Inconclusive diagnosis'\n",
    "            \n",
    "        elif row['mcv']<=100:\n",
    "            if row['ret_count'] <= 2:\n",
    "                return 'Aplastic anemia'\n",
    "            elif row['ret_count'] >2:\n",
    "                return 'Hemolytic anemia'\n",
    "            else:\n",
    "                return 'Inconclusive diagnosis'\n",
    "\n",
    "        elif row['mcv']> 100:\n",
    "            if row['segmented_neutrophils']>0:\n",
    "                return 'Vitamin B12/Folate deficiency anemia'\n",
    "            elif row['segmented_neutrophils']==0:\n",
    "                return 'Unspecified anemia'\n",
    "            else:\n",
    "                return 'Inconclusive diagnosis'\n",
    "        else:\n",
    "            return 'Inconclusive diagnosis'"
   ]
  },
  {
   "cell_type": "code",
   "execution_count": 20,
   "metadata": {},
   "outputs": [
    {
     "data": {
      "text/html": [
       "<div>\n",
       "<style scoped>\n",
       "    .dataframe tbody tr th:only-of-type {\n",
       "        vertical-align: middle;\n",
       "    }\n",
       "\n",
       "    .dataframe tbody tr th {\n",
       "        vertical-align: top;\n",
       "    }\n",
       "\n",
       "    .dataframe thead th {\n",
       "        text-align: right;\n",
       "    }\n",
       "</style>\n",
       "<table border=\"1\" class=\"dataframe\">\n",
       "  <thead>\n",
       "    <tr style=\"text-align: right;\">\n",
       "      <th></th>\n",
       "      <th>hemoglobin</th>\n",
       "      <th>ferritin</th>\n",
       "      <th>ret_count</th>\n",
       "      <th>segmented_neutrophils</th>\n",
       "      <th>tibc</th>\n",
       "      <th>mcv</th>\n",
       "      <th>serum_iron</th>\n",
       "      <th>rbc</th>\n",
       "      <th>age</th>\n",
       "      <th>gender</th>\n",
       "      <th>indirect_bilirubin</th>\n",
       "      <th>transferrin</th>\n",
       "      <th>creatinine</th>\n",
       "      <th>cholestrol</th>\n",
       "      <th>copper</th>\n",
       "      <th>ethanol</th>\n",
       "      <th>folate</th>\n",
       "      <th>glucose</th>\n",
       "      <th>label</th>\n",
       "    </tr>\n",
       "  </thead>\n",
       "  <tbody>\n",
       "    <tr>\n",
       "      <th>0</th>\n",
       "      <td>11.183192</td>\n",
       "      <td>187.573466</td>\n",
       "      <td>4.951674</td>\n",
       "      <td>1.661383</td>\n",
       "      <td>316.593436</td>\n",
       "      <td>95.006424</td>\n",
       "      <td>181.242992</td>\n",
       "      <td>6.758433</td>\n",
       "      <td>60.586525</td>\n",
       "      <td>1</td>\n",
       "      <td>2.976104</td>\n",
       "      <td>282.291951</td>\n",
       "      <td>NaN</td>\n",
       "      <td>28.040619</td>\n",
       "      <td>96.721542</td>\n",
       "      <td>49.530542</td>\n",
       "      <td>23.186628</td>\n",
       "      <td>NaN</td>\n",
       "      <td>Hemolytic anemia</td>\n",
       "    </tr>\n",
       "    <tr>\n",
       "      <th>1</th>\n",
       "      <td>14.387445</td>\n",
       "      <td>NaN</td>\n",
       "      <td>NaN</td>\n",
       "      <td>NaN</td>\n",
       "      <td>NaN</td>\n",
       "      <td>NaN</td>\n",
       "      <td>125.249617</td>\n",
       "      <td>6.350652</td>\n",
       "      <td>86.964793</td>\n",
       "      <td>1</td>\n",
       "      <td>2.968983</td>\n",
       "      <td>158.844879</td>\n",
       "      <td>NaN</td>\n",
       "      <td>98.357508</td>\n",
       "      <td>112.758764</td>\n",
       "      <td>62.464566</td>\n",
       "      <td>7.168920</td>\n",
       "      <td>NaN</td>\n",
       "      <td>No anemia</td>\n",
       "    </tr>\n",
       "    <tr>\n",
       "      <th>2</th>\n",
       "      <td>12.749357</td>\n",
       "      <td>5.012158</td>\n",
       "      <td>3.502800</td>\n",
       "      <td>6.179371</td>\n",
       "      <td>498.418768</td>\n",
       "      <td>76.759285</td>\n",
       "      <td>159.834784</td>\n",
       "      <td>5.018156</td>\n",
       "      <td>67.065069</td>\n",
       "      <td>1</td>\n",
       "      <td>2.705719</td>\n",
       "      <td>442.293823</td>\n",
       "      <td>1.022939</td>\n",
       "      <td>56.850479</td>\n",
       "      <td>75.739552</td>\n",
       "      <td>72.072041</td>\n",
       "      <td>20.600875</td>\n",
       "      <td>44.872138</td>\n",
       "      <td>Iron deficiency anemia</td>\n",
       "    </tr>\n",
       "    <tr>\n",
       "      <th>3</th>\n",
       "      <td>11.508870</td>\n",
       "      <td>197.180945</td>\n",
       "      <td>1.200125</td>\n",
       "      <td>0.000000</td>\n",
       "      <td>457.033309</td>\n",
       "      <td>102.900301</td>\n",
       "      <td>131.177927</td>\n",
       "      <td>6.656823</td>\n",
       "      <td>66.403181</td>\n",
       "      <td>1</td>\n",
       "      <td>1.869338</td>\n",
       "      <td>223.896404</td>\n",
       "      <td>NaN</td>\n",
       "      <td>111.220307</td>\n",
       "      <td>66.999185</td>\n",
       "      <td>18.353272</td>\n",
       "      <td>14.132423</td>\n",
       "      <td>NaN</td>\n",
       "      <td>Unspecified anemia</td>\n",
       "    </tr>\n",
       "    <tr>\n",
       "      <th>4</th>\n",
       "      <td>9.456656</td>\n",
       "      <td>427.952052</td>\n",
       "      <td>NaN</td>\n",
       "      <td>0.660252</td>\n",
       "      <td>NaN</td>\n",
       "      <td>104.543774</td>\n",
       "      <td>NaN</td>\n",
       "      <td>NaN</td>\n",
       "      <td>NaN</td>\n",
       "      <td>0</td>\n",
       "      <td>NaN</td>\n",
       "      <td>NaN</td>\n",
       "      <td>NaN</td>\n",
       "      <td>NaN</td>\n",
       "      <td>NaN</td>\n",
       "      <td>NaN</td>\n",
       "      <td>NaN</td>\n",
       "      <td>NaN</td>\n",
       "      <td>Vitamin B12/Folate deficiency anemia</td>\n",
       "    </tr>\n",
       "  </tbody>\n",
       "</table>\n",
       "</div>"
      ],
      "text/plain": [
       "   hemoglobin    ferritin  ret_count  segmented_neutrophils        tibc  \\\n",
       "0   11.183192  187.573466   4.951674               1.661383  316.593436   \n",
       "1   14.387445         NaN        NaN                    NaN         NaN   \n",
       "2   12.749357    5.012158   3.502800               6.179371  498.418768   \n",
       "3   11.508870  197.180945   1.200125               0.000000  457.033309   \n",
       "4    9.456656  427.952052        NaN               0.660252         NaN   \n",
       "\n",
       "          mcv  serum_iron       rbc        age  gender  indirect_bilirubin  \\\n",
       "0   95.006424  181.242992  6.758433  60.586525       1            2.976104   \n",
       "1         NaN  125.249617  6.350652  86.964793       1            2.968983   \n",
       "2   76.759285  159.834784  5.018156  67.065069       1            2.705719   \n",
       "3  102.900301  131.177927  6.656823  66.403181       1            1.869338   \n",
       "4  104.543774         NaN       NaN        NaN       0                 NaN   \n",
       "\n",
       "   transferrin  creatinine  cholestrol      copper    ethanol     folate  \\\n",
       "0   282.291951         NaN   28.040619   96.721542  49.530542  23.186628   \n",
       "1   158.844879         NaN   98.357508  112.758764  62.464566   7.168920   \n",
       "2   442.293823    1.022939   56.850479   75.739552  72.072041  20.600875   \n",
       "3   223.896404         NaN  111.220307   66.999185  18.353272  14.132423   \n",
       "4          NaN         NaN         NaN         NaN        NaN        NaN   \n",
       "\n",
       "     glucose                                 label  \n",
       "0        NaN                      Hemolytic anemia  \n",
       "1        NaN                             No anemia  \n",
       "2  44.872138                Iron deficiency anemia  \n",
       "3        NaN                    Unspecified anemia  \n",
       "4        NaN  Vitamin B12/Folate deficiency anemia  "
      ]
     },
     "execution_count": 20,
     "metadata": {},
     "output_type": "execute_result"
    }
   ],
   "source": [
    "#df = pd.read_csv('../../data/anemia_synth_dataset_some_nans_unspecified_more_feats.csv')\n",
    "df = pd.read_csv('../../data/more_features/synth_dataset_by_type_more_feats.csv')\n",
    "# df = df.fillna(-1)\n",
    "df.head()"
   ]
  },
  {
   "cell_type": "code",
   "execution_count": 21,
   "metadata": {},
   "outputs": [
    {
     "data": {
      "text/plain": [
       "Vitamin B12/Folate deficiency anemia    10000\n",
       "Unspecified anemia                      10000\n",
       "No anemia                               10000\n",
       "Aplastic anemia                         10000\n",
       "Anemia of chronic disease               10000\n",
       "Hemolytic anemia                        10000\n",
       "Iron deficiency anemia                  10000\n",
       "Name: label, dtype: int64"
      ]
     },
     "execution_count": 21,
     "metadata": {},
     "output_type": "execute_result"
    }
   ],
   "source": [
    "df.label.value_counts()"
   ]
  },
  {
   "cell_type": "code",
   "execution_count": 22,
   "metadata": {},
   "outputs": [
    {
     "data": {
      "text/plain": [
       "hemoglobin                   0\n",
       "ferritin                 20000\n",
       "ret_count                20000\n",
       "segmented_neutrophils    17000\n",
       "tibc                     21000\n",
       "mcv                       5000\n",
       "serum_iron               21000\n",
       "rbc                       7000\n",
       "age                      14000\n",
       "gender                       0\n",
       "indirect_bilirubin       14000\n",
       "transferrin              21000\n",
       "creatinine               35000\n",
       "cholestrol               21000\n",
       "copper                   21000\n",
       "ethanol                  14000\n",
       "folate                   21000\n",
       "glucose                  49000\n",
       "label                        0\n",
       "dtype: int64"
      ]
     },
     "execution_count": 22,
     "metadata": {},
     "output_type": "execute_result"
    }
   ],
   "source": [
    "df.isna().sum()"
   ]
  },
  {
   "cell_type": "code",
   "execution_count": 23,
   "metadata": {},
   "outputs": [
    {
     "name": "stderr",
     "output_type": "stream",
     "text": [
      "C:\\Users\\User\\Anaconda3\\lib\\site-packages\\sklearn\\utils\\__init__.py:806: DeprecationWarning:\n",
      "\n",
      "`np.int` is a deprecated alias for the builtin `int`. To silence this warning, use `int` by itself. Doing this will not modify any behavior and is safe. When replacing `np.int`, you may wish to use e.g. `np.int64` or `np.int32` to specify the precision. If you wish to review your current use, check the release note link for additional information.\n",
      "Deprecated in NumPy 1.20; for more details and guidance: https://numpy.org/devdocs/release/1.20.0-notes.html#deprecations\n",
      "\n",
      "C:\\Users\\User\\Anaconda3\\lib\\site-packages\\sklearn\\utils\\__init__.py:806: DeprecationWarning:\n",
      "\n",
      "`np.int` is a deprecated alias for the builtin `int`. To silence this warning, use `int` by itself. Doing this will not modify any behavior and is safe. When replacing `np.int`, you may wish to use e.g. `np.int64` or `np.int32` to specify the precision. If you wish to review your current use, check the release note link for additional information.\n",
      "Deprecated in NumPy 1.20; for more details and guidance: https://numpy.org/devdocs/release/1.20.0-notes.html#deprecations\n",
      "\n",
      "C:\\Users\\User\\Anaconda3\\lib\\site-packages\\sklearn\\tree\\tree.py:163: DeprecationWarning:\n",
      "\n",
      "`np.int` is a deprecated alias for the builtin `int`. To silence this warning, use `int` by itself. Doing this will not modify any behavior and is safe. When replacing `np.int`, you may wish to use e.g. `np.int64` or `np.int32` to specify the precision. If you wish to review your current use, check the release note link for additional information.\n",
      "Deprecated in NumPy 1.20; for more details and guidance: https://numpy.org/devdocs/release/1.20.0-notes.html#deprecations\n",
      "\n"
     ]
    },
    {
     "data": {
      "text/plain": [
       "(0.9995714285714286, 0.9995713411666153, 0.99975)"
      ]
     },
     "execution_count": 23,
     "metadata": {},
     "output_type": "execute_result"
    }
   ],
   "source": [
    "utils.get_dt_performance(df)"
   ]
  },
  {
   "cell_type": "code",
   "execution_count": 24,
   "metadata": {},
   "outputs": [],
   "source": [
    "col_list = [col for col in df.columns if col not in ['hemoglobin', 'gender', 'age', 'mcv', 'label']]"
   ]
  },
  {
   "cell_type": "code",
   "execution_count": 25,
   "metadata": {},
   "outputs": [],
   "source": [
    "nan_frac = 0.1\n",
    "trial_df = utils.generate_nans(df.copy(), col_list, nan_frac)"
   ]
  },
  {
   "cell_type": "code",
   "execution_count": 26,
   "metadata": {},
   "outputs": [
    {
     "data": {
      "text/plain": [
       "hemoglobin                   0\n",
       "ferritin                 25000\n",
       "ret_count                25000\n",
       "segmented_neutrophils    22300\n",
       "tibc                     25900\n",
       "mcv                       5000\n",
       "serum_iron               25900\n",
       "rbc                      13300\n",
       "age                      14000\n",
       "gender                       0\n",
       "indirect_bilirubin       19600\n",
       "transferrin              25900\n",
       "creatinine               38500\n",
       "cholestrol               25900\n",
       "copper                   25900\n",
       "ethanol                  19600\n",
       "folate                   25900\n",
       "glucose                  51100\n",
       "label                        0\n",
       "dtype: int64"
      ]
     },
     "execution_count": 26,
     "metadata": {},
     "output_type": "execute_result"
    }
   ],
   "source": [
    "trial_df.isna().sum()"
   ]
  },
  {
   "cell_type": "code",
   "execution_count": 27,
   "metadata": {},
   "outputs": [
    {
     "data": {
      "text/html": [
       "<div>\n",
       "<style scoped>\n",
       "    .dataframe tbody tr th:only-of-type {\n",
       "        vertical-align: middle;\n",
       "    }\n",
       "\n",
       "    .dataframe tbody tr th {\n",
       "        vertical-align: top;\n",
       "    }\n",
       "\n",
       "    .dataframe thead th {\n",
       "        text-align: right;\n",
       "    }\n",
       "</style>\n",
       "<table border=\"1\" class=\"dataframe\">\n",
       "  <thead>\n",
       "    <tr style=\"text-align: right;\">\n",
       "      <th></th>\n",
       "      <th>hemoglobin</th>\n",
       "      <th>ferritin</th>\n",
       "      <th>ret_count</th>\n",
       "      <th>segmented_neutrophils</th>\n",
       "      <th>tibc</th>\n",
       "      <th>mcv</th>\n",
       "      <th>serum_iron</th>\n",
       "      <th>rbc</th>\n",
       "      <th>age</th>\n",
       "      <th>gender</th>\n",
       "      <th>indirect_bilirubin</th>\n",
       "      <th>transferrin</th>\n",
       "      <th>creatinine</th>\n",
       "      <th>cholestrol</th>\n",
       "      <th>copper</th>\n",
       "      <th>ethanol</th>\n",
       "      <th>folate</th>\n",
       "      <th>glucose</th>\n",
       "      <th>label</th>\n",
       "    </tr>\n",
       "  </thead>\n",
       "  <tbody>\n",
       "    <tr>\n",
       "      <th>0</th>\n",
       "      <td>11.183192</td>\n",
       "      <td>187.573466</td>\n",
       "      <td>4.951674</td>\n",
       "      <td>1.661383</td>\n",
       "      <td>316.593436</td>\n",
       "      <td>95.006424</td>\n",
       "      <td>181.242992</td>\n",
       "      <td>6.758433</td>\n",
       "      <td>60.586525</td>\n",
       "      <td>1</td>\n",
       "      <td>2.976104</td>\n",
       "      <td>282.291951</td>\n",
       "      <td>NaN</td>\n",
       "      <td>28.040619</td>\n",
       "      <td>96.721542</td>\n",
       "      <td>49.530542</td>\n",
       "      <td>23.186628</td>\n",
       "      <td>NaN</td>\n",
       "      <td>Hemolytic anemia</td>\n",
       "    </tr>\n",
       "    <tr>\n",
       "      <th>1</th>\n",
       "      <td>14.387445</td>\n",
       "      <td>NaN</td>\n",
       "      <td>NaN</td>\n",
       "      <td>NaN</td>\n",
       "      <td>NaN</td>\n",
       "      <td>NaN</td>\n",
       "      <td>125.249617</td>\n",
       "      <td>6.350652</td>\n",
       "      <td>86.964793</td>\n",
       "      <td>1</td>\n",
       "      <td>2.968983</td>\n",
       "      <td>158.844879</td>\n",
       "      <td>NaN</td>\n",
       "      <td>98.357508</td>\n",
       "      <td>112.758764</td>\n",
       "      <td>62.464566</td>\n",
       "      <td>7.168920</td>\n",
       "      <td>NaN</td>\n",
       "      <td>No anemia</td>\n",
       "    </tr>\n",
       "    <tr>\n",
       "      <th>2</th>\n",
       "      <td>12.749357</td>\n",
       "      <td>5.012158</td>\n",
       "      <td>3.502800</td>\n",
       "      <td>6.179371</td>\n",
       "      <td>498.418768</td>\n",
       "      <td>76.759285</td>\n",
       "      <td>159.834784</td>\n",
       "      <td>5.018156</td>\n",
       "      <td>67.065069</td>\n",
       "      <td>1</td>\n",
       "      <td>2.705719</td>\n",
       "      <td>442.293823</td>\n",
       "      <td>1.022939</td>\n",
       "      <td>56.850479</td>\n",
       "      <td>75.739552</td>\n",
       "      <td>72.072041</td>\n",
       "      <td>20.600875</td>\n",
       "      <td>44.872138</td>\n",
       "      <td>Iron deficiency anemia</td>\n",
       "    </tr>\n",
       "    <tr>\n",
       "      <th>3</th>\n",
       "      <td>11.508870</td>\n",
       "      <td>197.180945</td>\n",
       "      <td>1.200125</td>\n",
       "      <td>0.000000</td>\n",
       "      <td>457.033309</td>\n",
       "      <td>102.900301</td>\n",
       "      <td>131.177927</td>\n",
       "      <td>6.656823</td>\n",
       "      <td>66.403181</td>\n",
       "      <td>1</td>\n",
       "      <td>1.869338</td>\n",
       "      <td>223.896404</td>\n",
       "      <td>NaN</td>\n",
       "      <td>111.220307</td>\n",
       "      <td>66.999185</td>\n",
       "      <td>18.353272</td>\n",
       "      <td>14.132423</td>\n",
       "      <td>NaN</td>\n",
       "      <td>Unspecified anemia</td>\n",
       "    </tr>\n",
       "    <tr>\n",
       "      <th>4</th>\n",
       "      <td>9.456656</td>\n",
       "      <td>427.952052</td>\n",
       "      <td>NaN</td>\n",
       "      <td>0.660252</td>\n",
       "      <td>NaN</td>\n",
       "      <td>104.543774</td>\n",
       "      <td>NaN</td>\n",
       "      <td>NaN</td>\n",
       "      <td>NaN</td>\n",
       "      <td>0</td>\n",
       "      <td>NaN</td>\n",
       "      <td>NaN</td>\n",
       "      <td>NaN</td>\n",
       "      <td>NaN</td>\n",
       "      <td>NaN</td>\n",
       "      <td>NaN</td>\n",
       "      <td>NaN</td>\n",
       "      <td>NaN</td>\n",
       "      <td>Vitamin B12/Folate deficiency anemia</td>\n",
       "    </tr>\n",
       "  </tbody>\n",
       "</table>\n",
       "</div>"
      ],
      "text/plain": [
       "   hemoglobin    ferritin  ret_count  segmented_neutrophils        tibc  \\\n",
       "0   11.183192  187.573466   4.951674               1.661383  316.593436   \n",
       "1   14.387445         NaN        NaN                    NaN         NaN   \n",
       "2   12.749357    5.012158   3.502800               6.179371  498.418768   \n",
       "3   11.508870  197.180945   1.200125               0.000000  457.033309   \n",
       "4    9.456656  427.952052        NaN               0.660252         NaN   \n",
       "\n",
       "          mcv  serum_iron       rbc        age  gender  indirect_bilirubin  \\\n",
       "0   95.006424  181.242992  6.758433  60.586525       1            2.976104   \n",
       "1         NaN  125.249617  6.350652  86.964793       1            2.968983   \n",
       "2   76.759285  159.834784  5.018156  67.065069       1            2.705719   \n",
       "3  102.900301  131.177927  6.656823  66.403181       1            1.869338   \n",
       "4  104.543774         NaN       NaN        NaN       0                 NaN   \n",
       "\n",
       "   transferrin  creatinine  cholestrol      copper    ethanol     folate  \\\n",
       "0   282.291951         NaN   28.040619   96.721542  49.530542  23.186628   \n",
       "1   158.844879         NaN   98.357508  112.758764  62.464566   7.168920   \n",
       "2   442.293823    1.022939   56.850479   75.739552  72.072041  20.600875   \n",
       "3   223.896404         NaN  111.220307   66.999185  18.353272  14.132423   \n",
       "4          NaN         NaN         NaN         NaN        NaN        NaN   \n",
       "\n",
       "     glucose                                 label  \n",
       "0        NaN                      Hemolytic anemia  \n",
       "1        NaN                             No anemia  \n",
       "2  44.872138                Iron deficiency anemia  \n",
       "3        NaN                    Unspecified anemia  \n",
       "4        NaN  Vitamin B12/Folate deficiency anemia  "
      ]
     },
     "execution_count": 27,
     "metadata": {},
     "output_type": "execute_result"
    }
   ],
   "source": [
    "trial_df.head()"
   ]
  },
  {
   "cell_type": "code",
   "execution_count": 28,
   "metadata": {},
   "outputs": [
    {
     "data": {
      "text/plain": [
       "Vitamin B12/Folate deficiency anemia    10000\n",
       "Unspecified anemia                      10000\n",
       "No anemia                               10000\n",
       "Aplastic anemia                         10000\n",
       "Anemia of chronic disease               10000\n",
       "Hemolytic anemia                        10000\n",
       "Iron deficiency anemia                  10000\n",
       "Name: label, dtype: int64"
      ]
     },
     "execution_count": 28,
     "metadata": {},
     "output_type": "execute_result"
    }
   ],
   "source": [
    "trial_df.label.value_counts()"
   ]
  },
  {
   "cell_type": "code",
   "execution_count": 29,
   "metadata": {},
   "outputs": [],
   "source": [
    "trial_df.to_csv(f'../../data/more_features/more_feats_{nan_frac}.csv', index=False)"
   ]
  },
  {
   "cell_type": "code",
   "execution_count": 30,
   "metadata": {},
   "outputs": [
    {
     "name": "stderr",
     "output_type": "stream",
     "text": [
      "C:\\Users\\User\\Anaconda3\\lib\\site-packages\\sklearn\\utils\\__init__.py:806: DeprecationWarning:\n",
      "\n",
      "`np.int` is a deprecated alias for the builtin `int`. To silence this warning, use `int` by itself. Doing this will not modify any behavior and is safe. When replacing `np.int`, you may wish to use e.g. `np.int64` or `np.int32` to specify the precision. If you wish to review your current use, check the release note link for additional information.\n",
      "Deprecated in NumPy 1.20; for more details and guidance: https://numpy.org/devdocs/release/1.20.0-notes.html#deprecations\n",
      "\n",
      "C:\\Users\\User\\Anaconda3\\lib\\site-packages\\sklearn\\utils\\__init__.py:806: DeprecationWarning:\n",
      "\n",
      "`np.int` is a deprecated alias for the builtin `int`. To silence this warning, use `int` by itself. Doing this will not modify any behavior and is safe. When replacing `np.int`, you may wish to use e.g. `np.int64` or `np.int32` to specify the precision. If you wish to review your current use, check the release note link for additional information.\n",
      "Deprecated in NumPy 1.20; for more details and guidance: https://numpy.org/devdocs/release/1.20.0-notes.html#deprecations\n",
      "\n",
      "C:\\Users\\User\\Anaconda3\\lib\\site-packages\\sklearn\\tree\\tree.py:163: DeprecationWarning:\n",
      "\n",
      "`np.int` is a deprecated alias for the builtin `int`. To silence this warning, use `int` by itself. Doing this will not modify any behavior and is safe. When replacing `np.int`, you may wish to use e.g. `np.int64` or `np.int32` to specify the precision. If you wish to review your current use, check the release note link for additional information.\n",
      "Deprecated in NumPy 1.20; for more details and guidance: https://numpy.org/devdocs/release/1.20.0-notes.html#deprecations\n",
      "\n"
     ]
    },
    {
     "data": {
      "text/plain": [
       "(0.9735238095238096, 0.9735286083517992, 0.9845555555555556)"
      ]
     },
     "execution_count": 30,
     "metadata": {},
     "output_type": "execute_result"
    }
   ],
   "source": [
    "utils.get_dt_performance(trial_df)"
   ]
  },
  {
   "cell_type": "code",
   "execution_count": 31,
   "metadata": {},
   "outputs": [
    {
     "name": "stderr",
     "output_type": "stream",
     "text": [
      "C:\\Users\\User\\Anaconda3\\lib\\site-packages\\sklearn\\utils\\__init__.py:806: DeprecationWarning:\n",
      "\n",
      "`np.int` is a deprecated alias for the builtin `int`. To silence this warning, use `int` by itself. Doing this will not modify any behavior and is safe. When replacing `np.int`, you may wish to use e.g. `np.int64` or `np.int32` to specify the precision. If you wish to review your current use, check the release note link for additional information.\n",
      "Deprecated in NumPy 1.20; for more details and guidance: https://numpy.org/devdocs/release/1.20.0-notes.html#deprecations\n",
      "\n",
      "C:\\Users\\User\\Anaconda3\\lib\\site-packages\\sklearn\\utils\\__init__.py:806: DeprecationWarning:\n",
      "\n",
      "`np.int` is a deprecated alias for the builtin `int`. To silence this warning, use `int` by itself. Doing this will not modify any behavior and is safe. When replacing `np.int`, you may wish to use e.g. `np.int64` or `np.int32` to specify the precision. If you wish to review your current use, check the release note link for additional information.\n",
      "Deprecated in NumPy 1.20; for more details and guidance: https://numpy.org/devdocs/release/1.20.0-notes.html#deprecations\n",
      "\n",
      "C:\\Users\\User\\Anaconda3\\lib\\site-packages\\sklearn\\tree\\tree.py:163: DeprecationWarning:\n",
      "\n",
      "`np.int` is a deprecated alias for the builtin `int`. To silence this warning, use `int` by itself. Doing this will not modify any behavior and is safe. When replacing `np.int`, you may wish to use e.g. `np.int64` or `np.int32` to specify the precision. If you wish to review your current use, check the release note link for additional information.\n",
      "Deprecated in NumPy 1.20; for more details and guidance: https://numpy.org/devdocs/release/1.20.0-notes.html#deprecations\n",
      "\n"
     ]
    },
    {
     "data": {
      "text/plain": [
       "(0.9991428571428571, 0.999034983412542, 0.9993843570360474)"
      ]
     },
     "execution_count": 31,
     "metadata": {},
     "output_type": "execute_result"
    }
   ],
   "source": [
    "trial_df['label'] = trial_df.apply(lambda row: create_label(row), axis=1)\n",
    "utils.get_dt_performance(trial_df)"
   ]
  },
  {
   "cell_type": "code",
   "execution_count": 32,
   "metadata": {},
   "outputs": [],
   "source": [
    "trial_df.to_csv(f'../../data/more_features/more_feats_new_labels_{nan_frac}.csv', index=False)"
   ]
  },
  {
   "cell_type": "code",
   "execution_count": 33,
   "metadata": {},
   "outputs": [
    {
     "data": {
      "text/plain": [
       "No anemia                               10000\n",
       "Anemia of chronic disease                9756\n",
       "Iron deficiency anemia                   9267\n",
       "Unspecified anemia                       9033\n",
       "Aplastic anemia                          9020\n",
       "Vitamin B12/Folate deficiency anemia     9000\n",
       "Hemolytic anemia                         8976\n",
       "Inconclusive diagnosis                   4948\n",
       "Name: label, dtype: int64"
      ]
     },
     "execution_count": 33,
     "metadata": {},
     "output_type": "execute_result"
    }
   ],
   "source": [
    "trial_df.label.value_counts()"
   ]
  },
  {
   "cell_type": "code",
   "execution_count": null,
   "metadata": {},
   "outputs": [],
   "source": []
  }
 ],
 "metadata": {
  "kernelspec": {
   "display_name": "Python 3",
   "language": "python",
   "name": "python3"
  },
  "language_info": {
   "codemirror_mode": {
    "name": "ipython",
    "version": 3
   },
   "file_extension": ".py",
   "mimetype": "text/x-python",
   "name": "python",
   "nbconvert_exporter": "python",
   "pygments_lexer": "ipython3",
   "version": "3.7.4"
  }
 },
 "nbformat": 4,
 "nbformat_minor": 5
}

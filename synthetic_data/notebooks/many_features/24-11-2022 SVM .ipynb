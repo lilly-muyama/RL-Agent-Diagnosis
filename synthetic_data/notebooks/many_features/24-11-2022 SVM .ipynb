{
 "cells": [
  {
   "cell_type": "code",
   "execution_count": 1,
   "id": "f0d48d05",
   "metadata": {},
   "outputs": [],
   "source": [
    "import pandas as pd\n",
    "import numpy as np\n",
    "import random\n",
    "import seaborn as sns\n",
    "import matplotlib.pyplot as plt\n",
    "from sklearn.preprocessing import label_binarize, LabelBinarizer\n",
    "import sys\n",
    "sys.path.append('../..')\n",
    "from modules.many_features import utils, constants"
   ]
  },
  {
   "cell_type": "code",
   "execution_count": 2,
   "id": "f8c40edb",
   "metadata": {},
   "outputs": [],
   "source": [
    "SEED = 42\n",
    "np.random.seed(SEED)\n",
    "random.seed(SEED)"
   ]
  },
  {
   "cell_type": "markdown",
   "id": "4842fdf3",
   "metadata": {},
   "source": [
    "#### The Datasets"
   ]
  },
  {
   "cell_type": "code",
   "execution_count": 59,
   "id": "3aba48a9",
   "metadata": {},
   "outputs": [
    {
     "data": {
      "text/html": [
       "<div>\n",
       "<style scoped>\n",
       "    .dataframe tbody tr th:only-of-type {\n",
       "        vertical-align: middle;\n",
       "    }\n",
       "\n",
       "    .dataframe tbody tr th {\n",
       "        vertical-align: top;\n",
       "    }\n",
       "\n",
       "    .dataframe thead th {\n",
       "        text-align: right;\n",
       "    }\n",
       "</style>\n",
       "<table border=\"1\" class=\"dataframe\">\n",
       "  <thead>\n",
       "    <tr style=\"text-align: right;\">\n",
       "      <th></th>\n",
       "      <th>hemoglobin</th>\n",
       "      <th>ferritin</th>\n",
       "      <th>ret_count</th>\n",
       "      <th>segmented_neutrophils</th>\n",
       "      <th>tibc</th>\n",
       "      <th>mcv</th>\n",
       "      <th>serum_iron</th>\n",
       "      <th>rbc</th>\n",
       "      <th>gender</th>\n",
       "      <th>creatinine</th>\n",
       "      <th>cholestrol</th>\n",
       "      <th>copper</th>\n",
       "      <th>ethanol</th>\n",
       "      <th>folate</th>\n",
       "      <th>glucose</th>\n",
       "      <th>hematocrit</th>\n",
       "      <th>tsat</th>\n",
       "    </tr>\n",
       "  </thead>\n",
       "  <tbody>\n",
       "    <tr>\n",
       "      <th>0</th>\n",
       "      <td>6.104489</td>\n",
       "      <td>-1.000000</td>\n",
       "      <td>-1.000000</td>\n",
       "      <td>0.920616</td>\n",
       "      <td>150.863286</td>\n",
       "      <td>77.936869</td>\n",
       "      <td>45.018443</td>\n",
       "      <td>2.349782</td>\n",
       "      <td>1</td>\n",
       "      <td>1.297655</td>\n",
       "      <td>34.961997</td>\n",
       "      <td>60.378870</td>\n",
       "      <td>7.798268</td>\n",
       "      <td>6.015069</td>\n",
       "      <td>112.750517</td>\n",
       "      <td>18.313467</td>\n",
       "      <td>29.840555</td>\n",
       "    </tr>\n",
       "    <tr>\n",
       "      <th>1</th>\n",
       "      <td>7.781663</td>\n",
       "      <td>215.967826</td>\n",
       "      <td>1.643871</td>\n",
       "      <td>5.956930</td>\n",
       "      <td>-1.000000</td>\n",
       "      <td>85.512847</td>\n",
       "      <td>-1.000000</td>\n",
       "      <td>2.729998</td>\n",
       "      <td>0</td>\n",
       "      <td>1.157021</td>\n",
       "      <td>87.155613</td>\n",
       "      <td>-1.000000</td>\n",
       "      <td>-1.000000</td>\n",
       "      <td>-1.000000</td>\n",
       "      <td>-1.000000</td>\n",
       "      <td>23.344989</td>\n",
       "      <td>-1.000000</td>\n",
       "    </tr>\n",
       "    <tr>\n",
       "      <th>2</th>\n",
       "      <td>10.306951</td>\n",
       "      <td>-1.000000</td>\n",
       "      <td>-1.000000</td>\n",
       "      <td>3.269642</td>\n",
       "      <td>361.637557</td>\n",
       "      <td>101.949912</td>\n",
       "      <td>213.802158</td>\n",
       "      <td>3.032946</td>\n",
       "      <td>0</td>\n",
       "      <td>1.983531</td>\n",
       "      <td>3.371683</td>\n",
       "      <td>128.512264</td>\n",
       "      <td>14.157427</td>\n",
       "      <td>19.486851</td>\n",
       "      <td>133.035690</td>\n",
       "      <td>30.920853</td>\n",
       "      <td>59.120563</td>\n",
       "    </tr>\n",
       "    <tr>\n",
       "      <th>3</th>\n",
       "      <td>8.034653</td>\n",
       "      <td>-1.000000</td>\n",
       "      <td>5.322562</td>\n",
       "      <td>1.290493</td>\n",
       "      <td>-1.000000</td>\n",
       "      <td>89.288985</td>\n",
       "      <td>-1.000000</td>\n",
       "      <td>2.699544</td>\n",
       "      <td>0</td>\n",
       "      <td>1.135298</td>\n",
       "      <td>57.357480</td>\n",
       "      <td>73.669678</td>\n",
       "      <td>-1.000000</td>\n",
       "      <td>1.485512</td>\n",
       "      <td>-1.000000</td>\n",
       "      <td>24.103959</td>\n",
       "      <td>-1.000000</td>\n",
       "    </tr>\n",
       "    <tr>\n",
       "      <th>4</th>\n",
       "      <td>8.314152</td>\n",
       "      <td>-1.000000</td>\n",
       "      <td>0.222138</td>\n",
       "      <td>6.084132</td>\n",
       "      <td>-1.000000</td>\n",
       "      <td>81.319810</td>\n",
       "      <td>-1.000000</td>\n",
       "      <td>3.067205</td>\n",
       "      <td>1</td>\n",
       "      <td>-1.000000</td>\n",
       "      <td>-1.000000</td>\n",
       "      <td>-1.000000</td>\n",
       "      <td>-1.000000</td>\n",
       "      <td>-1.000000</td>\n",
       "      <td>-1.000000</td>\n",
       "      <td>24.942456</td>\n",
       "      <td>-1.000000</td>\n",
       "    </tr>\n",
       "  </tbody>\n",
       "</table>\n",
       "</div>"
      ],
      "text/plain": [
       "   hemoglobin    ferritin  ret_count  segmented_neutrophils        tibc  \\\n",
       "0    6.104489   -1.000000  -1.000000               0.920616  150.863286   \n",
       "1    7.781663  215.967826   1.643871               5.956930   -1.000000   \n",
       "2   10.306951   -1.000000  -1.000000               3.269642  361.637557   \n",
       "3    8.034653   -1.000000   5.322562               1.290493   -1.000000   \n",
       "4    8.314152   -1.000000   0.222138               6.084132   -1.000000   \n",
       "\n",
       "          mcv  serum_iron       rbc  gender  creatinine  cholestrol  \\\n",
       "0   77.936869   45.018443  2.349782       1    1.297655   34.961997   \n",
       "1   85.512847   -1.000000  2.729998       0    1.157021   87.155613   \n",
       "2  101.949912  213.802158  3.032946       0    1.983531    3.371683   \n",
       "3   89.288985   -1.000000  2.699544       0    1.135298   57.357480   \n",
       "4   81.319810   -1.000000  3.067205       1   -1.000000   -1.000000   \n",
       "\n",
       "       copper    ethanol     folate     glucose  hematocrit       tsat  \n",
       "0   60.378870   7.798268   6.015069  112.750517   18.313467  29.840555  \n",
       "1   -1.000000  -1.000000  -1.000000   -1.000000   23.344989  -1.000000  \n",
       "2  128.512264  14.157427  19.486851  133.035690   30.920853  59.120563  \n",
       "3   73.669678  -1.000000   1.485512   -1.000000   24.103959  -1.000000  \n",
       "4   -1.000000  -1.000000  -1.000000   -1.000000   24.942456  -1.000000  "
      ]
     },
     "execution_count": 59,
     "metadata": {},
     "output_type": "execute_result"
    }
   ],
   "source": [
    "train_df = pd.read_csv('../../final/data/train_set_0.05')\n",
    "train_df = train_df.fillna(-1)\n",
    "X_train = train_df.iloc[:, 0:-1]\n",
    "y_train = train_df.iloc[:, -1]\n",
    "X_train.head()"
   ]
  },
  {
   "cell_type": "code",
   "execution_count": 60,
   "id": "0c7fe01d",
   "metadata": {},
   "outputs": [
    {
     "data": {
      "text/html": [
       "<div>\n",
       "<style scoped>\n",
       "    .dataframe tbody tr th:only-of-type {\n",
       "        vertical-align: middle;\n",
       "    }\n",
       "\n",
       "    .dataframe tbody tr th {\n",
       "        vertical-align: top;\n",
       "    }\n",
       "\n",
       "    .dataframe thead th {\n",
       "        text-align: right;\n",
       "    }\n",
       "</style>\n",
       "<table border=\"1\" class=\"dataframe\">\n",
       "  <thead>\n",
       "    <tr style=\"text-align: right;\">\n",
       "      <th></th>\n",
       "      <th>hemoglobin</th>\n",
       "      <th>ferritin</th>\n",
       "      <th>ret_count</th>\n",
       "      <th>segmented_neutrophils</th>\n",
       "      <th>tibc</th>\n",
       "      <th>mcv</th>\n",
       "      <th>serum_iron</th>\n",
       "      <th>rbc</th>\n",
       "      <th>gender</th>\n",
       "      <th>creatinine</th>\n",
       "      <th>cholestrol</th>\n",
       "      <th>copper</th>\n",
       "      <th>ethanol</th>\n",
       "      <th>folate</th>\n",
       "      <th>glucose</th>\n",
       "      <th>hematocrit</th>\n",
       "      <th>tsat</th>\n",
       "    </tr>\n",
       "  </thead>\n",
       "  <tbody>\n",
       "    <tr>\n",
       "      <th>0</th>\n",
       "      <td>7.116363</td>\n",
       "      <td>-1.000000</td>\n",
       "      <td>3.781573</td>\n",
       "      <td>2.738413</td>\n",
       "      <td>-1.000000</td>\n",
       "      <td>95.904198</td>\n",
       "      <td>68.457895</td>\n",
       "      <td>2.226085</td>\n",
       "      <td>0</td>\n",
       "      <td>1.892912</td>\n",
       "      <td>39.808550</td>\n",
       "      <td>110.329197</td>\n",
       "      <td>64.404350</td>\n",
       "      <td>21.654404</td>\n",
       "      <td>73.787009</td>\n",
       "      <td>21.349089</td>\n",
       "      <td>-1.000000</td>\n",
       "    </tr>\n",
       "    <tr>\n",
       "      <th>1</th>\n",
       "      <td>8.125320</td>\n",
       "      <td>92.230003</td>\n",
       "      <td>4.231419</td>\n",
       "      <td>1.188039</td>\n",
       "      <td>143.365567</td>\n",
       "      <td>104.057204</td>\n",
       "      <td>204.747831</td>\n",
       "      <td>2.342554</td>\n",
       "      <td>0</td>\n",
       "      <td>0.652614</td>\n",
       "      <td>13.478089</td>\n",
       "      <td>-1.000000</td>\n",
       "      <td>32.705481</td>\n",
       "      <td>-1.000000</td>\n",
       "      <td>43.520272</td>\n",
       "      <td>24.375961</td>\n",
       "      <td>142.815207</td>\n",
       "    </tr>\n",
       "    <tr>\n",
       "      <th>2</th>\n",
       "      <td>11.309450</td>\n",
       "      <td>38.324563</td>\n",
       "      <td>-1.000000</td>\n",
       "      <td>-1.000000</td>\n",
       "      <td>455.077909</td>\n",
       "      <td>76.402602</td>\n",
       "      <td>-1.000000</td>\n",
       "      <td>4.440732</td>\n",
       "      <td>0</td>\n",
       "      <td>-1.000000</td>\n",
       "      <td>-1.000000</td>\n",
       "      <td>-1.000000</td>\n",
       "      <td>-1.000000</td>\n",
       "      <td>-1.000000</td>\n",
       "      <td>-1.000000</td>\n",
       "      <td>33.928350</td>\n",
       "      <td>-1.000000</td>\n",
       "    </tr>\n",
       "    <tr>\n",
       "      <th>3</th>\n",
       "      <td>13.763858</td>\n",
       "      <td>253.513394</td>\n",
       "      <td>2.262606</td>\n",
       "      <td>0.551444</td>\n",
       "      <td>453.772884</td>\n",
       "      <td>82.781943</td>\n",
       "      <td>90.101466</td>\n",
       "      <td>4.987993</td>\n",
       "      <td>0</td>\n",
       "      <td>0.853521</td>\n",
       "      <td>104.005514</td>\n",
       "      <td>34.639227</td>\n",
       "      <td>0.963866</td>\n",
       "      <td>22.083012</td>\n",
       "      <td>88.891838</td>\n",
       "      <td>41.291574</td>\n",
       "      <td>19.856071</td>\n",
       "    </tr>\n",
       "    <tr>\n",
       "      <th>4</th>\n",
       "      <td>11.464002</td>\n",
       "      <td>-1.000000</td>\n",
       "      <td>-1.000000</td>\n",
       "      <td>-1.000000</td>\n",
       "      <td>320.964653</td>\n",
       "      <td>104.287127</td>\n",
       "      <td>-1.000000</td>\n",
       "      <td>3.297819</td>\n",
       "      <td>0</td>\n",
       "      <td>1.163516</td>\n",
       "      <td>121.616315</td>\n",
       "      <td>105.895897</td>\n",
       "      <td>-1.000000</td>\n",
       "      <td>9.337462</td>\n",
       "      <td>-1.000000</td>\n",
       "      <td>34.392007</td>\n",
       "      <td>-1.000000</td>\n",
       "    </tr>\n",
       "  </tbody>\n",
       "</table>\n",
       "</div>"
      ],
      "text/plain": [
       "   hemoglobin    ferritin  ret_count  segmented_neutrophils        tibc  \\\n",
       "0    7.116363   -1.000000   3.781573               2.738413   -1.000000   \n",
       "1    8.125320   92.230003   4.231419               1.188039  143.365567   \n",
       "2   11.309450   38.324563  -1.000000              -1.000000  455.077909   \n",
       "3   13.763858  253.513394   2.262606               0.551444  453.772884   \n",
       "4   11.464002   -1.000000  -1.000000              -1.000000  320.964653   \n",
       "\n",
       "          mcv  serum_iron       rbc  gender  creatinine  cholestrol  \\\n",
       "0   95.904198   68.457895  2.226085       0    1.892912   39.808550   \n",
       "1  104.057204  204.747831  2.342554       0    0.652614   13.478089   \n",
       "2   76.402602   -1.000000  4.440732       0   -1.000000   -1.000000   \n",
       "3   82.781943   90.101466  4.987993       0    0.853521  104.005514   \n",
       "4  104.287127   -1.000000  3.297819       0    1.163516  121.616315   \n",
       "\n",
       "       copper    ethanol     folate    glucose  hematocrit        tsat  \n",
       "0  110.329197  64.404350  21.654404  73.787009   21.349089   -1.000000  \n",
       "1   -1.000000  32.705481  -1.000000  43.520272   24.375961  142.815207  \n",
       "2   -1.000000  -1.000000  -1.000000  -1.000000   33.928350   -1.000000  \n",
       "3   34.639227   0.963866  22.083012  88.891838   41.291574   19.856071  \n",
       "4  105.895897  -1.000000   9.337462  -1.000000   34.392007   -1.000000  "
      ]
     },
     "execution_count": 60,
     "metadata": {},
     "output_type": "execute_result"
    }
   ],
   "source": [
    "test_df = pd.read_csv('../../final/data/test_set_constant.csv')\n",
    "X_test = test_df.iloc[:, 0:-1]\n",
    "y_test = test_df.iloc[:, -1]\n",
    "X_test.head()"
   ]
  },
  {
   "cell_type": "code",
   "execution_count": 61,
   "id": "7f4e890a",
   "metadata": {},
   "outputs": [
    {
     "data": {
      "text/plain": [
       "((2800, 17), (14000, 17), (2800,), (14000,))"
      ]
     },
     "execution_count": 61,
     "metadata": {},
     "output_type": "execute_result"
    }
   ],
   "source": [
    "X_train, y_train = np.array(X_train), np.array(y_train)\n",
    "X_test, y_test = np.array(X_test), np.array(y_test)\n",
    "X_train.shape, X_test.shape, y_train.shape, y_test.shape"
   ]
  },
  {
   "cell_type": "code",
   "execution_count": 62,
   "id": "568c5a88",
   "metadata": {},
   "outputs": [
    {
     "data": {
      "text/plain": [
       "array([5, 1, 4, ..., 2, 4, 6])"
      ]
     },
     "execution_count": 62,
     "metadata": {},
     "output_type": "execute_result"
    }
   ],
   "source": [
    "y_test"
   ]
  },
  {
   "cell_type": "markdown",
   "id": "70a49beb",
   "metadata": {},
   "source": [
    "#### Normalizing X"
   ]
  },
  {
   "cell_type": "code",
   "execution_count": 63,
   "id": "1c8f4d09",
   "metadata": {},
   "outputs": [],
   "source": [
    "from sklearn.preprocessing import MinMaxScaler"
   ]
  },
  {
   "cell_type": "code",
   "execution_count": 64,
   "id": "f84a6a0c",
   "metadata": {},
   "outputs": [],
   "source": [
    "mmc = MinMaxScaler()"
   ]
  },
  {
   "cell_type": "code",
   "execution_count": 65,
   "id": "2396768c",
   "metadata": {},
   "outputs": [],
   "source": [
    "X_train_norm = mmc.fit_transform(X_train)\n",
    "X_test_norm = mmc.transform(X_test)"
   ]
  },
  {
   "cell_type": "code",
   "execution_count": 66,
   "id": "fae7148f",
   "metadata": {},
   "outputs": [
    {
     "data": {
      "text/plain": [
       "((2800, 17), (14000, 17))"
      ]
     },
     "execution_count": 66,
     "metadata": {},
     "output_type": "execute_result"
    }
   ],
   "source": [
    "X_train_norm.shape, X_test_norm.shape"
   ]
  },
  {
   "cell_type": "markdown",
   "id": "78698f77",
   "metadata": {},
   "source": [
    "#### Support Vector Machine"
   ]
  },
  {
   "cell_type": "code",
   "execution_count": 67,
   "id": "e56536e3",
   "metadata": {},
   "outputs": [
    {
     "data": {
      "text/plain": [
       "y_actual    0\n",
       "y_pred      0\n",
       "dtype: int64"
      ]
     },
     "execution_count": 67,
     "metadata": {},
     "output_type": "execute_result"
    }
   ],
   "source": [
    "from sklearn.svm import SVC\n",
    "svm_model = SVC(kernel='linear', C=1, decision_function_shape='ovo', random_state=constants.SEED).fit(X_train_norm, y_train)\n",
    "y_pred_svm = svm_model.predict(X_test_norm)\n",
    "test_df_svm = pd.DataFrame()\n",
    "test_df_svm['y_actual'] = y_test\n",
    "test_df_svm['y_pred'] = y_pred_svm\n",
    "test_df_svm.isna().sum()"
   ]
  },
  {
   "cell_type": "code",
   "execution_count": 68,
   "id": "1e244a1b",
   "metadata": {},
   "outputs": [
    {
     "data": {
      "text/plain": [
       "75.91428571428571"
      ]
     },
     "execution_count": 68,
     "metadata": {},
     "output_type": "execute_result"
    }
   ],
   "source": [
    "success_rate_svm, success_df_svm = utils.success_rate(test_df_svm)\n",
    "success_rate_svm"
   ]
  },
  {
   "cell_type": "code",
   "execution_count": 69,
   "id": "83ae211b",
   "metadata": {},
   "outputs": [
    {
     "data": {
      "text/plain": [
       "(0.7591428571428571, 0.7258051390121358, 0.8523933709329672)"
      ]
     },
     "execution_count": 69,
     "metadata": {},
     "output_type": "execute_result"
    }
   ],
   "source": [
    "acc_svm, f1_svm, roc_auc_svm = utils.test(test_df_svm['y_actual'], test_df_svm['y_pred'])\n",
    "acc_svm, f1_svm, roc_auc_svm"
   ]
  },
  {
   "cell_type": "markdown",
   "id": "0d772f7f",
   "metadata": {},
   "source": [
    "#### Feed-forward Neural Network - Keras"
   ]
  },
  {
   "cell_type": "code",
   "execution_count": 58,
   "id": "84e9832a",
   "metadata": {},
   "outputs": [
    {
     "name": "stderr",
     "output_type": "stream",
     "text": [
      "2022-11-28 01:54:19.556009: I tensorflow/core/platform/cpu_feature_guard.cc:193] This TensorFlow binary is optimized with oneAPI Deep Neural Network Library (oneDNN) to use the following CPU instructions in performance-critical operations:  AVX2 FMA\n",
      "To enable them in other operations, rebuild TensorFlow with the appropriate compiler flags.\n",
      "2022-11-28 01:54:21.450152: W tensorflow/compiler/xla/stream_executor/platform/default/dso_loader.cc:64] Could not load dynamic library 'libnvinfer.so.7'; dlerror: libnvinfer.so.7: cannot open shared object file: No such file or directory\n",
      "2022-11-28 01:54:21.450305: W tensorflow/compiler/xla/stream_executor/platform/default/dso_loader.cc:64] Could not load dynamic library 'libnvinfer_plugin.so.7'; dlerror: libnvinfer_plugin.so.7: cannot open shared object file: No such file or directory\n",
      "2022-11-28 01:54:21.450316: W tensorflow/compiler/tf2tensorrt/utils/py_utils.cc:38] TF-TRT Warning: Cannot dlopen some TensorRT libraries. If you would like to use Nvidia GPU with TensorRT, please make sure the missing libraries mentioned above are installed properly.\n"
     ]
    }
   ],
   "source": [
    "from keras.models import Sequential\n",
    "from keras.layers import Dense, Dropout\n",
    "from keras.wrappers.scikit_learn import KerasClassifier\n",
    "from keras.utils import np_utils\n",
    "from sklearn.preprocessing import LabelEncoder\n",
    "from keras import backend as K\n",
    "import keras"
   ]
  },
  {
   "cell_type": "code",
   "execution_count": 17,
   "id": "b7bf8276",
   "metadata": {},
   "outputs": [],
   "source": [
    "#keras.utils.set_random_seed(42)"
   ]
  },
  {
   "cell_type": "code",
   "execution_count": 18,
   "id": "5cef8387",
   "metadata": {},
   "outputs": [],
   "source": [
    "def recall_m(y_true, y_pred):\n",
    "    true_positives = K.sum(K.round(K.clip(y_true * y_pred, 0, 1)))\n",
    "    possible_positives = K.sum(K.round(K.clip(y_true, 0, 1)))\n",
    "    recall = true_positives / (possible_positives + K.epsilon())\n",
    "    return recall\n",
    "\n",
    "def precision_m(y_true, y_pred):\n",
    "    true_positives = K.sum(K.round(K.clip(y_true * y_pred, 0, 1)))\n",
    "    predicted_positives = K.sum(K.round(K.clip(y_pred, 0, 1)))\n",
    "    precision = true_positives / (predicted_positives + K.epsilon())\n",
    "    return precision\n",
    "\n",
    "def f1_m(y_true, y_pred):\n",
    "    precision = precision_m(y_true, y_pred)\n",
    "    recall = recall_m(y_true, y_pred)\n",
    "    return 2*((precision*recall)/(precision+recall+K.epsilon()))"
   ]
  },
  {
   "cell_type": "code",
   "execution_count": 19,
   "id": "fba0bccd",
   "metadata": {},
   "outputs": [
    {
     "data": {
      "text/plain": [
       "((56000, 8), (14000, 8))"
      ]
     },
     "execution_count": 19,
     "metadata": {},
     "output_type": "execute_result"
    }
   ],
   "source": [
    "def numerize_labels(pd_series):\n",
    "    series_copy = pd_series.copy()\n",
    "    series_copy = series_copy.map(class_dict)\n",
    "    return series_copy\n",
    "\n",
    "y_train_num = y_train\n",
    "y_test_num = y_test\n",
    "\n",
    "dummy_y_train = np_utils.to_categorical(y_train_num)\n",
    "dummy_y_test = np_utils.to_categorical(y_test_num)\n",
    "dummy_y_train.shape, dummy_y_test.shape"
   ]
  },
  {
   "cell_type": "code",
   "execution_count": 20,
   "id": "bb559992",
   "metadata": {},
   "outputs": [
    {
     "name": "stderr",
     "output_type": "stream",
     "text": [
      "2022-11-24 20:01:27.447634: W tensorflow/compiler/xla/stream_executor/platform/default/dso_loader.cc:64] Could not load dynamic library 'libcuda.so.1'; dlerror: libcuda.so.1: cannot open shared object file: No such file or directory\n",
      "2022-11-24 20:01:27.447667: W tensorflow/compiler/xla/stream_executor/cuda/cuda_driver.cc:265] failed call to cuInit: UNKNOWN ERROR (303)\n",
      "2022-11-24 20:01:27.447687: I tensorflow/compiler/xla/stream_executor/cuda/cuda_diagnostics.cc:156] kernel driver does not appear to be running on this host (pl823-pro.paris.inria.fr): /proc/driver/nvidia/version does not exist\n",
      "2022-11-24 20:01:27.447896: I tensorflow/core/platform/cpu_feature_guard.cc:193] This TensorFlow binary is optimized with oneAPI Deep Neural Network Library (oneDNN) to use the following CPU instructions in performance-critical operations:  AVX2 FMA\n",
      "To enable them in other operations, rebuild TensorFlow with the appropriate compiler flags.\n"
     ]
    },
    {
     "data": {
      "text/plain": [
       "(1.9023798704147339, 0.267214298248291, 0.0, 0.0, 0.0)"
      ]
     },
     "execution_count": 20,
     "metadata": {},
     "output_type": "execute_result"
    }
   ],
   "source": [
    "model = Sequential()\n",
    "model.add(Dropout(0.5, input_shape=(17,)))\n",
    "model.add(Dense(16, activation='relu'))\n",
    "model.add(Dropout(0.5))\n",
    "model.add(Dense(8, activation='softmax'))\n",
    "model.compile(loss='categorical_crossentropy', optimizer='adam', metrics=['accuracy', f1_m, precision_m, recall_m])\n",
    "history = model.fit(X_train_norm, dummy_y_train, epochs=100, batch_size=1024, shuffle=True, validation_split=0.20, verbose=0)\n",
    "#model.save('../models/baselines/synthentic_nn.h5')\n",
    "loss, accuracy, f1, precision, recall = model.evaluate(X_test_norm, dummy_y_test, verbose=0)\n",
    "loss, accuracy, f1, precision, recall"
   ]
  },
  {
   "cell_type": "code",
   "execution_count": 21,
   "id": "6c9e138a",
   "metadata": {},
   "outputs": [
    {
     "name": "stdout",
     "output_type": "stream",
     "text": [
      "438/438 [==============================] - 1s 2ms/step\n"
     ]
    },
    {
     "data": {
      "text/plain": [
       "array([0, 1, 2, 3, 6])"
      ]
     },
     "execution_count": 21,
     "metadata": {},
     "output_type": "execute_result"
    }
   ],
   "source": [
    "#Alternatively\n",
    "y_pred1_nn = model.predict(X_test_norm)\n",
    "y_pred_nn = np.argmax(y_pred1_nn, axis=1)\n",
    "np.unique(y_pred_nn)"
   ]
  },
  {
   "cell_type": "code",
   "execution_count": 22,
   "id": "9b27f193",
   "metadata": {},
   "outputs": [
    {
     "data": {
      "text/plain": [
       "y_actual    0\n",
       "y_pred      0\n",
       "dtype: int64"
      ]
     },
     "execution_count": 22,
     "metadata": {},
     "output_type": "execute_result"
    }
   ],
   "source": [
    "test_df_nn = pd.DataFrame()\n",
    "test_df_nn['y_actual'] = y_test\n",
    "test_df_nn['y_pred'] = y_pred_nn\n",
    "test_df_nn.isna().sum()"
   ]
  },
  {
   "cell_type": "code",
   "execution_count": 23,
   "id": "5a263081",
   "metadata": {},
   "outputs": [
    {
     "data": {
      "text/plain": [
       "26.721428571428575"
      ]
     },
     "execution_count": 23,
     "metadata": {},
     "output_type": "execute_result"
    }
   ],
   "source": [
    "success_rate_nn, success_df_nn = utils.success_rate(test_df_nn)\n",
    "success_rate_nn"
   ]
  },
  {
   "cell_type": "code",
   "execution_count": 24,
   "id": "b24c2789",
   "metadata": {},
   "outputs": [
    {
     "data": {
      "text/plain": [
       "(0.26721428571428574, 0.17606350707284107, 0.5727130314417213)"
      ]
     },
     "execution_count": 24,
     "metadata": {},
     "output_type": "execute_result"
    }
   ],
   "source": [
    "acc_nn, f1_nn, roc_auc_nn = utils.test(test_df_nn['y_actual'], test_df_nn['y_pred'])\n",
    "acc_nn, f1_nn, roc_auc_nn"
   ]
  },
  {
   "cell_type": "code",
   "execution_count": null,
   "id": "3b90caff",
   "metadata": {},
   "outputs": [],
   "source": []
  }
 ],
 "metadata": {
  "kernelspec": {
   "display_name": "Python 3 (ipykernel)",
   "language": "python",
   "name": "python3"
  },
  "language_info": {
   "codemirror_mode": {
    "name": "ipython",
    "version": 3
   },
   "file_extension": ".py",
   "mimetype": "text/x-python",
   "name": "python",
   "nbconvert_exporter": "python",
   "pygments_lexer": "ipython3",
   "version": "3.7.4"
  }
 },
 "nbformat": 4,
 "nbformat_minor": 5
}

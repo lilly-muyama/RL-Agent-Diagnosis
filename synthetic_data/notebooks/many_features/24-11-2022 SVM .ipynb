{
 "cells": [
  {
   "cell_type": "code",
   "execution_count": null,
   "id": "f0d48d05",
   "metadata": {},
   "outputs": [],
   "source": [
    "import pandas as pd\n",
    "import numpy as np\n",
    "import random\n",
    "import seaborn as sns\n",
    "import matplotlib.pyplot as plt\n",
    "from sklearn.preprocessing import label_binarize, LabelBinarizer\n",
    "import sys\n",
    "sys.path.append('../..')\n",
    "from modules.many_features import utils, constants"
   ]
  },
  {
   "cell_type": "code",
   "execution_count": null,
   "id": "f8c40edb",
   "metadata": {},
   "outputs": [],
   "source": [
    "SEED = 42\n",
    "np.random.seed(SEED)\n",
    "random.seed(SEED)"
   ]
  },
  {
   "cell_type": "markdown",
   "id": "4842fdf3",
   "metadata": {},
   "source": [
    "#### The Datasets"
   ]
  },
  {
   "cell_type": "code",
   "execution_count": null,
   "id": "3aba48a9",
   "metadata": {},
   "outputs": [],
   "source": [
    "#train_df = pd.read_csv('../../final/data/train_set_noisy_6_missing_3.csv')\n",
    "train_df = pd.read_csv('../../final/data/train_set_basic.csv')\n",
    "train_df = train_df.fillna(-1)\n",
    "X_train = train_df.iloc[:, 0:-1]\n",
    "y_train = train_df.iloc[:, -1]\n",
    "X_train.head()"
   ]
  },
  {
   "cell_type": "code",
   "execution_count": null,
   "id": "0c7fe01d",
   "metadata": {},
   "outputs": [],
   "source": [
    "test_df = pd.read_csv('../../final/data/test_set_constant.csv')\n",
    "X_test = test_df.iloc[:, 0:-1]\n",
    "y_test = test_df.iloc[:, -1]\n",
    "X_test.head()"
   ]
  },
  {
   "cell_type": "code",
   "execution_count": null,
   "id": "7f4e890a",
   "metadata": {},
   "outputs": [],
   "source": [
    "X_train, y_train = np.array(X_train), np.array(y_train)\n",
    "X_test, y_test = np.array(X_test), np.array(y_test)\n",
    "X_train.shape, X_test.shape, y_train.shape, y_test.shape"
   ]
  },
  {
   "cell_type": "code",
   "execution_count": null,
   "id": "568c5a88",
   "metadata": {},
   "outputs": [],
   "source": [
    "y_test"
   ]
  },
  {
   "cell_type": "markdown",
   "id": "e86591fe",
   "metadata": {},
   "source": [
    "#### Performance before normalizing"
   ]
  },
  {
   "cell_type": "code",
   "execution_count": null,
   "id": "cd4a00ec",
   "metadata": {},
   "outputs": [],
   "source": [
    "from sklearn.svm import SVC\n",
    "svm_model = SVC(kernel='linear', C=1, decision_function_shape='ovo', random_state=constants.SEED).fit(X_train, y_train)\n",
    "y_pred_svm = svm_model.predict(X_test)\n",
    "test_df_svm = pd.DataFrame()\n",
    "test_df_svm['y_actual'] = y_test\n",
    "test_df_svm['y_pred'] = y_pred_svm\n",
    "test_df_svm.isna().sum()"
   ]
  },
  {
   "cell_type": "code",
   "execution_count": null,
   "id": "63688a31",
   "metadata": {},
   "outputs": [],
   "source": [
    "acc_svm, f1_svm, roc_auc_svm = utils.test(test_df_svm['y_actual'], test_df_svm['y_pred'])\n",
    "acc_svm, f1_svm, roc_auc_svm"
   ]
  },
  {
   "cell_type": "code",
   "execution_count": null,
   "id": "6d5a6af2",
   "metadata": {},
   "outputs": [],
   "source": []
  },
  {
   "cell_type": "code",
   "execution_count": null,
   "id": "4eba2ceb",
   "metadata": {},
   "outputs": [],
   "source": []
  },
  {
   "cell_type": "markdown",
   "id": "70a49beb",
   "metadata": {},
   "source": [
    "#### Normalizing X"
   ]
  },
  {
   "cell_type": "code",
   "execution_count": null,
   "id": "1c8f4d09",
   "metadata": {},
   "outputs": [],
   "source": [
    "from sklearn.preprocessing import MinMaxScaler"
   ]
  },
  {
   "cell_type": "code",
   "execution_count": null,
   "id": "f84a6a0c",
   "metadata": {},
   "outputs": [],
   "source": [
    "mmc = MinMaxScaler()"
   ]
  },
  {
   "cell_type": "code",
   "execution_count": null,
   "id": "2396768c",
   "metadata": {},
   "outputs": [],
   "source": [
    "X_train_norm = mmc.fit_transform(X_train)\n",
    "X_test_norm = mmc.transform(X_test)"
   ]
  },
  {
   "cell_type": "code",
   "execution_count": null,
   "id": "fae7148f",
   "metadata": {},
   "outputs": [],
   "source": [
    "X_train_norm.shape, X_test_norm.shape"
   ]
  },
  {
   "cell_type": "markdown",
   "id": "78698f77",
   "metadata": {},
   "source": [
    "#### Support Vector Machine"
   ]
  },
  {
   "cell_type": "code",
   "execution_count": null,
   "id": "e56536e3",
   "metadata": {},
   "outputs": [],
   "source": [
    "from sklearn.svm import SVC\n",
    "svm_model = SVC(kernel='linear', C=1, decision_function_shape='ovo', random_state=constants.SEED).fit(X_train_norm, y_train)\n",
    "y_pred_svm = svm_model.predict(X_test_norm)\n",
    "test_df_svm = pd.DataFrame()\n",
    "test_df_svm['y_actual'] = y_test\n",
    "test_df_svm['y_pred'] = y_pred_svm\n",
    "test_df_svm.isna().sum()"
   ]
  },
  {
   "cell_type": "code",
   "execution_count": null,
   "id": "1e244a1b",
   "metadata": {},
   "outputs": [],
   "source": [
    "success_rate_svm, success_df_svm = utils.success_rate(test_df_svm)\n",
    "success_rate_svm"
   ]
  },
  {
   "cell_type": "code",
   "execution_count": null,
   "id": "83ae211b",
   "metadata": {},
   "outputs": [],
   "source": [
    "acc_svm, f1_svm, roc_auc_svm = utils.test(test_df_svm['y_actual'], test_df_svm['y_pred'])\n",
    "acc_svm, f1_svm, roc_auc_svm"
   ]
  },
  {
   "cell_type": "markdown",
   "id": "0d772f7f",
   "metadata": {},
   "source": [
    "#### Feed-forward Neural Network - Keras"
   ]
  },
  {
   "cell_type": "code",
   "execution_count": null,
   "id": "84e9832a",
   "metadata": {},
   "outputs": [],
   "source": [
    "from keras.models import Sequential\n",
    "from keras.layers import Dense, Dropout\n",
    "from keras.wrappers.scikit_learn import KerasClassifier\n",
    "from keras.utils import np_utils\n",
    "from sklearn.preprocessing import LabelEncoder\n",
    "from keras import backend as K\n",
    "import keras"
   ]
  },
  {
   "cell_type": "code",
   "execution_count": null,
   "id": "b7bf8276",
   "metadata": {},
   "outputs": [],
   "source": [
    "#keras.utils.set_random_seed(42)"
   ]
  },
  {
   "cell_type": "code",
   "execution_count": null,
   "id": "5cef8387",
   "metadata": {},
   "outputs": [],
   "source": [
    "def recall_m(y_true, y_pred):\n",
    "    true_positives = K.sum(K.round(K.clip(y_true * y_pred, 0, 1)))\n",
    "    possible_positives = K.sum(K.round(K.clip(y_true, 0, 1)))\n",
    "    recall = true_positives / (possible_positives + K.epsilon())\n",
    "    return recall\n",
    "\n",
    "def precision_m(y_true, y_pred):\n",
    "    true_positives = K.sum(K.round(K.clip(y_true * y_pred, 0, 1)))\n",
    "    predicted_positives = K.sum(K.round(K.clip(y_pred, 0, 1)))\n",
    "    precision = true_positives / (predicted_positives + K.epsilon())\n",
    "    return precision\n",
    "\n",
    "def f1_m(y_true, y_pred):\n",
    "    precision = precision_m(y_true, y_pred)\n",
    "    recall = recall_m(y_true, y_pred)\n",
    "    return 2*((precision*recall)/(precision+recall+K.epsilon()))"
   ]
  },
  {
   "cell_type": "code",
   "execution_count": null,
   "id": "fba0bccd",
   "metadata": {},
   "outputs": [],
   "source": [
    "def numerize_labels(pd_series):\n",
    "    series_copy = pd_series.copy()\n",
    "    series_copy = series_copy.map(class_dict)\n",
    "    return series_copy\n",
    "\n",
    "y_train_num = y_train\n",
    "y_test_num = y_test\n",
    "\n",
    "dummy_y_train = np_utils.to_categorical(y_train_num)\n",
    "dummy_y_test = np_utils.to_categorical(y_test_num)\n",
    "dummy_y_train.shape, dummy_y_test.shape"
   ]
  },
  {
   "cell_type": "code",
   "execution_count": null,
   "id": "bb559992",
   "metadata": {},
   "outputs": [],
   "source": [
    "model = Sequential()\n",
    "model.add(Dropout(0.5, input_shape=(17,)))\n",
    "model.add(Dense(16, activation='relu'))\n",
    "model.add(Dropout(0.5))\n",
    "model.add(Dense(8, activation='softmax'))\n",
    "model.compile(loss='categorical_crossentropy', optimizer='adam', metrics=['accuracy', f1_m, precision_m, recall_m])\n",
    "history = model.fit(X_train_norm, dummy_y_train, epochs=100, batch_size=1024, shuffle=True, validation_split=0.20, verbose=0)\n",
    "#model.save('../models/baselines/synthentic_nn.h5')\n",
    "loss, accuracy, f1, precision, recall = model.evaluate(X_test_norm, dummy_y_test, verbose=0)\n",
    "loss, accuracy, f1, precision, recall"
   ]
  },
  {
   "cell_type": "code",
   "execution_count": null,
   "id": "6c9e138a",
   "metadata": {},
   "outputs": [],
   "source": [
    "#Alternatively\n",
    "y_pred1_nn = model.predict(X_test_norm)\n",
    "y_pred_nn = np.argmax(y_pred1_nn, axis=1)\n",
    "np.unique(y_pred_nn)"
   ]
  },
  {
   "cell_type": "code",
   "execution_count": null,
   "id": "9b27f193",
   "metadata": {},
   "outputs": [],
   "source": [
    "test_df_nn = pd.DataFrame()\n",
    "test_df_nn['y_actual'] = y_test\n",
    "test_df_nn['y_pred'] = y_pred_nn\n",
    "test_df_nn.isna().sum()"
   ]
  },
  {
   "cell_type": "code",
   "execution_count": null,
   "id": "5a263081",
   "metadata": {},
   "outputs": [],
   "source": [
    "success_rate_nn, success_df_nn = utils.success_rate(test_df_nn)\n",
    "success_rate_nn"
   ]
  },
  {
   "cell_type": "code",
   "execution_count": null,
   "id": "b24c2789",
   "metadata": {},
   "outputs": [],
   "source": [
    "acc_nn, f1_nn, roc_auc_nn = utils.test(test_df_nn['y_actual'], test_df_nn['y_pred'])\n",
    "acc_nn, f1_nn, roc_auc_nn"
   ]
  },
  {
   "cell_type": "code",
   "execution_count": null,
   "id": "3b90caff",
   "metadata": {},
   "outputs": [],
   "source": []
  }
 ],
 "metadata": {
  "kernelspec": {
   "display_name": "Python 3 (ipykernel)",
   "language": "python",
   "name": "python3"
  },
  "language_info": {
   "codemirror_mode": {
    "name": "ipython",
    "version": 3
   },
   "file_extension": ".py",
   "mimetype": "text/x-python",
   "name": "python",
   "nbconvert_exporter": "python",
   "pygments_lexer": "ipython3",
   "version": "3.7.4"
  }
 },
 "nbformat": 4,
 "nbformat_minor": 5
}

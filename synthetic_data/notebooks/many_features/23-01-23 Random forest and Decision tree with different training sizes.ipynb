{
 "cells": [
  {
   "cell_type": "code",
   "execution_count": 1,
   "id": "f840e927",
   "metadata": {},
   "outputs": [],
   "source": [
    "import pandas as pd\n",
    "import numpy as np\n",
    "import random\n",
    "import joblib\n",
    "import seaborn as sns\n",
    "from sklearn.model_selection import train_test_split\n",
    "import matplotlib.pyplot as plt\n",
    "%matplotlib inline\n",
    "import sys\n",
    "sys.path.append('../..')\n",
    "from modules.many_features import utils, constants\n",
    "from sklearn.model_selection import train_test_split\n",
    "from sklearn.preprocessing import label_binarize, LabelBinarizer\n",
    "from sklearn.metrics import accuracy_score, f1_score, roc_auc_score, confusion_matrix, classification_report \n",
    "from sklearn.metrics import roc_curve, auc\n",
    "from sklearn.ensemble import RandomForestClassifier\n",
    "from sklearn.tree import DecisionTreeClassifier"
   ]
  },
  {
   "cell_type": "code",
   "execution_count": 2,
   "id": "cc5cebc6",
   "metadata": {},
   "outputs": [],
   "source": [
    "#def sample_train_set(x, y, sample_num):\n",
    "#    idx_list = random.sample(list(x.index), sample_num)\n",
    "#    sampled_x = x.loc[idx_list]\n",
    "#    sampled_y = y.loc[idx_list]\n",
    "#    return np.array(sampled_x), np.array(sampled_y)"
   ]
  },
  {
   "cell_type": "code",
   "execution_count": 3,
   "id": "3e9c0eb5",
   "metadata": {},
   "outputs": [
    {
     "data": {
      "text/plain": [
       "{1: [99.94285714285715,\n",
       "  99.94285714285715,\n",
       "  99.94285714285715,\n",
       "  99.94285714285715,\n",
       "  99.94285714285715],\n",
       " 0.5: [99.87857142857143,\n",
       "  99.90714285714286,\n",
       "  99.83571428571429,\n",
       "  99.87857142857143,\n",
       "  99.92142857142858],\n",
       " 0.1: [99.43571428571428,\n",
       "  99.29285714285714,\n",
       "  99.53571428571428,\n",
       "  99.15,\n",
       "  98.9857142857143],\n",
       " 0.05: [98.88571428571429,\n",
       "  98.07142857142857,\n",
       "  99.28571428571429,\n",
       "  99.08571428571429,\n",
       "  98.74285714285715],\n",
       " 0.01: [96.05, 96.37857142857142, 94.45, 94.86428571428571, 95.22857142857143]}"
      ]
     },
     "execution_count": 3,
     "metadata": {},
     "output_type": "execute_result"
    }
   ],
   "source": [
    "sizes = [1, 0.5, 0.1, 0.05, 0.01]\n",
    "seeds = [0, 21, 42, 63, 84]\n",
    "results_dict = {}\n",
    "\n",
    "test_df = pd.read_csv('../../final/data/test_set_constant.csv')\n",
    "X_test = test_df.iloc[:, 0:-1]\n",
    "y_test = test_df.iloc[:, -1]\n",
    "X_test, y_test = np.array(X_test), np.array(y_test)\n",
    "\n",
    "for size in sizes:\n",
    "    size_perf_list = []\n",
    "    for seed in seeds:\n",
    "        if size == 1:\n",
    "            train_df = pd.read_csv(f'../../final/data/train_set_basic.csv')\n",
    "        else:\n",
    "            train_df = pd.read_csv(f'../../final/data/train_set_basic_{size}_seed_{seed}.csv')\n",
    "        \n",
    "        train_df = train_df.fillna(-1)\n",
    "        X_train = train_df.iloc[:, 0:-1]\n",
    "        y_train = train_df.iloc[:, -1]\n",
    "        X_train, y_train = np.array(X_train), np.array(y_train)\n",
    "        \n",
    "#         rf = RandomForestClassifier(random_state=constants.SEED).fit(X_train, y_train)\n",
    "#         y_pred = rf.predict(X_test)\n",
    "#         test_df_rf = pd.DataFrame()\n",
    "#         test_df_rf['y_actual'] = y_test\n",
    "#         test_df_rf['y_pred'] = y_pred\n",
    "#         success_rate = utils.success_rate(test_df_rf)[0]\n",
    "        dt = DecisionTreeClassifier(random_state=constants.SEED).fit(X_train, y_train)\n",
    "        y_pred = dt.predict(X_test)\n",
    "        test_df_dt = pd.DataFrame()\n",
    "        test_df_dt['y_actual'] = y_test\n",
    "        test_df_dt['y_pred'] = y_pred\n",
    "        success_rate = utils.success_rate(test_df_dt)[0]\n",
    "        size_perf_list.append(success_rate)\n",
    "    results_dict[size] = size_perf_list\n",
    "results_dict"
   ]
  },
  {
   "cell_type": "code",
   "execution_count": 4,
   "id": "cfeea70f",
   "metadata": {},
   "outputs": [
    {
     "data": {
      "text/plain": [
       "{1: [99.94285714285715, 0.0],\n",
       " 0.5: [99.88428571428571, 0.029416086117106093],\n",
       " 0.1: [99.28, 0.196624577532397],\n",
       " 0.05: [98.81428571428572, 0.41423645027290373],\n",
       " 0.01: [95.3942857142857, 0.7209460904298719]}"
      ]
     },
     "execution_count": 4,
     "metadata": {},
     "output_type": "execute_result"
    }
   ],
   "source": [
    "new_results_dict = {i:[np.mean(v), np.std(v)] for i,v in results_dict.items()}\n",
    "new_results_dict"
   ]
  },
  {
   "cell_type": "code",
   "execution_count": null,
   "id": "47637688",
   "metadata": {},
   "outputs": [],
   "source": []
  },
  {
   "cell_type": "code",
   "execution_count": null,
   "id": "7ed8464f",
   "metadata": {},
   "outputs": [],
   "source": []
  }
 ],
 "metadata": {
  "kernelspec": {
   "display_name": "Python 3 (ipykernel)",
   "language": "python",
   "name": "python3"
  },
  "language_info": {
   "codemirror_mode": {
    "name": "ipython",
    "version": 3
   },
   "file_extension": ".py",
   "mimetype": "text/x-python",
   "name": "python",
   "nbconvert_exporter": "python",
   "pygments_lexer": "ipython3",
   "version": "3.7.4"
  }
 },
 "nbformat": 4,
 "nbformat_minor": 5
}

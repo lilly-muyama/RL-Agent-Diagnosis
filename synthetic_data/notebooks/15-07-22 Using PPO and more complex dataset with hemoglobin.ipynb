{
 "cells": [
  {
   "cell_type": "code",
   "execution_count": 1,
   "id": "505079a0",
   "metadata": {},
   "outputs": [
    {
     "name": "stderr",
     "output_type": "stream",
     "text": [
      "C:\\Users\\User\\Anaconda3\\envs\\tf_v1_env\\lib\\site-packages\\tensorflow\\python\\framework\\dtypes.py:526: FutureWarning: Passing (type, 1) or '1type' as a synonym of type is deprecated; in a future version of numpy, it will be understood as (type, (1,)) / '(1,)type'.\n",
      "  _np_qint8 = np.dtype([(\"qint8\", np.int8, 1)])\n",
      "C:\\Users\\User\\Anaconda3\\envs\\tf_v1_env\\lib\\site-packages\\tensorflow\\python\\framework\\dtypes.py:527: FutureWarning: Passing (type, 1) or '1type' as a synonym of type is deprecated; in a future version of numpy, it will be understood as (type, (1,)) / '(1,)type'.\n",
      "  _np_quint8 = np.dtype([(\"quint8\", np.uint8, 1)])\n",
      "C:\\Users\\User\\Anaconda3\\envs\\tf_v1_env\\lib\\site-packages\\tensorflow\\python\\framework\\dtypes.py:528: FutureWarning: Passing (type, 1) or '1type' as a synonym of type is deprecated; in a future version of numpy, it will be understood as (type, (1,)) / '(1,)type'.\n",
      "  _np_qint16 = np.dtype([(\"qint16\", np.int16, 1)])\n",
      "C:\\Users\\User\\Anaconda3\\envs\\tf_v1_env\\lib\\site-packages\\tensorflow\\python\\framework\\dtypes.py:529: FutureWarning: Passing (type, 1) or '1type' as a synonym of type is deprecated; in a future version of numpy, it will be understood as (type, (1,)) / '(1,)type'.\n",
      "  _np_quint16 = np.dtype([(\"quint16\", np.uint16, 1)])\n",
      "C:\\Users\\User\\Anaconda3\\envs\\tf_v1_env\\lib\\site-packages\\tensorflow\\python\\framework\\dtypes.py:530: FutureWarning: Passing (type, 1) or '1type' as a synonym of type is deprecated; in a future version of numpy, it will be understood as (type, (1,)) / '(1,)type'.\n",
      "  _np_qint32 = np.dtype([(\"qint32\", np.int32, 1)])\n",
      "C:\\Users\\User\\Anaconda3\\envs\\tf_v1_env\\lib\\site-packages\\tensorflow\\python\\framework\\dtypes.py:535: FutureWarning: Passing (type, 1) or '1type' as a synonym of type is deprecated; in a future version of numpy, it will be understood as (type, (1,)) / '(1,)type'.\n",
      "  np_resource = np.dtype([(\"resource\", np.ubyte, 1)])\n"
     ]
    }
   ],
   "source": [
    "import pandas as pd\n",
    "import numpy as np\n",
    "import seaborn as sns\n",
    "import random\n",
    "import os\n",
    "import tensorflow\n",
    "from sklearn.preprocessing import MinMaxScaler\n",
    "from sklearn.model_selection import train_test_split\n",
    "import matplotlib.pyplot as plt\n",
    "%matplotlib inline"
   ]
  },
  {
   "cell_type": "code",
   "execution_count": 2,
   "id": "59cbf581",
   "metadata": {},
   "outputs": [],
   "source": [
    "SEED = 42\n",
    "random.seed(SEED)\n",
    "np.random.seed(SEED)\n",
    "tensorflow.set_random_seed(SEED)\n",
    "os.environ['PYTHONHASHSEED']=str(SEED)"
   ]
  },
  {
   "cell_type": "markdown",
   "id": "8d17be21",
   "metadata": {},
   "source": [
    "#### The data"
   ]
  },
  {
   "cell_type": "code",
   "execution_count": 3,
   "id": "b798c77c",
   "metadata": {},
   "outputs": [
    {
     "data": {
      "text/plain": [
       "{'No anemia': 0,\n",
       " 'Hemolytic anemia': 1,\n",
       " 'Aplastic anemia': 2,\n",
       " 'Iron deficiency anemia': 3,\n",
       " 'Vitamin B12/Folate deficiency anemia': 4,\n",
       " 'Anemia of chronic disease': 5}"
      ]
     },
     "execution_count": 3,
     "metadata": {},
     "output_type": "execute_result"
    }
   ],
   "source": [
    "df = pd.read_csv('data/anemia_synth_dataset_hb_some_nans.csv')\n",
    "df = df.fillna(0)\n",
    "classes = list(df.label.unique())\n",
    "nums = [i for i in range(len(classes))]\n",
    "class_dict = dict(zip(classes, nums))\n",
    "class_dict"
   ]
  },
  {
   "cell_type": "code",
   "execution_count": 4,
   "id": "987f99be",
   "metadata": {},
   "outputs": [
    {
     "data": {
      "text/plain": [
       "((26868, 6), (11515, 6), (26868,), (11515,))"
      ]
     },
     "execution_count": 4,
     "metadata": {},
     "output_type": "execute_result"
    }
   ],
   "source": [
    "df['label'] = df['label'].replace(class_dict)\n",
    "X = df.iloc[:, 0:-1]\n",
    "y = df.iloc[:, -1]\n",
    "\n",
    "X_train, X_test, y_train, y_test = train_test_split(X, y, test_size=0.3, stratify=y, random_state=SEED)\n",
    "X_train, y_train = np.array(X_train), np.array(y_train)\n",
    "X_test, y_test = np.array(X_test), np.array(y_test)\n",
    "X_train.shape, X_test.shape, y_train.shape, y_test.shape"
   ]
  },
  {
   "cell_type": "code",
   "execution_count": 5,
   "id": "53f425f7",
   "metadata": {},
   "outputs": [
    {
     "data": {
      "text/plain": [
       "12"
      ]
     },
     "execution_count": 5,
     "metadata": {},
     "output_type": "execute_result"
    }
   ],
   "source": [
    "action_list = list(class_dict.keys()) + [col  for col in df.columns if col!='label']\n",
    "len(action_list)"
   ]
  },
  {
   "cell_type": "code",
   "execution_count": 6,
   "id": "3a4705eb",
   "metadata": {},
   "outputs": [
    {
     "data": {
      "text/plain": [
       "['No anemia',\n",
       " 'Hemolytic anemia',\n",
       " 'Aplastic anemia',\n",
       " 'Iron deficiency anemia',\n",
       " 'Vitamin B12/Folate deficiency anemia',\n",
       " 'Anemia of chronic disease',\n",
       " 'hemoglobin',\n",
       " 'ferritin',\n",
       " 'ret_count',\n",
       " 'segmented_neutrophils',\n",
       " 'tibc',\n",
       " 'mcv']"
      ]
     },
     "execution_count": 6,
     "metadata": {},
     "output_type": "execute_result"
    }
   ],
   "source": [
    "action_list"
   ]
  },
  {
   "cell_type": "markdown",
   "id": "43766d06",
   "metadata": {},
   "source": [
    "#### The Environment"
   ]
  },
  {
   "cell_type": "code",
   "execution_count": 7,
   "id": "958ff776",
   "metadata": {},
   "outputs": [],
   "source": [
    "from envs import SyntheticPPOEnv"
   ]
  },
  {
   "cell_type": "markdown",
   "id": "92eede2e",
   "metadata": {},
   "source": [
    "#### The Agent"
   ]
  },
  {
   "cell_type": "code",
   "execution_count": 8,
   "id": "84f2a6cf",
   "metadata": {},
   "outputs": [
    {
     "name": "stderr",
     "output_type": "stream",
     "text": [
      "C:\\Users\\User\\Anaconda3\\envs\\tf_v1_env\\lib\\site-packages\\stable_baselines\\__init__.py:33: UserWarning: stable-baselines is in maintenance mode, please use [Stable-Baselines3 (SB3)](https://github.com/DLR-RM/stable-baselines3) for an up-to-date version. You can find a [migration guide](https://stable-baselines3.readthedocs.io/en/master/guide/migration.html) in SB3 documentation.\n",
      "  \"stable-baselines is in maintenance mode, please use [Stable-Baselines3 (SB3)](https://github.com/DLR-RM/stable-baselines3) for an up-to-date version. You can find a [migration guide](https://stable-baselines3.readthedocs.io/en/master/guide/migration.html) in SB3 documentation.\"\n"
     ]
    }
   ],
   "source": [
    "from stable_baselines.common.env_checker import check_env\n",
    "from stable_baselines.common.policies import MlpPolicy\n",
    "from stable_baselines.common.vec_env import DummyVecEnv\n",
    "from stable_baselines import PPO2\n",
    "#from stable_baselines import DQN\n",
    "from stable_baselines import bench, logger"
   ]
  },
  {
   "cell_type": "code",
   "execution_count": 9,
   "id": "dd69676a",
   "metadata": {},
   "outputs": [
    {
     "name": "stdout",
     "output_type": "stream",
     "text": [
      "Wrapping the env in a DummyVecEnv.\n",
      "WARNING:tensorflow:From C:\\Users\\User\\Anaconda3\\envs\\tf_v1_env\\lib\\site-packages\\stable_baselines\\common\\policies.py:561: flatten (from tensorflow.python.layers.core) is deprecated and will be removed in a future version.\n",
      "Instructions for updating:\n",
      "Use keras.layers.flatten instead.\n",
      "WARNING:tensorflow:From C:\\Users\\User\\Anaconda3\\envs\\tf_v1_env\\lib\\site-packages\\tensorflow\\python\\framework\\op_def_library.py:263: colocate_with (from tensorflow.python.framework.ops) is deprecated and will be removed in a future version.\n",
      "Instructions for updating:\n",
      "Colocations handled automatically by placer.\n",
      "WARNING:tensorflow:From C:\\Users\\User\\Anaconda3\\envs\\tf_v1_env\\lib\\site-packages\\tensorflow\\python\\ops\\math_ops.py:3066: to_int32 (from tensorflow.python.ops.math_ops) is deprecated and will be removed in a future version.\n",
      "Instructions for updating:\n",
      "Use tf.cast instead.\n",
      "WARNING:tensorflow:From C:\\Users\\User\\Anaconda3\\envs\\tf_v1_env\\lib\\site-packages\\tensorflow\\python\\ops\\math_grad.py:102: div (from tensorflow.python.ops.math_ops) is deprecated and will be removed in a future version.\n",
      "Instructions for updating:\n",
      "Deprecated in favor of operator or tf.math.divide.\n",
      "--------------------------------------\n",
      "| approxkl           | 0.00014339288 |\n",
      "| clipfrac           | 0.0           |\n",
      "| explained_variance | -0.036        |\n",
      "| fps                | 409           |\n",
      "| n_updates          | 1             |\n",
      "| policy_entropy     | 2.4847782     |\n",
      "| policy_loss        | -0.0057206964 |\n",
      "| serial_timesteps   | 128           |\n",
      "| time_elapsed       | 0             |\n",
      "| total_timesteps    | 128           |\n",
      "| value_loss         | 0.6671917     |\n",
      "--------------------------------------\n",
      "-------------------------------------\n",
      "| approxkl           | 0.0027202123 |\n",
      "| clipfrac           | 0.025390625  |\n",
      "| explained_variance | 0.3          |\n",
      "| fps                | 2032         |\n",
      "| n_updates          | 10000        |\n",
      "| policy_entropy     | 1.004947     |\n",
      "| policy_loss        | -0.006493137 |\n",
      "| serial_timesteps   | 1280000      |\n",
      "| time_elapsed       | 672          |\n",
      "| total_timesteps    | 1280000      |\n",
      "| value_loss         | 1.5908978    |\n",
      "-------------------------------------\n",
      "-------------------------------------\n",
      "| approxkl           | 0.0019037365 |\n",
      "| clipfrac           | 0.021484375  |\n",
      "| explained_variance | 0.25         |\n",
      "| fps                | 1828         |\n",
      "| n_updates          | 20000        |\n",
      "| policy_entropy     | 0.9704774    |\n",
      "| policy_loss        | -0.009458824 |\n",
      "| serial_timesteps   | 2560000      |\n",
      "| time_elapsed       | 1.34e+03     |\n",
      "| total_timesteps    | 2560000      |\n",
      "| value_loss         | 2.4674754    |\n",
      "-------------------------------------\n",
      "-------------------------------------\n",
      "| approxkl           | 0.0023376439 |\n",
      "| clipfrac           | 0.021484375  |\n",
      "| explained_variance | 0.513        |\n",
      "| fps                | 2099         |\n",
      "| n_updates          | 30000        |\n",
      "| policy_entropy     | 0.97381413   |\n",
      "| policy_loss        | -0.013082109 |\n",
      "| serial_timesteps   | 3840000      |\n",
      "| time_elapsed       | 1.99e+03     |\n",
      "| total_timesteps    | 3840000      |\n",
      "| value_loss         | 1.0698395    |\n",
      "-------------------------------------\n",
      "-------------------------------------\n",
      "| approxkl           | 0.0033817403 |\n",
      "| clipfrac           | 0.005859375  |\n",
      "| explained_variance | 0.437        |\n",
      "| fps                | 1777         |\n",
      "| n_updates          | 40000        |\n",
      "| policy_entropy     | 0.9552487    |\n",
      "| policy_loss        | -0.006658502 |\n",
      "| serial_timesteps   | 5120000      |\n",
      "| time_elapsed       | 2.63e+03     |\n",
      "| total_timesteps    | 5120000      |\n",
      "| value_loss         | 0.89672536   |\n",
      "-------------------------------------\n",
      "-------------------------------------\n",
      "| approxkl           | 0.0010974937 |\n",
      "| clipfrac           | 0.0078125    |\n",
      "| explained_variance | 0.46         |\n",
      "| fps                | 2098         |\n",
      "| n_updates          | 50000        |\n",
      "| policy_entropy     | 0.9284097    |\n",
      "| policy_loss        | -0.006792224 |\n",
      "| serial_timesteps   | 6400000      |\n",
      "| time_elapsed       | 3.29e+03     |\n",
      "| total_timesteps    | 6400000      |\n",
      "| value_loss         | 0.86627996   |\n",
      "-------------------------------------\n"
     ]
    }
   ],
   "source": [
    "def stable_ppo():\n",
    "    training_env = SyntheticPPOEnv(X_train, y_train)\n",
    "    env = DummyVecEnv([lambda: bench.Monitor(training_env, logger.get_dir())])\n",
    "    #env = make_vec_env('CartPole-v1', n_envs=5)\n",
    "    #model = PPO2(MlpPolicy, env, verbose=1)\n",
    "    #model.learn(total_timesteps=25000)\n",
    "    #env = bench.Monitor(training_env, logger.get_dir())\n",
    "    model = PPO2('MlpPolicy', training_env, verbose=1, seed=SEED, n_cpu_tf_sess=1)\n",
    "    model.learn(total_timesteps=int(6.5e6), log_interval=10000)\n",
    "    #model.learn(total_timesteps=int(1.2e5), log_interval=10000)\n",
    "    #model.save('models/synthetic_stable_dqn_1.8.pkl')\n",
    "    model.save('models/ppo/synthentic_with_hb_some_nans_stable_dqn65e6.pkl')\n",
    "    env.close()\n",
    "    return model\n",
    "\n",
    "ppo_model = stable_ppo()"
   ]
  },
  {
   "cell_type": "markdown",
   "id": "47111ccb",
   "metadata": {},
   "source": [
    "#### Performance Evaluation"
   ]
  },
  {
   "cell_type": "code",
   "execution_count": 10,
   "id": "6c980ced",
   "metadata": {},
   "outputs": [],
   "source": [
    "from sklearn.metrics import accuracy_score, f1_score, roc_auc_score, auc, roc_curve"
   ]
  },
  {
   "cell_type": "code",
   "execution_count": 11,
   "id": "56246f6f",
   "metadata": {},
   "outputs": [],
   "source": [
    "def test(ytest, ypred):\n",
    "    acc = accuracy_score(ytest, ypred)\n",
    "    f1 = f1_score(ytest, ypred, average ='macro', labels=np.unique(ytest))\n",
    "    try:\n",
    "        roc_auc = multiclass(ytest, ypred)\n",
    "    except:\n",
    "        roc_auc = None\n",
    "    return acc, f1, roc_auc"
   ]
  },
  {
   "cell_type": "code",
   "execution_count": 12,
   "id": "024b8de6",
   "metadata": {},
   "outputs": [],
   "source": [
    "def get_avg_length_reward(df):\n",
    "    length = np.mean(df.episode_length)\n",
    "    reward = np.mean(df.reward)\n",
    "    return length, reward"
   ]
  },
  {
   "cell_type": "code",
   "execution_count": 13,
   "id": "3de33cb1",
   "metadata": {},
   "outputs": [
    {
     "name": "stdout",
     "output_type": "stream",
     "text": [
      "Count: 5000\n",
      "Count: 10000\n",
      "Testing done.....\n"
     ]
    }
   ],
   "source": [
    "def synthetic_ppo_eval(dqn_model):\n",
    "    attempts, correct = 0,0\n",
    "    test_df = pd.DataFrame()\n",
    "\n",
    "    env = SyntheticPPOEnv(X_test, y_test, random=False)\n",
    "    #testing_env = SyntheticComplexHbEnv(X_test, y_test, random=False)\n",
    "    #env = DummyVecEnv([lambda: testing_env])\n",
    "    count=0\n",
    "\n",
    "    try:\n",
    "        while True:\n",
    "            count+=1\n",
    "            if count%5000==0:\n",
    "                print(f'Count: {count}')\n",
    "            obs, done = env.reset(), False\n",
    "            while not done:\n",
    "                action, _states = ppo_model.predict(obs, deterministic=True)\n",
    "                obs, rew, done,info = env.step(action)\n",
    "                #if (done==True) & (np.isfinite(info['y_pred'])):\n",
    "                if done == True:\n",
    "                    test_df = test_df.append(info, ignore_index=True)\n",
    "                #print('....................TEST DF ....................')\n",
    "                #if len(test_df) != 0:\n",
    "                #    print(test_df.head())\n",
    "\n",
    "    except StopIteration:\n",
    "        print('Testing done.....')\n",
    "    return test_df\n",
    "\n",
    "test_df = synthetic_ppo_eval(ppo_model)"
   ]
  },
  {
   "cell_type": "code",
   "execution_count": 14,
   "id": "aa12c22b",
   "metadata": {},
   "outputs": [
    {
     "data": {
      "text/plain": [
       "(11515, 11515)"
      ]
     },
     "execution_count": 14,
     "metadata": {},
     "output_type": "execute_result"
    }
   ],
   "source": [
    "len(test_df), len(X_test)"
   ]
  },
  {
   "cell_type": "code",
   "execution_count": 15,
   "id": "1dcbcd55",
   "metadata": {},
   "outputs": [
    {
     "data": {
      "text/plain": [
       "6985"
      ]
     },
     "execution_count": 15,
     "metadata": {},
     "output_type": "execute_result"
    }
   ],
   "source": [
    "y_pred_df = test_df[test_df['y_pred'].notna()]\n",
    "success_df = y_pred_df[y_pred_df['y_pred']== y_pred_df['y_actual']]\n",
    "len(success_df)"
   ]
  },
  {
   "cell_type": "code",
   "execution_count": 16,
   "id": "abcd8c60",
   "metadata": {},
   "outputs": [
    {
     "data": {
      "text/plain": [
       "['hemoglobin', 'ret_count', 'mcv', 'Hemolytic anemia']"
      ]
     },
     "execution_count": 16,
     "metadata": {},
     "output_type": "execute_result"
    }
   ],
   "source": [
    "y_pred_df.iloc[0]['trajectory']"
   ]
  },
  {
   "cell_type": "code",
   "execution_count": 17,
   "id": "c04cbd64",
   "metadata": {},
   "outputs": [
    {
     "data": {
      "text/plain": [
       "array([1., 2., 5., 0., 3.])"
      ]
     },
     "execution_count": 17,
     "metadata": {},
     "output_type": "execute_result"
    }
   ],
   "source": [
    "y_pred_df.y_pred.unique()"
   ]
  },
  {
   "cell_type": "code",
   "execution_count": 18,
   "id": "f912a615",
   "metadata": {},
   "outputs": [
    {
     "data": {
      "text/plain": [
       "60.660008684324794"
      ]
     },
     "execution_count": 18,
     "metadata": {},
     "output_type": "execute_result"
    }
   ],
   "source": [
    "success_rate = len(success_df)/len(test_df)*100\n",
    "success_rate"
   ]
  },
  {
   "cell_type": "code",
   "execution_count": 19,
   "id": "5860ca59",
   "metadata": {},
   "outputs": [
    {
     "data": {
      "text/plain": [
       "(5.3501519756838904, 1.6772036474164134)"
      ]
     },
     "execution_count": 19,
     "metadata": {},
     "output_type": "execute_result"
    }
   ],
   "source": [
    "avg_length, avg_return = get_avg_length_reward(test_df)\n",
    "avg_length, avg_return"
   ]
  },
  {
   "cell_type": "code",
   "execution_count": 20,
   "id": "17ea2ba0",
   "metadata": {},
   "outputs": [
    {
     "data": {
      "text/plain": [
       "(0.9012903225806451, 0.6033645983005789, None)"
      ]
     },
     "execution_count": 20,
     "metadata": {},
     "output_type": "execute_result"
    }
   ],
   "source": [
    "acc, f1, roc_auc = test(y_pred_df['y_actual'], y_pred_df['y_pred'])\n",
    "acc, f1, roc_auc"
   ]
  },
  {
   "cell_type": "markdown",
   "id": "0332d580",
   "metadata": {},
   "source": [
    "#### OLD CODE"
   ]
  },
  {
   "cell_type": "code",
   "execution_count": null,
   "id": "6816bd52",
   "metadata": {},
   "outputs": [],
   "source": [
    "# from stable_baselines.common.env_checker import check_env\n",
    "# from stable_baselines.common.policies import MlpPolicy\n",
    "# from stable_baselines.common.vec_env import DummyVecEnv\n",
    "# from stable_baselines import PPO2\n",
    "import time\n",
    "import tensorflow as tf\n",
    "from gym.wrappers.time_limit import TimeLimit\n",
    "\n",
    "from baselines.ppo2 import ppo2\n",
    "from baselines.common.vec_env.dummy_vec_env import DummyVecEnv\n",
    "\n",
    "from baselines import bench\n",
    "from baselines import logger\n",
    "from baselines import deepq\n",
    "from baselines.common.tf_util import make_session"
   ]
  },
  {
   "cell_type": "markdown",
   "id": "27186385",
   "metadata": {},
   "source": [
    "#### PPO"
   ]
  },
  {
   "cell_type": "code",
   "execution_count": null,
   "id": "1e111341",
   "metadata": {},
   "outputs": [],
   "source": [
    "def synthetic_ppo():\n",
    "    logger.configure(dir='./logs/synthetic_ppo2', format_strs=['stdout', 'tensorboard'])\n",
    "    env = DummyVecEnv([lambda: bench.Monitor(SyntheticEnv(X_train, y_train), logger.get_dir())])\n",
    "\n",
    "    model = ppo2.learn(\n",
    "        env=env,\n",
    "        network='mlp',\n",
    "        num_layers=2,\n",
    "        num_hidden=64,\n",
    "        nsteps=7,\n",
    "        nminibatches=7,\n",
    "        total_timesteps=int(1.2e5), #total number of samples to train on\n",
    "        #total_timesteps = 10000,\n",
    "        seed=42)\n",
    "    model.save('models/synthetic_ppo2.pkl')\n",
    "\n",
    "    return model\n",
    "\n",
    "start_time = time.time()\n",
    "ppo_model = synthetic_ppo()\n",
    "print('PPO Training Time:', time.time() - start_time)"
   ]
  },
  {
   "cell_type": "code",
   "execution_count": null,
   "id": "cda1480a",
   "metadata": {},
   "outputs": [],
   "source": [
    "X_train[204], y_train[204]"
   ]
  },
  {
   "cell_type": "markdown",
   "id": "a47ac18a",
   "metadata": {},
   "source": [
    "#### Performance Evaluation"
   ]
  },
  {
   "cell_type": "code",
   "execution_count": null,
   "id": "35c2dfb7",
   "metadata": {},
   "outputs": [],
   "source": [
    "from sklearn.metrics import accuracy_score, f1_score, roc_auc_score, auc, roc_curve"
   ]
  },
  {
   "cell_type": "code",
   "execution_count": null,
   "id": "f71d78a7",
   "metadata": {},
   "outputs": [],
   "source": [
    "def multiclass(actual_class, pred_class, average = 'macro'):\n",
    "\n",
    "    unique_class = set(actual_class)\n",
    "    roc_auc_dict = {}\n",
    "    for per_class in unique_class:\n",
    "        other_class = [x for x in unique_class if x != per_class]\n",
    "        new_actual_class = [0 if x in other_class else 1 for x in actual_class]\n",
    "        new_pred_class = [0 if x in other_class else 1 for x in pred_class]\n",
    "        roc_auc = roc_auc_score(new_actual_class, new_pred_class, average = average)\n",
    "        roc_auc_dict[per_class] = roc_auc\n",
    "    avg = sum(roc_auc_dict.values()) / len(roc_auc_dict)\n",
    "    return avg"
   ]
  },
  {
   "cell_type": "code",
   "execution_count": null,
   "id": "b26e637a",
   "metadata": {},
   "outputs": [],
   "source": [
    "def test(ytest, ypred):\n",
    "    acc = accuracy_score(ytest, ypred)\n",
    "    f1 = f1_score(ytest, ypred, average ='macro', labels=np.unique(ytest))\n",
    "    try:\n",
    "        roc_auc = multiclass(ytest, ypred)\n",
    "    except:\n",
    "        roc_auc = None\n",
    "    return acc, f1, roc_auc"
   ]
  },
  {
   "cell_type": "code",
   "execution_count": null,
   "id": "7780c748",
   "metadata": {},
   "outputs": [],
   "source": [
    "def get_avg_length_reward(df):\n",
    "    length = np.mean(df.episode_length)\n",
    "    reward = np.mean(df.reward)\n",
    "    return length, reward"
   ]
  },
  {
   "cell_type": "code",
   "execution_count": null,
   "id": "e47036ae",
   "metadata": {},
   "outputs": [],
   "source": [
    "def synthetic_ppo_eval(ppo_model):\n",
    "    #orig_env = SyntheticEnv(X_test[:4], y_test[:4], random=False)\n",
    "    #env = DummyVecEnv([lambda: orig_env])\n",
    "    env = DummyVecEnv([lambda: SyntheticEnv(X_test, y_test, random=False)])\n",
    "    test_df = pd.DataFrame()\n",
    "\n",
    "    try:\n",
    "        while True:\n",
    "            obs, done = env.reset(), [False]\n",
    "            while not done[0]:\n",
    "                #print('a')\n",
    "                obs, rew, done, info = env.step(ppo_model.step(obs[None])[0]) #resets env here\n",
    "                #print('b')\n",
    "                #print(f'obs: {obs}')\n",
    "                #print(f'reward: {rew}')\n",
    "                #print(f'done: {done}')\n",
    "                #print(f'info: {info}')\n",
    "                if done==True:\n",
    "                    #print('c')\n",
    "                    test_df = test_df.append(info[0], ignore_index=True)\n",
    "                    #print('d')\n",
    "                    #print(f'length of test_df: {len(test_df)}')\n",
    "                    #orig_env.idx+=1\n",
    "\n",
    "\n",
    "    except StopIteration:\n",
    "        print('Testing done.....')\n",
    "        \n",
    "    return test_df\n",
    "\n",
    "test_df = synthetic_ppo_eval(ppo_model)"
   ]
  },
  {
   "cell_type": "code",
   "execution_count": null,
   "id": "901ae47e",
   "metadata": {},
   "outputs": [],
   "source": [
    "X_test[3]"
   ]
  },
  {
   "cell_type": "code",
   "execution_count": null,
   "id": "6cf0068c",
   "metadata": {},
   "outputs": [],
   "source": [
    "len(X_test[:4]), len(test_df)"
   ]
  },
  {
   "cell_type": "code",
   "execution_count": null,
   "id": "19a008b0",
   "metadata": {},
   "outputs": [],
   "source": [
    "y_pred_df = test_df[test_df['y_pred'].notna()]\n",
    "success_df = y_pred_df[y_pred_df['y_pred']== y_pred_df['y_actual']]\n",
    "len(success_df)"
   ]
  },
  {
   "cell_type": "code",
   "execution_count": null,
   "id": "0e79e81b",
   "metadata": {},
   "outputs": [],
   "source": [
    "success_rate = len(success_df)/len(test_df)*100\n",
    "success_rate"
   ]
  },
  {
   "cell_type": "code",
   "execution_count": null,
   "id": "4694f78b",
   "metadata": {},
   "outputs": [],
   "source": [
    "#eavg length and return \n",
    "avg_length, avg_return = get_avg_length_reward(test_df)\n",
    "avg_length, avg_return"
   ]
  },
  {
   "cell_type": "code",
   "execution_count": null,
   "id": "f2843a48",
   "metadata": {},
   "outputs": [],
   "source": [
    "acc, f1, roc_auc = test(y_pred_df['y_actual'], y_pred_df['y_pred'])\n",
    "acc, f1, roc_auc"
   ]
  },
  {
   "cell_type": "code",
   "execution_count": null,
   "id": "1b9f69ba",
   "metadata": {},
   "outputs": [],
   "source": [
    "# Look at misdiagnosed episodes\n",
    "\n",
    "# Look at episodes that exceed max length"
   ]
  },
  {
   "cell_type": "code",
   "execution_count": null,
   "id": "231e928a",
   "metadata": {},
   "outputs": [],
   "source": []
  }
 ],
 "metadata": {
  "kernelspec": {
   "display_name": "Python 3 (ipykernel)",
   "language": "python",
   "name": "python3"
  },
  "language_info": {
   "codemirror_mode": {
    "name": "ipython",
    "version": 3
   },
   "file_extension": ".py",
   "mimetype": "text/x-python",
   "name": "python",
   "nbconvert_exporter": "python",
   "pygments_lexer": "ipython3",
   "version": "3.7.4"
  }
 },
 "nbformat": 4,
 "nbformat_minor": 5
}

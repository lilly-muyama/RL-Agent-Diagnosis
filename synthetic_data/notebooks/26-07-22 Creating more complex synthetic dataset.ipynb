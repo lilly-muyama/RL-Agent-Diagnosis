{
 "cells": [
  {
   "cell_type": "code",
   "execution_count": 7,
   "id": "dda49c15",
   "metadata": {},
   "outputs": [],
   "source": [
    "import pandas as pd\n",
    "import numpy as np\n",
    "import seaborn as sns\n",
    "import random\n",
    "import matplotlib.pyplot as plt\n",
    "%matplotlib inline"
   ]
  },
  {
   "cell_type": "code",
   "execution_count": 8,
   "id": "32bab800",
   "metadata": {},
   "outputs": [],
   "source": [
    "SEED = 20\n",
    "random.seed(SEED)\n",
    "np.random.seed(SEED)"
   ]
  },
  {
   "cell_type": "code",
   "execution_count": 9,
   "id": "243e24e8",
   "metadata": {},
   "outputs": [],
   "source": [
    "feat_arr = [{'name':'hemoglobin', 'lower':12.1, 'upper':17.2, 'mean':10.3, 'std':2.3, 'min':(0, 5)},\n",
    "             {'name':'ferritin', 'lower':10, 'upper':263, 'mean':697, 'std':3305, 'min':(1.6, 8)},\n",
    "             {'name':'ret_count', 'lower':0.5, 'upper':2.5, 'mean':2.6, 'std':2.5, 'min':(0, 0.5)},\n",
    "             {'name':'segmented_neutrophils', 'lower':0, 'upper':0, 'mean':0, 'std':2.4, 'min':(0, 0)},\n",
    "             {'name':'iron', 'lower':60, 'upper':170, 'mean':50, 'std':44, 'min':(0.9, 40)},\n",
    "             {'name':'tibc', 'lower':250, 'upper':450, 'mean':242, 'std':90, 'min':(3, 100)},\n",
    "             {'name':'rbc', 'lower':3.92, 'upper':5.65, 'mean':3.5, 'std':0.8, 'min':(0, 3)},\n",
    "             {'name':'mcv', 'lower':80, 'upper':100, 'mean':90, 'std':8, 'min':(0, 65)}]"
   ]
  },
  {
   "cell_type": "code",
   "execution_count": 10,
   "id": "53324007",
   "metadata": {},
   "outputs": [],
   "source": [
    "def clip_value(val, feat_dict):\n",
    "    if val<=0:\n",
    "        new_val = np.random.uniform(feat_dict['min'][0], feat_dict['min'][1])\n",
    "    else:\n",
    "        new_val = val\n",
    "    return new_val                                                         "
   ]
  },
  {
   "cell_type": "code",
   "execution_count": 11,
   "id": "72763e60",
   "metadata": {},
   "outputs": [],
   "source": [
    "def normal_dist(df, col_name, num=None, cond=None):\n",
    "    for feat_dict in feat_arr:\n",
    "        if feat_dict['name'] == col_name:\n",
    "            if cond is None:\n",
    "                df[col_name] = np.random.normal(feat_dict['mean'], feat_dict['std'], num)\n",
    "            else:\n",
    "                df[col_name] = np.random.normal(feat_dict['mean'], feat_dict['std'] if cond else np.nan)\n",
    "            df[col_name] = [np.random.uniform(feat_dict['min'][0], feat_dict['min'][1]) if val<0 else val for val in df[col_name]]\n",
    "    return df"
   ]
  },
  {
   "cell_type": "code",
   "execution_count": 12,
   "id": "c5be66cf",
   "metadata": {},
   "outputs": [],
   "source": [
    "def less_mcv(df):\n",
    "    irons = []\n",
    "    ferritins = []\n",
    "    tibcs = []\n",
    "    for i, row in df.iterrows():\n",
    "        if row['mcv']<80:\n",
    "            iron = clip_value(np.random.normal(feat_arr[4]['mean'], feat_arr[4]['std']), feat_arr[4])\n",
    "            ferritin = clip_value(np.random.normal(feat_arr[1]['mean'], feat_arr[1]['std']), feat_arr[1])\n",
    "            tibc = clip_value(np.random.normal(feat_arr[5]['mean'], feat_arr[5]['std']), feat_arr[5])\n",
    "        else:\n",
    "            iron = ferritin = tibc = np.nan\n",
    "        irons.append(iron)\n",
    "        ferritins.append(ferritin)\n",
    "        tibcs.append(tibc)\n",
    "    return irons, ferritins, tibcs"
   ]
  },
  {
   "cell_type": "code",
   "execution_count": 13,
   "id": "4669f96b",
   "metadata": {},
   "outputs": [],
   "source": [
    "def normal_mcv(row):\n",
    "    if (row['mcv']>=80) & (row['mcv'] <=100):\n",
    "        return clip_value(np.random.normal(feat_arr[2]['mean'], feat_arr[2]['std']), feat_arr[2])\n",
    "    else:\n",
    "        return np.nan"
   ]
  },
  {
   "cell_type": "code",
   "execution_count": 14,
   "id": "2cf23996",
   "metadata": {},
   "outputs": [],
   "source": [
    "def more_mcv(row):\n",
    "    if row['mcv']> 100:\n",
    "        return clip_value(np.random.normal(feat_arr[3]['mean'], feat_arr[3]['std']), feat_arr[3])\n",
    "    else:\n",
    "        return np.nan"
   ]
  },
  {
   "cell_type": "code",
   "execution_count": 15,
   "id": "9599de69",
   "metadata": {},
   "outputs": [
    {
     "data": {
      "text/html": [
       "<div>\n",
       "<style scoped>\n",
       "    .dataframe tbody tr th:only-of-type {\n",
       "        vertical-align: middle;\n",
       "    }\n",
       "\n",
       "    .dataframe tbody tr th {\n",
       "        vertical-align: top;\n",
       "    }\n",
       "\n",
       "    .dataframe thead th {\n",
       "        text-align: right;\n",
       "    }\n",
       "</style>\n",
       "<table border=\"1\" class=\"dataframe\">\n",
       "  <thead>\n",
       "    <tr style=\"text-align: right;\">\n",
       "      <th></th>\n",
       "      <th>ferritin</th>\n",
       "      <th>ret_count</th>\n",
       "      <th>segmented_neutrophils</th>\n",
       "      <th>iron</th>\n",
       "      <th>tibc</th>\n",
       "      <th>rbc</th>\n",
       "      <th>mcv</th>\n",
       "      <th>mentzer_index</th>\n",
       "    </tr>\n",
       "  </thead>\n",
       "  <tbody>\n",
       "    <tr>\n",
       "      <th>0</th>\n",
       "      <td>NaN</td>\n",
       "      <td>7.419683</td>\n",
       "      <td>NaN</td>\n",
       "      <td>NaN</td>\n",
       "      <td>NaN</td>\n",
       "      <td>3.268986</td>\n",
       "      <td>97.071145</td>\n",
       "      <td>29.694573</td>\n",
       "    </tr>\n",
       "    <tr>\n",
       "      <th>1</th>\n",
       "      <td>NaN</td>\n",
       "      <td>0.768225</td>\n",
       "      <td>NaN</td>\n",
       "      <td>NaN</td>\n",
       "      <td>NaN</td>\n",
       "      <td>5.228592</td>\n",
       "      <td>91.566920</td>\n",
       "      <td>17.512729</td>\n",
       "    </tr>\n",
       "    <tr>\n",
       "      <th>2</th>\n",
       "      <td>NaN</td>\n",
       "      <td>0.095205</td>\n",
       "      <td>NaN</td>\n",
       "      <td>NaN</td>\n",
       "      <td>NaN</td>\n",
       "      <td>2.698679</td>\n",
       "      <td>92.860292</td>\n",
       "      <td>34.409535</td>\n",
       "    </tr>\n",
       "    <tr>\n",
       "      <th>3</th>\n",
       "      <td>5.773862</td>\n",
       "      <td>NaN</td>\n",
       "      <td>NaN</td>\n",
       "      <td>65.675268</td>\n",
       "      <td>272.340699</td>\n",
       "      <td>3.632368</td>\n",
       "      <td>71.253905</td>\n",
       "      <td>19.616379</td>\n",
       "    </tr>\n",
       "    <tr>\n",
       "      <th>4</th>\n",
       "      <td>NaN</td>\n",
       "      <td>1.831053</td>\n",
       "      <td>NaN</td>\n",
       "      <td>NaN</td>\n",
       "      <td>NaN</td>\n",
       "      <td>3.509544</td>\n",
       "      <td>81.321339</td>\n",
       "      <td>23.171482</td>\n",
       "    </tr>\n",
       "  </tbody>\n",
       "</table>\n",
       "</div>"
      ],
      "text/plain": [
       "   ferritin  ret_count  segmented_neutrophils       iron        tibc  \\\n",
       "0       NaN   7.419683                    NaN        NaN         NaN   \n",
       "1       NaN   0.768225                    NaN        NaN         NaN   \n",
       "2       NaN   0.095205                    NaN        NaN         NaN   \n",
       "3  5.773862        NaN                    NaN  65.675268  272.340699   \n",
       "4       NaN   1.831053                    NaN        NaN         NaN   \n",
       "\n",
       "        rbc        mcv  mentzer_index  \n",
       "0  3.268986  97.071145      29.694573  \n",
       "1  5.228592  91.566920      17.512729  \n",
       "2  2.698679  92.860292      34.409535  \n",
       "3  3.632368  71.253905      19.616379  \n",
       "4  3.509544  81.321339      23.171482  "
      ]
     },
     "execution_count": 15,
     "metadata": {},
     "output_type": "execute_result"
    }
   ],
   "source": [
    "synth_df= pd.DataFrame(columns = [feat['name'] for feat in feat_arr if feat['name']!='hemoglobin'], dtype='object')\n",
    "# synth_df = normal_dist(synth_df, 'mcv', 30000)\n",
    "# synth_df = normal_dist(synth_df, 'rbc', 30000)\n",
    "synth_df = normal_dist(synth_df, 'mcv', 60000)\n",
    "synth_df = normal_dist(synth_df, 'rbc', 60000)\n",
    "synth_df['mentzer_index'] = synth_df['mcv']/synth_df['rbc']\n",
    "synth_df['iron'], synth_df['ferritin'], synth_df['tibc'] = less_mcv(synth_df)\n",
    "synth_df['ret_count'] = synth_df.apply(lambda row: normal_mcv(row), axis=1)\n",
    "synth_df['segmented_neutrophils'] = synth_df.apply(lambda row: more_mcv(row), axis=1)\n",
    "synth_df.head()"
   ]
  },
  {
   "cell_type": "code",
   "execution_count": 16,
   "id": "b62a59d5",
   "metadata": {
    "scrolled": true
   },
   "outputs": [
    {
     "data": {
      "text/html": [
       "<div>\n",
       "<style scoped>\n",
       "    .dataframe tbody tr th:only-of-type {\n",
       "        vertical-align: middle;\n",
       "    }\n",
       "\n",
       "    .dataframe tbody tr th {\n",
       "        vertical-align: top;\n",
       "    }\n",
       "\n",
       "    .dataframe thead th {\n",
       "        text-align: right;\n",
       "    }\n",
       "</style>\n",
       "<table border=\"1\" class=\"dataframe\">\n",
       "  <thead>\n",
       "    <tr style=\"text-align: right;\">\n",
       "      <th></th>\n",
       "      <th>ferritin</th>\n",
       "      <th>ret_count</th>\n",
       "      <th>segmented_neutrophils</th>\n",
       "      <th>iron</th>\n",
       "      <th>tibc</th>\n",
       "      <th>rbc</th>\n",
       "      <th>mcv</th>\n",
       "      <th>mentzer_index</th>\n",
       "    </tr>\n",
       "  </thead>\n",
       "  <tbody>\n",
       "    <tr>\n",
       "      <th>count</th>\n",
       "      <td>6338.000000</td>\n",
       "      <td>47274.000000</td>\n",
       "      <td>6388.000000</td>\n",
       "      <td>6338.000000</td>\n",
       "      <td>6338.000000</td>\n",
       "      <td>60000.000000</td>\n",
       "      <td>60000.000000</td>\n",
       "      <td>60000.000000</td>\n",
       "    </tr>\n",
       "    <tr>\n",
       "      <th>mean</th>\n",
       "      <td>1665.447625</td>\n",
       "      <td>2.840236</td>\n",
       "      <td>0.973489</td>\n",
       "      <td>54.591765</td>\n",
       "      <td>244.060611</td>\n",
       "      <td>3.504759</td>\n",
       "      <td>90.038630</td>\n",
       "      <td>27.333883</td>\n",
       "    </tr>\n",
       "    <tr>\n",
       "      <th>std</th>\n",
       "      <td>2150.026915</td>\n",
       "      <td>2.142463</td>\n",
       "      <td>1.412296</td>\n",
       "      <td>35.425152</td>\n",
       "      <td>89.192841</td>\n",
       "      <td>0.800871</td>\n",
       "      <td>8.033262</td>\n",
       "      <td>8.577876</td>\n",
       "    </tr>\n",
       "    <tr>\n",
       "      <th>min</th>\n",
       "      <td>1.605590</td>\n",
       "      <td>0.000057</td>\n",
       "      <td>0.000000</td>\n",
       "      <td>0.041118</td>\n",
       "      <td>0.441800</td>\n",
       "      <td>0.199270</td>\n",
       "      <td>59.271540</td>\n",
       "      <td>10.887740</td>\n",
       "    </tr>\n",
       "    <tr>\n",
       "      <th>25%</th>\n",
       "      <td>5.343627</td>\n",
       "      <td>0.917860</td>\n",
       "      <td>0.000000</td>\n",
       "      <td>26.512426</td>\n",
       "      <td>183.325951</td>\n",
       "      <td>2.965273</td>\n",
       "      <td>84.628540</td>\n",
       "      <td>21.988112</td>\n",
       "    </tr>\n",
       "    <tr>\n",
       "      <th>50%</th>\n",
       "      <td>610.183715</td>\n",
       "      <td>2.613531</td>\n",
       "      <td>0.072052</td>\n",
       "      <td>49.164302</td>\n",
       "      <td>242.022214</td>\n",
       "      <td>3.501786</td>\n",
       "      <td>90.019109</td>\n",
       "      <td>25.706606</td>\n",
       "    </tr>\n",
       "    <tr>\n",
       "      <th>75%</th>\n",
       "      <td>2891.007130</td>\n",
       "      <td>4.287805</td>\n",
       "      <td>1.634197</td>\n",
       "      <td>78.569418</td>\n",
       "      <td>303.406348</td>\n",
       "      <td>4.044705</td>\n",
       "      <td>95.423225</td>\n",
       "      <td>30.637738</td>\n",
       "    </tr>\n",
       "    <tr>\n",
       "      <th>max</th>\n",
       "      <td>13040.444622</td>\n",
       "      <td>12.229931</td>\n",
       "      <td>9.058435</td>\n",
       "      <td>222.002964</td>\n",
       "      <td>593.019934</td>\n",
       "      <td>7.035352</td>\n",
       "      <td>122.280231</td>\n",
       "      <td>415.455275</td>\n",
       "    </tr>\n",
       "  </tbody>\n",
       "</table>\n",
       "</div>"
      ],
      "text/plain": [
       "           ferritin     ret_count  segmented_neutrophils         iron  \\\n",
       "count   6338.000000  47274.000000            6388.000000  6338.000000   \n",
       "mean    1665.447625      2.840236               0.973489    54.591765   \n",
       "std     2150.026915      2.142463               1.412296    35.425152   \n",
       "min        1.605590      0.000057               0.000000     0.041118   \n",
       "25%        5.343627      0.917860               0.000000    26.512426   \n",
       "50%      610.183715      2.613531               0.072052    49.164302   \n",
       "75%     2891.007130      4.287805               1.634197    78.569418   \n",
       "max    13040.444622     12.229931               9.058435   222.002964   \n",
       "\n",
       "              tibc           rbc           mcv  mentzer_index  \n",
       "count  6338.000000  60000.000000  60000.000000   60000.000000  \n",
       "mean    244.060611      3.504759     90.038630      27.333883  \n",
       "std      89.192841      0.800871      8.033262       8.577876  \n",
       "min       0.441800      0.199270     59.271540      10.887740  \n",
       "25%     183.325951      2.965273     84.628540      21.988112  \n",
       "50%     242.022214      3.501786     90.019109      25.706606  \n",
       "75%     303.406348      4.044705     95.423225      30.637738  \n",
       "max     593.019934      7.035352    122.280231     415.455275  "
      ]
     },
     "execution_count": 16,
     "metadata": {},
     "output_type": "execute_result"
    }
   ],
   "source": [
    "synth_df.describe()"
   ]
  },
  {
   "cell_type": "code",
   "execution_count": 17,
   "id": "289bd619",
   "metadata": {},
   "outputs": [],
   "source": [
    "def create_label(row):\n",
    "    if row['mcv']<80 :\n",
    "        if row['mentzer_index']<13:\n",
    "            return 'Thalassemia'\n",
    "        elif row['ferritin']<30:\n",
    "            return 'Iron deficiency anemia'\n",
    "        elif row['ferritin']>100:\n",
    "            return 'Anemia of chronic disease'\n",
    "        elif row['tibc']<450:\n",
    "            return 'Anemia of chronic disease'\n",
    "        elif row['tibc']>=450:\n",
    "            return 'Iron deficiency anemia'\n",
    "        else:\n",
    "            return 'Inconclusive diagnosis'\n",
    "        \n",
    "    elif row['mcv']<=100:\n",
    "        if row['ret_count'] <=2:\n",
    "            return 'Aplastic anemia'\n",
    "        elif row['ret_count']>2:\n",
    "            return 'Hemolytic anemia'\n",
    "        else:\n",
    "            return 'Inconclusive diagnosis'\n",
    "        \n",
    "    elif row['mcv']> 100:\n",
    "        if row['segmented_neutrophils']>0:\n",
    "            return 'Vitamin B12/Folate deficiency anemia'\n",
    "        elif row['segmented_neutrophils'] == 0:\n",
    "            return 'Unspecified anemia'\n",
    "        else:\n",
    "            return 'Inconclusive diagnosis'\n",
    "    else:\n",
    "        return 'Inconclusive diagnosis'"
   ]
  },
  {
   "cell_type": "code",
   "execution_count": 18,
   "id": "bfef0846",
   "metadata": {},
   "outputs": [
    {
     "data": {
      "text/html": [
       "<div>\n",
       "<style scoped>\n",
       "    .dataframe tbody tr th:only-of-type {\n",
       "        vertical-align: middle;\n",
       "    }\n",
       "\n",
       "    .dataframe tbody tr th {\n",
       "        vertical-align: top;\n",
       "    }\n",
       "\n",
       "    .dataframe thead th {\n",
       "        text-align: right;\n",
       "    }\n",
       "</style>\n",
       "<table border=\"1\" class=\"dataframe\">\n",
       "  <thead>\n",
       "    <tr style=\"text-align: right;\">\n",
       "      <th></th>\n",
       "      <th>ferritin</th>\n",
       "      <th>ret_count</th>\n",
       "      <th>segmented_neutrophils</th>\n",
       "      <th>iron</th>\n",
       "      <th>tibc</th>\n",
       "      <th>rbc</th>\n",
       "      <th>mcv</th>\n",
       "      <th>mentzer_index</th>\n",
       "      <th>label</th>\n",
       "    </tr>\n",
       "  </thead>\n",
       "  <tbody>\n",
       "    <tr>\n",
       "      <th>0</th>\n",
       "      <td>NaN</td>\n",
       "      <td>7.419683</td>\n",
       "      <td>NaN</td>\n",
       "      <td>NaN</td>\n",
       "      <td>NaN</td>\n",
       "      <td>3.268986</td>\n",
       "      <td>97.071145</td>\n",
       "      <td>29.694573</td>\n",
       "      <td>Hemolytic anemia</td>\n",
       "    </tr>\n",
       "    <tr>\n",
       "      <th>1</th>\n",
       "      <td>NaN</td>\n",
       "      <td>0.768225</td>\n",
       "      <td>NaN</td>\n",
       "      <td>NaN</td>\n",
       "      <td>NaN</td>\n",
       "      <td>5.228592</td>\n",
       "      <td>91.566920</td>\n",
       "      <td>17.512729</td>\n",
       "      <td>Aplastic anemia</td>\n",
       "    </tr>\n",
       "    <tr>\n",
       "      <th>2</th>\n",
       "      <td>NaN</td>\n",
       "      <td>0.095205</td>\n",
       "      <td>NaN</td>\n",
       "      <td>NaN</td>\n",
       "      <td>NaN</td>\n",
       "      <td>2.698679</td>\n",
       "      <td>92.860292</td>\n",
       "      <td>34.409535</td>\n",
       "      <td>Aplastic anemia</td>\n",
       "    </tr>\n",
       "    <tr>\n",
       "      <th>3</th>\n",
       "      <td>5.773862</td>\n",
       "      <td>NaN</td>\n",
       "      <td>NaN</td>\n",
       "      <td>65.675268</td>\n",
       "      <td>272.340699</td>\n",
       "      <td>3.632368</td>\n",
       "      <td>71.253905</td>\n",
       "      <td>19.616379</td>\n",
       "      <td>Iron deficiency anemia</td>\n",
       "    </tr>\n",
       "    <tr>\n",
       "      <th>4</th>\n",
       "      <td>NaN</td>\n",
       "      <td>1.831053</td>\n",
       "      <td>NaN</td>\n",
       "      <td>NaN</td>\n",
       "      <td>NaN</td>\n",
       "      <td>3.509544</td>\n",
       "      <td>81.321339</td>\n",
       "      <td>23.171482</td>\n",
       "      <td>Aplastic anemia</td>\n",
       "    </tr>\n",
       "  </tbody>\n",
       "</table>\n",
       "</div>"
      ],
      "text/plain": [
       "   ferritin  ret_count  segmented_neutrophils       iron        tibc  \\\n",
       "0       NaN   7.419683                    NaN        NaN         NaN   \n",
       "1       NaN   0.768225                    NaN        NaN         NaN   \n",
       "2       NaN   0.095205                    NaN        NaN         NaN   \n",
       "3  5.773862        NaN                    NaN  65.675268  272.340699   \n",
       "4       NaN   1.831053                    NaN        NaN         NaN   \n",
       "\n",
       "        rbc        mcv  mentzer_index                   label  \n",
       "0  3.268986  97.071145      29.694573        Hemolytic anemia  \n",
       "1  5.228592  91.566920      17.512729         Aplastic anemia  \n",
       "2  2.698679  92.860292      34.409535         Aplastic anemia  \n",
       "3  3.632368  71.253905      19.616379  Iron deficiency anemia  \n",
       "4  3.509544  81.321339      23.171482         Aplastic anemia  "
      ]
     },
     "execution_count": 18,
     "metadata": {},
     "output_type": "execute_result"
    }
   ],
   "source": [
    "synth_df['label'] = synth_df.apply(lambda row: create_label(row), axis=1)\n",
    "synth_df.head()"
   ]
  },
  {
   "cell_type": "code",
   "execution_count": 19,
   "id": "5a960532",
   "metadata": {},
   "outputs": [
    {
     "data": {
      "text/plain": [
       "ferritin                 53662\n",
       "ret_count                12726\n",
       "segmented_neutrophils    53612\n",
       "iron                     53662\n",
       "tibc                     53662\n",
       "rbc                          0\n",
       "mcv                          0\n",
       "mentzer_index                0\n",
       "label                        0\n",
       "dtype: int64"
      ]
     },
     "execution_count": 19,
     "metadata": {},
     "output_type": "execute_result"
    }
   ],
   "source": [
    "synth_df.isna().sum()"
   ]
  },
  {
   "cell_type": "code",
   "execution_count": 14,
   "id": "22d0b889",
   "metadata": {},
   "outputs": [],
   "source": [
    "# creating the unspecified anemia dataset\n",
    "# unspecified_anem_df = synth_df[synth_df.label.isna()]\n",
    "# unspecified_anem_df['label'] = 'Unspecified anemia'\n",
    "# unspecified_anem_df.fillna(0, inplace=True)\n",
    "# print(len(unspecified_anem_df))\n",
    "# unspecified_anem_df.to_csv(f'data/unspecified_anemia_dataset.csv', index=False)"
   ]
  },
  {
   "cell_type": "code",
   "execution_count": 21,
   "id": "41c2b62a",
   "metadata": {},
   "outputs": [
    {
     "data": {
      "text/plain": [
       "ferritin                 53662\n",
       "ret_count                12726\n",
       "segmented_neutrophils    53612\n",
       "iron                     53662\n",
       "tibc                     53662\n",
       "rbc                          0\n",
       "mcv                          0\n",
       "mentzer_index                0\n",
       "label                        0\n",
       "dtype: int64"
      ]
     },
     "execution_count": 21,
     "metadata": {},
     "output_type": "execute_result"
    }
   ],
   "source": [
    "#synth_df = synth_df[synth_df.label.notna()]\n",
    "synth_df = synth_df.sample(frac=1, random_state=SEED).reset_index(drop=True)\n",
    "synth_df.isna().sum()"
   ]
  },
  {
   "cell_type": "code",
   "execution_count": 37,
   "id": "525c20dc",
   "metadata": {},
   "outputs": [
    {
     "data": {
      "text/plain": [
       "26775"
      ]
     },
     "execution_count": 37,
     "metadata": {},
     "output_type": "execute_result"
    }
   ],
   "source": [
    "synth_df['ferritin'].isna().sum()"
   ]
  },
  {
   "cell_type": "code",
   "execution_count": 38,
   "id": "8c588ec6",
   "metadata": {},
   "outputs": [
    {
     "data": {
      "text/plain": [
       "30000"
      ]
     },
     "execution_count": 38,
     "metadata": {},
     "output_type": "execute_result"
    }
   ],
   "source": [
    "len(synth_df)"
   ]
  },
  {
   "cell_type": "code",
   "execution_count": 24,
   "id": "ef09b25a",
   "metadata": {},
   "outputs": [
    {
     "data": {
      "text/plain": [
       "Hemolytic anemia                        28222\n",
       "Aplastic anemia                         19052\n",
       "Anemia of chronic disease                3607\n",
       "Vitamin B12/Folate deficiency anemia     3278\n",
       "Unspecified anemia                       3110\n",
       "Iron deficiency anemia                   2701\n",
       "Thalassemia                                30\n",
       "Name: label, dtype: int64"
      ]
     },
     "execution_count": 24,
     "metadata": {},
     "output_type": "execute_result"
    }
   ],
   "source": [
    "synth_df.label.value_counts()"
   ]
  },
  {
   "cell_type": "markdown",
   "id": "9b71f5a4",
   "metadata": {},
   "source": [
    "#### Saving the data"
   ]
  },
  {
   "cell_type": "code",
   "execution_count": 17,
   "id": "b99fd838",
   "metadata": {},
   "outputs": [],
   "source": [
    "#synth_df.to_csv('data/anemia_synth_dataset.csv', index=False)"
   ]
  },
  {
   "cell_type": "markdown",
   "id": "62b797e3",
   "metadata": {},
   "source": [
    "#### Randomly replacing some nulls with \"normal\" values"
   ]
  },
  {
   "cell_type": "code",
   "execution_count": 22,
   "id": "0c6d8aee",
   "metadata": {},
   "outputs": [],
   "source": [
    "def replace_nans(df, cols, frac): #can implement where frac is a list\n",
    "    for col_name in cols:\n",
    "        for feat_dict in feat_arr:\n",
    "            if feat_dict['name'] == col_name:\n",
    "                nan_num = df[col_name].isna().sum()\n",
    "                fill_num = int(np.ceil(frac*nan_num))\n",
    "                generated_nums = np.random.uniform(feat_dict['lower'], feat_dict['upper'], fill_num)\n",
    "                indices = list(df[df[col_name].isna()].index)\n",
    "                new_indices = random.sample(indices, fill_num)\n",
    "                df.loc[new_indices, col_name] = generated_nums\n",
    "    return df"
   ]
  },
  {
   "cell_type": "code",
   "execution_count": 19,
   "id": "639f82c8",
   "metadata": {},
   "outputs": [],
   "source": [
    "# new_synth_df = pd.read_csv('data/anemia_synth_dataset.csv')\n",
    "# new_synth_df.isna().sum()"
   ]
  },
  {
   "cell_type": "code",
   "execution_count": 40,
   "id": "920b6499",
   "metadata": {},
   "outputs": [
    {
     "data": {
      "text/plain": [
       "Hemolytic anemia                        14146\n",
       "Aplastic anemia                          9450\n",
       "Anemia of chronic disease                1869\n",
       "Unspecified anemia                       1604\n",
       "Vitamin B12/Folate deficiency anemia     1575\n",
       "Iron deficiency anemia                   1343\n",
       "Thalassemia                                13\n",
       "Name: label, dtype: int64"
      ]
     },
     "execution_count": 40,
     "metadata": {},
     "output_type": "execute_result"
    }
   ],
   "source": [
    "# to delete\n",
    "# synth_df['label'] = synth_df['label'].fillna('Unspecified anemia')\n",
    "# new_synth_df = synth_df.copy()\n",
    "# new_synth_df.label.value_counts()"
   ]
  },
  {
   "cell_type": "code",
   "execution_count": 23,
   "id": "1211a1d0",
   "metadata": {},
   "outputs": [
    {
     "ename": "NameError",
     "evalue": "name 'new_synth_df' is not defined",
     "output_type": "error",
     "traceback": [
      "\u001b[1;31m---------------------------------------------------------------------------\u001b[0m",
      "\u001b[1;31mNameError\u001b[0m                                 Traceback (most recent call last)",
      "\u001b[1;32m<ipython-input-23-89dd1eaaaee1>\u001b[0m in \u001b[0;36m<module>\u001b[1;34m\u001b[0m\n\u001b[0;32m      1\u001b[0m \u001b[0mcols\u001b[0m \u001b[1;33m=\u001b[0m \u001b[1;33m[\u001b[0m\u001b[1;34m'ferritin'\u001b[0m\u001b[1;33m,\u001b[0m \u001b[1;34m'ret_count'\u001b[0m\u001b[1;33m,\u001b[0m \u001b[1;34m'segmented_neutrophils'\u001b[0m\u001b[1;33m,\u001b[0m \u001b[1;34m'iron'\u001b[0m\u001b[1;33m,\u001b[0m \u001b[1;34m'tibc'\u001b[0m\u001b[1;33m]\u001b[0m\u001b[1;33m\u001b[0m\u001b[1;33m\u001b[0m\u001b[0m\n\u001b[1;32m----> 2\u001b[1;33m \u001b[0mfilled_synth_df\u001b[0m \u001b[1;33m=\u001b[0m \u001b[0mreplace_nans\u001b[0m\u001b[1;33m(\u001b[0m\u001b[0mnew_synth_df\u001b[0m\u001b[1;33m,\u001b[0m \u001b[0mcols\u001b[0m\u001b[1;33m,\u001b[0m \u001b[1;36m0.30\u001b[0m\u001b[1;33m)\u001b[0m\u001b[1;33m\u001b[0m\u001b[1;33m\u001b[0m\u001b[0m\n\u001b[0m\u001b[0;32m      3\u001b[0m \u001b[0mfilled_synth_df\u001b[0m\u001b[1;33m.\u001b[0m\u001b[0misna\u001b[0m\u001b[1;33m(\u001b[0m\u001b[1;33m)\u001b[0m\u001b[1;33m.\u001b[0m\u001b[0msum\u001b[0m\u001b[1;33m(\u001b[0m\u001b[1;33m)\u001b[0m\u001b[1;33m\u001b[0m\u001b[1;33m\u001b[0m\u001b[0m\n",
      "\u001b[1;31mNameError\u001b[0m: name 'new_synth_df' is not defined"
     ]
    }
   ],
   "source": [
    "cols = ['ferritin', 'ret_count', 'segmented_neutrophils', 'iron', 'tibc']\n",
    "filled_synth_df = replace_nans(new_synth_df, cols, 0.30)\n",
    "filled_synth_df.isna().sum()"
   ]
  },
  {
   "cell_type": "code",
   "execution_count": 42,
   "id": "635e9d4f",
   "metadata": {},
   "outputs": [
    {
     "data": {
      "text/html": [
       "<div>\n",
       "<style scoped>\n",
       "    .dataframe tbody tr th:only-of-type {\n",
       "        vertical-align: middle;\n",
       "    }\n",
       "\n",
       "    .dataframe tbody tr th {\n",
       "        vertical-align: top;\n",
       "    }\n",
       "\n",
       "    .dataframe thead th {\n",
       "        text-align: right;\n",
       "    }\n",
       "</style>\n",
       "<table border=\"1\" class=\"dataframe\">\n",
       "  <thead>\n",
       "    <tr style=\"text-align: right;\">\n",
       "      <th></th>\n",
       "      <th>ferritin</th>\n",
       "      <th>ret_count</th>\n",
       "      <th>segmented_neutrophils</th>\n",
       "      <th>iron</th>\n",
       "      <th>tibc</th>\n",
       "      <th>rbc</th>\n",
       "      <th>mcv</th>\n",
       "      <th>mentzer_index</th>\n",
       "      <th>label</th>\n",
       "    </tr>\n",
       "  </thead>\n",
       "  <tbody>\n",
       "    <tr>\n",
       "      <th>0</th>\n",
       "      <td>NaN</td>\n",
       "      <td>0.253194</td>\n",
       "      <td>NaN</td>\n",
       "      <td>NaN</td>\n",
       "      <td>NaN</td>\n",
       "      <td>4.052988</td>\n",
       "      <td>88.164375</td>\n",
       "      <td>21.752932</td>\n",
       "      <td>Aplastic anemia</td>\n",
       "    </tr>\n",
       "    <tr>\n",
       "      <th>1</th>\n",
       "      <td>99.558391</td>\n",
       "      <td>0.087604</td>\n",
       "      <td>NaN</td>\n",
       "      <td>156.830616</td>\n",
       "      <td>NaN</td>\n",
       "      <td>4.220903</td>\n",
       "      <td>87.223193</td>\n",
       "      <td>20.664580</td>\n",
       "      <td>Aplastic anemia</td>\n",
       "    </tr>\n",
       "    <tr>\n",
       "      <th>2</th>\n",
       "      <td>134.020515</td>\n",
       "      <td>9.093607</td>\n",
       "      <td>NaN</td>\n",
       "      <td>68.112529</td>\n",
       "      <td>NaN</td>\n",
       "      <td>3.682854</td>\n",
       "      <td>82.525400</td>\n",
       "      <td>22.408002</td>\n",
       "      <td>Hemolytic anemia</td>\n",
       "    </tr>\n",
       "    <tr>\n",
       "      <th>3</th>\n",
       "      <td>NaN</td>\n",
       "      <td>0.292759</td>\n",
       "      <td>0.000000</td>\n",
       "      <td>96.968292</td>\n",
       "      <td>NaN</td>\n",
       "      <td>4.234232</td>\n",
       "      <td>96.353048</td>\n",
       "      <td>22.755732</td>\n",
       "      <td>Aplastic anemia</td>\n",
       "    </tr>\n",
       "    <tr>\n",
       "      <th>4</th>\n",
       "      <td>129.481445</td>\n",
       "      <td>1.717516</td>\n",
       "      <td>1.698862</td>\n",
       "      <td>NaN</td>\n",
       "      <td>NaN</td>\n",
       "      <td>3.814345</td>\n",
       "      <td>103.899232</td>\n",
       "      <td>27.239074</td>\n",
       "      <td>Vitamin B12/Folate deficiency anemia</td>\n",
       "    </tr>\n",
       "  </tbody>\n",
       "</table>\n",
       "</div>"
      ],
      "text/plain": [
       "     ferritin  ret_count  segmented_neutrophils        iron  tibc       rbc  \\\n",
       "0         NaN   0.253194                    NaN         NaN   NaN  4.052988   \n",
       "1   99.558391   0.087604                    NaN  156.830616   NaN  4.220903   \n",
       "2  134.020515   9.093607                    NaN   68.112529   NaN  3.682854   \n",
       "3         NaN   0.292759               0.000000   96.968292   NaN  4.234232   \n",
       "4  129.481445   1.717516               1.698862         NaN   NaN  3.814345   \n",
       "\n",
       "          mcv  mentzer_index                                 label  \n",
       "0   88.164375      21.752932                       Aplastic anemia  \n",
       "1   87.223193      20.664580                       Aplastic anemia  \n",
       "2   82.525400      22.408002                      Hemolytic anemia  \n",
       "3   96.353048      22.755732                       Aplastic anemia  \n",
       "4  103.899232      27.239074  Vitamin B12/Folate deficiency anemia  "
      ]
     },
     "execution_count": 42,
     "metadata": {},
     "output_type": "execute_result"
    }
   ],
   "source": [
    "filled_synth_df.head()"
   ]
  },
  {
   "cell_type": "code",
   "execution_count": 43,
   "id": "a1d1f4e9",
   "metadata": {},
   "outputs": [],
   "source": [
    "filled_synth_df.to_csv('data/anemia_synth_dataset_with_unspecified.csv', index=False)"
   ]
  },
  {
   "cell_type": "code",
   "execution_count": null,
   "id": "c2796758",
   "metadata": {},
   "outputs": [],
   "source": [
    "#filled_synth_df.to_csv('data/anemia_synth_dataset_some_filled.csv', index=False)"
   ]
  },
  {
   "cell_type": "markdown",
   "id": "a604cd24",
   "metadata": {},
   "source": [
    "#### Data analysis"
   ]
  },
  {
   "cell_type": "code",
   "execution_count": null,
   "id": "ede3e556",
   "metadata": {},
   "outputs": [],
   "source": [
    "analytic_df = pd.read_csv('data/anemia_synth_dataset.csv')\n",
    "analytic_df.head()"
   ]
  },
  {
   "cell_type": "code",
   "execution_count": null,
   "id": "27189070",
   "metadata": {},
   "outputs": [],
   "source": [
    "plt.xticks(rotation=90)\n",
    "sns.countplot(x='label', data=analytic_df, palette = 'Set1')"
   ]
  },
  {
   "cell_type": "code",
   "execution_count": null,
   "id": "d4520652",
   "metadata": {},
   "outputs": [],
   "source": [
    "isna_series = analytic_df.isna().sum()"
   ]
  },
  {
   "cell_type": "code",
   "execution_count": null,
   "id": "08ca57ee",
   "metadata": {},
   "outputs": [],
   "source": [
    "def plot_feature_frequencies(df):\n",
    "    output_df  = pd.DataFrame()\n",
    "    for col in df.columns:\n",
    "        if col != 'label':\n",
    "            missing_num = df.isna().sum()[col]\n",
    "            present_num = df.notna().sum()[col]\n",
    "            col_dict = {'feature name':col, 'present': present_num, 'missing':missing_num,}\n",
    "            output_df = output_df.append(col_dict, ignore_index=True)\n",
    "    output_df = output_df[['feature name', 'present', 'missing']]\n",
    "    output_df.plot(x='feature name', kind='bar', figsize=(8,6), stacked=True)\n",
    "    return output_df"
   ]
  },
  {
   "cell_type": "code",
   "execution_count": null,
   "id": "0b6cba70",
   "metadata": {},
   "outputs": [],
   "source": [
    "output_df = plot_feature_frequencies(analytic_df)"
   ]
  },
  {
   "cell_type": "code",
   "execution_count": null,
   "id": "770859dc",
   "metadata": {},
   "outputs": [],
   "source": [
    "output_df"
   ]
  },
  {
   "cell_type": "code",
   "execution_count": null,
   "id": "fd8ed643",
   "metadata": {},
   "outputs": [],
   "source": []
  }
 ],
 "metadata": {
  "kernelspec": {
   "display_name": "Python 3 (ipykernel)",
   "language": "python",
   "name": "python3"
  },
  "language_info": {
   "codemirror_mode": {
    "name": "ipython",
    "version": 3
   },
   "file_extension": ".py",
   "mimetype": "text/x-python",
   "name": "python",
   "nbconvert_exporter": "python",
   "pygments_lexer": "ipython3",
   "version": "3.7.4"
  }
 },
 "nbformat": 4,
 "nbformat_minor": 5
}

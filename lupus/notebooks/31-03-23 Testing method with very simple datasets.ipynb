{
 "cells": [
  {
   "cell_type": "code",
   "execution_count": 1,
   "id": "2aba6aa2",
   "metadata": {},
   "outputs": [],
   "source": [
    "import pandas as pd\n",
    "import numpy as np\n",
    "import random\n",
    "import os\n",
    "import torch\n",
    "import sys\n",
    "sys.path.append('../')\n",
    "from modules import utils, simple_constants\n",
    "from modules.simple_env import SimpleEnv\n",
    "# from modules.env import LupusEnv\n",
    "from sklearn.model_selection import train_test_split\n",
    "from stable_baselines3 import DQN\n",
    "import warnings\n",
    "warnings.filterwarnings('ignore')"
   ]
  },
  {
   "cell_type": "code",
   "execution_count": 2,
   "id": "b06ba17e",
   "metadata": {},
   "outputs": [],
   "source": [
    "SEED = simple_constants.SEED\n",
    "random.seed(SEED)\n",
    "np.random.seed(SEED)\n",
    "os.environ['PYTHONHASHSEED']=str(SEED)\n",
    "torch.manual_seed(SEED)\n",
    "torch.use_deterministic_algorithms(True)"
   ]
  },
  {
   "cell_type": "code",
   "execution_count": 3,
   "id": "741decd9",
   "metadata": {},
   "outputs": [],
   "source": [
    "class_dict = simple_constants.CLASS_DICT"
   ]
  },
  {
   "cell_type": "markdown",
   "id": "9e6bf462",
   "metadata": {},
   "source": [
    "#### The data"
   ]
  },
  {
   "cell_type": "code",
   "execution_count": 4,
   "id": "b988c554",
   "metadata": {},
   "outputs": [
    {
     "data": {
      "text/html": [
       "<div>\n",
       "<style scoped>\n",
       "    .dataframe tbody tr th:only-of-type {\n",
       "        vertical-align: middle;\n",
       "    }\n",
       "\n",
       "    .dataframe tbody tr th {\n",
       "        vertical-align: top;\n",
       "    }\n",
       "\n",
       "    .dataframe thead th {\n",
       "        text-align: right;\n",
       "    }\n",
       "</style>\n",
       "<table border=\"1\" class=\"dataframe\">\n",
       "  <thead>\n",
       "    <tr style=\"text-align: right;\">\n",
       "      <th></th>\n",
       "      <th>ana</th>\n",
       "      <th>anti_dsdna_antibody</th>\n",
       "      <th>joint_involvement</th>\n",
       "      <th>proteinuria</th>\n",
       "      <th>pericardial_effusion</th>\n",
       "      <th>non_scarring_alopecia</th>\n",
       "      <th>leukopenia</th>\n",
       "      <th>delirium</th>\n",
       "      <th>label</th>\n",
       "    </tr>\n",
       "  </thead>\n",
       "  <tbody>\n",
       "    <tr>\n",
       "      <th>0</th>\n",
       "      <td>0</td>\n",
       "      <td>0</td>\n",
       "      <td>1</td>\n",
       "      <td>0</td>\n",
       "      <td>1</td>\n",
       "      <td>1</td>\n",
       "      <td>1</td>\n",
       "      <td>0</td>\n",
       "      <td>No lupus</td>\n",
       "    </tr>\n",
       "    <tr>\n",
       "      <th>1</th>\n",
       "      <td>1</td>\n",
       "      <td>0</td>\n",
       "      <td>0</td>\n",
       "      <td>0</td>\n",
       "      <td>0</td>\n",
       "      <td>0</td>\n",
       "      <td>0</td>\n",
       "      <td>0</td>\n",
       "      <td>No lupus</td>\n",
       "    </tr>\n",
       "    <tr>\n",
       "      <th>2</th>\n",
       "      <td>0</td>\n",
       "      <td>0</td>\n",
       "      <td>1</td>\n",
       "      <td>0</td>\n",
       "      <td>0</td>\n",
       "      <td>0</td>\n",
       "      <td>0</td>\n",
       "      <td>1</td>\n",
       "      <td>No lupus</td>\n",
       "    </tr>\n",
       "    <tr>\n",
       "      <th>3</th>\n",
       "      <td>0</td>\n",
       "      <td>1</td>\n",
       "      <td>0</td>\n",
       "      <td>1</td>\n",
       "      <td>0</td>\n",
       "      <td>0</td>\n",
       "      <td>0</td>\n",
       "      <td>0</td>\n",
       "      <td>No lupus</td>\n",
       "    </tr>\n",
       "    <tr>\n",
       "      <th>4</th>\n",
       "      <td>1</td>\n",
       "      <td>0</td>\n",
       "      <td>1</td>\n",
       "      <td>0</td>\n",
       "      <td>1</td>\n",
       "      <td>1</td>\n",
       "      <td>1</td>\n",
       "      <td>0</td>\n",
       "      <td>Lupus</td>\n",
       "    </tr>\n",
       "  </tbody>\n",
       "</table>\n",
       "</div>"
      ],
      "text/plain": [
       "   ana  anti_dsdna_antibody  joint_involvement  proteinuria  \\\n",
       "0    0                    0                  1            0   \n",
       "1    1                    0                  0            0   \n",
       "2    0                    0                  1            0   \n",
       "3    0                    1                  0            1   \n",
       "4    1                    0                  1            0   \n",
       "\n",
       "   pericardial_effusion  non_scarring_alopecia  leukopenia  delirium     label  \n",
       "0                     1                      1           1         0  No lupus  \n",
       "1                     0                      0           0         0  No lupus  \n",
       "2                     0                      0           0         1  No lupus  \n",
       "3                     0                      0           0         0  No lupus  \n",
       "4                     1                      1           1         0     Lupus  "
      ]
     },
     "execution_count": 4,
     "metadata": {},
     "output_type": "execute_result"
    }
   ],
   "source": [
    "df = pd.read_csv('../data/very_simple_datasets/feats_8.csv')\n",
    "df.head()"
   ]
  },
  {
   "cell_type": "code",
   "execution_count": 5,
   "id": "ef6748c1",
   "metadata": {},
   "outputs": [
    {
     "name": "stdout",
     "output_type": "stream",
     "text": [
      "0    42852\n",
      "1    27148\n",
      "Name: label, dtype: int64\n"
     ]
    },
    {
     "data": {
      "text/plain": [
       "((56000, 8), (14000, 8), (56000,), (14000,))"
      ]
     },
     "execution_count": 5,
     "metadata": {},
     "output_type": "execute_result"
    }
   ],
   "source": [
    "df['label'] = df['label'].replace(class_dict)\n",
    "print(df.label.value_counts())\n",
    "X = df.iloc[:, 0:-1]\n",
    "y = df.iloc[:, -1]\n",
    "\n",
    "X_train, X_test, y_train, y_test = train_test_split(X, y, test_size=0.20, stratify=y, random_state=SEED)\n",
    "training_df = pd.concat([X_train, y_train], axis=1).reset_index(drop=True)\n",
    "testing_df = pd.concat([X_test, y_test], axis=1).reset_index(drop=True)\n",
    "X_train, y_train = np.array(X_train), np.array(y_train)\n",
    "X_test, y_test = np.array(X_test), np.array(y_test)\n",
    "X_train.shape, X_test.shape, y_train.shape, y_test.shape"
   ]
  },
  {
   "cell_type": "code",
   "execution_count": 6,
   "id": "1c43c07e",
   "metadata": {},
   "outputs": [
    {
     "data": {
      "text/plain": [
       "array([0, 0, 0, ..., 1, 0, 1])"
      ]
     },
     "execution_count": 6,
     "metadata": {},
     "output_type": "execute_result"
    }
   ],
   "source": [
    "y_train"
   ]
  },
  {
   "cell_type": "markdown",
   "id": "26186de1",
   "metadata": {},
   "source": [
    "#### Training the model"
   ]
  },
  {
   "cell_type": "code",
   "execution_count": 7,
   "id": "22e1681d",
   "metadata": {},
   "outputs": [],
   "source": [
    "def stable_dqn3(X_train, y_train, timesteps,  save=False, filename=None):\n",
    "    training_env = SimpleEnv(X_train, y_train)\n",
    "    model = DQN('MlpPolicy', training_env, verbose=1, seed=simple_constants.SEED, gamma=0.90)\n",
    "    model.learn(total_timesteps=timesteps, log_interval=100000)\n",
    "    if save:\n",
    "        model.save(filename)\n",
    "    training_env.close()\n",
    "    return model"
   ]
  },
  {
   "cell_type": "code",
   "execution_count": 8,
   "id": "844436cb",
   "metadata": {},
   "outputs": [
    {
     "name": "stdout",
     "output_type": "stream",
     "text": [
      "Using cpu device\n",
      "Wrapping the env with a `Monitor` wrapper\n",
      "Wrapping the env in a DummyVecEnv.\n",
      "----------------------------------\n",
      "| rollout/            |          |\n",
      "|    ep_len_mean      | 1.14     |\n",
      "|    ep_rew_mean      | -0.02    |\n",
      "|    exploration_rate | 0.193    |\n",
      "|    success_rate     | 0.56     |\n",
      "| time/               |          |\n",
      "|    episodes         | 100000   |\n",
      "|    fps              | 2125     |\n",
      "|    time_elapsed     | 79       |\n",
      "|    total_timesteps  | 169813   |\n",
      "| train/              |          |\n",
      "|    learning_rate    | 0.0001   |\n",
      "|    loss             | 0.207    |\n",
      "|    n_updates        | 29953    |\n",
      "----------------------------------\n",
      "----------------------------------\n",
      "| rollout/            |          |\n",
      "|    ep_len_mean      | 1.08     |\n",
      "|    ep_rew_mean      | 0.1      |\n",
      "|    exploration_rate | 0.05     |\n",
      "|    success_rate     | 0.59     |\n",
      "| time/               |          |\n",
      "|    episodes         | 200000   |\n",
      "|    fps              | 1820     |\n",
      "|    time_elapsed     | 151      |\n",
      "|    total_timesteps  | 275146   |\n",
      "| train/              |          |\n",
      "|    learning_rate    | 0.0001   |\n",
      "|    loss             | 0.368    |\n",
      "|    n_updates        | 56286    |\n",
      "----------------------------------\n",
      "----------------------------------\n",
      "| rollout/            |          |\n",
      "|    ep_len_mean      | 1.06     |\n",
      "|    ep_rew_mean      | 0.04     |\n",
      "|    exploration_rate | 0.05     |\n",
      "|    success_rate     | 0.55     |\n",
      "| time/               |          |\n",
      "|    episodes         | 300000   |\n",
      "|    fps              | 1768     |\n",
      "|    time_elapsed     | 214      |\n",
      "|    total_timesteps  | 379061   |\n",
      "| train/              |          |\n",
      "|    learning_rate    | 0.0001   |\n",
      "|    loss             | 0.313    |\n",
      "|    n_updates        | 82265    |\n",
      "----------------------------------\n",
      "----------------------------------\n",
      "| rollout/            |          |\n",
      "|    ep_len_mean      | 1.01     |\n",
      "|    ep_rew_mean      | 0.19     |\n",
      "|    exploration_rate | 0.05     |\n",
      "|    success_rate     | 0.6      |\n",
      "| time/               |          |\n",
      "|    episodes         | 400000   |\n",
      "|    fps              | 1603     |\n",
      "|    time_elapsed     | 301      |\n",
      "|    total_timesteps  | 482876   |\n",
      "| train/              |          |\n",
      "|    learning_rate    | 0.0001   |\n",
      "|    loss             | 0.377    |\n",
      "|    n_updates        | 108218   |\n",
      "----------------------------------\n",
      "----------------------------------\n",
      "| rollout/            |          |\n",
      "|    ep_len_mean      | 1.03     |\n",
      "|    ep_rew_mean      | 0.13     |\n",
      "|    exploration_rate | 0.05     |\n",
      "|    success_rate     | 0.58     |\n",
      "| time/               |          |\n",
      "|    episodes         | 500000   |\n",
      "|    fps              | 1509     |\n",
      "|    time_elapsed     | 388      |\n",
      "|    total_timesteps  | 586676   |\n",
      "| train/              |          |\n",
      "|    learning_rate    | 0.0001   |\n",
      "|    loss             | 0.395    |\n",
      "|    n_updates        | 134168   |\n",
      "----------------------------------\n",
      "----------------------------------\n",
      "| rollout/            |          |\n",
      "|    ep_len_mean      | 1.05     |\n",
      "|    ep_rew_mean      | 0.05     |\n",
      "|    exploration_rate | 0.05     |\n",
      "|    success_rate     | 0.55     |\n",
      "| time/               |          |\n",
      "|    episodes         | 600000   |\n",
      "|    fps              | 1450     |\n",
      "|    time_elapsed     | 476      |\n",
      "|    total_timesteps  | 690402   |\n",
      "| train/              |          |\n",
      "|    learning_rate    | 0.0001   |\n",
      "|    loss             | 0.412    |\n",
      "|    n_updates        | 160100   |\n",
      "----------------------------------\n",
      "----------------------------------\n",
      "| rollout/            |          |\n",
      "|    ep_len_mean      | 1.02     |\n",
      "|    ep_rew_mean      | 0.22     |\n",
      "|    exploration_rate | 0.05     |\n",
      "|    success_rate     | 0.62     |\n",
      "| time/               |          |\n",
      "|    episodes         | 700000   |\n",
      "|    fps              | 1410     |\n",
      "|    time_elapsed     | 562      |\n",
      "|    total_timesteps  | 794052   |\n",
      "| train/              |          |\n",
      "|    learning_rate    | 0.0001   |\n",
      "|    loss             | 0.399    |\n",
      "|    n_updates        | 186012   |\n",
      "----------------------------------\n",
      "----------------------------------\n",
      "| rollout/            |          |\n",
      "|    ep_len_mean      | 1.04     |\n",
      "|    ep_rew_mean      | 0.34     |\n",
      "|    exploration_rate | 0.05     |\n",
      "|    success_rate     | 0.69     |\n",
      "| time/               |          |\n",
      "|    episodes         | 800000   |\n",
      "|    fps              | 1378     |\n",
      "|    time_elapsed     | 651      |\n",
      "|    total_timesteps  | 897843   |\n",
      "| train/              |          |\n",
      "|    learning_rate    | 0.0001   |\n",
      "|    loss             | 0.378    |\n",
      "|    n_updates        | 211960   |\n",
      "----------------------------------\n",
      "----------------------------------\n",
      "| rollout/            |          |\n",
      "|    ep_len_mean      | 1.06     |\n",
      "|    ep_rew_mean      | 0.1      |\n",
      "|    exploration_rate | 0.05     |\n",
      "|    success_rate     | 0.58     |\n",
      "| time/               |          |\n",
      "|    episodes         | 900000   |\n",
      "|    fps              | 1354     |\n",
      "|    time_elapsed     | 739      |\n",
      "|    total_timesteps  | 1001632  |\n",
      "| train/              |          |\n",
      "|    learning_rate    | 0.0001   |\n",
      "|    loss             | 0.404    |\n",
      "|    n_updates        | 237907   |\n",
      "----------------------------------\n",
      "----------------------------------\n",
      "| rollout/            |          |\n",
      "|    ep_len_mean      | 1.03     |\n",
      "|    ep_rew_mean      | 0.29     |\n",
      "|    exploration_rate | 0.05     |\n",
      "|    success_rate     | 0.66     |\n",
      "| time/               |          |\n",
      "|    episodes         | 1000000  |\n",
      "|    fps              | 1335     |\n",
      "|    time_elapsed     | 827      |\n",
      "|    total_timesteps  | 1105416  |\n",
      "| train/              |          |\n",
      "|    learning_rate    | 0.0001   |\n",
      "|    loss             | 0.516    |\n",
      "|    n_updates        | 263853   |\n",
      "----------------------------------\n",
      "----------------------------------\n",
      "| rollout/            |          |\n",
      "|    ep_len_mean      | 1.02     |\n",
      "|    ep_rew_mean      | 0.24     |\n",
      "|    exploration_rate | 0.05     |\n",
      "|    success_rate     | 0.63     |\n",
      "| time/               |          |\n",
      "|    episodes         | 1100000  |\n",
      "|    fps              | 1314     |\n",
      "|    time_elapsed     | 919      |\n",
      "|    total_timesteps  | 1209212  |\n",
      "| train/              |          |\n",
      "|    learning_rate    | 0.0001   |\n",
      "|    loss             | 0.42     |\n",
      "|    n_updates        | 289802   |\n",
      "----------------------------------\n",
      "----------------------------------\n",
      "| rollout/            |          |\n",
      "|    ep_len_mean      | 1        |\n",
      "|    ep_rew_mean      | 0.2      |\n",
      "|    exploration_rate | 0.05     |\n",
      "|    success_rate     | 0.6      |\n",
      "| time/               |          |\n",
      "|    episodes         | 1200000  |\n",
      "|    fps              | 1297     |\n",
      "|    time_elapsed     | 1012     |\n",
      "|    total_timesteps  | 1313043  |\n",
      "| train/              |          |\n",
      "|    learning_rate    | 0.0001   |\n",
      "|    loss             | 0.353    |\n",
      "|    n_updates        | 315760   |\n",
      "----------------------------------\n",
      "----------------------------------\n",
      "| rollout/            |          |\n",
      "|    ep_len_mean      | 1.01     |\n",
      "|    ep_rew_mean      | 0.03     |\n",
      "|    exploration_rate | 0.05     |\n",
      "|    success_rate     | 0.52     |\n",
      "| time/               |          |\n",
      "|    episodes         | 1300000  |\n",
      "|    fps              | 1282     |\n",
      "|    time_elapsed     | 1105     |\n",
      "|    total_timesteps  | 1416856  |\n",
      "| train/              |          |\n",
      "|    learning_rate    | 0.0001   |\n",
      "|    loss             | 0.429    |\n",
      "|    n_updates        | 341713   |\n",
      "----------------------------------\n",
      "----------------------------------\n",
      "| rollout/            |          |\n",
      "|    ep_len_mean      | 1.05     |\n",
      "|    ep_rew_mean      | 0.13     |\n",
      "|    exploration_rate | 0.05     |\n",
      "|    success_rate     | 0.59     |\n",
      "| time/               |          |\n",
      "|    episodes         | 1400000  |\n",
      "|    fps              | 1269     |\n",
      "|    time_elapsed     | 1197     |\n",
      "|    total_timesteps  | 1520580  |\n",
      "| train/              |          |\n",
      "|    learning_rate    | 0.0001   |\n",
      "|    loss             | 0.441    |\n",
      "|    n_updates        | 367644   |\n",
      "----------------------------------\n",
      "----------------------------------\n",
      "| rollout/            |          |\n",
      "|    ep_len_mean      | 1.03     |\n",
      "|    ep_rew_mean      | 0.07     |\n",
      "|    exploration_rate | 0.05     |\n",
      "|    success_rate     | 0.55     |\n",
      "| time/               |          |\n",
      "|    episodes         | 1500000  |\n",
      "|    fps              | 1259     |\n",
      "|    time_elapsed     | 1290     |\n",
      "|    total_timesteps  | 1624458  |\n",
      "| train/              |          |\n",
      "|    learning_rate    | 0.0001   |\n",
      "|    loss             | 0.416    |\n",
      "|    n_updates        | 393614   |\n",
      "----------------------------------\n"
     ]
    },
    {
     "name": "stdout",
     "output_type": "stream",
     "text": [
      "----------------------------------\n",
      "| rollout/            |          |\n",
      "|    ep_len_mean      | 1.05     |\n",
      "|    ep_rew_mean      | 0.29     |\n",
      "|    exploration_rate | 0.05     |\n",
      "|    success_rate     | 0.67     |\n",
      "| time/               |          |\n",
      "|    episodes         | 1600000  |\n",
      "|    fps              | 1249     |\n",
      "|    time_elapsed     | 1383     |\n",
      "|    total_timesteps  | 1728168  |\n",
      "| train/              |          |\n",
      "|    learning_rate    | 0.0001   |\n",
      "|    loss             | 0.373    |\n",
      "|    n_updates        | 419541   |\n",
      "----------------------------------\n",
      "----------------------------------\n",
      "| rollout/            |          |\n",
      "|    ep_len_mean      | 1.05     |\n",
      "|    ep_rew_mean      | 0.15     |\n",
      "|    exploration_rate | 0.05     |\n",
      "|    success_rate     | 0.6      |\n",
      "| time/               |          |\n",
      "|    episodes         | 1700000  |\n",
      "|    fps              | 1242     |\n",
      "|    time_elapsed     | 1474     |\n",
      "|    total_timesteps  | 1831941  |\n",
      "| train/              |          |\n",
      "|    learning_rate    | 0.0001   |\n",
      "|    loss             | 0.337    |\n",
      "|    n_updates        | 445485   |\n",
      "----------------------------------\n",
      "----------------------------------\n",
      "| rollout/            |          |\n",
      "|    ep_len_mean      | 1.06     |\n",
      "|    ep_rew_mean      | 0        |\n",
      "|    exploration_rate | 0.05     |\n",
      "|    success_rate     | 0.53     |\n",
      "| time/               |          |\n",
      "|    episodes         | 1800000  |\n",
      "|    fps              | 1234     |\n",
      "|    time_elapsed     | 1567     |\n",
      "|    total_timesteps  | 1935639  |\n",
      "| train/              |          |\n",
      "|    learning_rate    | 0.0001   |\n",
      "|    loss             | 0.434    |\n",
      "|    n_updates        | 471409   |\n",
      "----------------------------------\n"
     ]
    }
   ],
   "source": [
    "ft_num = 8\n",
    "# for steps in [int(2e6), int(6e6)]:\n",
    "for steps in [int(2e6)]:\n",
    "    model = stable_dqn3(X_train, y_train, steps) #f'../models/very_simple_models/dqn_ft_{ft_num}_{steps}')"
   ]
  },
  {
   "cell_type": "code",
   "execution_count": null,
   "id": "d321f575",
   "metadata": {},
   "outputs": [],
   "source": [
    "# timesteps = 15000000\n",
    "# ft_num = 11\n",
    "# training_env = SimpleEnv(X_train, y_train)\n",
    "# # training_env = LupusEnv(X_train, y_train)\n",
    "# # model = DQN('MlpPolicy', training_env, verbose=1, seed=SEED, learning_rate=0.00001)\n",
    "# model = DQN('MlpPolicy', training_env, verbose=1, seed=SEED)\n",
    "# model.learn(total_timesteps=timesteps, log_interval=100000)\n",
    "# # model.save(f'../models/very_simple_models/reward_shaping/dqn_fts_{ft_num}_{timesteps}')\n",
    "# training_env.close()\n",
    "# def training(X_train, y_trai)"
   ]
  },
  {
   "cell_type": "code",
   "execution_count": null,
   "id": "bd1a5b01",
   "metadata": {},
   "outputs": [],
   "source": [
    "# model = utils.load_dqn3('../models/very_simple_models/dqn_ft_22_5200000.zip')"
   ]
  },
  {
   "cell_type": "markdown",
   "id": "11da7b14",
   "metadata": {},
   "source": [
    "#### Testing the model"
   ]
  },
  {
   "cell_type": "code",
   "execution_count": null,
   "id": "b2eb98e0",
   "metadata": {},
   "outputs": [],
   "source": [
    "test_df = pd.DataFrame()\n",
    "testing_env = SimpleEnv(X_test, y_test, random=False)\n",
    "# testing_env = LupusEnv(X_test, y_test, random=False)\n",
    "count = 0\n",
    "try:\n",
    "    while True:\n",
    "        count += 1\n",
    "        if count %(len(X_test)/5)==0:\n",
    "            print(f'Count: {count}')\n",
    "        obs, done = testing_env.reset(), False\n",
    "        while not done:\n",
    "            action, states = model.predict(obs, deterministic=True)\n",
    "            obs, rew, done, info = testing_env.step(action)\n",
    "            if done==True:\n",
    "                test_df = test_df.append(info, ignore_index=True)\n",
    "except StopIteration:\n",
    "    print('Testing done ....')\n",
    "test_df.head() "
   ]
  },
  {
   "cell_type": "code",
   "execution_count": null,
   "id": "cfb3c893",
   "metadata": {},
   "outputs": [],
   "source": [
    "# testing_df.iloc[4]"
   ]
  },
  {
   "cell_type": "code",
   "execution_count": null,
   "id": "2424927b",
   "metadata": {},
   "outputs": [],
   "source": [
    "len(testing_df[(testing_df.ana==1) & (testing_df.label==0)])"
   ]
  },
  {
   "cell_type": "code",
   "execution_count": null,
   "id": "7c343287",
   "metadata": {},
   "outputs": [],
   "source": [
    "len(test_df.trajectory.value_counts())"
   ]
  },
  {
   "cell_type": "markdown",
   "id": "aae2600e",
   "metadata": {},
   "source": [
    "#### Results"
   ]
  },
  {
   "cell_type": "code",
   "execution_count": null,
   "id": "846902d3",
   "metadata": {},
   "outputs": [],
   "source": [
    "test_df.trajectory.value_counts()"
   ]
  },
  {
   "cell_type": "code",
   "execution_count": null,
   "id": "ce23fdf5",
   "metadata": {},
   "outputs": [],
   "source": [
    "test_df.episode_length.min(), test_df.episode_length.max()"
   ]
  },
  {
   "cell_type": "code",
   "execution_count": null,
   "id": "70303c59",
   "metadata": {},
   "outputs": [],
   "source": [
    "# len(testing_df[testing_df.ana == 0])"
   ]
  },
  {
   "cell_type": "code",
   "execution_count": null,
   "id": "f1af2743",
   "metadata": {},
   "outputs": [],
   "source": [
    "len(test_df.trajectory.value_counts())"
   ]
  },
  {
   "cell_type": "code",
   "execution_count": null,
   "id": "73384033",
   "metadata": {},
   "outputs": [],
   "source": [
    "test_df[test_df.episode_length == test_df.episode_length.min()].trajectory.value_counts()"
   ]
  },
  {
   "cell_type": "code",
   "execution_count": null,
   "id": "f2d7211a",
   "metadata": {},
   "outputs": [],
   "source": [
    "success_rate, success_df = utils.success_rate(test_df)\n",
    "success_rate"
   ]
  },
  {
   "cell_type": "code",
   "execution_count": null,
   "id": "d1d52bc9",
   "metadata": {},
   "outputs": [],
   "source": [
    "avg_length, avg_return = utils.get_avg_length_reward(test_df)\n",
    "avg_length, avg_return"
   ]
  },
  {
   "cell_type": "code",
   "execution_count": null,
   "id": "c1bb39e3",
   "metadata": {},
   "outputs": [],
   "source": [
    "acc, f1, roc_auc = utils.test(test_df['y_actual'], test_df['y_pred'])\n",
    "acc, f1, roc_auc"
   ]
  },
  {
   "cell_type": "code",
   "execution_count": null,
   "id": "b4ef364d",
   "metadata": {
    "scrolled": true
   },
   "outputs": [],
   "source": [
    "test_df.y_actual.value_counts()"
   ]
  },
  {
   "cell_type": "code",
   "execution_count": null,
   "id": "b237051a",
   "metadata": {},
   "outputs": [],
   "source": [
    "test_df.y_pred.value_counts()"
   ]
  },
  {
   "cell_type": "code",
   "execution_count": null,
   "id": "5f1dc2dd",
   "metadata": {},
   "outputs": [],
   "source": [
    "# test_df.to_csv(f'../test_dfs/very_simple_datasets/dqn_test_df_11ft_7000000.csv', index=False)\n",
    "# success_df.to_csv(f'../test_dfs/very_simple_datasets/dqn_success_df_11ft_7000000.csv', index=False)"
   ]
  },
  {
   "cell_type": "code",
   "execution_count": null,
   "id": "831b8735",
   "metadata": {},
   "outputs": [],
   "source": [
    "def training_and_testing(timesteps, feat_num):\n",
    "    training_env = SimpleEnv(X_train, y_train)\n",
    "    model = DQN('MlpPolicy', training_env, verbose=1, seed=SEED)\n",
    "    model.learn(total_timesteps=timesteps, log_interval=100000)\n",
    "    model.save(f'../models/very_simple_models/dqn_fts_{feat_num}_{timesteps}')\n",
    "    training_env.close()\n",
    "    \n",
    "    test_df = pd.DataFrame()\n",
    "    testing_env = SimpleEnv(X_test, y_test, random=False)\n",
    "    count = 0\n",
    "    try:\n",
    "        while True:\n",
    "            count += 1\n",
    "            if count %(len(X_test)/5)==0:\n",
    "                print(f'Count: {count}')\n",
    "            obs, done = testing_env.reset(), False\n",
    "            while not done:\n",
    "                action, states = model.predict(obs, deterministic=True)\n",
    "                obs, rew, done, info = testing_env.step(action)\n",
    "                if done==True:\n",
    "                    test_df = test_df.append(info, ignore_index=True)\n",
    "    except StopIteration:\n",
    "        print('Testing done ....')\n",
    "    print(test_df.head())\n",
    "    print(test_df.trajectory.value_counts())\n",
    "    success_rate, success_df = utils.success_rate(test_df)\n",
    "    print(f'Success rate: {success_rate}')\n",
    "    acc, f1, roc_auc = utils.test(test_df['y_actual'], test_df['y_pred'])\n",
    "    print(f'Accuracy: {acc}')\n",
    "    print(f'F1 Score: {f1}')\n",
    "    print(f'ROC AUC SCore: {roc_auc}')"
   ]
  },
  {
   "cell_type": "code",
   "execution_count": null,
   "id": "77572243",
   "metadata": {},
   "outputs": [],
   "source": []
  },
  {
   "cell_type": "code",
   "execution_count": null,
   "id": "5cde8b9c",
   "metadata": {},
   "outputs": [],
   "source": []
  },
  {
   "cell_type": "code",
   "execution_count": null,
   "id": "6ffa39bb",
   "metadata": {},
   "outputs": [],
   "source": []
  },
  {
   "cell_type": "code",
   "execution_count": null,
   "id": "aade51dd",
   "metadata": {},
   "outputs": [],
   "source": []
  }
 ],
 "metadata": {
  "kernelspec": {
   "display_name": "Python 3 (ipykernel)",
   "language": "python",
   "name": "python3"
  },
  "language_info": {
   "codemirror_mode": {
    "name": "ipython",
    "version": 3
   },
   "file_extension": ".py",
   "mimetype": "text/x-python",
   "name": "python",
   "nbconvert_exporter": "python",
   "pygments_lexer": "ipython3",
   "version": "3.7.4"
  }
 },
 "nbformat": 4,
 "nbformat_minor": 5
}

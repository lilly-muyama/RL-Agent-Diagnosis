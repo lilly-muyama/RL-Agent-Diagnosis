{
 "cells": [
  {
   "cell_type": "code",
   "execution_count": 1,
   "id": "7f83e3d9",
   "metadata": {},
   "outputs": [],
   "source": [
    "import pandas as pd\n",
    "import numpy as np\n",
    "import random\n",
    "import matplotlib.pyplot as plt\n",
    "%matplotlib inline\n",
    "from sklearn.model_selection import train_test_split\n",
    "import sys\n",
    "sys.path.append('../')\n",
    "from modules import utils, constants"
   ]
  },
  {
   "cell_type": "code",
   "execution_count": 2,
   "id": "4b2f319d",
   "metadata": {},
   "outputs": [],
   "source": [
    "features = ['ana', 'fever', 'leukopenia', 'thrombocytopenia', 'auto_immune_hemolysis', 'delirium', 'psychosis', \n",
    "            'seizure']"
   ]
  },
  {
   "cell_type": "code",
   "execution_count": 3,
   "id": "4518459f",
   "metadata": {},
   "outputs": [],
   "source": [
    "feat_arr = [{'name':'ana', 'lower':0, 'upper':25},\n",
    "            {'name':'fever', 'lower':10, 'upper':36},\n",
    "            {'name':'leukopenia', 'lower':0.5, 'upper':5.5},\n",
    "            {'name':'thrombocytopenia', 'lower':0, 'upper':1}, #0 absent\n",
    "            {'name':'auto_immune_hemolysis', 'lower':60, 'upper':95},\n",
    "            {'name':'delirium', 'lower':240, 'upper':450},\n",
    "            {'name':'psychosis', 'lower':4.8, 'upper':10.3},\n",
    "            {'name':'seizure', 'lower':80, 'upper':100},\n",
    "           ]\n",
    "features = [i['name'] for i in feat_arr]"
   ]
  },
  {
   "cell_type": "code",
   "execution_count": 4,
   "id": "c6fbf493",
   "metadata": {},
   "outputs": [],
   "source": [
    "def get_label(row):\n",
    "    if row.ana >= 15:\n",
    "        return 0\n",
    "    elif row.ana < 15:\n",
    "        return 1\n",
    "    else:\n",
    "        print('Unknown ana value')"
   ]
  },
  {
   "cell_type": "markdown",
   "id": "24ef4182",
   "metadata": {},
   "source": [
    "#### the dataset"
   ]
  },
  {
   "cell_type": "code",
   "execution_count": 5,
   "id": "6c0a31f8",
   "metadata": {},
   "outputs": [
    {
     "data": {
      "text/html": [
       "<div>\n",
       "<style scoped>\n",
       "    .dataframe tbody tr th:only-of-type {\n",
       "        vertical-align: middle;\n",
       "    }\n",
       "\n",
       "    .dataframe tbody tr th {\n",
       "        vertical-align: top;\n",
       "    }\n",
       "\n",
       "    .dataframe thead th {\n",
       "        text-align: right;\n",
       "    }\n",
       "</style>\n",
       "<table border=\"1\" class=\"dataframe\">\n",
       "  <thead>\n",
       "    <tr style=\"text-align: right;\">\n",
       "      <th></th>\n",
       "      <th>ana</th>\n",
       "      <th>fever</th>\n",
       "      <th>leukopenia</th>\n",
       "      <th>thrombocytopenia</th>\n",
       "      <th>auto_immune_hemolysis</th>\n",
       "      <th>delirium</th>\n",
       "      <th>psychosis</th>\n",
       "      <th>seizure</th>\n",
       "      <th>label</th>\n",
       "    </tr>\n",
       "  </thead>\n",
       "  <tbody>\n",
       "    <tr>\n",
       "      <th>0</th>\n",
       "      <td>19.736300</td>\n",
       "      <td>14.269858</td>\n",
       "      <td>3.104222</td>\n",
       "      <td>0.050291</td>\n",
       "      <td>66.144911</td>\n",
       "      <td>247.375466</td>\n",
       "      <td>8.905914</td>\n",
       "      <td>98.982852</td>\n",
       "      <td>0</td>\n",
       "    </tr>\n",
       "    <tr>\n",
       "      <th>1</th>\n",
       "      <td>11.673771</td>\n",
       "      <td>13.325764</td>\n",
       "      <td>2.881500</td>\n",
       "      <td>0.506983</td>\n",
       "      <td>83.933367</td>\n",
       "      <td>307.519239</td>\n",
       "      <td>5.214360</td>\n",
       "      <td>92.100978</td>\n",
       "      <td>1</td>\n",
       "    </tr>\n",
       "    <tr>\n",
       "      <th>2</th>\n",
       "      <td>9.567493</td>\n",
       "      <td>16.870439</td>\n",
       "      <td>5.099898</td>\n",
       "      <td>0.129086</td>\n",
       "      <td>78.469891</td>\n",
       "      <td>256.218377</td>\n",
       "      <td>9.791354</td>\n",
       "      <td>97.992413</td>\n",
       "      <td>1</td>\n",
       "    </tr>\n",
       "    <tr>\n",
       "      <th>3</th>\n",
       "      <td>21.421192</td>\n",
       "      <td>14.841025</td>\n",
       "      <td>0.652897</td>\n",
       "      <td>0.126821</td>\n",
       "      <td>69.280091</td>\n",
       "      <td>299.680233</td>\n",
       "      <td>4.957622</td>\n",
       "      <td>94.478144</td>\n",
       "      <td>0</td>\n",
       "    </tr>\n",
       "    <tr>\n",
       "      <th>4</th>\n",
       "      <td>24.113361</td>\n",
       "      <td>21.280716</td>\n",
       "      <td>3.125061</td>\n",
       "      <td>0.586256</td>\n",
       "      <td>81.000651</td>\n",
       "      <td>342.139488</td>\n",
       "      <td>10.146988</td>\n",
       "      <td>82.189625</td>\n",
       "      <td>0</td>\n",
       "    </tr>\n",
       "  </tbody>\n",
       "</table>\n",
       "</div>"
      ],
      "text/plain": [
       "         ana      fever  leukopenia  thrombocytopenia  auto_immune_hemolysis  \\\n",
       "0  19.736300  14.269858    3.104222          0.050291              66.144911   \n",
       "1  11.673771  13.325764    2.881500          0.506983              83.933367   \n",
       "2   9.567493  16.870439    5.099898          0.129086              78.469891   \n",
       "3  21.421192  14.841025    0.652897          0.126821              69.280091   \n",
       "4  24.113361  21.280716    3.125061          0.586256              81.000651   \n",
       "\n",
       "     delirium  psychosis    seizure  label  \n",
       "0  247.375466   8.905914  98.982852      0  \n",
       "1  307.519239   5.214360  92.100978      1  \n",
       "2  256.218377   9.791354  97.992413      1  \n",
       "3  299.680233   4.957622  94.478144      0  \n",
       "4  342.139488  10.146988  82.189625      0  "
      ]
     },
     "execution_count": 5,
     "metadata": {},
     "output_type": "execute_result"
    }
   ],
   "source": [
    "simple_df = pd.DataFrame()\n",
    "for feat in feat_arr:\n",
    "    simple_df[feat['name']] = np.random.uniform(feat['lower'], feat['upper'], 70000)\n",
    "# simple_df['ana'] = [1]*35000 + [0]*35000\n",
    "simple_df['label'] = simple_df.apply(lambda i: get_label(i), axis=1)\n",
    "simple_df = simple_df.sample(frac=1, random_state=42).reset_index(drop=True)\n",
    "simple_df.head()"
   ]
  },
  {
   "cell_type": "code",
   "execution_count": 6,
   "id": "8498f1dd",
   "metadata": {},
   "outputs": [
    {
     "data": {
      "text/plain": [
       "1    41966\n",
       "0    28034\n",
       "Name: label, dtype: int64"
      ]
     },
     "execution_count": 6,
     "metadata": {},
     "output_type": "execute_result"
    }
   ],
   "source": [
    "simple_df.label.value_counts()"
   ]
  },
  {
   "cell_type": "code",
   "execution_count": 7,
   "id": "c965901d",
   "metadata": {},
   "outputs": [],
   "source": [
    "# for i in features:\n",
    "#     simple_df[i] = np.random.choice([0, 1], len(simple_df), p=[0.75, 0.25])"
   ]
  },
  {
   "cell_type": "code",
   "execution_count": 8,
   "id": "4006ebf3",
   "metadata": {},
   "outputs": [
    {
     "data": {
      "text/plain": [
       "0"
      ]
     },
     "execution_count": 8,
     "metadata": {},
     "output_type": "execute_result"
    }
   ],
   "source": [
    "len(simple_df[(simple_df.ana<15) & (simple_df.label==0)])"
   ]
  },
  {
   "cell_type": "code",
   "execution_count": 9,
   "id": "a735c822",
   "metadata": {},
   "outputs": [],
   "source": [
    "simple_df.to_csv('../data/28_jan/very_simple_dataset.csv', index=False)"
   ]
  },
  {
   "cell_type": "markdown",
   "id": "11890e67",
   "metadata": {},
   "source": [
    "#### splitting the dataset"
   ]
  },
  {
   "cell_type": "code",
   "execution_count": 10,
   "id": "6e750636",
   "metadata": {},
   "outputs": [],
   "source": [
    "X = simple_df.iloc[:, 0:-1]\n",
    "y = simple_df.iloc[:, -1]\n",
    "X_train, X_test, y_train, y_test = train_test_split(X, y, test_size=0.20, random_state=42, stratify=y)"
   ]
  },
  {
   "cell_type": "code",
   "execution_count": 11,
   "id": "4bba79de",
   "metadata": {},
   "outputs": [
    {
     "data": {
      "text/html": [
       "<div>\n",
       "<style scoped>\n",
       "    .dataframe tbody tr th:only-of-type {\n",
       "        vertical-align: middle;\n",
       "    }\n",
       "\n",
       "    .dataframe tbody tr th {\n",
       "        vertical-align: top;\n",
       "    }\n",
       "\n",
       "    .dataframe thead th {\n",
       "        text-align: right;\n",
       "    }\n",
       "</style>\n",
       "<table border=\"1\" class=\"dataframe\">\n",
       "  <thead>\n",
       "    <tr style=\"text-align: right;\">\n",
       "      <th></th>\n",
       "      <th>ana</th>\n",
       "      <th>fever</th>\n",
       "      <th>leukopenia</th>\n",
       "      <th>thrombocytopenia</th>\n",
       "      <th>auto_immune_hemolysis</th>\n",
       "      <th>delirium</th>\n",
       "      <th>psychosis</th>\n",
       "      <th>seizure</th>\n",
       "      <th>label</th>\n",
       "    </tr>\n",
       "  </thead>\n",
       "  <tbody>\n",
       "    <tr>\n",
       "      <th>0</th>\n",
       "      <td>2.355559</td>\n",
       "      <td>23.275588</td>\n",
       "      <td>0.992151</td>\n",
       "      <td>0.031649</td>\n",
       "      <td>83.800891</td>\n",
       "      <td>424.054390</td>\n",
       "      <td>8.955005</td>\n",
       "      <td>97.923367</td>\n",
       "      <td>1</td>\n",
       "    </tr>\n",
       "    <tr>\n",
       "      <th>1</th>\n",
       "      <td>2.827644</td>\n",
       "      <td>10.440244</td>\n",
       "      <td>3.646265</td>\n",
       "      <td>0.245557</td>\n",
       "      <td>85.635244</td>\n",
       "      <td>314.385329</td>\n",
       "      <td>8.023260</td>\n",
       "      <td>93.094230</td>\n",
       "      <td>1</td>\n",
       "    </tr>\n",
       "    <tr>\n",
       "      <th>2</th>\n",
       "      <td>23.976005</td>\n",
       "      <td>10.394025</td>\n",
       "      <td>3.712749</td>\n",
       "      <td>0.293129</td>\n",
       "      <td>87.204209</td>\n",
       "      <td>433.242106</td>\n",
       "      <td>5.032835</td>\n",
       "      <td>91.215160</td>\n",
       "      <td>0</td>\n",
       "    </tr>\n",
       "    <tr>\n",
       "      <th>3</th>\n",
       "      <td>21.637678</td>\n",
       "      <td>14.643438</td>\n",
       "      <td>5.439854</td>\n",
       "      <td>0.556186</td>\n",
       "      <td>93.790617</td>\n",
       "      <td>426.112817</td>\n",
       "      <td>7.066064</td>\n",
       "      <td>92.727468</td>\n",
       "      <td>0</td>\n",
       "    </tr>\n",
       "    <tr>\n",
       "      <th>4</th>\n",
       "      <td>13.290648</td>\n",
       "      <td>26.657688</td>\n",
       "      <td>3.624939</td>\n",
       "      <td>0.952937</td>\n",
       "      <td>67.543757</td>\n",
       "      <td>366.875785</td>\n",
       "      <td>7.553432</td>\n",
       "      <td>82.498625</td>\n",
       "      <td>1</td>\n",
       "    </tr>\n",
       "  </tbody>\n",
       "</table>\n",
       "</div>"
      ],
      "text/plain": [
       "         ana      fever  leukopenia  thrombocytopenia  auto_immune_hemolysis  \\\n",
       "0   2.355559  23.275588    0.992151          0.031649              83.800891   \n",
       "1   2.827644  10.440244    3.646265          0.245557              85.635244   \n",
       "2  23.976005  10.394025    3.712749          0.293129              87.204209   \n",
       "3  21.637678  14.643438    5.439854          0.556186              93.790617   \n",
       "4  13.290648  26.657688    3.624939          0.952937              67.543757   \n",
       "\n",
       "     delirium  psychosis    seizure  label  \n",
       "0  424.054390   8.955005  97.923367      1  \n",
       "1  314.385329   8.023260  93.094230      1  \n",
       "2  433.242106   5.032835  91.215160      0  \n",
       "3  426.112817   7.066064  92.727468      0  \n",
       "4  366.875785   7.553432  82.498625      1  "
      ]
     },
     "execution_count": 11,
     "metadata": {},
     "output_type": "execute_result"
    }
   ],
   "source": [
    "train_df = pd.concat([X_train, y_train], axis=1).reset_index(drop=True)\n",
    "test_df = pd.concat([X_test, y_test], axis=1).reset_index(drop=True)\n",
    "train_df.head()"
   ]
  },
  {
   "cell_type": "code",
   "execution_count": 12,
   "id": "d15647a5",
   "metadata": {},
   "outputs": [],
   "source": [
    "train_df.to_csv('../data/28_jan/train_set_basic.csv', index=False)\n",
    "test_df.to_csv('../data/28_jan/test_set_basic.csv', index=False)"
   ]
  },
  {
   "cell_type": "code",
   "execution_count": null,
   "id": "c9a44f33",
   "metadata": {},
   "outputs": [],
   "source": []
  }
 ],
 "metadata": {
  "kernelspec": {
   "display_name": "Python 3 (ipykernel)",
   "language": "python",
   "name": "python3"
  },
  "language_info": {
   "codemirror_mode": {
    "name": "ipython",
    "version": 3
   },
   "file_extension": ".py",
   "mimetype": "text/x-python",
   "name": "python",
   "nbconvert_exporter": "python",
   "pygments_lexer": "ipython3",
   "version": "3.7.4"
  }
 },
 "nbformat": 4,
 "nbformat_minor": 5
}

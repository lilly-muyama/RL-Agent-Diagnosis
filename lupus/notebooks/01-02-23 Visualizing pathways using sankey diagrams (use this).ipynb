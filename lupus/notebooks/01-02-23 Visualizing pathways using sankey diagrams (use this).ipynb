{
 "cells": [
  {
   "cell_type": "code",
   "execution_count": 8,
   "id": "ee72cd22",
   "metadata": {},
   "outputs": [],
   "source": [
    "import pandas as pd\n",
    "import numpy as np\n",
    "import random\n",
    "import sys\n",
    "sys.path.append('../')\n",
    "from modules import utils, simple_constants\n",
    "import plotly.graph_objects as go\n",
    "import matplotlib.pyplot as plt\n",
    "%matplotlib inline"
   ]
  },
  {
   "cell_type": "code",
   "execution_count": 9,
   "id": "fbdfbf02",
   "metadata": {},
   "outputs": [],
   "source": [
    "def generate_filename(i):\n",
    "    classes = list(lsimple_constants.CLASS_DICT.keys())\n",
    "    the_class = classes[i]\n",
    "    filename = the_class.lower().replace(' ', '_').replace('/','_')\n",
    "    return filename"
   ]
  },
  {
   "cell_type": "code",
   "execution_count": 10,
   "id": "8f826347",
   "metadata": {},
   "outputs": [],
   "source": [
    "get_colors = lambda n: list(map(lambda i: \"#\" + \"%06x\" % random.randint(0, 0xFFFFFF),range(n)))"
   ]
  },
  {
   "cell_type": "code",
   "execution_count": 11,
   "id": "8b117179",
   "metadata": {},
   "outputs": [],
   "source": [
    "def draw_sankey_diagram_orig(df, title, compress=False, compress_val=0, save=False, filename=False):\n",
    "    overall_tuple_dict = utils.generate_tuple_dict(df)\n",
    "    sankey_df = pd.DataFrame()\n",
    "    sankey_df['Label1'] = [i[0] for i in overall_tuple_dict.keys()]\n",
    "    sankey_df['Label2'] = [i[1] for i in overall_tuple_dict.keys()]\n",
    "    sankey_df['value'] = list(overall_tuple_dict.values())\n",
    "#     sankey_df.sort_values(by=['value'], inplace = True)\n",
    "    if compress:\n",
    "        sankey_df = sankey_df[sankey_df.value>compress_val]\n",
    "    unique_actions = list(set(list(sankey_df['Label1'].unique())  + list(sankey_df['Label2'].unique())))\n",
    "    dmap = dict(zip(unique_actions, range(len(unique_actions))))\n",
    "    sankey_df['source'] = sankey_df['Label1'].map(dmap)\n",
    "    sankey_df['target'] = sankey_df['Label2'].map(dmap)\n",
    "    sankey_df.sort_values(by=['source'], inplace=True)\n",
    "    nodes_color = get_colors(len(dmap))\n",
    "    label = unique_actions\n",
    "    target = list(sankey_df['target'])\n",
    "    value = list(sankey_df['value'])\n",
    "    source = list(sankey_df['source'])\n",
    "    \n",
    "#     return sankey_df\n",
    "    \n",
    "    link_color = get_colors(len(value))\n",
    "#     link_color = ['green']*len(value)\n",
    "    fig = go.Figure(data=[go.Sankey(\n",
    "        node = dict(pad=15, thickness=20, line=dict(color='black', width=0.5), label=label, color=nodes_color),\n",
    "        link = dict(source=source, target=target, value=value, color=link_color)\n",
    "    )])\n",
    "    fig.update_layout(title_text=title, title_x=0.5,  title_font_size=24, title_font_color='black', \n",
    "                      title_font_family='Times New Roman')\n",
    "    if save:\n",
    "        fig.write_html(f'{filename}.html')\n",
    "    fig.show()"
   ]
  },
  {
   "cell_type": "markdown",
   "id": "b0821d6b",
   "metadata": {},
   "source": [
    "#### Test df"
   ]
  },
  {
   "cell_type": "code",
   "execution_count": 12,
   "id": "059fdbfa",
   "metadata": {},
   "outputs": [
    {
     "data": {
      "text/html": [
       "<div>\n",
       "<style scoped>\n",
       "    .dataframe tbody tr th:only-of-type {\n",
       "        vertical-align: middle;\n",
       "    }\n",
       "\n",
       "    .dataframe tbody tr th {\n",
       "        vertical-align: top;\n",
       "    }\n",
       "\n",
       "    .dataframe thead th {\n",
       "        text-align: right;\n",
       "    }\n",
       "</style>\n",
       "<table border=\"1\" class=\"dataframe\">\n",
       "  <thead>\n",
       "    <tr style=\"text-align: right;\">\n",
       "      <th></th>\n",
       "      <th>index</th>\n",
       "      <th>episode_length</th>\n",
       "      <th>reward</th>\n",
       "      <th>y_pred</th>\n",
       "      <th>y_actual</th>\n",
       "      <th>trajectory</th>\n",
       "      <th>terminated</th>\n",
       "      <th>is_success</th>\n",
       "    </tr>\n",
       "  </thead>\n",
       "  <tbody>\n",
       "    <tr>\n",
       "      <th>0</th>\n",
       "      <td>0.0</td>\n",
       "      <td>11.0</td>\n",
       "      <td>1.0</td>\n",
       "      <td>1.0</td>\n",
       "      <td>1.0</td>\n",
       "      <td>['pericardial_effusion', 'cutaneous_lupus', 'a...</td>\n",
       "      <td>0.0</td>\n",
       "      <td>1.0</td>\n",
       "    </tr>\n",
       "    <tr>\n",
       "      <th>1</th>\n",
       "      <td>1.0</td>\n",
       "      <td>12.0</td>\n",
       "      <td>1.0</td>\n",
       "      <td>1.0</td>\n",
       "      <td>1.0</td>\n",
       "      <td>['pericardial_effusion', 'cutaneous_lupus', 'a...</td>\n",
       "      <td>0.0</td>\n",
       "      <td>1.0</td>\n",
       "    </tr>\n",
       "    <tr>\n",
       "      <th>2</th>\n",
       "      <td>2.0</td>\n",
       "      <td>11.0</td>\n",
       "      <td>1.0</td>\n",
       "      <td>1.0</td>\n",
       "      <td>1.0</td>\n",
       "      <td>['pericardial_effusion', 'cutaneous_lupus', 'n...</td>\n",
       "      <td>0.0</td>\n",
       "      <td>1.0</td>\n",
       "    </tr>\n",
       "    <tr>\n",
       "      <th>3</th>\n",
       "      <td>3.0</td>\n",
       "      <td>13.0</td>\n",
       "      <td>1.0</td>\n",
       "      <td>1.0</td>\n",
       "      <td>1.0</td>\n",
       "      <td>['pericardial_effusion', 'cutaneous_lupus', 'a...</td>\n",
       "      <td>0.0</td>\n",
       "      <td>1.0</td>\n",
       "    </tr>\n",
       "    <tr>\n",
       "      <th>4</th>\n",
       "      <td>4.0</td>\n",
       "      <td>14.0</td>\n",
       "      <td>1.0</td>\n",
       "      <td>1.0</td>\n",
       "      <td>1.0</td>\n",
       "      <td>['pericardial_effusion', 'cutaneous_lupus', 'n...</td>\n",
       "      <td>0.0</td>\n",
       "      <td>1.0</td>\n",
       "    </tr>\n",
       "  </tbody>\n",
       "</table>\n",
       "</div>"
      ],
      "text/plain": [
       "   index  episode_length  reward  y_pred  y_actual  \\\n",
       "0    0.0            11.0     1.0     1.0       1.0   \n",
       "1    1.0            12.0     1.0     1.0       1.0   \n",
       "2    2.0            11.0     1.0     1.0       1.0   \n",
       "3    3.0            13.0     1.0     1.0       1.0   \n",
       "4    4.0            14.0     1.0     1.0       1.0   \n",
       "\n",
       "                                          trajectory  terminated  is_success  \n",
       "0  ['pericardial_effusion', 'cutaneous_lupus', 'a...         0.0         1.0  \n",
       "1  ['pericardial_effusion', 'cutaneous_lupus', 'a...         0.0         1.0  \n",
       "2  ['pericardial_effusion', 'cutaneous_lupus', 'n...         0.0         1.0  \n",
       "3  ['pericardial_effusion', 'cutaneous_lupus', 'a...         0.0         1.0  \n",
       "4  ['pericardial_effusion', 'cutaneous_lupus', 'n...         0.0         1.0  "
      ]
     },
     "execution_count": 12,
     "metadata": {},
     "output_type": "execute_result"
    }
   ],
   "source": [
    "# test_df = pd.read_csv('../test_dfs/very_simple_datasets/dqn_test_df_11ft_6000000.csv')\n",
    "test_df = pd.read_csv('../test_dfs/noisiness/0.1.csv')\n",
    "test_df.head()"
   ]
  },
  {
   "cell_type": "code",
   "execution_count": 7,
   "id": "a7e80cc0",
   "metadata": {
    "scrolled": false
   },
   "outputs": [
    {
     "data": {
      "application/vnd.plotly.v1+json": {
       "config": {
        "plotlyServerURL": "https://plot.ly"
       },
       "data": [
        {
         "link": {
          "color": [
           "#6d6a45",
           "#f24575",
           "#56e1ca",
           "#2b6a52",
           "#914c73",
           "#ab9dcb",
           "#2fd072",
           "#7840b2",
           "#9eef4c",
           "#730419",
           "#65f45b",
           "#4b71fa",
           "#0c817c",
           "#17a953",
           "#7d5c00",
           "#f34512",
           "#2549bd",
           "#e92c4e",
           "#d4319c",
           "#638d03",
           "#c498d3",
           "#fd1f01",
           "#cc9f4c",
           "#7ceb87",
           "#4b8e78",
           "#02d6c5",
           "#36929c",
           "#d9acc3",
           "#700bf2",
           "#5a0dd1",
           "#edd97b",
           "#19b639",
           "#7f96ea",
           "#3e22b6",
           "#e9b55d",
           "#444505",
           "#ede5b7",
           "#a274e0",
           "#e298fb",
           "#da7dc3",
           "#e44ec9",
           "#517d25",
           "#f30887",
           "#e66f8b",
           "#84b4c1",
           "#7e9634",
           "#8dfbc0",
           "#f81d19",
           "#7a7e6f",
           "#8c9809",
           "#e136fb",
           "#27abe5",
           "#924af5",
           "#780f8a",
           "#8b1e3e",
           "#abf435",
           "#a3b0f8",
           "#294179",
           "#46d8f7",
           "#4d39ad",
           "#7667e7",
           "#c41d33",
           "#4e3c7d",
           "#6d8b3b",
           "#20e29a",
           "#d46990",
           "#d0b0dd",
           "#a96949",
           "#ee8da1",
           "#d4e05c",
           "#1fe14a",
           "#69e632",
           "#d71d0d",
           "#c76981",
           "#0a0017",
           "#c2c14d",
           "#f436b0",
           "#0304cf",
           "#b419ba",
           "#98e3c1",
           "#c7ac54",
           "#d689f5",
           "#70ea72",
           "#f9f936",
           "#705808",
           "#8bbe2d",
           "#df25e4",
           "#f8a611",
           "#0edc57",
           "#c7184a",
           "#ac192b",
           "#cf0298",
           "#5480be",
           "#ef4dc2",
           "#41586e",
           "#0dce8b",
           "#c9bd05",
           "#0de051",
           "#2afb29",
           "#db7322",
           "#457a67",
           "#ec63bd",
           "#5d0b96",
           "#19bee8",
           "#853335",
           "#c219e6",
           "#a79ac4",
           "#6c5ebc",
           "#e8ce59",
           "#a75855",
           "#acccdf",
           "#c21cd4",
           "#8e77a6",
           "#d7d758",
           "#8129bb",
           "#29ef9d",
           "#f0cc0e",
           "#09ec9b",
           "#1aaaf6",
           "#b32e00",
           "#72cd3f",
           "#2321f2",
           "#149cb6",
           "#0fe329",
           "#7e9bea",
           "#66129a",
           "#0a6f3f",
           "#4e050f",
           "#7a2290",
           "#40a009",
           "#f27698",
           "#3a9140",
           "#6f990c",
           "#ee18ef",
           "#83325f",
           "#bcdfd4",
           "#55e875",
           "#3aa40d",
           "#53d91c",
           "#9f407e",
           "#3758b8",
           "#0d25b8",
           "#9fb8dc",
           "#c0283b",
           "#cb164a",
           "#658b7b",
           "#26e902",
           "#7c56c1",
           "#342c68",
           "#9a690b",
           "#3dfaed",
           "#150703",
           "#b1c4b1",
           "#db545c",
           "#bdbb77",
           "#234e4c",
           "#aeb5da",
           "#067a57",
           "#d711f0",
           "#fafbb7",
           "#360930",
           "#ddf6c7",
           "#b970b5",
           "#eb62f4",
           "#4e54db",
           "#def82b",
           "#5a2e9f",
           "#8a483d",
           "#f78cfc",
           "#ee03ef",
           "#df039e",
           "#896b23",
           "#a5051b",
           "#7db18a",
           "#2c5f14",
           "#8ecfae",
           "#e6cf85",
           "#7cdbab",
           "#edee44",
           "#c20ae2",
           "#ac3c2d",
           "#0eb1c4",
           "#fd15bd",
           "#a66841",
           "#5d1a1d",
           "#f9a025",
           "#6c9af9",
           "#b5ab9e",
           "#8446c4",
           "#ae40e4",
           "#8f2f65",
           "#8d7313",
           "#053286",
           "#61d225",
           "#2bd576",
           "#7b9305",
           "#d01758",
           "#fa26e0",
           "#7b0bbd",
           "#f3c279",
           "#fb4cef",
           "#e57722",
           "#08d41b",
           "#2fa4b0",
           "#96a60b",
           "#717515",
           "#cf0daa",
           "#7c927e",
           "#9cc709",
           "#bcf03f",
           "#f24f32",
           "#b000f8",
           "#d9dba2",
           "#a95d7a",
           "#b42082",
           "#e8514c",
           "#8ab58e",
           "#9cfdb0",
           "#80b7fb",
           "#760915",
           "#3dc69b",
           "#629a68",
           "#a18f80",
           "#3d3647",
           "#5ecbf5",
           "#6211a8",
           "#6ec9f7",
           "#f7e8e0",
           "#8d915b",
           "#90e534",
           "#337828",
           "#636361",
           "#97ad9d",
           "#7478ac",
           "#b8c567",
           "#5bdfc3",
           "#9ac2d1",
           "#073e74",
           "#40cf7b",
           "#8c7288",
           "#174dd5",
           "#1bead5",
           "#9592ef",
           "#40a7b4",
           "#fb5473",
           "#34865e",
           "#0647a6",
           "#9194ec",
           "#f054cb",
           "#f51a07",
           "#e18520",
           "#ae7102",
           "#5e64ea",
           "#1a4e0c",
           "#8144d8",
           "#f498eb",
           "#3a69a1",
           "#2174b1",
           "#cd2986",
           "#fbc634",
           "#25ee19",
           "#1b72a6",
           "#4daf29",
           "#4c63a0",
           "#9b9054",
           "#2b9cd4",
           "#7f12e2",
           "#3ca5ae",
           "#d514c2",
           "#738d43",
           "#c2c0e8",
           "#e6a9d4",
           "#e2ac53",
           "#983eab",
           "#db8f95",
           "#9c5acc",
           "#1ed681",
           "#32cebe",
           "#6a632d",
           "#6c0b7e",
           "#877fb2",
           "#299167",
           "#5069c9",
           "#7acf9b",
           "#58fe16",
           "#266ee7",
           "#50250b",
           "#015eb6",
           "#d12937",
           "#e6a86b",
           "#f0985e",
           "#951ff0",
           "#10b62b",
           "#76840d",
           "#93827b",
           "#90c076",
           "#e876cb",
           "#2471ac",
           "#778353",
           "#8773b4",
           "#65488f",
           "#d9abd0",
           "#3ac3f5",
           "#731a39",
           "#4c4856",
           "#8800fa",
           "#48d331",
           "#248fd4",
           "#1e88e0",
           "#54f3d4",
           "#9d7f4b",
           "#93c4c4",
           "#e0d8b8",
           "#3fab48",
           "#eff92e",
           "#9bb1d7",
           "#ce1598",
           "#8b63da",
           "#fcd2ba",
           "#e021ee",
           "#292fac",
           "#1468a1",
           "#dd32dc",
           "#a50755",
           "#803038",
           "#0d3e29",
           "#2ec265",
           "#753594",
           "#0a9f25",
           "#89fd59",
           "#14993e",
           "#59b299",
           "#f0e57b",
           "#e26be4",
           "#8e6a89",
           "#5cec25",
           "#df2c51",
           "#fbc37b",
           "#2eb753",
           "#f0a533",
           "#b227f3",
           "#d11300",
           "#aaa765",
           "#a461bf",
           "#358e1d",
           "#5257a2",
           "#a8dc06"
          ],
          "source": [
           0,
           0,
           0,
           0,
           0,
           0,
           0,
           0,
           0,
           0,
           0,
           0,
           0,
           0,
           0,
           0,
           0,
           0,
           0,
           1,
           1,
           3,
           3,
           3,
           3,
           3,
           3,
           3,
           3,
           3,
           3,
           3,
           3,
           3,
           3,
           4,
           4,
           4,
           4,
           4,
           4,
           4,
           4,
           4,
           4,
           4,
           4,
           4,
           4,
           4,
           4,
           4,
           4,
           4,
           5,
           5,
           5,
           5,
           5,
           5,
           5,
           5,
           5,
           5,
           5,
           5,
           5,
           5,
           5,
           5,
           5,
           5,
           5,
           5,
           6,
           6,
           6,
           6,
           6,
           6,
           6,
           6,
           6,
           6,
           6,
           6,
           6,
           6,
           6,
           6,
           6,
           6,
           6,
           6,
           6,
           8,
           8,
           8,
           8,
           8,
           8,
           8,
           8,
           8,
           8,
           8,
           8,
           8,
           8,
           8,
           8,
           8,
           8,
           8,
           9,
           9,
           9,
           9,
           9,
           9,
           9,
           9,
           9,
           9,
           9,
           9,
           9,
           9,
           9,
           9,
           9,
           9,
           10,
           10,
           10,
           10,
           10,
           10,
           10,
           10,
           10,
           10,
           10,
           10,
           10,
           10,
           11,
           11,
           11,
           11,
           11,
           11,
           11,
           11,
           11,
           11,
           11,
           11,
           11,
           11,
           11,
           11,
           11,
           11,
           11,
           12,
           12,
           12,
           12,
           12,
           12,
           12,
           12,
           12,
           12,
           12,
           12,
           12,
           12,
           12,
           12,
           13,
           13,
           13,
           13,
           13,
           13,
           13,
           13,
           13,
           13,
           13,
           13,
           13,
           13,
           13,
           13,
           13,
           13,
           14,
           14,
           14,
           14,
           14,
           15,
           15,
           15,
           15,
           15,
           15,
           15,
           15,
           15,
           15,
           15,
           15,
           15,
           15,
           15,
           15,
           15,
           15,
           16,
           16,
           16,
           16,
           16,
           16,
           16,
           16,
           16,
           16,
           16,
           16,
           16,
           16,
           16,
           16,
           16,
           17,
           17,
           17,
           17,
           17,
           17,
           17,
           17,
           17,
           17,
           17,
           17,
           18,
           18,
           18,
           18,
           18,
           18,
           18,
           18,
           18,
           18,
           18,
           18,
           18,
           18,
           18,
           18,
           18,
           18,
           18,
           18,
           19,
           20,
           20,
           20,
           20,
           20,
           20,
           20,
           20,
           20,
           20,
           20,
           20,
           20,
           20,
           20,
           21,
           21,
           21,
           21,
           21,
           21,
           21,
           21,
           21,
           21,
           21,
           21,
           21,
           21,
           21,
           21,
           21,
           21,
           22,
           22,
           22,
           22,
           22,
           22,
           23,
           23,
           23,
           23,
           23,
           23,
           23,
           23,
           23,
           23,
           23,
           23,
           23,
           23,
           23,
           23,
           23,
           23,
           23,
           23,
           24,
           24,
           24,
           24,
           24,
           24,
           24,
           24,
           24,
           24,
           24,
           24,
           24,
           24,
           24,
           24
          ],
          "target": [
           23,
           3,
           4,
           5,
           11,
           14,
           8,
           16,
           18,
           15,
           10,
           7,
           2,
           13,
           12,
           6,
           9,
           21,
           24,
           14,
           22,
           15,
           10,
           0,
           5,
           11,
           21,
           23,
           6,
           12,
           9,
           7,
           4,
           2,
           24,
           18,
           21,
           10,
           8,
           11,
           15,
           16,
           0,
           7,
           12,
           20,
           13,
           9,
           3,
           23,
           24,
           2,
           5,
           6,
           10,
           12,
           20,
           15,
           24,
           13,
           11,
           8,
           17,
           9,
           6,
           4,
           23,
           2,
           16,
           3,
           7,
           18,
           21,
           0,
           16,
           0,
           12,
           23,
           7,
           2,
           5,
           11,
           10,
           13,
           3,
           24,
           9,
           17,
           21,
           8,
           18,
           15,
           4,
           20,
           22,
           10,
           16,
           11,
           13,
           18,
           4,
           12,
           21,
           14,
           0,
           15,
           9,
           2,
           20,
           6,
           23,
           3,
           5,
           24,
           16,
           11,
           2,
           21,
           5,
           10,
           23,
           8,
           0,
           13,
           7,
           12,
           6,
           4,
           24,
           18,
           3,
           15,
           6,
           7,
           3,
           5,
           23,
           11,
           2,
           15,
           4,
           0,
           12,
           24,
           21,
           9,
           7,
           10,
           6,
           21,
           2,
           20,
           17,
           18,
           9,
           0,
           23,
           15,
           16,
           4,
           24,
           8,
           12,
           13,
           3,
           15,
           3,
           5,
           23,
           10,
           13,
           4,
           24,
           2,
           9,
           7,
           16,
           21,
           11,
           8,
           0,
           4,
           15,
           0,
           8,
           6,
           7,
           2,
           21,
           18,
           3,
           11,
           17,
           9,
           23,
           5,
           12,
           24,
           16,
           23,
           20,
           6,
           17,
           5,
           6,
           4,
           2,
           8,
           11,
           7,
           18,
           24,
           16,
           13,
           9,
           21,
           10,
           12,
           0,
           23,
           3,
           5,
           15,
           3,
           23,
           5,
           11,
           8,
           7,
           13,
           20,
           12,
           18,
           6,
           2,
           14,
           9,
           0,
           4,
           23,
           5,
           16,
           8,
           18,
           20,
           13,
           6,
           11,
           22,
           14,
           21,
           24,
           6,
           23,
           17,
           20,
           13,
           12,
           11,
           7,
           3,
           16,
           2,
           8,
           5,
           10,
           15,
           9,
           0,
           21,
           4,
           1,
           14,
           6,
           17,
           15,
           13,
           4,
           23,
           8,
           22,
           21,
           0,
           11,
           18,
           5,
           16,
           3,
           2,
           23,
           4,
           24,
           18,
           5,
           7,
           11,
           6,
           12,
           16,
           10,
           15,
           9,
           0,
           13,
           8,
           11,
           14,
           20,
           18,
           17,
           8,
           6,
           17,
           2,
           8,
           5,
           12,
           11,
           21,
           10,
           24,
           13,
           15,
           3,
           16,
           18,
           4,
           20,
           0,
           9,
           7,
           8,
           18,
           3,
           10,
           21,
           6,
           12,
           15,
           9,
           11,
           0,
           2,
           23,
           4,
           7,
           5
          ],
          "value": [
           30,
           2502,
           271,
           21,
           1,
           5,
           8,
           320,
           9,
           95,
           30,
           639,
           285,
           303,
           295,
           885,
           447,
           92,
           149,
           2362,
           11638,
           138,
           546,
           52,
           96,
           71,
           33,
           11,
           559,
           23,
           67,
           2485,
           3,
           385,
           36,
           393,
           52,
           29,
           264,
           705,
           265,
           2418,
           899,
           476,
           299,
           3,
           535,
           1425,
           61,
           618,
           34,
           83,
           326,
           127,
           3,
           264,
           5299,
           47,
           2,
           2889,
           9,
           13,
           923,
           42,
           111,
           204,
           1021,
           12,
           135,
           14,
           211,
           729,
           237,
           64,
           169,
           176,
           16,
           13,
           347,
           479,
           66,
           234,
           375,
           6,
           46,
           120,
           22,
           843,
           1666,
           150,
           223,
           3850,
           88,
           224,
           1242,
           3,
           1575,
           288,
           1695,
           963,
           1350,
           675,
           71,
           184,
           135,
           20,
           565,
           281,
           3384,
           54,
           238,
           25,
           7,
           125,
           60,
           316,
           240,
           163,
           128,
           112,
           24,
           160,
           104,
           17,
           341,
           781,
           384,
           291,
           19,
           6,
           462,
           1293,
           125,
           257,
           50,
           3,
           18,
           24,
           287,
           96,
           72,
           377,
           61,
           606,
           36,
           23,
           86,
           64,
           222,
           56,
           124,
           800,
           3552,
           9,
           139,
           302,
           1208,
           352,
           1009,
           399,
           23,
           720,
           150,
           1951,
           20,
           1759,
           404,
           4,
           15,
           96,
           20,
           8,
           33,
           215,
           712,
           185,
           288,
           35,
           227,
           175,
           269,
           1363,
           412,
           73,
           1014,
           5,
           78,
           1206,
           178,
           5444,
           60,
           440,
           13,
           182,
           373,
           111,
           426,
           2,
           1784,
           3468,
           1055,
           2334,
           6711,
           432,
           535,
           305,
           423,
           108,
           317,
           1213,
           16,
           19,
           502,
           7,
           449,
           447,
           214,
           356,
           564,
           8,
           439,
           3382,
           387,
           3,
           492,
           124,
           6,
           3974,
           79,
           1269,
           129,
           288,
           235,
           5,
           1471,
           97,
           169,
           2726,
           1516,
           188,
           5266,
           310,
           82,
           321,
           2487,
           477,
           2,
           986,
           409,
           3461,
           11,
           4,
           131,
           500,
           101,
           1,
           2934,
           307,
           1023,
           242,
           142,
           3110,
           439,
           166,
           117,
           1,
           313,
           153,
           1,
           3002,
           398,
           14000,
           110,
           3333,
           664,
           2,
           558,
           41,
           3336,
           186,
           447,
           7,
           116,
           2269,
           770,
           1971,
           130,
           131,
           298,
           41,
           2425,
           104,
           3133,
           20,
           370,
           63,
           271,
           274,
           288,
           447,
           26,
           297,
           34,
           502,
           12,
           4152,
           7781,
           293,
           16,
           1192,
           302,
           1266,
           1,
           59,
           4302,
           154,
           215,
           17,
           2647,
           25,
           19,
           1,
           217,
           9,
           872,
           815,
           220,
           265,
           313,
           208,
           32,
           2,
           3,
           137,
           90,
           3,
           6,
           15,
           32,
           1,
           38,
           182,
           392,
           55,
           58,
           280,
           1
          ]
         },
         "node": {
          "color": [
           "#a90ffa",
           "#a0b98d",
           "#3fcee3",
           "#99c3d7",
           "#9e5a8f",
           "#d118e0",
           "#a70172",
           "#ce076c",
           "#97601e",
           "#412bdd",
           "#6238dd",
           "#d744bd",
           "#c21f54",
           "#591a1c",
           "#9a161a",
           "#cfe915",
           "#003535",
           "#9b957f",
           "#92e65a",
           "#6b9d10",
           "#dc1a4c",
           "#a4fdd9",
           "#ee12ee",
           "#e231c6",
           "#e262c4"
          ],
          "label": [
           "anti_smith_antibody",
           "cutaneous_lupus",
           "Lupus",
           "oral_ulcers",
           "anti_β2gp1_antibodies",
           "delirium",
           "thrombocytopenia",
           "No lupus",
           "seizure",
           "auto_immune_hemolysis",
           "acute_pericarditis",
           "low_c4",
           "psychosis",
           "anti_dsdna_antibody",
           "non_scarring_alopecia",
           "pleural_effusion",
           "joint_involvement",
           "low_c3",
           "fever",
           "pericardial_effusion",
           "proteinuria",
           "leukopenia",
           "ana",
           "anti_cardioliphin_antibodies",
           "lupus_anti_coagulant"
          ],
          "line": {
           "color": "black",
           "width": 0.5
          },
          "pad": 15,
          "thickness": 20
         },
         "type": "sankey"
        }
       ],
       "layout": {
        "template": {
         "data": {
          "bar": [
           {
            "error_x": {
             "color": "#2a3f5f"
            },
            "error_y": {
             "color": "#2a3f5f"
            },
            "marker": {
             "line": {
              "color": "#E5ECF6",
              "width": 0.5
             },
             "pattern": {
              "fillmode": "overlay",
              "size": 10,
              "solidity": 0.2
             }
            },
            "type": "bar"
           }
          ],
          "barpolar": [
           {
            "marker": {
             "line": {
              "color": "#E5ECF6",
              "width": 0.5
             },
             "pattern": {
              "fillmode": "overlay",
              "size": 10,
              "solidity": 0.2
             }
            },
            "type": "barpolar"
           }
          ],
          "carpet": [
           {
            "aaxis": {
             "endlinecolor": "#2a3f5f",
             "gridcolor": "white",
             "linecolor": "white",
             "minorgridcolor": "white",
             "startlinecolor": "#2a3f5f"
            },
            "baxis": {
             "endlinecolor": "#2a3f5f",
             "gridcolor": "white",
             "linecolor": "white",
             "minorgridcolor": "white",
             "startlinecolor": "#2a3f5f"
            },
            "type": "carpet"
           }
          ],
          "choropleth": [
           {
            "colorbar": {
             "outlinewidth": 0,
             "ticks": ""
            },
            "type": "choropleth"
           }
          ],
          "contour": [
           {
            "colorbar": {
             "outlinewidth": 0,
             "ticks": ""
            },
            "colorscale": [
             [
              0,
              "#0d0887"
             ],
             [
              0.1111111111111111,
              "#46039f"
             ],
             [
              0.2222222222222222,
              "#7201a8"
             ],
             [
              0.3333333333333333,
              "#9c179e"
             ],
             [
              0.4444444444444444,
              "#bd3786"
             ],
             [
              0.5555555555555556,
              "#d8576b"
             ],
             [
              0.6666666666666666,
              "#ed7953"
             ],
             [
              0.7777777777777778,
              "#fb9f3a"
             ],
             [
              0.8888888888888888,
              "#fdca26"
             ],
             [
              1,
              "#f0f921"
             ]
            ],
            "type": "contour"
           }
          ],
          "contourcarpet": [
           {
            "colorbar": {
             "outlinewidth": 0,
             "ticks": ""
            },
            "type": "contourcarpet"
           }
          ],
          "heatmap": [
           {
            "colorbar": {
             "outlinewidth": 0,
             "ticks": ""
            },
            "colorscale": [
             [
              0,
              "#0d0887"
             ],
             [
              0.1111111111111111,
              "#46039f"
             ],
             [
              0.2222222222222222,
              "#7201a8"
             ],
             [
              0.3333333333333333,
              "#9c179e"
             ],
             [
              0.4444444444444444,
              "#bd3786"
             ],
             [
              0.5555555555555556,
              "#d8576b"
             ],
             [
              0.6666666666666666,
              "#ed7953"
             ],
             [
              0.7777777777777778,
              "#fb9f3a"
             ],
             [
              0.8888888888888888,
              "#fdca26"
             ],
             [
              1,
              "#f0f921"
             ]
            ],
            "type": "heatmap"
           }
          ],
          "heatmapgl": [
           {
            "colorbar": {
             "outlinewidth": 0,
             "ticks": ""
            },
            "colorscale": [
             [
              0,
              "#0d0887"
             ],
             [
              0.1111111111111111,
              "#46039f"
             ],
             [
              0.2222222222222222,
              "#7201a8"
             ],
             [
              0.3333333333333333,
              "#9c179e"
             ],
             [
              0.4444444444444444,
              "#bd3786"
             ],
             [
              0.5555555555555556,
              "#d8576b"
             ],
             [
              0.6666666666666666,
              "#ed7953"
             ],
             [
              0.7777777777777778,
              "#fb9f3a"
             ],
             [
              0.8888888888888888,
              "#fdca26"
             ],
             [
              1,
              "#f0f921"
             ]
            ],
            "type": "heatmapgl"
           }
          ],
          "histogram": [
           {
            "marker": {
             "pattern": {
              "fillmode": "overlay",
              "size": 10,
              "solidity": 0.2
             }
            },
            "type": "histogram"
           }
          ],
          "histogram2d": [
           {
            "colorbar": {
             "outlinewidth": 0,
             "ticks": ""
            },
            "colorscale": [
             [
              0,
              "#0d0887"
             ],
             [
              0.1111111111111111,
              "#46039f"
             ],
             [
              0.2222222222222222,
              "#7201a8"
             ],
             [
              0.3333333333333333,
              "#9c179e"
             ],
             [
              0.4444444444444444,
              "#bd3786"
             ],
             [
              0.5555555555555556,
              "#d8576b"
             ],
             [
              0.6666666666666666,
              "#ed7953"
             ],
             [
              0.7777777777777778,
              "#fb9f3a"
             ],
             [
              0.8888888888888888,
              "#fdca26"
             ],
             [
              1,
              "#f0f921"
             ]
            ],
            "type": "histogram2d"
           }
          ],
          "histogram2dcontour": [
           {
            "colorbar": {
             "outlinewidth": 0,
             "ticks": ""
            },
            "colorscale": [
             [
              0,
              "#0d0887"
             ],
             [
              0.1111111111111111,
              "#46039f"
             ],
             [
              0.2222222222222222,
              "#7201a8"
             ],
             [
              0.3333333333333333,
              "#9c179e"
             ],
             [
              0.4444444444444444,
              "#bd3786"
             ],
             [
              0.5555555555555556,
              "#d8576b"
             ],
             [
              0.6666666666666666,
              "#ed7953"
             ],
             [
              0.7777777777777778,
              "#fb9f3a"
             ],
             [
              0.8888888888888888,
              "#fdca26"
             ],
             [
              1,
              "#f0f921"
             ]
            ],
            "type": "histogram2dcontour"
           }
          ],
          "mesh3d": [
           {
            "colorbar": {
             "outlinewidth": 0,
             "ticks": ""
            },
            "type": "mesh3d"
           }
          ],
          "parcoords": [
           {
            "line": {
             "colorbar": {
              "outlinewidth": 0,
              "ticks": ""
             }
            },
            "type": "parcoords"
           }
          ],
          "pie": [
           {
            "automargin": true,
            "type": "pie"
           }
          ],
          "scatter": [
           {
            "fillpattern": {
             "fillmode": "overlay",
             "size": 10,
             "solidity": 0.2
            },
            "type": "scatter"
           }
          ],
          "scatter3d": [
           {
            "line": {
             "colorbar": {
              "outlinewidth": 0,
              "ticks": ""
             }
            },
            "marker": {
             "colorbar": {
              "outlinewidth": 0,
              "ticks": ""
             }
            },
            "type": "scatter3d"
           }
          ],
          "scattercarpet": [
           {
            "marker": {
             "colorbar": {
              "outlinewidth": 0,
              "ticks": ""
             }
            },
            "type": "scattercarpet"
           }
          ],
          "scattergeo": [
           {
            "marker": {
             "colorbar": {
              "outlinewidth": 0,
              "ticks": ""
             }
            },
            "type": "scattergeo"
           }
          ],
          "scattergl": [
           {
            "marker": {
             "colorbar": {
              "outlinewidth": 0,
              "ticks": ""
             }
            },
            "type": "scattergl"
           }
          ],
          "scattermapbox": [
           {
            "marker": {
             "colorbar": {
              "outlinewidth": 0,
              "ticks": ""
             }
            },
            "type": "scattermapbox"
           }
          ],
          "scatterpolar": [
           {
            "marker": {
             "colorbar": {
              "outlinewidth": 0,
              "ticks": ""
             }
            },
            "type": "scatterpolar"
           }
          ],
          "scatterpolargl": [
           {
            "marker": {
             "colorbar": {
              "outlinewidth": 0,
              "ticks": ""
             }
            },
            "type": "scatterpolargl"
           }
          ],
          "scatterternary": [
           {
            "marker": {
             "colorbar": {
              "outlinewidth": 0,
              "ticks": ""
             }
            },
            "type": "scatterternary"
           }
          ],
          "surface": [
           {
            "colorbar": {
             "outlinewidth": 0,
             "ticks": ""
            },
            "colorscale": [
             [
              0,
              "#0d0887"
             ],
             [
              0.1111111111111111,
              "#46039f"
             ],
             [
              0.2222222222222222,
              "#7201a8"
             ],
             [
              0.3333333333333333,
              "#9c179e"
             ],
             [
              0.4444444444444444,
              "#bd3786"
             ],
             [
              0.5555555555555556,
              "#d8576b"
             ],
             [
              0.6666666666666666,
              "#ed7953"
             ],
             [
              0.7777777777777778,
              "#fb9f3a"
             ],
             [
              0.8888888888888888,
              "#fdca26"
             ],
             [
              1,
              "#f0f921"
             ]
            ],
            "type": "surface"
           }
          ],
          "table": [
           {
            "cells": {
             "fill": {
              "color": "#EBF0F8"
             },
             "line": {
              "color": "white"
             }
            },
            "header": {
             "fill": {
              "color": "#C8D4E3"
             },
             "line": {
              "color": "white"
             }
            },
            "type": "table"
           }
          ]
         },
         "layout": {
          "annotationdefaults": {
           "arrowcolor": "#2a3f5f",
           "arrowhead": 0,
           "arrowwidth": 1
          },
          "autotypenumbers": "strict",
          "coloraxis": {
           "colorbar": {
            "outlinewidth": 0,
            "ticks": ""
           }
          },
          "colorscale": {
           "diverging": [
            [
             0,
             "#8e0152"
            ],
            [
             0.1,
             "#c51b7d"
            ],
            [
             0.2,
             "#de77ae"
            ],
            [
             0.3,
             "#f1b6da"
            ],
            [
             0.4,
             "#fde0ef"
            ],
            [
             0.5,
             "#f7f7f7"
            ],
            [
             0.6,
             "#e6f5d0"
            ],
            [
             0.7,
             "#b8e186"
            ],
            [
             0.8,
             "#7fbc41"
            ],
            [
             0.9,
             "#4d9221"
            ],
            [
             1,
             "#276419"
            ]
           ],
           "sequential": [
            [
             0,
             "#0d0887"
            ],
            [
             0.1111111111111111,
             "#46039f"
            ],
            [
             0.2222222222222222,
             "#7201a8"
            ],
            [
             0.3333333333333333,
             "#9c179e"
            ],
            [
             0.4444444444444444,
             "#bd3786"
            ],
            [
             0.5555555555555556,
             "#d8576b"
            ],
            [
             0.6666666666666666,
             "#ed7953"
            ],
            [
             0.7777777777777778,
             "#fb9f3a"
            ],
            [
             0.8888888888888888,
             "#fdca26"
            ],
            [
             1,
             "#f0f921"
            ]
           ],
           "sequentialminus": [
            [
             0,
             "#0d0887"
            ],
            [
             0.1111111111111111,
             "#46039f"
            ],
            [
             0.2222222222222222,
             "#7201a8"
            ],
            [
             0.3333333333333333,
             "#9c179e"
            ],
            [
             0.4444444444444444,
             "#bd3786"
            ],
            [
             0.5555555555555556,
             "#d8576b"
            ],
            [
             0.6666666666666666,
             "#ed7953"
            ],
            [
             0.7777777777777778,
             "#fb9f3a"
            ],
            [
             0.8888888888888888,
             "#fdca26"
            ],
            [
             1,
             "#f0f921"
            ]
           ]
          },
          "colorway": [
           "#636efa",
           "#EF553B",
           "#00cc96",
           "#ab63fa",
           "#FFA15A",
           "#19d3f3",
           "#FF6692",
           "#B6E880",
           "#FF97FF",
           "#FECB52"
          ],
          "font": {
           "color": "#2a3f5f"
          },
          "geo": {
           "bgcolor": "white",
           "lakecolor": "white",
           "landcolor": "#E5ECF6",
           "showlakes": true,
           "showland": true,
           "subunitcolor": "white"
          },
          "hoverlabel": {
           "align": "left"
          },
          "hovermode": "closest",
          "mapbox": {
           "style": "light"
          },
          "paper_bgcolor": "white",
          "plot_bgcolor": "#E5ECF6",
          "polar": {
           "angularaxis": {
            "gridcolor": "white",
            "linecolor": "white",
            "ticks": ""
           },
           "bgcolor": "#E5ECF6",
           "radialaxis": {
            "gridcolor": "white",
            "linecolor": "white",
            "ticks": ""
           }
          },
          "scene": {
           "xaxis": {
            "backgroundcolor": "#E5ECF6",
            "gridcolor": "white",
            "gridwidth": 2,
            "linecolor": "white",
            "showbackground": true,
            "ticks": "",
            "zerolinecolor": "white"
           },
           "yaxis": {
            "backgroundcolor": "#E5ECF6",
            "gridcolor": "white",
            "gridwidth": 2,
            "linecolor": "white",
            "showbackground": true,
            "ticks": "",
            "zerolinecolor": "white"
           },
           "zaxis": {
            "backgroundcolor": "#E5ECF6",
            "gridcolor": "white",
            "gridwidth": 2,
            "linecolor": "white",
            "showbackground": true,
            "ticks": "",
            "zerolinecolor": "white"
           }
          },
          "shapedefaults": {
           "line": {
            "color": "#2a3f5f"
           }
          },
          "ternary": {
           "aaxis": {
            "gridcolor": "white",
            "linecolor": "white",
            "ticks": ""
           },
           "baxis": {
            "gridcolor": "white",
            "linecolor": "white",
            "ticks": ""
           },
           "bgcolor": "#E5ECF6",
           "caxis": {
            "gridcolor": "white",
            "linecolor": "white",
            "ticks": ""
           }
          },
          "title": {
           "x": 0.05
          },
          "xaxis": {
           "automargin": true,
           "gridcolor": "white",
           "linecolor": "white",
           "ticks": "",
           "title": {
            "standoff": 15
           },
           "zerolinecolor": "white",
           "zerolinewidth": 2
          },
          "yaxis": {
           "automargin": true,
           "gridcolor": "white",
           "linecolor": "white",
           "ticks": "",
           "title": {
            "standoff": 15
           },
           "zerolinecolor": "white",
           "zerolinewidth": 2
          }
         }
        },
        "title": {
         "font": {
          "color": "black",
          "family": "Times New Roman",
          "size": 24
         },
         "text": "Overall pathways",
         "x": 0.5
        }
       }
      },
      "text/html": [
       "<div>                            <div id=\"43b52822-93c9-4f45-880c-f0de492ace78\" class=\"plotly-graph-div\" style=\"height:525px; width:100%;\"></div>            <script type=\"text/javascript\">                require([\"plotly\"], function(Plotly) {                    window.PLOTLYENV=window.PLOTLYENV || {};                                    if (document.getElementById(\"43b52822-93c9-4f45-880c-f0de492ace78\")) {                    Plotly.newPlot(                        \"43b52822-93c9-4f45-880c-f0de492ace78\",                        [{\"link\":{\"color\":[\"#6d6a45\",\"#f24575\",\"#56e1ca\",\"#2b6a52\",\"#914c73\",\"#ab9dcb\",\"#2fd072\",\"#7840b2\",\"#9eef4c\",\"#730419\",\"#65f45b\",\"#4b71fa\",\"#0c817c\",\"#17a953\",\"#7d5c00\",\"#f34512\",\"#2549bd\",\"#e92c4e\",\"#d4319c\",\"#638d03\",\"#c498d3\",\"#fd1f01\",\"#cc9f4c\",\"#7ceb87\",\"#4b8e78\",\"#02d6c5\",\"#36929c\",\"#d9acc3\",\"#700bf2\",\"#5a0dd1\",\"#edd97b\",\"#19b639\",\"#7f96ea\",\"#3e22b6\",\"#e9b55d\",\"#444505\",\"#ede5b7\",\"#a274e0\",\"#e298fb\",\"#da7dc3\",\"#e44ec9\",\"#517d25\",\"#f30887\",\"#e66f8b\",\"#84b4c1\",\"#7e9634\",\"#8dfbc0\",\"#f81d19\",\"#7a7e6f\",\"#8c9809\",\"#e136fb\",\"#27abe5\",\"#924af5\",\"#780f8a\",\"#8b1e3e\",\"#abf435\",\"#a3b0f8\",\"#294179\",\"#46d8f7\",\"#4d39ad\",\"#7667e7\",\"#c41d33\",\"#4e3c7d\",\"#6d8b3b\",\"#20e29a\",\"#d46990\",\"#d0b0dd\",\"#a96949\",\"#ee8da1\",\"#d4e05c\",\"#1fe14a\",\"#69e632\",\"#d71d0d\",\"#c76981\",\"#0a0017\",\"#c2c14d\",\"#f436b0\",\"#0304cf\",\"#b419ba\",\"#98e3c1\",\"#c7ac54\",\"#d689f5\",\"#70ea72\",\"#f9f936\",\"#705808\",\"#8bbe2d\",\"#df25e4\",\"#f8a611\",\"#0edc57\",\"#c7184a\",\"#ac192b\",\"#cf0298\",\"#5480be\",\"#ef4dc2\",\"#41586e\",\"#0dce8b\",\"#c9bd05\",\"#0de051\",\"#2afb29\",\"#db7322\",\"#457a67\",\"#ec63bd\",\"#5d0b96\",\"#19bee8\",\"#853335\",\"#c219e6\",\"#a79ac4\",\"#6c5ebc\",\"#e8ce59\",\"#a75855\",\"#acccdf\",\"#c21cd4\",\"#8e77a6\",\"#d7d758\",\"#8129bb\",\"#29ef9d\",\"#f0cc0e\",\"#09ec9b\",\"#1aaaf6\",\"#b32e00\",\"#72cd3f\",\"#2321f2\",\"#149cb6\",\"#0fe329\",\"#7e9bea\",\"#66129a\",\"#0a6f3f\",\"#4e050f\",\"#7a2290\",\"#40a009\",\"#f27698\",\"#3a9140\",\"#6f990c\",\"#ee18ef\",\"#83325f\",\"#bcdfd4\",\"#55e875\",\"#3aa40d\",\"#53d91c\",\"#9f407e\",\"#3758b8\",\"#0d25b8\",\"#9fb8dc\",\"#c0283b\",\"#cb164a\",\"#658b7b\",\"#26e902\",\"#7c56c1\",\"#342c68\",\"#9a690b\",\"#3dfaed\",\"#150703\",\"#b1c4b1\",\"#db545c\",\"#bdbb77\",\"#234e4c\",\"#aeb5da\",\"#067a57\",\"#d711f0\",\"#fafbb7\",\"#360930\",\"#ddf6c7\",\"#b970b5\",\"#eb62f4\",\"#4e54db\",\"#def82b\",\"#5a2e9f\",\"#8a483d\",\"#f78cfc\",\"#ee03ef\",\"#df039e\",\"#896b23\",\"#a5051b\",\"#7db18a\",\"#2c5f14\",\"#8ecfae\",\"#e6cf85\",\"#7cdbab\",\"#edee44\",\"#c20ae2\",\"#ac3c2d\",\"#0eb1c4\",\"#fd15bd\",\"#a66841\",\"#5d1a1d\",\"#f9a025\",\"#6c9af9\",\"#b5ab9e\",\"#8446c4\",\"#ae40e4\",\"#8f2f65\",\"#8d7313\",\"#053286\",\"#61d225\",\"#2bd576\",\"#7b9305\",\"#d01758\",\"#fa26e0\",\"#7b0bbd\",\"#f3c279\",\"#fb4cef\",\"#e57722\",\"#08d41b\",\"#2fa4b0\",\"#96a60b\",\"#717515\",\"#cf0daa\",\"#7c927e\",\"#9cc709\",\"#bcf03f\",\"#f24f32\",\"#b000f8\",\"#d9dba2\",\"#a95d7a\",\"#b42082\",\"#e8514c\",\"#8ab58e\",\"#9cfdb0\",\"#80b7fb\",\"#760915\",\"#3dc69b\",\"#629a68\",\"#a18f80\",\"#3d3647\",\"#5ecbf5\",\"#6211a8\",\"#6ec9f7\",\"#f7e8e0\",\"#8d915b\",\"#90e534\",\"#337828\",\"#636361\",\"#97ad9d\",\"#7478ac\",\"#b8c567\",\"#5bdfc3\",\"#9ac2d1\",\"#073e74\",\"#40cf7b\",\"#8c7288\",\"#174dd5\",\"#1bead5\",\"#9592ef\",\"#40a7b4\",\"#fb5473\",\"#34865e\",\"#0647a6\",\"#9194ec\",\"#f054cb\",\"#f51a07\",\"#e18520\",\"#ae7102\",\"#5e64ea\",\"#1a4e0c\",\"#8144d8\",\"#f498eb\",\"#3a69a1\",\"#2174b1\",\"#cd2986\",\"#fbc634\",\"#25ee19\",\"#1b72a6\",\"#4daf29\",\"#4c63a0\",\"#9b9054\",\"#2b9cd4\",\"#7f12e2\",\"#3ca5ae\",\"#d514c2\",\"#738d43\",\"#c2c0e8\",\"#e6a9d4\",\"#e2ac53\",\"#983eab\",\"#db8f95\",\"#9c5acc\",\"#1ed681\",\"#32cebe\",\"#6a632d\",\"#6c0b7e\",\"#877fb2\",\"#299167\",\"#5069c9\",\"#7acf9b\",\"#58fe16\",\"#266ee7\",\"#50250b\",\"#015eb6\",\"#d12937\",\"#e6a86b\",\"#f0985e\",\"#951ff0\",\"#10b62b\",\"#76840d\",\"#93827b\",\"#90c076\",\"#e876cb\",\"#2471ac\",\"#778353\",\"#8773b4\",\"#65488f\",\"#d9abd0\",\"#3ac3f5\",\"#731a39\",\"#4c4856\",\"#8800fa\",\"#48d331\",\"#248fd4\",\"#1e88e0\",\"#54f3d4\",\"#9d7f4b\",\"#93c4c4\",\"#e0d8b8\",\"#3fab48\",\"#eff92e\",\"#9bb1d7\",\"#ce1598\",\"#8b63da\",\"#fcd2ba\",\"#e021ee\",\"#292fac\",\"#1468a1\",\"#dd32dc\",\"#a50755\",\"#803038\",\"#0d3e29\",\"#2ec265\",\"#753594\",\"#0a9f25\",\"#89fd59\",\"#14993e\",\"#59b299\",\"#f0e57b\",\"#e26be4\",\"#8e6a89\",\"#5cec25\",\"#df2c51\",\"#fbc37b\",\"#2eb753\",\"#f0a533\",\"#b227f3\",\"#d11300\",\"#aaa765\",\"#a461bf\",\"#358e1d\",\"#5257a2\",\"#a8dc06\"],\"source\":[0,0,0,0,0,0,0,0,0,0,0,0,0,0,0,0,0,0,0,1,1,3,3,3,3,3,3,3,3,3,3,3,3,3,3,4,4,4,4,4,4,4,4,4,4,4,4,4,4,4,4,4,4,4,5,5,5,5,5,5,5,5,5,5,5,5,5,5,5,5,5,5,5,5,6,6,6,6,6,6,6,6,6,6,6,6,6,6,6,6,6,6,6,6,6,8,8,8,8,8,8,8,8,8,8,8,8,8,8,8,8,8,8,8,9,9,9,9,9,9,9,9,9,9,9,9,9,9,9,9,9,9,10,10,10,10,10,10,10,10,10,10,10,10,10,10,11,11,11,11,11,11,11,11,11,11,11,11,11,11,11,11,11,11,11,12,12,12,12,12,12,12,12,12,12,12,12,12,12,12,12,13,13,13,13,13,13,13,13,13,13,13,13,13,13,13,13,13,13,14,14,14,14,14,15,15,15,15,15,15,15,15,15,15,15,15,15,15,15,15,15,15,16,16,16,16,16,16,16,16,16,16,16,16,16,16,16,16,16,17,17,17,17,17,17,17,17,17,17,17,17,18,18,18,18,18,18,18,18,18,18,18,18,18,18,18,18,18,18,18,18,19,20,20,20,20,20,20,20,20,20,20,20,20,20,20,20,21,21,21,21,21,21,21,21,21,21,21,21,21,21,21,21,21,21,22,22,22,22,22,22,23,23,23,23,23,23,23,23,23,23,23,23,23,23,23,23,23,23,23,23,24,24,24,24,24,24,24,24,24,24,24,24,24,24,24,24],\"target\":[23,3,4,5,11,14,8,16,18,15,10,7,2,13,12,6,9,21,24,14,22,15,10,0,5,11,21,23,6,12,9,7,4,2,24,18,21,10,8,11,15,16,0,7,12,20,13,9,3,23,24,2,5,6,10,12,20,15,24,13,11,8,17,9,6,4,23,2,16,3,7,18,21,0,16,0,12,23,7,2,5,11,10,13,3,24,9,17,21,8,18,15,4,20,22,10,16,11,13,18,4,12,21,14,0,15,9,2,20,6,23,3,5,24,16,11,2,21,5,10,23,8,0,13,7,12,6,4,24,18,3,15,6,7,3,5,23,11,2,15,4,0,12,24,21,9,7,10,6,21,2,20,17,18,9,0,23,15,16,4,24,8,12,13,3,15,3,5,23,10,13,4,24,2,9,7,16,21,11,8,0,4,15,0,8,6,7,2,21,18,3,11,17,9,23,5,12,24,16,23,20,6,17,5,6,4,2,8,11,7,18,24,16,13,9,21,10,12,0,23,3,5,15,3,23,5,11,8,7,13,20,12,18,6,2,14,9,0,4,23,5,16,8,18,20,13,6,11,22,14,21,24,6,23,17,20,13,12,11,7,3,16,2,8,5,10,15,9,0,21,4,1,14,6,17,15,13,4,23,8,22,21,0,11,18,5,16,3,2,23,4,24,18,5,7,11,6,12,16,10,15,9,0,13,8,11,14,20,18,17,8,6,17,2,8,5,12,11,21,10,24,13,15,3,16,18,4,20,0,9,7,8,18,3,10,21,6,12,15,9,11,0,2,23,4,7,5],\"value\":[30,2502,271,21,1,5,8,320,9,95,30,639,285,303,295,885,447,92,149,2362,11638,138,546,52,96,71,33,11,559,23,67,2485,3,385,36,393,52,29,264,705,265,2418,899,476,299,3,535,1425,61,618,34,83,326,127,3,264,5299,47,2,2889,9,13,923,42,111,204,1021,12,135,14,211,729,237,64,169,176,16,13,347,479,66,234,375,6,46,120,22,843,1666,150,223,3850,88,224,1242,3,1575,288,1695,963,1350,675,71,184,135,20,565,281,3384,54,238,25,7,125,60,316,240,163,128,112,24,160,104,17,341,781,384,291,19,6,462,1293,125,257,50,3,18,24,287,96,72,377,61,606,36,23,86,64,222,56,124,800,3552,9,139,302,1208,352,1009,399,23,720,150,1951,20,1759,404,4,15,96,20,8,33,215,712,185,288,35,227,175,269,1363,412,73,1014,5,78,1206,178,5444,60,440,13,182,373,111,426,2,1784,3468,1055,2334,6711,432,535,305,423,108,317,1213,16,19,502,7,449,447,214,356,564,8,439,3382,387,3,492,124,6,3974,79,1269,129,288,235,5,1471,97,169,2726,1516,188,5266,310,82,321,2487,477,2,986,409,3461,11,4,131,500,101,1,2934,307,1023,242,142,3110,439,166,117,1,313,153,1,3002,398,14000,110,3333,664,2,558,41,3336,186,447,7,116,2269,770,1971,130,131,298,41,2425,104,3133,20,370,63,271,274,288,447,26,297,34,502,12,4152,7781,293,16,1192,302,1266,1,59,4302,154,215,17,2647,25,19,1,217,9,872,815,220,265,313,208,32,2,3,137,90,3,6,15,32,1,38,182,392,55,58,280,1]},\"node\":{\"color\":[\"#a90ffa\",\"#a0b98d\",\"#3fcee3\",\"#99c3d7\",\"#9e5a8f\",\"#d118e0\",\"#a70172\",\"#ce076c\",\"#97601e\",\"#412bdd\",\"#6238dd\",\"#d744bd\",\"#c21f54\",\"#591a1c\",\"#9a161a\",\"#cfe915\",\"#003535\",\"#9b957f\",\"#92e65a\",\"#6b9d10\",\"#dc1a4c\",\"#a4fdd9\",\"#ee12ee\",\"#e231c6\",\"#e262c4\"],\"label\":[\"anti_smith_antibody\",\"cutaneous_lupus\",\"Lupus\",\"oral_ulcers\",\"anti_\\u03b22gp1_antibodies\",\"delirium\",\"thrombocytopenia\",\"No lupus\",\"seizure\",\"auto_immune_hemolysis\",\"acute_pericarditis\",\"low_c4\",\"psychosis\",\"anti_dsdna_antibody\",\"non_scarring_alopecia\",\"pleural_effusion\",\"joint_involvement\",\"low_c3\",\"fever\",\"pericardial_effusion\",\"proteinuria\",\"leukopenia\",\"ana\",\"anti_cardioliphin_antibodies\",\"lupus_anti_coagulant\"],\"line\":{\"color\":\"black\",\"width\":0.5},\"pad\":15,\"thickness\":20},\"type\":\"sankey\"}],                        {\"template\":{\"data\":{\"histogram2dcontour\":[{\"type\":\"histogram2dcontour\",\"colorbar\":{\"outlinewidth\":0,\"ticks\":\"\"},\"colorscale\":[[0.0,\"#0d0887\"],[0.1111111111111111,\"#46039f\"],[0.2222222222222222,\"#7201a8\"],[0.3333333333333333,\"#9c179e\"],[0.4444444444444444,\"#bd3786\"],[0.5555555555555556,\"#d8576b\"],[0.6666666666666666,\"#ed7953\"],[0.7777777777777778,\"#fb9f3a\"],[0.8888888888888888,\"#fdca26\"],[1.0,\"#f0f921\"]]}],\"choropleth\":[{\"type\":\"choropleth\",\"colorbar\":{\"outlinewidth\":0,\"ticks\":\"\"}}],\"histogram2d\":[{\"type\":\"histogram2d\",\"colorbar\":{\"outlinewidth\":0,\"ticks\":\"\"},\"colorscale\":[[0.0,\"#0d0887\"],[0.1111111111111111,\"#46039f\"],[0.2222222222222222,\"#7201a8\"],[0.3333333333333333,\"#9c179e\"],[0.4444444444444444,\"#bd3786\"],[0.5555555555555556,\"#d8576b\"],[0.6666666666666666,\"#ed7953\"],[0.7777777777777778,\"#fb9f3a\"],[0.8888888888888888,\"#fdca26\"],[1.0,\"#f0f921\"]]}],\"heatmap\":[{\"type\":\"heatmap\",\"colorbar\":{\"outlinewidth\":0,\"ticks\":\"\"},\"colorscale\":[[0.0,\"#0d0887\"],[0.1111111111111111,\"#46039f\"],[0.2222222222222222,\"#7201a8\"],[0.3333333333333333,\"#9c179e\"],[0.4444444444444444,\"#bd3786\"],[0.5555555555555556,\"#d8576b\"],[0.6666666666666666,\"#ed7953\"],[0.7777777777777778,\"#fb9f3a\"],[0.8888888888888888,\"#fdca26\"],[1.0,\"#f0f921\"]]}],\"heatmapgl\":[{\"type\":\"heatmapgl\",\"colorbar\":{\"outlinewidth\":0,\"ticks\":\"\"},\"colorscale\":[[0.0,\"#0d0887\"],[0.1111111111111111,\"#46039f\"],[0.2222222222222222,\"#7201a8\"],[0.3333333333333333,\"#9c179e\"],[0.4444444444444444,\"#bd3786\"],[0.5555555555555556,\"#d8576b\"],[0.6666666666666666,\"#ed7953\"],[0.7777777777777778,\"#fb9f3a\"],[0.8888888888888888,\"#fdca26\"],[1.0,\"#f0f921\"]]}],\"contourcarpet\":[{\"type\":\"contourcarpet\",\"colorbar\":{\"outlinewidth\":0,\"ticks\":\"\"}}],\"contour\":[{\"type\":\"contour\",\"colorbar\":{\"outlinewidth\":0,\"ticks\":\"\"},\"colorscale\":[[0.0,\"#0d0887\"],[0.1111111111111111,\"#46039f\"],[0.2222222222222222,\"#7201a8\"],[0.3333333333333333,\"#9c179e\"],[0.4444444444444444,\"#bd3786\"],[0.5555555555555556,\"#d8576b\"],[0.6666666666666666,\"#ed7953\"],[0.7777777777777778,\"#fb9f3a\"],[0.8888888888888888,\"#fdca26\"],[1.0,\"#f0f921\"]]}],\"surface\":[{\"type\":\"surface\",\"colorbar\":{\"outlinewidth\":0,\"ticks\":\"\"},\"colorscale\":[[0.0,\"#0d0887\"],[0.1111111111111111,\"#46039f\"],[0.2222222222222222,\"#7201a8\"],[0.3333333333333333,\"#9c179e\"],[0.4444444444444444,\"#bd3786\"],[0.5555555555555556,\"#d8576b\"],[0.6666666666666666,\"#ed7953\"],[0.7777777777777778,\"#fb9f3a\"],[0.8888888888888888,\"#fdca26\"],[1.0,\"#f0f921\"]]}],\"mesh3d\":[{\"type\":\"mesh3d\",\"colorbar\":{\"outlinewidth\":0,\"ticks\":\"\"}}],\"scatter\":[{\"fillpattern\":{\"fillmode\":\"overlay\",\"size\":10,\"solidity\":0.2},\"type\":\"scatter\"}],\"parcoords\":[{\"type\":\"parcoords\",\"line\":{\"colorbar\":{\"outlinewidth\":0,\"ticks\":\"\"}}}],\"scatterpolargl\":[{\"type\":\"scatterpolargl\",\"marker\":{\"colorbar\":{\"outlinewidth\":0,\"ticks\":\"\"}}}],\"bar\":[{\"error_x\":{\"color\":\"#2a3f5f\"},\"error_y\":{\"color\":\"#2a3f5f\"},\"marker\":{\"line\":{\"color\":\"#E5ECF6\",\"width\":0.5},\"pattern\":{\"fillmode\":\"overlay\",\"size\":10,\"solidity\":0.2}},\"type\":\"bar\"}],\"scattergeo\":[{\"type\":\"scattergeo\",\"marker\":{\"colorbar\":{\"outlinewidth\":0,\"ticks\":\"\"}}}],\"scatterpolar\":[{\"type\":\"scatterpolar\",\"marker\":{\"colorbar\":{\"outlinewidth\":0,\"ticks\":\"\"}}}],\"histogram\":[{\"marker\":{\"pattern\":{\"fillmode\":\"overlay\",\"size\":10,\"solidity\":0.2}},\"type\":\"histogram\"}],\"scattergl\":[{\"type\":\"scattergl\",\"marker\":{\"colorbar\":{\"outlinewidth\":0,\"ticks\":\"\"}}}],\"scatter3d\":[{\"type\":\"scatter3d\",\"line\":{\"colorbar\":{\"outlinewidth\":0,\"ticks\":\"\"}},\"marker\":{\"colorbar\":{\"outlinewidth\":0,\"ticks\":\"\"}}}],\"scattermapbox\":[{\"type\":\"scattermapbox\",\"marker\":{\"colorbar\":{\"outlinewidth\":0,\"ticks\":\"\"}}}],\"scatterternary\":[{\"type\":\"scatterternary\",\"marker\":{\"colorbar\":{\"outlinewidth\":0,\"ticks\":\"\"}}}],\"scattercarpet\":[{\"type\":\"scattercarpet\",\"marker\":{\"colorbar\":{\"outlinewidth\":0,\"ticks\":\"\"}}}],\"carpet\":[{\"aaxis\":{\"endlinecolor\":\"#2a3f5f\",\"gridcolor\":\"white\",\"linecolor\":\"white\",\"minorgridcolor\":\"white\",\"startlinecolor\":\"#2a3f5f\"},\"baxis\":{\"endlinecolor\":\"#2a3f5f\",\"gridcolor\":\"white\",\"linecolor\":\"white\",\"minorgridcolor\":\"white\",\"startlinecolor\":\"#2a3f5f\"},\"type\":\"carpet\"}],\"table\":[{\"cells\":{\"fill\":{\"color\":\"#EBF0F8\"},\"line\":{\"color\":\"white\"}},\"header\":{\"fill\":{\"color\":\"#C8D4E3\"},\"line\":{\"color\":\"white\"}},\"type\":\"table\"}],\"barpolar\":[{\"marker\":{\"line\":{\"color\":\"#E5ECF6\",\"width\":0.5},\"pattern\":{\"fillmode\":\"overlay\",\"size\":10,\"solidity\":0.2}},\"type\":\"barpolar\"}],\"pie\":[{\"automargin\":true,\"type\":\"pie\"}]},\"layout\":{\"autotypenumbers\":\"strict\",\"colorway\":[\"#636efa\",\"#EF553B\",\"#00cc96\",\"#ab63fa\",\"#FFA15A\",\"#19d3f3\",\"#FF6692\",\"#B6E880\",\"#FF97FF\",\"#FECB52\"],\"font\":{\"color\":\"#2a3f5f\"},\"hovermode\":\"closest\",\"hoverlabel\":{\"align\":\"left\"},\"paper_bgcolor\":\"white\",\"plot_bgcolor\":\"#E5ECF6\",\"polar\":{\"bgcolor\":\"#E5ECF6\",\"angularaxis\":{\"gridcolor\":\"white\",\"linecolor\":\"white\",\"ticks\":\"\"},\"radialaxis\":{\"gridcolor\":\"white\",\"linecolor\":\"white\",\"ticks\":\"\"}},\"ternary\":{\"bgcolor\":\"#E5ECF6\",\"aaxis\":{\"gridcolor\":\"white\",\"linecolor\":\"white\",\"ticks\":\"\"},\"baxis\":{\"gridcolor\":\"white\",\"linecolor\":\"white\",\"ticks\":\"\"},\"caxis\":{\"gridcolor\":\"white\",\"linecolor\":\"white\",\"ticks\":\"\"}},\"coloraxis\":{\"colorbar\":{\"outlinewidth\":0,\"ticks\":\"\"}},\"colorscale\":{\"sequential\":[[0.0,\"#0d0887\"],[0.1111111111111111,\"#46039f\"],[0.2222222222222222,\"#7201a8\"],[0.3333333333333333,\"#9c179e\"],[0.4444444444444444,\"#bd3786\"],[0.5555555555555556,\"#d8576b\"],[0.6666666666666666,\"#ed7953\"],[0.7777777777777778,\"#fb9f3a\"],[0.8888888888888888,\"#fdca26\"],[1.0,\"#f0f921\"]],\"sequentialminus\":[[0.0,\"#0d0887\"],[0.1111111111111111,\"#46039f\"],[0.2222222222222222,\"#7201a8\"],[0.3333333333333333,\"#9c179e\"],[0.4444444444444444,\"#bd3786\"],[0.5555555555555556,\"#d8576b\"],[0.6666666666666666,\"#ed7953\"],[0.7777777777777778,\"#fb9f3a\"],[0.8888888888888888,\"#fdca26\"],[1.0,\"#f0f921\"]],\"diverging\":[[0,\"#8e0152\"],[0.1,\"#c51b7d\"],[0.2,\"#de77ae\"],[0.3,\"#f1b6da\"],[0.4,\"#fde0ef\"],[0.5,\"#f7f7f7\"],[0.6,\"#e6f5d0\"],[0.7,\"#b8e186\"],[0.8,\"#7fbc41\"],[0.9,\"#4d9221\"],[1,\"#276419\"]]},\"xaxis\":{\"gridcolor\":\"white\",\"linecolor\":\"white\",\"ticks\":\"\",\"title\":{\"standoff\":15},\"zerolinecolor\":\"white\",\"automargin\":true,\"zerolinewidth\":2},\"yaxis\":{\"gridcolor\":\"white\",\"linecolor\":\"white\",\"ticks\":\"\",\"title\":{\"standoff\":15},\"zerolinecolor\":\"white\",\"automargin\":true,\"zerolinewidth\":2},\"scene\":{\"xaxis\":{\"backgroundcolor\":\"#E5ECF6\",\"gridcolor\":\"white\",\"linecolor\":\"white\",\"showbackground\":true,\"ticks\":\"\",\"zerolinecolor\":\"white\",\"gridwidth\":2},\"yaxis\":{\"backgroundcolor\":\"#E5ECF6\",\"gridcolor\":\"white\",\"linecolor\":\"white\",\"showbackground\":true,\"ticks\":\"\",\"zerolinecolor\":\"white\",\"gridwidth\":2},\"zaxis\":{\"backgroundcolor\":\"#E5ECF6\",\"gridcolor\":\"white\",\"linecolor\":\"white\",\"showbackground\":true,\"ticks\":\"\",\"zerolinecolor\":\"white\",\"gridwidth\":2}},\"shapedefaults\":{\"line\":{\"color\":\"#2a3f5f\"}},\"annotationdefaults\":{\"arrowcolor\":\"#2a3f5f\",\"arrowhead\":0,\"arrowwidth\":1},\"geo\":{\"bgcolor\":\"white\",\"landcolor\":\"#E5ECF6\",\"subunitcolor\":\"white\",\"showland\":true,\"showlakes\":true,\"lakecolor\":\"white\"},\"title\":{\"x\":0.05},\"mapbox\":{\"style\":\"light\"}}},\"title\":{\"font\":{\"size\":24,\"color\":\"black\",\"family\":\"Times New Roman\"},\"text\":\"Overall pathways\",\"x\":0.5}},                        {\"responsive\": true}                    ).then(function(){\n",
       "                            \n",
       "var gd = document.getElementById('43b52822-93c9-4f45-880c-f0de492ace78');\n",
       "var x = new MutationObserver(function (mutations, observer) {{\n",
       "        var display = window.getComputedStyle(gd).display;\n",
       "        if (!display || display === 'none') {{\n",
       "            console.log([gd, 'removed!']);\n",
       "            Plotly.purge(gd);\n",
       "            observer.disconnect();\n",
       "        }}\n",
       "}});\n",
       "\n",
       "// Listen for the removal of the full notebook cells\n",
       "var notebookContainer = gd.closest('#notebook-container');\n",
       "if (notebookContainer) {{\n",
       "    x.observe(notebookContainer, {childList: true});\n",
       "}}\n",
       "\n",
       "// Listen for the clearing of the current output cell\n",
       "var outputEl = gd.closest('.output');\n",
       "if (outputEl) {{\n",
       "    x.observe(outputEl, {childList: true});\n",
       "}}\n",
       "\n",
       "                        })                };                });            </script>        </div>"
      ]
     },
     "metadata": {},
     "output_type": "display_data"
    }
   ],
   "source": [
    "# draw_sankey_diagram_orig(test_df, 'Overall pathways', save=True, compress=True, compress_val=1000,\n",
    "#                          filename='../../../lupus_trial/pathways/orig/test_df_9500000.csv')\n",
    "\n",
    "draw_sankey_diagram_orig(test_df, 'Overall pathways', save=True,\n",
    "                         filename='../pathways/missingness/test_df_0.1')"
   ]
  },
  {
   "cell_type": "code",
   "execution_count": null,
   "id": "b9e7a290",
   "metadata": {},
   "outputs": [],
   "source": []
  },
  {
   "cell_type": "code",
   "execution_count": null,
   "id": "585ecb8b",
   "metadata": {},
   "outputs": [],
   "source": []
  },
  {
   "cell_type": "code",
   "execution_count": null,
   "id": "426d6c2d",
   "metadata": {},
   "outputs": [],
   "source": []
  }
 ],
 "metadata": {
  "kernelspec": {
   "display_name": "Python 3 (ipykernel)",
   "language": "python",
   "name": "python3"
  },
  "language_info": {
   "codemirror_mode": {
    "name": "ipython",
    "version": 3
   },
   "file_extension": ".py",
   "mimetype": "text/x-python",
   "name": "python",
   "nbconvert_exporter": "python",
   "pygments_lexer": "ipython3",
   "version": "3.7.4"
  }
 },
 "nbformat": 4,
 "nbformat_minor": 5
}

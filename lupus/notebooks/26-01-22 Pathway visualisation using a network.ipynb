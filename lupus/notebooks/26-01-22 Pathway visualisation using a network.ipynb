{
 "cells": [
  {
   "cell_type": "code",
   "execution_count": 16,
   "id": "b4a12acc",
   "metadata": {},
   "outputs": [],
   "source": [
    "import pandas as pd\n",
    "import numpy as np\n",
    "import sys\n",
    "sys.path.append('../')\n",
    "from modules import utils\n",
    "from pyvis.network import Network"
   ]
  },
  {
   "cell_type": "markdown",
   "id": "cd26167a",
   "metadata": {},
   "source": [
    "#### The data"
   ]
  },
  {
   "cell_type": "code",
   "execution_count": 27,
   "id": "e1e509db",
   "metadata": {},
   "outputs": [
    {
     "data": {
      "text/html": [
       "<div>\n",
       "<style scoped>\n",
       "    .dataframe tbody tr th:only-of-type {\n",
       "        vertical-align: middle;\n",
       "    }\n",
       "\n",
       "    .dataframe tbody tr th {\n",
       "        vertical-align: top;\n",
       "    }\n",
       "\n",
       "    .dataframe thead th {\n",
       "        text-align: right;\n",
       "    }\n",
       "</style>\n",
       "<table border=\"1\" class=\"dataframe\">\n",
       "  <thead>\n",
       "    <tr style=\"text-align: right;\">\n",
       "      <th></th>\n",
       "      <th>index</th>\n",
       "      <th>episode_length</th>\n",
       "      <th>reward</th>\n",
       "      <th>y_pred</th>\n",
       "      <th>y_actual</th>\n",
       "      <th>trajectory</th>\n",
       "      <th>terminated</th>\n",
       "      <th>is_success</th>\n",
       "    </tr>\n",
       "  </thead>\n",
       "  <tbody>\n",
       "    <tr>\n",
       "      <th>0</th>\n",
       "      <td>0.0</td>\n",
       "      <td>11.0</td>\n",
       "      <td>1.0</td>\n",
       "      <td>1.0</td>\n",
       "      <td>1.0</td>\n",
       "      <td>['pericardial_effusion', 'cutaneous_lupus', 'a...</td>\n",
       "      <td>0.0</td>\n",
       "      <td>1.0</td>\n",
       "    </tr>\n",
       "    <tr>\n",
       "      <th>1</th>\n",
       "      <td>1.0</td>\n",
       "      <td>12.0</td>\n",
       "      <td>1.0</td>\n",
       "      <td>1.0</td>\n",
       "      <td>1.0</td>\n",
       "      <td>['pericardial_effusion', 'cutaneous_lupus', 'a...</td>\n",
       "      <td>0.0</td>\n",
       "      <td>1.0</td>\n",
       "    </tr>\n",
       "    <tr>\n",
       "      <th>2</th>\n",
       "      <td>2.0</td>\n",
       "      <td>11.0</td>\n",
       "      <td>1.0</td>\n",
       "      <td>1.0</td>\n",
       "      <td>1.0</td>\n",
       "      <td>['pericardial_effusion', 'cutaneous_lupus', 'n...</td>\n",
       "      <td>0.0</td>\n",
       "      <td>1.0</td>\n",
       "    </tr>\n",
       "    <tr>\n",
       "      <th>3</th>\n",
       "      <td>3.0</td>\n",
       "      <td>13.0</td>\n",
       "      <td>1.0</td>\n",
       "      <td>1.0</td>\n",
       "      <td>1.0</td>\n",
       "      <td>['pericardial_effusion', 'cutaneous_lupus', 'a...</td>\n",
       "      <td>0.0</td>\n",
       "      <td>1.0</td>\n",
       "    </tr>\n",
       "    <tr>\n",
       "      <th>4</th>\n",
       "      <td>4.0</td>\n",
       "      <td>14.0</td>\n",
       "      <td>1.0</td>\n",
       "      <td>1.0</td>\n",
       "      <td>1.0</td>\n",
       "      <td>['pericardial_effusion', 'cutaneous_lupus', 'n...</td>\n",
       "      <td>0.0</td>\n",
       "      <td>1.0</td>\n",
       "    </tr>\n",
       "  </tbody>\n",
       "</table>\n",
       "</div>"
      ],
      "text/plain": [
       "   index  episode_length  reward  y_pred  y_actual  \\\n",
       "0    0.0            11.0     1.0     1.0       1.0   \n",
       "1    1.0            12.0     1.0     1.0       1.0   \n",
       "2    2.0            11.0     1.0     1.0       1.0   \n",
       "3    3.0            13.0     1.0     1.0       1.0   \n",
       "4    4.0            14.0     1.0     1.0       1.0   \n",
       "\n",
       "                                          trajectory  terminated  is_success  \n",
       "0  ['pericardial_effusion', 'cutaneous_lupus', 'a...         0.0         1.0  \n",
       "1  ['pericardial_effusion', 'cutaneous_lupus', 'a...         0.0         1.0  \n",
       "2  ['pericardial_effusion', 'cutaneous_lupus', 'n...         0.0         1.0  \n",
       "3  ['pericardial_effusion', 'cutaneous_lupus', 'a...         0.0         1.0  \n",
       "4  ['pericardial_effusion', 'cutaneous_lupus', 'n...         0.0         1.0  "
      ]
     },
     "execution_count": 27,
     "metadata": {},
     "output_type": "execute_result"
    }
   ],
   "source": [
    "# test_df = pd.read_csv('../test_dfs/21_jan/dqn_test_df_13000000.csv')\n",
    "# test_df = pd.read_csv('../test_dfs/very_simple_datasets/dqn_test_df_11ft_6000000.csv')\n",
    "test_df = pd.read_csv('../test_dfs/noisiness/0.1.csv')\n",
    "# test_df = pd.read_csv('../test_dfs/very_simple_datasets/dqn_test_df_8ft_1000000.csv').drop(['index'], axis=1)\n",
    "test_df.head()"
   ]
  },
  {
   "cell_type": "code",
   "execution_count": 28,
   "id": "97440aae",
   "metadata": {},
   "outputs": [
    {
     "data": {
      "text/html": [
       "<div>\n",
       "<style scoped>\n",
       "    .dataframe tbody tr th:only-of-type {\n",
       "        vertical-align: middle;\n",
       "    }\n",
       "\n",
       "    .dataframe tbody tr th {\n",
       "        vertical-align: top;\n",
       "    }\n",
       "\n",
       "    .dataframe thead th {\n",
       "        text-align: right;\n",
       "    }\n",
       "</style>\n",
       "<table border=\"1\" class=\"dataframe\">\n",
       "  <thead>\n",
       "    <tr style=\"text-align: right;\">\n",
       "      <th></th>\n",
       "      <th>Label1</th>\n",
       "      <th>Label2</th>\n",
       "      <th>value</th>\n",
       "      <th>Type</th>\n",
       "    </tr>\n",
       "  </thead>\n",
       "  <tbody>\n",
       "    <tr>\n",
       "      <th>0</th>\n",
       "      <td>pericardial_effusion</td>\n",
       "      <td>cutaneous_lupus</td>\n",
       "      <td>14000</td>\n",
       "      <td>directed</td>\n",
       "    </tr>\n",
       "    <tr>\n",
       "      <th>1</th>\n",
       "      <td>cutaneous_lupus</td>\n",
       "      <td>ana</td>\n",
       "      <td>11638</td>\n",
       "      <td>directed</td>\n",
       "    </tr>\n",
       "    <tr>\n",
       "      <th>2</th>\n",
       "      <td>ana</td>\n",
       "      <td>non_scarring_alopecia</td>\n",
       "      <td>7781</td>\n",
       "      <td>directed</td>\n",
       "    </tr>\n",
       "    <tr>\n",
       "      <th>3</th>\n",
       "      <td>non_scarring_alopecia</td>\n",
       "      <td>delirium</td>\n",
       "      <td>432</td>\n",
       "      <td>directed</td>\n",
       "    </tr>\n",
       "    <tr>\n",
       "      <th>4</th>\n",
       "      <td>delirium</td>\n",
       "      <td>low_c3</td>\n",
       "      <td>923</td>\n",
       "      <td>directed</td>\n",
       "    </tr>\n",
       "  </tbody>\n",
       "</table>\n",
       "</div>"
      ],
      "text/plain": [
       "                  Label1                 Label2  value      Type\n",
       "0   pericardial_effusion        cutaneous_lupus  14000  directed\n",
       "1        cutaneous_lupus                    ana  11638  directed\n",
       "2                    ana  non_scarring_alopecia   7781  directed\n",
       "3  non_scarring_alopecia               delirium    432  directed\n",
       "4               delirium                 low_c3    923  directed"
      ]
     },
     "execution_count": 28,
     "metadata": {},
     "output_type": "execute_result"
    }
   ],
   "source": [
    "pathways_df = utils.create_sankey_df(test_df)\n",
    "pathways_df['Type'] = 'directed'\n",
    "pathways_df.head()"
   ]
  },
  {
   "cell_type": "code",
   "execution_count": 29,
   "id": "fb78bfc0",
   "metadata": {},
   "outputs": [
    {
     "data": {
      "text/plain": [
       "347"
      ]
     },
     "execution_count": 29,
     "metadata": {},
     "output_type": "execute_result"
    }
   ],
   "source": [
    "len(pathways_df)"
   ]
  },
  {
   "cell_type": "code",
   "execution_count": 30,
   "id": "48c1a5ea",
   "metadata": {},
   "outputs": [
    {
     "data": {
      "text/html": [
       "<div>\n",
       "<style scoped>\n",
       "    .dataframe tbody tr th:only-of-type {\n",
       "        vertical-align: middle;\n",
       "    }\n",
       "\n",
       "    .dataframe tbody tr th {\n",
       "        vertical-align: top;\n",
       "    }\n",
       "\n",
       "    .dataframe thead th {\n",
       "        text-align: right;\n",
       "    }\n",
       "</style>\n",
       "<table border=\"1\" class=\"dataframe\">\n",
       "  <thead>\n",
       "    <tr style=\"text-align: right;\">\n",
       "      <th></th>\n",
       "      <th>Label1</th>\n",
       "      <th>Label2</th>\n",
       "      <th>value</th>\n",
       "      <th>Type</th>\n",
       "    </tr>\n",
       "  </thead>\n",
       "  <tbody>\n",
       "  </tbody>\n",
       "</table>\n",
       "</div>"
      ],
      "text/plain": [
       "Empty DataFrame\n",
       "Columns: [Label1, Label2, value, Type]\n",
       "Index: []"
      ]
     },
     "execution_count": 30,
     "metadata": {},
     "output_type": "execute_result"
    }
   ],
   "source": [
    "pathways_df[pathways_df.Label1=='Lupus']"
   ]
  },
  {
   "cell_type": "markdown",
   "id": "f4c6060c",
   "metadata": {},
   "source": [
    "#### Networkx"
   ]
  },
  {
   "cell_type": "code",
   "execution_count": 31,
   "id": "d9f7f9cf",
   "metadata": {},
   "outputs": [],
   "source": [
    "import networkx as nx"
   ]
  },
  {
   "cell_type": "code",
   "execution_count": 32,
   "id": "11e14193",
   "metadata": {},
   "outputs": [],
   "source": [
    "G = nx.from_pandas_edgelist(pathways_df, source='Label1', target='Label2', edge_attr='value', create_using=nx.DiGraph())"
   ]
  },
  {
   "cell_type": "code",
   "execution_count": 33,
   "id": "78846e48",
   "metadata": {},
   "outputs": [
    {
     "data": {
      "image/png": "[encoded data removed]",
      "text/plain": [
       "<Figure size 640x480 with 1 Axes>"
      ]
     },
     "metadata": {},
     "output_type": "display_data"
    }
   ],
   "source": [
    "nx.draw_networkx(G, arrows=True)"
   ]
  },
  {
   "cell_type": "markdown",
   "id": "1c1ac907",
   "metadata": {},
   "source": [
    "#### PyVis"
   ]
  },
  {
   "cell_type": "code",
   "execution_count": 34,
   "id": "fb0d8c4f",
   "metadata": {
    "scrolled": false
   },
   "outputs": [
    {
     "data": {
      "text/html": [
       "\n",
       "        <iframe\n",
       "            width=\"100%\"\n",
       "            height=\"500px\"\n",
       "            src=\"example.html\"\n",
       "            frameborder=\"0\"\n",
       "            allowfullscreen\n",
       "            \n",
       "        ></iframe>\n",
       "        "
      ],
      "text/plain": [
       "<IPython.lib.display.IFrame at 0x7fe8630ee050>"
      ]
     },
     "execution_count": 34,
     "metadata": {},
     "output_type": "execute_result"
    }
   ],
   "source": [
    "# net = Network('500px', notebook=True, cdn_resources='in_line')\n",
    "net = Network('500px', directed=True, notebook=True, cdn_resources='in_line')\n",
    "net.from_nx(G)\n",
    "net.show('example.html')"
   ]
  },
  {
   "cell_type": "code",
   "execution_count": 10,
   "id": "7bde1568",
   "metadata": {},
   "outputs": [],
   "source": [
    "# nx.draw(G)"
   ]
  },
  {
   "cell_type": "code",
   "execution_count": 11,
   "id": "7c4d80d6",
   "metadata": {},
   "outputs": [],
   "source": [
    "# nx.draw_circular(G)"
   ]
  },
  {
   "cell_type": "code",
   "execution_count": 12,
   "id": "8bb67301",
   "metadata": {},
   "outputs": [],
   "source": [
    "# nx.draw_kamada_kawai(G)"
   ]
  },
  {
   "cell_type": "code",
   "execution_count": 13,
   "id": "de5445aa",
   "metadata": {},
   "outputs": [],
   "source": [
    "# nx.draw_random(G)"
   ]
  },
  {
   "cell_type": "code",
   "execution_count": 14,
   "id": "e0ab3c19",
   "metadata": {},
   "outputs": [],
   "source": [
    "# nx.draw_spring(G)"
   ]
  },
  {
   "cell_type": "code",
   "execution_count": null,
   "id": "812b562f",
   "metadata": {},
   "outputs": [],
   "source": []
  }
 ],
 "metadata": {
  "kernelspec": {
   "display_name": "Python 3 (ipykernel)",
   "language": "python",
   "name": "python3"
  },
  "language_info": {
   "codemirror_mode": {
    "name": "ipython",
    "version": 3
   },
   "file_extension": ".py",
   "mimetype": "text/x-python",
   "name": "python",
   "nbconvert_exporter": "python",
   "pygments_lexer": "ipython3",
   "version": "3.7.4"
  }
 },
 "nbformat": 4,
 "nbformat_minor": 5
}

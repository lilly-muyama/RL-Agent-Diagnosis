{
 "cells": [
  {
   "cell_type": "code",
   "execution_count": 22,
   "id": "d4d552cb",
   "metadata": {},
   "outputs": [],
   "source": [
    "import pandas as pd\n",
    "import numpy as np\n",
    "import random\n",
    "import shap\n",
    "import matplotlib.pyplot as plt\n",
    "%matplotlib inline\n",
    "import sys\n",
    "sys.path.append('../')\n",
    "from modules import utils, constants\n",
    "from sklearn.model_selection import train_test_split\n",
    "from sklearn.preprocessing import label_binarize, LabelBinarizer\n",
    "from sklearn.metrics import accuracy_score, f1_score, roc_auc_score, confusion_matrix, classification_report \n",
    "from sklearn.metrics import roc_curve, auc"
   ]
  },
  {
   "cell_type": "code",
   "execution_count": 23,
   "id": "98c03223",
   "metadata": {},
   "outputs": [],
   "source": [
    "SEED = constants.SEED\n",
    "random.seed(SEED)\n",
    "np.random.seed(SEED)"
   ]
  },
  {
   "cell_type": "markdown",
   "id": "b493a157",
   "metadata": {},
   "source": [
    "#### Reading and splitting the dataset"
   ]
  },
  {
   "cell_type": "code",
   "execution_count": 24,
   "id": "710a6caf",
   "metadata": {},
   "outputs": [
    {
     "data": {
      "text/html": [
       "<div>\n",
       "<style scoped>\n",
       "    .dataframe tbody tr th:only-of-type {\n",
       "        vertical-align: middle;\n",
       "    }\n",
       "\n",
       "    .dataframe tbody tr th {\n",
       "        vertical-align: top;\n",
       "    }\n",
       "\n",
       "    .dataframe thead th {\n",
       "        text-align: right;\n",
       "    }\n",
       "</style>\n",
       "<table border=\"1\" class=\"dataframe\">\n",
       "  <thead>\n",
       "    <tr style=\"text-align: right;\">\n",
       "      <th></th>\n",
       "      <th>ana</th>\n",
       "      <th>fever</th>\n",
       "      <th>leukopenia</th>\n",
       "      <th>thrombocytopenia</th>\n",
       "      <th>auto_immune_hemolysis</th>\n",
       "      <th>delirium</th>\n",
       "      <th>psychosis</th>\n",
       "      <th>seizure</th>\n",
       "      <th>non_scarring_alopecia</th>\n",
       "      <th>oral_ulcers</th>\n",
       "      <th>...</th>\n",
       "      <th>acute_pericarditis</th>\n",
       "      <th>joint_involvement</th>\n",
       "      <th>proteinuria</th>\n",
       "      <th>anti_cardioliphin_antibodies</th>\n",
       "      <th>anti_β2gp1_antibodies</th>\n",
       "      <th>lupus_anti_coagulant</th>\n",
       "      <th>low_c3</th>\n",
       "      <th>low_c4</th>\n",
       "      <th>anti_dsdna_antibody</th>\n",
       "      <th>anti_smith_antibody</th>\n",
       "    </tr>\n",
       "  </thead>\n",
       "  <tbody>\n",
       "    <tr>\n",
       "      <th>0</th>\n",
       "      <td>0</td>\n",
       "      <td>1</td>\n",
       "      <td>1</td>\n",
       "      <td>1</td>\n",
       "      <td>1</td>\n",
       "      <td>1</td>\n",
       "      <td>0</td>\n",
       "      <td>0</td>\n",
       "      <td>0</td>\n",
       "      <td>1</td>\n",
       "      <td>...</td>\n",
       "      <td>0</td>\n",
       "      <td>1</td>\n",
       "      <td>0</td>\n",
       "      <td>0</td>\n",
       "      <td>1</td>\n",
       "      <td>1</td>\n",
       "      <td>0</td>\n",
       "      <td>0</td>\n",
       "      <td>1</td>\n",
       "      <td>0</td>\n",
       "    </tr>\n",
       "    <tr>\n",
       "      <th>1</th>\n",
       "      <td>0</td>\n",
       "      <td>0</td>\n",
       "      <td>0</td>\n",
       "      <td>0</td>\n",
       "      <td>1</td>\n",
       "      <td>1</td>\n",
       "      <td>1</td>\n",
       "      <td>0</td>\n",
       "      <td>0</td>\n",
       "      <td>1</td>\n",
       "      <td>...</td>\n",
       "      <td>1</td>\n",
       "      <td>0</td>\n",
       "      <td>1</td>\n",
       "      <td>0</td>\n",
       "      <td>0</td>\n",
       "      <td>0</td>\n",
       "      <td>0</td>\n",
       "      <td>1</td>\n",
       "      <td>0</td>\n",
       "      <td>0</td>\n",
       "    </tr>\n",
       "    <tr>\n",
       "      <th>2</th>\n",
       "      <td>1</td>\n",
       "      <td>0</td>\n",
       "      <td>1</td>\n",
       "      <td>1</td>\n",
       "      <td>0</td>\n",
       "      <td>0</td>\n",
       "      <td>0</td>\n",
       "      <td>0</td>\n",
       "      <td>1</td>\n",
       "      <td>0</td>\n",
       "      <td>...</td>\n",
       "      <td>1</td>\n",
       "      <td>1</td>\n",
       "      <td>1</td>\n",
       "      <td>0</td>\n",
       "      <td>0</td>\n",
       "      <td>0</td>\n",
       "      <td>0</td>\n",
       "      <td>0</td>\n",
       "      <td>1</td>\n",
       "      <td>0</td>\n",
       "    </tr>\n",
       "    <tr>\n",
       "      <th>3</th>\n",
       "      <td>1</td>\n",
       "      <td>1</td>\n",
       "      <td>0</td>\n",
       "      <td>0</td>\n",
       "      <td>0</td>\n",
       "      <td>1</td>\n",
       "      <td>0</td>\n",
       "      <td>0</td>\n",
       "      <td>1</td>\n",
       "      <td>0</td>\n",
       "      <td>...</td>\n",
       "      <td>0</td>\n",
       "      <td>0</td>\n",
       "      <td>1</td>\n",
       "      <td>1</td>\n",
       "      <td>1</td>\n",
       "      <td>1</td>\n",
       "      <td>0</td>\n",
       "      <td>0</td>\n",
       "      <td>1</td>\n",
       "      <td>1</td>\n",
       "    </tr>\n",
       "    <tr>\n",
       "      <th>4</th>\n",
       "      <td>1</td>\n",
       "      <td>0</td>\n",
       "      <td>0</td>\n",
       "      <td>0</td>\n",
       "      <td>1</td>\n",
       "      <td>1</td>\n",
       "      <td>1</td>\n",
       "      <td>0</td>\n",
       "      <td>0</td>\n",
       "      <td>0</td>\n",
       "      <td>...</td>\n",
       "      <td>0</td>\n",
       "      <td>0</td>\n",
       "      <td>1</td>\n",
       "      <td>0</td>\n",
       "      <td>0</td>\n",
       "      <td>0</td>\n",
       "      <td>1</td>\n",
       "      <td>0</td>\n",
       "      <td>1</td>\n",
       "      <td>0</td>\n",
       "    </tr>\n",
       "  </tbody>\n",
       "</table>\n",
       "<p>5 rows × 23 columns</p>\n",
       "</div>"
      ],
      "text/plain": [
       "   ana  fever  leukopenia  thrombocytopenia  auto_immune_hemolysis  delirium  \\\n",
       "0    0      1           1                 1                      1         1   \n",
       "1    0      0           0                 0                      1         1   \n",
       "2    1      0           1                 1                      0         0   \n",
       "3    1      1           0                 0                      0         1   \n",
       "4    1      0           0                 0                      1         1   \n",
       "\n",
       "   psychosis  seizure  non_scarring_alopecia  oral_ulcers  ...  \\\n",
       "0          0        0                      0            1  ...   \n",
       "1          1        0                      0            1  ...   \n",
       "2          0        0                      1            0  ...   \n",
       "3          0        0                      1            0  ...   \n",
       "4          1        0                      0            0  ...   \n",
       "\n",
       "   acute_pericarditis  joint_involvement  proteinuria  \\\n",
       "0                   0                  1            0   \n",
       "1                   1                  0            1   \n",
       "2                   1                  1            1   \n",
       "3                   0                  0            1   \n",
       "4                   0                  0            1   \n",
       "\n",
       "   anti_cardioliphin_antibodies  anti_β2gp1_antibodies  lupus_anti_coagulant  \\\n",
       "0                             0                      1                     1   \n",
       "1                             0                      0                     0   \n",
       "2                             0                      0                     0   \n",
       "3                             1                      1                     1   \n",
       "4                             0                      0                     0   \n",
       "\n",
       "   low_c3  low_c4  anti_dsdna_antibody  anti_smith_antibody  \n",
       "0       0       0                    1                    0  \n",
       "1       0       1                    0                    0  \n",
       "2       0       0                    1                    0  \n",
       "3       0       0                    1                    1  \n",
       "4       1       0                    1                    0  \n",
       "\n",
       "[5 rows x 23 columns]"
      ]
     },
     "execution_count": 24,
     "metadata": {},
     "output_type": "execute_result"
    }
   ],
   "source": [
    "#train_df = pd.read_csv('../data/train_set_basic.csv')\n",
    "# train_df = pd.read_csv('../data/18_jan/train_set_basic.csv')\n",
    "train_df = pd.read_csv('../data/noisiness/0.6/training_set.csv')\n",
    "# val_df = pd.read_csv('../data/noisiness/0.1/validation_set.csv')\n",
    "# # train_df = pd.concat([train_df_orig, val_df]).reset_index(drop=True)\n",
    "train_df = train_df.fillna(-1)\n",
    "X_train = train_df.iloc[:, 0:-1]\n",
    "y_train = train_df.iloc[:, -1]\n",
    "X_train.head()\n",
    "#train_df.label.value_counts()"
   ]
  },
  {
   "cell_type": "code",
   "execution_count": 25,
   "id": "865e157e",
   "metadata": {},
   "outputs": [
    {
     "data": {
      "text/html": [
       "<div>\n",
       "<style scoped>\n",
       "    .dataframe tbody tr th:only-of-type {\n",
       "        vertical-align: middle;\n",
       "    }\n",
       "\n",
       "    .dataframe tbody tr th {\n",
       "        vertical-align: top;\n",
       "    }\n",
       "\n",
       "    .dataframe thead th {\n",
       "        text-align: right;\n",
       "    }\n",
       "</style>\n",
       "<table border=\"1\" class=\"dataframe\">\n",
       "  <thead>\n",
       "    <tr style=\"text-align: right;\">\n",
       "      <th></th>\n",
       "      <th>ana</th>\n",
       "      <th>fever</th>\n",
       "      <th>leukopenia</th>\n",
       "      <th>thrombocytopenia</th>\n",
       "      <th>auto_immune_hemolysis</th>\n",
       "      <th>delirium</th>\n",
       "      <th>psychosis</th>\n",
       "      <th>seizure</th>\n",
       "      <th>non_scarring_alopecia</th>\n",
       "      <th>oral_ulcers</th>\n",
       "      <th>...</th>\n",
       "      <th>acute_pericarditis</th>\n",
       "      <th>joint_involvement</th>\n",
       "      <th>proteinuria</th>\n",
       "      <th>anti_cardioliphin_antibodies</th>\n",
       "      <th>anti_β2gp1_antibodies</th>\n",
       "      <th>lupus_anti_coagulant</th>\n",
       "      <th>low_c3</th>\n",
       "      <th>low_c4</th>\n",
       "      <th>anti_dsdna_antibody</th>\n",
       "      <th>anti_smith_antibody</th>\n",
       "    </tr>\n",
       "  </thead>\n",
       "  <tbody>\n",
       "    <tr>\n",
       "      <th>0</th>\n",
       "      <td>1</td>\n",
       "      <td>0</td>\n",
       "      <td>0</td>\n",
       "      <td>0</td>\n",
       "      <td>0</td>\n",
       "      <td>0</td>\n",
       "      <td>0</td>\n",
       "      <td>0</td>\n",
       "      <td>0</td>\n",
       "      <td>0</td>\n",
       "      <td>...</td>\n",
       "      <td>0</td>\n",
       "      <td>1</td>\n",
       "      <td>0</td>\n",
       "      <td>0</td>\n",
       "      <td>0</td>\n",
       "      <td>0</td>\n",
       "      <td>0</td>\n",
       "      <td>0</td>\n",
       "      <td>0</td>\n",
       "      <td>0</td>\n",
       "    </tr>\n",
       "    <tr>\n",
       "      <th>1</th>\n",
       "      <td>1</td>\n",
       "      <td>1</td>\n",
       "      <td>0</td>\n",
       "      <td>0</td>\n",
       "      <td>0</td>\n",
       "      <td>0</td>\n",
       "      <td>0</td>\n",
       "      <td>0</td>\n",
       "      <td>0</td>\n",
       "      <td>0</td>\n",
       "      <td>...</td>\n",
       "      <td>0</td>\n",
       "      <td>0</td>\n",
       "      <td>1</td>\n",
       "      <td>0</td>\n",
       "      <td>0</td>\n",
       "      <td>0</td>\n",
       "      <td>0</td>\n",
       "      <td>0</td>\n",
       "      <td>1</td>\n",
       "      <td>0</td>\n",
       "    </tr>\n",
       "    <tr>\n",
       "      <th>2</th>\n",
       "      <td>1</td>\n",
       "      <td>0</td>\n",
       "      <td>0</td>\n",
       "      <td>0</td>\n",
       "      <td>0</td>\n",
       "      <td>0</td>\n",
       "      <td>1</td>\n",
       "      <td>0</td>\n",
       "      <td>0</td>\n",
       "      <td>0</td>\n",
       "      <td>...</td>\n",
       "      <td>0</td>\n",
       "      <td>1</td>\n",
       "      <td>0</td>\n",
       "      <td>0</td>\n",
       "      <td>0</td>\n",
       "      <td>1</td>\n",
       "      <td>1</td>\n",
       "      <td>0</td>\n",
       "      <td>0</td>\n",
       "      <td>0</td>\n",
       "    </tr>\n",
       "    <tr>\n",
       "      <th>3</th>\n",
       "      <td>1</td>\n",
       "      <td>1</td>\n",
       "      <td>0</td>\n",
       "      <td>0</td>\n",
       "      <td>0</td>\n",
       "      <td>0</td>\n",
       "      <td>0</td>\n",
       "      <td>0</td>\n",
       "      <td>1</td>\n",
       "      <td>0</td>\n",
       "      <td>...</td>\n",
       "      <td>0</td>\n",
       "      <td>0</td>\n",
       "      <td>0</td>\n",
       "      <td>0</td>\n",
       "      <td>0</td>\n",
       "      <td>1</td>\n",
       "      <td>0</td>\n",
       "      <td>0</td>\n",
       "      <td>1</td>\n",
       "      <td>0</td>\n",
       "    </tr>\n",
       "    <tr>\n",
       "      <th>4</th>\n",
       "      <td>1</td>\n",
       "      <td>0</td>\n",
       "      <td>0</td>\n",
       "      <td>0</td>\n",
       "      <td>0</td>\n",
       "      <td>0</td>\n",
       "      <td>0</td>\n",
       "      <td>0</td>\n",
       "      <td>1</td>\n",
       "      <td>0</td>\n",
       "      <td>...</td>\n",
       "      <td>0</td>\n",
       "      <td>1</td>\n",
       "      <td>0</td>\n",
       "      <td>0</td>\n",
       "      <td>0</td>\n",
       "      <td>0</td>\n",
       "      <td>1</td>\n",
       "      <td>0</td>\n",
       "      <td>0</td>\n",
       "      <td>0</td>\n",
       "    </tr>\n",
       "  </tbody>\n",
       "</table>\n",
       "<p>5 rows × 23 columns</p>\n",
       "</div>"
      ],
      "text/plain": [
       "   ana  fever  leukopenia  thrombocytopenia  auto_immune_hemolysis  delirium  \\\n",
       "0    1      0           0                 0                      0         0   \n",
       "1    1      1           0                 0                      0         0   \n",
       "2    1      0           0                 0                      0         0   \n",
       "3    1      1           0                 0                      0         0   \n",
       "4    1      0           0                 0                      0         0   \n",
       "\n",
       "   psychosis  seizure  non_scarring_alopecia  oral_ulcers  ...  \\\n",
       "0          0        0                      0            0  ...   \n",
       "1          0        0                      0            0  ...   \n",
       "2          1        0                      0            0  ...   \n",
       "3          0        0                      1            0  ...   \n",
       "4          0        0                      1            0  ...   \n",
       "\n",
       "   acute_pericarditis  joint_involvement  proteinuria  \\\n",
       "0                   0                  1            0   \n",
       "1                   0                  0            1   \n",
       "2                   0                  1            0   \n",
       "3                   0                  0            0   \n",
       "4                   0                  1            0   \n",
       "\n",
       "   anti_cardioliphin_antibodies  anti_β2gp1_antibodies  lupus_anti_coagulant  \\\n",
       "0                             0                      0                     0   \n",
       "1                             0                      0                     0   \n",
       "2                             0                      0                     1   \n",
       "3                             0                      0                     1   \n",
       "4                             0                      0                     0   \n",
       "\n",
       "   low_c3  low_c4  anti_dsdna_antibody  anti_smith_antibody  \n",
       "0       0       0                    0                    0  \n",
       "1       0       0                    1                    0  \n",
       "2       1       0                    0                    0  \n",
       "3       0       0                    1                    0  \n",
       "4       1       0                    0                    0  \n",
       "\n",
       "[5 rows x 23 columns]"
      ]
     },
     "execution_count": 25,
     "metadata": {},
     "output_type": "execute_result"
    }
   ],
   "source": [
    "# test_df = pd.read_csv('../data/18_jan/test_set_basic.csv')\n",
    "test_df = pd.read_csv('../data/noisiness/0.6/testing_set.csv')\n",
    "X_test = test_df.iloc[:, 0:-1]\n",
    "y_test = test_df.iloc[:, -1]\n",
    "X_test.head()\n",
    "#test_df.label.value_counts()"
   ]
  },
  {
   "cell_type": "code",
   "execution_count": 26,
   "id": "2f163125",
   "metadata": {},
   "outputs": [],
   "source": [
    "#X_train, y_train = np.array(X_train), np.array(y_train)\n",
    "#X_test, y_test = np.array(X_test), np.array(y_test)\n",
    "#X_train.shape, X_test.shape, y_train.shape, y_test.shape"
   ]
  },
  {
   "cell_type": "markdown",
   "id": "65ff35e4",
   "metadata": {},
   "source": [
    "#### Decision Tree"
   ]
  },
  {
   "cell_type": "code",
   "execution_count": 27,
   "id": "24aac4ed",
   "metadata": {},
   "outputs": [
    {
     "data": {
      "text/plain": [
       "y_actual    0\n",
       "y_pred      0\n",
       "dtype: int64"
      ]
     },
     "execution_count": 27,
     "metadata": {},
     "output_type": "execute_result"
    }
   ],
   "source": [
    "from sklearn.tree import DecisionTreeClassifier, export_graphviz\n",
    "dt = DecisionTreeClassifier(random_state=constants.SEED).fit(X_train, y_train)\n",
    "y_pred_dt = dt.predict(X_test)\n",
    "test_df_dt = pd.DataFrame()\n",
    "test_df_dt['y_actual'] = y_test\n",
    "test_df_dt['y_pred'] = y_pred_dt\n",
    "test_df_dt.isna().sum()"
   ]
  },
  {
   "cell_type": "code",
   "execution_count": 28,
   "id": "1657af1f",
   "metadata": {},
   "outputs": [],
   "source": [
    "# acc_dt, prec_dt, recall_dt, f1_dt = utils.test_binary(test_df_dt['y_actual'], test_df_dt['y_pred'])\n",
    "# acc_dt, prec_dt, recall_dt, f1_dt"
   ]
  },
  {
   "cell_type": "code",
   "execution_count": 29,
   "id": "1908e645",
   "metadata": {},
   "outputs": [
    {
     "data": {
      "text/plain": [
       "(71.04285714285714, 70.24393160436924, 70.50176792074936)"
      ]
     },
     "execution_count": 29,
     "metadata": {},
     "output_type": "execute_result"
    }
   ],
   "source": [
    "acc_dt2, f1_dt2, roc_auc_dt2 = utils.test(test_df_dt['y_actual'], test_df_dt['y_pred'])\n",
    "acc_dt2, f1_dt2, roc_auc_dt2"
   ]
  },
  {
   "cell_type": "code",
   "execution_count": 30,
   "id": "af796f0c",
   "metadata": {},
   "outputs": [],
   "source": [
    "#from sklearn import tree\n",
    "#fig = plt.figure(figsize=(25,20))\n",
    "#_ = tree.plot_tree(dt, \n",
    "#                   feature_names=X_train.columns,  \n",
    "#                   class_names=['no lupus', 'lupus'],\n",
    "#                   filled=True)\n",
    "#fig.savefig('../images/dt_basic.png')"
   ]
  },
  {
   "cell_type": "code",
   "execution_count": 31,
   "id": "3c0562ff",
   "metadata": {
    "scrolled": false
   },
   "outputs": [],
   "source": [
    "# import graphviz\n",
    "# dot_data = export_graphviz(dt, out_file=None, \n",
    "#                                 feature_names= X_train.columns,  \n",
    "#                                 class_names=['no lupus', 'lupus'],\n",
    "#                                 filled=True)\n",
    "\n",
    "\n",
    "# graph = graphviz.Source(dot_data, format='png') \n",
    "# #graph\n",
    "# Convert to image using dot -Tpng images/dt_basic.dot -o images/dt_basic.png \n",
    "# Make sure to have graphviz installed (windows executable file like normal software)"
   ]
  },
  {
   "cell_type": "markdown",
   "id": "9c73dc40",
   "metadata": {},
   "source": [
    "##### Feature importance"
   ]
  },
  {
   "cell_type": "code",
   "execution_count": 32,
   "id": "2ff2770d",
   "metadata": {},
   "outputs": [
    {
     "data": {
      "image/png": "[encoded data removed]",
      "text/plain": [
       "<Figure size 640x480 with 1 Axes>"
      ]
     },
     "metadata": {},
     "output_type": "display_data"
    }
   ],
   "source": [
    "utils.compute_feature_importance(dt, X_train)"
   ]
  },
  {
   "cell_type": "markdown",
   "id": "c06a1fda",
   "metadata": {},
   "source": [
    "##### SHAP"
   ]
  },
  {
   "cell_type": "code",
   "execution_count": 33,
   "id": "56285cc2",
   "metadata": {},
   "outputs": [],
   "source": [
    "# explainer = shap.TreeExplainer(dt)\n",
    "# shap_values = explainer.shap_values(X_test)\n",
    "# len(shap_values)"
   ]
  },
  {
   "cell_type": "code",
   "execution_count": 34,
   "id": "6e943056",
   "metadata": {},
   "outputs": [],
   "source": [
    "# shap_values[0].shape"
   ]
  },
  {
   "cell_type": "code",
   "execution_count": 35,
   "id": "968c85c0",
   "metadata": {
    "scrolled": false
   },
   "outputs": [],
   "source": [
    "# shap.summary_plot(shap_values, X_test, max_display=30)"
   ]
  },
  {
   "cell_type": "markdown",
   "id": "e49c2bce",
   "metadata": {},
   "source": [
    "#### Random Forest"
   ]
  },
  {
   "cell_type": "code",
   "execution_count": 36,
   "id": "9eecc9bd",
   "metadata": {},
   "outputs": [
    {
     "data": {
      "text/plain": [
       "y_actual    0\n",
       "y_pred      0\n",
       "dtype: int64"
      ]
     },
     "execution_count": 36,
     "metadata": {},
     "output_type": "execute_result"
    }
   ],
   "source": [
    "from sklearn.ensemble import RandomForestClassifier\n",
    "rf = RandomForestClassifier(random_state=constants.SEED).fit(X_train, y_train)\n",
    "y_pred_rf = rf.predict(X_test)\n",
    "test_df_rf = pd.DataFrame()\n",
    "test_df_rf['y_actual'] = y_test\n",
    "test_df_rf['y_pred'] = y_pred_rf\n",
    "test_df_rf.isna().sum()"
   ]
  },
  {
   "cell_type": "code",
   "execution_count": 37,
   "id": "ca10fafa",
   "metadata": {},
   "outputs": [],
   "source": [
    "# acc_rf, prec_rf, recall_rf, f1_rf = utils.test_binary(test_df_rf['y_actual'], test_df_rf['y_pred'])\n",
    "# acc_rf, prec_rf, recall_rf, f1_rf "
   ]
  },
  {
   "cell_type": "code",
   "execution_count": 38,
   "id": "e171e525",
   "metadata": {},
   "outputs": [
    {
     "data": {
      "text/plain": [
       "(78.47857142857143, 78.13815019198618, 78.10528864844252)"
      ]
     },
     "execution_count": 38,
     "metadata": {},
     "output_type": "execute_result"
    }
   ],
   "source": [
    "acc_rf2, f1_rf2, roc_auc_rf2 = utils.test(test_df_rf['y_actual'], test_df_rf['y_pred'])\n",
    "acc_rf2, f1_rf2, roc_auc_rf2"
   ]
  },
  {
   "cell_type": "markdown",
   "id": "cf2515f9",
   "metadata": {},
   "source": [
    "#### XGBoost"
   ]
  },
  {
   "cell_type": "code",
   "execution_count": 39,
   "id": "de1e2d63",
   "metadata": {},
   "outputs": [
    {
     "name": "stderr",
     "output_type": "stream",
     "text": [
      "/home/lmuyama/anaconda3/envs/stable_baselines_3_env/lib/python3.7/site-packages/xgboost/sklearn.py:1224: UserWarning:\n",
      "\n",
      "The use of label encoder in XGBClassifier is deprecated and will be removed in a future release. To remove this warning, do the following: 1) Pass option use_label_encoder=False when constructing XGBClassifier object; and 2) Encode your labels (y) as integers starting with 0, i.e. 0, 1, 2, ..., [num_class - 1].\n",
      "\n"
     ]
    },
    {
     "name": "stdout",
     "output_type": "stream",
     "text": [
      "[17:51:19] WARNING: /croot/xgboost-split_1675119646044/work/src/learner.cc:1115: Starting in XGBoost 1.3.0, the default evaluation metric used with the objective 'binary:logistic' was changed from 'error' to 'logloss'. Explicitly set eval_metric if you'd like to restore the old behavior.\n"
     ]
    },
    {
     "data": {
      "text/plain": [
       "y_actual    0\n",
       "y_pred      0\n",
       "dtype: int64"
      ]
     },
     "execution_count": 39,
     "metadata": {},
     "output_type": "execute_result"
    }
   ],
   "source": [
    "import xgboost as xgb\n",
    "xg = xgb.XGBClassifier(random_state=constants.SEED).fit(X_train, y_train)\n",
    "y_pred_xg = xg.predict(X_test)\n",
    "test_df_xg = pd.DataFrame()\n",
    "test_df_xg['y_actual'] = y_test\n",
    "test_df_xg['y_pred'] = y_pred_xg\n",
    "test_df_xg.isna().sum()"
   ]
  },
  {
   "cell_type": "code",
   "execution_count": 40,
   "id": "d2729c4d",
   "metadata": {},
   "outputs": [],
   "source": [
    "# acc_xg, prec_xg, recall_xg, f1_xg = utils.test_binary(test_df_xg['y_actual'], test_df_xg['y_pred'])\n",
    "# acc_xg, prec_xg, recall_xg, f1_xg"
   ]
  },
  {
   "cell_type": "code",
   "execution_count": 41,
   "id": "f2d52dfe",
   "metadata": {},
   "outputs": [
    {
     "data": {
      "text/plain": [
       "(86.47857142857143, 86.11711486029799, 85.97202241217524)"
      ]
     },
     "execution_count": 41,
     "metadata": {},
     "output_type": "execute_result"
    }
   ],
   "source": [
    "acc_xg2, f1_xg2, roc_auc_xg2 = utils.test(test_df_xg['y_actual'], test_df_xg['y_pred'])\n",
    "acc_xg2, f1_xg2, roc_auc_xg2"
   ]
  },
  {
   "cell_type": "code",
   "execution_count": null,
   "id": "183a241a",
   "metadata": {},
   "outputs": [],
   "source": []
  },
  {
   "cell_type": "code",
   "execution_count": null,
   "id": "65f05baa",
   "metadata": {},
   "outputs": [],
   "source": []
  }
 ],
 "metadata": {
  "kernelspec": {
   "display_name": "Python 3 (ipykernel)",
   "language": "python",
   "name": "python3"
  },
  "language_info": {
   "codemirror_mode": {
    "name": "ipython",
    "version": 3
   },
   "file_extension": ".py",
   "mimetype": "text/x-python",
   "name": "python",
   "nbconvert_exporter": "python",
   "pygments_lexer": "ipython3",
   "version": "3.7.4"
  }
 },
 "nbformat": 4,
 "nbformat_minor": 5
}

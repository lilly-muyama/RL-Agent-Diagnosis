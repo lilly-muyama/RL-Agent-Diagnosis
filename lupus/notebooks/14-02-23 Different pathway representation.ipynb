{
 "cells": [
  {
   "cell_type": "code",
   "execution_count": 5,
   "id": "f8fea7e2",
   "metadata": {},
   "outputs": [],
   "source": [
    "import pandas as pd\n",
    "import numpy as np\n",
    "import ast\n",
    "import random\n",
    "import collections\n",
    "import networkx as nx\n",
    "from pyvis.network import Network\n",
    "import plotly.graph_objects as go\n",
    "import sys\n",
    "sys.path.append('../')\n",
    "from modules import utils, constants"
   ]
  },
  {
   "cell_type": "code",
   "execution_count": 6,
   "id": "93deb1a3",
   "metadata": {},
   "outputs": [],
   "source": [
    "features = ['ana', 'anti_dsdna_antibody', 'joint_involvement', 'pericardial_effusion', 'proteinuria', 'low_c4', \n",
    "            'cutaneous_lupus', 'low_c3', 'non_scarring_alopecia', 'pleural_effusion', 'leukopenia', \n",
    "            'thrombocytopenia', 'fever', 'seizure', 'delirium', 'anti_smith_antibody', \n",
    "            'anti_cardioliphin_antibodies', 'psychosis', 'lupus_anti_coagulant', 'anti_β2gp1_antibodies', \n",
    "            'oral_ulcers', 'auto_immune_hemolysis', 'acute_pericarditis']"
   ]
  },
  {
   "cell_type": "markdown",
   "id": "c1e56220",
   "metadata": {},
   "source": [
    "#### The functions"
   ]
  },
  {
   "cell_type": "code",
   "execution_count": 7,
   "id": "477f2416",
   "metadata": {},
   "outputs": [],
   "source": [
    "def streamline_frequency_dict(frequency_dict):\n",
    "    frequency_dict_list = [] #will hold dictonaries with 2 keys i.e. 'set' and 'value'\n",
    "    for path_dict, value in frequency_dict.items():\n",
    "        all_set_list = [i['set'] for i in frequency_dict_list] #get all the sets so far in the list \n",
    "        path_set = set(ast.literal_eval(path_dict)) #get the set of current path dict to check if its already in list\n",
    "        if path_set in all_set_list: #increase value else insert it - work on this!!!!!!!!!!!!!!!\n",
    "            for elem in frequency_dict_list: #look for if path_set is already in frequency_dict_list \n",
    "                if elem['set'] == path_set: #find the matching path_set in the frequency_dict_list\n",
    "                    elem['value'] += value #increase the value for that set\n",
    "        else:\n",
    "            frequency_dict_list.append({'set':path_set, 'value':value})\n",
    "    \n",
    "    all_list = [list(path_dict['set']) for path_dict in frequency_dict_list]\n",
    "    flat_list = [item for sublist in all_list for item in sublist]\n",
    "    commonest_elements = dict(collections.Counter(flat_list))\n",
    "    commonest_elements = {k: v for k, v in sorted(commonest_elements.items(), reverse=True, key=lambda item: item[1])}\n",
    "    commonest_elements_list = list(commonest_elements.keys())\n",
    "    commonest_elements_list = [i for i in commonest_elements_list if i not in ['Lupus', 'No lupus', 'Inconclusive diagnosis']] + ['Lupus', 'No lupus', 'Inconclusive diagnosis']\n",
    "    \n",
    "    for item in frequency_dict_list:\n",
    "        item['set'] = sorted(list(item['set']), key=lambda x: commonest_elements_list.index(x))\n",
    "    \n",
    "    keys = [str(i['set']) for i in frequency_dict_list]\n",
    "    values = [i['value'] for i in frequency_dict_list]\n",
    "    final_frequency_dict = {k:v for (k,v) in zip(keys, values)}\n",
    "    \n",
    "    return final_frequency_dict"
   ]
  },
  {
   "cell_type": "code",
   "execution_count": 8,
   "id": "9f22c36f",
   "metadata": {},
   "outputs": [],
   "source": [
    "def generate_tuple_dict(df):\n",
    "    frequency_dict = {}\n",
    "    for traj in df.trajectory:\n",
    "        if traj in frequency_dict.keys():\n",
    "            frequency_dict[traj] += 1\n",
    "        else:\n",
    "            frequency_dict[traj] = 1\n",
    "    streamlined_frequency_dict = streamline_frequency_dict(frequency_dict)\n",
    "    overall_tup_dict = {}\n",
    "    for key, value in streamlined_frequency_dict.items():\n",
    "        new_key = ast.literal_eval(key)\n",
    "        for tup in zip(new_key, new_key[1:]):\n",
    "            #print(f'tup: {tup}')\n",
    "            if tup in overall_tup_dict.keys():\n",
    "                overall_tup_dict[tup] += value\n",
    "            else:\n",
    "                overall_tup_dict[tup] = value\n",
    "    #print(f'overall_tup_dict: {overall_tup_dict}')\n",
    "    return overall_tup_dict"
   ]
  },
  {
   "cell_type": "code",
   "execution_count": 9,
   "id": "27490a48",
   "metadata": {},
   "outputs": [],
   "source": [
    "def create_sankey_df(df):\n",
    "    overall_tup_dict = generate_tuple_dict(df)\n",
    "    sankey_df = pd.DataFrame()\n",
    "    sankey_df['source'] = [i[0] for i in overall_tup_dict.keys()]\n",
    "    sankey_df['target'] = [i[1] for i in overall_tup_dict.keys()]\n",
    "    sankey_df['value'] = list(overall_tup_dict.values())\n",
    "    sankey_df['link_type'] = sankey_df['target'].apply(lambda i: 'terminal' if i in ['No lupus', 'Lupus', 'Inconclusive diagnosis'] else 'non_terminal')\n",
    "    return sankey_df"
   ]
  },
  {
   "cell_type": "code",
   "execution_count": 10,
   "id": "fd0235d6",
   "metadata": {},
   "outputs": [],
   "source": [
    "def draw_networkx_graph(df):\n",
    "    pathways_df = create_sankey_df(test_df)\n",
    "    pathways_df['Type'] = 'directed'\n",
    "    G = nx.from_pandas_edgelist(pathways_df, source='source', target='target', edge_attr='value', \n",
    "                                create_using=nx.DiGraph())\n",
    "    nx.draw_networkx(G, arrows=True)\n",
    "    return G"
   ]
  },
  {
   "cell_type": "code",
   "execution_count": 11,
   "id": "3adf90ba",
   "metadata": {},
   "outputs": [],
   "source": [
    "get_colors = lambda n: list(map(lambda i: \"#\" + \"%06x\" % random.randint(0, 0xFFFFFF),range(n)))"
   ]
  },
  {
   "cell_type": "code",
   "execution_count": 12,
   "id": "b9d92983",
   "metadata": {},
   "outputs": [],
   "source": [
    "def draw_sankey_diagram_orig(df, title, compress=False, compress_val=0, save=False, filename=False):\n",
    "    sankey_df = create_sankey_df(df)\n",
    "    if compress:\n",
    "        sankey_df = sankey_df[sankey_df.value>compress_val]\n",
    "    unique_actions = list(set(list(sankey_df['source'].unique())  + list(sankey_df['target'].unique())))\n",
    "    dmap = dict(zip(unique_actions, range(len(unique_actions))))\n",
    "    sankey_df['source'] = sankey_df['source'].map(dmap)\n",
    "    sankey_df['target'] = sankey_df['target'].map(dmap)\n",
    "    sankey_df.sort_values(by=['source'], inplace=True)\n",
    "    nodes_color = get_colors(len(dmap))\n",
    "    label = unique_actions\n",
    "    target = list(sankey_df['target'])\n",
    "    value = list(sankey_df['value'])\n",
    "    source = list(sankey_df['source'])\n",
    "    \n",
    "    link_color = get_colors(len(value))\n",
    "#     link_color = ['green']*len(value)\n",
    "    fig = go.Figure(data=[go.Sankey(\n",
    "        node = dict(pad=15, thickness=20, line=dict(color='black', width=0.5), label=label, color=nodes_color),\n",
    "        link = dict(source=source, target=target, value=value, color=link_color)\n",
    "    )])\n",
    "    fig.update_layout(title_text=title, title_x=0.5,  title_font_size=24, title_font_color='black', \n",
    "                      title_font_family='Times New Roman')\n",
    "    if save:\n",
    "        fig.write_html(f'{filename}.html')\n",
    "    fig.show()"
   ]
  },
  {
   "cell_type": "markdown",
   "id": "1cd7f597",
   "metadata": {},
   "source": [
    "#### The data"
   ]
  },
  {
   "cell_type": "code",
   "execution_count": 13,
   "id": "75783bfc",
   "metadata": {},
   "outputs": [
    {
     "data": {
      "text/html": [
       "<div>\n",
       "<style scoped>\n",
       "    .dataframe tbody tr th:only-of-type {\n",
       "        vertical-align: middle;\n",
       "    }\n",
       "\n",
       "    .dataframe tbody tr th {\n",
       "        vertical-align: top;\n",
       "    }\n",
       "\n",
       "    .dataframe thead th {\n",
       "        text-align: right;\n",
       "    }\n",
       "</style>\n",
       "<table border=\"1\" class=\"dataframe\">\n",
       "  <thead>\n",
       "    <tr style=\"text-align: right;\">\n",
       "      <th></th>\n",
       "      <th>episode_length</th>\n",
       "      <th>reward</th>\n",
       "      <th>y_pred</th>\n",
       "      <th>y_actual</th>\n",
       "      <th>trajectory</th>\n",
       "      <th>terminated</th>\n",
       "      <th>is_success</th>\n",
       "    </tr>\n",
       "  </thead>\n",
       "  <tbody>\n",
       "    <tr>\n",
       "      <th>0</th>\n",
       "      <td>4.0</td>\n",
       "      <td>0.863448</td>\n",
       "      <td>1.0</td>\n",
       "      <td>1.0</td>\n",
       "      <td>['proteinuria', 'joint_involvement', 'anti_car...</td>\n",
       "      <td>0.0</td>\n",
       "      <td>1.0</td>\n",
       "    </tr>\n",
       "    <tr>\n",
       "      <th>1</th>\n",
       "      <td>4.0</td>\n",
       "      <td>0.863448</td>\n",
       "      <td>1.0</td>\n",
       "      <td>1.0</td>\n",
       "      <td>['proteinuria', 'auto_immune_hemolysis', 'ana'...</td>\n",
       "      <td>0.0</td>\n",
       "      <td>1.0</td>\n",
       "    </tr>\n",
       "    <tr>\n",
       "      <th>2</th>\n",
       "      <td>4.0</td>\n",
       "      <td>0.863448</td>\n",
       "      <td>1.0</td>\n",
       "      <td>1.0</td>\n",
       "      <td>['proteinuria', 'joint_involvement', 'anti_car...</td>\n",
       "      <td>0.0</td>\n",
       "      <td>1.0</td>\n",
       "    </tr>\n",
       "    <tr>\n",
       "      <th>3</th>\n",
       "      <td>3.0</td>\n",
       "      <td>-2.088933</td>\n",
       "      <td>0.0</td>\n",
       "      <td>1.0</td>\n",
       "      <td>['proteinuria', 'joint_involvement', 'No lupus']</td>\n",
       "      <td>0.0</td>\n",
       "      <td>0.0</td>\n",
       "    </tr>\n",
       "    <tr>\n",
       "      <th>4</th>\n",
       "      <td>4.0</td>\n",
       "      <td>0.863448</td>\n",
       "      <td>1.0</td>\n",
       "      <td>1.0</td>\n",
       "      <td>['proteinuria', 'joint_involvement', 'anti_car...</td>\n",
       "      <td>0.0</td>\n",
       "      <td>1.0</td>\n",
       "    </tr>\n",
       "  </tbody>\n",
       "</table>\n",
       "</div>"
      ],
      "text/plain": [
       "   episode_length    reward  y_pred  y_actual  \\\n",
       "0             4.0  0.863448     1.0       1.0   \n",
       "1             4.0  0.863448     1.0       1.0   \n",
       "2             4.0  0.863448     1.0       1.0   \n",
       "3             3.0 -2.088933     0.0       1.0   \n",
       "4             4.0  0.863448     1.0       1.0   \n",
       "\n",
       "                                          trajectory  terminated  is_success  \n",
       "0  ['proteinuria', 'joint_involvement', 'anti_car...         0.0         1.0  \n",
       "1  ['proteinuria', 'auto_immune_hemolysis', 'ana'...         0.0         1.0  \n",
       "2  ['proteinuria', 'joint_involvement', 'anti_car...         0.0         1.0  \n",
       "3   ['proteinuria', 'joint_involvement', 'No lupus']         0.0         0.0  \n",
       "4  ['proteinuria', 'joint_involvement', 'anti_car...         0.0         1.0  "
      ]
     },
     "execution_count": 13,
     "metadata": {},
     "output_type": "execute_result"
    }
   ],
   "source": [
    "# test_df = pd.read_csv('../test_dfs/very_simple_datasets/dqn_test_df_8ft_1000000.csv').drop(['index'], axis=1)\n",
    "test_df = pd.read_csv('../test_dfs/negative_reward/missingness_0.5.csv').drop(['index'], axis=1)\n",
    "test_df.head()"
   ]
  },
  {
   "cell_type": "code",
   "execution_count": 14,
   "id": "12904f65",
   "metadata": {},
   "outputs": [],
   "source": [
    "threshold = 0.1*len(test_df)"
   ]
  },
  {
   "cell_type": "code",
   "execution_count": 15,
   "id": "f69d852e",
   "metadata": {},
   "outputs": [
    {
     "data": {
      "text/plain": [
       "14000"
      ]
     },
     "execution_count": 15,
     "metadata": {},
     "output_type": "execute_result"
    }
   ],
   "source": [
    "len(test_df)"
   ]
  },
  {
   "cell_type": "markdown",
   "id": "d2a5d42a",
   "metadata": {},
   "source": [
    "#### Networkx"
   ]
  },
  {
   "cell_type": "code",
   "execution_count": 16,
   "id": "e87ca228",
   "metadata": {},
   "outputs": [
    {
     "name": "stderr",
     "output_type": "stream",
     "text": [
      "/home/lmuyama/anaconda3/envs/stable_baselines_3_env/lib/python3.7/site-packages/networkx/drawing/nx_pylab.py:579: MatplotlibDeprecationWarning:\n",
      "\n",
      "\n",
      "The iterable function was deprecated in Matplotlib 3.1 and will be removed in 3.3. Use np.iterable instead.\n",
      "\n",
      "/home/lmuyama/anaconda3/envs/stable_baselines_3_env/lib/python3.7/site-packages/networkx/drawing/nx_pylab.py:676: MatplotlibDeprecationWarning:\n",
      "\n",
      "\n",
      "The iterable function was deprecated in Matplotlib 3.1 and will be removed in 3.3. Use np.iterable instead.\n",
      "\n"
     ]
    },
    {
     "data": {
      "image/png": "[encoded data removed]",
      "text/plain": [
       "<Figure size 640x480 with 1 Axes>"
      ]
     },
     "metadata": {},
     "output_type": "display_data"
    }
   ],
   "source": [
    "G = draw_networkx_graph(test_df)"
   ]
  },
  {
   "cell_type": "markdown",
   "id": "6aa0b414",
   "metadata": {},
   "source": [
    "#### Pyvis"
   ]
  },
  {
   "cell_type": "code",
   "execution_count": 17,
   "id": "11ab0a59",
   "metadata": {},
   "outputs": [
    {
     "data": {
      "text/html": [
       "\n",
       "        <iframe\n",
       "            width=\"100%\"\n",
       "            height=\"500px\"\n",
       "            src=\"example.html\"\n",
       "            frameborder=\"0\"\n",
       "            allowfullscreen\n",
       "            \n",
       "        ></iframe>\n",
       "        "
      ],
      "text/plain": [
       "<IPython.lib.display.IFrame at 0x7f7eaef9fd90>"
      ]
     },
     "execution_count": 17,
     "metadata": {},
     "output_type": "execute_result"
    }
   ],
   "source": [
    "net = Network('500px', directed=True, notebook=True, cdn_resources='in_line')\n",
    "net.from_nx(G)\n",
    "net.show('example.html')"
   ]
  },
  {
   "cell_type": "code",
   "execution_count": 18,
   "id": "ffdda359",
   "metadata": {},
   "outputs": [],
   "source": [
    "pathways_df = create_sankey_df(test_df)\n",
    "pathways_df['type'] = 'directed'\n",
    "start_node = pathways_df.iloc[0]['source']\n",
    "all_nodes = list(set(pathways_df.source.unique().tolist() + pathways_df.target.unique().tolist()))\n",
    "terminal_nodes = list(set(pathways_df[pathways_df.link_type=='terminal'].target))\n",
    "non_terminal_nodes = [i for i in all_nodes if i not in terminal_nodes and i!=start_node]\n",
    "# pathways_df.head()"
   ]
  },
  {
   "cell_type": "code",
   "execution_count": 19,
   "id": "5a0aef2b",
   "metadata": {},
   "outputs": [
    {
     "data": {
      "text/html": [
       "\n",
       "        <iframe\n",
       "            width=\"100%\"\n",
       "            height=\"750px\"\n",
       "            src=\"Example.html\"\n",
       "            frameborder=\"0\"\n",
       "            allowfullscreen\n",
       "            \n",
       "        ></iframe>\n",
       "        "
      ],
      "text/plain": [
       "<IPython.lib.display.IFrame at 0x7f7eaef807d0>"
      ]
     },
     "execution_count": 19,
     "metadata": {},
     "output_type": "execute_result"
    }
   ],
   "source": [
    "got_net = Network(notebook=True, height='750px', width='100%', directed=True, cdn_resources='in_line')\n",
    "got_net.add_node(start_node, color='purple', size=20)\n",
    "got_net.add_nodes(non_terminal_nodes, size=[15]*len(non_terminal_nodes), color=['blue']*len(non_terminal_nodes))\n",
    "got_net.add_nodes(terminal_nodes, color=['green']*len(terminal_nodes), size=[20]*len(terminal_nodes)) #labelHighlightBold=[True]*len(terminal_nodes))\n",
    "\n",
    "for src, target, value in zip(pathways_df.source, pathways_df.target, pathways_df.value):\n",
    "    if value > threshold:\n",
    "        got_net.add_edge(src, target, value=value, color='red')\n",
    "    else:\n",
    "        got_net.add_edge(src, target, value=value, color='blue')\n",
    "    \n",
    "got_net.show('Example.html')"
   ]
  },
  {
   "cell_type": "markdown",
   "id": "d6707bde",
   "metadata": {},
   "source": [
    "#### Sankey diagram"
   ]
  },
  {
   "cell_type": "code",
   "execution_count": 159,
   "id": "f9d5d67d",
   "metadata": {},
   "outputs": [],
   "source": [
    "# draw_sankey_diagram_orig(test_df, 'Target pathways', save=True, filename='../pathways/noisiness/0.4')"
   ]
  },
  {
   "cell_type": "markdown",
   "id": "68be2947",
   "metadata": {},
   "source": [
    "#### Just trying more stuff"
   ]
  },
  {
   "cell_type": "code",
   "execution_count": 93,
   "id": "a37c5f52",
   "metadata": {},
   "outputs": [
    {
     "ename": "AssertionError",
     "evalue": "non existent node 'joint_involvement'",
     "output_type": "error",
     "traceback": [
      "\u001b[0;31m---------------------------------------------------------------------------\u001b[0m",
      "\u001b[0;31mAssertionError\u001b[0m                            Traceback (most recent call last)",
      "\u001b[0;32m/tmp/ipykernel_27601/3464941388.py\u001b[0m in \u001b[0;36m<module>\u001b[0;34m\u001b[0m\n\u001b[1;32m     18\u001b[0m \u001b[0;32mfor\u001b[0m \u001b[0msrc\u001b[0m\u001b[0;34m,\u001b[0m \u001b[0mdst\u001b[0m\u001b[0;34m,\u001b[0m \u001b[0mval\u001b[0m\u001b[0;34m,\u001b[0m \u001b[0mlink_type\u001b[0m \u001b[0;32min\u001b[0m \u001b[0medge_data\u001b[0m\u001b[0;34m:\u001b[0m\u001b[0;34m\u001b[0m\u001b[0;34m\u001b[0m\u001b[0m\n\u001b[1;32m     19\u001b[0m     \u001b[0mgot_net\u001b[0m\u001b[0;34m.\u001b[0m\u001b[0madd_node\u001b[0m\u001b[0;34m(\u001b[0m\u001b[0msrc\u001b[0m\u001b[0;34m,\u001b[0m \u001b[0mlabel\u001b[0m\u001b[0;34m=\u001b[0m\u001b[0msrc\u001b[0m\u001b[0;34m,\u001b[0m \u001b[0mtitle\u001b[0m\u001b[0;34m=\u001b[0m\u001b[0msrc\u001b[0m\u001b[0;34m,\u001b[0m \u001b[0mcolor\u001b[0m\u001b[0;34m=\u001b[0m\u001b[0;34m'blue'\u001b[0m\u001b[0;34m)\u001b[0m\u001b[0;34m\u001b[0m\u001b[0;34m\u001b[0m\u001b[0m\n\u001b[0;32m---> 20\u001b[0;31m     \u001b[0mgot_net\u001b[0m\u001b[0;34m.\u001b[0m\u001b[0madd_edge\u001b[0m\u001b[0;34m(\u001b[0m\u001b[0msrc\u001b[0m\u001b[0;34m,\u001b[0m \u001b[0mdst\u001b[0m\u001b[0;34m,\u001b[0m \u001b[0mvalue\u001b[0m\u001b[0;34m=\u001b[0m\u001b[0mval\u001b[0m\u001b[0;34m)\u001b[0m\u001b[0;34m\u001b[0m\u001b[0;34m\u001b[0m\u001b[0m\n\u001b[0m\u001b[1;32m     21\u001b[0m \u001b[0;31m#     if link_type == 'terminal':\u001b[0m\u001b[0;34m\u001b[0m\u001b[0;34m\u001b[0m\u001b[0;34m\u001b[0m\u001b[0m\n\u001b[1;32m     22\u001b[0m \u001b[0;31m#         got_net.add_node(dst, label=dst, title=dst, color='green')\u001b[0m\u001b[0;34m\u001b[0m\u001b[0;34m\u001b[0m\u001b[0;34m\u001b[0m\u001b[0m\n",
      "\u001b[0;32m~/anaconda3/envs/stable_baselines_3_env/lib/python3.7/site-packages/pyvis/network.py\u001b[0m in \u001b[0;36madd_edge\u001b[0;34m(self, source, to, **options)\u001b[0m\n\u001b[1;32m    368\u001b[0m \u001b[0;34m\u001b[0m\u001b[0m\n\u001b[1;32m    369\u001b[0m         \u001b[0;32massert\u001b[0m \u001b[0mto\u001b[0m \u001b[0;32min\u001b[0m \u001b[0mself\u001b[0m\u001b[0;34m.\u001b[0m\u001b[0mget_nodes\u001b[0m\u001b[0;34m(\u001b[0m\u001b[0;34m)\u001b[0m\u001b[0;34m,\u001b[0m\u001b[0;31m \u001b[0m\u001b[0;31m\\\u001b[0m\u001b[0;34m\u001b[0m\u001b[0;34m\u001b[0m\u001b[0m\n\u001b[0;32m--> 370\u001b[0;31m             \u001b[0;34m\"non existent node '\"\u001b[0m \u001b[0;34m+\u001b[0m \u001b[0mstr\u001b[0m\u001b[0;34m(\u001b[0m\u001b[0mto\u001b[0m\u001b[0;34m)\u001b[0m \u001b[0;34m+\u001b[0m \u001b[0;34m\"'\"\u001b[0m\u001b[0;34m\u001b[0m\u001b[0;34m\u001b[0m\u001b[0m\n\u001b[0m\u001b[1;32m    371\u001b[0m \u001b[0;34m\u001b[0m\u001b[0m\n\u001b[1;32m    372\u001b[0m         \u001b[0;31m# we only check existing edge for undirected graphs\u001b[0m\u001b[0;34m\u001b[0m\u001b[0;34m\u001b[0m\u001b[0;34m\u001b[0m\u001b[0m\n",
      "\u001b[0;31mAssertionError\u001b[0m: non existent node 'joint_involvement'"
     ]
    }
   ],
   "source": [
    "got_net = Network(notebook=True, height='750px', width='100%', directed=True, cdn_resources='in_line')\n",
    "\n",
    "# net = Network('500px', directed=True, notebook=True, cdn_resources='in_line')\n",
    "# net.from_nx(G)\n",
    "# net.show('example.html')\n",
    "\n",
    "# set the physics layout of the network\n",
    "got_net.barnes_hut()\n",
    "\n",
    "sources = pathways_df['source']\n",
    "targets = pathways_df['target']\n",
    "values = pathways_df['value']\n",
    "types = pathways_df['link_type']\n",
    "\n",
    "\n",
    "\n",
    "got.add_nodes([1, 2, 3], size=[2, 4, 6], title=[\"n1\", \"n2\", \"n3\"])\n",
    "\n",
    "# create graph using pviz network \n",
    "edge_data = zip(sources, targets, values, types)\n",
    "\n",
    "for src, dst, val, link_type in edge_data:\n",
    "    if link_type == 'non_terminal':\n",
    "        got_net.add_node(dst, label=dst, title=dst, color='green')\n",
    "    else:\n",
    "    got_net.add_node(src, label=src, title=src, color='blue')\n",
    "#     got_net.add_edge(src, dst, value=val)\n",
    "#     if link_type == 'terminal':\n",
    "#         got_net.add_node(dst, label=dst, title=dst, color='green')\n",
    "#     else:\n",
    "#         got_net.add_node(dst, dst, title=dst, color='blue')\n",
    "\n",
    "#     got_net.add_edge(src, dst, value=val)\n",
    "got_net.show('Example.html')"
   ]
  },
  {
   "cell_type": "code",
   "execution_count": 17,
   "id": "ac405e05",
   "metadata": {},
   "outputs": [
    {
     "name": "stderr",
     "output_type": "stream",
     "text": [
      "/home/lmuyama/anaconda3/envs/stable_baselines_3_env/lib/python3.7/site-packages/nxviz/__init__.py:29: UserWarning:\n",
      "\n",
      "\n",
      "nxviz has a new API! Version 0.7.4 onwards, the old class-based API is being\n",
      "deprecated in favour of a new API focused on advancing a grammar of network\n",
      "graphics. If your plotting code depends on the old API, please consider\n",
      "pinning nxviz at version 0.7.4, as the new API will break your old code.\n",
      "\n",
      "To check out the new API, please head over to the docs at\n",
      "https://ericmjl.github.io/nxviz/ to learn more. We hope you enjoy using it!\n",
      "\n",
      "(This deprecation message will go away in version 1.0.)\n",
      "\n",
      "\n"
     ]
    }
   ],
   "source": [
    "import nxviz as nv                 # network viz\n",
    "from nxviz import annotate "
   ]
  },
  {
   "cell_type": "code",
   "execution_count": 18,
   "id": "498b2002",
   "metadata": {},
   "outputs": [
    {
     "data": {
      "text/html": [
       "<div>\n",
       "<style scoped>\n",
       "    .dataframe tbody tr th:only-of-type {\n",
       "        vertical-align: middle;\n",
       "    }\n",
       "\n",
       "    .dataframe tbody tr th {\n",
       "        vertical-align: top;\n",
       "    }\n",
       "\n",
       "    .dataframe thead th {\n",
       "        text-align: right;\n",
       "    }\n",
       "</style>\n",
       "<table border=\"1\" class=\"dataframe\">\n",
       "  <thead>\n",
       "    <tr style=\"text-align: right;\">\n",
       "      <th></th>\n",
       "      <th>source</th>\n",
       "      <th>target</th>\n",
       "      <th>value</th>\n",
       "      <th>link_type</th>\n",
       "    </tr>\n",
       "  </thead>\n",
       "  <tbody>\n",
       "    <tr>\n",
       "      <th>0</th>\n",
       "      <td>cutaneous_lupus</td>\n",
       "      <td>low_c4</td>\n",
       "      <td>13929</td>\n",
       "      <td>non_terminal</td>\n",
       "    </tr>\n",
       "    <tr>\n",
       "      <th>1</th>\n",
       "      <td>low_c4</td>\n",
       "      <td>anti_dsdna_antibody</td>\n",
       "      <td>13813</td>\n",
       "      <td>non_terminal</td>\n",
       "    </tr>\n",
       "    <tr>\n",
       "      <th>2</th>\n",
       "      <td>anti_dsdna_antibody</td>\n",
       "      <td>pericardial_effusion</td>\n",
       "      <td>13599</td>\n",
       "      <td>non_terminal</td>\n",
       "    </tr>\n",
       "    <tr>\n",
       "      <th>3</th>\n",
       "      <td>pericardial_effusion</td>\n",
       "      <td>ana</td>\n",
       "      <td>13542</td>\n",
       "      <td>non_terminal</td>\n",
       "    </tr>\n",
       "    <tr>\n",
       "      <th>4</th>\n",
       "      <td>ana</td>\n",
       "      <td>thrombocytopenia</td>\n",
       "      <td>13524</td>\n",
       "      <td>non_terminal</td>\n",
       "    </tr>\n",
       "  </tbody>\n",
       "</table>\n",
       "</div>"
      ],
      "text/plain": [
       "                 source                target  value     link_type\n",
       "0       cutaneous_lupus                low_c4  13929  non_terminal\n",
       "1                low_c4   anti_dsdna_antibody  13813  non_terminal\n",
       "2   anti_dsdna_antibody  pericardial_effusion  13599  non_terminal\n",
       "3  pericardial_effusion                   ana  13542  non_terminal\n",
       "4                   ana      thrombocytopenia  13524  non_terminal"
      ]
     },
     "execution_count": 18,
     "metadata": {},
     "output_type": "execute_result"
    }
   ],
   "source": [
    "trial_df = create_sankey_df(test_df)\n",
    "trial_df.head()"
   ]
  },
  {
   "cell_type": "code",
   "execution_count": 19,
   "id": "ad9c0482",
   "metadata": {},
   "outputs": [
    {
     "data": {
      "text/plain": [
       "array(['cutaneous_lupus', 'low_c4', 'anti_dsdna_antibody',\n",
       "       'pericardial_effusion', 'ana', 'thrombocytopenia', 'leukopenia',\n",
       "       'fever', 'oral_ulcers', 'delirium', 'lupus_anti_coagulant',\n",
       "       'joint_involvement', 'proteinuria', 'pleural_effusion',\n",
       "       'acute_pericarditis', 'seizure', 'non_scarring_alopecia',\n",
       "       'anti_β2gp1_antibodies', 'low_c3', 'auto_immune_hemolysis',\n",
       "       'psychosis', 'anti_cardioliphin_antibodies', 'anti_smith_antibody'],\n",
       "      dtype=object)"
      ]
     },
     "execution_count": 19,
     "metadata": {},
     "output_type": "execute_result"
    }
   ],
   "source": [
    "trial_df.source.unique()"
   ]
  },
  {
   "cell_type": "code",
   "execution_count": 20,
   "id": "2a7f7d0c",
   "metadata": {},
   "outputs": [
    {
     "data": {
      "text/html": [
       "<div>\n",
       "<style scoped>\n",
       "    .dataframe tbody tr th:only-of-type {\n",
       "        vertical-align: middle;\n",
       "    }\n",
       "\n",
       "    .dataframe tbody tr th {\n",
       "        vertical-align: top;\n",
       "    }\n",
       "\n",
       "    .dataframe thead th {\n",
       "        text-align: right;\n",
       "    }\n",
       "</style>\n",
       "<table border=\"1\" class=\"dataframe\">\n",
       "  <thead>\n",
       "    <tr style=\"text-align: right;\">\n",
       "      <th></th>\n",
       "      <th>Label</th>\n",
       "      <th>Domain</th>\n",
       "    </tr>\n",
       "  </thead>\n",
       "  <tbody>\n",
       "    <tr>\n",
       "      <th>0</th>\n",
       "      <td>fever</td>\n",
       "      <td>constitutional</td>\n",
       "    </tr>\n",
       "    <tr>\n",
       "      <th>1</th>\n",
       "      <td>leukopenia</td>\n",
       "      <td>hematalogic</td>\n",
       "    </tr>\n",
       "    <tr>\n",
       "      <th>2</th>\n",
       "      <td>thrombocytopenia</td>\n",
       "      <td>hematalogic</td>\n",
       "    </tr>\n",
       "    <tr>\n",
       "      <th>3</th>\n",
       "      <td>auto_immune_hemolysis</td>\n",
       "      <td>hematalogic</td>\n",
       "    </tr>\n",
       "    <tr>\n",
       "      <th>4</th>\n",
       "      <td>delirium</td>\n",
       "      <td>neuropsychiatric</td>\n",
       "    </tr>\n",
       "  </tbody>\n",
       "</table>\n",
       "</div>"
      ],
      "text/plain": [
       "                   Label            Domain\n",
       "0                  fever    constitutional\n",
       "1             leukopenia       hematalogic\n",
       "2       thrombocytopenia       hematalogic\n",
       "3  auto_immune_hemolysis       hematalogic\n",
       "4               delirium  neuropsychiatric"
      ]
     },
     "execution_count": 20,
     "metadata": {},
     "output_type": "execute_result"
    }
   ],
   "source": [
    "attributes = pd.DataFrame([{'Label':'fever','Domain':'constitutional'}, \n",
    "                           {'Label':'leukopenia','Domain':'hematalogic'},\n",
    "                           {'Label':'thrombocytopenia','Domain':'hematalogic'}, \n",
    "                           {'Label':'auto_immune_hemolysis','Domain':'hematalogic'},\n",
    "                           {'Label':'delirium','Domain':'neuropsychiatric'}, \n",
    "                           {'Label':'psychosis','Domain':'neuropsychiatric'},\n",
    "                           {'Label':'seizure','Domain':'neuropsychiatric'},\n",
    "                           {'Label':'non_scarring_alopecia','Domain':'mucocutaneous'},\n",
    "                           {'Label':'oral_ulcers','Domain':'mucocutaneous'},\n",
    "                           {'Label':'cutaneous_lupus','Domain':'mucocutaneous'},\n",
    "                           {'Label':'pleural_effusion','Domain':'serosal'},\n",
    "                           {'Label':'pericardial_effusion','Domain':'serosal'},\n",
    "                           {'Label':'acute_pericarditis','Domain':'serosal'},\n",
    "                           {'Label':'joint_involvement','Domain':'musculoskeletal'},\n",
    "                           {'Label':'proteinuria','Domain':'renal'},\n",
    "                           {'Label':'anti_cardioliphin_antibodies','Domain':'antiphospholipid_antibodies'},\n",
    "                           {'Label':'anti_β2gp1_antibodies','Domain':'antiphospholipid_antibodies'},\n",
    "                           {'Label':'lupus_anti_coagulant','Domain':'antiphospholipid_antibodies'},\n",
    "                           {'Label':'low_c3','Domain':'complement_proteins'},\n",
    "                           {'Label':'low_c4','Domain':'complement_proteins'},\n",
    "                           {'Label':'anti_smith_antibody','Domain':'sle_specific_antibodies'},\n",
    "                           {'Label':'anti_dsdna_antibody','Domain':'sle_specific_antibodies'},\n",
    "                           {'Label':'ana','Domain':'its own'}])\n",
    "attributes.head()"
   ]
  },
  {
   "cell_type": "code",
   "execution_count": 21,
   "id": "d4177315",
   "metadata": {},
   "outputs": [
    {
     "data": {
      "text/plain": [
       "23"
      ]
     },
     "execution_count": 21,
     "metadata": {},
     "output_type": "execute_result"
    }
   ],
   "source": [
    "len(attributes)"
   ]
  },
  {
   "cell_type": "code",
   "execution_count": 22,
   "id": "ef523a27",
   "metadata": {},
   "outputs": [
    {
     "data": {
      "text/html": [
       "<div>\n",
       "<style scoped>\n",
       "    .dataframe tbody tr th:only-of-type {\n",
       "        vertical-align: middle;\n",
       "    }\n",
       "\n",
       "    .dataframe tbody tr th {\n",
       "        vertical-align: top;\n",
       "    }\n",
       "\n",
       "    .dataframe thead th {\n",
       "        text-align: right;\n",
       "    }\n",
       "</style>\n",
       "<table border=\"1\" class=\"dataframe\">\n",
       "  <thead>\n",
       "    <tr style=\"text-align: right;\">\n",
       "      <th></th>\n",
       "      <th>Label</th>\n",
       "      <th>Domain</th>\n",
       "    </tr>\n",
       "  </thead>\n",
       "  <tbody>\n",
       "    <tr>\n",
       "      <th>0</th>\n",
       "      <td>fever</td>\n",
       "      <td>constitutional</td>\n",
       "    </tr>\n",
       "    <tr>\n",
       "      <th>1</th>\n",
       "      <td>leukopenia</td>\n",
       "      <td>constitutional</td>\n",
       "    </tr>\n",
       "    <tr>\n",
       "      <th>2</th>\n",
       "      <td>thrombocytopenia</td>\n",
       "      <td>constitutional</td>\n",
       "    </tr>\n",
       "    <tr>\n",
       "      <th>3</th>\n",
       "      <td>auto_immune_hemolysis</td>\n",
       "      <td>constitutional</td>\n",
       "    </tr>\n",
       "    <tr>\n",
       "      <th>4</th>\n",
       "      <td>delirium</td>\n",
       "      <td>constitutional</td>\n",
       "    </tr>\n",
       "  </tbody>\n",
       "</table>\n",
       "</div>"
      ],
      "text/plain": [
       "                   Label          Domain\n",
       "0                  fever  constitutional\n",
       "1             leukopenia  constitutional\n",
       "2       thrombocytopenia  constitutional\n",
       "3  auto_immune_hemolysis  constitutional\n",
       "4               delirium  constitutional"
      ]
     },
     "execution_count": 22,
     "metadata": {},
     "output_type": "execute_result"
    }
   ],
   "source": [
    "attributes['Domain'] = ['constitutional']*12 + ['hematalogic']*11\n",
    "attributes.head()"
   ]
  },
  {
   "cell_type": "code",
   "execution_count": 23,
   "id": "e7242386",
   "metadata": {},
   "outputs": [],
   "source": [
    "G = nx.from_pandas_edgelist(trial_df, source='source', target='target',edge_attr='value')\n",
    "node_attr = attributes.set_index('Label').to_dict('index')\n",
    "nx.set_node_attributes(G, node_attr)"
   ]
  },
  {
   "cell_type": "code",
   "execution_count": 24,
   "id": "1ec51674",
   "metadata": {},
   "outputs": [
    {
     "ename": "TypeError",
     "evalue": "'<' not supported between instances of 'float' and 'str'",
     "output_type": "error",
     "traceback": [
      "\u001b[0;31m---------------------------------------------------------------------------\u001b[0m",
      "\u001b[0;31mTypeError\u001b[0m                                 Traceback (most recent call last)",
      "\u001b[0;32m/tmp/ipykernel_244842/4279130165.py\u001b[0m in \u001b[0;36m<module>\u001b[0;34m\u001b[0m\n\u001b[0;32m----> 1\u001b[0;31m \u001b[0mnv\u001b[0m\u001b[0;34m.\u001b[0m\u001b[0mhive\u001b[0m\u001b[0;34m(\u001b[0m\u001b[0mG\u001b[0m\u001b[0;34m,\u001b[0m \u001b[0mgroup_by\u001b[0m\u001b[0;34m=\u001b[0m\u001b[0;34m'Domain'\u001b[0m\u001b[0;34m)\u001b[0m\u001b[0;31m#, sort_by='Domain',node_color_by='Domain')\u001b[0m\u001b[0;34m\u001b[0m\u001b[0;34m\u001b[0m\u001b[0m\n\u001b[0m\u001b[1;32m      2\u001b[0m \u001b[0;31m# annotate.node_colormapping(G, color_by='Domain')\u001b[0m\u001b[0;34m\u001b[0m\u001b[0;34m\u001b[0m\u001b[0;34m\u001b[0m\u001b[0m\n\u001b[1;32m      3\u001b[0m \u001b[0mplt\u001b[0m\u001b[0;34m.\u001b[0m\u001b[0mshow\u001b[0m\u001b[0;34m(\u001b[0m\u001b[0;34m)\u001b[0m\u001b[0;34m\u001b[0m\u001b[0;34m\u001b[0m\u001b[0m\n",
      "\u001b[0;32m~/anaconda3/envs/stable_baselines_3_env/lib/python3.7/site-packages/nxviz/api.py\u001b[0m in \u001b[0;36mbase_cloned\u001b[0;34m(G, node_layout_func, edge_line_func, group_by, sort_by, node_color_by, node_alpha_by, node_size_by, node_enc_kwargs, edge_color_by, edge_lw_by, edge_alpha_by, edge_enc_kwargs, node_layout_kwargs, edge_line_kwargs, cloned_node_layout_kwargs)\u001b[0m\n\u001b[1;32m    186\u001b[0m         \u001b[0malpha_by\u001b[0m\u001b[0;34m=\u001b[0m\u001b[0mnode_alpha_by\u001b[0m\u001b[0;34m,\u001b[0m\u001b[0;34m\u001b[0m\u001b[0;34m\u001b[0m\u001b[0m\n\u001b[1;32m    187\u001b[0m         \u001b[0mencodings_kwargs\u001b[0m\u001b[0;34m=\u001b[0m\u001b[0mnode_enc_kwargs\u001b[0m\u001b[0;34m,\u001b[0m\u001b[0;34m\u001b[0m\u001b[0;34m\u001b[0m\u001b[0m\n\u001b[0;32m--> 188\u001b[0;31m         \u001b[0mlayout_kwargs\u001b[0m\u001b[0;34m=\u001b[0m\u001b[0mnode_layout_kwargs\u001b[0m\u001b[0;34m,\u001b[0m\u001b[0;34m\u001b[0m\u001b[0;34m\u001b[0m\u001b[0m\n\u001b[0m\u001b[1;32m    189\u001b[0m     )\n\u001b[1;32m    190\u001b[0m     pos_cloned = node_layout_func(\n",
      "\u001b[0;32m~/anaconda3/envs/stable_baselines_3_env/lib/python3.7/site-packages/nxviz/nodes.py\u001b[0m in \u001b[0;36mdraw\u001b[0;34m(G, layout_func, group_by, sort_by, color_by, alpha_by, size_by, layout_kwargs, encodings_kwargs, rescale_func, ax)\u001b[0m\n\u001b[1;32m    109\u001b[0m         \u001b[0max\u001b[0m \u001b[0;34m=\u001b[0m \u001b[0mplt\u001b[0m\u001b[0;34m.\u001b[0m\u001b[0mgca\u001b[0m\u001b[0;34m(\u001b[0m\u001b[0;34m)\u001b[0m\u001b[0;34m\u001b[0m\u001b[0;34m\u001b[0m\u001b[0m\n\u001b[1;32m    110\u001b[0m     \u001b[0mnt\u001b[0m \u001b[0;34m=\u001b[0m \u001b[0mnode_table\u001b[0m\u001b[0;34m(\u001b[0m\u001b[0mG\u001b[0m\u001b[0;34m)\u001b[0m\u001b[0;34m\u001b[0m\u001b[0;34m\u001b[0m\u001b[0m\n\u001b[0;32m--> 111\u001b[0;31m     \u001b[0mpos\u001b[0m \u001b[0;34m=\u001b[0m \u001b[0mlayout_func\u001b[0m\u001b[0;34m(\u001b[0m\u001b[0mnt\u001b[0m\u001b[0;34m,\u001b[0m \u001b[0mgroup_by\u001b[0m\u001b[0;34m,\u001b[0m \u001b[0msort_by\u001b[0m\u001b[0;34m,\u001b[0m \u001b[0;34m**\u001b[0m\u001b[0mlayout_kwargs\u001b[0m\u001b[0;34m)\u001b[0m\u001b[0;34m\u001b[0m\u001b[0;34m\u001b[0m\u001b[0m\n\u001b[0m\u001b[1;32m    112\u001b[0m     \u001b[0mnode_color\u001b[0m \u001b[0;34m=\u001b[0m \u001b[0mnode_colors\u001b[0m\u001b[0;34m(\u001b[0m\u001b[0mnt\u001b[0m\u001b[0;34m,\u001b[0m \u001b[0mcolor_by\u001b[0m\u001b[0;34m)\u001b[0m\u001b[0;34m\u001b[0m\u001b[0;34m\u001b[0m\u001b[0m\n\u001b[1;32m    113\u001b[0m \u001b[0;34m\u001b[0m\u001b[0m\n",
      "\u001b[0;32m~/anaconda3/envs/stable_baselines_3_env/lib/python3.7/site-packages/nxviz/layouts.py\u001b[0m in \u001b[0;36mhive\u001b[0;34m(nt, group_by, sort_by, inner_radius, rotation)\u001b[0m\n\u001b[1;32m     68\u001b[0m     \"\"\"\n\u001b[1;32m     69\u001b[0m     \u001b[0mnt\u001b[0m \u001b[0;34m=\u001b[0m \u001b[0mgroup_and_sort\u001b[0m\u001b[0;34m(\u001b[0m\u001b[0mnt\u001b[0m\u001b[0;34m,\u001b[0m \u001b[0mgroup_by\u001b[0m\u001b[0;34m=\u001b[0m\u001b[0mgroup_by\u001b[0m\u001b[0;34m,\u001b[0m \u001b[0msort_by\u001b[0m\u001b[0;34m=\u001b[0m\u001b[0msort_by\u001b[0m\u001b[0;34m)\u001b[0m\u001b[0;34m\u001b[0m\u001b[0;34m\u001b[0m\u001b[0m\n\u001b[0;32m---> 70\u001b[0;31m     \u001b[0mgroups\u001b[0m \u001b[0;34m=\u001b[0m \u001b[0msorted\u001b[0m\u001b[0;34m(\u001b[0m\u001b[0mnt\u001b[0m\u001b[0;34m[\u001b[0m\u001b[0mgroup_by\u001b[0m\u001b[0;34m]\u001b[0m\u001b[0;34m.\u001b[0m\u001b[0munique\u001b[0m\u001b[0;34m(\u001b[0m\u001b[0;34m)\u001b[0m\u001b[0;34m)\u001b[0m\u001b[0;34m\u001b[0m\u001b[0;34m\u001b[0m\u001b[0m\n\u001b[0m\u001b[1;32m     71\u001b[0m     \u001b[0;32mif\u001b[0m \u001b[0mlen\u001b[0m\u001b[0;34m(\u001b[0m\u001b[0mgroups\u001b[0m\u001b[0;34m)\u001b[0m \u001b[0;34m>\u001b[0m \u001b[0;36m3\u001b[0m\u001b[0;34m:\u001b[0m\u001b[0;34m\u001b[0m\u001b[0;34m\u001b[0m\u001b[0m\n\u001b[1;32m     72\u001b[0m         raise ValueError(\n",
      "\u001b[0;31mTypeError\u001b[0m: '<' not supported between instances of 'float' and 'str'"
     ]
    },
    {
     "data": {
      "image/png": "[encoded data removed]",
      "text/plain": [
       "<Figure size 640x480 with 1 Axes>"
      ]
     },
     "metadata": {},
     "output_type": "display_data"
    }
   ],
   "source": [
    "nv.hive(G, group_by='Domain')#, sort_by='Domain',node_color_by='Domain')\n",
    "# annotate.node_colormapping(G, color_by='Domain')\n",
    "plt.show()"
   ]
  },
  {
   "cell_type": "code",
   "execution_count": null,
   "id": "5913fd38",
   "metadata": {},
   "outputs": [],
   "source": []
  },
  {
   "cell_type": "code",
   "execution_count": null,
   "id": "863e67ad",
   "metadata": {},
   "outputs": [],
   "source": []
  },
  {
   "cell_type": "code",
   "execution_count": null,
   "id": "90884149",
   "metadata": {},
   "outputs": [],
   "source": [
    "# target_df['trajectory'] = target_df['trajectory'].apply(lambda row: ast.literal_eval(row))\n",
    "# target_df.head()"
   ]
  },
  {
   "cell_type": "code",
   "execution_count": null,
   "id": "0a2e3126",
   "metadata": {},
   "outputs": [],
   "source": [
    "type(target_df.iloc[0].trajectory)"
   ]
  },
  {
   "cell_type": "code",
   "execution_count": null,
   "id": "dec935d6",
   "metadata": {},
   "outputs": [],
   "source": []
  },
  {
   "cell_type": "code",
   "execution_count": null,
   "id": "66f76460",
   "metadata": {},
   "outputs": [],
   "source": [
    "frequency_dict"
   ]
  },
  {
   "cell_type": "code",
   "execution_count": null,
   "id": "2b58f33c",
   "metadata": {},
   "outputs": [],
   "source": [
    "# def get_dict(path_set, target_list):\n",
    "#     for path_dict in target_list:\n",
    "#         if path_dict['set'] == path_set:\n",
    "#             path_dict['value'] += path_set['value']\n",
    "#             return path_dict"
   ]
  },
  {
   "cell_type": "code",
   "execution_count": null,
   "id": "460efe91",
   "metadata": {},
   "outputs": [],
   "source": [
    "frequency_dict_list = [] #will hold dictonaries with 2 keys i.e. 'set' and 'value'\n",
    "count = 0\n",
    "for path_dict, value in frequency_dict.items():\n",
    "    all_set_list = [i['set'] for i in frequency_dict_list] #get all the sets so far in the list \n",
    "    path_set = set(ast.literal_eval(path_dict)) #get the set of current path dict to check if its already in list\n",
    "    if path_set in all_set_list: #increase value else insert it - work on this!!!!!!!!!!!!!!!\n",
    "        for elem in frequency_dict_list: #look for if path_set is already in frequency_dict_list \n",
    "            if elem['set'] == path_set: #find the matching path_set in the frequency_dict_list\n",
    "                elem['value'] += value #increase the value for that set\n",
    "    else:\n",
    "        frequency_dict_list.append({'set':path_set, 'value':value})\n",
    "frequency_dict_list[0]"
   ]
  },
  {
   "cell_type": "code",
   "execution_count": null,
   "id": "aa51eabb",
   "metadata": {},
   "outputs": [],
   "source": [
    "all_list = [list(path_dict['set']) for path_dict in frequency_dict_list]\n",
    "flat_list = [item for sublist in all_list for item in sublist]\n",
    "commonest_elements = dict(collections.Counter(flat_list))\n",
    "commonest_elements = {k: v for k, v in sorted(commonest_elements.items(), reverse=True, key=lambda item: item[1])}\n",
    "commonest_elements_list = list(commonest_elements.keys())\n",
    "commonest_elements_list = [i for i in commonest_elements_list if i not in ['Lupus', 'No lupus']] + ['Lupus', 'No lupus']\n",
    "commonest_elements_list"
   ]
  },
  {
   "cell_type": "code",
   "execution_count": null,
   "id": "129f235c",
   "metadata": {},
   "outputs": [],
   "source": [
    "for item in frequency_dict_list:\n",
    "    item['set'] = sorted(list(item['set']), key=lambda x: commonest_elements_list.index(x))\n",
    "frequency_dict_list[0]"
   ]
  },
  {
   "cell_type": "code",
   "execution_count": null,
   "id": "af646c74",
   "metadata": {},
   "outputs": [],
   "source": [
    "keys = [str(i['set']) for i in frequency_dict_list]\n",
    "values = [i['value'] for i in frequency_dict_list]\n",
    "final_frequency_dict = {k:v for (k,v) in zip(keys, values)}\n",
    "final_frequency_dict"
   ]
  },
  {
   "cell_type": "markdown",
   "id": "d1f81207",
   "metadata": {},
   "source": [
    "#### delete from here"
   ]
  },
  {
   "cell_type": "code",
   "execution_count": null,
   "id": "2c06ccea",
   "metadata": {},
   "outputs": [],
   "source": [
    "frequency_dict = {}\n",
    "for traj in target_df.trajectory:\n",
    "    if traj in frequency_dict.keys():\n",
    "        frequency_dict[traj] += 1\n",
    "    else:\n",
    "        frequency_dict[traj] = 1\n",
    "frequency_dict"
   ]
  },
  {
   "cell_type": "code",
   "execution_count": null,
   "id": "53d18e58",
   "metadata": {},
   "outputs": [],
   "source": []
  },
  {
   "cell_type": "code",
   "execution_count": null,
   "id": "4b420c32",
   "metadata": {},
   "outputs": [],
   "source": []
  },
  {
   "cell_type": "markdown",
   "id": "132036cf",
   "metadata": {},
   "source": [
    "#### end here"
   ]
  },
  {
   "cell_type": "code",
   "execution_count": null,
   "id": "5e0ea546",
   "metadata": {},
   "outputs": [],
   "source": [
    "frequency_dict_list = []\n",
    "all_set_list = [i['set'] for i in frequency_dict_list]\n",
    "all_set_list"
   ]
  },
  {
   "cell_type": "code",
   "execution_count": null,
   "id": "54fa074b",
   "metadata": {},
   "outputs": [],
   "source": []
  },
  {
   "cell_type": "code",
   "execution_count": null,
   "id": "972848cc",
   "metadata": {},
   "outputs": [],
   "source": []
  },
  {
   "cell_type": "code",
   "execution_count": null,
   "id": "52a0a277",
   "metadata": {},
   "outputs": [],
   "source": [
    "test_df[test_df.episode_length==8].trajectory.value_counts()"
   ]
  },
  {
   "cell_type": "code",
   "execution_count": null,
   "id": "ef30eb0e",
   "metadata": {},
   "outputs": [],
   "source": []
  },
  {
   "cell_type": "code",
   "execution_count": null,
   "id": "04fdfc97",
   "metadata": {},
   "outputs": [],
   "source": [
    "overall_tup_dict = generate_tuple_dict(test_df)\n",
    "overall_tup_dict"
   ]
  },
  {
   "cell_type": "code",
   "execution_count": null,
   "id": "3f81b595",
   "metadata": {},
   "outputs": [],
   "source": [
    "pathways_df = utils.create_sankey_df(test_df)\n",
    "pathways_df.head()"
   ]
  },
  {
   "cell_type": "code",
   "execution_count": null,
   "id": "80753261",
   "metadata": {},
   "outputs": [],
   "source": []
  }
 ],
 "metadata": {
  "kernelspec": {
   "display_name": "Python 3 (ipykernel)",
   "language": "python",
   "name": "python3"
  },
  "language_info": {
   "codemirror_mode": {
    "name": "ipython",
    "version": 3
   },
   "file_extension": ".py",
   "mimetype": "text/x-python",
   "name": "python",
   "nbconvert_exporter": "python",
   "pygments_lexer": "ipython3",
   "version": "3.7.4"
  }
 },
 "nbformat": 4,
 "nbformat_minor": 5
}

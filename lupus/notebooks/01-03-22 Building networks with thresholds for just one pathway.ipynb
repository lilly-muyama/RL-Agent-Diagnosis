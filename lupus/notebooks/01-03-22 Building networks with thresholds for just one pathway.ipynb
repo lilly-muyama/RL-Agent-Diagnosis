{
 "cells": [
  {
   "cell_type": "code",
   "execution_count": 1,
   "id": "26c12ec5",
   "metadata": {},
   "outputs": [],
   "source": [
    "import pandas as pd\n",
    "import numpy as np\n",
    "import ast\n",
    "import math\n",
    "import networkx as nx\n",
    "from pyvis.network import Network\n",
    "import plotly.graph_objects as go\n",
    "import sys\n",
    "sys.path.append('../')\n",
    "from modules import utils, constants"
   ]
  },
  {
   "cell_type": "markdown",
   "id": "d6e38554",
   "metadata": {},
   "source": [
    "#### The data"
   ]
  },
  {
   "cell_type": "code",
   "execution_count": 2,
   "id": "8969536c",
   "metadata": {},
   "outputs": [
    {
     "data": {
      "text/html": [
       "<div>\n",
       "<style scoped>\n",
       "    .dataframe tbody tr th:only-of-type {\n",
       "        vertical-align: middle;\n",
       "    }\n",
       "\n",
       "    .dataframe tbody tr th {\n",
       "        vertical-align: top;\n",
       "    }\n",
       "\n",
       "    .dataframe thead th {\n",
       "        text-align: right;\n",
       "    }\n",
       "</style>\n",
       "<table border=\"1\" class=\"dataframe\">\n",
       "  <thead>\n",
       "    <tr style=\"text-align: right;\">\n",
       "      <th></th>\n",
       "      <th>episode_length</th>\n",
       "      <th>reward</th>\n",
       "      <th>y_pred</th>\n",
       "      <th>y_actual</th>\n",
       "      <th>trajectory</th>\n",
       "      <th>terminated</th>\n",
       "      <th>is_success</th>\n",
       "    </tr>\n",
       "  </thead>\n",
       "  <tbody>\n",
       "    <tr>\n",
       "      <th>0</th>\n",
       "      <td>4.0</td>\n",
       "      <td>0.833333</td>\n",
       "      <td>1.0</td>\n",
       "      <td>1.0</td>\n",
       "      <td>['ana', 'pericardial_effusion', 'cutaneous_lup...</td>\n",
       "      <td>0.0</td>\n",
       "      <td>1.0</td>\n",
       "    </tr>\n",
       "    <tr>\n",
       "      <th>1</th>\n",
       "      <td>13.0</td>\n",
       "      <td>0.333333</td>\n",
       "      <td>1.0</td>\n",
       "      <td>1.0</td>\n",
       "      <td>['ana', 'pericardial_effusion', 'cutaneous_lup...</td>\n",
       "      <td>0.0</td>\n",
       "      <td>1.0</td>\n",
       "    </tr>\n",
       "    <tr>\n",
       "      <th>2</th>\n",
       "      <td>7.0</td>\n",
       "      <td>0.666667</td>\n",
       "      <td>1.0</td>\n",
       "      <td>1.0</td>\n",
       "      <td>['ana', 'pericardial_effusion', 'cutaneous_lup...</td>\n",
       "      <td>0.0</td>\n",
       "      <td>1.0</td>\n",
       "    </tr>\n",
       "    <tr>\n",
       "      <th>3</th>\n",
       "      <td>14.0</td>\n",
       "      <td>0.277778</td>\n",
       "      <td>1.0</td>\n",
       "      <td>1.0</td>\n",
       "      <td>['ana', 'pericardial_effusion', 'cutaneous_lup...</td>\n",
       "      <td>0.0</td>\n",
       "      <td>1.0</td>\n",
       "    </tr>\n",
       "    <tr>\n",
       "      <th>4</th>\n",
       "      <td>7.0</td>\n",
       "      <td>0.666667</td>\n",
       "      <td>1.0</td>\n",
       "      <td>1.0</td>\n",
       "      <td>['ana', 'pericardial_effusion', 'cutaneous_lup...</td>\n",
       "      <td>0.0</td>\n",
       "      <td>1.0</td>\n",
       "    </tr>\n",
       "  </tbody>\n",
       "</table>\n",
       "</div>"
      ],
      "text/plain": [
       "   episode_length    reward  y_pred  y_actual  \\\n",
       "0             4.0  0.833333     1.0       1.0   \n",
       "1            13.0  0.333333     1.0       1.0   \n",
       "2             7.0  0.666667     1.0       1.0   \n",
       "3            14.0  0.277778     1.0       1.0   \n",
       "4             7.0  0.666667     1.0       1.0   \n",
       "\n",
       "                                          trajectory  terminated  is_success  \n",
       "0  ['ana', 'pericardial_effusion', 'cutaneous_lup...         0.0         1.0  \n",
       "1  ['ana', 'pericardial_effusion', 'cutaneous_lup...         0.0         1.0  \n",
       "2  ['ana', 'pericardial_effusion', 'cutaneous_lup...         0.0         1.0  \n",
       "3  ['ana', 'pericardial_effusion', 'cutaneous_lup...         0.0         1.0  \n",
       "4  ['ana', 'pericardial_effusion', 'cutaneous_lup...         0.0         1.0  "
      ]
     },
     "execution_count": 2,
     "metadata": {},
     "output_type": "execute_result"
    }
   ],
   "source": [
    "test_df = pd.read_csv('../test_dfs/negative_reward/step_reward_eighteenth_100m.csv').drop(['index'], axis=1)\n",
    "test_df.head()"
   ]
  },
  {
   "cell_type": "code",
   "execution_count": 3,
   "id": "df4c8657",
   "metadata": {},
   "outputs": [
    {
     "data": {
      "text/plain": [
       "93.25714285714287"
      ]
     },
     "execution_count": 3,
     "metadata": {},
     "output_type": "execute_result"
    }
   ],
   "source": [
    "utils.success_rate(test_df)[0]"
   ]
  },
  {
   "cell_type": "code",
   "execution_count": 4,
   "id": "e154706d",
   "metadata": {},
   "outputs": [
    {
     "data": {
      "text/html": [
       "<div>\n",
       "<style scoped>\n",
       "    .dataframe tbody tr th:only-of-type {\n",
       "        vertical-align: middle;\n",
       "    }\n",
       "\n",
       "    .dataframe tbody tr th {\n",
       "        vertical-align: top;\n",
       "    }\n",
       "\n",
       "    .dataframe thead th {\n",
       "        text-align: right;\n",
       "    }\n",
       "</style>\n",
       "<table border=\"1\" class=\"dataframe\">\n",
       "  <thead>\n",
       "    <tr style=\"text-align: right;\">\n",
       "      <th></th>\n",
       "      <th>ana</th>\n",
       "      <th>fever</th>\n",
       "      <th>leukopenia</th>\n",
       "      <th>thrombocytopenia</th>\n",
       "      <th>auto_immune_hemolysis</th>\n",
       "      <th>delirium</th>\n",
       "      <th>psychosis</th>\n",
       "      <th>seizure</th>\n",
       "      <th>non_scarring_alopecia</th>\n",
       "      <th>oral_ulcers</th>\n",
       "      <th>...</th>\n",
       "      <th>joint_involvement</th>\n",
       "      <th>proteinuria</th>\n",
       "      <th>anti_cardioliphin_antibodies</th>\n",
       "      <th>anti_β2gp1_antibodies</th>\n",
       "      <th>lupus_anti_coagulant</th>\n",
       "      <th>low_c3</th>\n",
       "      <th>low_c4</th>\n",
       "      <th>anti_dsdna_antibody</th>\n",
       "      <th>anti_smith_antibody</th>\n",
       "      <th>label</th>\n",
       "    </tr>\n",
       "  </thead>\n",
       "  <tbody>\n",
       "    <tr>\n",
       "      <th>0</th>\n",
       "      <td>1</td>\n",
       "      <td>0</td>\n",
       "      <td>0</td>\n",
       "      <td>0</td>\n",
       "      <td>0</td>\n",
       "      <td>0</td>\n",
       "      <td>0</td>\n",
       "      <td>0</td>\n",
       "      <td>0</td>\n",
       "      <td>0</td>\n",
       "      <td>...</td>\n",
       "      <td>1</td>\n",
       "      <td>0</td>\n",
       "      <td>0</td>\n",
       "      <td>0</td>\n",
       "      <td>0</td>\n",
       "      <td>0</td>\n",
       "      <td>0</td>\n",
       "      <td>0</td>\n",
       "      <td>0</td>\n",
       "      <td>1</td>\n",
       "    </tr>\n",
       "    <tr>\n",
       "      <th>1</th>\n",
       "      <td>1</td>\n",
       "      <td>1</td>\n",
       "      <td>0</td>\n",
       "      <td>0</td>\n",
       "      <td>0</td>\n",
       "      <td>0</td>\n",
       "      <td>0</td>\n",
       "      <td>0</td>\n",
       "      <td>0</td>\n",
       "      <td>0</td>\n",
       "      <td>...</td>\n",
       "      <td>0</td>\n",
       "      <td>1</td>\n",
       "      <td>0</td>\n",
       "      <td>0</td>\n",
       "      <td>0</td>\n",
       "      <td>0</td>\n",
       "      <td>0</td>\n",
       "      <td>1</td>\n",
       "      <td>0</td>\n",
       "      <td>1</td>\n",
       "    </tr>\n",
       "    <tr>\n",
       "      <th>2</th>\n",
       "      <td>1</td>\n",
       "      <td>0</td>\n",
       "      <td>0</td>\n",
       "      <td>0</td>\n",
       "      <td>0</td>\n",
       "      <td>0</td>\n",
       "      <td>1</td>\n",
       "      <td>0</td>\n",
       "      <td>0</td>\n",
       "      <td>0</td>\n",
       "      <td>...</td>\n",
       "      <td>1</td>\n",
       "      <td>0</td>\n",
       "      <td>0</td>\n",
       "      <td>0</td>\n",
       "      <td>1</td>\n",
       "      <td>1</td>\n",
       "      <td>0</td>\n",
       "      <td>0</td>\n",
       "      <td>0</td>\n",
       "      <td>1</td>\n",
       "    </tr>\n",
       "    <tr>\n",
       "      <th>3</th>\n",
       "      <td>1</td>\n",
       "      <td>1</td>\n",
       "      <td>0</td>\n",
       "      <td>0</td>\n",
       "      <td>0</td>\n",
       "      <td>0</td>\n",
       "      <td>0</td>\n",
       "      <td>0</td>\n",
       "      <td>1</td>\n",
       "      <td>0</td>\n",
       "      <td>...</td>\n",
       "      <td>0</td>\n",
       "      <td>0</td>\n",
       "      <td>0</td>\n",
       "      <td>0</td>\n",
       "      <td>1</td>\n",
       "      <td>0</td>\n",
       "      <td>0</td>\n",
       "      <td>1</td>\n",
       "      <td>0</td>\n",
       "      <td>1</td>\n",
       "    </tr>\n",
       "    <tr>\n",
       "      <th>4</th>\n",
       "      <td>1</td>\n",
       "      <td>0</td>\n",
       "      <td>0</td>\n",
       "      <td>0</td>\n",
       "      <td>0</td>\n",
       "      <td>0</td>\n",
       "      <td>0</td>\n",
       "      <td>0</td>\n",
       "      <td>1</td>\n",
       "      <td>0</td>\n",
       "      <td>...</td>\n",
       "      <td>1</td>\n",
       "      <td>0</td>\n",
       "      <td>0</td>\n",
       "      <td>0</td>\n",
       "      <td>0</td>\n",
       "      <td>1</td>\n",
       "      <td>0</td>\n",
       "      <td>0</td>\n",
       "      <td>0</td>\n",
       "      <td>1</td>\n",
       "    </tr>\n",
       "  </tbody>\n",
       "</table>\n",
       "<p>5 rows × 24 columns</p>\n",
       "</div>"
      ],
      "text/plain": [
       "   ana  fever  leukopenia  thrombocytopenia  auto_immune_hemolysis  delirium  \\\n",
       "0    1      0           0                 0                      0         0   \n",
       "1    1      1           0                 0                      0         0   \n",
       "2    1      0           0                 0                      0         0   \n",
       "3    1      1           0                 0                      0         0   \n",
       "4    1      0           0                 0                      0         0   \n",
       "\n",
       "   psychosis  seizure  non_scarring_alopecia  oral_ulcers  ...  \\\n",
       "0          0        0                      0            0  ...   \n",
       "1          0        0                      0            0  ...   \n",
       "2          1        0                      0            0  ...   \n",
       "3          0        0                      1            0  ...   \n",
       "4          0        0                      1            0  ...   \n",
       "\n",
       "   joint_involvement  proteinuria  anti_cardioliphin_antibodies  \\\n",
       "0                  1            0                             0   \n",
       "1                  0            1                             0   \n",
       "2                  1            0                             0   \n",
       "3                  0            0                             0   \n",
       "4                  1            0                             0   \n",
       "\n",
       "   anti_β2gp1_antibodies  lupus_anti_coagulant  low_c3  low_c4  \\\n",
       "0                      0                     0       0       0   \n",
       "1                      0                     0       0       0   \n",
       "2                      0                     1       1       0   \n",
       "3                      0                     1       0       0   \n",
       "4                      0                     0       1       0   \n",
       "\n",
       "   anti_dsdna_antibody  anti_smith_antibody  label  \n",
       "0                    0                    0      1  \n",
       "1                    1                    0      1  \n",
       "2                    0                    0      1  \n",
       "3                    1                    0      1  \n",
       "4                    0                    0      1  \n",
       "\n",
       "[5 rows x 24 columns]"
      ]
     },
     "execution_count": 4,
     "metadata": {},
     "output_type": "execute_result"
    }
   ],
   "source": [
    "testing_df = pd.read_csv('../data/missingness/0/testing_set.csv')\n",
    "testing_df.head()"
   ]
  },
  {
   "cell_type": "code",
   "execution_count": 5,
   "id": "50f8f930",
   "metadata": {},
   "outputs": [
    {
     "data": {
      "text/html": [
       "<div>\n",
       "<style scoped>\n",
       "    .dataframe tbody tr th:only-of-type {\n",
       "        vertical-align: middle;\n",
       "    }\n",
       "\n",
       "    .dataframe tbody tr th {\n",
       "        vertical-align: top;\n",
       "    }\n",
       "\n",
       "    .dataframe thead th {\n",
       "        text-align: right;\n",
       "    }\n",
       "</style>\n",
       "<table border=\"1\" class=\"dataframe\">\n",
       "  <thead>\n",
       "    <tr style=\"text-align: right;\">\n",
       "      <th></th>\n",
       "      <th>ana</th>\n",
       "      <th>fever</th>\n",
       "      <th>leukopenia</th>\n",
       "      <th>thrombocytopenia</th>\n",
       "      <th>auto_immune_hemolysis</th>\n",
       "      <th>delirium</th>\n",
       "      <th>psychosis</th>\n",
       "      <th>seizure</th>\n",
       "      <th>non_scarring_alopecia</th>\n",
       "      <th>oral_ulcers</th>\n",
       "      <th>...</th>\n",
       "      <th>joint_involvement</th>\n",
       "      <th>proteinuria</th>\n",
       "      <th>anti_cardioliphin_antibodies</th>\n",
       "      <th>anti_β2gp1_antibodies</th>\n",
       "      <th>lupus_anti_coagulant</th>\n",
       "      <th>low_c3</th>\n",
       "      <th>low_c4</th>\n",
       "      <th>anti_dsdna_antibody</th>\n",
       "      <th>anti_smith_antibody</th>\n",
       "      <th>label</th>\n",
       "    </tr>\n",
       "  </thead>\n",
       "  <tbody>\n",
       "    <tr>\n",
       "      <th>0</th>\n",
       "      <td>0</td>\n",
       "      <td>1</td>\n",
       "      <td>0</td>\n",
       "      <td>0</td>\n",
       "      <td>0</td>\n",
       "      <td>0</td>\n",
       "      <td>0</td>\n",
       "      <td>0</td>\n",
       "      <td>0</td>\n",
       "      <td>0</td>\n",
       "      <td>...</td>\n",
       "      <td>1</td>\n",
       "      <td>0</td>\n",
       "      <td>0</td>\n",
       "      <td>0</td>\n",
       "      <td>0</td>\n",
       "      <td>0</td>\n",
       "      <td>0</td>\n",
       "      <td>0</td>\n",
       "      <td>0</td>\n",
       "      <td>0</td>\n",
       "    </tr>\n",
       "    <tr>\n",
       "      <th>1</th>\n",
       "      <td>0</td>\n",
       "      <td>0</td>\n",
       "      <td>0</td>\n",
       "      <td>0</td>\n",
       "      <td>0</td>\n",
       "      <td>1</td>\n",
       "      <td>0</td>\n",
       "      <td>0</td>\n",
       "      <td>0</td>\n",
       "      <td>0</td>\n",
       "      <td>...</td>\n",
       "      <td>0</td>\n",
       "      <td>0</td>\n",
       "      <td>0</td>\n",
       "      <td>0</td>\n",
       "      <td>0</td>\n",
       "      <td>0</td>\n",
       "      <td>0</td>\n",
       "      <td>0</td>\n",
       "      <td>0</td>\n",
       "      <td>0</td>\n",
       "    </tr>\n",
       "    <tr>\n",
       "      <th>2</th>\n",
       "      <td>1</td>\n",
       "      <td>0</td>\n",
       "      <td>0</td>\n",
       "      <td>0</td>\n",
       "      <td>0</td>\n",
       "      <td>1</td>\n",
       "      <td>0</td>\n",
       "      <td>0</td>\n",
       "      <td>0</td>\n",
       "      <td>0</td>\n",
       "      <td>...</td>\n",
       "      <td>0</td>\n",
       "      <td>0</td>\n",
       "      <td>0</td>\n",
       "      <td>0</td>\n",
       "      <td>0</td>\n",
       "      <td>0</td>\n",
       "      <td>0</td>\n",
       "      <td>1</td>\n",
       "      <td>0</td>\n",
       "      <td>1</td>\n",
       "    </tr>\n",
       "    <tr>\n",
       "      <th>3</th>\n",
       "      <td>1</td>\n",
       "      <td>0</td>\n",
       "      <td>0</td>\n",
       "      <td>0</td>\n",
       "      <td>0</td>\n",
       "      <td>0</td>\n",
       "      <td>0</td>\n",
       "      <td>1</td>\n",
       "      <td>1</td>\n",
       "      <td>0</td>\n",
       "      <td>...</td>\n",
       "      <td>0</td>\n",
       "      <td>1</td>\n",
       "      <td>0</td>\n",
       "      <td>0</td>\n",
       "      <td>0</td>\n",
       "      <td>0</td>\n",
       "      <td>0</td>\n",
       "      <td>1</td>\n",
       "      <td>1</td>\n",
       "      <td>1</td>\n",
       "    </tr>\n",
       "    <tr>\n",
       "      <th>4</th>\n",
       "      <td>1</td>\n",
       "      <td>0</td>\n",
       "      <td>0</td>\n",
       "      <td>1</td>\n",
       "      <td>1</td>\n",
       "      <td>1</td>\n",
       "      <td>0</td>\n",
       "      <td>0</td>\n",
       "      <td>0</td>\n",
       "      <td>0</td>\n",
       "      <td>...</td>\n",
       "      <td>0</td>\n",
       "      <td>1</td>\n",
       "      <td>0</td>\n",
       "      <td>0</td>\n",
       "      <td>0</td>\n",
       "      <td>1</td>\n",
       "      <td>0</td>\n",
       "      <td>0</td>\n",
       "      <td>1</td>\n",
       "      <td>1</td>\n",
       "    </tr>\n",
       "  </tbody>\n",
       "</table>\n",
       "<p>5 rows × 24 columns</p>\n",
       "</div>"
      ],
      "text/plain": [
       "   ana  fever  leukopenia  thrombocytopenia  auto_immune_hemolysis  delirium  \\\n",
       "0    0      1           0                 0                      0         0   \n",
       "1    0      0           0                 0                      0         1   \n",
       "2    1      0           0                 0                      0         1   \n",
       "3    1      0           0                 0                      0         0   \n",
       "4    1      0           0                 1                      1         1   \n",
       "\n",
       "   psychosis  seizure  non_scarring_alopecia  oral_ulcers  ...  \\\n",
       "0          0        0                      0            0  ...   \n",
       "1          0        0                      0            0  ...   \n",
       "2          0        0                      0            0  ...   \n",
       "3          0        1                      1            0  ...   \n",
       "4          0        0                      0            0  ...   \n",
       "\n",
       "   joint_involvement  proteinuria  anti_cardioliphin_antibodies  \\\n",
       "0                  1            0                             0   \n",
       "1                  0            0                             0   \n",
       "2                  0            0                             0   \n",
       "3                  0            1                             0   \n",
       "4                  0            1                             0   \n",
       "\n",
       "   anti_β2gp1_antibodies  lupus_anti_coagulant  low_c3  low_c4  \\\n",
       "0                      0                     0       0       0   \n",
       "1                      0                     0       0       0   \n",
       "2                      0                     0       0       0   \n",
       "3                      0                     0       0       0   \n",
       "4                      0                     0       1       0   \n",
       "\n",
       "   anti_dsdna_antibody  anti_smith_antibody  label  \n",
       "0                    0                    0      0  \n",
       "1                    0                    0      0  \n",
       "2                    1                    0      1  \n",
       "3                    1                    1      1  \n",
       "4                    0                    1      1  \n",
       "\n",
       "[5 rows x 24 columns]"
      ]
     },
     "execution_count": 5,
     "metadata": {},
     "output_type": "execute_result"
    }
   ],
   "source": [
    "training_df = pd.read_csv('../data/missingness/0/training_set.csv')\n",
    "training_df.head()"
   ]
  },
  {
   "cell_type": "markdown",
   "id": "daddef8b",
   "metadata": {},
   "source": [
    "#### Possibly useful functions"
   ]
  },
  {
   "cell_type": "code",
   "execution_count": 6,
   "id": "ef5d9594",
   "metadata": {},
   "outputs": [],
   "source": [
    "def generate_tuple_dict(df):\n",
    "    frequency_dict = {}\n",
    "    for traj in df.trajectory:\n",
    "        if traj in frequency_dict.keys():\n",
    "            frequency_dict[traj] += 1\n",
    "        else:\n",
    "            frequency_dict[traj] = 1\n",
    "    overall_tup_dict = {}\n",
    "    for key, value in frequency_dict.items():\n",
    "        new_key = ast.literal_eval(key)\n",
    "        for tup in zip(new_key, new_key[1:]):\n",
    "            if tup in overall_tup_dict.keys():\n",
    "                overall_tup_dict[tup] += value\n",
    "            else:\n",
    "                overall_tup_dict[tup] = value\n",
    "    return overall_tup_dict"
   ]
  },
  {
   "cell_type": "code",
   "execution_count": 7,
   "id": "8997631a",
   "metadata": {},
   "outputs": [],
   "source": [
    "def create_sankey_df(df):\n",
    "    overall_tup_dict = generate_tuple_dict(df)\n",
    "    sankey_df = pd.DataFrame()\n",
    "    sankey_df['source'] = [i[0] for i in overall_tup_dict.keys()]\n",
    "    sankey_df['target'] = [i[1] for i in overall_tup_dict.keys()]\n",
    "    sankey_df['value'] = list(overall_tup_dict.values())\n",
    "    sankey_df['link_type'] = sankey_df['target'].apply(lambda i: 'terminal' if i in ['No lupus', 'Lupus', 'Inconclusive diagnosis'] else 'non_terminal')\n",
    "    return sankey_df"
   ]
  },
  {
   "cell_type": "code",
   "execution_count": 8,
   "id": "f075765f",
   "metadata": {},
   "outputs": [],
   "source": [
    "def draw_pyvis_network(pathways_df, pathway_type='network'): #second type is trajectory \n",
    "    pathways_df['type'] = 'directed'\n",
    "    start_node = pathways_df.iloc[0]['source']\n",
    "    all_nodes = list(set(pathways_df.source.unique().tolist() + pathways_df.target.unique().tolist()))\n",
    "    terminal_nodes = list(set(pathways_df[pathways_df.link_type=='terminal'].target))\n",
    "    non_terminal_nodes = [i for i in all_nodes if i not in terminal_nodes and i!=start_node]\n",
    "    \n",
    "    #change get_net to something else since it satnds for Game of Thrones\n",
    "    got_net = Network(notebook=True, height='600px', width='100%', directed=True, cdn_resources='in_line')\n",
    "    got_net.add_node(start_node, color='purple', size=20)\n",
    "    got_net.add_nodes(non_terminal_nodes, size=[15]*len(non_terminal_nodes), color=['blue']*len(non_terminal_nodes))\n",
    "    got_net.add_nodes(terminal_nodes, color=['green']*len(terminal_nodes), size=[20]*len(terminal_nodes))\n",
    "    for src, target, value, edge_thresh in zip(pathways_df.source, pathways_df.target, pathways_df.value, pathways_df.edge_threshold):\n",
    "        if pathway_type =='network':\n",
    "            if value > threshold:\n",
    "                if math.isnan(edge_thresh):\n",
    "                    got_net.add_edge(src, target, value=value, color='red')\n",
    "                else:\n",
    "                    got_net.add_edge(src, target, value=value, color='red', label=str(int(edge_thresh)))\n",
    "            else:\n",
    "                got_net.add_edge(src, target, value=value, color='blue')\n",
    "        elif pathway_type =='trajectory': #It's just one trajectory\n",
    "            if isinstance(edge_thresh, str):\n",
    "                got_net.add_edge(src, target, value=value, color='blue', label=edge_thresh)\n",
    "            else:\n",
    "                got_net.add_edge(src, target, value=value, color='blue', label=str(int(edge_thresh)))\n",
    "        else:\n",
    "            print('Unknown pathway type')\n",
    "    return got_net"
   ]
  },
  {
   "cell_type": "markdown",
   "id": "9289bb26",
   "metadata": {},
   "source": [
    "#### start from here"
   ]
  },
  {
   "cell_type": "code",
   "execution_count": 9,
   "id": "3246ef0d",
   "metadata": {},
   "outputs": [],
   "source": [
    "def get_threshold_value(df, source): #source e.g. 'ana'\n",
    "    threshold_values = df[source].unique().tolist()\n",
    "    if len(threshold_values) == 1:\n",
    "        return int(threshold_values[0])\n",
    "    else:\n",
    "        return str(threshold_values)"
   ]
  },
  {
   "cell_type": "code",
   "execution_count": 10,
   "id": "08b4d5ba",
   "metadata": {},
   "outputs": [],
   "source": [
    "def draw_one_trajectory(pred_df, trajectory): #pred_df = pred_no_lupus par exemple\n",
    "    trajectory_df = pred_df[pred_df.trajectory == trajectory]\n",
    "    trajectory_testing_df = testing_df.loc[trajectory_df.index]\n",
    "    trajectory_pathways_df = create_sankey_df(trajectory_df)\n",
    "    trajectory_pathways_df['edge_threshold'] = [get_threshold_value(trajectory_testing_df, source) for source in trajectory_pathways_df.source]\n",
    "    trajectory_net = draw_pyvis_network(trajectory_pathways_df, 'trajectory')   \n",
    "    return trajectory_net"
   ]
  },
  {
   "cell_type": "code",
   "execution_count": 25,
   "id": "74f9276a",
   "metadata": {},
   "outputs": [
    {
     "data": {
      "text/plain": [
       "\"['ana', 'pericardial_effusion', 'cutaneous_lupus', 'fever', 'anti_smith_antibody', 'joint_involvement', 'low_c3', 'non_scarring_alopecia', 'proteinuria', 'pleural_effusion', 'anti_β2gp1_antibodies', 'low_c4', 'anti_dsdna_antibody', 'No lupus']\""
      ]
     },
     "execution_count": 25,
     "metadata": {},
     "output_type": "execute_result"
    }
   ],
   "source": [
    "pred_no_lupus = test_df[test_df['y_pred']==0]\n",
    "no_lupus_pathway_1 = pred_no_lupus.trajectory.value_counts().index[4]\n",
    "no_lupus_pathway_1"
   ]
  },
  {
   "cell_type": "code",
   "execution_count": 26,
   "id": "b59e23ce",
   "metadata": {},
   "outputs": [
    {
     "data": {
      "text/plain": [
       "array([14.,  6., 15., 18., 12., 11., 13., 16.,  8., 17.,  9., 19., 21.,\n",
       "       20.])"
      ]
     },
     "execution_count": 26,
     "metadata": {},
     "output_type": "execute_result"
    }
   ],
   "source": [
    "pred_no_lupus.episode_length.unique()"
   ]
  },
  {
   "cell_type": "code",
   "execution_count": 27,
   "id": "0fb0218f",
   "metadata": {},
   "outputs": [
    {
     "data": {
      "text/html": [
       "\n",
       "        <iframe\n",
       "            width=\"100%\"\n",
       "            height=\"600px\"\n",
       "            src=\"Example.html\"\n",
       "            frameborder=\"0\"\n",
       "            allowfullscreen\n",
       "            \n",
       "        ></iframe>\n",
       "        "
      ],
      "text/plain": [
       "<IPython.lib.display.IFrame at 0x7f487cd865d0>"
      ]
     },
     "execution_count": 27,
     "metadata": {},
     "output_type": "execute_result"
    }
   ],
   "source": [
    "no_lupus_pathway1_net = draw_one_trajectory(pred_no_lupus, no_lupus_pathway_1)\n",
    "no_lupus_pathway1_net.show('Example.html')"
   ]
  },
  {
   "cell_type": "code",
   "execution_count": 36,
   "id": "02a6dc7d",
   "metadata": {},
   "outputs": [
    {
     "data": {
      "text/plain": [
       "\"['ana', 'pericardial_effusion', 'cutaneous_lupus', 'Lupus']\""
      ]
     },
     "execution_count": 36,
     "metadata": {},
     "output_type": "execute_result"
    }
   ],
   "source": [
    "pred_lupus = test_df[test_df['y_pred']==1]\n",
    "lupus_pathway_0 = pred_lupus.trajectory.value_counts().index[4]\n",
    "lupus_pathway_0"
   ]
  },
  {
   "cell_type": "code",
   "execution_count": 37,
   "id": "71d82aa2",
   "metadata": {},
   "outputs": [
    {
     "data": {
      "text/html": [
       "\n",
       "        <iframe\n",
       "            width=\"100%\"\n",
       "            height=\"600px\"\n",
       "            src=\"Example.html\"\n",
       "            frameborder=\"0\"\n",
       "            allowfullscreen\n",
       "            \n",
       "        ></iframe>\n",
       "        "
      ],
      "text/plain": [
       "<IPython.lib.display.IFrame at 0x7f487cd12790>"
      ]
     },
     "execution_count": 37,
     "metadata": {},
     "output_type": "execute_result"
    }
   ],
   "source": [
    "lupus_pathway0_net = draw_one_trajectory(pred_lupus, lupus_pathway_0)\n",
    "lupus_pathway0_net.show('Example.html')"
   ]
  },
  {
   "cell_type": "code",
   "execution_count": 38,
   "id": "9381a92c",
   "metadata": {},
   "outputs": [
    {
     "data": {
      "text/plain": [
       "\"['ana', 'pericardial_effusion', 'cutaneous_lupus', 'fever', 'anti_smith_antibody', 'low_c3', 'anti_β2gp1_antibodies', 'non_scarring_alopecia', 'low_c4', 'thrombocytopenia', 'proteinuria', 'anti_dsdna_antibody', 'joint_involvement', 'delirium', 'pleural_effusion', 'leukopenia', 'seizure', 'psychosis', 'Lupus']\""
      ]
     },
     "execution_count": 38,
     "metadata": {},
     "output_type": "execute_result"
    }
   ],
   "source": [
    "longest_lupus_pathway = pred_lupus[pred_lupus.episode_length==pred_lupus.episode_length.max()].trajectory.value_counts().index[0]#.iloc[0]['trajectory']\n",
    "longest_lupus_pathway"
   ]
  },
  {
   "cell_type": "code",
   "execution_count": 39,
   "id": "461cb89b",
   "metadata": {},
   "outputs": [
    {
     "data": {
      "text/html": [
       "\n",
       "        <iframe\n",
       "            width=\"100%\"\n",
       "            height=\"600px\"\n",
       "            src=\"Example.html\"\n",
       "            frameborder=\"0\"\n",
       "            allowfullscreen\n",
       "            \n",
       "        ></iframe>\n",
       "        "
      ],
      "text/plain": [
       "<IPython.lib.display.IFrame at 0x7f487cd67e90>"
      ]
     },
     "execution_count": 39,
     "metadata": {},
     "output_type": "execute_result"
    }
   ],
   "source": [
    "longest_lupus_pathway_net = draw_one_trajectory(pred_lupus, longest_lupus_pathway)\n",
    "longest_lupus_pathway_net.show('Example.html')"
   ]
  },
  {
   "cell_type": "code",
   "execution_count": null,
   "id": "4ca6aecd",
   "metadata": {},
   "outputs": [],
   "source": []
  }
 ],
 "metadata": {
  "kernelspec": {
   "display_name": "Python 3 (ipykernel)",
   "language": "python",
   "name": "python3"
  },
  "language_info": {
   "codemirror_mode": {
    "name": "ipython",
    "version": 3
   },
   "file_extension": ".py",
   "mimetype": "text/x-python",
   "name": "python",
   "nbconvert_exporter": "python",
   "pygments_lexer": "ipython3",
   "version": "3.7.4"
  }
 },
 "nbformat": 4,
 "nbformat_minor": 5
}

{
 "cells": [
  {
   "cell_type": "code",
   "execution_count": 17,
   "id": "26c12ec5",
   "metadata": {},
   "outputs": [],
   "source": [
    "import pandas as pd\n",
    "import numpy as np\n",
    "import ast\n",
    "import math\n",
    "import networkx as nx\n",
    "from pyvis.network import Network\n",
    "import plotly.graph_objects as go\n",
    "import sys\n",
    "sys.path.append('../')\n",
    "from modules import utils, constants"
   ]
  },
  {
   "cell_type": "markdown",
   "id": "d6e38554",
   "metadata": {},
   "source": [
    "#### The test df"
   ]
  },
  {
   "cell_type": "code",
   "execution_count": 18,
   "id": "8969536c",
   "metadata": {},
   "outputs": [
    {
     "data": {
      "text/html": [
       "<div>\n",
       "<style scoped>\n",
       "    .dataframe tbody tr th:only-of-type {\n",
       "        vertical-align: middle;\n",
       "    }\n",
       "\n",
       "    .dataframe tbody tr th {\n",
       "        vertical-align: top;\n",
       "    }\n",
       "\n",
       "    .dataframe thead th {\n",
       "        text-align: right;\n",
       "    }\n",
       "</style>\n",
       "<table border=\"1\" class=\"dataframe\">\n",
       "  <thead>\n",
       "    <tr style=\"text-align: right;\">\n",
       "      <th></th>\n",
       "      <th>episode_length</th>\n",
       "      <th>reward</th>\n",
       "      <th>y_pred</th>\n",
       "      <th>y_actual</th>\n",
       "      <th>trajectory</th>\n",
       "      <th>terminated</th>\n",
       "      <th>is_success</th>\n",
       "    </tr>\n",
       "  </thead>\n",
       "  <tbody>\n",
       "    <tr>\n",
       "      <th>0</th>\n",
       "      <td>17.0</td>\n",
       "      <td>0.515152</td>\n",
       "      <td>1.0</td>\n",
       "      <td>1.0</td>\n",
       "      <td>['ana', 'pericardial_effusion', 'leukopenia', ...</td>\n",
       "      <td>0.0</td>\n",
       "      <td>1.0</td>\n",
       "    </tr>\n",
       "    <tr>\n",
       "      <th>1</th>\n",
       "      <td>11.0</td>\n",
       "      <td>0.696970</td>\n",
       "      <td>1.0</td>\n",
       "      <td>1.0</td>\n",
       "      <td>['ana', 'pericardial_effusion', 'leukopenia', ...</td>\n",
       "      <td>0.0</td>\n",
       "      <td>1.0</td>\n",
       "    </tr>\n",
       "    <tr>\n",
       "      <th>2</th>\n",
       "      <td>16.0</td>\n",
       "      <td>0.545455</td>\n",
       "      <td>1.0</td>\n",
       "      <td>1.0</td>\n",
       "      <td>['ana', 'pericardial_effusion', 'leukopenia', ...</td>\n",
       "      <td>0.0</td>\n",
       "      <td>1.0</td>\n",
       "    </tr>\n",
       "    <tr>\n",
       "      <th>3</th>\n",
       "      <td>15.0</td>\n",
       "      <td>0.575758</td>\n",
       "      <td>1.0</td>\n",
       "      <td>1.0</td>\n",
       "      <td>['ana', 'pericardial_effusion', 'leukopenia', ...</td>\n",
       "      <td>0.0</td>\n",
       "      <td>1.0</td>\n",
       "    </tr>\n",
       "    <tr>\n",
       "      <th>4</th>\n",
       "      <td>9.0</td>\n",
       "      <td>0.757576</td>\n",
       "      <td>1.0</td>\n",
       "      <td>1.0</td>\n",
       "      <td>['ana', 'pericardial_effusion', 'leukopenia', ...</td>\n",
       "      <td>0.0</td>\n",
       "      <td>1.0</td>\n",
       "    </tr>\n",
       "  </tbody>\n",
       "</table>\n",
       "</div>"
      ],
      "text/plain": [
       "   episode_length    reward  y_pred  y_actual  \\\n",
       "0            17.0  0.515152     1.0       1.0   \n",
       "1            11.0  0.696970     1.0       1.0   \n",
       "2            16.0  0.545455     1.0       1.0   \n",
       "3            15.0  0.575758     1.0       1.0   \n",
       "4             9.0  0.757576     1.0       1.0   \n",
       "\n",
       "                                          trajectory  terminated  is_success  \n",
       "0  ['ana', 'pericardial_effusion', 'leukopenia', ...         0.0         1.0  \n",
       "1  ['ana', 'pericardial_effusion', 'leukopenia', ...         0.0         1.0  \n",
       "2  ['ana', 'pericardial_effusion', 'leukopenia', ...         0.0         1.0  \n",
       "3  ['ana', 'pericardial_effusion', 'leukopenia', ...         0.0         1.0  \n",
       "4  ['ana', 'pericardial_effusion', 'leukopenia', ...         0.0         1.0  "
      ]
     },
     "execution_count": 18,
     "metadata": {},
     "output_type": "execute_result"
    }
   ],
   "source": [
    "test_df = pd.read_csv('../test_dfs/negative_reward/step_30_correct_1_incorrect_-1.csv').drop(['index'], axis=1)\n",
    "test_df.head()"
   ]
  },
  {
   "cell_type": "code",
   "execution_count": 19,
   "id": "df4c8657",
   "metadata": {},
   "outputs": [
    {
     "data": {
      "text/plain": [
       "95.37857142857142"
      ]
     },
     "execution_count": 19,
     "metadata": {},
     "output_type": "execute_result"
    }
   ],
   "source": [
    "utils.success_rate(test_df)[0]"
   ]
  },
  {
   "cell_type": "code",
   "execution_count": 23,
   "id": "d97d5c22",
   "metadata": {},
   "outputs": [
    {
     "data": {
      "text/plain": [
       "14.65691489361702"
      ]
     },
     "execution_count": 23,
     "metadata": {},
     "output_type": "execute_result"
    }
   ],
   "source": [
    "test_df[(test_df.y_pred==0) & (test_df.episode_length!=2)].episode_length.mean()"
   ]
  },
  {
   "cell_type": "markdown",
   "id": "259a8907",
   "metadata": {},
   "source": [
    "#### The testing df"
   ]
  },
  {
   "cell_type": "code",
   "execution_count": 24,
   "id": "e154706d",
   "metadata": {},
   "outputs": [
    {
     "data": {
      "text/html": [
       "<div>\n",
       "<style scoped>\n",
       "    .dataframe tbody tr th:only-of-type {\n",
       "        vertical-align: middle;\n",
       "    }\n",
       "\n",
       "    .dataframe tbody tr th {\n",
       "        vertical-align: top;\n",
       "    }\n",
       "\n",
       "    .dataframe thead th {\n",
       "        text-align: right;\n",
       "    }\n",
       "</style>\n",
       "<table border=\"1\" class=\"dataframe\">\n",
       "  <thead>\n",
       "    <tr style=\"text-align: right;\">\n",
       "      <th></th>\n",
       "      <th>ana</th>\n",
       "      <th>fever</th>\n",
       "      <th>leukopenia</th>\n",
       "      <th>thrombocytopenia</th>\n",
       "      <th>auto_immune_hemolysis</th>\n",
       "      <th>delirium</th>\n",
       "      <th>psychosis</th>\n",
       "      <th>seizure</th>\n",
       "      <th>non_scarring_alopecia</th>\n",
       "      <th>oral_ulcers</th>\n",
       "      <th>...</th>\n",
       "      <th>joint_involvement</th>\n",
       "      <th>proteinuria</th>\n",
       "      <th>anti_cardioliphin_antibodies</th>\n",
       "      <th>anti_β2gp1_antibodies</th>\n",
       "      <th>lupus_anti_coagulant</th>\n",
       "      <th>low_c3</th>\n",
       "      <th>low_c4</th>\n",
       "      <th>anti_dsdna_antibody</th>\n",
       "      <th>anti_smith_antibody</th>\n",
       "      <th>label</th>\n",
       "    </tr>\n",
       "  </thead>\n",
       "  <tbody>\n",
       "    <tr>\n",
       "      <th>0</th>\n",
       "      <td>1</td>\n",
       "      <td>0</td>\n",
       "      <td>0</td>\n",
       "      <td>0</td>\n",
       "      <td>0</td>\n",
       "      <td>0</td>\n",
       "      <td>0</td>\n",
       "      <td>0</td>\n",
       "      <td>0</td>\n",
       "      <td>0</td>\n",
       "      <td>...</td>\n",
       "      <td>1</td>\n",
       "      <td>0</td>\n",
       "      <td>0</td>\n",
       "      <td>0</td>\n",
       "      <td>0</td>\n",
       "      <td>0</td>\n",
       "      <td>0</td>\n",
       "      <td>0</td>\n",
       "      <td>0</td>\n",
       "      <td>1</td>\n",
       "    </tr>\n",
       "    <tr>\n",
       "      <th>1</th>\n",
       "      <td>1</td>\n",
       "      <td>1</td>\n",
       "      <td>0</td>\n",
       "      <td>0</td>\n",
       "      <td>0</td>\n",
       "      <td>0</td>\n",
       "      <td>0</td>\n",
       "      <td>0</td>\n",
       "      <td>0</td>\n",
       "      <td>0</td>\n",
       "      <td>...</td>\n",
       "      <td>0</td>\n",
       "      <td>1</td>\n",
       "      <td>0</td>\n",
       "      <td>0</td>\n",
       "      <td>0</td>\n",
       "      <td>0</td>\n",
       "      <td>0</td>\n",
       "      <td>1</td>\n",
       "      <td>0</td>\n",
       "      <td>1</td>\n",
       "    </tr>\n",
       "    <tr>\n",
       "      <th>2</th>\n",
       "      <td>1</td>\n",
       "      <td>0</td>\n",
       "      <td>0</td>\n",
       "      <td>0</td>\n",
       "      <td>0</td>\n",
       "      <td>0</td>\n",
       "      <td>1</td>\n",
       "      <td>0</td>\n",
       "      <td>0</td>\n",
       "      <td>0</td>\n",
       "      <td>...</td>\n",
       "      <td>1</td>\n",
       "      <td>0</td>\n",
       "      <td>0</td>\n",
       "      <td>0</td>\n",
       "      <td>1</td>\n",
       "      <td>1</td>\n",
       "      <td>0</td>\n",
       "      <td>0</td>\n",
       "      <td>0</td>\n",
       "      <td>1</td>\n",
       "    </tr>\n",
       "    <tr>\n",
       "      <th>3</th>\n",
       "      <td>1</td>\n",
       "      <td>1</td>\n",
       "      <td>0</td>\n",
       "      <td>0</td>\n",
       "      <td>0</td>\n",
       "      <td>0</td>\n",
       "      <td>0</td>\n",
       "      <td>0</td>\n",
       "      <td>1</td>\n",
       "      <td>0</td>\n",
       "      <td>...</td>\n",
       "      <td>0</td>\n",
       "      <td>0</td>\n",
       "      <td>0</td>\n",
       "      <td>0</td>\n",
       "      <td>1</td>\n",
       "      <td>0</td>\n",
       "      <td>0</td>\n",
       "      <td>1</td>\n",
       "      <td>0</td>\n",
       "      <td>1</td>\n",
       "    </tr>\n",
       "    <tr>\n",
       "      <th>4</th>\n",
       "      <td>1</td>\n",
       "      <td>0</td>\n",
       "      <td>0</td>\n",
       "      <td>0</td>\n",
       "      <td>0</td>\n",
       "      <td>0</td>\n",
       "      <td>0</td>\n",
       "      <td>0</td>\n",
       "      <td>1</td>\n",
       "      <td>0</td>\n",
       "      <td>...</td>\n",
       "      <td>1</td>\n",
       "      <td>0</td>\n",
       "      <td>0</td>\n",
       "      <td>0</td>\n",
       "      <td>0</td>\n",
       "      <td>1</td>\n",
       "      <td>0</td>\n",
       "      <td>0</td>\n",
       "      <td>0</td>\n",
       "      <td>1</td>\n",
       "    </tr>\n",
       "  </tbody>\n",
       "</table>\n",
       "<p>5 rows × 24 columns</p>\n",
       "</div>"
      ],
      "text/plain": [
       "   ana  fever  leukopenia  thrombocytopenia  auto_immune_hemolysis  delirium  \\\n",
       "0    1      0           0                 0                      0         0   \n",
       "1    1      1           0                 0                      0         0   \n",
       "2    1      0           0                 0                      0         0   \n",
       "3    1      1           0                 0                      0         0   \n",
       "4    1      0           0                 0                      0         0   \n",
       "\n",
       "   psychosis  seizure  non_scarring_alopecia  oral_ulcers  ...  \\\n",
       "0          0        0                      0            0  ...   \n",
       "1          0        0                      0            0  ...   \n",
       "2          1        0                      0            0  ...   \n",
       "3          0        0                      1            0  ...   \n",
       "4          0        0                      1            0  ...   \n",
       "\n",
       "   joint_involvement  proteinuria  anti_cardioliphin_antibodies  \\\n",
       "0                  1            0                             0   \n",
       "1                  0            1                             0   \n",
       "2                  1            0                             0   \n",
       "3                  0            0                             0   \n",
       "4                  1            0                             0   \n",
       "\n",
       "   anti_β2gp1_antibodies  lupus_anti_coagulant  low_c3  low_c4  \\\n",
       "0                      0                     0       0       0   \n",
       "1                      0                     0       0       0   \n",
       "2                      0                     1       1       0   \n",
       "3                      0                     1       0       0   \n",
       "4                      0                     0       1       0   \n",
       "\n",
       "   anti_dsdna_antibody  anti_smith_antibody  label  \n",
       "0                    0                    0      1  \n",
       "1                    1                    0      1  \n",
       "2                    0                    0      1  \n",
       "3                    1                    0      1  \n",
       "4                    0                    0      1  \n",
       "\n",
       "[5 rows x 24 columns]"
      ]
     },
     "execution_count": 24,
     "metadata": {},
     "output_type": "execute_result"
    }
   ],
   "source": [
    "testing_df = pd.read_csv('../data/missingness/0/testing_set.csv')\n",
    "testing_df.head()"
   ]
  },
  {
   "cell_type": "code",
   "execution_count": 25,
   "id": "50f8f930",
   "metadata": {},
   "outputs": [
    {
     "data": {
      "text/html": [
       "<div>\n",
       "<style scoped>\n",
       "    .dataframe tbody tr th:only-of-type {\n",
       "        vertical-align: middle;\n",
       "    }\n",
       "\n",
       "    .dataframe tbody tr th {\n",
       "        vertical-align: top;\n",
       "    }\n",
       "\n",
       "    .dataframe thead th {\n",
       "        text-align: right;\n",
       "    }\n",
       "</style>\n",
       "<table border=\"1\" class=\"dataframe\">\n",
       "  <thead>\n",
       "    <tr style=\"text-align: right;\">\n",
       "      <th></th>\n",
       "      <th>ana</th>\n",
       "      <th>fever</th>\n",
       "      <th>leukopenia</th>\n",
       "      <th>thrombocytopenia</th>\n",
       "      <th>auto_immune_hemolysis</th>\n",
       "      <th>delirium</th>\n",
       "      <th>psychosis</th>\n",
       "      <th>seizure</th>\n",
       "      <th>non_scarring_alopecia</th>\n",
       "      <th>oral_ulcers</th>\n",
       "      <th>...</th>\n",
       "      <th>joint_involvement</th>\n",
       "      <th>proteinuria</th>\n",
       "      <th>anti_cardioliphin_antibodies</th>\n",
       "      <th>anti_β2gp1_antibodies</th>\n",
       "      <th>lupus_anti_coagulant</th>\n",
       "      <th>low_c3</th>\n",
       "      <th>low_c4</th>\n",
       "      <th>anti_dsdna_antibody</th>\n",
       "      <th>anti_smith_antibody</th>\n",
       "      <th>label</th>\n",
       "    </tr>\n",
       "  </thead>\n",
       "  <tbody>\n",
       "    <tr>\n",
       "      <th>0</th>\n",
       "      <td>0</td>\n",
       "      <td>1</td>\n",
       "      <td>0</td>\n",
       "      <td>0</td>\n",
       "      <td>0</td>\n",
       "      <td>0</td>\n",
       "      <td>0</td>\n",
       "      <td>0</td>\n",
       "      <td>0</td>\n",
       "      <td>0</td>\n",
       "      <td>...</td>\n",
       "      <td>1</td>\n",
       "      <td>0</td>\n",
       "      <td>0</td>\n",
       "      <td>0</td>\n",
       "      <td>0</td>\n",
       "      <td>0</td>\n",
       "      <td>0</td>\n",
       "      <td>0</td>\n",
       "      <td>0</td>\n",
       "      <td>0</td>\n",
       "    </tr>\n",
       "    <tr>\n",
       "      <th>1</th>\n",
       "      <td>0</td>\n",
       "      <td>0</td>\n",
       "      <td>0</td>\n",
       "      <td>0</td>\n",
       "      <td>0</td>\n",
       "      <td>1</td>\n",
       "      <td>0</td>\n",
       "      <td>0</td>\n",
       "      <td>0</td>\n",
       "      <td>0</td>\n",
       "      <td>...</td>\n",
       "      <td>0</td>\n",
       "      <td>0</td>\n",
       "      <td>0</td>\n",
       "      <td>0</td>\n",
       "      <td>0</td>\n",
       "      <td>0</td>\n",
       "      <td>0</td>\n",
       "      <td>0</td>\n",
       "      <td>0</td>\n",
       "      <td>0</td>\n",
       "    </tr>\n",
       "    <tr>\n",
       "      <th>2</th>\n",
       "      <td>1</td>\n",
       "      <td>0</td>\n",
       "      <td>0</td>\n",
       "      <td>0</td>\n",
       "      <td>0</td>\n",
       "      <td>1</td>\n",
       "      <td>0</td>\n",
       "      <td>0</td>\n",
       "      <td>0</td>\n",
       "      <td>0</td>\n",
       "      <td>...</td>\n",
       "      <td>0</td>\n",
       "      <td>0</td>\n",
       "      <td>0</td>\n",
       "      <td>0</td>\n",
       "      <td>0</td>\n",
       "      <td>0</td>\n",
       "      <td>0</td>\n",
       "      <td>1</td>\n",
       "      <td>0</td>\n",
       "      <td>1</td>\n",
       "    </tr>\n",
       "    <tr>\n",
       "      <th>3</th>\n",
       "      <td>1</td>\n",
       "      <td>0</td>\n",
       "      <td>0</td>\n",
       "      <td>0</td>\n",
       "      <td>0</td>\n",
       "      <td>0</td>\n",
       "      <td>0</td>\n",
       "      <td>1</td>\n",
       "      <td>1</td>\n",
       "      <td>0</td>\n",
       "      <td>...</td>\n",
       "      <td>0</td>\n",
       "      <td>1</td>\n",
       "      <td>0</td>\n",
       "      <td>0</td>\n",
       "      <td>0</td>\n",
       "      <td>0</td>\n",
       "      <td>0</td>\n",
       "      <td>1</td>\n",
       "      <td>1</td>\n",
       "      <td>1</td>\n",
       "    </tr>\n",
       "    <tr>\n",
       "      <th>4</th>\n",
       "      <td>1</td>\n",
       "      <td>0</td>\n",
       "      <td>0</td>\n",
       "      <td>1</td>\n",
       "      <td>1</td>\n",
       "      <td>1</td>\n",
       "      <td>0</td>\n",
       "      <td>0</td>\n",
       "      <td>0</td>\n",
       "      <td>0</td>\n",
       "      <td>...</td>\n",
       "      <td>0</td>\n",
       "      <td>1</td>\n",
       "      <td>0</td>\n",
       "      <td>0</td>\n",
       "      <td>0</td>\n",
       "      <td>1</td>\n",
       "      <td>0</td>\n",
       "      <td>0</td>\n",
       "      <td>1</td>\n",
       "      <td>1</td>\n",
       "    </tr>\n",
       "  </tbody>\n",
       "</table>\n",
       "<p>5 rows × 24 columns</p>\n",
       "</div>"
      ],
      "text/plain": [
       "   ana  fever  leukopenia  thrombocytopenia  auto_immune_hemolysis  delirium  \\\n",
       "0    0      1           0                 0                      0         0   \n",
       "1    0      0           0                 0                      0         1   \n",
       "2    1      0           0                 0                      0         1   \n",
       "3    1      0           0                 0                      0         0   \n",
       "4    1      0           0                 1                      1         1   \n",
       "\n",
       "   psychosis  seizure  non_scarring_alopecia  oral_ulcers  ...  \\\n",
       "0          0        0                      0            0  ...   \n",
       "1          0        0                      0            0  ...   \n",
       "2          0        0                      0            0  ...   \n",
       "3          0        1                      1            0  ...   \n",
       "4          0        0                      0            0  ...   \n",
       "\n",
       "   joint_involvement  proteinuria  anti_cardioliphin_antibodies  \\\n",
       "0                  1            0                             0   \n",
       "1                  0            0                             0   \n",
       "2                  0            0                             0   \n",
       "3                  0            1                             0   \n",
       "4                  0            1                             0   \n",
       "\n",
       "   anti_β2gp1_antibodies  lupus_anti_coagulant  low_c3  low_c4  \\\n",
       "0                      0                     0       0       0   \n",
       "1                      0                     0       0       0   \n",
       "2                      0                     0       0       0   \n",
       "3                      0                     0       0       0   \n",
       "4                      0                     0       1       0   \n",
       "\n",
       "   anti_dsdna_antibody  anti_smith_antibody  label  \n",
       "0                    0                    0      0  \n",
       "1                    0                    0      0  \n",
       "2                    1                    0      1  \n",
       "3                    1                    1      1  \n",
       "4                    0                    1      1  \n",
       "\n",
       "[5 rows x 24 columns]"
      ]
     },
     "execution_count": 25,
     "metadata": {},
     "output_type": "execute_result"
    }
   ],
   "source": [
    "training_df = pd.read_csv('../data/missingness/0/training_set.csv')\n",
    "training_df.head()"
   ]
  },
  {
   "cell_type": "markdown",
   "id": "daddef8b",
   "metadata": {},
   "source": [
    "#### Possibly useful functions"
   ]
  },
  {
   "cell_type": "code",
   "execution_count": 26,
   "id": "ef5d9594",
   "metadata": {},
   "outputs": [],
   "source": [
    "def generate_tuple_dict(df):\n",
    "    frequency_dict = {}\n",
    "    for traj in df.trajectory:\n",
    "        if traj in frequency_dict.keys():\n",
    "            frequency_dict[traj] += 1\n",
    "        else:\n",
    "            frequency_dict[traj] = 1\n",
    "    overall_tup_dict = {}\n",
    "    for key, value in frequency_dict.items():\n",
    "        new_key = ast.literal_eval(key)\n",
    "        for tup in zip(new_key, new_key[1:]):\n",
    "            if tup in overall_tup_dict.keys():\n",
    "                overall_tup_dict[tup] += value\n",
    "            else:\n",
    "                overall_tup_dict[tup] = value\n",
    "    return overall_tup_dict"
   ]
  },
  {
   "cell_type": "code",
   "execution_count": 27,
   "id": "8997631a",
   "metadata": {},
   "outputs": [],
   "source": [
    "def create_sankey_df(df):\n",
    "    overall_tup_dict = generate_tuple_dict(df)\n",
    "    sankey_df = pd.DataFrame()\n",
    "    sankey_df['source'] = [i[0] for i in overall_tup_dict.keys()]\n",
    "    sankey_df['target'] = [i[1] for i in overall_tup_dict.keys()]\n",
    "    sankey_df['value'] = list(overall_tup_dict.values())\n",
    "    sankey_df['link_type'] = sankey_df['target'].apply(lambda i: 'terminal' if i in ['No lupus', 'Lupus', 'Inconclusive diagnosis'] else 'non_terminal')\n",
    "    return sankey_df"
   ]
  },
  {
   "cell_type": "code",
   "execution_count": 28,
   "id": "f075765f",
   "metadata": {},
   "outputs": [],
   "source": [
    "def draw_pyvis_network(pathways_df, pathway_type='network'): #second type is trajectory \n",
    "    pathways_df['type'] = 'directed'\n",
    "    start_node = pathways_df.iloc[0]['source']\n",
    "    all_nodes = list(set(pathways_df.source.unique().tolist() + pathways_df.target.unique().tolist()))\n",
    "    terminal_nodes = list(set(pathways_df[pathways_df.link_type=='terminal'].target))\n",
    "    non_terminal_nodes = [i for i in all_nodes if i not in terminal_nodes and i!=start_node]\n",
    "    \n",
    "    #change get_net to something else since it satnds for Game of Thrones\n",
    "    got_net = Network(notebook=True, height='600px', width='100%', directed=True, cdn_resources='in_line')\n",
    "    got_net.add_node(start_node, color='purple', size=20)\n",
    "    got_net.add_nodes(non_terminal_nodes, size=[15]*len(non_terminal_nodes), color=['blue']*len(non_terminal_nodes))\n",
    "    got_net.add_nodes(terminal_nodes, color=['green']*len(terminal_nodes), size=[20]*len(terminal_nodes))\n",
    "    for src, target, value, edge_thresh in zip(pathways_df.source, pathways_df.target, pathways_df.value, pathways_df.edge_threshold):\n",
    "        if pathway_type =='network':\n",
    "            if value > threshold:\n",
    "                if math.isnan(edge_thresh):\n",
    "                    got_net.add_edge(src, target, value=value, color='red')\n",
    "                else:\n",
    "                    got_net.add_edge(src, target, value=value, color='red', label=str(int(edge_thresh)))\n",
    "            else:\n",
    "                got_net.add_edge(src, target, value=value, color='blue')\n",
    "        elif pathway_type =='trajectory': #It's just one trajectory\n",
    "            if isinstance(edge_thresh, str):\n",
    "                got_net.add_edge(src, target, value=value, color='blue', label=edge_thresh)\n",
    "            else:\n",
    "                got_net.add_edge(src, target, value=value, color='blue', label=str(int(edge_thresh)))\n",
    "        else:\n",
    "            print('Unknown pathway type')\n",
    "    return got_net"
   ]
  },
  {
   "cell_type": "code",
   "execution_count": 1,
   "id": "71ff017e",
   "metadata": {},
   "outputs": [],
   "source": [
    "from stable_baselines3 import DQN"
   ]
  },
  {
   "cell_type": "code",
   "execution_count": null,
   "id": "aa26812d",
   "metadata": {},
   "outputs": [],
   "source": []
  },
  {
   "cell_type": "code",
   "execution_count": null,
   "id": "96068215",
   "metadata": {},
   "outputs": [],
   "source": []
  },
  {
   "cell_type": "markdown",
   "id": "9289bb26",
   "metadata": {},
   "source": [
    "#### start from here"
   ]
  },
  {
   "cell_type": "code",
   "execution_count": 29,
   "id": "3246ef0d",
   "metadata": {},
   "outputs": [],
   "source": [
    "def get_threshold_value(df, source): #source e.g. 'ana'\n",
    "    threshold_values = df[source].unique().tolist()\n",
    "    if len(threshold_values) == 1:\n",
    "        return int(threshold_values[0])\n",
    "    else:\n",
    "        return str(threshold_values)"
   ]
  },
  {
   "cell_type": "code",
   "execution_count": 30,
   "id": "08b4d5ba",
   "metadata": {},
   "outputs": [],
   "source": [
    "def draw_one_trajectory(pred_df, trajectory): #pred_df = pred_no_lupus par exemple\n",
    "    trajectory_df = pred_df[pred_df.trajectory == trajectory]\n",
    "    trajectory_testing_df = testing_df.loc[trajectory_df.index]\n",
    "    trajectory_pathways_df = create_sankey_df(trajectory_df)\n",
    "    trajectory_pathways_df['edge_threshold'] = [get_threshold_value(trajectory_testing_df, source) for source in trajectory_pathways_df.source]\n",
    "    trajectory_net = draw_pyvis_network(trajectory_pathways_df, 'trajectory')   \n",
    "    return trajectory_net"
   ]
  },
  {
   "cell_type": "markdown",
   "id": "547223c4",
   "metadata": {},
   "source": [
    "#### No lupus diagnosis"
   ]
  },
  {
   "cell_type": "code",
   "execution_count": 31,
   "id": "74f9276a",
   "metadata": {},
   "outputs": [
    {
     "data": {
      "text/plain": [
       "\"['ana', 'pericardial_effusion', 'leukopenia', 'seizure', 'cutaneous_lupus', 'anti_cardioliphin_antibodies', 'non_scarring_alopecia', 'proteinuria', 'joint_involvement', 'anti_dsdna_antibody', 'No lupus']\""
      ]
     },
     "execution_count": 31,
     "metadata": {},
     "output_type": "execute_result"
    }
   ],
   "source": [
    "pred_no_lupus = test_df[test_df['y_pred']==0]\n",
    "no_lupus_pathway_1 = pred_no_lupus.trajectory.value_counts().index[1]\n",
    "no_lupus_pathway_1"
   ]
  },
  {
   "cell_type": "code",
   "execution_count": 32,
   "id": "567ab5f6",
   "metadata": {},
   "outputs": [
    {
     "data": {
      "text/plain": [
       "1328"
      ]
     },
     "execution_count": 32,
     "metadata": {},
     "output_type": "execute_result"
    }
   ],
   "source": [
    "len(pred_no_lupus[pred_no_lupus.trajectory == no_lupus_pathway_1])"
   ]
  },
  {
   "cell_type": "code",
   "execution_count": 33,
   "id": "b59e23ce",
   "metadata": {},
   "outputs": [
    {
     "data": {
      "text/plain": [
       "array([11., 22.,  2., 15., 12., 18., 21., 14., 20., 19., 24., 16., 17.,\n",
       "       23., 13.])"
      ]
     },
     "execution_count": 33,
     "metadata": {},
     "output_type": "execute_result"
    }
   ],
   "source": [
    "pred_no_lupus.episode_length.unique()"
   ]
  },
  {
   "cell_type": "code",
   "execution_count": 34,
   "id": "0fb0218f",
   "metadata": {},
   "outputs": [
    {
     "data": {
      "text/html": [
       "\n",
       "        <iframe\n",
       "            width=\"100%\"\n",
       "            height=\"600px\"\n",
       "            src=\"Example.html\"\n",
       "            frameborder=\"0\"\n",
       "            allowfullscreen\n",
       "            \n",
       "        ></iframe>\n",
       "        "
      ],
      "text/plain": [
       "<IPython.lib.display.IFrame at 0x7fad89bde950>"
      ]
     },
     "execution_count": 34,
     "metadata": {},
     "output_type": "execute_result"
    }
   ],
   "source": [
    "no_lupus_pathway1_net = draw_one_trajectory(pred_no_lupus, no_lupus_pathway_1)\n",
    "no_lupus_pathway1_net.show('Example.html')"
   ]
  },
  {
   "cell_type": "code",
   "execution_count": 35,
   "id": "fe80fbf4",
   "metadata": {},
   "outputs": [
    {
     "data": {
      "text/plain": [
       "1328"
      ]
     },
     "execution_count": 35,
     "metadata": {},
     "output_type": "execute_result"
    }
   ],
   "source": [
    "len(pred_no_lupus[pred_no_lupus.trajectory == no_lupus_pathway_1])"
   ]
  },
  {
   "cell_type": "code",
   "execution_count": 36,
   "id": "e15538a1",
   "metadata": {},
   "outputs": [
    {
     "data": {
      "text/plain": [
       "array([\"['ana', 'pericardial_effusion', 'leukopenia', 'seizure', 'cutaneous_lupus', 'delirium', 'anti_cardioliphin_antibodies', 'low_c3', 'oral_ulcers', 'proteinuria', 'joint_involvement', 'non_scarring_alopecia', 'thrombocytopenia', 'acute_pericarditis', 'lupus_anti_coagulant', 'anti_smith_antibody', 'fever', 'anti_dsdna_antibody', 'pleural_effusion', 'anti_β2gp1_antibodies', 'low_c4', 'auto_immune_hemolysis', 'psychosis', 'No lupus']\",\n",
       "       \"['ana', 'pericardial_effusion', 'leukopenia', 'seizure', 'non_scarring_alopecia', 'cutaneous_lupus', 'delirium', 'anti_dsdna_antibody', 'thrombocytopenia', 'low_c3', 'oral_ulcers', 'acute_pericarditis', 'proteinuria', 'joint_involvement', 'fever', 'low_c4', 'anti_smith_antibody', 'anti_cardioliphin_antibodies', 'pleural_effusion', 'anti_β2gp1_antibodies', 'lupus_anti_coagulant', 'auto_immune_hemolysis', 'psychosis', 'No lupus']\",\n",
       "       \"['ana', 'pericardial_effusion', 'leukopenia', 'seizure', 'cutaneous_lupus', 'delirium', 'anti_cardioliphin_antibodies', 'non_scarring_alopecia', 'low_c3', 'proteinuria', 'joint_involvement', 'lupus_anti_coagulant', 'anti_smith_antibody', 'anti_dsdna_antibody', 'oral_ulcers', 'fever', 'thrombocytopenia', 'pleural_effusion', 'anti_β2gp1_antibodies', 'low_c4', 'psychosis', 'auto_immune_hemolysis', 'acute_pericarditis', 'No lupus']\",\n",
       "       \"['ana', 'pericardial_effusion', 'leukopenia', 'seizure', 'non_scarring_alopecia', 'cutaneous_lupus', 'delirium', 'anti_dsdna_antibody', 'thrombocytopenia', 'low_c3', 'oral_ulcers', 'joint_involvement', 'acute_pericarditis', 'proteinuria', 'fever', 'low_c4', 'pleural_effusion', 'anti_cardioliphin_antibodies', 'anti_β2gp1_antibodies', 'lupus_anti_coagulant', 'anti_smith_antibody', 'auto_immune_hemolysis', 'psychosis', 'No lupus']\",\n",
       "       \"['ana', 'pericardial_effusion', 'leukopenia', 'seizure', 'cutaneous_lupus', 'anti_cardioliphin_antibodies', 'non_scarring_alopecia', 'proteinuria', 'joint_involvement', 'anti_dsdna_antibody', 'thrombocytopenia', 'oral_ulcers', 'pleural_effusion', 'delirium', 'acute_pericarditis', 'fever', 'lupus_anti_coagulant', 'anti_β2gp1_antibodies', 'anti_smith_antibody', 'low_c3', 'auto_immune_hemolysis', 'psychosis', 'low_c4', 'No lupus']\",\n",
       "       \"['ana', 'pericardial_effusion', 'leukopenia', 'seizure', 'anti_dsdna_antibody', 'joint_involvement', 'cutaneous_lupus', 'proteinuria', 'anti_β2gp1_antibodies', 'non_scarring_alopecia', 'anti_smith_antibody', 'delirium', 'oral_ulcers', 'fever', 'thrombocytopenia', 'low_c3', 'lupus_anti_coagulant', 'anti_cardioliphin_antibodies', 'pleural_effusion', 'low_c4', 'psychosis', 'auto_immune_hemolysis', 'acute_pericarditis', 'No lupus']\",\n",
       "       \"['ana', 'pericardial_effusion', 'leukopenia', 'seizure', 'cutaneous_lupus', 'delirium', 'anti_cardioliphin_antibodies', 'low_c3', 'oral_ulcers', 'proteinuria', 'joint_involvement', 'non_scarring_alopecia', 'thrombocytopenia', 'anti_dsdna_antibody', 'pleural_effusion', 'acute_pericarditis', 'anti_β2gp1_antibodies', 'fever', 'lupus_anti_coagulant', 'anti_smith_antibody', 'low_c4', 'auto_immune_hemolysis', 'psychosis', 'No lupus']\"],\n",
       "      dtype=object)"
      ]
     },
     "execution_count": 36,
     "metadata": {},
     "output_type": "execute_result"
    }
   ],
   "source": [
    "pred_no_lupus[pred_no_lupus.episode_length==pred_no_lupus.episode_length.max()].trajectory.unique()"
   ]
  },
  {
   "cell_type": "code",
   "execution_count": 57,
   "id": "635ebd3e",
   "metadata": {},
   "outputs": [
    {
     "data": {
      "text/html": [
       "\n",
       "        <iframe\n",
       "            width=\"100%\"\n",
       "            height=\"600px\"\n",
       "            src=\"Example.html\"\n",
       "            frameborder=\"0\"\n",
       "            allowfullscreen\n",
       "            \n",
       "        ></iframe>\n",
       "        "
      ],
      "text/plain": [
       "<IPython.lib.display.IFrame at 0x7fad0be21f90>"
      ]
     },
     "execution_count": 57,
     "metadata": {},
     "output_type": "execute_result"
    }
   ],
   "source": [
    "longest_no_lupus_pathway = pred_no_lupus[pred_no_lupus.episode_length == pred_no_lupus.episode_length.max()].trajectory.unique()[6]\n",
    "longest_pathway1_net = draw_one_trajectory(pred_no_lupus, longest_no_lupus_pathway)\n",
    "longest_pathway1_net.show('Example.html')"
   ]
  },
  {
   "cell_type": "code",
   "execution_count": 58,
   "id": "44462967",
   "metadata": {},
   "outputs": [
    {
     "data": {
      "text/plain": [
       "3"
      ]
     },
     "execution_count": 58,
     "metadata": {},
     "output_type": "execute_result"
    }
   ],
   "source": [
    "len(pred_no_lupus[pred_no_lupus.trajectory == longest_no_lupus_pathway])"
   ]
  },
  {
   "cell_type": "code",
   "execution_count": null,
   "id": "6c85a90b",
   "metadata": {},
   "outputs": [],
   "source": [
    "commonest_no_lupus_pathway = pred_no_lupus.trajectory.value_counts().index[1]\n",
    "commonest_no_lupus_pathway_net = draw_one_trajectory(pred_no_lupus, commonest_no_lupus_pathway)\n",
    "commonest_no_lupus_pathway_net.show('Example.html')"
   ]
  },
  {
   "cell_type": "code",
   "execution_count": null,
   "id": "4d6f45a7",
   "metadata": {},
   "outputs": [],
   "source": [
    "len(pred_no_lupus[pred_no_lupus.trajectory == commonest_no_lupus_pathway])"
   ]
  },
  {
   "cell_type": "markdown",
   "id": "6120bc06",
   "metadata": {},
   "source": [
    "#### Lupus diagnosis"
   ]
  },
  {
   "cell_type": "code",
   "execution_count": 61,
   "id": "02a6dc7d",
   "metadata": {},
   "outputs": [
    {
     "data": {
      "text/plain": [
       "14.336621062678969"
      ]
     },
     "execution_count": 61,
     "metadata": {},
     "output_type": "execute_result"
    }
   ],
   "source": [
    "pred_lupus = test_df[test_df['y_pred']==1]\n",
    "pred_lupus.episode_length.mean()"
   ]
  },
  {
   "cell_type": "code",
   "execution_count": 63,
   "id": "3aa4d16c",
   "metadata": {},
   "outputs": [
    {
     "data": {
      "text/html": [
       "\n",
       "        <iframe\n",
       "            width=\"100%\"\n",
       "            height=\"600px\"\n",
       "            src=\"Example.html\"\n",
       "            frameborder=\"0\"\n",
       "            allowfullscreen\n",
       "            \n",
       "        ></iframe>\n",
       "        "
      ],
      "text/plain": [
       "<IPython.lib.display.IFrame at 0x7fad0bdde3d0>"
      ]
     },
     "execution_count": 63,
     "metadata": {},
     "output_type": "execute_result"
    }
   ],
   "source": [
    "commonest_lupus_pathway = pred_lupus.trajectory.value_counts().index[0]\n",
    "commonest_lupus_pathway_net = draw_one_trajectory(pred_lupus, commonest_lupus_pathway)\n",
    "commonest_lupus_pathway_net.show('Example.html')"
   ]
  },
  {
   "cell_type": "code",
   "execution_count": 65,
   "id": "e6914d68",
   "metadata": {},
   "outputs": [
    {
     "data": {
      "text/plain": [
       "262"
      ]
     },
     "execution_count": 65,
     "metadata": {},
     "output_type": "execute_result"
    }
   ],
   "source": [
    "len(pred_lupus[pred_lupus.trajectory == commonest_lupus_pathway])"
   ]
  },
  {
   "cell_type": "code",
   "execution_count": 66,
   "id": "90b43327",
   "metadata": {},
   "outputs": [
    {
     "data": {
      "text/plain": [
       "array([\"['ana', 'pericardial_effusion', 'leukopenia', 'seizure', 'Lupus']\"],\n",
       "      dtype=object)"
      ]
     },
     "execution_count": 66,
     "metadata": {},
     "output_type": "execute_result"
    }
   ],
   "source": [
    "pred_lupus[pred_lupus.episode_length==pred_lupus.episode_length.min()].trajectory.unique()"
   ]
  },
  {
   "cell_type": "code",
   "execution_count": 67,
   "id": "90373fd3",
   "metadata": {},
   "outputs": [
    {
     "data": {
      "text/html": [
       "\n",
       "        <iframe\n",
       "            width=\"100%\"\n",
       "            height=\"600px\"\n",
       "            src=\"Example.html\"\n",
       "            frameborder=\"0\"\n",
       "            allowfullscreen\n",
       "            \n",
       "        ></iframe>\n",
       "        "
      ],
      "text/plain": [
       "<IPython.lib.display.IFrame at 0x7fad0be5c490>"
      ]
     },
     "execution_count": 67,
     "metadata": {},
     "output_type": "execute_result"
    }
   ],
   "source": [
    "shortest_lupus_pathway = pred_lupus[pred_lupus.episode_length==pred_lupus.episode_length.min()].trajectory.unique()[0]\n",
    "shortest_lupus_pathway_net = draw_one_trajectory(pred_lupus, shortest_lupus_pathway)\n",
    "shortest_lupus_pathway_net.show('Example.html')"
   ]
  },
  {
   "cell_type": "code",
   "execution_count": 68,
   "id": "fe11fa6d",
   "metadata": {},
   "outputs": [
    {
     "data": {
      "text/plain": [
       "90"
      ]
     },
     "execution_count": 68,
     "metadata": {},
     "output_type": "execute_result"
    }
   ],
   "source": [
    "len(pred_lupus[pred_lupus.trajectory == shortest_lupus_pathway])"
   ]
  },
  {
   "cell_type": "code",
   "execution_count": 76,
   "id": "766d23f4",
   "metadata": {},
   "outputs": [
    {
     "data": {
      "text/plain": [
       "['ana', 'pericardial_effusion', 'leukopenia', 'seizure', 'cutaneous_lupus', 'anti_cardioliphin_antibodies', 'non_scarring_alopecia', 'proteinuria', 'joint_involvement', 'anti_dsdna_antibody', 'thrombocytopenia', 'oral_ulcers', 'pleural_effusion', 'delirium', 'acute_pericarditis', 'low_c3', 'fever', 'anti_β2gp1_antibodies', 'lupus_anti_coagulant', 'anti_smith_antibody', 'low_c4', 'psychosis', 'auto_immune_hemolysis', 'Lupus']    9\n",
       "['ana', 'pericardial_effusion', 'leukopenia', 'seizure', 'non_scarring_alopecia', 'anti_cardioliphin_antibodies', 'acute_pericarditis', 'low_c3', 'cutaneous_lupus', 'delirium', 'proteinuria', 'thrombocytopenia', 'oral_ulcers', 'fever', 'low_c4', 'joint_involvement', 'anti_dsdna_antibody', 'pleural_effusion', 'anti_β2gp1_antibodies', 'anti_smith_antibody', 'lupus_anti_coagulant', 'auto_immune_hemolysis', 'psychosis', 'Lupus']    2\n",
       "['ana', 'pericardial_effusion', 'leukopenia', 'non_scarring_alopecia', 'seizure', 'cutaneous_lupus', 'low_c3', 'anti_cardioliphin_antibodies', 'acute_pericarditis', 'oral_ulcers', 'fever', 'anti_smith_antibody', 'proteinuria', 'delirium', 'lupus_anti_coagulant', 'low_c4', 'anti_dsdna_antibody', 'joint_involvement', 'anti_β2gp1_antibodies', 'thrombocytopenia', 'pleural_effusion', 'psychosis', 'auto_immune_hemolysis', 'Lupus']    2\n",
       "['ana', 'pericardial_effusion', 'leukopenia', 'non_scarring_alopecia', 'seizure', 'cutaneous_lupus', 'low_c3', 'anti_cardioliphin_antibodies', 'acute_pericarditis', 'oral_ulcers', 'fever', 'anti_smith_antibody', 'proteinuria', 'delirium', 'lupus_anti_coagulant', 'low_c4', 'anti_β2gp1_antibodies', 'anti_dsdna_antibody', 'joint_involvement', 'thrombocytopenia', 'pleural_effusion', 'psychosis', 'auto_immune_hemolysis', 'Lupus']    2\n",
       "['ana', 'pericardial_effusion', 'leukopenia', 'non_scarring_alopecia', 'seizure', 'cutaneous_lupus', 'anti_smith_antibody', 'acute_pericarditis', 'low_c3', 'fever', 'anti_cardioliphin_antibodies', 'proteinuria', 'delirium', 'oral_ulcers', 'lupus_anti_coagulant', 'low_c4', 'pleural_effusion', 'joint_involvement', 'anti_dsdna_antibody', 'anti_β2gp1_antibodies', 'thrombocytopenia', 'psychosis', 'auto_immune_hemolysis', 'Lupus']    2\n",
       "['ana', 'pericardial_effusion', 'leukopenia', 'non_scarring_alopecia', 'seizure', 'cutaneous_lupus', 'delirium', 'low_c3', 'anti_dsdna_antibody', 'anti_smith_antibody', 'oral_ulcers', 'proteinuria', 'fever', 'joint_involvement', 'anti_β2gp1_antibodies', 'thrombocytopenia', 'pleural_effusion', 'low_c4', 'lupus_anti_coagulant', 'anti_cardioliphin_antibodies', 'acute_pericarditis', 'psychosis', 'auto_immune_hemolysis', 'Lupus']    1\n",
       "['ana', 'pericardial_effusion', 'leukopenia', 'non_scarring_alopecia', 'seizure', 'cutaneous_lupus', 'anti_dsdna_antibody', 'anti_smith_antibody', 'low_c3', 'oral_ulcers', 'proteinuria', 'delirium', 'joint_involvement', 'anti_β2gp1_antibodies', 'fever', 'thrombocytopenia', 'acute_pericarditis', 'pleural_effusion', 'low_c4', 'anti_cardioliphin_antibodies', 'lupus_anti_coagulant', 'psychosis', 'auto_immune_hemolysis', 'Lupus']    1\n",
       "['ana', 'pericardial_effusion', 'leukopenia', 'seizure', 'non_scarring_alopecia', 'cutaneous_lupus', 'acute_pericarditis', 'oral_ulcers', 'anti_smith_antibody', 'fever', 'low_c3', 'anti_cardioliphin_antibodies', 'proteinuria', 'delirium', 'anti_dsdna_antibody', 'joint_involvement', 'anti_β2gp1_antibodies', 'thrombocytopenia', 'lupus_anti_coagulant', 'pleural_effusion', 'low_c4', 'psychosis', 'auto_immune_hemolysis', 'Lupus']    1\n",
       "['ana', 'pericardial_effusion', 'leukopenia', 'seizure', 'cutaneous_lupus', 'delirium', 'anti_cardioliphin_antibodies', 'low_c3', 'oral_ulcers', 'proteinuria', 'joint_involvement', 'non_scarring_alopecia', 'thrombocytopenia', 'acute_pericarditis', 'lupus_anti_coagulant', 'anti_smith_antibody', 'fever', 'anti_dsdna_antibody', 'pleural_effusion', 'anti_β2gp1_antibodies', 'low_c4', 'auto_immune_hemolysis', 'psychosis', 'Lupus']    1\n",
       "['ana', 'pericardial_effusion', 'leukopenia', 'seizure', 'cutaneous_lupus', 'delirium', 'anti_cardioliphin_antibodies', 'low_c3', 'non_scarring_alopecia', 'oral_ulcers', 'proteinuria', 'joint_involvement', 'lupus_anti_coagulant', 'anti_dsdna_antibody', 'anti_β2gp1_antibodies', 'thrombocytopenia', 'pleural_effusion', 'fever', 'low_c4', 'anti_smith_antibody', 'acute_pericarditis', 'auto_immune_hemolysis', 'psychosis', 'Lupus']    1\n",
       "['ana', 'pericardial_effusion', 'leukopenia', 'non_scarring_alopecia', 'seizure', 'cutaneous_lupus', 'anti_smith_antibody', 'acute_pericarditis', 'oral_ulcers', 'proteinuria', 'fever', 'low_c3', 'anti_cardioliphin_antibodies', 'lupus_anti_coagulant', 'low_c4', 'anti_dsdna_antibody', 'delirium', 'joint_involvement', 'anti_β2gp1_antibodies', 'thrombocytopenia', 'pleural_effusion', 'psychosis', 'auto_immune_hemolysis', 'Lupus']    1\n",
       "['ana', 'pericardial_effusion', 'leukopenia', 'seizure', 'non_scarring_alopecia', 'anti_cardioliphin_antibodies', 'acute_pericarditis', 'low_c3', 'cutaneous_lupus', 'oral_ulcers', 'delirium', 'proteinuria', 'anti_smith_antibody', 'fever', 'thrombocytopenia', 'anti_dsdna_antibody', 'joint_involvement', 'anti_β2gp1_antibodies', 'low_c4', 'pleural_effusion', 'psychosis', 'lupus_anti_coagulant', 'auto_immune_hemolysis', 'Lupus']    1\n",
       "['ana', 'pericardial_effusion', 'leukopenia', 'non_scarring_alopecia', 'seizure', 'cutaneous_lupus', 'anti_dsdna_antibody', 'anti_smith_antibody', 'delirium', 'proteinuria', 'joint_involvement', 'oral_ulcers', 'anti_β2gp1_antibodies', 'low_c3', 'low_c4', 'acute_pericarditis', 'fever', 'anti_cardioliphin_antibodies', 'lupus_anti_coagulant', 'pleural_effusion', 'thrombocytopenia', 'psychosis', 'auto_immune_hemolysis', 'Lupus']    1\n",
       "['ana', 'pericardial_effusion', 'leukopenia', 'seizure', 'non_scarring_alopecia', 'cutaneous_lupus', 'delirium', 'anti_dsdna_antibody', 'thrombocytopenia', 'low_c3', 'oral_ulcers', 'acute_pericarditis', 'proteinuria', 'joint_involvement', 'fever', 'low_c4', 'anti_cardioliphin_antibodies', 'anti_smith_antibody', 'pleural_effusion', 'lupus_anti_coagulant', 'anti_β2gp1_antibodies', 'auto_immune_hemolysis', 'psychosis', 'Lupus']    1\n",
       "['ana', 'pericardial_effusion', 'leukopenia', 'non_scarring_alopecia', 'seizure', 'cutaneous_lupus', 'anti_dsdna_antibody', 'anti_smith_antibody', 'low_c3', 'low_c4', 'delirium', 'proteinuria', 'oral_ulcers', 'joint_involvement', 'anti_β2gp1_antibodies', 'acute_pericarditis', 'thrombocytopenia', 'fever', 'anti_cardioliphin_antibodies', 'lupus_anti_coagulant', 'pleural_effusion', 'psychosis', 'auto_immune_hemolysis', 'Lupus']    1\n",
       "['ana', 'pericardial_effusion', 'leukopenia', 'seizure', 'anti_dsdna_antibody', 'joint_involvement', 'cutaneous_lupus', 'proteinuria', 'anti_β2gp1_antibodies', 'non_scarring_alopecia', 'anti_smith_antibody', 'delirium', 'oral_ulcers', 'fever', 'thrombocytopenia', 'low_c3', 'low_c4', 'anti_cardioliphin_antibodies', 'lupus_anti_coagulant', 'pleural_effusion', 'psychosis', 'auto_immune_hemolysis', 'acute_pericarditis', 'Lupus']    1\n",
       "['ana', 'pericardial_effusion', 'leukopenia', 'non_scarring_alopecia', 'seizure', 'cutaneous_lupus', 'anti_smith_antibody', 'proteinuria', 'oral_ulcers', 'delirium', 'anti_cardioliphin_antibodies', 'thrombocytopenia', 'anti_dsdna_antibody', 'joint_involvement', 'low_c4', 'anti_β2gp1_antibodies', 'low_c3', 'acute_pericarditis', 'fever', 'lupus_anti_coagulant', 'pleural_effusion', 'psychosis', 'auto_immune_hemolysis', 'Lupus']    1\n",
       "['ana', 'pericardial_effusion', 'leukopenia', 'seizure', 'cutaneous_lupus', 'delirium', 'anti_cardioliphin_antibodies', 'low_c3', 'oral_ulcers', 'non_scarring_alopecia', 'proteinuria', 'joint_involvement', 'anti_smith_antibody', 'lupus_anti_coagulant', 'anti_dsdna_antibody', 'anti_β2gp1_antibodies', 'thrombocytopenia', 'acute_pericarditis', 'fever', 'pleural_effusion', 'low_c4', 'psychosis', 'auto_immune_hemolysis', 'Lupus']    1\n",
       "Name: trajectory, dtype: int64"
      ]
     },
     "execution_count": 76,
     "metadata": {},
     "output_type": "execute_result"
    }
   ],
   "source": [
    "pred_lupus[pred_lupus.episode_length==pred_lupus.episode_length.max()].trajectory.value_counts()"
   ]
  },
  {
   "cell_type": "code",
   "execution_count": 80,
   "id": "71d82aa2",
   "metadata": {},
   "outputs": [
    {
     "data": {
      "text/html": [
       "\n",
       "        <iframe\n",
       "            width=\"100%\"\n",
       "            height=\"600px\"\n",
       "            src=\"Example.html\"\n",
       "            frameborder=\"0\"\n",
       "            allowfullscreen\n",
       "            \n",
       "        ></iframe>\n",
       "        "
      ],
      "text/plain": [
       "<IPython.lib.display.IFrame at 0x7fad0bdc7c10>"
      ]
     },
     "execution_count": 80,
     "metadata": {},
     "output_type": "execute_result"
    }
   ],
   "source": [
    "longest_lupus_pathway = pred_lupus[pred_lupus.episode_length==pred_lupus.episode_length.max()].trajectory.value_counts().index[2]\n",
    "longest_lupus_pathway_net = draw_one_trajectory(pred_lupus, longest_lupus_pathway)\n",
    "longest_lupus_pathway_net.show('Example.html')"
   ]
  },
  {
   "cell_type": "code",
   "execution_count": 81,
   "id": "9381a92c",
   "metadata": {},
   "outputs": [
    {
     "data": {
      "text/plain": [
       "2"
      ]
     },
     "execution_count": 81,
     "metadata": {},
     "output_type": "execute_result"
    }
   ],
   "source": [
    "len(pred_lupus[pred_lupus.trajectory == longest_lupus_pathway])"
   ]
  },
  {
   "cell_type": "code",
   "execution_count": null,
   "id": "cb4874b3",
   "metadata": {},
   "outputs": [],
   "source": []
  },
  {
   "cell_type": "code",
   "execution_count": null,
   "id": "926b9ebb",
   "metadata": {},
   "outputs": [],
   "source": []
  },
  {
   "cell_type": "code",
   "execution_count": null,
   "id": "9e68a40f",
   "metadata": {},
   "outputs": [],
   "source": []
  },
  {
   "cell_type": "code",
   "execution_count": null,
   "id": "c5214c0d",
   "metadata": {},
   "outputs": [],
   "source": []
  },
  {
   "cell_type": "code",
   "execution_count": null,
   "id": "7b115bfc",
   "metadata": {},
   "outputs": [],
   "source": []
  },
  {
   "cell_type": "code",
   "execution_count": null,
   "id": "4ac9287e",
   "metadata": {},
   "outputs": [],
   "source": []
  },
  {
   "cell_type": "code",
   "execution_count": null,
   "id": "f239b76e",
   "metadata": {},
   "outputs": [],
   "source": [
    "pred_lupus.trajectory.value_counts()"
   ]
  },
  {
   "cell_type": "code",
   "execution_count": null,
   "id": "461cb89b",
   "metadata": {},
   "outputs": [],
   "source": [
    "longest_lupus_pathway_net = draw_one_trajectory(pred_lupus, longest_lupus_pathway)\n",
    "longest_lupus_pathway_net.show('Example.html')"
   ]
  },
  {
   "cell_type": "code",
   "execution_count": null,
   "id": "4ca6aecd",
   "metadata": {},
   "outputs": [],
   "source": []
  }
 ],
 "metadata": {
  "kernelspec": {
   "display_name": "Python 3 (ipykernel)",
   "language": "python",
   "name": "python3"
  },
  "language_info": {
   "codemirror_mode": {
    "name": "ipython",
    "version": 3
   },
   "file_extension": ".py",
   "mimetype": "text/x-python",
   "name": "python",
   "nbconvert_exporter": "python",
   "pygments_lexer": "ipython3",
   "version": "3.7.4"
  }
 },
 "nbformat": 4,
 "nbformat_minor": 5
}

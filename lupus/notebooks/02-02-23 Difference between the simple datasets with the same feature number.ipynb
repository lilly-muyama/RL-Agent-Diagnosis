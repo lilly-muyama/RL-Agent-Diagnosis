{
 "cells": [
  {
   "cell_type": "code",
   "execution_count": 29,
   "id": "bcb3b54d",
   "metadata": {},
   "outputs": [],
   "source": [
    "import pandas as pd\n",
    "import numpy as np"
   ]
  },
  {
   "cell_type": "markdown",
   "id": "649f79a3",
   "metadata": {},
   "source": [
    "#### 5 features"
   ]
  },
  {
   "cell_type": "code",
   "execution_count": 30,
   "id": "3efa0816",
   "metadata": {},
   "outputs": [
    {
     "data": {
      "text/html": [
       "<div>\n",
       "<style scoped>\n",
       "    .dataframe tbody tr th:only-of-type {\n",
       "        vertical-align: middle;\n",
       "    }\n",
       "\n",
       "    .dataframe tbody tr th {\n",
       "        vertical-align: top;\n",
       "    }\n",
       "\n",
       "    .dataframe thead th {\n",
       "        text-align: right;\n",
       "    }\n",
       "</style>\n",
       "<table border=\"1\" class=\"dataframe\">\n",
       "  <thead>\n",
       "    <tr style=\"text-align: right;\">\n",
       "      <th></th>\n",
       "      <th>ana</th>\n",
       "      <th>anti_dsdna_antibody</th>\n",
       "      <th>joint_involvement</th>\n",
       "      <th>proteinuria</th>\n",
       "      <th>pericardial_effusion</th>\n",
       "      <th>non_scarring_alopecia</th>\n",
       "      <th>leukopenia</th>\n",
       "      <th>delirium</th>\n",
       "      <th>label</th>\n",
       "    </tr>\n",
       "  </thead>\n",
       "  <tbody>\n",
       "    <tr>\n",
       "      <th>0</th>\n",
       "      <td>0</td>\n",
       "      <td>0</td>\n",
       "      <td>1</td>\n",
       "      <td>0</td>\n",
       "      <td>1</td>\n",
       "      <td>1</td>\n",
       "      <td>1</td>\n",
       "      <td>0</td>\n",
       "      <td>No lupus</td>\n",
       "    </tr>\n",
       "    <tr>\n",
       "      <th>1</th>\n",
       "      <td>1</td>\n",
       "      <td>0</td>\n",
       "      <td>0</td>\n",
       "      <td>0</td>\n",
       "      <td>0</td>\n",
       "      <td>0</td>\n",
       "      <td>0</td>\n",
       "      <td>0</td>\n",
       "      <td>No lupus</td>\n",
       "    </tr>\n",
       "    <tr>\n",
       "      <th>2</th>\n",
       "      <td>0</td>\n",
       "      <td>0</td>\n",
       "      <td>1</td>\n",
       "      <td>0</td>\n",
       "      <td>0</td>\n",
       "      <td>0</td>\n",
       "      <td>0</td>\n",
       "      <td>1</td>\n",
       "      <td>No lupus</td>\n",
       "    </tr>\n",
       "    <tr>\n",
       "      <th>3</th>\n",
       "      <td>0</td>\n",
       "      <td>1</td>\n",
       "      <td>0</td>\n",
       "      <td>1</td>\n",
       "      <td>0</td>\n",
       "      <td>0</td>\n",
       "      <td>0</td>\n",
       "      <td>0</td>\n",
       "      <td>No lupus</td>\n",
       "    </tr>\n",
       "    <tr>\n",
       "      <th>4</th>\n",
       "      <td>1</td>\n",
       "      <td>0</td>\n",
       "      <td>1</td>\n",
       "      <td>0</td>\n",
       "      <td>1</td>\n",
       "      <td>1</td>\n",
       "      <td>1</td>\n",
       "      <td>0</td>\n",
       "      <td>Lupus</td>\n",
       "    </tr>\n",
       "  </tbody>\n",
       "</table>\n",
       "</div>"
      ],
      "text/plain": [
       "   ana  anti_dsdna_antibody  joint_involvement  proteinuria  \\\n",
       "0    0                    0                  1            0   \n",
       "1    1                    0                  0            0   \n",
       "2    0                    0                  1            0   \n",
       "3    0                    1                  0            1   \n",
       "4    1                    0                  1            0   \n",
       "\n",
       "   pericardial_effusion  non_scarring_alopecia  leukopenia  delirium     label  \n",
       "0                     1                      1           1         0  No lupus  \n",
       "1                     0                      0           0         0  No lupus  \n",
       "2                     0                      0           0         1  No lupus  \n",
       "3                     0                      0           0         0  No lupus  \n",
       "4                     1                      1           1         0     Lupus  "
      ]
     },
     "execution_count": 30,
     "metadata": {},
     "output_type": "execute_result"
    }
   ],
   "source": [
    "simple_8_df = pd.read_csv('../data/very_simple_datasets/feats_8.csv')\n",
    "simple_8_df.head()"
   ]
  },
  {
   "cell_type": "code",
   "execution_count": 31,
   "id": "8dd9a6dc",
   "metadata": {},
   "outputs": [
    {
     "data": {
      "text/html": [
       "<div>\n",
       "<style scoped>\n",
       "    .dataframe tbody tr th:only-of-type {\n",
       "        vertical-align: middle;\n",
       "    }\n",
       "\n",
       "    .dataframe tbody tr th {\n",
       "        vertical-align: top;\n",
       "    }\n",
       "\n",
       "    .dataframe thead th {\n",
       "        text-align: right;\n",
       "    }\n",
       "</style>\n",
       "<table border=\"1\" class=\"dataframe\">\n",
       "  <thead>\n",
       "    <tr style=\"text-align: right;\">\n",
       "      <th></th>\n",
       "      <th>ana</th>\n",
       "      <th>anti_dsdna_antibody</th>\n",
       "      <th>joint_involvement</th>\n",
       "      <th>proteinuria</th>\n",
       "      <th>pericardial_effusion</th>\n",
       "      <th>non_scarring_alopecia</th>\n",
       "      <th>leukopenia</th>\n",
       "      <th>delirium</th>\n",
       "      <th>label</th>\n",
       "    </tr>\n",
       "  </thead>\n",
       "  <tbody>\n",
       "    <tr>\n",
       "      <th>0</th>\n",
       "      <td>1</td>\n",
       "      <td>0</td>\n",
       "      <td>0</td>\n",
       "      <td>1</td>\n",
       "      <td>1</td>\n",
       "      <td>1</td>\n",
       "      <td>0</td>\n",
       "      <td>0</td>\n",
       "      <td>1</td>\n",
       "    </tr>\n",
       "    <tr>\n",
       "      <th>1</th>\n",
       "      <td>0</td>\n",
       "      <td>0</td>\n",
       "      <td>1</td>\n",
       "      <td>0</td>\n",
       "      <td>0</td>\n",
       "      <td>0</td>\n",
       "      <td>0</td>\n",
       "      <td>1</td>\n",
       "      <td>0</td>\n",
       "    </tr>\n",
       "    <tr>\n",
       "      <th>2</th>\n",
       "      <td>1</td>\n",
       "      <td>0</td>\n",
       "      <td>1</td>\n",
       "      <td>1</td>\n",
       "      <td>0</td>\n",
       "      <td>0</td>\n",
       "      <td>1</td>\n",
       "      <td>1</td>\n",
       "      <td>1</td>\n",
       "    </tr>\n",
       "    <tr>\n",
       "      <th>3</th>\n",
       "      <td>1</td>\n",
       "      <td>1</td>\n",
       "      <td>0</td>\n",
       "      <td>1</td>\n",
       "      <td>0</td>\n",
       "      <td>0</td>\n",
       "      <td>0</td>\n",
       "      <td>0</td>\n",
       "      <td>1</td>\n",
       "    </tr>\n",
       "    <tr>\n",
       "      <th>4</th>\n",
       "      <td>0</td>\n",
       "      <td>0</td>\n",
       "      <td>0</td>\n",
       "      <td>0</td>\n",
       "      <td>0</td>\n",
       "      <td>1</td>\n",
       "      <td>1</td>\n",
       "      <td>0</td>\n",
       "      <td>0</td>\n",
       "    </tr>\n",
       "  </tbody>\n",
       "</table>\n",
       "</div>"
      ],
      "text/plain": [
       "   ana  anti_dsdna_antibody  joint_involvement  proteinuria  \\\n",
       "0    1                    0                  0            1   \n",
       "1    0                    0                  1            0   \n",
       "2    1                    0                  1            1   \n",
       "3    1                    1                  0            1   \n",
       "4    0                    0                  0            0   \n",
       "\n",
       "   pericardial_effusion  non_scarring_alopecia  leukopenia  delirium  label  \n",
       "0                     1                      1           0         0      1  \n",
       "1                     0                      0           0         1      0  \n",
       "2                     0                      0           1         1      1  \n",
       "3                     0                      0           0         0      1  \n",
       "4                     0                      1           1         0      0  "
      ]
     },
     "execution_count": 31,
     "metadata": {},
     "output_type": "execute_result"
    }
   ],
   "source": [
    "lupus_8_df = pd.read_csv('../data/very_simple_datasets/lupus_8_features.csv')\n",
    "lupus_8_df.head()"
   ]
  },
  {
   "cell_type": "code",
   "execution_count": 32,
   "id": "ece21ee6",
   "metadata": {},
   "outputs": [
    {
     "data": {
      "text/plain": [
       "No lupus    42852\n",
       "Lupus       27148\n",
       "Name: label, dtype: int64"
      ]
     },
     "execution_count": 32,
     "metadata": {},
     "output_type": "execute_result"
    }
   ],
   "source": [
    "simple_8_df.label.value_counts()"
   ]
  },
  {
   "cell_type": "code",
   "execution_count": 33,
   "id": "403cf835",
   "metadata": {},
   "outputs": [
    {
     "data": {
      "text/plain": [
       "0    33118\n",
       "1    31882\n",
       "Name: label, dtype: int64"
      ]
     },
     "execution_count": 33,
     "metadata": {},
     "output_type": "execute_result"
    }
   ],
   "source": [
    "lupus_8_df.label.value_counts()"
   ]
  },
  {
   "cell_type": "code",
   "execution_count": 34,
   "id": "05fbb39a",
   "metadata": {},
   "outputs": [
    {
     "data": {
      "text/plain": [
       "34974"
      ]
     },
     "execution_count": 34,
     "metadata": {},
     "output_type": "execute_result"
    }
   ],
   "source": [
    "len(simple_8_df[simple_8_df.ana==0])"
   ]
  },
  {
   "cell_type": "code",
   "execution_count": 35,
   "id": "d4386e70",
   "metadata": {},
   "outputs": [
    {
     "data": {
      "text/plain": [
       "15000"
      ]
     },
     "execution_count": 35,
     "metadata": {},
     "output_type": "execute_result"
    }
   ],
   "source": [
    "len(lupus_8_df[lupus_8_df.ana==0])"
   ]
  },
  {
   "cell_type": "code",
   "execution_count": 38,
   "id": "c56bb080",
   "metadata": {},
   "outputs": [
    {
     "data": {
      "text/plain": [
       "35026"
      ]
     },
     "execution_count": 38,
     "metadata": {},
     "output_type": "execute_result"
    }
   ],
   "source": [
    "len(simple_8_df[simple_8_df.ana==1])"
   ]
  },
  {
   "cell_type": "code",
   "execution_count": 39,
   "id": "c7f6970f",
   "metadata": {},
   "outputs": [
    {
     "data": {
      "text/plain": [
       "50000"
      ]
     },
     "execution_count": 39,
     "metadata": {},
     "output_type": "execute_result"
    }
   ],
   "source": [
    "len(lupus_8_df[lupus_8_df.ana==1])"
   ]
  },
  {
   "cell_type": "code",
   "execution_count": 40,
   "id": "54053ec3",
   "metadata": {},
   "outputs": [
    {
     "data": {
      "text/plain": [
       "7878"
      ]
     },
     "execution_count": 40,
     "metadata": {},
     "output_type": "execute_result"
    }
   ],
   "source": [
    "len(simple_8_df[(simple_8_df.ana==1) & (simple_8_df.label=='No lupus')])"
   ]
  },
  {
   "cell_type": "code",
   "execution_count": 41,
   "id": "fa0ab092",
   "metadata": {},
   "outputs": [
    {
     "data": {
      "text/plain": [
       "18118"
      ]
     },
     "execution_count": 41,
     "metadata": {},
     "output_type": "execute_result"
    }
   ],
   "source": [
    "len(lupus_8_df[(lupus_8_df.ana==1) & (lupus_8_df.label==0)])"
   ]
  },
  {
   "cell_type": "code",
   "execution_count": 42,
   "id": "ce6b76c6",
   "metadata": {},
   "outputs": [
    {
     "data": {
      "text/plain": [
       "27148"
      ]
     },
     "execution_count": 42,
     "metadata": {},
     "output_type": "execute_result"
    }
   ],
   "source": [
    "len(simple_8_df[(simple_8_df.ana==1) & (simple_8_df.label=='Lupus')])"
   ]
  },
  {
   "cell_type": "code",
   "execution_count": 43,
   "id": "a35df3db",
   "metadata": {},
   "outputs": [
    {
     "data": {
      "text/plain": [
       "31882"
      ]
     },
     "execution_count": 43,
     "metadata": {},
     "output_type": "execute_result"
    }
   ],
   "source": [
    "len(lupus_8_df[(lupus_8_df.ana==1) & (lupus_8_df.label==1)])"
   ]
  },
  {
   "cell_type": "code",
   "execution_count": 57,
   "id": "3a8a0859",
   "metadata": {},
   "outputs": [
    {
     "data": {
      "text/plain": [
       "0    43086\n",
       "1    21914\n",
       "Name: leukopenia, dtype: int64"
      ]
     },
     "execution_count": 57,
     "metadata": {},
     "output_type": "execute_result"
    }
   ],
   "source": [
    "lupus_8_df.leukopenia.value_counts()"
   ]
  },
  {
   "cell_type": "code",
   "execution_count": null,
   "id": "5964e45d",
   "metadata": {},
   "outputs": [],
   "source": []
  },
  {
   "cell_type": "code",
   "execution_count": null,
   "id": "af364a2c",
   "metadata": {},
   "outputs": [],
   "source": []
  }
 ],
 "metadata": {
  "kernelspec": {
   "display_name": "Python 3 (ipykernel)",
   "language": "python",
   "name": "python3"
  },
  "language_info": {
   "codemirror_mode": {
    "name": "ipython",
    "version": 3
   },
   "file_extension": ".py",
   "mimetype": "text/x-python",
   "name": "python",
   "nbconvert_exporter": "python",
   "pygments_lexer": "ipython3",
   "version": "3.7.4"
  }
 },
 "nbformat": 4,
 "nbformat_minor": 5
}

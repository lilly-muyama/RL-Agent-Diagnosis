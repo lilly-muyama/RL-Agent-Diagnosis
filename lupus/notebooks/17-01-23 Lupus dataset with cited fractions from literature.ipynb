{
 "cells": [
  {
   "cell_type": "code",
   "execution_count": 1,
   "id": "794984d1",
   "metadata": {},
   "outputs": [],
   "source": [
    "import pandas as pd\n",
    "import numpy as np\n",
    "import random\n",
    "import seaborn as sns\n",
    "from scipy.stats import truncnorm\n",
    "import matplotlib.pyplot as plt\n",
    "%matplotlib inline\n",
    "from sklearn.model_selection import train_test_split\n",
    "import sys\n",
    "sys.path.append('../')\n",
    "from modules import utils, constants"
   ]
  },
  {
   "cell_type": "code",
   "execution_count": 2,
   "id": "4e1e9405",
   "metadata": {},
   "outputs": [],
   "source": [
    "SEED = constants.SEED\n",
    "random.seed(SEED)\n",
    "np.random.seed(SEED)"
   ]
  },
  {
   "cell_type": "markdown",
   "id": "d85f7638",
   "metadata": {},
   "source": [
    "#### Additional criteria"
   ]
  },
  {
   "cell_type": "code",
   "execution_count": 3,
   "id": "05964ad4",
   "metadata": {},
   "outputs": [],
   "source": [
    "# removed renal biopsy class\n",
    "# merged subacute cutaneous lupus, acute cutaneous lupus and discoid lupus into one feature (cutaneous lupus)\n",
    "# changed c3 and c4 to low_c3 and low_c4 respectively for easier dataset creation. 1 means low C3, 0 means not low C3\n",
    "features = ['fever', 'leukopenia', 'thrombocytopenia', 'auto_immune_hemolysis', 'delirium', 'psychosis', 'seizure', \n",
    "            'non_scarring_alopecia', 'oral_ulcers', 'cutaneous_lupus', 'pleural_effusion', 'pericardial_effusion', \n",
    "            'acute_pericarditis', 'joint_involvement', 'proteinuria', 'anti_cardioliphin_antibodies', \n",
    "            'anti_β2gp1_antibodies', 'lupus_anti_coagulant', 'low_c3', 'low_c4', 'anti_dsdna_antibody', \n",
    "            'anti_smith_antibody']"
   ]
  },
  {
   "cell_type": "code",
   "execution_count": null,
   "id": "3b27fdd2",
   "metadata": {},
   "outputs": [],
   "source": [
    "feature_fractions = {'fever':0.36, 'leukopenia':0.50, 'thrombocytopenia':0.20, 'auto_immune_hemolysis':0.03, \n",
    "                     'delirium':0.49, 'psychosis':0.12, 'seizure':0.11, 'non_scarring_alopecia':0.85, \n",
    "                     'oral_ulcers':0.08, 'subacute_cutaneous_lupus':0.10, 'discoid_lupus':0.15, \n",
    "                     'acute_cutaneous_lupus':0.03, 'pleural_effusion': 0.17, 'pericardial_effusion':0.50, \n",
    "                     'acute_pericarditis':0.01, 'joint_involvement':0.69, 'proteinuria':0.60, \n",
    "                     'anti_cardioliphin_antibodies':0.17, 'anti_β2gp1_antibodies':0.10, 'lupus_anti_coagulant':0.11,\n",
    "                     'low_c3':0.45, 'low_c4':0.44,'anti_dsdna_antibody':0.70, 'anti_smith_antibody':0.09}"
   ]
  },
  {
   "cell_type": "code",
   "execution_count": null,
   "id": "ba6f99f4",
   "metadata": {},
   "outputs": [],
   "source": [
    "criteria_weights = {'fever':2, 'leukopenia':3, 'thrombocytopenia':4, 'auto_immune_hemolysis':4, 'delirium':2, \n",
    "                    'psychosis':3, 'seizure':5, 'non_scarring_alopecia':2, 'oral_ulcers':2, \n",
    "                    'subacute_cutaneous_lupus':4, 'discoid_lupus':4, 'acute_cutaneous_lupus':6, \n",
    "                    'pleural_effusion': 5, 'pericardial_effusion':5, 'acute_pericarditis':6, 'joint_involvement':6, \n",
    "                    'proteinuria':4, 'anti_cardioliphin_antibodies':2, 'anti_β2gp1_antibodies':2, \n",
    "                    'lupus_anti_coagulant':2, 'low_c3':3, 'low_c4':3, 'low_c3_and_low_c4':4, 'low_c3_or_low_c4':3, \n",
    "                    'anti_dsdna_antibody':6, 'anti_smith_antibody':6}"
   ]
  },
  {
   "cell_type": "code",
   "execution_count": null,
   "id": "13be2a54",
   "metadata": {},
   "outputs": [],
   "source": [
    "len(feature_fractions), len(criteria_weights)"
   ]
  },
  {
   "cell_type": "markdown",
   "id": "e0108e49",
   "metadata": {},
   "source": [
    "#### ANA positive dataset"
   ]
  },
  {
   "cell_type": "code",
   "execution_count": null,
   "id": "6be86d5c",
   "metadata": {},
   "outputs": [],
   "source": [
    "ana_df = pd.DataFrame()\n",
    "ana_df['ana'] = [1]*50000\n",
    "ana_df.head()"
   ]
  },
  {
   "cell_type": "code",
   "execution_count": null,
   "id": "c21c68c8",
   "metadata": {},
   "outputs": [],
   "source": [
    "len(ana_df)"
   ]
  },
  {
   "cell_type": "code",
   "execution_count": null,
   "id": "e2dd219c",
   "metadata": {},
   "outputs": [],
   "source": [
    "feat_frac = 2"
   ]
  },
  {
   "cell_type": "code",
   "execution_count": null,
   "id": "e1605330",
   "metadata": {},
   "outputs": [],
   "source": [
    "def get_feat_probabilities(feature, feat_type='positive'):\n",
    "    '''\n",
    "    Returns the probability of positives vs negatives for a feature. \n",
    "    Works for all features except renal class, C3 and C4'''\n",
    "    if feat_type == 'positive':\n",
    "        pos_prob = feature_fractions[feature]/feat_frac # change this one\n",
    "    elif feat_type == 'negative':\n",
    "        feature_weight = criteria_weights[feature]\n",
    "        pos_prob = weight_prob_dict[feature_weight]\n",
    "    else:\n",
    "        print('Unknown feature type. Should either be \"positive\" or \"negative\"')\n",
    "        return None\n",
    "    return 1-pos_prob, pos_prob"
   ]
  },
  {
   "cell_type": "code",
   "execution_count": null,
   "id": "202602da",
   "metadata": {},
   "outputs": [],
   "source": [
    "def create_cutaneous_lupus(df, feat_type='positive'):\n",
    "    if feat_type == 'positive':\n",
    "        subacute_prob = feature_fractions['subacute_cutaneous_lupus']/feat_frac #1\n",
    "        acute_prob = feature_fractions['acute_cutaneous_lupus']/feat_frac #2\n",
    "        discoid_prob = feature_fractions['discoid_lupus']/feat_frac #3\n",
    "    elif feat_type=='negative':\n",
    "        subacute_prob = weight_prob_dict[criteria_weights['subacute_cutaneous_lupus']]\n",
    "        acute_prob = weight_prob_dict[criteria_weights['acute_cutaneous_lupus']]\n",
    "        discoid_prob = weight_prob_dict[criteria_weights['discoid_lupus']]\n",
    "    else:\n",
    "        print('Unknown feature type. Should either be \"positive\" or \"negative\"')\n",
    "        return None\n",
    "    neg_prob = 1 - subacute_prob - acute_prob - discoid_prob\n",
    "    cutaneous_list = np.random.choice([0, 1, 2, 3], len(df), \n",
    "                                      p=[neg_prob, subacute_prob, acute_prob, discoid_prob])\n",
    "    return cutaneous_list"
   ]
  },
  {
   "cell_type": "code",
   "execution_count": null,
   "id": "516e46e2",
   "metadata": {},
   "outputs": [],
   "source": [
    "for feature in features:def get_cutaneous_lupus_score(cutaneous_type):\n",
    "    if cutaneous_type == 0: #negative for any form of cutaneous lupus\n",
    "        return 0\n",
    "    elif cutaneous_type == 1: #subacute cutaneous lupus\n",
    "        return criteria_weights['subacute_cutaneous_lupus']\n",
    "    elif cutaneous_type == 2: #acute cutaneous lupus\n",
    "        return criteria_weights['acute_cutaneous_lupus']\n",
    "    elif cutaneous_type == 3: #discoid lupus\n",
    "        return criteria_weights['discoid_lupus']\n",
    "    else:\n",
    "        print('Unknown cutaneous type')\n",
    "    if feature == 'cutaneous_lupus':\n",
    "        ana_df[feature] = create_cutaneous_lupus(ana_df)\n",
    "    else:\n",
    "        neg_frac, pos_frac = get_feat_probabilities(feature)\n",
    "        ana_df[feature] = np.random.choice([0, 1], len(ana_df), p=[neg_frac, pos_frac])\n",
    "ana_df.head()"
   ]
  },
  {
   "cell_type": "code",
   "execution_count": null,
   "id": "b0b28460",
   "metadata": {},
   "outputs": [],
   "source": [
    "ana_df.cutaneous_lupus.value_counts()"
   ]
  },
  {
   "cell_type": "markdown",
   "id": "3173cde7",
   "metadata": {},
   "source": [
    "#### Labelling the dataset"
   ]
  },
  {
   "cell_type": "code",
   "execution_count": null,
   "id": "16e830c4",
   "metadata": {},
   "outputs": [],
   "source": [
    "def get_cutaneous_lupus_score(cutaneous_type):\n",
    "    if cutaneous_type == 0: #negative for any form of cutaneous lupus\n",
    "        return 0\n",
    "    elif cutaneous_type == 1: #subacute cutaneous lupus\n",
    "        return criteria_weights['subacute_cutaneous_lupus']\n",
    "    elif cutaneous_type == 2: #acute cutaneous lupus\n",
    "        return criteria_weights['acute_cutaneous_lupus']\n",
    "    elif cutaneous_type == 3: #discoid lupus\n",
    "        return criteria_weights['discoid_lupus']\n",
    "    else:\n",
    "        print('Unknown cutaneous type')"
   ]
  },
  {
   "cell_type": "code",
   "execution_count": null,
   "id": "a0aa847f",
   "metadata": {},
   "outputs": [],
   "source": [
    "def get_feat_score(row, feat):\n",
    "    #if feat == 'proteinuria':\n",
    "    #    feat_score = get_proteinura_score(row[feat])\n",
    "    if feat == 'cutaneous_lupus':\n",
    "        feat_score = get_cutaneous_lupus_score(row[feat])\n",
    "    elif row[feat] <= 0:\n",
    "        feat_score = 0\n",
    "    else:\n",
    "        feat_score = criteria_weights[feat]\n",
    "    return feat_score"
   ]
  },
  {
   "cell_type": "code",
   "execution_count": null,
   "id": "99c942bb",
   "metadata": {},
   "outputs": [],
   "source": [
    "def get_c3_c4_score(c3, c4): # 0 - low, 1 is not low\n",
    "    if (c3 == 1) & (c4 == 1):\n",
    "        return criteria_weights['low_c3_and_low_c4']\n",
    "    elif (c3 == 1) | (c4 == 1):\n",
    "        return criteria_weights['low_c3_or_low_c4']\n",
    "    else:\n",
    "        return 0"
   ]
  },
  {
   "cell_type": "code",
   "execution_count": null,
   "id": "fe84c524",
   "metadata": {},
   "outputs": [],
   "source": [
    "domains_feat_dict = {'constitutional': ['fever'],\n",
    "                     'hematologic': ['leukopenia', 'thrombocytopenia', 'auto_immune_hemolysis'],\n",
    "                     'neuropsychiatric': ['delirium', 'psychosis', 'seizure'],\n",
    "                     'mucocutaneous': ['non_scarring_alopecia', 'oral_ulcers', 'cutaneous_lupus'],\n",
    "                     'serosal': ['pleural_effusion', 'pericardial_effusion', 'acute_pericarditis'],\n",
    "                     'musculoskeletal': ['joint_involvement'],\n",
    "                     'renal': ['proteinuria'],\n",
    "                     'antiphospholipid_antibodies': ['anti_cardioliphin_antibodies', 'anti_β2gp1_antibodies', 'lupus_anti_coagulant'],\n",
    "                     'complement_proteins': ['low_c3', 'low_c4'],\n",
    "                     'sle_specific_antibodies':['anti_dsdna_antibody', 'anti_smith_antibody']}"
   ]
  },
  {
   "cell_type": "code",
   "execution_count": null,
   "id": "2113a0eb",
   "metadata": {},
   "outputs": [],
   "source": [
    "domains_max_scores_dict = {'constitutional': 2, 'hematologic': 4, 'neuropsychiatric': 5, 'mucocutaneous': 6,\n",
    "                           'serosal': 6, 'musculoskeletal': 6, 'renal': 4, 'antiphospholipid_antibodies': 2, \n",
    "                           'complement_proteins': 4, 'sle_specific_antibodies':6}"
   ]
  },
  {
   "cell_type": "code",
   "execution_count": null,
   "id": "a17beda6",
   "metadata": {},
   "outputs": [],
   "source": [
    "def get_domain_score(row, domain):\n",
    "    domain_features = domains_feat_dict[domain]\n",
    "    #print(f'{domain} domain: {domain_features}')\n",
    "    domain_score = 0\n",
    "    if domain == 'complement_proteins':\n",
    "        domain_score = get_c3_c4_score(row.low_c3, row.low_c4)\n",
    "        domain_features = list(set(domain_features) - set(['low_c3', 'low_c4']))\n",
    "    for feat in domain_features:\n",
    "        if row[feat] >= 0:\n",
    "            if feat == 'cutaneous_lupus': # to delete\n",
    "                feat_score = get_cutaneous_lupus_score(row.cutaneous_lupus)\n",
    "            else:\n",
    "                feat_score = get_feat_score(row, feat)\n",
    "            #print(f'{feat} feature - {feat_score}')\n",
    "            if feat_score > domain_score:\n",
    "                domain_score = feat_score\n",
    "    #print(f'{domain} domain: {domain_score}')\n",
    "    if domain_score > domains_max_scores_dict[domain]:\n",
    "        raise Exception('The score is too large for this domain!')\n",
    "    return domain_score"
   ]
  },
  {
   "cell_type": "code",
   "execution_count": null,
   "id": "15320253",
   "metadata": {},
   "outputs": [],
   "source": [
    "def create_label(row):\n",
    "    #print(f'ROW {row.name}')\n",
    "    if row['ana'] == 0:\n",
    "        return 0\n",
    "    total_row_score = 0\n",
    "    for domain in domains_feat_dict.keys():\n",
    "        domain_score = get_domain_score(row, domain)\n",
    "        #print(f'{domain} - {domain_score}')\n",
    "        total_row_score += domain_score\n",
    "        if total_row_score >= 10:\n",
    "            #print(f'row {row.name} - {total_row_score}')\n",
    "            return 1\n",
    "    else:\n",
    "        return 0"
   ]
  },
  {
   "cell_type": "code",
   "execution_count": null,
   "id": "e9984e18",
   "metadata": {},
   "outputs": [],
   "source": [
    "def compute_score(row):\n",
    "    if row['ana'] == 0: # negative - 0 positive - 1\n",
    "        return 0\n",
    "    total_row_score = 0\n",
    "    for domain in domains_feat_dict.keys():\n",
    "        domain_score = get_domain_score(row, domain)\n",
    "        total_row_score += domain_score\n",
    "    return total_row_score"
   ]
  },
  {
   "cell_type": "code",
   "execution_count": null,
   "id": "11037f4d",
   "metadata": {},
   "outputs": [],
   "source": [
    "#ana_df['score'] = ana_df.apply(lambda row: compute_score(row), axis=1)\n",
    "ana_df['label'] = ana_df.apply(lambda row: create_label(row), axis=1)\n",
    "ana_df.head()"
   ]
  },
  {
   "cell_type": "code",
   "execution_count": null,
   "id": "edcf6a14",
   "metadata": {},
   "outputs": [],
   "source": [
    "ana_df.label.value_counts()"
   ]
  },
  {
   "cell_type": "code",
   "execution_count": null,
   "id": "c0935ead",
   "metadata": {
    "scrolled": true
   },
   "outputs": [],
   "source": [
    "ana_df[(ana_df.low_c3==1) & (ana_df.low_c4==0)].iloc[0]"
   ]
  },
  {
   "cell_type": "markdown",
   "id": "a3990811",
   "metadata": {},
   "source": [
    "#### ANA negative dataset"
   ]
  },
  {
   "cell_type": "code",
   "execution_count": null,
   "id": "5412d39a",
   "metadata": {},
   "outputs": [],
   "source": [
    "weight_prob_dict = {8:0.01, 6:0.02, 5:0.025, 4:0.03, 3:0.035, 2:0.04}"
   ]
  },
  {
   "cell_type": "code",
   "execution_count": null,
   "id": "c70187e5",
   "metadata": {},
   "outputs": [],
   "source": [
    "no_ana_df = pd.DataFrame()\n",
    "no_ana_df['ana'] = [0]*20000\n",
    "no_ana_df.head()"
   ]
  },
  {
   "cell_type": "code",
   "execution_count": null,
   "id": "b7b84382",
   "metadata": {},
   "outputs": [],
   "source": [
    "for feature in features:\n",
    "    if feature == 'cutaneous_lupus':\n",
    "        no_ana_df[feature] = create_cutaneous_lupus(no_ana_df, feat_type='negative')\n",
    "    else:\n",
    "        neg_frac, pos_frac = get_feat_probabilities(feature, feat_type='negative')\n",
    "        no_ana_df[feature] = np.random.choice([0, 1], len(no_ana_df), p=[neg_frac, pos_frac])\n",
    "no_ana_df.head()"
   ]
  },
  {
   "cell_type": "code",
   "execution_count": null,
   "id": "951e12c3",
   "metadata": {},
   "outputs": [],
   "source": [
    "#no_ana_df['score'] = no_ana_df.apply(lambda row: compute_score(row), axis=1)\n",
    "no_ana_df['label'] = no_ana_df.apply(lambda row: create_label(row), axis=1)\n",
    "no_ana_df.head()"
   ]
  },
  {
   "cell_type": "code",
   "execution_count": null,
   "id": "0240bac2",
   "metadata": {},
   "outputs": [],
   "source": [
    "no_ana_df.cutaneous_lupus.value_counts()"
   ]
  },
  {
   "cell_type": "code",
   "execution_count": null,
   "id": "4246236c",
   "metadata": {},
   "outputs": [],
   "source": [
    "no_ana_df.label.value_counts()"
   ]
  },
  {
   "cell_type": "markdown",
   "id": "d5f31f2f",
   "metadata": {},
   "source": [
    "#### Merge the two dataframes"
   ]
  },
  {
   "cell_type": "code",
   "execution_count": null,
   "id": "ffbd2832",
   "metadata": {},
   "outputs": [],
   "source": [
    "lupus_df = pd.concat([ana_df, no_ana_df])\n",
    "len(lupus_df)"
   ]
  },
  {
   "cell_type": "code",
   "execution_count": null,
   "id": "de35f101",
   "metadata": {},
   "outputs": [],
   "source": [
    "lupus_df = lupus_df.sample(frac=1, random_state=SEED).reset_index(drop=True)\n",
    "lupus_df.label.value_counts()"
   ]
  },
  {
   "cell_type": "code",
   "execution_count": null,
   "id": "91a8bef1",
   "metadata": {},
   "outputs": [],
   "source": [
    "lupus_df.to_csv('../data/orig/lupus_dataset.csv', index=False)"
   ]
  },
  {
   "cell_type": "code",
   "execution_count": null,
   "id": "98841276",
   "metadata": {},
   "outputs": [],
   "source": [
    "lupus_df.columns"
   ]
  },
  {
   "cell_type": "markdown",
   "id": "b8c10cc9",
   "metadata": {},
   "source": [
    "#### Splitting the dataset"
   ]
  },
  {
   "cell_type": "code",
   "execution_count": null,
   "id": "4061ca59",
   "metadata": {},
   "outputs": [],
   "source": [
    "X = lupus_df.iloc[:, 0:-1]\n",
    "y = lupus_df.iloc[:, -1]\n",
    "X_train, X_test, y_train, y_test = train_test_split(X, y, test_size=0.20, random_state=SEED, stratify=y)"
   ]
  },
  {
   "cell_type": "code",
   "execution_count": null,
   "id": "3195f1f3",
   "metadata": {
    "scrolled": true
   },
   "outputs": [],
   "source": [
    "y_train.head()"
   ]
  },
  {
   "cell_type": "code",
   "execution_count": null,
   "id": "19da9527",
   "metadata": {},
   "outputs": [],
   "source": [
    "train_df = pd.concat([X_train, y_train], axis=1).reset_index(drop=True)\n",
    "test_df = pd.concat([X_test, y_test], axis=1).reset_index(drop=True)\n",
    "train_df.head()"
   ]
  },
  {
   "cell_type": "code",
   "execution_count": null,
   "id": "9d635a06",
   "metadata": {},
   "outputs": [],
   "source": [
    "train_df.to_csv('../data/orig/train_set_basic.csv', index=False)\n",
    "test_df.to_csv('../data/orig/test_set_basic.csv', index=False)"
   ]
  },
  {
   "cell_type": "code",
   "execution_count": null,
   "id": "93572f8e",
   "metadata": {},
   "outputs": [],
   "source": []
  },
  {
   "cell_type": "code",
   "execution_count": null,
   "id": "3865d124",
   "metadata": {},
   "outputs": [],
   "source": []
  },
  {
   "cell_type": "code",
   "execution_count": null,
   "id": "0c905db7",
   "metadata": {},
   "outputs": [],
   "source": []
  }
 ],
 "metadata": {
  "kernelspec": {
   "display_name": "Python 3 (ipykernel)",
   "language": "python",
   "name": "python3"
  },
  "language_info": {
   "codemirror_mode": {
    "name": "ipython",
    "version": 3
   },
   "file_extension": ".py",
   "mimetype": "text/x-python",
   "name": "python",
   "nbconvert_exporter": "python",
   "pygments_lexer": "ipython3",
   "version": "3.7.4"
  }
 },
 "nbformat": 4,
 "nbformat_minor": 5
}

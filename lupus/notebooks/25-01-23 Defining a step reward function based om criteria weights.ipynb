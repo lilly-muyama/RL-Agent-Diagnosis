{
 "cells": [
  {
   "cell_type": "code",
   "execution_count": 9,
   "id": "ef83342a",
   "metadata": {},
   "outputs": [],
   "source": [
    "import sys\n",
    "sys.path.append('../')\n",
    "from modules import utils, constants"
   ]
  },
  {
   "cell_type": "code",
   "execution_count": 10,
   "id": "33aa8af1",
   "metadata": {
    "scrolled": true
   },
   "outputs": [
    {
     "data": {
      "text/plain": [
       "{'fever': 2,\n",
       " 'leukopenia': 3,\n",
       " 'thrombocytopenia': 4,\n",
       " 'auto_immune_hemolysis': 4,\n",
       " 'delirium': 2,\n",
       " 'psychosis': 3,\n",
       " 'seizure': 5,\n",
       " 'non_scarring_alopecia': 2,\n",
       " 'oral_ulcers': 2,\n",
       " 'subacute_cutaneous_lupus': 4,\n",
       " 'discoid_lupus': 4,\n",
       " 'acute_cutaneous_lupus': 6,\n",
       " 'pleural_effusion': 5,\n",
       " 'pericardial_effusion': 5,\n",
       " 'acute_pericarditis': 6,\n",
       " 'joint_involvement': 6,\n",
       " 'proteinuria': 4,\n",
       " 'anti_cardioliphin_antibodies': 2,\n",
       " 'anti_β2gp1_antibodies': 2,\n",
       " 'lupus_anti_coagulant': 2,\n",
       " 'low_c3': 3,\n",
       " 'low_c4': 3,\n",
       " 'low_c3_and_low_c4': 4,\n",
       " 'low_c3_or_low_c4': 3,\n",
       " 'anti_dsdna_antibody': 6,\n",
       " 'anti_smith_antibody': 6}"
      ]
     },
     "execution_count": 10,
     "metadata": {},
     "output_type": "execute_result"
    }
   ],
   "source": [
    "criteria_weights = constants.CRITERIA_WEIGHTS\n",
    "criteria_weights"
   ]
  },
  {
   "cell_type": "code",
   "execution_count": 18,
   "id": "0f4d6e53",
   "metadata": {},
   "outputs": [],
   "source": [
    "def get_step_action_reward(string_action):\n",
    "    if string_action == 'cutaneous_lupus':\n",
    "        action_reward = -5\n",
    "    action_weight = criteria_weights[string_action]\n",
    "    action_reward = -action_weight\n",
    "    return action_reward"
   ]
  },
  {
   "cell_type": "code",
   "execution_count": 19,
   "id": "cd4801df",
   "metadata": {},
   "outputs": [
    {
     "name": "stdout",
     "output_type": "stream",
     "text": [
      "action 4: fever - -2\n",
      "action 5: leukopenia - -3\n",
      "action 6: thrombocytopenia - -4\n",
      "action 7: auto_immune_hemolysis - -4\n",
      "action 8: delirium - -2\n",
      "action 9: psychosis - -3\n",
      "action 10: seizure - -5\n",
      "action 11: non_scarring_alopecia - -2\n",
      "action 12: oral_ulcers - -2\n",
      "action 14: pleural_effusion - -5\n",
      "action 15: pericardial_effusion - -5\n",
      "action 16: acute_pericarditis - -6\n",
      "action 17: joint_involvement - -6\n",
      "action 18: proteinuria - -4\n",
      "action 19: anti_cardioliphin_antibodies - -2\n",
      "action 20: anti_β2gp1_antibodies - -2\n",
      "action 21: lupus_anti_coagulant - -2\n",
      "action 22: low_c3 - -3\n",
      "action 23: low_c4 - -3\n",
      "action 24: anti_dsdna_antibody - -6\n",
      "action 25: anti_smith_antibody - -6\n"
     ]
    }
   ],
   "source": [
    "for i in range(4, len(constants.ACTION_SPACE)):\n",
    "    string_action = constants.ACTION_SPACE[i]\n",
    "    if string_action != 'cutaneous_lupus':\n",
    "        print(f'action {i}: {string_action} - {get_step_action_reward(string_action)}')\n",
    "    else:\n",
    "        action_reward = -5"
   ]
  },
  {
   "cell_type": "code",
   "execution_count": null,
   "id": "634a9a7f",
   "metadata": {},
   "outputs": [],
   "source": []
  }
 ],
 "metadata": {
  "kernelspec": {
   "display_name": "Python 3 (ipykernel)",
   "language": "python",
   "name": "python3"
  },
  "language_info": {
   "codemirror_mode": {
    "name": "ipython",
    "version": 3
   },
   "file_extension": ".py",
   "mimetype": "text/x-python",
   "name": "python",
   "nbconvert_exporter": "python",
   "pygments_lexer": "ipython3",
   "version": "3.7.4"
  }
 },
 "nbformat": 4,
 "nbformat_minor": 5
}

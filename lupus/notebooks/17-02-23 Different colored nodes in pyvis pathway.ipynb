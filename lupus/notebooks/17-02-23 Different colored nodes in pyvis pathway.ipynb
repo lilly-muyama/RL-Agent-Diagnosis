{
 "cells": [
  {
   "cell_type": "code",
   "execution_count": 22,
   "id": "f8fea7e2",
   "metadata": {},
   "outputs": [],
   "source": [
    "import pandas as pd\n",
    "import numpy as np\n",
    "import ast\n",
    "import math\n",
    "import random\n",
    "import collections\n",
    "import networkx as nx\n",
    "from pyvis.network import Network\n",
    "import plotly.graph_objects as go\n",
    "import sys\n",
    "sys.path.append('../')\n",
    "from modules import utils, constants"
   ]
  },
  {
   "cell_type": "markdown",
   "id": "457472ca",
   "metadata": {},
   "source": [
    "#### The functions"
   ]
  },
  {
   "cell_type": "code",
   "execution_count": 23,
   "id": "d8176384",
   "metadata": {},
   "outputs": [],
   "source": [
    "def generate_tuple_dict(df):\n",
    "    frequency_dict = {}\n",
    "    for traj in df.trajectory:\n",
    "        if traj in frequency_dict.keys():\n",
    "            frequency_dict[traj] += 1\n",
    "        else:\n",
    "            frequency_dict[traj] = 1\n",
    "    streamlined_frequency_dict = streamline_frequency_dict(frequency_dict)\n",
    "    overall_tup_dict = {}\n",
    "    for key, value in streamlined_frequency_dict.items():\n",
    "#     for key, value in frequency_dict.items():\n",
    "        new_key = ast.literal_eval(key)\n",
    "        for tup in zip(new_key, new_key[1:]):\n",
    "            #print(f'tup: {tup}')\n",
    "            if tup in overall_tup_dict.keys():\n",
    "                overall_tup_dict[tup] += value\n",
    "            else:\n",
    "                overall_tup_dict[tup] = value\n",
    "    #print(f'overall_tup_dict: {overall_tup_dict}')\n",
    "    return overall_tup_dict"
   ]
  },
  {
   "cell_type": "code",
   "execution_count": 24,
   "id": "9b484b78",
   "metadata": {},
   "outputs": [],
   "source": [
    "def streamline_frequency_dict(frequency_dict):\n",
    "    frequency_dict_list = [] #will hold dictonaries with 2 keys i.e. 'set' and 'value'\n",
    "    for path_dict, value in frequency_dict.items():\n",
    "        all_set_list = [i['set'] for i in frequency_dict_list] #get all the sets so far in the list \n",
    "        path_set = set(ast.literal_eval(path_dict)) #get the set of current path dict to check if its already in list\n",
    "        if path_set in all_set_list: #increase value else insert it - work on this!!!!!!!!!!!!!!!\n",
    "            for elem in frequency_dict_list: #look for if path_set is already in frequency_dict_list \n",
    "                if elem['set'] == path_set: #find the matching path_set in the frequency_dict_list\n",
    "                    elem['value'] += value #increase the value for that set\n",
    "        else:\n",
    "            frequency_dict_list.append({'set':path_set, 'value':value}) #introdue the new set in the list\n",
    "    \n",
    "    all_list = [list(path_dict['set']) for path_dict in frequency_dict_list] # list of all the set(pathways)\n",
    "    flat_list = [item for sublist in all_list for item in sublist] #flatten list to get commonest items\n",
    "    commonest_elements = dict(collections.Counter(flat_list)) #the most frequent items in the list\n",
    "    commonest_elements = {k: v for k, v in sorted(commonest_elements.items(), reverse=True, key=lambda item: item[1])}\n",
    "    commonest_elements_list = list(commonest_elements.keys())\n",
    "    commonest_elements_list = [i for i in commonest_elements_list if i not in ['Lupus', 'No lupus', 'Inconclusive diagnosis']] + ['Lupus', 'No lupus', 'Inconclusive diagnosis']\n",
    "    \n",
    "    for item in frequency_dict_list:\n",
    "        item['set'] = sorted(list(item['set']), key=lambda x: commonest_elements_list.index(x))\n",
    "    \n",
    "    keys = [str(i['set']) for i in frequency_dict_list]\n",
    "    values = [i['value'] for i in frequency_dict_list]\n",
    "    final_frequency_dict = {k:v for (k,v) in zip(keys, values)}\n",
    "    \n",
    "    return final_frequency_dict"
   ]
  },
  {
   "cell_type": "markdown",
   "id": "5a66ead8",
   "metadata": {},
   "source": [
    "#### The data"
   ]
  },
  {
   "cell_type": "code",
   "execution_count": 25,
   "id": "ef5574c0",
   "metadata": {},
   "outputs": [
    {
     "data": {
      "text/html": [
       "<div>\n",
       "<style scoped>\n",
       "    .dataframe tbody tr th:only-of-type {\n",
       "        vertical-align: middle;\n",
       "    }\n",
       "\n",
       "    .dataframe tbody tr th {\n",
       "        vertical-align: top;\n",
       "    }\n",
       "\n",
       "    .dataframe thead th {\n",
       "        text-align: right;\n",
       "    }\n",
       "</style>\n",
       "<table border=\"1\" class=\"dataframe\">\n",
       "  <thead>\n",
       "    <tr style=\"text-align: right;\">\n",
       "      <th></th>\n",
       "      <th>ana</th>\n",
       "      <th>fever</th>\n",
       "      <th>leukopenia</th>\n",
       "      <th>thrombocytopenia</th>\n",
       "      <th>auto_immune_hemolysis</th>\n",
       "      <th>delirium</th>\n",
       "      <th>psychosis</th>\n",
       "      <th>seizure</th>\n",
       "      <th>non_scarring_alopecia</th>\n",
       "      <th>oral_ulcers</th>\n",
       "      <th>...</th>\n",
       "      <th>joint_involvement</th>\n",
       "      <th>proteinuria</th>\n",
       "      <th>anti_cardioliphin_antibodies</th>\n",
       "      <th>anti_β2gp1_antibodies</th>\n",
       "      <th>lupus_anti_coagulant</th>\n",
       "      <th>low_c3</th>\n",
       "      <th>low_c4</th>\n",
       "      <th>anti_dsdna_antibody</th>\n",
       "      <th>anti_smith_antibody</th>\n",
       "      <th>label</th>\n",
       "    </tr>\n",
       "  </thead>\n",
       "  <tbody>\n",
       "    <tr>\n",
       "      <th>0</th>\n",
       "      <td>1</td>\n",
       "      <td>0</td>\n",
       "      <td>0</td>\n",
       "      <td>0</td>\n",
       "      <td>0</td>\n",
       "      <td>0</td>\n",
       "      <td>0</td>\n",
       "      <td>0</td>\n",
       "      <td>0</td>\n",
       "      <td>0</td>\n",
       "      <td>...</td>\n",
       "      <td>1</td>\n",
       "      <td>0</td>\n",
       "      <td>0</td>\n",
       "      <td>0</td>\n",
       "      <td>0</td>\n",
       "      <td>0</td>\n",
       "      <td>0</td>\n",
       "      <td>0</td>\n",
       "      <td>0</td>\n",
       "      <td>1</td>\n",
       "    </tr>\n",
       "    <tr>\n",
       "      <th>1</th>\n",
       "      <td>1</td>\n",
       "      <td>1</td>\n",
       "      <td>0</td>\n",
       "      <td>0</td>\n",
       "      <td>0</td>\n",
       "      <td>0</td>\n",
       "      <td>0</td>\n",
       "      <td>0</td>\n",
       "      <td>0</td>\n",
       "      <td>0</td>\n",
       "      <td>...</td>\n",
       "      <td>0</td>\n",
       "      <td>1</td>\n",
       "      <td>0</td>\n",
       "      <td>0</td>\n",
       "      <td>0</td>\n",
       "      <td>0</td>\n",
       "      <td>0</td>\n",
       "      <td>1</td>\n",
       "      <td>0</td>\n",
       "      <td>1</td>\n",
       "    </tr>\n",
       "    <tr>\n",
       "      <th>2</th>\n",
       "      <td>1</td>\n",
       "      <td>0</td>\n",
       "      <td>0</td>\n",
       "      <td>0</td>\n",
       "      <td>0</td>\n",
       "      <td>0</td>\n",
       "      <td>1</td>\n",
       "      <td>0</td>\n",
       "      <td>0</td>\n",
       "      <td>0</td>\n",
       "      <td>...</td>\n",
       "      <td>1</td>\n",
       "      <td>0</td>\n",
       "      <td>0</td>\n",
       "      <td>0</td>\n",
       "      <td>1</td>\n",
       "      <td>1</td>\n",
       "      <td>0</td>\n",
       "      <td>0</td>\n",
       "      <td>0</td>\n",
       "      <td>1</td>\n",
       "    </tr>\n",
       "    <tr>\n",
       "      <th>3</th>\n",
       "      <td>1</td>\n",
       "      <td>1</td>\n",
       "      <td>0</td>\n",
       "      <td>0</td>\n",
       "      <td>0</td>\n",
       "      <td>0</td>\n",
       "      <td>0</td>\n",
       "      <td>0</td>\n",
       "      <td>1</td>\n",
       "      <td>0</td>\n",
       "      <td>...</td>\n",
       "      <td>0</td>\n",
       "      <td>0</td>\n",
       "      <td>0</td>\n",
       "      <td>0</td>\n",
       "      <td>1</td>\n",
       "      <td>0</td>\n",
       "      <td>0</td>\n",
       "      <td>1</td>\n",
       "      <td>0</td>\n",
       "      <td>1</td>\n",
       "    </tr>\n",
       "    <tr>\n",
       "      <th>4</th>\n",
       "      <td>1</td>\n",
       "      <td>0</td>\n",
       "      <td>0</td>\n",
       "      <td>0</td>\n",
       "      <td>0</td>\n",
       "      <td>0</td>\n",
       "      <td>0</td>\n",
       "      <td>0</td>\n",
       "      <td>1</td>\n",
       "      <td>0</td>\n",
       "      <td>...</td>\n",
       "      <td>1</td>\n",
       "      <td>0</td>\n",
       "      <td>0</td>\n",
       "      <td>0</td>\n",
       "      <td>0</td>\n",
       "      <td>1</td>\n",
       "      <td>0</td>\n",
       "      <td>0</td>\n",
       "      <td>0</td>\n",
       "      <td>1</td>\n",
       "    </tr>\n",
       "  </tbody>\n",
       "</table>\n",
       "<p>5 rows × 24 columns</p>\n",
       "</div>"
      ],
      "text/plain": [
       "   ana  fever  leukopenia  thrombocytopenia  auto_immune_hemolysis  delirium  \\\n",
       "0    1      0           0                 0                      0         0   \n",
       "1    1      1           0                 0                      0         0   \n",
       "2    1      0           0                 0                      0         0   \n",
       "3    1      1           0                 0                      0         0   \n",
       "4    1      0           0                 0                      0         0   \n",
       "\n",
       "   psychosis  seizure  non_scarring_alopecia  oral_ulcers  ...  \\\n",
       "0          0        0                      0            0  ...   \n",
       "1          0        0                      0            0  ...   \n",
       "2          1        0                      0            0  ...   \n",
       "3          0        0                      1            0  ...   \n",
       "4          0        0                      1            0  ...   \n",
       "\n",
       "   joint_involvement  proteinuria  anti_cardioliphin_antibodies  \\\n",
       "0                  1            0                             0   \n",
       "1                  0            1                             0   \n",
       "2                  1            0                             0   \n",
       "3                  0            0                             0   \n",
       "4                  1            0                             0   \n",
       "\n",
       "   anti_β2gp1_antibodies  lupus_anti_coagulant  low_c3  low_c4  \\\n",
       "0                      0                     0       0       0   \n",
       "1                      0                     0       0       0   \n",
       "2                      0                     1       1       0   \n",
       "3                      0                     1       0       0   \n",
       "4                      0                     0       1       0   \n",
       "\n",
       "   anti_dsdna_antibody  anti_smith_antibody  label  \n",
       "0                    0                    0      1  \n",
       "1                    1                    0      1  \n",
       "2                    0                    0      1  \n",
       "3                    1                    0      1  \n",
       "4                    0                    0      1  \n",
       "\n",
       "[5 rows x 24 columns]"
      ]
     },
     "execution_count": 25,
     "metadata": {},
     "output_type": "execute_result"
    }
   ],
   "source": [
    "testing_df = pd.read_csv('../data/missingness/0/testing_set.csv')\n",
    "testing_df.head()"
   ]
  },
  {
   "cell_type": "code",
   "execution_count": 26,
   "id": "672a2fe4",
   "metadata": {},
   "outputs": [
    {
     "data": {
      "text/html": [
       "<div>\n",
       "<style scoped>\n",
       "    .dataframe tbody tr th:only-of-type {\n",
       "        vertical-align: middle;\n",
       "    }\n",
       "\n",
       "    .dataframe tbody tr th {\n",
       "        vertical-align: top;\n",
       "    }\n",
       "\n",
       "    .dataframe thead th {\n",
       "        text-align: right;\n",
       "    }\n",
       "</style>\n",
       "<table border=\"1\" class=\"dataframe\">\n",
       "  <thead>\n",
       "    <tr style=\"text-align: right;\">\n",
       "      <th></th>\n",
       "      <th>index</th>\n",
       "      <th>episode_length</th>\n",
       "      <th>reward</th>\n",
       "      <th>y_pred</th>\n",
       "      <th>y_actual</th>\n",
       "      <th>trajectory</th>\n",
       "      <th>terminated</th>\n",
       "      <th>is_success</th>\n",
       "      <th>terminal_observation</th>\n",
       "    </tr>\n",
       "  </thead>\n",
       "  <tbody>\n",
       "    <tr>\n",
       "      <th>0</th>\n",
       "      <td>0</td>\n",
       "      <td>18</td>\n",
       "      <td>0.433333</td>\n",
       "      <td>1</td>\n",
       "      <td>1</td>\n",
       "      <td>['ana', 'psychosis', 'delirium', 'pericardial_...</td>\n",
       "      <td>False</td>\n",
       "      <td>True</td>\n",
       "      <td>[ 1.  0.  0.  0. -1.  0.  0.  0.  0. -1.  2.  ...</td>\n",
       "    </tr>\n",
       "    <tr>\n",
       "      <th>1</th>\n",
       "      <td>2</td>\n",
       "      <td>14</td>\n",
       "      <td>0.566667</td>\n",
       "      <td>1</td>\n",
       "      <td>1</td>\n",
       "      <td>['ana', 'psychosis', 'delirium', 'pericardial_...</td>\n",
       "      <td>False</td>\n",
       "      <td>True</td>\n",
       "      <td>[ 1. -1.  0. -1. -1.  0.  1.  0.  0.  0.  0. -...</td>\n",
       "    </tr>\n",
       "    <tr>\n",
       "      <th>2</th>\n",
       "      <td>4</td>\n",
       "      <td>14</td>\n",
       "      <td>0.566667</td>\n",
       "      <td>1</td>\n",
       "      <td>1</td>\n",
       "      <td>['ana', 'psychosis', 'delirium', 'pericardial_...</td>\n",
       "      <td>False</td>\n",
       "      <td>True</td>\n",
       "      <td>[ 1. -1.  0. -1. -1.  0.  0. -1.  1. -1.  0.  ...</td>\n",
       "    </tr>\n",
       "    <tr>\n",
       "      <th>3</th>\n",
       "      <td>6</td>\n",
       "      <td>16</td>\n",
       "      <td>-1.500000</td>\n",
       "      <td>1</td>\n",
       "      <td>0</td>\n",
       "      <td>['ana', 'psychosis', 'delirium', 'pericardial_...</td>\n",
       "      <td>False</td>\n",
       "      <td>False</td>\n",
       "      <td>[ 1. -1.  0. -1. -1.  0.  0.  0.  0. -1.  0.  ...</td>\n",
       "    </tr>\n",
       "    <tr>\n",
       "      <th>4</th>\n",
       "      <td>8</td>\n",
       "      <td>15</td>\n",
       "      <td>0.533333</td>\n",
       "      <td>1</td>\n",
       "      <td>1</td>\n",
       "      <td>['ana', 'psychosis', 'delirium', 'pericardial_...</td>\n",
       "      <td>False</td>\n",
       "      <td>True</td>\n",
       "      <td>[ 1. -1.  0. -1. -1.  1.  0.  0.  1. -1.  0. -...</td>\n",
       "    </tr>\n",
       "  </tbody>\n",
       "</table>\n",
       "</div>"
      ],
      "text/plain": [
       "   index  episode_length    reward  y_pred  y_actual  \\\n",
       "0      0              18  0.433333       1         1   \n",
       "1      2              14  0.566667       1         1   \n",
       "2      4              14  0.566667       1         1   \n",
       "3      6              16 -1.500000       1         0   \n",
       "4      8              15  0.533333       1         1   \n",
       "\n",
       "                                          trajectory  terminated  is_success  \\\n",
       "0  ['ana', 'psychosis', 'delirium', 'pericardial_...       False        True   \n",
       "1  ['ana', 'psychosis', 'delirium', 'pericardial_...       False        True   \n",
       "2  ['ana', 'psychosis', 'delirium', 'pericardial_...       False        True   \n",
       "3  ['ana', 'psychosis', 'delirium', 'pericardial_...       False       False   \n",
       "4  ['ana', 'psychosis', 'delirium', 'pericardial_...       False        True   \n",
       "\n",
       "                                terminal_observation  \n",
       "0  [ 1.  0.  0.  0. -1.  0.  0.  0.  0. -1.  2.  ...  \n",
       "1  [ 1. -1.  0. -1. -1.  0.  1.  0.  0.  0.  0. -...  \n",
       "2  [ 1. -1.  0. -1. -1.  0.  0. -1.  1. -1.  0.  ...  \n",
       "3  [ 1. -1.  0. -1. -1.  0.  0.  0.  0. -1.  0.  ...  \n",
       "4  [ 1. -1.  0. -1. -1.  1.  0.  0.  1. -1.  0. -...  "
      ]
     },
     "execution_count": 26,
     "metadata": {},
     "output_type": "execute_result"
    }
   ],
   "source": [
    "# test_df = pd.read_csv('../test_dfs/negative_reward/missingness_0.5.csv').drop(['index'], axis=1)\n",
    "# test_df = pd.read_csv('../test_dfs/negative_reward/step_30_correct_1_incorrect_-1.csv').drop(['index'], axis=1)\n",
    "test_df = pd.read_csv('../test_dfs/23_03_23/vanilla_dqn_seed0_basic_test_df.csv')\n",
    "test_df.head()"
   ]
  },
  {
   "cell_type": "markdown",
   "id": "07f6d641",
   "metadata": {},
   "source": [
    "#### delete from here"
   ]
  },
  {
   "cell_type": "markdown",
   "id": "9cd3d87a",
   "metadata": {},
   "source": [
    "#### end here"
   ]
  },
  {
   "cell_type": "code",
   "execution_count": 27,
   "id": "34d8f0ef",
   "metadata": {},
   "outputs": [],
   "source": [
    "threshold = 0.1*len(test_df)"
   ]
  },
  {
   "cell_type": "code",
   "execution_count": 28,
   "id": "950fd2c8",
   "metadata": {},
   "outputs": [
    {
     "data": {
      "text/plain": [
       "84.95714285714286"
      ]
     },
     "execution_count": 28,
     "metadata": {},
     "output_type": "execute_result"
    }
   ],
   "source": [
    "success_rate, success_df = utils.success_rate(test_df)\n",
    "success_rate"
   ]
  },
  {
   "cell_type": "code",
   "execution_count": 29,
   "id": "e574c834",
   "metadata": {},
   "outputs": [
    {
     "data": {
      "text/plain": [
       "7000"
      ]
     },
     "execution_count": 29,
     "metadata": {},
     "output_type": "execute_result"
    }
   ],
   "source": [
    "len(test_df)"
   ]
  },
  {
   "cell_type": "code",
   "execution_count": 30,
   "id": "5cf92f49",
   "metadata": {},
   "outputs": [],
   "source": [
    "def create_sankey_df(df):\n",
    "    overall_tup_dict = generate_tuple_dict(df)\n",
    "    sankey_df = pd.DataFrame()\n",
    "    sankey_df['source'] = [i[0] for i in overall_tup_dict.keys()]\n",
    "    sankey_df['target'] = [i[1] for i in overall_tup_dict.keys()]\n",
    "    sankey_df['value'] = list(overall_tup_dict.values())\n",
    "    sankey_df['link_type'] = sankey_df['target'].apply(lambda i: 'terminal' if i in ['No lupus', 'Lupus', 'Inconclusive diagnosis'] else 'non_terminal')\n",
    "    return sankey_df"
   ]
  },
  {
   "cell_type": "markdown",
   "id": "733bfab1",
   "metadata": {},
   "source": [
    "#### delete from here"
   ]
  },
  {
   "cell_type": "code",
   "execution_count": 31,
   "id": "6f55c5be",
   "metadata": {},
   "outputs": [],
   "source": [
    "# overall_tup_dict = generate_tuple_dict(test_df)\n",
    "# overall_tup_dict"
   ]
  },
  {
   "cell_type": "code",
   "execution_count": 32,
   "id": "07c31f63",
   "metadata": {},
   "outputs": [],
   "source": [
    "# sankey_df = pd.DataFrame()\n",
    "# sankey_df['source'] = [i[0] for i in overall_tup_dict.keys()]\n",
    "# sankey_df['target'] = [i[1] for i in overall_tup_dict.keys()]\n",
    "# sankey_df['value'] = list(overall_tup_dict.values())\n",
    "# sankey_df['link_type'] = sankey_df['target'].apply(lambda i: 'terminal' if i in ['No lupus', 'Lupus', 'Inconclusive diagnosis'] else 'non_terminal')\n",
    "# sankey_df.head()"
   ]
  },
  {
   "cell_type": "markdown",
   "id": "f37f5f0d",
   "metadata": {},
   "source": [
    "#### end here"
   ]
  },
  {
   "cell_type": "markdown",
   "id": "0f47df11",
   "metadata": {},
   "source": [
    "#### Pyvis"
   ]
  },
  {
   "cell_type": "code",
   "execution_count": 33,
   "id": "44bf08ad",
   "metadata": {},
   "outputs": [
    {
     "data": {
      "text/html": [
       "<div>\n",
       "<style scoped>\n",
       "    .dataframe tbody tr th:only-of-type {\n",
       "        vertical-align: middle;\n",
       "    }\n",
       "\n",
       "    .dataframe tbody tr th {\n",
       "        vertical-align: top;\n",
       "    }\n",
       "\n",
       "    .dataframe thead th {\n",
       "        text-align: right;\n",
       "    }\n",
       "</style>\n",
       "<table border=\"1\" class=\"dataframe\">\n",
       "  <thead>\n",
       "    <tr style=\"text-align: right;\">\n",
       "      <th></th>\n",
       "      <th>source</th>\n",
       "      <th>target</th>\n",
       "      <th>value</th>\n",
       "      <th>link_type</th>\n",
       "    </tr>\n",
       "  </thead>\n",
       "  <tbody>\n",
       "    <tr>\n",
       "      <th>0</th>\n",
       "      <td>leukopenia</td>\n",
       "      <td>pericardial_effusion</td>\n",
       "      <td>7000</td>\n",
       "      <td>non_terminal</td>\n",
       "    </tr>\n",
       "    <tr>\n",
       "      <th>1</th>\n",
       "      <td>pericardial_effusion</td>\n",
       "      <td>low_c3</td>\n",
       "      <td>7000</td>\n",
       "      <td>non_terminal</td>\n",
       "    </tr>\n",
       "    <tr>\n",
       "      <th>2</th>\n",
       "      <td>low_c3</td>\n",
       "      <td>cutaneous_lupus</td>\n",
       "      <td>7000</td>\n",
       "      <td>non_terminal</td>\n",
       "    </tr>\n",
       "    <tr>\n",
       "      <th>3</th>\n",
       "      <td>cutaneous_lupus</td>\n",
       "      <td>psychosis</td>\n",
       "      <td>7000</td>\n",
       "      <td>non_terminal</td>\n",
       "    </tr>\n",
       "    <tr>\n",
       "      <th>4</th>\n",
       "      <td>psychosis</td>\n",
       "      <td>ana</td>\n",
       "      <td>7000</td>\n",
       "      <td>non_terminal</td>\n",
       "    </tr>\n",
       "  </tbody>\n",
       "</table>\n",
       "</div>"
      ],
      "text/plain": [
       "                 source                target  value     link_type\n",
       "0            leukopenia  pericardial_effusion   7000  non_terminal\n",
       "1  pericardial_effusion                low_c3   7000  non_terminal\n",
       "2                low_c3       cutaneous_lupus   7000  non_terminal\n",
       "3       cutaneous_lupus             psychosis   7000  non_terminal\n",
       "4             psychosis                   ana   7000  non_terminal"
      ]
     },
     "execution_count": 33,
     "metadata": {},
     "output_type": "execute_result"
    }
   ],
   "source": [
    "\n",
    "# start_node = 'ana'\n",
    "# terminal_nodes = ['Lupus', 'No lupus', 'Inconclusive diagnosis']\n",
    "# non_terminal_nodes = ['anti_dsdna_antibody', 'joint_involvement', 'pericardial_effusion', 'proteinuria', 'low_c4', \n",
    "#                       'cutaneous_lupus', 'low_c3', 'non_scarring_alopecia', 'pleural_effusion', 'leukopenia', \n",
    "#                       'thrombocytopenia', 'fever', 'seizure', 'delirium', 'anti_smith_antibody', \n",
    "#                       'anti_cardioliphin_antibodies', 'psychosis', 'lupus_anti_coagulant', 'anti_β2gp1_antibodies', \n",
    "#                       'oral_ulcers', 'auto_immune_hemolysis', 'acute_pericarditis']\n",
    "pathways_df = create_sankey_df(test_df)\n",
    "pathways_df.head()"
   ]
  },
  {
   "cell_type": "markdown",
   "id": "99c5ee70",
   "metadata": {},
   "source": [
    "#### delete from here"
   ]
  },
  {
   "cell_type": "code",
   "execution_count": 34,
   "id": "2e19f58f",
   "metadata": {},
   "outputs": [
    {
     "data": {
      "text/html": [
       "<div>\n",
       "<style scoped>\n",
       "    .dataframe tbody tr th:only-of-type {\n",
       "        vertical-align: middle;\n",
       "    }\n",
       "\n",
       "    .dataframe tbody tr th {\n",
       "        vertical-align: top;\n",
       "    }\n",
       "\n",
       "    .dataframe thead th {\n",
       "        text-align: right;\n",
       "    }\n",
       "</style>\n",
       "<table border=\"1\" class=\"dataframe\">\n",
       "  <thead>\n",
       "    <tr style=\"text-align: right;\">\n",
       "      <th></th>\n",
       "      <th>index</th>\n",
       "      <th>episode_length</th>\n",
       "      <th>reward</th>\n",
       "      <th>y_pred</th>\n",
       "      <th>y_actual</th>\n",
       "      <th>trajectory</th>\n",
       "      <th>terminated</th>\n",
       "      <th>is_success</th>\n",
       "      <th>terminal_observation</th>\n",
       "    </tr>\n",
       "  </thead>\n",
       "  <tbody>\n",
       "    <tr>\n",
       "      <th>0</th>\n",
       "      <td>0</td>\n",
       "      <td>18</td>\n",
       "      <td>0.433333</td>\n",
       "      <td>1</td>\n",
       "      <td>1</td>\n",
       "      <td>['ana', 'psychosis', 'delirium', 'pericardial_...</td>\n",
       "      <td>False</td>\n",
       "      <td>True</td>\n",
       "      <td>[ 1.  0.  0.  0. -1.  0.  0.  0.  0. -1.  2.  ...</td>\n",
       "    </tr>\n",
       "    <tr>\n",
       "      <th>1</th>\n",
       "      <td>2</td>\n",
       "      <td>14</td>\n",
       "      <td>0.566667</td>\n",
       "      <td>1</td>\n",
       "      <td>1</td>\n",
       "      <td>['ana', 'psychosis', 'delirium', 'pericardial_...</td>\n",
       "      <td>False</td>\n",
       "      <td>True</td>\n",
       "      <td>[ 1. -1.  0. -1. -1.  0.  1.  0.  0.  0.  0. -...</td>\n",
       "    </tr>\n",
       "    <tr>\n",
       "      <th>2</th>\n",
       "      <td>4</td>\n",
       "      <td>14</td>\n",
       "      <td>0.566667</td>\n",
       "      <td>1</td>\n",
       "      <td>1</td>\n",
       "      <td>['ana', 'psychosis', 'delirium', 'pericardial_...</td>\n",
       "      <td>False</td>\n",
       "      <td>True</td>\n",
       "      <td>[ 1. -1.  0. -1. -1.  0.  0. -1.  1. -1.  0.  ...</td>\n",
       "    </tr>\n",
       "    <tr>\n",
       "      <th>3</th>\n",
       "      <td>6</td>\n",
       "      <td>16</td>\n",
       "      <td>-1.500000</td>\n",
       "      <td>1</td>\n",
       "      <td>0</td>\n",
       "      <td>['ana', 'psychosis', 'delirium', 'pericardial_...</td>\n",
       "      <td>False</td>\n",
       "      <td>False</td>\n",
       "      <td>[ 1. -1.  0. -1. -1.  0.  0.  0.  0. -1.  0.  ...</td>\n",
       "    </tr>\n",
       "    <tr>\n",
       "      <th>4</th>\n",
       "      <td>8</td>\n",
       "      <td>15</td>\n",
       "      <td>0.533333</td>\n",
       "      <td>1</td>\n",
       "      <td>1</td>\n",
       "      <td>['ana', 'psychosis', 'delirium', 'pericardial_...</td>\n",
       "      <td>False</td>\n",
       "      <td>True</td>\n",
       "      <td>[ 1. -1.  0. -1. -1.  1.  0.  0.  1. -1.  0. -...</td>\n",
       "    </tr>\n",
       "  </tbody>\n",
       "</table>\n",
       "</div>"
      ],
      "text/plain": [
       "   index  episode_length    reward  y_pred  y_actual  \\\n",
       "0      0              18  0.433333       1         1   \n",
       "1      2              14  0.566667       1         1   \n",
       "2      4              14  0.566667       1         1   \n",
       "3      6              16 -1.500000       1         0   \n",
       "4      8              15  0.533333       1         1   \n",
       "\n",
       "                                          trajectory  terminated  is_success  \\\n",
       "0  ['ana', 'psychosis', 'delirium', 'pericardial_...       False        True   \n",
       "1  ['ana', 'psychosis', 'delirium', 'pericardial_...       False        True   \n",
       "2  ['ana', 'psychosis', 'delirium', 'pericardial_...       False        True   \n",
       "3  ['ana', 'psychosis', 'delirium', 'pericardial_...       False       False   \n",
       "4  ['ana', 'psychosis', 'delirium', 'pericardial_...       False        True   \n",
       "\n",
       "                                terminal_observation  \n",
       "0  [ 1.  0.  0.  0. -1.  0.  0.  0.  0. -1.  2.  ...  \n",
       "1  [ 1. -1.  0. -1. -1.  0.  1.  0.  0.  0.  0. -...  \n",
       "2  [ 1. -1.  0. -1. -1.  0.  0. -1.  1. -1.  0.  ...  \n",
       "3  [ 1. -1.  0. -1. -1.  0.  0.  0.  0. -1.  0.  ...  \n",
       "4  [ 1. -1.  0. -1. -1.  1.  0.  0.  1. -1.  0. -...  "
      ]
     },
     "execution_count": 34,
     "metadata": {},
     "output_type": "execute_result"
    }
   ],
   "source": [
    "test_df.head()"
   ]
  },
  {
   "cell_type": "markdown",
   "id": "78c3a629",
   "metadata": {},
   "source": [
    "#### end here"
   ]
  },
  {
   "cell_type": "code",
   "execution_count": 35,
   "id": "b9b08552",
   "metadata": {},
   "outputs": [],
   "source": [
    "start_node = pathways_df.iloc[0]['source']\n",
    "all_nodes = list(set(pathways_df.source.unique().tolist() + pathways_df.target.unique().tolist()))\n",
    "terminal_nodes = list(set(pathways_df[pathways_df.link_type=='terminal'].target))\n",
    "non_terminal_nodes = [i for i in all_nodes if i not in terminal_nodes and i!=start_node]"
   ]
  },
  {
   "cell_type": "code",
   "execution_count": 36,
   "id": "5700c5ba",
   "metadata": {},
   "outputs": [],
   "source": [
    "def get_threshold_value(row):\n",
    "    substring = f\"'{row.source}', '{row.target}'\"\n",
    "    substring_df = pd.DataFrame()\n",
    "    for i, test_row in test_df.iterrows():\n",
    "        if substring in test_row.trajectory:\n",
    "            substring_df = substring_df.append(test_row)\n",
    "    substring_testing_df = testing_df.loc[substring_df.index]\n",
    "    \n",
    "    threshold_values = substring_testing_df[row.source].unique().tolist()\n",
    "    if len(threshold_values) == 1:\n",
    "        return int(threshold_values[0])\n",
    "    else:\n",
    "#         print(f'There is {len(threshold_values)} threshold values for the edge between {row.source} and {row.target}')\n",
    "        return str(threshold_values)\n"
   ]
  },
  {
   "cell_type": "code",
   "execution_count": 37,
   "id": "7174123b",
   "metadata": {},
   "outputs": [],
   "source": [
    "def draw_pyvis_network(pathways_df):\n",
    "#     pathways_df = create_sankey_df(test_df)\n",
    "    pathways_df['type'] = 'directed'\n",
    "#     start_node = 'No lupus'\n",
    "    got_net = Network(notebook=True, height='750px', width='100%', directed=True, cdn_resources='in_line')\n",
    "    got_net.add_node(start_node, color='purple', size=20)\n",
    "    got_net.add_nodes(non_terminal_nodes, size=[15]*len(non_terminal_nodes), color=['blue']*len(non_terminal_nodes))\n",
    "    got_net.add_nodes(terminal_nodes, color=['green']*len(terminal_nodes), size=[20]*len(terminal_nodes))\n",
    "    for src, target, value in zip(pathways_df.source, pathways_df.target, pathways_df.value):\n",
    "        if value > threshold:\n",
    "            got_net.add_edge(src, target, value=value, color='red')\n",
    "        else:\n",
    "            got_net.add_edge(src, target, value=value, color='blue')\n",
    "    return got_net"
   ]
  },
  {
   "cell_type": "code",
   "execution_count": 38,
   "id": "d9843add",
   "metadata": {},
   "outputs": [],
   "source": [
    "def draw_labelled_pyvis_network(pathways_df, pathway_type='network'): #second type is trajectory \n",
    "    pathways_df['type'] = 'directed'\n",
    "    pathways_df['edge_threshold'] = pathways_df.apply(lambda row: get_threshold_value(row), axis=1)\n",
    "    \n",
    "    #change get_net to something else since it satnds for Game of Thrones\n",
    "    got_net = Network(notebook=True, height='750px', width='100%', directed=True, cdn_resources='in_line')\n",
    "    got_net.add_node(start_node, color='purple', size=20)\n",
    "    got_net.add_nodes(non_terminal_nodes, size=[15]*len(non_terminal_nodes), color=['blue']*len(non_terminal_nodes))\n",
    "    got_net.add_nodes(terminal_nodes, color=['green']*len(terminal_nodes), size=[20]*len(terminal_nodes))\n",
    "    for src, target, value, edge_thresh in zip(pathways_df.source, pathways_df.target, pathways_df.value, pathways_df.edge_threshold):\n",
    "        if value > threshold: #this is what mainly changes\n",
    "            if isinstance(edge_thresh, str):\n",
    "                got_net.add_edge(src, target, value=value, color='red', label=edge_thresh)\n",
    "            else:\n",
    "                got_net.add_edge(src, target, value=value, color='red', label=str(int(edge_thresh)))\n",
    "        else:\n",
    "            got_net.add_edge(src, target, value=value, color='blue')\n",
    "#         elif pathway_type =='trajectory': #It's just one trajectory\n",
    "#             if math.isnan(edge_thresh):\n",
    "#                 got_net.add_edge(src, target, value=value, color='blue')\n",
    "#             else:\n",
    "#                 got_net.add_edge(src, target, value=value, color='blue', label=str(int(edge_thresh)))\n",
    "#         else:\n",
    "#             print('Unknown pathway type')\n",
    "    return got_net\n",
    "#     return pathways_df\n",
    "\n"
   ]
  },
  {
   "cell_type": "code",
   "execution_count": 39,
   "id": "e3c6a7e3",
   "metadata": {},
   "outputs": [
    {
     "data": {
      "text/html": [
       "\n",
       "        <iframe\n",
       "            width=\"100%\"\n",
       "            height=\"750px\"\n",
       "            src=\"Example.html\"\n",
       "            frameborder=\"0\"\n",
       "            allowfullscreen\n",
       "            \n",
       "        ></iframe>\n",
       "        "
      ],
      "text/plain": [
       "<IPython.lib.display.IFrame at 0x7fd32bb2c9d0>"
      ]
     },
     "execution_count": 39,
     "metadata": {},
     "output_type": "execute_result"
    }
   ],
   "source": [
    "got_net = draw_pyvis_network(pathways_df)    \n",
    "got_net.show('Example.html')"
   ]
  },
  {
   "cell_type": "markdown",
   "id": "b194550a",
   "metadata": {},
   "source": [
    "#### Labelled network"
   ]
  },
  {
   "cell_type": "code",
   "execution_count": 19,
   "id": "62dfba85",
   "metadata": {},
   "outputs": [
    {
     "data": {
      "text/html": [
       "\n",
       "        <iframe\n",
       "            width=\"100%\"\n",
       "            height=\"750px\"\n",
       "            src=\"Example.html\"\n",
       "            frameborder=\"0\"\n",
       "            allowfullscreen\n",
       "            \n",
       "        ></iframe>\n",
       "        "
      ],
      "text/plain": [
       "<IPython.lib.display.IFrame at 0x7fd32b0a07d0>"
      ]
     },
     "execution_count": 19,
     "metadata": {},
     "output_type": "execute_result"
    }
   ],
   "source": [
    "labelled_got_net = draw_labelled_pyvis_network(pathways_df)    \n",
    "# labelled_got_net.head()\n",
    "labelled_got_net.show('Example.html')"
   ]
  },
  {
   "cell_type": "markdown",
   "id": "ede503d0",
   "metadata": {},
   "source": [
    "#### The Confusion Matrix"
   ]
  },
  {
   "cell_type": "code",
   "execution_count": 20,
   "id": "06063658",
   "metadata": {},
   "outputs": [
    {
     "data": {
      "image/png": "[encoded data removed]",
      "text/plain": [
       "<Figure size 1000x800 with 2 Axes>"
      ]
     },
     "metadata": {},
     "output_type": "display_data"
    }
   ],
   "source": [
    "utils.plot_confusion_matrix(test_df['y_actual'], test_df['y_pred'])"
   ]
  },
  {
   "cell_type": "markdown",
   "id": "cd0b0b6c",
   "metadata": {},
   "source": [
    "#### The Classification Report"
   ]
  },
  {
   "cell_type": "code",
   "execution_count": 21,
   "id": "2204acac",
   "metadata": {},
   "outputs": [
    {
     "name": "stderr",
     "output_type": "stream",
     "text": [
      "/home/lmuyama/anaconda3/envs/stable_baselines_3_env/lib/python3.7/site-packages/sklearn/metrics/_classification.py:1318: UndefinedMetricWarning:\n",
      "\n",
      "Recall and F-score are ill-defined and being set to 0.0 in labels with no true samples. Use `zero_division` parameter to control this behavior.\n",
      "\n",
      "/home/lmuyama/anaconda3/envs/stable_baselines_3_env/lib/python3.7/site-packages/sklearn/metrics/_classification.py:1318: UndefinedMetricWarning:\n",
      "\n",
      "Recall and F-score are ill-defined and being set to 0.0 in labels with no true samples. Use `zero_division` parameter to control this behavior.\n",
      "\n",
      "/home/lmuyama/anaconda3/envs/stable_baselines_3_env/lib/python3.7/site-packages/sklearn/metrics/_classification.py:1318: UndefinedMetricWarning:\n",
      "\n",
      "Recall and F-score are ill-defined and being set to 0.0 in labels with no true samples. Use `zero_division` parameter to control this behavior.\n",
      "\n",
      "../modules/utils.py:326: MatplotlibDeprecationWarning:\n",
      "\n",
      "\n",
      "The tick1On function was deprecated in Matplotlib 3.1 and will be removed in 3.3. Use Tick.tick1line.set_visible instead.\n",
      "\n",
      "../modules/utils.py:327: MatplotlibDeprecationWarning:\n",
      "\n",
      "\n",
      "The tick2On function was deprecated in Matplotlib 3.1 and will be removed in 3.3. Use Tick.tick2line.set_visible instead.\n",
      "\n",
      "../modules/utils.py:329: MatplotlibDeprecationWarning:\n",
      "\n",
      "\n",
      "The tick1On function was deprecated in Matplotlib 3.1 and will be removed in 3.3. Use Tick.tick1line.set_visible instead.\n",
      "\n",
      "../modules/utils.py:330: MatplotlibDeprecationWarning:\n",
      "\n",
      "\n",
      "The tick2On function was deprecated in Matplotlib 3.1 and will be removed in 3.3. Use Tick.tick2line.set_visible instead.\n",
      "\n"
     ]
    },
    {
     "data": {
      "image/png": "[encoded data removed]",
      "text/plain": [
       "<Figure size 984.252x393.701 with 2 Axes>"
      ]
     },
     "metadata": {},
     "output_type": "display_data"
    }
   ],
   "source": [
    "utils.plot_classification_report(test_df['y_actual'], test_df['y_pred'])"
   ]
  },
  {
   "cell_type": "code",
   "execution_count": null,
   "id": "5275b5cc",
   "metadata": {},
   "outputs": [],
   "source": []
  },
  {
   "cell_type": "code",
   "execution_count": null,
   "id": "10e0d0d0",
   "metadata": {},
   "outputs": [],
   "source": []
  }
 ],
 "metadata": {
  "kernelspec": {
   "display_name": "Python 3 (ipykernel)",
   "language": "python",
   "name": "python3"
  },
  "language_info": {
   "codemirror_mode": {
    "name": "ipython",
    "version": 3
   },
   "file_extension": ".py",
   "mimetype": "text/x-python",
   "name": "python",
   "nbconvert_exporter": "python",
   "pygments_lexer": "ipython3",
   "version": "3.7.4"
  }
 },
 "nbformat": 4,
 "nbformat_minor": 5
}

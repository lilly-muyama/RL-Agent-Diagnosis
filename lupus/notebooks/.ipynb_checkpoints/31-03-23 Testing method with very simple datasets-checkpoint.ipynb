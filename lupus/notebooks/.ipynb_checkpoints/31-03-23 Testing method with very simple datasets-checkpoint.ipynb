{
 "cells": [
  {
   "cell_type": "code",
   "execution_count": 1,
   "id": "2aba6aa2",
   "metadata": {},
   "outputs": [],
   "source": [
    "import pandas as pd\n",
    "import numpy as np\n",
    "import random\n",
    "import os\n",
    "import torch\n",
    "import sys\n",
    "sys.path.append('../')\n",
    "from modules import utils, simple_constants\n",
    "from modules.simple_env import SimpleEnv\n",
    "# from modules.env import LupusEnv\n",
    "from sklearn.model_selection import train_test_split\n",
    "from stable_baselines3 import DQN\n",
    "import warnings\n",
    "warnings.filterwarnings('ignore')"
   ]
  },
  {
   "cell_type": "code",
   "execution_count": 2,
   "id": "b06ba17e",
   "metadata": {},
   "outputs": [],
   "source": [
    "SEED = simple_constants.SEED\n",
    "random.seed(SEED)\n",
    "np.random.seed(SEED)\n",
    "os.environ['PYTHONHASHSEED']=str(SEED)\n",
    "torch.manual_seed(SEED)\n",
    "torch.use_deterministic_algorithms(True)"
   ]
  },
  {
   "cell_type": "code",
   "execution_count": 3,
   "id": "741decd9",
   "metadata": {},
   "outputs": [],
   "source": [
    "class_dict = simple_constants.CLASS_DICT"
   ]
  },
  {
   "cell_type": "markdown",
   "id": "9e6bf462",
   "metadata": {},
   "source": [
    "#### The data"
   ]
  },
  {
   "cell_type": "code",
   "execution_count": 4,
   "id": "b988c554",
   "metadata": {},
   "outputs": [
    {
     "data": {
      "text/html": [
       "<div>\n",
       "<style scoped>\n",
       "    .dataframe tbody tr th:only-of-type {\n",
       "        vertical-align: middle;\n",
       "    }\n",
       "\n",
       "    .dataframe tbody tr th {\n",
       "        vertical-align: top;\n",
       "    }\n",
       "\n",
       "    .dataframe thead th {\n",
       "        text-align: right;\n",
       "    }\n",
       "</style>\n",
       "<table border=\"1\" class=\"dataframe\">\n",
       "  <thead>\n",
       "    <tr style=\"text-align: right;\">\n",
       "      <th></th>\n",
       "      <th>ana</th>\n",
       "      <th>anti_dsdna_antibody</th>\n",
       "      <th>joint_involvement</th>\n",
       "      <th>proteinuria</th>\n",
       "      <th>pericardial_effusion</th>\n",
       "      <th>non_scarring_alopecia</th>\n",
       "      <th>leukopenia</th>\n",
       "      <th>delirium</th>\n",
       "      <th>low_c3_and_c4</th>\n",
       "      <th>fever</th>\n",
       "      <th>anti_cardioliphin_antibodies</th>\n",
       "      <th>label</th>\n",
       "    </tr>\n",
       "  </thead>\n",
       "  <tbody>\n",
       "    <tr>\n",
       "      <th>0</th>\n",
       "      <td>0</td>\n",
       "      <td>0</td>\n",
       "      <td>1</td>\n",
       "      <td>1</td>\n",
       "      <td>1</td>\n",
       "      <td>0</td>\n",
       "      <td>1</td>\n",
       "      <td>1</td>\n",
       "      <td>1</td>\n",
       "      <td>0</td>\n",
       "      <td>1</td>\n",
       "      <td>No lupus</td>\n",
       "    </tr>\n",
       "    <tr>\n",
       "      <th>1</th>\n",
       "      <td>1</td>\n",
       "      <td>1</td>\n",
       "      <td>0</td>\n",
       "      <td>1</td>\n",
       "      <td>1</td>\n",
       "      <td>0</td>\n",
       "      <td>1</td>\n",
       "      <td>0</td>\n",
       "      <td>1</td>\n",
       "      <td>0</td>\n",
       "      <td>0</td>\n",
       "      <td>Lupus</td>\n",
       "    </tr>\n",
       "    <tr>\n",
       "      <th>2</th>\n",
       "      <td>0</td>\n",
       "      <td>1</td>\n",
       "      <td>0</td>\n",
       "      <td>0</td>\n",
       "      <td>1</td>\n",
       "      <td>1</td>\n",
       "      <td>0</td>\n",
       "      <td>0</td>\n",
       "      <td>1</td>\n",
       "      <td>1</td>\n",
       "      <td>1</td>\n",
       "      <td>No lupus</td>\n",
       "    </tr>\n",
       "    <tr>\n",
       "      <th>3</th>\n",
       "      <td>0</td>\n",
       "      <td>0</td>\n",
       "      <td>1</td>\n",
       "      <td>0</td>\n",
       "      <td>0</td>\n",
       "      <td>1</td>\n",
       "      <td>1</td>\n",
       "      <td>1</td>\n",
       "      <td>1</td>\n",
       "      <td>1</td>\n",
       "      <td>1</td>\n",
       "      <td>No lupus</td>\n",
       "    </tr>\n",
       "    <tr>\n",
       "      <th>4</th>\n",
       "      <td>0</td>\n",
       "      <td>1</td>\n",
       "      <td>1</td>\n",
       "      <td>1</td>\n",
       "      <td>1</td>\n",
       "      <td>0</td>\n",
       "      <td>0</td>\n",
       "      <td>0</td>\n",
       "      <td>0</td>\n",
       "      <td>0</td>\n",
       "      <td>0</td>\n",
       "      <td>No lupus</td>\n",
       "    </tr>\n",
       "  </tbody>\n",
       "</table>\n",
       "</div>"
      ],
      "text/plain": [
       "   ana  anti_dsdna_antibody  joint_involvement  proteinuria  \\\n",
       "0    0                    0                  1            1   \n",
       "1    1                    1                  0            1   \n",
       "2    0                    1                  0            0   \n",
       "3    0                    0                  1            0   \n",
       "4    0                    1                  1            1   \n",
       "\n",
       "   pericardial_effusion  non_scarring_alopecia  leukopenia  delirium  \\\n",
       "0                     1                      0           1         1   \n",
       "1                     1                      0           1         0   \n",
       "2                     1                      1           0         0   \n",
       "3                     0                      1           1         1   \n",
       "4                     1                      0           0         0   \n",
       "\n",
       "   low_c3_and_c4  fever  anti_cardioliphin_antibodies     label  \n",
       "0              1      0                             1  No lupus  \n",
       "1              1      0                             0     Lupus  \n",
       "2              1      1                             1  No lupus  \n",
       "3              1      1                             1  No lupus  \n",
       "4              0      0                             0  No lupus  "
      ]
     },
     "execution_count": 4,
     "metadata": {},
     "output_type": "execute_result"
    }
   ],
   "source": [
    "df = pd.read_csv('../data/very_simple_datasets/feats_22.csv')\n",
    "df.head()"
   ]
  },
  {
   "cell_type": "code",
   "execution_count": 5,
   "id": "ef6748c1",
   "metadata": {},
   "outputs": [
    {
     "name": "stdout",
     "output_type": "stream",
     "text": [
      "0    38047\n",
      "1    31953\n",
      "Name: label, dtype: int64\n"
     ]
    },
    {
     "data": {
      "text/plain": [
       "((56000, 11), (14000, 11), (56000,), (14000,))"
      ]
     },
     "execution_count": 5,
     "metadata": {},
     "output_type": "execute_result"
    }
   ],
   "source": [
    "df['label'] = df['label'].replace(class_dict)\n",
    "print(df.label.value_counts())\n",
    "X = df.iloc[:, 0:-1]\n",
    "y = df.iloc[:, -1]\n",
    "\n",
    "X_train, X_test, y_train, y_test = train_test_split(X, y, test_size=0.20, stratify=y, random_state=SEED)\n",
    "training_df = pd.concat([X_train, y_train], axis=1).reset_index(drop=True)\n",
    "testing_df = pd.concat([X_test, y_test], axis=1).reset_index(drop=True)\n",
    "X_train, y_train = np.array(X_train), np.array(y_train)\n",
    "X_test, y_test = np.array(X_test), np.array(y_test)\n",
    "X_train.shape, X_test.shape, y_train.shape, y_test.shape"
   ]
  },
  {
   "cell_type": "code",
   "execution_count": 6,
   "id": "1c43c07e",
   "metadata": {},
   "outputs": [
    {
     "data": {
      "text/plain": [
       "array([1, 0, 0, ..., 0, 1, 1])"
      ]
     },
     "execution_count": 6,
     "metadata": {},
     "output_type": "execute_result"
    }
   ],
   "source": [
    "y_train"
   ]
  },
  {
   "cell_type": "markdown",
   "id": "26186de1",
   "metadata": {},
   "source": [
    "#### Training the model"
   ]
  },
  {
   "cell_type": "code",
   "execution_count": 7,
   "id": "03a8585c",
   "metadata": {},
   "outputs": [],
   "source": [
    "def stable_dqn3(X_train, y_train, timesteps,  save=False, filename=None):\n",
    "    training_env = SimpleEnv(X_train, y_train)\n",
    "    model = DQN('MlpPolicy', training_env, verbose=1, seed=simple_constants.SEED, buffer_size=100000)\n",
    "    model.learn(total_timesteps=timesteps, log_interval=100000)\n",
    "    if save:\n",
    "        model.save(filename)\n",
    "    training_env.close()\n",
    "#     return model"
   ]
  },
  {
   "cell_type": "code",
   "execution_count": 27,
   "id": "ea5046e0",
   "metadata": {},
   "outputs": [
    {
     "name": "stdout",
     "output_type": "stream",
     "text": [
      "Using cpu device\n",
      "Wrapping the env with a `Monitor` wrapper\n",
      "Wrapping the env in a DummyVecEnv.\n",
      "----------------------------------\n",
      "| rollout/            |          |\n",
      "|    ep_len_mean      | 4.6      |\n",
      "|    ep_rew_mean      | -0.52    |\n",
      "|    exploration_rate | 0.43     |\n",
      "|    success_rate     | 0.24     |\n",
      "| time/               |          |\n",
      "|    episodes         | 100000   |\n",
      "|    fps              | 2457     |\n",
      "|    time_elapsed     | 153      |\n",
      "|    total_timesteps  | 377922   |\n",
      "| train/              |          |\n",
      "|    learning_rate    | 0.0001   |\n",
      "|    loss             | 0.0202   |\n",
      "|    n_updates        | 81980    |\n",
      "----------------------------------\n",
      "----------------------------------\n",
      "| rollout/            |          |\n",
      "|    ep_len_mean      | 8.59     |\n",
      "|    ep_rew_mean      | 0.64     |\n",
      "|    exploration_rate | 0.05     |\n",
      "|    success_rate     | 0.82     |\n",
      "| time/               |          |\n",
      "|    episodes         | 200000   |\n",
      "|    fps              | 1473     |\n",
      "|    time_elapsed     | 724      |\n",
      "|    total_timesteps  | 1067167  |\n",
      "| train/              |          |\n",
      "|    learning_rate    | 0.0001   |\n",
      "|    loss             | 0.00388  |\n",
      "|    n_updates        | 254291   |\n",
      "----------------------------------\n",
      "----------------------------------\n",
      "| rollout/            |          |\n",
      "|    ep_len_mean      | 8.89     |\n",
      "|    ep_rew_mean      | 0.62     |\n",
      "|    exploration_rate | 0.05     |\n",
      "|    success_rate     | 0.81     |\n",
      "| time/               |          |\n",
      "|    episodes         | 300000   |\n",
      "|    fps              | 1217     |\n",
      "|    time_elapsed     | 1573     |\n",
      "|    total_timesteps  | 1915621  |\n",
      "| train/              |          |\n",
      "|    learning_rate    | 0.0001   |\n",
      "|    loss             | 0.000329 |\n",
      "|    n_updates        | 466405   |\n",
      "----------------------------------\n",
      "----------------------------------\n",
      "| rollout/            |          |\n",
      "|    ep_len_mean      | 7.51     |\n",
      "|    ep_rew_mean      | 0.54     |\n",
      "|    exploration_rate | 0.05     |\n",
      "|    success_rate     | 0.77     |\n",
      "| time/               |          |\n",
      "|    episodes         | 400000   |\n",
      "|    fps              | 1197     |\n",
      "|    time_elapsed     | 2289     |\n",
      "|    total_timesteps  | 2742173  |\n",
      "| train/              |          |\n",
      "|    learning_rate    | 0.0001   |\n",
      "|    loss             | 0.000191 |\n",
      "|    n_updates        | 673043   |\n",
      "----------------------------------\n",
      "----------------------------------\n",
      "| rollout/            |          |\n",
      "|    ep_len_mean      | 7.56     |\n",
      "|    ep_rew_mean      | 0.64     |\n",
      "|    exploration_rate | 0.05     |\n",
      "|    success_rate     | 0.82     |\n",
      "| time/               |          |\n",
      "|    episodes         | 500000   |\n",
      "|    fps              | 1166     |\n",
      "|    time_elapsed     | 3032     |\n",
      "|    total_timesteps  | 3536507  |\n",
      "| train/              |          |\n",
      "|    learning_rate    | 0.0001   |\n",
      "|    loss             | 0.000124 |\n",
      "|    n_updates        | 871626   |\n",
      "----------------------------------\n",
      "----------------------------------\n",
      "| rollout/            |          |\n",
      "|    ep_len_mean      | 7.5      |\n",
      "|    ep_rew_mean      | 0.74     |\n",
      "|    exploration_rate | 0.05     |\n",
      "|    success_rate     | 0.87     |\n",
      "| time/               |          |\n",
      "|    episodes         | 600000   |\n",
      "|    fps              | 1110     |\n",
      "|    time_elapsed     | 3915     |\n",
      "|    total_timesteps  | 4347907  |\n",
      "| train/              |          |\n",
      "|    learning_rate    | 0.0001   |\n",
      "|    loss             | 0.000264 |\n",
      "|    n_updates        | 1074476  |\n",
      "----------------------------------\n",
      "----------------------------------\n",
      "| rollout/            |          |\n",
      "|    ep_len_mean      | 8.23     |\n",
      "|    ep_rew_mean      | 0.68     |\n",
      "|    exploration_rate | 0.05     |\n",
      "|    success_rate     | 0.84     |\n",
      "| time/               |          |\n",
      "|    episodes         | 700000   |\n",
      "|    fps              | 1139     |\n",
      "|    time_elapsed     | 4521     |\n",
      "|    total_timesteps  | 5150496  |\n",
      "| train/              |          |\n",
      "|    learning_rate    | 0.0001   |\n",
      "|    loss             | 0.000166 |\n",
      "|    n_updates        | 1275123  |\n",
      "----------------------------------\n",
      "----------------------------------\n",
      "| rollout/            |          |\n",
      "|    ep_len_mean      | 8.58     |\n",
      "|    ep_rew_mean      | 0.62     |\n",
      "|    exploration_rate | 0.05     |\n",
      "|    success_rate     | 0.81     |\n",
      "| time/               |          |\n",
      "|    episodes         | 800000   |\n",
      "|    fps              | 1149     |\n",
      "|    time_elapsed     | 5181     |\n",
      "|    total_timesteps  | 5954549  |\n",
      "| train/              |          |\n",
      "|    learning_rate    | 0.0001   |\n",
      "|    loss             | 6.7e-05  |\n",
      "|    n_updates        | 1476137  |\n",
      "----------------------------------\n"
     ]
    }
   ],
   "source": [
    "ft_num = 22\n",
    "# for steps in [int(5.5e6), int(5.8e6), int(6.2e6), int(6.5e6), int(5.3e6), int(6.8e6)]:\n",
    "for steps in [int(5e6), int(15e6), int(25e6)\n",
    "    stable_dqn3(X_train, y_train, steps, True, f'../models/very_simple_models/dqn_fts_{ft_num}_{steps}')"
   ]
  },
  {
   "cell_type": "code",
   "execution_count": null,
   "id": "d321f575",
   "metadata": {},
   "outputs": [],
   "source": [
    "# timesteps = 15000000\n",
    "# ft_num = 11\n",
    "# training_env = SimpleEnv(X_train, y_train)\n",
    "# # training_env = LupusEnv(X_train, y_train)\n",
    "# # model = DQN('MlpPolicy', training_env, verbose=1, seed=SEED, learning_rate=0.00001)\n",
    "# model = DQN('MlpPolicy', training_env, verbose=1, seed=SEED)\n",
    "# model.learn(total_timesteps=timesteps, log_interval=100000)\n",
    "# # model.save(f'../models/very_simple_models/reward_shaping/dqn_fts_{ft_num}_{timesteps}')\n",
    "# training_env.close()\n",
    "# def training(X_train, y_trai)"
   ]
  },
  {
   "cell_type": "code",
   "execution_count": 28,
   "id": "bd1a5b01",
   "metadata": {},
   "outputs": [
    {
     "name": "stdout",
     "output_type": "stream",
     "text": [
      "Using stable baselines 3\n"
     ]
    }
   ],
   "source": [
    "model = utils.load_dqn3('../models/very_simple_models/dqn_fts_11_6300000.zip')"
   ]
  },
  {
   "cell_type": "markdown",
   "id": "11da7b14",
   "metadata": {},
   "source": [
    "#### Testing the model"
   ]
  },
  {
   "cell_type": "code",
   "execution_count": 29,
   "id": "b2eb98e0",
   "metadata": {},
   "outputs": [
    {
     "name": "stdout",
     "output_type": "stream",
     "text": [
      "Count: 2800\n",
      "Count: 5600\n",
      "Count: 8400\n",
      "Count: 11200\n",
      "Count: 14000\n",
      "Testing done ....\n"
     ]
    },
    {
     "data": {
      "text/html": [
       "<div>\n",
       "<style scoped>\n",
       "    .dataframe tbody tr th:only-of-type {\n",
       "        vertical-align: middle;\n",
       "    }\n",
       "\n",
       "    .dataframe tbody tr th {\n",
       "        vertical-align: top;\n",
       "    }\n",
       "\n",
       "    .dataframe thead th {\n",
       "        text-align: right;\n",
       "    }\n",
       "</style>\n",
       "<table border=\"1\" class=\"dataframe\">\n",
       "  <thead>\n",
       "    <tr style=\"text-align: right;\">\n",
       "      <th></th>\n",
       "      <th>index</th>\n",
       "      <th>episode_length</th>\n",
       "      <th>reward</th>\n",
       "      <th>y_pred</th>\n",
       "      <th>y_actual</th>\n",
       "      <th>trajectory</th>\n",
       "      <th>terminated</th>\n",
       "      <th>is_success</th>\n",
       "    </tr>\n",
       "  </thead>\n",
       "  <tbody>\n",
       "    <tr>\n",
       "      <th>0</th>\n",
       "      <td>0.0</td>\n",
       "      <td>6.0</td>\n",
       "      <td>1.0</td>\n",
       "      <td>1.0</td>\n",
       "      <td>1.0</td>\n",
       "      <td>[ana, joint_involvement, leukopenia, low_c3_an...</td>\n",
       "      <td>0.0</td>\n",
       "      <td>1.0</td>\n",
       "    </tr>\n",
       "    <tr>\n",
       "      <th>1</th>\n",
       "      <td>1.0</td>\n",
       "      <td>4.0</td>\n",
       "      <td>1.0</td>\n",
       "      <td>0.0</td>\n",
       "      <td>0.0</td>\n",
       "      <td>[ana, leukopenia, joint_involvement, No lupus]</td>\n",
       "      <td>0.0</td>\n",
       "      <td>1.0</td>\n",
       "    </tr>\n",
       "    <tr>\n",
       "      <th>2</th>\n",
       "      <td>2.0</td>\n",
       "      <td>7.0</td>\n",
       "      <td>1.0</td>\n",
       "      <td>1.0</td>\n",
       "      <td>1.0</td>\n",
       "      <td>[ana, joint_involvement, leukopenia, anti_card...</td>\n",
       "      <td>0.0</td>\n",
       "      <td>1.0</td>\n",
       "    </tr>\n",
       "    <tr>\n",
       "      <th>3</th>\n",
       "      <td>3.0</td>\n",
       "      <td>10.0</td>\n",
       "      <td>1.0</td>\n",
       "      <td>1.0</td>\n",
       "      <td>1.0</td>\n",
       "      <td>[ana, joint_involvement, leukopenia, anti_card...</td>\n",
       "      <td>0.0</td>\n",
       "      <td>1.0</td>\n",
       "    </tr>\n",
       "    <tr>\n",
       "      <th>4</th>\n",
       "      <td>4.0</td>\n",
       "      <td>7.0</td>\n",
       "      <td>1.0</td>\n",
       "      <td>1.0</td>\n",
       "      <td>1.0</td>\n",
       "      <td>[ana, joint_involvement, leukopenia, anti_card...</td>\n",
       "      <td>0.0</td>\n",
       "      <td>1.0</td>\n",
       "    </tr>\n",
       "  </tbody>\n",
       "</table>\n",
       "</div>"
      ],
      "text/plain": [
       "   index  episode_length  reward  y_pred  y_actual  \\\n",
       "0    0.0             6.0     1.0     1.0       1.0   \n",
       "1    1.0             4.0     1.0     0.0       0.0   \n",
       "2    2.0             7.0     1.0     1.0       1.0   \n",
       "3    3.0            10.0     1.0     1.0       1.0   \n",
       "4    4.0             7.0     1.0     1.0       1.0   \n",
       "\n",
       "                                          trajectory  terminated  is_success  \n",
       "0  [ana, joint_involvement, leukopenia, low_c3_an...         0.0         1.0  \n",
       "1     [ana, leukopenia, joint_involvement, No lupus]         0.0         1.0  \n",
       "2  [ana, joint_involvement, leukopenia, anti_card...         0.0         1.0  \n",
       "3  [ana, joint_involvement, leukopenia, anti_card...         0.0         1.0  \n",
       "4  [ana, joint_involvement, leukopenia, anti_card...         0.0         1.0  "
      ]
     },
     "execution_count": 29,
     "metadata": {},
     "output_type": "execute_result"
    }
   ],
   "source": [
    "test_df = pd.DataFrame()\n",
    "testing_env = SimpleEnv(X_test, y_test, random=False)\n",
    "# testing_env = LupusEnv(X_test, y_test, random=False)\n",
    "count = 0\n",
    "try:\n",
    "    while True:\n",
    "        count += 1\n",
    "        if count %(len(X_test)/5)==0:\n",
    "            print(f'Count: {count}')\n",
    "        obs, done = testing_env.reset(), False\n",
    "        while not done:\n",
    "            action, states = model.predict(obs, deterministic=True)\n",
    "            obs, rew, done, info = testing_env.step(action)\n",
    "            if done==True:\n",
    "                test_df = test_df.append(info, ignore_index=True)\n",
    "except StopIteration:\n",
    "    print('Testing done ....')\n",
    "test_df.head() "
   ]
  },
  {
   "cell_type": "code",
   "execution_count": 30,
   "id": "cfb3c893",
   "metadata": {},
   "outputs": [],
   "source": [
    "# testing_df.iloc[4]"
   ]
  },
  {
   "cell_type": "code",
   "execution_count": 31,
   "id": "2424927b",
   "metadata": {},
   "outputs": [
    {
     "data": {
      "text/plain": [
       "650"
      ]
     },
     "execution_count": 31,
     "metadata": {},
     "output_type": "execute_result"
    }
   ],
   "source": [
    "len(testing_df[(testing_df.ana==1) & (testing_df.label==0)])"
   ]
  },
  {
   "cell_type": "code",
   "execution_count": 32,
   "id": "7c343287",
   "metadata": {},
   "outputs": [
    {
     "data": {
      "text/plain": [
       "98"
      ]
     },
     "execution_count": 32,
     "metadata": {},
     "output_type": "execute_result"
    }
   ],
   "source": [
    "len(test_df.trajectory.value_counts())"
   ]
  },
  {
   "cell_type": "markdown",
   "id": "aae2600e",
   "metadata": {},
   "source": [
    "#### Results"
   ]
  },
  {
   "cell_type": "code",
   "execution_count": 33,
   "id": "846902d3",
   "metadata": {},
   "outputs": [
    {
     "ename": "TypeError",
     "evalue": "unhashable type: 'list'",
     "output_type": "error",
     "traceback": [
      "\u001b[0;31m---------------------------------------------------------------------------\u001b[0m",
      "\u001b[0;31mTypeError\u001b[0m                                 Traceback (most recent call last)",
      "\u001b[0;32mpandas/_libs/hashtable_class_helper.pxi\u001b[0m in \u001b[0;36mpandas._libs.hashtable.PyObjectHashTable.map_locations\u001b[0;34m()\u001b[0m\n",
      "\u001b[0;31mTypeError\u001b[0m: unhashable type: 'list'"
     ]
    },
    {
     "name": "stderr",
     "output_type": "stream",
     "text": [
      "Exception ignored in: 'pandas._libs.index.IndexEngine._call_map_locations'\n",
      "Traceback (most recent call last):\n",
      "  File \"pandas/_libs/hashtable_class_helper.pxi\", line 5231, in pandas._libs.hashtable.PyObjectHashTable.map_locations\n",
      "TypeError: unhashable type: 'list'\n"
     ]
    },
    {
     "data": {
      "text/plain": [
       "[ana, leukopenia, joint_involvement, No lupus]                                                                                                                                                 6959\n",
       "[ana, joint_involvement, leukopenia, anti_cardioliphin_antibodies, low_c3_and_c4, non_scarring_alopecia, delirium, anti_dsdna_antibody, pericardial_effusion, Lupus]                            684\n",
       "[ana, joint_involvement, leukopenia, anti_cardioliphin_antibodies, low_c3_and_c4, non_scarring_alopecia, Lupus]                                                                                 651\n",
       "[ana, joint_involvement, leukopenia, anti_cardioliphin_antibodies, non_scarring_alopecia, low_c3_and_c4, Lupus]                                                                                 444\n",
       "[ana, joint_involvement, leukopenia, low_c3_and_c4, non_scarring_alopecia, Lupus]                                                                                                               421\n",
       "                                                                                                                                                                                               ... \n",
       "[ana, joint_involvement, leukopenia, anti_cardioliphin_antibodies, low_c3_and_c4, delirium, non_scarring_alopecia, anti_dsdna_antibody, pericardial_effusion, fever, proteinuria, Lupus]          5\n",
       "[ana, joint_involvement, leukopenia, low_c3_and_c4, non_scarring_alopecia, delirium, anti_cardioliphin_antibodies, anti_dsdna_antibody, pericardial_effusion, fever, proteinuria, No lupus]       4\n",
       "[ana, joint_involvement, leukopenia, low_c3_and_c4, non_scarring_alopecia, delirium, anti_cardioliphin_antibodies, pericardial_effusion, anti_dsdna_antibody, proteinuria, fever, No lupus]       4\n",
       "[ana, joint_involvement, leukopenia, low_c3_and_c4, delirium, non_scarring_alopecia, anti_cardioliphin_antibodies, pericardial_effusion, fever, anti_dsdna_antibody, proteinuria, No lupus]       4\n",
       "[ana, joint_involvement, leukopenia, anti_cardioliphin_antibodies, low_c3_and_c4, non_scarring_alopecia, delirium, pericardial_effusion, anti_dsdna_antibody, fever, proteinuria, No lupus]       2\n",
       "Name: trajectory, Length: 98, dtype: int64"
      ]
     },
     "execution_count": 33,
     "metadata": {},
     "output_type": "execute_result"
    }
   ],
   "source": [
    "test_df.trajectory.value_counts()"
   ]
  },
  {
   "cell_type": "code",
   "execution_count": 34,
   "id": "ce23fdf5",
   "metadata": {},
   "outputs": [
    {
     "data": {
      "text/plain": [
       "(4.0, 12.0)"
      ]
     },
     "execution_count": 34,
     "metadata": {},
     "output_type": "execute_result"
    }
   ],
   "source": [
    "test_df.episode_length.min(), test_df.episode_length.max()"
   ]
  },
  {
   "cell_type": "code",
   "execution_count": 35,
   "id": "983ba7fe",
   "metadata": {},
   "outputs": [],
   "source": [
    "# len(testing_df[testing_df.ana == 0])"
   ]
  },
  {
   "cell_type": "code",
   "execution_count": 36,
   "id": "f1af2743",
   "metadata": {},
   "outputs": [
    {
     "data": {
      "text/plain": [
       "98"
      ]
     },
     "execution_count": 36,
     "metadata": {},
     "output_type": "execute_result"
    }
   ],
   "source": [
    "len(test_df.trajectory.value_counts())"
   ]
  },
  {
   "cell_type": "code",
   "execution_count": 37,
   "id": "73384033",
   "metadata": {},
   "outputs": [
    {
     "ename": "TypeError",
     "evalue": "unhashable type: 'list'",
     "output_type": "error",
     "traceback": [
      "\u001b[0;31m---------------------------------------------------------------------------\u001b[0m",
      "\u001b[0;31mTypeError\u001b[0m                                 Traceback (most recent call last)",
      "\u001b[0;32mpandas/_libs/hashtable_class_helper.pxi\u001b[0m in \u001b[0;36mpandas._libs.hashtable.PyObjectHashTable.map_locations\u001b[0;34m()\u001b[0m\n",
      "\u001b[0;31mTypeError\u001b[0m: unhashable type: 'list'"
     ]
    },
    {
     "name": "stderr",
     "output_type": "stream",
     "text": [
      "Exception ignored in: 'pandas._libs.index.IndexEngine._call_map_locations'\n",
      "Traceback (most recent call last):\n",
      "  File \"pandas/_libs/hashtable_class_helper.pxi\", line 5231, in pandas._libs.hashtable.PyObjectHashTable.map_locations\n",
      "TypeError: unhashable type: 'list'\n"
     ]
    },
    {
     "data": {
      "text/plain": [
       "[ana, leukopenia, joint_involvement, No lupus]    6959\n",
       "Name: trajectory, dtype: int64"
      ]
     },
     "execution_count": 37,
     "metadata": {},
     "output_type": "execute_result"
    }
   ],
   "source": [
    "test_df[test_df.episode_length == test_df.episode_length.min()].trajectory.value_counts()"
   ]
  },
  {
   "cell_type": "code",
   "execution_count": 38,
   "id": "f2d7211a",
   "metadata": {},
   "outputs": [
    {
     "data": {
      "text/plain": [
       "99.95"
      ]
     },
     "execution_count": 38,
     "metadata": {},
     "output_type": "execute_result"
    }
   ],
   "source": [
    "success_rate, success_df = utils.success_rate(test_df)\n",
    "success_rate"
   ]
  },
  {
   "cell_type": "code",
   "execution_count": 39,
   "id": "d1d52bc9",
   "metadata": {},
   "outputs": [
    {
     "data": {
      "text/plain": [
       "(6.7240714285714285, 0.999)"
      ]
     },
     "execution_count": 39,
     "metadata": {},
     "output_type": "execute_result"
    }
   ],
   "source": [
    "avg_length, avg_return = utils.get_avg_length_reward(test_df)\n",
    "avg_length, avg_return"
   ]
  },
  {
   "cell_type": "code",
   "execution_count": 40,
   "id": "c1bb39e3",
   "metadata": {},
   "outputs": [
    {
     "data": {
      "text/plain": [
       "(99.95, 99.94962306719451, 99.9540018399264)"
      ]
     },
     "execution_count": 40,
     "metadata": {},
     "output_type": "execute_result"
    }
   ],
   "source": [
    "acc, f1, roc_auc = utils.test(test_df['y_actual'], test_df['y_pred'])\n",
    "acc, f1, roc_auc"
   ]
  },
  {
   "cell_type": "code",
   "execution_count": 41,
   "id": "d707ab2e",
   "metadata": {
    "scrolled": true
   },
   "outputs": [
    {
     "data": {
      "text/plain": [
       "0.0    7609\n",
       "1.0    6391\n",
       "Name: y_actual, dtype: int64"
      ]
     },
     "execution_count": 41,
     "metadata": {},
     "output_type": "execute_result"
    }
   ],
   "source": [
    "test_df.y_actual.value_counts()"
   ]
  },
  {
   "cell_type": "code",
   "execution_count": 42,
   "id": "b237051a",
   "metadata": {},
   "outputs": [
    {
     "data": {
      "text/plain": [
       "0.0    7602\n",
       "1.0    6398\n",
       "Name: y_pred, dtype: int64"
      ]
     },
     "execution_count": 42,
     "metadata": {},
     "output_type": "execute_result"
    }
   ],
   "source": [
    "test_df.y_pred.value_counts()"
   ]
  },
  {
   "cell_type": "code",
   "execution_count": 43,
   "id": "5f1dc2dd",
   "metadata": {},
   "outputs": [],
   "source": [
    "# test_df.to_csv(f'../test_dfs/very_simple_datasets/dqn_lupus_test_df_8ft_700000.csv', index=False)\n",
    "# success_df.to_csv(f'../test_dfs/very_simple_datasets/dqn_lupus_success_df_8ft_700000.csv', index=False)"
   ]
  },
  {
   "cell_type": "code",
   "execution_count": null,
   "id": "831b8735",
   "metadata": {},
   "outputs": [],
   "source": [
    "def training_and_testing(timesteps, feat_num):\n",
    "    training_env = SimpleEnv(X_train, y_train)\n",
    "    model = DQN('MlpPolicy', training_env, verbose=1, seed=SEED)\n",
    "    model.learn(total_timesteps=timesteps, log_interval=100000)\n",
    "    model.save(f'../models/very_simple_models/dqn_fts_{feat_num}_{timesteps}')\n",
    "    training_env.close()\n",
    "    \n",
    "    test_df = pd.DataFrame()\n",
    "    testing_env = SimpleEnv(X_test, y_test, random=False)\n",
    "    count = 0\n",
    "    try:\n",
    "        while True:\n",
    "            count += 1\n",
    "            if count %(len(X_test)/5)==0:\n",
    "                print(f'Count: {count}')\n",
    "            obs, done = testing_env.reset(), False\n",
    "            while not done:\n",
    "                action, states = model.predict(obs, deterministic=True)\n",
    "                obs, rew, done, info = testing_env.step(action)\n",
    "                if done==True:\n",
    "                    test_df = test_df.append(info, ignore_index=True)\n",
    "    except StopIteration:\n",
    "        print('Testing done ....')\n",
    "    print(test_df.head())\n",
    "    print(test_df.trajectory.value_counts())\n",
    "    success_rate, success_df = utils.success_rate(test_df)\n",
    "    print(f'Success rate: {success_rate}')\n",
    "    acc, f1, roc_auc = utils.test(test_df['y_actual'], test_df['y_pred'])\n",
    "    print(f'Accuracy: {acc}')\n",
    "    print(f'F1 Score: {f1}')\n",
    "    print(f'ROC AUC SCore: {roc_auc}')"
   ]
  },
  {
   "cell_type": "code",
   "execution_count": null,
   "id": "77572243",
   "metadata": {},
   "outputs": [],
   "source": []
  },
  {
   "cell_type": "code",
   "execution_count": null,
   "id": "5cde8b9c",
   "metadata": {},
   "outputs": [],
   "source": []
  },
  {
   "cell_type": "code",
   "execution_count": null,
   "id": "6ffa39bb",
   "metadata": {},
   "outputs": [],
   "source": []
  }
 ],
 "metadata": {
  "kernelspec": {
   "display_name": "Python 3 (ipykernel)",
   "language": "python",
   "name": "python3"
  },
  "language_info": {
   "codemirror_mode": {
    "name": "ipython",
    "version": 3
   },
   "file_extension": ".py",
   "mimetype": "text/x-python",
   "name": "python",
   "nbconvert_exporter": "python",
   "pygments_lexer": "ipython3",
   "version": "3.7.4"
  }
 },
 "nbformat": 4,
 "nbformat_minor": 5
}

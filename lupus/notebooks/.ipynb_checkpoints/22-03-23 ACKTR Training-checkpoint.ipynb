{
 "cells": [
  {
   "cell_type": "code",
   "execution_count": null,
   "id": "fada2763",
   "metadata": {},
   "outputs": [],
   "source": [
    "import pandas as pd\n",
    "import numpy as np\n",
    "import random\n",
    "import os\n",
    "import torch\n",
    "import sys\n",
    "sys.path.append('../')\n",
    "from modules import utils, constants\n",
    "import warnings\n",
    "warnings.filterwarnings('ignore')"
   ]
  },
  {
   "cell_type": "code",
   "execution_count": null,
   "id": "184f77e7",
   "metadata": {},
   "outputs": [],
   "source": []
  },
  {
   "cell_type": "code",
   "execution_count": null,
   "id": "97bbcffa",
   "metadata": {},
   "outputs": [],
   "source": [
    "SEED = 42\n",
    "random.seed(SEED)\n",
    "np.random.seed(SEED)\n",
    "os.environ['PYTHONHASHSEED']=str(SEED)\n",
    "torch.manual_seed(SEED)\n",
    "torch.use_deterministic_algorithms(True)"
   ]
  },
  {
   "cell_type": "markdown",
   "id": "07a78a04",
   "metadata": {},
   "source": [
    "#### The data"
   ]
  },
  {
   "cell_type": "code",
   "execution_count": null,
   "id": "5b7da045",
   "metadata": {},
   "outputs": [],
   "source": [
    "# train_df = pd.read_csv('../data/25_jan/train_set_basic.csv')\n",
    "train_df = pd.read_csv('../data/missingness/0/training_set.csv')\n",
    "train_df.head()"
   ]
  },
  {
   "cell_type": "code",
   "execution_count": null,
   "id": "96d2ee61",
   "metadata": {},
   "outputs": [],
   "source": [
    "train_df.cutaneous_lupus.value_counts()"
   ]
  },
  {
   "cell_type": "code",
   "execution_count": null,
   "id": "cc2cca66",
   "metadata": {},
   "outputs": [],
   "source": [
    "train_df[(train_df.ana==0) & (train_df.label==1)]"
   ]
  },
  {
   "cell_type": "code",
   "execution_count": null,
   "id": "433bb55f",
   "metadata": {},
   "outputs": [],
   "source": [
    "train_df.isna().sum()"
   ]
  },
  {
   "cell_type": "code",
   "execution_count": null,
   "id": "7ab40074",
   "metadata": {},
   "outputs": [],
   "source": [
    "len(train_df)"
   ]
  },
  {
   "cell_type": "code",
   "execution_count": null,
   "id": "c493a363",
   "metadata": {},
   "outputs": [],
   "source": [
    "X_train = train_df.iloc[:, 0:-1]\n",
    "y_train = train_df.iloc[:, -1]\n",
    "X_train, y_train = np.array(X_train), np.array(y_train)\n",
    "X_train.shape, y_train.shape"
   ]
  },
  {
   "cell_type": "code",
   "execution_count": null,
   "id": "86478146",
   "metadata": {},
   "outputs": [],
   "source": [
    "action_list = list(constants.CLASS_DICT.keys()) + [col  for col in train_df.columns if col!='label']\n",
    "action_list"
   ]
  },
  {
   "cell_type": "code",
   "execution_count": null,
   "id": "d29106f5",
   "metadata": {},
   "outputs": [],
   "source": [
    "# steps = 11279933\n",
    "# dqn_model = utils.stable_dqn3(X_train, y_train, steps, True, f'../models/24_feb/dqn_basic_{steps}')"
   ]
  },
  {
   "cell_type": "code",
   "execution_count": null,
   "id": "b2a3f2e9",
   "metadata": {},
   "outputs": [],
   "source": [
    "#0.92 at 11,279,933 timesteps and 1900000 episodes also at 36,144,785 timestepsc(7800000 episodes)"
   ]
  },
  {
   "cell_type": "code",
   "execution_count": null,
   "id": "8434573c",
   "metadata": {
    "scrolled": true
   },
   "outputs": [],
   "source": [
    "# for steps in [int(5e4), int(1e5), int(3e5), int(5e5), int(8e5), int(1e6), int(2e6)]:    \n",
    "# # for steps in [int(1.1e5)]:  \n",
    "#     dqn_model = utils.stable_dqn3(X_train, y_train, steps, True, f'../models/26_jan/dqn_basic_{steps}')"
   ]
  },
  {
   "cell_type": "markdown",
   "id": "35aaed4c",
   "metadata": {},
   "source": [
    "#### The Model"
   ]
  },
  {
   "cell_type": "code",
   "execution_count": null,
   "id": "914b8f07",
   "metadata": {},
   "outputs": [],
   "source": [
    "from stable_baselines import ACKTR\n",
    "from stable_baselines.common.vec_env import DummyVecEnv, VecNormalize\n",
    "from stable_baselines.common.callbacks import CheckpointCallback\n",
    "from modules.env import LupusEnv"
   ]
  },
  {
   "cell_type": "code",
   "execution_count": null,
   "id": "437fc880",
   "metadata": {},
   "outputs": [],
   "source": [
    "training_env = LupusEnv(X_train, y_train)\n",
    "training_env = DummyVecEnv([lambda: training_env])\n",
    "# training_env = VecNormalize(training_env, norm_obs=True, norm_reward=False, clip_obs=10.)\n",
    "\n",
    "model = ACKTR('MlpPolicy', training_env, verbose=1, seed = constants.SEED)\n",
    "checkpoint_callback = CheckpointCallback(save_freq=100000, save_path='../models/logs/acktr', name_prefix='acktr_basic_')\n",
    "\n",
    "model.learn(total_timesteps=70000000, log_interval=100000, callback=checkpoint_callback)\n",
    "\n",
    "# Save the trained DQN agent\n",
    "model.save('../models/22_mar/acktr_lupus_diagnosis')\n",
    "training_env.close()"
   ]
  },
  {
   "cell_type": "code",
   "execution_count": null,
   "id": "e72c46d6",
   "metadata": {},
   "outputs": [],
   "source": []
  },
  {
   "cell_type": "code",
   "execution_count": null,
   "id": "b05a419c",
   "metadata": {},
   "outputs": [],
   "source": []
  },
  {
   "cell_type": "code",
   "execution_count": null,
   "id": "690829b8",
   "metadata": {},
   "outputs": [],
   "source": []
  }
 ],
 "metadata": {
  "kernelspec": {
   "display_name": "Python 3 (ipykernel)",
   "language": "python",
   "name": "python3"
  },
  "language_info": {
   "codemirror_mode": {
    "name": "ipython",
    "version": 3
   },
   "file_extension": ".py",
   "mimetype": "text/x-python",
   "name": "python",
   "nbconvert_exporter": "python",
   "pygments_lexer": "ipython3",
   "version": "3.7.4"
  }
 },
 "nbformat": 4,
 "nbformat_minor": 5
}

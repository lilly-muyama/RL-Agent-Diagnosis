{
 "cells": [
  {
   "cell_type": "code",
   "execution_count": 78,
   "id": "40f5448a",
   "metadata": {},
   "outputs": [],
   "source": [
    "import pandas as pd\n",
    "import numpy as np\n",
    "import random\n",
    "import seaborn as sns\n",
    "from scipy.stats import truncnorm\n",
    "import matplotlib.pyplot as plt\n",
    "%matplotlib inline\n",
    "from sklearn.model_selection import train_test_split\n",
    "import sys\n",
    "sys.path.append('../')\n",
    "from modules import utils, constants"
   ]
  },
  {
   "cell_type": "code",
   "execution_count": 79,
   "id": "c926dd41",
   "metadata": {},
   "outputs": [],
   "source": [
    "SEED = constants.SEED\n",
    "random.seed(SEED)\n",
    "np.random.seed(SEED)"
   ]
  },
  {
   "cell_type": "markdown",
   "id": "68c038b2",
   "metadata": {},
   "source": [
    "#### Demographics"
   ]
  },
  {
   "cell_type": "code",
   "execution_count": 80,
   "id": "94a1ee3c",
   "metadata": {},
   "outputs": [],
   "source": [
    "lupus_df = pd.DataFrame()\n",
    "sample_num = 70000"
   ]
  },
  {
   "cell_type": "markdown",
   "id": "de1b1353",
   "metadata": {},
   "source": [
    "#### Entry criterion"
   ]
  },
  {
   "cell_type": "code",
   "execution_count": 81,
   "id": "49815bae",
   "metadata": {},
   "outputs": [
    {
     "data": {
      "text/html": [
       "<div>\n",
       "<style scoped>\n",
       "    .dataframe tbody tr th:only-of-type {\n",
       "        vertical-align: middle;\n",
       "    }\n",
       "\n",
       "    .dataframe tbody tr th {\n",
       "        vertical-align: top;\n",
       "    }\n",
       "\n",
       "    .dataframe thead th {\n",
       "        text-align: right;\n",
       "    }\n",
       "</style>\n",
       "<table border=\"1\" class=\"dataframe\">\n",
       "  <thead>\n",
       "    <tr style=\"text-align: right;\">\n",
       "      <th></th>\n",
       "      <th>ana</th>\n",
       "    </tr>\n",
       "  </thead>\n",
       "  <tbody>\n",
       "    <tr>\n",
       "      <th>0</th>\n",
       "      <td>1</td>\n",
       "    </tr>\n",
       "    <tr>\n",
       "      <th>1</th>\n",
       "      <td>0</td>\n",
       "    </tr>\n",
       "    <tr>\n",
       "      <th>2</th>\n",
       "      <td>0</td>\n",
       "    </tr>\n",
       "    <tr>\n",
       "      <th>3</th>\n",
       "      <td>0</td>\n",
       "    </tr>\n",
       "    <tr>\n",
       "      <th>4</th>\n",
       "      <td>1</td>\n",
       "    </tr>\n",
       "  </tbody>\n",
       "</table>\n",
       "</div>"
      ],
      "text/plain": [
       "   ana\n",
       "0    1\n",
       "1    0\n",
       "2    0\n",
       "3    0\n",
       "4    1"
      ]
     },
     "execution_count": 81,
     "metadata": {},
     "output_type": "execute_result"
    }
   ],
   "source": [
    "lupus_df['ana'] = np.random.choice([1, 0], sample_num, p=[0.5, 0.5])\n",
    "lupus_df.head()"
   ]
  },
  {
   "cell_type": "code",
   "execution_count": 82,
   "id": "505b86ef",
   "metadata": {},
   "outputs": [
    {
     "data": {
      "text/plain": [
       "0    35044\n",
       "1    34956\n",
       "Name: ana, dtype: int64"
      ]
     },
     "execution_count": 82,
     "metadata": {},
     "output_type": "execute_result"
    }
   ],
   "source": [
    "lupus_df.ana.value_counts()"
   ]
  },
  {
   "cell_type": "markdown",
   "id": "8bf73233",
   "metadata": {},
   "source": [
    "#### Additional criteria"
   ]
  },
  {
   "cell_type": "code",
   "execution_count": 83,
   "id": "9a447e75",
   "metadata": {},
   "outputs": [],
   "source": [
    "features = ['fever', 'leukopenia', 'thrombocytopenia', 'auto_immune_hemolysis', 'delirium', 'psychosis', 'seizure', \n",
    "            'non_scarring_alopecia', 'oral_ulcers', 'subacute_cutaneous', 'discoid_lupus', 'acute_cutaneous_lupus', \n",
    "            'pleural_effusion', 'pericardial_effusion', 'acute_pericarditis', 'joint_involvement', 'proteinuria', \n",
    "            'renal_biopsy_class', 'anti_cardioliphin_antibodies', 'anti_b2gp4_antibodies', 'lupus_anti_coagulant', \n",
    "            'c3', 'c4', 'anti_dsdna_antibody', 'anti_smith_antibody']"
   ]
  },
  {
   "cell_type": "code",
   "execution_count": 84,
   "id": "598e6b65",
   "metadata": {},
   "outputs": [],
   "source": [
    "criteria_weights = {'fever':2, 'leukopenia':3, 'thrombocytopenia':4, 'auto_immune_hemolysis':4, 'delirium':2, \n",
    "                    'psychosis':3, 'seizure':5, 'non_scarring_alopecia':2, 'oral_ulcers':2, 'subacute_cutaneous':4, \n",
    "                    'discoid_lupus':4, 'acute_cutaneous_lupus':6, 'pleural_effusion': 5, 'pericardial_effusion':5, \n",
    "                    'acute_pericarditis':6, 'joint_involvement':6, 'proteinuria':4, 'renal_biopsy_2':8, \n",
    "                    'renal_biopsy_5': 8, 'renal_biopsy_3': 10, 'renal_biopsy_4': 10, \n",
    "                    'anti_cardioliphin_antibodies':2, 'anti_b2gp4_antibodies':2, 'lupus_anti_coagulant':2, \n",
    "                    'low_c3_or_low_c4':3, 'low_c3_and_low_c4':4, 'anti_dsdna_antibody':6, 'anti_smith_antibody':6}"
   ]
  },
  {
   "cell_type": "code",
   "execution_count": 85,
   "id": "9fe652a6",
   "metadata": {},
   "outputs": [],
   "source": [
    "weight_prob_dict = {10:0.01, 8:0.02, 6:0.04, 5:0.06, 4:0.08, 3:0.10, 2:0.12}"
   ]
  },
  {
   "cell_type": "code",
   "execution_count": 86,
   "id": "6e553ec7",
   "metadata": {},
   "outputs": [],
   "source": [
    "def get_truncated_normal(mean=0, sd=1, low=0, upp=10, size=100):\n",
    "    return truncnorm(\n",
    "        (low - mean) / sd, (upp - mean) / sd, loc=mean, scale=sd).rvs(size=size)"
   ]
  },
  {
   "cell_type": "code",
   "execution_count": 87,
   "id": "f8ecf345",
   "metadata": {},
   "outputs": [],
   "source": [
    "def create_proteinuria(size, max_val, skewness):\n",
    "    from scipy.stats import skewnorm\n",
    "    skewed_list = skewnorm.rvs(a = skewness, loc=max_val, size=size)\n",
    "    skewed_list = skewed_list - min(skewed_list)      #Shift the set so the minimum value is equal to zero.\n",
    "    skewed_list = skewed_list / max(skewed_list)      #Standadize all the vlues between 0 and 1. \n",
    "    skewed_list = skewed_list * max_val\n",
    "    return skewed_list"
   ]
  },
  {
   "cell_type": "code",
   "execution_count": 88,
   "id": "1d8a2372",
   "metadata": {},
   "outputs": [],
   "source": [
    "def get_feat_probabilities(feature):\n",
    "    '''\n",
    "    Returns the probability of positives vs negatives for a feature. \n",
    "    Works for all features except renal class, C3 and C4'''\n",
    "    feature_weight = criteria_weights[feature]\n",
    "    pos_prob = weight_prob_dict[feature_weight]\n",
    "    return pos_prob, 1-pos_prob"
   ]
  },
  {
   "cell_type": "code",
   "execution_count": 89,
   "id": "3cf6e33f",
   "metadata": {},
   "outputs": [],
   "source": [
    "def create_feat(feat_name, size):\n",
    "    pos_feat_prob, neg_feat_prob = get_feat_probabilities(feat_name)\n",
    "    return np.random.choice([0, 1], size, p=[neg_feat_prob, pos_feat_prob])"
   ]
  },
  {
   "cell_type": "code",
   "execution_count": 90,
   "id": "25ceaf43",
   "metadata": {},
   "outputs": [
    {
     "data": {
      "text/html": [
       "<div>\n",
       "<style scoped>\n",
       "    .dataframe tbody tr th:only-of-type {\n",
       "        vertical-align: middle;\n",
       "    }\n",
       "\n",
       "    .dataframe tbody tr th {\n",
       "        vertical-align: top;\n",
       "    }\n",
       "\n",
       "    .dataframe thead th {\n",
       "        text-align: right;\n",
       "    }\n",
       "</style>\n",
       "<table border=\"1\" class=\"dataframe\">\n",
       "  <thead>\n",
       "    <tr style=\"text-align: right;\">\n",
       "      <th></th>\n",
       "      <th>ana</th>\n",
       "      <th>fever</th>\n",
       "      <th>leukopenia</th>\n",
       "      <th>thrombocytopenia</th>\n",
       "      <th>auto_immune_hemolysis</th>\n",
       "      <th>delirium</th>\n",
       "      <th>psychosis</th>\n",
       "      <th>seizure</th>\n",
       "      <th>non_scarring_alopecia</th>\n",
       "      <th>oral_ulcers</th>\n",
       "      <th>...</th>\n",
       "      <th>joint_involvement</th>\n",
       "      <th>proteinuria</th>\n",
       "      <th>renal_biopsy_class</th>\n",
       "      <th>anti_cardioliphin_antibodies</th>\n",
       "      <th>anti_b2gp4_antibodies</th>\n",
       "      <th>lupus_anti_coagulant</th>\n",
       "      <th>c3</th>\n",
       "      <th>c4</th>\n",
       "      <th>anti_dsdna_antibody</th>\n",
       "      <th>anti_smith_antibody</th>\n",
       "    </tr>\n",
       "  </thead>\n",
       "  <tbody>\n",
       "    <tr>\n",
       "      <th>0</th>\n",
       "      <td>1</td>\n",
       "      <td>0</td>\n",
       "      <td>0</td>\n",
       "      <td>0</td>\n",
       "      <td>0</td>\n",
       "      <td>0</td>\n",
       "      <td>0</td>\n",
       "      <td>0</td>\n",
       "      <td>0</td>\n",
       "      <td>0</td>\n",
       "      <td>...</td>\n",
       "      <td>0</td>\n",
       "      <td>0</td>\n",
       "      <td>0</td>\n",
       "      <td>0</td>\n",
       "      <td>0</td>\n",
       "      <td>0</td>\n",
       "      <td>1</td>\n",
       "      <td>1</td>\n",
       "      <td>0</td>\n",
       "      <td>0</td>\n",
       "    </tr>\n",
       "    <tr>\n",
       "      <th>1</th>\n",
       "      <td>0</td>\n",
       "      <td>0</td>\n",
       "      <td>0</td>\n",
       "      <td>0</td>\n",
       "      <td>0</td>\n",
       "      <td>0</td>\n",
       "      <td>0</td>\n",
       "      <td>0</td>\n",
       "      <td>0</td>\n",
       "      <td>0</td>\n",
       "      <td>...</td>\n",
       "      <td>0</td>\n",
       "      <td>0</td>\n",
       "      <td>0</td>\n",
       "      <td>0</td>\n",
       "      <td>0</td>\n",
       "      <td>0</td>\n",
       "      <td>1</td>\n",
       "      <td>1</td>\n",
       "      <td>0</td>\n",
       "      <td>0</td>\n",
       "    </tr>\n",
       "    <tr>\n",
       "      <th>2</th>\n",
       "      <td>0</td>\n",
       "      <td>0</td>\n",
       "      <td>0</td>\n",
       "      <td>1</td>\n",
       "      <td>0</td>\n",
       "      <td>0</td>\n",
       "      <td>0</td>\n",
       "      <td>0</td>\n",
       "      <td>0</td>\n",
       "      <td>0</td>\n",
       "      <td>...</td>\n",
       "      <td>0</td>\n",
       "      <td>0</td>\n",
       "      <td>1</td>\n",
       "      <td>0</td>\n",
       "      <td>0</td>\n",
       "      <td>0</td>\n",
       "      <td>0</td>\n",
       "      <td>0</td>\n",
       "      <td>0</td>\n",
       "      <td>0</td>\n",
       "    </tr>\n",
       "    <tr>\n",
       "      <th>3</th>\n",
       "      <td>0</td>\n",
       "      <td>0</td>\n",
       "      <td>0</td>\n",
       "      <td>1</td>\n",
       "      <td>0</td>\n",
       "      <td>0</td>\n",
       "      <td>0</td>\n",
       "      <td>0</td>\n",
       "      <td>0</td>\n",
       "      <td>0</td>\n",
       "      <td>...</td>\n",
       "      <td>0</td>\n",
       "      <td>0</td>\n",
       "      <td>0</td>\n",
       "      <td>1</td>\n",
       "      <td>0</td>\n",
       "      <td>0</td>\n",
       "      <td>1</td>\n",
       "      <td>0</td>\n",
       "      <td>0</td>\n",
       "      <td>0</td>\n",
       "    </tr>\n",
       "    <tr>\n",
       "      <th>4</th>\n",
       "      <td>1</td>\n",
       "      <td>0</td>\n",
       "      <td>0</td>\n",
       "      <td>0</td>\n",
       "      <td>0</td>\n",
       "      <td>0</td>\n",
       "      <td>0</td>\n",
       "      <td>0</td>\n",
       "      <td>1</td>\n",
       "      <td>1</td>\n",
       "      <td>...</td>\n",
       "      <td>0</td>\n",
       "      <td>0</td>\n",
       "      <td>0</td>\n",
       "      <td>0</td>\n",
       "      <td>1</td>\n",
       "      <td>0</td>\n",
       "      <td>0</td>\n",
       "      <td>1</td>\n",
       "      <td>0</td>\n",
       "      <td>0</td>\n",
       "    </tr>\n",
       "  </tbody>\n",
       "</table>\n",
       "<p>5 rows × 26 columns</p>\n",
       "</div>"
      ],
      "text/plain": [
       "   ana  fever  leukopenia  thrombocytopenia  auto_immune_hemolysis  delirium  \\\n",
       "0    1      0           0                 0                      0         0   \n",
       "1    0      0           0                 0                      0         0   \n",
       "2    0      0           0                 1                      0         0   \n",
       "3    0      0           0                 1                      0         0   \n",
       "4    1      0           0                 0                      0         0   \n",
       "\n",
       "   psychosis  seizure  non_scarring_alopecia  oral_ulcers  ...  \\\n",
       "0          0        0                      0            0  ...   \n",
       "1          0        0                      0            0  ...   \n",
       "2          0        0                      0            0  ...   \n",
       "3          0        0                      0            0  ...   \n",
       "4          0        0                      1            1  ...   \n",
       "\n",
       "   joint_involvement  proteinuria  renal_biopsy_class  \\\n",
       "0                  0            0                   0   \n",
       "1                  0            0                   0   \n",
       "2                  0            0                   1   \n",
       "3                  0            0                   0   \n",
       "4                  0            0                   0   \n",
       "\n",
       "   anti_cardioliphin_antibodies  anti_b2gp4_antibodies  lupus_anti_coagulant  \\\n",
       "0                             0                      0                     0   \n",
       "1                             0                      0                     0   \n",
       "2                             0                      0                     0   \n",
       "3                             1                      0                     0   \n",
       "4                             0                      1                     0   \n",
       "\n",
       "   c3  c4  anti_dsdna_antibody  anti_smith_antibody  \n",
       "0   1   1                    0                    0  \n",
       "1   1   1                    0                    0  \n",
       "2   0   0                    0                    0  \n",
       "3   1   0                    0                    0  \n",
       "4   0   1                    0                    0  \n",
       "\n",
       "[5 rows x 26 columns]"
      ]
     },
     "execution_count": 90,
     "metadata": {},
     "output_type": "execute_result"
    }
   ],
   "source": [
    "for feature in features:\n",
    "    if feature == 'renal_biopsy_class':\n",
    "        lupus_df[feature] = np.random.choice([0, 1, 2, 3, 4, 5], sample_num, p=[0.44, 0.44, 0.05, 0.01, 0.01, 0.05])\n",
    "    elif feature in ['c3', 'c4']:\n",
    "        lupus_df[feature] = np.random.choice([0, 1], sample_num, p = [0.4, 0.6])\n",
    "    else:\n",
    "        lupus_df[feature] = create_feat(feature, sample_num)\n",
    "lupus_df.head()                                          "
   ]
  },
  {
   "cell_type": "code",
   "execution_count": 91,
   "id": "a96c9792",
   "metadata": {},
   "outputs": [],
   "source": [
    "#lupus_df['fever'] = np.random.choice([0, 1, np.nan], sample_num, p=[neg_frac, pos_frac, nan_frac])\n",
    "#lupus_df['leukopenia'] = np.random.choice([0, 1, np.nan], sample_num, p=[neg_frac, pos_frac, nan_frac])\n",
    "#lupus_df['thrombocytopenia'] = np.random.choice([0, 1, np.nan], sample_num, p=[neg_frac, pos_frac, nan_frac])\n",
    "#lupus_df['auto_immune_hemolysis'] = np.random.choice([0, 1, np.nan], sample_num, p=[neg_frac, pos_frac, nan_frac])\n",
    "#lupus_df['delirium'] = np.random.choice([0, 1, np.nan], sample_num, p=[neg_frac, pos_frac, nan_frac])\n",
    "#lupus_df['psychosis'] = np.random.choice([0, 1, np.nan], sample_num, p=[neg_frac, pos_frac, nan_frac])\n",
    "#lupus_df['seizure'] = np.random.choice([0, 1, np.nan], sample_num, p=[neg_frac, pos_frac, nan_frac])\n",
    "#lupus_df['non_scarring_alopecia'] = np.random.choice([0, 1, np.nan], sample_num, p=[neg_frac, pos_frac, nan_frac])\n",
    "#lupus_df['oral_ulcers'] = np.random.choice([0, 1, np.nan], sample_num, p=[neg_frac, pos_frac, nan_frac])\n",
    "#lupus_df['subacute_cutaneous'] = np.random.choice([0, 1, np.nan], sample_num, p=[neg_frac, pos_frac, nan_frac])\n",
    "#lupus_df['discoid_lupus'] = np.random.choice([0, 1, np.nan], sample_num, p=[neg_frac, pos_frac, nan_frac])\n",
    "#lupus_df['acute_cutaneous_lupus'] = np.random.choice([0, 1, np.nan], sample_num, p=[neg_frac, pos_frac, nan_frac])\n",
    "#lupus_df['pleural_effusion'] = np.random.choice([0, 1, np.nan], sample_num, p=[neg_frac, pos_frac, nan_frac])\n",
    "#lupus_df['pericardial_effusion'] = np.random.choice([0, 1, np.nan], sample_num, p=[neg_frac, pos_frac, nan_frac])\n",
    "#lupus_df['acute_pericarditis'] = np.random.choice([0, 1, np.nan], sample_num, p=[neg_frac, pos_frac, nan_frac])\n",
    "#lupus_df['joint_involvement'] = np.random.choice([0, 1, np.nan], sample_num, p=[neg_frac, pos_frac, nan_frac])\n",
    "#lupus_df['proteinuria'] = get_truncated_normal(0.05, 1, 0, 3, sample_num)\n",
    "#lupus_df['proteinuria'] = create_proteinuria(sample_num, 3, 100)\n",
    "#lupus_df['proteinuria'] = lupus_df['proteinuria'].sample(frac=0.3)\n",
    "#lupus_df['renal_biopsy_class'] = np.random.choice([0, 1, 2, 3, 4, 5, np.nan], sample_num, p=[renal_neg_frac, renal_neg_frac, renal_pos_frac, renal_pos_frac, renal_pos_frac, renal_pos_frac, renal_nan_frac])\n",
    "#lupus_df['anti_cardioliphin_antibodies'] = np.random.choice([0, 1, np.nan], sample_num, p=[neg_frac, pos_frac, nan_frac])\n",
    "#lupus_df['anti_b2gp4_antibodies'] = np.random.choice([0, 1, np.nan], sample_num, p=[neg_frac, pos_frac, nan_frac])\n",
    "#lupus_df['lupus_anti_coagulant'] = np.random.choice([0, 1, np.nan], sample_num, p=[neg_frac, pos_frac, nan_frac])\n",
    "#lupus_df['c3'] = np.random.choice([0, 1, np.nan], sample_num, p=[neg_frac, pos_frac, nan_frac])\n",
    "#lupus_df['c4'] = np.random.choice([0, 1, np.nan], sample_num, p=[neg_frac, pos_frac, nan_frac])\n",
    "#lupus_df['anti_dsdna_antibody'] = np.random.choice([0, 1, np.nan], sample_num, p=[neg_frac, pos_frac, nan_frac])\n",
    "#lupus_df['anti_smith_antibody'] = np.random.choice([0, 1, np.nan], sample_num, p=[neg_frac, pos_frac, nan_frac])\n",
    "#lupus_df.head()"
   ]
  },
  {
   "cell_type": "code",
   "execution_count": 92,
   "id": "e58f9a48",
   "metadata": {},
   "outputs": [
    {
     "data": {
      "text/plain": [
       "ana                             0\n",
       "fever                           0\n",
       "leukopenia                      0\n",
       "thrombocytopenia                0\n",
       "auto_immune_hemolysis           0\n",
       "delirium                        0\n",
       "psychosis                       0\n",
       "seizure                         0\n",
       "non_scarring_alopecia           0\n",
       "oral_ulcers                     0\n",
       "subacute_cutaneous              0\n",
       "discoid_lupus                   0\n",
       "acute_cutaneous_lupus           0\n",
       "pleural_effusion                0\n",
       "pericardial_effusion            0\n",
       "acute_pericarditis              0\n",
       "joint_involvement               0\n",
       "proteinuria                     0\n",
       "renal_biopsy_class              0\n",
       "anti_cardioliphin_antibodies    0\n",
       "anti_b2gp4_antibodies           0\n",
       "lupus_anti_coagulant            0\n",
       "c3                              0\n",
       "c4                              0\n",
       "anti_dsdna_antibody             0\n",
       "anti_smith_antibody             0\n",
       "dtype: int64"
      ]
     },
     "execution_count": 92,
     "metadata": {},
     "output_type": "execute_result"
    }
   ],
   "source": [
    "lupus_df.isna().sum()"
   ]
  },
  {
   "cell_type": "code",
   "execution_count": 93,
   "id": "9caeacc4",
   "metadata": {},
   "outputs": [],
   "source": [
    "domains_feat_dict = {'constitutional': ['fever'],\n",
    "                     'hematologic': ['leukopenia', 'thrombocytopenia', 'auto_immune_hemolysis'],\n",
    "                     'neuropsychiatric': ['delirium', 'psychosis', 'seizure'],\n",
    "                     'mucocutaneous': ['non_scarring_alopecia', 'oral_ulcers', 'subacute_cutaneous', 'discoid_lupus', 'acute_cutaneous_lupus'],\n",
    "                     'serosal': ['pleural_effusion', 'pericardial_effusion', 'acute_pericarditis'],\n",
    "                     'musculoskeletal': ['joint_involvement'],\n",
    "                     'renal': ['proteinuria', 'renal_biopsy_class'],\n",
    "                     'antiphospholipid_antibodies': ['anti_cardioliphin_antibodies', 'anti_b2gp4_antibodies', 'lupus_anti_coagulant'],\n",
    "                     'complement_proteins': ['c3', 'c4'],\n",
    "                     'sle_specific_antibodies':['anti_dsdna_antibody', 'anti_smith_antibody']}\n",
    "\n",
    "domains_max_scores_dict = {'constitutional': 2, 'hematologic': 4, 'neuropsychiatric': 5, 'mucocutaneous': 6,\n",
    "                           'serosal': 6, 'musculoskeletal': 6, 'renal': 10, 'antiphospholipid_antibodies': 2, \n",
    "                           'complement_proteins': 4, 'sle_specific_antibodies':6}\n"
   ]
  },
  {
   "cell_type": "markdown",
   "id": "a3279315",
   "metadata": {},
   "source": [
    "#### Labelling the dataset"
   ]
  },
  {
   "cell_type": "code",
   "execution_count": 94,
   "id": "4a6c46e3",
   "metadata": {},
   "outputs": [],
   "source": [
    "def get_renal_biopsy_score(result_class):\n",
    "    if (result_class == 3) | (result_class == 4):\n",
    "        return 10\n",
    "    elif (result_class == 2) | (result_class == 5):\n",
    "        return 8\n",
    "    else:\n",
    "        return 0"
   ]
  },
  {
   "cell_type": "code",
   "execution_count": 95,
   "id": "fb63cd83",
   "metadata": {},
   "outputs": [],
   "source": [
    "#def get_proteinura_score(amount):\n",
    "#    if amount > 0.5:\n",
    "#        return 4\n",
    "#    else:\n",
    "#        return 0"
   ]
  },
  {
   "cell_type": "code",
   "execution_count": 96,
   "id": "06a09f84",
   "metadata": {},
   "outputs": [],
   "source": [
    "def get_feat_score(row, feat):\n",
    "    #if feat == 'proteinuria':\n",
    "    #    feat_score = get_proteinura_score(row[feat])\n",
    "    if feat == 'renal_biopsy_class':\n",
    "        feat_score = get_renal_biopsy_score(row[feat])\n",
    "    elif row[feat] <= 0:\n",
    "        feat_score = 0\n",
    "    else:\n",
    "        feat_score = criteria_weights[feat]\n",
    "    return feat_score"
   ]
  },
  {
   "cell_type": "code",
   "execution_count": 97,
   "id": "9eaa8746",
   "metadata": {},
   "outputs": [],
   "source": [
    "def get_c3_c4_score(c3, c4): # 0 - low, 1 is not low\n",
    "    if (c3 == 0) & (c4 == 0):\n",
    "        return criteria_weights['low_c3_and_low_c4']\n",
    "    elif (c3 == 0) | (c4 == 0):\n",
    "        return criteria_weights['low_c3_or_low_c4']\n",
    "    else:\n",
    "        return 0"
   ]
  },
  {
   "cell_type": "code",
   "execution_count": 110,
   "id": "df3d23c7",
   "metadata": {},
   "outputs": [],
   "source": [
    "def get_domain_score(row, domain):\n",
    "    domain_features = domains_feat_dict[domain]\n",
    "    #print(f'{domain} domain: {domain_features}')\n",
    "    domain_score = 0\n",
    "    if domain == 'complement_proteins':\n",
    "        domain_score = get_c3_c4_score(row.c3, row.c4)\n",
    "        domain_features = list(set(domain_features) - set(['c3', 'c4']))\n",
    "    for feat in domain_features:\n",
    "        if row[feat] >= 0:\n",
    "            if feat == 'renal_biopsy_class': # to delete\n",
    "                feat_score = get_renal_biopsy_score(row.renal_biopsy_class)\n",
    "            else:\n",
    "                feat_score = get_feat_score(row, feat)\n",
    "            #print(f'{feat} feature - {feat_score}')\n",
    "            if feat_score > domain_score:\n",
    "                domain_score = feat_score\n",
    "    #print(f'{domain} domain: {domain_score}')\n",
    "    if domain_score > domains_max_scores_dict[domain]:\n",
    "        raise Exception('The score is too large for this domain!')\n",
    "    return domain_score"
   ]
  },
  {
   "cell_type": "code",
   "execution_count": 119,
   "id": "18add64d",
   "metadata": {},
   "outputs": [],
   "source": [
    "def create_label(row):\n",
    "    #print(f'ROW {row.name}')\n",
    "    if row['ana'] == 0:\n",
    "        return 0\n",
    "    total_row_score = 0\n",
    "    for domain in domains_feat_dict.keys():\n",
    "        domain_score = get_domain_score(row, domain)\n",
    "        #print(f'{domain} - {domain_score}')\n",
    "        total_row_score += domain_score\n",
    "        if total_row_score >= 10:\n",
    "            #print(f'row {row.name} - {total_row_score}')\n",
    "            return 1\n",
    "    else:\n",
    "        return 0"
   ]
  },
  {
   "cell_type": "code",
   "execution_count": 135,
   "id": "ad7e6c5c",
   "metadata": {},
   "outputs": [],
   "source": [
    "def compute_score(row):\n",
    "    if row['ana'] == 0: # negative - 0 positive - 1\n",
    "        return 0\n",
    "    total_row_score = 0\n",
    "    for domain in domains_feat_dict.keys():\n",
    "        domain_score = get_domain_score(row, domain)\n",
    "        total_row_score += domain_score\n",
    "    return total_row_score"
   ]
  },
  {
   "cell_type": "code",
   "execution_count": 101,
   "id": "134e464a",
   "metadata": {},
   "outputs": [
    {
     "data": {
      "text/plain": [
       "(70000, 26)"
      ]
     },
     "execution_count": 101,
     "metadata": {},
     "output_type": "execute_result"
    }
   ],
   "source": [
    "lupus_df.shape"
   ]
  },
  {
   "cell_type": "code",
   "execution_count": 102,
   "id": "6fe87ed6",
   "metadata": {},
   "outputs": [
    {
     "data": {
      "text/plain": [
       "Index(['ana', 'fever', 'leukopenia', 'thrombocytopenia',\n",
       "       'auto_immune_hemolysis', 'delirium', 'psychosis', 'seizure',\n",
       "       'non_scarring_alopecia', 'oral_ulcers', 'subacute_cutaneous',\n",
       "       'discoid_lupus', 'acute_cutaneous_lupus', 'pleural_effusion',\n",
       "       'pericardial_effusion', 'acute_pericarditis', 'joint_involvement',\n",
       "       'proteinuria', 'renal_biopsy_class', 'anti_cardioliphin_antibodies',\n",
       "       'anti_b2gp4_antibodies', 'lupus_anti_coagulant', 'c3', 'c4',\n",
       "       'anti_dsdna_antibody', 'anti_smith_antibody'],\n",
       "      dtype='object')"
      ]
     },
     "execution_count": 102,
     "metadata": {},
     "output_type": "execute_result"
    }
   ],
   "source": [
    "lupus_df.columns"
   ]
  },
  {
   "cell_type": "code",
   "execution_count": 129,
   "id": "9ab61e5c",
   "metadata": {},
   "outputs": [
    {
     "data": {
      "text/html": [
       "<div>\n",
       "<style scoped>\n",
       "    .dataframe tbody tr th:only-of-type {\n",
       "        vertical-align: middle;\n",
       "    }\n",
       "\n",
       "    .dataframe tbody tr th {\n",
       "        vertical-align: top;\n",
       "    }\n",
       "\n",
       "    .dataframe thead th {\n",
       "        text-align: right;\n",
       "    }\n",
       "</style>\n",
       "<table border=\"1\" class=\"dataframe\">\n",
       "  <thead>\n",
       "    <tr style=\"text-align: right;\">\n",
       "      <th></th>\n",
       "      <th>ana</th>\n",
       "      <th>fever</th>\n",
       "      <th>leukopenia</th>\n",
       "      <th>thrombocytopenia</th>\n",
       "      <th>auto_immune_hemolysis</th>\n",
       "      <th>delirium</th>\n",
       "      <th>psychosis</th>\n",
       "      <th>seizure</th>\n",
       "      <th>non_scarring_alopecia</th>\n",
       "      <th>oral_ulcers</th>\n",
       "      <th>...</th>\n",
       "      <th>renal_biopsy_class</th>\n",
       "      <th>anti_cardioliphin_antibodies</th>\n",
       "      <th>anti_b2gp4_antibodies</th>\n",
       "      <th>lupus_anti_coagulant</th>\n",
       "      <th>c3</th>\n",
       "      <th>c4</th>\n",
       "      <th>anti_dsdna_antibody</th>\n",
       "      <th>anti_smith_antibody</th>\n",
       "      <th>score</th>\n",
       "      <th>label</th>\n",
       "    </tr>\n",
       "  </thead>\n",
       "  <tbody>\n",
       "    <tr>\n",
       "      <th>0</th>\n",
       "      <td>1</td>\n",
       "      <td>0</td>\n",
       "      <td>0</td>\n",
       "      <td>0</td>\n",
       "      <td>0</td>\n",
       "      <td>0</td>\n",
       "      <td>0</td>\n",
       "      <td>0</td>\n",
       "      <td>0</td>\n",
       "      <td>0</td>\n",
       "      <td>...</td>\n",
       "      <td>0</td>\n",
       "      <td>0</td>\n",
       "      <td>0</td>\n",
       "      <td>0</td>\n",
       "      <td>1</td>\n",
       "      <td>1</td>\n",
       "      <td>0</td>\n",
       "      <td>0</td>\n",
       "      <td>0</td>\n",
       "      <td>0</td>\n",
       "    </tr>\n",
       "    <tr>\n",
       "      <th>1</th>\n",
       "      <td>0</td>\n",
       "      <td>0</td>\n",
       "      <td>0</td>\n",
       "      <td>0</td>\n",
       "      <td>0</td>\n",
       "      <td>0</td>\n",
       "      <td>0</td>\n",
       "      <td>0</td>\n",
       "      <td>0</td>\n",
       "      <td>0</td>\n",
       "      <td>...</td>\n",
       "      <td>0</td>\n",
       "      <td>0</td>\n",
       "      <td>0</td>\n",
       "      <td>0</td>\n",
       "      <td>1</td>\n",
       "      <td>1</td>\n",
       "      <td>0</td>\n",
       "      <td>0</td>\n",
       "      <td>0</td>\n",
       "      <td>0</td>\n",
       "    </tr>\n",
       "    <tr>\n",
       "      <th>2</th>\n",
       "      <td>0</td>\n",
       "      <td>0</td>\n",
       "      <td>0</td>\n",
       "      <td>1</td>\n",
       "      <td>0</td>\n",
       "      <td>0</td>\n",
       "      <td>0</td>\n",
       "      <td>0</td>\n",
       "      <td>0</td>\n",
       "      <td>0</td>\n",
       "      <td>...</td>\n",
       "      <td>1</td>\n",
       "      <td>0</td>\n",
       "      <td>0</td>\n",
       "      <td>0</td>\n",
       "      <td>0</td>\n",
       "      <td>0</td>\n",
       "      <td>0</td>\n",
       "      <td>0</td>\n",
       "      <td>0</td>\n",
       "      <td>0</td>\n",
       "    </tr>\n",
       "    <tr>\n",
       "      <th>3</th>\n",
       "      <td>0</td>\n",
       "      <td>0</td>\n",
       "      <td>0</td>\n",
       "      <td>1</td>\n",
       "      <td>0</td>\n",
       "      <td>0</td>\n",
       "      <td>0</td>\n",
       "      <td>0</td>\n",
       "      <td>0</td>\n",
       "      <td>0</td>\n",
       "      <td>...</td>\n",
       "      <td>0</td>\n",
       "      <td>1</td>\n",
       "      <td>0</td>\n",
       "      <td>0</td>\n",
       "      <td>1</td>\n",
       "      <td>0</td>\n",
       "      <td>0</td>\n",
       "      <td>0</td>\n",
       "      <td>0</td>\n",
       "      <td>0</td>\n",
       "    </tr>\n",
       "    <tr>\n",
       "      <th>4</th>\n",
       "      <td>1</td>\n",
       "      <td>0</td>\n",
       "      <td>0</td>\n",
       "      <td>0</td>\n",
       "      <td>0</td>\n",
       "      <td>0</td>\n",
       "      <td>0</td>\n",
       "      <td>0</td>\n",
       "      <td>1</td>\n",
       "      <td>1</td>\n",
       "      <td>...</td>\n",
       "      <td>0</td>\n",
       "      <td>0</td>\n",
       "      <td>1</td>\n",
       "      <td>0</td>\n",
       "      <td>0</td>\n",
       "      <td>1</td>\n",
       "      <td>0</td>\n",
       "      <td>0</td>\n",
       "      <td>10</td>\n",
       "      <td>1</td>\n",
       "    </tr>\n",
       "  </tbody>\n",
       "</table>\n",
       "<p>5 rows × 28 columns</p>\n",
       "</div>"
      ],
      "text/plain": [
       "   ana  fever  leukopenia  thrombocytopenia  auto_immune_hemolysis  delirium  \\\n",
       "0    1      0           0                 0                      0         0   \n",
       "1    0      0           0                 0                      0         0   \n",
       "2    0      0           0                 1                      0         0   \n",
       "3    0      0           0                 1                      0         0   \n",
       "4    1      0           0                 0                      0         0   \n",
       "\n",
       "   psychosis  seizure  non_scarring_alopecia  oral_ulcers  ...  \\\n",
       "0          0        0                      0            0  ...   \n",
       "1          0        0                      0            0  ...   \n",
       "2          0        0                      0            0  ...   \n",
       "3          0        0                      0            0  ...   \n",
       "4          0        0                      1            1  ...   \n",
       "\n",
       "   renal_biopsy_class  anti_cardioliphin_antibodies  anti_b2gp4_antibodies  \\\n",
       "0                   0                             0                      0   \n",
       "1                   0                             0                      0   \n",
       "2                   1                             0                      0   \n",
       "3                   0                             1                      0   \n",
       "4                   0                             0                      1   \n",
       "\n",
       "   lupus_anti_coagulant  c3  c4  anti_dsdna_antibody  anti_smith_antibody  \\\n",
       "0                     0   1   1                    0                    0   \n",
       "1                     0   1   1                    0                    0   \n",
       "2                     0   0   0                    0                    0   \n",
       "3                     0   1   0                    0                    0   \n",
       "4                     0   0   1                    0                    0   \n",
       "\n",
       "   score  label  \n",
       "0      0      0  \n",
       "1      0      0  \n",
       "2      0      0  \n",
       "3      0      0  \n",
       "4     10      1  \n",
       "\n",
       "[5 rows x 28 columns]"
      ]
     },
     "execution_count": 129,
     "metadata": {},
     "output_type": "execute_result"
    }
   ],
   "source": [
    "lupus_df['score'] = lupus_df.apply(lambda row: compute_score(row), axis=1)\n",
    "lupus_df['label'] = lupus_df.apply(lambda row: create_label(row), axis=1)\n",
    "lupus_df.head()"
   ]
  },
  {
   "cell_type": "code",
   "execution_count": 130,
   "id": "a81d720e",
   "metadata": {},
   "outputs": [
    {
     "data": {
      "text/plain": [
       "0    56454\n",
       "1    13546\n",
       "Name: label, dtype: int64"
      ]
     },
     "execution_count": 130,
     "metadata": {},
     "output_type": "execute_result"
    }
   ],
   "source": [
    "lupus_df.label.value_counts()"
   ]
  },
  {
   "cell_type": "code",
   "execution_count": 131,
   "id": "45eef2f4",
   "metadata": {},
   "outputs": [
    {
     "data": {
      "text/plain": [
       "21410"
      ]
     },
     "execution_count": 131,
     "metadata": {},
     "output_type": "execute_result"
    }
   ],
   "source": [
    "a = lupus_df[(lupus_df.ana == 1) & (lupus_df.label == 0)] # i need at least 20000 here\n",
    "len(a)"
   ]
  },
  {
   "cell_type": "code",
   "execution_count": 132,
   "id": "4b0e5cf1",
   "metadata": {},
   "outputs": [
    {
     "data": {
      "text/plain": [
       "0    56454\n",
       "1    13546\n",
       "Name: label, dtype: int64"
      ]
     },
     "execution_count": 132,
     "metadata": {},
     "output_type": "execute_result"
    }
   ],
   "source": [
    "lupus_df.label.value_counts()"
   ]
  },
  {
   "cell_type": "code",
   "execution_count": 133,
   "id": "07acb9c2",
   "metadata": {},
   "outputs": [],
   "source": [
    "lupus_df.to_csv('../data/lupus_dataset_full.csv', index=False)"
   ]
  },
  {
   "cell_type": "markdown",
   "id": "02a02b8b",
   "metadata": {},
   "source": [
    "#### testing labelling functions - delete from here"
   ]
  },
  {
   "cell_type": "code",
   "execution_count": 134,
   "id": "4c3c654f",
   "metadata": {},
   "outputs": [
    {
     "data": {
      "text/plain": [
       "ana                              1\n",
       "fever                            0\n",
       "leukopenia                       0\n",
       "thrombocytopenia                 0\n",
       "auto_immune_hemolysis            0\n",
       "delirium                         0\n",
       "psychosis                        1\n",
       "seizure                          0\n",
       "non_scarring_alopecia            0\n",
       "oral_ulcers                      0\n",
       "subacute_cutaneous               0\n",
       "discoid_lupus                    0\n",
       "acute_cutaneous_lupus            0\n",
       "pleural_effusion                 0\n",
       "pericardial_effusion             0\n",
       "acute_pericarditis               0\n",
       "joint_involvement                0\n",
       "proteinuria                      0\n",
       "renal_biopsy_class               2\n",
       "anti_cardioliphin_antibodies     1\n",
       "anti_b2gp4_antibodies            0\n",
       "lupus_anti_coagulant             0\n",
       "c3                               0\n",
       "c4                               1\n",
       "anti_dsdna_antibody              0\n",
       "anti_smith_antibody              0\n",
       "score                           11\n",
       "label                            1\n",
       "Name: 32, dtype: int64"
      ]
     },
     "execution_count": 134,
     "metadata": {},
     "output_type": "execute_result"
    }
   ],
   "source": [
    "lupus_df[(lupus_df.ana==1) &((lupus_df.renal_biopsy_class==2) & (lupus_df.proteinuria==0))].iloc[1]"
   ]
  },
  {
   "cell_type": "code",
   "execution_count": 126,
   "id": "9120a529",
   "metadata": {},
   "outputs": [
    {
     "data": {
      "text/plain": [
       "(16, 1)"
      ]
     },
     "execution_count": 126,
     "metadata": {},
     "output_type": "execute_result"
    }
   ],
   "source": [
    "myrow = lupus_df.loc[32]\n",
    "mylabel = create_label(myrow)\n",
    "myscore = compute_score(myrow)\n",
    "myscore, mylabel"
   ]
  },
  {
   "cell_type": "code",
   "execution_count": null,
   "id": "74cbead0",
   "metadata": {},
   "outputs": [],
   "source": []
  },
  {
   "cell_type": "code",
   "execution_count": null,
   "id": "9892a90a",
   "metadata": {},
   "outputs": [],
   "source": []
  },
  {
   "cell_type": "code",
   "execution_count": null,
   "id": "d5082f13",
   "metadata": {},
   "outputs": [],
   "source": []
  },
  {
   "cell_type": "code",
   "execution_count": null,
   "id": "2cc54b07",
   "metadata": {},
   "outputs": [],
   "source": []
  },
  {
   "cell_type": "markdown",
   "id": "ee79c598",
   "metadata": {},
   "source": [
    "#### end here"
   ]
  },
  {
   "cell_type": "markdown",
   "id": "aa2f2dcd",
   "metadata": {},
   "source": [
    "#### Splitting the dataset"
   ]
  },
  {
   "cell_type": "code",
   "execution_count": null,
   "id": "1c1b241d",
   "metadata": {},
   "outputs": [],
   "source": [
    "lupus_df = lupus_df.fillna(-1)\n",
    "X = lupus_df.iloc[:, 0:-1]\n",
    "y = lupus_df.iloc[:, -1]\n",
    "X_train, X_test, y_train, y_test = train_test_split(X, y, test_size=0.20, random_state=SEED, stratify=y)"
   ]
  },
  {
   "cell_type": "code",
   "execution_count": null,
   "id": "42a884ac",
   "metadata": {},
   "outputs": [],
   "source": [
    "y_train.head()"
   ]
  },
  {
   "cell_type": "code",
   "execution_count": null,
   "id": "0796fa47",
   "metadata": {},
   "outputs": [],
   "source": [
    "train_df = pd.concat([X_train, y_train], axis=1).reset_index(drop=True)\n",
    "test_df = pd.concat([X_test, y_test], axis=1).reset_index(drop=True)\n",
    "train_df.head()"
   ]
  },
  {
   "cell_type": "code",
   "execution_count": null,
   "id": "804ceb90",
   "metadata": {},
   "outputs": [],
   "source": [
    "#train_df.to_csv('../data/train_set_basic.csv', index=False)\n",
    "#test_df.to_csv('../data/test_set_basic.csv', index=False)"
   ]
  },
  {
   "cell_type": "markdown",
   "id": "b3c01bd3",
   "metadata": {},
   "source": [
    "#### End here"
   ]
  },
  {
   "cell_type": "code",
   "execution_count": null,
   "id": "bed75f6e",
   "metadata": {},
   "outputs": [],
   "source": [
    "lupus_df.isna().sum()"
   ]
  },
  {
   "cell_type": "code",
   "execution_count": null,
   "id": "f2929119",
   "metadata": {},
   "outputs": [],
   "source": [
    "a = lupus_df[(lupus_df.ana == 1) & (lupus_df.label == 0)] # i need at least 20000 here\n",
    "len(a)"
   ]
  },
  {
   "cell_type": "code",
   "execution_count": null,
   "id": "3d436d48",
   "metadata": {},
   "outputs": [],
   "source": [
    "a.iloc[0]"
   ]
  },
  {
   "cell_type": "markdown",
   "id": "2526214a",
   "metadata": {},
   "source": [
    "#### Testing dataset"
   ]
  },
  {
   "cell_type": "code",
   "execution_count": null,
   "id": "7f68cdb8",
   "metadata": {},
   "outputs": [],
   "source": [
    "import plotly.express as px\n",
    "labels = ['NaN', '1', '0']\n",
    "values = [95000, 2500, 2500]\n",
    "fig = px.pie(values=values, names=labels)\n",
    "fig.update_traces(textposition='inside', textinfo='percent+label')\n",
    "fig.show()"
   ]
  },
  {
   "cell_type": "code",
   "execution_count": null,
   "id": "2c783055",
   "metadata": {},
   "outputs": [],
   "source": [
    "labels = ['NaN', '0', '1', '2', '3', '4', '5']\n",
    "values = [90000, 2500, 2500, 1250, 1250, 1250, 1250]\n",
    "fig = px.pie(values=values, names=labels)\n",
    "fig.update_traces(textposition='inside', textinfo='percent+label')\n",
    "fig.show()"
   ]
  },
  {
   "cell_type": "code",
   "execution_count": null,
   "id": "ff87f9b3",
   "metadata": {},
   "outputs": [],
   "source": [
    "fig = px.bar(x=labels, y=values, color=labels)\n",
    "fig.show()"
   ]
  },
  {
   "cell_type": "code",
   "execution_count": null,
   "id": "755f5924",
   "metadata": {},
   "outputs": [],
   "source": []
  },
  {
   "cell_type": "code",
   "execution_count": null,
   "id": "8ccd23a0",
   "metadata": {},
   "outputs": [],
   "source": []
  },
  {
   "cell_type": "markdown",
   "id": "05c719f2",
   "metadata": {},
   "source": [
    "#### Rules for classification"
   ]
  },
  {
   "cell_type": "code",
   "execution_count": null,
   "id": "f883a069",
   "metadata": {},
   "outputs": [],
   "source": [
    "def has_fever(row):\n",
    "    if row.body_temp > 37.8:\n",
    "        return True\n",
    "    elif row.body_temp >0:\n",
    "        return False\n",
    "    else:\n",
    "        return None"
   ]
  },
  {
   "cell_type": "code",
   "execution_count": null,
   "id": "c9fe54a9",
   "metadata": {},
   "outputs": [],
   "source": [
    "def has_leukopenia(row):\n",
    "    if row.wbc < 4000:\n",
    "        return True\n",
    "    elif row.wbc > 0:\n",
    "        return False\n",
    "    else:\n",
    "        return None"
   ]
  },
  {
   "cell_type": "code",
   "execution_count": null,
   "id": "31d15330",
   "metadata": {},
   "outputs": [],
   "source": [
    "def has_thrombocytopenia(row):\n",
    "    if row.wbc < 4000:\n",
    "        return True\n",
    "    elif row.wbc > 0:\n",
    "        return False\n",
    "    else:\n",
    "        return None"
   ]
  },
  {
   "cell_type": "code",
   "execution_count": null,
   "id": "04d5de44",
   "metadata": {},
   "outputs": [],
   "source": []
  },
  {
   "cell_type": "code",
   "execution_count": null,
   "id": "8088e53b",
   "metadata": {},
   "outputs": [],
   "source": []
  },
  {
   "cell_type": "code",
   "execution_count": null,
   "id": "b3a61c98",
   "metadata": {},
   "outputs": [],
   "source": []
  }
 ],
 "metadata": {
  "kernelspec": {
   "display_name": "Python 3 (ipykernel)",
   "language": "python",
   "name": "python3"
  },
  "language_info": {
   "codemirror_mode": {
    "name": "ipython",
    "version": 3
   },
   "file_extension": ".py",
   "mimetype": "text/x-python",
   "name": "python",
   "nbconvert_exporter": "python",
   "pygments_lexer": "ipython3",
   "version": "3.7.4"
  }
 },
 "nbformat": 4,
 "nbformat_minor": 5
}

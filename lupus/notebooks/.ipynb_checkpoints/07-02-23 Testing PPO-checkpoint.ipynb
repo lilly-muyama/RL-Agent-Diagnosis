{
 "cells": [
  {
   "cell_type": "code",
   "execution_count": 1,
   "id": "2aba6aa2",
   "metadata": {},
   "outputs": [],
   "source": [
    "import pandas as pd\n",
    "import numpy as np\n",
    "import random\n",
    "import os\n",
    "import torch\n",
    "import sys\n",
    "sys.path.append('../')\n",
    "from modules import utils, simple_constants\n",
    "from modules.simple_env import SimpleEnv\n",
    "# from modules.env import LupusEnv\n",
    "from sklearn.model_selection import train_test_split\n",
    "from stable_baselines3 import DQN\n",
    "import warnings\n",
    "warnings.filterwarnings('ignore')"
   ]
  },
  {
   "cell_type": "code",
   "execution_count": 2,
   "id": "b06ba17e",
   "metadata": {},
   "outputs": [],
   "source": [
    "SEED = simple_constants.SEED\n",
    "random.seed(SEED)\n",
    "np.random.seed(SEED)\n",
    "os.environ['PYTHONHASHSEED']=str(SEED)\n",
    "torch.manual_seed(SEED)\n",
    "torch.use_deterministic_algorithms(True)"
   ]
  },
  {
   "cell_type": "code",
   "execution_count": 3,
   "id": "741decd9",
   "metadata": {},
   "outputs": [],
   "source": [
    "class_dict = simple_constants.CLASS_DICT"
   ]
  },
  {
   "cell_type": "markdown",
   "id": "9e6bf462",
   "metadata": {},
   "source": [
    "#### The data"
   ]
  },
  {
   "cell_type": "code",
   "execution_count": 4,
   "id": "b988c554",
   "metadata": {},
   "outputs": [
    {
     "data": {
      "text/html": [
       "<div>\n",
       "<style scoped>\n",
       "    .dataframe tbody tr th:only-of-type {\n",
       "        vertical-align: middle;\n",
       "    }\n",
       "\n",
       "    .dataframe tbody tr th {\n",
       "        vertical-align: top;\n",
       "    }\n",
       "\n",
       "    .dataframe thead th {\n",
       "        text-align: right;\n",
       "    }\n",
       "</style>\n",
       "<table border=\"1\" class=\"dataframe\">\n",
       "  <thead>\n",
       "    <tr style=\"text-align: right;\">\n",
       "      <th></th>\n",
       "      <th>ana</th>\n",
       "      <th>non_scarring_alopecia</th>\n",
       "      <th>anti_dsdna_antibody</th>\n",
       "      <th>joint_involvement</th>\n",
       "      <th>proteinuria</th>\n",
       "      <th>pericardial_effusion</th>\n",
       "      <th>leukopenia</th>\n",
       "      <th>delirium</th>\n",
       "      <th>low_c3</th>\n",
       "      <th>low_c4</th>\n",
       "      <th>...</th>\n",
       "      <th>pleural_effusion</th>\n",
       "      <th>psychosis</th>\n",
       "      <th>seizure</th>\n",
       "      <th>lupus_anti_coagulant</th>\n",
       "      <th>anti_β2gp1_antibodies</th>\n",
       "      <th>anti_smith_antibody</th>\n",
       "      <th>oral_ulcers</th>\n",
       "      <th>auto_immune_hemolysis</th>\n",
       "      <th>acute_pericarditis</th>\n",
       "      <th>label</th>\n",
       "    </tr>\n",
       "  </thead>\n",
       "  <tbody>\n",
       "    <tr>\n",
       "      <th>0</th>\n",
       "      <td>0</td>\n",
       "      <td>0</td>\n",
       "      <td>0</td>\n",
       "      <td>0</td>\n",
       "      <td>0</td>\n",
       "      <td>0</td>\n",
       "      <td>0</td>\n",
       "      <td>0</td>\n",
       "      <td>0</td>\n",
       "      <td>0</td>\n",
       "      <td>...</td>\n",
       "      <td>0</td>\n",
       "      <td>1</td>\n",
       "      <td>0</td>\n",
       "      <td>1</td>\n",
       "      <td>0</td>\n",
       "      <td>0</td>\n",
       "      <td>0</td>\n",
       "      <td>0</td>\n",
       "      <td>1</td>\n",
       "      <td>0</td>\n",
       "    </tr>\n",
       "    <tr>\n",
       "      <th>1</th>\n",
       "      <td>1</td>\n",
       "      <td>1</td>\n",
       "      <td>1</td>\n",
       "      <td>1</td>\n",
       "      <td>0</td>\n",
       "      <td>0</td>\n",
       "      <td>0</td>\n",
       "      <td>0</td>\n",
       "      <td>0</td>\n",
       "      <td>0</td>\n",
       "      <td>...</td>\n",
       "      <td>0</td>\n",
       "      <td>0</td>\n",
       "      <td>0</td>\n",
       "      <td>0</td>\n",
       "      <td>1</td>\n",
       "      <td>0</td>\n",
       "      <td>0</td>\n",
       "      <td>1</td>\n",
       "      <td>0</td>\n",
       "      <td>1</td>\n",
       "    </tr>\n",
       "    <tr>\n",
       "      <th>2</th>\n",
       "      <td>0</td>\n",
       "      <td>0</td>\n",
       "      <td>0</td>\n",
       "      <td>1</td>\n",
       "      <td>0</td>\n",
       "      <td>0</td>\n",
       "      <td>1</td>\n",
       "      <td>0</td>\n",
       "      <td>0</td>\n",
       "      <td>0</td>\n",
       "      <td>...</td>\n",
       "      <td>0</td>\n",
       "      <td>0</td>\n",
       "      <td>1</td>\n",
       "      <td>0</td>\n",
       "      <td>0</td>\n",
       "      <td>0</td>\n",
       "      <td>0</td>\n",
       "      <td>0</td>\n",
       "      <td>0</td>\n",
       "      <td>0</td>\n",
       "    </tr>\n",
       "    <tr>\n",
       "      <th>3</th>\n",
       "      <td>0</td>\n",
       "      <td>0</td>\n",
       "      <td>0</td>\n",
       "      <td>1</td>\n",
       "      <td>0</td>\n",
       "      <td>0</td>\n",
       "      <td>0</td>\n",
       "      <td>0</td>\n",
       "      <td>0</td>\n",
       "      <td>0</td>\n",
       "      <td>...</td>\n",
       "      <td>1</td>\n",
       "      <td>0</td>\n",
       "      <td>1</td>\n",
       "      <td>0</td>\n",
       "      <td>0</td>\n",
       "      <td>0</td>\n",
       "      <td>1</td>\n",
       "      <td>0</td>\n",
       "      <td>0</td>\n",
       "      <td>0</td>\n",
       "    </tr>\n",
       "    <tr>\n",
       "      <th>4</th>\n",
       "      <td>0</td>\n",
       "      <td>0</td>\n",
       "      <td>0</td>\n",
       "      <td>0</td>\n",
       "      <td>0</td>\n",
       "      <td>0</td>\n",
       "      <td>0</td>\n",
       "      <td>0</td>\n",
       "      <td>1</td>\n",
       "      <td>1</td>\n",
       "      <td>...</td>\n",
       "      <td>0</td>\n",
       "      <td>0</td>\n",
       "      <td>1</td>\n",
       "      <td>0</td>\n",
       "      <td>0</td>\n",
       "      <td>0</td>\n",
       "      <td>0</td>\n",
       "      <td>1</td>\n",
       "      <td>0</td>\n",
       "      <td>0</td>\n",
       "    </tr>\n",
       "  </tbody>\n",
       "</table>\n",
       "<p>5 rows × 23 columns</p>\n",
       "</div>"
      ],
      "text/plain": [
       "   ana  non_scarring_alopecia  anti_dsdna_antibody  joint_involvement  \\\n",
       "0    0                      0                    0                  0   \n",
       "1    1                      1                    1                  1   \n",
       "2    0                      0                    0                  1   \n",
       "3    0                      0                    0                  1   \n",
       "4    0                      0                    0                  0   \n",
       "\n",
       "   proteinuria  pericardial_effusion  leukopenia  delirium  low_c3  low_c4  \\\n",
       "0            0                     0           0         0       0       0   \n",
       "1            0                     0           0         0       0       0   \n",
       "2            0                     0           1         0       0       0   \n",
       "3            0                     0           0         0       0       0   \n",
       "4            0                     0           0         0       1       1   \n",
       "\n",
       "   ...  pleural_effusion  psychosis  seizure  lupus_anti_coagulant  \\\n",
       "0  ...                 0          1        0                     1   \n",
       "1  ...                 0          0        0                     0   \n",
       "2  ...                 0          0        1                     0   \n",
       "3  ...                 1          0        1                     0   \n",
       "4  ...                 0          0        1                     0   \n",
       "\n",
       "   anti_β2gp1_antibodies  anti_smith_antibody  oral_ulcers  \\\n",
       "0                      0                    0            0   \n",
       "1                      1                    0            0   \n",
       "2                      0                    0            0   \n",
       "3                      0                    0            1   \n",
       "4                      0                    0            0   \n",
       "\n",
       "   auto_immune_hemolysis  acute_pericarditis  label  \n",
       "0                      0                   1      0  \n",
       "1                      1                   0      1  \n",
       "2                      0                   0      0  \n",
       "3                      0                   0      0  \n",
       "4                      1                   0      0  \n",
       "\n",
       "[5 rows x 23 columns]"
      ]
     },
     "execution_count": 4,
     "metadata": {},
     "output_type": "execute_result"
    }
   ],
   "source": [
    "df = pd.read_csv('../data/very_simple_datasets/feats_22.csv')\n",
    "df.head()"
   ]
  },
  {
   "cell_type": "code",
   "execution_count": 5,
   "id": "ef6748c1",
   "metadata": {},
   "outputs": [
    {
     "name": "stdout",
     "output_type": "stream",
     "text": [
      "0    54842\n",
      "1    15158\n",
      "Name: label, dtype: int64\n"
     ]
    },
    {
     "data": {
      "text/plain": [
       "((56000, 22), (14000, 22), (56000,), (14000,))"
      ]
     },
     "execution_count": 5,
     "metadata": {},
     "output_type": "execute_result"
    }
   ],
   "source": [
    "df['label'] = df['label'].replace(class_dict)\n",
    "print(df.label.value_counts())\n",
    "X = df.iloc[:, 0:-1]\n",
    "y = df.iloc[:, -1]\n",
    "\n",
    "X_train, X_test, y_train, y_test = train_test_split(X, y, test_size=0.20, stratify=y, random_state=SEED)\n",
    "training_df = pd.concat([X_train, y_train], axis=1).reset_index(drop=True)\n",
    "testing_df = pd.concat([X_test, y_test], axis=1).reset_index(drop=True)\n",
    "X_train, y_train = np.array(X_train), np.array(y_train)\n",
    "X_test, y_test = np.array(X_test), np.array(y_test)\n",
    "X_train.shape, X_test.shape, y_train.shape, y_test.shape"
   ]
  },
  {
   "cell_type": "code",
   "execution_count": 6,
   "id": "1c43c07e",
   "metadata": {},
   "outputs": [
    {
     "data": {
      "text/plain": [
       "array([0, 0, 0, ..., 0, 0, 0])"
      ]
     },
     "execution_count": 6,
     "metadata": {},
     "output_type": "execute_result"
    }
   ],
   "source": [
    "y_train"
   ]
  },
  {
   "cell_type": "markdown",
   "id": "26186de1",
   "metadata": {},
   "source": [
    "#### Training the model"
   ]
  },
  {
   "cell_type": "code",
   "execution_count": 7,
   "id": "22e1681d",
   "metadata": {},
   "outputs": [],
   "source": [
    "def stable_dqn3(X_train, y_train, timesteps,  save=False, filename=None):\n",
    "    training_env = SimpleEnv(X_train, y_train)\n",
    "    model = DQN('MlpPolicy', training_env, verbose=1, seed=simple_constants.SEED)\n",
    "    model.learn(total_timesteps=timesteps, log_interval=100000)\n",
    "    if save:\n",
    "        model.save(filename)\n",
    "    training_env.close()\n",
    "#     return model"
   ]
  },
  {
   "cell_type": "code",
   "execution_count": 8,
   "id": "844436cb",
   "metadata": {},
   "outputs": [
    {
     "name": "stdout",
     "output_type": "stream",
     "text": [
      "Using cpu device\n",
      "Wrapping the env with a `Monitor` wrapper\n",
      "Wrapping the env in a DummyVecEnv.\n",
      "----------------------------------\n",
      "| rollout/            |          |\n",
      "|    ep_len_mean      | 13.6     |\n",
      "|    ep_rew_mean      | 0.28     |\n",
      "|    exploration_rate | 0.05     |\n",
      "|    success_rate     | 0.64     |\n",
      "| time/               |          |\n",
      "|    episodes         | 100000   |\n",
      "|    fps              | 2202     |\n",
      "|    time_elapsed     | 373      |\n",
      "|    total_timesteps  | 822415   |\n",
      "| train/              |          |\n",
      "|    learning_rate    | 0.0001   |\n",
      "|    loss             | 0.0173   |\n",
      "|    n_updates        | 193103   |\n",
      "----------------------------------\n",
      "----------------------------------\n",
      "| rollout/            |          |\n",
      "|    ep_len_mean      | 12.7     |\n",
      "|    ep_rew_mean      | 0.26     |\n",
      "|    exploration_rate | 0.05     |\n",
      "|    success_rate     | 0.63     |\n",
      "| time/               |          |\n",
      "|    episodes         | 200000   |\n",
      "|    fps              | 1867     |\n",
      "|    time_elapsed     | 1178     |\n",
      "|    total_timesteps  | 2201319  |\n",
      "| train/              |          |\n",
      "|    learning_rate    | 0.0001   |\n",
      "|    loss             | 0.000468 |\n",
      "|    n_updates        | 537829   |\n",
      "----------------------------------\n",
      "----------------------------------\n",
      "| rollout/            |          |\n",
      "|    ep_len_mean      | 12.3     |\n",
      "|    ep_rew_mean      | 0.68     |\n",
      "|    exploration_rate | 0.05     |\n",
      "|    success_rate     | 0.84     |\n",
      "| time/               |          |\n",
      "|    episodes         | 300000   |\n",
      "|    fps              | 1687     |\n",
      "|    time_elapsed     | 2061     |\n",
      "|    total_timesteps  | 3479302  |\n",
      "| train/              |          |\n",
      "|    learning_rate    | 0.0001   |\n",
      "|    loss             | 0.00188  |\n",
      "|    n_updates        | 857325   |\n",
      "----------------------------------\n",
      "----------------------------------\n",
      "| rollout/            |          |\n",
      "|    ep_len_mean      | 12       |\n",
      "|    ep_rew_mean      | 0.52     |\n",
      "|    exploration_rate | 0.05     |\n",
      "|    success_rate     | 0.76     |\n",
      "| time/               |          |\n",
      "|    episodes         | 400000   |\n",
      "|    fps              | 1752     |\n",
      "|    time_elapsed     | 2686     |\n",
      "|    total_timesteps  | 4707693  |\n",
      "| train/              |          |\n",
      "|    learning_rate    | 0.0001   |\n",
      "|    loss             | 0.000578 |\n",
      "|    n_updates        | 1164423  |\n",
      "----------------------------------\n",
      "Using cpu device\n",
      "Wrapping the env with a `Monitor` wrapper\n",
      "Wrapping the env in a DummyVecEnv.\n",
      "----------------------------------\n",
      "| rollout/            |          |\n",
      "|    ep_len_mean      | 13.3     |\n",
      "|    ep_rew_mean      | 0.28     |\n",
      "|    exploration_rate | 0.05     |\n",
      "|    success_rate     | 0.64     |\n",
      "| time/               |          |\n",
      "|    episodes         | 100000   |\n",
      "|    fps              | 3034     |\n",
      "|    time_elapsed     | 266      |\n",
      "|    total_timesteps  | 807774   |\n",
      "| train/              |          |\n",
      "|    learning_rate    | 0.0001   |\n",
      "|    loss             | 0.00389  |\n",
      "|    n_updates        | 189443   |\n",
      "----------------------------------\n",
      "----------------------------------\n",
      "| rollout/            |          |\n",
      "|    ep_len_mean      | 14.5     |\n",
      "|    ep_rew_mean      | 0.36     |\n",
      "|    exploration_rate | 0.05     |\n",
      "|    success_rate     | 0.68     |\n",
      "| time/               |          |\n",
      "|    episodes         | 200000   |\n",
      "|    fps              | 2571     |\n",
      "|    time_elapsed     | 851      |\n",
      "|    total_timesteps  | 2190487  |\n",
      "| train/              |          |\n",
      "|    learning_rate    | 0.0001   |\n",
      "|    loss             | 0.00234  |\n",
      "|    n_updates        | 535121   |\n",
      "----------------------------------\n",
      "----------------------------------\n",
      "| rollout/            |          |\n",
      "|    ep_len_mean      | 13.3     |\n",
      "|    ep_rew_mean      | 0.48     |\n",
      "|    exploration_rate | 0.05     |\n",
      "|    success_rate     | 0.74     |\n",
      "| time/               |          |\n",
      "|    episodes         | 300000   |\n",
      "|    fps              | 2343     |\n",
      "|    time_elapsed     | 1545     |\n",
      "|    total_timesteps  | 3621082  |\n",
      "| train/              |          |\n",
      "|    learning_rate    | 0.0001   |\n",
      "|    loss             | 0.00297  |\n",
      "|    n_updates        | 892770   |\n",
      "----------------------------------\n",
      "----------------------------------\n",
      "| rollout/            |          |\n",
      "|    ep_len_mean      | 13.8     |\n",
      "|    ep_rew_mean      | 0.42     |\n",
      "|    exploration_rate | 0.05     |\n",
      "|    success_rate     | 0.71     |\n",
      "| time/               |          |\n",
      "|    episodes         | 400000   |\n",
      "|    fps              | 2386     |\n",
      "|    time_elapsed     | 2095     |\n",
      "|    total_timesteps  | 5001226  |\n",
      "| train/              |          |\n",
      "|    learning_rate    | 0.0001   |\n",
      "|    loss             | 0.000395 |\n",
      "|    n_updates        | 1237806  |\n",
      "----------------------------------\n",
      "Using cpu device\n",
      "Wrapping the env with a `Monitor` wrapper\n",
      "Wrapping the env in a DummyVecEnv.\n",
      "----------------------------------\n",
      "| rollout/            |          |\n",
      "|    ep_len_mean      | 14       |\n",
      "|    ep_rew_mean      | 0.14     |\n",
      "|    exploration_rate | 0.05     |\n",
      "|    success_rate     | 0.57     |\n",
      "| time/               |          |\n",
      "|    episodes         | 100000   |\n",
      "|    fps              | 2768     |\n",
      "|    time_elapsed     | 291      |\n",
      "|    total_timesteps  | 807103   |\n",
      "| train/              |          |\n",
      "|    learning_rate    | 0.0001   |\n",
      "|    loss             | 0.014    |\n",
      "|    n_updates        | 189275   |\n",
      "----------------------------------\n",
      "----------------------------------\n",
      "| rollout/            |          |\n",
      "|    ep_len_mean      | 15.1     |\n",
      "|    ep_rew_mean      | 0.3      |\n",
      "|    exploration_rate | 0.05     |\n",
      "|    success_rate     | 0.65     |\n",
      "| time/               |          |\n",
      "|    episodes         | 200000   |\n",
      "|    fps              | 2602     |\n",
      "|    time_elapsed     | 866      |\n",
      "|    total_timesteps  | 2256105  |\n",
      "| train/              |          |\n",
      "|    learning_rate    | 0.0001   |\n",
      "|    loss             | 0.000686 |\n",
      "|    n_updates        | 551526   |\n",
      "----------------------------------\n",
      "----------------------------------\n",
      "| rollout/            |          |\n",
      "|    ep_len_mean      | 13.9     |\n",
      "|    ep_rew_mean      | 0.56     |\n",
      "|    exploration_rate | 0.05     |\n",
      "|    success_rate     | 0.78     |\n",
      "| time/               |          |\n",
      "|    episodes         | 300000   |\n",
      "|    fps              | 2596     |\n",
      "|    time_elapsed     | 1413     |\n",
      "|    total_timesteps  | 3671335  |\n",
      "| train/              |          |\n",
      "|    learning_rate    | 0.0001   |\n",
      "|    loss             | 0.00019  |\n",
      "|    n_updates        | 905333   |\n",
      "----------------------------------\n",
      "----------------------------------\n",
      "| rollout/            |          |\n",
      "|    ep_len_mean      | 13.1     |\n",
      "|    ep_rew_mean      | 0.56     |\n",
      "|    exploration_rate | 0.05     |\n",
      "|    success_rate     | 0.78     |\n",
      "| time/               |          |\n",
      "|    episodes         | 400000   |\n",
      "|    fps              | 2584     |\n",
      "|    time_elapsed     | 1945     |\n",
      "|    total_timesteps  | 5029014  |\n",
      "| train/              |          |\n",
      "|    learning_rate    | 0.0001   |\n",
      "|    loss             | 0.000671 |\n",
      "|    n_updates        | 1244753  |\n",
      "----------------------------------\n",
      "Using cpu device\n",
      "Wrapping the env with a `Monitor` wrapper\n",
      "Wrapping the env in a DummyVecEnv.\n",
      "----------------------------------\n",
      "| rollout/            |          |\n",
      "|    ep_len_mean      | 13.7     |\n",
      "|    ep_rew_mean      | 0.26     |\n",
      "|    exploration_rate | 0.05     |\n",
      "|    success_rate     | 0.63     |\n",
      "| time/               |          |\n",
      "|    episodes         | 100000   |\n",
      "|    fps              | 2987     |\n",
      "|    time_elapsed     | 285      |\n",
      "|    total_timesteps  | 853214   |\n",
      "| train/              |          |\n",
      "|    learning_rate    | 0.0001   |\n",
      "|    loss             | 0.00936  |\n",
      "|    n_updates        | 200803   |\n",
      "----------------------------------\n",
      "----------------------------------\n",
      "| rollout/            |          |\n",
      "|    ep_len_mean      | 14.4     |\n",
      "|    ep_rew_mean      | 0.34     |\n",
      "|    exploration_rate | 0.05     |\n",
      "|    success_rate     | 0.67     |\n",
      "| time/               |          |\n",
      "|    episodes         | 200000   |\n",
      "|    fps              | 2695     |\n",
      "|    time_elapsed     | 837      |\n",
      "|    total_timesteps  | 2258073  |\n",
      "| train/              |          |\n",
      "|    learning_rate    | 0.0001   |\n",
      "|    loss             | 0.000836 |\n",
      "|    n_updates        | 552018   |\n",
      "----------------------------------\n"
     ]
    },
    {
     "name": "stdout",
     "output_type": "stream",
     "text": [
      "----------------------------------\n",
      "| rollout/            |          |\n",
      "|    ep_len_mean      | 12.9     |\n",
      "|    ep_rew_mean      | 0.46     |\n",
      "|    exploration_rate | 0.05     |\n",
      "|    success_rate     | 0.73     |\n",
      "| time/               |          |\n",
      "|    episodes         | 300000   |\n",
      "|    fps              | 2212     |\n",
      "|    time_elapsed     | 1613     |\n",
      "|    total_timesteps  | 3569896  |\n",
      "| train/              |          |\n",
      "|    learning_rate    | 0.0001   |\n",
      "|    loss             | 0.000442 |\n",
      "|    n_updates        | 879973   |\n",
      "----------------------------------\n",
      "----------------------------------\n",
      "| rollout/            |          |\n",
      "|    ep_len_mean      | 12.8     |\n",
      "|    ep_rew_mean      | 0.54     |\n",
      "|    exploration_rate | 0.05     |\n",
      "|    success_rate     | 0.77     |\n",
      "| time/               |          |\n",
      "|    episodes         | 400000   |\n",
      "|    fps              | 2143     |\n",
      "|    time_elapsed     | 2263     |\n",
      "|    total_timesteps  | 4852327  |\n",
      "| train/              |          |\n",
      "|    learning_rate    | 0.0001   |\n",
      "|    loss             | 0.000411 |\n",
      "|    n_updates        | 1200581  |\n",
      "----------------------------------\n",
      "Using cpu device\n",
      "Wrapping the env with a `Monitor` wrapper\n",
      "Wrapping the env in a DummyVecEnv.\n",
      "----------------------------------\n",
      "| rollout/            |          |\n",
      "|    ep_len_mean      | 14.2     |\n",
      "|    ep_rew_mean      | 0.18     |\n",
      "|    exploration_rate | 0.05     |\n",
      "|    success_rate     | 0.59     |\n",
      "| time/               |          |\n",
      "|    episodes         | 100000   |\n",
      "|    fps              | 2937     |\n",
      "|    time_elapsed     | 284      |\n",
      "|    total_timesteps  | 836097   |\n",
      "| train/              |          |\n",
      "|    learning_rate    | 0.0001   |\n",
      "|    loss             | 0.00921  |\n",
      "|    n_updates        | 196524   |\n",
      "----------------------------------\n",
      "----------------------------------\n",
      "| rollout/            |          |\n",
      "|    ep_len_mean      | 15.2     |\n",
      "|    ep_rew_mean      | 0.36     |\n",
      "|    exploration_rate | 0.05     |\n",
      "|    success_rate     | 0.68     |\n",
      "| time/               |          |\n",
      "|    episodes         | 200000   |\n",
      "|    fps              | 2685     |\n",
      "|    time_elapsed     | 843      |\n",
      "|    total_timesteps  | 2266030  |\n",
      "| train/              |          |\n",
      "|    learning_rate    | 0.0001   |\n",
      "|    loss             | 0.000276 |\n",
      "|    n_updates        | 554007   |\n",
      "----------------------------------\n",
      "----------------------------------\n",
      "| rollout/            |          |\n",
      "|    ep_len_mean      | 13.8     |\n",
      "|    ep_rew_mean      | 0.4      |\n",
      "|    exploration_rate | 0.05     |\n",
      "|    success_rate     | 0.7      |\n",
      "| time/               |          |\n",
      "|    episodes         | 300000   |\n",
      "|    fps              | 2633     |\n",
      "|    time_elapsed     | 1389     |\n",
      "|    total_timesteps  | 3659426  |\n",
      "| train/              |          |\n",
      "|    learning_rate    | 0.0001   |\n",
      "|    loss             | 0.00532  |\n",
      "|    n_updates        | 902356   |\n",
      "----------------------------------\n",
      "----------------------------------\n",
      "| rollout/            |          |\n",
      "|    ep_len_mean      | 14.4     |\n",
      "|    ep_rew_mean      | 0.44     |\n",
      "|    exploration_rate | 0.05     |\n",
      "|    success_rate     | 0.72     |\n",
      "| time/               |          |\n",
      "|    episodes         | 400000   |\n",
      "|    fps              | 2611     |\n",
      "|    time_elapsed     | 1928     |\n",
      "|    total_timesteps  | 5037878  |\n",
      "| train/              |          |\n",
      "|    learning_rate    | 0.0001   |\n",
      "|    loss             | 0.00442  |\n",
      "|    n_updates        | 1246969  |\n",
      "----------------------------------\n"
     ]
    }
   ],
   "source": [
    "ft_num = 22\n",
    "for steps in [int(5.4e6), int(5.6e6), int(5.7e6), int(5.1e6), int(5.2e6)]:\n",
    "# for steps in [int(6e6)]:\n",
    "    stable_dqn3(X_train, y_train, steps, True, f'../models/very_simple_models/dqn_ft_{ft_num}_{steps}')"
   ]
  },
  {
   "cell_type": "code",
   "execution_count": 9,
   "id": "d321f575",
   "metadata": {},
   "outputs": [],
   "source": [
    "# timesteps = 15000000\n",
    "# ft_num = 11\n",
    "# training_env = SimpleEnv(X_train, y_train)\n",
    "# # training_env = LupusEnv(X_train, y_train)\n",
    "# # model = DQN('MlpPolicy', training_env, verbose=1, seed=SEED, learning_rate=0.00001)\n",
    "# model = DQN('MlpPolicy', training_env, verbose=1, seed=SEED)\n",
    "# model.learn(total_timesteps=timesteps, log_interval=100000)\n",
    "# # model.save(f'../models/very_simple_models/reward_shaping/dqn_fts_{ft_num}_{timesteps}')\n",
    "# training_env.close()\n",
    "# def training(X_train, y_trai)"
   ]
  },
  {
   "cell_type": "code",
   "execution_count": 73,
   "id": "bd1a5b01",
   "metadata": {},
   "outputs": [
    {
     "name": "stdout",
     "output_type": "stream",
     "text": [
      "Using stable baselines 3\n"
     ]
    }
   ],
   "source": [
    "model = utils.load_dqn3('../models/very_simple_models/dqn_ft_22_5200000.zip')"
   ]
  },
  {
   "cell_type": "markdown",
   "id": "11da7b14",
   "metadata": {},
   "source": [
    "#### Testing the model"
   ]
  },
  {
   "cell_type": "code",
   "execution_count": 74,
   "id": "b2eb98e0",
   "metadata": {},
   "outputs": [
    {
     "name": "stdout",
     "output_type": "stream",
     "text": [
      "Count: 2800\n",
      "Count: 5600\n",
      "Count: 8400\n",
      "Count: 11200\n",
      "Count: 14000\n",
      "Testing done ....\n"
     ]
    },
    {
     "data": {
      "text/html": [
       "<div>\n",
       "<style scoped>\n",
       "    .dataframe tbody tr th:only-of-type {\n",
       "        vertical-align: middle;\n",
       "    }\n",
       "\n",
       "    .dataframe tbody tr th {\n",
       "        vertical-align: top;\n",
       "    }\n",
       "\n",
       "    .dataframe thead th {\n",
       "        text-align: right;\n",
       "    }\n",
       "</style>\n",
       "<table border=\"1\" class=\"dataframe\">\n",
       "  <thead>\n",
       "    <tr style=\"text-align: right;\">\n",
       "      <th></th>\n",
       "      <th>index</th>\n",
       "      <th>episode_length</th>\n",
       "      <th>reward</th>\n",
       "      <th>y_pred</th>\n",
       "      <th>y_actual</th>\n",
       "      <th>trajectory</th>\n",
       "      <th>terminated</th>\n",
       "      <th>is_success</th>\n",
       "    </tr>\n",
       "  </thead>\n",
       "  <tbody>\n",
       "    <tr>\n",
       "      <th>0</th>\n",
       "      <td>0.0</td>\n",
       "      <td>16.0</td>\n",
       "      <td>1.0</td>\n",
       "      <td>0.0</td>\n",
       "      <td>0.0</td>\n",
       "      <td>[pericardial_effusion, ana, proteinuria, delir...</td>\n",
       "      <td>0.0</td>\n",
       "      <td>1.0</td>\n",
       "    </tr>\n",
       "    <tr>\n",
       "      <th>1</th>\n",
       "      <td>1.0</td>\n",
       "      <td>15.0</td>\n",
       "      <td>1.0</td>\n",
       "      <td>0.0</td>\n",
       "      <td>0.0</td>\n",
       "      <td>[pericardial_effusion, ana, proteinuria, anti_...</td>\n",
       "      <td>0.0</td>\n",
       "      <td>1.0</td>\n",
       "    </tr>\n",
       "    <tr>\n",
       "      <th>2</th>\n",
       "      <td>2.0</td>\n",
       "      <td>13.0</td>\n",
       "      <td>1.0</td>\n",
       "      <td>0.0</td>\n",
       "      <td>0.0</td>\n",
       "      <td>[pericardial_effusion, ana, proteinuria, delir...</td>\n",
       "      <td>0.0</td>\n",
       "      <td>1.0</td>\n",
       "    </tr>\n",
       "    <tr>\n",
       "      <th>3</th>\n",
       "      <td>3.0</td>\n",
       "      <td>14.0</td>\n",
       "      <td>1.0</td>\n",
       "      <td>0.0</td>\n",
       "      <td>0.0</td>\n",
       "      <td>[pericardial_effusion, ana, proteinuria, delir...</td>\n",
       "      <td>0.0</td>\n",
       "      <td>1.0</td>\n",
       "    </tr>\n",
       "    <tr>\n",
       "      <th>4</th>\n",
       "      <td>4.0</td>\n",
       "      <td>13.0</td>\n",
       "      <td>1.0</td>\n",
       "      <td>0.0</td>\n",
       "      <td>0.0</td>\n",
       "      <td>[pericardial_effusion, ana, proteinuria, anti_...</td>\n",
       "      <td>0.0</td>\n",
       "      <td>1.0</td>\n",
       "    </tr>\n",
       "  </tbody>\n",
       "</table>\n",
       "</div>"
      ],
      "text/plain": [
       "   index  episode_length  reward  y_pred  y_actual  \\\n",
       "0    0.0            16.0     1.0     0.0       0.0   \n",
       "1    1.0            15.0     1.0     0.0       0.0   \n",
       "2    2.0            13.0     1.0     0.0       0.0   \n",
       "3    3.0            14.0     1.0     0.0       0.0   \n",
       "4    4.0            13.0     1.0     0.0       0.0   \n",
       "\n",
       "                                          trajectory  terminated  is_success  \n",
       "0  [pericardial_effusion, ana, proteinuria, delir...         0.0         1.0  \n",
       "1  [pericardial_effusion, ana, proteinuria, anti_...         0.0         1.0  \n",
       "2  [pericardial_effusion, ana, proteinuria, delir...         0.0         1.0  \n",
       "3  [pericardial_effusion, ana, proteinuria, delir...         0.0         1.0  \n",
       "4  [pericardial_effusion, ana, proteinuria, anti_...         0.0         1.0  "
      ]
     },
     "execution_count": 74,
     "metadata": {},
     "output_type": "execute_result"
    }
   ],
   "source": [
    "test_df = pd.DataFrame()\n",
    "testing_env = SimpleEnv(X_test, y_test, random=False)\n",
    "# testing_env = LupusEnv(X_test, y_test, random=False)\n",
    "count = 0\n",
    "try:\n",
    "    while True:\n",
    "        count += 1\n",
    "        if count %(len(X_test)/5)==0:\n",
    "            print(f'Count: {count}')\n",
    "        obs, done = testing_env.reset(), False\n",
    "        while not done:\n",
    "            action, states = model.predict(obs, deterministic=True)\n",
    "            obs, rew, done, info = testing_env.step(action)\n",
    "            if done==True:\n",
    "                test_df = test_df.append(info, ignore_index=True)\n",
    "except StopIteration:\n",
    "    print('Testing done ....')\n",
    "test_df.head() "
   ]
  },
  {
   "cell_type": "code",
   "execution_count": 75,
   "id": "cfb3c893",
   "metadata": {},
   "outputs": [],
   "source": [
    "# testing_df.iloc[4]"
   ]
  },
  {
   "cell_type": "code",
   "execution_count": 76,
   "id": "2424927b",
   "metadata": {},
   "outputs": [
    {
     "data": {
      "text/plain": [
       "484"
      ]
     },
     "execution_count": 76,
     "metadata": {},
     "output_type": "execute_result"
    }
   ],
   "source": [
    "len(testing_df[(testing_df.ana==1) & (testing_df.label==0)])"
   ]
  },
  {
   "cell_type": "code",
   "execution_count": 77,
   "id": "7c343287",
   "metadata": {},
   "outputs": [
    {
     "data": {
      "text/plain": [
       "2329"
      ]
     },
     "execution_count": 77,
     "metadata": {},
     "output_type": "execute_result"
    }
   ],
   "source": [
    "len(test_df.trajectory.value_counts())"
   ]
  },
  {
   "cell_type": "markdown",
   "id": "aae2600e",
   "metadata": {},
   "source": [
    "#### Results"
   ]
  },
  {
   "cell_type": "code",
   "execution_count": 78,
   "id": "846902d3",
   "metadata": {},
   "outputs": [
    {
     "ename": "TypeError",
     "evalue": "unhashable type: 'list'",
     "output_type": "error",
     "traceback": [
      "\u001b[0;31m---------------------------------------------------------------------------\u001b[0m",
      "\u001b[0;31mTypeError\u001b[0m                                 Traceback (most recent call last)",
      "\u001b[0;32mpandas/_libs/hashtable_class_helper.pxi\u001b[0m in \u001b[0;36mpandas._libs.hashtable.PyObjectHashTable.map_locations\u001b[0;34m()\u001b[0m\n",
      "\u001b[0;31mTypeError\u001b[0m: unhashable type: 'list'"
     ]
    },
    {
     "name": "stderr",
     "output_type": "stream",
     "text": [
      "Exception ignored in: 'pandas._libs.index.IndexEngine._call_map_locations'\n",
      "Traceback (most recent call last):\n",
      "  File \"pandas/_libs/hashtable_class_helper.pxi\", line 5231, in pandas._libs.hashtable.PyObjectHashTable.map_locations\n",
      "TypeError: unhashable type: 'list'\n"
     ]
    },
    {
     "data": {
      "text/plain": [
       "[pericardial_effusion, ana, proteinuria, delirium, joint_involvement, low_c4, pleural_effusion, psychosis, leukopenia, fever, seizure, auto_immune_hemolysis, No lupus]                                                                                                                                                                                                           686\n",
       "[pericardial_effusion, ana, proteinuria, delirium, joint_involvement, low_c4, pleural_effusion, psychosis, leukopenia, fever, seizure, No lupus]                                                                                                                                                                                                                                  590\n",
       "[pericardial_effusion, ana, proteinuria, delirium, non_scarring_alopecia, low_c4, pleural_effusion, joint_involvement, psychosis, leukopenia, anti_dsdna_antibody, seizure, auto_immune_hemolysis, No lupus]                                                                                                                                                                      329\n",
       "[pericardial_effusion, ana, proteinuria, anti_smith_antibody, low_c4, delirium, joint_involvement, psychosis, leukopenia, anti_dsdna_antibody, pleural_effusion, auto_immune_hemolysis, No lupus]                                                                                                                                                                                 220\n",
       "[pericardial_effusion, ana, proteinuria, delirium, joint_involvement, low_c4, pleural_effusion, psychosis, leukopenia, fever, seizure, auto_immune_hemolysis, low_c3, No lupus]                                                                                                                                                                                                   201\n",
       "                                                                                                                                                                                                                                                                                                                                                                                 ... \n",
       "[pericardial_effusion, ana, seizure, pleural_effusion, joint_involvement, fever, low_c4, proteinuria, acute_pericarditis, anti_cardioliphin_antibodies, low_c3, lupus_anti_coagulant, anti_smith_antibody, auto_immune_hemolysis, anti_dsdna_antibody, psychosis, thrombocytopenia, delirium, non_scarring_alopecia, leukopenia, anti_β2gp1_antibodies, oral_ulcers, No lupus]      1\n",
       "[pericardial_effusion, ana, seizure, fever, proteinuria, low_c4, joint_involvement, acute_pericarditis, pleural_effusion, thrombocytopenia, anti_cardioliphin_antibodies, anti_smith_antibody, lupus_anti_coagulant, low_c3, psychosis, non_scarring_alopecia, anti_dsdna_antibody, delirium, leukopenia, auto_immune_hemolysis, oral_ulcers, Lupus]                                1\n",
       "[pericardial_effusion, ana, seizure, proteinuria, fever, low_c4, pleural_effusion, joint_involvement, acute_pericarditis, low_c3, anti_dsdna_antibody, auto_immune_hemolysis, psychosis, thrombocytopenia, anti_smith_antibody, delirium, Lupus]                                                                                                                                    1\n",
       "[pericardial_effusion, ana, seizure, pleural_effusion, joint_involvement, fever, low_c4, acute_pericarditis, proteinuria, anti_cardioliphin_antibodies, anti_smith_antibody, delirium, leukopenia, lupus_anti_coagulant, low_c3, thrombocytopenia, non_scarring_alopecia, psychosis, anti_dsdna_antibody, anti_β2gp1_antibodies, auto_immune_hemolysis, No lupus]                   1\n",
       "[pericardial_effusion, ana, seizure, pleural_effusion, joint_involvement, fever, low_c4, acute_pericarditis, anti_dsdna_antibody, psychosis, delirium, thrombocytopenia, anti_cardioliphin_antibodies, low_c3, oral_ulcers, lupus_anti_coagulant, non_scarring_alopecia, leukopenia, anti_smith_antibody, auto_immune_hemolysis, Lupus]                                             1\n",
       "Name: trajectory, Length: 2329, dtype: int64"
      ]
     },
     "execution_count": 78,
     "metadata": {},
     "output_type": "execute_result"
    }
   ],
   "source": [
    "test_df.trajectory.value_counts()"
   ]
  },
  {
   "cell_type": "code",
   "execution_count": 79,
   "id": "ce23fdf5",
   "metadata": {},
   "outputs": [
    {
     "data": {
      "text/plain": [
       "(5.0, 23.0)"
      ]
     },
     "execution_count": 79,
     "metadata": {},
     "output_type": "execute_result"
    }
   ],
   "source": [
    "test_df.episode_length.min(), test_df.episode_length.max()"
   ]
  },
  {
   "cell_type": "code",
   "execution_count": 80,
   "id": "70303c59",
   "metadata": {},
   "outputs": [],
   "source": [
    "# len(testing_df[testing_df.ana == 0])"
   ]
  },
  {
   "cell_type": "code",
   "execution_count": 81,
   "id": "f1af2743",
   "metadata": {},
   "outputs": [
    {
     "data": {
      "text/plain": [
       "2329"
      ]
     },
     "execution_count": 81,
     "metadata": {},
     "output_type": "execute_result"
    }
   ],
   "source": [
    "len(test_df.trajectory.value_counts())"
   ]
  },
  {
   "cell_type": "code",
   "execution_count": 82,
   "id": "73384033",
   "metadata": {},
   "outputs": [
    {
     "ename": "TypeError",
     "evalue": "unhashable type: 'list'",
     "output_type": "error",
     "traceback": [
      "\u001b[0;31m---------------------------------------------------------------------------\u001b[0m",
      "\u001b[0;31mTypeError\u001b[0m                                 Traceback (most recent call last)",
      "\u001b[0;32mpandas/_libs/hashtable_class_helper.pxi\u001b[0m in \u001b[0;36mpandas._libs.hashtable.PyObjectHashTable.map_locations\u001b[0;34m()\u001b[0m\n",
      "\u001b[0;31mTypeError\u001b[0m: unhashable type: 'list'"
     ]
    },
    {
     "name": "stderr",
     "output_type": "stream",
     "text": [
      "Exception ignored in: 'pandas._libs.index.IndexEngine._call_map_locations'\n",
      "Traceback (most recent call last):\n",
      "  File \"pandas/_libs/hashtable_class_helper.pxi\", line 5231, in pandas._libs.hashtable.PyObjectHashTable.map_locations\n",
      "TypeError: unhashable type: 'list'\n"
     ]
    },
    {
     "data": {
      "text/plain": [
       "[pericardial_effusion, ana, seizure, proteinuria, Lupus]    159\n",
       "Name: trajectory, dtype: int64"
      ]
     },
     "execution_count": 82,
     "metadata": {},
     "output_type": "execute_result"
    }
   ],
   "source": [
    "test_df[test_df.episode_length == test_df.episode_length.min()].trajectory.value_counts()"
   ]
  },
  {
   "cell_type": "code",
   "execution_count": 83,
   "id": "f2d7211a",
   "metadata": {},
   "outputs": [
    {
     "data": {
      "text/plain": [
       "98.10714285714286"
      ]
     },
     "execution_count": 83,
     "metadata": {},
     "output_type": "execute_result"
    }
   ],
   "source": [
    "success_rate, success_df = utils.success_rate(test_df)\n",
    "success_rate"
   ]
  },
  {
   "cell_type": "code",
   "execution_count": 84,
   "id": "d1d52bc9",
   "metadata": {},
   "outputs": [
    {
     "data": {
      "text/plain": [
       "(14.929428571428572, 0.9621428571428572)"
      ]
     },
     "execution_count": 84,
     "metadata": {},
     "output_type": "execute_result"
    }
   ],
   "source": [
    "avg_length, avg_return = utils.get_avg_length_reward(test_df)\n",
    "avg_length, avg_return"
   ]
  },
  {
   "cell_type": "code",
   "execution_count": 85,
   "id": "c1bb39e3",
   "metadata": {},
   "outputs": [
    {
     "data": {
      "text/plain": [
       "(98.10714285714286, 97.16138278730924, 96.34587016391171)"
      ]
     },
     "execution_count": 85,
     "metadata": {},
     "output_type": "execute_result"
    }
   ],
   "source": [
    "acc, f1, roc_auc = utils.test(test_df['y_actual'], test_df['y_pred'])\n",
    "acc, f1, roc_auc"
   ]
  },
  {
   "cell_type": "code",
   "execution_count": 86,
   "id": "b4ef364d",
   "metadata": {
    "scrolled": true
   },
   "outputs": [
    {
     "data": {
      "text/plain": [
       "0.0    10968\n",
       "1.0     3032\n",
       "Name: y_actual, dtype: int64"
      ]
     },
     "execution_count": 86,
     "metadata": {},
     "output_type": "execute_result"
    }
   ],
   "source": [
    "test_df.y_actual.value_counts()"
   ]
  },
  {
   "cell_type": "code",
   "execution_count": 87,
   "id": "b237051a",
   "metadata": {},
   "outputs": [
    {
     "data": {
      "text/plain": [
       "0.0    11113\n",
       "1.0     2887\n",
       "Name: y_pred, dtype: int64"
      ]
     },
     "execution_count": 87,
     "metadata": {},
     "output_type": "execute_result"
    }
   ],
   "source": [
    "test_df.y_pred.value_counts()"
   ]
  },
  {
   "cell_type": "code",
   "execution_count": 88,
   "id": "5f1dc2dd",
   "metadata": {},
   "outputs": [],
   "source": [
    "# test_df.to_csv(f'../test_dfs/very_simple_datasets/dqn_test_df_11ft_7000000.csv', index=False)\n",
    "# success_df.to_csv(f'../test_dfs/very_simple_datasets/dqn_success_df_11ft_7000000.csv', index=False)"
   ]
  },
  {
   "cell_type": "code",
   "execution_count": 89,
   "id": "831b8735",
   "metadata": {},
   "outputs": [],
   "source": [
    "def training_and_testing(timesteps, feat_num):\n",
    "    training_env = SimpleEnv(X_train, y_train)\n",
    "    model = DQN('MlpPolicy', training_env, verbose=1, seed=SEED)\n",
    "    model.learn(total_timesteps=timesteps, log_interval=100000)\n",
    "    model.save(f'../models/very_simple_models/dqn_fts_{feat_num}_{timesteps}')\n",
    "    training_env.close()\n",
    "    \n",
    "    test_df = pd.DataFrame()\n",
    "    testing_env = SimpleEnv(X_test, y_test, random=False)\n",
    "    count = 0\n",
    "    try:\n",
    "        while True:\n",
    "            count += 1\n",
    "            if count %(len(X_test)/5)==0:\n",
    "                print(f'Count: {count}')\n",
    "            obs, done = testing_env.reset(), False\n",
    "            while not done:\n",
    "                action, states = model.predict(obs, deterministic=True)\n",
    "                obs, rew, done, info = testing_env.step(action)\n",
    "                if done==True:\n",
    "                    test_df = test_df.append(info, ignore_index=True)\n",
    "    except StopIteration:\n",
    "        print('Testing done ....')\n",
    "    print(test_df.head())\n",
    "    print(test_df.trajectory.value_counts())\n",
    "    success_rate, success_df = utils.success_rate(test_df)\n",
    "    print(f'Success rate: {success_rate}')\n",
    "    acc, f1, roc_auc = utils.test(test_df['y_actual'], test_df['y_pred'])\n",
    "    print(f'Accuracy: {acc}')\n",
    "    print(f'F1 Score: {f1}')\n",
    "    print(f'ROC AUC SCore: {roc_auc}')"
   ]
  },
  {
   "cell_type": "code",
   "execution_count": null,
   "id": "77572243",
   "metadata": {},
   "outputs": [],
   "source": []
  },
  {
   "cell_type": "code",
   "execution_count": null,
   "id": "5cde8b9c",
   "metadata": {},
   "outputs": [],
   "source": []
  },
  {
   "cell_type": "code",
   "execution_count": null,
   "id": "6ffa39bb",
   "metadata": {},
   "outputs": [],
   "source": []
  },
  {
   "cell_type": "code",
   "execution_count": null,
   "id": "552a213e",
   "metadata": {},
   "outputs": [],
   "source": []
  }
 ],
 "metadata": {
  "kernelspec": {
   "display_name": "Python 3 (ipykernel)",
   "language": "python",
   "name": "python3"
  },
  "language_info": {
   "codemirror_mode": {
    "name": "ipython",
    "version": 3
   },
   "file_extension": ".py",
   "mimetype": "text/x-python",
   "name": "python",
   "nbconvert_exporter": "python",
   "pygments_lexer": "ipython3",
   "version": "3.7.4"
  }
 },
 "nbformat": 4,
 "nbformat_minor": 5
}

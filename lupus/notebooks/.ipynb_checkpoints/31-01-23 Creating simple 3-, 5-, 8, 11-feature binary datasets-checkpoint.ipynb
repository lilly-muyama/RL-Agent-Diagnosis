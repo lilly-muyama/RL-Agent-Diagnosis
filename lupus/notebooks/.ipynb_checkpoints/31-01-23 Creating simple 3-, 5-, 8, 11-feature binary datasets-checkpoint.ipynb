{
 "cells": [
  {
   "cell_type": "code",
   "execution_count": 1,
   "id": "0a49aa57",
   "metadata": {},
   "outputs": [],
   "source": [
    "import pandas as pd\n",
    "import numpy as np\n",
    "import random\n",
    "import matplotlib.pyplot as plt\n",
    "%matplotlib inline\n",
    "from sklearn.model_selection import train_test_split\n",
    "import sys\n",
    "sys.path.append('../')\n",
    "from modules import utils, constants"
   ]
  },
  {
   "cell_type": "code",
   "execution_count": 2,
   "id": "6bd64c41",
   "metadata": {},
   "outputs": [],
   "source": [
    "SEED = 42\n",
    "random.seed(SEED)\n",
    "np.random.seed(SEED)"
   ]
  },
  {
   "cell_type": "markdown",
   "id": "1dd74feb",
   "metadata": {},
   "source": [
    "#### 2-feature anemia dataset"
   ]
  },
  {
   "cell_type": "code",
   "execution_count": null,
   "id": "5a4597d8",
   "metadata": {},
   "outputs": [],
   "source": [
    "two_features_anem = ['hemoglobin', 'gender']"
   ]
  },
  {
   "cell_type": "code",
   "execution_count": null,
   "id": "3b5e8c21",
   "metadata": {},
   "outputs": [],
   "source": [
    "def create_label_2_ft_anem(row):\n",
    "    if row.hemoglobin > 13:\n",
    "        return 'No anemia'\n",
    "    if row.gender == 1: #male\n",
    "        return 'Anemia'\n",
    "    if row.gender == 0: #female\n",
    "        if row.hemoglobin<12:\n",
    "            return 'Anemia'\n",
    "        elif row.hemoglobin >12:\n",
    "            return 'No anemia'\n",
    "        else:\n",
    "            return np.nan\n",
    "        "
   ]
  },
  {
   "cell_type": "code",
   "execution_count": null,
   "id": "b416ed88",
   "metadata": {},
   "outputs": [],
   "source": [
    "feat_2_anem_df = pd.DataFrame()\n",
    "feat_2_anem_df['hemoglobin'] = np.random.uniform(10, 15, 10000)\n",
    "feat_2_anem_df['gender'] = np.random.choice([0, 1], 10000)\n",
    "feat_2_anem_df['label'] = feat_2_anem_df.apply(lambda row: create_label_2_ft_anem(row), axis=1)\n",
    "feat_2_anem_df.head()"
   ]
  },
  {
   "cell_type": "code",
   "execution_count": null,
   "id": "86c4db6c",
   "metadata": {},
   "outputs": [],
   "source": [
    "feat_2_anem_df.label.value_counts()"
   ]
  },
  {
   "cell_type": "code",
   "execution_count": null,
   "id": "b5bf5341",
   "metadata": {},
   "outputs": [],
   "source": [
    "# feat_2_df.to_csv('../data/very_simple_datasets/feats_2.csv', index=False)"
   ]
  },
  {
   "cell_type": "markdown",
   "id": "4148f4e3",
   "metadata": {},
   "source": [
    "#### 2-feature lupus dataset"
   ]
  },
  {
   "cell_type": "code",
   "execution_count": null,
   "id": "d8055425",
   "metadata": {},
   "outputs": [],
   "source": [
    "two_features = ['ana', 'anti_dsdna_antibody']"
   ]
  },
  {
   "cell_type": "code",
   "execution_count": null,
   "id": "c2f22f74",
   "metadata": {},
   "outputs": [],
   "source": [
    "def create_label_2_ft(row):\n",
    "    if row.ana ==0:\n",
    "        return 'No lupus'\n",
    "    if row.anti_dsdna_antibody == 1:\n",
    "        return 'Lupus'\n",
    "    if row.anti_dsdna_antibody == 0:\n",
    "        return 'No lupus'"
   ]
  },
  {
   "cell_type": "code",
   "execution_count": null,
   "id": "19400233",
   "metadata": {},
   "outputs": [],
   "source": [
    "feat_2_df = pd.DataFrame()\n",
    "feat_2_df['ana'] = np.random.choice([0,1], 70000)\n",
    "feat_2_df['anti_dsdna_antibody'] = np.random.choice([0, 1], 70000)\n",
    "feat_2_df['label'] = feat_2_df.apply(lambda row: create_label_2_ft(row), axis=1)\n",
    "feat_2_df.head()"
   ]
  },
  {
   "cell_type": "code",
   "execution_count": null,
   "id": "109a370f",
   "metadata": {},
   "outputs": [],
   "source": [
    "feat_2_df.label.value_counts()"
   ]
  },
  {
   "cell_type": "code",
   "execution_count": null,
   "id": "19d4d957",
   "metadata": {},
   "outputs": [],
   "source": [
    "# feat_2_df.to_csv('../data/very_simple_datasets/feats_2.csv', index=False)"
   ]
  },
  {
   "cell_type": "markdown",
   "id": "1631736f",
   "metadata": {},
   "source": [
    "#### 3-feature dataset"
   ]
  },
  {
   "cell_type": "code",
   "execution_count": null,
   "id": "8983ca27",
   "metadata": {},
   "outputs": [],
   "source": [
    "three_features = ['ana', 'anti_dsdna_antibody', 'joint_involvement']"
   ]
  },
  {
   "cell_type": "code",
   "execution_count": null,
   "id": "52eb3197",
   "metadata": {},
   "outputs": [],
   "source": [
    "def create_label_3_ft(row):\n",
    "    if row.ana == 0:\n",
    "        return 'No lupus'\n",
    "    if row.anti_dsdna_antibody == 0:\n",
    "        return 'No lupus'\n",
    "    if row.joint_involvement == 0:\n",
    "        return 'No lupus'\n",
    "    if row.joint_involvement == 1:\n",
    "        return 'Lupus'  "
   ]
  },
  {
   "cell_type": "code",
   "execution_count": null,
   "id": "58cf419a",
   "metadata": {},
   "outputs": [],
   "source": [
    "feat_3_df = pd.DataFrame()\n",
    "for feat in three_features:\n",
    "    feat_3_df[feat] = np.random.choice([0,1], 10000)\n",
    "feat_3_df['label'] = feat_3_df.apply(lambda row: create_label_3_ft(row), axis=1)\n",
    "feat_3_df.head()"
   ]
  },
  {
   "cell_type": "code",
   "execution_count": null,
   "id": "b07569f9",
   "metadata": {},
   "outputs": [],
   "source": [
    "feat_3_df.label.value_counts()"
   ]
  },
  {
   "cell_type": "code",
   "execution_count": null,
   "id": "0b45f93c",
   "metadata": {},
   "outputs": [],
   "source": [
    "feat_3_df[((feat_3_df.ana==1) & (feat_3_df.anti_dsdna_antibody==1)) & (feat_3_df.joint_involvement==1)].label.value_counts()"
   ]
  },
  {
   "cell_type": "code",
   "execution_count": null,
   "id": "1dc49ade",
   "metadata": {},
   "outputs": [],
   "source": [
    "# feat_3_df.to_csv('../data/very_simple_datasets/feats_3.csv', index=False)"
   ]
  },
  {
   "cell_type": "markdown",
   "id": "9876c013",
   "metadata": {},
   "source": [
    "#### 5 - feature dataset"
   ]
  },
  {
   "cell_type": "code",
   "execution_count": null,
   "id": "4f46be05",
   "metadata": {},
   "outputs": [],
   "source": [
    "five_features = ['ana', 'anti_dsdna_antibody', 'joint_involvement', 'proteinuria', 'pericardial_effusion']"
   ]
  },
  {
   "cell_type": "code",
   "execution_count": null,
   "id": "097fb53d",
   "metadata": {},
   "outputs": [],
   "source": [
    "def create_label_5_ft(row):\n",
    "    if row.ana == 0:\n",
    "        return 'No lupus'\n",
    "    if row.anti_dsdna_antibody == 0:\n",
    "        if row.joint_involvement ==0:\n",
    "            return 'No lupus'\n",
    "        if row.proteinuria!=0:\n",
    "            return 'Lupus'\n",
    "        if row.pericardial_effusion == 0:\n",
    "            return 'No lupus'\n",
    "        if row.pericardial_effusion ==1:\n",
    "            return 'Lupus'\n",
    "    if row.joint_involvement ==1:\n",
    "        return 'Lupus'\n",
    "    if row.proteinuria ==1:\n",
    "        return 'Lupus'\n",
    "    if row.pericardial_effusion == 0:\n",
    "        return 'No lupus'\n",
    "    if row.pericardial_effusion ==1:\n",
    "        return 'Lupus'"
   ]
  },
  {
   "cell_type": "code",
   "execution_count": null,
   "id": "9d457808",
   "metadata": {},
   "outputs": [],
   "source": [
    "feat_5_df = pd.DataFrame()\n",
    "for feat in five_features:\n",
    "    feat_5_df[feat] = np.random.choice([0,1], 70000)\n",
    "feat_5_df['label'] = feat_5_df.apply(lambda row: create_label_5_ft(row), axis=1)\n",
    "feat_5_df.head()"
   ]
  },
  {
   "cell_type": "code",
   "execution_count": null,
   "id": "aba74381",
   "metadata": {},
   "outputs": [],
   "source": [
    "feat_5_df.label.value_counts()"
   ]
  },
  {
   "cell_type": "code",
   "execution_count": null,
   "id": "626de289",
   "metadata": {},
   "outputs": [],
   "source": [
    "feat_5_df[((feat_5_df.ana==1) & (feat_5_df.anti_dsdna_antibody==1)) & (feat_5_df.joint_involvement==1)].label.value_counts()"
   ]
  },
  {
   "cell_type": "code",
   "execution_count": null,
   "id": "9593048b",
   "metadata": {},
   "outputs": [],
   "source": [
    "feat_5_df.to_csv('../data/very_simple_datasets/feats_5.csv', index=False)"
   ]
  },
  {
   "cell_type": "markdown",
   "id": "344be868",
   "metadata": {},
   "source": [
    "#### 8-feature dataset"
   ]
  },
  {
   "cell_type": "code",
   "execution_count": null,
   "id": "485804ed",
   "metadata": {},
   "outputs": [],
   "source": [
    "eight_features = ['ana', 'anti_dsdna_antibody', 'joint_involvement', 'proteinuria', 'pericardial_effusion', \n",
    "                 'non_scarring_alopecia', 'leukopenia', 'delirium']"
   ]
  },
  {
   "cell_type": "code",
   "execution_count": null,
   "id": "42192f32",
   "metadata": {},
   "outputs": [],
   "source": [
    "def create_label_8_ft(row):\n",
    "    if row.ana == 0:\n",
    "        return 'No lupus'\n",
    "    if row.anti_dsdna_antibody == 0:\n",
    "        if row.joint_involvement==0: #where i am \n",
    "            if row.proteinuria==0:\n",
    "                if row.pericardial_effusion==0:\n",
    "                    return 'No lupus'\n",
    "                else: #score 5\n",
    "                    if row.leukopenia == 0:\n",
    "                        return 'No lupus'\n",
    "                    else: #score 8\n",
    "                        if row.delirium ==0:\n",
    "                            if row.non_scarring_alopecia==0:\n",
    "                                return 'No lupus'\n",
    "                            else:\n",
    "                                return 'Lupus'\n",
    "                        else: #score 10\n",
    "                            return 'Lupus'\n",
    "            else: #score 4\n",
    "                if row.pericardial_effusion == 0:\n",
    "                    if row.leukopenia == 0:\n",
    "                        return 'No lupus'\n",
    "                    else: #score 7\n",
    "                        if row.delirium ==0:\n",
    "                            return 'No lupus'\n",
    "                        else: #score 9\n",
    "                            if row.non_scarring_alopecia==0:\n",
    "                                return 'No lupus'\n",
    "                            else: #score 11\n",
    "                                return 'Lupus'\n",
    "                else: # score 9\n",
    "                    if row.leukopenia ==0:\n",
    "                        if row.delirium == 0:\n",
    "                            if row.non_scarring_alopecia==0:\n",
    "                                return 'No lupus'\n",
    "                            else: # score 11\n",
    "                                return 'Lupus'\n",
    "                        else: #score 11\n",
    "                            return 'Lupus'\n",
    "                    else: # score 12\n",
    "                        return 'Lupus'\n",
    "            \n",
    "        else: #row.joint_involvement==1 score=6\n",
    "            if row.proteinuria == 0:\n",
    "                if row.pericardial_effusion == 0:\n",
    "                    if row.leukopenia==0:\n",
    "                        if row.delirium ==0:\n",
    "                            return 'No lupus'\n",
    "                        else: #score 8\n",
    "                            if row.non_scarring_alopecia==0:\n",
    "                                return 'No lupus'\n",
    "                            else:\n",
    "                                return 'Lupus'\n",
    "                    else: #score 9\n",
    "                        if row.delirium == 0:\n",
    "                            if row.non_scarring_alopecia==0:\n",
    "                                return 'No lupus'\n",
    "                            else: #score 11\n",
    "                                return 'Lupus'\n",
    "                        else: #score 11\n",
    "                            return 'Lupus'\n",
    "                else: #score 11\n",
    "                    return 'Lupus'\n",
    "                \n",
    "            else: #score 10\n",
    "                return 'Lupus'\n",
    "    if row.joint_involvement ==0: #score here is 6 becuase the antibody above is == 1\n",
    "        if row.proteinuria==0:\n",
    "            if row.pericardial_effusion==0:\n",
    "                if row.leukopenia ==0:\n",
    "                    if row.delirium==0:\n",
    "                        return 'No lupus'\n",
    "                    else: #score 8\n",
    "                        if row.non_scarring_alopecia==0:\n",
    "                            return 'No lupus'\n",
    "                        else: #score 10\n",
    "                            return 'Lupus'\n",
    "                else: #score 9\n",
    "                    if row.delirium==0:\n",
    "                        if row.non_scarring_alopecia ==0:\n",
    "                            return 'No lupus'\n",
    "                        else:\n",
    "                            return 'Lupus'\n",
    "                    else: #score 11\n",
    "                        return 'Lupus'\n",
    "                    \n",
    "            else: #score 11\n",
    "                return 'Lupus'\n",
    "        else: #score 10\n",
    "            return 'Lupus'\n",
    "    else: #score 12\n",
    "        return 'Lupus'"
   ]
  },
  {
   "cell_type": "code",
   "execution_count": null,
   "id": "55b29780",
   "metadata": {},
   "outputs": [],
   "source": [
    "feat_8_df = pd.DataFrame()\n",
    "for feat in eight_features:\n",
    "    feat_8_df[feat] = np.random.choice([0,1], 70000)\n",
    "feat_8_df['label'] = feat_8_df.apply(lambda row: create_label_8_ft(row), axis=1)\n",
    "feat_8_df.head()"
   ]
  },
  {
   "cell_type": "code",
   "execution_count": null,
   "id": "b57ccd18",
   "metadata": {},
   "outputs": [],
   "source": [
    "feat_8_df.label.value_counts()"
   ]
  },
  {
   "cell_type": "code",
   "execution_count": null,
   "id": "211bb485",
   "metadata": {},
   "outputs": [],
   "source": [
    "feat_8_df.to_csv('../data/very_simple_datasets/feats_8.csv', index=False)"
   ]
  },
  {
   "cell_type": "markdown",
   "id": "6220fe18",
   "metadata": {},
   "source": [
    "#### 11 features - 1 feature per domain"
   ]
  },
  {
   "cell_type": "code",
   "execution_count": 2,
   "id": "75220d07",
   "metadata": {},
   "outputs": [],
   "source": [
    "eleven_features = ['ana', 'anti_dsdna_antibody', 'joint_involvement', 'proteinuria', 'pericardial_effusion', \n",
    "                   'non_scarring_alopecia', 'leukopenia', 'delirium', 'low_c3_and_c4', 'fever', \n",
    "                   'anti_cardioliphin_antibodies']"
   ]
  },
  {
   "cell_type": "code",
   "execution_count": 3,
   "id": "6589b1e3",
   "metadata": {},
   "outputs": [],
   "source": [
    "CRITERIA_WEIGHTS = {'anti_dsdna_antibody':6, 'joint_involvement':6, 'proteinuria':4, 'pericardial_effusion':5,\n",
    "                    'non_scarring_alopecia':2, 'leukopenia':3, 'delirium':2, 'low_c3_and_c4':4, 'fever':2, \n",
    "                    'anti_cardioliphin_antibodies':2 \n",
    "                      }"
   ]
  },
  {
   "cell_type": "code",
   "execution_count": 4,
   "id": "364fa176",
   "metadata": {},
   "outputs": [],
   "source": [
    "def get_feat_score(row, feat):\n",
    "    if row[feat] <= 0:\n",
    "        feat_score = 0\n",
    "    else:\n",
    "        feat_score = CRITERIA_WEIGHTS[feat]\n",
    "    return feat_score"
   ]
  },
  {
   "cell_type": "code",
   "execution_count": 5,
   "id": "026ec4bb",
   "metadata": {},
   "outputs": [],
   "source": [
    "def create_label_11_ft(row):\n",
    "    if row['ana'] == 0:\n",
    "        return 'No lupus' #0\n",
    "    total_row_score = 0\n",
    "    for feature in eleven_features:\n",
    "        if feature != 'ana':\n",
    "            feature_score = get_feat_score(row, feature)\n",
    "            total_row_score += feature_score\n",
    "            if total_row_score >= 10:\n",
    "                #print(f'row {row.name} - {total_row_score}')\n",
    "                return 'Lupus'#1\n",
    "    else:\n",
    "        return 'No lupus'#0"
   ]
  },
  {
   "cell_type": "code",
   "execution_count": 6,
   "id": "bf871260",
   "metadata": {},
   "outputs": [
    {
     "data": {
      "text/html": [
       "<div>\n",
       "<style scoped>\n",
       "    .dataframe tbody tr th:only-of-type {\n",
       "        vertical-align: middle;\n",
       "    }\n",
       "\n",
       "    .dataframe tbody tr th {\n",
       "        vertical-align: top;\n",
       "    }\n",
       "\n",
       "    .dataframe thead th {\n",
       "        text-align: right;\n",
       "    }\n",
       "</style>\n",
       "<table border=\"1\" class=\"dataframe\">\n",
       "  <thead>\n",
       "    <tr style=\"text-align: right;\">\n",
       "      <th></th>\n",
       "      <th>ana</th>\n",
       "      <th>anti_dsdna_antibody</th>\n",
       "      <th>joint_involvement</th>\n",
       "      <th>proteinuria</th>\n",
       "      <th>pericardial_effusion</th>\n",
       "      <th>non_scarring_alopecia</th>\n",
       "      <th>leukopenia</th>\n",
       "      <th>delirium</th>\n",
       "      <th>low_c3_and_c4</th>\n",
       "      <th>fever</th>\n",
       "      <th>anti_cardioliphin_antibodies</th>\n",
       "      <th>label</th>\n",
       "    </tr>\n",
       "  </thead>\n",
       "  <tbody>\n",
       "    <tr>\n",
       "      <th>0</th>\n",
       "      <td>0</td>\n",
       "      <td>0</td>\n",
       "      <td>1</td>\n",
       "      <td>1</td>\n",
       "      <td>1</td>\n",
       "      <td>0</td>\n",
       "      <td>1</td>\n",
       "      <td>1</td>\n",
       "      <td>1</td>\n",
       "      <td>0</td>\n",
       "      <td>1</td>\n",
       "      <td>No lupus</td>\n",
       "    </tr>\n",
       "    <tr>\n",
       "      <th>1</th>\n",
       "      <td>1</td>\n",
       "      <td>1</td>\n",
       "      <td>0</td>\n",
       "      <td>1</td>\n",
       "      <td>1</td>\n",
       "      <td>0</td>\n",
       "      <td>1</td>\n",
       "      <td>0</td>\n",
       "      <td>1</td>\n",
       "      <td>0</td>\n",
       "      <td>0</td>\n",
       "      <td>Lupus</td>\n",
       "    </tr>\n",
       "    <tr>\n",
       "      <th>2</th>\n",
       "      <td>0</td>\n",
       "      <td>1</td>\n",
       "      <td>0</td>\n",
       "      <td>0</td>\n",
       "      <td>1</td>\n",
       "      <td>1</td>\n",
       "      <td>0</td>\n",
       "      <td>0</td>\n",
       "      <td>1</td>\n",
       "      <td>1</td>\n",
       "      <td>1</td>\n",
       "      <td>No lupus</td>\n",
       "    </tr>\n",
       "    <tr>\n",
       "      <th>3</th>\n",
       "      <td>0</td>\n",
       "      <td>0</td>\n",
       "      <td>1</td>\n",
       "      <td>0</td>\n",
       "      <td>0</td>\n",
       "      <td>1</td>\n",
       "      <td>1</td>\n",
       "      <td>1</td>\n",
       "      <td>1</td>\n",
       "      <td>1</td>\n",
       "      <td>1</td>\n",
       "      <td>No lupus</td>\n",
       "    </tr>\n",
       "    <tr>\n",
       "      <th>4</th>\n",
       "      <td>0</td>\n",
       "      <td>1</td>\n",
       "      <td>1</td>\n",
       "      <td>1</td>\n",
       "      <td>1</td>\n",
       "      <td>0</td>\n",
       "      <td>0</td>\n",
       "      <td>0</td>\n",
       "      <td>0</td>\n",
       "      <td>0</td>\n",
       "      <td>0</td>\n",
       "      <td>No lupus</td>\n",
       "    </tr>\n",
       "  </tbody>\n",
       "</table>\n",
       "</div>"
      ],
      "text/plain": [
       "   ana  anti_dsdna_antibody  joint_involvement  proteinuria  \\\n",
       "0    0                    0                  1            1   \n",
       "1    1                    1                  0            1   \n",
       "2    0                    1                  0            0   \n",
       "3    0                    0                  1            0   \n",
       "4    0                    1                  1            1   \n",
       "\n",
       "   pericardial_effusion  non_scarring_alopecia  leukopenia  delirium  \\\n",
       "0                     1                      0           1         1   \n",
       "1                     1                      0           1         0   \n",
       "2                     1                      1           0         0   \n",
       "3                     0                      1           1         1   \n",
       "4                     1                      0           0         0   \n",
       "\n",
       "   low_c3_and_c4  fever  anti_cardioliphin_antibodies     label  \n",
       "0              1      0                             1  No lupus  \n",
       "1              1      0                             0     Lupus  \n",
       "2              1      1                             1  No lupus  \n",
       "3              1      1                             1  No lupus  \n",
       "4              0      0                             0  No lupus  "
      ]
     },
     "execution_count": 6,
     "metadata": {},
     "output_type": "execute_result"
    }
   ],
   "source": [
    "feat_11_df = pd.DataFrame()\n",
    "for feat in eleven_features:\n",
    "    feat_11_df[feat] = np.random.choice([0,1], 70000)\n",
    "feat_11_df['label'] = feat_11_df.apply(lambda row: create_label_11_ft(row), axis=1)\n",
    "feat_11_df.head()"
   ]
  },
  {
   "cell_type": "code",
   "execution_count": 7,
   "id": "0befbb62",
   "metadata": {},
   "outputs": [
    {
     "data": {
      "text/plain": [
       "No lupus    38047\n",
       "Lupus       31953\n",
       "Name: label, dtype: int64"
      ]
     },
     "execution_count": 7,
     "metadata": {},
     "output_type": "execute_result"
    }
   ],
   "source": [
    "feat_11_df.label.value_counts()"
   ]
  },
  {
   "cell_type": "code",
   "execution_count": 8,
   "id": "51f8e61d",
   "metadata": {},
   "outputs": [],
   "source": [
    "feat_11_df.to_csv('../data/very_simple_datasets/feats_11.csv', index=False)"
   ]
  },
  {
   "cell_type": "markdown",
   "id": "b34a3241",
   "metadata": {},
   "source": [
    "#### 22-feature dataset"
   ]
  },
  {
   "cell_type": "code",
   "execution_count": null,
   "id": "8ad65a82",
   "metadata": {},
   "outputs": [],
   "source": [
    "eleven_features = ['ana', 'non_scarring_alopecia', 'anti_dsdna_antibody', 'joint_involvement', 'proteinuria', \n",
    "                   'pericardial_effusion', 'leukopenia', 'delirium', 'low_c3', 'low_c4', 'fever', 'thrombocytopenia'\n",
    "                   'anti_cardioliphin_antibodies', 'pleural_effusion', 'psychosis', 'seizure', \n",
    "                   'lupus_anti_coagulant', 'anti_β2gp1_antibodies', 'anti_smith_antibody', 'oral_ulcers', \n",
    "                   'auto_immune_hemolysis', 'acute_pericarditis']"
   ]
  }
 ],
 "metadata": {
  "kernelspec": {
   "display_name": "Python 3 (ipykernel)",
   "language": "python",
   "name": "python3"
  },
  "language_info": {
   "codemirror_mode": {
    "name": "ipython",
    "version": 3
   },
   "file_extension": ".py",
   "mimetype": "text/x-python",
   "name": "python",
   "nbconvert_exporter": "python",
   "pygments_lexer": "ipython3",
   "version": "3.7.4"
  }
 },
 "nbformat": 4,
 "nbformat_minor": 5
}

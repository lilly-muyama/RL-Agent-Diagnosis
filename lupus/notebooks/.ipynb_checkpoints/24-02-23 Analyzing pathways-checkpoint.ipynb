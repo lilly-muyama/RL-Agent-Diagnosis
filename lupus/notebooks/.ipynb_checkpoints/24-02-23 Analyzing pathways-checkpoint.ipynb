{
 "cells": [
  {
   "cell_type": "code",
   "execution_count": 1,
   "id": "0be06fee",
   "metadata": {},
   "outputs": [],
   "source": [
    "import pandas as pd\n",
    "import numpy as np\n",
    "import sys\n",
    "import ast\n",
    "sys.path.append('../')\n",
    "from modules import utils, constants\n",
    "import matplotlib.pyplot as plt\n",
    "%matplotlib inline"
   ]
  },
  {
   "cell_type": "markdown",
   "id": "b61653e0",
   "metadata": {},
   "source": [
    "#### Computing score functions"
   ]
  },
  {
   "cell_type": "code",
   "execution_count": 2,
   "id": "52ee5fa2",
   "metadata": {},
   "outputs": [],
   "source": [
    "criteria_weights = {'fever':2, 'leukopenia':3, 'thrombocytopenia':4, 'auto_immune_hemolysis':4, 'delirium':2, 'psychosis':3, 'seizure':5, \n",
    "                    'non_scarring_alopecia':2, 'oral_ulcers':2, 'subacute_cutaneous_lupus':4, 'discoid_lupus':4, 'acute_cutaneous_lupus':6, \n",
    "                    'pleural_effusion': 5, 'pericardial_effusion':5, 'acute_pericarditis':6, 'joint_involvement':6, 'proteinuria':4, \n",
    "                    'anti_cardioliphin_antibodies':2, 'anti_β2gp1_antibodies':2, 'lupus_anti_coagulant':2, 'low_c3':3, 'low_c4':3, \n",
    "                    'low_c3_and_low_c4':4,\n",
    "                    'low_c3_or_low_c4':3, 'anti_dsdna_antibody':6, 'anti_smith_antibody':6}\n",
    "\n",
    "# Dictionary mapping features to their respective domains\n",
    "domains_feat_dict = {'constitutional': ['fever'],\n",
    "                     'hematologic': ['leukopenia', 'thrombocytopenia', 'auto_immune_hemolysis'],\n",
    "                     'neuropsychiatric': ['delirium', 'psychosis', 'seizure'],\n",
    "                     'mucocutaneous': ['non_scarring_alopecia', 'oral_ulcers', 'cutaneous_lupus'],\n",
    "                     'serosal': ['pleural_effusion', 'pericardial_effusion', 'acute_pericarditis'],\n",
    "                     'musculoskeletal': ['joint_involvement'],\n",
    "                     'renal': ['proteinuria'],\n",
    "                     'antiphospholipid_antibodies': ['anti_cardioliphin_antibodies', 'anti_β2gp1_antibodies', 'lupus_anti_coagulant'],\n",
    "                     'complement_proteins': ['low_c3', 'low_c4'],\n",
    "                     'sle_specific_antibodies':['anti_dsdna_antibody', 'anti_smith_antibody']}\n",
    "\n",
    "# Dicionary with the maximum possible score for each domain\n",
    "domains_max_scores_dict = {'constitutional': 2, 'hematologic': 4, 'neuropsychiatric': 5, 'mucocutaneous': 6, 'serosal': 6, 'musculoskeletal': 6, \n",
    "                           'renal': 4, 'antiphospholipid_antibodies': 2, 'complement_proteins': 4, 'sle_specific_antibodies':6}\n",
    "\n",
    "\n",
    "\n",
    "def get_cutaneous_lupus_score(cutaneous_type):\n",
    "    '''\n",
    "    Computes the score given a value for the cutaneous lupus feature\n",
    "    '''\n",
    "    if cutaneous_type == 0: #negative for any form of cutaneous lupus\n",
    "        return 0\n",
    "    elif cutaneous_type == 1: #subacute cutaneous lupus\n",
    "        return criteria_weights['subacute_cutaneous_lupus']\n",
    "    elif cutaneous_type == 2: #acute cutaneous lupus\n",
    "        return criteria_weights['acute_cutaneous_lupus']\n",
    "    elif cutaneous_type == 3: #discoid lupus\n",
    "        return criteria_weights['discoid_lupus']\n",
    "    else:\n",
    "        raise Exception('Unknown cutaneous lupus type!')\n",
    "\n",
    "def get_feat_score(row, feat):\n",
    "    '''\n",
    "    Computes the score for a given feature in a row\n",
    "    '''\n",
    "    if feat == 'cutaneous_lupus':\n",
    "        feat_score = get_cutaneous_lupus_score(row[feat])\n",
    "    elif row[feat] <= 0:\n",
    "        feat_score = 0\n",
    "    else:\n",
    "        feat_score = criteria_weights[feat]\n",
    "    return feat_score\n",
    "\n",
    "\n",
    "def get_c3_c4_score(c3, c4): \n",
    "    '''\n",
    "    Computes the score for the complements proteins domain\n",
    "    '''\n",
    "    if (c3 == 1) & (c4 == 1): # 1 is low, 0 is not low\n",
    "        return criteria_weights['low_c3_and_low_c4']\n",
    "    elif (c3 == 1) | (c4 == 1):\n",
    "        return criteria_weights['low_c3_or_low_c4']\n",
    "    else:\n",
    "        return 0\n",
    "\n",
    "def get_domain_score(row, domain):\n",
    "    '''\n",
    "    Computes the score for a given domain in a specified row\n",
    "    '''\n",
    "    domain_features = domains_feat_dict[domain] # a list of features in that domain\n",
    "    domain_score = 0\n",
    "    if domain == 'complement_proteins':\n",
    "        domain_score = get_c3_c4_score(row.low_c3, row.low_c4)\n",
    "    else:\n",
    "        for feat in domain_features:\n",
    "            feat_score = get_feat_score(row, feat)\n",
    "            if feat_score > domain_score:\n",
    "                domain_score = feat_score\n",
    "    if domain_score > domains_max_scores_dict[domain]:\n",
    "        raise Exception('The score is too large for this domain!')\n",
    "    return domain_score\n",
    "\n",
    "def compute_score(row):\n",
    "    '''\n",
    "    Computes the total score of a row in a dataframe\n",
    "    '''\n",
    "    if row['ana'] == 0: # 0=negative, 1=positive \n",
    "        return 0\n",
    "    total_row_score = 0\n",
    "    for domain in domains_feat_dict.keys():\n",
    "        domain_score = get_domain_score(row, domain)\n",
    "        total_row_score += domain_score\n",
    "    return total_row_score"
   ]
  },
  {
   "cell_type": "code",
   "execution_count": 3,
   "id": "1cc46524",
   "metadata": {},
   "outputs": [
    {
     "data": {
      "text/html": [
       "<div>\n",
       "<style scoped>\n",
       "    .dataframe tbody tr th:only-of-type {\n",
       "        vertical-align: middle;\n",
       "    }\n",
       "\n",
       "    .dataframe tbody tr th {\n",
       "        vertical-align: top;\n",
       "    }\n",
       "\n",
       "    .dataframe thead th {\n",
       "        text-align: right;\n",
       "    }\n",
       "</style>\n",
       "<table border=\"1\" class=\"dataframe\">\n",
       "  <thead>\n",
       "    <tr style=\"text-align: right;\">\n",
       "      <th></th>\n",
       "      <th>ana</th>\n",
       "      <th>fever</th>\n",
       "      <th>leukopenia</th>\n",
       "      <th>thrombocytopenia</th>\n",
       "      <th>auto_immune_hemolysis</th>\n",
       "      <th>delirium</th>\n",
       "      <th>psychosis</th>\n",
       "      <th>seizure</th>\n",
       "      <th>non_scarring_alopecia</th>\n",
       "      <th>oral_ulcers</th>\n",
       "      <th>...</th>\n",
       "      <th>joint_involvement</th>\n",
       "      <th>proteinuria</th>\n",
       "      <th>anti_cardioliphin_antibodies</th>\n",
       "      <th>anti_β2gp1_antibodies</th>\n",
       "      <th>lupus_anti_coagulant</th>\n",
       "      <th>low_c3</th>\n",
       "      <th>low_c4</th>\n",
       "      <th>anti_dsdna_antibody</th>\n",
       "      <th>anti_smith_antibody</th>\n",
       "      <th>label</th>\n",
       "    </tr>\n",
       "  </thead>\n",
       "  <tbody>\n",
       "    <tr>\n",
       "      <th>0</th>\n",
       "      <td>0</td>\n",
       "      <td>1</td>\n",
       "      <td>0</td>\n",
       "      <td>0</td>\n",
       "      <td>0</td>\n",
       "      <td>0</td>\n",
       "      <td>0</td>\n",
       "      <td>0</td>\n",
       "      <td>0</td>\n",
       "      <td>0</td>\n",
       "      <td>...</td>\n",
       "      <td>1</td>\n",
       "      <td>0</td>\n",
       "      <td>0</td>\n",
       "      <td>0</td>\n",
       "      <td>0</td>\n",
       "      <td>0</td>\n",
       "      <td>0</td>\n",
       "      <td>0</td>\n",
       "      <td>0</td>\n",
       "      <td>0</td>\n",
       "    </tr>\n",
       "    <tr>\n",
       "      <th>1</th>\n",
       "      <td>0</td>\n",
       "      <td>0</td>\n",
       "      <td>0</td>\n",
       "      <td>0</td>\n",
       "      <td>0</td>\n",
       "      <td>1</td>\n",
       "      <td>0</td>\n",
       "      <td>0</td>\n",
       "      <td>0</td>\n",
       "      <td>0</td>\n",
       "      <td>...</td>\n",
       "      <td>0</td>\n",
       "      <td>0</td>\n",
       "      <td>0</td>\n",
       "      <td>0</td>\n",
       "      <td>0</td>\n",
       "      <td>0</td>\n",
       "      <td>0</td>\n",
       "      <td>0</td>\n",
       "      <td>0</td>\n",
       "      <td>0</td>\n",
       "    </tr>\n",
       "    <tr>\n",
       "      <th>2</th>\n",
       "      <td>1</td>\n",
       "      <td>0</td>\n",
       "      <td>0</td>\n",
       "      <td>0</td>\n",
       "      <td>0</td>\n",
       "      <td>1</td>\n",
       "      <td>0</td>\n",
       "      <td>0</td>\n",
       "      <td>0</td>\n",
       "      <td>0</td>\n",
       "      <td>...</td>\n",
       "      <td>0</td>\n",
       "      <td>0</td>\n",
       "      <td>0</td>\n",
       "      <td>0</td>\n",
       "      <td>0</td>\n",
       "      <td>0</td>\n",
       "      <td>0</td>\n",
       "      <td>1</td>\n",
       "      <td>0</td>\n",
       "      <td>1</td>\n",
       "    </tr>\n",
       "    <tr>\n",
       "      <th>3</th>\n",
       "      <td>1</td>\n",
       "      <td>0</td>\n",
       "      <td>0</td>\n",
       "      <td>0</td>\n",
       "      <td>0</td>\n",
       "      <td>0</td>\n",
       "      <td>0</td>\n",
       "      <td>1</td>\n",
       "      <td>1</td>\n",
       "      <td>0</td>\n",
       "      <td>...</td>\n",
       "      <td>0</td>\n",
       "      <td>1</td>\n",
       "      <td>0</td>\n",
       "      <td>0</td>\n",
       "      <td>0</td>\n",
       "      <td>0</td>\n",
       "      <td>0</td>\n",
       "      <td>1</td>\n",
       "      <td>1</td>\n",
       "      <td>1</td>\n",
       "    </tr>\n",
       "    <tr>\n",
       "      <th>4</th>\n",
       "      <td>1</td>\n",
       "      <td>0</td>\n",
       "      <td>0</td>\n",
       "      <td>1</td>\n",
       "      <td>1</td>\n",
       "      <td>1</td>\n",
       "      <td>0</td>\n",
       "      <td>0</td>\n",
       "      <td>0</td>\n",
       "      <td>0</td>\n",
       "      <td>...</td>\n",
       "      <td>0</td>\n",
       "      <td>1</td>\n",
       "      <td>0</td>\n",
       "      <td>0</td>\n",
       "      <td>0</td>\n",
       "      <td>1</td>\n",
       "      <td>0</td>\n",
       "      <td>0</td>\n",
       "      <td>1</td>\n",
       "      <td>1</td>\n",
       "    </tr>\n",
       "  </tbody>\n",
       "</table>\n",
       "<p>5 rows × 24 columns</p>\n",
       "</div>"
      ],
      "text/plain": [
       "   ana  fever  leukopenia  thrombocytopenia  auto_immune_hemolysis  delirium  \\\n",
       "0    0      1           0                 0                      0         0   \n",
       "1    0      0           0                 0                      0         1   \n",
       "2    1      0           0                 0                      0         1   \n",
       "3    1      0           0                 0                      0         0   \n",
       "4    1      0           0                 1                      1         1   \n",
       "\n",
       "   psychosis  seizure  non_scarring_alopecia  oral_ulcers  ...  \\\n",
       "0          0        0                      0            0  ...   \n",
       "1          0        0                      0            0  ...   \n",
       "2          0        0                      0            0  ...   \n",
       "3          0        1                      1            0  ...   \n",
       "4          0        0                      0            0  ...   \n",
       "\n",
       "   joint_involvement  proteinuria  anti_cardioliphin_antibodies  \\\n",
       "0                  1            0                             0   \n",
       "1                  0            0                             0   \n",
       "2                  0            0                             0   \n",
       "3                  0            1                             0   \n",
       "4                  0            1                             0   \n",
       "\n",
       "   anti_β2gp1_antibodies  lupus_anti_coagulant  low_c3  low_c4  \\\n",
       "0                      0                     0       0       0   \n",
       "1                      0                     0       0       0   \n",
       "2                      0                     0       0       0   \n",
       "3                      0                     0       0       0   \n",
       "4                      0                     0       1       0   \n",
       "\n",
       "   anti_dsdna_antibody  anti_smith_antibody  label  \n",
       "0                    0                    0      0  \n",
       "1                    0                    0      0  \n",
       "2                    1                    0      1  \n",
       "3                    1                    1      1  \n",
       "4                    0                    1      1  \n",
       "\n",
       "[5 rows x 24 columns]"
      ]
     },
     "execution_count": 3,
     "metadata": {},
     "output_type": "execute_result"
    }
   ],
   "source": [
    "training_df = pd.read_csv('../data/missingness/0/training_set.csv')\n",
    "training_df.head()"
   ]
  },
  {
   "cell_type": "code",
   "execution_count": 4,
   "id": "7a4a6d06",
   "metadata": {},
   "outputs": [
    {
     "data": {
      "text/html": [
       "<div>\n",
       "<style scoped>\n",
       "    .dataframe tbody tr th:only-of-type {\n",
       "        vertical-align: middle;\n",
       "    }\n",
       "\n",
       "    .dataframe tbody tr th {\n",
       "        vertical-align: top;\n",
       "    }\n",
       "\n",
       "    .dataframe thead th {\n",
       "        text-align: right;\n",
       "    }\n",
       "</style>\n",
       "<table border=\"1\" class=\"dataframe\">\n",
       "  <thead>\n",
       "    <tr style=\"text-align: right;\">\n",
       "      <th></th>\n",
       "      <th>ana</th>\n",
       "      <th>fever</th>\n",
       "      <th>leukopenia</th>\n",
       "      <th>thrombocytopenia</th>\n",
       "      <th>auto_immune_hemolysis</th>\n",
       "      <th>delirium</th>\n",
       "      <th>psychosis</th>\n",
       "      <th>seizure</th>\n",
       "      <th>non_scarring_alopecia</th>\n",
       "      <th>oral_ulcers</th>\n",
       "      <th>...</th>\n",
       "      <th>joint_involvement</th>\n",
       "      <th>proteinuria</th>\n",
       "      <th>anti_cardioliphin_antibodies</th>\n",
       "      <th>anti_β2gp1_antibodies</th>\n",
       "      <th>lupus_anti_coagulant</th>\n",
       "      <th>low_c3</th>\n",
       "      <th>low_c4</th>\n",
       "      <th>anti_dsdna_antibody</th>\n",
       "      <th>anti_smith_antibody</th>\n",
       "      <th>label</th>\n",
       "    </tr>\n",
       "  </thead>\n",
       "  <tbody>\n",
       "    <tr>\n",
       "      <th>0</th>\n",
       "      <td>1</td>\n",
       "      <td>0</td>\n",
       "      <td>0</td>\n",
       "      <td>0</td>\n",
       "      <td>0</td>\n",
       "      <td>0</td>\n",
       "      <td>0</td>\n",
       "      <td>0</td>\n",
       "      <td>0</td>\n",
       "      <td>0</td>\n",
       "      <td>...</td>\n",
       "      <td>1</td>\n",
       "      <td>0</td>\n",
       "      <td>0</td>\n",
       "      <td>0</td>\n",
       "      <td>0</td>\n",
       "      <td>0</td>\n",
       "      <td>0</td>\n",
       "      <td>0</td>\n",
       "      <td>0</td>\n",
       "      <td>1</td>\n",
       "    </tr>\n",
       "    <tr>\n",
       "      <th>1</th>\n",
       "      <td>1</td>\n",
       "      <td>1</td>\n",
       "      <td>0</td>\n",
       "      <td>0</td>\n",
       "      <td>0</td>\n",
       "      <td>0</td>\n",
       "      <td>0</td>\n",
       "      <td>0</td>\n",
       "      <td>0</td>\n",
       "      <td>0</td>\n",
       "      <td>...</td>\n",
       "      <td>0</td>\n",
       "      <td>1</td>\n",
       "      <td>0</td>\n",
       "      <td>0</td>\n",
       "      <td>0</td>\n",
       "      <td>0</td>\n",
       "      <td>0</td>\n",
       "      <td>1</td>\n",
       "      <td>0</td>\n",
       "      <td>1</td>\n",
       "    </tr>\n",
       "    <tr>\n",
       "      <th>2</th>\n",
       "      <td>1</td>\n",
       "      <td>0</td>\n",
       "      <td>0</td>\n",
       "      <td>0</td>\n",
       "      <td>0</td>\n",
       "      <td>0</td>\n",
       "      <td>1</td>\n",
       "      <td>0</td>\n",
       "      <td>0</td>\n",
       "      <td>0</td>\n",
       "      <td>...</td>\n",
       "      <td>1</td>\n",
       "      <td>0</td>\n",
       "      <td>0</td>\n",
       "      <td>0</td>\n",
       "      <td>1</td>\n",
       "      <td>1</td>\n",
       "      <td>0</td>\n",
       "      <td>0</td>\n",
       "      <td>0</td>\n",
       "      <td>1</td>\n",
       "    </tr>\n",
       "    <tr>\n",
       "      <th>3</th>\n",
       "      <td>1</td>\n",
       "      <td>1</td>\n",
       "      <td>0</td>\n",
       "      <td>0</td>\n",
       "      <td>0</td>\n",
       "      <td>0</td>\n",
       "      <td>0</td>\n",
       "      <td>0</td>\n",
       "      <td>1</td>\n",
       "      <td>0</td>\n",
       "      <td>...</td>\n",
       "      <td>0</td>\n",
       "      <td>0</td>\n",
       "      <td>0</td>\n",
       "      <td>0</td>\n",
       "      <td>1</td>\n",
       "      <td>0</td>\n",
       "      <td>0</td>\n",
       "      <td>1</td>\n",
       "      <td>0</td>\n",
       "      <td>1</td>\n",
       "    </tr>\n",
       "    <tr>\n",
       "      <th>4</th>\n",
       "      <td>1</td>\n",
       "      <td>0</td>\n",
       "      <td>0</td>\n",
       "      <td>0</td>\n",
       "      <td>0</td>\n",
       "      <td>0</td>\n",
       "      <td>0</td>\n",
       "      <td>0</td>\n",
       "      <td>1</td>\n",
       "      <td>0</td>\n",
       "      <td>...</td>\n",
       "      <td>1</td>\n",
       "      <td>0</td>\n",
       "      <td>0</td>\n",
       "      <td>0</td>\n",
       "      <td>0</td>\n",
       "      <td>1</td>\n",
       "      <td>0</td>\n",
       "      <td>0</td>\n",
       "      <td>0</td>\n",
       "      <td>1</td>\n",
       "    </tr>\n",
       "  </tbody>\n",
       "</table>\n",
       "<p>5 rows × 24 columns</p>\n",
       "</div>"
      ],
      "text/plain": [
       "   ana  fever  leukopenia  thrombocytopenia  auto_immune_hemolysis  delirium  \\\n",
       "0    1      0           0                 0                      0         0   \n",
       "1    1      1           0                 0                      0         0   \n",
       "2    1      0           0                 0                      0         0   \n",
       "3    1      1           0                 0                      0         0   \n",
       "4    1      0           0                 0                      0         0   \n",
       "\n",
       "   psychosis  seizure  non_scarring_alopecia  oral_ulcers  ...  \\\n",
       "0          0        0                      0            0  ...   \n",
       "1          0        0                      0            0  ...   \n",
       "2          1        0                      0            0  ...   \n",
       "3          0        0                      1            0  ...   \n",
       "4          0        0                      1            0  ...   \n",
       "\n",
       "   joint_involvement  proteinuria  anti_cardioliphin_antibodies  \\\n",
       "0                  1            0                             0   \n",
       "1                  0            1                             0   \n",
       "2                  1            0                             0   \n",
       "3                  0            0                             0   \n",
       "4                  1            0                             0   \n",
       "\n",
       "   anti_β2gp1_antibodies  lupus_anti_coagulant  low_c3  low_c4  \\\n",
       "0                      0                     0       0       0   \n",
       "1                      0                     0       0       0   \n",
       "2                      0                     1       1       0   \n",
       "3                      0                     1       0       0   \n",
       "4                      0                     0       1       0   \n",
       "\n",
       "   anti_dsdna_antibody  anti_smith_antibody  label  \n",
       "0                    0                    0      1  \n",
       "1                    1                    0      1  \n",
       "2                    0                    0      1  \n",
       "3                    1                    0      1  \n",
       "4                    0                    0      1  \n",
       "\n",
       "[5 rows x 24 columns]"
      ]
     },
     "execution_count": 4,
     "metadata": {},
     "output_type": "execute_result"
    }
   ],
   "source": [
    "testing_df = pd.read_csv('../data/missingness/0/testing_set.csv')\n",
    "testing_df.head()"
   ]
  },
  {
   "cell_type": "code",
   "execution_count": 5,
   "id": "e0202e0c",
   "metadata": {},
   "outputs": [
    {
     "data": {
      "text/html": [
       "<div>\n",
       "<style scoped>\n",
       "    .dataframe tbody tr th:only-of-type {\n",
       "        vertical-align: middle;\n",
       "    }\n",
       "\n",
       "    .dataframe tbody tr th {\n",
       "        vertical-align: top;\n",
       "    }\n",
       "\n",
       "    .dataframe thead th {\n",
       "        text-align: right;\n",
       "    }\n",
       "</style>\n",
       "<table border=\"1\" class=\"dataframe\">\n",
       "  <thead>\n",
       "    <tr style=\"text-align: right;\">\n",
       "      <th></th>\n",
       "      <th>index</th>\n",
       "      <th>episode_length</th>\n",
       "      <th>reward</th>\n",
       "      <th>y_pred</th>\n",
       "      <th>y_actual</th>\n",
       "      <th>trajectory</th>\n",
       "      <th>terminated</th>\n",
       "      <th>is_success</th>\n",
       "    </tr>\n",
       "  </thead>\n",
       "  <tbody>\n",
       "    <tr>\n",
       "      <th>0</th>\n",
       "      <td>0.0</td>\n",
       "      <td>6.0</td>\n",
       "      <td>0.861111</td>\n",
       "      <td>1.0</td>\n",
       "      <td>1.0</td>\n",
       "      <td>['ana', 'proteinuria', 'cutaneous_lupus', 'ant...</td>\n",
       "      <td>0.0</td>\n",
       "      <td>1.0</td>\n",
       "    </tr>\n",
       "    <tr>\n",
       "      <th>1</th>\n",
       "      <td>1.0</td>\n",
       "      <td>14.0</td>\n",
       "      <td>0.638889</td>\n",
       "      <td>1.0</td>\n",
       "      <td>1.0</td>\n",
       "      <td>['ana', 'proteinuria', 'non_scarring_alopecia'...</td>\n",
       "      <td>0.0</td>\n",
       "      <td>1.0</td>\n",
       "    </tr>\n",
       "    <tr>\n",
       "      <th>2</th>\n",
       "      <td>2.0</td>\n",
       "      <td>12.0</td>\n",
       "      <td>0.694444</td>\n",
       "      <td>1.0</td>\n",
       "      <td>1.0</td>\n",
       "      <td>['ana', 'proteinuria', 'cutaneous_lupus', 'per...</td>\n",
       "      <td>0.0</td>\n",
       "      <td>1.0</td>\n",
       "    </tr>\n",
       "    <tr>\n",
       "      <th>3</th>\n",
       "      <td>3.0</td>\n",
       "      <td>18.0</td>\n",
       "      <td>0.527778</td>\n",
       "      <td>1.0</td>\n",
       "      <td>1.0</td>\n",
       "      <td>['ana', 'proteinuria', 'cutaneous_lupus', 'per...</td>\n",
       "      <td>0.0</td>\n",
       "      <td>1.0</td>\n",
       "    </tr>\n",
       "    <tr>\n",
       "      <th>4</th>\n",
       "      <td>4.0</td>\n",
       "      <td>14.0</td>\n",
       "      <td>0.638889</td>\n",
       "      <td>1.0</td>\n",
       "      <td>1.0</td>\n",
       "      <td>['ana', 'proteinuria', 'cutaneous_lupus', 'per...</td>\n",
       "      <td>0.0</td>\n",
       "      <td>1.0</td>\n",
       "    </tr>\n",
       "  </tbody>\n",
       "</table>\n",
       "</div>"
      ],
      "text/plain": [
       "   index  episode_length    reward  y_pred  y_actual  \\\n",
       "0    0.0             6.0  0.861111     1.0       1.0   \n",
       "1    1.0            14.0  0.638889     1.0       1.0   \n",
       "2    2.0            12.0  0.694444     1.0       1.0   \n",
       "3    3.0            18.0  0.527778     1.0       1.0   \n",
       "4    4.0            14.0  0.638889     1.0       1.0   \n",
       "\n",
       "                                          trajectory  terminated  is_success  \n",
       "0  ['ana', 'proteinuria', 'cutaneous_lupus', 'ant...         0.0         1.0  \n",
       "1  ['ana', 'proteinuria', 'non_scarring_alopecia'...         0.0         1.0  \n",
       "2  ['ana', 'proteinuria', 'cutaneous_lupus', 'per...         0.0         1.0  \n",
       "3  ['ana', 'proteinuria', 'cutaneous_lupus', 'per...         0.0         1.0  \n",
       "4  ['ana', 'proteinuria', 'cutaneous_lupus', 'per...         0.0         1.0  "
      ]
     },
     "execution_count": 5,
     "metadata": {},
     "output_type": "execute_result"
    }
   ],
   "source": [
    "model_test_df = pd.read_csv('../test_dfs/negative_reward/step_24_correct_1_incorrect_-1.csv')#.drop(['index'], axis=1)\n",
    "model_test_df.head()"
   ]
  },
  {
   "cell_type": "code",
   "execution_count": 6,
   "id": "d398d830",
   "metadata": {},
   "outputs": [
    {
     "data": {
      "text/plain": [
       "94.85"
      ]
     },
     "execution_count": 6,
     "metadata": {},
     "output_type": "execute_result"
    }
   ],
   "source": [
    "utils.success_rate(model_test_df)[0]"
   ]
  },
  {
   "cell_type": "code",
   "execution_count": 7,
   "id": "8c45f3a4",
   "metadata": {},
   "outputs": [
    {
     "data": {
      "text/plain": [
       "\"['ana', 'proteinuria', 'cutaneous_lupus', 'anti_smith_antibody', 'joint_involvement', 'Lupus']\""
      ]
     },
     "execution_count": 7,
     "metadata": {},
     "output_type": "execute_result"
    }
   ],
   "source": [
    "model_test_df.iloc[0]['trajectory']"
   ]
  },
  {
   "cell_type": "code",
   "execution_count": 8,
   "id": "3cd70fab",
   "metadata": {},
   "outputs": [
    {
     "data": {
      "text/plain": [
       "3954"
      ]
     },
     "execution_count": 8,
     "metadata": {},
     "output_type": "execute_result"
    }
   ],
   "source": [
    "len(model_test_df[model_test_df.trajectory == \"['ana', 'No lupus']\"])"
   ]
  },
  {
   "cell_type": "code",
   "execution_count": 9,
   "id": "47cf4e2a",
   "metadata": {},
   "outputs": [
    {
     "data": {
      "text/plain": [
       "3954"
      ]
     },
     "execution_count": 9,
     "metadata": {},
     "output_type": "execute_result"
    }
   ],
   "source": [
    "len(testing_df[testing_df.ana==0])"
   ]
  },
  {
   "cell_type": "markdown",
   "id": "dfa2eb82",
   "metadata": {},
   "source": [
    "#### Episode length == 2"
   ]
  },
  {
   "cell_type": "code",
   "execution_count": null,
   "id": "da38cffa",
   "metadata": {},
   "outputs": [],
   "source": [
    "length_2 = model_test_df[model_test_df.episode_length==2]\n",
    "length_2.trajectory.value_counts()"
   ]
  },
  {
   "cell_type": "markdown",
   "id": "285e7962",
   "metadata": {},
   "source": [
    "#### Episode length == 3"
   ]
  },
  {
   "cell_type": "code",
   "execution_count": null,
   "id": "b4b2631e",
   "metadata": {},
   "outputs": [],
   "source": [
    "length_3 = model_test_df[model_test_df.episode_length==3]\n",
    "length_3.trajectory.value_counts()"
   ]
  },
  {
   "cell_type": "code",
   "execution_count": null,
   "id": "17c5920a",
   "metadata": {},
   "outputs": [],
   "source": [
    "length_4 = model_test_df[model_test_df.episode_length==7]\n",
    "length_4.trajectory.value_counts()"
   ]
  },
  {
   "cell_type": "code",
   "execution_count": null,
   "id": "6ce9fa22",
   "metadata": {},
   "outputs": [],
   "source": [
    "sampling=testing_df.loc[length_4.index]\n",
    "sampling.leukopenia.value_counts()"
   ]
  },
  {
   "cell_type": "markdown",
   "id": "12eefbde",
   "metadata": {},
   "source": [
    "#### Misdiagnosed episodes"
   ]
  },
  {
   "cell_type": "code",
   "execution_count": null,
   "id": "0f1e1690",
   "metadata": {},
   "outputs": [],
   "source": [
    "misdiag_df = model_test_df[model_test_df.y_actual != model_test_df.y_pred]\n",
    "misdiag_df.head()"
   ]
  },
  {
   "cell_type": "code",
   "execution_count": null,
   "id": "345849ca",
   "metadata": {},
   "outputs": [],
   "source": [
    "misdiag_0_df = misdiag_df[misdiag_df.y_pred==0]\n",
    "misdiag_1_df = misdiag_df[misdiag_df.y_pred==1]"
   ]
  },
  {
   "cell_type": "code",
   "execution_count": null,
   "id": "9766f820",
   "metadata": {},
   "outputs": [],
   "source": [
    "misdiag_0_df.trajectory.value_counts()[:5]"
   ]
  },
  {
   "cell_type": "code",
   "execution_count": null,
   "id": "4ef83537",
   "metadata": {},
   "outputs": [],
   "source": [
    "misdiag_1_df.trajectory.value_counts()[:5]"
   ]
  },
  {
   "cell_type": "markdown",
   "id": "5a3cc9e6",
   "metadata": {},
   "source": [
    "#### ANA = 1 Diagnosis = 0"
   ]
  },
  {
   "cell_type": "code",
   "execution_count": null,
   "id": "f8c66b42",
   "metadata": {},
   "outputs": [],
   "source": [
    "ana_1_df = testing_df[(testing_df.ana==1)&(testing_df.label==0)]\n",
    "len(ana_1_df)"
   ]
  },
  {
   "cell_type": "code",
   "execution_count": null,
   "id": "7259fa8a",
   "metadata": {},
   "outputs": [],
   "source": [
    "ana_1_model_df = model_test_df.loc[ana_1_df.index]"
   ]
  },
  {
   "cell_type": "code",
   "execution_count": null,
   "id": "69af9348",
   "metadata": {},
   "outputs": [],
   "source": [
    "ana_1_model_df.trajectory.value_counts()[:5]"
   ]
  },
  {
   "cell_type": "code",
   "execution_count": null,
   "id": "cd841371",
   "metadata": {},
   "outputs": [],
   "source": [
    "utils.plot_confusion_matrix(ana_1_model_df['y_actual'], ana_1_model_df['y_pred'])"
   ]
  },
  {
   "cell_type": "markdown",
   "id": "ddc7452f",
   "metadata": {},
   "source": [
    "## Analyzing pathways vs my data"
   ]
  },
  {
   "cell_type": "markdown",
   "id": "ccc5ac77",
   "metadata": {},
   "source": [
    "### Pathways that end in a No lupus diagnosis"
   ]
  },
  {
   "cell_type": "code",
   "execution_count": 10,
   "id": "fbdee614",
   "metadata": {},
   "outputs": [],
   "source": [
    "model_copy_df = model_test_df.copy(deep=True)\n",
    "# model_copy_df['trajectory'] = model_copy_df.trajectory.apply(ast.literal_eval)"
   ]
  },
  {
   "cell_type": "code",
   "execution_count": 11,
   "id": "475d70ba",
   "metadata": {},
   "outputs": [
    {
     "data": {
      "text/plain": [
       "0.0    7818\n",
       "1.0    6182\n",
       "Name: y_pred, dtype: int64"
      ]
     },
     "execution_count": 11,
     "metadata": {},
     "output_type": "execute_result"
    }
   ],
   "source": [
    "model_copy_df.y_pred.value_counts()"
   ]
  },
  {
   "cell_type": "code",
   "execution_count": 12,
   "id": "a33cb450",
   "metadata": {},
   "outputs": [
    {
     "data": {
      "text/plain": [
       "['ana', 'No lupus']                                                                                                                                                                                                                             3954\n",
       "['ana', 'proteinuria', 'cutaneous_lupus', 'pericardial_effusion', 'low_c3', 'anti_smith_antibody', 'non_scarring_alopecia', 'low_c4', 'leukopenia', 'joint_involvement', 'No lupus']                                                             743\n",
       "['ana', 'proteinuria', 'cutaneous_lupus', 'pericardial_effusion', 'low_c3', 'anti_smith_antibody', 'non_scarring_alopecia', 'joint_involvement', 'low_c4', 'leukopenia', 'thrombocytopenia', 'anti_dsdna_antibody', 'No lupus']                  349\n",
       "['ana', 'proteinuria', 'cutaneous_lupus', 'pericardial_effusion', 'low_c3', 'anti_smith_antibody', 'non_scarring_alopecia', 'low_c4', 'leukopenia', 'psychosis', 'joint_involvement', 'thrombocytopenia', 'anti_dsdna_antibody', 'No lupus']     188\n",
       "['ana', 'proteinuria', 'cutaneous_lupus', 'pericardial_effusion', 'low_c3', 'anti_smith_antibody', 'leukopenia', 'non_scarring_alopecia', 'low_c4', 'joint_involvement', 'anti_dsdna_antibody', 'No lupus']                                      159\n",
       "Name: trajectory, dtype: int64"
      ]
     },
     "execution_count": 12,
     "metadata": {},
     "output_type": "execute_result"
    }
   ],
   "source": [
    "pred_no_lupus = model_copy_df[model_copy_df['y_pred']==0]\n",
    "pred_no_lupus.trajectory.value_counts()[:5]"
   ]
  },
  {
   "cell_type": "code",
   "execution_count": null,
   "id": "3c15e141",
   "metadata": {},
   "outputs": [],
   "source": [
    "pred_no_lupus[pred_no_lupus.episode_length!=2].episode_length.mean()"
   ]
  },
  {
   "cell_type": "markdown",
   "id": "7d9c6406",
   "metadata": {},
   "source": [
    "#### Pathway 0"
   ]
  },
  {
   "cell_type": "code",
   "execution_count": null,
   "id": "773484df",
   "metadata": {},
   "outputs": [],
   "source": [
    "no_lupus_pathway_0 = pred_no_lupus.trajectory.value_counts().index[0]\n",
    "no_lupus_pathway_0"
   ]
  },
  {
   "cell_type": "code",
   "execution_count": null,
   "id": "cb6390b8",
   "metadata": {},
   "outputs": [],
   "source": [
    "no_lupus_pathway_0_training_df = training_df[training_df.ana == 0]\n",
    "no_lupus_pathway_0_training_df.head()"
   ]
  },
  {
   "cell_type": "code",
   "execution_count": null,
   "id": "835a65b0",
   "metadata": {},
   "outputs": [],
   "source": [
    "len(no_lupus_pathway_0_training_df)"
   ]
  },
  {
   "cell_type": "code",
   "execution_count": null,
   "id": "840535d8",
   "metadata": {},
   "outputs": [],
   "source": [
    "len(no_lupus_pathway_0_training_df[no_lupus_pathway_0_training_df.label==0])*100/len(no_lupus_pathway_0_training_df)"
   ]
  },
  {
   "cell_type": "markdown",
   "id": "a84854ca",
   "metadata": {},
   "source": [
    "#### Pathway 1"
   ]
  },
  {
   "cell_type": "code",
   "execution_count": null,
   "id": "38cf017d",
   "metadata": {},
   "outputs": [],
   "source": [
    "no_lupus_pathway_1 = pred_no_lupus.trajectory.value_counts().index[1]\n",
    "no_lupus_pathway_1"
   ]
  },
  {
   "cell_type": "code",
   "execution_count": null,
   "id": "e187f95a",
   "metadata": {},
   "outputs": [],
   "source": [
    "no_lupus_pathway_1_training_df = training_df[(((((training_df.ana==1)&(training_df.leukopenia==0))&(training_df.joint_involvement==0))&(training_df.pericardial_effusion==0))&(training_df.proteinuria==0))&(training_df.anti_dsdna_antibody==0)]\n",
    "no_lupus_pathway_1_training_df.head()"
   ]
  },
  {
   "cell_type": "code",
   "execution_count": null,
   "id": "b8fcc258",
   "metadata": {},
   "outputs": [],
   "source": [
    "no_lupus_pathway_1_training_df.label.value_counts()"
   ]
  },
  {
   "cell_type": "code",
   "execution_count": null,
   "id": "fae06be3",
   "metadata": {},
   "outputs": [],
   "source": [
    "len(no_lupus_pathway_1_training_df[no_lupus_pathway_1_training_df.label==0])*100/len(no_lupus_pathway_1_training_df)"
   ]
  },
  {
   "cell_type": "markdown",
   "id": "80b934a9",
   "metadata": {},
   "source": [
    "#### Pathway 2"
   ]
  },
  {
   "cell_type": "code",
   "execution_count": null,
   "id": "223c799e",
   "metadata": {},
   "outputs": [],
   "source": [
    "no_lupus_pathway_2 = pred_no_lupus.trajectory.value_counts().index[2]\n",
    "no_lupus_pathway_2"
   ]
  },
  {
   "cell_type": "code",
   "execution_count": null,
   "id": "c714a82f",
   "metadata": {},
   "outputs": [],
   "source": [
    "no_lupus_pathway_2_training_df = training_df[((((((((((training_df.ana==1)&(training_df.leukopenia==1))&(training_df.psychosis==0))&(training_df.cutaneous_lupus==0))&(training_df.auto_immune_hemolysis==0))&(training_df.proteinuria==0))&(training_df.anti_β2gp1_antibodies==0))&(training_df.seizure==0))&(training_df.anti_dsdna_antibody==0))&(training_df.pericardial_effusion==0))&(training_df.joint_involvement==0)]\n",
    "no_lupus_pathway_2_training_df.head()"
   ]
  },
  {
   "cell_type": "code",
   "execution_count": null,
   "id": "26bda7c1",
   "metadata": {},
   "outputs": [],
   "source": [
    "len(no_lupus_pathway_2_training_df[no_lupus_pathway_2_training_df.label==0])*100/len(no_lupus_pathway_2_training_df)"
   ]
  },
  {
   "cell_type": "markdown",
   "id": "75b571b6",
   "metadata": {},
   "source": [
    "#### Pathway 3"
   ]
  },
  {
   "cell_type": "code",
   "execution_count": null,
   "id": "3dea5ba6",
   "metadata": {},
   "outputs": [],
   "source": [
    "no_lupus_pathway_3 = pred_no_lupus.trajectory.value_counts().index[3]\n",
    "no_lupus_pathway_3"
   ]
  },
  {
   "cell_type": "code",
   "execution_count": null,
   "id": "e218d55d",
   "metadata": {},
   "outputs": [],
   "source": [
    "no_lupus_pathway_3_training_df = training_df[((((((((((training_df.ana==1)&(training_df.leukopenia==0))&(training_df.joint_involvement==0))&(training_df.psychosis==0))&(training_df.pericardial_effusion==0))&(training_df.proteinuria==1))&(training_df.cutaneous_lupus==0))&(training_df.seizure==0))&(training_df.pleural_effusion==0))&(training_df.anti_dsdna_antibody==0)) & (training_df.non_scarring_alopecia==0)]\n",
    "no_lupus_pathway_3_training_df.head()"
   ]
  },
  {
   "cell_type": "code",
   "execution_count": null,
   "id": "c618d462",
   "metadata": {},
   "outputs": [],
   "source": [
    "len(no_lupus_pathway_3_training_df)"
   ]
  },
  {
   "cell_type": "code",
   "execution_count": null,
   "id": "6c49d3ff",
   "metadata": {},
   "outputs": [],
   "source": [
    "len(no_lupus_pathway_3_training_df[no_lupus_pathway_3_training_df.label==0])*100/len(no_lupus_pathway_3_training_df)"
   ]
  },
  {
   "cell_type": "markdown",
   "id": "07d4c081",
   "metadata": {},
   "source": [
    "#### Pathway 4"
   ]
  },
  {
   "cell_type": "code",
   "execution_count": null,
   "id": "1e327773",
   "metadata": {},
   "outputs": [],
   "source": [
    "no_lupus_pathway_4 = pred_no_lupus.trajectory.value_counts().index[4]\n",
    "no_lupus_pathway_4"
   ]
  },
  {
   "cell_type": "code",
   "execution_count": null,
   "id": "30e46e42",
   "metadata": {},
   "outputs": [],
   "source": [
    "no_lupus_pathway_4_training_df = training_df[((((((((((((training_df.ana==1)&(training_df.leukopenia==0))&(training_df.joint_involvement==0))&(training_df.psychosis==0))&(training_df.pericardial_effusion==1))&(training_df.seizure==0))&(training_df.auto_immune_hemolysis==0))&(training_df.delirium==0))&(training_df.anti_dsdna_antibody==0))&(training_df.low_c4==0))&(training_df.proteinuria==0))&(training_df.cutaneous_lupus==0))&(training_df.low_c3==0)]\n",
    "no_lupus_pathway_4_training_df.head()"
   ]
  },
  {
   "cell_type": "code",
   "execution_count": null,
   "id": "64819f1c",
   "metadata": {},
   "outputs": [],
   "source": [
    "len(no_lupus_pathway_4_training_df)"
   ]
  },
  {
   "cell_type": "code",
   "execution_count": null,
   "id": "aa6bc963",
   "metadata": {},
   "outputs": [],
   "source": [
    "len(no_lupus_pathway_4_training_df[no_lupus_pathway_4_training_df.label==0])*100/len(no_lupus_pathway_4_training_df)"
   ]
  },
  {
   "cell_type": "markdown",
   "id": "fcd66979",
   "metadata": {},
   "source": [
    "#### The shortest No lupus pathway # episode length == 11"
   ]
  },
  {
   "cell_type": "code",
   "execution_count": null,
   "id": "96f71a1c",
   "metadata": {},
   "outputs": [],
   "source": [
    "pred_no_lupus.episode_length.unique()"
   ]
  },
  {
   "cell_type": "code",
   "execution_count": null,
   "id": "29e7b8ea",
   "metadata": {},
   "outputs": [],
   "source": [
    "pred_no_lupus[pred_no_lupus.episode_length==11].trajectory.unique()"
   ]
  },
  {
   "cell_type": "markdown",
   "id": "b5d950bd",
   "metadata": {},
   "source": [
    "#### The longest No lupus pathway"
   ]
  },
  {
   "cell_type": "code",
   "execution_count": null,
   "id": "3aeb9fe3",
   "metadata": {},
   "outputs": [],
   "source": [
    "pred_no_lupus[pred_no_lupus.episode_length==pred_no_lupus.episode_length.max()].trajectory.unique()"
   ]
  },
  {
   "cell_type": "markdown",
   "id": "79ee3a48",
   "metadata": {},
   "source": [
    "### Pathways that end in a Lupus diagnosis"
   ]
  },
  {
   "cell_type": "code",
   "execution_count": 13,
   "id": "b4dea0fc",
   "metadata": {},
   "outputs": [],
   "source": [
    "pred_lupus = model_copy_df[model_copy_df['y_pred']==1]"
   ]
  },
  {
   "cell_type": "code",
   "execution_count": 14,
   "id": "6ac3a5b8",
   "metadata": {},
   "outputs": [
    {
     "data": {
      "text/plain": [
       "0.5258411517308185"
      ]
     },
     "execution_count": 14,
     "metadata": {},
     "output_type": "execute_result"
    }
   ],
   "source": [
    "pred_lupus.reward.mean()"
   ]
  },
  {
   "cell_type": "markdown",
   "id": "0ee76be4",
   "metadata": {},
   "source": [
    "#### Pathway 0"
   ]
  },
  {
   "cell_type": "code",
   "execution_count": null,
   "id": "f3d3f369",
   "metadata": {},
   "outputs": [],
   "source": [
    "lupus_pathway_0 = pred_lupus.trajectory.value_counts().index[0]\n",
    "lupus_pathway_0"
   ]
  },
  {
   "cell_type": "code",
   "execution_count": null,
   "id": "679bbd75",
   "metadata": {},
   "outputs": [],
   "source": [
    "lupus_pathway_0_training_df = training_df[((((((training_df.ana == 1)&(training_df.leukopenia==0))&(training_df.joint_involvement==1))&(training_df.seizure==0))&(training_df.delirium==1))&(training_df.psychosis==0))&(training_df.anti_β2gp1_antibodies==0)]\n",
    "lupus_pathway_0_training_df.head()"
   ]
  },
  {
   "cell_type": "code",
   "execution_count": null,
   "id": "04fad27f",
   "metadata": {},
   "outputs": [],
   "source": [
    "len(lupus_pathway_0_training_df)"
   ]
  },
  {
   "cell_type": "code",
   "execution_count": null,
   "id": "b91bcf40",
   "metadata": {},
   "outputs": [],
   "source": [
    "len(lupus_pathway_0_training_df[lupus_pathway_0_training_df.label==1])*100/len(lupus_pathway_0_training_df)"
   ]
  },
  {
   "cell_type": "markdown",
   "id": "be1bd190",
   "metadata": {},
   "source": [
    "#### Pathway 1"
   ]
  },
  {
   "cell_type": "code",
   "execution_count": null,
   "id": "b97c7d29",
   "metadata": {},
   "outputs": [],
   "source": [
    "lupus_pathway_1 = pred_lupus.trajectory.value_counts().index[1]\n",
    "lupus_pathway_1"
   ]
  },
  {
   "cell_type": "code",
   "execution_count": null,
   "id": "f5789f55",
   "metadata": {},
   "outputs": [],
   "source": [
    "lupus_pathway_1_training_df = training_df[(((((((((training_df.ana==1)&(training_df.leukopenia==1))&(training_df.psychosis==0))&(training_df.cutaneous_lupus==0))&(training_df.auto_immune_hemolysis==0))&(training_df.proteinuria==0))&(training_df.anti_β2gp1_antibodies==0))&(training_df.seizure==0))&(training_df.anti_dsdna_antibody==1))&(training_df.pericardial_effusion==1)]\n",
    "lupus_pathway_1_training_df.head()"
   ]
  },
  {
   "cell_type": "code",
   "execution_count": null,
   "id": "2a83bad6",
   "metadata": {},
   "outputs": [],
   "source": [
    "len(lupus_pathway_1_training_df)"
   ]
  },
  {
   "cell_type": "code",
   "execution_count": null,
   "id": "7977a1c1",
   "metadata": {},
   "outputs": [],
   "source": [
    "len(lupus_pathway_1_training_df[lupus_pathway_1_training_df.label==1])*100/len(lupus_pathway_1_training_df)"
   ]
  },
  {
   "cell_type": "markdown",
   "id": "2d79619a",
   "metadata": {},
   "source": [
    "#### Pathway 2"
   ]
  },
  {
   "cell_type": "code",
   "execution_count": null,
   "id": "c8ff95e9",
   "metadata": {},
   "outputs": [],
   "source": [
    "lupus_pathway_2 = pred_lupus.trajectory.value_counts().index[2]\n",
    "lupus_pathway_2"
   ]
  },
  {
   "cell_type": "code",
   "execution_count": null,
   "id": "c157a5d6",
   "metadata": {},
   "outputs": [],
   "source": [
    "lupus_pathway_2_training_df = training_df[((((((training_df.ana==1)&(training_df.leukopenia==0))&(training_df.joint_involvement==1))&(training_df.seizure==0))&(training_df.delirium==0))&(training_df.psychosis==0))&(training_df.pericardial_effusion==1)]\n",
    "lupus_pathway_2_training_df.head()"
   ]
  },
  {
   "cell_type": "code",
   "execution_count": null,
   "id": "4f1d9880",
   "metadata": {},
   "outputs": [],
   "source": [
    "len(lupus_pathway_2_training_df)"
   ]
  },
  {
   "cell_type": "code",
   "execution_count": null,
   "id": "8a1128bc",
   "metadata": {},
   "outputs": [],
   "source": [
    "len(lupus_pathway_2_training_df[lupus_pathway_2_training_df.label==1])*100/len(lupus_pathway_2_training_df)"
   ]
  },
  {
   "cell_type": "markdown",
   "id": "6353d3ed",
   "metadata": {},
   "source": [
    "#### Pathway 3"
   ]
  },
  {
   "cell_type": "code",
   "execution_count": null,
   "id": "e3b55523",
   "metadata": {},
   "outputs": [],
   "source": [
    "lupus_pathway_3 = pred_lupus.trajectory.value_counts().index[3]\n",
    "lupus_pathway_3"
   ]
  },
  {
   "cell_type": "code",
   "execution_count": null,
   "id": "84dc91b8",
   "metadata": {},
   "outputs": [],
   "source": [
    "lupus_pathway_3_training_df = training_df[((((((((((((training_df.ana==1)&(training_df.leukopenia==0))&(training_df.joint_involvement==1))&(training_df.seizure==0))&(training_df.delirium==0))&(training_df.psychosis==0))&(training_df.pericardial_effusion==0))&(training_df.cutaneous_lupus==0))&(training_df.auto_immune_hemolysis==0))&(training_df.fever==0))&(training_df.non_scarring_alopecia==1))&(training_df.lupus_anti_coagulant==0))&(training_df.anti_β2gp1_antibodies==1)]\n",
    "lupus_pathway_3_training_df.head()"
   ]
  },
  {
   "cell_type": "code",
   "execution_count": null,
   "id": "9bb62638",
   "metadata": {},
   "outputs": [],
   "source": [
    "len(lupus_pathway_3_training_df)"
   ]
  },
  {
   "cell_type": "code",
   "execution_count": null,
   "id": "4c7cf91a",
   "metadata": {},
   "outputs": [],
   "source": [
    "len(lupus_pathway_3_training_df[lupus_pathway_3_training_df.label==1])*100/len(lupus_pathway_3_training_df)"
   ]
  },
  {
   "cell_type": "markdown",
   "id": "03afb2a0",
   "metadata": {},
   "source": [
    "#### Pathway 4"
   ]
  },
  {
   "cell_type": "code",
   "execution_count": null,
   "id": "57a2fc86",
   "metadata": {},
   "outputs": [],
   "source": [
    "lupus_pathway_4 = pred_lupus.trajectory.value_counts().index[4]\n",
    "lupus_pathway_4"
   ]
  },
  {
   "cell_type": "code",
   "execution_count": null,
   "id": "b06d295c",
   "metadata": {},
   "outputs": [],
   "source": [
    "lupus_pathway_4_training_df = training_df[((((((((training_df.ana==1)&(training_df.leukopenia==0))&(training_df.joint_involvement==0))&(training_df.psychosis==0))&(training_df.pericardial_effusion==0))&(training_df.proteinuria==1))&(training_df.seizure==0))&(training_df.pleural_effusion==0))&(training_df.anti_dsdna_antibody==1)]\n",
    "lupus_pathway_4_training_df.head()"
   ]
  },
  {
   "cell_type": "code",
   "execution_count": null,
   "id": "61fe9634",
   "metadata": {},
   "outputs": [],
   "source": [
    "len(lupus_pathway_4_training_df)"
   ]
  },
  {
   "cell_type": "code",
   "execution_count": null,
   "id": "96446acf",
   "metadata": {},
   "outputs": [],
   "source": [
    "len(lupus_pathway_4_training_df[lupus_pathway_4_training_df.label==1])*100/len(lupus_pathway_4_training_df)"
   ]
  },
  {
   "cell_type": "markdown",
   "id": "6a77f1fc",
   "metadata": {},
   "source": [
    "#### Longest lupus pathway - only one episode"
   ]
  },
  {
   "cell_type": "code",
   "execution_count": null,
   "id": "6f6cbcf9",
   "metadata": {},
   "outputs": [],
   "source": [
    "pred_lupus.episode_length.max()"
   ]
  },
  {
   "cell_type": "code",
   "execution_count": null,
   "id": "2f5d6610",
   "metadata": {},
   "outputs": [],
   "source": [
    "longest_lupus_pathway = pred_lupus[pred_lupus.episode_length==pred_lupus.episode_length.max()].iloc[0]['trajectory']\n",
    "longest_lupus_pathway"
   ]
  },
  {
   "cell_type": "code",
   "execution_count": null,
   "id": "a7a50c1f",
   "metadata": {},
   "outputs": [],
   "source": [
    "longest_lupus_pathway_4_training_df = training_df[(((((((((((((((training_df.ana==1)&(training_df.seizure==0))&(training_df.anti_dsdna_antibody==0))&(training_df.cutaneous_lupus==0))&(training_df.non_scarring_alopecia==0))&(training_df.proteinuria==0))&(training_df.anti_smith_antibody==0))&(training_df.thrombocytopenia==0))&(training_df.pericardial_effusion==0))&(training_df.lupus_anti_coagulant==0))&(training_df.pleural_effusion==0))&(training_df.joint_involvement==1))&(training_df.low_c3==0))&(training_df.psychosis==0))&(training_df.leukopenia==0))&(training_df.low_c4==0)]\n",
    "longest_lupus_pathway_4_training_df.head()"
   ]
  },
  {
   "cell_type": "code",
   "execution_count": null,
   "id": "674122c6",
   "metadata": {},
   "outputs": [],
   "source": [
    "# no_lupus_pathway_2_indices = pred_no_lupus[pred_no_lupus.trajectory == no_lupus_pathway_2].index\n",
    "# no_lupus_pathway_2_indices[:5]"
   ]
  },
  {
   "cell_type": "code",
   "execution_count": null,
   "id": "555a0d5f",
   "metadata": {},
   "outputs": [],
   "source": [
    "# no_lupus_pathway_2_testing_df = testing_df.loc[no_lupus_pathway_2_indices]\n",
    "# no_lupus_pathway_2_testing_df['score'] = no_lupus_pathway_2_testing_df.apply(lambda row: compute_score(row), axis=1)\n",
    "# no_lupus_pathway_2_testing_df.head()"
   ]
  },
  {
   "cell_type": "code",
   "execution_count": null,
   "id": "5169558d",
   "metadata": {},
   "outputs": [],
   "source": [
    "len(no_lupus_pathway_2_testing_df[no_lupus_pathway_2_testing_df.score>=10]) #misdaignosed episodes"
   ]
  },
  {
   "cell_type": "code",
   "execution_count": null,
   "id": "087aa8b6",
   "metadata": {},
   "outputs": [],
   "source": [
    "len(model_copy_df[(model_copy_df.trajectory == no_lupus_pathway_2) &(model_copy_df.y_actual != model_copy_df.y_pred)])"
   ]
  },
  {
   "cell_type": "markdown",
   "id": "99a7034c",
   "metadata": {},
   "source": [
    "#### Pathway 3"
   ]
  },
  {
   "cell_type": "code",
   "execution_count": null,
   "id": "ca255c0f",
   "metadata": {},
   "outputs": [],
   "source": [
    "no_lupus_pathway_3 = pred_no_lupus.trajectory.value_counts().index[2]\n",
    "no_lupus_pathway_3"
   ]
  },
  {
   "cell_type": "markdown",
   "id": "d90c2386",
   "metadata": {},
   "source": [
    "#### Computing the scores of the predicred pathways for the test data"
   ]
  },
  {
   "cell_type": "code",
   "execution_count": 15,
   "id": "2ca3b165",
   "metadata": {},
   "outputs": [],
   "source": [
    "# Dictionary with the weignts of the different features\n",
    "criteria_weights = {'fever':2, 'leukopenia':3, 'thrombocytopenia':4, 'auto_immune_hemolysis':4, 'delirium':2, 'psychosis':3, 'seizure':5, \n",
    "                    'non_scarring_alopecia':2, 'oral_ulcers':2, 'subacute_cutaneous_lupus':4, 'discoid_lupus':4, 'acute_cutaneous_lupus':6, \n",
    "                    'pleural_effusion': 5, 'pericardial_effusion':5, 'acute_pericarditis':6, 'joint_involvement':6, 'proteinuria':4, \n",
    "                    'anti_cardioliphin_antibodies':2, 'anti_β2gp1_antibodies':2, 'lupus_anti_coagulant':2, 'low_c3':3, 'low_c4':3, \n",
    "                    'low_c3_and_low_c4':4, 'low_c3_or_low_c4':3, 'anti_dsdna_antibody':6, 'anti_smith_antibody':6}\n",
    "\n",
    "# Dictionary mapping features to their respective domains\n",
    "domains_feat_dict = {'constitutional': ['fever'],\n",
    "                     'hematologic': ['leukopenia', 'thrombocytopenia', 'auto_immune_hemolysis'],\n",
    "                     'neuropsychiatric': ['delirium', 'psychosis', 'seizure'],\n",
    "                     'mucocutaneous': ['non_scarring_alopecia', 'oral_ulcers', 'cutaneous_lupus'],\n",
    "                     'serosal': ['pleural_effusion', 'pericardial_effusion', 'acute_pericarditis'],\n",
    "                     'musculoskeletal': ['joint_involvement'],\n",
    "                     'renal': ['proteinuria'],\n",
    "                     'antiphospholipid_antibodies': ['anti_cardioliphin_antibodies', 'anti_β2gp1_antibodies', 'lupus_anti_coagulant'],\n",
    "                     'complement_proteins': ['low_c3', 'low_c4'],\n",
    "                     'sle_specific_antibodies':['anti_dsdna_antibody', 'anti_smith_antibody']}\n",
    "\n",
    "# Dicionary with the maximum possible score for each domain\n",
    "domains_max_scores_dict = {'constitutional': 2, 'hematologic': 4, 'neuropsychiatric': 5, 'mucocutaneous': 6, 'serosal': 6, 'musculoskeletal': 6, \n",
    "                           'renal': 4, 'antiphospholipid_antibodies': 2, 'complement_proteins': 4, 'sle_specific_antibodies':6}\n",
    "\n",
    "\n",
    "\n",
    "def get_cutaneous_lupus_score(cutaneous_type):\n",
    "    '''\n",
    "    Computes the score given a value for the cutaneous lupus feature\n",
    "    '''\n",
    "    if cutaneous_type == 0: #negative for any form of cutaneous lupus\n",
    "        return 0\n",
    "    elif cutaneous_type == 1: #subacute cutaneous lupus\n",
    "        return criteria_weights['subacute_cutaneous_lupus']\n",
    "    elif cutaneous_type == 2: #acute cutaneous lupus\n",
    "        return criteria_weights['acute_cutaneous_lupus']\n",
    "    elif cutaneous_type == 3: #discoid lupus\n",
    "        return criteria_weights['discoid_lupus']\n",
    "    else:\n",
    "        raise Exception('Unknown cutaneous lupus type!')\n",
    "\n",
    "def get_feat_score(row, feat):\n",
    "    '''\n",
    "    Computes the score for a given feature in a row\n",
    "    '''\n",
    "    if feat == 'cutaneous_lupus':\n",
    "        feat_score = get_cutaneous_lupus_score(row[feat])\n",
    "    elif row[feat] <= 0:\n",
    "        feat_score = 0\n",
    "    else:\n",
    "        feat_score = criteria_weights[feat]\n",
    "    return feat_score\n",
    "\n",
    "\n",
    "def get_c3_c4_score(c3, c4): \n",
    "    '''\n",
    "    Computes the score for the complements proteins domain\n",
    "    '''\n",
    "    if (c3 == 1) & (c4 == 1): # 1 is low, 0 is not low\n",
    "        return criteria_weights['low_c3_and_low_c4']\n",
    "    elif (c3 == 1) | (c4 == 1):\n",
    "        return criteria_weights['low_c3_or_low_c4']\n",
    "    else:\n",
    "        return 0\n",
    "\n",
    "def get_domain_score(row, domain):\n",
    "    '''\n",
    "    Computes the score for a given domain in a specified row\n",
    "    '''\n",
    "    domain_features = domains_feat_dict[domain] # a list of features in that domain\n",
    "    domain_score = 0\n",
    "    if domain == 'complement_proteins':\n",
    "        domain_score = get_c3_c4_score(row.low_c3, row.low_c4)\n",
    "    else:\n",
    "        for feat in domain_features:\n",
    "            feat_score = get_feat_score(row, feat)\n",
    "            if feat_score > domain_score:\n",
    "                domain_score = feat_score\n",
    "    if domain_score > domains_max_scores_dict[domain]:\n",
    "        raise Exception('The score is too large for this domain!')\n",
    "    return domain_score\n",
    "\n",
    "def compute_score(row):\n",
    "    '''\n",
    "    Computes the total score of a row in a dataframe\n",
    "    '''\n",
    "    if row['ana'] == 0: # 0=negative, 1=positive \n",
    "        return 0\n",
    "    total_row_score = 0\n",
    "    for domain in domains_feat_dict.keys():\n",
    "        domain_score = get_domain_score(row, domain)\n",
    "        total_row_score += domain_score\n",
    "    return total_row_score"
   ]
  },
  {
   "cell_type": "code",
   "execution_count": 16,
   "id": "da71d538",
   "metadata": {},
   "outputs": [
    {
     "data": {
      "text/plain": [
       "['ana', 'fever', 'leukopenia', 'thrombocytopenia', 'auto_immune_hemolysis']"
      ]
     },
     "execution_count": 16,
     "metadata": {},
     "output_type": "execute_result"
    }
   ],
   "source": [
    "import itertools\n",
    "features = ['ana']+list(itertools.chain.from_iterable(list(domains_feat_dict.values())))\n",
    "features[:5]"
   ]
  },
  {
   "cell_type": "code",
   "execution_count": 17,
   "id": "6950bb6f",
   "metadata": {},
   "outputs": [
    {
     "data": {
      "text/plain": [
       "23"
      ]
     },
     "execution_count": 17,
     "metadata": {},
     "output_type": "execute_result"
    }
   ],
   "source": [
    "len(features)"
   ]
  },
  {
   "cell_type": "code",
   "execution_count": 18,
   "id": "5b2b5fee",
   "metadata": {},
   "outputs": [],
   "source": [
    "def create_df_with_score(df): #df is a test df or a subset of a test df\n",
    "    new_df = pd.DataFrame()\n",
    "    for i, row in df.iterrows():\n",
    "        row_dict = {}\n",
    "        for feat in features:\n",
    "            if feat in row.trajectory:\n",
    "                feat_value = testing_df.iloc[i][feat]\n",
    "            else:\n",
    "                feat_value = 0\n",
    "            row_dict[feat] = feat_value\n",
    "        new_df = new_df.append(row_dict, ignore_index=True)\n",
    "    new_df['score'] = new_df.apply(lambda row: compute_score(row), axis=1)\n",
    "    return new_df"
   ]
  },
  {
   "cell_type": "code",
   "execution_count": 19,
   "id": "8496018d",
   "metadata": {},
   "outputs": [
    {
     "data": {
      "text/html": [
       "<div>\n",
       "<style scoped>\n",
       "    .dataframe tbody tr th:only-of-type {\n",
       "        vertical-align: middle;\n",
       "    }\n",
       "\n",
       "    .dataframe tbody tr th {\n",
       "        vertical-align: top;\n",
       "    }\n",
       "\n",
       "    .dataframe thead th {\n",
       "        text-align: right;\n",
       "    }\n",
       "</style>\n",
       "<table border=\"1\" class=\"dataframe\">\n",
       "  <thead>\n",
       "    <tr style=\"text-align: right;\">\n",
       "      <th></th>\n",
       "      <th>ana</th>\n",
       "      <th>fever</th>\n",
       "      <th>leukopenia</th>\n",
       "      <th>thrombocytopenia</th>\n",
       "      <th>auto_immune_hemolysis</th>\n",
       "      <th>delirium</th>\n",
       "      <th>psychosis</th>\n",
       "      <th>seizure</th>\n",
       "      <th>non_scarring_alopecia</th>\n",
       "      <th>oral_ulcers</th>\n",
       "      <th>...</th>\n",
       "      <th>joint_involvement</th>\n",
       "      <th>proteinuria</th>\n",
       "      <th>anti_cardioliphin_antibodies</th>\n",
       "      <th>anti_β2gp1_antibodies</th>\n",
       "      <th>lupus_anti_coagulant</th>\n",
       "      <th>low_c3</th>\n",
       "      <th>low_c4</th>\n",
       "      <th>anti_dsdna_antibody</th>\n",
       "      <th>anti_smith_antibody</th>\n",
       "      <th>score</th>\n",
       "    </tr>\n",
       "  </thead>\n",
       "  <tbody>\n",
       "    <tr>\n",
       "      <th>0</th>\n",
       "      <td>1.0</td>\n",
       "      <td>0.0</td>\n",
       "      <td>0.0</td>\n",
       "      <td>0.0</td>\n",
       "      <td>0.0</td>\n",
       "      <td>0.0</td>\n",
       "      <td>0.0</td>\n",
       "      <td>0.0</td>\n",
       "      <td>0.0</td>\n",
       "      <td>0.0</td>\n",
       "      <td>...</td>\n",
       "      <td>1.0</td>\n",
       "      <td>0.0</td>\n",
       "      <td>0.0</td>\n",
       "      <td>0.0</td>\n",
       "      <td>0.0</td>\n",
       "      <td>1.0</td>\n",
       "      <td>0.0</td>\n",
       "      <td>0.0</td>\n",
       "      <td>0.0</td>\n",
       "      <td>9</td>\n",
       "    </tr>\n",
       "    <tr>\n",
       "      <th>1</th>\n",
       "      <td>0.0</td>\n",
       "      <td>0.0</td>\n",
       "      <td>0.0</td>\n",
       "      <td>0.0</td>\n",
       "      <td>0.0</td>\n",
       "      <td>0.0</td>\n",
       "      <td>0.0</td>\n",
       "      <td>0.0</td>\n",
       "      <td>0.0</td>\n",
       "      <td>0.0</td>\n",
       "      <td>...</td>\n",
       "      <td>0.0</td>\n",
       "      <td>0.0</td>\n",
       "      <td>0.0</td>\n",
       "      <td>0.0</td>\n",
       "      <td>0.0</td>\n",
       "      <td>0.0</td>\n",
       "      <td>0.0</td>\n",
       "      <td>0.0</td>\n",
       "      <td>0.0</td>\n",
       "      <td>0</td>\n",
       "    </tr>\n",
       "    <tr>\n",
       "      <th>2</th>\n",
       "      <td>1.0</td>\n",
       "      <td>0.0</td>\n",
       "      <td>0.0</td>\n",
       "      <td>0.0</td>\n",
       "      <td>0.0</td>\n",
       "      <td>0.0</td>\n",
       "      <td>0.0</td>\n",
       "      <td>0.0</td>\n",
       "      <td>0.0</td>\n",
       "      <td>0.0</td>\n",
       "      <td>...</td>\n",
       "      <td>0.0</td>\n",
       "      <td>0.0</td>\n",
       "      <td>0.0</td>\n",
       "      <td>0.0</td>\n",
       "      <td>0.0</td>\n",
       "      <td>0.0</td>\n",
       "      <td>0.0</td>\n",
       "      <td>0.0</td>\n",
       "      <td>0.0</td>\n",
       "      <td>5</td>\n",
       "    </tr>\n",
       "    <tr>\n",
       "      <th>3</th>\n",
       "      <td>0.0</td>\n",
       "      <td>0.0</td>\n",
       "      <td>0.0</td>\n",
       "      <td>0.0</td>\n",
       "      <td>0.0</td>\n",
       "      <td>0.0</td>\n",
       "      <td>0.0</td>\n",
       "      <td>0.0</td>\n",
       "      <td>0.0</td>\n",
       "      <td>0.0</td>\n",
       "      <td>...</td>\n",
       "      <td>0.0</td>\n",
       "      <td>0.0</td>\n",
       "      <td>0.0</td>\n",
       "      <td>0.0</td>\n",
       "      <td>0.0</td>\n",
       "      <td>0.0</td>\n",
       "      <td>0.0</td>\n",
       "      <td>0.0</td>\n",
       "      <td>0.0</td>\n",
       "      <td>0</td>\n",
       "    </tr>\n",
       "    <tr>\n",
       "      <th>4</th>\n",
       "      <td>0.0</td>\n",
       "      <td>0.0</td>\n",
       "      <td>0.0</td>\n",
       "      <td>0.0</td>\n",
       "      <td>0.0</td>\n",
       "      <td>0.0</td>\n",
       "      <td>0.0</td>\n",
       "      <td>0.0</td>\n",
       "      <td>0.0</td>\n",
       "      <td>0.0</td>\n",
       "      <td>...</td>\n",
       "      <td>0.0</td>\n",
       "      <td>0.0</td>\n",
       "      <td>0.0</td>\n",
       "      <td>0.0</td>\n",
       "      <td>0.0</td>\n",
       "      <td>0.0</td>\n",
       "      <td>0.0</td>\n",
       "      <td>0.0</td>\n",
       "      <td>0.0</td>\n",
       "      <td>0</td>\n",
       "    </tr>\n",
       "  </tbody>\n",
       "</table>\n",
       "<p>5 rows × 24 columns</p>\n",
       "</div>"
      ],
      "text/plain": [
       "   ana  fever  leukopenia  thrombocytopenia  auto_immune_hemolysis  delirium  \\\n",
       "0  1.0    0.0         0.0               0.0                    0.0       0.0   \n",
       "1  0.0    0.0         0.0               0.0                    0.0       0.0   \n",
       "2  1.0    0.0         0.0               0.0                    0.0       0.0   \n",
       "3  0.0    0.0         0.0               0.0                    0.0       0.0   \n",
       "4  0.0    0.0         0.0               0.0                    0.0       0.0   \n",
       "\n",
       "   psychosis  seizure  non_scarring_alopecia  oral_ulcers  ...  \\\n",
       "0        0.0      0.0                    0.0          0.0  ...   \n",
       "1        0.0      0.0                    0.0          0.0  ...   \n",
       "2        0.0      0.0                    0.0          0.0  ...   \n",
       "3        0.0      0.0                    0.0          0.0  ...   \n",
       "4        0.0      0.0                    0.0          0.0  ...   \n",
       "\n",
       "   joint_involvement  proteinuria  anti_cardioliphin_antibodies  \\\n",
       "0                1.0          0.0                           0.0   \n",
       "1                0.0          0.0                           0.0   \n",
       "2                0.0          0.0                           0.0   \n",
       "3                0.0          0.0                           0.0   \n",
       "4                0.0          0.0                           0.0   \n",
       "\n",
       "   anti_β2gp1_antibodies  lupus_anti_coagulant  low_c3  low_c4  \\\n",
       "0                    0.0                   0.0     1.0     0.0   \n",
       "1                    0.0                   0.0     0.0     0.0   \n",
       "2                    0.0                   0.0     0.0     0.0   \n",
       "3                    0.0                   0.0     0.0     0.0   \n",
       "4                    0.0                   0.0     0.0     0.0   \n",
       "\n",
       "   anti_dsdna_antibody  anti_smith_antibody  score  \n",
       "0                  0.0                  0.0      9  \n",
       "1                  0.0                  0.0      0  \n",
       "2                  0.0                  0.0      5  \n",
       "3                  0.0                  0.0      0  \n",
       "4                  0.0                  0.0      0  \n",
       "\n",
       "[5 rows x 24 columns]"
      ]
     },
     "execution_count": 19,
     "metadata": {},
     "output_type": "execute_result"
    }
   ],
   "source": [
    "pred_no_lupus_with_score = create_df_with_score(pred_no_lupus)\n",
    "pred_no_lupus_with_score.head()"
   ]
  },
  {
   "cell_type": "code",
   "execution_count": 20,
   "id": "b750c3aa",
   "metadata": {},
   "outputs": [
    {
     "data": {
      "text/plain": [
       "2.318495778971604"
      ]
     },
     "execution_count": 20,
     "metadata": {},
     "output_type": "execute_result"
    }
   ],
   "source": [
    "pred_no_lupus_with_score.score.mean()"
   ]
  },
  {
   "cell_type": "code",
   "execution_count": 21,
   "id": "c3e1eb98",
   "metadata": {},
   "outputs": [
    {
     "data": {
      "text/html": [
       "<div>\n",
       "<style scoped>\n",
       "    .dataframe tbody tr th:only-of-type {\n",
       "        vertical-align: middle;\n",
       "    }\n",
       "\n",
       "    .dataframe tbody tr th {\n",
       "        vertical-align: top;\n",
       "    }\n",
       "\n",
       "    .dataframe thead th {\n",
       "        text-align: right;\n",
       "    }\n",
       "</style>\n",
       "<table border=\"1\" class=\"dataframe\">\n",
       "  <thead>\n",
       "    <tr style=\"text-align: right;\">\n",
       "      <th></th>\n",
       "      <th>ana</th>\n",
       "      <th>fever</th>\n",
       "      <th>leukopenia</th>\n",
       "      <th>thrombocytopenia</th>\n",
       "      <th>auto_immune_hemolysis</th>\n",
       "      <th>delirium</th>\n",
       "      <th>psychosis</th>\n",
       "      <th>seizure</th>\n",
       "      <th>non_scarring_alopecia</th>\n",
       "      <th>oral_ulcers</th>\n",
       "      <th>...</th>\n",
       "      <th>joint_involvement</th>\n",
       "      <th>proteinuria</th>\n",
       "      <th>anti_cardioliphin_antibodies</th>\n",
       "      <th>anti_β2gp1_antibodies</th>\n",
       "      <th>lupus_anti_coagulant</th>\n",
       "      <th>low_c3</th>\n",
       "      <th>low_c4</th>\n",
       "      <th>anti_dsdna_antibody</th>\n",
       "      <th>anti_smith_antibody</th>\n",
       "      <th>score</th>\n",
       "    </tr>\n",
       "  </thead>\n",
       "  <tbody>\n",
       "    <tr>\n",
       "      <th>0</th>\n",
       "      <td>1.0</td>\n",
       "      <td>0.0</td>\n",
       "      <td>0.0</td>\n",
       "      <td>0.0</td>\n",
       "      <td>0.0</td>\n",
       "      <td>0.0</td>\n",
       "      <td>0.0</td>\n",
       "      <td>0.0</td>\n",
       "      <td>0.0</td>\n",
       "      <td>0.0</td>\n",
       "      <td>...</td>\n",
       "      <td>1.0</td>\n",
       "      <td>0.0</td>\n",
       "      <td>0.0</td>\n",
       "      <td>0.0</td>\n",
       "      <td>0.0</td>\n",
       "      <td>0.0</td>\n",
       "      <td>0.0</td>\n",
       "      <td>0.0</td>\n",
       "      <td>0.0</td>\n",
       "      <td>12</td>\n",
       "    </tr>\n",
       "    <tr>\n",
       "      <th>1</th>\n",
       "      <td>1.0</td>\n",
       "      <td>0.0</td>\n",
       "      <td>0.0</td>\n",
       "      <td>0.0</td>\n",
       "      <td>0.0</td>\n",
       "      <td>0.0</td>\n",
       "      <td>0.0</td>\n",
       "      <td>0.0</td>\n",
       "      <td>0.0</td>\n",
       "      <td>0.0</td>\n",
       "      <td>...</td>\n",
       "      <td>0.0</td>\n",
       "      <td>1.0</td>\n",
       "      <td>0.0</td>\n",
       "      <td>0.0</td>\n",
       "      <td>0.0</td>\n",
       "      <td>0.0</td>\n",
       "      <td>0.0</td>\n",
       "      <td>1.0</td>\n",
       "      <td>0.0</td>\n",
       "      <td>10</td>\n",
       "    </tr>\n",
       "    <tr>\n",
       "      <th>2</th>\n",
       "      <td>1.0</td>\n",
       "      <td>0.0</td>\n",
       "      <td>0.0</td>\n",
       "      <td>0.0</td>\n",
       "      <td>0.0</td>\n",
       "      <td>0.0</td>\n",
       "      <td>1.0</td>\n",
       "      <td>0.0</td>\n",
       "      <td>0.0</td>\n",
       "      <td>0.0</td>\n",
       "      <td>...</td>\n",
       "      <td>1.0</td>\n",
       "      <td>0.0</td>\n",
       "      <td>0.0</td>\n",
       "      <td>0.0</td>\n",
       "      <td>0.0</td>\n",
       "      <td>1.0</td>\n",
       "      <td>0.0</td>\n",
       "      <td>0.0</td>\n",
       "      <td>0.0</td>\n",
       "      <td>17</td>\n",
       "    </tr>\n",
       "    <tr>\n",
       "      <th>3</th>\n",
       "      <td>1.0</td>\n",
       "      <td>0.0</td>\n",
       "      <td>0.0</td>\n",
       "      <td>0.0</td>\n",
       "      <td>0.0</td>\n",
       "      <td>0.0</td>\n",
       "      <td>0.0</td>\n",
       "      <td>0.0</td>\n",
       "      <td>1.0</td>\n",
       "      <td>0.0</td>\n",
       "      <td>...</td>\n",
       "      <td>0.0</td>\n",
       "      <td>0.0</td>\n",
       "      <td>0.0</td>\n",
       "      <td>0.0</td>\n",
       "      <td>1.0</td>\n",
       "      <td>0.0</td>\n",
       "      <td>0.0</td>\n",
       "      <td>1.0</td>\n",
       "      <td>0.0</td>\n",
       "      <td>10</td>\n",
       "    </tr>\n",
       "    <tr>\n",
       "      <th>4</th>\n",
       "      <td>1.0</td>\n",
       "      <td>0.0</td>\n",
       "      <td>0.0</td>\n",
       "      <td>0.0</td>\n",
       "      <td>0.0</td>\n",
       "      <td>0.0</td>\n",
       "      <td>0.0</td>\n",
       "      <td>0.0</td>\n",
       "      <td>1.0</td>\n",
       "      <td>0.0</td>\n",
       "      <td>...</td>\n",
       "      <td>1.0</td>\n",
       "      <td>0.0</td>\n",
       "      <td>0.0</td>\n",
       "      <td>0.0</td>\n",
       "      <td>0.0</td>\n",
       "      <td>1.0</td>\n",
       "      <td>0.0</td>\n",
       "      <td>0.0</td>\n",
       "      <td>0.0</td>\n",
       "      <td>16</td>\n",
       "    </tr>\n",
       "  </tbody>\n",
       "</table>\n",
       "<p>5 rows × 24 columns</p>\n",
       "</div>"
      ],
      "text/plain": [
       "   ana  fever  leukopenia  thrombocytopenia  auto_immune_hemolysis  delirium  \\\n",
       "0  1.0    0.0         0.0               0.0                    0.0       0.0   \n",
       "1  1.0    0.0         0.0               0.0                    0.0       0.0   \n",
       "2  1.0    0.0         0.0               0.0                    0.0       0.0   \n",
       "3  1.0    0.0         0.0               0.0                    0.0       0.0   \n",
       "4  1.0    0.0         0.0               0.0                    0.0       0.0   \n",
       "\n",
       "   psychosis  seizure  non_scarring_alopecia  oral_ulcers  ...  \\\n",
       "0        0.0      0.0                    0.0          0.0  ...   \n",
       "1        0.0      0.0                    0.0          0.0  ...   \n",
       "2        1.0      0.0                    0.0          0.0  ...   \n",
       "3        0.0      0.0                    1.0          0.0  ...   \n",
       "4        0.0      0.0                    1.0          0.0  ...   \n",
       "\n",
       "   joint_involvement  proteinuria  anti_cardioliphin_antibodies  \\\n",
       "0                1.0          0.0                           0.0   \n",
       "1                0.0          1.0                           0.0   \n",
       "2                1.0          0.0                           0.0   \n",
       "3                0.0          0.0                           0.0   \n",
       "4                1.0          0.0                           0.0   \n",
       "\n",
       "   anti_β2gp1_antibodies  lupus_anti_coagulant  low_c3  low_c4  \\\n",
       "0                    0.0                   0.0     0.0     0.0   \n",
       "1                    0.0                   0.0     0.0     0.0   \n",
       "2                    0.0                   0.0     1.0     0.0   \n",
       "3                    0.0                   1.0     0.0     0.0   \n",
       "4                    0.0                   0.0     1.0     0.0   \n",
       "\n",
       "   anti_dsdna_antibody  anti_smith_antibody  score  \n",
       "0                  0.0                  0.0     12  \n",
       "1                  1.0                  0.0     10  \n",
       "2                  0.0                  0.0     17  \n",
       "3                  1.0                  0.0     10  \n",
       "4                  0.0                  0.0     16  \n",
       "\n",
       "[5 rows x 24 columns]"
      ]
     },
     "execution_count": 21,
     "metadata": {},
     "output_type": "execute_result"
    }
   ],
   "source": [
    "pred_lupus_with_score = create_df_with_score(pred_lupus)\n",
    "pred_lupus_with_score.head()"
   ]
  },
  {
   "cell_type": "code",
   "execution_count": 22,
   "id": "c9abafd2",
   "metadata": {},
   "outputs": [
    {
     "data": {
      "text/plain": [
       "12.03655774830152"
      ]
     },
     "execution_count": 22,
     "metadata": {},
     "output_type": "execute_result"
    }
   ],
   "source": [
    "pred_lupus_with_score.score.mean()"
   ]
  },
  {
   "cell_type": "markdown",
   "id": "aff13bb5",
   "metadata": {},
   "source": [
    "#### computing actual scores of original test_df"
   ]
  },
  {
   "cell_type": "code",
   "execution_count": null,
   "id": "009d9aa2",
   "metadata": {},
   "outputs": [],
   "source": []
  }
 ],
 "metadata": {
  "kernelspec": {
   "display_name": "Python 3 (ipykernel)",
   "language": "python",
   "name": "python3"
  },
  "language_info": {
   "codemirror_mode": {
    "name": "ipython",
    "version": 3
   },
   "file_extension": ".py",
   "mimetype": "text/x-python",
   "name": "python",
   "nbconvert_exporter": "python",
   "pygments_lexer": "ipython3",
   "version": "3.7.4"
  }
 },
 "nbformat": 4,
 "nbformat_minor": 5
}

{
 "cells": [
  {
   "cell_type": "code",
   "execution_count": 1,
   "id": "4a6d260d",
   "metadata": {},
   "outputs": [],
   "source": [
    "import pandas as pd\n",
    "import numpy as np\n",
    "import seaborn as sns\n",
    "import plotly.express as px\n",
    "import matplotlib.pyplot as plt\n",
    "%matplotlib inline"
   ]
  },
  {
   "cell_type": "code",
   "execution_count": null,
   "id": "ac22f38b",
   "metadata": {},
   "outputs": [],
   "source": [
    "def pretty_plot_performance(success_dict, save=False, filename=None, has_random=True):\n",
    "#     if analysis_type == 'Noisiness':\n",
    "#         xticks = [0.0, 0.2, 0.4, 0.6]\n",
    "#     else:\n",
    "    xticks = [0.0, 0.1, 0.2, 0.3, 0.4, 0.5]\n",
    "    df = pd.DataFrame()\n",
    "    df['DQN'] = success_dict['dqn agent']\n",
    "    df['RF'] = success_dict['random forest']\n",
    "    df['SVM'] = success_dict['SVM']\n",
    "    df['XGBoost'] = success_dict['XGBoost']\n",
    "    df['DT'] = success_dict['decision tree']\n",
    "    plt.figure(figsize=(8, 5))\n",
    "    ax = sns.lineplot(data=df, linewidth=2.5)\n",
    "    ax.set_xticks(range(len(df))) # <--- set the ticks first\n",
    "    ax.set_xticklabels(xticks)\n",
    "    ax.set_ylim([0, 100])\n",
    "    ax.set(xlabel=analysis_type, ylabel='Success Rate', title='Model Performance')\n",
    "    ax.legend(title='Models', title_fontsize = 13)\n",
    "    if save:\n",
    "        plt.savefig(f'{filename}.png')\n",
    "    plt.show()"
   ]
  },
  {
   "cell_type": "code",
   "execution_count": null,
   "id": "d6f0749a",
   "metadata": {},
   "outputs": [],
   "source": [
    "missingness_dict = {'decision tree': [99.586, 98.700, 96.979, 94.550, 90.171, 88.986], \n",
    "                    'dqn agent': [], \n",
    "                    'random forest': [99.429, 98.879, 97.836, 96.229, 92.500, 91.657], \n",
    "                    'SVM':[96.950, 77.471, 76.250, 76.250, 76.250, 76.250], \n",
    "                    'XGBoost':[99.771, 99.579, 99.443, 98.986, 97.386, 97.007]}"
   ]
  },
  {
   "cell_type": "code",
   "execution_count": null,
   "id": "e8b5ef00",
   "metadata": {},
   "outputs": [],
   "source": [
    "pretty_plot_performance('Missingness', missingness_dict, 'plot_missingness', False)"
   ]
  }
 ],
 "metadata": {
  "kernelspec": {
   "display_name": "Python 3 (ipykernel)",
   "language": "python",
   "name": "python3"
  },
  "language_info": {
   "codemirror_mode": {
    "name": "ipython",
    "version": 3
   },
   "file_extension": ".py",
   "mimetype": "text/x-python",
   "name": "python",
   "nbconvert_exporter": "python",
   "pygments_lexer": "ipython3",
   "version": "3.7.4"
  }
 },
 "nbformat": 4,
 "nbformat_minor": 5
}

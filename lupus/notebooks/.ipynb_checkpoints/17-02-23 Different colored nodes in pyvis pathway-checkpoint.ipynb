{
 "cells": [
  {
   "cell_type": "code",
   "execution_count": 25,
   "id": "f8fea7e2",
   "metadata": {},
   "outputs": [],
   "source": [
    "import pandas as pd\n",
    "import numpy as np\n",
    "import ast\n",
    "import random\n",
    "import collections\n",
    "import networkx as nx\n",
    "from pyvis.network import Network\n",
    "import plotly.graph_objects as go"
   ]
  },
  {
   "cell_type": "markdown",
   "id": "c1e56220",
   "metadata": {},
   "source": [
    "#### The functions"
   ]
  },
  {
   "cell_type": "code",
   "execution_count": 26,
   "id": "477f2416",
   "metadata": {},
   "outputs": [],
   "source": [
    "def streamline_frequency_dict(frequency_dict):\n",
    "    frequency_dict_list = [] #will hold dictonaries with 2 keys i.e. 'set' and 'value'\n",
    "    for path_dict, value in frequency_dict.items():\n",
    "        all_set_list = [i['set'] for i in frequency_dict_list] #get all the sets so far in the list \n",
    "        path_set = set(ast.literal_eval(path_dict)) #get the set of current path dict to check if its already in list\n",
    "        if path_set in all_set_list: #increase value else insert it - work on this!!!!!!!!!!!!!!!\n",
    "            for elem in frequency_dict_list: #look for if path_set is already in frequency_dict_list \n",
    "                if elem['set'] == path_set: #find the matching path_set in the frequency_dict_list\n",
    "                    elem['value'] += value #increase the value for that set\n",
    "        else:\n",
    "            frequency_dict_list.append({'set':path_set, 'value':value})\n",
    "    \n",
    "    all_list = [list(path_dict['set']) for path_dict in frequency_dict_list]\n",
    "    flat_list = [item for sublist in all_list for item in sublist]\n",
    "    commonest_elements = dict(collections.Counter(flat_list))\n",
    "    commonest_elements = {k: v for k, v in sorted(commonest_elements.items(), reverse=True, key=lambda item: item[1])}\n",
    "    commonest_elements_list = list(commonest_elements.keys())\n",
    "    commonest_elements_list = [i for i in commonest_elements_list if i not in ['Lupus', 'No lupus', 'Inconclusive diagnosis']] + ['Lupus', 'No lupus', 'Inconclusive diagnosis']\n",
    "    \n",
    "    for item in frequency_dict_list:\n",
    "        item['set'] = sorted(list(item['set']), key=lambda x: commonest_elements_list.index(x))\n",
    "    \n",
    "    keys = [str(i['set']) for i in frequency_dict_list]\n",
    "    values = [i['value'] for i in frequency_dict_list]\n",
    "    final_frequency_dict = {k:v for (k,v) in zip(keys, values)}\n",
    "    \n",
    "    return final_frequency_dict"
   ]
  },
  {
   "cell_type": "code",
   "execution_count": 27,
   "id": "9f22c36f",
   "metadata": {},
   "outputs": [],
   "source": [
    "def generate_tuple_dict(df):\n",
    "    frequency_dict = {}\n",
    "    for traj in df.trajectory:\n",
    "        if traj in frequency_dict.keys():\n",
    "            frequency_dict[traj] += 1\n",
    "        else:\n",
    "            frequency_dict[traj] = 1\n",
    "    streamlined_frequency_dict = streamline_frequency_dict(frequency_dict)\n",
    "    overall_tup_dict = {}\n",
    "    for key, value in streamlined_frequency_dict.items():\n",
    "        new_key = ast.literal_eval(key)\n",
    "        for tup in zip(new_key, new_key[1:]):\n",
    "            #print(f'tup: {tup}')\n",
    "            if tup in overall_tup_dict.keys():\n",
    "                overall_tup_dict[tup] += value\n",
    "            else:\n",
    "                overall_tup_dict[tup] = value\n",
    "    #print(f'overall_tup_dict: {overall_tup_dict}')\n",
    "    return overall_tup_dict"
   ]
  },
  {
   "cell_type": "code",
   "execution_count": 28,
   "id": "27490a48",
   "metadata": {},
   "outputs": [],
   "source": [
    "def create_sankey_df(df):\n",
    "    overall_tup_dict = generate_tuple_dict(df)\n",
    "    sankey_df = pd.DataFrame()\n",
    "    sankey_df['source'] = [i[0] for i in overall_tup_dict.keys()]\n",
    "    sankey_df['target'] = [i[1] for i in overall_tup_dict.keys()]\n",
    "    sankey_df['value'] = list(overall_tup_dict.values())\n",
    "    sankey_df['link_type'] = sankey_df['target'].apply(lambda i: 'terminal' if i in ['No lupus', 'Lupus', 'Inconclusive diagnosis'] else 'non_terminal')\n",
    "    return sankey_df"
   ]
  },
  {
   "cell_type": "code",
   "execution_count": 29,
   "id": "fd0235d6",
   "metadata": {},
   "outputs": [],
   "source": [
    "def draw_networkx_graph(df):\n",
    "    pathways_df = create_sankey_df(test_df)\n",
    "    pathways_df['Type'] = 'directed'\n",
    "    G = nx.from_pandas_edgelist(pathways_df, source='source', target='target', edge_attr='value', \n",
    "                                create_using=nx.DiGraph())\n",
    "    nx.draw_networkx(G, arrows=True)\n",
    "    return G"
   ]
  },
  {
   "cell_type": "code",
   "execution_count": 30,
   "id": "3adf90ba",
   "metadata": {},
   "outputs": [],
   "source": [
    "get_colors = lambda n: list(map(lambda i: \"#\" + \"%06x\" % random.randint(0, 0xFFFFFF),range(n)))"
   ]
  },
  {
   "cell_type": "code",
   "execution_count": 31,
   "id": "b9d92983",
   "metadata": {},
   "outputs": [],
   "source": [
    "def draw_sankey_diagram_orig(df, title, compress=False, compress_val=0, save=False, filename=False):\n",
    "    sankey_df = create_sankey_df(df)\n",
    "    if compress:\n",
    "        sankey_df = sankey_df[sankey_df.value>compress_val]\n",
    "    unique_actions = list(set(list(sankey_df['source'].unique())  + list(sankey_df['target'].unique())))\n",
    "    dmap = dict(zip(unique_actions, range(len(unique_actions))))\n",
    "    sankey_df['source'] = sankey_df['source'].map(dmap)\n",
    "    sankey_df['target'] = sankey_df['target'].map(dmap)\n",
    "    sankey_df.sort_values(by=['source'], inplace=True)\n",
    "    nodes_color = get_colors(len(dmap))\n",
    "    label = unique_actions\n",
    "    target = list(sankey_df['target'])\n",
    "    value = list(sankey_df['value'])\n",
    "    source = list(sankey_df['source'])\n",
    "    \n",
    "    link_color = get_colors(len(value))\n",
    "#     link_color = ['green']*len(value)\n",
    "    fig = go.Figure(data=[go.Sankey(\n",
    "        node = dict(pad=15, thickness=20, line=dict(color='black', width=0.5), label=label, color=nodes_color),\n",
    "        link = dict(source=source, target=target, value=value, color=link_color)\n",
    "    )])\n",
    "    fig.update_layout(title_text=title, title_x=0.5,  title_font_size=24, title_font_color='black', \n",
    "                      title_font_family='Times New Roman')\n",
    "    if save:\n",
    "        fig.write_html(f'{filename}.html')\n",
    "    fig.show()"
   ]
  },
  {
   "cell_type": "markdown",
   "id": "1cd7f597",
   "metadata": {},
   "source": [
    "#### The data"
   ]
  },
  {
   "cell_type": "code",
   "execution_count": 32,
   "id": "75783bfc",
   "metadata": {},
   "outputs": [
    {
     "data": {
      "text/html": [
       "<div>\n",
       "<style scoped>\n",
       "    .dataframe tbody tr th:only-of-type {\n",
       "        vertical-align: middle;\n",
       "    }\n",
       "\n",
       "    .dataframe tbody tr th {\n",
       "        vertical-align: top;\n",
       "    }\n",
       "\n",
       "    .dataframe thead th {\n",
       "        text-align: right;\n",
       "    }\n",
       "</style>\n",
       "<table border=\"1\" class=\"dataframe\">\n",
       "  <thead>\n",
       "    <tr style=\"text-align: right;\">\n",
       "      <th></th>\n",
       "      <th>episode_length</th>\n",
       "      <th>reward</th>\n",
       "      <th>y_pred</th>\n",
       "      <th>y_actual</th>\n",
       "      <th>trajectory</th>\n",
       "      <th>terminated</th>\n",
       "      <th>is_success</th>\n",
       "    </tr>\n",
       "  </thead>\n",
       "  <tbody>\n",
       "    <tr>\n",
       "      <th>0</th>\n",
       "      <td>24.0</td>\n",
       "      <td>1.0</td>\n",
       "      <td>1.0</td>\n",
       "      <td>1.0</td>\n",
       "      <td>['joint_involvement', 'acute_pericarditis', 'p...</td>\n",
       "      <td>0.0</td>\n",
       "      <td>1.0</td>\n",
       "    </tr>\n",
       "    <tr>\n",
       "      <th>1</th>\n",
       "      <td>24.0</td>\n",
       "      <td>1.0</td>\n",
       "      <td>1.0</td>\n",
       "      <td>1.0</td>\n",
       "      <td>['joint_involvement', 'ana', 'low_c3', 'thromb...</td>\n",
       "      <td>0.0</td>\n",
       "      <td>1.0</td>\n",
       "    </tr>\n",
       "    <tr>\n",
       "      <th>2</th>\n",
       "      <td>19.0</td>\n",
       "      <td>1.0</td>\n",
       "      <td>1.0</td>\n",
       "      <td>1.0</td>\n",
       "      <td>['joint_involvement', 'acute_pericarditis', 'p...</td>\n",
       "      <td>0.0</td>\n",
       "      <td>1.0</td>\n",
       "    </tr>\n",
       "    <tr>\n",
       "      <th>3</th>\n",
       "      <td>24.0</td>\n",
       "      <td>1.0</td>\n",
       "      <td>1.0</td>\n",
       "      <td>1.0</td>\n",
       "      <td>['joint_involvement', 'ana', 'low_c3', 'thromb...</td>\n",
       "      <td>0.0</td>\n",
       "      <td>1.0</td>\n",
       "    </tr>\n",
       "    <tr>\n",
       "      <th>4</th>\n",
       "      <td>17.0</td>\n",
       "      <td>1.0</td>\n",
       "      <td>1.0</td>\n",
       "      <td>1.0</td>\n",
       "      <td>['joint_involvement', 'acute_pericarditis', 'p...</td>\n",
       "      <td>0.0</td>\n",
       "      <td>1.0</td>\n",
       "    </tr>\n",
       "  </tbody>\n",
       "</table>\n",
       "</div>"
      ],
      "text/plain": [
       "   episode_length  reward  y_pred  y_actual  \\\n",
       "0            24.0     1.0     1.0       1.0   \n",
       "1            24.0     1.0     1.0       1.0   \n",
       "2            19.0     1.0     1.0       1.0   \n",
       "3            24.0     1.0     1.0       1.0   \n",
       "4            17.0     1.0     1.0       1.0   \n",
       "\n",
       "                                          trajectory  terminated  is_success  \n",
       "0  ['joint_involvement', 'acute_pericarditis', 'p...         0.0         1.0  \n",
       "1  ['joint_involvement', 'ana', 'low_c3', 'thromb...         0.0         1.0  \n",
       "2  ['joint_involvement', 'acute_pericarditis', 'p...         0.0         1.0  \n",
       "3  ['joint_involvement', 'ana', 'low_c3', 'thromb...         0.0         1.0  \n",
       "4  ['joint_involvement', 'acute_pericarditis', 'p...         0.0         1.0  "
      ]
     },
     "execution_count": 32,
     "metadata": {},
     "output_type": "execute_result"
    }
   ],
   "source": [
    "# test_df = pd.read_csv('../test_dfs/very_simple_datasets/dqn_test_df_8ft_1000000.csv').drop(['index'], axis=1)\n",
    "test_df = pd.read_csv('../test_dfs/noisiness/0.4.csv').drop(['index'], axis=1)\n",
    "test_df.head()"
   ]
  },
  {
   "cell_type": "code",
   "execution_count": 33,
   "id": "93396b13",
   "metadata": {},
   "outputs": [],
   "source": [
    "# target_df = test_df[test_df.episode_length <= 8]\n",
    "# target_df.head()"
   ]
  },
  {
   "cell_type": "code",
   "execution_count": 34,
   "id": "f69d852e",
   "metadata": {},
   "outputs": [
    {
     "data": {
      "text/plain": [
       "14000"
      ]
     },
     "execution_count": 34,
     "metadata": {},
     "output_type": "execute_result"
    }
   ],
   "source": [
    "len(test_df)"
   ]
  },
  {
   "cell_type": "code",
   "execution_count": 35,
   "id": "a7f20876",
   "metadata": {},
   "outputs": [],
   "source": [
    "# test_df.trajectory.value_counts()"
   ]
  },
  {
   "cell_type": "markdown",
   "id": "d2a5d42a",
   "metadata": {},
   "source": [
    "#### Networkx"
   ]
  },
  {
   "cell_type": "code",
   "execution_count": 36,
   "id": "e87ca228",
   "metadata": {},
   "outputs": [
    {
     "name": "stderr",
     "output_type": "stream",
     "text": [
      "/home/lmuyama/anaconda3/envs/stable_baselines_3_env/lib/python3.7/site-packages/networkx/drawing/nx_pylab.py:579: MatplotlibDeprecationWarning:\n",
      "\n",
      "\n",
      "The iterable function was deprecated in Matplotlib 3.1 and will be removed in 3.3. Use np.iterable instead.\n",
      "\n",
      "/home/lmuyama/anaconda3/envs/stable_baselines_3_env/lib/python3.7/site-packages/networkx/drawing/nx_pylab.py:676: MatplotlibDeprecationWarning:\n",
      "\n",
      "\n",
      "The iterable function was deprecated in Matplotlib 3.1 and will be removed in 3.3. Use np.iterable instead.\n",
      "\n"
     ]
    },
    {
     "data": {
      "image/png": "[encoded data removed]",
      "text/plain": [
       "<Figure size 640x480 with 1 Axes>"
      ]
     },
     "metadata": {},
     "output_type": "display_data"
    }
   ],
   "source": [
    "G = draw_networkx_graph(test_df)"
   ]
  },
  {
   "cell_type": "markdown",
   "id": "6aa0b414",
   "metadata": {},
   "source": [
    "#### Pyvis"
   ]
  },
  {
   "cell_type": "code",
   "execution_count": 37,
   "id": "11ab0a59",
   "metadata": {},
   "outputs": [
    {
     "data": {
      "text/html": [
       "\n",
       "        <iframe\n",
       "            width=\"100%\"\n",
       "            height=\"500px\"\n",
       "            src=\"example.html\"\n",
       "            frameborder=\"0\"\n",
       "            allowfullscreen\n",
       "            \n",
       "        ></iframe>\n",
       "        "
      ],
      "text/plain": [
       "<IPython.lib.display.IFrame at 0x7effe6b323d0>"
      ]
     },
     "execution_count": 37,
     "metadata": {},
     "output_type": "execute_result"
    }
   ],
   "source": [
    "net = Network('500px', directed=True, notebook=True, cdn_resources='in_line')\n",
    "net.from_nx(G)\n",
    "net.show('example.html')"
   ]
  },
  {
   "cell_type": "markdown",
   "id": "d6707bde",
   "metadata": {},
   "source": [
    "#### Sankey diagram"
   ]
  },
  {
   "cell_type": "code",
   "execution_count": 38,
   "id": "f9d5d67d",
   "metadata": {},
   "outputs": [
    {
     "data": {
      "application/vnd.plotly.v1+json": {
       "config": {
        "plotlyServerURL": "https://plot.ly"
       },
       "data": [
        {
         "link": {
          "color": [
           "#80f636",
           "#f0747a",
           "#e48ca0",
           "#e4dfbe",
           "#0314a2",
           "#bfffd5",
           "#6c3b5c",
           "#bba18b",
           "#8a8e56",
           "#ecd50b",
           "#bfe84c",
           "#708d52",
           "#7b5b95",
           "#74aa09",
           "#2e35da",
           "#e9e9bd",
           "#0dda67",
           "#18af26",
           "#8a006e",
           "#2d4141",
           "#5e1b57",
           "#6e263c",
           "#dc8414",
           "#d95759",
           "#927265",
           "#3f7c95",
           "#45e0cf",
           "#a27cff",
           "#9f470c",
           "#5d8605",
           "#f3ff29",
           "#1f0193",
           "#b9c698",
           "#1c9362",
           "#4c275f",
           "#1a0af2",
           "#3928e3",
           "#31bef0",
           "#715f13",
           "#ab6dca",
           "#511810",
           "#0f1bc3",
           "#27e8c4",
           "#a08bbf",
           "#fe5bf6",
           "#110905",
           "#0d1faf",
           "#e7b509",
           "#9456ae",
           "#e2412b",
           "#944361",
           "#91ddd3",
           "#246130",
           "#422007",
           "#7f9652",
           "#a12aac",
           "#88d711",
           "#51712f",
           "#ca5451",
           "#6fcd08",
           "#a57bbc",
           "#7d0bb1",
           "#78928d",
           "#201c95",
           "#039c95",
           "#fc7963",
           "#53bec2",
           "#da68ea",
           "#894cf9",
           "#eaaa93",
           "#49a0b8",
           "#17e322",
           "#8514ab",
           "#2d836b",
           "#8f1bea",
           "#d6eefb",
           "#8e4751",
           "#3ed682",
           "#615929",
           "#39de16",
           "#08bc9b",
           "#b8c0d8",
           "#af1e14",
           "#7b3f50"
          ],
          "source": [
           1,
           1,
           1,
           2,
           2,
           2,
           3,
           4,
           4,
           4,
           4,
           4,
           5,
           5,
           6,
           6,
           6,
           7,
           7,
           7,
           7,
           7,
           7,
           8,
           8,
           8,
           9,
           9,
           9,
           9,
           9,
           9,
           10,
           10,
           10,
           10,
           10,
           11,
           11,
           11,
           12,
           12,
           12,
           13,
           13,
           13,
           13,
           13,
           13,
           14,
           14,
           15,
           15,
           15,
           16,
           16,
           16,
           16,
           16,
           16,
           16,
           17,
           17,
           18,
           18,
           18,
           18,
           18,
           20,
           20,
           21,
           21,
           21,
           22,
           22,
           22,
           22,
           23,
           23,
           23,
           23,
           24,
           24,
           24
          ],
          "target": [
           4,
           7,
           16,
           6,
           8,
           5,
           17,
           19,
           14,
           24,
           10,
           23,
           8,
           6,
           13,
           21,
           18,
           23,
           4,
           19,
           24,
           10,
           14,
           6,
           18,
           13,
           1,
           7,
           19,
           14,
           16,
           4,
           0,
           14,
           19,
           23,
           24,
           22,
           15,
           9,
           2,
           5,
           20,
           22,
           21,
           15,
           9,
           18,
           11,
           0,
           19,
           9,
           16,
           1,
           23,
           24,
           14,
           7,
           4,
           19,
           10,
           20,
           12,
           9,
           21,
           15,
           11,
           22,
           5,
           2,
           22,
           11,
           15,
           9,
           15,
           1,
           16,
           14,
           0,
           19,
           24,
           0,
           14,
           19
          ],
          "value": [
           162,
           601,
           10055,
           1,
           171,
           13784,
           14000,
           94,
           72,
           69,
           6620,
           737,
           13451,
           377,
           9451,
           58,
           364,
           45,
           6803,
           11,
           5,
           6282,
           3,
           9495,
           307,
           3820,
           8856,
           33,
           3,
           3,
           233,
           134,
           176,
           497,
           303,
           9787,
           2160,
           13503,
           194,
           12,
           30,
           6,
           13487,
           18,
           129,
           8,
           2,
           13095,
           19,
           3302,
           4489,
           9104,
           2724,
           1821,
           24,
           4,
           1,
           12515,
           493,
           6,
           21,
           477,
           13523,
           3,
           13481,
           25,
           185,
           72,
           38,
           13926,
           161,
           13505,
           2,
           141,
           13420,
           141,
           52,
           391,
           95,
           272,
           9835,
           4302,
           6824,
           947
          ]
         },
         "node": {
          "color": [
           "#086260",
           "#4547a2",
           "#277f74",
           "#2d51f5",
           "#662885",
           "#5d40bd",
           "#f40291",
           "#4dcd6b",
           "#bebb0a",
           "#5666ae",
           "#ccf33b",
           "#6b1907",
           "#c0aeab",
           "#0e3a1b",
           "#14f47a",
           "#3e490a",
           "#6e5f68",
           "#50d405",
           "#83b152",
           "#19ca56",
           "#1464f0",
           "#38fd08",
           "#56910b",
           "#fe135f",
           "#e702f7"
          ],
          "label": [
           "No lupus",
           "anti_cardioliphin_antibodies",
           "lupus_anti_coagulant",
           "joint_involvement",
           "anti_smith_antibody",
           "low_c4",
           "low_c3",
           "seizure",
           "anti_dsdna_antibody",
           "non_scarring_alopecia",
           "fever",
           "pleural_effusion",
           "proteinuria",
           "delirium",
           "psychosis",
           "leukopenia",
           "anti_β2gp1_antibodies",
           "ana",
           "cutaneous_lupus",
           "Lupus",
           "thrombocytopenia",
           "pericardial_effusion",
           "acute_pericarditis",
           "oral_ulcers",
           "auto_immune_hemolysis"
          ],
          "line": {
           "color": "black",
           "width": 0.5
          },
          "pad": 15,
          "thickness": 20
         },
         "type": "sankey"
        }
       ],
       "layout": {
        "template": {
         "data": {
          "bar": [
           {
            "error_x": {
             "color": "#2a3f5f"
            },
            "error_y": {
             "color": "#2a3f5f"
            },
            "marker": {
             "line": {
              "color": "#E5ECF6",
              "width": 0.5
             },
             "pattern": {
              "fillmode": "overlay",
              "size": 10,
              "solidity": 0.2
             }
            },
            "type": "bar"
           }
          ],
          "barpolar": [
           {
            "marker": {
             "line": {
              "color": "#E5ECF6",
              "width": 0.5
             },
             "pattern": {
              "fillmode": "overlay",
              "size": 10,
              "solidity": 0.2
             }
            },
            "type": "barpolar"
           }
          ],
          "carpet": [
           {
            "aaxis": {
             "endlinecolor": "#2a3f5f",
             "gridcolor": "white",
             "linecolor": "white",
             "minorgridcolor": "white",
             "startlinecolor": "#2a3f5f"
            },
            "baxis": {
             "endlinecolor": "#2a3f5f",
             "gridcolor": "white",
             "linecolor": "white",
             "minorgridcolor": "white",
             "startlinecolor": "#2a3f5f"
            },
            "type": "carpet"
           }
          ],
          "choropleth": [
           {
            "colorbar": {
             "outlinewidth": 0,
             "ticks": ""
            },
            "type": "choropleth"
           }
          ],
          "contour": [
           {
            "colorbar": {
             "outlinewidth": 0,
             "ticks": ""
            },
            "colorscale": [
             [
              0,
              "#0d0887"
             ],
             [
              0.1111111111111111,
              "#46039f"
             ],
             [
              0.2222222222222222,
              "#7201a8"
             ],
             [
              0.3333333333333333,
              "#9c179e"
             ],
             [
              0.4444444444444444,
              "#bd3786"
             ],
             [
              0.5555555555555556,
              "#d8576b"
             ],
             [
              0.6666666666666666,
              "#ed7953"
             ],
             [
              0.7777777777777778,
              "#fb9f3a"
             ],
             [
              0.8888888888888888,
              "#fdca26"
             ],
             [
              1,
              "#f0f921"
             ]
            ],
            "type": "contour"
           }
          ],
          "contourcarpet": [
           {
            "colorbar": {
             "outlinewidth": 0,
             "ticks": ""
            },
            "type": "contourcarpet"
           }
          ],
          "heatmap": [
           {
            "colorbar": {
             "outlinewidth": 0,
             "ticks": ""
            },
            "colorscale": [
             [
              0,
              "#0d0887"
             ],
             [
              0.1111111111111111,
              "#46039f"
             ],
             [
              0.2222222222222222,
              "#7201a8"
             ],
             [
              0.3333333333333333,
              "#9c179e"
             ],
             [
              0.4444444444444444,
              "#bd3786"
             ],
             [
              0.5555555555555556,
              "#d8576b"
             ],
             [
              0.6666666666666666,
              "#ed7953"
             ],
             [
              0.7777777777777778,
              "#fb9f3a"
             ],
             [
              0.8888888888888888,
              "#fdca26"
             ],
             [
              1,
              "#f0f921"
             ]
            ],
            "type": "heatmap"
           }
          ],
          "heatmapgl": [
           {
            "colorbar": {
             "outlinewidth": 0,
             "ticks": ""
            },
            "colorscale": [
             [
              0,
              "#0d0887"
             ],
             [
              0.1111111111111111,
              "#46039f"
             ],
             [
              0.2222222222222222,
              "#7201a8"
             ],
             [
              0.3333333333333333,
              "#9c179e"
             ],
             [
              0.4444444444444444,
              "#bd3786"
             ],
             [
              0.5555555555555556,
              "#d8576b"
             ],
             [
              0.6666666666666666,
              "#ed7953"
             ],
             [
              0.7777777777777778,
              "#fb9f3a"
             ],
             [
              0.8888888888888888,
              "#fdca26"
             ],
             [
              1,
              "#f0f921"
             ]
            ],
            "type": "heatmapgl"
           }
          ],
          "histogram": [
           {
            "marker": {
             "pattern": {
              "fillmode": "overlay",
              "size": 10,
              "solidity": 0.2
             }
            },
            "type": "histogram"
           }
          ],
          "histogram2d": [
           {
            "colorbar": {
             "outlinewidth": 0,
             "ticks": ""
            },
            "colorscale": [
             [
              0,
              "#0d0887"
             ],
             [
              0.1111111111111111,
              "#46039f"
             ],
             [
              0.2222222222222222,
              "#7201a8"
             ],
             [
              0.3333333333333333,
              "#9c179e"
             ],
             [
              0.4444444444444444,
              "#bd3786"
             ],
             [
              0.5555555555555556,
              "#d8576b"
             ],
             [
              0.6666666666666666,
              "#ed7953"
             ],
             [
              0.7777777777777778,
              "#fb9f3a"
             ],
             [
              0.8888888888888888,
              "#fdca26"
             ],
             [
              1,
              "#f0f921"
             ]
            ],
            "type": "histogram2d"
           }
          ],
          "histogram2dcontour": [
           {
            "colorbar": {
             "outlinewidth": 0,
             "ticks": ""
            },
            "colorscale": [
             [
              0,
              "#0d0887"
             ],
             [
              0.1111111111111111,
              "#46039f"
             ],
             [
              0.2222222222222222,
              "#7201a8"
             ],
             [
              0.3333333333333333,
              "#9c179e"
             ],
             [
              0.4444444444444444,
              "#bd3786"
             ],
             [
              0.5555555555555556,
              "#d8576b"
             ],
             [
              0.6666666666666666,
              "#ed7953"
             ],
             [
              0.7777777777777778,
              "#fb9f3a"
             ],
             [
              0.8888888888888888,
              "#fdca26"
             ],
             [
              1,
              "#f0f921"
             ]
            ],
            "type": "histogram2dcontour"
           }
          ],
          "mesh3d": [
           {
            "colorbar": {
             "outlinewidth": 0,
             "ticks": ""
            },
            "type": "mesh3d"
           }
          ],
          "parcoords": [
           {
            "line": {
             "colorbar": {
              "outlinewidth": 0,
              "ticks": ""
             }
            },
            "type": "parcoords"
           }
          ],
          "pie": [
           {
            "automargin": true,
            "type": "pie"
           }
          ],
          "scatter": [
           {
            "fillpattern": {
             "fillmode": "overlay",
             "size": 10,
             "solidity": 0.2
            },
            "type": "scatter"
           }
          ],
          "scatter3d": [
           {
            "line": {
             "colorbar": {
              "outlinewidth": 0,
              "ticks": ""
             }
            },
            "marker": {
             "colorbar": {
              "outlinewidth": 0,
              "ticks": ""
             }
            },
            "type": "scatter3d"
           }
          ],
          "scattercarpet": [
           {
            "marker": {
             "colorbar": {
              "outlinewidth": 0,
              "ticks": ""
             }
            },
            "type": "scattercarpet"
           }
          ],
          "scattergeo": [
           {
            "marker": {
             "colorbar": {
              "outlinewidth": 0,
              "ticks": ""
             }
            },
            "type": "scattergeo"
           }
          ],
          "scattergl": [
           {
            "marker": {
             "colorbar": {
              "outlinewidth": 0,
              "ticks": ""
             }
            },
            "type": "scattergl"
           }
          ],
          "scattermapbox": [
           {
            "marker": {
             "colorbar": {
              "outlinewidth": 0,
              "ticks": ""
             }
            },
            "type": "scattermapbox"
           }
          ],
          "scatterpolar": [
           {
            "marker": {
             "colorbar": {
              "outlinewidth": 0,
              "ticks": ""
             }
            },
            "type": "scatterpolar"
           }
          ],
          "scatterpolargl": [
           {
            "marker": {
             "colorbar": {
              "outlinewidth": 0,
              "ticks": ""
             }
            },
            "type": "scatterpolargl"
           }
          ],
          "scatterternary": [
           {
            "marker": {
             "colorbar": {
              "outlinewidth": 0,
              "ticks": ""
             }
            },
            "type": "scatterternary"
           }
          ],
          "surface": [
           {
            "colorbar": {
             "outlinewidth": 0,
             "ticks": ""
            },
            "colorscale": [
             [
              0,
              "#0d0887"
             ],
             [
              0.1111111111111111,
              "#46039f"
             ],
             [
              0.2222222222222222,
              "#7201a8"
             ],
             [
              0.3333333333333333,
              "#9c179e"
             ],
             [
              0.4444444444444444,
              "#bd3786"
             ],
             [
              0.5555555555555556,
              "#d8576b"
             ],
             [
              0.6666666666666666,
              "#ed7953"
             ],
             [
              0.7777777777777778,
              "#fb9f3a"
             ],
             [
              0.8888888888888888,
              "#fdca26"
             ],
             [
              1,
              "#f0f921"
             ]
            ],
            "type": "surface"
           }
          ],
          "table": [
           {
            "cells": {
             "fill": {
              "color": "#EBF0F8"
             },
             "line": {
              "color": "white"
             }
            },
            "header": {
             "fill": {
              "color": "#C8D4E3"
             },
             "line": {
              "color": "white"
             }
            },
            "type": "table"
           }
          ]
         },
         "layout": {
          "annotationdefaults": {
           "arrowcolor": "#2a3f5f",
           "arrowhead": 0,
           "arrowwidth": 1
          },
          "autotypenumbers": "strict",
          "coloraxis": {
           "colorbar": {
            "outlinewidth": 0,
            "ticks": ""
           }
          },
          "colorscale": {
           "diverging": [
            [
             0,
             "#8e0152"
            ],
            [
             0.1,
             "#c51b7d"
            ],
            [
             0.2,
             "#de77ae"
            ],
            [
             0.3,
             "#f1b6da"
            ],
            [
             0.4,
             "#fde0ef"
            ],
            [
             0.5,
             "#f7f7f7"
            ],
            [
             0.6,
             "#e6f5d0"
            ],
            [
             0.7,
             "#b8e186"
            ],
            [
             0.8,
             "#7fbc41"
            ],
            [
             0.9,
             "#4d9221"
            ],
            [
             1,
             "#276419"
            ]
           ],
           "sequential": [
            [
             0,
             "#0d0887"
            ],
            [
             0.1111111111111111,
             "#46039f"
            ],
            [
             0.2222222222222222,
             "#7201a8"
            ],
            [
             0.3333333333333333,
             "#9c179e"
            ],
            [
             0.4444444444444444,
             "#bd3786"
            ],
            [
             0.5555555555555556,
             "#d8576b"
            ],
            [
             0.6666666666666666,
             "#ed7953"
            ],
            [
             0.7777777777777778,
             "#fb9f3a"
            ],
            [
             0.8888888888888888,
             "#fdca26"
            ],
            [
             1,
             "#f0f921"
            ]
           ],
           "sequentialminus": [
            [
             0,
             "#0d0887"
            ],
            [
             0.1111111111111111,
             "#46039f"
            ],
            [
             0.2222222222222222,
             "#7201a8"
            ],
            [
             0.3333333333333333,
             "#9c179e"
            ],
            [
             0.4444444444444444,
             "#bd3786"
            ],
            [
             0.5555555555555556,
             "#d8576b"
            ],
            [
             0.6666666666666666,
             "#ed7953"
            ],
            [
             0.7777777777777778,
             "#fb9f3a"
            ],
            [
             0.8888888888888888,
             "#fdca26"
            ],
            [
             1,
             "#f0f921"
            ]
           ]
          },
          "colorway": [
           "#636efa",
           "#EF553B",
           "#00cc96",
           "#ab63fa",
           "#FFA15A",
           "#19d3f3",
           "#FF6692",
           "#B6E880",
           "#FF97FF",
           "#FECB52"
          ],
          "font": {
           "color": "#2a3f5f"
          },
          "geo": {
           "bgcolor": "white",
           "lakecolor": "white",
           "landcolor": "#E5ECF6",
           "showlakes": true,
           "showland": true,
           "subunitcolor": "white"
          },
          "hoverlabel": {
           "align": "left"
          },
          "hovermode": "closest",
          "mapbox": {
           "style": "light"
          },
          "paper_bgcolor": "white",
          "plot_bgcolor": "#E5ECF6",
          "polar": {
           "angularaxis": {
            "gridcolor": "white",
            "linecolor": "white",
            "ticks": ""
           },
           "bgcolor": "#E5ECF6",
           "radialaxis": {
            "gridcolor": "white",
            "linecolor": "white",
            "ticks": ""
           }
          },
          "scene": {
           "xaxis": {
            "backgroundcolor": "#E5ECF6",
            "gridcolor": "white",
            "gridwidth": 2,
            "linecolor": "white",
            "showbackground": true,
            "ticks": "",
            "zerolinecolor": "white"
           },
           "yaxis": {
            "backgroundcolor": "#E5ECF6",
            "gridcolor": "white",
            "gridwidth": 2,
            "linecolor": "white",
            "showbackground": true,
            "ticks": "",
            "zerolinecolor": "white"
           },
           "zaxis": {
            "backgroundcolor": "#E5ECF6",
            "gridcolor": "white",
            "gridwidth": 2,
            "linecolor": "white",
            "showbackground": true,
            "ticks": "",
            "zerolinecolor": "white"
           }
          },
          "shapedefaults": {
           "line": {
            "color": "#2a3f5f"
           }
          },
          "ternary": {
           "aaxis": {
            "gridcolor": "white",
            "linecolor": "white",
            "ticks": ""
           },
           "baxis": {
            "gridcolor": "white",
            "linecolor": "white",
            "ticks": ""
           },
           "bgcolor": "#E5ECF6",
           "caxis": {
            "gridcolor": "white",
            "linecolor": "white",
            "ticks": ""
           }
          },
          "title": {
           "x": 0.05
          },
          "xaxis": {
           "automargin": true,
           "gridcolor": "white",
           "linecolor": "white",
           "ticks": "",
           "title": {
            "standoff": 15
           },
           "zerolinecolor": "white",
           "zerolinewidth": 2
          },
          "yaxis": {
           "automargin": true,
           "gridcolor": "white",
           "linecolor": "white",
           "ticks": "",
           "title": {
            "standoff": 15
           },
           "zerolinecolor": "white",
           "zerolinewidth": 2
          }
         }
        },
        "title": {
         "font": {
          "color": "black",
          "family": "Times New Roman",
          "size": 24
         },
         "text": "Target pathways",
         "x": 0.5
        }
       }
      },
      "text/html": [
       "<div>                            <div id=\"e021fb21-220b-4c01-b4a9-da43001263bf\" class=\"plotly-graph-div\" style=\"height:525px; width:100%;\"></div>            <script type=\"text/javascript\">                require([\"plotly\"], function(Plotly) {                    window.PLOTLYENV=window.PLOTLYENV || {};                                    if (document.getElementById(\"e021fb21-220b-4c01-b4a9-da43001263bf\")) {                    Plotly.newPlot(                        \"e021fb21-220b-4c01-b4a9-da43001263bf\",                        [{\"link\":{\"color\":[\"#80f636\",\"#f0747a\",\"#e48ca0\",\"#e4dfbe\",\"#0314a2\",\"#bfffd5\",\"#6c3b5c\",\"#bba18b\",\"#8a8e56\",\"#ecd50b\",\"#bfe84c\",\"#708d52\",\"#7b5b95\",\"#74aa09\",\"#2e35da\",\"#e9e9bd\",\"#0dda67\",\"#18af26\",\"#8a006e\",\"#2d4141\",\"#5e1b57\",\"#6e263c\",\"#dc8414\",\"#d95759\",\"#927265\",\"#3f7c95\",\"#45e0cf\",\"#a27cff\",\"#9f470c\",\"#5d8605\",\"#f3ff29\",\"#1f0193\",\"#b9c698\",\"#1c9362\",\"#4c275f\",\"#1a0af2\",\"#3928e3\",\"#31bef0\",\"#715f13\",\"#ab6dca\",\"#511810\",\"#0f1bc3\",\"#27e8c4\",\"#a08bbf\",\"#fe5bf6\",\"#110905\",\"#0d1faf\",\"#e7b509\",\"#9456ae\",\"#e2412b\",\"#944361\",\"#91ddd3\",\"#246130\",\"#422007\",\"#7f9652\",\"#a12aac\",\"#88d711\",\"#51712f\",\"#ca5451\",\"#6fcd08\",\"#a57bbc\",\"#7d0bb1\",\"#78928d\",\"#201c95\",\"#039c95\",\"#fc7963\",\"#53bec2\",\"#da68ea\",\"#894cf9\",\"#eaaa93\",\"#49a0b8\",\"#17e322\",\"#8514ab\",\"#2d836b\",\"#8f1bea\",\"#d6eefb\",\"#8e4751\",\"#3ed682\",\"#615929\",\"#39de16\",\"#08bc9b\",\"#b8c0d8\",\"#af1e14\",\"#7b3f50\"],\"source\":[1,1,1,2,2,2,3,4,4,4,4,4,5,5,6,6,6,7,7,7,7,7,7,8,8,8,9,9,9,9,9,9,10,10,10,10,10,11,11,11,12,12,12,13,13,13,13,13,13,14,14,15,15,15,16,16,16,16,16,16,16,17,17,18,18,18,18,18,20,20,21,21,21,22,22,22,22,23,23,23,23,24,24,24],\"target\":[4,7,16,6,8,5,17,19,14,24,10,23,8,6,13,21,18,23,4,19,24,10,14,6,18,13,1,7,19,14,16,4,0,14,19,23,24,22,15,9,2,5,20,22,21,15,9,18,11,0,19,9,16,1,23,24,14,7,4,19,10,20,12,9,21,15,11,22,5,2,22,11,15,9,15,1,16,14,0,19,24,0,14,19],\"value\":[162,601,10055,1,171,13784,14000,94,72,69,6620,737,13451,377,9451,58,364,45,6803,11,5,6282,3,9495,307,3820,8856,33,3,3,233,134,176,497,303,9787,2160,13503,194,12,30,6,13487,18,129,8,2,13095,19,3302,4489,9104,2724,1821,24,4,1,12515,493,6,21,477,13523,3,13481,25,185,72,38,13926,161,13505,2,141,13420,141,52,391,95,272,9835,4302,6824,947]},\"node\":{\"color\":[\"#086260\",\"#4547a2\",\"#277f74\",\"#2d51f5\",\"#662885\",\"#5d40bd\",\"#f40291\",\"#4dcd6b\",\"#bebb0a\",\"#5666ae\",\"#ccf33b\",\"#6b1907\",\"#c0aeab\",\"#0e3a1b\",\"#14f47a\",\"#3e490a\",\"#6e5f68\",\"#50d405\",\"#83b152\",\"#19ca56\",\"#1464f0\",\"#38fd08\",\"#56910b\",\"#fe135f\",\"#e702f7\"],\"label\":[\"No lupus\",\"anti_cardioliphin_antibodies\",\"lupus_anti_coagulant\",\"joint_involvement\",\"anti_smith_antibody\",\"low_c4\",\"low_c3\",\"seizure\",\"anti_dsdna_antibody\",\"non_scarring_alopecia\",\"fever\",\"pleural_effusion\",\"proteinuria\",\"delirium\",\"psychosis\",\"leukopenia\",\"anti_\\u03b22gp1_antibodies\",\"ana\",\"cutaneous_lupus\",\"Lupus\",\"thrombocytopenia\",\"pericardial_effusion\",\"acute_pericarditis\",\"oral_ulcers\",\"auto_immune_hemolysis\"],\"line\":{\"color\":\"black\",\"width\":0.5},\"pad\":15,\"thickness\":20},\"type\":\"sankey\"}],                        {\"template\":{\"data\":{\"histogram2dcontour\":[{\"type\":\"histogram2dcontour\",\"colorbar\":{\"outlinewidth\":0,\"ticks\":\"\"},\"colorscale\":[[0.0,\"#0d0887\"],[0.1111111111111111,\"#46039f\"],[0.2222222222222222,\"#7201a8\"],[0.3333333333333333,\"#9c179e\"],[0.4444444444444444,\"#bd3786\"],[0.5555555555555556,\"#d8576b\"],[0.6666666666666666,\"#ed7953\"],[0.7777777777777778,\"#fb9f3a\"],[0.8888888888888888,\"#fdca26\"],[1.0,\"#f0f921\"]]}],\"choropleth\":[{\"type\":\"choropleth\",\"colorbar\":{\"outlinewidth\":0,\"ticks\":\"\"}}],\"histogram2d\":[{\"type\":\"histogram2d\",\"colorbar\":{\"outlinewidth\":0,\"ticks\":\"\"},\"colorscale\":[[0.0,\"#0d0887\"],[0.1111111111111111,\"#46039f\"],[0.2222222222222222,\"#7201a8\"],[0.3333333333333333,\"#9c179e\"],[0.4444444444444444,\"#bd3786\"],[0.5555555555555556,\"#d8576b\"],[0.6666666666666666,\"#ed7953\"],[0.7777777777777778,\"#fb9f3a\"],[0.8888888888888888,\"#fdca26\"],[1.0,\"#f0f921\"]]}],\"heatmap\":[{\"type\":\"heatmap\",\"colorbar\":{\"outlinewidth\":0,\"ticks\":\"\"},\"colorscale\":[[0.0,\"#0d0887\"],[0.1111111111111111,\"#46039f\"],[0.2222222222222222,\"#7201a8\"],[0.3333333333333333,\"#9c179e\"],[0.4444444444444444,\"#bd3786\"],[0.5555555555555556,\"#d8576b\"],[0.6666666666666666,\"#ed7953\"],[0.7777777777777778,\"#fb9f3a\"],[0.8888888888888888,\"#fdca26\"],[1.0,\"#f0f921\"]]}],\"heatmapgl\":[{\"type\":\"heatmapgl\",\"colorbar\":{\"outlinewidth\":0,\"ticks\":\"\"},\"colorscale\":[[0.0,\"#0d0887\"],[0.1111111111111111,\"#46039f\"],[0.2222222222222222,\"#7201a8\"],[0.3333333333333333,\"#9c179e\"],[0.4444444444444444,\"#bd3786\"],[0.5555555555555556,\"#d8576b\"],[0.6666666666666666,\"#ed7953\"],[0.7777777777777778,\"#fb9f3a\"],[0.8888888888888888,\"#fdca26\"],[1.0,\"#f0f921\"]]}],\"contourcarpet\":[{\"type\":\"contourcarpet\",\"colorbar\":{\"outlinewidth\":0,\"ticks\":\"\"}}],\"contour\":[{\"type\":\"contour\",\"colorbar\":{\"outlinewidth\":0,\"ticks\":\"\"},\"colorscale\":[[0.0,\"#0d0887\"],[0.1111111111111111,\"#46039f\"],[0.2222222222222222,\"#7201a8\"],[0.3333333333333333,\"#9c179e\"],[0.4444444444444444,\"#bd3786\"],[0.5555555555555556,\"#d8576b\"],[0.6666666666666666,\"#ed7953\"],[0.7777777777777778,\"#fb9f3a\"],[0.8888888888888888,\"#fdca26\"],[1.0,\"#f0f921\"]]}],\"surface\":[{\"type\":\"surface\",\"colorbar\":{\"outlinewidth\":0,\"ticks\":\"\"},\"colorscale\":[[0.0,\"#0d0887\"],[0.1111111111111111,\"#46039f\"],[0.2222222222222222,\"#7201a8\"],[0.3333333333333333,\"#9c179e\"],[0.4444444444444444,\"#bd3786\"],[0.5555555555555556,\"#d8576b\"],[0.6666666666666666,\"#ed7953\"],[0.7777777777777778,\"#fb9f3a\"],[0.8888888888888888,\"#fdca26\"],[1.0,\"#f0f921\"]]}],\"mesh3d\":[{\"type\":\"mesh3d\",\"colorbar\":{\"outlinewidth\":0,\"ticks\":\"\"}}],\"scatter\":[{\"fillpattern\":{\"fillmode\":\"overlay\",\"size\":10,\"solidity\":0.2},\"type\":\"scatter\"}],\"parcoords\":[{\"type\":\"parcoords\",\"line\":{\"colorbar\":{\"outlinewidth\":0,\"ticks\":\"\"}}}],\"scatterpolargl\":[{\"type\":\"scatterpolargl\",\"marker\":{\"colorbar\":{\"outlinewidth\":0,\"ticks\":\"\"}}}],\"bar\":[{\"error_x\":{\"color\":\"#2a3f5f\"},\"error_y\":{\"color\":\"#2a3f5f\"},\"marker\":{\"line\":{\"color\":\"#E5ECF6\",\"width\":0.5},\"pattern\":{\"fillmode\":\"overlay\",\"size\":10,\"solidity\":0.2}},\"type\":\"bar\"}],\"scattergeo\":[{\"type\":\"scattergeo\",\"marker\":{\"colorbar\":{\"outlinewidth\":0,\"ticks\":\"\"}}}],\"scatterpolar\":[{\"type\":\"scatterpolar\",\"marker\":{\"colorbar\":{\"outlinewidth\":0,\"ticks\":\"\"}}}],\"histogram\":[{\"marker\":{\"pattern\":{\"fillmode\":\"overlay\",\"size\":10,\"solidity\":0.2}},\"type\":\"histogram\"}],\"scattergl\":[{\"type\":\"scattergl\",\"marker\":{\"colorbar\":{\"outlinewidth\":0,\"ticks\":\"\"}}}],\"scatter3d\":[{\"type\":\"scatter3d\",\"line\":{\"colorbar\":{\"outlinewidth\":0,\"ticks\":\"\"}},\"marker\":{\"colorbar\":{\"outlinewidth\":0,\"ticks\":\"\"}}}],\"scattermapbox\":[{\"type\":\"scattermapbox\",\"marker\":{\"colorbar\":{\"outlinewidth\":0,\"ticks\":\"\"}}}],\"scatterternary\":[{\"type\":\"scatterternary\",\"marker\":{\"colorbar\":{\"outlinewidth\":0,\"ticks\":\"\"}}}],\"scattercarpet\":[{\"type\":\"scattercarpet\",\"marker\":{\"colorbar\":{\"outlinewidth\":0,\"ticks\":\"\"}}}],\"carpet\":[{\"aaxis\":{\"endlinecolor\":\"#2a3f5f\",\"gridcolor\":\"white\",\"linecolor\":\"white\",\"minorgridcolor\":\"white\",\"startlinecolor\":\"#2a3f5f\"},\"baxis\":{\"endlinecolor\":\"#2a3f5f\",\"gridcolor\":\"white\",\"linecolor\":\"white\",\"minorgridcolor\":\"white\",\"startlinecolor\":\"#2a3f5f\"},\"type\":\"carpet\"}],\"table\":[{\"cells\":{\"fill\":{\"color\":\"#EBF0F8\"},\"line\":{\"color\":\"white\"}},\"header\":{\"fill\":{\"color\":\"#C8D4E3\"},\"line\":{\"color\":\"white\"}},\"type\":\"table\"}],\"barpolar\":[{\"marker\":{\"line\":{\"color\":\"#E5ECF6\",\"width\":0.5},\"pattern\":{\"fillmode\":\"overlay\",\"size\":10,\"solidity\":0.2}},\"type\":\"barpolar\"}],\"pie\":[{\"automargin\":true,\"type\":\"pie\"}]},\"layout\":{\"autotypenumbers\":\"strict\",\"colorway\":[\"#636efa\",\"#EF553B\",\"#00cc96\",\"#ab63fa\",\"#FFA15A\",\"#19d3f3\",\"#FF6692\",\"#B6E880\",\"#FF97FF\",\"#FECB52\"],\"font\":{\"color\":\"#2a3f5f\"},\"hovermode\":\"closest\",\"hoverlabel\":{\"align\":\"left\"},\"paper_bgcolor\":\"white\",\"plot_bgcolor\":\"#E5ECF6\",\"polar\":{\"bgcolor\":\"#E5ECF6\",\"angularaxis\":{\"gridcolor\":\"white\",\"linecolor\":\"white\",\"ticks\":\"\"},\"radialaxis\":{\"gridcolor\":\"white\",\"linecolor\":\"white\",\"ticks\":\"\"}},\"ternary\":{\"bgcolor\":\"#E5ECF6\",\"aaxis\":{\"gridcolor\":\"white\",\"linecolor\":\"white\",\"ticks\":\"\"},\"baxis\":{\"gridcolor\":\"white\",\"linecolor\":\"white\",\"ticks\":\"\"},\"caxis\":{\"gridcolor\":\"white\",\"linecolor\":\"white\",\"ticks\":\"\"}},\"coloraxis\":{\"colorbar\":{\"outlinewidth\":0,\"ticks\":\"\"}},\"colorscale\":{\"sequential\":[[0.0,\"#0d0887\"],[0.1111111111111111,\"#46039f\"],[0.2222222222222222,\"#7201a8\"],[0.3333333333333333,\"#9c179e\"],[0.4444444444444444,\"#bd3786\"],[0.5555555555555556,\"#d8576b\"],[0.6666666666666666,\"#ed7953\"],[0.7777777777777778,\"#fb9f3a\"],[0.8888888888888888,\"#fdca26\"],[1.0,\"#f0f921\"]],\"sequentialminus\":[[0.0,\"#0d0887\"],[0.1111111111111111,\"#46039f\"],[0.2222222222222222,\"#7201a8\"],[0.3333333333333333,\"#9c179e\"],[0.4444444444444444,\"#bd3786\"],[0.5555555555555556,\"#d8576b\"],[0.6666666666666666,\"#ed7953\"],[0.7777777777777778,\"#fb9f3a\"],[0.8888888888888888,\"#fdca26\"],[1.0,\"#f0f921\"]],\"diverging\":[[0,\"#8e0152\"],[0.1,\"#c51b7d\"],[0.2,\"#de77ae\"],[0.3,\"#f1b6da\"],[0.4,\"#fde0ef\"],[0.5,\"#f7f7f7\"],[0.6,\"#e6f5d0\"],[0.7,\"#b8e186\"],[0.8,\"#7fbc41\"],[0.9,\"#4d9221\"],[1,\"#276419\"]]},\"xaxis\":{\"gridcolor\":\"white\",\"linecolor\":\"white\",\"ticks\":\"\",\"title\":{\"standoff\":15},\"zerolinecolor\":\"white\",\"automargin\":true,\"zerolinewidth\":2},\"yaxis\":{\"gridcolor\":\"white\",\"linecolor\":\"white\",\"ticks\":\"\",\"title\":{\"standoff\":15},\"zerolinecolor\":\"white\",\"automargin\":true,\"zerolinewidth\":2},\"scene\":{\"xaxis\":{\"backgroundcolor\":\"#E5ECF6\",\"gridcolor\":\"white\",\"linecolor\":\"white\",\"showbackground\":true,\"ticks\":\"\",\"zerolinecolor\":\"white\",\"gridwidth\":2},\"yaxis\":{\"backgroundcolor\":\"#E5ECF6\",\"gridcolor\":\"white\",\"linecolor\":\"white\",\"showbackground\":true,\"ticks\":\"\",\"zerolinecolor\":\"white\",\"gridwidth\":2},\"zaxis\":{\"backgroundcolor\":\"#E5ECF6\",\"gridcolor\":\"white\",\"linecolor\":\"white\",\"showbackground\":true,\"ticks\":\"\",\"zerolinecolor\":\"white\",\"gridwidth\":2}},\"shapedefaults\":{\"line\":{\"color\":\"#2a3f5f\"}},\"annotationdefaults\":{\"arrowcolor\":\"#2a3f5f\",\"arrowhead\":0,\"arrowwidth\":1},\"geo\":{\"bgcolor\":\"white\",\"landcolor\":\"#E5ECF6\",\"subunitcolor\":\"white\",\"showland\":true,\"showlakes\":true,\"lakecolor\":\"white\"},\"title\":{\"x\":0.05},\"mapbox\":{\"style\":\"light\"}}},\"title\":{\"font\":{\"size\":24,\"color\":\"black\",\"family\":\"Times New Roman\"},\"text\":\"Target pathways\",\"x\":0.5}},                        {\"responsive\": true}                    ).then(function(){\n",
       "                            \n",
       "var gd = document.getElementById('e021fb21-220b-4c01-b4a9-da43001263bf');\n",
       "var x = new MutationObserver(function (mutations, observer) {{\n",
       "        var display = window.getComputedStyle(gd).display;\n",
       "        if (!display || display === 'none') {{\n",
       "            console.log([gd, 'removed!']);\n",
       "            Plotly.purge(gd);\n",
       "            observer.disconnect();\n",
       "        }}\n",
       "}});\n",
       "\n",
       "// Listen for the removal of the full notebook cells\n",
       "var notebookContainer = gd.closest('#notebook-container');\n",
       "if (notebookContainer) {{\n",
       "    x.observe(notebookContainer, {childList: true});\n",
       "}}\n",
       "\n",
       "// Listen for the clearing of the current output cell\n",
       "var outputEl = gd.closest('.output');\n",
       "if (outputEl) {{\n",
       "    x.observe(outputEl, {childList: true});\n",
       "}}\n",
       "\n",
       "                        })                };                });            </script>        </div>"
      ]
     },
     "metadata": {},
     "output_type": "display_data"
    }
   ],
   "source": [
    "draw_sankey_diagram_orig(test_df, 'Target pathways', save=True, filename='../pathways/noisiness/0.4')"
   ]
  },
  {
   "cell_type": "markdown",
   "id": "68be2947",
   "metadata": {},
   "source": [
    "#### Just trying more stuff"
   ]
  },
  {
   "cell_type": "code",
   "execution_count": 15,
   "id": "ffdda359",
   "metadata": {},
   "outputs": [
    {
     "data": {
      "text/html": [
       "<div>\n",
       "<style scoped>\n",
       "    .dataframe tbody tr th:only-of-type {\n",
       "        vertical-align: middle;\n",
       "    }\n",
       "\n",
       "    .dataframe tbody tr th {\n",
       "        vertical-align: top;\n",
       "    }\n",
       "\n",
       "    .dataframe thead th {\n",
       "        text-align: right;\n",
       "    }\n",
       "</style>\n",
       "<table border=\"1\" class=\"dataframe\">\n",
       "  <thead>\n",
       "    <tr style=\"text-align: right;\">\n",
       "      <th></th>\n",
       "      <th>source</th>\n",
       "      <th>target</th>\n",
       "      <th>value</th>\n",
       "      <th>link_type</th>\n",
       "      <th>type</th>\n",
       "    </tr>\n",
       "  </thead>\n",
       "  <tbody>\n",
       "    <tr>\n",
       "      <th>0</th>\n",
       "      <td>cutaneous_lupus</td>\n",
       "      <td>low_c4</td>\n",
       "      <td>13929</td>\n",
       "      <td>non_terminal</td>\n",
       "      <td>directed</td>\n",
       "    </tr>\n",
       "    <tr>\n",
       "      <th>1</th>\n",
       "      <td>low_c4</td>\n",
       "      <td>anti_dsdna_antibody</td>\n",
       "      <td>13813</td>\n",
       "      <td>non_terminal</td>\n",
       "      <td>directed</td>\n",
       "    </tr>\n",
       "    <tr>\n",
       "      <th>2</th>\n",
       "      <td>anti_dsdna_antibody</td>\n",
       "      <td>pericardial_effusion</td>\n",
       "      <td>13599</td>\n",
       "      <td>non_terminal</td>\n",
       "      <td>directed</td>\n",
       "    </tr>\n",
       "    <tr>\n",
       "      <th>3</th>\n",
       "      <td>pericardial_effusion</td>\n",
       "      <td>ana</td>\n",
       "      <td>13542</td>\n",
       "      <td>non_terminal</td>\n",
       "      <td>directed</td>\n",
       "    </tr>\n",
       "    <tr>\n",
       "      <th>4</th>\n",
       "      <td>ana</td>\n",
       "      <td>thrombocytopenia</td>\n",
       "      <td>13524</td>\n",
       "      <td>non_terminal</td>\n",
       "      <td>directed</td>\n",
       "    </tr>\n",
       "  </tbody>\n",
       "</table>\n",
       "</div>"
      ],
      "text/plain": [
       "                 source                target  value     link_type      type\n",
       "0       cutaneous_lupus                low_c4  13929  non_terminal  directed\n",
       "1                low_c4   anti_dsdna_antibody  13813  non_terminal  directed\n",
       "2   anti_dsdna_antibody  pericardial_effusion  13599  non_terminal  directed\n",
       "3  pericardial_effusion                   ana  13542  non_terminal  directed\n",
       "4                   ana      thrombocytopenia  13524  non_terminal  directed"
      ]
     },
     "execution_count": 15,
     "metadata": {},
     "output_type": "execute_result"
    }
   ],
   "source": [
    "pathways_df = create_sankey_df(test_df)\n",
    "pathways_df['type'] = 'directed'\n",
    "#     G = nx.from_pandas_edgelist(pathways_df, source='Label1', target='Label2', edge_attr='value', \n",
    "#                                 create_using=nx.DiGraph())\n",
    "#     nx.draw_networkx(G, arrows=True)\n",
    "pathways_df.head()"
   ]
  },
  {
   "cell_type": "code",
   "execution_count": 16,
   "id": "a37c5f52",
   "metadata": {},
   "outputs": [
    {
     "data": {
      "text/html": [
       "\n",
       "        <iframe\n",
       "            width=\"100%\"\n",
       "            height=\"750px\"\n",
       "            src=\"Example.html\"\n",
       "            frameborder=\"0\"\n",
       "            allowfullscreen\n",
       "            \n",
       "        ></iframe>\n",
       "        "
      ],
      "text/plain": [
       "<IPython.lib.display.IFrame at 0x7effe4e10690>"
      ]
     },
     "execution_count": 16,
     "metadata": {},
     "output_type": "execute_result"
    }
   ],
   "source": [
    "got_net = Network(notebook=True, height='750px', width='100%', directed=True, cdn_resources='in_line')\n",
    "\n",
    "# set the physics layout of the network\n",
    "got_net.barnes_hut()\n",
    "\n",
    "sources = pathways_df['source']\n",
    "targets = pathways_df['target']\n",
    "values = pathways_df['value']\n",
    "types = pathways_df['link_type']\n",
    "\n",
    "# create graph using pviz network \n",
    "edge_data = zip(sources, targets, values, types)\n",
    "\n",
    "for src, dst, val, link_type in edge_data:\n",
    "    got_net.add_node(src, label=src, title=src, color='blue')\n",
    "    if link_type == 'terminal':\n",
    "        got_net.add_node(dst, label=dst, title=dst, color='green')\n",
    "    else:\n",
    "        got_net.add_node(dst, dst, title=dst, color='blue')\n",
    "\n",
    "    got_net.add_edge(src, dst, value=val)\n",
    "got_net.show('Example.html')"
   ]
  },
  {
   "cell_type": "code",
   "execution_count": 17,
   "id": "ac405e05",
   "metadata": {},
   "outputs": [
    {
     "name": "stderr",
     "output_type": "stream",
     "text": [
      "/home/lmuyama/anaconda3/envs/stable_baselines_3_env/lib/python3.7/site-packages/nxviz/__init__.py:29: UserWarning:\n",
      "\n",
      "\n",
      "nxviz has a new API! Version 0.7.4 onwards, the old class-based API is being\n",
      "deprecated in favour of a new API focused on advancing a grammar of network\n",
      "graphics. If your plotting code depends on the old API, please consider\n",
      "pinning nxviz at version 0.7.4, as the new API will break your old code.\n",
      "\n",
      "To check out the new API, please head over to the docs at\n",
      "https://ericmjl.github.io/nxviz/ to learn more. We hope you enjoy using it!\n",
      "\n",
      "(This deprecation message will go away in version 1.0.)\n",
      "\n",
      "\n"
     ]
    }
   ],
   "source": [
    "import nxviz as nv                 # network viz\n",
    "from nxviz import annotate "
   ]
  },
  {
   "cell_type": "code",
   "execution_count": 18,
   "id": "498b2002",
   "metadata": {},
   "outputs": [
    {
     "data": {
      "text/html": [
       "<div>\n",
       "<style scoped>\n",
       "    .dataframe tbody tr th:only-of-type {\n",
       "        vertical-align: middle;\n",
       "    }\n",
       "\n",
       "    .dataframe tbody tr th {\n",
       "        vertical-align: top;\n",
       "    }\n",
       "\n",
       "    .dataframe thead th {\n",
       "        text-align: right;\n",
       "    }\n",
       "</style>\n",
       "<table border=\"1\" class=\"dataframe\">\n",
       "  <thead>\n",
       "    <tr style=\"text-align: right;\">\n",
       "      <th></th>\n",
       "      <th>source</th>\n",
       "      <th>target</th>\n",
       "      <th>value</th>\n",
       "      <th>link_type</th>\n",
       "    </tr>\n",
       "  </thead>\n",
       "  <tbody>\n",
       "    <tr>\n",
       "      <th>0</th>\n",
       "      <td>cutaneous_lupus</td>\n",
       "      <td>low_c4</td>\n",
       "      <td>13929</td>\n",
       "      <td>non_terminal</td>\n",
       "    </tr>\n",
       "    <tr>\n",
       "      <th>1</th>\n",
       "      <td>low_c4</td>\n",
       "      <td>anti_dsdna_antibody</td>\n",
       "      <td>13813</td>\n",
       "      <td>non_terminal</td>\n",
       "    </tr>\n",
       "    <tr>\n",
       "      <th>2</th>\n",
       "      <td>anti_dsdna_antibody</td>\n",
       "      <td>pericardial_effusion</td>\n",
       "      <td>13599</td>\n",
       "      <td>non_terminal</td>\n",
       "    </tr>\n",
       "    <tr>\n",
       "      <th>3</th>\n",
       "      <td>pericardial_effusion</td>\n",
       "      <td>ana</td>\n",
       "      <td>13542</td>\n",
       "      <td>non_terminal</td>\n",
       "    </tr>\n",
       "    <tr>\n",
       "      <th>4</th>\n",
       "      <td>ana</td>\n",
       "      <td>thrombocytopenia</td>\n",
       "      <td>13524</td>\n",
       "      <td>non_terminal</td>\n",
       "    </tr>\n",
       "  </tbody>\n",
       "</table>\n",
       "</div>"
      ],
      "text/plain": [
       "                 source                target  value     link_type\n",
       "0       cutaneous_lupus                low_c4  13929  non_terminal\n",
       "1                low_c4   anti_dsdna_antibody  13813  non_terminal\n",
       "2   anti_dsdna_antibody  pericardial_effusion  13599  non_terminal\n",
       "3  pericardial_effusion                   ana  13542  non_terminal\n",
       "4                   ana      thrombocytopenia  13524  non_terminal"
      ]
     },
     "execution_count": 18,
     "metadata": {},
     "output_type": "execute_result"
    }
   ],
   "source": [
    "trial_df = create_sankey_df(test_df)\n",
    "trial_df.head()"
   ]
  },
  {
   "cell_type": "code",
   "execution_count": 19,
   "id": "ad9c0482",
   "metadata": {},
   "outputs": [
    {
     "data": {
      "text/plain": [
       "array(['cutaneous_lupus', 'low_c4', 'anti_dsdna_antibody',\n",
       "       'pericardial_effusion', 'ana', 'thrombocytopenia', 'leukopenia',\n",
       "       'fever', 'oral_ulcers', 'delirium', 'lupus_anti_coagulant',\n",
       "       'joint_involvement', 'proteinuria', 'pleural_effusion',\n",
       "       'acute_pericarditis', 'seizure', 'non_scarring_alopecia',\n",
       "       'anti_β2gp1_antibodies', 'low_c3', 'auto_immune_hemolysis',\n",
       "       'psychosis', 'anti_cardioliphin_antibodies', 'anti_smith_antibody'],\n",
       "      dtype=object)"
      ]
     },
     "execution_count": 19,
     "metadata": {},
     "output_type": "execute_result"
    }
   ],
   "source": [
    "trial_df.source.unique()"
   ]
  },
  {
   "cell_type": "code",
   "execution_count": 20,
   "id": "2a7f7d0c",
   "metadata": {},
   "outputs": [
    {
     "data": {
      "text/html": [
       "<div>\n",
       "<style scoped>\n",
       "    .dataframe tbody tr th:only-of-type {\n",
       "        vertical-align: middle;\n",
       "    }\n",
       "\n",
       "    .dataframe tbody tr th {\n",
       "        vertical-align: top;\n",
       "    }\n",
       "\n",
       "    .dataframe thead th {\n",
       "        text-align: right;\n",
       "    }\n",
       "</style>\n",
       "<table border=\"1\" class=\"dataframe\">\n",
       "  <thead>\n",
       "    <tr style=\"text-align: right;\">\n",
       "      <th></th>\n",
       "      <th>Label</th>\n",
       "      <th>Domain</th>\n",
       "    </tr>\n",
       "  </thead>\n",
       "  <tbody>\n",
       "    <tr>\n",
       "      <th>0</th>\n",
       "      <td>fever</td>\n",
       "      <td>constitutional</td>\n",
       "    </tr>\n",
       "    <tr>\n",
       "      <th>1</th>\n",
       "      <td>leukopenia</td>\n",
       "      <td>hematalogic</td>\n",
       "    </tr>\n",
       "    <tr>\n",
       "      <th>2</th>\n",
       "      <td>thrombocytopenia</td>\n",
       "      <td>hematalogic</td>\n",
       "    </tr>\n",
       "    <tr>\n",
       "      <th>3</th>\n",
       "      <td>auto_immune_hemolysis</td>\n",
       "      <td>hematalogic</td>\n",
       "    </tr>\n",
       "    <tr>\n",
       "      <th>4</th>\n",
       "      <td>delirium</td>\n",
       "      <td>neuropsychiatric</td>\n",
       "    </tr>\n",
       "  </tbody>\n",
       "</table>\n",
       "</div>"
      ],
      "text/plain": [
       "                   Label            Domain\n",
       "0                  fever    constitutional\n",
       "1             leukopenia       hematalogic\n",
       "2       thrombocytopenia       hematalogic\n",
       "3  auto_immune_hemolysis       hematalogic\n",
       "4               delirium  neuropsychiatric"
      ]
     },
     "execution_count": 20,
     "metadata": {},
     "output_type": "execute_result"
    }
   ],
   "source": [
    "attributes = pd.DataFrame([{'Label':'fever','Domain':'constitutional'}, \n",
    "                           {'Label':'leukopenia','Domain':'hematalogic'},\n",
    "                           {'Label':'thrombocytopenia','Domain':'hematalogic'}, \n",
    "                           {'Label':'auto_immune_hemolysis','Domain':'hematalogic'},\n",
    "                           {'Label':'delirium','Domain':'neuropsychiatric'}, \n",
    "                           {'Label':'psychosis','Domain':'neuropsychiatric'},\n",
    "                           {'Label':'seizure','Domain':'neuropsychiatric'},\n",
    "                           {'Label':'non_scarring_alopecia','Domain':'mucocutaneous'},\n",
    "                           {'Label':'oral_ulcers','Domain':'mucocutaneous'},\n",
    "                           {'Label':'cutaneous_lupus','Domain':'mucocutaneous'},\n",
    "                           {'Label':'pleural_effusion','Domain':'serosal'},\n",
    "                           {'Label':'pericardial_effusion','Domain':'serosal'},\n",
    "                           {'Label':'acute_pericarditis','Domain':'serosal'},\n",
    "                           {'Label':'joint_involvement','Domain':'musculoskeletal'},\n",
    "                           {'Label':'proteinuria','Domain':'renal'},\n",
    "                           {'Label':'anti_cardioliphin_antibodies','Domain':'antiphospholipid_antibodies'},\n",
    "                           {'Label':'anti_β2gp1_antibodies','Domain':'antiphospholipid_antibodies'},\n",
    "                           {'Label':'lupus_anti_coagulant','Domain':'antiphospholipid_antibodies'},\n",
    "                           {'Label':'low_c3','Domain':'complement_proteins'},\n",
    "                           {'Label':'low_c4','Domain':'complement_proteins'},\n",
    "                           {'Label':'anti_smith_antibody','Domain':'sle_specific_antibodies'},\n",
    "                           {'Label':'anti_dsdna_antibody','Domain':'sle_specific_antibodies'},\n",
    "                           {'Label':'ana','Domain':'its own'}])\n",
    "attributes.head()"
   ]
  },
  {
   "cell_type": "code",
   "execution_count": 21,
   "id": "d4177315",
   "metadata": {},
   "outputs": [
    {
     "data": {
      "text/plain": [
       "23"
      ]
     },
     "execution_count": 21,
     "metadata": {},
     "output_type": "execute_result"
    }
   ],
   "source": [
    "len(attributes)"
   ]
  },
  {
   "cell_type": "code",
   "execution_count": 22,
   "id": "ef523a27",
   "metadata": {},
   "outputs": [
    {
     "data": {
      "text/html": [
       "<div>\n",
       "<style scoped>\n",
       "    .dataframe tbody tr th:only-of-type {\n",
       "        vertical-align: middle;\n",
       "    }\n",
       "\n",
       "    .dataframe tbody tr th {\n",
       "        vertical-align: top;\n",
       "    }\n",
       "\n",
       "    .dataframe thead th {\n",
       "        text-align: right;\n",
       "    }\n",
       "</style>\n",
       "<table border=\"1\" class=\"dataframe\">\n",
       "  <thead>\n",
       "    <tr style=\"text-align: right;\">\n",
       "      <th></th>\n",
       "      <th>Label</th>\n",
       "      <th>Domain</th>\n",
       "    </tr>\n",
       "  </thead>\n",
       "  <tbody>\n",
       "    <tr>\n",
       "      <th>0</th>\n",
       "      <td>fever</td>\n",
       "      <td>constitutional</td>\n",
       "    </tr>\n",
       "    <tr>\n",
       "      <th>1</th>\n",
       "      <td>leukopenia</td>\n",
       "      <td>constitutional</td>\n",
       "    </tr>\n",
       "    <tr>\n",
       "      <th>2</th>\n",
       "      <td>thrombocytopenia</td>\n",
       "      <td>constitutional</td>\n",
       "    </tr>\n",
       "    <tr>\n",
       "      <th>3</th>\n",
       "      <td>auto_immune_hemolysis</td>\n",
       "      <td>constitutional</td>\n",
       "    </tr>\n",
       "    <tr>\n",
       "      <th>4</th>\n",
       "      <td>delirium</td>\n",
       "      <td>constitutional</td>\n",
       "    </tr>\n",
       "  </tbody>\n",
       "</table>\n",
       "</div>"
      ],
      "text/plain": [
       "                   Label          Domain\n",
       "0                  fever  constitutional\n",
       "1             leukopenia  constitutional\n",
       "2       thrombocytopenia  constitutional\n",
       "3  auto_immune_hemolysis  constitutional\n",
       "4               delirium  constitutional"
      ]
     },
     "execution_count": 22,
     "metadata": {},
     "output_type": "execute_result"
    }
   ],
   "source": [
    "attributes['Domain'] = ['constitutional']*12 + ['hematalogic']*11\n",
    "attributes.head()"
   ]
  },
  {
   "cell_type": "code",
   "execution_count": 23,
   "id": "e7242386",
   "metadata": {},
   "outputs": [],
   "source": [
    "G = nx.from_pandas_edgelist(trial_df, source='source', target='target',edge_attr='value')\n",
    "node_attr = attributes.set_index('Label').to_dict('index')\n",
    "nx.set_node_attributes(G, node_attr)"
   ]
  },
  {
   "cell_type": "code",
   "execution_count": 24,
   "id": "1ec51674",
   "metadata": {},
   "outputs": [
    {
     "ename": "TypeError",
     "evalue": "'<' not supported between instances of 'float' and 'str'",
     "output_type": "error",
     "traceback": [
      "\u001b[0;31m---------------------------------------------------------------------------\u001b[0m",
      "\u001b[0;31mTypeError\u001b[0m                                 Traceback (most recent call last)",
      "\u001b[0;32m/tmp/ipykernel_244842/4279130165.py\u001b[0m in \u001b[0;36m<module>\u001b[0;34m\u001b[0m\n\u001b[0;32m----> 1\u001b[0;31m \u001b[0mnv\u001b[0m\u001b[0;34m.\u001b[0m\u001b[0mhive\u001b[0m\u001b[0;34m(\u001b[0m\u001b[0mG\u001b[0m\u001b[0;34m,\u001b[0m \u001b[0mgroup_by\u001b[0m\u001b[0;34m=\u001b[0m\u001b[0;34m'Domain'\u001b[0m\u001b[0;34m)\u001b[0m\u001b[0;31m#, sort_by='Domain',node_color_by='Domain')\u001b[0m\u001b[0;34m\u001b[0m\u001b[0;34m\u001b[0m\u001b[0m\n\u001b[0m\u001b[1;32m      2\u001b[0m \u001b[0;31m# annotate.node_colormapping(G, color_by='Domain')\u001b[0m\u001b[0;34m\u001b[0m\u001b[0;34m\u001b[0m\u001b[0;34m\u001b[0m\u001b[0m\n\u001b[1;32m      3\u001b[0m \u001b[0mplt\u001b[0m\u001b[0;34m.\u001b[0m\u001b[0mshow\u001b[0m\u001b[0;34m(\u001b[0m\u001b[0;34m)\u001b[0m\u001b[0;34m\u001b[0m\u001b[0;34m\u001b[0m\u001b[0m\n",
      "\u001b[0;32m~/anaconda3/envs/stable_baselines_3_env/lib/python3.7/site-packages/nxviz/api.py\u001b[0m in \u001b[0;36mbase_cloned\u001b[0;34m(G, node_layout_func, edge_line_func, group_by, sort_by, node_color_by, node_alpha_by, node_size_by, node_enc_kwargs, edge_color_by, edge_lw_by, edge_alpha_by, edge_enc_kwargs, node_layout_kwargs, edge_line_kwargs, cloned_node_layout_kwargs)\u001b[0m\n\u001b[1;32m    186\u001b[0m         \u001b[0malpha_by\u001b[0m\u001b[0;34m=\u001b[0m\u001b[0mnode_alpha_by\u001b[0m\u001b[0;34m,\u001b[0m\u001b[0;34m\u001b[0m\u001b[0;34m\u001b[0m\u001b[0m\n\u001b[1;32m    187\u001b[0m         \u001b[0mencodings_kwargs\u001b[0m\u001b[0;34m=\u001b[0m\u001b[0mnode_enc_kwargs\u001b[0m\u001b[0;34m,\u001b[0m\u001b[0;34m\u001b[0m\u001b[0;34m\u001b[0m\u001b[0m\n\u001b[0;32m--> 188\u001b[0;31m         \u001b[0mlayout_kwargs\u001b[0m\u001b[0;34m=\u001b[0m\u001b[0mnode_layout_kwargs\u001b[0m\u001b[0;34m,\u001b[0m\u001b[0;34m\u001b[0m\u001b[0;34m\u001b[0m\u001b[0m\n\u001b[0m\u001b[1;32m    189\u001b[0m     )\n\u001b[1;32m    190\u001b[0m     pos_cloned = node_layout_func(\n",
      "\u001b[0;32m~/anaconda3/envs/stable_baselines_3_env/lib/python3.7/site-packages/nxviz/nodes.py\u001b[0m in \u001b[0;36mdraw\u001b[0;34m(G, layout_func, group_by, sort_by, color_by, alpha_by, size_by, layout_kwargs, encodings_kwargs, rescale_func, ax)\u001b[0m\n\u001b[1;32m    109\u001b[0m         \u001b[0max\u001b[0m \u001b[0;34m=\u001b[0m \u001b[0mplt\u001b[0m\u001b[0;34m.\u001b[0m\u001b[0mgca\u001b[0m\u001b[0;34m(\u001b[0m\u001b[0;34m)\u001b[0m\u001b[0;34m\u001b[0m\u001b[0;34m\u001b[0m\u001b[0m\n\u001b[1;32m    110\u001b[0m     \u001b[0mnt\u001b[0m \u001b[0;34m=\u001b[0m \u001b[0mnode_table\u001b[0m\u001b[0;34m(\u001b[0m\u001b[0mG\u001b[0m\u001b[0;34m)\u001b[0m\u001b[0;34m\u001b[0m\u001b[0;34m\u001b[0m\u001b[0m\n\u001b[0;32m--> 111\u001b[0;31m     \u001b[0mpos\u001b[0m \u001b[0;34m=\u001b[0m \u001b[0mlayout_func\u001b[0m\u001b[0;34m(\u001b[0m\u001b[0mnt\u001b[0m\u001b[0;34m,\u001b[0m \u001b[0mgroup_by\u001b[0m\u001b[0;34m,\u001b[0m \u001b[0msort_by\u001b[0m\u001b[0;34m,\u001b[0m \u001b[0;34m**\u001b[0m\u001b[0mlayout_kwargs\u001b[0m\u001b[0;34m)\u001b[0m\u001b[0;34m\u001b[0m\u001b[0;34m\u001b[0m\u001b[0m\n\u001b[0m\u001b[1;32m    112\u001b[0m     \u001b[0mnode_color\u001b[0m \u001b[0;34m=\u001b[0m \u001b[0mnode_colors\u001b[0m\u001b[0;34m(\u001b[0m\u001b[0mnt\u001b[0m\u001b[0;34m,\u001b[0m \u001b[0mcolor_by\u001b[0m\u001b[0;34m)\u001b[0m\u001b[0;34m\u001b[0m\u001b[0;34m\u001b[0m\u001b[0m\n\u001b[1;32m    113\u001b[0m \u001b[0;34m\u001b[0m\u001b[0m\n",
      "\u001b[0;32m~/anaconda3/envs/stable_baselines_3_env/lib/python3.7/site-packages/nxviz/layouts.py\u001b[0m in \u001b[0;36mhive\u001b[0;34m(nt, group_by, sort_by, inner_radius, rotation)\u001b[0m\n\u001b[1;32m     68\u001b[0m     \"\"\"\n\u001b[1;32m     69\u001b[0m     \u001b[0mnt\u001b[0m \u001b[0;34m=\u001b[0m \u001b[0mgroup_and_sort\u001b[0m\u001b[0;34m(\u001b[0m\u001b[0mnt\u001b[0m\u001b[0;34m,\u001b[0m \u001b[0mgroup_by\u001b[0m\u001b[0;34m=\u001b[0m\u001b[0mgroup_by\u001b[0m\u001b[0;34m,\u001b[0m \u001b[0msort_by\u001b[0m\u001b[0;34m=\u001b[0m\u001b[0msort_by\u001b[0m\u001b[0;34m)\u001b[0m\u001b[0;34m\u001b[0m\u001b[0;34m\u001b[0m\u001b[0m\n\u001b[0;32m---> 70\u001b[0;31m     \u001b[0mgroups\u001b[0m \u001b[0;34m=\u001b[0m \u001b[0msorted\u001b[0m\u001b[0;34m(\u001b[0m\u001b[0mnt\u001b[0m\u001b[0;34m[\u001b[0m\u001b[0mgroup_by\u001b[0m\u001b[0;34m]\u001b[0m\u001b[0;34m.\u001b[0m\u001b[0munique\u001b[0m\u001b[0;34m(\u001b[0m\u001b[0;34m)\u001b[0m\u001b[0;34m)\u001b[0m\u001b[0;34m\u001b[0m\u001b[0;34m\u001b[0m\u001b[0m\n\u001b[0m\u001b[1;32m     71\u001b[0m     \u001b[0;32mif\u001b[0m \u001b[0mlen\u001b[0m\u001b[0;34m(\u001b[0m\u001b[0mgroups\u001b[0m\u001b[0;34m)\u001b[0m \u001b[0;34m>\u001b[0m \u001b[0;36m3\u001b[0m\u001b[0;34m:\u001b[0m\u001b[0;34m\u001b[0m\u001b[0;34m\u001b[0m\u001b[0m\n\u001b[1;32m     72\u001b[0m         raise ValueError(\n",
      "\u001b[0;31mTypeError\u001b[0m: '<' not supported between instances of 'float' and 'str'"
     ]
    },
    {
     "data": {
      "image/png": "[encoded data removed]",
      "text/plain": [
       "<Figure size 640x480 with 1 Axes>"
      ]
     },
     "metadata": {},
     "output_type": "display_data"
    }
   ],
   "source": [
    "nv.hive(G, group_by='Domain')#, sort_by='Domain',node_color_by='Domain')\n",
    "# annotate.node_colormapping(G, color_by='Domain')\n",
    "plt.show()"
   ]
  },
  {
   "cell_type": "code",
   "execution_count": null,
   "id": "5913fd38",
   "metadata": {},
   "outputs": [],
   "source": []
  },
  {
   "cell_type": "code",
   "execution_count": null,
   "id": "863e67ad",
   "metadata": {},
   "outputs": [],
   "source": []
  },
  {
   "cell_type": "code",
   "execution_count": null,
   "id": "90884149",
   "metadata": {},
   "outputs": [],
   "source": [
    "# target_df['trajectory'] = target_df['trajectory'].apply(lambda row: ast.literal_eval(row))\n",
    "# target_df.head()"
   ]
  },
  {
   "cell_type": "code",
   "execution_count": null,
   "id": "0a2e3126",
   "metadata": {},
   "outputs": [],
   "source": [
    "type(target_df.iloc[0].trajectory)"
   ]
  },
  {
   "cell_type": "code",
   "execution_count": null,
   "id": "dec935d6",
   "metadata": {},
   "outputs": [],
   "source": []
  },
  {
   "cell_type": "code",
   "execution_count": null,
   "id": "66f76460",
   "metadata": {},
   "outputs": [],
   "source": [
    "frequency_dict"
   ]
  },
  {
   "cell_type": "code",
   "execution_count": null,
   "id": "2b58f33c",
   "metadata": {},
   "outputs": [],
   "source": [
    "# def get_dict(path_set, target_list):\n",
    "#     for path_dict in target_list:\n",
    "#         if path_dict['set'] == path_set:\n",
    "#             path_dict['value'] += path_set['value']\n",
    "#             return path_dict"
   ]
  },
  {
   "cell_type": "code",
   "execution_count": null,
   "id": "460efe91",
   "metadata": {},
   "outputs": [],
   "source": [
    "frequency_dict_list = [] #will hold dictonaries with 2 keys i.e. 'set' and 'value'\n",
    "count = 0\n",
    "for path_dict, value in frequency_dict.items():\n",
    "    all_set_list = [i['set'] for i in frequency_dict_list] #get all the sets so far in the list \n",
    "    path_set = set(ast.literal_eval(path_dict)) #get the set of current path dict to check if its already in list\n",
    "    if path_set in all_set_list: #increase value else insert it - work on this!!!!!!!!!!!!!!!\n",
    "        for elem in frequency_dict_list: #look for if path_set is already in frequency_dict_list \n",
    "            if elem['set'] == path_set: #find the matching path_set in the frequency_dict_list\n",
    "                elem['value'] += value #increase the value for that set\n",
    "    else:\n",
    "        frequency_dict_list.append({'set':path_set, 'value':value})\n",
    "frequency_dict_list[0]"
   ]
  },
  {
   "cell_type": "code",
   "execution_count": null,
   "id": "aa51eabb",
   "metadata": {},
   "outputs": [],
   "source": [
    "all_list = [list(path_dict['set']) for path_dict in frequency_dict_list]\n",
    "flat_list = [item for sublist in all_list for item in sublist]\n",
    "commonest_elements = dict(collections.Counter(flat_list))\n",
    "commonest_elements = {k: v for k, v in sorted(commonest_elements.items(), reverse=True, key=lambda item: item[1])}\n",
    "commonest_elements_list = list(commonest_elements.keys())\n",
    "commonest_elements_list = [i for i in commonest_elements_list if i not in ['Lupus', 'No lupus']] + ['Lupus', 'No lupus']\n",
    "commonest_elements_list"
   ]
  },
  {
   "cell_type": "code",
   "execution_count": null,
   "id": "129f235c",
   "metadata": {},
   "outputs": [],
   "source": [
    "for item in frequency_dict_list:\n",
    "    item['set'] = sorted(list(item['set']), key=lambda x: commonest_elements_list.index(x))\n",
    "frequency_dict_list[0]"
   ]
  },
  {
   "cell_type": "code",
   "execution_count": null,
   "id": "af646c74",
   "metadata": {},
   "outputs": [],
   "source": [
    "keys = [str(i['set']) for i in frequency_dict_list]\n",
    "values = [i['value'] for i in frequency_dict_list]\n",
    "final_frequency_dict = {k:v for (k,v) in zip(keys, values)}\n",
    "final_frequency_dict"
   ]
  },
  {
   "cell_type": "markdown",
   "id": "d1f81207",
   "metadata": {},
   "source": [
    "#### delete from here"
   ]
  },
  {
   "cell_type": "code",
   "execution_count": null,
   "id": "2c06ccea",
   "metadata": {},
   "outputs": [],
   "source": [
    "frequency_dict = {}\n",
    "for traj in target_df.trajectory:\n",
    "    if traj in frequency_dict.keys():\n",
    "        frequency_dict[traj] += 1\n",
    "    else:\n",
    "        frequency_dict[traj] = 1\n",
    "frequency_dict"
   ]
  },
  {
   "cell_type": "code",
   "execution_count": null,
   "id": "53d18e58",
   "metadata": {},
   "outputs": [],
   "source": []
  },
  {
   "cell_type": "code",
   "execution_count": null,
   "id": "4b420c32",
   "metadata": {},
   "outputs": [],
   "source": []
  },
  {
   "cell_type": "markdown",
   "id": "132036cf",
   "metadata": {},
   "source": [
    "#### end here"
   ]
  },
  {
   "cell_type": "code",
   "execution_count": null,
   "id": "5e0ea546",
   "metadata": {},
   "outputs": [],
   "source": [
    "frequency_dict_list = []\n",
    "all_set_list = [i['set'] for i in frequency_dict_list]\n",
    "all_set_list"
   ]
  },
  {
   "cell_type": "code",
   "execution_count": null,
   "id": "54fa074b",
   "metadata": {},
   "outputs": [],
   "source": []
  },
  {
   "cell_type": "code",
   "execution_count": null,
   "id": "972848cc",
   "metadata": {},
   "outputs": [],
   "source": []
  },
  {
   "cell_type": "code",
   "execution_count": null,
   "id": "52a0a277",
   "metadata": {},
   "outputs": [],
   "source": [
    "test_df[test_df.episode_length==8].trajectory.value_counts()"
   ]
  },
  {
   "cell_type": "code",
   "execution_count": null,
   "id": "ef30eb0e",
   "metadata": {},
   "outputs": [],
   "source": []
  },
  {
   "cell_type": "code",
   "execution_count": null,
   "id": "04fdfc97",
   "metadata": {},
   "outputs": [],
   "source": [
    "overall_tup_dict = generate_tuple_dict(test_df)\n",
    "overall_tup_dict"
   ]
  },
  {
   "cell_type": "code",
   "execution_count": null,
   "id": "3f81b595",
   "metadata": {},
   "outputs": [],
   "source": [
    "pathways_df = utils.create_sankey_df(test_df)\n",
    "pathways_df.head()"
   ]
  },
  {
   "cell_type": "code",
   "execution_count": null,
   "id": "80753261",
   "metadata": {},
   "outputs": [],
   "source": []
  }
 ],
 "metadata": {
  "kernelspec": {
   "display_name": "Python 3 (ipykernel)",
   "language": "python",
   "name": "python3"
  },
  "language_info": {
   "codemirror_mode": {
    "name": "ipython",
    "version": 3
   },
   "file_extension": ".py",
   "mimetype": "text/x-python",
   "name": "python",
   "nbconvert_exporter": "python",
   "pygments_lexer": "ipython3",
   "version": "3.7.4"
  }
 },
 "nbformat": 4,
 "nbformat_minor": 5
}

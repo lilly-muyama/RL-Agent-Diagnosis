{
 "cells": [
  {
   "cell_type": "code",
   "execution_count": 1,
   "id": "2aba6aa2",
   "metadata": {},
   "outputs": [],
   "source": [
    "import pandas as pd\n",
    "import numpy as np\n",
    "import random\n",
    "import os\n",
    "import torch\n",
    "import sys\n",
    "sys.path.append('../')\n",
    "from modules import utils, simple_constants\n",
    "from modules.simple_env import SimpleEnv\n",
    "# from modules.env import LupusEnv\n",
    "from sklearn.model_selection import train_test_split\n",
    "from stable_baselines3 import DQN, PPO\n",
    "import warnings\n",
    "warnings.filterwarnings('ignore')"
   ]
  },
  {
   "cell_type": "code",
   "execution_count": 2,
   "id": "b06ba17e",
   "metadata": {},
   "outputs": [],
   "source": [
    "SEED = simple_constants.SEED\n",
    "random.seed(SEED)\n",
    "np.random.seed(SEED)\n",
    "os.environ['PYTHONHASHSEED']=str(SEED)\n",
    "torch.manual_seed(SEED)\n",
    "torch.use_deterministic_algorithms(True)"
   ]
  },
  {
   "cell_type": "code",
   "execution_count": 3,
   "id": "741decd9",
   "metadata": {},
   "outputs": [],
   "source": [
    "class_dict = simple_constants.CLASS_DICT"
   ]
  },
  {
   "cell_type": "markdown",
   "id": "9e6bf462",
   "metadata": {},
   "source": [
    "#### The data"
   ]
  },
  {
   "cell_type": "code",
   "execution_count": 4,
   "id": "b988c554",
   "metadata": {},
   "outputs": [
    {
     "data": {
      "text/html": [
       "<div>\n",
       "<style scoped>\n",
       "    .dataframe tbody tr th:only-of-type {\n",
       "        vertical-align: middle;\n",
       "    }\n",
       "\n",
       "    .dataframe tbody tr th {\n",
       "        vertical-align: top;\n",
       "    }\n",
       "\n",
       "    .dataframe thead th {\n",
       "        text-align: right;\n",
       "    }\n",
       "</style>\n",
       "<table border=\"1\" class=\"dataframe\">\n",
       "  <thead>\n",
       "    <tr style=\"text-align: right;\">\n",
       "      <th></th>\n",
       "      <th>ana</th>\n",
       "      <th>anti_dsdna_antibody</th>\n",
       "      <th>joint_involvement</th>\n",
       "      <th>proteinuria</th>\n",
       "      <th>pericardial_effusion</th>\n",
       "      <th>non_scarring_alopecia</th>\n",
       "      <th>leukopenia</th>\n",
       "      <th>delirium</th>\n",
       "      <th>low_c3_and_c4</th>\n",
       "      <th>fever</th>\n",
       "      <th>anti_cardioliphin_antibodies</th>\n",
       "      <th>label</th>\n",
       "    </tr>\n",
       "  </thead>\n",
       "  <tbody>\n",
       "    <tr>\n",
       "      <th>0</th>\n",
       "      <td>0</td>\n",
       "      <td>0</td>\n",
       "      <td>1</td>\n",
       "      <td>1</td>\n",
       "      <td>1</td>\n",
       "      <td>0</td>\n",
       "      <td>1</td>\n",
       "      <td>1</td>\n",
       "      <td>1</td>\n",
       "      <td>0</td>\n",
       "      <td>1</td>\n",
       "      <td>No lupus</td>\n",
       "    </tr>\n",
       "    <tr>\n",
       "      <th>1</th>\n",
       "      <td>1</td>\n",
       "      <td>1</td>\n",
       "      <td>0</td>\n",
       "      <td>1</td>\n",
       "      <td>1</td>\n",
       "      <td>0</td>\n",
       "      <td>1</td>\n",
       "      <td>0</td>\n",
       "      <td>1</td>\n",
       "      <td>0</td>\n",
       "      <td>0</td>\n",
       "      <td>Lupus</td>\n",
       "    </tr>\n",
       "    <tr>\n",
       "      <th>2</th>\n",
       "      <td>0</td>\n",
       "      <td>1</td>\n",
       "      <td>0</td>\n",
       "      <td>0</td>\n",
       "      <td>1</td>\n",
       "      <td>1</td>\n",
       "      <td>0</td>\n",
       "      <td>0</td>\n",
       "      <td>1</td>\n",
       "      <td>1</td>\n",
       "      <td>1</td>\n",
       "      <td>No lupus</td>\n",
       "    </tr>\n",
       "    <tr>\n",
       "      <th>3</th>\n",
       "      <td>0</td>\n",
       "      <td>0</td>\n",
       "      <td>1</td>\n",
       "      <td>0</td>\n",
       "      <td>0</td>\n",
       "      <td>1</td>\n",
       "      <td>1</td>\n",
       "      <td>1</td>\n",
       "      <td>1</td>\n",
       "      <td>1</td>\n",
       "      <td>1</td>\n",
       "      <td>No lupus</td>\n",
       "    </tr>\n",
       "    <tr>\n",
       "      <th>4</th>\n",
       "      <td>0</td>\n",
       "      <td>1</td>\n",
       "      <td>1</td>\n",
       "      <td>1</td>\n",
       "      <td>1</td>\n",
       "      <td>0</td>\n",
       "      <td>0</td>\n",
       "      <td>0</td>\n",
       "      <td>0</td>\n",
       "      <td>0</td>\n",
       "      <td>0</td>\n",
       "      <td>No lupus</td>\n",
       "    </tr>\n",
       "  </tbody>\n",
       "</table>\n",
       "</div>"
      ],
      "text/plain": [
       "   ana  anti_dsdna_antibody  joint_involvement  proteinuria  \\\n",
       "0    0                    0                  1            1   \n",
       "1    1                    1                  0            1   \n",
       "2    0                    1                  0            0   \n",
       "3    0                    0                  1            0   \n",
       "4    0                    1                  1            1   \n",
       "\n",
       "   pericardial_effusion  non_scarring_alopecia  leukopenia  delirium  \\\n",
       "0                     1                      0           1         1   \n",
       "1                     1                      0           1         0   \n",
       "2                     1                      1           0         0   \n",
       "3                     0                      1           1         1   \n",
       "4                     1                      0           0         0   \n",
       "\n",
       "   low_c3_and_c4  fever  anti_cardioliphin_antibodies     label  \n",
       "0              1      0                             1  No lupus  \n",
       "1              1      0                             0     Lupus  \n",
       "2              1      1                             1  No lupus  \n",
       "3              1      1                             1  No lupus  \n",
       "4              0      0                             0  No lupus  "
      ]
     },
     "execution_count": 4,
     "metadata": {},
     "output_type": "execute_result"
    }
   ],
   "source": [
    "df = pd.read_csv('../data/very_simple_datasets/feats_11.csv')\n",
    "df.head()"
   ]
  },
  {
   "cell_type": "code",
   "execution_count": 5,
   "id": "ef6748c1",
   "metadata": {},
   "outputs": [
    {
     "name": "stdout",
     "output_type": "stream",
     "text": [
      "0    38047\n",
      "1    31953\n",
      "Name: label, dtype: int64\n"
     ]
    },
    {
     "data": {
      "text/plain": [
       "((56000, 11), (14000, 11), (56000,), (14000,))"
      ]
     },
     "execution_count": 5,
     "metadata": {},
     "output_type": "execute_result"
    }
   ],
   "source": [
    "df['label'] = df['label'].replace(class_dict)\n",
    "print(df.label.value_counts())\n",
    "X = df.iloc[:, 0:-1]\n",
    "y = df.iloc[:, -1]\n",
    "\n",
    "X_train, X_test, y_train, y_test = train_test_split(X, y, test_size=0.20, stratify=y, random_state=SEED)\n",
    "training_df = pd.concat([X_train, y_train], axis=1).reset_index(drop=True)\n",
    "testing_df = pd.concat([X_test, y_test], axis=1).reset_index(drop=True)\n",
    "X_train, y_train = np.array(X_train), np.array(y_train)\n",
    "X_test, y_test = np.array(X_test), np.array(y_test)\n",
    "X_train.shape, X_test.shape, y_train.shape, y_test.shape"
   ]
  },
  {
   "cell_type": "code",
   "execution_count": 6,
   "id": "1c43c07e",
   "metadata": {},
   "outputs": [
    {
     "data": {
      "text/plain": [
       "array([1, 0, 0, ..., 0, 1, 1])"
      ]
     },
     "execution_count": 6,
     "metadata": {},
     "output_type": "execute_result"
    }
   ],
   "source": [
    "y_train"
   ]
  },
  {
   "cell_type": "markdown",
   "id": "26186de1",
   "metadata": {},
   "source": [
    "#### Training the model"
   ]
  },
  {
   "cell_type": "code",
   "execution_count": 7,
   "id": "22e1681d",
   "metadata": {},
   "outputs": [],
   "source": [
    "def stable_dqn3(X_train, y_train, timesteps,  save=False, filename=None):\n",
    "    training_env = SimpleEnv(X_train, y_train)\n",
    "    model = DQN('MlpPolicy', training_env, verbose=1, seed=simple_constants.SEED)\n",
    "    model.learn(total_timesteps=timesteps, log_interval=100000)\n",
    "    if save:\n",
    "        model.save(filename)\n",
    "    training_env.close()\n",
    "#     return model"
   ]
  },
  {
   "cell_type": "code",
   "execution_count": 8,
   "id": "e36d8191",
   "metadata": {},
   "outputs": [],
   "source": [
    "def stable_ppo3(X_train, y_train, timesteps, save=False, filename=None):\n",
    "    training_env = SimpleEnv(X_train, y_train)\n",
    "    model = PPO('MlpPolicy', training_env, verbose=1, seed=simple_constants.SEED, learning_rate=0.1)\n",
    "    model.learn(total_timesteps=timesteps, log_interval=10000)\n",
    "    if save:\n",
    "        model.save(filename)\n",
    "    training_env.close()\n"
   ]
  },
  {
   "cell_type": "code",
   "execution_count": 10,
   "id": "844436cb",
   "metadata": {},
   "outputs": [
    {
     "name": "stdout",
     "output_type": "stream",
     "text": [
      "Using cpu device\n",
      "Wrapping the env with a `Monitor` wrapper\n",
      "Wrapping the env in a DummyVecEnv.\n"
     ]
    }
   ],
   "source": [
    "ft_num = 11\n",
    "for steps in [int(5e6)]:\n",
    "# for steps in [int(6e6)]:\n",
    "    stable_ppo3(X_train, y_train, steps, True, f'../models/very_simple_models/ppo_ft_{ft_num}_{steps}')"
   ]
  },
  {
   "cell_type": "code",
   "execution_count": null,
   "id": "d321f575",
   "metadata": {},
   "outputs": [],
   "source": [
    "# timesteps = 15000000\n",
    "# ft_num = 11\n",
    "# training_env = SimpleEnv(X_train, y_train)\n",
    "# # training_env = LupusEnv(X_train, y_train)\n",
    "# # model = DQN('MlpPolicy', training_env, verbose=1, seed=SEED, learning_rate=0.00001)\n",
    "# model = DQN('MlpPolicy', training_env, verbose=1, seed=SEED)\n",
    "# model.learn(total_timesteps=timesteps, log_interval=100000)\n",
    "# # model.save(f'../models/very_simple_models/reward_shaping/dqn_fts_{ft_num}_{timesteps}')\n",
    "# training_env.close()\n",
    "# def training(X_train, y_trai)"
   ]
  },
  {
   "cell_type": "code",
   "execution_count": 11,
   "id": "bd1a5b01",
   "metadata": {},
   "outputs": [],
   "source": [
    "# model = utils.load_dqn3('../models/very_simple_models/ppo_8_500000.zip')\n",
    "model = PPO.load('../models/very_simple_models/ppo_ft_11_5000000.zip')"
   ]
  },
  {
   "cell_type": "markdown",
   "id": "11da7b14",
   "metadata": {},
   "source": [
    "#### Testing the model"
   ]
  },
  {
   "cell_type": "code",
   "execution_count": 12,
   "id": "b2eb98e0",
   "metadata": {},
   "outputs": [
    {
     "name": "stdout",
     "output_type": "stream",
     "text": [
      "Count: 2800\n",
      "Count: 5600\n",
      "Count: 8400\n",
      "Count: 11200\n",
      "Count: 14000\n",
      "Testing done ....\n"
     ]
    },
    {
     "data": {
      "text/html": [
       "<div>\n",
       "<style scoped>\n",
       "    .dataframe tbody tr th:only-of-type {\n",
       "        vertical-align: middle;\n",
       "    }\n",
       "\n",
       "    .dataframe tbody tr th {\n",
       "        vertical-align: top;\n",
       "    }\n",
       "\n",
       "    .dataframe thead th {\n",
       "        text-align: right;\n",
       "    }\n",
       "</style>\n",
       "<table border=\"1\" class=\"dataframe\">\n",
       "  <thead>\n",
       "    <tr style=\"text-align: right;\">\n",
       "      <th></th>\n",
       "      <th>index</th>\n",
       "      <th>episode_length</th>\n",
       "      <th>reward</th>\n",
       "      <th>y_pred</th>\n",
       "      <th>y_actual</th>\n",
       "      <th>trajectory</th>\n",
       "      <th>terminated</th>\n",
       "      <th>is_success</th>\n",
       "    </tr>\n",
       "  </thead>\n",
       "  <tbody>\n",
       "    <tr>\n",
       "      <th>0</th>\n",
       "      <td>0.0</td>\n",
       "      <td>1.0</td>\n",
       "      <td>-1.0</td>\n",
       "      <td>0.0</td>\n",
       "      <td>1.0</td>\n",
       "      <td>[No lupus]</td>\n",
       "      <td>0.0</td>\n",
       "      <td>0.0</td>\n",
       "    </tr>\n",
       "    <tr>\n",
       "      <th>1</th>\n",
       "      <td>1.0</td>\n",
       "      <td>1.0</td>\n",
       "      <td>1.0</td>\n",
       "      <td>0.0</td>\n",
       "      <td>0.0</td>\n",
       "      <td>[No lupus]</td>\n",
       "      <td>0.0</td>\n",
       "      <td>1.0</td>\n",
       "    </tr>\n",
       "    <tr>\n",
       "      <th>2</th>\n",
       "      <td>2.0</td>\n",
       "      <td>1.0</td>\n",
       "      <td>-1.0</td>\n",
       "      <td>0.0</td>\n",
       "      <td>1.0</td>\n",
       "      <td>[No lupus]</td>\n",
       "      <td>0.0</td>\n",
       "      <td>0.0</td>\n",
       "    </tr>\n",
       "    <tr>\n",
       "      <th>3</th>\n",
       "      <td>3.0</td>\n",
       "      <td>1.0</td>\n",
       "      <td>-1.0</td>\n",
       "      <td>0.0</td>\n",
       "      <td>1.0</td>\n",
       "      <td>[No lupus]</td>\n",
       "      <td>0.0</td>\n",
       "      <td>0.0</td>\n",
       "    </tr>\n",
       "    <tr>\n",
       "      <th>4</th>\n",
       "      <td>4.0</td>\n",
       "      <td>1.0</td>\n",
       "      <td>-1.0</td>\n",
       "      <td>0.0</td>\n",
       "      <td>1.0</td>\n",
       "      <td>[No lupus]</td>\n",
       "      <td>0.0</td>\n",
       "      <td>0.0</td>\n",
       "    </tr>\n",
       "  </tbody>\n",
       "</table>\n",
       "</div>"
      ],
      "text/plain": [
       "   index  episode_length  reward  y_pred  y_actual  trajectory  terminated  \\\n",
       "0    0.0             1.0    -1.0     0.0       1.0  [No lupus]         0.0   \n",
       "1    1.0             1.0     1.0     0.0       0.0  [No lupus]         0.0   \n",
       "2    2.0             1.0    -1.0     0.0       1.0  [No lupus]         0.0   \n",
       "3    3.0             1.0    -1.0     0.0       1.0  [No lupus]         0.0   \n",
       "4    4.0             1.0    -1.0     0.0       1.0  [No lupus]         0.0   \n",
       "\n",
       "   is_success  \n",
       "0         0.0  \n",
       "1         1.0  \n",
       "2         0.0  \n",
       "3         0.0  \n",
       "4         0.0  "
      ]
     },
     "execution_count": 12,
     "metadata": {},
     "output_type": "execute_result"
    }
   ],
   "source": [
    "test_df = pd.DataFrame()\n",
    "testing_env = SimpleEnv(X_test, y_test, random=False)\n",
    "# testing_env = LupusEnv(X_test, y_test, random=False)\n",
    "count = 0\n",
    "try:\n",
    "    while True:\n",
    "        count += 1\n",
    "        if count %(len(X_test)/5)==0:\n",
    "            print(f'Count: {count}')\n",
    "        obs, done = testing_env.reset(), False\n",
    "        while not done:\n",
    "            action, states = model.predict(obs, deterministic=True)\n",
    "            obs, rew, done, info = testing_env.step(action)\n",
    "            if done==True:\n",
    "                test_df = test_df.append(info, ignore_index=True)\n",
    "except StopIteration:\n",
    "    print('Testing done ....')\n",
    "test_df.head() "
   ]
  },
  {
   "cell_type": "code",
   "execution_count": 13,
   "id": "cfb3c893",
   "metadata": {},
   "outputs": [],
   "source": [
    "# testing_df.iloc[4]"
   ]
  },
  {
   "cell_type": "code",
   "execution_count": 14,
   "id": "2424927b",
   "metadata": {},
   "outputs": [
    {
     "data": {
      "text/plain": [
       "650"
      ]
     },
     "execution_count": 14,
     "metadata": {},
     "output_type": "execute_result"
    }
   ],
   "source": [
    "len(testing_df[(testing_df.ana==1) & (testing_df.label==0)])"
   ]
  },
  {
   "cell_type": "code",
   "execution_count": 15,
   "id": "7c343287",
   "metadata": {},
   "outputs": [
    {
     "data": {
      "text/plain": [
       "1"
      ]
     },
     "execution_count": 15,
     "metadata": {},
     "output_type": "execute_result"
    }
   ],
   "source": [
    "len(test_df.trajectory.value_counts())"
   ]
  },
  {
   "cell_type": "markdown",
   "id": "aae2600e",
   "metadata": {},
   "source": [
    "#### Results"
   ]
  },
  {
   "cell_type": "code",
   "execution_count": 16,
   "id": "846902d3",
   "metadata": {},
   "outputs": [
    {
     "ename": "TypeError",
     "evalue": "unhashable type: 'list'",
     "output_type": "error",
     "traceback": [
      "\u001b[0;31m---------------------------------------------------------------------------\u001b[0m",
      "\u001b[0;31mTypeError\u001b[0m                                 Traceback (most recent call last)",
      "\u001b[0;32mpandas/_libs/hashtable_class_helper.pxi\u001b[0m in \u001b[0;36mpandas._libs.hashtable.PyObjectHashTable.map_locations\u001b[0;34m()\u001b[0m\n",
      "\u001b[0;31mTypeError\u001b[0m: unhashable type: 'list'"
     ]
    },
    {
     "name": "stderr",
     "output_type": "stream",
     "text": [
      "Exception ignored in: 'pandas._libs.index.IndexEngine._call_map_locations'\n",
      "Traceback (most recent call last):\n",
      "  File \"pandas/_libs/hashtable_class_helper.pxi\", line 5231, in pandas._libs.hashtable.PyObjectHashTable.map_locations\n",
      "TypeError: unhashable type: 'list'\n"
     ]
    },
    {
     "data": {
      "text/plain": [
       "[No lupus]    14000\n",
       "Name: trajectory, dtype: int64"
      ]
     },
     "execution_count": 16,
     "metadata": {},
     "output_type": "execute_result"
    }
   ],
   "source": [
    "test_df.trajectory.value_counts()"
   ]
  },
  {
   "cell_type": "code",
   "execution_count": 17,
   "id": "ce23fdf5",
   "metadata": {},
   "outputs": [
    {
     "data": {
      "text/plain": [
       "(1.0, 1.0)"
      ]
     },
     "execution_count": 17,
     "metadata": {},
     "output_type": "execute_result"
    }
   ],
   "source": [
    "test_df.episode_length.min(), test_df.episode_length.max()"
   ]
  },
  {
   "cell_type": "code",
   "execution_count": 18,
   "id": "70303c59",
   "metadata": {},
   "outputs": [],
   "source": [
    "# len(testing_df[testing_df.ana == 0])"
   ]
  },
  {
   "cell_type": "code",
   "execution_count": 19,
   "id": "f1af2743",
   "metadata": {},
   "outputs": [
    {
     "data": {
      "text/plain": [
       "1"
      ]
     },
     "execution_count": 19,
     "metadata": {},
     "output_type": "execute_result"
    }
   ],
   "source": [
    "len(test_df.trajectory.value_counts())"
   ]
  },
  {
   "cell_type": "code",
   "execution_count": 20,
   "id": "73384033",
   "metadata": {},
   "outputs": [
    {
     "ename": "TypeError",
     "evalue": "unhashable type: 'list'",
     "output_type": "error",
     "traceback": [
      "\u001b[0;31m---------------------------------------------------------------------------\u001b[0m",
      "\u001b[0;31mTypeError\u001b[0m                                 Traceback (most recent call last)",
      "\u001b[0;32mpandas/_libs/hashtable_class_helper.pxi\u001b[0m in \u001b[0;36mpandas._libs.hashtable.PyObjectHashTable.map_locations\u001b[0;34m()\u001b[0m\n",
      "\u001b[0;31mTypeError\u001b[0m: unhashable type: 'list'"
     ]
    },
    {
     "name": "stderr",
     "output_type": "stream",
     "text": [
      "Exception ignored in: 'pandas._libs.index.IndexEngine._call_map_locations'\n",
      "Traceback (most recent call last):\n",
      "  File \"pandas/_libs/hashtable_class_helper.pxi\", line 5231, in pandas._libs.hashtable.PyObjectHashTable.map_locations\n",
      "TypeError: unhashable type: 'list'\n"
     ]
    },
    {
     "data": {
      "text/plain": [
       "[No lupus]    14000\n",
       "Name: trajectory, dtype: int64"
      ]
     },
     "execution_count": 20,
     "metadata": {},
     "output_type": "execute_result"
    }
   ],
   "source": [
    "test_df[test_df.episode_length == test_df.episode_length.min()].trajectory.value_counts()"
   ]
  },
  {
   "cell_type": "code",
   "execution_count": 21,
   "id": "f2d7211a",
   "metadata": {},
   "outputs": [
    {
     "data": {
      "text/plain": [
       "54.35"
      ]
     },
     "execution_count": 21,
     "metadata": {},
     "output_type": "execute_result"
    }
   ],
   "source": [
    "success_rate, success_df = utils.success_rate(test_df)\n",
    "success_rate"
   ]
  },
  {
   "cell_type": "code",
   "execution_count": null,
   "id": "d1d52bc9",
   "metadata": {},
   "outputs": [],
   "source": [
    "avg_length, avg_return = utils.get_avg_length_reward(test_df)\n",
    "avg_length, avg_return"
   ]
  },
  {
   "cell_type": "code",
   "execution_count": null,
   "id": "c1bb39e3",
   "metadata": {},
   "outputs": [],
   "source": [
    "acc, f1, roc_auc = utils.test(test_df['y_actual'], test_df['y_pred'])\n",
    "acc, f1, roc_auc"
   ]
  },
  {
   "cell_type": "code",
   "execution_count": null,
   "id": "b4ef364d",
   "metadata": {
    "scrolled": true
   },
   "outputs": [],
   "source": [
    "test_df.y_actual.value_counts()"
   ]
  },
  {
   "cell_type": "code",
   "execution_count": null,
   "id": "b237051a",
   "metadata": {},
   "outputs": [],
   "source": [
    "test_df.y_pred.value_counts()"
   ]
  },
  {
   "cell_type": "code",
   "execution_count": null,
   "id": "5f1dc2dd",
   "metadata": {},
   "outputs": [],
   "source": [
    "# test_df.to_csv(f'../test_dfs/very_simple_datasets/dqn_test_df_11ft_7000000.csv', index=False)\n",
    "# success_df.to_csv(f'../test_dfs/very_simple_datasets/dqn_success_df_11ft_7000000.csv', index=False)"
   ]
  },
  {
   "cell_type": "code",
   "execution_count": null,
   "id": "831b8735",
   "metadata": {},
   "outputs": [],
   "source": [
    "def training_and_testing(timesteps, feat_num):\n",
    "    training_env = SimpleEnv(X_train, y_train)\n",
    "    model = DQN('MlpPolicy', training_env, verbose=1, seed=SEED)\n",
    "    model.learn(total_timesteps=timesteps, log_interval=100000)\n",
    "    model.save(f'../models/very_simple_models/dqn_fts_{feat_num}_{timesteps}')\n",
    "    training_env.close()\n",
    "    \n",
    "    test_df = pd.DataFrame()\n",
    "    testing_env = SimpleEnv(X_test, y_test, random=False)\n",
    "    count = 0\n",
    "    try:\n",
    "        while True:\n",
    "            count += 1\n",
    "            if count %(len(X_test)/5)==0:\n",
    "                print(f'Count: {count}')\n",
    "            obs, done = testing_env.reset(), False\n",
    "            while not done:\n",
    "                action, states = model.predict(obs, deterministic=True)\n",
    "                obs, rew, done, info = testing_env.step(action)\n",
    "                if done==True:\n",
    "                    test_df = test_df.append(info, ignore_index=True)\n",
    "    except StopIteration:\n",
    "        print('Testing done ....')\n",
    "    print(test_df.head())\n",
    "    print(test_df.trajectory.value_counts())\n",
    "    success_rate, success_df = utils.success_rate(test_df)\n",
    "    print(f'Success rate: {success_rate}')\n",
    "    acc, f1, roc_auc = utils.test(test_df['y_actual'], test_df['y_pred'])\n",
    "    print(f'Accuracy: {acc}')\n",
    "    print(f'F1 Score: {f1}')\n",
    "    print(f'ROC AUC SCore: {roc_auc}')"
   ]
  },
  {
   "cell_type": "code",
   "execution_count": null,
   "id": "77572243",
   "metadata": {},
   "outputs": [],
   "source": []
  },
  {
   "cell_type": "code",
   "execution_count": null,
   "id": "5cde8b9c",
   "metadata": {},
   "outputs": [],
   "source": []
  },
  {
   "cell_type": "code",
   "execution_count": null,
   "id": "6ffa39bb",
   "metadata": {},
   "outputs": [],
   "source": []
  },
  {
   "cell_type": "code",
   "execution_count": null,
   "id": "552a213e",
   "metadata": {},
   "outputs": [],
   "source": []
  }
 ],
 "metadata": {
  "kernelspec": {
   "display_name": "Python 3 (ipykernel)",
   "language": "python",
   "name": "python3"
  },
  "language_info": {
   "codemirror_mode": {
    "name": "ipython",
    "version": 3
   },
   "file_extension": ".py",
   "mimetype": "text/x-python",
   "name": "python",
   "nbconvert_exporter": "python",
   "pygments_lexer": "ipython3",
   "version": "3.7.4"
  }
 },
 "nbformat": 4,
 "nbformat_minor": 5
}

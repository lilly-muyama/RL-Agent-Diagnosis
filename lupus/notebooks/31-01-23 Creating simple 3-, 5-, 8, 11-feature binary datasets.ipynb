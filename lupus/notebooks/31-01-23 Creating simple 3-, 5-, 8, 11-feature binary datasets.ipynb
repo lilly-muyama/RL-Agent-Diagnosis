{
 "cells": [
  {
   "cell_type": "code",
   "execution_count": null,
   "id": "0a49aa57",
   "metadata": {},
   "outputs": [],
   "source": [
    "import pandas as pd\n",
    "import numpy as np\n",
    "import random\n",
    "import matplotlib.pyplot as plt\n",
    "%matplotlib inline\n",
    "from sklearn.model_selection import train_test_split\n",
    "import sys\n",
    "sys.path.append('../')\n",
    "from modules import utils, constants"
   ]
  },
  {
   "cell_type": "code",
   "execution_count": null,
   "id": "6bd64c41",
   "metadata": {},
   "outputs": [],
   "source": [
    "SEED = 42\n",
    "random.seed(SEED)\n",
    "np.random.seed(SEED)"
   ]
  },
  {
   "cell_type": "markdown",
   "id": "1dd74feb",
   "metadata": {},
   "source": [
    "#### 2-feature anemia dataset"
   ]
  },
  {
   "cell_type": "code",
   "execution_count": null,
   "id": "5a4597d8",
   "metadata": {},
   "outputs": [],
   "source": [
    "two_features_anem = ['hemoglobin', 'gender']"
   ]
  },
  {
   "cell_type": "code",
   "execution_count": null,
   "id": "3b5e8c21",
   "metadata": {},
   "outputs": [],
   "source": [
    "def create_label_2_ft_anem(row):\n",
    "    if row.hemoglobin > 13:\n",
    "        return 'No anemia'\n",
    "    if row.gender == 1: #male\n",
    "        return 'Anemia'\n",
    "    if row.gender == 0: #female\n",
    "        if row.hemoglobin<12:\n",
    "            return 'Anemia'\n",
    "        elif row.hemoglobin >12:\n",
    "            return 'No anemia'\n",
    "        else:\n",
    "            return np.nan\n",
    "        "
   ]
  },
  {
   "cell_type": "code",
   "execution_count": null,
   "id": "b416ed88",
   "metadata": {},
   "outputs": [],
   "source": [
    "feat_2_anem_df = pd.DataFrame()\n",
    "feat_2_anem_df['hemoglobin'] = np.random.uniform(10, 15, 10000)\n",
    "feat_2_anem_df['gender'] = np.random.choice([0, 1], 10000)\n",
    "feat_2_anem_df['label'] = feat_2_anem_df.apply(lambda row: create_label_2_ft_anem(row), axis=1)\n",
    "feat_2_anem_df.head()"
   ]
  },
  {
   "cell_type": "code",
   "execution_count": null,
   "id": "86c4db6c",
   "metadata": {},
   "outputs": [],
   "source": [
    "feat_2_anem_df.label.value_counts()"
   ]
  },
  {
   "cell_type": "code",
   "execution_count": null,
   "id": "b5bf5341",
   "metadata": {},
   "outputs": [],
   "source": [
    "# feat_2_df.to_csv('../data/very_simple_datasets/feats_2.csv', index=False)"
   ]
  },
  {
   "cell_type": "markdown",
   "id": "4148f4e3",
   "metadata": {},
   "source": [
    "#### 2-feature lupus dataset"
   ]
  },
  {
   "cell_type": "code",
   "execution_count": null,
   "id": "d8055425",
   "metadata": {},
   "outputs": [],
   "source": [
    "two_features = ['ana', 'anti_dsdna_antibody']"
   ]
  },
  {
   "cell_type": "code",
   "execution_count": null,
   "id": "c2f22f74",
   "metadata": {},
   "outputs": [],
   "source": [
    "def create_label_2_ft(row):\n",
    "    if row.ana ==0:\n",
    "        return 'No lupus'\n",
    "    if row.anti_dsdna_antibody == 1:\n",
    "        return 'Lupus'\n",
    "    if row.anti_dsdna_antibody == 0:\n",
    "        return 'No lupus'"
   ]
  },
  {
   "cell_type": "code",
   "execution_count": null,
   "id": "19400233",
   "metadata": {},
   "outputs": [],
   "source": [
    "feat_2_df = pd.DataFrame()\n",
    "feat_2_df['ana'] = np.random.choice([0,1], 70000)\n",
    "feat_2_df['anti_dsdna_antibody'] = np.random.choice([0, 1], 70000)\n",
    "feat_2_df['label'] = feat_2_df.apply(lambda row: create_label_2_ft(row), axis=1)\n",
    "feat_2_df.head()"
   ]
  },
  {
   "cell_type": "code",
   "execution_count": null,
   "id": "109a370f",
   "metadata": {},
   "outputs": [],
   "source": [
    "feat_2_df.label.value_counts()"
   ]
  },
  {
   "cell_type": "code",
   "execution_count": null,
   "id": "19d4d957",
   "metadata": {},
   "outputs": [],
   "source": [
    "# feat_2_df.to_csv('../data/very_simple_datasets/feats_2.csv', index=False)"
   ]
  },
  {
   "cell_type": "markdown",
   "id": "1631736f",
   "metadata": {},
   "source": [
    "#### 3-feature dataset"
   ]
  },
  {
   "cell_type": "code",
   "execution_count": null,
   "id": "8983ca27",
   "metadata": {},
   "outputs": [],
   "source": [
    "three_features = ['ana', 'anti_dsdna_antibody', 'joint_involvement']"
   ]
  },
  {
   "cell_type": "code",
   "execution_count": null,
   "id": "52eb3197",
   "metadata": {},
   "outputs": [],
   "source": [
    "def create_label_3_ft(row):\n",
    "    if row.ana == 0:\n",
    "        return 'No lupus'\n",
    "    if row.anti_dsdna_antibody == 0:\n",
    "        return 'No lupus'\n",
    "    if row.joint_involvement == 0:\n",
    "        return 'No lupus'\n",
    "    if row.joint_involvement == 1:\n",
    "        return 'Lupus'  "
   ]
  },
  {
   "cell_type": "code",
   "execution_count": null,
   "id": "58cf419a",
   "metadata": {},
   "outputs": [],
   "source": [
    "feat_3_df = pd.DataFrame()\n",
    "for feat in three_features:\n",
    "    feat_3_df[feat] = np.random.choice([0,1], 10000)\n",
    "feat_3_df['label'] = feat_3_df.apply(lambda row: create_label_3_ft(row), axis=1)\n",
    "feat_3_df.head()"
   ]
  },
  {
   "cell_type": "code",
   "execution_count": null,
   "id": "b07569f9",
   "metadata": {},
   "outputs": [],
   "source": [
    "feat_3_df.label.value_counts()"
   ]
  },
  {
   "cell_type": "code",
   "execution_count": null,
   "id": "0b45f93c",
   "metadata": {},
   "outputs": [],
   "source": [
    "feat_3_df[((feat_3_df.ana==1) & (feat_3_df.anti_dsdna_antibody==1)) & (feat_3_df.joint_involvement==1)].label.value_counts()"
   ]
  },
  {
   "cell_type": "code",
   "execution_count": null,
   "id": "1dc49ade",
   "metadata": {},
   "outputs": [],
   "source": [
    "# feat_3_df.to_csv('../data/very_simple_datasets/feats_3.csv', index=False)"
   ]
  },
  {
   "cell_type": "markdown",
   "id": "9876c013",
   "metadata": {},
   "source": [
    "#### 5 - feature dataset"
   ]
  },
  {
   "cell_type": "code",
   "execution_count": null,
   "id": "4f46be05",
   "metadata": {},
   "outputs": [],
   "source": [
    "five_features = ['ana', 'anti_dsdna_antibody', 'joint_involvement', 'proteinuria', 'pericardial_effusion']"
   ]
  },
  {
   "cell_type": "code",
   "execution_count": null,
   "id": "097fb53d",
   "metadata": {},
   "outputs": [],
   "source": [
    "def create_label_5_ft(row):\n",
    "    if row.ana == 0:\n",
    "        return 'No lupus'\n",
    "    if row.anti_dsdna_antibody == 0:\n",
    "        if row.joint_involvement ==0:\n",
    "            return 'No lupus'\n",
    "        if row.proteinuria!=0:\n",
    "            return 'Lupus'\n",
    "        if row.pericardial_effusion == 0:\n",
    "            return 'No lupus'\n",
    "        if row.pericardial_effusion ==1:\n",
    "            return 'Lupus'\n",
    "    if row.joint_involvement ==1:\n",
    "        return 'Lupus'\n",
    "    if row.proteinuria ==1:\n",
    "        return 'Lupus'\n",
    "    if row.pericardial_effusion == 0:\n",
    "        return 'No lupus'\n",
    "    if row.pericardial_effusion ==1:\n",
    "        return 'Lupus'"
   ]
  },
  {
   "cell_type": "code",
   "execution_count": null,
   "id": "9d457808",
   "metadata": {},
   "outputs": [],
   "source": [
    "feat_5_df = pd.DataFrame()\n",
    "for feat in five_features:\n",
    "    feat_5_df[feat] = np.random.choice([0,1], 70000)\n",
    "feat_5_df['label'] = feat_5_df.apply(lambda row: create_label_5_ft(row), axis=1)\n",
    "feat_5_df.head()"
   ]
  },
  {
   "cell_type": "code",
   "execution_count": null,
   "id": "aba74381",
   "metadata": {},
   "outputs": [],
   "source": [
    "feat_5_df.label.value_counts()"
   ]
  },
  {
   "cell_type": "code",
   "execution_count": null,
   "id": "626de289",
   "metadata": {},
   "outputs": [],
   "source": [
    "feat_5_df[((feat_5_df.ana==1) & (feat_5_df.anti_dsdna_antibody==1)) & (feat_5_df.joint_involvement==1)].label.value_counts()"
   ]
  },
  {
   "cell_type": "code",
   "execution_count": null,
   "id": "9593048b",
   "metadata": {},
   "outputs": [],
   "source": [
    "feat_5_df.to_csv('../data/very_simple_datasets/feats_5.csv', index=False)"
   ]
  },
  {
   "cell_type": "markdown",
   "id": "344be868",
   "metadata": {},
   "source": [
    "#### 8-feature dataset"
   ]
  },
  {
   "cell_type": "code",
   "execution_count": null,
   "id": "485804ed",
   "metadata": {},
   "outputs": [],
   "source": [
    "eight_features = ['ana', 'anti_dsdna_antibody', 'joint_involvement', 'proteinuria', 'pericardial_effusion', \n",
    "                 'non_scarring_alopecia', 'leukopenia', 'delirium']"
   ]
  },
  {
   "cell_type": "code",
   "execution_count": null,
   "id": "42192f32",
   "metadata": {},
   "outputs": [],
   "source": [
    "def create_label_8_ft(row):\n",
    "    if row.ana == 0:\n",
    "        return 'No lupus'\n",
    "    if row.anti_dsdna_antibody == 0:\n",
    "        if row.joint_involvement==0: #where i am \n",
    "            if row.proteinuria==0:\n",
    "                if row.pericardial_effusion==0:\n",
    "                    return 'No lupus'\n",
    "                else: #score 5\n",
    "                    if row.leukopenia == 0:\n",
    "                        return 'No lupus'\n",
    "                    else: #score 8\n",
    "                        if row.delirium ==0:\n",
    "                            if row.non_scarring_alopecia==0:\n",
    "                                return 'No lupus'\n",
    "                            else:\n",
    "                                return 'Lupus'\n",
    "                        else: #score 10\n",
    "                            return 'Lupus'\n",
    "            else: #score 4\n",
    "                if row.pericardial_effusion == 0:\n",
    "                    if row.leukopenia == 0:\n",
    "                        return 'No lupus'\n",
    "                    else: #score 7\n",
    "                        if row.delirium ==0:\n",
    "                            return 'No lupus'\n",
    "                        else: #score 9\n",
    "                            if row.non_scarring_alopecia==0:\n",
    "                                return 'No lupus'\n",
    "                            else: #score 11\n",
    "                                return 'Lupus'\n",
    "                else: # score 9\n",
    "                    if row.leukopenia ==0:\n",
    "                        if row.delirium == 0:\n",
    "                            if row.non_scarring_alopecia==0:\n",
    "                                return 'No lupus'\n",
    "                            else: # score 11\n",
    "                                return 'Lupus'\n",
    "                        else: #score 11\n",
    "                            return 'Lupus'\n",
    "                    else: # score 12\n",
    "                        return 'Lupus'\n",
    "            \n",
    "        else: #row.joint_involvement==1 score=6\n",
    "            if row.proteinuria == 0:\n",
    "                if row.pericardial_effusion == 0:\n",
    "                    if row.leukopenia==0:\n",
    "                        if row.delirium ==0:\n",
    "                            return 'No lupus'\n",
    "                        else: #score 8\n",
    "                            if row.non_scarring_alopecia==0:\n",
    "                                return 'No lupus'\n",
    "                            else:\n",
    "                                return 'Lupus'\n",
    "                    else: #score 9\n",
    "                        if row.delirium == 0:\n",
    "                            if row.non_scarring_alopecia==0:\n",
    "                                return 'No lupus'\n",
    "                            else: #score 11\n",
    "                                return 'Lupus'\n",
    "                        else: #score 11\n",
    "                            return 'Lupus'\n",
    "                else: #score 11\n",
    "                    return 'Lupus'\n",
    "                \n",
    "            else: #score 10\n",
    "                return 'Lupus'\n",
    "    if row.joint_involvement ==0: #score here is 6 becuase the antibody above is == 1\n",
    "        if row.proteinuria==0:\n",
    "            if row.pericardial_effusion==0:\n",
    "                if row.leukopenia ==0:\n",
    "                    if row.delirium==0:\n",
    "                        return 'No lupus'\n",
    "                    else: #score 8\n",
    "                        if row.non_scarring_alopecia==0:\n",
    "                            return 'No lupus'\n",
    "                        else: #score 10\n",
    "                            return 'Lupus'\n",
    "                else: #score 9\n",
    "                    if row.delirium==0:\n",
    "                        if row.non_scarring_alopecia ==0:\n",
    "                            return 'No lupus'\n",
    "                        else:\n",
    "                            return 'Lupus'\n",
    "                    else: #score 11\n",
    "                        return 'Lupus'\n",
    "                    \n",
    "            else: #score 11\n",
    "                return 'Lupus'\n",
    "        else: #score 10\n",
    "            return 'Lupus'\n",
    "    else: #score 12\n",
    "        return 'Lupus'"
   ]
  },
  {
   "cell_type": "code",
   "execution_count": null,
   "id": "55b29780",
   "metadata": {},
   "outputs": [],
   "source": [
    "feat_8_df = pd.DataFrame()\n",
    "for feat in eight_features:\n",
    "    feat_8_df[feat] = np.random.choice([0,1], 70000)\n",
    "feat_8_df['label'] = feat_8_df.apply(lambda row: create_label_8_ft(row), axis=1)\n",
    "feat_8_df.head()"
   ]
  },
  {
   "cell_type": "code",
   "execution_count": null,
   "id": "b57ccd18",
   "metadata": {},
   "outputs": [],
   "source": [
    "feat_8_df.label.value_counts()"
   ]
  },
  {
   "cell_type": "code",
   "execution_count": null,
   "id": "211bb485",
   "metadata": {},
   "outputs": [],
   "source": [
    "feat_8_df.to_csv('../data/very_simple_datasets/feats_8.csv', index=False)"
   ]
  },
  {
   "cell_type": "markdown",
   "id": "6220fe18",
   "metadata": {},
   "source": [
    "#### 11 features - 1 feature per domain"
   ]
  },
  {
   "cell_type": "code",
   "execution_count": null,
   "id": "75220d07",
   "metadata": {},
   "outputs": [],
   "source": [
    "eleven_features = ['ana', 'anti_dsdna_antibody', 'joint_involvement', 'proteinuria', 'pericardial_effusion', \n",
    "                   'non_scarring_alopecia', 'leukopenia', 'delirium', 'low_c3_and_c4', 'fever', \n",
    "                   'anti_cardioliphin_antibodies']"
   ]
  },
  {
   "cell_type": "code",
   "execution_count": null,
   "id": "6589b1e3",
   "metadata": {},
   "outputs": [],
   "source": [
    "CRITERIA_WEIGHTS = {'anti_dsdna_antibody':6, 'joint_involvement':6, 'proteinuria':4, 'pericardial_effusion':5,\n",
    "                    'non_scarring_alopecia':2, 'leukopenia':3, 'delirium':2, 'low_c3_and_c4':4, 'fever':2, \n",
    "                    'anti_cardioliphin_antibodies':2 \n",
    "                      }"
   ]
  },
  {
   "cell_type": "code",
   "execution_count": null,
   "id": "364fa176",
   "metadata": {},
   "outputs": [],
   "source": [
    "def get_feat_score(row, feat):\n",
    "    if row[feat] <= 0:\n",
    "        feat_score = 0\n",
    "    else:\n",
    "        feat_score = CRITERIA_WEIGHTS[feat]\n",
    "    return feat_score"
   ]
  },
  {
   "cell_type": "code",
   "execution_count": null,
   "id": "026ec4bb",
   "metadata": {},
   "outputs": [],
   "source": [
    "def create_label_11_ft(row):\n",
    "    if row['ana'] == 0:\n",
    "        return 'No lupus' #0\n",
    "    total_row_score = 0\n",
    "    for feature in eleven_features:\n",
    "        if feature != 'ana':\n",
    "            feature_score = get_feat_score(row, feature)\n",
    "            total_row_score += feature_score\n",
    "            if total_row_score >= 10:\n",
    "                #print(f'row {row.name} - {total_row_score}')\n",
    "                return 'Lupus'#1\n",
    "    else:\n",
    "        return 'No lupus'#0"
   ]
  },
  {
   "cell_type": "code",
   "execution_count": null,
   "id": "bf871260",
   "metadata": {},
   "outputs": [],
   "source": [
    "feat_11_df = pd.DataFrame()\n",
    "for feat in eleven_features:\n",
    "    feat_11_df[feat] = np.random.choice([0,1], 70000)\n",
    "feat_11_df['label'] = feat_11_df.apply(lambda row: create_label_11_ft(row), axis=1)\n",
    "feat_11_df.head()"
   ]
  },
  {
   "cell_type": "code",
   "execution_count": null,
   "id": "0befbb62",
   "metadata": {},
   "outputs": [],
   "source": [
    "feat_11_df.label.value_counts()"
   ]
  },
  {
   "cell_type": "code",
   "execution_count": null,
   "id": "51f8e61d",
   "metadata": {},
   "outputs": [],
   "source": [
    "feat_11_df.to_csv('../data/very_simple_datasets/feats_11.csv', index=False)"
   ]
  },
  {
   "cell_type": "markdown",
   "id": "d38c4c34",
   "metadata": {},
   "source": [
    "#### 22-feature dataset"
   ]
  },
  {
   "cell_type": "code",
   "execution_count": null,
   "id": "200c2638",
   "metadata": {},
   "outputs": [],
   "source": [
    "twenty_two_features = ['ana', 'non_scarring_alopecia', 'anti_dsdna_antibody', 'joint_involvement', 'proteinuria', \n",
    "                       'pericardial_effusion', 'leukopenia', 'delirium', 'low_c3', 'low_c4', 'fever', \n",
    "                       'thrombocytopenia', 'anti_cardioliphin_antibodies', 'pleural_effusion', 'psychosis', \n",
    "                       'seizure', 'lupus_anti_coagulant', 'anti_β2gp1_antibodies', 'anti_smith_antibody', \n",
    "                       'oral_ulcers', 'auto_immune_hemolysis', 'acute_pericarditis'] #cutaneous lupus left out"
   ]
  },
  {
   "cell_type": "code",
   "execution_count": null,
   "id": "87838cdb",
   "metadata": {},
   "outputs": [],
   "source": [
    "CRITERIA_WEIGHTS = {'fever':2, 'leukopenia':3, 'thrombocytopenia':4, 'auto_immune_hemolysis':4, 'delirium':2, \n",
    "                    'psychosis':3, 'seizure':5, 'non_scarring_alopecia':2, 'oral_ulcers':2, 'pleural_effusion': 5, \n",
    "                    'pericardial_effusion':5, 'acute_pericarditis':6, 'joint_involvement':6, 'proteinuria':4, \n",
    "                    'anti_cardioliphin_antibodies':2, 'anti_β2gp1_antibodies':2, 'lupus_anti_coagulant':2, \n",
    "                    'low_c3':3, 'low_c4':3, 'low_c3_and_low_c4':4, 'low_c3_or_low_c4':3, 'anti_dsdna_antibody':6,\n",
    "                    'anti_smith_antibody':6}"
   ]
  },
  {
   "cell_type": "code",
   "execution_count": null,
   "id": "68f7eca0",
   "metadata": {},
   "outputs": [],
   "source": [
    "def get_feat_score(row, feat):\n",
    "    if row[feat] <= 0:\n",
    "        feat_score = 0\n",
    "    else:\n",
    "        feat_score = CRITERIA_WEIGHTS[feat]\n",
    "    return feat_score"
   ]
  },
  {
   "cell_type": "code",
   "execution_count": null,
   "id": "c362de49",
   "metadata": {},
   "outputs": [],
   "source": [
    "def get_c3_c4_score(c3, c4): # 0 - low, 1 is not low\n",
    "    if (c3 == 1) & (c4 == 1):\n",
    "        return CRITERIA_WEIGHTS['low_c3_and_low_c4']\n",
    "    elif (c3 == 1) | (c4 == 1):\n",
    "        return CRITERIA_WEIGHTS['low_c3_or_low_c4']\n",
    "    else:\n",
    "        return 0"
   ]
  },
  {
   "cell_type": "code",
   "execution_count": null,
   "id": "de63f247",
   "metadata": {},
   "outputs": [],
   "source": [
    "domains_feat_dict = {'constitutional': ['fever'],\n",
    "                     'hematologic': ['leukopenia', 'thrombocytopenia', 'auto_immune_hemolysis'],\n",
    "                     'neuropsychiatric': ['delirium', 'psychosis', 'seizure'],\n",
    "                     'mucocutaneous': ['non_scarring_alopecia', 'oral_ulcers'],\n",
    "                     'serosal': ['pleural_effusion', 'pericardial_effusion', 'acute_pericarditis'],\n",
    "                     'musculoskeletal': ['joint_involvement'],\n",
    "                     'renal': ['proteinuria'],\n",
    "                     'antiphospholipid_antibodies': ['anti_cardioliphin_antibodies', 'anti_β2gp1_antibodies', 'lupus_anti_coagulant'],\n",
    "                     'complement_proteins': ['low_c3', 'low_c4'],\n",
    "                     'sle_specific_antibodies':['anti_dsdna_antibody', 'anti_smith_antibody']}"
   ]
  },
  {
   "cell_type": "code",
   "execution_count": null,
   "id": "f5189223",
   "metadata": {},
   "outputs": [],
   "source": [
    "domains_max_scores_dict = {'constitutional': 2, 'hematologic': 4, 'neuropsychiatric': 5, 'mucocutaneous': 2,\n",
    "                           'serosal': 6, 'musculoskeletal': 6, 'renal': 4, 'antiphospholipid_antibodies': 2, \n",
    "                           'complement_proteins': 4, 'sle_specific_antibodies':6}"
   ]
  },
  {
   "cell_type": "code",
   "execution_count": null,
   "id": "70803249",
   "metadata": {},
   "outputs": [],
   "source": [
    "def get_domain_score(row, domain):\n",
    "    domain_features = domains_feat_dict[domain]\n",
    "    domain_score = 0\n",
    "    if domain == 'complement_proteins':\n",
    "        domain_score = get_c3_c4_score(row.low_c3, row.low_c4)\n",
    "        domain_features = list(set(domain_features) - set(['low_c3', 'low_c4']))\n",
    "    for feat in domain_features:\n",
    "        if row[feat] >= 0:\n",
    "            if feat == 'cutaneous_lupus': # to delete\n",
    "                feat_score = get_cutaneous_lupus_score(row.cutaneous_lupus)\n",
    "            else:\n",
    "                feat_score = get_feat_score(row, feat)\n",
    "            if feat_score > domain_score:\n",
    "                domain_score = feat_score\n",
    "    if domain_score > domains_max_scores_dict[domain]:\n",
    "        raise Exception('The score is too large for this domain!')\n",
    "    return domain_score"
   ]
  },
  {
   "cell_type": "code",
   "execution_count": null,
   "id": "92192bca",
   "metadata": {},
   "outputs": [],
   "source": [
    "def create_label_22_ft(row):\n",
    "    if row['ana'] == 0:\n",
    "        return 0\n",
    "    total_row_score = 0\n",
    "    for domain in domains_feat_dict.keys():\n",
    "        domain_score = get_domain_score(row, domain)\n",
    "        total_row_score += domain_score\n",
    "        if total_row_score >= 10:\n",
    "            return 1\n",
    "    else:\n",
    "        return 0"
   ]
  },
  {
   "cell_type": "code",
   "execution_count": null,
   "id": "2f0bd4b1",
   "metadata": {},
   "outputs": [],
   "source": [
    "feat_22_df = pd.DataFrame()\n",
    "for feat in twenty_two_features:\n",
    "    feat_22_df[feat] = np.random.choice([0,1], 70000, p=[0.75, 0.25])\n",
    "feat_22_df['label'] = feat_22_df.apply(lambda row: create_label_22_ft(row), axis=1)\n",
    "feat_22_df.head()"
   ]
  },
  {
   "cell_type": "code",
   "execution_count": null,
   "id": "5c38d6f4",
   "metadata": {},
   "outputs": [],
   "source": [
    "len(feat_22_df[(feat_22_df.ana==1) & (feat_22_df.label==0)])"
   ]
  },
  {
   "cell_type": "code",
   "execution_count": null,
   "id": "2faa2823",
   "metadata": {},
   "outputs": [],
   "source": [
    "feat_22_df.to_csv('../data/very_simple_datasets/feats_22.csv', index=False)"
   ]
  },
  {
   "cell_type": "code",
   "execution_count": null,
   "id": "d28d12fc",
   "metadata": {},
   "outputs": [],
   "source": []
  },
  {
   "cell_type": "code",
   "execution_count": null,
   "id": "58292bc7",
   "metadata": {},
   "outputs": [],
   "source": []
  },
  {
   "cell_type": "code",
   "execution_count": null,
   "id": "a563d38c",
   "metadata": {},
   "outputs": [],
   "source": []
  }
 ],
 "metadata": {
  "kernelspec": {
   "display_name": "Python 3 (ipykernel)",
   "language": "python",
   "name": "python3"
  },
  "language_info": {
   "codemirror_mode": {
    "name": "ipython",
    "version": 3
   },
   "file_extension": ".py",
   "mimetype": "text/x-python",
   "name": "python",
   "nbconvert_exporter": "python",
   "pygments_lexer": "ipython3",
   "version": "3.7.4"
  }
 },
 "nbformat": 4,
 "nbformat_minor": 5
}

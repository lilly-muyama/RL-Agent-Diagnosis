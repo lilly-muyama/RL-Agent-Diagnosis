{
 "cells": [
  {
   "cell_type": "code",
   "execution_count": 1,
   "id": "b4430985",
   "metadata": {},
   "outputs": [],
   "source": [
    "import pandas as pd\n",
    "import numpy as np\n",
    "import random\n",
    "import seaborn as sns\n",
    "from scipy.stats import truncnorm\n",
    "import matplotlib.pyplot as plt\n",
    "%matplotlib inline\n",
    "from sklearn.model_selection import train_test_split\n",
    "import sys\n",
    "sys.path.append('../')\n",
    "from modules import utils, constants"
   ]
  },
  {
   "cell_type": "code",
   "execution_count": 2,
   "id": "cf9eeebc",
   "metadata": {},
   "outputs": [],
   "source": [
    "SEED = constants.SEED\n",
    "random.seed(SEED)\n",
    "np.random.seed(SEED)"
   ]
  },
  {
   "cell_type": "code",
   "execution_count": 3,
   "id": "12dd92ac",
   "metadata": {},
   "outputs": [],
   "source": [
    "# FEATURES = ['ana', 'anti_dsdna_antibody', 'joint_involvement', 'proteinuria', 'pericardial_effusion', \n",
    "#             'non_scarring_alopecia', 'leukopenia', 'delirium']\n",
    "FEATURES = ['ana', 'anti_dsdna_antibody', 'joint_involvement', 'proteinuria', 'pericardial_effusion']"
   ]
  },
  {
   "cell_type": "code",
   "execution_count": 4,
   "id": "7914d423",
   "metadata": {},
   "outputs": [],
   "source": [
    "# FEATURE_FRACTIONS = {'leukopenia':0.50, 'delirium':0.49, 'non_scarring_alopecia':0.85, 'pericardial_effusion':0.50, \n",
    "#                      'joint_involvement':0.69, 'proteinuria':0.60, 'anti_dsdna_antibody':0.70}\n",
    "FEATURE_FRACTIONS = {'pericardial_effusion':0.50, 'joint_involvement':0.69, 'proteinuria':0.60, \n",
    "                     'anti_dsdna_antibody':0.70}"
   ]
  },
  {
   "cell_type": "code",
   "execution_count": 5,
   "id": "cf28b9d1",
   "metadata": {},
   "outputs": [],
   "source": [
    "# CRITERIA_WEIGHTS = {'leukopenia':3, 'delirium':2, 'non_scarring_alopecia':2, 'pericardial_effusion':5, \n",
    "#                     'joint_involvement':6, 'proteinuria':4, 'anti_dsdna_antibody':6}\n",
    "CRITERIA_WEIGHTS = {'pericardial_effusion':5, 'joint_involvement':6, 'proteinuria':4, 'anti_dsdna_antibody':6}"
   ]
  },
  {
   "cell_type": "code",
   "execution_count": 6,
   "id": "d0c80bf2",
   "metadata": {},
   "outputs": [],
   "source": [
    "WEIGHT_PROB_DICT = {8:0.1, 6:0.2, 5:0.25, 4:0.3, 3:0.35, 2:0.4}"
   ]
  },
  {
   "cell_type": "code",
   "execution_count": 7,
   "id": "b1389121",
   "metadata": {},
   "outputs": [],
   "source": [
    "FEAT_FRACTION = 1.2"
   ]
  },
  {
   "cell_type": "code",
   "execution_count": 8,
   "id": "1c21f93b",
   "metadata": {},
   "outputs": [],
   "source": [
    "def get_feat_probabilities(feature, feat_type='positive'):\n",
    "    '''\n",
    "    Returns the probability of positives vs negatives for a feature. \n",
    "    Works for all features except renal class, C3 and C4'''\n",
    "    if feat_type == 'positive':\n",
    "        pos_prob = FEATURE_FRACTIONS[feature]/FEAT_FRACTION # change this one\n",
    "    elif feat_type == 'negative':\n",
    "        feature_weight = CRITERIA_WEIGHTS[feature]\n",
    "        pos_prob = WEIGHT_PROB_DICT[feature_weight]\n",
    "    else:\n",
    "        print('Unknown feature type. Should either be \"positive\" or \"negative\"')\n",
    "        return None\n",
    "    return 1-pos_prob, pos_prob"
   ]
  },
  {
   "cell_type": "code",
   "execution_count": 9,
   "id": "18ec5970",
   "metadata": {},
   "outputs": [],
   "source": [
    "def get_feat_score(row, feat):\n",
    "    if row[feat] <= 0:\n",
    "        feat_score = 0\n",
    "    else:\n",
    "        feat_score = CRITERIA_WEIGHTS[feat]\n",
    "    return feat_score"
   ]
  },
  {
   "cell_type": "code",
   "execution_count": 10,
   "id": "b6f8bbcd",
   "metadata": {},
   "outputs": [],
   "source": [
    "def create_label_8_ft(row):\n",
    "    if row.ana == 0:\n",
    "        return 'No lupus'\n",
    "    if row.anti_dsdna_antibody == 0:\n",
    "        if row.joint_involvement==0: #where i am \n",
    "            if row.proteinuria==0:\n",
    "                if row.pericardial_effusion==0:\n",
    "                    return 'No lupus'\n",
    "                else: #score 5\n",
    "                    if row.leukopenia == 0:\n",
    "                        return 'No lupus'\n",
    "                    else: #score 8\n",
    "                        if row.delirium ==0:\n",
    "                            if row.non_scarring_alopecia==0:\n",
    "                                return 'No lupus'\n",
    "                            else:\n",
    "                                return 'Lupus'\n",
    "                        else: #score 10\n",
    "                            return 'Lupus'\n",
    "            else: #score 4\n",
    "                if row.pericardial_effusion == 0:\n",
    "                    if row.leukopenia == 0:\n",
    "                        return 'No lupus'\n",
    "                    else: #score 7\n",
    "                        if row.delirium ==0:\n",
    "                            return 'No lupus'\n",
    "                        else: #score 9\n",
    "                            if row.non_scarring_alopecia==0:\n",
    "                                return 'No lupus'\n",
    "                            else: #score 11\n",
    "                                return 'Lupus'\n",
    "                else: # score 9\n",
    "                    if row.leukopenia ==0:\n",
    "                        if row.delirium == 0:\n",
    "                            if row.non_scarring_alopecia==0:\n",
    "                                return 'No lupus'\n",
    "                            else: # score 11\n",
    "                                return 'Lupus'\n",
    "                        else: #score 11\n",
    "                            return 'Lupus'\n",
    "                    else: # score 12\n",
    "                        return 'Lupus'\n",
    "            \n",
    "        else: #row.joint_involvement==1 score=6\n",
    "            if row.proteinuria == 0:\n",
    "                if row.pericardial_effusion == 0:\n",
    "                    if row.leukopenia==0:\n",
    "                        if row.delirium ==0:\n",
    "                            return 'No lupus'\n",
    "                        else: #score 8\n",
    "                            if row.non_scarring_alopecia==0:\n",
    "                                return 'No lupus'\n",
    "                            else:\n",
    "                                return 'Lupus'\n",
    "                    else: #score 9\n",
    "                        if row.delirium == 0:\n",
    "                            if row.non_scarring_alopecia==0:\n",
    "                                return 'No lupus'\n",
    "                            else: #score 11\n",
    "                                return 'Lupus'\n",
    "                        else: #score 11\n",
    "                            return 'Lupus'\n",
    "                else: #score 11\n",
    "                    return 'Lupus'\n",
    "                \n",
    "            else: #score 10\n",
    "                return 'Lupus'\n",
    "    if row.joint_involvement ==0: #score here is 6 becuase the antibody above is == 1\n",
    "        if row.proteinuria==0:\n",
    "            if row.pericardial_effusion==0:\n",
    "                if row.leukopenia ==0:\n",
    "                    if row.delirium==0:\n",
    "                        return 'No lupus'\n",
    "                    else: #score 8\n",
    "                        if row.non_scarring_alopecia==0:\n",
    "                            return 'No lupus'\n",
    "                        else: #score 10\n",
    "                            return 'Lupus'\n",
    "                else: #score 9\n",
    "                    if row.delirium==0:\n",
    "                        if row.non_scarring_alopecia ==0:\n",
    "                            return 'No lupus'\n",
    "                        else:\n",
    "                            return 'Lupus'\n",
    "                    else: #score 11\n",
    "                        return 'Lupus'\n",
    "                    \n",
    "            else: #score 11\n",
    "                return 'Lupus'\n",
    "        else: #score 10\n",
    "            return 'Lupus'\n",
    "    else: #score 12\n",
    "        return 'Lupus'"
   ]
  },
  {
   "cell_type": "code",
   "execution_count": 11,
   "id": "e1a70ac5",
   "metadata": {},
   "outputs": [],
   "source": [
    "def create_label_5_ft(row):\n",
    "    if row.ana == 0:\n",
    "        return 'No lupus'\n",
    "    if row.anti_dsdna_antibody == 0:\n",
    "        if row.joint_involvement ==0:\n",
    "            return 'No lupus'\n",
    "        if row.proteinuria!=0:\n",
    "            return 'Lupus'\n",
    "        if row.pericardial_effusion == 0:\n",
    "            return 'No lupus'\n",
    "        if row.pericardial_effusion ==1:\n",
    "            return 'Lupus'\n",
    "    if row.joint_involvement ==1:\n",
    "        return 'Lupus'\n",
    "    if row.proteinuria ==1:\n",
    "        return 'Lupus'\n",
    "    if row.pericardial_effusion == 0:\n",
    "        return 'No lupus'\n",
    "    if row.pericardial_effusion ==1:\n",
    "        return 'Lupus'"
   ]
  },
  {
   "cell_type": "markdown",
   "id": "b8454978",
   "metadata": {},
   "source": [
    "#### ANA positive dataset"
   ]
  },
  {
   "cell_type": "code",
   "execution_count": 12,
   "id": "8c6a691f",
   "metadata": {},
   "outputs": [
    {
     "data": {
      "text/html": [
       "<div>\n",
       "<style scoped>\n",
       "    .dataframe tbody tr th:only-of-type {\n",
       "        vertical-align: middle;\n",
       "    }\n",
       "\n",
       "    .dataframe tbody tr th {\n",
       "        vertical-align: top;\n",
       "    }\n",
       "\n",
       "    .dataframe thead th {\n",
       "        text-align: right;\n",
       "    }\n",
       "</style>\n",
       "<table border=\"1\" class=\"dataframe\">\n",
       "  <thead>\n",
       "    <tr style=\"text-align: right;\">\n",
       "      <th></th>\n",
       "      <th>ana</th>\n",
       "    </tr>\n",
       "  </thead>\n",
       "  <tbody>\n",
       "    <tr>\n",
       "      <th>0</th>\n",
       "      <td>1</td>\n",
       "    </tr>\n",
       "    <tr>\n",
       "      <th>1</th>\n",
       "      <td>1</td>\n",
       "    </tr>\n",
       "    <tr>\n",
       "      <th>2</th>\n",
       "      <td>1</td>\n",
       "    </tr>\n",
       "    <tr>\n",
       "      <th>3</th>\n",
       "      <td>1</td>\n",
       "    </tr>\n",
       "    <tr>\n",
       "      <th>4</th>\n",
       "      <td>1</td>\n",
       "    </tr>\n",
       "  </tbody>\n",
       "</table>\n",
       "</div>"
      ],
      "text/plain": [
       "   ana\n",
       "0    1\n",
       "1    1\n",
       "2    1\n",
       "3    1\n",
       "4    1"
      ]
     },
     "execution_count": 12,
     "metadata": {},
     "output_type": "execute_result"
    }
   ],
   "source": [
    "ana_df = pd.DataFrame()\n",
    "ana_df['ana'] = [1]*50000\n",
    "ana_df.head()"
   ]
  },
  {
   "cell_type": "code",
   "execution_count": 13,
   "id": "2efccc3e",
   "metadata": {},
   "outputs": [
    {
     "data": {
      "text/html": [
       "<div>\n",
       "<style scoped>\n",
       "    .dataframe tbody tr th:only-of-type {\n",
       "        vertical-align: middle;\n",
       "    }\n",
       "\n",
       "    .dataframe tbody tr th {\n",
       "        vertical-align: top;\n",
       "    }\n",
       "\n",
       "    .dataframe thead th {\n",
       "        text-align: right;\n",
       "    }\n",
       "</style>\n",
       "<table border=\"1\" class=\"dataframe\">\n",
       "  <thead>\n",
       "    <tr style=\"text-align: right;\">\n",
       "      <th></th>\n",
       "      <th>ana</th>\n",
       "      <th>anti_dsdna_antibody</th>\n",
       "      <th>joint_involvement</th>\n",
       "      <th>proteinuria</th>\n",
       "      <th>pericardial_effusion</th>\n",
       "    </tr>\n",
       "  </thead>\n",
       "  <tbody>\n",
       "    <tr>\n",
       "      <th>0</th>\n",
       "      <td>1</td>\n",
       "      <td>0</td>\n",
       "      <td>1</td>\n",
       "      <td>1</td>\n",
       "      <td>0</td>\n",
       "    </tr>\n",
       "    <tr>\n",
       "      <th>1</th>\n",
       "      <td>1</td>\n",
       "      <td>1</td>\n",
       "      <td>1</td>\n",
       "      <td>1</td>\n",
       "      <td>1</td>\n",
       "    </tr>\n",
       "    <tr>\n",
       "      <th>2</th>\n",
       "      <td>1</td>\n",
       "      <td>1</td>\n",
       "      <td>0</td>\n",
       "      <td>0</td>\n",
       "      <td>1</td>\n",
       "    </tr>\n",
       "    <tr>\n",
       "      <th>3</th>\n",
       "      <td>1</td>\n",
       "      <td>1</td>\n",
       "      <td>1</td>\n",
       "      <td>0</td>\n",
       "      <td>1</td>\n",
       "    </tr>\n",
       "    <tr>\n",
       "      <th>4</th>\n",
       "      <td>1</td>\n",
       "      <td>0</td>\n",
       "      <td>0</td>\n",
       "      <td>0</td>\n",
       "      <td>1</td>\n",
       "    </tr>\n",
       "  </tbody>\n",
       "</table>\n",
       "</div>"
      ],
      "text/plain": [
       "   ana  anti_dsdna_antibody  joint_involvement  proteinuria  \\\n",
       "0    1                    0                  1            1   \n",
       "1    1                    1                  1            1   \n",
       "2    1                    1                  0            0   \n",
       "3    1                    1                  1            0   \n",
       "4    1                    0                  0            0   \n",
       "\n",
       "   pericardial_effusion  \n",
       "0                     0  \n",
       "1                     1  \n",
       "2                     1  \n",
       "3                     1  \n",
       "4                     1  "
      ]
     },
     "execution_count": 13,
     "metadata": {},
     "output_type": "execute_result"
    }
   ],
   "source": [
    "for feature in FEATURES:\n",
    "    if feature != 'ana':\n",
    "        neg_frac, pos_frac = get_feat_probabilities(feature)\n",
    "        ana_df[feature] = np.random.choice([0, 1], len(ana_df), p=[neg_frac, pos_frac])\n",
    "ana_df.head()"
   ]
  },
  {
   "cell_type": "code",
   "execution_count": 14,
   "id": "49f9e2c1",
   "metadata": {},
   "outputs": [],
   "source": [
    "def create_label(row):\n",
    "    #print(f'ROW {row.name}')\n",
    "    if row['ana'] == 0:\n",
    "        return 'No lupus' #0\n",
    "    total_row_score = 0\n",
    "    for feature in FEATURES:\n",
    "        if feature != 'ana':\n",
    "            feature_score = get_feat_score(row, feature)\n",
    "            total_row_score += feature_score\n",
    "            if total_row_score >= 10:\n",
    "                #print(f'row {row.name} - {total_row_score}')\n",
    "                return 'Lupus'#1\n",
    "    else:\n",
    "        return 'No lupus'#0"
   ]
  },
  {
   "cell_type": "code",
   "execution_count": 15,
   "id": "c3397537",
   "metadata": {},
   "outputs": [
    {
     "data": {
      "text/html": [
       "<div>\n",
       "<style scoped>\n",
       "    .dataframe tbody tr th:only-of-type {\n",
       "        vertical-align: middle;\n",
       "    }\n",
       "\n",
       "    .dataframe tbody tr th {\n",
       "        vertical-align: top;\n",
       "    }\n",
       "\n",
       "    .dataframe thead th {\n",
       "        text-align: right;\n",
       "    }\n",
       "</style>\n",
       "<table border=\"1\" class=\"dataframe\">\n",
       "  <thead>\n",
       "    <tr style=\"text-align: right;\">\n",
       "      <th></th>\n",
       "      <th>ana</th>\n",
       "      <th>anti_dsdna_antibody</th>\n",
       "      <th>joint_involvement</th>\n",
       "      <th>proteinuria</th>\n",
       "      <th>pericardial_effusion</th>\n",
       "      <th>label</th>\n",
       "    </tr>\n",
       "  </thead>\n",
       "  <tbody>\n",
       "    <tr>\n",
       "      <th>0</th>\n",
       "      <td>1</td>\n",
       "      <td>0</td>\n",
       "      <td>1</td>\n",
       "      <td>1</td>\n",
       "      <td>0</td>\n",
       "      <td>Lupus</td>\n",
       "    </tr>\n",
       "    <tr>\n",
       "      <th>1</th>\n",
       "      <td>1</td>\n",
       "      <td>1</td>\n",
       "      <td>1</td>\n",
       "      <td>1</td>\n",
       "      <td>1</td>\n",
       "      <td>Lupus</td>\n",
       "    </tr>\n",
       "    <tr>\n",
       "      <th>2</th>\n",
       "      <td>1</td>\n",
       "      <td>1</td>\n",
       "      <td>0</td>\n",
       "      <td>0</td>\n",
       "      <td>1</td>\n",
       "      <td>Lupus</td>\n",
       "    </tr>\n",
       "    <tr>\n",
       "      <th>3</th>\n",
       "      <td>1</td>\n",
       "      <td>1</td>\n",
       "      <td>1</td>\n",
       "      <td>0</td>\n",
       "      <td>1</td>\n",
       "      <td>Lupus</td>\n",
       "    </tr>\n",
       "    <tr>\n",
       "      <th>4</th>\n",
       "      <td>1</td>\n",
       "      <td>0</td>\n",
       "      <td>0</td>\n",
       "      <td>0</td>\n",
       "      <td>1</td>\n",
       "      <td>No lupus</td>\n",
       "    </tr>\n",
       "  </tbody>\n",
       "</table>\n",
       "</div>"
      ],
      "text/plain": [
       "   ana  anti_dsdna_antibody  joint_involvement  proteinuria  \\\n",
       "0    1                    0                  1            1   \n",
       "1    1                    1                  1            1   \n",
       "2    1                    1                  0            0   \n",
       "3    1                    1                  1            0   \n",
       "4    1                    0                  0            0   \n",
       "\n",
       "   pericardial_effusion     label  \n",
       "0                     0     Lupus  \n",
       "1                     1     Lupus  \n",
       "2                     1     Lupus  \n",
       "3                     1     Lupus  \n",
       "4                     1  No lupus  "
      ]
     },
     "execution_count": 15,
     "metadata": {},
     "output_type": "execute_result"
    }
   ],
   "source": [
    "ana_df['label'] = ana_df.apply(lambda row: create_label(row), axis=1)\n",
    "# ana_df['dt_label'] = ana_df.apply(lambda row: create_label_5_ft(row), axis=1)\n",
    "ana_df.head()"
   ]
  },
  {
   "cell_type": "code",
   "execution_count": 16,
   "id": "6bbe6eb0",
   "metadata": {},
   "outputs": [
    {
     "data": {
      "text/plain": [
       "Lupus       34161\n",
       "No lupus    15839\n",
       "Name: label, dtype: int64"
      ]
     },
     "execution_count": 16,
     "metadata": {},
     "output_type": "execute_result"
    }
   ],
   "source": [
    "ana_df.label.value_counts()"
   ]
  },
  {
   "cell_type": "code",
   "execution_count": 17,
   "id": "aef56215",
   "metadata": {},
   "outputs": [],
   "source": [
    "# ana_df.dt_label.value_counts()"
   ]
  },
  {
   "cell_type": "markdown",
   "id": "0c6a7a37",
   "metadata": {},
   "source": [
    "#### ANA negative dataset"
   ]
  },
  {
   "cell_type": "code",
   "execution_count": 18,
   "id": "7ba0091f",
   "metadata": {},
   "outputs": [
    {
     "data": {
      "text/html": [
       "<div>\n",
       "<style scoped>\n",
       "    .dataframe tbody tr th:only-of-type {\n",
       "        vertical-align: middle;\n",
       "    }\n",
       "\n",
       "    .dataframe tbody tr th {\n",
       "        vertical-align: top;\n",
       "    }\n",
       "\n",
       "    .dataframe thead th {\n",
       "        text-align: right;\n",
       "    }\n",
       "</style>\n",
       "<table border=\"1\" class=\"dataframe\">\n",
       "  <thead>\n",
       "    <tr style=\"text-align: right;\">\n",
       "      <th></th>\n",
       "      <th>ana</th>\n",
       "    </tr>\n",
       "  </thead>\n",
       "  <tbody>\n",
       "    <tr>\n",
       "      <th>0</th>\n",
       "      <td>0</td>\n",
       "    </tr>\n",
       "    <tr>\n",
       "      <th>1</th>\n",
       "      <td>0</td>\n",
       "    </tr>\n",
       "    <tr>\n",
       "      <th>2</th>\n",
       "      <td>0</td>\n",
       "    </tr>\n",
       "    <tr>\n",
       "      <th>3</th>\n",
       "      <td>0</td>\n",
       "    </tr>\n",
       "    <tr>\n",
       "      <th>4</th>\n",
       "      <td>0</td>\n",
       "    </tr>\n",
       "  </tbody>\n",
       "</table>\n",
       "</div>"
      ],
      "text/plain": [
       "   ana\n",
       "0    0\n",
       "1    0\n",
       "2    0\n",
       "3    0\n",
       "4    0"
      ]
     },
     "execution_count": 18,
     "metadata": {},
     "output_type": "execute_result"
    }
   ],
   "source": [
    "no_ana_df = pd.DataFrame()\n",
    "no_ana_df['ana'] = [0]*20000\n",
    "no_ana_df.head()"
   ]
  },
  {
   "cell_type": "code",
   "execution_count": 19,
   "id": "e2f14d14",
   "metadata": {},
   "outputs": [
    {
     "data": {
      "text/html": [
       "<div>\n",
       "<style scoped>\n",
       "    .dataframe tbody tr th:only-of-type {\n",
       "        vertical-align: middle;\n",
       "    }\n",
       "\n",
       "    .dataframe tbody tr th {\n",
       "        vertical-align: top;\n",
       "    }\n",
       "\n",
       "    .dataframe thead th {\n",
       "        text-align: right;\n",
       "    }\n",
       "</style>\n",
       "<table border=\"1\" class=\"dataframe\">\n",
       "  <thead>\n",
       "    <tr style=\"text-align: right;\">\n",
       "      <th></th>\n",
       "      <th>ana</th>\n",
       "      <th>anti_dsdna_antibody</th>\n",
       "      <th>joint_involvement</th>\n",
       "      <th>proteinuria</th>\n",
       "      <th>pericardial_effusion</th>\n",
       "      <th>label</th>\n",
       "    </tr>\n",
       "  </thead>\n",
       "  <tbody>\n",
       "    <tr>\n",
       "      <th>0</th>\n",
       "      <td>0</td>\n",
       "      <td>0</td>\n",
       "      <td>0</td>\n",
       "      <td>0</td>\n",
       "      <td>0</td>\n",
       "      <td>No lupus</td>\n",
       "    </tr>\n",
       "    <tr>\n",
       "      <th>1</th>\n",
       "      <td>0</td>\n",
       "      <td>0</td>\n",
       "      <td>0</td>\n",
       "      <td>0</td>\n",
       "      <td>0</td>\n",
       "      <td>No lupus</td>\n",
       "    </tr>\n",
       "    <tr>\n",
       "      <th>2</th>\n",
       "      <td>0</td>\n",
       "      <td>0</td>\n",
       "      <td>0</td>\n",
       "      <td>0</td>\n",
       "      <td>1</td>\n",
       "      <td>No lupus</td>\n",
       "    </tr>\n",
       "    <tr>\n",
       "      <th>3</th>\n",
       "      <td>0</td>\n",
       "      <td>0</td>\n",
       "      <td>0</td>\n",
       "      <td>0</td>\n",
       "      <td>0</td>\n",
       "      <td>No lupus</td>\n",
       "    </tr>\n",
       "    <tr>\n",
       "      <th>4</th>\n",
       "      <td>0</td>\n",
       "      <td>0</td>\n",
       "      <td>0</td>\n",
       "      <td>0</td>\n",
       "      <td>1</td>\n",
       "      <td>No lupus</td>\n",
       "    </tr>\n",
       "  </tbody>\n",
       "</table>\n",
       "</div>"
      ],
      "text/plain": [
       "   ana  anti_dsdna_antibody  joint_involvement  proteinuria  \\\n",
       "0    0                    0                  0            0   \n",
       "1    0                    0                  0            0   \n",
       "2    0                    0                  0            0   \n",
       "3    0                    0                  0            0   \n",
       "4    0                    0                  0            0   \n",
       "\n",
       "   pericardial_effusion     label  \n",
       "0                     0  No lupus  \n",
       "1                     0  No lupus  \n",
       "2                     1  No lupus  \n",
       "3                     0  No lupus  \n",
       "4                     1  No lupus  "
      ]
     },
     "execution_count": 19,
     "metadata": {},
     "output_type": "execute_result"
    }
   ],
   "source": [
    "for feature in FEATURES:\n",
    "    if feature != 'ana':\n",
    "        neg_frac, pos_frac = get_feat_probabilities(feature, feat_type='negative')\n",
    "        no_ana_df[feature] = np.random.choice([0, 1], len(no_ana_df), p=[neg_frac, pos_frac])\n",
    "no_ana_df['label'] = 'No lupus'\n",
    "no_ana_df.head()"
   ]
  },
  {
   "cell_type": "markdown",
   "id": "762e2588",
   "metadata": {},
   "source": [
    "#### Merging the 2 dataframes"
   ]
  },
  {
   "cell_type": "code",
   "execution_count": 20,
   "id": "84c1a2c0",
   "metadata": {},
   "outputs": [
    {
     "data": {
      "text/plain": [
       "70000"
      ]
     },
     "execution_count": 20,
     "metadata": {},
     "output_type": "execute_result"
    }
   ],
   "source": [
    "lupus_df = pd.concat([ana_df, no_ana_df])\n",
    "len(lupus_df)"
   ]
  },
  {
   "cell_type": "code",
   "execution_count": 21,
   "id": "0fe932e6",
   "metadata": {},
   "outputs": [
    {
     "data": {
      "text/plain": [
       "No lupus    35839\n",
       "Lupus       34161\n",
       "Name: label, dtype: int64"
      ]
     },
     "execution_count": 21,
     "metadata": {},
     "output_type": "execute_result"
    }
   ],
   "source": [
    "lupus_df = lupus_df.sample(frac=1, random_state=SEED).reset_index(drop=True)\n",
    "lupus_df.label.value_counts()"
   ]
  },
  {
   "cell_type": "code",
   "execution_count": 22,
   "id": "cd2c29e9",
   "metadata": {},
   "outputs": [
    {
     "data": {
      "text/html": [
       "<div>\n",
       "<style scoped>\n",
       "    .dataframe tbody tr th:only-of-type {\n",
       "        vertical-align: middle;\n",
       "    }\n",
       "\n",
       "    .dataframe tbody tr th {\n",
       "        vertical-align: top;\n",
       "    }\n",
       "\n",
       "    .dataframe thead th {\n",
       "        text-align: right;\n",
       "    }\n",
       "</style>\n",
       "<table border=\"1\" class=\"dataframe\">\n",
       "  <thead>\n",
       "    <tr style=\"text-align: right;\">\n",
       "      <th></th>\n",
       "      <th>ana</th>\n",
       "      <th>anti_dsdna_antibody</th>\n",
       "      <th>joint_involvement</th>\n",
       "      <th>proteinuria</th>\n",
       "      <th>pericardial_effusion</th>\n",
       "      <th>label</th>\n",
       "    </tr>\n",
       "  </thead>\n",
       "  <tbody>\n",
       "    <tr>\n",
       "      <th>0</th>\n",
       "      <td>1</td>\n",
       "      <td>1</td>\n",
       "      <td>1</td>\n",
       "      <td>1</td>\n",
       "      <td>1</td>\n",
       "      <td>Lupus</td>\n",
       "    </tr>\n",
       "    <tr>\n",
       "      <th>1</th>\n",
       "      <td>1</td>\n",
       "      <td>1</td>\n",
       "      <td>1</td>\n",
       "      <td>0</td>\n",
       "      <td>0</td>\n",
       "      <td>Lupus</td>\n",
       "    </tr>\n",
       "    <tr>\n",
       "      <th>2</th>\n",
       "      <td>1</td>\n",
       "      <td>0</td>\n",
       "      <td>1</td>\n",
       "      <td>1</td>\n",
       "      <td>1</td>\n",
       "      <td>Lupus</td>\n",
       "    </tr>\n",
       "    <tr>\n",
       "      <th>3</th>\n",
       "      <td>1</td>\n",
       "      <td>1</td>\n",
       "      <td>1</td>\n",
       "      <td>1</td>\n",
       "      <td>1</td>\n",
       "      <td>Lupus</td>\n",
       "    </tr>\n",
       "    <tr>\n",
       "      <th>4</th>\n",
       "      <td>1</td>\n",
       "      <td>1</td>\n",
       "      <td>0</td>\n",
       "      <td>1</td>\n",
       "      <td>0</td>\n",
       "      <td>Lupus</td>\n",
       "    </tr>\n",
       "  </tbody>\n",
       "</table>\n",
       "</div>"
      ],
      "text/plain": [
       "   ana  anti_dsdna_antibody  joint_involvement  proteinuria  \\\n",
       "0    1                    1                  1            1   \n",
       "1    1                    1                  1            0   \n",
       "2    1                    0                  1            1   \n",
       "3    1                    1                  1            1   \n",
       "4    1                    1                  0            1   \n",
       "\n",
       "   pericardial_effusion  label  \n",
       "0                     1  Lupus  \n",
       "1                     0  Lupus  \n",
       "2                     1  Lupus  \n",
       "3                     1  Lupus  \n",
       "4                     0  Lupus  "
      ]
     },
     "execution_count": 22,
     "metadata": {},
     "output_type": "execute_result"
    }
   ],
   "source": [
    "lupus_df.head()"
   ]
  },
  {
   "cell_type": "markdown",
   "id": "bf7af704",
   "metadata": {},
   "source": [
    "#### Saving the dataset"
   ]
  },
  {
   "cell_type": "code",
   "execution_count": 23,
   "id": "fb5babb9",
   "metadata": {},
   "outputs": [],
   "source": [
    "lupus_df.to_csv('../data/very_simple_datasets/lupus_5_features.csv', index=False)"
   ]
  },
  {
   "cell_type": "code",
   "execution_count": null,
   "id": "8c56d1ff",
   "metadata": {},
   "outputs": [],
   "source": []
  }
 ],
 "metadata": {
  "kernelspec": {
   "display_name": "Python 3 (ipykernel)",
   "language": "python",
   "name": "python3"
  },
  "language_info": {
   "codemirror_mode": {
    "name": "ipython",
    "version": 3
   },
   "file_extension": ".py",
   "mimetype": "text/x-python",
   "name": "python",
   "nbconvert_exporter": "python",
   "pygments_lexer": "ipython3",
   "version": "3.7.4"
  }
 },
 "nbformat": 4,
 "nbformat_minor": 5
}

{
 "cells": [
  {
   "cell_type": "code",
   "execution_count": 9,
   "id": "dce6e217",
   "metadata": {},
   "outputs": [],
   "source": [
    "def give_odd(n): #returns the nth odd number\n",
    "    return n*2-1"
   ]
  },
  {
   "cell_type": "code",
   "execution_count": 48,
   "id": "dd5cf8dd",
   "metadata": {},
   "outputs": [],
   "source": [
    "def get_line_num_list(n):\n",
    "    num_list = []\n",
    "    fig_num = give_odd(n)\n",
    "    for i in range(n): \n",
    "        num_list.append((n+i)%10)\n",
    "    reverse_list = num_list[:-1][::-1]\n",
    "    print(reverse_list)\n",
    "    return num_list+reverse_list"
   ]
  },
  {
   "cell_type": "code",
   "execution_count": 69,
   "id": "ca139dea",
   "metadata": {},
   "outputs": [],
   "source": [
    "def get_pyramid(n):\n",
    "    for i in range(1, n+1):\n",
    "        print(' '*(n-i), end='')\n",
    "        num_list = []\n",
    "        \n",
    "        for j in range(i):\n",
    "            print((i+j)%10, end='')\n",
    "            num_list.append((i+j)%10)\n",
    "        reverse_list = num_list[:-1][::-1]\n",
    "        \n",
    "        for k in reverse_list:\n",
    "            print(k, end='')\n",
    "            \n",
    "        print()"
   ]
  },
  {
   "cell_type": "code",
   "execution_count": 73,
   "id": "2d1a6702",
   "metadata": {},
   "outputs": [
    {
     "name": "stdout",
     "output_type": "stream",
     "text": [
      "                   1\n",
      "                  232\n",
      "                 34543\n",
      "                4567654\n",
      "               567898765\n",
      "              67890109876\n",
      "             7890123210987\n",
      "            890123454321098\n",
      "           90123456765432109\n",
      "          0123456789876543210\n",
      "         123456789010987654321\n",
      "        23456789012321098765432\n",
      "       3456789012345432109876543\n",
      "      456789012345676543210987654\n",
      "     56789012345678987654321098765\n",
      "    6789012345678901098765432109876\n",
      "   789012345678901232109876543210987\n",
      "  89012345678901234543210987654321098\n",
      " 9012345678901234567654321098765432109\n",
      "012345678901234567898765432109876543210\n"
     ]
    }
   ],
   "source": [
    "print_pyramid_mine(20)"
   ]
  },
  {
   "cell_type": "code",
   "execution_count": 52,
   "id": "deaff9cd",
   "metadata": {},
   "outputs": [
    {
     "name": "stdout",
     "output_type": "stream",
     "text": [
      "[0, 1, 2, 3, 4, 5, 6, 7, 8, 9]\n",
      "[8, 7, 6, 5, 4, 3, 2, 1, 0]\n"
     ]
    },
    {
     "data": {
      "text/plain": [
       "[0, 1, 2, 3, 4, 5, 6, 7, 8, 9, 8, 7, 6, 5, 4, 3, 2, 1, 0]"
      ]
     },
     "execution_count": 52,
     "metadata": {},
     "output_type": "execute_result"
    }
   ],
   "source": [
    "get_line_num_list(10)"
   ]
  },
  {
   "cell_type": "code",
   "execution_count": 16,
   "id": "48b911bb",
   "metadata": {},
   "outputs": [
    {
     "name": "stdout",
     "output_type": "stream",
     "text": [
      "0\n"
     ]
    }
   ],
   "source": [
    "for i in range(1):\n",
    "    print(i)"
   ]
  },
  {
   "cell_type": "code",
   "execution_count": 54,
   "id": "d99bacde",
   "metadata": {},
   "outputs": [],
   "source": [
    "def print_pyramid(n):\n",
    "    for i in range(1, n+1):\n",
    "        # Print spaces before the numbers\n",
    "        print(' '*(n-i), end='')\n",
    "        \n",
    "        # Print the numbers before the middle of the line\n",
    "        for j in range(0, i):\n",
    "            print(j%10, end='')\n",
    "        \n",
    "        # Print the numbers after the middle of the line\n",
    "        for j in range(i-2, -1, -1):\n",
    "            print(j%10, end='')\n",
    "        \n",
    "        # End the line\n",
    "        print()"
   ]
  },
  {
   "cell_type": "code",
   "execution_count": 57,
   "id": "057d2eae",
   "metadata": {},
   "outputs": [
    {
     "name": "stdout",
     "output_type": "stream",
     "text": [
      "    0\n",
      "   010\n",
      "  01210\n",
      " 0123210\n",
      "012343210\n"
     ]
    }
   ],
   "source": [
    "print_pyramid(5)"
   ]
  },
  {
   "cell_type": "code",
   "execution_count": null,
   "id": "87866ccc",
   "metadata": {},
   "outputs": [],
   "source": []
  }
 ],
 "metadata": {
  "kernelspec": {
   "display_name": "Python 3 (ipykernel)",
   "language": "python",
   "name": "python3"
  },
  "language_info": {
   "codemirror_mode": {
    "name": "ipython",
    "version": 3
   },
   "file_extension": ".py",
   "mimetype": "text/x-python",
   "name": "python",
   "nbconvert_exporter": "python",
   "pygments_lexer": "ipython3",
   "version": "3.7.4"
  }
 },
 "nbformat": 4,
 "nbformat_minor": 5
}

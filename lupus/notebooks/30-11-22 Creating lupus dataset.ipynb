{
 "cells": [
  {
   "cell_type": "code",
   "execution_count": 77,
   "id": "40f5448a",
   "metadata": {},
   "outputs": [],
   "source": [
    "import pandas as pd\n",
    "import numpy as np\n",
    "import random\n",
    "import seaborn as sns\n",
    "from scipy.stats import truncnorm\n",
    "import matplotlib.pyplot as plt\n",
    "%matplotlib inline"
   ]
  },
  {
   "cell_type": "code",
   "execution_count": 78,
   "id": "c926dd41",
   "metadata": {},
   "outputs": [],
   "source": [
    "SEED = 42\n",
    "random.seed(SEED)\n",
    "np.random.seed(SEED)"
   ]
  },
  {
   "cell_type": "markdown",
   "id": "68c038b2",
   "metadata": {},
   "source": [
    "#### Demographics"
   ]
  },
  {
   "cell_type": "code",
   "execution_count": 79,
   "id": "94a1ee3c",
   "metadata": {},
   "outputs": [
    {
     "data": {
      "text/html": [
       "<div>\n",
       "<style scoped>\n",
       "    .dataframe tbody tr th:only-of-type {\n",
       "        vertical-align: middle;\n",
       "    }\n",
       "\n",
       "    .dataframe tbody tr th {\n",
       "        vertical-align: top;\n",
       "    }\n",
       "\n",
       "    .dataframe thead th {\n",
       "        text-align: right;\n",
       "    }\n",
       "</style>\n",
       "<table border=\"1\" class=\"dataframe\">\n",
       "  <thead>\n",
       "    <tr style=\"text-align: right;\">\n",
       "      <th></th>\n",
       "    </tr>\n",
       "  </thead>\n",
       "  <tbody>\n",
       "  </tbody>\n",
       "</table>\n",
       "</div>"
      ],
      "text/plain": [
       "Empty DataFrame\n",
       "Columns: []\n",
       "Index: []"
      ]
     },
     "execution_count": 79,
     "metadata": {},
     "output_type": "execute_result"
    }
   ],
   "source": [
    "lupus_df = pd.DataFrame()\n",
    "#lupus_df['gender']= np.random.choice([0, 1], 70000, p=[0.5, 0.5])\n",
    "lupus_df.head()"
   ]
  },
  {
   "cell_type": "markdown",
   "id": "de1b1353",
   "metadata": {},
   "source": [
    "#### Entry criterion"
   ]
  },
  {
   "cell_type": "code",
   "execution_count": 80,
   "id": "49815bae",
   "metadata": {},
   "outputs": [
    {
     "data": {
      "text/html": [
       "<div>\n",
       "<style scoped>\n",
       "    .dataframe tbody tr th:only-of-type {\n",
       "        vertical-align: middle;\n",
       "    }\n",
       "\n",
       "    .dataframe tbody tr th {\n",
       "        vertical-align: top;\n",
       "    }\n",
       "\n",
       "    .dataframe thead th {\n",
       "        text-align: right;\n",
       "    }\n",
       "</style>\n",
       "<table border=\"1\" class=\"dataframe\">\n",
       "  <thead>\n",
       "    <tr style=\"text-align: right;\">\n",
       "      <th></th>\n",
       "      <th>ana</th>\n",
       "    </tr>\n",
       "  </thead>\n",
       "  <tbody>\n",
       "    <tr>\n",
       "      <th>0</th>\n",
       "      <td>1</td>\n",
       "    </tr>\n",
       "    <tr>\n",
       "      <th>1</th>\n",
       "      <td>0</td>\n",
       "    </tr>\n",
       "    <tr>\n",
       "      <th>2</th>\n",
       "      <td>0</td>\n",
       "    </tr>\n",
       "    <tr>\n",
       "      <th>3</th>\n",
       "      <td>0</td>\n",
       "    </tr>\n",
       "    <tr>\n",
       "      <th>4</th>\n",
       "      <td>1</td>\n",
       "    </tr>\n",
       "  </tbody>\n",
       "</table>\n",
       "</div>"
      ],
      "text/plain": [
       "   ana\n",
       "0    1\n",
       "1    0\n",
       "2    0\n",
       "3    0\n",
       "4    1"
      ]
     },
     "execution_count": 80,
     "metadata": {},
     "output_type": "execute_result"
    }
   ],
   "source": [
    "lupus_df['ana'] = np.random.choice([1, 0], 70000, p=[0.5, 0.5])\n",
    "lupus_df.head()"
   ]
  },
  {
   "cell_type": "code",
   "execution_count": 81,
   "id": "505b86ef",
   "metadata": {},
   "outputs": [
    {
     "data": {
      "text/plain": [
       "0    35044\n",
       "1    34956\n",
       "Name: ana, dtype: int64"
      ]
     },
     "execution_count": 81,
     "metadata": {},
     "output_type": "execute_result"
    }
   ],
   "source": [
    "lupus_df.ana.value_counts()"
   ]
  },
  {
   "cell_type": "markdown",
   "id": "8bf73233",
   "metadata": {},
   "source": [
    "#### Additional criteria"
   ]
  },
  {
   "cell_type": "code",
   "execution_count": 82,
   "id": "598e6b65",
   "metadata": {},
   "outputs": [],
   "source": [
    "criteria_weights = {'fever':2, 'leukopenia':3, 'thrombocytopenia':4, 'auto_immune_hemolysis':4, 'delirium':2, \n",
    "                    'psychosis':3, 'seizure':5, 'non_scarring_alopecia':2, 'oral_ulcers':2, 'subacute_cutaneous':4, \n",
    "                    'discoid_lupus':4, 'acute_cutaneous_lupus':6, 'pleural_effusion': 5, 'pericardial_effusion':5, \n",
    "                    'acute_pericarditis':6, 'joint_involvement':6, 'proteinuria':4, 'renal_biopsy_2_5':8, \n",
    "                    'renal_biopsy_3_4': 10, 'anti_cardioliphin_antibodies':4, 'anti_b2gp4_antibodies':2, \n",
    "                    'lupus_anti_coagulant':2, 'low_c3_or_low_c4':3, 'low_c3_and_low_c4':4, 'anti_dsdna_antibody':6, \n",
    "                    'anti_smith_antibody':6,}"
   ]
  },
  {
   "cell_type": "code",
   "execution_count": 83,
   "id": "6e553ec7",
   "metadata": {},
   "outputs": [],
   "source": [
    "def get_truncated_normal(mean=0, sd=1, low=0, upp=10, size=100):\n",
    "    return truncnorm(\n",
    "        (low - mean) / sd, (upp - mean) / sd, loc=mean, scale=sd).rvs(size=size)"
   ]
  },
  {
   "cell_type": "code",
   "execution_count": 84,
   "id": "a96c9792",
   "metadata": {},
   "outputs": [
    {
     "data": {
      "text/html": [
       "<div>\n",
       "<style scoped>\n",
       "    .dataframe tbody tr th:only-of-type {\n",
       "        vertical-align: middle;\n",
       "    }\n",
       "\n",
       "    .dataframe tbody tr th {\n",
       "        vertical-align: top;\n",
       "    }\n",
       "\n",
       "    .dataframe thead th {\n",
       "        text-align: right;\n",
       "    }\n",
       "</style>\n",
       "<table border=\"1\" class=\"dataframe\">\n",
       "  <thead>\n",
       "    <tr style=\"text-align: right;\">\n",
       "      <th></th>\n",
       "      <th>ana</th>\n",
       "      <th>fever</th>\n",
       "      <th>leukopenia</th>\n",
       "      <th>thrombocytopenia</th>\n",
       "      <th>auto_immune_hemolysis</th>\n",
       "      <th>delirium</th>\n",
       "      <th>psychosis</th>\n",
       "      <th>seizure</th>\n",
       "      <th>non_scarring_alopecia</th>\n",
       "      <th>oral_ulcers</th>\n",
       "      <th>...</th>\n",
       "      <th>joint_involvement</th>\n",
       "      <th>proteinuria</th>\n",
       "      <th>renal_biopsy_class</th>\n",
       "      <th>anti_cardioliphin_antibodies</th>\n",
       "      <th>anti_b2gp4_antibodies</th>\n",
       "      <th>lupus_anti_coagulant</th>\n",
       "      <th>c3</th>\n",
       "      <th>c4</th>\n",
       "      <th>anti_dsdna_antibody</th>\n",
       "      <th>anti_smith_antibody</th>\n",
       "    </tr>\n",
       "  </thead>\n",
       "  <tbody>\n",
       "    <tr>\n",
       "      <th>0</th>\n",
       "      <td>1</td>\n",
       "      <td>0.0</td>\n",
       "      <td>0.0</td>\n",
       "      <td>NaN</td>\n",
       "      <td>NaN</td>\n",
       "      <td>NaN</td>\n",
       "      <td>NaN</td>\n",
       "      <td>1.0</td>\n",
       "      <td>0.0</td>\n",
       "      <td>0.0</td>\n",
       "      <td>...</td>\n",
       "      <td>NaN</td>\n",
       "      <td>0.142219</td>\n",
       "      <td>2.0</td>\n",
       "      <td>NaN</td>\n",
       "      <td>NaN</td>\n",
       "      <td>NaN</td>\n",
       "      <td>NaN</td>\n",
       "      <td>NaN</td>\n",
       "      <td>1.0</td>\n",
       "      <td>NaN</td>\n",
       "    </tr>\n",
       "    <tr>\n",
       "      <th>1</th>\n",
       "      <td>0</td>\n",
       "      <td>NaN</td>\n",
       "      <td>NaN</td>\n",
       "      <td>NaN</td>\n",
       "      <td>1.0</td>\n",
       "      <td>NaN</td>\n",
       "      <td>0.0</td>\n",
       "      <td>NaN</td>\n",
       "      <td>1.0</td>\n",
       "      <td>NaN</td>\n",
       "      <td>...</td>\n",
       "      <td>NaN</td>\n",
       "      <td>1.272372</td>\n",
       "      <td>NaN</td>\n",
       "      <td>NaN</td>\n",
       "      <td>NaN</td>\n",
       "      <td>NaN</td>\n",
       "      <td>NaN</td>\n",
       "      <td>NaN</td>\n",
       "      <td>NaN</td>\n",
       "      <td>NaN</td>\n",
       "    </tr>\n",
       "    <tr>\n",
       "      <th>2</th>\n",
       "      <td>0</td>\n",
       "      <td>1.0</td>\n",
       "      <td>NaN</td>\n",
       "      <td>NaN</td>\n",
       "      <td>NaN</td>\n",
       "      <td>1.0</td>\n",
       "      <td>NaN</td>\n",
       "      <td>NaN</td>\n",
       "      <td>NaN</td>\n",
       "      <td>1.0</td>\n",
       "      <td>...</td>\n",
       "      <td>0.0</td>\n",
       "      <td>1.113889</td>\n",
       "      <td>NaN</td>\n",
       "      <td>NaN</td>\n",
       "      <td>NaN</td>\n",
       "      <td>NaN</td>\n",
       "      <td>NaN</td>\n",
       "      <td>1.0</td>\n",
       "      <td>NaN</td>\n",
       "      <td>NaN</td>\n",
       "    </tr>\n",
       "    <tr>\n",
       "      <th>3</th>\n",
       "      <td>0</td>\n",
       "      <td>1.0</td>\n",
       "      <td>NaN</td>\n",
       "      <td>NaN</td>\n",
       "      <td>0.0</td>\n",
       "      <td>NaN</td>\n",
       "      <td>NaN</td>\n",
       "      <td>NaN</td>\n",
       "      <td>NaN</td>\n",
       "      <td>NaN</td>\n",
       "      <td>...</td>\n",
       "      <td>NaN</td>\n",
       "      <td>0.794913</td>\n",
       "      <td>5.0</td>\n",
       "      <td>NaN</td>\n",
       "      <td>1.0</td>\n",
       "      <td>NaN</td>\n",
       "      <td>NaN</td>\n",
       "      <td>1.0</td>\n",
       "      <td>NaN</td>\n",
       "      <td>1.0</td>\n",
       "    </tr>\n",
       "    <tr>\n",
       "      <th>4</th>\n",
       "      <td>1</td>\n",
       "      <td>1.0</td>\n",
       "      <td>1.0</td>\n",
       "      <td>NaN</td>\n",
       "      <td>1.0</td>\n",
       "      <td>NaN</td>\n",
       "      <td>NaN</td>\n",
       "      <td>0.0</td>\n",
       "      <td>NaN</td>\n",
       "      <td>NaN</td>\n",
       "      <td>...</td>\n",
       "      <td>1.0</td>\n",
       "      <td>0.895061</td>\n",
       "      <td>2.0</td>\n",
       "      <td>NaN</td>\n",
       "      <td>NaN</td>\n",
       "      <td>NaN</td>\n",
       "      <td>0.0</td>\n",
       "      <td>NaN</td>\n",
       "      <td>NaN</td>\n",
       "      <td>0.0</td>\n",
       "    </tr>\n",
       "  </tbody>\n",
       "</table>\n",
       "<p>5 rows × 26 columns</p>\n",
       "</div>"
      ],
      "text/plain": [
       "   ana  fever  leukopenia  thrombocytopenia  auto_immune_hemolysis  delirium  \\\n",
       "0    1    0.0         0.0               NaN                    NaN       NaN   \n",
       "1    0    NaN         NaN               NaN                    1.0       NaN   \n",
       "2    0    1.0         NaN               NaN                    NaN       1.0   \n",
       "3    0    1.0         NaN               NaN                    0.0       NaN   \n",
       "4    1    1.0         1.0               NaN                    1.0       NaN   \n",
       "\n",
       "   psychosis  seizure  non_scarring_alopecia  oral_ulcers  ...  \\\n",
       "0        NaN      1.0                    0.0          0.0  ...   \n",
       "1        0.0      NaN                    1.0          NaN  ...   \n",
       "2        NaN      NaN                    NaN          1.0  ...   \n",
       "3        NaN      NaN                    NaN          NaN  ...   \n",
       "4        NaN      0.0                    NaN          NaN  ...   \n",
       "\n",
       "   joint_involvement  proteinuria  renal_biopsy_class  \\\n",
       "0                NaN     0.142219                 2.0   \n",
       "1                NaN     1.272372                 NaN   \n",
       "2                0.0     1.113889                 NaN   \n",
       "3                NaN     0.794913                 5.0   \n",
       "4                1.0     0.895061                 2.0   \n",
       "\n",
       "   anti_cardioliphin_antibodies  anti_b2gp4_antibodies  lupus_anti_coagulant  \\\n",
       "0                           NaN                    NaN                   NaN   \n",
       "1                           NaN                    NaN                   NaN   \n",
       "2                           NaN                    NaN                   NaN   \n",
       "3                           NaN                    1.0                   NaN   \n",
       "4                           NaN                    NaN                   NaN   \n",
       "\n",
       "    c3   c4  anti_dsdna_antibody  anti_smith_antibody  \n",
       "0  NaN  NaN                  1.0                  NaN  \n",
       "1  NaN  NaN                  NaN                  NaN  \n",
       "2  NaN  1.0                  NaN                  NaN  \n",
       "3  NaN  1.0                  NaN                  1.0  \n",
       "4  0.0  NaN                  NaN                  0.0  \n",
       "\n",
       "[5 rows x 26 columns]"
      ]
     },
     "execution_count": 84,
     "metadata": {},
     "output_type": "execute_result"
    }
   ],
   "source": [
    "lupus_df['fever'] = np.random.choice([0, 1, np.nan], 70000, p=[0.15, 0.15, 0.70])\n",
    "lupus_df['leukopenia'] = np.random.choice([0, 1, np.nan], 70000, p=[0.15, 0.15, 0.70])\n",
    "lupus_df['thrombocytopenia'] = np.random.choice([0, 1, np.nan], 70000, p=[0.15, 0.15, 0.70])\n",
    "lupus_df['auto_immune_hemolysis'] = np.random.choice([0, 1, np.nan], 70000, p=[0.15, 0.15, 0.70])\n",
    "lupus_df['delirium'] = np.random.choice([0, 1, np.nan], 70000, p=[0.15, 0.15, 0.70])\n",
    "lupus_df['psychosis'] = np.random.choice([0, 1, np.nan], 70000, p=[0.15, 0.15, 0.70])\n",
    "lupus_df['seizure'] = np.random.choice([0, 1, np.nan], 70000, p=[0.15, 0.15, 0.70])\n",
    "lupus_df['non_scarring_alopecia'] = np.random.choice([0, 1, np.nan], 70000, p=[0.15, 0.15, 0.70])\n",
    "lupus_df['oral_ulcers'] = np.random.choice([0, 1, np.nan], 70000, p=[0.15, 0.15, 0.70])\n",
    "lupus_df['subacute_cutaneous'] = np.random.choice([0, 1, np.nan], 70000, p=[0.15, 0.15, 0.70])\n",
    "lupus_df['discoid_lupus'] = np.random.choice([0, 1, np.nan], 70000, p=[0.15, 0.15, 0.70])\n",
    "lupus_df['acute_cutaneous_lupus'] = np.random.choice([0, 1, np.nan], 70000, p=[0.15, 0.15, 0.70])\n",
    "lupus_df['pleural_effusion'] = np.random.choice([0, 1, np.nan], 70000, p=[0.15, 0.15, 0.70])\n",
    "lupus_df['pericardial_effusion'] = np.random.choice([0, 1, np.nan], 70000, p=[0.15, 0.15, 0.70])\n",
    "lupus_df['acute_pericarditis'] = np.random.choice([0, 1, np.nan], 70000, p=[0.15, 0.15, 0.70])\n",
    "lupus_df['joint_involvement'] = np.random.choice([0, 1, np.nan], 70000, p=[0.15, 0.15, 0.70])\n",
    "lupus_df['proteinuria'] = get_truncated_normal(0.05, 1, 0, 3, 70000)\n",
    "lupus_df['renal_biopsy_class'] = np.random.choice([0, 1, 2, 3, 4, 5, np.nan], 70000, p=[0.05, 0.05, 0.1, 0.05, 0.05, 0.1, 0.60])\n",
    "lupus_df['anti_cardioliphin_antibodies'] = np.random.choice([0, 1, np.nan], 70000, p=[0.15, 0.15, 0.70])\n",
    "lupus_df['anti_b2gp4_antibodies'] = np.random.choice([0, 1, np.nan], 70000, p=[0.15, 0.15, 0.70])\n",
    "lupus_df['lupus_anti_coagulant'] = np.random.choice([0, 1, np.nan], 70000, p=[0.15, 0.15, 0.70])\n",
    "lupus_df['c3'] = np.random.choice([0, 1, np.nan], 70000, p=[0.15, 0.15, 0.70])\n",
    "lupus_df['c4'] = np.random.choice([0, 1, np.nan], 70000, p=[0.15, 0.15, 0.70])\n",
    "lupus_df['anti_dsdna_antibody'] = np.random.choice([0, 1, np.nan], 70000, p=[0.15, 0.15, 0.70])\n",
    "lupus_df['anti_smith_antibody'] = np.random.choice([0, 1, np.nan], 70000, p=[0.15, 0.15, 0.70])\n",
    "lupus_df.head()"
   ]
  },
  {
   "cell_type": "code",
   "execution_count": 85,
   "id": "9caeacc4",
   "metadata": {},
   "outputs": [],
   "source": [
    "domains_dict = {'constitutional': ['fever'],\n",
    "                'hematologic': ['leukopenia', 'thrombocytopenia', 'auto_immune_hemolysis'],\n",
    "                'neuropsychiatric': ['delirium', 'psychosis', 'seizure'],\n",
    "                'mucocutaneous': ['non_scarring_alopecia', 'oral_ulcers', 'subacute_cutaneous', 'discoid_lupus', 'acute_cutaneous_lupus'],\n",
    "                'serosal': ['pleural_effusion', 'pericardial_effusion', 'acute_pericarditis'],\n",
    "                'musculoskeletal': ['joint_involvement'],\n",
    "                'renal': ['proteinuria', 'renal_biopsy_class'],\n",
    "                'antiphospholipid_antibodies': ['anti_cardioliphin_antibodies', 'anti_b2gp4_antibodies', 'lupus_anti_coagulant'],\n",
    "                'complement_proteins': ['c3', 'c4'],\n",
    "                'sle_specific_antibodies':['anti_dsdna_antibody', 'anti_smith_antibody']}"
   ]
  },
  {
   "cell_type": "markdown",
   "id": "a3279315",
   "metadata": {},
   "source": [
    "#### Labelling the dataset"
   ]
  },
  {
   "cell_type": "code",
   "execution_count": 86,
   "id": "4a6c46e3",
   "metadata": {},
   "outputs": [],
   "source": [
    "def get_renal_biopsy_score(result_class):\n",
    "    if (result_class == 3) | (result_class == 4):\n",
    "        return 10\n",
    "    elif (result_class == 2) | (result_class == 5):\n",
    "        return 8\n",
    "    else:\n",
    "        return 0"
   ]
  },
  {
   "cell_type": "code",
   "execution_count": 87,
   "id": "fb63cd83",
   "metadata": {},
   "outputs": [],
   "source": [
    "def get_proteinura_score(amount):\n",
    "    if amount > 0.5:\n",
    "        return 4\n",
    "    else:\n",
    "        return 0"
   ]
  },
  {
   "cell_type": "code",
   "execution_count": 88,
   "id": "06a09f84",
   "metadata": {},
   "outputs": [],
   "source": [
    "def get_feat_score(row, feat):\n",
    "    if feat == 'proteinuria':\n",
    "        feat_score = get_proteinura_score(row[feat])\n",
    "    elif feat == 'renal_biopsy_class':\n",
    "        feat_score = get_renal_biopsy_score(row[feat])\n",
    "    elif row[feat] <= 0:\n",
    "        feat_score = 0\n",
    "    else:\n",
    "        feat_score = criteria_weights[feat]\n",
    "    return feat_score"
   ]
  },
  {
   "cell_type": "code",
   "execution_count": 89,
   "id": "9eaa8746",
   "metadata": {},
   "outputs": [],
   "source": [
    "def get_c3_c4_score(c3, c4): # 0 - low, 1 is not low\n",
    "    if (c3 == 0) & (c4 == 0):\n",
    "        return criteria_weights['low_c3_and_low_c4']\n",
    "    elif (c3 == 0) | (c4 == 0):\n",
    "        return criteria_weights['low_c3_or_low_c4']\n",
    "    else:\n",
    "        return 0"
   ]
  },
  {
   "cell_type": "code",
   "execution_count": 90,
   "id": "df3d23c7",
   "metadata": {},
   "outputs": [],
   "source": [
    "def get_domain_score(row, domain):\n",
    "    domain_features = domains_dict[domain]\n",
    "    #print(f'{domain} domain: {domain_features}')\n",
    "    domain_score = 0\n",
    "    if domain == 'complement_proteins':\n",
    "        domain_score = get_c3_c4_score(row.c3, row.c4)\n",
    "        domain_features = list(set(domain_features) - set(['c3', 'c4']))\n",
    "    for feat in domain_features:\n",
    "        if row[feat] >= 0:\n",
    "            feat_score = get_feat_score(row, feat)\n",
    "            print(f'{feat} feature - {feat_score}')\n",
    "            if feat_score > domain_score:\n",
    "                domain_score = feat_score\n",
    "    print(f'{domain} domain: {domain_score}')\n",
    "    return domain_score"
   ]
  },
  {
   "cell_type": "code",
   "execution_count": 91,
   "id": "18add64d",
   "metadata": {},
   "outputs": [],
   "source": [
    "def create_label(row):\n",
    "    if row['ana'] == 0:\n",
    "        return 0\n",
    "    total_row_score = 0\n",
    "    for domain in domains_dict.keys():\n",
    "        domain_score = get_domain_score(row, domain)\n",
    "        total_row_score += domain_score\n",
    "        if total_row_score >= 10:\n",
    "            return 1\n",
    "    else:\n",
    "        return 0"
   ]
  },
  {
   "cell_type": "code",
   "execution_count": 92,
   "id": "ad7e6c5c",
   "metadata": {},
   "outputs": [],
   "source": [
    "def compute_score(row):\n",
    "    if row['ana'] == 0: # negative - 0 positive - 1\n",
    "        return 0\n",
    "    total_row_score = 0\n",
    "    for domain in domains_dict.keys():\n",
    "        domain_score = get_domain_score(row, domain)\n",
    "        total_row_score += domain_score\n",
    "    return total_row_score"
   ]
  },
  {
   "cell_type": "code",
   "execution_count": null,
   "id": "45eef2f4",
   "metadata": {},
   "outputs": [],
   "source": [
    "lupus_df"
   ]
  },
  {
   "cell_type": "markdown",
   "id": "a68e96dc",
   "metadata": {},
   "source": [
    "#### delete from here"
   ]
  },
  {
   "cell_type": "code",
   "execution_count": 105,
   "id": "9dae1166",
   "metadata": {},
   "outputs": [
    {
     "data": {
      "text/plain": [
       "ana                             1.000000\n",
       "fever                           1.000000\n",
       "leukopenia                      1.000000\n",
       "thrombocytopenia                     NaN\n",
       "auto_immune_hemolysis           1.000000\n",
       "delirium                             NaN\n",
       "psychosis                            NaN\n",
       "seizure                         0.000000\n",
       "non_scarring_alopecia                NaN\n",
       "oral_ulcers                          NaN\n",
       "subacute_cutaneous                   NaN\n",
       "discoid_lupus                   1.000000\n",
       "acute_cutaneous_lupus                NaN\n",
       "pleural_effusion                0.000000\n",
       "pericardial_effusion                 NaN\n",
       "acute_pericarditis                   NaN\n",
       "joint_involvement               1.000000\n",
       "proteinuria                     0.895061\n",
       "renal_biopsy_class              2.000000\n",
       "anti_cardioliphin_antibodies         NaN\n",
       "anti_b2gp4_antibodies                NaN\n",
       "lupus_anti_coagulant                 NaN\n",
       "c3                              0.000000\n",
       "c4                                   NaN\n",
       "anti_dsdna_antibody                  NaN\n",
       "anti_smith_antibody             0.000000\n",
       "Name: 4, dtype: float64"
      ]
     },
     "execution_count": 105,
     "metadata": {},
     "output_type": "execute_result"
    }
   ],
   "source": [
    "lupus_df.iloc[4]"
   ]
  },
  {
   "cell_type": "code",
   "execution_count": 106,
   "id": "8bd8c48a",
   "metadata": {},
   "outputs": [],
   "source": [
    "my_sample_row = lupus_df.iloc[4]"
   ]
  },
  {
   "cell_type": "code",
   "execution_count": 107,
   "id": "2688b5f2",
   "metadata": {},
   "outputs": [
    {
     "name": "stdout",
     "output_type": "stream",
     "text": [
      "fever feature - 2\n",
      "constitutional domain: 2\n",
      "leukopenia feature - 3\n",
      "auto_immune_hemolysis feature - 4\n",
      "hematologic domain: 4\n",
      "seizure feature - 0\n",
      "neuropsychiatric domain: 0\n",
      "discoid_lupus feature - 4\n",
      "mucocutaneous domain: 4\n",
      "pleural_effusion feature - 0\n",
      "serosal domain: 0\n",
      "joint_involvement feature - 6\n",
      "musculoskeletal domain: 6\n",
      "proteinuria feature - 4\n",
      "renal_biopsy_class feature - 8\n",
      "renal domain: 8\n",
      "antiphospholipid_antibodies domain: 0\n",
      "complement_proteins domain: 3\n",
      "anti_smith_antibody feature - 0\n",
      "sle_specific_antibodies domain: 0\n"
     ]
    },
    {
     "data": {
      "text/plain": [
       "27"
      ]
     },
     "execution_count": 107,
     "metadata": {},
     "output_type": "execute_result"
    }
   ],
   "source": [
    "my_sample_score = compute_score(my_sample_row)\n",
    "my_sample_score"
   ]
  },
  {
   "cell_type": "code",
   "execution_count": 108,
   "id": "8f315f80",
   "metadata": {},
   "outputs": [
    {
     "name": "stdout",
     "output_type": "stream",
     "text": [
      "fever feature - 2\n",
      "constitutional domain: 2\n",
      "leukopenia feature - 3\n",
      "auto_immune_hemolysis feature - 4\n",
      "hematologic domain: 4\n",
      "seizure feature - 0\n",
      "neuropsychiatric domain: 0\n",
      "discoid_lupus feature - 4\n",
      "mucocutaneous domain: 4\n"
     ]
    },
    {
     "data": {
      "text/plain": [
       "1"
      ]
     },
     "execution_count": 108,
     "metadata": {},
     "output_type": "execute_result"
    }
   ],
   "source": [
    "my_sample_label = create_label(my_sample_row)\n",
    "my_sample_label"
   ]
  },
  {
   "cell_type": "code",
   "execution_count": null,
   "id": "2fc5499e",
   "metadata": {},
   "outputs": [],
   "source": []
  },
  {
   "cell_type": "markdown",
   "id": "3e42700e",
   "metadata": {},
   "source": [
    "#### Stop here"
   ]
  },
  {
   "cell_type": "code",
   "execution_count": null,
   "id": "9ab61e5c",
   "metadata": {},
   "outputs": [],
   "source": [
    "lupus_df['score'] = lupus_df.apply(lambda row: compute_score(row), axis=1)\n",
    "lupus_df['label'] = lupus_df.apply(lambda row: create_label(row), axis=1)\n",
    "lupus_df.head()"
   ]
  },
  {
   "cell_type": "code",
   "execution_count": null,
   "id": "3ec58f6a",
   "metadata": {},
   "outputs": [],
   "source": [
    "lupus_df[(lupus_df.ana==0) & (lupus_df.label==1)]"
   ]
  },
  {
   "cell_type": "code",
   "execution_count": null,
   "id": "e13cf265",
   "metadata": {},
   "outputs": [],
   "source": []
  },
  {
   "cell_type": "code",
   "execution_count": null,
   "id": "b2c859bb",
   "metadata": {},
   "outputs": [],
   "source": []
  },
  {
   "cell_type": "code",
   "execution_count": null,
   "id": "d54aeca9",
   "metadata": {},
   "outputs": [],
   "source": []
  },
  {
   "cell_type": "code",
   "execution_count": null,
   "id": "1c1b241d",
   "metadata": {},
   "outputs": [],
   "source": []
  },
  {
   "cell_type": "code",
   "execution_count": null,
   "id": "0796fa47",
   "metadata": {},
   "outputs": [],
   "source": []
  },
  {
   "cell_type": "code",
   "execution_count": null,
   "id": "a0e73304",
   "metadata": {},
   "outputs": [],
   "source": []
  },
  {
   "cell_type": "code",
   "execution_count": null,
   "id": "4b0e5cf1",
   "metadata": {},
   "outputs": [],
   "source": [
    "lupus_df.label.value_counts()"
   ]
  },
  {
   "cell_type": "code",
   "execution_count": null,
   "id": "bed75f6e",
   "metadata": {},
   "outputs": [],
   "source": [
    "lupus_df.isna().sum()"
   ]
  },
  {
   "cell_type": "code",
   "execution_count": null,
   "id": "f2929119",
   "metadata": {},
   "outputs": [],
   "source": [
    "a = lupus_df[(lupus_df.ana == 1) & (lupus_df.label == 0)] # i need at least 20000 here\n",
    "len(a)"
   ]
  },
  {
   "cell_type": "code",
   "execution_count": null,
   "id": "3d436d48",
   "metadata": {},
   "outputs": [],
   "source": [
    "a.iloc[0]"
   ]
  },
  {
   "cell_type": "markdown",
   "id": "2526214a",
   "metadata": {},
   "source": [
    "#### Testing dataset"
   ]
  },
  {
   "cell_type": "code",
   "execution_count": null,
   "id": "2dc81af7",
   "metadata": {},
   "outputs": [],
   "source": [
    "from sklearn.model_selection import train_test_split\n",
    "from sklearn.preprocessing import label_binarize, LabelBinarizer\n",
    "from sklearn.metrics import accuracy_score, f1_score, roc_auc_score\n",
    "from sklearn.metrics import roc_curve, auc"
   ]
  },
  {
   "cell_type": "code",
   "execution_count": null,
   "id": "4faaa851",
   "metadata": {},
   "outputs": [],
   "source": [
    "lupus_df = lupus_df.fillna(-1)\n",
    "X = lupus_df.iloc[:, 0:-1]\n",
    "y = lupus_df.iloc[:, -1]\n",
    "X_train, X_test, y_train, y_test = train_test_split(X, y, test_size=0.20, random_state=42, stratify=y)\n",
    "#X_train, y_train = np.array(X_train), np.array(y_train)\n",
    "#X_test, y_test = np.array(X_test), np.array(y_test)\n",
    "X_train.shape, X_test.shape, y_train.shape, y_test.shape"
   ]
  },
  {
   "cell_type": "code",
   "execution_count": null,
   "id": "09decc8e",
   "metadata": {},
   "outputs": [],
   "source": [
    "from sklearn.tree import DecisionTreeClassifier\n",
    "dt = DecisionTreeClassifier(random_state=42).fit(X_train, y_train)\n",
    "y_pred_dt = dt.predict(X_test)\n",
    "accuracy_score(y_test, y_pred_dt) # probably because the ana is enough for that"
   ]
  },
  {
   "cell_type": "code",
   "execution_count": null,
   "id": "448f8eaf",
   "metadata": {},
   "outputs": [],
   "source": [
    "from sklearn.ensemble import RandomForestClassifier\n",
    "rf = RandomForestClassifier(random_state=42).fit(X_train, y_train)\n",
    "y_pred_rf = rf.predict(X_test)\n",
    "accuracy_score(y_test, y_pred_rf)"
   ]
  },
  {
   "cell_type": "code",
   "execution_count": null,
   "id": "0ad7cb10",
   "metadata": {},
   "outputs": [],
   "source": [
    "import xgboost as xgb\n",
    "xg = xgb.XGBClassifier(random_state=42).fit(X_train, y_train)\n",
    "y_pred_xg = xg.predict(X_test)\n",
    "accuracy_score(y_test, y_pred_xg)"
   ]
  },
  {
   "cell_type": "code",
   "execution_count": null,
   "id": "68190cda",
   "metadata": {},
   "outputs": [],
   "source": [
    "#from sklearn.preprocessing import MinMaxScaler\n",
    "from sklearn.svm import SVC\n",
    "#mmc = MinMaxScaler()\n",
    "#X_train = mmc.fit_transform(X_train)\n",
    "#X_train[['proteinuria']] = mmc.fit_transform(X_train[['proteinuria']])\n",
    "#X_test[['proteinuria']] = mmc.fit_transform(X_test[['proteinuria']])\n",
    "svm_model = SVC(kernel='linear', C=1, decision_function_shape='ovo', random_state=42).fit(X_train, y_train)\n",
    "y_pred_svm = svm_model.predict(X_test)\n",
    "accuracy_score(y_test, y_pred_svm)"
   ]
  },
  {
   "cell_type": "code",
   "execution_count": null,
   "id": "8ccd23a0",
   "metadata": {},
   "outputs": [],
   "source": []
  },
  {
   "cell_type": "markdown",
   "id": "05c719f2",
   "metadata": {},
   "source": [
    "#### Rules for classification"
   ]
  },
  {
   "cell_type": "code",
   "execution_count": null,
   "id": "f883a069",
   "metadata": {},
   "outputs": [],
   "source": [
    "def has_fever(row):\n",
    "    if row.body_temp > 37.8:\n",
    "        return True\n",
    "    elif row.body_temp >0:\n",
    "        return False\n",
    "    else:\n",
    "        return None"
   ]
  },
  {
   "cell_type": "code",
   "execution_count": null,
   "id": "c9fe54a9",
   "metadata": {},
   "outputs": [],
   "source": [
    "def has_leukopenia(row):\n",
    "    if row.wbc < 4000:\n",
    "        return True\n",
    "    elif row.wbc > 0:\n",
    "        return False\n",
    "    else:\n",
    "        return None"
   ]
  },
  {
   "cell_type": "code",
   "execution_count": null,
   "id": "31d15330",
   "metadata": {},
   "outputs": [],
   "source": [
    "def has_thrombocytopenia(row):\n",
    "    if row.wbc < 4000:\n",
    "        return True\n",
    "    elif row.wbc > 0:\n",
    "        return False\n",
    "    else:\n",
    "        return None"
   ]
  },
  {
   "cell_type": "code",
   "execution_count": null,
   "id": "2e3346d1",
   "metadata": {},
   "outputs": [],
   "source": []
  },
  {
   "cell_type": "code",
   "execution_count": null,
   "id": "1cd48ebe",
   "metadata": {},
   "outputs": [],
   "source": []
  }
 ],
 "metadata": {
  "kernelspec": {
   "display_name": "Python 3 (ipykernel)",
   "language": "python",
   "name": "python3"
  },
  "language_info": {
   "codemirror_mode": {
    "name": "ipython",
    "version": 3
   },
   "file_extension": ".py",
   "mimetype": "text/x-python",
   "name": "python",
   "nbconvert_exporter": "python",
   "pygments_lexer": "ipython3",
   "version": "3.7.4"
  }
 },
 "nbformat": 4,
 "nbformat_minor": 5
}

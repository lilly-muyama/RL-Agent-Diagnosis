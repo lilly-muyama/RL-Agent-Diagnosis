{
 "cells": [
  {
   "cell_type": "code",
   "execution_count": 1,
   "id": "40f5448a",
   "metadata": {},
   "outputs": [],
   "source": [
    "import pandas as pd\n",
    "import numpy as np\n",
    "import random\n",
    "import seaborn as sns\n",
    "from scipy.stats import truncnorm\n",
    "import matplotlib.pyplot as plt\n",
    "%matplotlib inline"
   ]
  },
  {
   "cell_type": "code",
   "execution_count": 2,
   "id": "c926dd41",
   "metadata": {},
   "outputs": [],
   "source": [
    "SEED = 42\n",
    "random.seed(SEED)\n",
    "np.random.seed(SEED)"
   ]
  },
  {
   "cell_type": "markdown",
   "id": "68c038b2",
   "metadata": {},
   "source": [
    "#### Demographics"
   ]
  },
  {
   "cell_type": "code",
   "execution_count": 3,
   "id": "94a1ee3c",
   "metadata": {},
   "outputs": [
    {
     "data": {
      "text/html": [
       "<div>\n",
       "<style scoped>\n",
       "    .dataframe tbody tr th:only-of-type {\n",
       "        vertical-align: middle;\n",
       "    }\n",
       "\n",
       "    .dataframe tbody tr th {\n",
       "        vertical-align: top;\n",
       "    }\n",
       "\n",
       "    .dataframe thead th {\n",
       "        text-align: right;\n",
       "    }\n",
       "</style>\n",
       "<table border=\"1\" class=\"dataframe\">\n",
       "  <thead>\n",
       "    <tr style=\"text-align: right;\">\n",
       "      <th></th>\n",
       "    </tr>\n",
       "  </thead>\n",
       "  <tbody>\n",
       "  </tbody>\n",
       "</table>\n",
       "</div>"
      ],
      "text/plain": [
       "Empty DataFrame\n",
       "Columns: []\n",
       "Index: []"
      ]
     },
     "execution_count": 3,
     "metadata": {},
     "output_type": "execute_result"
    }
   ],
   "source": [
    "lupus_df = pd.DataFrame()\n",
    "#lupus_df['gender']= np.random.choice([0, 1], sample_num, p=[0.5, 0.5])\n",
    "lupus_df.head()"
   ]
  },
  {
   "cell_type": "code",
   "execution_count": 4,
   "id": "9fe652a6",
   "metadata": {},
   "outputs": [],
   "source": [
    "sample_num = 70000\n",
    "nan_frac = 0.95\n",
    "pos_frac = 0.025\n",
    "neg_frac = 0.025\n",
    "renal_pos_frac = 0.0125\n",
    "renal_neg_frac =0.025\n",
    "renal_nan_frac = 0.90"
   ]
  },
  {
   "cell_type": "markdown",
   "id": "de1b1353",
   "metadata": {},
   "source": [
    "#### Entry criterion"
   ]
  },
  {
   "cell_type": "code",
   "execution_count": 5,
   "id": "49815bae",
   "metadata": {},
   "outputs": [
    {
     "data": {
      "text/html": [
       "<div>\n",
       "<style scoped>\n",
       "    .dataframe tbody tr th:only-of-type {\n",
       "        vertical-align: middle;\n",
       "    }\n",
       "\n",
       "    .dataframe tbody tr th {\n",
       "        vertical-align: top;\n",
       "    }\n",
       "\n",
       "    .dataframe thead th {\n",
       "        text-align: right;\n",
       "    }\n",
       "</style>\n",
       "<table border=\"1\" class=\"dataframe\">\n",
       "  <thead>\n",
       "    <tr style=\"text-align: right;\">\n",
       "      <th></th>\n",
       "      <th>ana</th>\n",
       "    </tr>\n",
       "  </thead>\n",
       "  <tbody>\n",
       "    <tr>\n",
       "      <th>0</th>\n",
       "      <td>1</td>\n",
       "    </tr>\n",
       "    <tr>\n",
       "      <th>1</th>\n",
       "      <td>0</td>\n",
       "    </tr>\n",
       "    <tr>\n",
       "      <th>2</th>\n",
       "      <td>0</td>\n",
       "    </tr>\n",
       "    <tr>\n",
       "      <th>3</th>\n",
       "      <td>0</td>\n",
       "    </tr>\n",
       "    <tr>\n",
       "      <th>4</th>\n",
       "      <td>1</td>\n",
       "    </tr>\n",
       "  </tbody>\n",
       "</table>\n",
       "</div>"
      ],
      "text/plain": [
       "   ana\n",
       "0    1\n",
       "1    0\n",
       "2    0\n",
       "3    0\n",
       "4    1"
      ]
     },
     "execution_count": 5,
     "metadata": {},
     "output_type": "execute_result"
    }
   ],
   "source": [
    "lupus_df['ana'] = np.random.choice([1, 0], sample_num, p=[0.5, 0.5])\n",
    "lupus_df.head()"
   ]
  },
  {
   "cell_type": "code",
   "execution_count": 6,
   "id": "505b86ef",
   "metadata": {},
   "outputs": [
    {
     "data": {
      "text/plain": [
       "0    35044\n",
       "1    34956\n",
       "Name: ana, dtype: int64"
      ]
     },
     "execution_count": 6,
     "metadata": {},
     "output_type": "execute_result"
    }
   ],
   "source": [
    "lupus_df.ana.value_counts()"
   ]
  },
  {
   "cell_type": "markdown",
   "id": "8bf73233",
   "metadata": {},
   "source": [
    "#### Additional criteria"
   ]
  },
  {
   "cell_type": "code",
   "execution_count": 7,
   "id": "598e6b65",
   "metadata": {},
   "outputs": [],
   "source": [
    "criteria_weights = {'fever':2, 'leukopenia':3, 'thrombocytopenia':4, 'auto_immune_hemolysis':4, 'delirium':2, \n",
    "                    'psychosis':3, 'seizure':5, 'non_scarring_alopecia':2, 'oral_ulcers':2, 'subacute_cutaneous':4, \n",
    "                    'discoid_lupus':4, 'acute_cutaneous_lupus':6, 'pleural_effusion': 5, 'pericardial_effusion':5, \n",
    "                    'acute_pericarditis':6, 'joint_involvement':6, 'proteinuria':4, 'renal_biopsy_2_5':8, \n",
    "                    'renal_biopsy_3_4': 10, 'anti_cardioliphin_antibodies':2, 'anti_b2gp4_antibodies':2, \n",
    "                    'lupus_anti_coagulant':2, 'low_c3_or_low_c4':3, 'low_c3_and_low_c4':4, 'anti_dsdna_antibody':6, \n",
    "                    'anti_smith_antibody':6,}"
   ]
  },
  {
   "cell_type": "code",
   "execution_count": 8,
   "id": "6e553ec7",
   "metadata": {},
   "outputs": [],
   "source": [
    "def get_truncated_normal(mean=0, sd=1, low=0, upp=10, size=100):\n",
    "    return truncnorm(\n",
    "        (low - mean) / sd, (upp - mean) / sd, loc=mean, scale=sd).rvs(size=size)"
   ]
  },
  {
   "cell_type": "code",
   "execution_count": 9,
   "id": "f8ecf345",
   "metadata": {},
   "outputs": [],
   "source": [
    "def create_proteinuria(size, max_val, skewness):\n",
    "    from scipy.stats import skewnorm\n",
    "    skewed_list = skewnorm.rvs(a = skewness, loc=max_val, size=size)\n",
    "    skewed_list = skewed_list - min(skewed_list)      #Shift the set so the minimum value is equal to zero.\n",
    "    skewed_list = skewed_list / max(skewed_list)      #Standadize all the vlues between 0 and 1. \n",
    "    skewed_list = skewed_list * max_val\n",
    "    return skewed_list"
   ]
  },
  {
   "cell_type": "code",
   "execution_count": 10,
   "id": "a96c9792",
   "metadata": {},
   "outputs": [
    {
     "data": {
      "text/html": [
       "<div>\n",
       "<style scoped>\n",
       "    .dataframe tbody tr th:only-of-type {\n",
       "        vertical-align: middle;\n",
       "    }\n",
       "\n",
       "    .dataframe tbody tr th {\n",
       "        vertical-align: top;\n",
       "    }\n",
       "\n",
       "    .dataframe thead th {\n",
       "        text-align: right;\n",
       "    }\n",
       "</style>\n",
       "<table border=\"1\" class=\"dataframe\">\n",
       "  <thead>\n",
       "    <tr style=\"text-align: right;\">\n",
       "      <th></th>\n",
       "      <th>ana</th>\n",
       "      <th>fever</th>\n",
       "      <th>leukopenia</th>\n",
       "      <th>thrombocytopenia</th>\n",
       "      <th>auto_immune_hemolysis</th>\n",
       "      <th>delirium</th>\n",
       "      <th>psychosis</th>\n",
       "      <th>seizure</th>\n",
       "      <th>non_scarring_alopecia</th>\n",
       "      <th>oral_ulcers</th>\n",
       "      <th>...</th>\n",
       "      <th>joint_involvement</th>\n",
       "      <th>proteinuria</th>\n",
       "      <th>renal_biopsy_class</th>\n",
       "      <th>anti_cardioliphin_antibodies</th>\n",
       "      <th>anti_b2gp4_antibodies</th>\n",
       "      <th>lupus_anti_coagulant</th>\n",
       "      <th>c3</th>\n",
       "      <th>c4</th>\n",
       "      <th>anti_dsdna_antibody</th>\n",
       "      <th>anti_smith_antibody</th>\n",
       "    </tr>\n",
       "  </thead>\n",
       "  <tbody>\n",
       "    <tr>\n",
       "      <th>0</th>\n",
       "      <td>1</td>\n",
       "      <td>1.0</td>\n",
       "      <td>NaN</td>\n",
       "      <td>NaN</td>\n",
       "      <td>NaN</td>\n",
       "      <td>NaN</td>\n",
       "      <td>NaN</td>\n",
       "      <td>NaN</td>\n",
       "      <td>0.0</td>\n",
       "      <td>1.0</td>\n",
       "      <td>...</td>\n",
       "      <td>NaN</td>\n",
       "      <td>NaN</td>\n",
       "      <td>NaN</td>\n",
       "      <td>NaN</td>\n",
       "      <td>NaN</td>\n",
       "      <td>NaN</td>\n",
       "      <td>NaN</td>\n",
       "      <td>NaN</td>\n",
       "      <td>NaN</td>\n",
       "      <td>NaN</td>\n",
       "    </tr>\n",
       "    <tr>\n",
       "      <th>1</th>\n",
       "      <td>0</td>\n",
       "      <td>NaN</td>\n",
       "      <td>NaN</td>\n",
       "      <td>NaN</td>\n",
       "      <td>NaN</td>\n",
       "      <td>NaN</td>\n",
       "      <td>0.0</td>\n",
       "      <td>NaN</td>\n",
       "      <td>NaN</td>\n",
       "      <td>NaN</td>\n",
       "      <td>...</td>\n",
       "      <td>NaN</td>\n",
       "      <td>0.218628</td>\n",
       "      <td>NaN</td>\n",
       "      <td>1.0</td>\n",
       "      <td>NaN</td>\n",
       "      <td>NaN</td>\n",
       "      <td>NaN</td>\n",
       "      <td>NaN</td>\n",
       "      <td>NaN</td>\n",
       "      <td>1.0</td>\n",
       "    </tr>\n",
       "    <tr>\n",
       "      <th>2</th>\n",
       "      <td>0</td>\n",
       "      <td>NaN</td>\n",
       "      <td>NaN</td>\n",
       "      <td>NaN</td>\n",
       "      <td>NaN</td>\n",
       "      <td>NaN</td>\n",
       "      <td>NaN</td>\n",
       "      <td>NaN</td>\n",
       "      <td>NaN</td>\n",
       "      <td>NaN</td>\n",
       "      <td>...</td>\n",
       "      <td>NaN</td>\n",
       "      <td>0.367514</td>\n",
       "      <td>NaN</td>\n",
       "      <td>NaN</td>\n",
       "      <td>NaN</td>\n",
       "      <td>NaN</td>\n",
       "      <td>NaN</td>\n",
       "      <td>NaN</td>\n",
       "      <td>NaN</td>\n",
       "      <td>NaN</td>\n",
       "    </tr>\n",
       "    <tr>\n",
       "      <th>3</th>\n",
       "      <td>0</td>\n",
       "      <td>NaN</td>\n",
       "      <td>NaN</td>\n",
       "      <td>NaN</td>\n",
       "      <td>1.0</td>\n",
       "      <td>NaN</td>\n",
       "      <td>NaN</td>\n",
       "      <td>NaN</td>\n",
       "      <td>NaN</td>\n",
       "      <td>NaN</td>\n",
       "      <td>...</td>\n",
       "      <td>NaN</td>\n",
       "      <td>NaN</td>\n",
       "      <td>NaN</td>\n",
       "      <td>NaN</td>\n",
       "      <td>NaN</td>\n",
       "      <td>NaN</td>\n",
       "      <td>NaN</td>\n",
       "      <td>NaN</td>\n",
       "      <td>NaN</td>\n",
       "      <td>NaN</td>\n",
       "    </tr>\n",
       "    <tr>\n",
       "      <th>4</th>\n",
       "      <td>1</td>\n",
       "      <td>NaN</td>\n",
       "      <td>NaN</td>\n",
       "      <td>NaN</td>\n",
       "      <td>NaN</td>\n",
       "      <td>NaN</td>\n",
       "      <td>NaN</td>\n",
       "      <td>1.0</td>\n",
       "      <td>NaN</td>\n",
       "      <td>NaN</td>\n",
       "      <td>...</td>\n",
       "      <td>NaN</td>\n",
       "      <td>0.442020</td>\n",
       "      <td>NaN</td>\n",
       "      <td>1.0</td>\n",
       "      <td>NaN</td>\n",
       "      <td>NaN</td>\n",
       "      <td>NaN</td>\n",
       "      <td>NaN</td>\n",
       "      <td>NaN</td>\n",
       "      <td>NaN</td>\n",
       "    </tr>\n",
       "  </tbody>\n",
       "</table>\n",
       "<p>5 rows × 26 columns</p>\n",
       "</div>"
      ],
      "text/plain": [
       "   ana  fever  leukopenia  thrombocytopenia  auto_immune_hemolysis  delirium  \\\n",
       "0    1    1.0         NaN               NaN                    NaN       NaN   \n",
       "1    0    NaN         NaN               NaN                    NaN       NaN   \n",
       "2    0    NaN         NaN               NaN                    NaN       NaN   \n",
       "3    0    NaN         NaN               NaN                    1.0       NaN   \n",
       "4    1    NaN         NaN               NaN                    NaN       NaN   \n",
       "\n",
       "   psychosis  seizure  non_scarring_alopecia  oral_ulcers  ...  \\\n",
       "0        NaN      NaN                    0.0          1.0  ...   \n",
       "1        0.0      NaN                    NaN          NaN  ...   \n",
       "2        NaN      NaN                    NaN          NaN  ...   \n",
       "3        NaN      NaN                    NaN          NaN  ...   \n",
       "4        NaN      1.0                    NaN          NaN  ...   \n",
       "\n",
       "   joint_involvement  proteinuria  renal_biopsy_class  \\\n",
       "0                NaN          NaN                 NaN   \n",
       "1                NaN     0.218628                 NaN   \n",
       "2                NaN     0.367514                 NaN   \n",
       "3                NaN          NaN                 NaN   \n",
       "4                NaN     0.442020                 NaN   \n",
       "\n",
       "   anti_cardioliphin_antibodies  anti_b2gp4_antibodies  lupus_anti_coagulant  \\\n",
       "0                           NaN                    NaN                   NaN   \n",
       "1                           1.0                    NaN                   NaN   \n",
       "2                           NaN                    NaN                   NaN   \n",
       "3                           NaN                    NaN                   NaN   \n",
       "4                           1.0                    NaN                   NaN   \n",
       "\n",
       "   c3  c4  anti_dsdna_antibody  anti_smith_antibody  \n",
       "0 NaN NaN                  NaN                  NaN  \n",
       "1 NaN NaN                  NaN                  1.0  \n",
       "2 NaN NaN                  NaN                  NaN  \n",
       "3 NaN NaN                  NaN                  NaN  \n",
       "4 NaN NaN                  NaN                  NaN  \n",
       "\n",
       "[5 rows x 26 columns]"
      ]
     },
     "execution_count": 10,
     "metadata": {},
     "output_type": "execute_result"
    }
   ],
   "source": [
    "lupus_df['fever'] = np.random.choice([0, 1, np.nan], sample_num, p=[neg_frac, pos_frac, nan_frac])\n",
    "lupus_df['leukopenia'] = np.random.choice([0, 1, np.nan], sample_num, p=[neg_frac, pos_frac, nan_frac])\n",
    "lupus_df['thrombocytopenia'] = np.random.choice([0, 1, np.nan], sample_num, p=[neg_frac, pos_frac, nan_frac])\n",
    "lupus_df['auto_immune_hemolysis'] = np.random.choice([0, 1, np.nan], sample_num, p=[neg_frac, pos_frac, nan_frac])\n",
    "lupus_df['delirium'] = np.random.choice([0, 1, np.nan], sample_num, p=[neg_frac, pos_frac, nan_frac])\n",
    "lupus_df['psychosis'] = np.random.choice([0, 1, np.nan], sample_num, p=[neg_frac, pos_frac, nan_frac])\n",
    "lupus_df['seizure'] = np.random.choice([0, 1, np.nan], sample_num, p=[neg_frac, pos_frac, nan_frac])\n",
    "lupus_df['non_scarring_alopecia'] = np.random.choice([0, 1, np.nan], sample_num, p=[neg_frac, pos_frac, nan_frac])\n",
    "lupus_df['oral_ulcers'] = np.random.choice([0, 1, np.nan], sample_num, p=[neg_frac, pos_frac, nan_frac])\n",
    "lupus_df['subacute_cutaneous'] = np.random.choice([0, 1, np.nan], sample_num, p=[neg_frac, pos_frac, nan_frac])\n",
    "lupus_df['discoid_lupus'] = np.random.choice([0, 1, np.nan], sample_num, p=[neg_frac, pos_frac, nan_frac])\n",
    "lupus_df['acute_cutaneous_lupus'] = np.random.choice([0, 1, np.nan], sample_num, p=[neg_frac, pos_frac, nan_frac])\n",
    "lupus_df['pleural_effusion'] = np.random.choice([0, 1, np.nan], sample_num, p=[neg_frac, pos_frac, nan_frac])\n",
    "lupus_df['pericardial_effusion'] = np.random.choice([0, 1, np.nan], sample_num, p=[neg_frac, pos_frac, nan_frac])\n",
    "lupus_df['acute_pericarditis'] = np.random.choice([0, 1, np.nan], sample_num, p=[neg_frac, pos_frac, nan_frac])\n",
    "lupus_df['joint_involvement'] = np.random.choice([0, 1, np.nan], sample_num, p=[neg_frac, pos_frac, nan_frac])\n",
    "#lupus_df['proteinuria'] = get_truncated_normal(0.05, 1, 0, 3, sample_num)\n",
    "lupus_df['proteinuria'] = create_proteinuria(sample_num, 3, 100)\n",
    "lupus_df['proteinuria'] = lupus_df['proteinuria'].sample(frac=0.3)\n",
    "lupus_df['renal_biopsy_class'] = np.random.choice([0, 1, 2, 3, 4, 5, np.nan], sample_num, p=[renal_neg_frac, renal_neg_frac, renal_pos_frac, renal_pos_frac, renal_pos_frac, renal_pos_frac, renal_nan_frac])\n",
    "lupus_df['anti_cardioliphin_antibodies'] = np.random.choice([0, 1, np.nan], sample_num, p=[neg_frac, pos_frac, nan_frac])\n",
    "lupus_df['anti_b2gp4_antibodies'] = np.random.choice([0, 1, np.nan], sample_num, p=[neg_frac, pos_frac, nan_frac])\n",
    "lupus_df['lupus_anti_coagulant'] = np.random.choice([0, 1, np.nan], sample_num, p=[neg_frac, pos_frac, nan_frac])\n",
    "lupus_df['c3'] = np.random.choice([0, 1, np.nan], sample_num, p=[neg_frac, pos_frac, nan_frac])\n",
    "lupus_df['c4'] = np.random.choice([0, 1, np.nan], sample_num, p=[neg_frac, pos_frac, nan_frac])\n",
    "lupus_df['anti_dsdna_antibody'] = np.random.choice([0, 1, np.nan], sample_num, p=[neg_frac, pos_frac, nan_frac])\n",
    "lupus_df['anti_smith_antibody'] = np.random.choice([0, 1, np.nan], sample_num, p=[neg_frac, pos_frac, nan_frac])\n",
    "lupus_df.head()"
   ]
  },
  {
   "cell_type": "code",
   "execution_count": 11,
   "id": "e58f9a48",
   "metadata": {},
   "outputs": [
    {
     "data": {
      "text/plain": [
       "ana                                 0\n",
       "fever                           66539\n",
       "leukopenia                      66570\n",
       "thrombocytopenia                66610\n",
       "auto_immune_hemolysis           66520\n",
       "delirium                        66387\n",
       "psychosis                       66552\n",
       "seizure                         66559\n",
       "non_scarring_alopecia           66549\n",
       "oral_ulcers                     66529\n",
       "subacute_cutaneous              66511\n",
       "discoid_lupus                   66557\n",
       "acute_cutaneous_lupus           66488\n",
       "pleural_effusion                66524\n",
       "pericardial_effusion            66495\n",
       "acute_pericarditis              66549\n",
       "joint_involvement               66592\n",
       "proteinuria                     49000\n",
       "renal_biopsy_class              62977\n",
       "anti_cardioliphin_antibodies    66459\n",
       "anti_b2gp4_antibodies           66560\n",
       "lupus_anti_coagulant            66478\n",
       "c3                              66481\n",
       "c4                              66427\n",
       "anti_dsdna_antibody             66552\n",
       "anti_smith_antibody             66463\n",
       "dtype: int64"
      ]
     },
     "execution_count": 11,
     "metadata": {},
     "output_type": "execute_result"
    }
   ],
   "source": [
    "lupus_df.isna().sum()"
   ]
  },
  {
   "cell_type": "code",
   "execution_count": 12,
   "id": "9caeacc4",
   "metadata": {},
   "outputs": [],
   "source": [
    "domains_feat_dict = {'constitutional': ['fever'],\n",
    "                'hematologic': ['leukopenia', 'thrombocytopenia', 'auto_immune_hemolysis'],\n",
    "                'neuropsychiatric': ['delirium', 'psychosis', 'seizure'],\n",
    "                'mucocutaneous': ['non_scarring_alopecia', 'oral_ulcers', 'subacute_cutaneous', 'discoid_lupus', 'acute_cutaneous_lupus'],\n",
    "                'serosal': ['pleural_effusion', 'pericardial_effusion', 'acute_pericarditis'],\n",
    "                'musculoskeletal': ['joint_involvement'],\n",
    "                'renal': ['proteinuria', 'renal_biopsy_class'],\n",
    "                'antiphospholipid_antibodies': ['anti_cardioliphin_antibodies', 'anti_b2gp4_antibodies', 'lupus_anti_coagulant'],\n",
    "                'complement_proteins': ['c3', 'c4'],\n",
    "                'sle_specific_antibodies':['anti_dsdna_antibody', 'anti_smith_antibody']}\n",
    "\n",
    "domains_max_scores_dict = {'constitutional': 2, 'hematologic': 4, 'neuropsychiatric': 5, 'mucocutaneous': 6,\n",
    "                           'serosal': 6, 'musculoskeletal': 6, 'renal': 10, 'antiphospholipid_antibodies': 2, \n",
    "                           'complement_proteins': 4, 'sle_specific_antibodies':6}\n"
   ]
  },
  {
   "cell_type": "markdown",
   "id": "a3279315",
   "metadata": {},
   "source": [
    "#### Labelling the dataset"
   ]
  },
  {
   "cell_type": "code",
   "execution_count": 13,
   "id": "4a6c46e3",
   "metadata": {},
   "outputs": [],
   "source": [
    "def get_renal_biopsy_score(result_class):\n",
    "    if (result_class == 3) | (result_class == 4):\n",
    "        return 10\n",
    "    elif (result_class == 2) | (result_class == 5):\n",
    "        return 8\n",
    "    else:\n",
    "        return 0"
   ]
  },
  {
   "cell_type": "code",
   "execution_count": 14,
   "id": "fb63cd83",
   "metadata": {},
   "outputs": [],
   "source": [
    "def get_proteinura_score(amount):\n",
    "    if amount > 0.5:\n",
    "        return 4\n",
    "    else:\n",
    "        return 0"
   ]
  },
  {
   "cell_type": "code",
   "execution_count": 15,
   "id": "06a09f84",
   "metadata": {},
   "outputs": [],
   "source": [
    "def get_feat_score(row, feat):\n",
    "    if feat == 'proteinuria':\n",
    "        feat_score = get_proteinura_score(row[feat])\n",
    "    elif feat == 'renal_biopsy_class':\n",
    "        feat_score = get_renal_biopsy_score(row[feat])\n",
    "    elif row[feat] <= 0:\n",
    "        feat_score = 0\n",
    "    else:\n",
    "        feat_score = criteria_weights[feat]\n",
    "    return feat_score"
   ]
  },
  {
   "cell_type": "code",
   "execution_count": 16,
   "id": "9eaa8746",
   "metadata": {},
   "outputs": [],
   "source": [
    "def get_c3_c4_score(c3, c4): # 0 - low, 1 is not low\n",
    "    if (c3 == 0) & (c4 == 0):\n",
    "        return criteria_weights['low_c3_and_low_c4']\n",
    "    elif (c3 == 0) | (c4 == 0):\n",
    "        return criteria_weights['low_c3_or_low_c4']\n",
    "    else:\n",
    "        return 0"
   ]
  },
  {
   "cell_type": "code",
   "execution_count": 17,
   "id": "df3d23c7",
   "metadata": {},
   "outputs": [],
   "source": [
    "def get_domain_score(row, domain):\n",
    "    domain_features = domains_feat_dict[domain]\n",
    "    #print(f'{domain} domain: {domain_features}')\n",
    "    domain_score = 0\n",
    "    if domain == 'complement_proteins':\n",
    "        domain_score = get_c3_c4_score(row.c3, row.c4)\n",
    "        domain_features = list(set(domain_features) - set(['c3', 'c4']))\n",
    "    for feat in domain_features:\n",
    "        if feat == 'renal_biopsy_class': # to delete\n",
    "            pass\n",
    "        else:\n",
    "            if row[feat] >= 0:\n",
    "                feat_score = get_feat_score(row, feat)\n",
    "                #print(f'{feat} feature - {feat_score}')\n",
    "                if feat_score > domain_score:\n",
    "                    domain_score = feat_score\n",
    "    #print(f'{domain} domain: {domain_score}')\n",
    "    if domain_score > domains_max_scores_dict[domain]:\n",
    "        raise Exception('The score is too large for this domain!')\n",
    "    return domain_score"
   ]
  },
  {
   "cell_type": "code",
   "execution_count": 18,
   "id": "18add64d",
   "metadata": {},
   "outputs": [],
   "source": [
    "def create_label(row):\n",
    "    #print(f'ROW {row.name}')\n",
    "    if row['ana'] == 0:\n",
    "        return 0\n",
    "    total_row_score = 0\n",
    "    for domain in domains_feat_dict.keys():\n",
    "        domain_score = get_domain_score(row, domain)\n",
    "        #print(f'{domain} - {domain_score}')\n",
    "        total_row_score += domain_score\n",
    "        if total_row_score >= 10:\n",
    "            #print(f'row {row.name} - {total_row_score}')\n",
    "            return 1\n",
    "    else:\n",
    "        return 0"
   ]
  },
  {
   "cell_type": "code",
   "execution_count": 19,
   "id": "ad7e6c5c",
   "metadata": {},
   "outputs": [],
   "source": [
    "def compute_score(row):\n",
    "    if row['ana'] == 0: # negative - 0 positive - 1\n",
    "        return 0\n",
    "    total_row_score = 0\n",
    "    for domain in domains_feat_dict.keys():\n",
    "        domain_score = get_domain_score(row, domain)\n",
    "        total_row_score += domain_score\n",
    "    return total_row_score"
   ]
  },
  {
   "cell_type": "code",
   "execution_count": 20,
   "id": "134e464a",
   "metadata": {},
   "outputs": [
    {
     "data": {
      "text/plain": [
       "(70000, 26)"
      ]
     },
     "execution_count": 20,
     "metadata": {},
     "output_type": "execute_result"
    }
   ],
   "source": [
    "lupus_df.shape"
   ]
  },
  {
   "cell_type": "code",
   "execution_count": 21,
   "id": "6fe87ed6",
   "metadata": {},
   "outputs": [
    {
     "data": {
      "text/plain": [
       "Index(['ana', 'fever', 'leukopenia', 'thrombocytopenia',\n",
       "       'auto_immune_hemolysis', 'delirium', 'psychosis', 'seizure',\n",
       "       'non_scarring_alopecia', 'oral_ulcers', 'subacute_cutaneous',\n",
       "       'discoid_lupus', 'acute_cutaneous_lupus', 'pleural_effusion',\n",
       "       'pericardial_effusion', 'acute_pericarditis', 'joint_involvement',\n",
       "       'proteinuria', 'renal_biopsy_class', 'anti_cardioliphin_antibodies',\n",
       "       'anti_b2gp4_antibodies', 'lupus_anti_coagulant', 'c3', 'c4',\n",
       "       'anti_dsdna_antibody', 'anti_smith_antibody'],\n",
       "      dtype='object')"
      ]
     },
     "execution_count": 21,
     "metadata": {},
     "output_type": "execute_result"
    }
   ],
   "source": [
    "lupus_df.columns"
   ]
  },
  {
   "cell_type": "code",
   "execution_count": 132,
   "id": "9ab61e5c",
   "metadata": {},
   "outputs": [
    {
     "data": {
      "text/html": [
       "<div>\n",
       "<style scoped>\n",
       "    .dataframe tbody tr th:only-of-type {\n",
       "        vertical-align: middle;\n",
       "    }\n",
       "\n",
       "    .dataframe tbody tr th {\n",
       "        vertical-align: top;\n",
       "    }\n",
       "\n",
       "    .dataframe thead th {\n",
       "        text-align: right;\n",
       "    }\n",
       "</style>\n",
       "<table border=\"1\" class=\"dataframe\">\n",
       "  <thead>\n",
       "    <tr style=\"text-align: right;\">\n",
       "      <th></th>\n",
       "      <th>ana</th>\n",
       "      <th>fever</th>\n",
       "      <th>leukopenia</th>\n",
       "      <th>thrombocytopenia</th>\n",
       "      <th>auto_immune_hemolysis</th>\n",
       "      <th>delirium</th>\n",
       "      <th>psychosis</th>\n",
       "      <th>seizure</th>\n",
       "      <th>non_scarring_alopecia</th>\n",
       "      <th>oral_ulcers</th>\n",
       "      <th>...</th>\n",
       "      <th>proteinuria</th>\n",
       "      <th>renal_biopsy_class</th>\n",
       "      <th>anti_cardioliphin_antibodies</th>\n",
       "      <th>anti_b2gp4_antibodies</th>\n",
       "      <th>lupus_anti_coagulant</th>\n",
       "      <th>c3</th>\n",
       "      <th>c4</th>\n",
       "      <th>anti_dsdna_antibody</th>\n",
       "      <th>anti_smith_antibody</th>\n",
       "      <th>label</th>\n",
       "    </tr>\n",
       "  </thead>\n",
       "  <tbody>\n",
       "    <tr>\n",
       "      <th>0</th>\n",
       "      <td>1</td>\n",
       "      <td>1.0</td>\n",
       "      <td>NaN</td>\n",
       "      <td>NaN</td>\n",
       "      <td>NaN</td>\n",
       "      <td>NaN</td>\n",
       "      <td>NaN</td>\n",
       "      <td>NaN</td>\n",
       "      <td>0.0</td>\n",
       "      <td>1.0</td>\n",
       "      <td>...</td>\n",
       "      <td>NaN</td>\n",
       "      <td>NaN</td>\n",
       "      <td>NaN</td>\n",
       "      <td>NaN</td>\n",
       "      <td>NaN</td>\n",
       "      <td>NaN</td>\n",
       "      <td>NaN</td>\n",
       "      <td>NaN</td>\n",
       "      <td>NaN</td>\n",
       "      <td>0</td>\n",
       "    </tr>\n",
       "    <tr>\n",
       "      <th>1</th>\n",
       "      <td>0</td>\n",
       "      <td>NaN</td>\n",
       "      <td>NaN</td>\n",
       "      <td>NaN</td>\n",
       "      <td>NaN</td>\n",
       "      <td>NaN</td>\n",
       "      <td>0.0</td>\n",
       "      <td>NaN</td>\n",
       "      <td>NaN</td>\n",
       "      <td>NaN</td>\n",
       "      <td>...</td>\n",
       "      <td>0.218628</td>\n",
       "      <td>NaN</td>\n",
       "      <td>1.0</td>\n",
       "      <td>NaN</td>\n",
       "      <td>NaN</td>\n",
       "      <td>NaN</td>\n",
       "      <td>NaN</td>\n",
       "      <td>NaN</td>\n",
       "      <td>1.0</td>\n",
       "      <td>0</td>\n",
       "    </tr>\n",
       "    <tr>\n",
       "      <th>2</th>\n",
       "      <td>0</td>\n",
       "      <td>NaN</td>\n",
       "      <td>NaN</td>\n",
       "      <td>NaN</td>\n",
       "      <td>NaN</td>\n",
       "      <td>NaN</td>\n",
       "      <td>NaN</td>\n",
       "      <td>NaN</td>\n",
       "      <td>NaN</td>\n",
       "      <td>NaN</td>\n",
       "      <td>...</td>\n",
       "      <td>0.367514</td>\n",
       "      <td>NaN</td>\n",
       "      <td>NaN</td>\n",
       "      <td>NaN</td>\n",
       "      <td>NaN</td>\n",
       "      <td>NaN</td>\n",
       "      <td>NaN</td>\n",
       "      <td>NaN</td>\n",
       "      <td>NaN</td>\n",
       "      <td>0</td>\n",
       "    </tr>\n",
       "    <tr>\n",
       "      <th>3</th>\n",
       "      <td>0</td>\n",
       "      <td>NaN</td>\n",
       "      <td>NaN</td>\n",
       "      <td>NaN</td>\n",
       "      <td>1.0</td>\n",
       "      <td>NaN</td>\n",
       "      <td>NaN</td>\n",
       "      <td>NaN</td>\n",
       "      <td>NaN</td>\n",
       "      <td>NaN</td>\n",
       "      <td>...</td>\n",
       "      <td>NaN</td>\n",
       "      <td>NaN</td>\n",
       "      <td>NaN</td>\n",
       "      <td>NaN</td>\n",
       "      <td>NaN</td>\n",
       "      <td>NaN</td>\n",
       "      <td>NaN</td>\n",
       "      <td>NaN</td>\n",
       "      <td>NaN</td>\n",
       "      <td>0</td>\n",
       "    </tr>\n",
       "    <tr>\n",
       "      <th>4</th>\n",
       "      <td>1</td>\n",
       "      <td>NaN</td>\n",
       "      <td>NaN</td>\n",
       "      <td>NaN</td>\n",
       "      <td>NaN</td>\n",
       "      <td>NaN</td>\n",
       "      <td>NaN</td>\n",
       "      <td>1.0</td>\n",
       "      <td>NaN</td>\n",
       "      <td>NaN</td>\n",
       "      <td>...</td>\n",
       "      <td>0.442020</td>\n",
       "      <td>NaN</td>\n",
       "      <td>1.0</td>\n",
       "      <td>NaN</td>\n",
       "      <td>NaN</td>\n",
       "      <td>NaN</td>\n",
       "      <td>NaN</td>\n",
       "      <td>NaN</td>\n",
       "      <td>NaN</td>\n",
       "      <td>0</td>\n",
       "    </tr>\n",
       "  </tbody>\n",
       "</table>\n",
       "<p>5 rows × 27 columns</p>\n",
       "</div>"
      ],
      "text/plain": [
       "   ana  fever  leukopenia  thrombocytopenia  auto_immune_hemolysis  delirium  \\\n",
       "0    1    1.0         NaN               NaN                    NaN       NaN   \n",
       "1    0    NaN         NaN               NaN                    NaN       NaN   \n",
       "2    0    NaN         NaN               NaN                    NaN       NaN   \n",
       "3    0    NaN         NaN               NaN                    1.0       NaN   \n",
       "4    1    NaN         NaN               NaN                    NaN       NaN   \n",
       "\n",
       "   psychosis  seizure  non_scarring_alopecia  oral_ulcers  ...  proteinuria  \\\n",
       "0        NaN      NaN                    0.0          1.0  ...          NaN   \n",
       "1        0.0      NaN                    NaN          NaN  ...     0.218628   \n",
       "2        NaN      NaN                    NaN          NaN  ...     0.367514   \n",
       "3        NaN      NaN                    NaN          NaN  ...          NaN   \n",
       "4        NaN      1.0                    NaN          NaN  ...     0.442020   \n",
       "\n",
       "   renal_biopsy_class  anti_cardioliphin_antibodies  anti_b2gp4_antibodies  \\\n",
       "0                 NaN                           NaN                    NaN   \n",
       "1                 NaN                           1.0                    NaN   \n",
       "2                 NaN                           NaN                    NaN   \n",
       "3                 NaN                           NaN                    NaN   \n",
       "4                 NaN                           1.0                    NaN   \n",
       "\n",
       "   lupus_anti_coagulant  c3  c4  anti_dsdna_antibody  anti_smith_antibody  \\\n",
       "0                   NaN NaN NaN                  NaN                  NaN   \n",
       "1                   NaN NaN NaN                  NaN                  1.0   \n",
       "2                   NaN NaN NaN                  NaN                  NaN   \n",
       "3                   NaN NaN NaN                  NaN                  NaN   \n",
       "4                   NaN NaN NaN                  NaN                  NaN   \n",
       "\n",
       "   label  \n",
       "0      0  \n",
       "1      0  \n",
       "2      0  \n",
       "3      0  \n",
       "4      0  \n",
       "\n",
       "[5 rows x 27 columns]"
      ]
     },
     "execution_count": 132,
     "metadata": {},
     "output_type": "execute_result"
    }
   ],
   "source": [
    "#lupus_df['score'] = lupus_df.apply(lambda row: compute_score(row), axis=1)\n",
    "lupus_df['label'] = lupus_df.apply(lambda row: create_label(row), axis=1)\n",
    "lupus_df.head()"
   ]
  },
  {
   "cell_type": "code",
   "execution_count": 133,
   "id": "45eef2f4",
   "metadata": {},
   "outputs": [
    {
     "data": {
      "text/plain": [
       "33261"
      ]
     },
     "execution_count": 133,
     "metadata": {},
     "output_type": "execute_result"
    }
   ],
   "source": [
    "a = lupus_df[(lupus_df.ana == 1) & (lupus_df.label == 0)] # i need at least 20000 here\n",
    "len(a)"
   ]
  },
  {
   "cell_type": "code",
   "execution_count": 134,
   "id": "4b0e5cf1",
   "metadata": {},
   "outputs": [
    {
     "data": {
      "text/plain": [
       "0    68305\n",
       "1     1695\n",
       "Name: label, dtype: int64"
      ]
     },
     "execution_count": 134,
     "metadata": {},
     "output_type": "execute_result"
    }
   ],
   "source": [
    "lupus_df.label.value_counts()"
   ]
  },
  {
   "cell_type": "markdown",
   "id": "aa2f2dcd",
   "metadata": {},
   "source": [
    "#### delete from here"
   ]
  },
  {
   "cell_type": "code",
   "execution_count": null,
   "id": "1c1b241d",
   "metadata": {},
   "outputs": [],
   "source": []
  },
  {
   "cell_type": "code",
   "execution_count": null,
   "id": "0796fa47",
   "metadata": {},
   "outputs": [],
   "source": []
  },
  {
   "cell_type": "markdown",
   "id": "b3c01bd3",
   "metadata": {},
   "source": [
    "#### End here"
   ]
  },
  {
   "cell_type": "code",
   "execution_count": 135,
   "id": "bed75f6e",
   "metadata": {},
   "outputs": [
    {
     "data": {
      "text/plain": [
       "ana                                 0\n",
       "fever                           66539\n",
       "leukopenia                      66570\n",
       "thrombocytopenia                66610\n",
       "auto_immune_hemolysis           66520\n",
       "delirium                        66387\n",
       "psychosis                       66552\n",
       "seizure                         66559\n",
       "non_scarring_alopecia           66549\n",
       "oral_ulcers                     66529\n",
       "subacute_cutaneous              66511\n",
       "discoid_lupus                   66557\n",
       "acute_cutaneous_lupus           66488\n",
       "pleural_effusion                66524\n",
       "pericardial_effusion            66495\n",
       "acute_pericarditis              66549\n",
       "joint_involvement               66592\n",
       "proteinuria                     49000\n",
       "renal_biopsy_class              62977\n",
       "anti_cardioliphin_antibodies    66459\n",
       "anti_b2gp4_antibodies           66560\n",
       "lupus_anti_coagulant            66478\n",
       "c3                              66481\n",
       "c4                              66427\n",
       "anti_dsdna_antibody             66552\n",
       "anti_smith_antibody             66463\n",
       "label                               0\n",
       "dtype: int64"
      ]
     },
     "execution_count": 135,
     "metadata": {},
     "output_type": "execute_result"
    }
   ],
   "source": [
    "lupus_df.isna().sum()"
   ]
  },
  {
   "cell_type": "code",
   "execution_count": 136,
   "id": "f2929119",
   "metadata": {},
   "outputs": [
    {
     "data": {
      "text/plain": [
       "33261"
      ]
     },
     "execution_count": 136,
     "metadata": {},
     "output_type": "execute_result"
    }
   ],
   "source": [
    "a = lupus_df[(lupus_df.ana == 1) & (lupus_df.label == 0)] # i need at least 20000 here\n",
    "len(a)"
   ]
  },
  {
   "cell_type": "code",
   "execution_count": 137,
   "id": "3d436d48",
   "metadata": {},
   "outputs": [
    {
     "data": {
      "text/plain": [
       "ana                             1.0\n",
       "fever                           1.0\n",
       "leukopenia                      NaN\n",
       "thrombocytopenia                NaN\n",
       "auto_immune_hemolysis           NaN\n",
       "delirium                        NaN\n",
       "psychosis                       NaN\n",
       "seizure                         NaN\n",
       "non_scarring_alopecia           0.0\n",
       "oral_ulcers                     1.0\n",
       "subacute_cutaneous              NaN\n",
       "discoid_lupus                   1.0\n",
       "acute_cutaneous_lupus           0.0\n",
       "pleural_effusion                NaN\n",
       "pericardial_effusion            NaN\n",
       "acute_pericarditis              NaN\n",
       "joint_involvement               NaN\n",
       "proteinuria                     NaN\n",
       "renal_biopsy_class              NaN\n",
       "anti_cardioliphin_antibodies    NaN\n",
       "anti_b2gp4_antibodies           NaN\n",
       "lupus_anti_coagulant            NaN\n",
       "c3                              NaN\n",
       "c4                              NaN\n",
       "anti_dsdna_antibody             NaN\n",
       "anti_smith_antibody             NaN\n",
       "label                           0.0\n",
       "Name: 0, dtype: float64"
      ]
     },
     "execution_count": 137,
     "metadata": {},
     "output_type": "execute_result"
    }
   ],
   "source": [
    "a.iloc[0]"
   ]
  },
  {
   "cell_type": "markdown",
   "id": "2526214a",
   "metadata": {},
   "source": [
    "#### Testing dataset"
   ]
  },
  {
   "cell_type": "code",
   "execution_count": 138,
   "id": "2dc81af7",
   "metadata": {},
   "outputs": [],
   "source": [
    "from sklearn.model_selection import train_test_split\n",
    "from sklearn.preprocessing import label_binarize, LabelBinarizer\n",
    "from sklearn.metrics import accuracy_score, recall_score, precision_score, f1_score, classification_report\n",
    "from sklearn.metrics import roc_curve, auc"
   ]
  },
  {
   "cell_type": "code",
   "execution_count": 139,
   "id": "4faaa851",
   "metadata": {},
   "outputs": [
    {
     "data": {
      "text/plain": [
       "((56000, 26), (14000, 26), (56000,), (14000,))"
      ]
     },
     "execution_count": 139,
     "metadata": {},
     "output_type": "execute_result"
    }
   ],
   "source": [
    "lupus_df = lupus_df.fillna(-1)\n",
    "X = lupus_df.iloc[:, 0:-1]\n",
    "y = lupus_df.iloc[:, -1]\n",
    "X_train, X_test, y_train, y_test = train_test_split(X, y, test_size=0.20, random_state=42, stratify=y)\n",
    "#X_train, y_train = np.array(X_train), np.array(y_train)\n",
    "#X_test, y_test = np.array(X_test), np.array(y_test)\n",
    "X_train.shape, X_test.shape, y_train.shape, y_test.shape"
   ]
  },
  {
   "cell_type": "code",
   "execution_count": 140,
   "id": "09decc8e",
   "metadata": {},
   "outputs": [
    {
     "data": {
      "text/plain": [
       "(0.9963571428571428,\n",
       " 0.9472049689440993,\n",
       " 0.8997050147492626,\n",
       " 0.9228441754916792)"
      ]
     },
     "execution_count": 140,
     "metadata": {},
     "output_type": "execute_result"
    }
   ],
   "source": [
    "from sklearn.tree import DecisionTreeClassifier, export_graphviz, export_text, plot_tree\n",
    "dt = DecisionTreeClassifier(random_state=42).fit(X_train, y_train)\n",
    "y_pred_dt = dt.predict(X_test)\n",
    "#dot_data = export_graphviz(dt, out_file='../images/dt_dataset.dot', \n",
    "#                           feature_names = X_train.columns,  \n",
    "#                           class_names = ['Negative', 'Positive'],\n",
    "#                           filled=True)\n",
    "accuracy_score(y_test, y_pred_dt), precision_score(y_test, y_pred_dt), recall_score(y_test, y_pred_dt), f1_score(y_test, y_pred_dt)"
   ]
  },
  {
   "cell_type": "code",
   "execution_count": 141,
   "id": "ff87f9b3",
   "metadata": {},
   "outputs": [
    {
     "name": "stdout",
     "output_type": "stream",
     "text": [
      "              precision    recall  f1-score   support\n",
      "\n",
      "           0       1.00      1.00      1.00     13661\n",
      "           1       0.95      0.90      0.92       339\n",
      "\n",
      "    accuracy                           1.00     14000\n",
      "   macro avg       0.97      0.95      0.96     14000\n",
      "weighted avg       1.00      1.00      1.00     14000\n",
      "\n"
     ]
    }
   ],
   "source": [
    "print(classification_report(y_test, y_pred_dt))"
   ]
  },
  {
   "cell_type": "code",
   "execution_count": null,
   "id": "755f5924",
   "metadata": {},
   "outputs": [],
   "source": [
    "fig = plt.figure(figsize=(25,20))\n",
    "_ = plot_tree(dt, feature_names = X_train.columns,  class_names = ['Negative', 'Positive'], filled=True, fontsize=6)\n",
    "plt.savefig('../images/dt_dataset.png', dpi=100)"
   ]
  },
  {
   "cell_type": "code",
   "execution_count": null,
   "id": "8ccd23a0",
   "metadata": {},
   "outputs": [],
   "source": []
  },
  {
   "cell_type": "markdown",
   "id": "05c719f2",
   "metadata": {},
   "source": [
    "#### Rules for classification"
   ]
  },
  {
   "cell_type": "code",
   "execution_count": null,
   "id": "f883a069",
   "metadata": {},
   "outputs": [],
   "source": [
    "def has_fever(row):\n",
    "    if row.body_temp > 37.8:\n",
    "        return True\n",
    "    elif row.body_temp >0:\n",
    "        return False\n",
    "    else:\n",
    "        return None"
   ]
  },
  {
   "cell_type": "code",
   "execution_count": null,
   "id": "c9fe54a9",
   "metadata": {},
   "outputs": [],
   "source": [
    "def has_leukopenia(row):\n",
    "    if row.wbc < 4000:\n",
    "        return True\n",
    "    elif row.wbc > 0:\n",
    "        return False\n",
    "    else:\n",
    "        return None"
   ]
  },
  {
   "cell_type": "code",
   "execution_count": null,
   "id": "31d15330",
   "metadata": {},
   "outputs": [],
   "source": [
    "def has_thrombocytopenia(row):\n",
    "    if row.wbc < 4000:\n",
    "        return True\n",
    "    elif row.wbc > 0:\n",
    "        return False\n",
    "    else:\n",
    "        return None"
   ]
  },
  {
   "cell_type": "code",
   "execution_count": null,
   "id": "04d5de44",
   "metadata": {},
   "outputs": [],
   "source": []
  },
  {
   "cell_type": "code",
   "execution_count": null,
   "id": "8088e53b",
   "metadata": {},
   "outputs": [],
   "source": []
  },
  {
   "cell_type": "code",
   "execution_count": null,
   "id": "b3a61c98",
   "metadata": {},
   "outputs": [],
   "source": []
  }
 ],
 "metadata": {
  "kernelspec": {
   "display_name": "Python 3 (ipykernel)",
   "language": "python",
   "name": "python3"
  },
  "language_info": {
   "codemirror_mode": {
    "name": "ipython",
    "version": 3
   },
   "file_extension": ".py",
   "mimetype": "text/x-python",
   "name": "python",
   "nbconvert_exporter": "python",
   "pygments_lexer": "ipython3",
   "version": "3.7.4"
  }
 },
 "nbformat": 4,
 "nbformat_minor": 5
}

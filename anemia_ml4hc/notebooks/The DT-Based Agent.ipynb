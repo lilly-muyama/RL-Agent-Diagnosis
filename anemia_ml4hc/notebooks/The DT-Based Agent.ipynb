{
 "cells": [
  {
   "cell_type": "code",
   "execution_count": 1,
   "id": "4f03989e",
   "metadata": {},
   "outputs": [],
   "source": [
    "import pandas as pd\n",
    "import numpy as np\n",
    "import sys\n",
    "sys.path.append('..')\n",
    "from modules import utils, constants, env\n",
    "from modules.dt_agent import DTAgent\n",
    "from sklearn.model_selection import train_test_split"
   ]
  },
  {
   "cell_type": "code",
   "execution_count": 2,
   "id": "ee8c50a9",
   "metadata": {},
   "outputs": [],
   "source": [
    "SEED = constants.SEED\n",
    "np.random.seed(SEED)"
   ]
  },
  {
   "cell_type": "markdown",
   "id": "5ccc7019",
   "metadata": {},
   "source": [
    "#### The data"
   ]
  },
  {
   "cell_type": "code",
   "execution_count": 4,
   "id": "33c4b70f",
   "metadata": {},
   "outputs": [
    {
     "data": {
      "text/html": [
       "<div>\n",
       "<style scoped>\n",
       "    .dataframe tbody tr th:only-of-type {\n",
       "        vertical-align: middle;\n",
       "    }\n",
       "\n",
       "    .dataframe tbody tr th {\n",
       "        vertical-align: top;\n",
       "    }\n",
       "\n",
       "    .dataframe thead th {\n",
       "        text-align: right;\n",
       "    }\n",
       "</style>\n",
       "<table border=\"1\" class=\"dataframe\">\n",
       "  <thead>\n",
       "    <tr style=\"text-align: right;\">\n",
       "      <th></th>\n",
       "      <th>hemoglobin</th>\n",
       "      <th>ferritin</th>\n",
       "      <th>ret_count</th>\n",
       "      <th>segmented_neutrophils</th>\n",
       "      <th>tibc</th>\n",
       "      <th>mcv</th>\n",
       "      <th>serum_iron</th>\n",
       "      <th>rbc</th>\n",
       "      <th>gender</th>\n",
       "      <th>creatinine</th>\n",
       "      <th>cholestrol</th>\n",
       "      <th>copper</th>\n",
       "      <th>ethanol</th>\n",
       "      <th>folate</th>\n",
       "      <th>glucose</th>\n",
       "      <th>hematocrit</th>\n",
       "      <th>tsat</th>\n",
       "      <th>label</th>\n",
       "    </tr>\n",
       "  </thead>\n",
       "  <tbody>\n",
       "    <tr>\n",
       "      <th>0</th>\n",
       "      <td>7.116363</td>\n",
       "      <td>-1.000000</td>\n",
       "      <td>3.781573</td>\n",
       "      <td>2.738413</td>\n",
       "      <td>-1.000000</td>\n",
       "      <td>95.904198</td>\n",
       "      <td>68.457895</td>\n",
       "      <td>2.226085</td>\n",
       "      <td>0</td>\n",
       "      <td>1.892912</td>\n",
       "      <td>39.808550</td>\n",
       "      <td>110.329197</td>\n",
       "      <td>64.404350</td>\n",
       "      <td>21.654404</td>\n",
       "      <td>73.787009</td>\n",
       "      <td>21.349089</td>\n",
       "      <td>-1.000000</td>\n",
       "      <td>5</td>\n",
       "    </tr>\n",
       "    <tr>\n",
       "      <th>1</th>\n",
       "      <td>8.125320</td>\n",
       "      <td>92.230003</td>\n",
       "      <td>4.231419</td>\n",
       "      <td>1.188039</td>\n",
       "      <td>143.365567</td>\n",
       "      <td>104.057204</td>\n",
       "      <td>204.747831</td>\n",
       "      <td>2.342554</td>\n",
       "      <td>0</td>\n",
       "      <td>0.652614</td>\n",
       "      <td>13.478089</td>\n",
       "      <td>-1.000000</td>\n",
       "      <td>32.705481</td>\n",
       "      <td>-1.000000</td>\n",
       "      <td>43.520272</td>\n",
       "      <td>24.375961</td>\n",
       "      <td>142.815207</td>\n",
       "      <td>1</td>\n",
       "    </tr>\n",
       "    <tr>\n",
       "      <th>2</th>\n",
       "      <td>11.309450</td>\n",
       "      <td>38.324563</td>\n",
       "      <td>-1.000000</td>\n",
       "      <td>-1.000000</td>\n",
       "      <td>455.077909</td>\n",
       "      <td>76.402602</td>\n",
       "      <td>-1.000000</td>\n",
       "      <td>4.440732</td>\n",
       "      <td>0</td>\n",
       "      <td>-1.000000</td>\n",
       "      <td>-1.000000</td>\n",
       "      <td>-1.000000</td>\n",
       "      <td>-1.000000</td>\n",
       "      <td>-1.000000</td>\n",
       "      <td>-1.000000</td>\n",
       "      <td>33.928350</td>\n",
       "      <td>-1.000000</td>\n",
       "      <td>4</td>\n",
       "    </tr>\n",
       "    <tr>\n",
       "      <th>3</th>\n",
       "      <td>13.763858</td>\n",
       "      <td>253.513394</td>\n",
       "      <td>2.262606</td>\n",
       "      <td>0.551444</td>\n",
       "      <td>453.772884</td>\n",
       "      <td>82.781943</td>\n",
       "      <td>90.101466</td>\n",
       "      <td>4.987993</td>\n",
       "      <td>0</td>\n",
       "      <td>0.853521</td>\n",
       "      <td>104.005514</td>\n",
       "      <td>34.639227</td>\n",
       "      <td>0.963866</td>\n",
       "      <td>22.083012</td>\n",
       "      <td>88.891838</td>\n",
       "      <td>41.291574</td>\n",
       "      <td>19.856071</td>\n",
       "      <td>0</td>\n",
       "    </tr>\n",
       "    <tr>\n",
       "      <th>4</th>\n",
       "      <td>11.464002</td>\n",
       "      <td>-1.000000</td>\n",
       "      <td>-1.000000</td>\n",
       "      <td>-1.000000</td>\n",
       "      <td>320.964653</td>\n",
       "      <td>104.287127</td>\n",
       "      <td>-1.000000</td>\n",
       "      <td>3.297819</td>\n",
       "      <td>0</td>\n",
       "      <td>1.163516</td>\n",
       "      <td>121.616315</td>\n",
       "      <td>105.895897</td>\n",
       "      <td>-1.000000</td>\n",
       "      <td>9.337462</td>\n",
       "      <td>-1.000000</td>\n",
       "      <td>34.392007</td>\n",
       "      <td>-1.000000</td>\n",
       "      <td>7</td>\n",
       "    </tr>\n",
       "  </tbody>\n",
       "</table>\n",
       "</div>"
      ],
      "text/plain": [
       "   hemoglobin    ferritin  ret_count  segmented_neutrophils        tibc  \\\n",
       "0    7.116363   -1.000000   3.781573               2.738413   -1.000000   \n",
       "1    8.125320   92.230003   4.231419               1.188039  143.365567   \n",
       "2   11.309450   38.324563  -1.000000              -1.000000  455.077909   \n",
       "3   13.763858  253.513394   2.262606               0.551444  453.772884   \n",
       "4   11.464002   -1.000000  -1.000000              -1.000000  320.964653   \n",
       "\n",
       "          mcv  serum_iron       rbc  gender  creatinine  cholestrol  \\\n",
       "0   95.904198   68.457895  2.226085       0    1.892912   39.808550   \n",
       "1  104.057204  204.747831  2.342554       0    0.652614   13.478089   \n",
       "2   76.402602   -1.000000  4.440732       0   -1.000000   -1.000000   \n",
       "3   82.781943   90.101466  4.987993       0    0.853521  104.005514   \n",
       "4  104.287127   -1.000000  3.297819       0    1.163516  121.616315   \n",
       "\n",
       "       copper    ethanol     folate    glucose  hematocrit        tsat  label  \n",
       "0  110.329197  64.404350  21.654404  73.787009   21.349089   -1.000000      5  \n",
       "1   -1.000000  32.705481  -1.000000  43.520272   24.375961  142.815207      1  \n",
       "2   -1.000000  -1.000000  -1.000000  -1.000000   33.928350   -1.000000      4  \n",
       "3   34.639227   0.963866  22.083012  88.891838   41.291574   19.856071      0  \n",
       "4  105.895897  -1.000000   9.337462  -1.000000   34.392007   -1.000000      7  "
      ]
     },
     "execution_count": 4,
     "metadata": {},
     "output_type": "execute_result"
    }
   ],
   "source": [
    "test_df = pd.read_csv('../data/test_set_constant.csv')\n",
    "test_df = test_df.fillna(-1)\n",
    "test_df.head()"
   ]
  },
  {
   "cell_type": "code",
   "execution_count": 5,
   "id": "2e5963eb",
   "metadata": {},
   "outputs": [],
   "source": [
    "X_test = test_df.iloc[:, 0:-1]\n",
    "y_test = test_df.iloc[:, -1]\n",
    "X_test, y_test = np.array(X_test), np.array(y_test)"
   ]
  },
  {
   "cell_type": "markdown",
   "id": "85c2e147",
   "metadata": {},
   "source": [
    "#### The DT Agent"
   ]
  },
  {
   "cell_type": "code",
   "execution_count": 6,
   "id": "2fac956e",
   "metadata": {},
   "outputs": [
    {
     "name": "stdout",
     "output_type": "stream",
     "text": [
      "Testing done.....\n",
      "CPU times: user 17.5 s, sys: 15 ms, total: 17.5 s\n",
      "Wall time: 17.5 s\n"
     ]
    },
    {
     "data": {
      "text/html": [
       "<div>\n",
       "<style scoped>\n",
       "    .dataframe tbody tr th:only-of-type {\n",
       "        vertical-align: middle;\n",
       "    }\n",
       "\n",
       "    .dataframe tbody tr th {\n",
       "        vertical-align: top;\n",
       "    }\n",
       "\n",
       "    .dataframe thead th {\n",
       "        text-align: right;\n",
       "    }\n",
       "</style>\n",
       "<table border=\"1\" class=\"dataframe\">\n",
       "  <thead>\n",
       "    <tr style=\"text-align: right;\">\n",
       "      <th></th>\n",
       "      <th>index</th>\n",
       "      <th>episode_length</th>\n",
       "      <th>reward</th>\n",
       "      <th>y_pred</th>\n",
       "      <th>y_actual</th>\n",
       "      <th>trajectory</th>\n",
       "      <th>terminated</th>\n",
       "      <th>is_success</th>\n",
       "    </tr>\n",
       "  </thead>\n",
       "  <tbody>\n",
       "    <tr>\n",
       "      <th>0</th>\n",
       "      <td>0.0</td>\n",
       "      <td>4.0</td>\n",
       "      <td>1.0</td>\n",
       "      <td>5.0</td>\n",
       "      <td>5.0</td>\n",
       "      <td>[hemoglobin, mcv, ret_count, Hemolytic anemia]</td>\n",
       "      <td>0.0</td>\n",
       "      <td>1.0</td>\n",
       "    </tr>\n",
       "    <tr>\n",
       "      <th>1</th>\n",
       "      <td>1.0</td>\n",
       "      <td>4.0</td>\n",
       "      <td>1.0</td>\n",
       "      <td>1.0</td>\n",
       "      <td>1.0</td>\n",
       "      <td>[hemoglobin, mcv, segmented_neutrophils, Vitam...</td>\n",
       "      <td>0.0</td>\n",
       "      <td>1.0</td>\n",
       "    </tr>\n",
       "    <tr>\n",
       "      <th>2</th>\n",
       "      <td>2.0</td>\n",
       "      <td>5.0</td>\n",
       "      <td>1.0</td>\n",
       "      <td>4.0</td>\n",
       "      <td>4.0</td>\n",
       "      <td>[hemoglobin, mcv, ferritin, tibc, Iron deficie...</td>\n",
       "      <td>0.0</td>\n",
       "      <td>1.0</td>\n",
       "    </tr>\n",
       "    <tr>\n",
       "      <th>3</th>\n",
       "      <td>3.0</td>\n",
       "      <td>2.0</td>\n",
       "      <td>1.0</td>\n",
       "      <td>0.0</td>\n",
       "      <td>0.0</td>\n",
       "      <td>[hemoglobin, No anemia]</td>\n",
       "      <td>0.0</td>\n",
       "      <td>1.0</td>\n",
       "    </tr>\n",
       "    <tr>\n",
       "      <th>4</th>\n",
       "      <td>4.0</td>\n",
       "      <td>4.0</td>\n",
       "      <td>1.0</td>\n",
       "      <td>7.0</td>\n",
       "      <td>7.0</td>\n",
       "      <td>[hemoglobin, mcv, segmented_neutrophils, Incon...</td>\n",
       "      <td>0.0</td>\n",
       "      <td>1.0</td>\n",
       "    </tr>\n",
       "  </tbody>\n",
       "</table>\n",
       "</div>"
      ],
      "text/plain": [
       "   index  episode_length  reward  y_pred  y_actual  \\\n",
       "0    0.0             4.0     1.0     5.0       5.0   \n",
       "1    1.0             4.0     1.0     1.0       1.0   \n",
       "2    2.0             5.0     1.0     4.0       4.0   \n",
       "3    3.0             2.0     1.0     0.0       0.0   \n",
       "4    4.0             4.0     1.0     7.0       7.0   \n",
       "\n",
       "                                          trajectory  terminated  is_success  \n",
       "0     [hemoglobin, mcv, ret_count, Hemolytic anemia]         0.0         1.0  \n",
       "1  [hemoglobin, mcv, segmented_neutrophils, Vitam...         0.0         1.0  \n",
       "2  [hemoglobin, mcv, ferritin, tibc, Iron deficie...         0.0         1.0  \n",
       "3                            [hemoglobin, No anemia]         0.0         1.0  \n",
       "4  [hemoglobin, mcv, segmented_neutrophils, Incon...         0.0         1.0  "
      ]
     },
     "execution_count": 6,
     "metadata": {},
     "output_type": "execute_result"
    }
   ],
   "source": [
    "%%time\n",
    "dt_agent = DTAgent(X_test, y_test)\n",
    "test_df = dt_agent.test()\n",
    "test_df.head()"
   ]
  },
  {
   "cell_type": "code",
   "execution_count": 7,
   "id": "8932e030",
   "metadata": {},
   "outputs": [
    {
     "data": {
      "text/plain": [
       "(14000, 14000)"
      ]
     },
     "execution_count": 7,
     "metadata": {},
     "output_type": "execute_result"
    }
   ],
   "source": [
    "len(test_df), len(X_test)"
   ]
  },
  {
   "cell_type": "code",
   "execution_count": 10,
   "id": "1496ec05",
   "metadata": {},
   "outputs": [
    {
     "data": {
      "text/plain": [
       "(100.0, 100.0, 100.0)"
      ]
     },
     "execution_count": 10,
     "metadata": {},
     "output_type": "execute_result"
    }
   ],
   "source": [
    "success_rate, f1, roc_auc = utils.get_metrics(test_df)\n",
    "success_rate, f1, roc_auc"
   ]
  },
  {
   "cell_type": "code",
   "execution_count": 9,
   "id": "a9cba17c",
   "metadata": {},
   "outputs": [
    {
     "data": {
      "text/plain": [
       "3.975"
      ]
     },
     "execution_count": 9,
     "metadata": {},
     "output_type": "execute_result"
    }
   ],
   "source": [
    "avg_length = test_df.episode_length.mean()\n",
    "avg_length"
   ]
  },
  {
   "cell_type": "code",
   "execution_count": null,
   "id": "276da6a1",
   "metadata": {},
   "outputs": [],
   "source": []
  }
 ],
 "metadata": {
  "kernelspec": {
   "display_name": "Python 3 (ipykernel)",
   "language": "python",
   "name": "python3"
  },
  "language_info": {
   "codemirror_mode": {
    "name": "ipython",
    "version": 3
   },
   "file_extension": ".py",
   "mimetype": "text/x-python",
   "name": "python",
   "nbconvert_exporter": "python",
   "pygments_lexer": "ipython3",
   "version": "3.7.4"
  }
 },
 "nbformat": 4,
 "nbformat_minor": 5
}

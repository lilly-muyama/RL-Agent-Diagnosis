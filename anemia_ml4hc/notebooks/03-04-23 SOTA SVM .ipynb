{
 "cells": [
  {
   "cell_type": "code",
   "execution_count": 5,
   "id": "bd873e80",
   "metadata": {},
   "outputs": [],
   "source": [
    "import pandas as pd\n",
    "import numpy as np\n",
    "import random\n",
    "import seaborn as sns\n",
    "import matplotlib.pyplot as plt\n",
    "from sklearn.preprocessing import label_binarize, LabelBinarizer\n",
    "import sys\n",
    "sys.path.append('..')\n",
    "from modules import utils, constants"
   ]
  },
  {
   "cell_type": "code",
   "execution_count": 6,
   "id": "35c6510c",
   "metadata": {},
   "outputs": [],
   "source": [
    "SEED = constants.SEED\n",
    "np.random.seed(SEED)\n",
    "random.seed(SEED)"
   ]
  },
  {
   "cell_type": "markdown",
   "id": "1d2e5a90",
   "metadata": {},
   "source": [
    "#### The datasets"
   ]
  },
  {
   "cell_type": "code",
   "execution_count": 7,
   "id": "82e4ea31",
   "metadata": {},
   "outputs": [
    {
     "data": {
      "text/html": [
       "<div>\n",
       "<style scoped>\n",
       "    .dataframe tbody tr th:only-of-type {\n",
       "        vertical-align: middle;\n",
       "    }\n",
       "\n",
       "    .dataframe tbody tr th {\n",
       "        vertical-align: top;\n",
       "    }\n",
       "\n",
       "    .dataframe thead th {\n",
       "        text-align: right;\n",
       "    }\n",
       "</style>\n",
       "<table border=\"1\" class=\"dataframe\">\n",
       "  <thead>\n",
       "    <tr style=\"text-align: right;\">\n",
       "      <th></th>\n",
       "      <th>hemoglobin</th>\n",
       "      <th>ferritin</th>\n",
       "      <th>ret_count</th>\n",
       "      <th>segmented_neutrophils</th>\n",
       "      <th>tibc</th>\n",
       "      <th>mcv</th>\n",
       "      <th>serum_iron</th>\n",
       "      <th>rbc</th>\n",
       "      <th>gender</th>\n",
       "      <th>creatinine</th>\n",
       "      <th>cholestrol</th>\n",
       "      <th>copper</th>\n",
       "      <th>ethanol</th>\n",
       "      <th>folate</th>\n",
       "      <th>glucose</th>\n",
       "      <th>hematocrit</th>\n",
       "      <th>tsat</th>\n",
       "    </tr>\n",
       "  </thead>\n",
       "  <tbody>\n",
       "    <tr>\n",
       "      <th>0</th>\n",
       "      <td>9.007012</td>\n",
       "      <td>-1.000000</td>\n",
       "      <td>-1.000000</td>\n",
       "      <td>3.519565</td>\n",
       "      <td>440.499323</td>\n",
       "      <td>103.442762</td>\n",
       "      <td>59.017997</td>\n",
       "      <td>2.612173</td>\n",
       "      <td>1</td>\n",
       "      <td>0.650757</td>\n",
       "      <td>114.794964</td>\n",
       "      <td>112.308159</td>\n",
       "      <td>25.612786</td>\n",
       "      <td>5.969710</td>\n",
       "      <td>116.026042</td>\n",
       "      <td>27.021037</td>\n",
       "      <td>13.397977</td>\n",
       "    </tr>\n",
       "    <tr>\n",
       "      <th>1</th>\n",
       "      <td>8.760976</td>\n",
       "      <td>-1.000000</td>\n",
       "      <td>0.491469</td>\n",
       "      <td>-1.000000</td>\n",
       "      <td>259.895852</td>\n",
       "      <td>103.885481</td>\n",
       "      <td>-1.000000</td>\n",
       "      <td>2.529991</td>\n",
       "      <td>0</td>\n",
       "      <td>0.728641</td>\n",
       "      <td>74.824352</td>\n",
       "      <td>-1.000000</td>\n",
       "      <td>-1.000000</td>\n",
       "      <td>-1.000000</td>\n",
       "      <td>-1.000000</td>\n",
       "      <td>26.282929</td>\n",
       "      <td>-1.000000</td>\n",
       "    </tr>\n",
       "    <tr>\n",
       "      <th>2</th>\n",
       "      <td>7.490324</td>\n",
       "      <td>70.812609</td>\n",
       "      <td>-1.000000</td>\n",
       "      <td>1.495604</td>\n",
       "      <td>482.109919</td>\n",
       "      <td>79.543391</td>\n",
       "      <td>-1.000000</td>\n",
       "      <td>2.824995</td>\n",
       "      <td>0</td>\n",
       "      <td>-1.000000</td>\n",
       "      <td>-1.000000</td>\n",
       "      <td>-1.000000</td>\n",
       "      <td>-1.000000</td>\n",
       "      <td>-1.000000</td>\n",
       "      <td>-1.000000</td>\n",
       "      <td>22.470972</td>\n",
       "      <td>-1.000000</td>\n",
       "    </tr>\n",
       "    <tr>\n",
       "      <th>3</th>\n",
       "      <td>8.113370</td>\n",
       "      <td>499.313483</td>\n",
       "      <td>3.507612</td>\n",
       "      <td>0.000000</td>\n",
       "      <td>195.351883</td>\n",
       "      <td>100.545858</td>\n",
       "      <td>203.895756</td>\n",
       "      <td>2.420797</td>\n",
       "      <td>1</td>\n",
       "      <td>0.860863</td>\n",
       "      <td>9.120947</td>\n",
       "      <td>41.131511</td>\n",
       "      <td>1.843890</td>\n",
       "      <td>18.845473</td>\n",
       "      <td>106.199806</td>\n",
       "      <td>24.340111</td>\n",
       "      <td>104.373581</td>\n",
       "    </tr>\n",
       "    <tr>\n",
       "      <th>4</th>\n",
       "      <td>13.935301</td>\n",
       "      <td>349.569415</td>\n",
       "      <td>5.190725</td>\n",
       "      <td>6.894195</td>\n",
       "      <td>489.595939</td>\n",
       "      <td>102.234294</td>\n",
       "      <td>150.085853</td>\n",
       "      <td>4.089225</td>\n",
       "      <td>1</td>\n",
       "      <td>0.216907</td>\n",
       "      <td>20.344863</td>\n",
       "      <td>92.547095</td>\n",
       "      <td>19.815123</td>\n",
       "      <td>29.543875</td>\n",
       "      <td>98.388710</td>\n",
       "      <td>41.805903</td>\n",
       "      <td>30.655044</td>\n",
       "    </tr>\n",
       "  </tbody>\n",
       "</table>\n",
       "</div>"
      ],
      "text/plain": [
       "   hemoglobin    ferritin  ret_count  segmented_neutrophils        tibc  \\\n",
       "0    9.007012   -1.000000  -1.000000               3.519565  440.499323   \n",
       "1    8.760976   -1.000000   0.491469              -1.000000  259.895852   \n",
       "2    7.490324   70.812609  -1.000000               1.495604  482.109919   \n",
       "3    8.113370  499.313483   3.507612               0.000000  195.351883   \n",
       "4   13.935301  349.569415   5.190725               6.894195  489.595939   \n",
       "\n",
       "          mcv  serum_iron       rbc  gender  creatinine  cholestrol  \\\n",
       "0  103.442762   59.017997  2.612173       1    0.650757  114.794964   \n",
       "1  103.885481   -1.000000  2.529991       0    0.728641   74.824352   \n",
       "2   79.543391   -1.000000  2.824995       0   -1.000000   -1.000000   \n",
       "3  100.545858  203.895756  2.420797       1    0.860863    9.120947   \n",
       "4  102.234294  150.085853  4.089225       1    0.216907   20.344863   \n",
       "\n",
       "       copper    ethanol     folate     glucose  hematocrit        tsat  \n",
       "0  112.308159  25.612786   5.969710  116.026042   27.021037   13.397977  \n",
       "1   -1.000000  -1.000000  -1.000000   -1.000000   26.282929   -1.000000  \n",
       "2   -1.000000  -1.000000  -1.000000   -1.000000   22.470972   -1.000000  \n",
       "3   41.131511   1.843890  18.845473  106.199806   24.340111  104.373581  \n",
       "4   92.547095  19.815123  29.543875   98.388710   41.805903   30.655044  "
      ]
     },
     "execution_count": 7,
     "metadata": {},
     "output_type": "execute_result"
    }
   ],
   "source": [
    "#train_df = pd.read_csv('../../final/data/train_set_noisy_6_missing_3.csv')\n",
    "train_df = pd.read_csv('../data/train_set_basic.csv')\n",
    "train_df = train_df.fillna(-1)\n",
    "X_train = train_df.iloc[:, 0:-1]\n",
    "y_train = train_df.iloc[:, -1]\n",
    "X_train.head()"
   ]
  },
  {
   "cell_type": "code",
   "execution_count": 8,
   "id": "7ea1e0af",
   "metadata": {},
   "outputs": [
    {
     "data": {
      "text/html": [
       "<div>\n",
       "<style scoped>\n",
       "    .dataframe tbody tr th:only-of-type {\n",
       "        vertical-align: middle;\n",
       "    }\n",
       "\n",
       "    .dataframe tbody tr th {\n",
       "        vertical-align: top;\n",
       "    }\n",
       "\n",
       "    .dataframe thead th {\n",
       "        text-align: right;\n",
       "    }\n",
       "</style>\n",
       "<table border=\"1\" class=\"dataframe\">\n",
       "  <thead>\n",
       "    <tr style=\"text-align: right;\">\n",
       "      <th></th>\n",
       "      <th>hemoglobin</th>\n",
       "      <th>ferritin</th>\n",
       "      <th>ret_count</th>\n",
       "      <th>segmented_neutrophils</th>\n",
       "      <th>tibc</th>\n",
       "      <th>mcv</th>\n",
       "      <th>serum_iron</th>\n",
       "      <th>rbc</th>\n",
       "      <th>gender</th>\n",
       "      <th>creatinine</th>\n",
       "      <th>cholestrol</th>\n",
       "      <th>copper</th>\n",
       "      <th>ethanol</th>\n",
       "      <th>folate</th>\n",
       "      <th>glucose</th>\n",
       "      <th>hematocrit</th>\n",
       "      <th>tsat</th>\n",
       "    </tr>\n",
       "  </thead>\n",
       "  <tbody>\n",
       "    <tr>\n",
       "      <th>0</th>\n",
       "      <td>7.116363</td>\n",
       "      <td>-1.000000</td>\n",
       "      <td>3.781573</td>\n",
       "      <td>2.738413</td>\n",
       "      <td>-1.000000</td>\n",
       "      <td>95.904198</td>\n",
       "      <td>68.457895</td>\n",
       "      <td>2.226085</td>\n",
       "      <td>0</td>\n",
       "      <td>1.892912</td>\n",
       "      <td>39.808550</td>\n",
       "      <td>110.329197</td>\n",
       "      <td>64.404350</td>\n",
       "      <td>21.654404</td>\n",
       "      <td>73.787009</td>\n",
       "      <td>21.349089</td>\n",
       "      <td>-1.000000</td>\n",
       "    </tr>\n",
       "    <tr>\n",
       "      <th>1</th>\n",
       "      <td>8.125320</td>\n",
       "      <td>92.230003</td>\n",
       "      <td>4.231419</td>\n",
       "      <td>1.188039</td>\n",
       "      <td>143.365567</td>\n",
       "      <td>104.057204</td>\n",
       "      <td>204.747831</td>\n",
       "      <td>2.342554</td>\n",
       "      <td>0</td>\n",
       "      <td>0.652614</td>\n",
       "      <td>13.478089</td>\n",
       "      <td>-1.000000</td>\n",
       "      <td>32.705481</td>\n",
       "      <td>-1.000000</td>\n",
       "      <td>43.520272</td>\n",
       "      <td>24.375961</td>\n",
       "      <td>142.815207</td>\n",
       "    </tr>\n",
       "    <tr>\n",
       "      <th>2</th>\n",
       "      <td>11.309450</td>\n",
       "      <td>38.324563</td>\n",
       "      <td>-1.000000</td>\n",
       "      <td>-1.000000</td>\n",
       "      <td>455.077909</td>\n",
       "      <td>76.402602</td>\n",
       "      <td>-1.000000</td>\n",
       "      <td>4.440732</td>\n",
       "      <td>0</td>\n",
       "      <td>-1.000000</td>\n",
       "      <td>-1.000000</td>\n",
       "      <td>-1.000000</td>\n",
       "      <td>-1.000000</td>\n",
       "      <td>-1.000000</td>\n",
       "      <td>-1.000000</td>\n",
       "      <td>33.928350</td>\n",
       "      <td>-1.000000</td>\n",
       "    </tr>\n",
       "    <tr>\n",
       "      <th>3</th>\n",
       "      <td>13.763858</td>\n",
       "      <td>253.513394</td>\n",
       "      <td>2.262606</td>\n",
       "      <td>0.551444</td>\n",
       "      <td>453.772884</td>\n",
       "      <td>82.781943</td>\n",
       "      <td>90.101466</td>\n",
       "      <td>4.987993</td>\n",
       "      <td>0</td>\n",
       "      <td>0.853521</td>\n",
       "      <td>104.005514</td>\n",
       "      <td>34.639227</td>\n",
       "      <td>0.963866</td>\n",
       "      <td>22.083012</td>\n",
       "      <td>88.891838</td>\n",
       "      <td>41.291574</td>\n",
       "      <td>19.856071</td>\n",
       "    </tr>\n",
       "    <tr>\n",
       "      <th>4</th>\n",
       "      <td>11.464002</td>\n",
       "      <td>-1.000000</td>\n",
       "      <td>-1.000000</td>\n",
       "      <td>-1.000000</td>\n",
       "      <td>320.964653</td>\n",
       "      <td>104.287127</td>\n",
       "      <td>-1.000000</td>\n",
       "      <td>3.297819</td>\n",
       "      <td>0</td>\n",
       "      <td>1.163516</td>\n",
       "      <td>121.616315</td>\n",
       "      <td>105.895897</td>\n",
       "      <td>-1.000000</td>\n",
       "      <td>9.337462</td>\n",
       "      <td>-1.000000</td>\n",
       "      <td>34.392007</td>\n",
       "      <td>-1.000000</td>\n",
       "    </tr>\n",
       "  </tbody>\n",
       "</table>\n",
       "</div>"
      ],
      "text/plain": [
       "   hemoglobin    ferritin  ret_count  segmented_neutrophils        tibc  \\\n",
       "0    7.116363   -1.000000   3.781573               2.738413   -1.000000   \n",
       "1    8.125320   92.230003   4.231419               1.188039  143.365567   \n",
       "2   11.309450   38.324563  -1.000000              -1.000000  455.077909   \n",
       "3   13.763858  253.513394   2.262606               0.551444  453.772884   \n",
       "4   11.464002   -1.000000  -1.000000              -1.000000  320.964653   \n",
       "\n",
       "          mcv  serum_iron       rbc  gender  creatinine  cholestrol  \\\n",
       "0   95.904198   68.457895  2.226085       0    1.892912   39.808550   \n",
       "1  104.057204  204.747831  2.342554       0    0.652614   13.478089   \n",
       "2   76.402602   -1.000000  4.440732       0   -1.000000   -1.000000   \n",
       "3   82.781943   90.101466  4.987993       0    0.853521  104.005514   \n",
       "4  104.287127   -1.000000  3.297819       0    1.163516  121.616315   \n",
       "\n",
       "       copper    ethanol     folate    glucose  hematocrit        tsat  \n",
       "0  110.329197  64.404350  21.654404  73.787009   21.349089   -1.000000  \n",
       "1   -1.000000  32.705481  -1.000000  43.520272   24.375961  142.815207  \n",
       "2   -1.000000  -1.000000  -1.000000  -1.000000   33.928350   -1.000000  \n",
       "3   34.639227   0.963866  22.083012  88.891838   41.291574   19.856071  \n",
       "4  105.895897  -1.000000   9.337462  -1.000000   34.392007   -1.000000  "
      ]
     },
     "execution_count": 8,
     "metadata": {},
     "output_type": "execute_result"
    }
   ],
   "source": [
    "test_df = pd.read_csv('../data/test_set_constant.csv')\n",
    "X_test = test_df.iloc[:, 0:-1]\n",
    "y_test = test_df.iloc[:, -1]\n",
    "X_test.head()"
   ]
  },
  {
   "cell_type": "code",
   "execution_count": 9,
   "id": "3c8af29b",
   "metadata": {},
   "outputs": [
    {
     "data": {
      "text/plain": [
       "((56000, 17), (14000, 17), (56000,), (14000,))"
      ]
     },
     "execution_count": 9,
     "metadata": {},
     "output_type": "execute_result"
    }
   ],
   "source": [
    "X_train, y_train = np.array(X_train), np.array(y_train)\n",
    "X_test, y_test = np.array(X_test), np.array(y_test)\n",
    "X_train.shape, X_test.shape, y_train.shape, y_test.shape"
   ]
  },
  {
   "cell_type": "markdown",
   "id": "8cbf594d",
   "metadata": {},
   "source": [
    "#### Training data normalization"
   ]
  },
  {
   "cell_type": "code",
   "execution_count": 10,
   "id": "05f92303",
   "metadata": {},
   "outputs": [],
   "source": [
    "from sklearn.preprocessing import MinMaxScaler"
   ]
  },
  {
   "cell_type": "code",
   "execution_count": 11,
   "id": "ae07d509",
   "metadata": {},
   "outputs": [],
   "source": [
    "mmc = MinMaxScaler()"
   ]
  },
  {
   "cell_type": "code",
   "execution_count": 12,
   "id": "66f339cd",
   "metadata": {},
   "outputs": [],
   "source": [
    "X_train_norm = mmc.fit_transform(X_train)\n",
    "X_test_norm = mmc.transform(X_test)"
   ]
  },
  {
   "cell_type": "code",
   "execution_count": 13,
   "id": "b78d5884",
   "metadata": {},
   "outputs": [
    {
     "data": {
      "text/plain": [
       "((56000, 17), (14000, 17))"
      ]
     },
     "execution_count": 13,
     "metadata": {},
     "output_type": "execute_result"
    }
   ],
   "source": [
    "X_train_norm.shape, X_test_norm.shape"
   ]
  },
  {
   "cell_type": "markdown",
   "id": "bd02f9d1",
   "metadata": {},
   "source": [
    "#### Performance"
   ]
  },
  {
   "cell_type": "code",
   "execution_count": 14,
   "id": "c9c4f55c",
   "metadata": {},
   "outputs": [
    {
     "data": {
      "text/plain": [
       "y_actual    0\n",
       "y_pred      0\n",
       "dtype: int64"
      ]
     },
     "execution_count": 14,
     "metadata": {},
     "output_type": "execute_result"
    }
   ],
   "source": [
    "from sklearn.svm import SVC\n",
    "svm_model = SVC(kernel='linear', C=1, decision_function_shape='ovo', random_state=SEED).fit(X_train_norm, y_train)\n",
    "y_pred_svm = svm_model.predict(X_test_norm)\n",
    "test_df_svm = pd.DataFrame()\n",
    "test_df_svm['y_actual'] = y_test\n",
    "test_df_svm['y_pred'] = y_pred_svm\n",
    "test_df_svm.isna().sum()"
   ]
  },
  {
   "cell_type": "code",
   "execution_count": 15,
   "id": "9d06475a",
   "metadata": {},
   "outputs": [
    {
     "data": {
      "text/plain": [
       "(83.77142857142857, 80.2305706047073, 89.63841821696325)"
      ]
     },
     "execution_count": 15,
     "metadata": {},
     "output_type": "execute_result"
    }
   ],
   "source": [
    "success_rate_svm, f1_svm, roc_auc_svm = utils.get_metrics(test_df_svm)\n",
    "success_rate_svm, f1_svm, roc_auc_svm"
   ]
  },
  {
   "cell_type": "code",
   "execution_count": 16,
   "id": "73c6e902",
   "metadata": {},
   "outputs": [
    {
     "data": {
      "text/plain": [
       "y_actual    0\n",
       "y_pred      0\n",
       "dtype: int64"
      ]
     },
     "execution_count": 16,
     "metadata": {},
     "output_type": "execute_result"
    }
   ],
   "source": [
    "svm_model = SVC(kernel='rbf', C=1, decision_function_shape='ovo', random_state=SEED).fit(X_train_norm, y_train)\n",
    "y_pred_svm = svm_model.predict(X_test_norm)\n",
    "test_df_svm = pd.DataFrame()\n",
    "test_df_svm['y_actual'] = y_test\n",
    "test_df_svm['y_pred'] = y_pred_svm\n",
    "test_df_svm.isna().sum()"
   ]
  },
  {
   "cell_type": "code",
   "execution_count": 17,
   "id": "6e90d7ea",
   "metadata": {},
   "outputs": [
    {
     "data": {
      "text/plain": [
       "(87.47142857142856, 85.83995151098837, 92.14404050599636)"
      ]
     },
     "execution_count": 17,
     "metadata": {},
     "output_type": "execute_result"
    }
   ],
   "source": [
    "success_rate_svm, f1_svm, roc_auc_svm = utils.get_metrics(test_df_svm)\n",
    "success_rate_svm, f1_svm, roc_auc_svm"
   ]
  },
  {
   "cell_type": "code",
   "execution_count": 18,
   "id": "d7222634",
   "metadata": {},
   "outputs": [
    {
     "data": {
      "text/plain": [
       "y_actual    0\n",
       "y_pred      0\n",
       "dtype: int64"
      ]
     },
     "execution_count": 18,
     "metadata": {},
     "output_type": "execute_result"
    }
   ],
   "source": [
    "svm_model = SVC(kernel='rbf', C=1, decision_function_shape='ovr', random_state=SEED).fit(X_train_norm, y_train)\n",
    "y_pred_svm = svm_model.predict(X_test_norm)\n",
    "test_df_svm = pd.DataFrame()\n",
    "test_df_svm['y_actual'] = y_test\n",
    "test_df_svm['y_pred'] = y_pred_svm\n",
    "test_df_svm.isna().sum()"
   ]
  },
  {
   "cell_type": "code",
   "execution_count": 19,
   "id": "a791c288",
   "metadata": {},
   "outputs": [
    {
     "data": {
      "text/plain": [
       "(87.47142857142856, 85.83995151098837, 92.14404050599636)"
      ]
     },
     "execution_count": 19,
     "metadata": {},
     "output_type": "execute_result"
    }
   ],
   "source": [
    "success_rate_svm, f1_svm, roc_auc_svm = utils.get_metrics(test_df_svm)\n",
    "success_rate_svm, f1_svm, roc_auc_svm"
   ]
  },
  {
   "cell_type": "code",
   "execution_count": null,
   "id": "64740b49",
   "metadata": {},
   "outputs": [],
   "source": []
  }
 ],
 "metadata": {
  "kernelspec": {
   "display_name": "Python 3 (ipykernel)",
   "language": "python",
   "name": "python3"
  },
  "language_info": {
   "codemirror_mode": {
    "name": "ipython",
    "version": 3
   },
   "file_extension": ".py",
   "mimetype": "text/x-python",
   "name": "python",
   "nbconvert_exporter": "python",
   "pygments_lexer": "ipython3",
   "version": "3.7.4"
  }
 },
 "nbformat": 4,
 "nbformat_minor": 5
}

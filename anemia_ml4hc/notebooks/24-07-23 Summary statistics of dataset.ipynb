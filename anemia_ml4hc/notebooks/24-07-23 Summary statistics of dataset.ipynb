{
 "cells": [
  {
   "cell_type": "code",
   "execution_count": 2,
   "id": "a68be9e5",
   "metadata": {},
   "outputs": [],
   "source": [
    "import pandas as pd\n",
    "import numpy as np\n",
    "import scipy.stats"
   ]
  },
  {
   "cell_type": "code",
   "execution_count": 3,
   "id": "0a98c174",
   "metadata": {},
   "outputs": [
    {
     "data": {
      "text/plain": [
       "((50400, 18), (5600, 18), (14000, 18))"
      ]
     },
     "execution_count": 3,
     "metadata": {},
     "output_type": "execute_result"
    }
   ],
   "source": [
    "train_df = pd.read_csv('../data/train_set_basic.csv')\n",
    "val_df = pd.read_csv('../data/val_set_constant.csv')\n",
    "test_df = pd.read_csv('../data/test_set_constant.csv')\n",
    "train_df.shape, val_df.shape, test_df.shape"
   ]
  },
  {
   "cell_type": "code",
   "execution_count": 4,
   "id": "46a2fc97",
   "metadata": {},
   "outputs": [
    {
     "data": {
      "text/plain": [
       "(70000, 18)"
      ]
     },
     "execution_count": 4,
     "metadata": {},
     "output_type": "execute_result"
    }
   ],
   "source": [
    "full_df = pd.concat([train_df, val_df, test_df])\n",
    "full_df.shape"
   ]
  },
  {
   "cell_type": "code",
   "execution_count": 5,
   "id": "1fa44742",
   "metadata": {},
   "outputs": [
    {
     "data": {
      "text/html": [
       "<div>\n",
       "<style scoped>\n",
       "    .dataframe tbody tr th:only-of-type {\n",
       "        vertical-align: middle;\n",
       "    }\n",
       "\n",
       "    .dataframe tbody tr th {\n",
       "        vertical-align: top;\n",
       "    }\n",
       "\n",
       "    .dataframe thead th {\n",
       "        text-align: right;\n",
       "    }\n",
       "</style>\n",
       "<table border=\"1\" class=\"dataframe\">\n",
       "  <thead>\n",
       "    <tr style=\"text-align: right;\">\n",
       "      <th></th>\n",
       "      <th>hemoglobin</th>\n",
       "      <th>ferritin</th>\n",
       "      <th>ret_count</th>\n",
       "      <th>segmented_neutrophils</th>\n",
       "      <th>tibc</th>\n",
       "      <th>mcv</th>\n",
       "      <th>serum_iron</th>\n",
       "      <th>rbc</th>\n",
       "      <th>gender</th>\n",
       "      <th>creatinine</th>\n",
       "      <th>cholestrol</th>\n",
       "      <th>copper</th>\n",
       "      <th>ethanol</th>\n",
       "      <th>folate</th>\n",
       "      <th>glucose</th>\n",
       "      <th>hematocrit</th>\n",
       "      <th>tsat</th>\n",
       "      <th>label</th>\n",
       "    </tr>\n",
       "  </thead>\n",
       "  <tbody>\n",
       "    <tr>\n",
       "      <th>0</th>\n",
       "      <td>14.728733</td>\n",
       "      <td>-1.000000</td>\n",
       "      <td>3.170892</td>\n",
       "      <td>-1.000000</td>\n",
       "      <td>-1.000000</td>\n",
       "      <td>-1.000000</td>\n",
       "      <td>-1.000000</td>\n",
       "      <td>-1.000000</td>\n",
       "      <td>1</td>\n",
       "      <td>-1.000000</td>\n",
       "      <td>-1.000000</td>\n",
       "      <td>-1.0</td>\n",
       "      <td>-1.000000</td>\n",
       "      <td>-1.0</td>\n",
       "      <td>-1.000000</td>\n",
       "      <td>44.186200</td>\n",
       "      <td>-1.0</td>\n",
       "      <td>0</td>\n",
       "    </tr>\n",
       "    <tr>\n",
       "      <th>1</th>\n",
       "      <td>10.405752</td>\n",
       "      <td>9.634615</td>\n",
       "      <td>5.659537</td>\n",
       "      <td>-1.000000</td>\n",
       "      <td>-1.000000</td>\n",
       "      <td>77.413788</td>\n",
       "      <td>212.671838</td>\n",
       "      <td>4.032519</td>\n",
       "      <td>0</td>\n",
       "      <td>0.887130</td>\n",
       "      <td>96.311597</td>\n",
       "      <td>-1.0</td>\n",
       "      <td>43.218595</td>\n",
       "      <td>-1.0</td>\n",
       "      <td>83.207518</td>\n",
       "      <td>31.217256</td>\n",
       "      <td>-1.0</td>\n",
       "      <td>4</td>\n",
       "    </tr>\n",
       "    <tr>\n",
       "      <th>2</th>\n",
       "      <td>15.132737</td>\n",
       "      <td>358.914888</td>\n",
       "      <td>1.842252</td>\n",
       "      <td>3.797487</td>\n",
       "      <td>315.102272</td>\n",
       "      <td>80.500314</td>\n",
       "      <td>-1.000000</td>\n",
       "      <td>5.639507</td>\n",
       "      <td>0</td>\n",
       "      <td>-1.000000</td>\n",
       "      <td>-1.000000</td>\n",
       "      <td>-1.0</td>\n",
       "      <td>-1.000000</td>\n",
       "      <td>-1.0</td>\n",
       "      <td>-1.000000</td>\n",
       "      <td>45.398211</td>\n",
       "      <td>-1.0</td>\n",
       "      <td>0</td>\n",
       "    </tr>\n",
       "    <tr>\n",
       "      <th>3</th>\n",
       "      <td>11.340169</td>\n",
       "      <td>-1.000000</td>\n",
       "      <td>1.662209</td>\n",
       "      <td>2.441767</td>\n",
       "      <td>-1.000000</td>\n",
       "      <td>97.033963</td>\n",
       "      <td>102.079062</td>\n",
       "      <td>3.506041</td>\n",
       "      <td>1</td>\n",
       "      <td>1.020527</td>\n",
       "      <td>127.281715</td>\n",
       "      <td>-1.0</td>\n",
       "      <td>20.847013</td>\n",
       "      <td>-1.0</td>\n",
       "      <td>62.210273</td>\n",
       "      <td>34.020508</td>\n",
       "      <td>-1.0</td>\n",
       "      <td>6</td>\n",
       "    </tr>\n",
       "    <tr>\n",
       "      <th>4</th>\n",
       "      <td>6.691485</td>\n",
       "      <td>-1.000000</td>\n",
       "      <td>3.337971</td>\n",
       "      <td>-1.000000</td>\n",
       "      <td>-1.000000</td>\n",
       "      <td>99.838438</td>\n",
       "      <td>24.119564</td>\n",
       "      <td>2.010694</td>\n",
       "      <td>0</td>\n",
       "      <td>1.957666</td>\n",
       "      <td>34.633063</td>\n",
       "      <td>-1.0</td>\n",
       "      <td>34.612121</td>\n",
       "      <td>-1.0</td>\n",
       "      <td>112.411298</td>\n",
       "      <td>20.074456</td>\n",
       "      <td>-1.0</td>\n",
       "      <td>5</td>\n",
       "    </tr>\n",
       "  </tbody>\n",
       "</table>\n",
       "</div>"
      ],
      "text/plain": [
       "   hemoglobin    ferritin  ret_count  segmented_neutrophils        tibc  \\\n",
       "0   14.728733   -1.000000   3.170892              -1.000000   -1.000000   \n",
       "1   10.405752    9.634615   5.659537              -1.000000   -1.000000   \n",
       "2   15.132737  358.914888   1.842252               3.797487  315.102272   \n",
       "3   11.340169   -1.000000   1.662209               2.441767   -1.000000   \n",
       "4    6.691485   -1.000000   3.337971              -1.000000   -1.000000   \n",
       "\n",
       "         mcv  serum_iron       rbc  gender  creatinine  cholestrol  copper  \\\n",
       "0  -1.000000   -1.000000 -1.000000       1   -1.000000   -1.000000    -1.0   \n",
       "1  77.413788  212.671838  4.032519       0    0.887130   96.311597    -1.0   \n",
       "2  80.500314   -1.000000  5.639507       0   -1.000000   -1.000000    -1.0   \n",
       "3  97.033963  102.079062  3.506041       1    1.020527  127.281715    -1.0   \n",
       "4  99.838438   24.119564  2.010694       0    1.957666   34.633063    -1.0   \n",
       "\n",
       "     ethanol  folate     glucose  hematocrit  tsat  label  \n",
       "0  -1.000000    -1.0   -1.000000   44.186200  -1.0      0  \n",
       "1  43.218595    -1.0   83.207518   31.217256  -1.0      4  \n",
       "2  -1.000000    -1.0   -1.000000   45.398211  -1.0      0  \n",
       "3  20.847013    -1.0   62.210273   34.020508  -1.0      6  \n",
       "4  34.612121    -1.0  112.411298   20.074456  -1.0      5  "
      ]
     },
     "execution_count": 5,
     "metadata": {},
     "output_type": "execute_result"
    }
   ],
   "source": [
    "full_df.head()"
   ]
  },
  {
   "cell_type": "code",
   "execution_count": 6,
   "id": "114865cd",
   "metadata": {},
   "outputs": [
    {
     "data": {
      "text/html": [
       "<div>\n",
       "<style scoped>\n",
       "    .dataframe tbody tr th:only-of-type {\n",
       "        vertical-align: middle;\n",
       "    }\n",
       "\n",
       "    .dataframe tbody tr th {\n",
       "        vertical-align: top;\n",
       "    }\n",
       "\n",
       "    .dataframe thead th {\n",
       "        text-align: right;\n",
       "    }\n",
       "</style>\n",
       "<table border=\"1\" class=\"dataframe\">\n",
       "  <thead>\n",
       "    <tr style=\"text-align: right;\">\n",
       "      <th></th>\n",
       "      <th>hemoglobin</th>\n",
       "      <th>ferritin</th>\n",
       "      <th>ret_count</th>\n",
       "      <th>segmented_neutrophils</th>\n",
       "      <th>tibc</th>\n",
       "      <th>mcv</th>\n",
       "      <th>serum_iron</th>\n",
       "      <th>rbc</th>\n",
       "      <th>gender</th>\n",
       "      <th>creatinine</th>\n",
       "      <th>cholestrol</th>\n",
       "      <th>copper</th>\n",
       "      <th>ethanol</th>\n",
       "      <th>folate</th>\n",
       "      <th>glucose</th>\n",
       "      <th>hematocrit</th>\n",
       "      <th>tsat</th>\n",
       "      <th>label</th>\n",
       "    </tr>\n",
       "  </thead>\n",
       "  <tbody>\n",
       "    <tr>\n",
       "      <th>0</th>\n",
       "      <td>14.728733</td>\n",
       "      <td>NaN</td>\n",
       "      <td>3.170892</td>\n",
       "      <td>NaN</td>\n",
       "      <td>NaN</td>\n",
       "      <td>NaN</td>\n",
       "      <td>NaN</td>\n",
       "      <td>NaN</td>\n",
       "      <td>1</td>\n",
       "      <td>NaN</td>\n",
       "      <td>NaN</td>\n",
       "      <td>NaN</td>\n",
       "      <td>NaN</td>\n",
       "      <td>NaN</td>\n",
       "      <td>NaN</td>\n",
       "      <td>44.186200</td>\n",
       "      <td>NaN</td>\n",
       "      <td>0</td>\n",
       "    </tr>\n",
       "    <tr>\n",
       "      <th>1</th>\n",
       "      <td>10.405752</td>\n",
       "      <td>9.634615</td>\n",
       "      <td>5.659537</td>\n",
       "      <td>NaN</td>\n",
       "      <td>NaN</td>\n",
       "      <td>77.413788</td>\n",
       "      <td>212.671838</td>\n",
       "      <td>4.032519</td>\n",
       "      <td>0</td>\n",
       "      <td>0.887130</td>\n",
       "      <td>96.311597</td>\n",
       "      <td>NaN</td>\n",
       "      <td>43.218595</td>\n",
       "      <td>NaN</td>\n",
       "      <td>83.207518</td>\n",
       "      <td>31.217256</td>\n",
       "      <td>NaN</td>\n",
       "      <td>4</td>\n",
       "    </tr>\n",
       "    <tr>\n",
       "      <th>2</th>\n",
       "      <td>15.132737</td>\n",
       "      <td>358.914888</td>\n",
       "      <td>1.842252</td>\n",
       "      <td>3.797487</td>\n",
       "      <td>315.102272</td>\n",
       "      <td>80.500314</td>\n",
       "      <td>NaN</td>\n",
       "      <td>5.639507</td>\n",
       "      <td>0</td>\n",
       "      <td>NaN</td>\n",
       "      <td>NaN</td>\n",
       "      <td>NaN</td>\n",
       "      <td>NaN</td>\n",
       "      <td>NaN</td>\n",
       "      <td>NaN</td>\n",
       "      <td>45.398211</td>\n",
       "      <td>NaN</td>\n",
       "      <td>0</td>\n",
       "    </tr>\n",
       "    <tr>\n",
       "      <th>3</th>\n",
       "      <td>11.340169</td>\n",
       "      <td>NaN</td>\n",
       "      <td>1.662209</td>\n",
       "      <td>2.441767</td>\n",
       "      <td>NaN</td>\n",
       "      <td>97.033963</td>\n",
       "      <td>102.079062</td>\n",
       "      <td>3.506041</td>\n",
       "      <td>1</td>\n",
       "      <td>1.020527</td>\n",
       "      <td>127.281715</td>\n",
       "      <td>NaN</td>\n",
       "      <td>20.847013</td>\n",
       "      <td>NaN</td>\n",
       "      <td>62.210273</td>\n",
       "      <td>34.020508</td>\n",
       "      <td>NaN</td>\n",
       "      <td>6</td>\n",
       "    </tr>\n",
       "    <tr>\n",
       "      <th>4</th>\n",
       "      <td>6.691485</td>\n",
       "      <td>NaN</td>\n",
       "      <td>3.337971</td>\n",
       "      <td>NaN</td>\n",
       "      <td>NaN</td>\n",
       "      <td>99.838438</td>\n",
       "      <td>24.119564</td>\n",
       "      <td>2.010694</td>\n",
       "      <td>0</td>\n",
       "      <td>1.957666</td>\n",
       "      <td>34.633063</td>\n",
       "      <td>NaN</td>\n",
       "      <td>34.612121</td>\n",
       "      <td>NaN</td>\n",
       "      <td>112.411298</td>\n",
       "      <td>20.074456</td>\n",
       "      <td>NaN</td>\n",
       "      <td>5</td>\n",
       "    </tr>\n",
       "  </tbody>\n",
       "</table>\n",
       "</div>"
      ],
      "text/plain": [
       "   hemoglobin    ferritin  ret_count  segmented_neutrophils        tibc  \\\n",
       "0   14.728733         NaN   3.170892                    NaN         NaN   \n",
       "1   10.405752    9.634615   5.659537                    NaN         NaN   \n",
       "2   15.132737  358.914888   1.842252               3.797487  315.102272   \n",
       "3   11.340169         NaN   1.662209               2.441767         NaN   \n",
       "4    6.691485         NaN   3.337971                    NaN         NaN   \n",
       "\n",
       "         mcv  serum_iron       rbc  gender  creatinine  cholestrol  copper  \\\n",
       "0        NaN         NaN       NaN       1         NaN         NaN     NaN   \n",
       "1  77.413788  212.671838  4.032519       0    0.887130   96.311597     NaN   \n",
       "2  80.500314         NaN  5.639507       0         NaN         NaN     NaN   \n",
       "3  97.033963  102.079062  3.506041       1    1.020527  127.281715     NaN   \n",
       "4  99.838438   24.119564  2.010694       0    1.957666   34.633063     NaN   \n",
       "\n",
       "     ethanol  folate     glucose  hematocrit  tsat  label  \n",
       "0        NaN     NaN         NaN   44.186200   NaN      0  \n",
       "1  43.218595     NaN   83.207518   31.217256   NaN      4  \n",
       "2        NaN     NaN         NaN   45.398211   NaN      0  \n",
       "3  20.847013     NaN   62.210273   34.020508   NaN      6  \n",
       "4  34.612121     NaN  112.411298   20.074456   NaN      5  "
      ]
     },
     "execution_count": 6,
     "metadata": {},
     "output_type": "execute_result"
    }
   ],
   "source": [
    "full_df = full_df.replace(-1, np.nan)\n",
    "full_df.head()"
   ]
  },
  {
   "cell_type": "code",
   "execution_count": 7,
   "id": "dda94f1c",
   "metadata": {},
   "outputs": [
    {
     "data": {
      "text/plain": [
       "hemoglobin                10.238527\n",
       "ferritin                 209.967975\n",
       "ret_count                  2.821155\n",
       "segmented_neutrophils      2.930058\n",
       "tibc                     334.275990\n",
       "mcv                       89.997911\n",
       "serum_iron               135.029508\n",
       "rbc                        3.348216\n",
       "gender                     0.546686\n",
       "creatinine                 1.103034\n",
       "cholestrol                74.878204\n",
       "copper                    80.095237\n",
       "ethanol                   39.887102\n",
       "folate                    15.261930\n",
       "glucose                   90.038851\n",
       "hematocrit                30.715580\n",
       "tsat                      49.601271\n",
       "label                      3.334957\n",
       "dtype: float64"
      ]
     },
     "execution_count": 7,
     "metadata": {},
     "output_type": "execute_result"
    }
   ],
   "source": [
    "full_df.mean(axis=0)"
   ]
  },
  {
   "cell_type": "code",
   "execution_count": 8,
   "id": "1397fb4c",
   "metadata": {},
   "outputs": [
    {
     "data": {
      "text/html": [
       "<div>\n",
       "<style scoped>\n",
       "    .dataframe tbody tr th:only-of-type {\n",
       "        vertical-align: middle;\n",
       "    }\n",
       "\n",
       "    .dataframe tbody tr th {\n",
       "        vertical-align: top;\n",
       "    }\n",
       "\n",
       "    .dataframe thead th {\n",
       "        text-align: right;\n",
       "    }\n",
       "</style>\n",
       "<table border=\"1\" class=\"dataframe\">\n",
       "  <thead>\n",
       "    <tr style=\"text-align: right;\">\n",
       "      <th></th>\n",
       "      <th>hemoglobin</th>\n",
       "      <th>ferritin</th>\n",
       "      <th>ret_count</th>\n",
       "      <th>segmented_neutrophils</th>\n",
       "      <th>tibc</th>\n",
       "      <th>mcv</th>\n",
       "      <th>serum_iron</th>\n",
       "      <th>rbc</th>\n",
       "      <th>gender</th>\n",
       "      <th>creatinine</th>\n",
       "      <th>cholestrol</th>\n",
       "      <th>copper</th>\n",
       "      <th>ethanol</th>\n",
       "      <th>folate</th>\n",
       "      <th>glucose</th>\n",
       "      <th>hematocrit</th>\n",
       "      <th>tsat</th>\n",
       "      <th>label</th>\n",
       "    </tr>\n",
       "  </thead>\n",
       "  <tbody>\n",
       "    <tr>\n",
       "      <th>0.25</th>\n",
       "      <td>8.066994</td>\n",
       "      <td>69.870252</td>\n",
       "      <td>1.270463</td>\n",
       "      <td>0.762051</td>\n",
       "      <td>222.107602</td>\n",
       "      <td>78.917524</td>\n",
       "      <td>77.792509</td>\n",
       "      <td>2.640591</td>\n",
       "      <td>0.0</td>\n",
       "      <td>0.650572</td>\n",
       "      <td>37.388104</td>\n",
       "      <td>55.181755</td>\n",
       "      <td>19.876469</td>\n",
       "      <td>7.832469</td>\n",
       "      <td>65.127550</td>\n",
       "      <td>24.200981</td>\n",
       "      <td>23.102518</td>\n",
       "      <td>1.0</td>\n",
       "    </tr>\n",
       "    <tr>\n",
       "      <th>0.75</th>\n",
       "      <td>12.102028</td>\n",
       "      <td>343.337402</td>\n",
       "      <td>4.342276</td>\n",
       "      <td>4.898243</td>\n",
       "      <td>457.942384</td>\n",
       "      <td>101.092544</td>\n",
       "      <td>192.644818</td>\n",
       "      <td>3.936131</td>\n",
       "      <td>1.0</td>\n",
       "      <td>1.551825</td>\n",
       "      <td>112.243694</td>\n",
       "      <td>105.245232</td>\n",
       "      <td>59.748904</td>\n",
       "      <td>22.715223</td>\n",
       "      <td>115.077189</td>\n",
       "      <td>36.306084</td>\n",
       "      <td>62.608308</td>\n",
       "      <td>5.0</td>\n",
       "    </tr>\n",
       "  </tbody>\n",
       "</table>\n",
       "</div>"
      ],
      "text/plain": [
       "      hemoglobin    ferritin  ret_count  segmented_neutrophils        tibc  \\\n",
       "0.25    8.066994   69.870252   1.270463               0.762051  222.107602   \n",
       "0.75   12.102028  343.337402   4.342276               4.898243  457.942384   \n",
       "\n",
       "             mcv  serum_iron       rbc  gender  creatinine  cholestrol  \\\n",
       "0.25   78.917524   77.792509  2.640591     0.0    0.650572   37.388104   \n",
       "0.75  101.092544  192.644818  3.936131     1.0    1.551825  112.243694   \n",
       "\n",
       "          copper    ethanol     folate     glucose  hematocrit       tsat  \\\n",
       "0.25   55.181755  19.876469   7.832469   65.127550   24.200981  23.102518   \n",
       "0.75  105.245232  59.748904  22.715223  115.077189   36.306084  62.608308   \n",
       "\n",
       "      label  \n",
       "0.25    1.0  \n",
       "0.75    5.0  "
      ]
     },
     "execution_count": 8,
     "metadata": {},
     "output_type": "execute_result"
    }
   ],
   "source": [
    "full_df.quantile(q=[0.25, 0.75], axis=0, numeric_only=True)"
   ]
  },
  {
   "cell_type": "code",
   "execution_count": 9,
   "id": "818b1e53",
   "metadata": {},
   "outputs": [
    {
     "data": {
      "text/plain": [
       "1    38268\n",
       "0    31732\n",
       "Name: gender, dtype: int64"
      ]
     },
     "execution_count": 9,
     "metadata": {},
     "output_type": "execute_result"
    }
   ],
   "source": [
    "full_df.gender.value_counts()"
   ]
  },
  {
   "cell_type": "code",
   "execution_count": 10,
   "id": "9ba91fdd",
   "metadata": {},
   "outputs": [
    {
     "data": {
      "text/plain": [
       "45.331428571428575"
      ]
     },
     "execution_count": 10,
     "metadata": {},
     "output_type": "execute_result"
    }
   ],
   "source": [
    "31732/70000*100"
   ]
  },
  {
   "cell_type": "code",
   "execution_count": 21,
   "id": "f9071ed7",
   "metadata": {},
   "outputs": [
    {
     "data": {
      "text/plain": [
       "100.0"
      ]
     },
     "execution_count": 21,
     "metadata": {},
     "output_type": "execute_result"
    }
   ],
   "source": [
    "45.331+54.669"
   ]
  },
  {
   "cell_type": "markdown",
   "id": "8b0f83e1",
   "metadata": {},
   "source": [
    "#### Statistics per class"
   ]
  },
  {
   "cell_type": "code",
   "execution_count": 12,
   "id": "ed49e77d",
   "metadata": {},
   "outputs": [],
   "source": [
    "no_df = full_df[full_df.label==0]\n",
    "vit_df = full_df[full_df.label==1]\n",
    "unspec_df = full_df[full_df.label==2]\n",
    "acd_df = full_df[full_df.label==3]\n",
    "ida_df = full_df[full_df.label==4]\n",
    "hem_df = full_df[full_df.label==5]\n",
    "aplastic_df = full_df[full_df.label==6]\n",
    "inconc_df = full_df[full_df.label==7]"
   ]
  },
  {
   "cell_type": "code",
   "execution_count": 23,
   "id": "51af937d",
   "metadata": {},
   "outputs": [
    {
     "data": {
      "text/plain": [
       "hemoglobin                 9.486106\n",
       "ferritin                 195.158237\n",
       "ret_count                  2.988283\n",
       "segmented_neutrophils      3.477884\n",
       "tibc                     338.281680\n",
       "mcv                       88.696315\n",
       "serum_iron               133.704471\n",
       "rbc                        3.257337\n",
       "gender                     0.573575\n",
       "creatinine                 1.108129\n",
       "cholestrol                74.601921\n",
       "copper                    80.165647\n",
       "ethanol                   39.743508\n",
       "folate                    15.045361\n",
       "glucose                   89.348498\n",
       "hematocrit                28.458318\n",
       "tsat                      48.753496\n",
       "label                      7.000000\n",
       "dtype: float64"
      ]
     },
     "execution_count": 23,
     "metadata": {},
     "output_type": "execute_result"
    }
   ],
   "source": [
    "inconc_df.mean(axis=0)"
   ]
  },
  {
   "cell_type": "code",
   "execution_count": 50,
   "id": "63460632",
   "metadata": {},
   "outputs": [
    {
     "data": {
      "text/html": [
       "<div>\n",
       "<style scoped>\n",
       "    .dataframe tbody tr th:only-of-type {\n",
       "        vertical-align: middle;\n",
       "    }\n",
       "\n",
       "    .dataframe tbody tr th {\n",
       "        vertical-align: top;\n",
       "    }\n",
       "\n",
       "    .dataframe thead th {\n",
       "        text-align: right;\n",
       "    }\n",
       "</style>\n",
       "<table border=\"1\" class=\"dataframe\">\n",
       "  <thead>\n",
       "    <tr style=\"text-align: right;\">\n",
       "      <th></th>\n",
       "      <th>hemoglobin</th>\n",
       "      <th>ferritin</th>\n",
       "      <th>ret_count</th>\n",
       "      <th>segmented_neutrophils</th>\n",
       "      <th>tibc</th>\n",
       "      <th>mcv</th>\n",
       "      <th>serum_iron</th>\n",
       "      <th>rbc</th>\n",
       "      <th>gender</th>\n",
       "      <th>creatinine</th>\n",
       "      <th>cholestrol</th>\n",
       "      <th>copper</th>\n",
       "      <th>ethanol</th>\n",
       "      <th>folate</th>\n",
       "      <th>glucose</th>\n",
       "      <th>hematocrit</th>\n",
       "      <th>tsat</th>\n",
       "      <th>label</th>\n",
       "    </tr>\n",
       "  </thead>\n",
       "  <tbody>\n",
       "    <tr>\n",
       "      <th>0.25</th>\n",
       "      <td>7.764159</td>\n",
       "      <td>67.361696</td>\n",
       "      <td>1.437170</td>\n",
       "      <td>1.745057</td>\n",
       "      <td>225.383832</td>\n",
       "      <td>78.100203</td>\n",
       "      <td>76.167345</td>\n",
       "      <td>2.628406</td>\n",
       "      <td>0.0</td>\n",
       "      <td>0.645885</td>\n",
       "      <td>37.416341</td>\n",
       "      <td>55.086501</td>\n",
       "      <td>21.113062</td>\n",
       "      <td>7.520556</td>\n",
       "      <td>63.492354</td>\n",
       "      <td>23.292476</td>\n",
       "      <td>21.475999</td>\n",
       "      <td>7.0</td>\n",
       "    </tr>\n",
       "    <tr>\n",
       "      <th>0.75</th>\n",
       "      <td>11.223733</td>\n",
       "      <td>319.363630</td>\n",
       "      <td>4.514199</td>\n",
       "      <td>5.213844</td>\n",
       "      <td>461.214687</td>\n",
       "      <td>100.799923</td>\n",
       "      <td>191.806949</td>\n",
       "      <td>3.808596</td>\n",
       "      <td>1.0</td>\n",
       "      <td>1.563281</td>\n",
       "      <td>111.478907</td>\n",
       "      <td>105.649099</td>\n",
       "      <td>58.164996</td>\n",
       "      <td>22.613489</td>\n",
       "      <td>113.910982</td>\n",
       "      <td>33.671200</td>\n",
       "      <td>63.018447</td>\n",
       "      <td>7.0</td>\n",
       "    </tr>\n",
       "  </tbody>\n",
       "</table>\n",
       "</div>"
      ],
      "text/plain": [
       "      hemoglobin    ferritin  ret_count  segmented_neutrophils        tibc  \\\n",
       "0.25    7.764159   67.361696   1.437170               1.745057  225.383832   \n",
       "0.75   11.223733  319.363630   4.514199               5.213844  461.214687   \n",
       "\n",
       "             mcv  serum_iron       rbc  gender  creatinine  cholestrol  \\\n",
       "0.25   78.100203   76.167345  2.628406     0.0    0.645885   37.416341   \n",
       "0.75  100.799923  191.806949  3.808596     1.0    1.563281  111.478907   \n",
       "\n",
       "          copper    ethanol     folate     glucose  hematocrit       tsat  \\\n",
       "0.25   55.086501  21.113062   7.520556   63.492354   23.292476  21.475999   \n",
       "0.75  105.649099  58.164996  22.613489  113.910982   33.671200  63.018447   \n",
       "\n",
       "      label  \n",
       "0.25    7.0  \n",
       "0.75    7.0  "
      ]
     },
     "execution_count": 50,
     "metadata": {},
     "output_type": "execute_result"
    }
   ],
   "source": [
    "inconc_df.quantile(q=[0.25, 0.75], axis=0, numeric_only=True)"
   ]
  },
  {
   "cell_type": "code",
   "execution_count": 68,
   "id": "1019623b",
   "metadata": {},
   "outputs": [
    {
     "data": {
      "text/plain": [
       "1    3855\n",
       "0    2866\n",
       "Name: gender, dtype: int64"
      ]
     },
     "execution_count": 68,
     "metadata": {},
     "output_type": "execute_result"
    }
   ],
   "source": [
    "inconc_df.gender.value_counts()"
   ]
  },
  {
   "cell_type": "code",
   "execution_count": 69,
   "id": "4e4ad32a",
   "metadata": {},
   "outputs": [
    {
     "data": {
      "text/plain": [
       "1    57.36%\n",
       "0    42.64%\n",
       "Name: gender, dtype: object"
      ]
     },
     "execution_count": 69,
     "metadata": {},
     "output_type": "execute_result"
    }
   ],
   "source": [
    "inconc_df.gender.value_counts(normalize=True).mul(100).round(2).astype(str) + '%'"
   ]
  },
  {
   "cell_type": "code",
   "execution_count": null,
   "id": "2e21bdb1",
   "metadata": {},
   "outputs": [],
   "source": []
  }
 ],
 "metadata": {
  "kernelspec": {
   "display_name": "Python 3 (ipykernel)",
   "language": "python",
   "name": "python3"
  },
  "language_info": {
   "codemirror_mode": {
    "name": "ipython",
    "version": 3
   },
   "file_extension": ".py",
   "mimetype": "text/x-python",
   "name": "python",
   "nbconvert_exporter": "python",
   "pygments_lexer": "ipython3",
   "version": "3.7.4"
  }
 },
 "nbformat": 4,
 "nbformat_minor": 5
}

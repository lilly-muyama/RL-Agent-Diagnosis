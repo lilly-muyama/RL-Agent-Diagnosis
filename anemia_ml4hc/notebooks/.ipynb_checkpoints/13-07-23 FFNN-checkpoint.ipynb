{
 "cells": [
  {
   "cell_type": "code",
   "execution_count": 23,
   "id": "7fbc3d36",
   "metadata": {},
   "outputs": [],
   "source": [
    "import pandas as pd\n",
    "import numpy as np\n",
    "import tensorflow as tf\n",
    "from tensorflow.keras import layers\n",
    "from tensorflow.keras.callbacks import ModelCheckpoint, EarlyStopping\n",
    "from tensorflow import keras\n",
    "from sklearn.metrics import accuracy_score, f1_score, roc_auc_score\n",
    "import random\n",
    "import sys\n",
    "sys.path.append('../')\n",
    "from modules import utils\n",
    "import matplotlib.pyplot as plt\n",
    "%matplotlib inline"
   ]
  },
  {
   "cell_type": "code",
   "execution_count": 2,
   "id": "a73153ca",
   "metadata": {},
   "outputs": [
    {
     "name": "stdout",
     "output_type": "stream",
     "text": [
      "WARNING:tensorflow:From /tmp/ipykernel_1648749/1594656380.py:4: The name tf.set_random_seed is deprecated. Please use tf.compat.v1.set_random_seed instead.\n",
      "\n"
     ]
    }
   ],
   "source": [
    "SEED = 42\n",
    "random.seed(SEED)\n",
    "np.random.seed(SEED)\n",
    "tf.set_random_seed(SEED)\n",
    "tf.compat.v1.set_random_seed(SEED)"
   ]
  },
  {
   "cell_type": "markdown",
   "id": "d435bb06",
   "metadata": {},
   "source": [
    "#### The training data"
   ]
  },
  {
   "cell_type": "code",
   "execution_count": 3,
   "id": "f131e3ec",
   "metadata": {},
   "outputs": [
    {
     "data": {
      "text/html": [
       "<div>\n",
       "<style scoped>\n",
       "    .dataframe tbody tr th:only-of-type {\n",
       "        vertical-align: middle;\n",
       "    }\n",
       "\n",
       "    .dataframe tbody tr th {\n",
       "        vertical-align: top;\n",
       "    }\n",
       "\n",
       "    .dataframe thead th {\n",
       "        text-align: right;\n",
       "    }\n",
       "</style>\n",
       "<table border=\"1\" class=\"dataframe\">\n",
       "  <thead>\n",
       "    <tr style=\"text-align: right;\">\n",
       "      <th></th>\n",
       "      <th>hemoglobin</th>\n",
       "      <th>ferritin</th>\n",
       "      <th>ret_count</th>\n",
       "      <th>segmented_neutrophils</th>\n",
       "      <th>tibc</th>\n",
       "      <th>mcv</th>\n",
       "      <th>serum_iron</th>\n",
       "      <th>rbc</th>\n",
       "      <th>gender</th>\n",
       "      <th>creatinine</th>\n",
       "      <th>cholestrol</th>\n",
       "      <th>copper</th>\n",
       "      <th>ethanol</th>\n",
       "      <th>folate</th>\n",
       "      <th>glucose</th>\n",
       "      <th>hematocrit</th>\n",
       "      <th>tsat</th>\n",
       "      <th>label</th>\n",
       "    </tr>\n",
       "  </thead>\n",
       "  <tbody>\n",
       "    <tr>\n",
       "      <th>0</th>\n",
       "      <td>14.728733</td>\n",
       "      <td>-1.000000</td>\n",
       "      <td>3.170892</td>\n",
       "      <td>-1.000000</td>\n",
       "      <td>-1.000000</td>\n",
       "      <td>-1.000000</td>\n",
       "      <td>-1.000000</td>\n",
       "      <td>-1.000000</td>\n",
       "      <td>1</td>\n",
       "      <td>-1.000000</td>\n",
       "      <td>-1.000000</td>\n",
       "      <td>-1.0</td>\n",
       "      <td>-1.000000</td>\n",
       "      <td>-1.0</td>\n",
       "      <td>-1.000000</td>\n",
       "      <td>44.186200</td>\n",
       "      <td>-1.0</td>\n",
       "      <td>0</td>\n",
       "    </tr>\n",
       "    <tr>\n",
       "      <th>1</th>\n",
       "      <td>10.405752</td>\n",
       "      <td>9.634615</td>\n",
       "      <td>5.659537</td>\n",
       "      <td>-1.000000</td>\n",
       "      <td>-1.000000</td>\n",
       "      <td>77.413788</td>\n",
       "      <td>212.671838</td>\n",
       "      <td>4.032519</td>\n",
       "      <td>0</td>\n",
       "      <td>0.887130</td>\n",
       "      <td>96.311597</td>\n",
       "      <td>-1.0</td>\n",
       "      <td>43.218595</td>\n",
       "      <td>-1.0</td>\n",
       "      <td>83.207518</td>\n",
       "      <td>31.217256</td>\n",
       "      <td>-1.0</td>\n",
       "      <td>4</td>\n",
       "    </tr>\n",
       "    <tr>\n",
       "      <th>2</th>\n",
       "      <td>15.132737</td>\n",
       "      <td>358.914888</td>\n",
       "      <td>1.842252</td>\n",
       "      <td>3.797487</td>\n",
       "      <td>315.102272</td>\n",
       "      <td>80.500314</td>\n",
       "      <td>-1.000000</td>\n",
       "      <td>5.639507</td>\n",
       "      <td>0</td>\n",
       "      <td>-1.000000</td>\n",
       "      <td>-1.000000</td>\n",
       "      <td>-1.0</td>\n",
       "      <td>-1.000000</td>\n",
       "      <td>-1.0</td>\n",
       "      <td>-1.000000</td>\n",
       "      <td>45.398211</td>\n",
       "      <td>-1.0</td>\n",
       "      <td>0</td>\n",
       "    </tr>\n",
       "    <tr>\n",
       "      <th>3</th>\n",
       "      <td>11.340169</td>\n",
       "      <td>-1.000000</td>\n",
       "      <td>1.662209</td>\n",
       "      <td>2.441767</td>\n",
       "      <td>-1.000000</td>\n",
       "      <td>97.033963</td>\n",
       "      <td>102.079062</td>\n",
       "      <td>3.506041</td>\n",
       "      <td>1</td>\n",
       "      <td>1.020527</td>\n",
       "      <td>127.281715</td>\n",
       "      <td>-1.0</td>\n",
       "      <td>20.847013</td>\n",
       "      <td>-1.0</td>\n",
       "      <td>62.210273</td>\n",
       "      <td>34.020508</td>\n",
       "      <td>-1.0</td>\n",
       "      <td>6</td>\n",
       "    </tr>\n",
       "    <tr>\n",
       "      <th>4</th>\n",
       "      <td>6.691485</td>\n",
       "      <td>-1.000000</td>\n",
       "      <td>3.337971</td>\n",
       "      <td>-1.000000</td>\n",
       "      <td>-1.000000</td>\n",
       "      <td>99.838438</td>\n",
       "      <td>24.119564</td>\n",
       "      <td>2.010694</td>\n",
       "      <td>0</td>\n",
       "      <td>1.957666</td>\n",
       "      <td>34.633063</td>\n",
       "      <td>-1.0</td>\n",
       "      <td>34.612121</td>\n",
       "      <td>-1.0</td>\n",
       "      <td>112.411298</td>\n",
       "      <td>20.074456</td>\n",
       "      <td>-1.0</td>\n",
       "      <td>5</td>\n",
       "    </tr>\n",
       "  </tbody>\n",
       "</table>\n",
       "</div>"
      ],
      "text/plain": [
       "   hemoglobin    ferritin  ret_count  segmented_neutrophils        tibc  \\\n",
       "0   14.728733   -1.000000   3.170892              -1.000000   -1.000000   \n",
       "1   10.405752    9.634615   5.659537              -1.000000   -1.000000   \n",
       "2   15.132737  358.914888   1.842252               3.797487  315.102272   \n",
       "3   11.340169   -1.000000   1.662209               2.441767   -1.000000   \n",
       "4    6.691485   -1.000000   3.337971              -1.000000   -1.000000   \n",
       "\n",
       "         mcv  serum_iron       rbc  gender  creatinine  cholestrol  copper  \\\n",
       "0  -1.000000   -1.000000 -1.000000       1   -1.000000   -1.000000    -1.0   \n",
       "1  77.413788  212.671838  4.032519       0    0.887130   96.311597    -1.0   \n",
       "2  80.500314   -1.000000  5.639507       0   -1.000000   -1.000000    -1.0   \n",
       "3  97.033963  102.079062  3.506041       1    1.020527  127.281715    -1.0   \n",
       "4  99.838438   24.119564  2.010694       0    1.957666   34.633063    -1.0   \n",
       "\n",
       "     ethanol  folate     glucose  hematocrit  tsat  label  \n",
       "0  -1.000000    -1.0   -1.000000   44.186200  -1.0      0  \n",
       "1  43.218595    -1.0   83.207518   31.217256  -1.0      4  \n",
       "2  -1.000000    -1.0   -1.000000   45.398211  -1.0      0  \n",
       "3  20.847013    -1.0   62.210273   34.020508  -1.0      6  \n",
       "4  34.612121    -1.0  112.411298   20.074456  -1.0      5  "
      ]
     },
     "execution_count": 3,
     "metadata": {},
     "output_type": "execute_result"
    }
   ],
   "source": [
    "train_df = pd.read_csv('../data/train_set_basic.csv')\n",
    "train_df.head()"
   ]
  },
  {
   "cell_type": "code",
   "execution_count": 4,
   "id": "3763b231",
   "metadata": {},
   "outputs": [
    {
     "data": {
      "text/html": [
       "<div>\n",
       "<style scoped>\n",
       "    .dataframe tbody tr th:only-of-type {\n",
       "        vertical-align: middle;\n",
       "    }\n",
       "\n",
       "    .dataframe tbody tr th {\n",
       "        vertical-align: top;\n",
       "    }\n",
       "\n",
       "    .dataframe thead th {\n",
       "        text-align: right;\n",
       "    }\n",
       "</style>\n",
       "<table border=\"1\" class=\"dataframe\">\n",
       "  <thead>\n",
       "    <tr style=\"text-align: right;\">\n",
       "      <th></th>\n",
       "      <th>hemoglobin</th>\n",
       "      <th>ferritin</th>\n",
       "      <th>ret_count</th>\n",
       "      <th>segmented_neutrophils</th>\n",
       "      <th>tibc</th>\n",
       "      <th>mcv</th>\n",
       "      <th>serum_iron</th>\n",
       "      <th>rbc</th>\n",
       "      <th>gender</th>\n",
       "      <th>creatinine</th>\n",
       "      <th>cholestrol</th>\n",
       "      <th>copper</th>\n",
       "      <th>ethanol</th>\n",
       "      <th>folate</th>\n",
       "      <th>glucose</th>\n",
       "      <th>hematocrit</th>\n",
       "      <th>tsat</th>\n",
       "      <th>label</th>\n",
       "    </tr>\n",
       "  </thead>\n",
       "  <tbody>\n",
       "    <tr>\n",
       "      <th>0</th>\n",
       "      <td>9.496631</td>\n",
       "      <td>-1.000000</td>\n",
       "      <td>-1.000000</td>\n",
       "      <td>3.515439</td>\n",
       "      <td>375.685261</td>\n",
       "      <td>101.027779</td>\n",
       "      <td>122.174205</td>\n",
       "      <td>2.820006</td>\n",
       "      <td>1</td>\n",
       "      <td>1.276220</td>\n",
       "      <td>147.925454</td>\n",
       "      <td>74.188240</td>\n",
       "      <td>23.800042</td>\n",
       "      <td>11.545421</td>\n",
       "      <td>97.593498</td>\n",
       "      <td>28.489894</td>\n",
       "      <td>32.520362</td>\n",
       "      <td>1</td>\n",
       "    </tr>\n",
       "    <tr>\n",
       "      <th>1</th>\n",
       "      <td>7.092780</td>\n",
       "      <td>336.562609</td>\n",
       "      <td>-1.000000</td>\n",
       "      <td>-1.000000</td>\n",
       "      <td>115.507513</td>\n",
       "      <td>75.569193</td>\n",
       "      <td>35.449822</td>\n",
       "      <td>2.815743</td>\n",
       "      <td>0</td>\n",
       "      <td>0.870413</td>\n",
       "      <td>105.709466</td>\n",
       "      <td>118.836405</td>\n",
       "      <td>30.607322</td>\n",
       "      <td>2.113748</td>\n",
       "      <td>88.833122</td>\n",
       "      <td>21.278341</td>\n",
       "      <td>30.690491</td>\n",
       "      <td>3</td>\n",
       "    </tr>\n",
       "    <tr>\n",
       "      <th>2</th>\n",
       "      <td>6.554136</td>\n",
       "      <td>-1.000000</td>\n",
       "      <td>1.774495</td>\n",
       "      <td>6.145810</td>\n",
       "      <td>-1.000000</td>\n",
       "      <td>86.849700</td>\n",
       "      <td>-1.000000</td>\n",
       "      <td>2.263958</td>\n",
       "      <td>0</td>\n",
       "      <td>0.569184</td>\n",
       "      <td>139.078814</td>\n",
       "      <td>-1.000000</td>\n",
       "      <td>-1.000000</td>\n",
       "      <td>-1.000000</td>\n",
       "      <td>-1.000000</td>\n",
       "      <td>19.662409</td>\n",
       "      <td>-1.000000</td>\n",
       "      <td>6</td>\n",
       "    </tr>\n",
       "    <tr>\n",
       "      <th>3</th>\n",
       "      <td>12.417159</td>\n",
       "      <td>252.249921</td>\n",
       "      <td>1.701860</td>\n",
       "      <td>0.188413</td>\n",
       "      <td>515.449324</td>\n",
       "      <td>76.102948</td>\n",
       "      <td>-1.000000</td>\n",
       "      <td>4.894880</td>\n",
       "      <td>1</td>\n",
       "      <td>0.576132</td>\n",
       "      <td>4.588230</td>\n",
       "      <td>-1.000000</td>\n",
       "      <td>-1.000000</td>\n",
       "      <td>-1.000000</td>\n",
       "      <td>-1.000000</td>\n",
       "      <td>37.251478</td>\n",
       "      <td>-1.000000</td>\n",
       "      <td>3</td>\n",
       "    </tr>\n",
       "    <tr>\n",
       "      <th>4</th>\n",
       "      <td>7.748672</td>\n",
       "      <td>258.549935</td>\n",
       "      <td>2.980693</td>\n",
       "      <td>5.137341</td>\n",
       "      <td>363.214987</td>\n",
       "      <td>82.395181</td>\n",
       "      <td>99.002425</td>\n",
       "      <td>2.821283</td>\n",
       "      <td>1</td>\n",
       "      <td>0.885522</td>\n",
       "      <td>84.419465</td>\n",
       "      <td>33.706997</td>\n",
       "      <td>19.591641</td>\n",
       "      <td>27.675132</td>\n",
       "      <td>69.578682</td>\n",
       "      <td>23.246016</td>\n",
       "      <td>27.257252</td>\n",
       "      <td>5</td>\n",
       "    </tr>\n",
       "  </tbody>\n",
       "</table>\n",
       "</div>"
      ],
      "text/plain": [
       "   hemoglobin    ferritin  ret_count  segmented_neutrophils        tibc  \\\n",
       "0    9.496631   -1.000000  -1.000000               3.515439  375.685261   \n",
       "1    7.092780  336.562609  -1.000000              -1.000000  115.507513   \n",
       "2    6.554136   -1.000000   1.774495               6.145810   -1.000000   \n",
       "3   12.417159  252.249921   1.701860               0.188413  515.449324   \n",
       "4    7.748672  258.549935   2.980693               5.137341  363.214987   \n",
       "\n",
       "          mcv  serum_iron       rbc  gender  creatinine  cholestrol  \\\n",
       "0  101.027779  122.174205  2.820006       1    1.276220  147.925454   \n",
       "1   75.569193   35.449822  2.815743       0    0.870413  105.709466   \n",
       "2   86.849700   -1.000000  2.263958       0    0.569184  139.078814   \n",
       "3   76.102948   -1.000000  4.894880       1    0.576132    4.588230   \n",
       "4   82.395181   99.002425  2.821283       1    0.885522   84.419465   \n",
       "\n",
       "       copper    ethanol     folate    glucose  hematocrit       tsat  label  \n",
       "0   74.188240  23.800042  11.545421  97.593498   28.489894  32.520362      1  \n",
       "1  118.836405  30.607322   2.113748  88.833122   21.278341  30.690491      3  \n",
       "2   -1.000000  -1.000000  -1.000000  -1.000000   19.662409  -1.000000      6  \n",
       "3   -1.000000  -1.000000  -1.000000  -1.000000   37.251478  -1.000000      3  \n",
       "4   33.706997  19.591641  27.675132  69.578682   23.246016  27.257252      5  "
      ]
     },
     "execution_count": 4,
     "metadata": {},
     "output_type": "execute_result"
    }
   ],
   "source": [
    "val_df = pd.read_csv('../data/val_set_constant.csv')\n",
    "val_df.head()"
   ]
  },
  {
   "cell_type": "code",
   "execution_count": 5,
   "id": "40941c30",
   "metadata": {},
   "outputs": [
    {
     "data": {
      "text/html": [
       "<div>\n",
       "<style scoped>\n",
       "    .dataframe tbody tr th:only-of-type {\n",
       "        vertical-align: middle;\n",
       "    }\n",
       "\n",
       "    .dataframe tbody tr th {\n",
       "        vertical-align: top;\n",
       "    }\n",
       "\n",
       "    .dataframe thead th {\n",
       "        text-align: right;\n",
       "    }\n",
       "</style>\n",
       "<table border=\"1\" class=\"dataframe\">\n",
       "  <thead>\n",
       "    <tr style=\"text-align: right;\">\n",
       "      <th></th>\n",
       "      <th>hemoglobin</th>\n",
       "      <th>ferritin</th>\n",
       "      <th>ret_count</th>\n",
       "      <th>segmented_neutrophils</th>\n",
       "      <th>tibc</th>\n",
       "      <th>mcv</th>\n",
       "      <th>serum_iron</th>\n",
       "      <th>rbc</th>\n",
       "      <th>gender</th>\n",
       "      <th>creatinine</th>\n",
       "      <th>cholestrol</th>\n",
       "      <th>copper</th>\n",
       "      <th>ethanol</th>\n",
       "      <th>folate</th>\n",
       "      <th>glucose</th>\n",
       "      <th>hematocrit</th>\n",
       "      <th>tsat</th>\n",
       "      <th>label</th>\n",
       "    </tr>\n",
       "  </thead>\n",
       "  <tbody>\n",
       "    <tr>\n",
       "      <th>0</th>\n",
       "      <td>7.116363</td>\n",
       "      <td>-1.000000</td>\n",
       "      <td>3.781573</td>\n",
       "      <td>2.738413</td>\n",
       "      <td>-1.000000</td>\n",
       "      <td>95.904198</td>\n",
       "      <td>68.457895</td>\n",
       "      <td>2.226085</td>\n",
       "      <td>0</td>\n",
       "      <td>1.892912</td>\n",
       "      <td>39.808550</td>\n",
       "      <td>110.329197</td>\n",
       "      <td>64.404350</td>\n",
       "      <td>21.654404</td>\n",
       "      <td>73.787009</td>\n",
       "      <td>21.349089</td>\n",
       "      <td>-1.000000</td>\n",
       "      <td>5</td>\n",
       "    </tr>\n",
       "    <tr>\n",
       "      <th>1</th>\n",
       "      <td>8.125320</td>\n",
       "      <td>92.230003</td>\n",
       "      <td>4.231419</td>\n",
       "      <td>1.188039</td>\n",
       "      <td>143.365567</td>\n",
       "      <td>104.057204</td>\n",
       "      <td>204.747831</td>\n",
       "      <td>2.342554</td>\n",
       "      <td>0</td>\n",
       "      <td>0.652614</td>\n",
       "      <td>13.478089</td>\n",
       "      <td>-1.000000</td>\n",
       "      <td>32.705481</td>\n",
       "      <td>-1.000000</td>\n",
       "      <td>43.520272</td>\n",
       "      <td>24.375961</td>\n",
       "      <td>142.815207</td>\n",
       "      <td>1</td>\n",
       "    </tr>\n",
       "    <tr>\n",
       "      <th>2</th>\n",
       "      <td>11.309450</td>\n",
       "      <td>38.324563</td>\n",
       "      <td>-1.000000</td>\n",
       "      <td>-1.000000</td>\n",
       "      <td>455.077909</td>\n",
       "      <td>76.402602</td>\n",
       "      <td>-1.000000</td>\n",
       "      <td>4.440732</td>\n",
       "      <td>0</td>\n",
       "      <td>-1.000000</td>\n",
       "      <td>-1.000000</td>\n",
       "      <td>-1.000000</td>\n",
       "      <td>-1.000000</td>\n",
       "      <td>-1.000000</td>\n",
       "      <td>-1.000000</td>\n",
       "      <td>33.928350</td>\n",
       "      <td>-1.000000</td>\n",
       "      <td>4</td>\n",
       "    </tr>\n",
       "    <tr>\n",
       "      <th>3</th>\n",
       "      <td>13.763858</td>\n",
       "      <td>253.513394</td>\n",
       "      <td>2.262606</td>\n",
       "      <td>0.551444</td>\n",
       "      <td>453.772884</td>\n",
       "      <td>82.781943</td>\n",
       "      <td>90.101466</td>\n",
       "      <td>4.987993</td>\n",
       "      <td>0</td>\n",
       "      <td>0.853521</td>\n",
       "      <td>104.005514</td>\n",
       "      <td>34.639227</td>\n",
       "      <td>0.963866</td>\n",
       "      <td>22.083012</td>\n",
       "      <td>88.891838</td>\n",
       "      <td>41.291574</td>\n",
       "      <td>19.856071</td>\n",
       "      <td>0</td>\n",
       "    </tr>\n",
       "    <tr>\n",
       "      <th>4</th>\n",
       "      <td>11.464002</td>\n",
       "      <td>-1.000000</td>\n",
       "      <td>-1.000000</td>\n",
       "      <td>-1.000000</td>\n",
       "      <td>320.964653</td>\n",
       "      <td>104.287127</td>\n",
       "      <td>-1.000000</td>\n",
       "      <td>3.297819</td>\n",
       "      <td>0</td>\n",
       "      <td>1.163516</td>\n",
       "      <td>121.616315</td>\n",
       "      <td>105.895897</td>\n",
       "      <td>-1.000000</td>\n",
       "      <td>9.337462</td>\n",
       "      <td>-1.000000</td>\n",
       "      <td>34.392007</td>\n",
       "      <td>-1.000000</td>\n",
       "      <td>7</td>\n",
       "    </tr>\n",
       "  </tbody>\n",
       "</table>\n",
       "</div>"
      ],
      "text/plain": [
       "   hemoglobin    ferritin  ret_count  segmented_neutrophils        tibc  \\\n",
       "0    7.116363   -1.000000   3.781573               2.738413   -1.000000   \n",
       "1    8.125320   92.230003   4.231419               1.188039  143.365567   \n",
       "2   11.309450   38.324563  -1.000000              -1.000000  455.077909   \n",
       "3   13.763858  253.513394   2.262606               0.551444  453.772884   \n",
       "4   11.464002   -1.000000  -1.000000              -1.000000  320.964653   \n",
       "\n",
       "          mcv  serum_iron       rbc  gender  creatinine  cholestrol  \\\n",
       "0   95.904198   68.457895  2.226085       0    1.892912   39.808550   \n",
       "1  104.057204  204.747831  2.342554       0    0.652614   13.478089   \n",
       "2   76.402602   -1.000000  4.440732       0   -1.000000   -1.000000   \n",
       "3   82.781943   90.101466  4.987993       0    0.853521  104.005514   \n",
       "4  104.287127   -1.000000  3.297819       0    1.163516  121.616315   \n",
       "\n",
       "       copper    ethanol     folate    glucose  hematocrit        tsat  label  \n",
       "0  110.329197  64.404350  21.654404  73.787009   21.349089   -1.000000      5  \n",
       "1   -1.000000  32.705481  -1.000000  43.520272   24.375961  142.815207      1  \n",
       "2   -1.000000  -1.000000  -1.000000  -1.000000   33.928350   -1.000000      4  \n",
       "3   34.639227   0.963866  22.083012  88.891838   41.291574   19.856071      0  \n",
       "4  105.895897  -1.000000   9.337462  -1.000000   34.392007   -1.000000      7  "
      ]
     },
     "execution_count": 5,
     "metadata": {},
     "output_type": "execute_result"
    }
   ],
   "source": [
    "test_df = pd.read_csv('../data/test_set_constant.csv')\n",
    "test_df.head()"
   ]
  },
  {
   "cell_type": "code",
   "execution_count": 6,
   "id": "437ff330",
   "metadata": {},
   "outputs": [
    {
     "data": {
      "text/plain": [
       "((50400, 17), (50400,), (5600, 17), (5600,), (14000, 17), (14000,))"
      ]
     },
     "execution_count": 6,
     "metadata": {},
     "output_type": "execute_result"
    }
   ],
   "source": [
    "X_train = train_df.iloc[:, 0:-1]\n",
    "y_train = train_df.iloc[:, -1]\n",
    "\n",
    "X_val = val_df.iloc[:, 0:-1]\n",
    "y_val = val_df.iloc[:, -1]\n",
    "\n",
    "X_test = test_df.iloc[:, 0:-1]\n",
    "y_test = test_df.iloc[:, -1]\n",
    "\n",
    "X_train, y_train = np.array(X_train), np.array(y_train)\n",
    "X_val, y_val = np.array(X_val), np.array(y_val)\n",
    "X_test, y_test = np.array(X_test), np.array(y_test)\n",
    "X_train.shape, y_train.shape, X_val.shape, y_val.shape, X_test.shape, y_test.shape"
   ]
  },
  {
   "cell_type": "code",
   "execution_count": 7,
   "id": "44979472",
   "metadata": {},
   "outputs": [
    {
     "data": {
      "text/plain": [
       "0    7200\n",
       "6    6501\n",
       "5    6498\n",
       "1    6483\n",
       "2    6454\n",
       "3    6378\n",
       "4    6047\n",
       "7    4839\n",
       "Name: label, dtype: int64"
      ]
     },
     "execution_count": 7,
     "metadata": {},
     "output_type": "execute_result"
    }
   ],
   "source": [
    "train_df.label.value_counts()"
   ]
  },
  {
   "cell_type": "code",
   "execution_count": 8,
   "id": "8d0106dd",
   "metadata": {},
   "outputs": [
    {
     "data": {
      "text/plain": [
       "((50400, 8), (5600, 8), (14000, 8))"
      ]
     },
     "execution_count": 8,
     "metadata": {},
     "output_type": "execute_result"
    }
   ],
   "source": [
    "y_train_onehot = keras.utils.to_categorical(y_train, num_classes=8) \n",
    "y_val_onehot = keras.utils.to_categorical(y_val, num_classes=8) \n",
    "y_test_onehot = keras.utils.to_categorical(y_test, num_classes=8) \n",
    "y_train_onehot.shape, y_val_onehot.shape, y_test_onehot.shape"
   ]
  },
  {
   "cell_type": "markdown",
   "id": "dfc77cc1",
   "metadata": {},
   "source": [
    "#### The model"
   ]
  },
  {
   "cell_type": "code",
   "execution_count": 9,
   "id": "ea383711",
   "metadata": {},
   "outputs": [
    {
     "name": "stdout",
     "output_type": "stream",
     "text": [
      "WARNING:tensorflow:From /home/lmuyama/anaconda3/envs/stable_baselines_tf2_env/lib/python3.7/site-packages/tensorflow_core/python/ops/resource_variable_ops.py:1630: calling BaseResourceVariable.__init__ (from tensorflow.python.ops.resource_variable_ops) with constraint is deprecated and will be removed in a future version.\n",
      "Instructions for updating:\n",
      "If using Keras pass *_constraint arguments to layers.\n"
     ]
    }
   ],
   "source": [
    "model = keras.Sequential([\n",
    "    layers.Dense(64, activation='relu', input_shape=(17,)),\n",
    "    layers.Dense(64, activation='relu'),\n",
    "    layers.Dense(8, activation='softmax')\n",
    "])"
   ]
  },
  {
   "cell_type": "code",
   "execution_count": 10,
   "id": "07394b89",
   "metadata": {},
   "outputs": [],
   "source": [
    "model.compile(optimizer='adam', loss='categorical_crossentropy', metrics=['accuracy'])"
   ]
  },
  {
   "cell_type": "code",
   "execution_count": 11,
   "id": "0b6a060a",
   "metadata": {},
   "outputs": [],
   "source": [
    "checkpoint = keras.callbacks.ModelCheckpoint(\n",
    "    '../models/ffnn_checkpoint.h5', monitor='val_loss', save_best_only=True, save_weights_only=False\n",
    ")"
   ]
  },
  {
   "cell_type": "code",
   "execution_count": 12,
   "id": "ba3076d3",
   "metadata": {},
   "outputs": [],
   "source": [
    "early_stopping = EarlyStopping(monitor='val_loss', patience=10000000)"
   ]
  },
  {
   "cell_type": "code",
   "execution_count": 13,
   "id": "abd0a476",
   "metadata": {},
   "outputs": [],
   "source": [
    "# Define a callback to track the training progress\n",
    "# class LossHistory(keras.callbacks.Callback):\n",
    "#     def on_train_begin(self, logs={}):\n",
    "#         self.losses = []\n",
    "#         self.val_losses = []\n",
    "\n",
    "#     def on_epoch_end(self, batch, logs={}):\n",
    "#         self.losses.append(logs.get('loss'))\n",
    "#         self.val_losses.append(logs.get('val_loss'))"
   ]
  },
  {
   "cell_type": "code",
   "execution_count": 14,
   "id": "b0b089ab",
   "metadata": {},
   "outputs": [],
   "source": [
    "# history = LossHistory()"
   ]
  },
  {
   "cell_type": "code",
   "execution_count": 15,
   "id": "d311af14",
   "metadata": {},
   "outputs": [
    {
     "name": "stdout",
     "output_type": "stream",
     "text": [
      "Train on 50400 samples, validate on 5600 samples\n",
      "Epoch 1/10\n",
      " 6432/50400 [==>...........................] - ETA: 0s - loss: 5.8581 - acc: 0.3067 "
     ]
    },
    {
     "name": "stderr",
     "output_type": "stream",
     "text": [
      "2023-07-13 12:32:13.334193: I tensorflow/stream_executor/platform/default/dso_loader.cc:44] Successfully opened dynamic library libcuda.so.1\n",
      "2023-07-13 12:32:17.785780: E tensorflow/stream_executor/cuda/cuda_driver.cc:318] failed call to cuInit: CUDA_ERROR_NO_DEVICE: no CUDA-capable device is detected\n",
      "2023-07-13 12:32:17.785806: I tensorflow/stream_executor/cuda/cuda_diagnostics.cc:169] retrieving CUDA diagnostic information for host: PL1207-PRO.paris.inria.fr\n",
      "2023-07-13 12:32:17.785809: I tensorflow/stream_executor/cuda/cuda_diagnostics.cc:176] hostname: PL1207-PRO.paris.inria.fr\n",
      "2023-07-13 12:32:17.785900: I tensorflow/stream_executor/cuda/cuda_diagnostics.cc:200] libcuda reported version is: 525.125.6\n",
      "2023-07-13 12:32:17.785915: I tensorflow/stream_executor/cuda/cuda_diagnostics.cc:204] kernel reported version is: Not found: could not find kernel module information in driver version file contents: \"NVRM version: NVIDIA UNIX Open Kernel Module for x86_64  525.125.06  Release Build  (dvs-builder@U16-A23-14-1)  Tue May 30 05:12:48 UTC 2023\n",
      "GCC version:  gcc version 9.4.0 (Ubuntu 9.4.0-1ubuntu1~20.04.1) \n",
      "\"\n",
      "2023-07-13 12:32:17.786860: I tensorflow/core/platform/cpu_feature_guard.cc:142] Your CPU supports instructions that this TensorFlow binary was not compiled to use: AVX2 FMA\n",
      "2023-07-13 12:32:17.807554: I tensorflow/core/platform/profile_utils/cpu_utils.cc:94] CPU Frequency: 2918400000 Hz\n",
      "2023-07-13 12:32:17.808667: I tensorflow/compiler/xla/service/service.cc:168] XLA service 0x55590c2a15c0 initialized for platform Host (this does not guarantee that XLA will be used). Devices:\n",
      "2023-07-13 12:32:17.808677: I tensorflow/compiler/xla/service/service.cc:176]   StreamExecutor device (0): Host, Default Version\n"
     ]
    },
    {
     "name": "stdout",
     "output_type": "stream",
     "text": [
      "50400/50400 [==============================] - 1s 17us/sample - loss: 2.2308 - acc: 0.4592 - val_loss: 1.3883 - val_acc: 0.5421\n",
      "Epoch 2/10\n",
      "50400/50400 [==============================] - 1s 16us/sample - loss: 1.2222 - acc: 0.5743 - val_loss: 1.1201 - val_acc: 0.6095\n",
      "Epoch 3/10\n",
      "50400/50400 [==============================] - 1s 18us/sample - loss: 1.0525 - acc: 0.6211 - val_loss: 1.0136 - val_acc: 0.6241\n",
      "Epoch 4/10\n",
      "50400/50400 [==============================] - 1s 16us/sample - loss: 0.9222 - acc: 0.6652 - val_loss: 0.9188 - val_acc: 0.6471\n",
      "Epoch 5/10\n",
      "50400/50400 [==============================] - 1s 15us/sample - loss: 0.8126 - acc: 0.7024 - val_loss: 0.7625 - val_acc: 0.7214\n",
      "Epoch 6/10\n",
      "50400/50400 [==============================] - 1s 16us/sample - loss: 0.7163 - acc: 0.7366 - val_loss: 0.6243 - val_acc: 0.7750\n",
      "Epoch 7/10\n",
      "50400/50400 [==============================] - 1s 15us/sample - loss: 0.5994 - acc: 0.7819 - val_loss: 0.5115 - val_acc: 0.8157\n",
      "Epoch 8/10\n",
      "50400/50400 [==============================] - 1s 15us/sample - loss: 0.4744 - acc: 0.8259 - val_loss: 0.4047 - val_acc: 0.8530\n",
      "Epoch 9/10\n",
      "50400/50400 [==============================] - 1s 16us/sample - loss: 0.3905 - acc: 0.8575 - val_loss: 0.4527 - val_acc: 0.8291\n",
      "Epoch 10/10\n",
      "50400/50400 [==============================] - 1s 16us/sample - loss: 0.3554 - acc: 0.8676 - val_loss: 0.3598 - val_acc: 0.8655\n"
     ]
    }
   ],
   "source": [
    "history = model.fit(X_train, y_train_onehot, epochs=10, batch_size=32, validation_data=(X_val, y_val_onehot), \n",
    "                    callbacks=[checkpoint, early_stopping])"
   ]
  },
  {
   "cell_type": "code",
   "execution_count": 16,
   "id": "c23428b8",
   "metadata": {},
   "outputs": [
    {
     "data": {
      "image/png": "[encoded data removed]",
      "text/plain": [
       "<Figure size 640x480 with 1 Axes>"
      ]
     },
     "metadata": {},
     "output_type": "display_data"
    }
   ],
   "source": [
    "# Plot the training and validation loss\n",
    "plt.plot(history.history['loss'], label='Training Loss')\n",
    "plt.plot(history.history['val_loss'], label='Validation Loss')\n",
    "plt.xlabel('Epochs')\n",
    "plt.ylabel('Loss')\n",
    "plt.title('Training and Validation Loss')\n",
    "plt.legend()\n",
    "plt.show()"
   ]
  },
  {
   "cell_type": "markdown",
   "id": "82680b52",
   "metadata": {},
   "source": [
    "#### Performance evaluation of the best model"
   ]
  },
  {
   "cell_type": "code",
   "execution_count": 17,
   "id": "3de8272d",
   "metadata": {},
   "outputs": [
    {
     "name": "stdout",
     "output_type": "stream",
     "text": [
      "WARNING:tensorflow:From /home/lmuyama/anaconda3/envs/stable_baselines_tf2_env/lib/python3.7/site-packages/tensorflow_core/python/ops/init_ops.py:97: calling GlorotUniform.__init__ (from tensorflow.python.ops.init_ops) with dtype is deprecated and will be removed in a future version.\n",
      "Instructions for updating:\n",
      "Call initializer instance with the dtype argument instead of passing it to the constructor\n",
      "WARNING:tensorflow:From /home/lmuyama/anaconda3/envs/stable_baselines_tf2_env/lib/python3.7/site-packages/tensorflow_core/python/ops/init_ops.py:97: calling Zeros.__init__ (from tensorflow.python.ops.init_ops) with dtype is deprecated and will be removed in a future version.\n",
      "Instructions for updating:\n",
      "Call initializer instance with the dtype argument instead of passing it to the constructor\n"
     ]
    }
   ],
   "source": [
    "best_model = keras.models.load_model('../models/ffnn_checkpoint.h5')"
   ]
  },
  {
   "cell_type": "code",
   "execution_count": 18,
   "id": "382408ea",
   "metadata": {},
   "outputs": [
    {
     "name": "stdout",
     "output_type": "stream",
     "text": [
      "14000/14000 [==============================] - 0s 7us/sample - loss: 0.3617 - acc: 0.8678\n"
     ]
    },
    {
     "data": {
      "text/plain": [
       "(0.3617147724373, 0.8677857)"
      ]
     },
     "execution_count": 18,
     "metadata": {},
     "output_type": "execute_result"
    }
   ],
   "source": [
    "loss, accuracy = best_model.evaluate(X_test, y_test_onehot)\n",
    "loss, accuracy"
   ]
  },
  {
   "cell_type": "markdown",
   "id": "4fecd24c",
   "metadata": {},
   "source": [
    "#### More metrics"
   ]
  },
  {
   "cell_type": "code",
   "execution_count": 19,
   "id": "99c65d00",
   "metadata": {},
   "outputs": [],
   "source": [
    "model_predictions = best_model.predict(X_test)\n",
    "y_pred = np.argmax(model_predictions, axis=1)"
   ]
  },
  {
   "cell_type": "code",
   "execution_count": 20,
   "id": "770c96fe",
   "metadata": {},
   "outputs": [
    {
     "data": {
      "text/plain": [
       "((14000,), (14000,))"
      ]
     },
     "execution_count": 20,
     "metadata": {},
     "output_type": "execute_result"
    }
   ],
   "source": [
    "y_pred.shape, y_test.shape"
   ]
  },
  {
   "cell_type": "code",
   "execution_count": 25,
   "id": "827755b2",
   "metadata": {},
   "outputs": [
    {
     "name": "stdout",
     "output_type": "stream",
     "text": [
      "Accuracy: 0.8677857142857143, F1: 0.8641988110118415, ROC-AUC:0.9883831131337568\n"
     ]
    }
   ],
   "source": [
    "accuracy = accuracy_score(y_test, y_pred)\n",
    "f1 = f1_score(y_test, y_pred, average='macro', )\n",
    "roc_auc = roc_auc_score(y_test_onehot, model_predictions, average='macro', multi_class='ovo')\n",
    "print(f'Accuracy: {accuracy}, F1: {f1}, ROC-AUC:{roc_auc}')"
   ]
  },
  {
   "cell_type": "code",
   "execution_count": 26,
   "id": "97e359c4",
   "metadata": {},
   "outputs": [
    {
     "ename": "NameError",
     "evalue": "name 'utils' is not defined",
     "output_type": "error",
     "traceback": [
      "\u001b[0;31m---------------------------------------------------------------------------\u001b[0m",
      "\u001b[0;31mNameError\u001b[0m                                 Traceback (most recent call last)",
      "\u001b[0;32m/tmp/ipykernel_1648749/2755382831.py\u001b[0m in \u001b[0;36m<module>\u001b[0;34m\u001b[0m\n\u001b[1;32m      2\u001b[0m \u001b[0mtest_df\u001b[0m\u001b[0;34m[\u001b[0m\u001b[0;34m'y_actual'\u001b[0m\u001b[0;34m]\u001b[0m \u001b[0;34m=\u001b[0m \u001b[0my_test\u001b[0m\u001b[0;34m\u001b[0m\u001b[0;34m\u001b[0m\u001b[0m\n\u001b[1;32m      3\u001b[0m \u001b[0mtest_df\u001b[0m\u001b[0;34m[\u001b[0m\u001b[0;34m'y_pred'\u001b[0m\u001b[0;34m]\u001b[0m \u001b[0;34m=\u001b[0m \u001b[0my_pred\u001b[0m\u001b[0;34m\u001b[0m\u001b[0;34m\u001b[0m\u001b[0m\n\u001b[0;32m----> 4\u001b[0;31m \u001b[0macc\u001b[0m\u001b[0;34m,\u001b[0m \u001b[0mf1\u001b[0m\u001b[0;34m,\u001b[0m \u001b[0mroc_auc\u001b[0m \u001b[0;34m=\u001b[0m  \u001b[0mutils\u001b[0m\u001b[0;34m.\u001b[0m\u001b[0mget_metrics\u001b[0m\u001b[0;34m(\u001b[0m\u001b[0mtest_df\u001b[0m\u001b[0;34m)\u001b[0m\u001b[0;34m\u001b[0m\u001b[0;34m\u001b[0m\u001b[0m\n\u001b[0m\u001b[1;32m      5\u001b[0m \u001b[0macc\u001b[0m\u001b[0;34m,\u001b[0m \u001b[0mf1\u001b[0m\u001b[0;34m,\u001b[0m \u001b[0mroc_auc\u001b[0m\u001b[0;34m\u001b[0m\u001b[0;34m\u001b[0m\u001b[0m\n",
      "\u001b[0;31mNameError\u001b[0m: name 'utils' is not defined"
     ]
    }
   ],
   "source": [
    "test_df = pd.DataFrame()\n",
    "test_df['y_actual'] = y_test\n",
    "test_df['y_pred'] = y_pred\n",
    "acc, f1, roc_auc =  utils.get_metrics(test_df)\n",
    "acc, f1, roc_auc"
   ]
  },
  {
   "cell_type": "code",
   "execution_count": null,
   "id": "7bc16db1",
   "metadata": {},
   "outputs": [],
   "source": []
  }
 ],
 "metadata": {
  "kernelspec": {
   "display_name": "Python 3 (ipykernel)",
   "language": "python",
   "name": "python3"
  },
  "language_info": {
   "codemirror_mode": {
    "name": "ipython",
    "version": 3
   },
   "file_extension": ".py",
   "mimetype": "text/x-python",
   "name": "python",
   "nbconvert_exporter": "python",
   "pygments_lexer": "ipython3",
   "version": "3.7.4"
  }
 },
 "nbformat": 4,
 "nbformat_minor": 5
}

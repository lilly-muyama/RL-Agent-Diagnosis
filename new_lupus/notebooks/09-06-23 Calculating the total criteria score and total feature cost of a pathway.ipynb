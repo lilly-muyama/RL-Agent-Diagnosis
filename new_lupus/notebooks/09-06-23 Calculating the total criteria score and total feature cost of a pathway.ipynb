{
 "cells": [
  {
   "cell_type": "code",
   "execution_count": 2,
   "id": "44ed90c2",
   "metadata": {},
   "outputs": [],
   "source": [
    "import pandas as pd\n",
    "import numpy as np\n",
    "import ast\n",
    "import sys\n",
    "sys.path.append('../')\n",
    "from modules import constants,utils"
   ]
  },
  {
   "cell_type": "code",
   "execution_count": 3,
   "id": "bba1b0a1",
   "metadata": {},
   "outputs": [],
   "source": [
    "def get_total_feature_costs(pathway):\n",
    "    if isinstance(pathway, str):\n",
    "        pathway = ast.literal_eval(pathway)\n",
    "    total_feature_cost = 0\n",
    "    for feat in pathway[:-1]:\n",
    "        feat_score = constants.RISK_FACTORS[feat]\n",
    "        total_feature_cost += feat_score\n",
    "    return total_feature_cost"
   ]
  },
  {
   "cell_type": "code",
   "execution_count": null,
   "id": "34d16a3f",
   "metadata": {},
   "outputs": [],
   "source": [
    "pathway = str(['ana', 'fever','No lupus'])\n",
    "pathway"
   ]
  },
  {
   "cell_type": "code",
   "execution_count": null,
   "id": "5463307f",
   "metadata": {},
   "outputs": [],
   "source": [
    "ast.literal_eval(pathway)"
   ]
  },
  {
   "cell_type": "code",
   "execution_count": null,
   "id": "81bc279f",
   "metadata": {},
   "outputs": [],
   "source": [
    "get_total_feature_costs(pathway)"
   ]
  },
  {
   "cell_type": "markdown",
   "id": "57140bf8",
   "metadata": {},
   "source": [
    "#### To  delete ---- testing something"
   ]
  },
  {
   "cell_type": "code",
   "execution_count": 6,
   "id": "655210bc",
   "metadata": {},
   "outputs": [
    {
     "data": {
      "text/html": [
       "<div>\n",
       "<style scoped>\n",
       "    .dataframe tbody tr th:only-of-type {\n",
       "        vertical-align: middle;\n",
       "    }\n",
       "\n",
       "    .dataframe tbody tr th {\n",
       "        vertical-align: top;\n",
       "    }\n",
       "\n",
       "    .dataframe thead th {\n",
       "        text-align: right;\n",
       "    }\n",
       "</style>\n",
       "<table border=\"1\" class=\"dataframe\">\n",
       "  <thead>\n",
       "    <tr style=\"text-align: right;\">\n",
       "      <th></th>\n",
       "      <th>index</th>\n",
       "      <th>episode_length</th>\n",
       "      <th>reward</th>\n",
       "      <th>y_pred</th>\n",
       "      <th>y_actual</th>\n",
       "      <th>trajectory</th>\n",
       "      <th>terminated</th>\n",
       "      <th>is_success</th>\n",
       "    </tr>\n",
       "  </thead>\n",
       "  <tbody>\n",
       "    <tr>\n",
       "      <th>0</th>\n",
       "      <td>0.0</td>\n",
       "      <td>13.0</td>\n",
       "      <td>0.600000</td>\n",
       "      <td>1.0</td>\n",
       "      <td>1.0</td>\n",
       "      <td>['ana', 'delirium', 'anti_cardioliphin_antibod...</td>\n",
       "      <td>0.0</td>\n",
       "      <td>1.0</td>\n",
       "    </tr>\n",
       "    <tr>\n",
       "      <th>1</th>\n",
       "      <td>1.0</td>\n",
       "      <td>19.0</td>\n",
       "      <td>0.400000</td>\n",
       "      <td>0.0</td>\n",
       "      <td>0.0</td>\n",
       "      <td>['ana', 'delirium', 'anti_cardioliphin_antibod...</td>\n",
       "      <td>0.0</td>\n",
       "      <td>1.0</td>\n",
       "    </tr>\n",
       "    <tr>\n",
       "      <th>2</th>\n",
       "      <td>2.0</td>\n",
       "      <td>15.0</td>\n",
       "      <td>0.533333</td>\n",
       "      <td>1.0</td>\n",
       "      <td>1.0</td>\n",
       "      <td>['ana', 'delirium', 'anti_cardioliphin_antibod...</td>\n",
       "      <td>0.0</td>\n",
       "      <td>1.0</td>\n",
       "    </tr>\n",
       "    <tr>\n",
       "      <th>3</th>\n",
       "      <td>3.0</td>\n",
       "      <td>17.0</td>\n",
       "      <td>0.466667</td>\n",
       "      <td>0.0</td>\n",
       "      <td>0.0</td>\n",
       "      <td>['ana', 'delirium', 'anti_cardioliphin_antibod...</td>\n",
       "      <td>0.0</td>\n",
       "      <td>1.0</td>\n",
       "    </tr>\n",
       "    <tr>\n",
       "      <th>4</th>\n",
       "      <td>4.0</td>\n",
       "      <td>5.0</td>\n",
       "      <td>0.866667</td>\n",
       "      <td>1.0</td>\n",
       "      <td>1.0</td>\n",
       "      <td>['ana', 'delirium', 'anti_cardioliphin_antibod...</td>\n",
       "      <td>0.0</td>\n",
       "      <td>1.0</td>\n",
       "    </tr>\n",
       "  </tbody>\n",
       "</table>\n",
       "</div>"
      ],
      "text/plain": [
       "   index  episode_length    reward  y_pred  y_actual  \\\n",
       "0    0.0            13.0  0.600000     1.0       1.0   \n",
       "1    1.0            19.0  0.400000     0.0       0.0   \n",
       "2    2.0            15.0  0.533333     1.0       1.0   \n",
       "3    3.0            17.0  0.466667     0.0       0.0   \n",
       "4    4.0             5.0  0.866667     1.0       1.0   \n",
       "\n",
       "                                          trajectory  terminated  is_success  \n",
       "0  ['ana', 'delirium', 'anti_cardioliphin_antibod...         0.0         1.0  \n",
       "1  ['ana', 'delirium', 'anti_cardioliphin_antibod...         0.0         1.0  \n",
       "2  ['ana', 'delirium', 'anti_cardioliphin_antibod...         0.0         1.0  \n",
       "3  ['ana', 'delirium', 'anti_cardioliphin_antibod...         0.0         1.0  \n",
       "4  ['ana', 'delirium', 'anti_cardioliphin_antibod...         0.0         1.0  "
      ]
     },
     "execution_count": 6,
     "metadata": {},
     "output_type": "execute_result"
    }
   ],
   "source": [
    "df = pd.read_csv('../test_dfs/dueling_ddqn_per_biopsy_with_cost_63_100000000.csv')\n",
    "df.head()"
   ]
  },
  {
   "cell_type": "code",
   "execution_count": 8,
   "id": "064659bd",
   "metadata": {},
   "outputs": [],
   "source": [
    "# df['score'] = df.apply(lambda row: utils.total_acc_feature_score(row), axis=1)\n",
    "# df.head(10)"
   ]
  },
  {
   "cell_type": "code",
   "execution_count": null,
   "id": "1d831693",
   "metadata": {},
   "outputs": [],
   "source": [
    "# df.score.mean()"
   ]
  },
  {
   "cell_type": "code",
   "execution_count": 10,
   "id": "c24c780b",
   "metadata": {},
   "outputs": [
    {
     "data": {
      "text/plain": [
       "9.294030281499008"
      ]
     },
     "execution_count": 10,
     "metadata": {},
     "output_type": "execute_result"
    }
   ],
   "source": [
    "utils.total_acc_feature_score(df)/len(df)"
   ]
  },
  {
   "cell_type": "code",
   "execution_count": null,
   "id": "ce3a22da",
   "metadata": {},
   "outputs": [],
   "source": []
  }
 ],
 "metadata": {
  "kernelspec": {
   "display_name": "Python 3 (ipykernel)",
   "language": "python",
   "name": "python3"
  },
  "language_info": {
   "codemirror_mode": {
    "name": "ipython",
    "version": 3
   },
   "file_extension": ".py",
   "mimetype": "text/x-python",
   "name": "python",
   "nbconvert_exporter": "python",
   "pygments_lexer": "ipython3",
   "version": "3.7.4"
  }
 },
 "nbformat": 4,
 "nbformat_minor": 5
}

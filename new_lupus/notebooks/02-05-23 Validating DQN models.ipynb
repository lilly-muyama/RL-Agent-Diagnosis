{
 "cells": [
  {
   "cell_type": "code",
   "execution_count": 1,
   "id": "a3935319",
   "metadata": {},
   "outputs": [
    {
     "name": "stderr",
     "output_type": "stream",
     "text": [
      "/home/lmuyama/anaconda3/envs/stable_baselines_tf2_env/lib/python3.7/site-packages/tensorflow/python/framework/dtypes.py:526: FutureWarning: Passing (type, 1) or '1type' as a synonym of type is deprecated; in a future version of numpy, it will be understood as (type, (1,)) / '(1,)type'.\n",
      "  _np_qint8 = np.dtype([(\"qint8\", np.int8, 1)])\n",
      "/home/lmuyama/anaconda3/envs/stable_baselines_tf2_env/lib/python3.7/site-packages/tensorflow/python/framework/dtypes.py:527: FutureWarning: Passing (type, 1) or '1type' as a synonym of type is deprecated; in a future version of numpy, it will be understood as (type, (1,)) / '(1,)type'.\n",
      "  _np_quint8 = np.dtype([(\"quint8\", np.uint8, 1)])\n",
      "/home/lmuyama/anaconda3/envs/stable_baselines_tf2_env/lib/python3.7/site-packages/tensorflow/python/framework/dtypes.py:528: FutureWarning: Passing (type, 1) or '1type' as a synonym of type is deprecated; in a future version of numpy, it will be understood as (type, (1,)) / '(1,)type'.\n",
      "  _np_qint16 = np.dtype([(\"qint16\", np.int16, 1)])\n",
      "/home/lmuyama/anaconda3/envs/stable_baselines_tf2_env/lib/python3.7/site-packages/tensorflow/python/framework/dtypes.py:529: FutureWarning: Passing (type, 1) or '1type' as a synonym of type is deprecated; in a future version of numpy, it will be understood as (type, (1,)) / '(1,)type'.\n",
      "  _np_quint16 = np.dtype([(\"quint16\", np.uint16, 1)])\n",
      "/home/lmuyama/anaconda3/envs/stable_baselines_tf2_env/lib/python3.7/site-packages/tensorflow/python/framework/dtypes.py:530: FutureWarning: Passing (type, 1) or '1type' as a synonym of type is deprecated; in a future version of numpy, it will be understood as (type, (1,)) / '(1,)type'.\n",
      "  _np_qint32 = np.dtype([(\"qint32\", np.int32, 1)])\n",
      "/home/lmuyama/anaconda3/envs/stable_baselines_tf2_env/lib/python3.7/site-packages/tensorflow/python/framework/dtypes.py:535: FutureWarning: Passing (type, 1) or '1type' as a synonym of type is deprecated; in a future version of numpy, it will be understood as (type, (1,)) / '(1,)type'.\n",
      "  np_resource = np.dtype([(\"resource\", np.ubyte, 1)])\n",
      "Invalid MIT-MAGIC-COOKIE-1 key/home/lmuyama/anaconda3/envs/stable_baselines_tf2_env/lib/python3.7/site-packages/stable_baselines/__init__.py:33: UserWarning: stable-baselines is in maintenance mode, please use [Stable-Baselines3 (SB3)](https://github.com/DLR-RM/stable-baselines3) for an up-to-date version. You can find a [migration guide](https://stable-baselines3.readthedocs.io/en/master/guide/migration.html) in SB3 documentation.\n",
      "  \"stable-baselines is in maintenance mode, please use [Stable-Baselines3 (SB3)](https://github.com/DLR-RM/stable-baselines3) for an up-to-date version. You can find a [migration guide](https://stable-baselines3.readthedocs.io/en/master/guide/migration.html) in SB3 documentation.\"\n"
     ]
    }
   ],
   "source": [
    "import pandas as pd\n",
    "import numpy as np\n",
    "import random\n",
    "import tensorflow as tf\n",
    "from os.path import isfile, join\n",
    "import os\n",
    "import ast\n",
    "from stable_baselines import DQN\n",
    "import sys\n",
    "sys.path.append('..')\n",
    "from modules import utils, constants\n",
    "from multiprocessing import Process\n",
    "from stable_baselines.common.vec_env import DummyVecEnv\n",
    "from modules.env import LupusEnv\n",
    "import warnings\n",
    "warnings.filterwarnings('ignore')"
   ]
  },
  {
   "cell_type": "code",
   "execution_count": 2,
   "id": "9582b57d",
   "metadata": {},
   "outputs": [
    {
     "data": {
      "text/plain": [
       "42"
      ]
     },
     "execution_count": 2,
     "metadata": {},
     "output_type": "execute_result"
    }
   ],
   "source": [
    "# SEED = constants.SEED\n",
    "SEED = 42\n",
    "random.seed(SEED)\n",
    "np.random.seed(SEED)\n",
    "os.environ['PYTHONHASHSEED']=str(SEED)\n",
    "tf.set_random_seed(constants.SEED)\n",
    "tf.compat.v1.set_random_seed(constants.SEED)\n",
    "SEED"
   ]
  },
  {
   "cell_type": "markdown",
   "id": "456c47b6",
   "metadata": {},
   "source": [
    "#### Reading the data"
   ]
  },
  {
   "cell_type": "code",
   "execution_count": 3,
   "id": "78d5468d",
   "metadata": {},
   "outputs": [
    {
     "data": {
      "text/html": [
       "<div>\n",
       "<style scoped>\n",
       "    .dataframe tbody tr th:only-of-type {\n",
       "        vertical-align: middle;\n",
       "    }\n",
       "\n",
       "    .dataframe tbody tr th {\n",
       "        vertical-align: top;\n",
       "    }\n",
       "\n",
       "    .dataframe thead th {\n",
       "        text-align: right;\n",
       "    }\n",
       "</style>\n",
       "<table border=\"1\" class=\"dataframe\">\n",
       "  <thead>\n",
       "    <tr style=\"text-align: right;\">\n",
       "      <th></th>\n",
       "      <th>ana</th>\n",
       "      <th>fever</th>\n",
       "      <th>leukopenia</th>\n",
       "      <th>thrombocytopenia</th>\n",
       "      <th>auto_immune_hemolysis</th>\n",
       "      <th>delirium</th>\n",
       "      <th>psychosis</th>\n",
       "      <th>seizure</th>\n",
       "      <th>non_scarring_alopecia</th>\n",
       "      <th>oral_ulcers</th>\n",
       "      <th>...</th>\n",
       "      <th>joint_involvement</th>\n",
       "      <th>proteinuria</th>\n",
       "      <th>anti_cardioliphin_antibodies</th>\n",
       "      <th>anti_β2gp1_antibodies</th>\n",
       "      <th>lupus_anti_coagulant</th>\n",
       "      <th>low_c3</th>\n",
       "      <th>low_c4</th>\n",
       "      <th>anti_dsdna_antibody</th>\n",
       "      <th>anti_smith_antibody</th>\n",
       "      <th>label</th>\n",
       "    </tr>\n",
       "  </thead>\n",
       "  <tbody>\n",
       "    <tr>\n",
       "      <th>0</th>\n",
       "      <td>1</td>\n",
       "      <td>0</td>\n",
       "      <td>0</td>\n",
       "      <td>0</td>\n",
       "      <td>0</td>\n",
       "      <td>0</td>\n",
       "      <td>0</td>\n",
       "      <td>0</td>\n",
       "      <td>1</td>\n",
       "      <td>0</td>\n",
       "      <td>...</td>\n",
       "      <td>0</td>\n",
       "      <td>0</td>\n",
       "      <td>0</td>\n",
       "      <td>0</td>\n",
       "      <td>0</td>\n",
       "      <td>0</td>\n",
       "      <td>1</td>\n",
       "      <td>1</td>\n",
       "      <td>0</td>\n",
       "      <td>1</td>\n",
       "    </tr>\n",
       "    <tr>\n",
       "      <th>1</th>\n",
       "      <td>1</td>\n",
       "      <td>1</td>\n",
       "      <td>0</td>\n",
       "      <td>0</td>\n",
       "      <td>0</td>\n",
       "      <td>0</td>\n",
       "      <td>0</td>\n",
       "      <td>0</td>\n",
       "      <td>0</td>\n",
       "      <td>0</td>\n",
       "      <td>...</td>\n",
       "      <td>0</td>\n",
       "      <td>0</td>\n",
       "      <td>0</td>\n",
       "      <td>0</td>\n",
       "      <td>0</td>\n",
       "      <td>0</td>\n",
       "      <td>0</td>\n",
       "      <td>0</td>\n",
       "      <td>0</td>\n",
       "      <td>0</td>\n",
       "    </tr>\n",
       "    <tr>\n",
       "      <th>2</th>\n",
       "      <td>0</td>\n",
       "      <td>0</td>\n",
       "      <td>0</td>\n",
       "      <td>0</td>\n",
       "      <td>0</td>\n",
       "      <td>0</td>\n",
       "      <td>0</td>\n",
       "      <td>0</td>\n",
       "      <td>0</td>\n",
       "      <td>0</td>\n",
       "      <td>...</td>\n",
       "      <td>1</td>\n",
       "      <td>0</td>\n",
       "      <td>0</td>\n",
       "      <td>0</td>\n",
       "      <td>0</td>\n",
       "      <td>0</td>\n",
       "      <td>0</td>\n",
       "      <td>0</td>\n",
       "      <td>0</td>\n",
       "      <td>0</td>\n",
       "    </tr>\n",
       "    <tr>\n",
       "      <th>3</th>\n",
       "      <td>0</td>\n",
       "      <td>0</td>\n",
       "      <td>0</td>\n",
       "      <td>0</td>\n",
       "      <td>0</td>\n",
       "      <td>0</td>\n",
       "      <td>0</td>\n",
       "      <td>0</td>\n",
       "      <td>0</td>\n",
       "      <td>1</td>\n",
       "      <td>...</td>\n",
       "      <td>0</td>\n",
       "      <td>0</td>\n",
       "      <td>0</td>\n",
       "      <td>0</td>\n",
       "      <td>0</td>\n",
       "      <td>0</td>\n",
       "      <td>0</td>\n",
       "      <td>0</td>\n",
       "      <td>0</td>\n",
       "      <td>0</td>\n",
       "    </tr>\n",
       "    <tr>\n",
       "      <th>4</th>\n",
       "      <td>1</td>\n",
       "      <td>0</td>\n",
       "      <td>0</td>\n",
       "      <td>0</td>\n",
       "      <td>0</td>\n",
       "      <td>1</td>\n",
       "      <td>0</td>\n",
       "      <td>0</td>\n",
       "      <td>1</td>\n",
       "      <td>0</td>\n",
       "      <td>...</td>\n",
       "      <td>0</td>\n",
       "      <td>1</td>\n",
       "      <td>0</td>\n",
       "      <td>1</td>\n",
       "      <td>1</td>\n",
       "      <td>0</td>\n",
       "      <td>0</td>\n",
       "      <td>0</td>\n",
       "      <td>0</td>\n",
       "      <td>1</td>\n",
       "    </tr>\n",
       "  </tbody>\n",
       "</table>\n",
       "<p>5 rows × 24 columns</p>\n",
       "</div>"
      ],
      "text/plain": [
       "   ana  fever  leukopenia  thrombocytopenia  auto_immune_hemolysis  delirium  \\\n",
       "0    1      0           0                 0                      0         0   \n",
       "1    1      1           0                 0                      0         0   \n",
       "2    0      0           0                 0                      0         0   \n",
       "3    0      0           0                 0                      0         0   \n",
       "4    1      0           0                 0                      0         1   \n",
       "\n",
       "   psychosis  seizure  non_scarring_alopecia  oral_ulcers  ...  \\\n",
       "0          0        0                      1            0  ...   \n",
       "1          0        0                      0            0  ...   \n",
       "2          0        0                      0            0  ...   \n",
       "3          0        0                      0            1  ...   \n",
       "4          0        0                      1            0  ...   \n",
       "\n",
       "   joint_involvement  proteinuria  anti_cardioliphin_antibodies  \\\n",
       "0                  0            0                             0   \n",
       "1                  0            0                             0   \n",
       "2                  1            0                             0   \n",
       "3                  0            0                             0   \n",
       "4                  0            1                             0   \n",
       "\n",
       "   anti_β2gp1_antibodies  lupus_anti_coagulant  low_c3  low_c4  \\\n",
       "0                      0                     0       0       1   \n",
       "1                      0                     0       0       0   \n",
       "2                      0                     0       0       0   \n",
       "3                      0                     0       0       0   \n",
       "4                      1                     1       0       0   \n",
       "\n",
       "   anti_dsdna_antibody  anti_smith_antibody  label  \n",
       "0                    1                    0      1  \n",
       "1                    0                    0      0  \n",
       "2                    0                    0      0  \n",
       "3                    0                    0      0  \n",
       "4                    0                    0      1  \n",
       "\n",
       "[5 rows x 24 columns]"
      ]
     },
     "execution_count": 3,
     "metadata": {},
     "output_type": "execute_result"
    }
   ],
   "source": [
    "val_df = pd.read_csv('../data/val_set_constant.csv')\n",
    "val_df.head()"
   ]
  },
  {
   "cell_type": "code",
   "execution_count": 4,
   "id": "47e8bcbf",
   "metadata": {},
   "outputs": [
    {
     "data": {
      "text/plain": [
       "((5600, 23), (5600,))"
      ]
     },
     "execution_count": 4,
     "metadata": {},
     "output_type": "execute_result"
    }
   ],
   "source": [
    "X_val = val_df.iloc[:, 0:-1]\n",
    "y_val = val_df.iloc[:, -1]\n",
    "X_val, y_val = np.array(X_val), np.array(y_val)\n",
    "X_val.shape, y_val.shape"
   ]
  },
  {
   "cell_type": "markdown",
   "id": "81987049",
   "metadata": {},
   "source": [
    "#### start here"
   ]
  },
  {
   "cell_type": "code",
   "execution_count": 5,
   "id": "eb27fa94",
   "metadata": {},
   "outputs": [],
   "source": [
    "# best_f1, best_acc, best_roc_auc = -1, -1, -1\n",
    "# perf_list = []\n",
    "# count = 0\n",
    "# model_name = 'dqn'\n",
    "# seed = SEED\n",
    "# prefix= 'dqn'\n",
    "# folder = f'../models/logs/{model_name}/seed_{seed}_{steps}'    "
   ]
  },
  {
   "cell_type": "code",
   "execution_count": 6,
   "id": "fdc9426e",
   "metadata": {},
   "outputs": [],
   "source": [
    "# item = os.listdir(folder)[0]\n",
    "# item"
   ]
  },
  {
   "cell_type": "code",
   "execution_count": 7,
   "id": "4bb8b8e9",
   "metadata": {},
   "outputs": [],
   "source": [
    "# if item.startswith(prefix):\n",
    "#     path= join(folder, item)\n",
    "#     print(path)\n",
    "#     if (isfile(path)) & (path.endswith('.zip')):\n",
    "#         val_env = DummyVecEnv([lambda: LupusEnv(X_val, y_val, random=False)])\n",
    "#         val_env.seed(seed)\n",
    "#         print(type(val_env))\n",
    "#         model = utils.load_dqn(path, val_env)\n",
    "#         print(type(model))"
   ]
  },
  {
   "cell_type": "markdown",
   "id": "62d57654",
   "metadata": {},
   "source": [
    "#### end here"
   ]
  },
  {
   "cell_type": "code",
   "execution_count": 8,
   "id": "89814c13",
   "metadata": {},
   "outputs": [],
   "source": [
    "# def get_val_metrics(model, validation_env):\n",
    "#     val_df = pd.DataFrame()\n",
    "#     try:\n",
    "#         while True:\n",
    "#             obs, done = validation_env.reset(), False\n",
    "#             while not done:\n",
    "#                 action, states = model.predict(obs, deterministic=True)\n",
    "#                 obs, rew, done, info = validation_env.step(action)\n",
    "#                 if done==True:\n",
    "#                     val_df = val_df.append(info, ignore_index=True)\n",
    "\n",
    "#     except StopIteration:\n",
    "#         pass\n",
    "#     acc, f1, roc_auc, = test(val_df['y_actual'], val_df['y_pred'])\n",
    "#     min_path_length = val_df.episode_length.min()\n",
    "#     average_path_length = val_df.episode_length.mean()\n",
    "#     max_path_length = val_df.episode_length.max()\n",
    "#     min_pathway = val_df[val_df.episode_length==min_path_length].trajectory.iloc[0]\n",
    "#     max_pathway = val_df[val_df.episode_length==max_path_length].trajectory.iloc[0]\n",
    "#     return acc, f1, roc_auc, min_path_length, average_path_length, max_path_length, min_pathway, max_pathway"
   ]
  },
  {
   "cell_type": "code",
   "execution_count": 9,
   "id": "c35f99af",
   "metadata": {},
   "outputs": [],
   "source": [
    "def get_steps(filename, prefix):\n",
    "    try:\n",
    "        return int(filename[len(prefix)+1:][:-10])\n",
    "    except Exception as e:\n",
    "        print(f'Filename: {filename}')\n",
    "        print(f'Exception: {e}')"
   ]
  },
  {
   "cell_type": "code",
   "execution_count": 10,
   "id": "1721b86b",
   "metadata": {},
   "outputs": [],
   "source": [
    "# def check_pathway(pathway):\n",
    "#     try:\n",
    "#         pathway = ast.literal_eval(pathway)\n",
    "#     except:\n",
    "#         pass\n",
    "#     return len(pathway), pathway[0] "
   ]
  },
  {
   "cell_type": "code",
   "execution_count": 11,
   "id": "baa1b5d7",
   "metadata": {},
   "outputs": [],
   "source": [
    "# get_steps('dqn_66000000_steps.zip', 'dqn')"
   ]
  },
  {
   "cell_type": "code",
   "execution_count": 12,
   "id": "303e2389",
   "metadata": {},
   "outputs": [],
   "source": [
    "def validate_model(model_name, seed, steps, X_val, y_val, prefix):\n",
    "    best_f1, best_acc, best_roc_auc = -1, -1, -1\n",
    "    perf_list = []\n",
    "    count = 0\n",
    "    \n",
    "    folder = f'../models/logs/{model_name}/risk_factor/seed_{seed}_{steps}'    \n",
    "    for item in os.listdir(folder):\n",
    "#         print(item)\n",
    "        count+=1\n",
    "        if count%10 == 0:\n",
    "            print(count)\n",
    "        if item.startswith(prefix):\n",
    "#             print('MODELS FOUND')\n",
    "            path = join(folder, item)\n",
    "#             print(path)\n",
    "            if (isfile(path)) & (path.endswith('.zip')):\n",
    "#                 print(f'ZIPPED MODELS FOUND at {path}')\n",
    "#                 validation_env.observation_space = Box(0, 3, (constants.FEATURE_NUM,))\n",
    "#                 print('LOADING MODEL ..')\n",
    "                val_env = DummyVecEnv([lambda: LupusEnv(X_val, y_val, random=False)])\n",
    "                val_env.seed(seed)\n",
    "#                 print(f'ENVIRONMENT TYPE:{type(val_env)}')\n",
    "                model = utils.load_dqn(path, val_env)\n",
    "#                 print(type(model))\n",
    "#                 print(f'MODEL TYPE: {type(model)}')\n",
    "#                 print(f'MODEL LOADED: {model}')\n",
    "                acc, f1, roc_auc, min_length, avg_length, max_length, min_path, max_path = utils.get_val_metrics(\n",
    "                    model, val_env)\n",
    "#                 print(f'ACCURACY FOR {path} IS {acc}')\n",
    "                perf_dict = {'steps': get_steps(item, prefix), 'acc':acc, 'f1':f1, 'roc_auc':roc_auc, \n",
    "                             'min_path_length':min_length, 'avg_length':avg_length, 'max_length':max_length, \n",
    "                             'min_path':min_path, 'max_path':max_path} \n",
    "                perf_list.append(perf_dict)\n",
    "                if acc > best_acc:\n",
    "#                     print('SAVING BEST ACC MODEL')\n",
    "                    best_acc = acc\n",
    "                    model.save(f'{folder}/best_acc_model')\n",
    "                if f1 > best_f1:\n",
    "                    best_f1 = f1\n",
    "                    model.save(f'{folder}/best_f1_model')\n",
    "                if roc_auc > best_roc_auc:\n",
    "                    best_roc_auc = roc_auc\n",
    "                    model.save(f'{folder}/best_roc_auc_model')\n",
    "                    \n",
    "        val_df = pd.DataFrame.from_dict(perf_list) \n",
    "        val_df = val_df.sort_values(by=['steps'])\n",
    "        val_df = val_df.reset_index(drop=True)\n",
    "        val_df.to_csv(f'{folder}/validation_results.csv', index=False)\n",
    "    return val_df          "
   ]
  },
  {
   "cell_type": "code",
   "execution_count": 13,
   "id": "343c4872",
   "metadata": {},
   "outputs": [],
   "source": [
    "# names = ['dqn', 'ddqn', 'dueling_dqn', 'dueling_ddqn', 'dqn_per', 'ddqn_per', 'dueling_dqn_per', 'dueling_ddqn_per']\n",
    "# for name in names[1:]:\n",
    "#     print(f'{name.upper()} STARTING!')\n",
    "#     eval_df = validate_model(name, SEED, steps, X_val, y_val, name)\n",
    "# # eval_df.head()"
   ]
  },
  {
   "cell_type": "code",
   "execution_count": 14,
   "id": "f199db19",
   "metadata": {},
   "outputs": [],
   "source": [
    "# models = ['dqn', 'ddqn', 'dueling_dqn', 'dueling_ddqn', 'dqn_per', 'ddqn_per', 'dueling_dqn_per', \n",
    "#'dueling_ddqn_per']\n",
    "models = ['dqn_per']\n",
    "steps =int(10e7)\n",
    "procs=[]"
   ]
  },
  {
   "cell_type": "code",
   "execution_count": 15,
   "id": "a49f0a2c",
   "metadata": {},
   "outputs": [
    {
     "name": "stdout",
     "output_type": "stream",
     "text": [
      "WARNING:tensorflow:From /home/lmuyama/anaconda3/envs/stable_baselines_tf2_env/lib/python3.7/site-packages/tensorflow/python/framework/op_def_library.py:263: colocate_with (from tensorflow.python.framework.ops) is deprecated and will be removed in a future version.\n",
      "Instructions for updating:\n",
      "Colocations handled automatically by placer.\n",
      "WARNING:tensorflow:From /home/lmuyama/anaconda3/envs/stable_baselines_tf2_env/lib/python3.7/site-packages/stable_baselines/deepq/policies.py:109: flatten (from tensorflow.python.layers.core) is deprecated and will be removed in a future version.\n",
      "Instructions for updating:\n",
      "Use keras.layers.flatten instead.\n",
      "WARNING:tensorflow:From /home/lmuyama/anaconda3/envs/stable_baselines_tf2_env/lib/python3.7/site-packages/tensorflow/python/ops/math_ops.py:3066: to_int32 (from tensorflow.python.ops.math_ops) is deprecated and will be removed in a future version.\n",
      "Instructions for updating:\n",
      "Use tf.cast instead.\n",
      "10\n",
      "20\n",
      "30\n",
      "40\n",
      "50\n",
      "60\n",
      "70\n",
      "80\n",
      "90\n",
      "100\n"
     ]
    }
   ],
   "source": [
    "for name in models:\n",
    "    proc = Process(target=validate_model, args=(name, SEED, steps, X_val, y_val, name))\n",
    "    procs.append(proc)\n",
    "    proc.start()"
   ]
  },
  {
   "cell_type": "code",
   "execution_count": 16,
   "id": "22ca953b",
   "metadata": {},
   "outputs": [
    {
     "name": "stdout",
     "output_type": "stream",
     "text": [
      "All jobs completed and terminated successfully\n"
     ]
    }
   ],
   "source": [
    "for proc in procs:\n",
    "    proc.join()\n",
    "print('All jobs completed and terminated successfully')"
   ]
  },
  {
   "cell_type": "code",
   "execution_count": null,
   "id": "16f7bdfc",
   "metadata": {},
   "outputs": [],
   "source": []
  },
  {
   "cell_type": "code",
   "execution_count": null,
   "id": "deaef113",
   "metadata": {},
   "outputs": [],
   "source": []
  }
 ],
 "metadata": {
  "kernelspec": {
   "display_name": "Python 3 (ipykernel)",
   "language": "python",
   "name": "python3"
  },
  "language_info": {
   "codemirror_mode": {
    "name": "ipython",
    "version": 3
   },
   "file_extension": ".py",
   "mimetype": "text/x-python",
   "name": "python",
   "nbconvert_exporter": "python",
   "pygments_lexer": "ipython3",
   "version": "3.7.4"
  }
 },
 "nbformat": 4,
 "nbformat_minor": 5
}

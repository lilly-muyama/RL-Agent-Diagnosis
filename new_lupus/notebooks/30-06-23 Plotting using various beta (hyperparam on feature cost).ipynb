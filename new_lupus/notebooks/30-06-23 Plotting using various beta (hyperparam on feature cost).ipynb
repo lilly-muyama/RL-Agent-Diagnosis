{
 "cells": [
  {
   "cell_type": "code",
   "execution_count": 1,
   "id": "adfb047f",
   "metadata": {},
   "outputs": [],
   "source": [
    "import pandas as pd\n",
    "import numpy as np\n",
    "import matplotlib.pyplot as plt\n",
    "import seaborn as sns\n",
    "import plotly.express as px\n",
    "import plotly.graph_objs as go"
   ]
  },
  {
   "cell_type": "markdown",
   "id": "05b73e0b",
   "metadata": {},
   "source": [
    "#### Plot accuracy score against different betas"
   ]
  },
  {
   "cell_type": "code",
   "execution_count": 2,
   "id": "7c18f8f4",
   "metadata": {},
   "outputs": [],
   "source": [
    "# colours = ['#FF1493', '#8A2BE2'] #deeppink, blueviolet\n",
    "colours = ['#B22222', '#0000FF'] #firebrick, blue"
   ]
  },
  {
   "cell_type": "code",
   "execution_count": 3,
   "id": "d2d8a3b7",
   "metadata": {},
   "outputs": [],
   "source": [
    "# # convert plotly hex colors to rgba to enable transparency adjustments\n",
    "def hex_rgba(hex, transparency):\n",
    "    col_hex = hex.lstrip('#')\n",
    "    col_rgb = list(int(col_hex[i:i+2], 16) for i in (0, 2, 4))\n",
    "    col_rgb.extend([transparency])\n",
    "    areacol = tuple(col_rgb)\n",
    "    return areacol\n",
    "\n",
    "rgba = [hex_rgba(c, transparency=0.4) for c in colours]\n",
    "colCycle = ['rgba'+str(elem) for elem in rgba]\n",
    "# line_colours = ['rgb(255, 20, 147, 1)', 'rgb(138, 43, 226, 1)']\n",
    "# fill_colours = ['rgb(255, 20, 147, 0.1)', 'rgb(138, 43, 226, 0.1)']\n",
    "# colCycle = ['DeepPink','BlueViolet']# 'MediumTurquoise', 'BlueViolet', 'MediumAquamarine', 'Gold', 'LightSalmon', 'IndianRed']"
   ]
  },
  {
   "cell_type": "code",
   "execution_count": 4,
   "id": "c97e707d",
   "metadata": {},
   "outputs": [],
   "source": [
    "# Make sure the colors run in cycles if there are more lines than colors\n",
    "def next_col(cols):\n",
    "    while True:\n",
    "        for col in cols:\n",
    "            yield col\n",
    "line_color=next_col(cols=colCycle)"
   ]
  },
  {
   "cell_type": "code",
   "execution_count": 5,
   "id": "66e7bca5",
   "metadata": {},
   "outputs": [],
   "source": [
    "def plot_fig(means, stds, betas, title='Accuracy using different betas', ylabel='Accuracy', xlabel='Beta'):\n",
    "    fig = go.Figure()\n",
    "\n",
    "    # add line and shaded area for each series and standards deviation\n",
    "    for i, model in enumerate(['dueling_dqn_per', 'dueling_ddqn_per']):\n",
    "    #     line_col = line_colours[i]\n",
    "    #     fill_col = fill_colours[i]\n",
    "        new_col = next(line_color)\n",
    "        x = betas\n",
    "        y = means[model]\n",
    "        std = stds[model]\n",
    "        upper = [y[i]+1.96*std[i] for i in range(len(y))]\n",
    "        lower = [y[i]-1.96*std[i] for i in range(len(y))]\n",
    "\n",
    "        fig.add_traces(go.Scatter(x=x,\n",
    "                                  y=y,\n",
    "                                  line=dict(color=new_col, width=2.5),\n",
    "                                  mode='lines',\n",
    "                                  name=model)\n",
    "                                    )\n",
    "\n",
    "        fig.add_traces(go.Scatter(x=x+x[::-1],\n",
    "                                  y=upper+lower[::-1],\n",
    "    #                               fill='tozerox',\n",
    "                                  fill='toself',\n",
    "                                  fillcolor=new_col,\n",
    "                                  line=dict(color='rgba(255,255,255,0)'),\n",
    "                                  showlegend=False,\n",
    "                                  hoverinfo='skip',\n",
    "                                  name=model))\n",
    "\n",
    "#     fig.layout.xaxis.range = [1, 5]\n",
    "    fig.layout.yaxis.range = [0, 100]\n",
    "\n",
    "    fig.update_layout(title=title,\n",
    "                      title_x=0.4,  \n",
    "                      title_font_size=24, \n",
    "                      title_font_family='Courier New, monospace', \n",
    "                      font = dict(family='Courier New, monospace', size=16),\n",
    "                      xaxis_title=xlabel,\n",
    "                      yaxis_title=ylabel,)\n",
    "\n",
    "    fig.show()"
   ]
  },
  {
   "cell_type": "code",
   "execution_count": 6,
   "id": "4598a118",
   "metadata": {},
   "outputs": [],
   "source": [
    "def plot_multi_fig(means, stds, betas, names, colors, title='Accuracy using different betas', ylabel='Accuracy', xlabel='Beta'):\n",
    "    fig = go.Figure()\n",
    "\n",
    "    # add line and shaded area for each series and standards deviation\n",
    "    for i in range(len(means)):\n",
    "        new_col = colors[i]\n",
    "        x = betas\n",
    "        y = means[i]\n",
    "#         std = stds[i]\n",
    "#         upper = [y[i]+1.96*std[i] for i in range(len(y))]\n",
    "#         lower = [y[i]-1.96*std[i] for i in range(len(y))]\n",
    "\n",
    "        fig.add_traces(go.Scatter(x=x,\n",
    "                                  y=y,\n",
    "                                  line=dict(color=new_col, width=2.5),\n",
    "                                  mode='lines',\n",
    "                                  name=names[i])\n",
    "                                    )\n",
    "\n",
    "#         fig.add_traces(go.Scatter(x=x+x[::-1],\n",
    "#                                   y=upper+lower[::-1],\n",
    "#                                   fill='toself',\n",
    "#                                   fillcolor=new_col,\n",
    "#                                   line=dict(color='rgba(255,255,255,0)'),\n",
    "#                                   showlegend=False,\n",
    "#                                   hoverinfo='skip',\n",
    "#                                   name=names[i]))\n",
    "\n",
    "#     fig.layout.xaxis.range = [1, 5]\n",
    "    fig.layout.yaxis.range = [0, 100]\n",
    "\n",
    "    fig.update_layout(title=title,\n",
    "                      title_x=0.4,  \n",
    "                      title_font_size=24, \n",
    "                      title_font_family='Courier New, monospace', \n",
    "                      font = dict(family='Courier New, monospace', size=16),\n",
    "                      xaxis_title=xlabel,\n",
    "                      yaxis_title=ylabel,)\n",
    "\n",
    "    fig.show()"
   ]
  },
  {
   "cell_type": "markdown",
   "id": "dffd2680",
   "metadata": {},
   "source": [
    "#### Mean accuracy for models with the best accuracy"
   ]
  },
  {
   "cell_type": "code",
   "execution_count": 7,
   "id": "b26f9024",
   "metadata": {},
   "outputs": [],
   "source": [
    "# betas = [1, 1.5, 2, 2.5, 3]\n",
    "# beta_acc_means = {'dueling_dqn_per': [92.903, 95.667, 96.367, 97.06, 97.014], \n",
    "#                   'dueling_ddqn_per': [88.851, 92.786, 95.158, 95.802, 95.944]}\n",
    "# beta_acc_stds = {'dueling_dqn_per': [0.315, 0.303, 0.250, 0.352, 0.316], \n",
    "#                'dueling_ddqn_per': [0.925, 0.663, 0.679, 0.629, 0.459]}\n",
    "\n",
    "betas = [1, 3, 5, 7, 9]\n",
    "beta_acc_means = {'dueling_dqn_per': [93.120, 97.147, 98.2, 98.676, 99.007], \n",
    "                  'dueling_ddqn_per': [88.251, 95.944, 96.947, 97.82, 98.479]}\n",
    "beta_acc_stds = {'dueling_dqn_per': [0.259, 0.138, 0.660, 0.090, 0.235], \n",
    "                 'dueling_ddqn_per': [1.194, 0.459, 0.449, 0.880, 0.533]}"
   ]
  },
  {
   "cell_type": "code",
   "execution_count": 8,
   "id": "47165b96",
   "metadata": {},
   "outputs": [],
   "source": [
    "# plot_fig(beta_acc_means, beta_acc_stds, betas, title='Mean accuracy of best accuracy models')"
   ]
  },
  {
   "cell_type": "markdown",
   "id": "8eb2de49",
   "metadata": {},
   "source": [
    "#### Mean accuracy for models with the best pathway score"
   ]
  },
  {
   "cell_type": "code",
   "execution_count": 9,
   "id": "79c91b4f",
   "metadata": {},
   "outputs": [],
   "source": [
    "# beta_path_means = {'dueling_dqn_per': [78.671, 86.011, 90.627, 93.259, 92.716], \n",
    "#                    'dueling_ddqn_per': [78.671, 79.690, 79.220, 79.503, 80.818]}\n",
    "# beta_path_stds = {'dueling_dqn_per': [0.000, 1.798, 4.695, 1.500, 2.514], \n",
    "#                   'dueling_ddqn_per': [0.000, 1.398, 5.748, 7.274, 7.047]}\n",
    "\n",
    "# beta_path_means = {'dueling_dqn_per': [78.671, 92.716, 95.824], \n",
    "#                    'dueling_ddqn_per': [78.671, 80.818, 86.079]}\n",
    "# beta_path_stds = {'dueling_dqn_per': [0.000, 2.514, 0.532], \n",
    "#                   'dueling_ddqn_per': [0.000, 7.047, 5.465]}"
   ]
  },
  {
   "cell_type": "code",
   "execution_count": 10,
   "id": "b7b244fe",
   "metadata": {},
   "outputs": [],
   "source": [
    "# plot_fig(beta_path_means, beta_path_stds, betas, title='Mean accuracy of best path score models')"
   ]
  },
  {
   "cell_type": "markdown",
   "id": "385fc0bd",
   "metadata": {},
   "source": [
    "#### Mean accuracy for models with the best pahm score"
   ]
  },
  {
   "cell_type": "code",
   "execution_count": 11,
   "id": "ae9b8c89",
   "metadata": {},
   "outputs": [],
   "source": [
    "# beta_pahm_means = {'dueling_dqn_per': [87.090, 88.410, 90.627, 93.259, 92.716], \n",
    "#                    'dueling_ddqn_per': [86.143, 86.820, 87.433, 87.917, 88.826]}\n",
    "# beta_pahm_stds = {'dueling_dqn_per': [1.085, 2.826, 4.695, 1.500, 1.705], \n",
    "#                   'dueling_ddqn_per': [0.000, 0.680, 1.480, 1.323, 1.665, ]}\n",
    "beta_pahm_means = {'dueling_dqn_per': [87.090, 92.716, 95.824, 94.066, 94.237], \n",
    "                   'dueling_ddqn_per': [86.143, 88.826, 86.656, 89.168, 88.640]}\n",
    "beta_pahm_stds = {'dueling_dqn_per': [1.085, 2.514, 0.532, 4.008, 5.241], \n",
    "                  'dueling_ddqn_per': [0.000, 1.665, 5.773, 5.895, 6.235]}"
   ]
  },
  {
   "cell_type": "code",
   "execution_count": 12,
   "id": "940c805c",
   "metadata": {},
   "outputs": [],
   "source": [
    "# plot_fig(beta_pahm_means, beta_pahm_stds, betas, title='Mean accuracy of best pahm score models')"
   ]
  },
  {
   "cell_type": "markdown",
   "id": "07722b37",
   "metadata": {},
   "source": [
    "#### Mean accuracy for models with the best weighted pahm score (70-30)"
   ]
  },
  {
   "cell_type": "code",
   "execution_count": 14,
   "id": "452a400e",
   "metadata": {},
   "outputs": [],
   "source": [
    "# beta_wpahm_means = {'dueling_dqn_per': [], \n",
    "#                    'dueling_ddqn_per': [88.016, 90.373, 91.309, 92.307, 93.769]}\n",
    "# beta_wpahm_stds = {'dueling_dqn_per': [], \n",
    "#                   'dueling_ddqn_per': [1.175, 0.807, 1.105, 0.594, 4.516]}"
   ]
  },
  {
   "cell_type": "markdown",
   "id": "e93e177d",
   "metadata": {},
   "source": [
    "#### Mean accuracy with the best weighted pahm score (90-10)"
   ]
  },
  {
   "cell_type": "code",
   "execution_count": 15,
   "id": "055f6c5f",
   "metadata": {},
   "outputs": [],
   "source": [
    "beta_wpahm_means = {'dueling_dqn_per': [91.901, 95.520, 96.113, 94.066, 96.723], \n",
    "                   'dueling_ddqn_per': [88.473, 94.446, 93.363, 95.734, 95.439]}\n",
    "beta_wpahm_stds = {'dueling_dqn_per': [0.639, 0.869, 0.730, 4.008, 1.905], \n",
    "                  'dueling_ddqn_per': [0.761, 1.038, 0.476, 1.343, 1.835]}"
   ]
  },
  {
   "cell_type": "markdown",
   "id": "d20edfd2",
   "metadata": {},
   "source": [
    "#### Mean accuracy with the best weighted mean score"
   ]
  },
  {
   "cell_type": "code",
   "execution_count": 16,
   "id": "49bc9ecd",
   "metadata": {},
   "outputs": [],
   "source": [
    "beta_wmean_means = {'dueling_dqn_per': [80.201, 94.310, 82.897, 83.120, 82.424], \n",
    "                   'dueling_ddqn_per': [78.671, 82.916, 85.519, 80.853, 86.620]}\n",
    "beta_wmean_stds = {'dueling_dqn_per': [1.397, 0.750, 10.825, 7.825, 6.949], \n",
    "                  'dueling_ddqn_per': [0.000, 7.676, 5.449,  18.240, 6.610,]}"
   ]
  },
  {
   "cell_type": "markdown",
   "id": "a60a4241",
   "metadata": {},
   "source": [
    "#### Dueling dqn per"
   ]
  },
  {
   "cell_type": "code",
   "execution_count": 39,
   "id": "57980109",
   "metadata": {},
   "outputs": [
    {
     "data": {
      "text/plain": [
       "[[93.12, 97.147, 98.2, 98.676, 99.007],\n",
       " [87.09, 92.716, 95.824, 94.066, 94.237],\n",
       " [91.901, 95.52, 96.113, 94.066, 96.723],\n",
       " [80.201, 94.31, 82.897, 83.12, 82.424]]"
      ]
     },
     "execution_count": 39,
     "metadata": {},
     "output_type": "execute_result"
    }
   ],
   "source": [
    "colors = ['DeepPink', 'DarkKhaki', 'ForestGreen', 'MediumBlue'] #Magenta\n",
    "names = ['accuracy', 'pahm score', 'weighted pahm score (90-10)', 'weighted mean score']\n",
    "means = [x['dueling_dqn_per'] for x in [beta_acc_means, beta_pahm_means, beta_wpahm_means, beta_wmean_means]]\n",
    "stds = [x['dueling_dqn_per'] for x in [beta_acc_stds, beta_pahm_stds, beta_wpahm_stds, beta_wmean_stds]]\n",
    "means"
   ]
  },
  {
   "cell_type": "code",
   "execution_count": 40,
   "id": "32d08a89",
   "metadata": {},
   "outputs": [
    {
     "data": {
      "text/plain": [
       "[[0.259, 0.138, 0.66, 0.09, 0.235],\n",
       " [1.085, 2.514, 0.532, 4.008, 5.241],\n",
       " [0.639, 0.869, 0.73, 4.008, 1.905],\n",
       " [1.397, 0.75, 10.825, 7.825, 6.949]]"
      ]
     },
     "execution_count": 40,
     "metadata": {},
     "output_type": "execute_result"
    }
   ],
   "source": [
    "stds"
   ]
  },
  {
   "cell_type": "code",
   "execution_count": 41,
   "id": "032402bd",
   "metadata": {},
   "outputs": [
    {
     "data": {
      "application/vnd.plotly.v1+json": {
       "config": {
        "plotlyServerURL": "https://plot.ly"
       },
       "data": [
        {
         "line": {
          "color": "DeepPink",
          "width": 2.5
         },
         "mode": "lines",
         "name": "accuracy",
         "type": "scatter",
         "x": [
          1,
          3,
          5,
          7,
          9
         ],
         "y": [
          93.12,
          97.147,
          98.2,
          98.676,
          99.007
         ]
        },
        {
         "line": {
          "color": "DarkKhaki",
          "width": 2.5
         },
         "mode": "lines",
         "name": "pahm score",
         "type": "scatter",
         "x": [
          1,
          3,
          5,
          7,
          9
         ],
         "y": [
          87.09,
          92.716,
          95.824,
          94.066,
          94.237
         ]
        },
        {
         "line": {
          "color": "ForestGreen",
          "width": 2.5
         },
         "mode": "lines",
         "name": "weighted pahm score (90-10)",
         "type": "scatter",
         "x": [
          1,
          3,
          5,
          7,
          9
         ],
         "y": [
          91.901,
          95.52,
          96.113,
          94.066,
          96.723
         ]
        },
        {
         "line": {
          "color": "MediumBlue",
          "width": 2.5
         },
         "mode": "lines",
         "name": "weighted mean score",
         "type": "scatter",
         "x": [
          1,
          3,
          5,
          7,
          9
         ],
         "y": [
          80.201,
          94.31,
          82.897,
          83.12,
          82.424
         ]
        }
       ],
       "layout": {
        "font": {
         "family": "Courier New, monospace",
         "size": 16
        },
        "template": {
         "data": {
          "bar": [
           {
            "error_x": {
             "color": "#2a3f5f"
            },
            "error_y": {
             "color": "#2a3f5f"
            },
            "marker": {
             "line": {
              "color": "#E5ECF6",
              "width": 0.5
             },
             "pattern": {
              "fillmode": "overlay",
              "size": 10,
              "solidity": 0.2
             }
            },
            "type": "bar"
           }
          ],
          "barpolar": [
           {
            "marker": {
             "line": {
              "color": "#E5ECF6",
              "width": 0.5
             },
             "pattern": {
              "fillmode": "overlay",
              "size": 10,
              "solidity": 0.2
             }
            },
            "type": "barpolar"
           }
          ],
          "carpet": [
           {
            "aaxis": {
             "endlinecolor": "#2a3f5f",
             "gridcolor": "white",
             "linecolor": "white",
             "minorgridcolor": "white",
             "startlinecolor": "#2a3f5f"
            },
            "baxis": {
             "endlinecolor": "#2a3f5f",
             "gridcolor": "white",
             "linecolor": "white",
             "minorgridcolor": "white",
             "startlinecolor": "#2a3f5f"
            },
            "type": "carpet"
           }
          ],
          "choropleth": [
           {
            "colorbar": {
             "outlinewidth": 0,
             "ticks": ""
            },
            "type": "choropleth"
           }
          ],
          "contour": [
           {
            "colorbar": {
             "outlinewidth": 0,
             "ticks": ""
            },
            "colorscale": [
             [
              0,
              "#0d0887"
             ],
             [
              0.1111111111111111,
              "#46039f"
             ],
             [
              0.2222222222222222,
              "#7201a8"
             ],
             [
              0.3333333333333333,
              "#9c179e"
             ],
             [
              0.4444444444444444,
              "#bd3786"
             ],
             [
              0.5555555555555556,
              "#d8576b"
             ],
             [
              0.6666666666666666,
              "#ed7953"
             ],
             [
              0.7777777777777778,
              "#fb9f3a"
             ],
             [
              0.8888888888888888,
              "#fdca26"
             ],
             [
              1,
              "#f0f921"
             ]
            ],
            "type": "contour"
           }
          ],
          "contourcarpet": [
           {
            "colorbar": {
             "outlinewidth": 0,
             "ticks": ""
            },
            "type": "contourcarpet"
           }
          ],
          "heatmap": [
           {
            "colorbar": {
             "outlinewidth": 0,
             "ticks": ""
            },
            "colorscale": [
             [
              0,
              "#0d0887"
             ],
             [
              0.1111111111111111,
              "#46039f"
             ],
             [
              0.2222222222222222,
              "#7201a8"
             ],
             [
              0.3333333333333333,
              "#9c179e"
             ],
             [
              0.4444444444444444,
              "#bd3786"
             ],
             [
              0.5555555555555556,
              "#d8576b"
             ],
             [
              0.6666666666666666,
              "#ed7953"
             ],
             [
              0.7777777777777778,
              "#fb9f3a"
             ],
             [
              0.8888888888888888,
              "#fdca26"
             ],
             [
              1,
              "#f0f921"
             ]
            ],
            "type": "heatmap"
           }
          ],
          "heatmapgl": [
           {
            "colorbar": {
             "outlinewidth": 0,
             "ticks": ""
            },
            "colorscale": [
             [
              0,
              "#0d0887"
             ],
             [
              0.1111111111111111,
              "#46039f"
             ],
             [
              0.2222222222222222,
              "#7201a8"
             ],
             [
              0.3333333333333333,
              "#9c179e"
             ],
             [
              0.4444444444444444,
              "#bd3786"
             ],
             [
              0.5555555555555556,
              "#d8576b"
             ],
             [
              0.6666666666666666,
              "#ed7953"
             ],
             [
              0.7777777777777778,
              "#fb9f3a"
             ],
             [
              0.8888888888888888,
              "#fdca26"
             ],
             [
              1,
              "#f0f921"
             ]
            ],
            "type": "heatmapgl"
           }
          ],
          "histogram": [
           {
            "marker": {
             "pattern": {
              "fillmode": "overlay",
              "size": 10,
              "solidity": 0.2
             }
            },
            "type": "histogram"
           }
          ],
          "histogram2d": [
           {
            "colorbar": {
             "outlinewidth": 0,
             "ticks": ""
            },
            "colorscale": [
             [
              0,
              "#0d0887"
             ],
             [
              0.1111111111111111,
              "#46039f"
             ],
             [
              0.2222222222222222,
              "#7201a8"
             ],
             [
              0.3333333333333333,
              "#9c179e"
             ],
             [
              0.4444444444444444,
              "#bd3786"
             ],
             [
              0.5555555555555556,
              "#d8576b"
             ],
             [
              0.6666666666666666,
              "#ed7953"
             ],
             [
              0.7777777777777778,
              "#fb9f3a"
             ],
             [
              0.8888888888888888,
              "#fdca26"
             ],
             [
              1,
              "#f0f921"
             ]
            ],
            "type": "histogram2d"
           }
          ],
          "histogram2dcontour": [
           {
            "colorbar": {
             "outlinewidth": 0,
             "ticks": ""
            },
            "colorscale": [
             [
              0,
              "#0d0887"
             ],
             [
              0.1111111111111111,
              "#46039f"
             ],
             [
              0.2222222222222222,
              "#7201a8"
             ],
             [
              0.3333333333333333,
              "#9c179e"
             ],
             [
              0.4444444444444444,
              "#bd3786"
             ],
             [
              0.5555555555555556,
              "#d8576b"
             ],
             [
              0.6666666666666666,
              "#ed7953"
             ],
             [
              0.7777777777777778,
              "#fb9f3a"
             ],
             [
              0.8888888888888888,
              "#fdca26"
             ],
             [
              1,
              "#f0f921"
             ]
            ],
            "type": "histogram2dcontour"
           }
          ],
          "mesh3d": [
           {
            "colorbar": {
             "outlinewidth": 0,
             "ticks": ""
            },
            "type": "mesh3d"
           }
          ],
          "parcoords": [
           {
            "line": {
             "colorbar": {
              "outlinewidth": 0,
              "ticks": ""
             }
            },
            "type": "parcoords"
           }
          ],
          "pie": [
           {
            "automargin": true,
            "type": "pie"
           }
          ],
          "scatter": [
           {
            "fillpattern": {
             "fillmode": "overlay",
             "size": 10,
             "solidity": 0.2
            },
            "type": "scatter"
           }
          ],
          "scatter3d": [
           {
            "line": {
             "colorbar": {
              "outlinewidth": 0,
              "ticks": ""
             }
            },
            "marker": {
             "colorbar": {
              "outlinewidth": 0,
              "ticks": ""
             }
            },
            "type": "scatter3d"
           }
          ],
          "scattercarpet": [
           {
            "marker": {
             "colorbar": {
              "outlinewidth": 0,
              "ticks": ""
             }
            },
            "type": "scattercarpet"
           }
          ],
          "scattergeo": [
           {
            "marker": {
             "colorbar": {
              "outlinewidth": 0,
              "ticks": ""
             }
            },
            "type": "scattergeo"
           }
          ],
          "scattergl": [
           {
            "marker": {
             "colorbar": {
              "outlinewidth": 0,
              "ticks": ""
             }
            },
            "type": "scattergl"
           }
          ],
          "scattermapbox": [
           {
            "marker": {
             "colorbar": {
              "outlinewidth": 0,
              "ticks": ""
             }
            },
            "type": "scattermapbox"
           }
          ],
          "scatterpolar": [
           {
            "marker": {
             "colorbar": {
              "outlinewidth": 0,
              "ticks": ""
             }
            },
            "type": "scatterpolar"
           }
          ],
          "scatterpolargl": [
           {
            "marker": {
             "colorbar": {
              "outlinewidth": 0,
              "ticks": ""
             }
            },
            "type": "scatterpolargl"
           }
          ],
          "scatterternary": [
           {
            "marker": {
             "colorbar": {
              "outlinewidth": 0,
              "ticks": ""
             }
            },
            "type": "scatterternary"
           }
          ],
          "surface": [
           {
            "colorbar": {
             "outlinewidth": 0,
             "ticks": ""
            },
            "colorscale": [
             [
              0,
              "#0d0887"
             ],
             [
              0.1111111111111111,
              "#46039f"
             ],
             [
              0.2222222222222222,
              "#7201a8"
             ],
             [
              0.3333333333333333,
              "#9c179e"
             ],
             [
              0.4444444444444444,
              "#bd3786"
             ],
             [
              0.5555555555555556,
              "#d8576b"
             ],
             [
              0.6666666666666666,
              "#ed7953"
             ],
             [
              0.7777777777777778,
              "#fb9f3a"
             ],
             [
              0.8888888888888888,
              "#fdca26"
             ],
             [
              1,
              "#f0f921"
             ]
            ],
            "type": "surface"
           }
          ],
          "table": [
           {
            "cells": {
             "fill": {
              "color": "#EBF0F8"
             },
             "line": {
              "color": "white"
             }
            },
            "header": {
             "fill": {
              "color": "#C8D4E3"
             },
             "line": {
              "color": "white"
             }
            },
            "type": "table"
           }
          ]
         },
         "layout": {
          "annotationdefaults": {
           "arrowcolor": "#2a3f5f",
           "arrowhead": 0,
           "arrowwidth": 1
          },
          "autotypenumbers": "strict",
          "coloraxis": {
           "colorbar": {
            "outlinewidth": 0,
            "ticks": ""
           }
          },
          "colorscale": {
           "diverging": [
            [
             0,
             "#8e0152"
            ],
            [
             0.1,
             "#c51b7d"
            ],
            [
             0.2,
             "#de77ae"
            ],
            [
             0.3,
             "#f1b6da"
            ],
            [
             0.4,
             "#fde0ef"
            ],
            [
             0.5,
             "#f7f7f7"
            ],
            [
             0.6,
             "#e6f5d0"
            ],
            [
             0.7,
             "#b8e186"
            ],
            [
             0.8,
             "#7fbc41"
            ],
            [
             0.9,
             "#4d9221"
            ],
            [
             1,
             "#276419"
            ]
           ],
           "sequential": [
            [
             0,
             "#0d0887"
            ],
            [
             0.1111111111111111,
             "#46039f"
            ],
            [
             0.2222222222222222,
             "#7201a8"
            ],
            [
             0.3333333333333333,
             "#9c179e"
            ],
            [
             0.4444444444444444,
             "#bd3786"
            ],
            [
             0.5555555555555556,
             "#d8576b"
            ],
            [
             0.6666666666666666,
             "#ed7953"
            ],
            [
             0.7777777777777778,
             "#fb9f3a"
            ],
            [
             0.8888888888888888,
             "#fdca26"
            ],
            [
             1,
             "#f0f921"
            ]
           ],
           "sequentialminus": [
            [
             0,
             "#0d0887"
            ],
            [
             0.1111111111111111,
             "#46039f"
            ],
            [
             0.2222222222222222,
             "#7201a8"
            ],
            [
             0.3333333333333333,
             "#9c179e"
            ],
            [
             0.4444444444444444,
             "#bd3786"
            ],
            [
             0.5555555555555556,
             "#d8576b"
            ],
            [
             0.6666666666666666,
             "#ed7953"
            ],
            [
             0.7777777777777778,
             "#fb9f3a"
            ],
            [
             0.8888888888888888,
             "#fdca26"
            ],
            [
             1,
             "#f0f921"
            ]
           ]
          },
          "colorway": [
           "#636efa",
           "#EF553B",
           "#00cc96",
           "#ab63fa",
           "#FFA15A",
           "#19d3f3",
           "#FF6692",
           "#B6E880",
           "#FF97FF",
           "#FECB52"
          ],
          "font": {
           "color": "#2a3f5f"
          },
          "geo": {
           "bgcolor": "white",
           "lakecolor": "white",
           "landcolor": "#E5ECF6",
           "showlakes": true,
           "showland": true,
           "subunitcolor": "white"
          },
          "hoverlabel": {
           "align": "left"
          },
          "hovermode": "closest",
          "mapbox": {
           "style": "light"
          },
          "paper_bgcolor": "white",
          "plot_bgcolor": "#E5ECF6",
          "polar": {
           "angularaxis": {
            "gridcolor": "white",
            "linecolor": "white",
            "ticks": ""
           },
           "bgcolor": "#E5ECF6",
           "radialaxis": {
            "gridcolor": "white",
            "linecolor": "white",
            "ticks": ""
           }
          },
          "scene": {
           "xaxis": {
            "backgroundcolor": "#E5ECF6",
            "gridcolor": "white",
            "gridwidth": 2,
            "linecolor": "white",
            "showbackground": true,
            "ticks": "",
            "zerolinecolor": "white"
           },
           "yaxis": {
            "backgroundcolor": "#E5ECF6",
            "gridcolor": "white",
            "gridwidth": 2,
            "linecolor": "white",
            "showbackground": true,
            "ticks": "",
            "zerolinecolor": "white"
           },
           "zaxis": {
            "backgroundcolor": "#E5ECF6",
            "gridcolor": "white",
            "gridwidth": 2,
            "linecolor": "white",
            "showbackground": true,
            "ticks": "",
            "zerolinecolor": "white"
           }
          },
          "shapedefaults": {
           "line": {
            "color": "#2a3f5f"
           }
          },
          "ternary": {
           "aaxis": {
            "gridcolor": "white",
            "linecolor": "white",
            "ticks": ""
           },
           "baxis": {
            "gridcolor": "white",
            "linecolor": "white",
            "ticks": ""
           },
           "bgcolor": "#E5ECF6",
           "caxis": {
            "gridcolor": "white",
            "linecolor": "white",
            "ticks": ""
           }
          },
          "title": {
           "x": 0.05
          },
          "xaxis": {
           "automargin": true,
           "gridcolor": "white",
           "linecolor": "white",
           "ticks": "",
           "title": {
            "standoff": 15
           },
           "zerolinecolor": "white",
           "zerolinewidth": 2
          },
          "yaxis": {
           "automargin": true,
           "gridcolor": "white",
           "linecolor": "white",
           "ticks": "",
           "title": {
            "standoff": 15
           },
           "zerolinecolor": "white",
           "zerolinewidth": 2
          }
         }
        },
        "title": {
         "font": {
          "family": "Courier New, monospace",
          "size": 24
         },
         "text": "Dueling DQN PER",
         "x": 0.4
        },
        "xaxis": {
         "title": {
          "text": "Beta"
         }
        },
        "yaxis": {
         "range": [
          0,
          100
         ],
         "title": {
          "text": "Accuracy"
         }
        }
       }
      },
      "text/html": [
       "<div>                            <div id=\"6c593db6-ceef-4e26-851f-15459a5aa1b2\" class=\"plotly-graph-div\" style=\"height:525px; width:100%;\"></div>            <script type=\"text/javascript\">                require([\"plotly\"], function(Plotly) {                    window.PLOTLYENV=window.PLOTLYENV || {};                                    if (document.getElementById(\"6c593db6-ceef-4e26-851f-15459a5aa1b2\")) {                    Plotly.newPlot(                        \"6c593db6-ceef-4e26-851f-15459a5aa1b2\",                        [{\"line\":{\"color\":\"DeepPink\",\"width\":2.5},\"mode\":\"lines\",\"name\":\"accuracy\",\"x\":[1,3,5,7,9],\"y\":[93.12,97.147,98.2,98.676,99.007],\"type\":\"scatter\"},{\"line\":{\"color\":\"DarkKhaki\",\"width\":2.5},\"mode\":\"lines\",\"name\":\"pahm score\",\"x\":[1,3,5,7,9],\"y\":[87.09,92.716,95.824,94.066,94.237],\"type\":\"scatter\"},{\"line\":{\"color\":\"ForestGreen\",\"width\":2.5},\"mode\":\"lines\",\"name\":\"weighted pahm score (90-10)\",\"x\":[1,3,5,7,9],\"y\":[91.901,95.52,96.113,94.066,96.723],\"type\":\"scatter\"},{\"line\":{\"color\":\"MediumBlue\",\"width\":2.5},\"mode\":\"lines\",\"name\":\"weighted mean score\",\"x\":[1,3,5,7,9],\"y\":[80.201,94.31,82.897,83.12,82.424],\"type\":\"scatter\"}],                        {\"template\":{\"data\":{\"histogram2dcontour\":[{\"type\":\"histogram2dcontour\",\"colorbar\":{\"outlinewidth\":0,\"ticks\":\"\"},\"colorscale\":[[0.0,\"#0d0887\"],[0.1111111111111111,\"#46039f\"],[0.2222222222222222,\"#7201a8\"],[0.3333333333333333,\"#9c179e\"],[0.4444444444444444,\"#bd3786\"],[0.5555555555555556,\"#d8576b\"],[0.6666666666666666,\"#ed7953\"],[0.7777777777777778,\"#fb9f3a\"],[0.8888888888888888,\"#fdca26\"],[1.0,\"#f0f921\"]]}],\"choropleth\":[{\"type\":\"choropleth\",\"colorbar\":{\"outlinewidth\":0,\"ticks\":\"\"}}],\"histogram2d\":[{\"type\":\"histogram2d\",\"colorbar\":{\"outlinewidth\":0,\"ticks\":\"\"},\"colorscale\":[[0.0,\"#0d0887\"],[0.1111111111111111,\"#46039f\"],[0.2222222222222222,\"#7201a8\"],[0.3333333333333333,\"#9c179e\"],[0.4444444444444444,\"#bd3786\"],[0.5555555555555556,\"#d8576b\"],[0.6666666666666666,\"#ed7953\"],[0.7777777777777778,\"#fb9f3a\"],[0.8888888888888888,\"#fdca26\"],[1.0,\"#f0f921\"]]}],\"heatmap\":[{\"type\":\"heatmap\",\"colorbar\":{\"outlinewidth\":0,\"ticks\":\"\"},\"colorscale\":[[0.0,\"#0d0887\"],[0.1111111111111111,\"#46039f\"],[0.2222222222222222,\"#7201a8\"],[0.3333333333333333,\"#9c179e\"],[0.4444444444444444,\"#bd3786\"],[0.5555555555555556,\"#d8576b\"],[0.6666666666666666,\"#ed7953\"],[0.7777777777777778,\"#fb9f3a\"],[0.8888888888888888,\"#fdca26\"],[1.0,\"#f0f921\"]]}],\"heatmapgl\":[{\"type\":\"heatmapgl\",\"colorbar\":{\"outlinewidth\":0,\"ticks\":\"\"},\"colorscale\":[[0.0,\"#0d0887\"],[0.1111111111111111,\"#46039f\"],[0.2222222222222222,\"#7201a8\"],[0.3333333333333333,\"#9c179e\"],[0.4444444444444444,\"#bd3786\"],[0.5555555555555556,\"#d8576b\"],[0.6666666666666666,\"#ed7953\"],[0.7777777777777778,\"#fb9f3a\"],[0.8888888888888888,\"#fdca26\"],[1.0,\"#f0f921\"]]}],\"contourcarpet\":[{\"type\":\"contourcarpet\",\"colorbar\":{\"outlinewidth\":0,\"ticks\":\"\"}}],\"contour\":[{\"type\":\"contour\",\"colorbar\":{\"outlinewidth\":0,\"ticks\":\"\"},\"colorscale\":[[0.0,\"#0d0887\"],[0.1111111111111111,\"#46039f\"],[0.2222222222222222,\"#7201a8\"],[0.3333333333333333,\"#9c179e\"],[0.4444444444444444,\"#bd3786\"],[0.5555555555555556,\"#d8576b\"],[0.6666666666666666,\"#ed7953\"],[0.7777777777777778,\"#fb9f3a\"],[0.8888888888888888,\"#fdca26\"],[1.0,\"#f0f921\"]]}],\"surface\":[{\"type\":\"surface\",\"colorbar\":{\"outlinewidth\":0,\"ticks\":\"\"},\"colorscale\":[[0.0,\"#0d0887\"],[0.1111111111111111,\"#46039f\"],[0.2222222222222222,\"#7201a8\"],[0.3333333333333333,\"#9c179e\"],[0.4444444444444444,\"#bd3786\"],[0.5555555555555556,\"#d8576b\"],[0.6666666666666666,\"#ed7953\"],[0.7777777777777778,\"#fb9f3a\"],[0.8888888888888888,\"#fdca26\"],[1.0,\"#f0f921\"]]}],\"mesh3d\":[{\"type\":\"mesh3d\",\"colorbar\":{\"outlinewidth\":0,\"ticks\":\"\"}}],\"scatter\":[{\"fillpattern\":{\"fillmode\":\"overlay\",\"size\":10,\"solidity\":0.2},\"type\":\"scatter\"}],\"parcoords\":[{\"type\":\"parcoords\",\"line\":{\"colorbar\":{\"outlinewidth\":0,\"ticks\":\"\"}}}],\"scatterpolargl\":[{\"type\":\"scatterpolargl\",\"marker\":{\"colorbar\":{\"outlinewidth\":0,\"ticks\":\"\"}}}],\"bar\":[{\"error_x\":{\"color\":\"#2a3f5f\"},\"error_y\":{\"color\":\"#2a3f5f\"},\"marker\":{\"line\":{\"color\":\"#E5ECF6\",\"width\":0.5},\"pattern\":{\"fillmode\":\"overlay\",\"size\":10,\"solidity\":0.2}},\"type\":\"bar\"}],\"scattergeo\":[{\"type\":\"scattergeo\",\"marker\":{\"colorbar\":{\"outlinewidth\":0,\"ticks\":\"\"}}}],\"scatterpolar\":[{\"type\":\"scatterpolar\",\"marker\":{\"colorbar\":{\"outlinewidth\":0,\"ticks\":\"\"}}}],\"histogram\":[{\"marker\":{\"pattern\":{\"fillmode\":\"overlay\",\"size\":10,\"solidity\":0.2}},\"type\":\"histogram\"}],\"scattergl\":[{\"type\":\"scattergl\",\"marker\":{\"colorbar\":{\"outlinewidth\":0,\"ticks\":\"\"}}}],\"scatter3d\":[{\"type\":\"scatter3d\",\"line\":{\"colorbar\":{\"outlinewidth\":0,\"ticks\":\"\"}},\"marker\":{\"colorbar\":{\"outlinewidth\":0,\"ticks\":\"\"}}}],\"scattermapbox\":[{\"type\":\"scattermapbox\",\"marker\":{\"colorbar\":{\"outlinewidth\":0,\"ticks\":\"\"}}}],\"scatterternary\":[{\"type\":\"scatterternary\",\"marker\":{\"colorbar\":{\"outlinewidth\":0,\"ticks\":\"\"}}}],\"scattercarpet\":[{\"type\":\"scattercarpet\",\"marker\":{\"colorbar\":{\"outlinewidth\":0,\"ticks\":\"\"}}}],\"carpet\":[{\"aaxis\":{\"endlinecolor\":\"#2a3f5f\",\"gridcolor\":\"white\",\"linecolor\":\"white\",\"minorgridcolor\":\"white\",\"startlinecolor\":\"#2a3f5f\"},\"baxis\":{\"endlinecolor\":\"#2a3f5f\",\"gridcolor\":\"white\",\"linecolor\":\"white\",\"minorgridcolor\":\"white\",\"startlinecolor\":\"#2a3f5f\"},\"type\":\"carpet\"}],\"table\":[{\"cells\":{\"fill\":{\"color\":\"#EBF0F8\"},\"line\":{\"color\":\"white\"}},\"header\":{\"fill\":{\"color\":\"#C8D4E3\"},\"line\":{\"color\":\"white\"}},\"type\":\"table\"}],\"barpolar\":[{\"marker\":{\"line\":{\"color\":\"#E5ECF6\",\"width\":0.5},\"pattern\":{\"fillmode\":\"overlay\",\"size\":10,\"solidity\":0.2}},\"type\":\"barpolar\"}],\"pie\":[{\"automargin\":true,\"type\":\"pie\"}]},\"layout\":{\"autotypenumbers\":\"strict\",\"colorway\":[\"#636efa\",\"#EF553B\",\"#00cc96\",\"#ab63fa\",\"#FFA15A\",\"#19d3f3\",\"#FF6692\",\"#B6E880\",\"#FF97FF\",\"#FECB52\"],\"font\":{\"color\":\"#2a3f5f\"},\"hovermode\":\"closest\",\"hoverlabel\":{\"align\":\"left\"},\"paper_bgcolor\":\"white\",\"plot_bgcolor\":\"#E5ECF6\",\"polar\":{\"bgcolor\":\"#E5ECF6\",\"angularaxis\":{\"gridcolor\":\"white\",\"linecolor\":\"white\",\"ticks\":\"\"},\"radialaxis\":{\"gridcolor\":\"white\",\"linecolor\":\"white\",\"ticks\":\"\"}},\"ternary\":{\"bgcolor\":\"#E5ECF6\",\"aaxis\":{\"gridcolor\":\"white\",\"linecolor\":\"white\",\"ticks\":\"\"},\"baxis\":{\"gridcolor\":\"white\",\"linecolor\":\"white\",\"ticks\":\"\"},\"caxis\":{\"gridcolor\":\"white\",\"linecolor\":\"white\",\"ticks\":\"\"}},\"coloraxis\":{\"colorbar\":{\"outlinewidth\":0,\"ticks\":\"\"}},\"colorscale\":{\"sequential\":[[0.0,\"#0d0887\"],[0.1111111111111111,\"#46039f\"],[0.2222222222222222,\"#7201a8\"],[0.3333333333333333,\"#9c179e\"],[0.4444444444444444,\"#bd3786\"],[0.5555555555555556,\"#d8576b\"],[0.6666666666666666,\"#ed7953\"],[0.7777777777777778,\"#fb9f3a\"],[0.8888888888888888,\"#fdca26\"],[1.0,\"#f0f921\"]],\"sequentialminus\":[[0.0,\"#0d0887\"],[0.1111111111111111,\"#46039f\"],[0.2222222222222222,\"#7201a8\"],[0.3333333333333333,\"#9c179e\"],[0.4444444444444444,\"#bd3786\"],[0.5555555555555556,\"#d8576b\"],[0.6666666666666666,\"#ed7953\"],[0.7777777777777778,\"#fb9f3a\"],[0.8888888888888888,\"#fdca26\"],[1.0,\"#f0f921\"]],\"diverging\":[[0,\"#8e0152\"],[0.1,\"#c51b7d\"],[0.2,\"#de77ae\"],[0.3,\"#f1b6da\"],[0.4,\"#fde0ef\"],[0.5,\"#f7f7f7\"],[0.6,\"#e6f5d0\"],[0.7,\"#b8e186\"],[0.8,\"#7fbc41\"],[0.9,\"#4d9221\"],[1,\"#276419\"]]},\"xaxis\":{\"gridcolor\":\"white\",\"linecolor\":\"white\",\"ticks\":\"\",\"title\":{\"standoff\":15},\"zerolinecolor\":\"white\",\"automargin\":true,\"zerolinewidth\":2},\"yaxis\":{\"gridcolor\":\"white\",\"linecolor\":\"white\",\"ticks\":\"\",\"title\":{\"standoff\":15},\"zerolinecolor\":\"white\",\"automargin\":true,\"zerolinewidth\":2},\"scene\":{\"xaxis\":{\"backgroundcolor\":\"#E5ECF6\",\"gridcolor\":\"white\",\"linecolor\":\"white\",\"showbackground\":true,\"ticks\":\"\",\"zerolinecolor\":\"white\",\"gridwidth\":2},\"yaxis\":{\"backgroundcolor\":\"#E5ECF6\",\"gridcolor\":\"white\",\"linecolor\":\"white\",\"showbackground\":true,\"ticks\":\"\",\"zerolinecolor\":\"white\",\"gridwidth\":2},\"zaxis\":{\"backgroundcolor\":\"#E5ECF6\",\"gridcolor\":\"white\",\"linecolor\":\"white\",\"showbackground\":true,\"ticks\":\"\",\"zerolinecolor\":\"white\",\"gridwidth\":2}},\"shapedefaults\":{\"line\":{\"color\":\"#2a3f5f\"}},\"annotationdefaults\":{\"arrowcolor\":\"#2a3f5f\",\"arrowhead\":0,\"arrowwidth\":1},\"geo\":{\"bgcolor\":\"white\",\"landcolor\":\"#E5ECF6\",\"subunitcolor\":\"white\",\"showland\":true,\"showlakes\":true,\"lakecolor\":\"white\"},\"title\":{\"x\":0.05},\"mapbox\":{\"style\":\"light\"}}},\"yaxis\":{\"range\":[0,100],\"title\":{\"text\":\"Accuracy\"}},\"title\":{\"text\":\"Dueling DQN PER\",\"x\":0.4,\"font\":{\"size\":24,\"family\":\"Courier New, monospace\"}},\"font\":{\"family\":\"Courier New, monospace\",\"size\":16},\"xaxis\":{\"title\":{\"text\":\"Beta\"}}},                        {\"responsive\": true}                    ).then(function(){\n",
       "                            \n",
       "var gd = document.getElementById('6c593db6-ceef-4e26-851f-15459a5aa1b2');\n",
       "var x = new MutationObserver(function (mutations, observer) {{\n",
       "        var display = window.getComputedStyle(gd).display;\n",
       "        if (!display || display === 'none') {{\n",
       "            console.log([gd, 'removed!']);\n",
       "            Plotly.purge(gd);\n",
       "            observer.disconnect();\n",
       "        }}\n",
       "}});\n",
       "\n",
       "// Listen for the removal of the full notebook cells\n",
       "var notebookContainer = gd.closest('#notebook-container');\n",
       "if (notebookContainer) {{\n",
       "    x.observe(notebookContainer, {childList: true});\n",
       "}}\n",
       "\n",
       "// Listen for the clearing of the current output cell\n",
       "var outputEl = gd.closest('.output');\n",
       "if (outputEl) {{\n",
       "    x.observe(outputEl, {childList: true});\n",
       "}}\n",
       "\n",
       "                        })                };                });            </script>        </div>"
      ]
     },
     "metadata": {},
     "output_type": "display_data"
    }
   ],
   "source": [
    "plot_multi_fig(means, stds, betas, names, colors, title='Dueling DQN PER')"
   ]
  },
  {
   "cell_type": "markdown",
   "id": "1cd3c95d",
   "metadata": {},
   "source": [
    "#### Dueling ddqn per"
   ]
  },
  {
   "cell_type": "code",
   "execution_count": 43,
   "id": "8979f6a6",
   "metadata": {},
   "outputs": [
    {
     "data": {
      "text/plain": [
       "[[88.251, 95.944, 96.947, 97.82, 98.479],\n",
       " [86.143, 88.826, 86.656, 89.168, 88.64],\n",
       " [88.473, 94.446, 93.363, 95.734, 95.439],\n",
       " [78.671, 82.916, 85.519, 80.853, 86.62]]"
      ]
     },
     "execution_count": 43,
     "metadata": {},
     "output_type": "execute_result"
    }
   ],
   "source": [
    "colors = ['DeepPink', 'DarkKhaki', 'ForestGreen', 'MediumBlue'] #Magenta\n",
    "names = ['accuracy', 'pahm score', 'weighted pahm score (90-10)', 'weighted mean score']\n",
    "means = [x['dueling_ddqn_per'] for x in [beta_acc_means, beta_pahm_means, beta_wpahm_means, beta_wmean_means]]\n",
    "stds = [x['dueling_ddqn_per'] for x in [beta_acc_stds, beta_pahm_stds, beta_wpahm_stds, beta_wmean_stds]]\n",
    "means"
   ]
  },
  {
   "cell_type": "code",
   "execution_count": 44,
   "id": "351789ce",
   "metadata": {},
   "outputs": [
    {
     "data": {
      "application/vnd.plotly.v1+json": {
       "config": {
        "plotlyServerURL": "https://plot.ly"
       },
       "data": [
        {
         "line": {
          "color": "DeepPink",
          "width": 2.5
         },
         "mode": "lines",
         "name": "accuracy",
         "type": "scatter",
         "x": [
          1,
          3,
          5,
          7,
          9
         ],
         "y": [
          88.251,
          95.944,
          96.947,
          97.82,
          98.479
         ]
        },
        {
         "line": {
          "color": "DarkKhaki",
          "width": 2.5
         },
         "mode": "lines",
         "name": "pahm score",
         "type": "scatter",
         "x": [
          1,
          3,
          5,
          7,
          9
         ],
         "y": [
          86.143,
          88.826,
          86.656,
          89.168,
          88.64
         ]
        },
        {
         "line": {
          "color": "ForestGreen",
          "width": 2.5
         },
         "mode": "lines",
         "name": "weighted pahm score (90-10)",
         "type": "scatter",
         "x": [
          1,
          3,
          5,
          7,
          9
         ],
         "y": [
          88.473,
          94.446,
          93.363,
          95.734,
          95.439
         ]
        },
        {
         "line": {
          "color": "MediumBlue",
          "width": 2.5
         },
         "mode": "lines",
         "name": "weighted mean score",
         "type": "scatter",
         "x": [
          1,
          3,
          5,
          7,
          9
         ],
         "y": [
          78.671,
          82.916,
          85.519,
          80.853,
          86.62
         ]
        }
       ],
       "layout": {
        "font": {
         "family": "Courier New, monospace",
         "size": 16
        },
        "template": {
         "data": {
          "bar": [
           {
            "error_x": {
             "color": "#2a3f5f"
            },
            "error_y": {
             "color": "#2a3f5f"
            },
            "marker": {
             "line": {
              "color": "#E5ECF6",
              "width": 0.5
             },
             "pattern": {
              "fillmode": "overlay",
              "size": 10,
              "solidity": 0.2
             }
            },
            "type": "bar"
           }
          ],
          "barpolar": [
           {
            "marker": {
             "line": {
              "color": "#E5ECF6",
              "width": 0.5
             },
             "pattern": {
              "fillmode": "overlay",
              "size": 10,
              "solidity": 0.2
             }
            },
            "type": "barpolar"
           }
          ],
          "carpet": [
           {
            "aaxis": {
             "endlinecolor": "#2a3f5f",
             "gridcolor": "white",
             "linecolor": "white",
             "minorgridcolor": "white",
             "startlinecolor": "#2a3f5f"
            },
            "baxis": {
             "endlinecolor": "#2a3f5f",
             "gridcolor": "white",
             "linecolor": "white",
             "minorgridcolor": "white",
             "startlinecolor": "#2a3f5f"
            },
            "type": "carpet"
           }
          ],
          "choropleth": [
           {
            "colorbar": {
             "outlinewidth": 0,
             "ticks": ""
            },
            "type": "choropleth"
           }
          ],
          "contour": [
           {
            "colorbar": {
             "outlinewidth": 0,
             "ticks": ""
            },
            "colorscale": [
             [
              0,
              "#0d0887"
             ],
             [
              0.1111111111111111,
              "#46039f"
             ],
             [
              0.2222222222222222,
              "#7201a8"
             ],
             [
              0.3333333333333333,
              "#9c179e"
             ],
             [
              0.4444444444444444,
              "#bd3786"
             ],
             [
              0.5555555555555556,
              "#d8576b"
             ],
             [
              0.6666666666666666,
              "#ed7953"
             ],
             [
              0.7777777777777778,
              "#fb9f3a"
             ],
             [
              0.8888888888888888,
              "#fdca26"
             ],
             [
              1,
              "#f0f921"
             ]
            ],
            "type": "contour"
           }
          ],
          "contourcarpet": [
           {
            "colorbar": {
             "outlinewidth": 0,
             "ticks": ""
            },
            "type": "contourcarpet"
           }
          ],
          "heatmap": [
           {
            "colorbar": {
             "outlinewidth": 0,
             "ticks": ""
            },
            "colorscale": [
             [
              0,
              "#0d0887"
             ],
             [
              0.1111111111111111,
              "#46039f"
             ],
             [
              0.2222222222222222,
              "#7201a8"
             ],
             [
              0.3333333333333333,
              "#9c179e"
             ],
             [
              0.4444444444444444,
              "#bd3786"
             ],
             [
              0.5555555555555556,
              "#d8576b"
             ],
             [
              0.6666666666666666,
              "#ed7953"
             ],
             [
              0.7777777777777778,
              "#fb9f3a"
             ],
             [
              0.8888888888888888,
              "#fdca26"
             ],
             [
              1,
              "#f0f921"
             ]
            ],
            "type": "heatmap"
           }
          ],
          "heatmapgl": [
           {
            "colorbar": {
             "outlinewidth": 0,
             "ticks": ""
            },
            "colorscale": [
             [
              0,
              "#0d0887"
             ],
             [
              0.1111111111111111,
              "#46039f"
             ],
             [
              0.2222222222222222,
              "#7201a8"
             ],
             [
              0.3333333333333333,
              "#9c179e"
             ],
             [
              0.4444444444444444,
              "#bd3786"
             ],
             [
              0.5555555555555556,
              "#d8576b"
             ],
             [
              0.6666666666666666,
              "#ed7953"
             ],
             [
              0.7777777777777778,
              "#fb9f3a"
             ],
             [
              0.8888888888888888,
              "#fdca26"
             ],
             [
              1,
              "#f0f921"
             ]
            ],
            "type": "heatmapgl"
           }
          ],
          "histogram": [
           {
            "marker": {
             "pattern": {
              "fillmode": "overlay",
              "size": 10,
              "solidity": 0.2
             }
            },
            "type": "histogram"
           }
          ],
          "histogram2d": [
           {
            "colorbar": {
             "outlinewidth": 0,
             "ticks": ""
            },
            "colorscale": [
             [
              0,
              "#0d0887"
             ],
             [
              0.1111111111111111,
              "#46039f"
             ],
             [
              0.2222222222222222,
              "#7201a8"
             ],
             [
              0.3333333333333333,
              "#9c179e"
             ],
             [
              0.4444444444444444,
              "#bd3786"
             ],
             [
              0.5555555555555556,
              "#d8576b"
             ],
             [
              0.6666666666666666,
              "#ed7953"
             ],
             [
              0.7777777777777778,
              "#fb9f3a"
             ],
             [
              0.8888888888888888,
              "#fdca26"
             ],
             [
              1,
              "#f0f921"
             ]
            ],
            "type": "histogram2d"
           }
          ],
          "histogram2dcontour": [
           {
            "colorbar": {
             "outlinewidth": 0,
             "ticks": ""
            },
            "colorscale": [
             [
              0,
              "#0d0887"
             ],
             [
              0.1111111111111111,
              "#46039f"
             ],
             [
              0.2222222222222222,
              "#7201a8"
             ],
             [
              0.3333333333333333,
              "#9c179e"
             ],
             [
              0.4444444444444444,
              "#bd3786"
             ],
             [
              0.5555555555555556,
              "#d8576b"
             ],
             [
              0.6666666666666666,
              "#ed7953"
             ],
             [
              0.7777777777777778,
              "#fb9f3a"
             ],
             [
              0.8888888888888888,
              "#fdca26"
             ],
             [
              1,
              "#f0f921"
             ]
            ],
            "type": "histogram2dcontour"
           }
          ],
          "mesh3d": [
           {
            "colorbar": {
             "outlinewidth": 0,
             "ticks": ""
            },
            "type": "mesh3d"
           }
          ],
          "parcoords": [
           {
            "line": {
             "colorbar": {
              "outlinewidth": 0,
              "ticks": ""
             }
            },
            "type": "parcoords"
           }
          ],
          "pie": [
           {
            "automargin": true,
            "type": "pie"
           }
          ],
          "scatter": [
           {
            "fillpattern": {
             "fillmode": "overlay",
             "size": 10,
             "solidity": 0.2
            },
            "type": "scatter"
           }
          ],
          "scatter3d": [
           {
            "line": {
             "colorbar": {
              "outlinewidth": 0,
              "ticks": ""
             }
            },
            "marker": {
             "colorbar": {
              "outlinewidth": 0,
              "ticks": ""
             }
            },
            "type": "scatter3d"
           }
          ],
          "scattercarpet": [
           {
            "marker": {
             "colorbar": {
              "outlinewidth": 0,
              "ticks": ""
             }
            },
            "type": "scattercarpet"
           }
          ],
          "scattergeo": [
           {
            "marker": {
             "colorbar": {
              "outlinewidth": 0,
              "ticks": ""
             }
            },
            "type": "scattergeo"
           }
          ],
          "scattergl": [
           {
            "marker": {
             "colorbar": {
              "outlinewidth": 0,
              "ticks": ""
             }
            },
            "type": "scattergl"
           }
          ],
          "scattermapbox": [
           {
            "marker": {
             "colorbar": {
              "outlinewidth": 0,
              "ticks": ""
             }
            },
            "type": "scattermapbox"
           }
          ],
          "scatterpolar": [
           {
            "marker": {
             "colorbar": {
              "outlinewidth": 0,
              "ticks": ""
             }
            },
            "type": "scatterpolar"
           }
          ],
          "scatterpolargl": [
           {
            "marker": {
             "colorbar": {
              "outlinewidth": 0,
              "ticks": ""
             }
            },
            "type": "scatterpolargl"
           }
          ],
          "scatterternary": [
           {
            "marker": {
             "colorbar": {
              "outlinewidth": 0,
              "ticks": ""
             }
            },
            "type": "scatterternary"
           }
          ],
          "surface": [
           {
            "colorbar": {
             "outlinewidth": 0,
             "ticks": ""
            },
            "colorscale": [
             [
              0,
              "#0d0887"
             ],
             [
              0.1111111111111111,
              "#46039f"
             ],
             [
              0.2222222222222222,
              "#7201a8"
             ],
             [
              0.3333333333333333,
              "#9c179e"
             ],
             [
              0.4444444444444444,
              "#bd3786"
             ],
             [
              0.5555555555555556,
              "#d8576b"
             ],
             [
              0.6666666666666666,
              "#ed7953"
             ],
             [
              0.7777777777777778,
              "#fb9f3a"
             ],
             [
              0.8888888888888888,
              "#fdca26"
             ],
             [
              1,
              "#f0f921"
             ]
            ],
            "type": "surface"
           }
          ],
          "table": [
           {
            "cells": {
             "fill": {
              "color": "#EBF0F8"
             },
             "line": {
              "color": "white"
             }
            },
            "header": {
             "fill": {
              "color": "#C8D4E3"
             },
             "line": {
              "color": "white"
             }
            },
            "type": "table"
           }
          ]
         },
         "layout": {
          "annotationdefaults": {
           "arrowcolor": "#2a3f5f",
           "arrowhead": 0,
           "arrowwidth": 1
          },
          "autotypenumbers": "strict",
          "coloraxis": {
           "colorbar": {
            "outlinewidth": 0,
            "ticks": ""
           }
          },
          "colorscale": {
           "diverging": [
            [
             0,
             "#8e0152"
            ],
            [
             0.1,
             "#c51b7d"
            ],
            [
             0.2,
             "#de77ae"
            ],
            [
             0.3,
             "#f1b6da"
            ],
            [
             0.4,
             "#fde0ef"
            ],
            [
             0.5,
             "#f7f7f7"
            ],
            [
             0.6,
             "#e6f5d0"
            ],
            [
             0.7,
             "#b8e186"
            ],
            [
             0.8,
             "#7fbc41"
            ],
            [
             0.9,
             "#4d9221"
            ],
            [
             1,
             "#276419"
            ]
           ],
           "sequential": [
            [
             0,
             "#0d0887"
            ],
            [
             0.1111111111111111,
             "#46039f"
            ],
            [
             0.2222222222222222,
             "#7201a8"
            ],
            [
             0.3333333333333333,
             "#9c179e"
            ],
            [
             0.4444444444444444,
             "#bd3786"
            ],
            [
             0.5555555555555556,
             "#d8576b"
            ],
            [
             0.6666666666666666,
             "#ed7953"
            ],
            [
             0.7777777777777778,
             "#fb9f3a"
            ],
            [
             0.8888888888888888,
             "#fdca26"
            ],
            [
             1,
             "#f0f921"
            ]
           ],
           "sequentialminus": [
            [
             0,
             "#0d0887"
            ],
            [
             0.1111111111111111,
             "#46039f"
            ],
            [
             0.2222222222222222,
             "#7201a8"
            ],
            [
             0.3333333333333333,
             "#9c179e"
            ],
            [
             0.4444444444444444,
             "#bd3786"
            ],
            [
             0.5555555555555556,
             "#d8576b"
            ],
            [
             0.6666666666666666,
             "#ed7953"
            ],
            [
             0.7777777777777778,
             "#fb9f3a"
            ],
            [
             0.8888888888888888,
             "#fdca26"
            ],
            [
             1,
             "#f0f921"
            ]
           ]
          },
          "colorway": [
           "#636efa",
           "#EF553B",
           "#00cc96",
           "#ab63fa",
           "#FFA15A",
           "#19d3f3",
           "#FF6692",
           "#B6E880",
           "#FF97FF",
           "#FECB52"
          ],
          "font": {
           "color": "#2a3f5f"
          },
          "geo": {
           "bgcolor": "white",
           "lakecolor": "white",
           "landcolor": "#E5ECF6",
           "showlakes": true,
           "showland": true,
           "subunitcolor": "white"
          },
          "hoverlabel": {
           "align": "left"
          },
          "hovermode": "closest",
          "mapbox": {
           "style": "light"
          },
          "paper_bgcolor": "white",
          "plot_bgcolor": "#E5ECF6",
          "polar": {
           "angularaxis": {
            "gridcolor": "white",
            "linecolor": "white",
            "ticks": ""
           },
           "bgcolor": "#E5ECF6",
           "radialaxis": {
            "gridcolor": "white",
            "linecolor": "white",
            "ticks": ""
           }
          },
          "scene": {
           "xaxis": {
            "backgroundcolor": "#E5ECF6",
            "gridcolor": "white",
            "gridwidth": 2,
            "linecolor": "white",
            "showbackground": true,
            "ticks": "",
            "zerolinecolor": "white"
           },
           "yaxis": {
            "backgroundcolor": "#E5ECF6",
            "gridcolor": "white",
            "gridwidth": 2,
            "linecolor": "white",
            "showbackground": true,
            "ticks": "",
            "zerolinecolor": "white"
           },
           "zaxis": {
            "backgroundcolor": "#E5ECF6",
            "gridcolor": "white",
            "gridwidth": 2,
            "linecolor": "white",
            "showbackground": true,
            "ticks": "",
            "zerolinecolor": "white"
           }
          },
          "shapedefaults": {
           "line": {
            "color": "#2a3f5f"
           }
          },
          "ternary": {
           "aaxis": {
            "gridcolor": "white",
            "linecolor": "white",
            "ticks": ""
           },
           "baxis": {
            "gridcolor": "white",
            "linecolor": "white",
            "ticks": ""
           },
           "bgcolor": "#E5ECF6",
           "caxis": {
            "gridcolor": "white",
            "linecolor": "white",
            "ticks": ""
           }
          },
          "title": {
           "x": 0.05
          },
          "xaxis": {
           "automargin": true,
           "gridcolor": "white",
           "linecolor": "white",
           "ticks": "",
           "title": {
            "standoff": 15
           },
           "zerolinecolor": "white",
           "zerolinewidth": 2
          },
          "yaxis": {
           "automargin": true,
           "gridcolor": "white",
           "linecolor": "white",
           "ticks": "",
           "title": {
            "standoff": 15
           },
           "zerolinecolor": "white",
           "zerolinewidth": 2
          }
         }
        },
        "title": {
         "font": {
          "family": "Courier New, monospace",
          "size": 24
         },
         "text": "Dueling DDQN PER",
         "x": 0.4
        },
        "xaxis": {
         "title": {
          "text": "Beta"
         }
        },
        "yaxis": {
         "range": [
          0,
          100
         ],
         "title": {
          "text": "Accuracy"
         }
        }
       }
      },
      "text/html": [
       "<div>                            <div id=\"1a39c9dd-6bce-43b3-8388-3b4d0b3c4e22\" class=\"plotly-graph-div\" style=\"height:525px; width:100%;\"></div>            <script type=\"text/javascript\">                require([\"plotly\"], function(Plotly) {                    window.PLOTLYENV=window.PLOTLYENV || {};                                    if (document.getElementById(\"1a39c9dd-6bce-43b3-8388-3b4d0b3c4e22\")) {                    Plotly.newPlot(                        \"1a39c9dd-6bce-43b3-8388-3b4d0b3c4e22\",                        [{\"line\":{\"color\":\"DeepPink\",\"width\":2.5},\"mode\":\"lines\",\"name\":\"accuracy\",\"x\":[1,3,5,7,9],\"y\":[88.251,95.944,96.947,97.82,98.479],\"type\":\"scatter\"},{\"line\":{\"color\":\"DarkKhaki\",\"width\":2.5},\"mode\":\"lines\",\"name\":\"pahm score\",\"x\":[1,3,5,7,9],\"y\":[86.143,88.826,86.656,89.168,88.64],\"type\":\"scatter\"},{\"line\":{\"color\":\"ForestGreen\",\"width\":2.5},\"mode\":\"lines\",\"name\":\"weighted pahm score (90-10)\",\"x\":[1,3,5,7,9],\"y\":[88.473,94.446,93.363,95.734,95.439],\"type\":\"scatter\"},{\"line\":{\"color\":\"MediumBlue\",\"width\":2.5},\"mode\":\"lines\",\"name\":\"weighted mean score\",\"x\":[1,3,5,7,9],\"y\":[78.671,82.916,85.519,80.853,86.62],\"type\":\"scatter\"}],                        {\"template\":{\"data\":{\"histogram2dcontour\":[{\"type\":\"histogram2dcontour\",\"colorbar\":{\"outlinewidth\":0,\"ticks\":\"\"},\"colorscale\":[[0.0,\"#0d0887\"],[0.1111111111111111,\"#46039f\"],[0.2222222222222222,\"#7201a8\"],[0.3333333333333333,\"#9c179e\"],[0.4444444444444444,\"#bd3786\"],[0.5555555555555556,\"#d8576b\"],[0.6666666666666666,\"#ed7953\"],[0.7777777777777778,\"#fb9f3a\"],[0.8888888888888888,\"#fdca26\"],[1.0,\"#f0f921\"]]}],\"choropleth\":[{\"type\":\"choropleth\",\"colorbar\":{\"outlinewidth\":0,\"ticks\":\"\"}}],\"histogram2d\":[{\"type\":\"histogram2d\",\"colorbar\":{\"outlinewidth\":0,\"ticks\":\"\"},\"colorscale\":[[0.0,\"#0d0887\"],[0.1111111111111111,\"#46039f\"],[0.2222222222222222,\"#7201a8\"],[0.3333333333333333,\"#9c179e\"],[0.4444444444444444,\"#bd3786\"],[0.5555555555555556,\"#d8576b\"],[0.6666666666666666,\"#ed7953\"],[0.7777777777777778,\"#fb9f3a\"],[0.8888888888888888,\"#fdca26\"],[1.0,\"#f0f921\"]]}],\"heatmap\":[{\"type\":\"heatmap\",\"colorbar\":{\"outlinewidth\":0,\"ticks\":\"\"},\"colorscale\":[[0.0,\"#0d0887\"],[0.1111111111111111,\"#46039f\"],[0.2222222222222222,\"#7201a8\"],[0.3333333333333333,\"#9c179e\"],[0.4444444444444444,\"#bd3786\"],[0.5555555555555556,\"#d8576b\"],[0.6666666666666666,\"#ed7953\"],[0.7777777777777778,\"#fb9f3a\"],[0.8888888888888888,\"#fdca26\"],[1.0,\"#f0f921\"]]}],\"heatmapgl\":[{\"type\":\"heatmapgl\",\"colorbar\":{\"outlinewidth\":0,\"ticks\":\"\"},\"colorscale\":[[0.0,\"#0d0887\"],[0.1111111111111111,\"#46039f\"],[0.2222222222222222,\"#7201a8\"],[0.3333333333333333,\"#9c179e\"],[0.4444444444444444,\"#bd3786\"],[0.5555555555555556,\"#d8576b\"],[0.6666666666666666,\"#ed7953\"],[0.7777777777777778,\"#fb9f3a\"],[0.8888888888888888,\"#fdca26\"],[1.0,\"#f0f921\"]]}],\"contourcarpet\":[{\"type\":\"contourcarpet\",\"colorbar\":{\"outlinewidth\":0,\"ticks\":\"\"}}],\"contour\":[{\"type\":\"contour\",\"colorbar\":{\"outlinewidth\":0,\"ticks\":\"\"},\"colorscale\":[[0.0,\"#0d0887\"],[0.1111111111111111,\"#46039f\"],[0.2222222222222222,\"#7201a8\"],[0.3333333333333333,\"#9c179e\"],[0.4444444444444444,\"#bd3786\"],[0.5555555555555556,\"#d8576b\"],[0.6666666666666666,\"#ed7953\"],[0.7777777777777778,\"#fb9f3a\"],[0.8888888888888888,\"#fdca26\"],[1.0,\"#f0f921\"]]}],\"surface\":[{\"type\":\"surface\",\"colorbar\":{\"outlinewidth\":0,\"ticks\":\"\"},\"colorscale\":[[0.0,\"#0d0887\"],[0.1111111111111111,\"#46039f\"],[0.2222222222222222,\"#7201a8\"],[0.3333333333333333,\"#9c179e\"],[0.4444444444444444,\"#bd3786\"],[0.5555555555555556,\"#d8576b\"],[0.6666666666666666,\"#ed7953\"],[0.7777777777777778,\"#fb9f3a\"],[0.8888888888888888,\"#fdca26\"],[1.0,\"#f0f921\"]]}],\"mesh3d\":[{\"type\":\"mesh3d\",\"colorbar\":{\"outlinewidth\":0,\"ticks\":\"\"}}],\"scatter\":[{\"fillpattern\":{\"fillmode\":\"overlay\",\"size\":10,\"solidity\":0.2},\"type\":\"scatter\"}],\"parcoords\":[{\"type\":\"parcoords\",\"line\":{\"colorbar\":{\"outlinewidth\":0,\"ticks\":\"\"}}}],\"scatterpolargl\":[{\"type\":\"scatterpolargl\",\"marker\":{\"colorbar\":{\"outlinewidth\":0,\"ticks\":\"\"}}}],\"bar\":[{\"error_x\":{\"color\":\"#2a3f5f\"},\"error_y\":{\"color\":\"#2a3f5f\"},\"marker\":{\"line\":{\"color\":\"#E5ECF6\",\"width\":0.5},\"pattern\":{\"fillmode\":\"overlay\",\"size\":10,\"solidity\":0.2}},\"type\":\"bar\"}],\"scattergeo\":[{\"type\":\"scattergeo\",\"marker\":{\"colorbar\":{\"outlinewidth\":0,\"ticks\":\"\"}}}],\"scatterpolar\":[{\"type\":\"scatterpolar\",\"marker\":{\"colorbar\":{\"outlinewidth\":0,\"ticks\":\"\"}}}],\"histogram\":[{\"marker\":{\"pattern\":{\"fillmode\":\"overlay\",\"size\":10,\"solidity\":0.2}},\"type\":\"histogram\"}],\"scattergl\":[{\"type\":\"scattergl\",\"marker\":{\"colorbar\":{\"outlinewidth\":0,\"ticks\":\"\"}}}],\"scatter3d\":[{\"type\":\"scatter3d\",\"line\":{\"colorbar\":{\"outlinewidth\":0,\"ticks\":\"\"}},\"marker\":{\"colorbar\":{\"outlinewidth\":0,\"ticks\":\"\"}}}],\"scattermapbox\":[{\"type\":\"scattermapbox\",\"marker\":{\"colorbar\":{\"outlinewidth\":0,\"ticks\":\"\"}}}],\"scatterternary\":[{\"type\":\"scatterternary\",\"marker\":{\"colorbar\":{\"outlinewidth\":0,\"ticks\":\"\"}}}],\"scattercarpet\":[{\"type\":\"scattercarpet\",\"marker\":{\"colorbar\":{\"outlinewidth\":0,\"ticks\":\"\"}}}],\"carpet\":[{\"aaxis\":{\"endlinecolor\":\"#2a3f5f\",\"gridcolor\":\"white\",\"linecolor\":\"white\",\"minorgridcolor\":\"white\",\"startlinecolor\":\"#2a3f5f\"},\"baxis\":{\"endlinecolor\":\"#2a3f5f\",\"gridcolor\":\"white\",\"linecolor\":\"white\",\"minorgridcolor\":\"white\",\"startlinecolor\":\"#2a3f5f\"},\"type\":\"carpet\"}],\"table\":[{\"cells\":{\"fill\":{\"color\":\"#EBF0F8\"},\"line\":{\"color\":\"white\"}},\"header\":{\"fill\":{\"color\":\"#C8D4E3\"},\"line\":{\"color\":\"white\"}},\"type\":\"table\"}],\"barpolar\":[{\"marker\":{\"line\":{\"color\":\"#E5ECF6\",\"width\":0.5},\"pattern\":{\"fillmode\":\"overlay\",\"size\":10,\"solidity\":0.2}},\"type\":\"barpolar\"}],\"pie\":[{\"automargin\":true,\"type\":\"pie\"}]},\"layout\":{\"autotypenumbers\":\"strict\",\"colorway\":[\"#636efa\",\"#EF553B\",\"#00cc96\",\"#ab63fa\",\"#FFA15A\",\"#19d3f3\",\"#FF6692\",\"#B6E880\",\"#FF97FF\",\"#FECB52\"],\"font\":{\"color\":\"#2a3f5f\"},\"hovermode\":\"closest\",\"hoverlabel\":{\"align\":\"left\"},\"paper_bgcolor\":\"white\",\"plot_bgcolor\":\"#E5ECF6\",\"polar\":{\"bgcolor\":\"#E5ECF6\",\"angularaxis\":{\"gridcolor\":\"white\",\"linecolor\":\"white\",\"ticks\":\"\"},\"radialaxis\":{\"gridcolor\":\"white\",\"linecolor\":\"white\",\"ticks\":\"\"}},\"ternary\":{\"bgcolor\":\"#E5ECF6\",\"aaxis\":{\"gridcolor\":\"white\",\"linecolor\":\"white\",\"ticks\":\"\"},\"baxis\":{\"gridcolor\":\"white\",\"linecolor\":\"white\",\"ticks\":\"\"},\"caxis\":{\"gridcolor\":\"white\",\"linecolor\":\"white\",\"ticks\":\"\"}},\"coloraxis\":{\"colorbar\":{\"outlinewidth\":0,\"ticks\":\"\"}},\"colorscale\":{\"sequential\":[[0.0,\"#0d0887\"],[0.1111111111111111,\"#46039f\"],[0.2222222222222222,\"#7201a8\"],[0.3333333333333333,\"#9c179e\"],[0.4444444444444444,\"#bd3786\"],[0.5555555555555556,\"#d8576b\"],[0.6666666666666666,\"#ed7953\"],[0.7777777777777778,\"#fb9f3a\"],[0.8888888888888888,\"#fdca26\"],[1.0,\"#f0f921\"]],\"sequentialminus\":[[0.0,\"#0d0887\"],[0.1111111111111111,\"#46039f\"],[0.2222222222222222,\"#7201a8\"],[0.3333333333333333,\"#9c179e\"],[0.4444444444444444,\"#bd3786\"],[0.5555555555555556,\"#d8576b\"],[0.6666666666666666,\"#ed7953\"],[0.7777777777777778,\"#fb9f3a\"],[0.8888888888888888,\"#fdca26\"],[1.0,\"#f0f921\"]],\"diverging\":[[0,\"#8e0152\"],[0.1,\"#c51b7d\"],[0.2,\"#de77ae\"],[0.3,\"#f1b6da\"],[0.4,\"#fde0ef\"],[0.5,\"#f7f7f7\"],[0.6,\"#e6f5d0\"],[0.7,\"#b8e186\"],[0.8,\"#7fbc41\"],[0.9,\"#4d9221\"],[1,\"#276419\"]]},\"xaxis\":{\"gridcolor\":\"white\",\"linecolor\":\"white\",\"ticks\":\"\",\"title\":{\"standoff\":15},\"zerolinecolor\":\"white\",\"automargin\":true,\"zerolinewidth\":2},\"yaxis\":{\"gridcolor\":\"white\",\"linecolor\":\"white\",\"ticks\":\"\",\"title\":{\"standoff\":15},\"zerolinecolor\":\"white\",\"automargin\":true,\"zerolinewidth\":2},\"scene\":{\"xaxis\":{\"backgroundcolor\":\"#E5ECF6\",\"gridcolor\":\"white\",\"linecolor\":\"white\",\"showbackground\":true,\"ticks\":\"\",\"zerolinecolor\":\"white\",\"gridwidth\":2},\"yaxis\":{\"backgroundcolor\":\"#E5ECF6\",\"gridcolor\":\"white\",\"linecolor\":\"white\",\"showbackground\":true,\"ticks\":\"\",\"zerolinecolor\":\"white\",\"gridwidth\":2},\"zaxis\":{\"backgroundcolor\":\"#E5ECF6\",\"gridcolor\":\"white\",\"linecolor\":\"white\",\"showbackground\":true,\"ticks\":\"\",\"zerolinecolor\":\"white\",\"gridwidth\":2}},\"shapedefaults\":{\"line\":{\"color\":\"#2a3f5f\"}},\"annotationdefaults\":{\"arrowcolor\":\"#2a3f5f\",\"arrowhead\":0,\"arrowwidth\":1},\"geo\":{\"bgcolor\":\"white\",\"landcolor\":\"#E5ECF6\",\"subunitcolor\":\"white\",\"showland\":true,\"showlakes\":true,\"lakecolor\":\"white\"},\"title\":{\"x\":0.05},\"mapbox\":{\"style\":\"light\"}}},\"yaxis\":{\"range\":[0,100],\"title\":{\"text\":\"Accuracy\"}},\"title\":{\"text\":\"Dueling DDQN PER\",\"x\":0.4,\"font\":{\"size\":24,\"family\":\"Courier New, monospace\"}},\"font\":{\"family\":\"Courier New, monospace\",\"size\":16},\"xaxis\":{\"title\":{\"text\":\"Beta\"}}},                        {\"responsive\": true}                    ).then(function(){\n",
       "                            \n",
       "var gd = document.getElementById('1a39c9dd-6bce-43b3-8388-3b4d0b3c4e22');\n",
       "var x = new MutationObserver(function (mutations, observer) {{\n",
       "        var display = window.getComputedStyle(gd).display;\n",
       "        if (!display || display === 'none') {{\n",
       "            console.log([gd, 'removed!']);\n",
       "            Plotly.purge(gd);\n",
       "            observer.disconnect();\n",
       "        }}\n",
       "}});\n",
       "\n",
       "// Listen for the removal of the full notebook cells\n",
       "var notebookContainer = gd.closest('#notebook-container');\n",
       "if (notebookContainer) {{\n",
       "    x.observe(notebookContainer, {childList: true});\n",
       "}}\n",
       "\n",
       "// Listen for the clearing of the current output cell\n",
       "var outputEl = gd.closest('.output');\n",
       "if (outputEl) {{\n",
       "    x.observe(outputEl, {childList: true});\n",
       "}}\n",
       "\n",
       "                        })                };                });            </script>        </div>"
      ]
     },
     "metadata": {},
     "output_type": "display_data"
    }
   ],
   "source": [
    "plot_multi_fig(means, stds, betas, names, colors, title='Dueling DDQN PER')"
   ]
  },
  {
   "cell_type": "markdown",
   "id": "2cdc52c0",
   "metadata": {},
   "source": [
    "#### Plotting using accuracy with best new metric"
   ]
  },
  {
   "cell_type": "code",
   "execution_count": null,
   "id": "a203fd01",
   "metadata": {},
   "outputs": [],
   "source": [
    "# beta_path_best = {'dueling_dqn_per': [92.564, 95.543, 96.629, 96.657, 97.300], \n",
    "#                   'dueling_ddqn_per': [88.286, 91.664, 94.850, 95.764, 95.614]}\n",
    "\n",
    "# beta_pahm_best = {'dueling_dqn_per': [92.564, 95.543, 96.629, 96.657, 97.300], \n",
    "#                   'dueling_ddqn_per': [86.671, 91.664, 94.850, 95.764, 95.614]}\n",
    "\n",
    "# # beta_acc_means = {'dueling_dqn_per': [92.903, 95.667, 96.367, 97.06, 97.014],\n",
    "# #                   'dueling_ddqn_per': [88.851, 92.786, 95.158, 95.802, 95.944]}\n",
    "\n",
    "# beta_acc_best = {'dueling_dqn_per': [93.314, 96.100, 96.629, 97.579, 97.300],\n",
    "#                  'dueling_ddqn_per': [89.843, 93.279, 96.064, 96.893, 96.457]}\n",
    "\n",
    "beta_path_best = {'dueling_dqn_per': [92.564, 97.300, 98.879], \n",
    "                  'dueling_ddqn_per': [88.286, 95.614, 96.614]}\n",
    "\n",
    "beta_pahm_best = {'dueling_dqn_per': [92.564, 97.300, 98.879], \n",
    "                  'dueling_ddqn_per': [86.671, 95.614, 96.614]}\n",
    "\n",
    "beta_acc_best = {'dueling_dqn_per': [93.314, 97.300, 98.879],\n",
    "                 'dueling_ddqn_per': [89.843, 96.457, 97.557]}"
   ]
  },
  {
   "cell_type": "code",
   "execution_count": null,
   "id": "d38aa745",
   "metadata": {},
   "outputs": [],
   "source": [
    "names = ['best path score', 'best pahm score', 'Best accuracy']\n",
    "means = [x['dueling_ddqn_per'] for x in [beta_path_best, beta_pahm_best, beta_acc_best]]\n",
    "stds = []\n",
    "plot_multi_fig(means, stds, betas, names, colors, title='Dueling DDQN PER')"
   ]
  },
  {
   "cell_type": "code",
   "execution_count": null,
   "id": "21d13a04",
   "metadata": {},
   "outputs": [],
   "source": [
    "means = [x['dueling_dqn_per'] for x in [beta_path_best, beta_pahm_best, beta_acc_best]]\n",
    "stds = []\n",
    "plot_multi_fig(means, stds, betas, names, colors, title='Dueling DQN PER')"
   ]
  },
  {
   "cell_type": "code",
   "execution_count": null,
   "id": "2f65c7d2",
   "metadata": {},
   "outputs": [],
   "source": []
  }
 ],
 "metadata": {
  "kernelspec": {
   "display_name": "Python 3 (ipykernel)",
   "language": "python",
   "name": "python3"
  },
  "language_info": {
   "codemirror_mode": {
    "name": "ipython",
    "version": 3
   },
   "file_extension": ".py",
   "mimetype": "text/x-python",
   "name": "python",
   "nbconvert_exporter": "python",
   "pygments_lexer": "ipython3",
   "version": "3.7.4"
  }
 },
 "nbformat": 4,
 "nbformat_minor": 5
}

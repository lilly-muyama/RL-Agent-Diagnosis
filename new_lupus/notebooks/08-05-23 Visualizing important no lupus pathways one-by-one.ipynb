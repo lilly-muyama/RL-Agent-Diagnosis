{
 "cells": [
  {
   "cell_type": "code",
   "execution_count": 2,
   "id": "63364f23",
   "metadata": {},
   "outputs": [],
   "source": [
    "import pandas as pd\n",
    "import numpy as np\n",
    "import ast\n",
    "import math\n",
    "from pyvis.network import Network\n",
    "import sys\n",
    "sys.path.append('../')\n",
    "from modules import utils, constants"
   ]
  },
  {
   "cell_type": "markdown",
   "id": "b747ecb1",
   "metadata": {},
   "source": [
    "#### The test df"
   ]
  },
  {
   "cell_type": "code",
   "execution_count": 3,
   "id": "824a0bdb",
   "metadata": {},
   "outputs": [],
   "source": [
    "model_name = 'dueling_dqn_per'\n",
    "seed = 42\n",
    "steps = int(10e7)"
   ]
  },
  {
   "cell_type": "code",
   "execution_count": 4,
   "id": "78ad8bd6",
   "metadata": {},
   "outputs": [
    {
     "data": {
      "text/html": [
       "<div>\n",
       "<style scoped>\n",
       "    .dataframe tbody tr th:only-of-type {\n",
       "        vertical-align: middle;\n",
       "    }\n",
       "\n",
       "    .dataframe tbody tr th {\n",
       "        vertical-align: top;\n",
       "    }\n",
       "\n",
       "    .dataframe thead th {\n",
       "        text-align: right;\n",
       "    }\n",
       "</style>\n",
       "<table border=\"1\" class=\"dataframe\">\n",
       "  <thead>\n",
       "    <tr style=\"text-align: right;\">\n",
       "      <th></th>\n",
       "      <th>index</th>\n",
       "      <th>episode_length</th>\n",
       "      <th>reward</th>\n",
       "      <th>y_pred</th>\n",
       "      <th>y_actual</th>\n",
       "      <th>trajectory</th>\n",
       "      <th>terminated</th>\n",
       "      <th>is_success</th>\n",
       "    </tr>\n",
       "  </thead>\n",
       "  <tbody>\n",
       "    <tr>\n",
       "      <th>0</th>\n",
       "      <td>0.0</td>\n",
       "      <td>16.0</td>\n",
       "      <td>0.385286</td>\n",
       "      <td>1.0</td>\n",
       "      <td>1.0</td>\n",
       "      <td>['leukopenia', 'anti_dsdna_antibody', 'low_c3'...</td>\n",
       "      <td>0.0</td>\n",
       "      <td>1.0</td>\n",
       "    </tr>\n",
       "    <tr>\n",
       "      <th>1</th>\n",
       "      <td>1.0</td>\n",
       "      <td>11.0</td>\n",
       "      <td>0.609372</td>\n",
       "      <td>1.0</td>\n",
       "      <td>1.0</td>\n",
       "      <td>['leukopenia', 'anti_dsdna_antibody', 'pericar...</td>\n",
       "      <td>0.0</td>\n",
       "      <td>1.0</td>\n",
       "    </tr>\n",
       "    <tr>\n",
       "      <th>2</th>\n",
       "      <td>2.0</td>\n",
       "      <td>11.0</td>\n",
       "      <td>0.624625</td>\n",
       "      <td>1.0</td>\n",
       "      <td>1.0</td>\n",
       "      <td>['leukopenia', 'anti_dsdna_antibody', 'low_c3'...</td>\n",
       "      <td>0.0</td>\n",
       "      <td>1.0</td>\n",
       "    </tr>\n",
       "    <tr>\n",
       "      <th>3</th>\n",
       "      <td>3.0</td>\n",
       "      <td>20.0</td>\n",
       "      <td>0.167750</td>\n",
       "      <td>1.0</td>\n",
       "      <td>1.0</td>\n",
       "      <td>['leukopenia', 'anti_dsdna_antibody', 'pericar...</td>\n",
       "      <td>0.0</td>\n",
       "      <td>1.0</td>\n",
       "    </tr>\n",
       "    <tr>\n",
       "      <th>4</th>\n",
       "      <td>4.0</td>\n",
       "      <td>8.0</td>\n",
       "      <td>0.718047</td>\n",
       "      <td>1.0</td>\n",
       "      <td>1.0</td>\n",
       "      <td>['leukopenia', 'anti_dsdna_antibody', 'low_c3'...</td>\n",
       "      <td>0.0</td>\n",
       "      <td>1.0</td>\n",
       "    </tr>\n",
       "  </tbody>\n",
       "</table>\n",
       "</div>"
      ],
      "text/plain": [
       "   index  episode_length    reward  y_pred  y_actual  \\\n",
       "0    0.0            16.0  0.385286     1.0       1.0   \n",
       "1    1.0            11.0  0.609372     1.0       1.0   \n",
       "2    2.0            11.0  0.624625     1.0       1.0   \n",
       "3    3.0            20.0  0.167750     1.0       1.0   \n",
       "4    4.0             8.0  0.718047     1.0       1.0   \n",
       "\n",
       "                                          trajectory  terminated  is_success  \n",
       "0  ['leukopenia', 'anti_dsdna_antibody', 'low_c3'...         0.0         1.0  \n",
       "1  ['leukopenia', 'anti_dsdna_antibody', 'pericar...         0.0         1.0  \n",
       "2  ['leukopenia', 'anti_dsdna_antibody', 'low_c3'...         0.0         1.0  \n",
       "3  ['leukopenia', 'anti_dsdna_antibody', 'pericar...         0.0         1.0  \n",
       "4  ['leukopenia', 'anti_dsdna_antibody', 'low_c3'...         0.0         1.0  "
      ]
     },
     "execution_count": 4,
     "metadata": {},
     "output_type": "execute_result"
    }
   ],
   "source": [
    "test_df = pd.read_csv(f'../test_dfs/{model_name}_risk_factor_{seed}_{steps}.csv')\n",
    "test_df.head()"
   ]
  },
  {
   "cell_type": "code",
   "execution_count": 5,
   "id": "78ada9e7",
   "metadata": {},
   "outputs": [
    {
     "data": {
      "text/plain": [
       "97.57142857142857"
      ]
     },
     "execution_count": 5,
     "metadata": {},
     "output_type": "execute_result"
    }
   ],
   "source": [
    "utils.test(test_df.y_actual, test_df.y_pred)[0]"
   ]
  },
  {
   "cell_type": "code",
   "execution_count": 6,
   "id": "3cbb13ea",
   "metadata": {},
   "outputs": [
    {
     "data": {
      "text/plain": [
       "11.741108025915642"
      ]
     },
     "execution_count": 6,
     "metadata": {},
     "output_type": "execute_result"
    }
   ],
   "source": [
    "test_df[(test_df.y_pred==0) & (test_df.episode_length!=2)].episode_length.mean()"
   ]
  },
  {
   "cell_type": "markdown",
   "id": "5e7a07a9",
   "metadata": {},
   "source": [
    "#### The other pertinent dfs"
   ]
  },
  {
   "cell_type": "code",
   "execution_count": 7,
   "id": "aedd6829",
   "metadata": {},
   "outputs": [
    {
     "data": {
      "text/html": [
       "<div>\n",
       "<style scoped>\n",
       "    .dataframe tbody tr th:only-of-type {\n",
       "        vertical-align: middle;\n",
       "    }\n",
       "\n",
       "    .dataframe tbody tr th {\n",
       "        vertical-align: top;\n",
       "    }\n",
       "\n",
       "    .dataframe thead th {\n",
       "        text-align: right;\n",
       "    }\n",
       "</style>\n",
       "<table border=\"1\" class=\"dataframe\">\n",
       "  <thead>\n",
       "    <tr style=\"text-align: right;\">\n",
       "      <th></th>\n",
       "      <th>ana</th>\n",
       "      <th>fever</th>\n",
       "      <th>leukopenia</th>\n",
       "      <th>thrombocytopenia</th>\n",
       "      <th>auto_immune_hemolysis</th>\n",
       "      <th>delirium</th>\n",
       "      <th>psychosis</th>\n",
       "      <th>seizure</th>\n",
       "      <th>non_scarring_alopecia</th>\n",
       "      <th>oral_ulcers</th>\n",
       "      <th>...</th>\n",
       "      <th>joint_involvement</th>\n",
       "      <th>proteinuria</th>\n",
       "      <th>anti_cardioliphin_antibodies</th>\n",
       "      <th>anti_β2gp1_antibodies</th>\n",
       "      <th>lupus_anti_coagulant</th>\n",
       "      <th>low_c3</th>\n",
       "      <th>low_c4</th>\n",
       "      <th>anti_dsdna_antibody</th>\n",
       "      <th>anti_smith_antibody</th>\n",
       "      <th>label</th>\n",
       "    </tr>\n",
       "  </thead>\n",
       "  <tbody>\n",
       "    <tr>\n",
       "      <th>0</th>\n",
       "      <td>1</td>\n",
       "      <td>0</td>\n",
       "      <td>0</td>\n",
       "      <td>0</td>\n",
       "      <td>0</td>\n",
       "      <td>0</td>\n",
       "      <td>0</td>\n",
       "      <td>0</td>\n",
       "      <td>0</td>\n",
       "      <td>0</td>\n",
       "      <td>...</td>\n",
       "      <td>1</td>\n",
       "      <td>0</td>\n",
       "      <td>0</td>\n",
       "      <td>0</td>\n",
       "      <td>0</td>\n",
       "      <td>0</td>\n",
       "      <td>0</td>\n",
       "      <td>0</td>\n",
       "      <td>0</td>\n",
       "      <td>1</td>\n",
       "    </tr>\n",
       "    <tr>\n",
       "      <th>1</th>\n",
       "      <td>1</td>\n",
       "      <td>1</td>\n",
       "      <td>0</td>\n",
       "      <td>0</td>\n",
       "      <td>0</td>\n",
       "      <td>0</td>\n",
       "      <td>0</td>\n",
       "      <td>0</td>\n",
       "      <td>0</td>\n",
       "      <td>0</td>\n",
       "      <td>...</td>\n",
       "      <td>0</td>\n",
       "      <td>1</td>\n",
       "      <td>0</td>\n",
       "      <td>0</td>\n",
       "      <td>0</td>\n",
       "      <td>0</td>\n",
       "      <td>0</td>\n",
       "      <td>1</td>\n",
       "      <td>0</td>\n",
       "      <td>1</td>\n",
       "    </tr>\n",
       "    <tr>\n",
       "      <th>2</th>\n",
       "      <td>1</td>\n",
       "      <td>0</td>\n",
       "      <td>0</td>\n",
       "      <td>0</td>\n",
       "      <td>0</td>\n",
       "      <td>0</td>\n",
       "      <td>1</td>\n",
       "      <td>0</td>\n",
       "      <td>0</td>\n",
       "      <td>0</td>\n",
       "      <td>...</td>\n",
       "      <td>1</td>\n",
       "      <td>0</td>\n",
       "      <td>0</td>\n",
       "      <td>0</td>\n",
       "      <td>1</td>\n",
       "      <td>1</td>\n",
       "      <td>0</td>\n",
       "      <td>0</td>\n",
       "      <td>0</td>\n",
       "      <td>1</td>\n",
       "    </tr>\n",
       "    <tr>\n",
       "      <th>3</th>\n",
       "      <td>1</td>\n",
       "      <td>1</td>\n",
       "      <td>0</td>\n",
       "      <td>0</td>\n",
       "      <td>0</td>\n",
       "      <td>0</td>\n",
       "      <td>0</td>\n",
       "      <td>0</td>\n",
       "      <td>1</td>\n",
       "      <td>0</td>\n",
       "      <td>...</td>\n",
       "      <td>0</td>\n",
       "      <td>0</td>\n",
       "      <td>0</td>\n",
       "      <td>0</td>\n",
       "      <td>1</td>\n",
       "      <td>0</td>\n",
       "      <td>0</td>\n",
       "      <td>1</td>\n",
       "      <td>0</td>\n",
       "      <td>1</td>\n",
       "    </tr>\n",
       "    <tr>\n",
       "      <th>4</th>\n",
       "      <td>1</td>\n",
       "      <td>0</td>\n",
       "      <td>0</td>\n",
       "      <td>0</td>\n",
       "      <td>0</td>\n",
       "      <td>0</td>\n",
       "      <td>0</td>\n",
       "      <td>0</td>\n",
       "      <td>1</td>\n",
       "      <td>0</td>\n",
       "      <td>...</td>\n",
       "      <td>1</td>\n",
       "      <td>0</td>\n",
       "      <td>0</td>\n",
       "      <td>0</td>\n",
       "      <td>0</td>\n",
       "      <td>1</td>\n",
       "      <td>0</td>\n",
       "      <td>0</td>\n",
       "      <td>0</td>\n",
       "      <td>1</td>\n",
       "    </tr>\n",
       "  </tbody>\n",
       "</table>\n",
       "<p>5 rows × 24 columns</p>\n",
       "</div>"
      ],
      "text/plain": [
       "   ana  fever  leukopenia  thrombocytopenia  auto_immune_hemolysis  delirium  \\\n",
       "0    1      0           0                 0                      0         0   \n",
       "1    1      1           0                 0                      0         0   \n",
       "2    1      0           0                 0                      0         0   \n",
       "3    1      1           0                 0                      0         0   \n",
       "4    1      0           0                 0                      0         0   \n",
       "\n",
       "   psychosis  seizure  non_scarring_alopecia  oral_ulcers  ...  \\\n",
       "0          0        0                      0            0  ...   \n",
       "1          0        0                      0            0  ...   \n",
       "2          1        0                      0            0  ...   \n",
       "3          0        0                      1            0  ...   \n",
       "4          0        0                      1            0  ...   \n",
       "\n",
       "   joint_involvement  proteinuria  anti_cardioliphin_antibodies  \\\n",
       "0                  1            0                             0   \n",
       "1                  0            1                             0   \n",
       "2                  1            0                             0   \n",
       "3                  0            0                             0   \n",
       "4                  1            0                             0   \n",
       "\n",
       "   anti_β2gp1_antibodies  lupus_anti_coagulant  low_c3  low_c4  \\\n",
       "0                      0                     0       0       0   \n",
       "1                      0                     0       0       0   \n",
       "2                      0                     1       1       0   \n",
       "3                      0                     1       0       0   \n",
       "4                      0                     0       1       0   \n",
       "\n",
       "   anti_dsdna_antibody  anti_smith_antibody  label  \n",
       "0                    0                    0      1  \n",
       "1                    1                    0      1  \n",
       "2                    0                    0      1  \n",
       "3                    1                    0      1  \n",
       "4                    0                    0      1  \n",
       "\n",
       "[5 rows x 24 columns]"
      ]
     },
     "execution_count": 7,
     "metadata": {},
     "output_type": "execute_result"
    }
   ],
   "source": [
    "testing_df = pd.read_csv('../data/test_set_constant.csv')\n",
    "testing_df.head()"
   ]
  },
  {
   "cell_type": "code",
   "execution_count": 8,
   "id": "6330b1de",
   "metadata": {},
   "outputs": [
    {
     "data": {
      "text/html": [
       "<div>\n",
       "<style scoped>\n",
       "    .dataframe tbody tr th:only-of-type {\n",
       "        vertical-align: middle;\n",
       "    }\n",
       "\n",
       "    .dataframe tbody tr th {\n",
       "        vertical-align: top;\n",
       "    }\n",
       "\n",
       "    .dataframe thead th {\n",
       "        text-align: right;\n",
       "    }\n",
       "</style>\n",
       "<table border=\"1\" class=\"dataframe\">\n",
       "  <thead>\n",
       "    <tr style=\"text-align: right;\">\n",
       "      <th></th>\n",
       "      <th>ana</th>\n",
       "      <th>fever</th>\n",
       "      <th>leukopenia</th>\n",
       "      <th>thrombocytopenia</th>\n",
       "      <th>auto_immune_hemolysis</th>\n",
       "      <th>delirium</th>\n",
       "      <th>psychosis</th>\n",
       "      <th>seizure</th>\n",
       "      <th>non_scarring_alopecia</th>\n",
       "      <th>oral_ulcers</th>\n",
       "      <th>...</th>\n",
       "      <th>joint_involvement</th>\n",
       "      <th>proteinuria</th>\n",
       "      <th>anti_cardioliphin_antibodies</th>\n",
       "      <th>anti_β2gp1_antibodies</th>\n",
       "      <th>lupus_anti_coagulant</th>\n",
       "      <th>low_c3</th>\n",
       "      <th>low_c4</th>\n",
       "      <th>anti_dsdna_antibody</th>\n",
       "      <th>anti_smith_antibody</th>\n",
       "      <th>label</th>\n",
       "    </tr>\n",
       "  </thead>\n",
       "  <tbody>\n",
       "    <tr>\n",
       "      <th>0</th>\n",
       "      <td>0</td>\n",
       "      <td>1</td>\n",
       "      <td>0</td>\n",
       "      <td>0</td>\n",
       "      <td>0</td>\n",
       "      <td>0</td>\n",
       "      <td>0</td>\n",
       "      <td>0</td>\n",
       "      <td>0</td>\n",
       "      <td>0</td>\n",
       "      <td>...</td>\n",
       "      <td>1</td>\n",
       "      <td>0</td>\n",
       "      <td>0</td>\n",
       "      <td>0</td>\n",
       "      <td>0</td>\n",
       "      <td>0</td>\n",
       "      <td>0</td>\n",
       "      <td>0</td>\n",
       "      <td>0</td>\n",
       "      <td>0</td>\n",
       "    </tr>\n",
       "    <tr>\n",
       "      <th>1</th>\n",
       "      <td>0</td>\n",
       "      <td>0</td>\n",
       "      <td>0</td>\n",
       "      <td>0</td>\n",
       "      <td>0</td>\n",
       "      <td>1</td>\n",
       "      <td>0</td>\n",
       "      <td>0</td>\n",
       "      <td>0</td>\n",
       "      <td>0</td>\n",
       "      <td>...</td>\n",
       "      <td>0</td>\n",
       "      <td>0</td>\n",
       "      <td>0</td>\n",
       "      <td>0</td>\n",
       "      <td>0</td>\n",
       "      <td>0</td>\n",
       "      <td>0</td>\n",
       "      <td>0</td>\n",
       "      <td>0</td>\n",
       "      <td>0</td>\n",
       "    </tr>\n",
       "    <tr>\n",
       "      <th>2</th>\n",
       "      <td>1</td>\n",
       "      <td>0</td>\n",
       "      <td>0</td>\n",
       "      <td>0</td>\n",
       "      <td>0</td>\n",
       "      <td>1</td>\n",
       "      <td>0</td>\n",
       "      <td>0</td>\n",
       "      <td>0</td>\n",
       "      <td>0</td>\n",
       "      <td>...</td>\n",
       "      <td>0</td>\n",
       "      <td>0</td>\n",
       "      <td>0</td>\n",
       "      <td>0</td>\n",
       "      <td>0</td>\n",
       "      <td>0</td>\n",
       "      <td>0</td>\n",
       "      <td>1</td>\n",
       "      <td>0</td>\n",
       "      <td>1</td>\n",
       "    </tr>\n",
       "    <tr>\n",
       "      <th>3</th>\n",
       "      <td>1</td>\n",
       "      <td>0</td>\n",
       "      <td>0</td>\n",
       "      <td>0</td>\n",
       "      <td>0</td>\n",
       "      <td>0</td>\n",
       "      <td>0</td>\n",
       "      <td>1</td>\n",
       "      <td>1</td>\n",
       "      <td>0</td>\n",
       "      <td>...</td>\n",
       "      <td>0</td>\n",
       "      <td>1</td>\n",
       "      <td>0</td>\n",
       "      <td>0</td>\n",
       "      <td>0</td>\n",
       "      <td>0</td>\n",
       "      <td>0</td>\n",
       "      <td>1</td>\n",
       "      <td>1</td>\n",
       "      <td>1</td>\n",
       "    </tr>\n",
       "    <tr>\n",
       "      <th>4</th>\n",
       "      <td>1</td>\n",
       "      <td>0</td>\n",
       "      <td>0</td>\n",
       "      <td>1</td>\n",
       "      <td>1</td>\n",
       "      <td>1</td>\n",
       "      <td>0</td>\n",
       "      <td>0</td>\n",
       "      <td>0</td>\n",
       "      <td>0</td>\n",
       "      <td>...</td>\n",
       "      <td>0</td>\n",
       "      <td>1</td>\n",
       "      <td>0</td>\n",
       "      <td>0</td>\n",
       "      <td>0</td>\n",
       "      <td>1</td>\n",
       "      <td>0</td>\n",
       "      <td>0</td>\n",
       "      <td>1</td>\n",
       "      <td>1</td>\n",
       "    </tr>\n",
       "  </tbody>\n",
       "</table>\n",
       "<p>5 rows × 24 columns</p>\n",
       "</div>"
      ],
      "text/plain": [
       "   ana  fever  leukopenia  thrombocytopenia  auto_immune_hemolysis  delirium  \\\n",
       "0    0      1           0                 0                      0         0   \n",
       "1    0      0           0                 0                      0         1   \n",
       "2    1      0           0                 0                      0         1   \n",
       "3    1      0           0                 0                      0         0   \n",
       "4    1      0           0                 1                      1         1   \n",
       "\n",
       "   psychosis  seizure  non_scarring_alopecia  oral_ulcers  ...  \\\n",
       "0          0        0                      0            0  ...   \n",
       "1          0        0                      0            0  ...   \n",
       "2          0        0                      0            0  ...   \n",
       "3          0        1                      1            0  ...   \n",
       "4          0        0                      0            0  ...   \n",
       "\n",
       "   joint_involvement  proteinuria  anti_cardioliphin_antibodies  \\\n",
       "0                  1            0                             0   \n",
       "1                  0            0                             0   \n",
       "2                  0            0                             0   \n",
       "3                  0            1                             0   \n",
       "4                  0            1                             0   \n",
       "\n",
       "   anti_β2gp1_antibodies  lupus_anti_coagulant  low_c3  low_c4  \\\n",
       "0                      0                     0       0       0   \n",
       "1                      0                     0       0       0   \n",
       "2                      0                     0       0       0   \n",
       "3                      0                     0       0       0   \n",
       "4                      0                     0       1       0   \n",
       "\n",
       "   anti_dsdna_antibody  anti_smith_antibody  label  \n",
       "0                    0                    0      0  \n",
       "1                    0                    0      0  \n",
       "2                    1                    0      1  \n",
       "3                    1                    1      1  \n",
       "4                    0                    1      1  \n",
       "\n",
       "[5 rows x 24 columns]"
      ]
     },
     "execution_count": 8,
     "metadata": {},
     "output_type": "execute_result"
    }
   ],
   "source": [
    "training_df = pd.read_csv('../data/train_set_basic.csv')\n",
    "training_df.head()"
   ]
  },
  {
   "cell_type": "markdown",
   "id": "320a0cbb",
   "metadata": {},
   "source": [
    "#### Possibly useful functions"
   ]
  },
  {
   "cell_type": "code",
   "execution_count": 9,
   "id": "76ecc7bb",
   "metadata": {},
   "outputs": [],
   "source": [
    "def generate_tuple_dict(df):\n",
    "    frequency_dict = {}\n",
    "    for traj in df.trajectory:\n",
    "        if traj in frequency_dict.keys():\n",
    "            frequency_dict[traj] += 1\n",
    "        else:\n",
    "            frequency_dict[traj] = 1\n",
    "    overall_tup_dict = {}\n",
    "    for key, value in frequency_dict.items():\n",
    "        new_key = ast.literal_eval(key)\n",
    "        for tup in zip(new_key, new_key[1:]):\n",
    "            if tup in overall_tup_dict.keys():\n",
    "                overall_tup_dict[tup] += value\n",
    "            else:\n",
    "                overall_tup_dict[tup] = value\n",
    "    return overall_tup_dict"
   ]
  },
  {
   "cell_type": "code",
   "execution_count": 10,
   "id": "2826be02",
   "metadata": {},
   "outputs": [],
   "source": [
    "def create_sankey_df(df):\n",
    "    overall_tup_dict = generate_tuple_dict(df)\n",
    "    sankey_df = pd.DataFrame()\n",
    "    sankey_df['source'] = [i[0] for i in overall_tup_dict.keys()]\n",
    "    sankey_df['target'] = [i[1] for i in overall_tup_dict.keys()]\n",
    "    sankey_df['value'] = list(overall_tup_dict.values())\n",
    "    sankey_df['link_type'] = sankey_df['target'].apply(lambda i: 'terminal' if i in ['No lupus', 'Lupus', 'Inconclusive diagnosis'] else 'non_terminal')\n",
    "    return sankey_df"
   ]
  },
  {
   "cell_type": "code",
   "execution_count": 11,
   "id": "fccdfdb8",
   "metadata": {},
   "outputs": [],
   "source": [
    "def draw_pyvis_network(pathways_df, pathway_type='network'): #second type is trajectory \n",
    "    pathways_df['type'] = 'directed'\n",
    "    start_node = pathways_df.iloc[0]['source']\n",
    "    all_nodes = list(set(pathways_df.source.unique().tolist() + pathways_df.target.unique().tolist()))\n",
    "    terminal_nodes = list(set(pathways_df[pathways_df.link_type=='terminal'].target))\n",
    "    non_terminal_nodes = [i for i in all_nodes if i not in terminal_nodes and i!=start_node]\n",
    "    \n",
    "    #change get_net to something else since it satnds for Game of Thrones\n",
    "    got_net = Network(notebook=True, height='600px', width='100%', directed=True, cdn_resources='in_line')\n",
    "    got_net.add_node(start_node, color='purple', size=20)\n",
    "    got_net.add_nodes(non_terminal_nodes, size=[15]*len(non_terminal_nodes), color=['blue']*len(non_terminal_nodes))\n",
    "    got_net.add_nodes(terminal_nodes, color=['green']*len(terminal_nodes), size=[20]*len(terminal_nodes))\n",
    "    for src, target, value, edge_thresh in zip(pathways_df.source, pathways_df.target, pathways_df.value, pathways_df.edge_threshold):\n",
    "        if pathway_type =='network':\n",
    "            if value > threshold:\n",
    "                if math.isnan(edge_thresh):\n",
    "                    got_net.add_edge(src, target, value=value, color='red')\n",
    "                else:\n",
    "                    got_net.add_edge(src, target, value=value, color='red', label=str(int(edge_thresh)))\n",
    "            else:\n",
    "                got_net.add_edge(src, target, value=value, color='blue')\n",
    "        elif pathway_type =='trajectory': #It's just one trajectory\n",
    "            if isinstance(edge_thresh, str):\n",
    "                got_net.add_edge(src, target, value=value, color='blue', label=edge_thresh)\n",
    "            else:\n",
    "                got_net.add_edge(src, target, value=value, color='blue', label=str(int(edge_thresh)))\n",
    "        else:\n",
    "            print('Unknown pathway type')\n",
    "    return got_net"
   ]
  },
  {
   "cell_type": "code",
   "execution_count": 12,
   "id": "170d97e4",
   "metadata": {},
   "outputs": [],
   "source": [
    "def get_threshold_value(df, source): #source e.g. 'ana'\n",
    "    threshold_values = df[source].unique().tolist()\n",
    "    if len(threshold_values) == 1:\n",
    "        return int(threshold_values[0])\n",
    "    else:\n",
    "        return str(threshold_values)"
   ]
  },
  {
   "cell_type": "code",
   "execution_count": 13,
   "id": "801c9d52",
   "metadata": {},
   "outputs": [],
   "source": [
    "def draw_one_trajectory(pred_df, trajectory): #pred_df = pred_no_lupus par exemple\n",
    "    trajectory_df = pred_df[pred_df.trajectory == trajectory]\n",
    "    trajectory_testing_df = testing_df.loc[trajectory_df.index]\n",
    "    trajectory_pathways_df = create_sankey_df(trajectory_df)\n",
    "    trajectory_pathways_df['edge_threshold'] = [get_threshold_value(trajectory_testing_df, source) for source in trajectory_pathways_df.source]\n",
    "    trajectory_net = draw_pyvis_network(trajectory_pathways_df, 'trajectory')   \n",
    "    return trajectory_net"
   ]
  },
  {
   "cell_type": "markdown",
   "id": "33ae15e4",
   "metadata": {},
   "source": [
    "#### No lupus diagnosis"
   ]
  },
  {
   "cell_type": "markdown",
   "id": "690ed49a",
   "metadata": {},
   "source": [
    "##### shortest pathway"
   ]
  },
  {
   "cell_type": "code",
   "execution_count": 14,
   "id": "6d23f036",
   "metadata": {},
   "outputs": [
    {
     "data": {
      "text/plain": [
       "\"['leukopenia', 'anti_dsdna_antibody', 'low_c3', 'low_c4', 'pericardial_effusion', 'ana', 'No lupus']\""
      ]
     },
     "execution_count": 14,
     "metadata": {},
     "output_type": "execute_result"
    }
   ],
   "source": [
    "pred_no_lupus = test_df[test_df['y_pred']==0]\n",
    "shortest_no_lupus_path = pred_no_lupus[pred_no_lupus.episode_length == pred_no_lupus.episode_length.min()].trajectory.unique()[0]\n",
    "shortest_no_lupus_path"
   ]
  },
  {
   "cell_type": "code",
   "execution_count": 15,
   "id": "7cc81ffd",
   "metadata": {},
   "outputs": [
    {
     "name": "stdout",
     "output_type": "stream",
     "text": [
      "Example.html\n"
     ]
    },
    {
     "data": {
      "text/html": [
       "\n",
       "        <iframe\n",
       "            width=\"100%\"\n",
       "            height=\"600px\"\n",
       "            src=\"Example.html\"\n",
       "            frameborder=\"0\"\n",
       "            allowfullscreen\n",
       "            \n",
       "        ></iframe>\n",
       "        "
      ],
      "text/plain": [
       "<IPython.lib.display.IFrame at 0x7f56cb635990>"
      ]
     },
     "execution_count": 15,
     "metadata": {},
     "output_type": "execute_result"
    }
   ],
   "source": [
    "shortest_no_lupus_path_net = draw_one_trajectory(pred_no_lupus, shortest_no_lupus_path)\n",
    "shortest_no_lupus_path_net.show('Example.html')"
   ]
  },
  {
   "cell_type": "markdown",
   "id": "eb36cf80",
   "metadata": {},
   "source": [
    "##### commonest pathway "
   ]
  },
  {
   "cell_type": "code",
   "execution_count": 20,
   "id": "be865831",
   "metadata": {},
   "outputs": [
    {
     "name": "stdout",
     "output_type": "stream",
     "text": [
      "Example.html\n"
     ]
    },
    {
     "data": {
      "text/html": [
       "\n",
       "        <iframe\n",
       "            width=\"100%\"\n",
       "            height=\"600px\"\n",
       "            src=\"Example.html\"\n",
       "            frameborder=\"0\"\n",
       "            allowfullscreen\n",
       "            \n",
       "        ></iframe>\n",
       "        "
      ],
      "text/plain": [
       "<IPython.lib.display.IFrame at 0x7f63ac0b5dd0>"
      ]
     },
     "execution_count": 20,
     "metadata": {},
     "output_type": "execute_result"
    }
   ],
   "source": [
    "commonest_no_lupus_path = pred_no_lupus.trajectory.value_counts().index[0]\n",
    "commonest_no_lupus_path_net = draw_one_trajectory(pred_no_lupus, commonest_no_lupus_path)\n",
    "commonest_no_lupus_path_net.show('Example.html')"
   ]
  },
  {
   "cell_type": "code",
   "execution_count": 34,
   "id": "ef8db0fe",
   "metadata": {},
   "outputs": [
    {
     "data": {
      "text/plain": [
       "3954"
      ]
     },
     "execution_count": 34,
     "metadata": {},
     "output_type": "execute_result"
    }
   ],
   "source": [
    "len(pred_no_lupus[pred_no_lupus.trajectory == commonest_no_lupus_path])"
   ]
  },
  {
   "cell_type": "markdown",
   "id": "ab2de03c",
   "metadata": {},
   "source": [
    "##### second commonest pathway"
   ]
  },
  {
   "cell_type": "code",
   "execution_count": 21,
   "id": "05cdee75",
   "metadata": {},
   "outputs": [
    {
     "name": "stdout",
     "output_type": "stream",
     "text": [
      "Example.html\n"
     ]
    },
    {
     "data": {
      "text/html": [
       "\n",
       "        <iframe\n",
       "            width=\"100%\"\n",
       "            height=\"600px\"\n",
       "            src=\"Example.html\"\n",
       "            frameborder=\"0\"\n",
       "            allowfullscreen\n",
       "            \n",
       "        ></iframe>\n",
       "        "
      ],
      "text/plain": [
       "<IPython.lib.display.IFrame at 0x7f637d192590>"
      ]
     },
     "execution_count": 21,
     "metadata": {},
     "output_type": "execute_result"
    }
   ],
   "source": [
    "commonest_no_lupus_path2 = pred_no_lupus.trajectory.value_counts().index[1]\n",
    "commonest_no_lupus_path2_net = draw_one_trajectory(pred_no_lupus, commonest_no_lupus_path2)\n",
    "commonest_no_lupus_path2_net.show('Example.html')"
   ]
  },
  {
   "cell_type": "code",
   "execution_count": 35,
   "id": "ea98b2d2",
   "metadata": {},
   "outputs": [
    {
     "data": {
      "text/plain": [
       "562"
      ]
     },
     "execution_count": 35,
     "metadata": {},
     "output_type": "execute_result"
    }
   ],
   "source": [
    "len(pred_no_lupus[pred_no_lupus.trajectory == commonest_no_lupus_path2])"
   ]
  },
  {
   "cell_type": "markdown",
   "id": "4ffe333b",
   "metadata": {},
   "source": [
    "##### longest pathways = 37"
   ]
  },
  {
   "cell_type": "code",
   "execution_count": 24,
   "id": "df5da140",
   "metadata": {},
   "outputs": [
    {
     "data": {
      "text/plain": [
       "['ana', 'anti_dsdna_antibody', 'joint_involvement', 'low_c3', 'pericardial_effusion', 'pleural_effusion', 'proteinuria', 'delirium', 'thrombocytopenia', 'leukopenia', 'lupus_anti_coagulant', 'oral_ulcers', 'seizure', 'anti_β2gp1_antibodies', 'low_c4', 'psychosis', 'anti_cardioliphin_antibodies', 'fever', 'non_scarring_alopecia', 'anti_smith_antibody', 'cutaneous_lupus', 'auto_immune_hemolysis', 'acute_pericarditis', 'No lupus']    29\n",
       "['ana', 'anti_dsdna_antibody', 'joint_involvement', 'low_c3', 'pleural_effusion', 'lupus_anti_coagulant', 'pericardial_effusion', 'proteinuria', 'thrombocytopenia', 'delirium', 'psychosis', 'oral_ulcers', 'anti_smith_antibody', 'seizure', 'anti_β2gp1_antibodies', 'leukopenia', 'acute_pericarditis', 'fever', 'anti_cardioliphin_antibodies', 'cutaneous_lupus', 'non_scarring_alopecia', 'auto_immune_hemolysis', 'low_c4', 'No lupus']    27\n",
       "['ana', 'anti_dsdna_antibody', 'joint_involvement', 'pleural_effusion', 'proteinuria', 'low_c3', 'pericardial_effusion', 'lupus_anti_coagulant', 'leukopenia', 'delirium', 'thrombocytopenia', 'oral_ulcers', 'psychosis', 'seizure', 'low_c4', 'anti_cardioliphin_antibodies', 'anti_β2gp1_antibodies', 'anti_smith_antibody', 'cutaneous_lupus', 'fever', 'non_scarring_alopecia', 'auto_immune_hemolysis', 'acute_pericarditis', 'No lupus']    25\n",
       "['ana', 'anti_dsdna_antibody', 'joint_involvement', 'low_c3', 'pleural_effusion', 'lupus_anti_coagulant', 'pericardial_effusion', 'proteinuria', 'thrombocytopenia', 'delirium', 'anti_smith_antibody', 'seizure', 'oral_ulcers', 'anti_β2gp1_antibodies', 'psychosis', 'low_c4', 'leukopenia', 'acute_pericarditis', 'anti_cardioliphin_antibodies', 'fever', 'cutaneous_lupus', 'non_scarring_alopecia', 'auto_immune_hemolysis', 'No lupus']    24\n",
       "['ana', 'anti_dsdna_antibody', 'joint_involvement', 'low_c3', 'pleural_effusion', 'lupus_anti_coagulant', 'pericardial_effusion', 'proteinuria', 'thrombocytopenia', 'delirium', 'anti_smith_antibody', 'seizure', 'oral_ulcers', 'anti_β2gp1_antibodies', 'psychosis', 'low_c4', 'leukopenia', 'acute_pericarditis', 'anti_cardioliphin_antibodies', 'fever', 'non_scarring_alopecia', 'cutaneous_lupus', 'auto_immune_hemolysis', 'No lupus']    11\n",
       "Name: trajectory, dtype: int64"
      ]
     },
     "execution_count": 24,
     "metadata": {},
     "output_type": "execute_result"
    }
   ],
   "source": [
    "pred_no_lupus[pred_no_lupus.episode_length == pred_no_lupus.episode_length.max()].trajectory.value_counts()[:5]"
   ]
  },
  {
   "cell_type": "code",
   "execution_count": 29,
   "id": "a97f9101",
   "metadata": {},
   "outputs": [
    {
     "data": {
      "text/plain": [
       "\"['ana', 'anti_dsdna_antibody', 'joint_involvement', 'low_c3', 'pericardial_effusion', 'pleural_effusion', 'proteinuria', 'delirium', 'thrombocytopenia', 'leukopenia', 'lupus_anti_coagulant', 'oral_ulcers', 'seizure', 'anti_β2gp1_antibodies', 'low_c4', 'psychosis', 'anti_cardioliphin_antibodies', 'fever', 'non_scarring_alopecia', 'anti_smith_antibody', 'cutaneous_lupus', 'auto_immune_hemolysis', 'acute_pericarditis', 'No lupus']\""
      ]
     },
     "execution_count": 29,
     "metadata": {},
     "output_type": "execute_result"
    }
   ],
   "source": [
    "longest_no_lupus_path1 = pred_no_lupus[pred_no_lupus.episode_length==pred_no_lupus.episode_length.max()].trajectory.value_counts().index[0]\n",
    "longest_no_lupus_path2 = pred_no_lupus[pred_no_lupus.episode_length==pred_no_lupus.episode_length.max()].trajectory.value_counts().index[1]\n",
    "longest_no_lupus_path3 = pred_no_lupus[pred_no_lupus.episode_length==pred_no_lupus.episode_length.max()].trajectory.value_counts().index[2]\n",
    "longest_no_lupus_path1"
   ]
  },
  {
   "cell_type": "code",
   "execution_count": 30,
   "id": "22097fe1",
   "metadata": {},
   "outputs": [
    {
     "name": "stdout",
     "output_type": "stream",
     "text": [
      "Example.html\n"
     ]
    },
    {
     "data": {
      "text/html": [
       "\n",
       "        <iframe\n",
       "            width=\"100%\"\n",
       "            height=\"600px\"\n",
       "            src=\"Example.html\"\n",
       "            frameborder=\"0\"\n",
       "            allowfullscreen\n",
       "            \n",
       "        ></iframe>\n",
       "        "
      ],
      "text/plain": [
       "<IPython.lib.display.IFrame at 0x7f637d1d3990>"
      ]
     },
     "execution_count": 30,
     "metadata": {},
     "output_type": "execute_result"
    }
   ],
   "source": [
    "longest_no_lupus_path1_net = draw_one_trajectory(pred_no_lupus, longest_no_lupus_path1)\n",
    "longest_no_lupus_path1_net.show('Example.html')"
   ]
  },
  {
   "cell_type": "code",
   "execution_count": 36,
   "id": "f3253a78",
   "metadata": {},
   "outputs": [
    {
     "data": {
      "text/plain": [
       "29"
      ]
     },
     "execution_count": 36,
     "metadata": {},
     "output_type": "execute_result"
    }
   ],
   "source": [
    "len(pred_no_lupus[pred_no_lupus.trajectory == longest_no_lupus_path1])"
   ]
  },
  {
   "cell_type": "code",
   "execution_count": 31,
   "id": "772d4eb0",
   "metadata": {},
   "outputs": [
    {
     "name": "stdout",
     "output_type": "stream",
     "text": [
      "Example.html\n"
     ]
    },
    {
     "data": {
      "text/html": [
       "\n",
       "        <iframe\n",
       "            width=\"100%\"\n",
       "            height=\"600px\"\n",
       "            src=\"Example.html\"\n",
       "            frameborder=\"0\"\n",
       "            allowfullscreen\n",
       "            \n",
       "        ></iframe>\n",
       "        "
      ],
      "text/plain": [
       "<IPython.lib.display.IFrame at 0x7f6375ba7bd0>"
      ]
     },
     "execution_count": 31,
     "metadata": {},
     "output_type": "execute_result"
    }
   ],
   "source": [
    "longest_no_lupus_path2_net = draw_one_trajectory(pred_no_lupus, longest_no_lupus_path2)\n",
    "longest_no_lupus_path2_net.show('Example.html')"
   ]
  },
  {
   "cell_type": "code",
   "execution_count": 37,
   "id": "bbeae7b6",
   "metadata": {},
   "outputs": [
    {
     "data": {
      "text/plain": [
       "27"
      ]
     },
     "execution_count": 37,
     "metadata": {},
     "output_type": "execute_result"
    }
   ],
   "source": [
    "len(pred_no_lupus[pred_no_lupus.trajectory == longest_no_lupus_path2])"
   ]
  },
  {
   "cell_type": "code",
   "execution_count": 32,
   "id": "ff7f05e1",
   "metadata": {},
   "outputs": [
    {
     "name": "stdout",
     "output_type": "stream",
     "text": [
      "Example.html\n"
     ]
    },
    {
     "data": {
      "text/html": [
       "\n",
       "        <iframe\n",
       "            width=\"100%\"\n",
       "            height=\"600px\"\n",
       "            src=\"Example.html\"\n",
       "            frameborder=\"0\"\n",
       "            allowfullscreen\n",
       "            \n",
       "        ></iframe>\n",
       "        "
      ],
      "text/plain": [
       "<IPython.lib.display.IFrame at 0x7f6379c76310>"
      ]
     },
     "execution_count": 32,
     "metadata": {},
     "output_type": "execute_result"
    }
   ],
   "source": [
    "longest_no_lupus_path3_net = draw_one_trajectory(pred_no_lupus, longest_no_lupus_path3)\n",
    "longest_no_lupus_path3_net.show('Example.html')"
   ]
  },
  {
   "cell_type": "code",
   "execution_count": 38,
   "id": "7882d8be",
   "metadata": {},
   "outputs": [
    {
     "data": {
      "text/plain": [
       "25"
      ]
     },
     "execution_count": 38,
     "metadata": {},
     "output_type": "execute_result"
    }
   ],
   "source": [
    "len(pred_no_lupus[pred_no_lupus.trajectory == longest_no_lupus_path3])"
   ]
  },
  {
   "cell_type": "code",
   "execution_count": 2,
   "id": "54b83ada",
   "metadata": {},
   "outputs": [
    {
     "data": {
      "text/plain": [
       "\"['ana', 'joint_involvement', 'anti_dsdna_antibody', 'low_c3', 'anti_smith_antibody', 'fever', 'psychosis', 'non_scarring_alopecia', 'pleural_effusion', 'cutaneous_lupus', 'seizure', 'leukopenia', 'low_c4', 'pericardial_effusion', 'No lupus']\""
      ]
     },
     "execution_count": 2,
     "metadata": {},
     "output_type": "execute_result"
    }
   ],
   "source": [
    "samp_pathway = str(['ana', 'joint_involvement', 'anti_dsdna_antibody', 'low_c3', 'anti_smith_antibody', 'fever', 'psychosis', 'non_scarring_alopecia', 'pleural_effusion', 'cutaneous_lupus', 'seizure', 'leukopenia', 'low_c4', 'pericardial_effusion', 'No lupus'])\n",
    "samp_pathway"
   ]
  },
  {
   "cell_type": "code",
   "execution_count": 17,
   "id": "0cf1a9ca",
   "metadata": {},
   "outputs": [
    {
     "name": "stdout",
     "output_type": "stream",
     "text": [
      "Example.html\n"
     ]
    },
    {
     "data": {
      "text/html": [
       "\n",
       "        <iframe\n",
       "            width=\"100%\"\n",
       "            height=\"600px\"\n",
       "            src=\"Example.html\"\n",
       "            frameborder=\"0\"\n",
       "            allowfullscreen\n",
       "            \n",
       "        ></iframe>\n",
       "        "
      ],
      "text/plain": [
       "<IPython.lib.display.IFrame at 0x7f9fedbb2410>"
      ]
     },
     "execution_count": 17,
     "metadata": {},
     "output_type": "execute_result"
    }
   ],
   "source": [
    "a = pred_no_lupus[(pred_no_lupus.trajectory==samp_pathway)&(pred_no_lupus.y_actual != pred_no_lupus.y_pred)]\n",
    "draw_one_trajectory(a, samp_pathway).show('Example.html')"
   ]
  },
  {
   "cell_type": "code",
   "execution_count": 24,
   "id": "2f072f6d",
   "metadata": {},
   "outputs": [
    {
     "data": {
      "text/plain": [
       "195"
      ]
     },
     "execution_count": 24,
     "metadata": {},
     "output_type": "execute_result"
    }
   ],
   "source": [
    "len(test_df[test_df.trajectory==samp_pathway])"
   ]
  },
  {
   "cell_type": "code",
   "execution_count": null,
   "id": "e9a97703",
   "metadata": {},
   "outputs": [],
   "source": []
  }
 ],
 "metadata": {
  "kernelspec": {
   "display_name": "Python 3 (ipykernel)",
   "language": "python",
   "name": "python3"
  },
  "language_info": {
   "codemirror_mode": {
    "name": "ipython",
    "version": 3
   },
   "file_extension": ".py",
   "mimetype": "text/x-python",
   "name": "python",
   "nbconvert_exporter": "python",
   "pygments_lexer": "ipython3",
   "version": "3.7.4"
  }
 },
 "nbformat": 4,
 "nbformat_minor": 5
}

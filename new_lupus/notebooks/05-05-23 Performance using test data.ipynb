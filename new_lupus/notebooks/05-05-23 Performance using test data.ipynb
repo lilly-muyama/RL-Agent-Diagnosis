{
 "cells": [
  {
   "cell_type": "code",
   "execution_count": 1,
   "id": "70007020",
   "metadata": {},
   "outputs": [
    {
     "name": "stdout",
     "output_type": "stream",
     "text": [
      "WARNING:tensorflow:\n",
      "The TensorFlow contrib module will not be included in TensorFlow 2.0.\n",
      "For more information, please see:\n",
      "  * https://github.com/tensorflow/community/blob/master/rfcs/20180907-contrib-sunset.md\n",
      "  * https://github.com/tensorflow/addons\n",
      "  * https://github.com/tensorflow/io (for I/O related ops)\n",
      "If you depend on functionality not listed there, please file an issue.\n",
      "\n"
     ]
    },
    {
     "name": "stderr",
     "output_type": "stream",
     "text": [
      "Invalid MIT-MAGIC-COOKIE-1 key/home/lmuyama/anaconda3/envs/stable_baselines_tf2_env/lib/python3.7/site-packages/stable_baselines/__init__.py:33: UserWarning: stable-baselines is in maintenance mode, please use [Stable-Baselines3 (SB3)](https://github.com/DLR-RM/stable-baselines3) for an up-to-date version. You can find a [migration guide](https://stable-baselines3.readthedocs.io/en/master/guide/migration.html) in SB3 documentation.\n",
      "  \"stable-baselines is in maintenance mode, please use [Stable-Baselines3 (SB3)](https://github.com/DLR-RM/stable-baselines3) for an up-to-date version. You can find a [migration guide](https://stable-baselines3.readthedocs.io/en/master/guide/migration.html) in SB3 documentation.\"\n"
     ]
    },
    {
     "name": "stdout",
     "output_type": "stream",
     "text": [
      "WARNING:tensorflow:From ../modules/utils.py:33: The name tf.set_random_seed is deprecated. Please use tf.compat.v1.set_random_seed instead.\n",
      "\n"
     ]
    }
   ],
   "source": [
    "import pandas as pd\n",
    "import numpy as np\n",
    "import random\n",
    "import os\n",
    "import tensorflow as tf\n",
    "import sys\n",
    "sys.path.append('..')\n",
    "from modules import utils, constants \n",
    "from modules.env import LupusEnv"
   ]
  },
  {
   "cell_type": "code",
   "execution_count": 2,
   "id": "c61b8779",
   "metadata": {},
   "outputs": [
    {
     "data": {
      "text/plain": [
       "126"
      ]
     },
     "execution_count": 2,
     "metadata": {},
     "output_type": "execute_result"
    }
   ],
   "source": [
    "SEED = 126\n",
    "random.seed(SEED)\n",
    "np.random.seed(SEED)\n",
    "os.environ['PYTHONHASHSEED']=str(SEED)\n",
    "tf.set_random_seed(SEED)\n",
    "tf.compat.v1.set_random_seed(SEED)\n",
    "SEED"
   ]
  },
  {
   "cell_type": "code",
   "execution_count": 3,
   "id": "365b8890",
   "metadata": {},
   "outputs": [
    {
     "data": {
      "text/html": [
       "<div>\n",
       "<style scoped>\n",
       "    .dataframe tbody tr th:only-of-type {\n",
       "        vertical-align: middle;\n",
       "    }\n",
       "\n",
       "    .dataframe tbody tr th {\n",
       "        vertical-align: top;\n",
       "    }\n",
       "\n",
       "    .dataframe thead th {\n",
       "        text-align: right;\n",
       "    }\n",
       "</style>\n",
       "<table border=\"1\" class=\"dataframe\">\n",
       "  <thead>\n",
       "    <tr style=\"text-align: right;\">\n",
       "      <th></th>\n",
       "      <th>ana</th>\n",
       "      <th>fever</th>\n",
       "      <th>leukopenia</th>\n",
       "      <th>thrombocytopenia</th>\n",
       "      <th>auto_immune_hemolysis</th>\n",
       "      <th>delirium</th>\n",
       "      <th>psychosis</th>\n",
       "      <th>seizure</th>\n",
       "      <th>non_scarring_alopecia</th>\n",
       "      <th>oral_ulcers</th>\n",
       "      <th>...</th>\n",
       "      <th>proteinuria</th>\n",
       "      <th>biopsy_proven_lupus_nephritis</th>\n",
       "      <th>anti_cardioliphin_antibodies</th>\n",
       "      <th>anti_β2gp1_antibodies</th>\n",
       "      <th>lupus_anti_coagulant</th>\n",
       "      <th>low_c3</th>\n",
       "      <th>low_c4</th>\n",
       "      <th>anti_dsdna_antibody</th>\n",
       "      <th>anti_smith_antibody</th>\n",
       "      <th>label</th>\n",
       "    </tr>\n",
       "  </thead>\n",
       "  <tbody>\n",
       "    <tr>\n",
       "      <th>0</th>\n",
       "      <td>1</td>\n",
       "      <td>0</td>\n",
       "      <td>1</td>\n",
       "      <td>0</td>\n",
       "      <td>0</td>\n",
       "      <td>0</td>\n",
       "      <td>0</td>\n",
       "      <td>0</td>\n",
       "      <td>0</td>\n",
       "      <td>0</td>\n",
       "      <td>...</td>\n",
       "      <td>1</td>\n",
       "      <td>0</td>\n",
       "      <td>0</td>\n",
       "      <td>0</td>\n",
       "      <td>0</td>\n",
       "      <td>1</td>\n",
       "      <td>0</td>\n",
       "      <td>1</td>\n",
       "      <td>0</td>\n",
       "      <td>1</td>\n",
       "    </tr>\n",
       "    <tr>\n",
       "      <th>1</th>\n",
       "      <td>1</td>\n",
       "      <td>0</td>\n",
       "      <td>0</td>\n",
       "      <td>0</td>\n",
       "      <td>0</td>\n",
       "      <td>0</td>\n",
       "      <td>0</td>\n",
       "      <td>0</td>\n",
       "      <td>0</td>\n",
       "      <td>0</td>\n",
       "      <td>...</td>\n",
       "      <td>0</td>\n",
       "      <td>0</td>\n",
       "      <td>0</td>\n",
       "      <td>0</td>\n",
       "      <td>0</td>\n",
       "      <td>0</td>\n",
       "      <td>1</td>\n",
       "      <td>0</td>\n",
       "      <td>0</td>\n",
       "      <td>0</td>\n",
       "    </tr>\n",
       "    <tr>\n",
       "      <th>2</th>\n",
       "      <td>1</td>\n",
       "      <td>0</td>\n",
       "      <td>1</td>\n",
       "      <td>0</td>\n",
       "      <td>0</td>\n",
       "      <td>0</td>\n",
       "      <td>0</td>\n",
       "      <td>0</td>\n",
       "      <td>0</td>\n",
       "      <td>0</td>\n",
       "      <td>...</td>\n",
       "      <td>0</td>\n",
       "      <td>0</td>\n",
       "      <td>0</td>\n",
       "      <td>0</td>\n",
       "      <td>0</td>\n",
       "      <td>1</td>\n",
       "      <td>0</td>\n",
       "      <td>1</td>\n",
       "      <td>0</td>\n",
       "      <td>1</td>\n",
       "    </tr>\n",
       "    <tr>\n",
       "      <th>3</th>\n",
       "      <td>1</td>\n",
       "      <td>0</td>\n",
       "      <td>0</td>\n",
       "      <td>0</td>\n",
       "      <td>0</td>\n",
       "      <td>0</td>\n",
       "      <td>0</td>\n",
       "      <td>0</td>\n",
       "      <td>1</td>\n",
       "      <td>0</td>\n",
       "      <td>...</td>\n",
       "      <td>0</td>\n",
       "      <td>0</td>\n",
       "      <td>0</td>\n",
       "      <td>0</td>\n",
       "      <td>0</td>\n",
       "      <td>0</td>\n",
       "      <td>0</td>\n",
       "      <td>0</td>\n",
       "      <td>0</td>\n",
       "      <td>0</td>\n",
       "    </tr>\n",
       "    <tr>\n",
       "      <th>4</th>\n",
       "      <td>1</td>\n",
       "      <td>0</td>\n",
       "      <td>0</td>\n",
       "      <td>0</td>\n",
       "      <td>0</td>\n",
       "      <td>0</td>\n",
       "      <td>0</td>\n",
       "      <td>0</td>\n",
       "      <td>0</td>\n",
       "      <td>0</td>\n",
       "      <td>...</td>\n",
       "      <td>1</td>\n",
       "      <td>4</td>\n",
       "      <td>1</td>\n",
       "      <td>0</td>\n",
       "      <td>0</td>\n",
       "      <td>0</td>\n",
       "      <td>1</td>\n",
       "      <td>0</td>\n",
       "      <td>0</td>\n",
       "      <td>1</td>\n",
       "    </tr>\n",
       "  </tbody>\n",
       "</table>\n",
       "<p>5 rows × 25 columns</p>\n",
       "</div>"
      ],
      "text/plain": [
       "   ana  fever  leukopenia  thrombocytopenia  auto_immune_hemolysis  delirium  \\\n",
       "0    1      0           1                 0                      0         0   \n",
       "1    1      0           0                 0                      0         0   \n",
       "2    1      0           1                 0                      0         0   \n",
       "3    1      0           0                 0                      0         0   \n",
       "4    1      0           0                 0                      0         0   \n",
       "\n",
       "   psychosis  seizure  non_scarring_alopecia  oral_ulcers  ...  proteinuria  \\\n",
       "0          0        0                      0            0  ...            1   \n",
       "1          0        0                      0            0  ...            0   \n",
       "2          0        0                      0            0  ...            0   \n",
       "3          0        0                      1            0  ...            0   \n",
       "4          0        0                      0            0  ...            1   \n",
       "\n",
       "   biopsy_proven_lupus_nephritis  anti_cardioliphin_antibodies  \\\n",
       "0                              0                             0   \n",
       "1                              0                             0   \n",
       "2                              0                             0   \n",
       "3                              0                             0   \n",
       "4                              4                             1   \n",
       "\n",
       "   anti_β2gp1_antibodies  lupus_anti_coagulant  low_c3  low_c4  \\\n",
       "0                      0                     0       1       0   \n",
       "1                      0                     0       0       1   \n",
       "2                      0                     0       1       0   \n",
       "3                      0                     0       0       0   \n",
       "4                      0                     0       0       1   \n",
       "\n",
       "   anti_dsdna_antibody  anti_smith_antibody  label  \n",
       "0                    1                    0      1  \n",
       "1                    0                    0      0  \n",
       "2                    1                    0      1  \n",
       "3                    0                    0      0  \n",
       "4                    0                    0      1  \n",
       "\n",
       "[5 rows x 25 columns]"
      ]
     },
     "execution_count": 3,
     "metadata": {},
     "output_type": "execute_result"
    }
   ],
   "source": [
    "test_data = pd.read_csv('../new_data/test_set_constant.csv')\n",
    "test_data = test_data.fillna(-1)\n",
    "test_data.head()"
   ]
  },
  {
   "cell_type": "code",
   "execution_count": 4,
   "id": "6e96ecd8",
   "metadata": {},
   "outputs": [
    {
     "data": {
      "text/plain": [
       "((14000, 24), (14000,))"
      ]
     },
     "execution_count": 4,
     "metadata": {},
     "output_type": "execute_result"
    }
   ],
   "source": [
    "X_test = test_data.iloc[:, 0:-1]\n",
    "y_test = test_data.iloc[:, -1]\n",
    "X_test, y_test = np.array(X_test), np.array(y_test)\n",
    "X_test.shape, y_test.shape"
   ]
  },
  {
   "cell_type": "code",
   "execution_count": 5,
   "id": "5e90a30f",
   "metadata": {},
   "outputs": [],
   "source": [
    "model_name = 'dueling_dqn_per'\n",
    "steps = int(10e7)"
   ]
  },
  {
   "cell_type": "markdown",
   "id": "a310077c",
   "metadata": {},
   "source": [
    "#### Delete from here"
   ]
  },
  {
   "cell_type": "markdown",
   "id": "82336b4f",
   "metadata": {},
   "source": [
    "#### Pathways to test"
   ]
  },
  {
   "cell_type": "code",
   "execution_count": 6,
   "id": "27c562a8",
   "metadata": {},
   "outputs": [],
   "source": [
    "# def get_distinct_pathways(test_df): #change to test_df after\n",
    "#     unique_path_list = []\n",
    "    \n",
    "#     for path in test_df.trajectory.unique():\n",
    "#         path_features = ast.literal_eval(path)\n",
    "#         fts = [i for i in path_features if i not in ['Lupus', 'No lupus']]\n",
    "#         print(path_features)\n",
    "#         path_df = test_df[test_df.trajectory == path]\n",
    "#         path_testing_df = testing_df.loc[path_df.index][fts]\n",
    "#         path_ft_vals_vc = path_testing_df.value_counts()\n",
    "#         path_unique_vals_lists = path_ft_vals_vc.index.to_list()\n",
    "#         path_sample_nums = path_ft_vals_vc.values\n",
    "        \n",
    "#         for i in range(len(path_unique_vals_lists)):\n",
    "#             unique_path_list.append(\n",
    "#                 {'features':path_features, 'values':path_unique_vals_lists[i], 'sample_num':path_sample_nums[i]}\n",
    "#             )\n",
    "#     return unique_path_list"
   ]
  },
  {
   "cell_type": "code",
   "execution_count": 7,
   "id": "0037a521",
   "metadata": {},
   "outputs": [],
   "source": [
    "# def get_weighted_mean_with_path_values(test_df):\n",
    "#     weighted_mean = 0\n",
    "    \n",
    "#     distinct_pathways = get_distinct_pathways(test_df)\n",
    "#     #not yet implemented - seems it will always return 0 or 100 for the accuracy\n",
    "#     return weighted_mean "
   ]
  },
  {
   "cell_type": "markdown",
   "id": "885f889d",
   "metadata": {},
   "source": [
    "#### end here"
   ]
  },
  {
   "cell_type": "code",
   "execution_count": 8,
   "id": "5e5e9d39",
   "metadata": {},
   "outputs": [],
   "source": [
    "# dqn_model_acc = utils.load_dqn(f'../models/logs/{model_name}/biopsy_3/seed_{SEED}_{steps}/best_acc_model.zip')\n",
    "# test_df = utils.evaluate_dqn(dqn_model_acc, X_test, y_test)\n",
    "# acc, f1, roc_auc = utils.test(test_df.y_actual, test_df.y_pred)\n",
    "# acc_ft_score = utils.total_acc_feature_score(test_df)\n",
    "# print(f'{model_name}: {acc_ft_score}, {acc}, {f1}, {roc_auc}, {test_df.episode_length.min()}, {test_df.episode_length.mean()}, {test_df.episode_length.max()}')\n",
    "# print(f'{model_name}: {acc_ft_score}')"
   ]
  },
  {
   "cell_type": "code",
   "execution_count": 12,
   "id": "6646b022",
   "metadata": {},
   "outputs": [
    {
     "name": "stdout",
     "output_type": "stream",
     "text": [
      "Loading a model without an environment, this model cannot be trained until it has a valid environment.\n",
      "The environment seed is [126]\n",
      "dueling_dqn_per: pathway score:71.52055933484222, pahm_score:80.79596921615101, wpahm_score:90.14901789658451, wmean_score:0.39109095259831367, acc:92.83571428571429, f1:92.83302882892973, roc_auc:92.83290168941029, 2.0, 7.3769285714285715, 22.0\n"
     ]
    }
   ],
   "source": [
    "dqn_model_acc_ft = utils.load_dqn(f'../models/logs/{model_name}/biopsy_1/seed_{SEED}_{steps}/from_20m/best_acc_model.zip')\n",
    "# dqn_model_acc_ft = utils.load_dqn(f'../models/logs/{model_name}/biopsy_without_cost/seed_{SEED}_{steps}/best_acc_model.zip')\n",
    "test_df = utils.evaluate_dqn(dqn_model_acc_ft, X_test, y_test)\n",
    "acc, f1, roc_auc = utils.test(test_df.y_actual, test_df.y_pred)\n",
    "pathway_score = utils.get_total_pathway_score(test_df)\n",
    "pahm_score = utils.get_pahm_score(acc, pathway_score)\n",
    "wpahm_score = utils.get_weighted_pahm_score([acc, pathway_score], [0.9, 0.1])\n",
    "wmean_score = utils.get_weighted_mean(test_df)\n",
    "print(f'{model_name}: pathway score:{pathway_score}, pahm_score:{pahm_score}, wpahm_score:{wpahm_score}, wmean_score:{wmean_score}, acc:{acc}, f1:{f1}, roc_auc:{roc_auc}, {test_df.episode_length.min()}, {test_df.episode_length.mean()}, {test_df.episode_length.max()}')"
   ]
  },
  {
   "cell_type": "code",
   "execution_count": 13,
   "id": "109d1ad4",
   "metadata": {},
   "outputs": [],
   "source": [
    "# test_df.to_csv(f'../test_dfs/{model_name}_biopsy_3_best_path_pahm_{SEED}_{steps}.csv', index=False)"
   ]
  },
  {
   "cell_type": "code",
   "execution_count": 14,
   "id": "2e8018e6",
   "metadata": {},
   "outputs": [
    {
     "data": {
      "text/html": [
       "<div>\n",
       "<style scoped>\n",
       "    .dataframe tbody tr th:only-of-type {\n",
       "        vertical-align: middle;\n",
       "    }\n",
       "\n",
       "    .dataframe tbody tr th {\n",
       "        vertical-align: top;\n",
       "    }\n",
       "\n",
       "    .dataframe thead th {\n",
       "        text-align: right;\n",
       "    }\n",
       "</style>\n",
       "<table border=\"1\" class=\"dataframe\">\n",
       "  <thead>\n",
       "    <tr style=\"text-align: right;\">\n",
       "      <th></th>\n",
       "      <th>index</th>\n",
       "      <th>episode_length</th>\n",
       "      <th>reward</th>\n",
       "      <th>y_pred</th>\n",
       "      <th>y_actual</th>\n",
       "      <th>trajectory</th>\n",
       "      <th>terminated</th>\n",
       "      <th>is_success</th>\n",
       "    </tr>\n",
       "  </thead>\n",
       "  <tbody>\n",
       "    <tr>\n",
       "      <th>0</th>\n",
       "      <td>0.0</td>\n",
       "      <td>5.0</td>\n",
       "      <td>0.965038</td>\n",
       "      <td>1.0</td>\n",
       "      <td>1.0</td>\n",
       "      <td>['ana', 'non_scarring_alopecia', 'anti_dsdna_a...</td>\n",
       "      <td>0.0</td>\n",
       "      <td>1.0</td>\n",
       "    </tr>\n",
       "    <tr>\n",
       "      <th>1</th>\n",
       "      <td>1.0</td>\n",
       "      <td>8.0</td>\n",
       "      <td>0.940537</td>\n",
       "      <td>0.0</td>\n",
       "      <td>0.0</td>\n",
       "      <td>['ana', 'non_scarring_alopecia', 'anti_dsdna_a...</td>\n",
       "      <td>0.0</td>\n",
       "      <td>1.0</td>\n",
       "    </tr>\n",
       "    <tr>\n",
       "      <th>2</th>\n",
       "      <td>2.0</td>\n",
       "      <td>11.0</td>\n",
       "      <td>0.904314</td>\n",
       "      <td>1.0</td>\n",
       "      <td>1.0</td>\n",
       "      <td>['ana', 'non_scarring_alopecia', 'anti_dsdna_a...</td>\n",
       "      <td>0.0</td>\n",
       "      <td>1.0</td>\n",
       "    </tr>\n",
       "    <tr>\n",
       "      <th>3</th>\n",
       "      <td>3.0</td>\n",
       "      <td>12.0</td>\n",
       "      <td>0.904339</td>\n",
       "      <td>0.0</td>\n",
       "      <td>0.0</td>\n",
       "      <td>['ana', 'non_scarring_alopecia', 'anti_dsdna_a...</td>\n",
       "      <td>0.0</td>\n",
       "      <td>1.0</td>\n",
       "    </tr>\n",
       "    <tr>\n",
       "      <th>4</th>\n",
       "      <td>4.0</td>\n",
       "      <td>6.0</td>\n",
       "      <td>0.956491</td>\n",
       "      <td>1.0</td>\n",
       "      <td>1.0</td>\n",
       "      <td>['ana', 'non_scarring_alopecia', 'anti_dsdna_a...</td>\n",
       "      <td>0.0</td>\n",
       "      <td>1.0</td>\n",
       "    </tr>\n",
       "  </tbody>\n",
       "</table>\n",
       "</div>"
      ],
      "text/plain": [
       "   index  episode_length    reward  y_pred  y_actual  \\\n",
       "0    0.0             5.0  0.965038     1.0       1.0   \n",
       "1    1.0             8.0  0.940537     0.0       0.0   \n",
       "2    2.0            11.0  0.904314     1.0       1.0   \n",
       "3    3.0            12.0  0.904339     0.0       0.0   \n",
       "4    4.0             6.0  0.956491     1.0       1.0   \n",
       "\n",
       "                                          trajectory  terminated  is_success  \n",
       "0  ['ana', 'non_scarring_alopecia', 'anti_dsdna_a...         0.0         1.0  \n",
       "1  ['ana', 'non_scarring_alopecia', 'anti_dsdna_a...         0.0         1.0  \n",
       "2  ['ana', 'non_scarring_alopecia', 'anti_dsdna_a...         0.0         1.0  \n",
       "3  ['ana', 'non_scarring_alopecia', 'anti_dsdna_a...         0.0         1.0  \n",
       "4  ['ana', 'non_scarring_alopecia', 'anti_dsdna_a...         0.0         1.0  "
      ]
     },
     "execution_count": 14,
     "metadata": {},
     "output_type": "execute_result"
    }
   ],
   "source": [
    "test_df.head()"
   ]
  },
  {
   "cell_type": "markdown",
   "id": "6d83c2ba",
   "metadata": {},
   "source": [
    "### "
   ]
  }
 ],
 "metadata": {
  "kernelspec": {
   "display_name": "Python 3 (ipykernel)",
   "language": "python",
   "name": "python3"
  },
  "language_info": {
   "codemirror_mode": {
    "name": "ipython",
    "version": 3
   },
   "file_extension": ".py",
   "mimetype": "text/x-python",
   "name": "python",
   "nbconvert_exporter": "python",
   "pygments_lexer": "ipython3",
   "version": "3.7.4"
  }
 },
 "nbformat": 4,
 "nbformat_minor": 5
}

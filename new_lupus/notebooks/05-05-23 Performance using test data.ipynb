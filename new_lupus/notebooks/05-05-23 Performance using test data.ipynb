{
 "cells": [
  {
   "cell_type": "code",
   "execution_count": 18,
   "id": "70007020",
   "metadata": {},
   "outputs": [
    {
     "ename": "ModuleNotFoundError",
     "evalue": "No module named 'stable_baselines'",
     "output_type": "error",
     "traceback": [
      "\u001b[0;31m---------------------------------------------------------------------------\u001b[0m",
      "\u001b[0;31mModuleNotFoundError\u001b[0m                       Traceback (most recent call last)",
      "Cell \u001b[0;32mIn[18], line 8\u001b[0m\n\u001b[1;32m      6\u001b[0m \u001b[38;5;28;01mimport\u001b[39;00m \u001b[38;5;21;01msys\u001b[39;00m\n\u001b[1;32m      7\u001b[0m sys\u001b[38;5;241m.\u001b[39mpath\u001b[38;5;241m.\u001b[39mappend(\u001b[38;5;124m'\u001b[39m\u001b[38;5;124m..\u001b[39m\u001b[38;5;124m'\u001b[39m)\n\u001b[0;32m----> 8\u001b[0m \u001b[38;5;28;01mfrom\u001b[39;00m \u001b[38;5;21;01mmodules\u001b[39;00m \u001b[38;5;28;01mimport\u001b[39;00m utils, constants \n\u001b[1;32m      9\u001b[0m \u001b[38;5;28;01mfrom\u001b[39;00m \u001b[38;5;21;01mmodules\u001b[39;00m\u001b[38;5;21;01m.\u001b[39;00m\u001b[38;5;21;01menv\u001b[39;00m \u001b[38;5;28;01mimport\u001b[39;00m LupusEnv\n",
      "File \u001b[0;32m~/projects/RL-Agent-Diagnosis/new_lupus/notebooks/../modules/utils.py:1\u001b[0m\n\u001b[0;32m----> 1\u001b[0m \u001b[38;5;28;01mfrom\u001b[39;00m \u001b[38;5;21;01mstable_baselines\u001b[39;00m \u001b[38;5;28;01mimport\u001b[39;00m DQN\n\u001b[1;32m      2\u001b[0m \u001b[38;5;28;01mfrom\u001b[39;00m \u001b[38;5;21;01mmodules\u001b[39;00m\u001b[38;5;21;01m.\u001b[39;00m\u001b[38;5;21;01menv\u001b[39;00m \u001b[38;5;28;01mimport\u001b[39;00m LupusEnv\n\u001b[1;32m      3\u001b[0m \u001b[38;5;28;01mfrom\u001b[39;00m \u001b[38;5;21;01mmodules\u001b[39;00m \u001b[38;5;28;01mimport\u001b[39;00m constants \u001b[38;5;66;03m#changed this\u001b[39;00m\n",
      "\u001b[0;31mModuleNotFoundError\u001b[0m: No module named 'stable_baselines'"
     ]
    }
   ],
   "source": [
    "import pandas as pd\n",
    "import numpy as np\n",
    "import random\n",
    "import os\n",
    "# import tensorflow as tf\n",
    "# import sys\n",
    "# sys.path.append('..')\n",
    "# from modules import utils, constants \n",
    "from modules.env import LupusEnv"
   ]
  },
  {
   "cell_type": "code",
   "execution_count": null,
   "id": "c61b8779",
   "metadata": {},
   "outputs": [],
   "source": [
    "SEED = 126\n",
    "random.seed(SEED)\n",
    "np.random.seed(SEED)\n",
    "os.environ['PYTHONHASHSEED']=str(SEED)\n",
    "tf.set_random_seed(SEED)\n",
    "tf.compat.v1.set_random_seed(SEED)\n",
    "SEED"
   ]
  },
  {
   "cell_type": "code",
   "execution_count": null,
   "id": "365b8890",
   "metadata": {},
   "outputs": [],
   "source": [
    "test_data = pd.read_csv('../new_data/test_set_constant.csv')\n",
    "test_data = test_data.fillna(-1)\n",
    "test_data.head()"
   ]
  },
  {
   "cell_type": "code",
   "execution_count": null,
   "id": "6e96ecd8",
   "metadata": {},
   "outputs": [],
   "source": [
    "X_test = test_data.iloc[:, 0:-1]\n",
    "y_test = test_data.iloc[:, -1]\n",
    "X_test, y_test = np.array(X_test), np.array(y_test)\n",
    "X_test.shape, y_test.shape"
   ]
  },
  {
   "cell_type": "code",
   "execution_count": null,
   "id": "5e90a30f",
   "metadata": {},
   "outputs": [],
   "source": [
    "model_name = 'dueling_ddqn_per'\n",
    "steps = int(10e7)"
   ]
  },
  {
   "cell_type": "code",
   "execution_count": null,
   "id": "5e5e9d39",
   "metadata": {},
   "outputs": [],
   "source": [
    "# dqn_model_acc = utils.load_dqn(f'../models/logs/{model_name}/biopsy_3/seed_{SEED}_{steps}/best_acc_model.zip')\n",
    "# test_df = utils.evaluate_dqn(dqn_model_acc, X_test, y_test)\n",
    "# acc, f1, roc_auc = utils.test(test_df.y_actual, test_df.y_pred)\n",
    "# acc_ft_score = utils.total_acc_feature_score(test_df)\n",
    "# print(f'{model_name}: {acc_ft_score}, {acc}, {f1}, {roc_auc}, {test_df.episode_length.min()}, {test_df.episode_length.mean()}, {test_df.episode_length.max()}')\n",
    "# print(f'{model_name}: {acc_ft_score}')"
   ]
  },
  {
   "cell_type": "code",
   "execution_count": null,
   "id": "6646b022",
   "metadata": {},
   "outputs": [],
   "source": [
    "dqn_model_acc_ft = utils.load_dqn(f'../models/logs/{model_name}/biopsy_7/seed_{SEED}_{steps}/best_pahm_model.zip')\n",
    "# dqn_model_acc_ft = utils.load_dqn(f'../models/logs/{model_name}/biopsy_without_cost/seed_{SEED}_{steps}/best_acc_model.zip')\n",
    "test_df = utils.evaluate_dqn(dqn_model_acc_ft, X_test, y_test)\n",
    "acc, f1, roc_auc = utils.test(test_df.y_actual, test_df.y_pred)\n",
    "pathway_score = utils.total_pathway_score(test_df)\n",
    "pahm_score = utils.pathway_acc_mean_score(acc, pathway_score)\n",
    "print(f'{model_name}: {pathway_score}, {pahm_score}, {acc}, {f1}, {roc_auc}, {test_df.episode_length.min()}, {test_df.episode_length.mean()}, {test_df.episode_length.max()}')"
   ]
  },
  {
   "cell_type": "code",
   "execution_count": null,
   "id": "60104e29",
   "metadata": {},
   "outputs": [],
   "source": [
    "# test_df.to_csv(f'../test_dfs/{model_name}_biopsy_3_best_path_pahm_{SEED}_{steps}.csv', index=False)"
   ]
  },
  {
   "cell_type": "code",
   "execution_count": 41,
   "id": "23b67705",
   "metadata": {},
   "outputs": [],
   "source": [
    "accuracy = 92\n",
    "pathway_score = 48"
   ]
  },
  {
   "cell_type": "code",
   "execution_count": 42,
   "id": "45bf1268",
   "metadata": {},
   "outputs": [],
   "source": [
    "import pandas as pd"
   ]
  },
  {
   "cell_type": "code",
   "execution_count": 43,
   "id": "d1159f12",
   "metadata": {},
   "outputs": [],
   "source": [
    "from scipy.stats import hmean"
   ]
  },
  {
   "cell_type": "code",
   "execution_count": 44,
   "id": "89f75233",
   "metadata": {},
   "outputs": [
    {
     "data": {
      "text/plain": [
       "63.08571428571428"
      ]
     },
     "execution_count": 44,
     "metadata": {},
     "output_type": "execute_result"
    }
   ],
   "source": [
    "hmean([accuracy, pathway_score])"
   ]
  },
  {
   "cell_type": "code",
   "execution_count": 45,
   "id": "f429a950",
   "metadata": {},
   "outputs": [
    {
     "data": {
      "text/plain": [
       "72.15686274509804"
      ]
     },
     "execution_count": 45,
     "metadata": {},
     "output_type": "execute_result"
    }
   ],
   "source": [
    "hmean([accuracy, pathway_score], weights=[0.7, 0.3])"
   ]
  },
  {
   "cell_type": "code",
   "execution_count": 46,
   "id": "98eb329d",
   "metadata": {},
   "outputs": [
    {
     "data": {
      "text/plain": [
       "72.15686274509804"
      ]
     },
     "execution_count": 46,
     "metadata": {},
     "output_type": "execute_result"
    }
   ],
   "source": [
    "hmean([pathway_score, accuracy], weights=[0.3, 0.7])"
   ]
  },
  {
   "cell_type": "code",
   "execution_count": 39,
   "id": "e48551e1",
   "metadata": {},
   "outputs": [],
   "source": [
    "def weighted_harmonic_mean(numbers, weights):\n",
    "    whm = (weights[0] + weights[1]) / ((weights[0] / numbers[0]) + (weights[1] / numbers[1]))\n",
    "    return whm"
   ]
  },
  {
   "cell_type": "code",
   "execution_count": 40,
   "id": "4ccc74f3",
   "metadata": {},
   "outputs": [
    {
     "data": {
      "text/plain": [
       "5.882352941176471"
      ]
     },
     "execution_count": 40,
     "metadata": {},
     "output_type": "execute_result"
    }
   ],
   "source": [
    "weighted_harmonic_mean([5, 10], [0.7, 0.3])"
   ]
  },
  {
   "cell_type": "code",
   "execution_count": null,
   "id": "e3ce66f5",
   "metadata": {},
   "outputs": [],
   "source": []
  },
  {
   "cell_type": "code",
   "execution_count": null,
   "id": "fe550ccf",
   "metadata": {},
   "outputs": [],
   "source": []
  }
 ],
 "metadata": {
  "kernelspec": {
   "display_name": "Python 3 (ipykernel)",
   "language": "python",
   "name": "python3"
  },
  "language_info": {
   "codemirror_mode": {
    "name": "ipython",
    "version": 3
   },
   "file_extension": ".py",
   "mimetype": "text/x-python",
   "name": "python",
   "nbconvert_exporter": "python",
   "pygments_lexer": "ipython3",
   "version": "3.9.17"
  }
 },
 "nbformat": 4,
 "nbformat_minor": 5
}

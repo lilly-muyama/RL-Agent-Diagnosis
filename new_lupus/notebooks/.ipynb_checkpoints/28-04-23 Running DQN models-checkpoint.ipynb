{
 "cells": [
  {
   "cell_type": "code",
   "execution_count": null,
   "id": "ce50672b",
   "metadata": {},
   "outputs": [
    {
     "name": "stdout",
     "output_type": "stream",
     "text": [
      "WARNING:tensorflow:\n",
      "The TensorFlow contrib module will not be included in TensorFlow 2.0.\n",
      "For more information, please see:\n",
      "  * https://github.com/tensorflow/community/blob/master/rfcs/20180907-contrib-sunset.md\n",
      "  * https://github.com/tensorflow/addons\n",
      "  * https://github.com/tensorflow/io (for I/O related ops)\n",
      "If you depend on functionality not listed there, please file an issue.\n",
      "\n"
     ]
    }
   ],
   "source": [
    "import pandas as pd\n",
    "import numpy as np\n",
    "import tensorflow as tf\n",
    "import random\n",
    "import glob\n",
    "import os\n",
    "from multiprocessing import Process\n",
    "import sys\n",
    "sys.path.append('..')\n",
    "from modules import utils, constants"
   ]
  },
  {
   "cell_type": "code",
   "execution_count": null,
   "id": "886dbf7e",
   "metadata": {},
   "outputs": [],
   "source": [
    "SEED = constants.SEED\n",
    "random.seed(SEED)\n",
    "np.random.seed(SEED)\n",
    "os.environ['PYTHONHASHSEED']=str(SEED)\n",
    "tf.set_random_seed(SEED)\n",
    "tf.compat.v1.set_random_seed(SEED)\n",
    "SEED"
   ]
  },
  {
   "cell_type": "code",
   "execution_count": null,
   "id": "bab05958",
   "metadata": {},
   "outputs": [],
   "source": [
    "constants.BETA, constants.CHECKPOINT_FREQ"
   ]
  },
  {
   "cell_type": "code",
   "execution_count": null,
   "id": "944d299d",
   "metadata": {},
   "outputs": [],
   "source": [
    "def run_dqn_model(model_type, steps):\n",
    "    dir_name = f'seed_{SEED}_{steps}'\n",
    "    parent_dir = f'../models/logs/{model_type}/missingness/0.1/biopsy_9/learn_starts_5m'\n",
    "    path = os.path.join(parent_dir, dir_name)\n",
    "    os.mkdir(path)\n",
    "  \n",
    "    if model_type=='dqn':\n",
    "        model = utils.stable_vanilla_dqn(X_train, y_train, steps, save=True, log_path=path, log_prefix='dqn', filename=f'dqn_{steps}')\n",
    "    elif model_type=='ddqn':\n",
    "        model = utils.stable_double_dqn(X_train, y_train, steps, save=True, log_path=path, log_prefix='ddqn', filename=f'ddqn_{steps}')\n",
    "    elif model_type== 'dueling_dqn':\n",
    "        model = utils.stable_dueling_dqn(X_train, y_train, steps, save=True, log_path=path, log_prefix='dueling_dqn', filename=f'dueling_dqn_{steps}')\n",
    "    elif model_type == 'dueling_ddqn':\n",
    "        model = utils.stable_dueling_ddqn(X_train, y_train, steps, save=True, log_path=path, log_prefix='dueling_ddqn', filename=f'dueling_ddqn_{steps}')\n",
    "    elif model_type =='dqn_per':\n",
    "        model = utils.stable_vanilla_dqn(X_train, y_train, steps, save=True, log_path=path, log_prefix='dqn_per', filename=f'dqn_per_{steps}', per=True)\n",
    "    elif model_type == 'ddqn_per':\n",
    "        model = utils.stable_double_dqn(X_train, y_train, steps, save=True, log_path=path, log_prefix='ddqn_per', filename=f'ddqn_per_{steps}', per=True)\n",
    "    elif model_type == 'dueling_dqn_per':\n",
    "        model = utils.stable_dueling_dqn(X_train, y_train, steps, save=True, log_path=path, log_prefix='dueling_dqn_per', filename=f'dueling_dqn_per_{steps}', per=True)\n",
    "    elif model_type == 'dueling_ddqn_per':\n",
    "        model = utils.stable_dueling_ddqn(X_train, y_train, steps, save=True, log_path=path, log_prefix='dueling_ddqn_per', filename=f'dueling_ddqn_per_{steps}', per=True)\n",
    "    else:\n",
    "        raise ValueError(f'Unknown model type - {model_type}!')\n",
    "    return model"
   ]
  },
  {
   "cell_type": "code",
   "execution_count": null,
   "id": "01d8fb36",
   "metadata": {},
   "outputs": [],
   "source": [
    "train_df = pd.read_csv('../new_data/train_set_missingness_0.1.csv')\n",
    "train_df = train_df.fillna(-1)\n",
    "train_df.head()"
   ]
  },
  {
   "cell_type": "code",
   "execution_count": null,
   "id": "66ba2ec1",
   "metadata": {},
   "outputs": [],
   "source": [
    "train_df.label.value_counts()"
   ]
  },
  {
   "cell_type": "code",
   "execution_count": null,
   "id": "b34198c4",
   "metadata": {},
   "outputs": [],
   "source": [
    "train_df.iloc[90]"
   ]
  },
  {
   "cell_type": "code",
   "execution_count": null,
   "id": "69937a98",
   "metadata": {},
   "outputs": [],
   "source": [
    "X_train = train_df.iloc[:, 0:-1]\n",
    "y_train = train_df.iloc[:, -1]\n",
    "X_train, y_train = np.array(X_train), np.array(y_train)\n",
    "X_train.shape, y_train.shape"
   ]
  },
  {
   "cell_type": "code",
   "execution_count": null,
   "id": "57ad4f4c",
   "metadata": {},
   "outputs": [],
   "source": [
    "# model_names = ['dqn', 'ddqn', 'dueling_dqn', 'dueling_ddqn', 'dqn_per', 'ddqn_per', 'dueling_dqn_per', \n",
    "#                'dueling_ddqn_per']\n",
    "model_names = ['dueling_dqn_per', 'dueling_ddqn_per']\n",
    "procs = []\n",
    "steps = int(50e6)"
   ]
  },
  {
   "cell_type": "code",
   "execution_count": null,
   "id": "4648b352",
   "metadata": {},
   "outputs": [],
   "source": [
    "# run_dqn_model(model_names[0],steps)"
   ]
  },
  {
   "cell_type": "code",
   "execution_count": null,
   "id": "fd793fef",
   "metadata": {},
   "outputs": [],
   "source": [
    "for name in model_names:\n",
    "#     run_dqn_model(name, steps)\n",
    "    proc = Process(target=run_dqn_model, args=(name, steps))\n",
    "    procs.append(proc)\n",
    "    proc.start()"
   ]
  },
  {
   "cell_type": "code",
   "execution_count": null,
   "id": "3b771124",
   "metadata": {},
   "outputs": [],
   "source": [
    "for proc in procs:\n",
    "    proc.join()\n",
    "print('All jobs completed and terminated successfully')"
   ]
  },
  {
   "cell_type": "code",
   "execution_count": null,
   "id": "cc04b1b3",
   "metadata": {},
   "outputs": [],
   "source": [
    "# mylist = [{'name':30, 'list_feature': np.array([1,2,3]), 'label':0}, {'name':50, 'list_feature': np.array\n",
    "#                                                                       ([4,5,6]), 'label':1}]\n",
    "# a = pd.DataFrame(mylist)\n",
    "# a"
   ]
  },
  {
   "cell_type": "code",
   "execution_count": null,
   "id": "f1a87b3b",
   "metadata": {},
   "outputs": [],
   "source": [
    "# a.iloc[0]['list_feature']"
   ]
  },
  {
   "cell_type": "code",
   "execution_count": null,
   "id": "df3bdceb",
   "metadata": {},
   "outputs": [],
   "source": [
    "# from sklearn.ensemble import RandomForestClassifier\n",
    "# X = a[['name', 'list_feature']]\n",
    "# y = a['label']\n",
    "# rf = RandomForestClassifier().fit(X, y)"
   ]
  },
  {
   "cell_type": "code",
   "execution_count": null,
   "id": "4c2283f0",
   "metadata": {},
   "outputs": [],
   "source": []
  }
 ],
 "metadata": {
  "kernelspec": {
   "display_name": "Python 3 (ipykernel)",
   "language": "python",
   "name": "python3"
  },
  "language_info": {
   "codemirror_mode": {
    "name": "ipython",
    "version": 3
   },
   "file_extension": ".py",
   "mimetype": "text/x-python",
   "name": "python",
   "nbconvert_exporter": "python",
   "pygments_lexer": "ipython3",
   "version": "3.7.4"
  }
 },
 "nbformat": 4,
 "nbformat_minor": 5
}

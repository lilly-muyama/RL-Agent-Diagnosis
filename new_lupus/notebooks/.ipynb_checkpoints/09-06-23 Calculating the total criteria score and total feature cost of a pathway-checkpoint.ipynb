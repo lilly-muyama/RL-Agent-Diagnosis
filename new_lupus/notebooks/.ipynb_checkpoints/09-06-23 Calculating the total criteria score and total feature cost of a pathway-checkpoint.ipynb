{
 "cells": [
  {
   "cell_type": "code",
   "execution_count": 1,
   "id": "44ed90c2",
   "metadata": {},
   "outputs": [],
   "source": [
    "import pandas as pd\n",
    "import numpy as np\n",
    "import ast"
   ]
  },
  {
   "cell_type": "code",
   "execution_count": null,
   "id": "bba1b0a1",
   "metadata": {},
   "outputs": [],
   "source": [
    "def get_total_feature_costs(pathway):\n",
    "    if isinstance(pathway, str):\n",
    "        pathways = ast.literal_eval(pathway)\n",
    "    total_feature_cost = 0\n",
    "    for feat in pathway:\n",
    "        feat_score = constants.RISK_FACTORS[feat]\n",
    "        total_feature_cost += feat_score\n",
    "    return total_feature_cost"
   ]
  }
 ],
 "metadata": {
  "kernelspec": {
   "display_name": "Python 3 (ipykernel)",
   "language": "python",
   "name": "python3"
  },
  "language_info": {
   "codemirror_mode": {
    "name": "ipython",
    "version": 3
   },
   "file_extension": ".py",
   "mimetype": "text/x-python",
   "name": "python",
   "nbconvert_exporter": "python",
   "pygments_lexer": "ipython3",
   "version": "3.7.4"
  }
 },
 "nbformat": 4,
 "nbformat_minor": 5
}

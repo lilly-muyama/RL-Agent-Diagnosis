{
 "cells": [
  {
   "cell_type": "code",
   "execution_count": null,
   "id": "ca0eb316",
   "metadata": {},
   "outputs": [],
   "source": [
    "import pandas as pd\n",
    "import numpy as np\n",
    "import tensorflow as tf\n",
    "import random\n",
    "import glob\n",
    "import os\n",
    "from multiprocessing import Process\n",
    "import sys\n",
    "sys.path.append('..')\n",
    "from modules import utils, constants\n",
    "from stable_baselines import DQN\n",
    "from stable_baselines.deepq.policies import MlpPolicy\n",
    "from stable_baselines.common.vec_env import DummyVecEnv\n",
    "from stable_baselines.common.callbacks import CheckpointCallback"
   ]
  },
  {
   "cell_type": "code",
   "execution_count": null,
   "id": "7755c427",
   "metadata": {},
   "outputs": [],
   "source": [
    "SEED = constants.SEED\n",
    "random.seed(SEED)\n",
    "np.random.seed(SEED)\n",
    "os.environ['PYTHONHASHSEED']=str(SEED)\n",
    "tf.set_random_seed(SEED)\n",
    "tf.compat.v1.set_random_seed(SEED)\n",
    "SEED"
   ]
  },
  {
   "cell_type": "code",
   "execution_count": null,
   "id": "15e44b22",
   "metadata": {},
   "outputs": [],
   "source": [
    "constants.BETA, constants.CHECKPOINT_FREQ"
   ]
  },
  {
   "cell_type": "code",
   "execution_count": null,
   "id": "fc5be8f6",
   "metadata": {},
   "outputs": [],
   "source": [
    "class CustomMlpPolicy(MlpPolicy):\n",
    "    def __init__(self, *args, **kwargs):\n",
    "        super(CustomMlpPolicy, self).__init__(*args, **kwargs, layers=[128, 128, 128])"
   ]
  },
  {
   "cell_type": "code",
   "execution_count": null,
   "id": "8ea09382",
   "metadata": {},
   "outputs": [],
   "source": [
    "# def custom_network(input_shape, num_classes):\n",
    "#     inputs = tf.keras.layers.Input(shape=input_shape)\n",
    "#     shared_layer1 = tf.keras.layers.Dense(128, activation='relu')(inputs)\n",
    "#     shared_layer2 = tf.keras.layers.Dense(128, activation='relu')(shared_layer1)\n",
    "#     shared_layer3 = tf.keras.layers.Dense(128, activation='relu')(shared_layer2)\n",
    "#     out = tf.keras.layers.Dense(num_actions, activation='softmax')(shared_layer3)\n",
    "#     return inputs, out\n",
    "\n",
    "#modify the 24, maybe num_actions etc.\n",
    "# model = DQN('MlpPolicy', env, policy_kwargs={'net_arch': (24,), 'custom_objects': {'num_actions': num_classes}}, verbose=1)"
   ]
  },
  {
   "cell_type": "code",
   "execution_count": null,
   "id": "66f6068a",
   "metadata": {},
   "outputs": [],
   "source": [
    "def stable_dueling_dqn(X_train, y_train, timesteps, save=False, log_path=None, log_prefix='dueling_dqn', filename=None, per=False):\n",
    "    '''\n",
    "    Creates and trains a dueling DQN model\n",
    "    '''\n",
    "    if per:\n",
    "        log_prefix = 'dueling_dqn_per'\n",
    "    training_env = utils.create_env(X_train, y_train)\n",
    "    model = DQN(CustomMlpPolicy, training_env, verbose=1, seed=constants.SEED, learning_rate=0.0001, \n",
    "                buffer_size=1000000, learning_starts=50000, train_freq=4, target_network_update_freq=10000, \n",
    "                exploration_final_eps=0.05, n_cpu_tf_sess=1, double_q=False, prioritized_replay=per)\n",
    "    \n",
    "    checkpoint_callback = CheckpointCallback(save_freq=constants.CHECKPOINT_FREQ, save_path=log_path, \n",
    "                                             name_prefix=log_prefix)\n",
    "    model.learn(total_timesteps=timesteps, log_interval=100000, callback=checkpoint_callback)\n",
    "    if save:\n",
    "        model.save(f'{log_path}/{filename}.pkl')\n",
    "    training_env.close()\n",
    "    return model"
   ]
  },
  {
   "cell_type": "code",
   "execution_count": null,
   "id": "181416b8",
   "metadata": {},
   "outputs": [],
   "source": [
    "def stable_dueling_ddqn(X_train, y_train, timesteps, save=False, log_path=None, log_prefix='dueling_ddqn', filename=None, per=False):\n",
    "    '''\n",
    "    Creates and trains a dueling double DQN model\n",
    "    '''\n",
    "    if per:\n",
    "        log_prefix = 'dueling_ddqn_per'\n",
    "    training_env = utils.create_env(X_train, y_train)\n",
    "    model = DQN(CustomMlpPolicy, training_env, verbose=1, seed=constants.SEED, learning_rate=0.0001, \n",
    "                buffer_size=1000000, learning_starts=50000, train_freq=4, target_network_update_freq=10000, \n",
    "                exploration_final_eps=0.05, n_cpu_tf_sess=1, prioritized_replay=per)\n",
    "    \n",
    "    checkpoint_callback = CheckpointCallback(save_freq=constants.CHECKPOINT_FREQ, save_path=log_path, \n",
    "                                             name_prefix=log_prefix)\n",
    "    model.learn(total_timesteps=timesteps, log_interval=100000, callback=checkpoint_callback)\n",
    "    if save:\n",
    "        model.save(f'{log_path}/{filename}.pkl')\n",
    "    training_env.close()\n",
    "    return model"
   ]
  },
  {
   "cell_type": "code",
   "execution_count": null,
   "id": "f96836aa",
   "metadata": {},
   "outputs": [],
   "source": [
    "def run_dqn_model(model_type, steps):\n",
    "    dir_name = f'seed_{SEED}_{steps}'\n",
    "    parent_dir = f'../models/logs/{model_type}/missingness/0.1/no_step_penalty/custom_arch_3_layers'\n",
    "    path = os.path.join(parent_dir, dir_name)\n",
    "    os.mkdir(path)\n",
    "    \n",
    "    if model_type == 'dueling_dqn_per':\n",
    "        model = stable_dueling_dqn(X_train, y_train, steps, save=True, log_path=path, log_prefix='dueling_dqn_per', \n",
    "                                   filename=f'dueling_dqn_per_{steps}', per=True)\n",
    "    elif model_type == 'dueling_ddqn_per':\n",
    "        model =stable_dueling_ddqn(X_train, y_train, steps, save=True, log_path=path, log_prefix='dueling_ddqn_per',\n",
    "                                    filename=f'dueling_ddqn_per_{steps}', per=True)\n",
    "    else:\n",
    "        raise ValueError(f'Unknown model type - {model_type}!')\n",
    "    return model"
   ]
  },
  {
   "cell_type": "code",
   "execution_count": null,
   "id": "be972b3a",
   "metadata": {},
   "outputs": [],
   "source": [
    "train_df = pd.read_csv('../new_data/train_set_missingness_0.1.csv')\n",
    "train_df = train_df.fillna(-1)\n",
    "train_df.head()"
   ]
  },
  {
   "cell_type": "code",
   "execution_count": null,
   "id": "33d5ce92",
   "metadata": {},
   "outputs": [],
   "source": [
    "train_df.label.value_counts()"
   ]
  },
  {
   "cell_type": "code",
   "execution_count": null,
   "id": "958c7f8c",
   "metadata": {},
   "outputs": [],
   "source": [
    "train_df.iloc[90]"
   ]
  },
  {
   "cell_type": "code",
   "execution_count": null,
   "id": "8861ef48",
   "metadata": {},
   "outputs": [],
   "source": [
    "X_train = train_df.iloc[:, 0:-1]\n",
    "y_train = train_df.iloc[:, -1]\n",
    "X_train, y_train = np.array(X_train), np.array(y_train)\n",
    "X_train.shape, y_train.shape"
   ]
  },
  {
   "cell_type": "code",
   "execution_count": null,
   "id": "f165d6da",
   "metadata": {},
   "outputs": [],
   "source": [
    "model_names = ['dueling_dqn_per', 'dueling_ddqn_per']\n",
    "procs = []\n",
    "steps = int(100e6)"
   ]
  },
  {
   "cell_type": "code",
   "execution_count": null,
   "id": "dc42f208",
   "metadata": {},
   "outputs": [],
   "source": [
    "for name in model_names:\n",
    "#     run_dqn_model(name, steps)\n",
    "    proc = Process(target=run_dqn_model, args=(name, steps))\n",
    "    procs.append(proc)\n",
    "    proc.start()"
   ]
  },
  {
   "cell_type": "code",
   "execution_count": null,
   "id": "159506ff",
   "metadata": {},
   "outputs": [],
   "source": [
    "for proc in procs:\n",
    "    proc.join()\n",
    "print('All jobs completed and terminated successfully')"
   ]
  },
  {
   "cell_type": "code",
   "execution_count": null,
   "id": "5ff77c7b",
   "metadata": {},
   "outputs": [],
   "source": []
  }
 ],
 "metadata": {
  "kernelspec": {
   "display_name": "Python 3 (ipykernel)",
   "language": "python",
   "name": "python3"
  },
  "language_info": {
   "codemirror_mode": {
    "name": "ipython",
    "version": 3
   },
   "file_extension": ".py",
   "mimetype": "text/x-python",
   "name": "python",
   "nbconvert_exporter": "python",
   "pygments_lexer": "ipython3",
   "version": "3.7.4"
  }
 },
 "nbformat": 4,
 "nbformat_minor": 5
}

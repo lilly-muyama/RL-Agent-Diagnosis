{
 "cells": [
  {
   "cell_type": "code",
   "execution_count": null,
   "id": "3b188dc7",
   "metadata": {},
   "outputs": [],
   "source": [
    "import pandas as pd\n",
    "import numpy as np\n",
    "import tensorflow as tf\n",
    "import random\n",
    "import glob\n",
    "import os\n",
    "from multiprocessing import Process\n",
    "import sys\n",
    "sys.path.append('..')\n",
    "from modules import utils, constants\n",
    "import torch\n",
    "from stable_baselines3 import DQN\n",
    "from stable_baselines3.common.callbacks import CheckpointCallback"
   ]
  },
  {
   "cell_type": "code",
   "execution_count": null,
   "id": "37708f85",
   "metadata": {},
   "outputs": [],
   "source": [
    "SEED = constants.SEED\n",
    "random.seed(SEED)\n",
    "np.random.seed(SEED)\n",
    "os.environ['PYTHONHASHSEED']=str(SEED)\n",
    "torch.manual_seed(SEED)\n",
    "torch.use_deterministic_algorithms(True)\n",
    "SEED"
   ]
  },
  {
   "cell_type": "code",
   "execution_count": null,
   "id": "69f4b220",
   "metadata": {},
   "outputs": [],
   "source": [
    "constants.BETA"
   ]
  },
  {
   "cell_type": "code",
   "execution_count": null,
   "id": "db6c43bc",
   "metadata": {},
   "outputs": [],
   "source": [
    "def stable_baselines3_dqn(X_train, y_train, steps, save, log_path, log_prefix, filename):\n",
    "    training_env = utils.create_env(X_train, y_train)\n",
    "    model = DQN('MlpPolicy', training_env, verbose=1, seed=constants.SEED)\n",
    "    checkpoint_callback = CheckpointCallback(save_freq=constants.CHECKPOINT_FREQ, save_path=log_path, \n",
    "                                             name_prefix=log_prefix)\n",
    "    model.learn(total_timesteps=timesteps, log_interval=100000, callback=checkpoint_callback)\n",
    "    if save:\n",
    "        model.save(f'{log_path}/{filename}.pkl')\n",
    "    training_env.close()\n",
    "    return model\n",
    "\n",
    "def stable_vanilla_dqn(X_train, y_train, timesteps, save=False, log_path=None, log_prefix='dqn', filename=None, per=False):\n",
    "    '''\n",
    "    Creates and trains a standard DQN model\n",
    "    '''\n",
    "    if per:\n",
    "        log_prefix = 'dqn_per'\n",
    "    training_env = create_env(X_train, y_train)\n",
    "    model = DQN('MlpPolicy', training_env, verbose=1, seed=constants.SEED, learning_rate=0.0001, buffer_size=1000000,\n",
    "                learning_starts=50000, train_freq=4, target_network_update_freq=10000, exploration_final_eps=0.05, \n",
    "                n_cpu_tf_sess=1, policy_kwargs=dict(dueling=False),\n",
    "                double_q=False, prioritized_replay=per)\n",
    "    \n",
    "    checkpoint_callback = CheckpointCallback(save_freq=constants.CHECKPOINT_FREQ, save_path=log_path, name_prefix=log_prefix)\n",
    "    model.learn(total_timesteps=timesteps, log_interval=100000, callback=checkpoint_callback)\n",
    "    if save:\n",
    "        model.save(f'{log_path}/{filename}.pkl')\n",
    "    training_env.close()\n",
    "    return model"
   ]
  },
  {
   "cell_type": "code",
   "execution_count": null,
   "id": "c043cc7d",
   "metadata": {},
   "outputs": [],
   "source": [
    "def run_dqn_model(model_type, steps):\n",
    "    dir_name = f'seed_{SEED}_{steps}'\n",
    "    parent_dir = f'../models/logs/{model_type}/missingness/0.1/biopsy_9'\n",
    "    path = os.path.join(parent_dir, dir_name)\n",
    "    os.mkdir(path)\n",
    "    model = stable_baselines3_dqn(X_train, y_train, steps, save=True, log_path=path, log_prefix='dueling_ddqn_per', \n",
    "                                  filename=f'dueling_ddqn_per_{steps}')\n",
    "    return model"
   ]
  },
  {
   "cell_type": "code",
   "execution_count": null,
   "id": "50cd91d2",
   "metadata": {},
   "outputs": [],
   "source": [
    "train_df = pd.read_csv('../new_data/train_set_missingness_0.1.csv')\n",
    "train_df = train_df.fillna(-1)\n",
    "train_df.head()"
   ]
  },
  {
   "cell_type": "code",
   "execution_count": null,
   "id": "6bae2a8b",
   "metadata": {},
   "outputs": [],
   "source": [
    "train_df.label.value_counts()"
   ]
  },
  {
   "cell_type": "code",
   "execution_count": null,
   "id": "e1430988",
   "metadata": {},
   "outputs": [],
   "source": [
    "X_train = train_df.iloc[:, 0:-1]\n",
    "y_train = train_df.iloc[:, -1]\n",
    "X_train, y_train = np.array(X_train), np.array(y_train)\n",
    "X_train.shape, y_train.shape"
   ]
  },
  {
   "cell_type": "code",
   "execution_count": null,
   "id": "d3a49d45",
   "metadata": {},
   "outputs": [],
   "source": [
    "# model_names = ['dqn', 'ddqn', 'dueling_dqn', 'dueling_ddqn', 'dqn_per', 'ddqn_per', 'dueling_dqn_per', \n",
    "#                'dueling_ddqn_per']\n",
    "model_names = ['dueling_dqn_per', 'dueling_ddqn_per']\n",
    "procs = []\n",
    "steps = int(10e7)"
   ]
  },
  {
   "cell_type": "code",
   "execution_count": null,
   "id": "d5f5df61",
   "metadata": {},
   "outputs": [],
   "source": [
    "for name in model_names:\n",
    "#     run_dqn_model(name, steps)\n",
    "    proc = Process(target=run_dqn_model, args=(name, steps))\n",
    "    procs.append(proc)\n",
    "    proc.start()"
   ]
  },
  {
   "cell_type": "code",
   "execution_count": null,
   "id": "e7965dfb",
   "metadata": {},
   "outputs": [],
   "source": [
    "for proc in procs:\n",
    "    proc.join()\n",
    "print('All jobs completed and terminated successfully')"
   ]
  },
  {
   "cell_type": "code",
   "execution_count": null,
   "id": "0224d9c1",
   "metadata": {},
   "outputs": [],
   "source": []
  },
  {
   "cell_type": "code",
   "execution_count": null,
   "id": "f854495f",
   "metadata": {},
   "outputs": [],
   "source": []
  }
 ],
 "metadata": {
  "kernelspec": {
   "display_name": "Python 3 (ipykernel)",
   "language": "python",
   "name": "python3"
  },
  "language_info": {
   "codemirror_mode": {
    "name": "ipython",
    "version": 3
   },
   "file_extension": ".py",
   "mimetype": "text/x-python",
   "name": "python",
   "nbconvert_exporter": "python",
   "pygments_lexer": "ipython3",
   "version": "3.7.4"
  }
 },
 "nbformat": 4,
 "nbformat_minor": 5
}

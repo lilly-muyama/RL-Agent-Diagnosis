{
 "cells": [
  {
   "cell_type": "code",
   "execution_count": 68,
   "id": "8e6544c6",
   "metadata": {},
   "outputs": [],
   "source": [
    "import pandas as pd\n",
    "import numpy as np\n",
    "import collections \n",
    "import itertools\n",
    "import pickle\n",
    "import networkx as nx\n",
    "from networkx.algorithms import similarity, isomorphism as iso\n",
    "from pyvis.network import Network\n",
    "import ast\n",
    "import sys\n",
    "sys.path.append('../')\n",
    "from modules import utils\n",
    "import matplotlib.pyplot as plt\n",
    "%matplotlib inline"
   ]
  },
  {
   "cell_type": "code",
   "execution_count": 28,
   "id": "7e8ae5ed",
   "metadata": {},
   "outputs": [],
   "source": [
    "def generate_tuple_dict(df):\n",
    "    frequency_dict = {}\n",
    "    for traj in df.trajectory:\n",
    "        if traj in frequency_dict.keys():\n",
    "            frequency_dict[traj] += 1\n",
    "        else:\n",
    "            frequency_dict[traj] = 1\n",
    "    overall_tup_dict = {}\n",
    "    for key, value in frequency_dict.items():\n",
    "        new_key = ast.literal_eval(key)\n",
    "        for tup in zip(new_key, new_key[1:]):\n",
    "            if tup in overall_tup_dict.keys():\n",
    "                overall_tup_dict[tup] += value\n",
    "            else:\n",
    "                overall_tup_dict[tup] = value\n",
    "    return overall_tup_dict"
   ]
  },
  {
   "cell_type": "code",
   "execution_count": 29,
   "id": "7a1fe801",
   "metadata": {},
   "outputs": [],
   "source": [
    "def create_sankey_df(df):\n",
    "    overall_tup_dict = generate_tuple_dict(df)\n",
    "    sankey_df = pd.DataFrame()\n",
    "    sankey_df['source'] = [i[0] for i in overall_tup_dict.keys()]\n",
    "    sankey_df['target'] = [i[1] for i in overall_tup_dict.keys()]\n",
    "    sankey_df['value'] = list(overall_tup_dict.values())\n",
    "    sankey_df['link_type'] = sankey_df['target'].apply(lambda i: 'terminal' if i in ['No lupus', 'Lupus', 'Inconclusive diagnosis'] else 'non_terminal')\n",
    "    return sankey_df"
   ]
  },
  {
   "cell_type": "code",
   "execution_count": 30,
   "id": "0313f231",
   "metadata": {},
   "outputs": [],
   "source": [
    "def get_threshold_value(df, source): #source e.g. 'ana'\n",
    "    threshold_values = df[source].unique().tolist()\n",
    "    if len(threshold_values) == 1:\n",
    "        return int(threshold_values[0])\n",
    "    else:\n",
    "        return str(threshold_values)"
   ]
  },
  {
   "cell_type": "code",
   "execution_count": 31,
   "id": "ce98c3f9",
   "metadata": {},
   "outputs": [],
   "source": [
    "def draw_pyvis_network(pathways_df, pathway_type='network'): #second type is trajectory \n",
    "    pathways_df['type'] = 'directed'\n",
    "    start_node = pathways_df.iloc[0]['source']\n",
    "    all_nodes = list(set(pathways_df.source.unique().tolist() + pathways_df.target.unique().tolist()))\n",
    "    terminal_nodes = list(set(pathways_df[pathways_df.link_type=='terminal'].target))\n",
    "    non_terminal_nodes = [i for i in all_nodes if i not in terminal_nodes and i!=start_node]\n",
    "    \n",
    "    #change get_net to something else since it satnds for Game of Thrones\n",
    "    got_net = Network(notebook=True, height='600px', width='100%', directed=True, cdn_resources='in_line')\n",
    "    got_net.add_node(start_node, color='purple', size=20)\n",
    "    got_net.add_nodes(non_terminal_nodes, size=[15]*len(non_terminal_nodes), color=['blue']*len(non_terminal_nodes))\n",
    "    got_net.add_nodes(terminal_nodes, color=['green']*len(terminal_nodes), size=[20]*len(terminal_nodes))\n",
    "    for src, target, value, edge_thresh in zip(pathways_df.source, pathways_df.target, pathways_df.value, pathways_df.edge_threshold):\n",
    "        if pathway_type =='network':\n",
    "            if value > threshold:\n",
    "                if math.isnan(edge_thresh):\n",
    "                    got_net.add_edge(src, target, value=value, color='red')\n",
    "                else:\n",
    "                    got_net.add_edge(src, target, value=value, color='red', label=str(int(edge_thresh)))\n",
    "            else:\n",
    "                got_net.add_edge(src, target, value=value, color='blue')\n",
    "        elif pathway_type =='trajectory': #It's just one trajectory\n",
    "            if isinstance(edge_thresh, str):\n",
    "                got_net.add_edge(src, target, value=value, color='blue', label=edge_thresh)\n",
    "            else:\n",
    "                got_net.add_edge(src, target, value=value, color='blue', label=str(int(edge_thresh)))\n",
    "        else:\n",
    "            print('Unknown pathway type')\n",
    "    return got_net"
   ]
  },
  {
   "cell_type": "code",
   "execution_count": 32,
   "id": "2e76df7d",
   "metadata": {},
   "outputs": [],
   "source": [
    "def draw_one_trajectory(pred_df, trajectory): #pred_df = pred_no_lupus par exemple\n",
    "    trajectory_df = pred_df[pred_df.trajectory == trajectory]\n",
    "    trajectory_testing_df = testing_df.loc[trajectory_df.index]\n",
    "    trajectory_pathways_df = create_sankey_df(trajectory_df)\n",
    "    trajectory_pathways_df['edge_threshold'] = [get_threshold_value(trajectory_testing_df, source) for source in trajectory_pathways_df.source]\n",
    "    trajectory_net = draw_pyvis_network(trajectory_pathways_df, 'trajectory')   \n",
    "    return trajectory_net"
   ]
  },
  {
   "cell_type": "markdown",
   "id": "fa56e233",
   "metadata": {},
   "source": [
    "#### Preliminaries"
   ]
  },
  {
   "cell_type": "code",
   "execution_count": 33,
   "id": "73862409",
   "metadata": {},
   "outputs": [],
   "source": [
    "model_name = 'dueling_dqn_per'\n",
    "seed = 105\n",
    "steps = int(10e7)\n",
    "# threshold=1"
   ]
  },
  {
   "cell_type": "code",
   "execution_count": 34,
   "id": "b437f033",
   "metadata": {},
   "outputs": [
    {
     "data": {
      "text/html": [
       "<div>\n",
       "<style scoped>\n",
       "    .dataframe tbody tr th:only-of-type {\n",
       "        vertical-align: middle;\n",
       "    }\n",
       "\n",
       "    .dataframe tbody tr th {\n",
       "        vertical-align: top;\n",
       "    }\n",
       "\n",
       "    .dataframe thead th {\n",
       "        text-align: right;\n",
       "    }\n",
       "</style>\n",
       "<table border=\"1\" class=\"dataframe\">\n",
       "  <thead>\n",
       "    <tr style=\"text-align: right;\">\n",
       "      <th></th>\n",
       "      <th>ana</th>\n",
       "      <th>fever</th>\n",
       "      <th>leukopenia</th>\n",
       "      <th>thrombocytopenia</th>\n",
       "      <th>auto_immune_hemolysis</th>\n",
       "      <th>delirium</th>\n",
       "      <th>psychosis</th>\n",
       "      <th>seizure</th>\n",
       "      <th>non_scarring_alopecia</th>\n",
       "      <th>oral_ulcers</th>\n",
       "      <th>...</th>\n",
       "      <th>joint_involvement</th>\n",
       "      <th>proteinuria</th>\n",
       "      <th>anti_cardioliphin_antibodies</th>\n",
       "      <th>anti_β2gp1_antibodies</th>\n",
       "      <th>lupus_anti_coagulant</th>\n",
       "      <th>low_c3</th>\n",
       "      <th>low_c4</th>\n",
       "      <th>anti_dsdna_antibody</th>\n",
       "      <th>anti_smith_antibody</th>\n",
       "      <th>label</th>\n",
       "    </tr>\n",
       "  </thead>\n",
       "  <tbody>\n",
       "    <tr>\n",
       "      <th>0</th>\n",
       "      <td>1</td>\n",
       "      <td>0</td>\n",
       "      <td>0</td>\n",
       "      <td>0</td>\n",
       "      <td>0</td>\n",
       "      <td>0</td>\n",
       "      <td>0</td>\n",
       "      <td>0</td>\n",
       "      <td>0</td>\n",
       "      <td>0</td>\n",
       "      <td>...</td>\n",
       "      <td>1</td>\n",
       "      <td>0</td>\n",
       "      <td>0</td>\n",
       "      <td>0</td>\n",
       "      <td>0</td>\n",
       "      <td>0</td>\n",
       "      <td>0</td>\n",
       "      <td>0</td>\n",
       "      <td>0</td>\n",
       "      <td>1</td>\n",
       "    </tr>\n",
       "    <tr>\n",
       "      <th>1</th>\n",
       "      <td>1</td>\n",
       "      <td>1</td>\n",
       "      <td>0</td>\n",
       "      <td>0</td>\n",
       "      <td>0</td>\n",
       "      <td>0</td>\n",
       "      <td>0</td>\n",
       "      <td>0</td>\n",
       "      <td>0</td>\n",
       "      <td>0</td>\n",
       "      <td>...</td>\n",
       "      <td>0</td>\n",
       "      <td>1</td>\n",
       "      <td>0</td>\n",
       "      <td>0</td>\n",
       "      <td>0</td>\n",
       "      <td>0</td>\n",
       "      <td>0</td>\n",
       "      <td>1</td>\n",
       "      <td>0</td>\n",
       "      <td>1</td>\n",
       "    </tr>\n",
       "    <tr>\n",
       "      <th>2</th>\n",
       "      <td>1</td>\n",
       "      <td>0</td>\n",
       "      <td>0</td>\n",
       "      <td>0</td>\n",
       "      <td>0</td>\n",
       "      <td>0</td>\n",
       "      <td>1</td>\n",
       "      <td>0</td>\n",
       "      <td>0</td>\n",
       "      <td>0</td>\n",
       "      <td>...</td>\n",
       "      <td>1</td>\n",
       "      <td>0</td>\n",
       "      <td>0</td>\n",
       "      <td>0</td>\n",
       "      <td>1</td>\n",
       "      <td>1</td>\n",
       "      <td>0</td>\n",
       "      <td>0</td>\n",
       "      <td>0</td>\n",
       "      <td>1</td>\n",
       "    </tr>\n",
       "    <tr>\n",
       "      <th>3</th>\n",
       "      <td>1</td>\n",
       "      <td>1</td>\n",
       "      <td>0</td>\n",
       "      <td>0</td>\n",
       "      <td>0</td>\n",
       "      <td>0</td>\n",
       "      <td>0</td>\n",
       "      <td>0</td>\n",
       "      <td>1</td>\n",
       "      <td>0</td>\n",
       "      <td>...</td>\n",
       "      <td>0</td>\n",
       "      <td>0</td>\n",
       "      <td>0</td>\n",
       "      <td>0</td>\n",
       "      <td>1</td>\n",
       "      <td>0</td>\n",
       "      <td>0</td>\n",
       "      <td>1</td>\n",
       "      <td>0</td>\n",
       "      <td>1</td>\n",
       "    </tr>\n",
       "    <tr>\n",
       "      <th>4</th>\n",
       "      <td>1</td>\n",
       "      <td>0</td>\n",
       "      <td>0</td>\n",
       "      <td>0</td>\n",
       "      <td>0</td>\n",
       "      <td>0</td>\n",
       "      <td>0</td>\n",
       "      <td>0</td>\n",
       "      <td>1</td>\n",
       "      <td>0</td>\n",
       "      <td>...</td>\n",
       "      <td>1</td>\n",
       "      <td>0</td>\n",
       "      <td>0</td>\n",
       "      <td>0</td>\n",
       "      <td>0</td>\n",
       "      <td>1</td>\n",
       "      <td>0</td>\n",
       "      <td>0</td>\n",
       "      <td>0</td>\n",
       "      <td>1</td>\n",
       "    </tr>\n",
       "  </tbody>\n",
       "</table>\n",
       "<p>5 rows × 24 columns</p>\n",
       "</div>"
      ],
      "text/plain": [
       "   ana  fever  leukopenia  thrombocytopenia  auto_immune_hemolysis  delirium  \\\n",
       "0    1      0           0                 0                      0         0   \n",
       "1    1      1           0                 0                      0         0   \n",
       "2    1      0           0                 0                      0         0   \n",
       "3    1      1           0                 0                      0         0   \n",
       "4    1      0           0                 0                      0         0   \n",
       "\n",
       "   psychosis  seizure  non_scarring_alopecia  oral_ulcers  ...  \\\n",
       "0          0        0                      0            0  ...   \n",
       "1          0        0                      0            0  ...   \n",
       "2          1        0                      0            0  ...   \n",
       "3          0        0                      1            0  ...   \n",
       "4          0        0                      1            0  ...   \n",
       "\n",
       "   joint_involvement  proteinuria  anti_cardioliphin_antibodies  \\\n",
       "0                  1            0                             0   \n",
       "1                  0            1                             0   \n",
       "2                  1            0                             0   \n",
       "3                  0            0                             0   \n",
       "4                  1            0                             0   \n",
       "\n",
       "   anti_β2gp1_antibodies  lupus_anti_coagulant  low_c3  low_c4  \\\n",
       "0                      0                     0       0       0   \n",
       "1                      0                     0       0       0   \n",
       "2                      0                     1       1       0   \n",
       "3                      0                     1       0       0   \n",
       "4                      0                     0       1       0   \n",
       "\n",
       "   anti_dsdna_antibody  anti_smith_antibody  label  \n",
       "0                    0                    0      1  \n",
       "1                    1                    0      1  \n",
       "2                    0                    0      1  \n",
       "3                    1                    0      1  \n",
       "4                    0                    0      1  \n",
       "\n",
       "[5 rows x 24 columns]"
      ]
     },
     "execution_count": 34,
     "metadata": {},
     "output_type": "execute_result"
    }
   ],
   "source": [
    "testing_df = pd.read_csv('../data/test_set_constant.csv')\n",
    "testing_df.head()"
   ]
  },
  {
   "cell_type": "code",
   "execution_count": 35,
   "id": "1a4edfeb",
   "metadata": {},
   "outputs": [
    {
     "data": {
      "text/html": [
       "<div>\n",
       "<style scoped>\n",
       "    .dataframe tbody tr th:only-of-type {\n",
       "        vertical-align: middle;\n",
       "    }\n",
       "\n",
       "    .dataframe tbody tr th {\n",
       "        vertical-align: top;\n",
       "    }\n",
       "\n",
       "    .dataframe thead th {\n",
       "        text-align: right;\n",
       "    }\n",
       "</style>\n",
       "<table border=\"1\" class=\"dataframe\">\n",
       "  <thead>\n",
       "    <tr style=\"text-align: right;\">\n",
       "      <th></th>\n",
       "      <th>index</th>\n",
       "      <th>episode_length</th>\n",
       "      <th>reward</th>\n",
       "      <th>y_pred</th>\n",
       "      <th>y_actual</th>\n",
       "      <th>trajectory</th>\n",
       "      <th>terminated</th>\n",
       "      <th>is_success</th>\n",
       "    </tr>\n",
       "  </thead>\n",
       "  <tbody>\n",
       "    <tr>\n",
       "      <th>0</th>\n",
       "      <td>0.0</td>\n",
       "      <td>16.0</td>\n",
       "      <td>0.500000</td>\n",
       "      <td>1.0</td>\n",
       "      <td>1.0</td>\n",
       "      <td>['ana', 'anti_dsdna_antibody', 'joint_involvem...</td>\n",
       "      <td>0.0</td>\n",
       "      <td>1.0</td>\n",
       "    </tr>\n",
       "    <tr>\n",
       "      <th>1</th>\n",
       "      <td>1.0</td>\n",
       "      <td>20.0</td>\n",
       "      <td>0.366667</td>\n",
       "      <td>1.0</td>\n",
       "      <td>1.0</td>\n",
       "      <td>['ana', 'anti_dsdna_antibody', 'joint_involvem...</td>\n",
       "      <td>0.0</td>\n",
       "      <td>1.0</td>\n",
       "    </tr>\n",
       "    <tr>\n",
       "      <th>2</th>\n",
       "      <td>2.0</td>\n",
       "      <td>9.0</td>\n",
       "      <td>0.733333</td>\n",
       "      <td>1.0</td>\n",
       "      <td>1.0</td>\n",
       "      <td>['ana', 'anti_dsdna_antibody', 'joint_involvem...</td>\n",
       "      <td>0.0</td>\n",
       "      <td>1.0</td>\n",
       "    </tr>\n",
       "    <tr>\n",
       "      <th>3</th>\n",
       "      <td>3.0</td>\n",
       "      <td>15.0</td>\n",
       "      <td>0.533333</td>\n",
       "      <td>1.0</td>\n",
       "      <td>1.0</td>\n",
       "      <td>['ana', 'anti_dsdna_antibody', 'joint_involvem...</td>\n",
       "      <td>0.0</td>\n",
       "      <td>1.0</td>\n",
       "    </tr>\n",
       "    <tr>\n",
       "      <th>4</th>\n",
       "      <td>4.0</td>\n",
       "      <td>5.0</td>\n",
       "      <td>0.866667</td>\n",
       "      <td>1.0</td>\n",
       "      <td>1.0</td>\n",
       "      <td>['ana', 'anti_dsdna_antibody', 'joint_involvem...</td>\n",
       "      <td>0.0</td>\n",
       "      <td>1.0</td>\n",
       "    </tr>\n",
       "  </tbody>\n",
       "</table>\n",
       "</div>"
      ],
      "text/plain": [
       "   index  episode_length    reward  y_pred  y_actual  \\\n",
       "0    0.0            16.0  0.500000     1.0       1.0   \n",
       "1    1.0            20.0  0.366667     1.0       1.0   \n",
       "2    2.0             9.0  0.733333     1.0       1.0   \n",
       "3    3.0            15.0  0.533333     1.0       1.0   \n",
       "4    4.0             5.0  0.866667     1.0       1.0   \n",
       "\n",
       "                                          trajectory  terminated  is_success  \n",
       "0  ['ana', 'anti_dsdna_antibody', 'joint_involvem...         0.0         1.0  \n",
       "1  ['ana', 'anti_dsdna_antibody', 'joint_involvem...         0.0         1.0  \n",
       "2  ['ana', 'anti_dsdna_antibody', 'joint_involvem...         0.0         1.0  \n",
       "3  ['ana', 'anti_dsdna_antibody', 'joint_involvem...         0.0         1.0  \n",
       "4  ['ana', 'anti_dsdna_antibody', 'joint_involvem...         0.0         1.0  "
      ]
     },
     "execution_count": 35,
     "metadata": {},
     "output_type": "execute_result"
    }
   ],
   "source": [
    "test_df = pd.read_csv(f'../test_dfs/{model_name}_{seed}_{steps}.csv')\n",
    "test_df.head()"
   ]
  },
  {
   "cell_type": "code",
   "execution_count": 36,
   "id": "948d18d6",
   "metadata": {},
   "outputs": [
    {
     "data": {
      "text/plain": [
       "98.77142857142857"
      ]
     },
     "execution_count": 36,
     "metadata": {},
     "output_type": "execute_result"
    }
   ],
   "source": [
    "utils.test(test_df.y_actual, test_df.y_pred)[0]"
   ]
  },
  {
   "cell_type": "code",
   "execution_count": 37,
   "id": "8ff34e28",
   "metadata": {},
   "outputs": [],
   "source": [
    "pred_lupus = test_df[test_df['y_pred']==1]"
   ]
  },
  {
   "cell_type": "markdown",
   "id": "66d52dc6",
   "metadata": {},
   "source": [
    "#### Graph 1"
   ]
  },
  {
   "cell_type": "code",
   "execution_count": 38,
   "id": "23212372",
   "metadata": {},
   "outputs": [
    {
     "data": {
      "text/plain": [
       "\"['ana', 'anti_dsdna_antibody', 'joint_involvement', 'pleural_effusion', 'proteinuria', 'low_c3', 'pericardial_effusion', 'delirium', 'lupus_anti_coagulant', 'anti_cardioliphin_antibodies', 'seizure', 'psychosis', 'oral_ulcers', 'anti_β2gp1_antibodies', 'low_c4', 'Lupus']\""
      ]
     },
     "execution_count": 38,
     "metadata": {},
     "output_type": "execute_result"
    }
   ],
   "source": [
    "traj1 = test_df.iloc[0]['trajectory']\n",
    "traj1_df = pred_lupus[pred_lupus.trajectory == traj1]\n",
    "traj1_testing_df = testing_df.loc[traj1_df.index]\n",
    "traj1_pathways_df = create_sankey_df(traj1_df)\n",
    "traj1"
   ]
  },
  {
   "cell_type": "code",
   "execution_count": 39,
   "id": "d010f1e3",
   "metadata": {},
   "outputs": [
    {
     "data": {
      "text/html": [
       "<div>\n",
       "<style scoped>\n",
       "    .dataframe tbody tr th:only-of-type {\n",
       "        vertical-align: middle;\n",
       "    }\n",
       "\n",
       "    .dataframe tbody tr th {\n",
       "        vertical-align: top;\n",
       "    }\n",
       "\n",
       "    .dataframe thead th {\n",
       "        text-align: right;\n",
       "    }\n",
       "</style>\n",
       "<table border=\"1\" class=\"dataframe\">\n",
       "  <thead>\n",
       "    <tr style=\"text-align: right;\">\n",
       "      <th></th>\n",
       "      <th>source</th>\n",
       "      <th>target</th>\n",
       "      <th>value</th>\n",
       "      <th>link_type</th>\n",
       "      <th>edge_threshold</th>\n",
       "    </tr>\n",
       "  </thead>\n",
       "  <tbody>\n",
       "    <tr>\n",
       "      <th>0</th>\n",
       "      <td>ana</td>\n",
       "      <td>anti_dsdna_antibody</td>\n",
       "      <td>131</td>\n",
       "      <td>non_terminal</td>\n",
       "      <td>1</td>\n",
       "    </tr>\n",
       "    <tr>\n",
       "      <th>1</th>\n",
       "      <td>anti_dsdna_antibody</td>\n",
       "      <td>joint_involvement</td>\n",
       "      <td>131</td>\n",
       "      <td>non_terminal</td>\n",
       "      <td>0</td>\n",
       "    </tr>\n",
       "    <tr>\n",
       "      <th>2</th>\n",
       "      <td>joint_involvement</td>\n",
       "      <td>pleural_effusion</td>\n",
       "      <td>131</td>\n",
       "      <td>non_terminal</td>\n",
       "      <td>1</td>\n",
       "    </tr>\n",
       "    <tr>\n",
       "      <th>3</th>\n",
       "      <td>pleural_effusion</td>\n",
       "      <td>proteinuria</td>\n",
       "      <td>131</td>\n",
       "      <td>non_terminal</td>\n",
       "      <td>0</td>\n",
       "    </tr>\n",
       "    <tr>\n",
       "      <th>4</th>\n",
       "      <td>proteinuria</td>\n",
       "      <td>low_c3</td>\n",
       "      <td>131</td>\n",
       "      <td>non_terminal</td>\n",
       "      <td>0</td>\n",
       "    </tr>\n",
       "  </tbody>\n",
       "</table>\n",
       "</div>"
      ],
      "text/plain": [
       "                source               target  value     link_type  \\\n",
       "0                  ana  anti_dsdna_antibody    131  non_terminal   \n",
       "1  anti_dsdna_antibody    joint_involvement    131  non_terminal   \n",
       "2    joint_involvement     pleural_effusion    131  non_terminal   \n",
       "3     pleural_effusion          proteinuria    131  non_terminal   \n",
       "4          proteinuria               low_c3    131  non_terminal   \n",
       "\n",
       "  edge_threshold  \n",
       "0              1  \n",
       "1              0  \n",
       "2              1  \n",
       "3              0  \n",
       "4              0  "
      ]
     },
     "execution_count": 39,
     "metadata": {},
     "output_type": "execute_result"
    }
   ],
   "source": [
    "traj1_pathways_df['edge_threshold'] = [get_threshold_value(traj1_testing_df, source) for source in traj1_pathways_df.source]\n",
    "traj1_pathways_df.head()"
   ]
  },
  {
   "cell_type": "code",
   "execution_count": 40,
   "id": "98fb99b5",
   "metadata": {},
   "outputs": [],
   "source": [
    "traj1_nx_graph = nx.from_pandas_edgelist(traj1_pathways_df, 'source', 'target', edge_attr=['edge_threshold'],\n",
    "                                        create_using=nx.DiGraph(),)\n",
    "undirected_traj1_nx_graph = traj1_nx_graph.to_undirected()"
   ]
  },
  {
   "cell_type": "code",
   "execution_count": 43,
   "id": "0a68d8cb",
   "metadata": {},
   "outputs": [],
   "source": [
    "# nx.draw(undirected_traj1_nx_graph, with_labels=True)"
   ]
  },
  {
   "cell_type": "code",
   "execution_count": 44,
   "id": "2ed8c5f4",
   "metadata": {},
   "outputs": [],
   "source": [
    "# draw_one_trajectory(pred_lupus, traj1).show('Example.html')"
   ]
  },
  {
   "cell_type": "markdown",
   "id": "0cbe3c3e",
   "metadata": {},
   "source": [
    "#### Graph 2"
   ]
  },
  {
   "cell_type": "code",
   "execution_count": 45,
   "id": "17790425",
   "metadata": {},
   "outputs": [
    {
     "data": {
      "text/plain": [
       "\"['ana', 'anti_dsdna_antibody', 'joint_involvement', 'low_c3', 'pericardial_effusion', 'pleural_effusion', 'proteinuria', 'lupus_anti_coagulant', 'delirium', 'thrombocytopenia', 'psychosis', 'oral_ulcers', 'anti_smith_antibody', 'seizure', 'leukopenia', 'anti_β2gp1_antibodies', 'low_c4', 'cutaneous_lupus', 'fever', 'Lupus']\""
      ]
     },
     "execution_count": 45,
     "metadata": {},
     "output_type": "execute_result"
    }
   ],
   "source": [
    "traj2 = test_df.iloc[1]['trajectory']\n",
    "traj2_df = pred_lupus[pred_lupus.trajectory == traj2]\n",
    "traj2_testing_df = testing_df.loc[traj2_df.index]\n",
    "traj2_pathways_df = create_sankey_df(traj2_df)\n",
    "traj2"
   ]
  },
  {
   "cell_type": "code",
   "execution_count": 46,
   "id": "8f46beeb",
   "metadata": {},
   "outputs": [
    {
     "data": {
      "text/html": [
       "<div>\n",
       "<style scoped>\n",
       "    .dataframe tbody tr th:only-of-type {\n",
       "        vertical-align: middle;\n",
       "    }\n",
       "\n",
       "    .dataframe tbody tr th {\n",
       "        vertical-align: top;\n",
       "    }\n",
       "\n",
       "    .dataframe thead th {\n",
       "        text-align: right;\n",
       "    }\n",
       "</style>\n",
       "<table border=\"1\" class=\"dataframe\">\n",
       "  <thead>\n",
       "    <tr style=\"text-align: right;\">\n",
       "      <th></th>\n",
       "      <th>source</th>\n",
       "      <th>target</th>\n",
       "      <th>value</th>\n",
       "      <th>link_type</th>\n",
       "      <th>edge_threshold</th>\n",
       "    </tr>\n",
       "  </thead>\n",
       "  <tbody>\n",
       "    <tr>\n",
       "      <th>0</th>\n",
       "      <td>ana</td>\n",
       "      <td>anti_dsdna_antibody</td>\n",
       "      <td>9</td>\n",
       "      <td>non_terminal</td>\n",
       "      <td>1</td>\n",
       "    </tr>\n",
       "    <tr>\n",
       "      <th>1</th>\n",
       "      <td>anti_dsdna_antibody</td>\n",
       "      <td>joint_involvement</td>\n",
       "      <td>9</td>\n",
       "      <td>non_terminal</td>\n",
       "      <td>1</td>\n",
       "    </tr>\n",
       "    <tr>\n",
       "      <th>2</th>\n",
       "      <td>joint_involvement</td>\n",
       "      <td>low_c3</td>\n",
       "      <td>9</td>\n",
       "      <td>non_terminal</td>\n",
       "      <td>0</td>\n",
       "    </tr>\n",
       "    <tr>\n",
       "      <th>3</th>\n",
       "      <td>low_c3</td>\n",
       "      <td>pericardial_effusion</td>\n",
       "      <td>9</td>\n",
       "      <td>non_terminal</td>\n",
       "      <td>0</td>\n",
       "    </tr>\n",
       "    <tr>\n",
       "      <th>4</th>\n",
       "      <td>pericardial_effusion</td>\n",
       "      <td>pleural_effusion</td>\n",
       "      <td>9</td>\n",
       "      <td>non_terminal</td>\n",
       "      <td>0</td>\n",
       "    </tr>\n",
       "  </tbody>\n",
       "</table>\n",
       "</div>"
      ],
      "text/plain": [
       "                 source                target  value     link_type  \\\n",
       "0                   ana   anti_dsdna_antibody      9  non_terminal   \n",
       "1   anti_dsdna_antibody     joint_involvement      9  non_terminal   \n",
       "2     joint_involvement                low_c3      9  non_terminal   \n",
       "3                low_c3  pericardial_effusion      9  non_terminal   \n",
       "4  pericardial_effusion      pleural_effusion      9  non_terminal   \n",
       "\n",
       "   edge_threshold  \n",
       "0               1  \n",
       "1               1  \n",
       "2               0  \n",
       "3               0  \n",
       "4               0  "
      ]
     },
     "execution_count": 46,
     "metadata": {},
     "output_type": "execute_result"
    }
   ],
   "source": [
    "traj2_pathways_df['edge_threshold'] = [get_threshold_value(traj2_testing_df, source) for source in traj2_pathways_df.source]\n",
    "traj2_pathways_df.head()"
   ]
  },
  {
   "cell_type": "code",
   "execution_count": 48,
   "id": "414be02d",
   "metadata": {},
   "outputs": [],
   "source": [
    "traj2_nx_graph = nx.from_pandas_edgelist(traj2_pathways_df, 'source', 'target', edge_attr=['edge_threshold'],\n",
    "                                        create_using=nx.DiGraph(),)\n",
    "undirected_traj2_nx_graph = traj2_nx_graph.to_directed()"
   ]
  },
  {
   "cell_type": "markdown",
   "id": "f20521e8",
   "metadata": {},
   "source": [
    "#### Comparing the graphs"
   ]
  },
  {
   "cell_type": "code",
   "execution_count": 49,
   "id": "a5a3ee22",
   "metadata": {},
   "outputs": [
    {
     "data": {
      "text/plain": [
       "False"
      ]
     },
     "execution_count": 49,
     "metadata": {},
     "output_type": "execute_result"
    }
   ],
   "source": [
    "nx.is_isomorphic(traj1_nx_graph, traj2_nx_graph)"
   ]
  },
  {
   "cell_type": "code",
   "execution_count": 53,
   "id": "235956f2",
   "metadata": {},
   "outputs": [
    {
     "data": {
      "text/plain": [
       "8.0"
      ]
     },
     "execution_count": 53,
     "metadata": {},
     "output_type": "execute_result"
    }
   ],
   "source": [
    "similarity.graph_edit_distance(traj1_nx_graph, traj2_nx_graph)"
   ]
  },
  {
   "cell_type": "markdown",
   "id": "7c2710b0",
   "metadata": {},
   "source": [
    "#### Is graph A a sbgraph of graph B"
   ]
  },
  {
   "cell_type": "code",
   "execution_count": 86,
   "id": "d204d76a",
   "metadata": {},
   "outputs": [],
   "source": [
    "def get_all_subgraphs(nx_graph): #maybe i remove the lupus node \n",
    "    all_subgraphs = []\n",
    "    all_connected_subgraphs = []\n",
    "    for nb_nodes in (2, nx_graph.number_of_nodes()):\n",
    "        for subgraph in (nx_graph.subgraph(selected_nodes) for selected_nodes in itertools.combinations(nx_graph, nb_nodes)):\n",
    "            all_subgraphs.append(subgraph)\n",
    "#             if nx.is_connected(subgraph):\n",
    "#                 all_connected_subgraphs.append(subgraph)\n",
    "    return all_subgraphs#, all_connected_subgraphs  "
   ]
  },
  {
   "cell_type": "code",
   "execution_count": 87,
   "id": "b10e0988",
   "metadata": {},
   "outputs": [],
   "source": [
    "traj1_subgraphs, traj1_connected_subgraphs = get_all_connected_subgraphs(traj1_nx_graph)"
   ]
  },
  {
   "cell_type": "code",
   "execution_count": 88,
   "id": "8c7736d1",
   "metadata": {},
   "outputs": [
    {
     "data": {
      "text/plain": [
       "(121, 0)"
      ]
     },
     "execution_count": 88,
     "metadata": {},
     "output_type": "execute_result"
    }
   ],
   "source": [
    "len(traj1_subgraphs), len(traj1_connected_subgraphs)"
   ]
  },
  {
   "cell_type": "code",
   "execution_count": 91,
   "id": "5597b03b",
   "metadata": {},
   "outputs": [],
   "source": [
    "def is_subgraph(graph1, graph2): #is graph1 a subset of graph2\n",
    "    graph2_subgraphs = get_all_subgraphs(graph2)\n",
    "    for graph2_subgraph in graph2_subgraphs:\n",
    "#         print(type(graph1), type(graph2_subgraph))\n",
    "        if nx.is_isomorphic(graph1, graph2_subgraph):\n",
    "            return True\n",
    "    return False"
   ]
  },
  {
   "cell_type": "code",
   "execution_count": 92,
   "id": "455d68a9",
   "metadata": {},
   "outputs": [
    {
     "data": {
      "text/plain": [
       "False"
      ]
     },
     "execution_count": 92,
     "metadata": {},
     "output_type": "execute_result"
    }
   ],
   "source": [
    "is_subgraph(traj1_nx_graph, traj2_nx_graph)"
   ]
  }
 ],
 "metadata": {
  "kernelspec": {
   "display_name": "Python 3 (ipykernel)",
   "language": "python",
   "name": "python3"
  },
  "language_info": {
   "codemirror_mode": {
    "name": "ipython",
    "version": 3
   },
   "file_extension": ".py",
   "mimetype": "text/x-python",
   "name": "python",
   "nbconvert_exporter": "python",
   "pygments_lexer": "ipython3",
   "version": "3.7.4"
  }
 },
 "nbformat": 4,
 "nbformat_minor": 5
}

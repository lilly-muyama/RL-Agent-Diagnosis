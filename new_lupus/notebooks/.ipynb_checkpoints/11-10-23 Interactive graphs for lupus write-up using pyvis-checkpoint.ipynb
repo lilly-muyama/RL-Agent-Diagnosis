{
 "cells": [
  {
   "cell_type": "code",
   "execution_count": 4,
   "id": "f074af5e",
   "metadata": {},
   "outputs": [],
   "source": [
    "import dash\n",
    "from dash import dcc, html\n",
    "import plotly.graph_objs as go\n",
    "import networkx as nx"
   ]
  },
  {
   "cell_type": "code",
   "execution_count": 5,
   "id": "96854314",
   "metadata": {},
   "outputs": [],
   "source": [
    "# Create a graph\n",
    "G = nx.Graph()\n",
    "nodes = [1, 2, 3, 4, 5, 6]\n",
    "edges = [(1, 2), (2, 3), (3, 4), (4, 5), (5, 6)]\n",
    "G.add_nodes_from(nodes)\n",
    "G.add_edges_from(edges)"
   ]
  },
  {
   "cell_type": "code",
   "execution_count": 6,
   "id": "9728bec4",
   "metadata": {},
   "outputs": [],
   "source": [
    "pos = nx.spring_layout(G)"
   ]
  },
  {
   "cell_type": "code",
   "execution_count": 7,
   "id": "860c5710",
   "metadata": {},
   "outputs": [],
   "source": [
    "app = dash.Dash(__name__)"
   ]
  },
  {
   "cell_type": "code",
   "execution_count": 8,
   "id": "69674011",
   "metadata": {},
   "outputs": [],
   "source": [
    "app.layout = html.Div([\n",
    "    dcc.Graph(\n",
    "        id='graph',\n",
    "        figure={\n",
    "            'data': [\n",
    "                go.Scatter(\n",
    "                    x=[pos[node][0] for node in G.nodes()],\n",
    "                    y=[pos[node][1] for node in G.nodes()],\n",
    "                    mode='markers',\n",
    "                    marker=dict(color='steelblue', size=15),\n",
    "                    text=[str(node) for node in G.nodes()],\n",
    "                    hoverinfo='text'\n",
    "                ),\n",
    "                go.Scatter(\n",
    "                    x=[pos[edge[0]][0] for edge in G.edges()],\n",
    "                    y=[pos[edge[0]][1] for edge in G.edges()],\n",
    "                    mode='lines',\n",
    "                    line=dict(color='gray', width=2),\n",
    "                    hoverinfo='none'\n",
    "                ),\n",
    "                go.Scatter(\n",
    "                    x=[pos[edge[1]][0] for edge in G.edges()],\n",
    "                    y=[pos[edge[1]][1] for edge in G.edges()],\n",
    "                    mode='lines',\n",
    "                    line=dict(color='gray', width=2),\n",
    "                    hoverinfo='none'\n",
    "                )\n",
    "            ],\n",
    "            'layout': go.Layout(\n",
    "                showlegend=False,\n",
    "                hovermode='closest',\n",
    "                margin=dict(b=0, l=0, r=0, t=0),\n",
    "                xaxis=dict(showgrid=False, zeroline=False),\n",
    "                yaxis=dict(showgrid=False, zeroline=False)\n",
    "            )\n",
    "        }\n",
    "    )\n",
    "])"
   ]
  },
  {
   "cell_type": "code",
   "execution_count": 9,
   "id": "c2b99b9c",
   "metadata": {},
   "outputs": [
    {
     "data": {
      "text/html": [
       "\n",
       "        <iframe\n",
       "            width=\"100%\"\n",
       "            height=\"650\"\n",
       "            src=\"http://127.0.0.1:8050/\"\n",
       "            frameborder=\"0\"\n",
       "            allowfullscreen\n",
       "            \n",
       "        ></iframe>\n",
       "        "
      ],
      "text/plain": [
       "<IPython.lib.display.IFrame at 0x7f5f84034450>"
      ]
     },
     "metadata": {},
     "output_type": "display_data"
    }
   ],
   "source": [
    "app.run_server(debug=True)"
   ]
  },
  {
   "cell_type": "code",
   "execution_count": null,
   "id": "5c886e57",
   "metadata": {},
   "outputs": [],
   "source": []
  }
 ],
 "metadata": {
  "kernelspec": {
   "display_name": "Python 3 (ipykernel)",
   "language": "python",
   "name": "python3"
  },
  "language_info": {
   "codemirror_mode": {
    "name": "ipython",
    "version": 3
   },
   "file_extension": ".py",
   "mimetype": "text/x-python",
   "name": "python",
   "nbconvert_exporter": "python",
   "pygments_lexer": "ipython3",
   "version": "3.7.4"
  }
 },
 "nbformat": 4,
 "nbformat_minor": 5
}

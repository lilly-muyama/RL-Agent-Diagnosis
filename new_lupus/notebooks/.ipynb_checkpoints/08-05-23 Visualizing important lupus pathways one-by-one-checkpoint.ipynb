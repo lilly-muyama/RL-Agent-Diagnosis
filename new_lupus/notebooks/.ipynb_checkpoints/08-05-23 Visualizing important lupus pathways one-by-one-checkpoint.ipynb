{
 "cells": [
  {
   "cell_type": "code",
   "execution_count": 2,
   "id": "8b062bd5",
   "metadata": {},
   "outputs": [],
   "source": [
    "import pandas as pd\n",
    "import numpy as np\n",
    "import ast\n",
    "import math\n",
    "from pyvis.network import Network\n",
    "import sys\n",
    "sys.path.append('../')\n",
    "from modules import utils, constants"
   ]
  },
  {
   "cell_type": "markdown",
   "id": "b8ecdb0f",
   "metadata": {},
   "source": [
    "#### The test df"
   ]
  },
  {
   "cell_type": "code",
   "execution_count": 35,
   "id": "3976e035",
   "metadata": {},
   "outputs": [],
   "source": [
    "model_name = 'dueling_ddqn_per'\n",
    "seed = 84\n",
    "steps = int(10e7)"
   ]
  },
  {
   "cell_type": "code",
   "execution_count": 36,
   "id": "74ca66dd",
   "metadata": {},
   "outputs": [
    {
     "data": {
      "text/html": [
       "<div>\n",
       "<style scoped>\n",
       "    .dataframe tbody tr th:only-of-type {\n",
       "        vertical-align: middle;\n",
       "    }\n",
       "\n",
       "    .dataframe tbody tr th {\n",
       "        vertical-align: top;\n",
       "    }\n",
       "\n",
       "    .dataframe thead th {\n",
       "        text-align: right;\n",
       "    }\n",
       "</style>\n",
       "<table border=\"1\" class=\"dataframe\">\n",
       "  <thead>\n",
       "    <tr style=\"text-align: right;\">\n",
       "      <th></th>\n",
       "      <th>index</th>\n",
       "      <th>episode_length</th>\n",
       "      <th>reward</th>\n",
       "      <th>y_pred</th>\n",
       "      <th>y_actual</th>\n",
       "      <th>trajectory</th>\n",
       "      <th>terminated</th>\n",
       "      <th>is_success</th>\n",
       "    </tr>\n",
       "  </thead>\n",
       "  <tbody>\n",
       "    <tr>\n",
       "      <th>0</th>\n",
       "      <td>0.0</td>\n",
       "      <td>15.0</td>\n",
       "      <td>0.533333</td>\n",
       "      <td>1.0</td>\n",
       "      <td>1.0</td>\n",
       "      <td>['ana', 'cutaneous_lupus', 'lupus_anti_coagula...</td>\n",
       "      <td>0.0</td>\n",
       "      <td>1.0</td>\n",
       "    </tr>\n",
       "    <tr>\n",
       "      <th>1</th>\n",
       "      <td>1.0</td>\n",
       "      <td>14.0</td>\n",
       "      <td>0.566667</td>\n",
       "      <td>0.0</td>\n",
       "      <td>0.0</td>\n",
       "      <td>['ana', 'cutaneous_lupus', 'lupus_anti_coagula...</td>\n",
       "      <td>0.0</td>\n",
       "      <td>1.0</td>\n",
       "    </tr>\n",
       "    <tr>\n",
       "      <th>2</th>\n",
       "      <td>2.0</td>\n",
       "      <td>13.0</td>\n",
       "      <td>0.600000</td>\n",
       "      <td>1.0</td>\n",
       "      <td>1.0</td>\n",
       "      <td>['ana', 'cutaneous_lupus', 'lupus_anti_coagula...</td>\n",
       "      <td>0.0</td>\n",
       "      <td>1.0</td>\n",
       "    </tr>\n",
       "    <tr>\n",
       "      <th>3</th>\n",
       "      <td>3.0</td>\n",
       "      <td>14.0</td>\n",
       "      <td>0.566667</td>\n",
       "      <td>0.0</td>\n",
       "      <td>0.0</td>\n",
       "      <td>['ana', 'cutaneous_lupus', 'lupus_anti_coagula...</td>\n",
       "      <td>0.0</td>\n",
       "      <td>1.0</td>\n",
       "    </tr>\n",
       "    <tr>\n",
       "      <th>4</th>\n",
       "      <td>4.0</td>\n",
       "      <td>11.0</td>\n",
       "      <td>0.666667</td>\n",
       "      <td>1.0</td>\n",
       "      <td>1.0</td>\n",
       "      <td>['ana', 'cutaneous_lupus', 'lupus_anti_coagula...</td>\n",
       "      <td>0.0</td>\n",
       "      <td>1.0</td>\n",
       "    </tr>\n",
       "  </tbody>\n",
       "</table>\n",
       "</div>"
      ],
      "text/plain": [
       "   index  episode_length    reward  y_pred  y_actual  \\\n",
       "0    0.0            15.0  0.533333     1.0       1.0   \n",
       "1    1.0            14.0  0.566667     0.0       0.0   \n",
       "2    2.0            13.0  0.600000     1.0       1.0   \n",
       "3    3.0            14.0  0.566667     0.0       0.0   \n",
       "4    4.0            11.0  0.666667     1.0       1.0   \n",
       "\n",
       "                                          trajectory  terminated  is_success  \n",
       "0  ['ana', 'cutaneous_lupus', 'lupus_anti_coagula...         0.0         1.0  \n",
       "1  ['ana', 'cutaneous_lupus', 'lupus_anti_coagula...         0.0         1.0  \n",
       "2  ['ana', 'cutaneous_lupus', 'lupus_anti_coagula...         0.0         1.0  \n",
       "3  ['ana', 'cutaneous_lupus', 'lupus_anti_coagula...         0.0         1.0  \n",
       "4  ['ana', 'cutaneous_lupus', 'lupus_anti_coagula...         0.0         1.0  "
      ]
     },
     "execution_count": 36,
     "metadata": {},
     "output_type": "execute_result"
    }
   ],
   "source": [
    "test_df = pd.read_csv(f'../test_dfs/{model_name}_biopsy_with_cost_{seed}_{steps}.csv')\n",
    "test_df.head()"
   ]
  },
  {
   "cell_type": "code",
   "execution_count": 37,
   "id": "77bf2b73",
   "metadata": {},
   "outputs": [
    {
     "data": {
      "text/plain": [
       "98.10714285714286"
      ]
     },
     "execution_count": 37,
     "metadata": {},
     "output_type": "execute_result"
    }
   ],
   "source": [
    "utils.test(test_df.y_actual, test_df.y_pred)[0]"
   ]
  },
  {
   "cell_type": "code",
   "execution_count": 38,
   "id": "9f5de9b5",
   "metadata": {},
   "outputs": [
    {
     "data": {
      "text/plain": [
       "19.374333333333333"
      ]
     },
     "execution_count": 38,
     "metadata": {},
     "output_type": "execute_result"
    }
   ],
   "source": [
    "test_df[(test_df.y_pred==0) & (test_df.episode_length!=2)].episode_length.mean()"
   ]
  },
  {
   "cell_type": "markdown",
   "id": "d11ab33b",
   "metadata": {},
   "source": [
    "#### The other pertinent dfs"
   ]
  },
  {
   "cell_type": "code",
   "execution_count": 39,
   "id": "b6428dcb",
   "metadata": {},
   "outputs": [
    {
     "data": {
      "text/html": [
       "<div>\n",
       "<style scoped>\n",
       "    .dataframe tbody tr th:only-of-type {\n",
       "        vertical-align: middle;\n",
       "    }\n",
       "\n",
       "    .dataframe tbody tr th {\n",
       "        vertical-align: top;\n",
       "    }\n",
       "\n",
       "    .dataframe thead th {\n",
       "        text-align: right;\n",
       "    }\n",
       "</style>\n",
       "<table border=\"1\" class=\"dataframe\">\n",
       "  <thead>\n",
       "    <tr style=\"text-align: right;\">\n",
       "      <th></th>\n",
       "      <th>ana</th>\n",
       "      <th>fever</th>\n",
       "      <th>leukopenia</th>\n",
       "      <th>thrombocytopenia</th>\n",
       "      <th>auto_immune_hemolysis</th>\n",
       "      <th>delirium</th>\n",
       "      <th>psychosis</th>\n",
       "      <th>seizure</th>\n",
       "      <th>non_scarring_alopecia</th>\n",
       "      <th>oral_ulcers</th>\n",
       "      <th>...</th>\n",
       "      <th>proteinuria</th>\n",
       "      <th>biopsy_proven_lupus_nephritis</th>\n",
       "      <th>anti_cardioliphin_antibodies</th>\n",
       "      <th>anti_β2gp1_antibodies</th>\n",
       "      <th>lupus_anti_coagulant</th>\n",
       "      <th>low_c3</th>\n",
       "      <th>low_c4</th>\n",
       "      <th>anti_dsdna_antibody</th>\n",
       "      <th>anti_smith_antibody</th>\n",
       "      <th>label</th>\n",
       "    </tr>\n",
       "  </thead>\n",
       "  <tbody>\n",
       "    <tr>\n",
       "      <th>0</th>\n",
       "      <td>1</td>\n",
       "      <td>0</td>\n",
       "      <td>1</td>\n",
       "      <td>0</td>\n",
       "      <td>0</td>\n",
       "      <td>0</td>\n",
       "      <td>0</td>\n",
       "      <td>0</td>\n",
       "      <td>0</td>\n",
       "      <td>0</td>\n",
       "      <td>...</td>\n",
       "      <td>1</td>\n",
       "      <td>0</td>\n",
       "      <td>0</td>\n",
       "      <td>0</td>\n",
       "      <td>0</td>\n",
       "      <td>1</td>\n",
       "      <td>0</td>\n",
       "      <td>1</td>\n",
       "      <td>0</td>\n",
       "      <td>1</td>\n",
       "    </tr>\n",
       "    <tr>\n",
       "      <th>1</th>\n",
       "      <td>1</td>\n",
       "      <td>0</td>\n",
       "      <td>0</td>\n",
       "      <td>0</td>\n",
       "      <td>0</td>\n",
       "      <td>0</td>\n",
       "      <td>0</td>\n",
       "      <td>0</td>\n",
       "      <td>0</td>\n",
       "      <td>0</td>\n",
       "      <td>...</td>\n",
       "      <td>0</td>\n",
       "      <td>0</td>\n",
       "      <td>0</td>\n",
       "      <td>0</td>\n",
       "      <td>0</td>\n",
       "      <td>0</td>\n",
       "      <td>1</td>\n",
       "      <td>0</td>\n",
       "      <td>0</td>\n",
       "      <td>0</td>\n",
       "    </tr>\n",
       "    <tr>\n",
       "      <th>2</th>\n",
       "      <td>1</td>\n",
       "      <td>0</td>\n",
       "      <td>1</td>\n",
       "      <td>0</td>\n",
       "      <td>0</td>\n",
       "      <td>0</td>\n",
       "      <td>0</td>\n",
       "      <td>0</td>\n",
       "      <td>0</td>\n",
       "      <td>0</td>\n",
       "      <td>...</td>\n",
       "      <td>0</td>\n",
       "      <td>0</td>\n",
       "      <td>0</td>\n",
       "      <td>0</td>\n",
       "      <td>0</td>\n",
       "      <td>1</td>\n",
       "      <td>0</td>\n",
       "      <td>1</td>\n",
       "      <td>0</td>\n",
       "      <td>1</td>\n",
       "    </tr>\n",
       "    <tr>\n",
       "      <th>3</th>\n",
       "      <td>1</td>\n",
       "      <td>0</td>\n",
       "      <td>0</td>\n",
       "      <td>0</td>\n",
       "      <td>0</td>\n",
       "      <td>0</td>\n",
       "      <td>0</td>\n",
       "      <td>0</td>\n",
       "      <td>1</td>\n",
       "      <td>0</td>\n",
       "      <td>...</td>\n",
       "      <td>0</td>\n",
       "      <td>0</td>\n",
       "      <td>0</td>\n",
       "      <td>0</td>\n",
       "      <td>0</td>\n",
       "      <td>0</td>\n",
       "      <td>0</td>\n",
       "      <td>0</td>\n",
       "      <td>0</td>\n",
       "      <td>0</td>\n",
       "    </tr>\n",
       "    <tr>\n",
       "      <th>4</th>\n",
       "      <td>1</td>\n",
       "      <td>0</td>\n",
       "      <td>0</td>\n",
       "      <td>0</td>\n",
       "      <td>0</td>\n",
       "      <td>0</td>\n",
       "      <td>0</td>\n",
       "      <td>0</td>\n",
       "      <td>0</td>\n",
       "      <td>0</td>\n",
       "      <td>...</td>\n",
       "      <td>1</td>\n",
       "      <td>4</td>\n",
       "      <td>1</td>\n",
       "      <td>0</td>\n",
       "      <td>0</td>\n",
       "      <td>0</td>\n",
       "      <td>1</td>\n",
       "      <td>0</td>\n",
       "      <td>0</td>\n",
       "      <td>1</td>\n",
       "    </tr>\n",
       "  </tbody>\n",
       "</table>\n",
       "<p>5 rows × 25 columns</p>\n",
       "</div>"
      ],
      "text/plain": [
       "   ana  fever  leukopenia  thrombocytopenia  auto_immune_hemolysis  delirium  \\\n",
       "0    1      0           1                 0                      0         0   \n",
       "1    1      0           0                 0                      0         0   \n",
       "2    1      0           1                 0                      0         0   \n",
       "3    1      0           0                 0                      0         0   \n",
       "4    1      0           0                 0                      0         0   \n",
       "\n",
       "   psychosis  seizure  non_scarring_alopecia  oral_ulcers  ...  proteinuria  \\\n",
       "0          0        0                      0            0  ...            1   \n",
       "1          0        0                      0            0  ...            0   \n",
       "2          0        0                      0            0  ...            0   \n",
       "3          0        0                      1            0  ...            0   \n",
       "4          0        0                      0            0  ...            1   \n",
       "\n",
       "   biopsy_proven_lupus_nephritis  anti_cardioliphin_antibodies  \\\n",
       "0                              0                             0   \n",
       "1                              0                             0   \n",
       "2                              0                             0   \n",
       "3                              0                             0   \n",
       "4                              4                             1   \n",
       "\n",
       "   anti_β2gp1_antibodies  lupus_anti_coagulant  low_c3  low_c4  \\\n",
       "0                      0                     0       1       0   \n",
       "1                      0                     0       0       1   \n",
       "2                      0                     0       1       0   \n",
       "3                      0                     0       0       0   \n",
       "4                      0                     0       0       1   \n",
       "\n",
       "   anti_dsdna_antibody  anti_smith_antibody  label  \n",
       "0                    1                    0      1  \n",
       "1                    0                    0      0  \n",
       "2                    1                    0      1  \n",
       "3                    0                    0      0  \n",
       "4                    0                    0      1  \n",
       "\n",
       "[5 rows x 25 columns]"
      ]
     },
     "execution_count": 39,
     "metadata": {},
     "output_type": "execute_result"
    }
   ],
   "source": [
    "testing_df = pd.read_csv('../new_data/test_set_constant.csv')\n",
    "testing_df.head()"
   ]
  },
  {
   "cell_type": "code",
   "execution_count": 40,
   "id": "e44e194a",
   "metadata": {},
   "outputs": [
    {
     "data": {
      "text/html": [
       "<div>\n",
       "<style scoped>\n",
       "    .dataframe tbody tr th:only-of-type {\n",
       "        vertical-align: middle;\n",
       "    }\n",
       "\n",
       "    .dataframe tbody tr th {\n",
       "        vertical-align: top;\n",
       "    }\n",
       "\n",
       "    .dataframe thead th {\n",
       "        text-align: right;\n",
       "    }\n",
       "</style>\n",
       "<table border=\"1\" class=\"dataframe\">\n",
       "  <thead>\n",
       "    <tr style=\"text-align: right;\">\n",
       "      <th></th>\n",
       "      <th>ana</th>\n",
       "      <th>fever</th>\n",
       "      <th>leukopenia</th>\n",
       "      <th>thrombocytopenia</th>\n",
       "      <th>auto_immune_hemolysis</th>\n",
       "      <th>delirium</th>\n",
       "      <th>psychosis</th>\n",
       "      <th>seizure</th>\n",
       "      <th>non_scarring_alopecia</th>\n",
       "      <th>oral_ulcers</th>\n",
       "      <th>...</th>\n",
       "      <th>proteinuria</th>\n",
       "      <th>biopsy_proven_lupus_nephritis</th>\n",
       "      <th>anti_cardioliphin_antibodies</th>\n",
       "      <th>anti_β2gp1_antibodies</th>\n",
       "      <th>lupus_anti_coagulant</th>\n",
       "      <th>low_c3</th>\n",
       "      <th>low_c4</th>\n",
       "      <th>anti_dsdna_antibody</th>\n",
       "      <th>anti_smith_antibody</th>\n",
       "      <th>label</th>\n",
       "    </tr>\n",
       "  </thead>\n",
       "  <tbody>\n",
       "    <tr>\n",
       "      <th>0</th>\n",
       "      <td>1</td>\n",
       "      <td>1</td>\n",
       "      <td>0</td>\n",
       "      <td>0</td>\n",
       "      <td>0</td>\n",
       "      <td>0</td>\n",
       "      <td>0</td>\n",
       "      <td>0</td>\n",
       "      <td>0</td>\n",
       "      <td>0</td>\n",
       "      <td>...</td>\n",
       "      <td>1</td>\n",
       "      <td>0</td>\n",
       "      <td>0</td>\n",
       "      <td>0</td>\n",
       "      <td>0</td>\n",
       "      <td>0</td>\n",
       "      <td>1</td>\n",
       "      <td>0</td>\n",
       "      <td>0</td>\n",
       "      <td>1</td>\n",
       "    </tr>\n",
       "    <tr>\n",
       "      <th>1</th>\n",
       "      <td>1</td>\n",
       "      <td>0</td>\n",
       "      <td>1</td>\n",
       "      <td>0</td>\n",
       "      <td>0</td>\n",
       "      <td>0</td>\n",
       "      <td>0</td>\n",
       "      <td>0</td>\n",
       "      <td>1</td>\n",
       "      <td>0</td>\n",
       "      <td>...</td>\n",
       "      <td>0</td>\n",
       "      <td>0</td>\n",
       "      <td>0</td>\n",
       "      <td>1</td>\n",
       "      <td>0</td>\n",
       "      <td>0</td>\n",
       "      <td>0</td>\n",
       "      <td>1</td>\n",
       "      <td>0</td>\n",
       "      <td>1</td>\n",
       "    </tr>\n",
       "    <tr>\n",
       "      <th>2</th>\n",
       "      <td>0</td>\n",
       "      <td>0</td>\n",
       "      <td>0</td>\n",
       "      <td>0</td>\n",
       "      <td>0</td>\n",
       "      <td>0</td>\n",
       "      <td>0</td>\n",
       "      <td>0</td>\n",
       "      <td>0</td>\n",
       "      <td>0</td>\n",
       "      <td>...</td>\n",
       "      <td>0</td>\n",
       "      <td>0</td>\n",
       "      <td>0</td>\n",
       "      <td>0</td>\n",
       "      <td>0</td>\n",
       "      <td>0</td>\n",
       "      <td>0</td>\n",
       "      <td>0</td>\n",
       "      <td>0</td>\n",
       "      <td>0</td>\n",
       "    </tr>\n",
       "    <tr>\n",
       "      <th>3</th>\n",
       "      <td>0</td>\n",
       "      <td>0</td>\n",
       "      <td>0</td>\n",
       "      <td>0</td>\n",
       "      <td>0</td>\n",
       "      <td>0</td>\n",
       "      <td>0</td>\n",
       "      <td>0</td>\n",
       "      <td>0</td>\n",
       "      <td>0</td>\n",
       "      <td>...</td>\n",
       "      <td>1</td>\n",
       "      <td>0</td>\n",
       "      <td>0</td>\n",
       "      <td>0</td>\n",
       "      <td>0</td>\n",
       "      <td>0</td>\n",
       "      <td>0</td>\n",
       "      <td>0</td>\n",
       "      <td>0</td>\n",
       "      <td>0</td>\n",
       "    </tr>\n",
       "    <tr>\n",
       "      <th>4</th>\n",
       "      <td>1</td>\n",
       "      <td>0</td>\n",
       "      <td>0</td>\n",
       "      <td>0</td>\n",
       "      <td>0</td>\n",
       "      <td>1</td>\n",
       "      <td>0</td>\n",
       "      <td>0</td>\n",
       "      <td>1</td>\n",
       "      <td>0</td>\n",
       "      <td>...</td>\n",
       "      <td>1</td>\n",
       "      <td>3</td>\n",
       "      <td>0</td>\n",
       "      <td>0</td>\n",
       "      <td>0</td>\n",
       "      <td>0</td>\n",
       "      <td>0</td>\n",
       "      <td>0</td>\n",
       "      <td>0</td>\n",
       "      <td>1</td>\n",
       "    </tr>\n",
       "  </tbody>\n",
       "</table>\n",
       "<p>5 rows × 25 columns</p>\n",
       "</div>"
      ],
      "text/plain": [
       "   ana  fever  leukopenia  thrombocytopenia  auto_immune_hemolysis  delirium  \\\n",
       "0    1      1           0                 0                      0         0   \n",
       "1    1      0           1                 0                      0         0   \n",
       "2    0      0           0                 0                      0         0   \n",
       "3    0      0           0                 0                      0         0   \n",
       "4    1      0           0                 0                      0         1   \n",
       "\n",
       "   psychosis  seizure  non_scarring_alopecia  oral_ulcers  ...  proteinuria  \\\n",
       "0          0        0                      0            0  ...            1   \n",
       "1          0        0                      1            0  ...            0   \n",
       "2          0        0                      0            0  ...            0   \n",
       "3          0        0                      0            0  ...            1   \n",
       "4          0        0                      1            0  ...            1   \n",
       "\n",
       "   biopsy_proven_lupus_nephritis  anti_cardioliphin_antibodies  \\\n",
       "0                              0                             0   \n",
       "1                              0                             0   \n",
       "2                              0                             0   \n",
       "3                              0                             0   \n",
       "4                              3                             0   \n",
       "\n",
       "   anti_β2gp1_antibodies  lupus_anti_coagulant  low_c3  low_c4  \\\n",
       "0                      0                     0       0       1   \n",
       "1                      1                     0       0       0   \n",
       "2                      0                     0       0       0   \n",
       "3                      0                     0       0       0   \n",
       "4                      0                     0       0       0   \n",
       "\n",
       "   anti_dsdna_antibody  anti_smith_antibody  label  \n",
       "0                    0                    0      1  \n",
       "1                    1                    0      1  \n",
       "2                    0                    0      0  \n",
       "3                    0                    0      0  \n",
       "4                    0                    0      1  \n",
       "\n",
       "[5 rows x 25 columns]"
      ]
     },
     "execution_count": 40,
     "metadata": {},
     "output_type": "execute_result"
    }
   ],
   "source": [
    "training_df = pd.read_csv('../new_data/train_set_basic.csv')\n",
    "training_df.head()"
   ]
  },
  {
   "cell_type": "markdown",
   "id": "9817ef41",
   "metadata": {},
   "source": [
    "#### Possibly useful functions"
   ]
  },
  {
   "cell_type": "code",
   "execution_count": 41,
   "id": "215ab430",
   "metadata": {},
   "outputs": [],
   "source": [
    "def generate_tuple_dict(df):\n",
    "    frequency_dict = {}\n",
    "    for traj in df.trajectory:\n",
    "        if traj in frequency_dict.keys():\n",
    "            frequency_dict[traj] += 1\n",
    "        else:\n",
    "            frequency_dict[traj] = 1\n",
    "    overall_tup_dict = {}\n",
    "    for key, value in frequency_dict.items():\n",
    "        new_key = ast.literal_eval(key)\n",
    "        for tup in zip(new_key, new_key[1:]):\n",
    "            if tup in overall_tup_dict.keys():\n",
    "                overall_tup_dict[tup] += value\n",
    "            else:\n",
    "                overall_tup_dict[tup] = value\n",
    "    return overall_tup_dict"
   ]
  },
  {
   "cell_type": "code",
   "execution_count": 42,
   "id": "5d004a06",
   "metadata": {},
   "outputs": [],
   "source": [
    "def create_sankey_df(df):\n",
    "    overall_tup_dict = generate_tuple_dict(df)\n",
    "    sankey_df = pd.DataFrame()\n",
    "    sankey_df['source'] = [i[0] for i in overall_tup_dict.keys()]\n",
    "    sankey_df['target'] = [i[1] for i in overall_tup_dict.keys()]\n",
    "    sankey_df['value'] = list(overall_tup_dict.values())\n",
    "    sankey_df['link_type'] = sankey_df['target'].apply(lambda i: 'terminal' if i in ['No lupus', 'Lupus', 'Inconclusive diagnosis'] else 'non_terminal')\n",
    "    return sankey_df"
   ]
  },
  {
   "cell_type": "code",
   "execution_count": 43,
   "id": "e7121a15",
   "metadata": {},
   "outputs": [],
   "source": [
    "def draw_pyvis_network(pathways_df, pathway_type='network'): #second type is trajectory \n",
    "    pathways_df['type'] = 'directed'\n",
    "    start_node = pathways_df.iloc[0]['source']\n",
    "    all_nodes = list(set(pathways_df.source.unique().tolist() + pathways_df.target.unique().tolist()))\n",
    "    terminal_nodes = list(set(pathways_df[pathways_df.link_type=='terminal'].target))\n",
    "    non_terminal_nodes = [i for i in all_nodes if i not in terminal_nodes and i!=start_node]\n",
    "    \n",
    "    #change get_net to something else since it satnds for Game of Thrones\n",
    "    got_net = Network(notebook=True, height='600px', width='100%', directed=True, cdn_resources='in_line')\n",
    "    got_net.add_node(start_node, color='purple', size=20)\n",
    "    got_net.add_nodes(non_terminal_nodes, size=[15]*len(non_terminal_nodes), color=['blue']*len(non_terminal_nodes))\n",
    "    got_net.add_nodes(terminal_nodes, color=['green']*len(terminal_nodes), size=[20]*len(terminal_nodes))\n",
    "    for src, target, value, edge_thresh in zip(pathways_df.source, pathways_df.target, pathways_df.value, pathways_df.edge_threshold):\n",
    "        if pathway_type =='network':\n",
    "            if value > threshold:\n",
    "                if math.isnan(edge_thresh):\n",
    "                    got_net.add_edge(src, target, value=value, color='red')\n",
    "                else:\n",
    "                    got_net.add_edge(src, target, value=value, color='red', label=str(int(edge_thresh)))\n",
    "            else:\n",
    "                got_net.add_edge(src, target, value=value, color='blue')\n",
    "        elif pathway_type =='trajectory': #It's just one trajectory\n",
    "            if isinstance(edge_thresh, str):\n",
    "                got_net.add_edge(src, target, value=value, color='blue', label=edge_thresh)\n",
    "            else:\n",
    "                got_net.add_edge(src, target, value=value, color='blue', label=str(int(edge_thresh)))\n",
    "        else:\n",
    "            print('Unknown pathway type')\n",
    "    return got_net"
   ]
  },
  {
   "cell_type": "code",
   "execution_count": 44,
   "id": "d3c79386",
   "metadata": {},
   "outputs": [],
   "source": [
    "def get_threshold_value(df, source): #source e.g. 'ana'\n",
    "    threshold_values = df[source].unique().tolist()\n",
    "    if len(threshold_values) == 1:\n",
    "        return int(threshold_values[0])\n",
    "    else:\n",
    "        return str(threshold_values)"
   ]
  },
  {
   "cell_type": "code",
   "execution_count": 45,
   "id": "1fcb217c",
   "metadata": {},
   "outputs": [],
   "source": [
    "def draw_one_trajectory(pred_df, trajectory): #pred_df = pred_no_lupus par exemple\n",
    "    trajectory_df = pred_df[pred_df.trajectory == trajectory]\n",
    "    trajectory_testing_df = testing_df.loc[trajectory_df.index]\n",
    "    trajectory_pathways_df = create_sankey_df(trajectory_df)\n",
    "    trajectory_pathways_df['edge_threshold'] = [get_threshold_value(trajectory_testing_df, source) for source in trajectory_pathways_df.source]\n",
    "    trajectory_net = draw_pyvis_network(trajectory_pathways_df, 'trajectory')   \n",
    "    return trajectory_net"
   ]
  },
  {
   "cell_type": "markdown",
   "id": "7ea161b7",
   "metadata": {},
   "source": [
    "##### shortest pathway"
   ]
  },
  {
   "cell_type": "code",
   "execution_count": 46,
   "id": "0580625d",
   "metadata": {},
   "outputs": [
    {
     "data": {
      "text/plain": [
       "\"['ana', 'cutaneous_lupus', 'lupus_anti_coagulant', 'anti_smith_antibody', 'delirium', 'Lupus']\""
      ]
     },
     "execution_count": 46,
     "metadata": {},
     "output_type": "execute_result"
    }
   ],
   "source": [
    "pred_lupus = test_df[test_df['y_pred']==1]\n",
    "shortest_lupus_path = pred_lupus[pred_lupus.episode_length == pred_lupus.episode_length.min()].trajectory.unique()[0]\n",
    "shortest_lupus_path"
   ]
  },
  {
   "cell_type": "code",
   "execution_count": 47,
   "id": "b1a3aed4",
   "metadata": {},
   "outputs": [
    {
     "data": {
      "text/plain": [
       "2"
      ]
     },
     "execution_count": 47,
     "metadata": {},
     "output_type": "execute_result"
    }
   ],
   "source": [
    "len(pred_lupus[pred_lupus.trajectory ==shortest_lupus_path])"
   ]
  },
  {
   "cell_type": "code",
   "execution_count": 48,
   "id": "22818535",
   "metadata": {},
   "outputs": [
    {
     "data": {
      "text/plain": [
       "108"
      ]
     },
     "execution_count": 48,
     "metadata": {},
     "output_type": "execute_result"
    }
   ],
   "source": [
    "utils.get_total_feature_costs(shortest_lupus_path)"
   ]
  },
  {
   "cell_type": "code",
   "execution_count": 49,
   "id": "88a59fc6",
   "metadata": {},
   "outputs": [
    {
     "name": "stdout",
     "output_type": "stream",
     "text": [
      "Example.html\n"
     ]
    },
    {
     "data": {
      "text/html": [
       "\n",
       "        <iframe\n",
       "            width=\"100%\"\n",
       "            height=\"600px\"\n",
       "            src=\"Example.html\"\n",
       "            frameborder=\"0\"\n",
       "            allowfullscreen\n",
       "            \n",
       "        ></iframe>\n",
       "        "
      ],
      "text/plain": [
       "<IPython.lib.display.IFrame at 0x7f0efd37df10>"
      ]
     },
     "execution_count": 49,
     "metadata": {},
     "output_type": "execute_result"
    }
   ],
   "source": [
    "shortest_lupus_path_net = draw_one_trajectory(pred_lupus, shortest_lupus_path)\n",
    "shortest_lupus_path_net.show('Example.html')"
   ]
  },
  {
   "cell_type": "markdown",
   "id": "f899b271",
   "metadata": {},
   "source": [
    "##### commonest pathway "
   ]
  },
  {
   "cell_type": "code",
   "execution_count": 50,
   "id": "99744cef",
   "metadata": {},
   "outputs": [
    {
     "data": {
      "text/plain": [
       "\"['ana', 'cutaneous_lupus', 'lupus_anti_coagulant', 'joint_involvement', 'fever', 'psychosis', 'seizure', 'low_c3', 'non_scarring_alopecia', 'proteinuria', 'Lupus']\""
      ]
     },
     "execution_count": 50,
     "metadata": {},
     "output_type": "execute_result"
    }
   ],
   "source": [
    "commonest_lupus_path = pred_lupus.trajectory.value_counts().index[1]\n",
    "commonest_lupus_path"
   ]
  },
  {
   "cell_type": "code",
   "execution_count": 51,
   "id": "a6e82302",
   "metadata": {},
   "outputs": [
    {
     "data": {
      "text/plain": [
       "299"
      ]
     },
     "execution_count": 51,
     "metadata": {},
     "output_type": "execute_result"
    }
   ],
   "source": [
    "len(pred_lupus[pred_lupus.trajectory ==commonest_lupus_path])"
   ]
  },
  {
   "cell_type": "code",
   "execution_count": 52,
   "id": "d399f741",
   "metadata": {},
   "outputs": [
    {
     "data": {
      "text/plain": [
       "249"
      ]
     },
     "execution_count": 52,
     "metadata": {},
     "output_type": "execute_result"
    }
   ],
   "source": [
    "utils.get_total_feature_costs(commonest_lupus_path)"
   ]
  },
  {
   "cell_type": "code",
   "execution_count": 53,
   "id": "a0d1c9f7",
   "metadata": {},
   "outputs": [
    {
     "name": "stdout",
     "output_type": "stream",
     "text": [
      "Example.html\n"
     ]
    },
    {
     "data": {
      "text/html": [
       "\n",
       "        <iframe\n",
       "            width=\"100%\"\n",
       "            height=\"600px\"\n",
       "            src=\"Example.html\"\n",
       "            frameborder=\"0\"\n",
       "            allowfullscreen\n",
       "            \n",
       "        ></iframe>\n",
       "        "
      ],
      "text/plain": [
       "<IPython.lib.display.IFrame at 0x7f0efd1f3350>"
      ]
     },
     "execution_count": 53,
     "metadata": {},
     "output_type": "execute_result"
    }
   ],
   "source": [
    "commonest_lupus_path_net = draw_one_trajectory(pred_lupus, commonest_lupus_path)\n",
    "commonest_lupus_path_net.show('Example.html')"
   ]
  },
  {
   "cell_type": "markdown",
   "id": "00414ac2",
   "metadata": {},
   "source": [
    "##### longest pathways "
   ]
  },
  {
   "cell_type": "code",
   "execution_count": 54,
   "id": "4638814c",
   "metadata": {},
   "outputs": [
    {
     "data": {
      "text/plain": [
       "183"
      ]
     },
     "execution_count": 54,
     "metadata": {},
     "output_type": "execute_result"
    }
   ],
   "source": [
    "len(pred_lupus[pred_lupus.episode_length == pred_lupus.episode_length.max()].trajectory.value_counts())"
   ]
  },
  {
   "cell_type": "code",
   "execution_count": 55,
   "id": "96a9252b",
   "metadata": {},
   "outputs": [
    {
     "data": {
      "text/plain": [
       "\"['ana', 'cutaneous_lupus', 'lupus_anti_coagulant', 'joint_involvement', 'fever', 'psychosis', 'seizure', 'low_c3', 'non_scarring_alopecia', 'delirium', 'leukopenia', 'pleural_effusion', 'pericardial_effusion', 'proteinuria', 'anti_dsdna_antibody', 'anti_β2gp1_antibodies', 'thrombocytopenia', 'biopsy_proven_lupus_nephritis', 'auto_immune_hemolysis', 'anti_smith_antibody', 'low_c4', 'anti_cardioliphin_antibodies', 'acute_pericarditis', 'oral_ulcers', 'Lupus']\""
      ]
     },
     "execution_count": 55,
     "metadata": {},
     "output_type": "execute_result"
    }
   ],
   "source": [
    "longest_lupus_path = pred_lupus[pred_lupus.episode_length==pred_lupus.episode_length.max()].trajectory.value_counts().index[0]\n",
    "longest_lupus_path"
   ]
  },
  {
   "cell_type": "code",
   "execution_count": 56,
   "id": "1b8eaf42",
   "metadata": {},
   "outputs": [
    {
     "data": {
      "text/plain": [
       "25"
      ]
     },
     "execution_count": 56,
     "metadata": {},
     "output_type": "execute_result"
    }
   ],
   "source": [
    "len(pred_lupus[pred_lupus.trajectory ==longest_lupus_path])"
   ]
  },
  {
   "cell_type": "code",
   "execution_count": 57,
   "id": "fe3a29ba",
   "metadata": {},
   "outputs": [
    {
     "data": {
      "text/plain": [
       "567"
      ]
     },
     "execution_count": 57,
     "metadata": {},
     "output_type": "execute_result"
    }
   ],
   "source": [
    "utils.get_total_feature_costs(longest_lupus_path)"
   ]
  },
  {
   "cell_type": "code",
   "execution_count": 28,
   "id": "17bae215",
   "metadata": {},
   "outputs": [
    {
     "name": "stdout",
     "output_type": "stream",
     "text": [
      "Example.html\n"
     ]
    },
    {
     "data": {
      "text/html": [
       "\n",
       "        <iframe\n",
       "            width=\"100%\"\n",
       "            height=\"600px\"\n",
       "            src=\"Example.html\"\n",
       "            frameborder=\"0\"\n",
       "            allowfullscreen\n",
       "            \n",
       "        ></iframe>\n",
       "        "
      ],
      "text/plain": [
       "<IPython.lib.display.IFrame at 0x7f0effaf6390>"
      ]
     },
     "execution_count": 28,
     "metadata": {},
     "output_type": "execute_result"
    }
   ],
   "source": [
    "longest_lupus_path1_net = draw_one_trajectory(pred_lupus, longest_lupus_path1)\n",
    "longest_lupus_path1_net.show('Example.html')"
   ]
  },
  {
   "cell_type": "code",
   "execution_count": null,
   "id": "7b5e8e23",
   "metadata": {},
   "outputs": [],
   "source": [
    "# len(pred_lupus[pred_lupus.trajectory ==longest_lupus_path2])"
   ]
  },
  {
   "cell_type": "code",
   "execution_count": null,
   "id": "2061d899",
   "metadata": {},
   "outputs": [],
   "source": [
    "# longest_lupus_path2_net = draw_one_trajectory(pred_lupus, longest_lupus_path2)\n",
    "# longest_lupus_path2_net.show('Example.html')"
   ]
  },
  {
   "cell_type": "code",
   "execution_count": null,
   "id": "e9d5a0db",
   "metadata": {},
   "outputs": [],
   "source": [
    "#### Misdi"
   ]
  },
  {
   "cell_type": "code",
   "execution_count": null,
   "id": "d8b276fe",
   "metadata": {},
   "outputs": [],
   "source": [
    "longest_lupus_path3_net = draw_one_trajectory(pred_lupus, longest_lupus_path3)\n",
    "longest_lupus_path3_net.show('Example.html')"
   ]
  },
  {
   "cell_type": "code",
   "execution_count": null,
   "id": "247203c0",
   "metadata": {},
   "outputs": [],
   "source": [
    "len(pred_lupus[pred_lupus.trajectory ==longest_lupus_path3])"
   ]
  },
  {
   "cell_type": "code",
   "execution_count": null,
   "id": "12d4736c",
   "metadata": {},
   "outputs": [],
   "source": [
    "pathway_samp = str(['ana', 'joint_involvement', 'anti_dsdna_antibody', 'low_c3', 'psychosis', 'anti_smith_antibody', 'pleural_effusion', 'proteinuria', 'leukopenia', 'fever', 'non_scarring_alopecia', 'low_c4', 'pericardial_effusion', 'cutaneous_lupus', 'seizure', 'delirium', 'lupus_anti_coagulant', 'thrombocytopenia', 'Lupus'])\n",
    "pathway_samp"
   ]
  },
  {
   "cell_type": "code",
   "execution_count": null,
   "id": "f21feb56",
   "metadata": {},
   "outputs": [],
   "source": [
    "a = pred_lupus[(pred_lupus.trajectory == pathway_samp)&(pred_lupus.y_actual!=pred_lupus.y_pred)]"
   ]
  },
  {
   "cell_type": "code",
   "execution_count": null,
   "id": "dcb558ff",
   "metadata": {},
   "outputs": [],
   "source": [
    "draw_one_trajectory(pred_lupus, pathway_samp).show('Example.html')"
   ]
  },
  {
   "cell_type": "code",
   "execution_count": null,
   "id": "2120e8a6",
   "metadata": {},
   "outputs": [],
   "source": []
  }
 ],
 "metadata": {
  "kernelspec": {
   "display_name": "Python 3 (ipykernel)",
   "language": "python",
   "name": "python3"
  },
  "language_info": {
   "codemirror_mode": {
    "name": "ipython",
    "version": 3
   },
   "file_extension": ".py",
   "mimetype": "text/x-python",
   "name": "python",
   "nbconvert_exporter": "python",
   "pygments_lexer": "ipython3",
   "version": "3.7.4"
  }
 },
 "nbformat": 4,
 "nbformat_minor": 5
}

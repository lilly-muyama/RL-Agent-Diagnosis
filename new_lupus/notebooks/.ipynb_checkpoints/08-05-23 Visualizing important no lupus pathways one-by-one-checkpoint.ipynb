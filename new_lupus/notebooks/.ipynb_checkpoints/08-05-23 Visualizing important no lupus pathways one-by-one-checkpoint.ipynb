{
 "cells": [
  {
   "cell_type": "code",
   "execution_count": 93,
   "id": "63364f23",
   "metadata": {},
   "outputs": [],
   "source": [
    "import pandas as pd\n",
    "import numpy as np\n",
    "import ast\n",
    "import math\n",
    "from pyvis.network import Network\n",
    "import sys\n",
    "sys.path.append('../')\n",
    "from modules import utils, constants"
   ]
  },
  {
   "cell_type": "markdown",
   "id": "b747ecb1",
   "metadata": {},
   "source": [
    "#### The test df"
   ]
  },
  {
   "cell_type": "code",
   "execution_count": 94,
   "id": "824a0bdb",
   "metadata": {},
   "outputs": [],
   "source": [
    "model_name = 'dueling_ddqn_per'\n",
    "seed = 63\n",
    "steps = int(10e7)"
   ]
  },
  {
   "cell_type": "code",
   "execution_count": 95,
   "id": "78ad8bd6",
   "metadata": {},
   "outputs": [
    {
     "data": {
      "text/html": [
       "<div>\n",
       "<style scoped>\n",
       "    .dataframe tbody tr th:only-of-type {\n",
       "        vertical-align: middle;\n",
       "    }\n",
       "\n",
       "    .dataframe tbody tr th {\n",
       "        vertical-align: top;\n",
       "    }\n",
       "\n",
       "    .dataframe thead th {\n",
       "        text-align: right;\n",
       "    }\n",
       "</style>\n",
       "<table border=\"1\" class=\"dataframe\">\n",
       "  <thead>\n",
       "    <tr style=\"text-align: right;\">\n",
       "      <th></th>\n",
       "      <th>index</th>\n",
       "      <th>episode_length</th>\n",
       "      <th>reward</th>\n",
       "      <th>y_pred</th>\n",
       "      <th>y_actual</th>\n",
       "      <th>trajectory</th>\n",
       "      <th>terminated</th>\n",
       "      <th>is_success</th>\n",
       "    </tr>\n",
       "  </thead>\n",
       "  <tbody>\n",
       "    <tr>\n",
       "      <th>0</th>\n",
       "      <td>0.0</td>\n",
       "      <td>13.0</td>\n",
       "      <td>0.600000</td>\n",
       "      <td>1.0</td>\n",
       "      <td>1.0</td>\n",
       "      <td>['ana', 'delirium', 'anti_cardioliphin_antibod...</td>\n",
       "      <td>0.0</td>\n",
       "      <td>1.0</td>\n",
       "    </tr>\n",
       "    <tr>\n",
       "      <th>1</th>\n",
       "      <td>1.0</td>\n",
       "      <td>19.0</td>\n",
       "      <td>0.400000</td>\n",
       "      <td>0.0</td>\n",
       "      <td>0.0</td>\n",
       "      <td>['ana', 'delirium', 'anti_cardioliphin_antibod...</td>\n",
       "      <td>0.0</td>\n",
       "      <td>1.0</td>\n",
       "    </tr>\n",
       "    <tr>\n",
       "      <th>2</th>\n",
       "      <td>2.0</td>\n",
       "      <td>15.0</td>\n",
       "      <td>0.533333</td>\n",
       "      <td>1.0</td>\n",
       "      <td>1.0</td>\n",
       "      <td>['ana', 'delirium', 'anti_cardioliphin_antibod...</td>\n",
       "      <td>0.0</td>\n",
       "      <td>1.0</td>\n",
       "    </tr>\n",
       "    <tr>\n",
       "      <th>3</th>\n",
       "      <td>3.0</td>\n",
       "      <td>17.0</td>\n",
       "      <td>0.466667</td>\n",
       "      <td>0.0</td>\n",
       "      <td>0.0</td>\n",
       "      <td>['ana', 'delirium', 'anti_cardioliphin_antibod...</td>\n",
       "      <td>0.0</td>\n",
       "      <td>1.0</td>\n",
       "    </tr>\n",
       "    <tr>\n",
       "      <th>4</th>\n",
       "      <td>4.0</td>\n",
       "      <td>5.0</td>\n",
       "      <td>0.866667</td>\n",
       "      <td>1.0</td>\n",
       "      <td>1.0</td>\n",
       "      <td>['ana', 'delirium', 'anti_cardioliphin_antibod...</td>\n",
       "      <td>0.0</td>\n",
       "      <td>1.0</td>\n",
       "    </tr>\n",
       "  </tbody>\n",
       "</table>\n",
       "</div>"
      ],
      "text/plain": [
       "   index  episode_length    reward  y_pred  y_actual  \\\n",
       "0    0.0            13.0  0.600000     1.0       1.0   \n",
       "1    1.0            19.0  0.400000     0.0       0.0   \n",
       "2    2.0            15.0  0.533333     1.0       1.0   \n",
       "3    3.0            17.0  0.466667     0.0       0.0   \n",
       "4    4.0             5.0  0.866667     1.0       1.0   \n",
       "\n",
       "                                          trajectory  terminated  is_success  \n",
       "0  ['ana', 'delirium', 'anti_cardioliphin_antibod...         0.0         1.0  \n",
       "1  ['ana', 'delirium', 'anti_cardioliphin_antibod...         0.0         1.0  \n",
       "2  ['ana', 'delirium', 'anti_cardioliphin_antibod...         0.0         1.0  \n",
       "3  ['ana', 'delirium', 'anti_cardioliphin_antibod...         0.0         1.0  \n",
       "4  ['ana', 'delirium', 'anti_cardioliphin_antibod...         0.0         1.0  "
      ]
     },
     "execution_count": 95,
     "metadata": {},
     "output_type": "execute_result"
    }
   ],
   "source": [
    "test_df = pd.read_csv(f'../test_dfs/{model_name}_biopsy_with_cost_{seed}_{steps}.csv')\n",
    "test_df.head()"
   ]
  },
  {
   "cell_type": "code",
   "execution_count": 96,
   "id": "78ada9e7",
   "metadata": {},
   "outputs": [
    {
     "data": {
      "text/plain": [
       "96.06428571428572"
      ]
     },
     "execution_count": 96,
     "metadata": {},
     "output_type": "execute_result"
    }
   ],
   "source": [
    "utils.test(test_df.y_actual, test_df.y_pred)[0]"
   ]
  },
  {
   "cell_type": "code",
   "execution_count": 97,
   "id": "3cbb13ea",
   "metadata": {},
   "outputs": [
    {
     "data": {
      "text/plain": [
       "19.019308626596075"
      ]
     },
     "execution_count": 97,
     "metadata": {},
     "output_type": "execute_result"
    }
   ],
   "source": [
    "test_df[(test_df.y_pred==0) & (test_df.episode_length!=2)].episode_length.mean()"
   ]
  },
  {
   "cell_type": "code",
   "execution_count": 100,
   "id": "bdf2d7b9",
   "metadata": {},
   "outputs": [
    {
     "data": {
      "text/plain": [
       "25.0"
      ]
     },
     "execution_count": 100,
     "metadata": {},
     "output_type": "execute_result"
    }
   ],
   "source": [
    "test_df.episode_length.max()"
   ]
  },
  {
   "cell_type": "markdown",
   "id": "5e7a07a9",
   "metadata": {},
   "source": [
    "#### The other pertinent dfs"
   ]
  },
  {
   "cell_type": "code",
   "execution_count": 101,
   "id": "aedd6829",
   "metadata": {},
   "outputs": [
    {
     "data": {
      "text/html": [
       "<div>\n",
       "<style scoped>\n",
       "    .dataframe tbody tr th:only-of-type {\n",
       "        vertical-align: middle;\n",
       "    }\n",
       "\n",
       "    .dataframe tbody tr th {\n",
       "        vertical-align: top;\n",
       "    }\n",
       "\n",
       "    .dataframe thead th {\n",
       "        text-align: right;\n",
       "    }\n",
       "</style>\n",
       "<table border=\"1\" class=\"dataframe\">\n",
       "  <thead>\n",
       "    <tr style=\"text-align: right;\">\n",
       "      <th></th>\n",
       "      <th>ana</th>\n",
       "      <th>fever</th>\n",
       "      <th>leukopenia</th>\n",
       "      <th>thrombocytopenia</th>\n",
       "      <th>auto_immune_hemolysis</th>\n",
       "      <th>delirium</th>\n",
       "      <th>psychosis</th>\n",
       "      <th>seizure</th>\n",
       "      <th>non_scarring_alopecia</th>\n",
       "      <th>oral_ulcers</th>\n",
       "      <th>...</th>\n",
       "      <th>proteinuria</th>\n",
       "      <th>biopsy_proven_lupus_nephritis</th>\n",
       "      <th>anti_cardioliphin_antibodies</th>\n",
       "      <th>anti_β2gp1_antibodies</th>\n",
       "      <th>lupus_anti_coagulant</th>\n",
       "      <th>low_c3</th>\n",
       "      <th>low_c4</th>\n",
       "      <th>anti_dsdna_antibody</th>\n",
       "      <th>anti_smith_antibody</th>\n",
       "      <th>label</th>\n",
       "    </tr>\n",
       "  </thead>\n",
       "  <tbody>\n",
       "    <tr>\n",
       "      <th>0</th>\n",
       "      <td>1</td>\n",
       "      <td>0</td>\n",
       "      <td>1</td>\n",
       "      <td>0</td>\n",
       "      <td>0</td>\n",
       "      <td>0</td>\n",
       "      <td>0</td>\n",
       "      <td>0</td>\n",
       "      <td>0</td>\n",
       "      <td>0</td>\n",
       "      <td>...</td>\n",
       "      <td>1</td>\n",
       "      <td>0</td>\n",
       "      <td>0</td>\n",
       "      <td>0</td>\n",
       "      <td>0</td>\n",
       "      <td>1</td>\n",
       "      <td>0</td>\n",
       "      <td>1</td>\n",
       "      <td>0</td>\n",
       "      <td>1</td>\n",
       "    </tr>\n",
       "    <tr>\n",
       "      <th>1</th>\n",
       "      <td>1</td>\n",
       "      <td>0</td>\n",
       "      <td>0</td>\n",
       "      <td>0</td>\n",
       "      <td>0</td>\n",
       "      <td>0</td>\n",
       "      <td>0</td>\n",
       "      <td>0</td>\n",
       "      <td>0</td>\n",
       "      <td>0</td>\n",
       "      <td>...</td>\n",
       "      <td>0</td>\n",
       "      <td>0</td>\n",
       "      <td>0</td>\n",
       "      <td>0</td>\n",
       "      <td>0</td>\n",
       "      <td>0</td>\n",
       "      <td>1</td>\n",
       "      <td>0</td>\n",
       "      <td>0</td>\n",
       "      <td>0</td>\n",
       "    </tr>\n",
       "    <tr>\n",
       "      <th>2</th>\n",
       "      <td>1</td>\n",
       "      <td>0</td>\n",
       "      <td>1</td>\n",
       "      <td>0</td>\n",
       "      <td>0</td>\n",
       "      <td>0</td>\n",
       "      <td>0</td>\n",
       "      <td>0</td>\n",
       "      <td>0</td>\n",
       "      <td>0</td>\n",
       "      <td>...</td>\n",
       "      <td>0</td>\n",
       "      <td>0</td>\n",
       "      <td>0</td>\n",
       "      <td>0</td>\n",
       "      <td>0</td>\n",
       "      <td>1</td>\n",
       "      <td>0</td>\n",
       "      <td>1</td>\n",
       "      <td>0</td>\n",
       "      <td>1</td>\n",
       "    </tr>\n",
       "    <tr>\n",
       "      <th>3</th>\n",
       "      <td>1</td>\n",
       "      <td>0</td>\n",
       "      <td>0</td>\n",
       "      <td>0</td>\n",
       "      <td>0</td>\n",
       "      <td>0</td>\n",
       "      <td>0</td>\n",
       "      <td>0</td>\n",
       "      <td>1</td>\n",
       "      <td>0</td>\n",
       "      <td>...</td>\n",
       "      <td>0</td>\n",
       "      <td>0</td>\n",
       "      <td>0</td>\n",
       "      <td>0</td>\n",
       "      <td>0</td>\n",
       "      <td>0</td>\n",
       "      <td>0</td>\n",
       "      <td>0</td>\n",
       "      <td>0</td>\n",
       "      <td>0</td>\n",
       "    </tr>\n",
       "    <tr>\n",
       "      <th>4</th>\n",
       "      <td>1</td>\n",
       "      <td>0</td>\n",
       "      <td>0</td>\n",
       "      <td>0</td>\n",
       "      <td>0</td>\n",
       "      <td>0</td>\n",
       "      <td>0</td>\n",
       "      <td>0</td>\n",
       "      <td>0</td>\n",
       "      <td>0</td>\n",
       "      <td>...</td>\n",
       "      <td>1</td>\n",
       "      <td>4</td>\n",
       "      <td>1</td>\n",
       "      <td>0</td>\n",
       "      <td>0</td>\n",
       "      <td>0</td>\n",
       "      <td>1</td>\n",
       "      <td>0</td>\n",
       "      <td>0</td>\n",
       "      <td>1</td>\n",
       "    </tr>\n",
       "  </tbody>\n",
       "</table>\n",
       "<p>5 rows × 25 columns</p>\n",
       "</div>"
      ],
      "text/plain": [
       "   ana  fever  leukopenia  thrombocytopenia  auto_immune_hemolysis  delirium  \\\n",
       "0    1      0           1                 0                      0         0   \n",
       "1    1      0           0                 0                      0         0   \n",
       "2    1      0           1                 0                      0         0   \n",
       "3    1      0           0                 0                      0         0   \n",
       "4    1      0           0                 0                      0         0   \n",
       "\n",
       "   psychosis  seizure  non_scarring_alopecia  oral_ulcers  ...  proteinuria  \\\n",
       "0          0        0                      0            0  ...            1   \n",
       "1          0        0                      0            0  ...            0   \n",
       "2          0        0                      0            0  ...            0   \n",
       "3          0        0                      1            0  ...            0   \n",
       "4          0        0                      0            0  ...            1   \n",
       "\n",
       "   biopsy_proven_lupus_nephritis  anti_cardioliphin_antibodies  \\\n",
       "0                              0                             0   \n",
       "1                              0                             0   \n",
       "2                              0                             0   \n",
       "3                              0                             0   \n",
       "4                              4                             1   \n",
       "\n",
       "   anti_β2gp1_antibodies  lupus_anti_coagulant  low_c3  low_c4  \\\n",
       "0                      0                     0       1       0   \n",
       "1                      0                     0       0       1   \n",
       "2                      0                     0       1       0   \n",
       "3                      0                     0       0       0   \n",
       "4                      0                     0       0       1   \n",
       "\n",
       "   anti_dsdna_antibody  anti_smith_antibody  label  \n",
       "0                    1                    0      1  \n",
       "1                    0                    0      0  \n",
       "2                    1                    0      1  \n",
       "3                    0                    0      0  \n",
       "4                    0                    0      1  \n",
       "\n",
       "[5 rows x 25 columns]"
      ]
     },
     "execution_count": 101,
     "metadata": {},
     "output_type": "execute_result"
    }
   ],
   "source": [
    "testing_df = pd.read_csv('../new_data/test_set_constant.csv')\n",
    "testing_df.head()"
   ]
  },
  {
   "cell_type": "code",
   "execution_count": 102,
   "id": "6330b1de",
   "metadata": {},
   "outputs": [
    {
     "data": {
      "text/html": [
       "<div>\n",
       "<style scoped>\n",
       "    .dataframe tbody tr th:only-of-type {\n",
       "        vertical-align: middle;\n",
       "    }\n",
       "\n",
       "    .dataframe tbody tr th {\n",
       "        vertical-align: top;\n",
       "    }\n",
       "\n",
       "    .dataframe thead th {\n",
       "        text-align: right;\n",
       "    }\n",
       "</style>\n",
       "<table border=\"1\" class=\"dataframe\">\n",
       "  <thead>\n",
       "    <tr style=\"text-align: right;\">\n",
       "      <th></th>\n",
       "      <th>ana</th>\n",
       "      <th>fever</th>\n",
       "      <th>leukopenia</th>\n",
       "      <th>thrombocytopenia</th>\n",
       "      <th>auto_immune_hemolysis</th>\n",
       "      <th>delirium</th>\n",
       "      <th>psychosis</th>\n",
       "      <th>seizure</th>\n",
       "      <th>non_scarring_alopecia</th>\n",
       "      <th>oral_ulcers</th>\n",
       "      <th>...</th>\n",
       "      <th>proteinuria</th>\n",
       "      <th>biopsy_proven_lupus_nephritis</th>\n",
       "      <th>anti_cardioliphin_antibodies</th>\n",
       "      <th>anti_β2gp1_antibodies</th>\n",
       "      <th>lupus_anti_coagulant</th>\n",
       "      <th>low_c3</th>\n",
       "      <th>low_c4</th>\n",
       "      <th>anti_dsdna_antibody</th>\n",
       "      <th>anti_smith_antibody</th>\n",
       "      <th>label</th>\n",
       "    </tr>\n",
       "  </thead>\n",
       "  <tbody>\n",
       "    <tr>\n",
       "      <th>0</th>\n",
       "      <td>1</td>\n",
       "      <td>1</td>\n",
       "      <td>0</td>\n",
       "      <td>0</td>\n",
       "      <td>0</td>\n",
       "      <td>0</td>\n",
       "      <td>0</td>\n",
       "      <td>0</td>\n",
       "      <td>0</td>\n",
       "      <td>0</td>\n",
       "      <td>...</td>\n",
       "      <td>1</td>\n",
       "      <td>0</td>\n",
       "      <td>0</td>\n",
       "      <td>0</td>\n",
       "      <td>0</td>\n",
       "      <td>0</td>\n",
       "      <td>1</td>\n",
       "      <td>0</td>\n",
       "      <td>0</td>\n",
       "      <td>1</td>\n",
       "    </tr>\n",
       "    <tr>\n",
       "      <th>1</th>\n",
       "      <td>1</td>\n",
       "      <td>0</td>\n",
       "      <td>1</td>\n",
       "      <td>0</td>\n",
       "      <td>0</td>\n",
       "      <td>0</td>\n",
       "      <td>0</td>\n",
       "      <td>0</td>\n",
       "      <td>1</td>\n",
       "      <td>0</td>\n",
       "      <td>...</td>\n",
       "      <td>0</td>\n",
       "      <td>0</td>\n",
       "      <td>0</td>\n",
       "      <td>1</td>\n",
       "      <td>0</td>\n",
       "      <td>0</td>\n",
       "      <td>0</td>\n",
       "      <td>1</td>\n",
       "      <td>0</td>\n",
       "      <td>1</td>\n",
       "    </tr>\n",
       "    <tr>\n",
       "      <th>2</th>\n",
       "      <td>0</td>\n",
       "      <td>0</td>\n",
       "      <td>0</td>\n",
       "      <td>0</td>\n",
       "      <td>0</td>\n",
       "      <td>0</td>\n",
       "      <td>0</td>\n",
       "      <td>0</td>\n",
       "      <td>0</td>\n",
       "      <td>0</td>\n",
       "      <td>...</td>\n",
       "      <td>0</td>\n",
       "      <td>0</td>\n",
       "      <td>0</td>\n",
       "      <td>0</td>\n",
       "      <td>0</td>\n",
       "      <td>0</td>\n",
       "      <td>0</td>\n",
       "      <td>0</td>\n",
       "      <td>0</td>\n",
       "      <td>0</td>\n",
       "    </tr>\n",
       "    <tr>\n",
       "      <th>3</th>\n",
       "      <td>0</td>\n",
       "      <td>0</td>\n",
       "      <td>0</td>\n",
       "      <td>0</td>\n",
       "      <td>0</td>\n",
       "      <td>0</td>\n",
       "      <td>0</td>\n",
       "      <td>0</td>\n",
       "      <td>0</td>\n",
       "      <td>0</td>\n",
       "      <td>...</td>\n",
       "      <td>1</td>\n",
       "      <td>0</td>\n",
       "      <td>0</td>\n",
       "      <td>0</td>\n",
       "      <td>0</td>\n",
       "      <td>0</td>\n",
       "      <td>0</td>\n",
       "      <td>0</td>\n",
       "      <td>0</td>\n",
       "      <td>0</td>\n",
       "    </tr>\n",
       "    <tr>\n",
       "      <th>4</th>\n",
       "      <td>1</td>\n",
       "      <td>0</td>\n",
       "      <td>0</td>\n",
       "      <td>0</td>\n",
       "      <td>0</td>\n",
       "      <td>1</td>\n",
       "      <td>0</td>\n",
       "      <td>0</td>\n",
       "      <td>1</td>\n",
       "      <td>0</td>\n",
       "      <td>...</td>\n",
       "      <td>1</td>\n",
       "      <td>3</td>\n",
       "      <td>0</td>\n",
       "      <td>0</td>\n",
       "      <td>0</td>\n",
       "      <td>0</td>\n",
       "      <td>0</td>\n",
       "      <td>0</td>\n",
       "      <td>0</td>\n",
       "      <td>1</td>\n",
       "    </tr>\n",
       "  </tbody>\n",
       "</table>\n",
       "<p>5 rows × 25 columns</p>\n",
       "</div>"
      ],
      "text/plain": [
       "   ana  fever  leukopenia  thrombocytopenia  auto_immune_hemolysis  delirium  \\\n",
       "0    1      1           0                 0                      0         0   \n",
       "1    1      0           1                 0                      0         0   \n",
       "2    0      0           0                 0                      0         0   \n",
       "3    0      0           0                 0                      0         0   \n",
       "4    1      0           0                 0                      0         1   \n",
       "\n",
       "   psychosis  seizure  non_scarring_alopecia  oral_ulcers  ...  proteinuria  \\\n",
       "0          0        0                      0            0  ...            1   \n",
       "1          0        0                      1            0  ...            0   \n",
       "2          0        0                      0            0  ...            0   \n",
       "3          0        0                      0            0  ...            1   \n",
       "4          0        0                      1            0  ...            1   \n",
       "\n",
       "   biopsy_proven_lupus_nephritis  anti_cardioliphin_antibodies  \\\n",
       "0                              0                             0   \n",
       "1                              0                             0   \n",
       "2                              0                             0   \n",
       "3                              0                             0   \n",
       "4                              3                             0   \n",
       "\n",
       "   anti_β2gp1_antibodies  lupus_anti_coagulant  low_c3  low_c4  \\\n",
       "0                      0                     0       0       1   \n",
       "1                      1                     0       0       0   \n",
       "2                      0                     0       0       0   \n",
       "3                      0                     0       0       0   \n",
       "4                      0                     0       0       0   \n",
       "\n",
       "   anti_dsdna_antibody  anti_smith_antibody  label  \n",
       "0                    0                    0      1  \n",
       "1                    1                    0      1  \n",
       "2                    0                    0      0  \n",
       "3                    0                    0      0  \n",
       "4                    0                    0      1  \n",
       "\n",
       "[5 rows x 25 columns]"
      ]
     },
     "execution_count": 102,
     "metadata": {},
     "output_type": "execute_result"
    }
   ],
   "source": [
    "training_df = pd.read_csv('../new_data/train_set_basic.csv')\n",
    "training_df.head()"
   ]
  },
  {
   "cell_type": "markdown",
   "id": "320a0cbb",
   "metadata": {},
   "source": [
    "#### Possibly useful functions"
   ]
  },
  {
   "cell_type": "code",
   "execution_count": 103,
   "id": "76ecc7bb",
   "metadata": {},
   "outputs": [],
   "source": [
    "def generate_tuple_dict(df):\n",
    "    frequency_dict = {}\n",
    "    for traj in df.trajectory:\n",
    "        if traj in frequency_dict.keys():\n",
    "            frequency_dict[traj] += 1\n",
    "        else:\n",
    "            frequency_dict[traj] = 1\n",
    "    overall_tup_dict = {}\n",
    "    for key, value in frequency_dict.items():\n",
    "        new_key = ast.literal_eval(key)\n",
    "        for tup in zip(new_key, new_key[1:]):\n",
    "            if tup in overall_tup_dict.keys():\n",
    "                overall_tup_dict[tup] += value\n",
    "            else:\n",
    "                overall_tup_dict[tup] = value\n",
    "    return overall_tup_dict"
   ]
  },
  {
   "cell_type": "code",
   "execution_count": 104,
   "id": "2826be02",
   "metadata": {},
   "outputs": [],
   "source": [
    "def create_sankey_df(df):\n",
    "    overall_tup_dict = generate_tuple_dict(df)\n",
    "    sankey_df = pd.DataFrame()\n",
    "    sankey_df['source'] = [i[0] for i in overall_tup_dict.keys()]\n",
    "    sankey_df['target'] = [i[1] for i in overall_tup_dict.keys()]\n",
    "    sankey_df['value'] = list(overall_tup_dict.values())\n",
    "    sankey_df['link_type'] = sankey_df['target'].apply(lambda i: 'terminal' if i in ['No lupus', 'Lupus', 'Inconclusive diagnosis'] else 'non_terminal')\n",
    "    return sankey_df"
   ]
  },
  {
   "cell_type": "code",
   "execution_count": 105,
   "id": "fccdfdb8",
   "metadata": {},
   "outputs": [],
   "source": [
    "def draw_pyvis_network(pathways_df, pathway_type='network'): #second type is trajectory \n",
    "    pathways_df['type'] = 'directed'\n",
    "    start_node = pathways_df.iloc[0]['source']\n",
    "    all_nodes = list(set(pathways_df.source.unique().tolist() + pathways_df.target.unique().tolist()))\n",
    "    terminal_nodes = list(set(pathways_df[pathways_df.link_type=='terminal'].target))\n",
    "    non_terminal_nodes = [i for i in all_nodes if i not in terminal_nodes and i!=start_node]\n",
    "    \n",
    "    #change get_net to something else since it satnds for Game of Thrones\n",
    "    got_net = Network(notebook=True, height='600px', width='100%', directed=True, cdn_resources='in_line')\n",
    "    got_net.add_node(start_node, color='purple', size=20)\n",
    "    got_net.add_nodes(non_terminal_nodes, size=[15]*len(non_terminal_nodes), color=['blue']*len(non_terminal_nodes))\n",
    "    got_net.add_nodes(terminal_nodes, color=['green']*len(terminal_nodes), size=[20]*len(terminal_nodes))\n",
    "    for src, target, value, edge_thresh in zip(pathways_df.source, pathways_df.target, pathways_df.value, pathways_df.edge_threshold):\n",
    "        if pathway_type =='network':\n",
    "            if value > threshold:\n",
    "                if math.isnan(edge_thresh):\n",
    "                    got_net.add_edge(src, target, value=value, color='red')\n",
    "                else:\n",
    "                    got_net.add_edge(src, target, value=value, color='red', label=str(int(edge_thresh)))\n",
    "            else:\n",
    "                got_net.add_edge(src, target, value=value, color='blue')\n",
    "        elif pathway_type =='trajectory': #It's just one trajectory\n",
    "            if isinstance(edge_thresh, str):\n",
    "                got_net.add_edge(src, target, value=value, color='blue', label=edge_thresh)\n",
    "            else:\n",
    "                got_net.add_edge(src, target, value=value, color='blue', label=str(int(edge_thresh)))\n",
    "        else:\n",
    "            print('Unknown pathway type')\n",
    "    return got_net"
   ]
  },
  {
   "cell_type": "code",
   "execution_count": 106,
   "id": "170d97e4",
   "metadata": {},
   "outputs": [],
   "source": [
    "def get_threshold_value(df, source): #source e.g. 'ana'\n",
    "    threshold_values = df[source].unique().tolist()\n",
    "    if len(threshold_values) == 1:\n",
    "        return int(threshold_values[0])\n",
    "    else:\n",
    "        return str(threshold_values)"
   ]
  },
  {
   "cell_type": "code",
   "execution_count": 107,
   "id": "801c9d52",
   "metadata": {},
   "outputs": [],
   "source": [
    "def draw_one_trajectory(pred_df, trajectory): #pred_df = pred_no_lupus par exemple\n",
    "    trajectory_df = pred_df[pred_df.trajectory == trajectory]\n",
    "    trajectory_testing_df = testing_df.loc[trajectory_df.index]\n",
    "    trajectory_pathways_df = create_sankey_df(trajectory_df)\n",
    "    trajectory_pathways_df['edge_threshold'] = [get_threshold_value(trajectory_testing_df, source) for source in trajectory_pathways_df.source]\n",
    "    trajectory_net = draw_pyvis_network(trajectory_pathways_df, 'trajectory')   \n",
    "    return trajectory_net"
   ]
  },
  {
   "cell_type": "markdown",
   "id": "33ae15e4",
   "metadata": {},
   "source": [
    "#### No lupus diagnosis"
   ]
  },
  {
   "cell_type": "markdown",
   "id": "690ed49a",
   "metadata": {},
   "source": [
    "##### shortest pathway"
   ]
  },
  {
   "cell_type": "code",
   "execution_count": 108,
   "id": "6d23f036",
   "metadata": {},
   "outputs": [
    {
     "data": {
      "text/plain": [
       "\"['ana', 'No lupus']\""
      ]
     },
     "execution_count": 108,
     "metadata": {},
     "output_type": "execute_result"
    }
   ],
   "source": [
    "pred_no_lupus = test_df[test_df['y_pred']==0]\n",
    "shortest_no_lupus_path = pred_no_lupus[pred_no_lupus.episode_length == pred_no_lupus.episode_length.min()].trajectory.unique()[0]\n",
    "shortest_no_lupus_path"
   ]
  },
  {
   "cell_type": "code",
   "execution_count": 109,
   "id": "16c7b367",
   "metadata": {},
   "outputs": [
    {
     "data": {
      "text/plain": [
       "4025"
      ]
     },
     "execution_count": 109,
     "metadata": {},
     "output_type": "execute_result"
    }
   ],
   "source": [
    "len(pred_no_lupus[pred_no_lupus.trajectory == shortest_no_lupus_path])"
   ]
  },
  {
   "cell_type": "code",
   "execution_count": 110,
   "id": "c202dece",
   "metadata": {},
   "outputs": [
    {
     "data": {
      "text/plain": [
       "23"
      ]
     },
     "execution_count": 110,
     "metadata": {},
     "output_type": "execute_result"
    }
   ],
   "source": [
    "utils.get_total_feature_costs(shortest_no_lupus_path)"
   ]
  },
  {
   "cell_type": "code",
   "execution_count": 111,
   "id": "7cc81ffd",
   "metadata": {},
   "outputs": [
    {
     "name": "stdout",
     "output_type": "stream",
     "text": [
      "Example.html\n"
     ]
    },
    {
     "data": {
      "text/html": [
       "\n",
       "        <iframe\n",
       "            width=\"100%\"\n",
       "            height=\"600px\"\n",
       "            src=\"Example.html\"\n",
       "            frameborder=\"0\"\n",
       "            allowfullscreen\n",
       "            \n",
       "        ></iframe>\n",
       "        "
      ],
      "text/plain": [
       "<IPython.lib.display.IFrame at 0x7f07f14ee110>"
      ]
     },
     "execution_count": 111,
     "metadata": {},
     "output_type": "execute_result"
    }
   ],
   "source": [
    "shortest_no_lupus_path_net = draw_one_trajectory(pred_no_lupus, shortest_no_lupus_path)\n",
    "shortest_no_lupus_path_net.show('Example.html')"
   ]
  },
  {
   "cell_type": "markdown",
   "id": "eb36cf80",
   "metadata": {},
   "source": [
    "##### commonest pathway "
   ]
  },
  {
   "cell_type": "code",
   "execution_count": 112,
   "id": "be865831",
   "metadata": {},
   "outputs": [
    {
     "name": "stdout",
     "output_type": "stream",
     "text": [
      "Example.html\n"
     ]
    },
    {
     "data": {
      "text/html": [
       "\n",
       "        <iframe\n",
       "            width=\"100%\"\n",
       "            height=\"600px\"\n",
       "            src=\"Example.html\"\n",
       "            frameborder=\"0\"\n",
       "            allowfullscreen\n",
       "            \n",
       "        ></iframe>\n",
       "        "
      ],
      "text/plain": [
       "<IPython.lib.display.IFrame at 0x7f07f3897f90>"
      ]
     },
     "execution_count": 112,
     "metadata": {},
     "output_type": "execute_result"
    }
   ],
   "source": [
    "commonest_no_lupus_path = pred_no_lupus.trajectory.value_counts().index[0]\n",
    "commonest_no_lupus_path_net = draw_one_trajectory(pred_no_lupus, commonest_no_lupus_path)\n",
    "commonest_no_lupus_path_net.show('Example.html')"
   ]
  },
  {
   "cell_type": "code",
   "execution_count": 113,
   "id": "ef8db0fe",
   "metadata": {},
   "outputs": [
    {
     "data": {
      "text/plain": [
       "4025"
      ]
     },
     "execution_count": 113,
     "metadata": {},
     "output_type": "execute_result"
    }
   ],
   "source": [
    "len(pred_no_lupus[pred_no_lupus.trajectory == commonest_no_lupus_path])"
   ]
  },
  {
   "cell_type": "code",
   "execution_count": 114,
   "id": "3f6409a9",
   "metadata": {},
   "outputs": [
    {
     "data": {
      "text/plain": [
       "23"
      ]
     },
     "execution_count": 114,
     "metadata": {},
     "output_type": "execute_result"
    }
   ],
   "source": [
    "utils.get_total_feature_costs(commonest_no_lupus_path)"
   ]
  },
  {
   "cell_type": "markdown",
   "id": "4ffe333b",
   "metadata": {},
   "source": [
    "##### longest pathways "
   ]
  },
  {
   "cell_type": "code",
   "execution_count": 115,
   "id": "df5da140",
   "metadata": {},
   "outputs": [
    {
     "data": {
      "text/plain": [
       "['ana', 'delirium', 'anti_cardioliphin_antibodies', 'anti_smith_antibody', 'seizure', 'proteinuria', 'acute_pericarditis', 'psychosis', 'pleural_effusion', 'non_scarring_alopecia', 'low_c3', 'leukopenia', 'pericardial_effusion', 'low_c4', 'cutaneous_lupus', 'anti_dsdna_antibody', 'lupus_anti_coagulant', 'fever', 'joint_involvement', 'thrombocytopenia', 'auto_immune_hemolysis', 'anti_β2gp1_antibodies', 'oral_ulcers', 'No lupus']    35\n",
       "['ana', 'delirium', 'anti_cardioliphin_antibodies', 'anti_smith_antibody', 'seizure', 'proteinuria', 'acute_pericarditis', 'psychosis', 'pleural_effusion', 'non_scarring_alopecia', 'low_c3', 'leukopenia', 'anti_dsdna_antibody', 'cutaneous_lupus', 'joint_involvement', 'thrombocytopenia', 'fever', 'low_c4', 'pericardial_effusion', 'lupus_anti_coagulant', 'oral_ulcers', 'auto_immune_hemolysis', 'anti_β2gp1_antibodies', 'No lupus']    34\n",
       "['ana', 'delirium', 'anti_cardioliphin_antibodies', 'anti_smith_antibody', 'seizure', 'proteinuria', 'acute_pericarditis', 'psychosis', 'pleural_effusion', 'non_scarring_alopecia', 'low_c3', 'cutaneous_lupus', 'anti_dsdna_antibody', 'leukopenia', 'pericardial_effusion', 'thrombocytopenia', 'joint_involvement', 'fever', 'auto_immune_hemolysis', 'low_c4', 'lupus_anti_coagulant', 'anti_β2gp1_antibodies', 'oral_ulcers', 'No lupus']    34\n",
       "['ana', 'delirium', 'leukopenia', 'anti_cardioliphin_antibodies', 'cutaneous_lupus', 'anti_smith_antibody', 'proteinuria', 'low_c3', 'acute_pericarditis', 'anti_dsdna_antibody', 'joint_involvement', 'thrombocytopenia', 'pleural_effusion', 'fever', 'low_c4', 'seizure', 'non_scarring_alopecia', 'pericardial_effusion', 'psychosis', 'lupus_anti_coagulant', 'auto_immune_hemolysis', 'anti_β2gp1_antibodies', 'oral_ulcers', 'No lupus']    31\n",
       "['ana', 'delirium', 'anti_cardioliphin_antibodies', 'anti_smith_antibody', 'seizure', 'proteinuria', 'acute_pericarditis', 'psychosis', 'pleural_effusion', 'non_scarring_alopecia', 'low_c3', 'leukopenia', 'anti_dsdna_antibody', 'cutaneous_lupus', 'joint_involvement', 'thrombocytopenia', 'fever', 'low_c4', 'pericardial_effusion', 'auto_immune_hemolysis', 'lupus_anti_coagulant', 'anti_β2gp1_antibodies', 'oral_ulcers', 'No lupus']    19\n",
       "Name: trajectory, dtype: int64"
      ]
     },
     "execution_count": 115,
     "metadata": {},
     "output_type": "execute_result"
    }
   ],
   "source": [
    "pred_no_lupus[pred_no_lupus.episode_length == pred_no_lupus.episode_length.max()].trajectory.value_counts()[:5]"
   ]
  },
  {
   "cell_type": "code",
   "execution_count": 116,
   "id": "a97f9101",
   "metadata": {},
   "outputs": [
    {
     "data": {
      "text/plain": [
       "\"['ana', 'delirium', 'anti_cardioliphin_antibodies', 'anti_smith_antibody', 'seizure', 'proteinuria', 'acute_pericarditis', 'psychosis', 'pleural_effusion', 'non_scarring_alopecia', 'low_c3', 'leukopenia', 'pericardial_effusion', 'low_c4', 'cutaneous_lupus', 'anti_dsdna_antibody', 'lupus_anti_coagulant', 'fever', 'joint_involvement', 'thrombocytopenia', 'auto_immune_hemolysis', 'anti_β2gp1_antibodies', 'oral_ulcers', 'No lupus']\""
      ]
     },
     "execution_count": 116,
     "metadata": {},
     "output_type": "execute_result"
    }
   ],
   "source": [
    "longest_no_lupus_path = pred_no_lupus[pred_no_lupus.episode_length==pred_no_lupus.episode_length.max()].trajectory.value_counts().index[0]\n",
    "longest_no_lupus_path"
   ]
  },
  {
   "cell_type": "code",
   "execution_count": 119,
   "id": "f3253a78",
   "metadata": {},
   "outputs": [
    {
     "data": {
      "text/plain": [
       "35"
      ]
     },
     "execution_count": 119,
     "metadata": {},
     "output_type": "execute_result"
    }
   ],
   "source": [
    "len(pred_no_lupus[pred_no_lupus.trajectory == longest_no_lupus_path])"
   ]
  },
  {
   "cell_type": "code",
   "execution_count": 120,
   "id": "3d883b4d",
   "metadata": {},
   "outputs": [
    {
     "data": {
      "text/plain": [
       "565"
      ]
     },
     "execution_count": 120,
     "metadata": {},
     "output_type": "execute_result"
    }
   ],
   "source": [
    "utils.get_total_feature_costs(longest_no_lupus_path)"
   ]
  },
  {
   "cell_type": "code",
   "execution_count": 121,
   "id": "22097fe1",
   "metadata": {},
   "outputs": [
    {
     "name": "stdout",
     "output_type": "stream",
     "text": [
      "Example.html\n"
     ]
    },
    {
     "data": {
      "text/html": [
       "\n",
       "        <iframe\n",
       "            width=\"100%\"\n",
       "            height=\"600px\"\n",
       "            src=\"Example.html\"\n",
       "            frameborder=\"0\"\n",
       "            allowfullscreen\n",
       "            \n",
       "        ></iframe>\n",
       "        "
      ],
      "text/plain": [
       "<IPython.lib.display.IFrame at 0x7f07f14e1990>"
      ]
     },
     "execution_count": 121,
     "metadata": {},
     "output_type": "execute_result"
    }
   ],
   "source": [
    "longest_no_lupus_path_net = draw_one_trajectory(pred_no_lupus, longest_no_lupus_path)\n",
    "longest_no_lupus_path_net.show('Example.html')"
   ]
  },
  {
   "cell_type": "code",
   "execution_count": null,
   "id": "54b83ada",
   "metadata": {},
   "outputs": [],
   "source": [
    "# samp_pathway = str(['ana', 'joint_involvement', 'anti_dsdna_antibody', 'low_c3', 'anti_smith_antibody', 'fever', 'psychosis', 'non_scarring_alopecia', 'pleural_effusion', 'cutaneous_lupus', 'seizure', 'leukopenia', 'low_c4', 'pericardial_effusion', 'No lupus'])\n",
    "# samp_pathway"
   ]
  },
  {
   "cell_type": "code",
   "execution_count": null,
   "id": "0cf1a9ca",
   "metadata": {},
   "outputs": [],
   "source": [
    "# a = pred_no_lupus[(pred_no_lupus.trajectory==samp_pathway)&(pred_no_lupus.y_actual != pred_no_lupus.y_pred)]\n",
    "# draw_one_trajectory(a, samp_pathway).show('Example.html')"
   ]
  },
  {
   "cell_type": "code",
   "execution_count": null,
   "id": "2f072f6d",
   "metadata": {},
   "outputs": [],
   "source": [
    "# len(test_df[test_df.trajectory==samp_pathway])"
   ]
  }
 ],
 "metadata": {
  "kernelspec": {
   "display_name": "Python 3 (ipykernel)",
   "language": "python",
   "name": "python3"
  },
  "language_info": {
   "codemirror_mode": {
    "name": "ipython",
    "version": 3
   },
   "file_extension": ".py",
   "mimetype": "text/x-python",
   "name": "python",
   "nbconvert_exporter": "python",
   "pygments_lexer": "ipython3",
   "version": "3.7.4"
  }
 },
 "nbformat": 4,
 "nbformat_minor": 5
}

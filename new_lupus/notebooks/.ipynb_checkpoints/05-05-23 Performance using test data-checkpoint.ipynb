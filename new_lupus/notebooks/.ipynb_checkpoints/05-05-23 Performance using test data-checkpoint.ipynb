{
 "cells": [
  {
   "cell_type": "code",
   "execution_count": 3,
   "id": "70007020",
   "metadata": {},
   "outputs": [],
   "source": [
    "import pandas as pd\n",
    "import numpy as np\n",
    "import random\n",
    "import os\n",
    "import tensorflow as tf\n",
    "import sys\n",
    "sys.path.append('..')\n",
    "from modules import utils, constants \n",
    "from modules.env import LupusEnv"
   ]
  },
  {
   "cell_type": "code",
   "execution_count": 4,
   "id": "c61b8779",
   "metadata": {},
   "outputs": [
    {
     "data": {
      "text/plain": [
       "42"
      ]
     },
     "execution_count": 4,
     "metadata": {},
     "output_type": "execute_result"
    }
   ],
   "source": [
    "SEED = 42\n",
    "random.seed(SEED)\n",
    "np.random.seed(SEED)\n",
    "os.environ['PYTHONHASHSEED']=str(SEED)\n",
    "tf.set_random_seed(SEED)\n",
    "tf.compat.v1.set_random_seed(SEED)\n",
    "SEED"
   ]
  },
  {
   "cell_type": "code",
   "execution_count": 5,
   "id": "365b8890",
   "metadata": {},
   "outputs": [
    {
     "data": {
      "text/html": [
       "<div>\n",
       "<style scoped>\n",
       "    .dataframe tbody tr th:only-of-type {\n",
       "        vertical-align: middle;\n",
       "    }\n",
       "\n",
       "    .dataframe tbody tr th {\n",
       "        vertical-align: top;\n",
       "    }\n",
       "\n",
       "    .dataframe thead th {\n",
       "        text-align: right;\n",
       "    }\n",
       "</style>\n",
       "<table border=\"1\" class=\"dataframe\">\n",
       "  <thead>\n",
       "    <tr style=\"text-align: right;\">\n",
       "      <th></th>\n",
       "      <th>ana</th>\n",
       "      <th>fever</th>\n",
       "      <th>leukopenia</th>\n",
       "      <th>thrombocytopenia</th>\n",
       "      <th>auto_immune_hemolysis</th>\n",
       "      <th>delirium</th>\n",
       "      <th>psychosis</th>\n",
       "      <th>seizure</th>\n",
       "      <th>non_scarring_alopecia</th>\n",
       "      <th>oral_ulcers</th>\n",
       "      <th>...</th>\n",
       "      <th>proteinuria</th>\n",
       "      <th>biopsy_proven_lupus_nephritis</th>\n",
       "      <th>anti_cardioliphin_antibodies</th>\n",
       "      <th>anti_β2gp1_antibodies</th>\n",
       "      <th>lupus_anti_coagulant</th>\n",
       "      <th>low_c3</th>\n",
       "      <th>low_c4</th>\n",
       "      <th>anti_dsdna_antibody</th>\n",
       "      <th>anti_smith_antibody</th>\n",
       "      <th>label</th>\n",
       "    </tr>\n",
       "  </thead>\n",
       "  <tbody>\n",
       "    <tr>\n",
       "      <th>0</th>\n",
       "      <td>1</td>\n",
       "      <td>0</td>\n",
       "      <td>1</td>\n",
       "      <td>0</td>\n",
       "      <td>0</td>\n",
       "      <td>0</td>\n",
       "      <td>0</td>\n",
       "      <td>0</td>\n",
       "      <td>0</td>\n",
       "      <td>0</td>\n",
       "      <td>...</td>\n",
       "      <td>1</td>\n",
       "      <td>0</td>\n",
       "      <td>0</td>\n",
       "      <td>0</td>\n",
       "      <td>0</td>\n",
       "      <td>1</td>\n",
       "      <td>0</td>\n",
       "      <td>1</td>\n",
       "      <td>0</td>\n",
       "      <td>1</td>\n",
       "    </tr>\n",
       "    <tr>\n",
       "      <th>1</th>\n",
       "      <td>1</td>\n",
       "      <td>0</td>\n",
       "      <td>0</td>\n",
       "      <td>0</td>\n",
       "      <td>0</td>\n",
       "      <td>0</td>\n",
       "      <td>0</td>\n",
       "      <td>0</td>\n",
       "      <td>0</td>\n",
       "      <td>0</td>\n",
       "      <td>...</td>\n",
       "      <td>0</td>\n",
       "      <td>0</td>\n",
       "      <td>0</td>\n",
       "      <td>0</td>\n",
       "      <td>0</td>\n",
       "      <td>0</td>\n",
       "      <td>1</td>\n",
       "      <td>0</td>\n",
       "      <td>0</td>\n",
       "      <td>0</td>\n",
       "    </tr>\n",
       "    <tr>\n",
       "      <th>2</th>\n",
       "      <td>1</td>\n",
       "      <td>0</td>\n",
       "      <td>1</td>\n",
       "      <td>0</td>\n",
       "      <td>0</td>\n",
       "      <td>0</td>\n",
       "      <td>0</td>\n",
       "      <td>0</td>\n",
       "      <td>0</td>\n",
       "      <td>0</td>\n",
       "      <td>...</td>\n",
       "      <td>0</td>\n",
       "      <td>0</td>\n",
       "      <td>0</td>\n",
       "      <td>0</td>\n",
       "      <td>0</td>\n",
       "      <td>1</td>\n",
       "      <td>0</td>\n",
       "      <td>1</td>\n",
       "      <td>0</td>\n",
       "      <td>1</td>\n",
       "    </tr>\n",
       "    <tr>\n",
       "      <th>3</th>\n",
       "      <td>1</td>\n",
       "      <td>0</td>\n",
       "      <td>0</td>\n",
       "      <td>0</td>\n",
       "      <td>0</td>\n",
       "      <td>0</td>\n",
       "      <td>0</td>\n",
       "      <td>0</td>\n",
       "      <td>1</td>\n",
       "      <td>0</td>\n",
       "      <td>...</td>\n",
       "      <td>0</td>\n",
       "      <td>0</td>\n",
       "      <td>0</td>\n",
       "      <td>0</td>\n",
       "      <td>0</td>\n",
       "      <td>0</td>\n",
       "      <td>0</td>\n",
       "      <td>0</td>\n",
       "      <td>0</td>\n",
       "      <td>0</td>\n",
       "    </tr>\n",
       "    <tr>\n",
       "      <th>4</th>\n",
       "      <td>1</td>\n",
       "      <td>0</td>\n",
       "      <td>0</td>\n",
       "      <td>0</td>\n",
       "      <td>0</td>\n",
       "      <td>0</td>\n",
       "      <td>0</td>\n",
       "      <td>0</td>\n",
       "      <td>0</td>\n",
       "      <td>0</td>\n",
       "      <td>...</td>\n",
       "      <td>1</td>\n",
       "      <td>4</td>\n",
       "      <td>1</td>\n",
       "      <td>0</td>\n",
       "      <td>0</td>\n",
       "      <td>0</td>\n",
       "      <td>1</td>\n",
       "      <td>0</td>\n",
       "      <td>0</td>\n",
       "      <td>1</td>\n",
       "    </tr>\n",
       "  </tbody>\n",
       "</table>\n",
       "<p>5 rows × 25 columns</p>\n",
       "</div>"
      ],
      "text/plain": [
       "   ana  fever  leukopenia  thrombocytopenia  auto_immune_hemolysis  delirium  \\\n",
       "0    1      0           1                 0                      0         0   \n",
       "1    1      0           0                 0                      0         0   \n",
       "2    1      0           1                 0                      0         0   \n",
       "3    1      0           0                 0                      0         0   \n",
       "4    1      0           0                 0                      0         0   \n",
       "\n",
       "   psychosis  seizure  non_scarring_alopecia  oral_ulcers  ...  proteinuria  \\\n",
       "0          0        0                      0            0  ...            1   \n",
       "1          0        0                      0            0  ...            0   \n",
       "2          0        0                      0            0  ...            0   \n",
       "3          0        0                      1            0  ...            0   \n",
       "4          0        0                      0            0  ...            1   \n",
       "\n",
       "   biopsy_proven_lupus_nephritis  anti_cardioliphin_antibodies  \\\n",
       "0                              0                             0   \n",
       "1                              0                             0   \n",
       "2                              0                             0   \n",
       "3                              0                             0   \n",
       "4                              4                             1   \n",
       "\n",
       "   anti_β2gp1_antibodies  lupus_anti_coagulant  low_c3  low_c4  \\\n",
       "0                      0                     0       1       0   \n",
       "1                      0                     0       0       1   \n",
       "2                      0                     0       1       0   \n",
       "3                      0                     0       0       0   \n",
       "4                      0                     0       0       1   \n",
       "\n",
       "   anti_dsdna_antibody  anti_smith_antibody  label  \n",
       "0                    1                    0      1  \n",
       "1                    0                    0      0  \n",
       "2                    1                    0      1  \n",
       "3                    0                    0      0  \n",
       "4                    0                    0      1  \n",
       "\n",
       "[5 rows x 25 columns]"
      ]
     },
     "execution_count": 5,
     "metadata": {},
     "output_type": "execute_result"
    }
   ],
   "source": [
    "test_data = pd.read_csv('../new_data/test_set_constant.csv')\n",
    "test_data = test_data.fillna(-1)\n",
    "test_data.head()"
   ]
  },
  {
   "cell_type": "code",
   "execution_count": 6,
   "id": "6e96ecd8",
   "metadata": {},
   "outputs": [
    {
     "data": {
      "text/plain": [
       "((14000, 24), (14000,))"
      ]
     },
     "execution_count": 6,
     "metadata": {},
     "output_type": "execute_result"
    }
   ],
   "source": [
    "X_test = test_data.iloc[:, 0:-1]\n",
    "y_test = test_data.iloc[:, -1]\n",
    "X_test, y_test = np.array(X_test), np.array(y_test)\n",
    "X_test.shape, y_test.shape"
   ]
  },
  {
   "cell_type": "code",
   "execution_count": null,
   "id": "5e90a30f",
   "metadata": {},
   "outputs": [],
   "source": [
    "model_name = 'dueling_ddqn_per'\n",
    "steps = int(10e7)"
   ]
  },
  {
   "cell_type": "markdown",
   "id": "a13be0c1",
   "metadata": {},
   "source": [
    "#### Delete from here"
   ]
  },
  {
   "cell_type": "code",
   "execution_count": 7,
   "id": "f5aac06d",
   "metadata": {},
   "outputs": [
    {
     "data": {
      "text/html": [
       "<div>\n",
       "<style scoped>\n",
       "    .dataframe tbody tr th:only-of-type {\n",
       "        vertical-align: middle;\n",
       "    }\n",
       "\n",
       "    .dataframe tbody tr th {\n",
       "        vertical-align: top;\n",
       "    }\n",
       "\n",
       "    .dataframe thead th {\n",
       "        text-align: right;\n",
       "    }\n",
       "</style>\n",
       "<table border=\"1\" class=\"dataframe\">\n",
       "  <thead>\n",
       "    <tr style=\"text-align: right;\">\n",
       "      <th></th>\n",
       "      <th>index</th>\n",
       "      <th>episode_length</th>\n",
       "      <th>reward</th>\n",
       "      <th>y_pred</th>\n",
       "      <th>y_actual</th>\n",
       "      <th>trajectory</th>\n",
       "      <th>terminated</th>\n",
       "      <th>is_success</th>\n",
       "    </tr>\n",
       "  </thead>\n",
       "  <tbody>\n",
       "    <tr>\n",
       "      <th>0</th>\n",
       "      <td>0.0</td>\n",
       "      <td>6.0</td>\n",
       "      <td>0.833333</td>\n",
       "      <td>1.0</td>\n",
       "      <td>1.0</td>\n",
       "      <td>['ana', 'pericardial_effusion', 'anti_dsdna_an...</td>\n",
       "      <td>0.0</td>\n",
       "      <td>1.0</td>\n",
       "    </tr>\n",
       "    <tr>\n",
       "      <th>1</th>\n",
       "      <td>1.0</td>\n",
       "      <td>11.0</td>\n",
       "      <td>0.666667</td>\n",
       "      <td>0.0</td>\n",
       "      <td>0.0</td>\n",
       "      <td>['ana', 'pericardial_effusion', 'anti_dsdna_an...</td>\n",
       "      <td>0.0</td>\n",
       "      <td>1.0</td>\n",
       "    </tr>\n",
       "    <tr>\n",
       "      <th>2</th>\n",
       "      <td>2.0</td>\n",
       "      <td>6.0</td>\n",
       "      <td>0.833333</td>\n",
       "      <td>1.0</td>\n",
       "      <td>1.0</td>\n",
       "      <td>['ana', 'pericardial_effusion', 'joint_involve...</td>\n",
       "      <td>0.0</td>\n",
       "      <td>1.0</td>\n",
       "    </tr>\n",
       "    <tr>\n",
       "      <th>3</th>\n",
       "      <td>3.0</td>\n",
       "      <td>11.0</td>\n",
       "      <td>0.666667</td>\n",
       "      <td>0.0</td>\n",
       "      <td>0.0</td>\n",
       "      <td>['ana', 'pericardial_effusion', 'anti_dsdna_an...</td>\n",
       "      <td>0.0</td>\n",
       "      <td>1.0</td>\n",
       "    </tr>\n",
       "    <tr>\n",
       "      <th>4</th>\n",
       "      <td>4.0</td>\n",
       "      <td>12.0</td>\n",
       "      <td>0.633333</td>\n",
       "      <td>1.0</td>\n",
       "      <td>1.0</td>\n",
       "      <td>['ana', 'pericardial_effusion', 'anti_dsdna_an...</td>\n",
       "      <td>0.0</td>\n",
       "      <td>1.0</td>\n",
       "    </tr>\n",
       "  </tbody>\n",
       "</table>\n",
       "</div>"
      ],
      "text/plain": [
       "   index  episode_length    reward  y_pred  y_actual  \\\n",
       "0    0.0             6.0  0.833333     1.0       1.0   \n",
       "1    1.0            11.0  0.666667     0.0       0.0   \n",
       "2    2.0             6.0  0.833333     1.0       1.0   \n",
       "3    3.0            11.0  0.666667     0.0       0.0   \n",
       "4    4.0            12.0  0.633333     1.0       1.0   \n",
       "\n",
       "                                          trajectory  terminated  is_success  \n",
       "0  ['ana', 'pericardial_effusion', 'anti_dsdna_an...         0.0         1.0  \n",
       "1  ['ana', 'pericardial_effusion', 'anti_dsdna_an...         0.0         1.0  \n",
       "2  ['ana', 'pericardial_effusion', 'joint_involve...         0.0         1.0  \n",
       "3  ['ana', 'pericardial_effusion', 'anti_dsdna_an...         0.0         1.0  \n",
       "4  ['ana', 'pericardial_effusion', 'anti_dsdna_an...         0.0         1.0  "
      ]
     },
     "execution_count": 7,
     "metadata": {},
     "output_type": "execute_result"
    }
   ],
   "source": [
    "test_df = pd.read_csv('../test_dfs/dueling_ddqn_per_biopsy_3_best_path_pahm_105_100000000.csv')\n",
    "test_df.head()"
   ]
  },
  {
   "cell_type": "code",
   "execution_count": 25,
   "id": "ddad0847",
   "metadata": {},
   "outputs": [
    {
     "data": {
      "text/html": [
       "<div>\n",
       "<style scoped>\n",
       "    .dataframe tbody tr th:only-of-type {\n",
       "        vertical-align: middle;\n",
       "    }\n",
       "\n",
       "    .dataframe tbody tr th {\n",
       "        vertical-align: top;\n",
       "    }\n",
       "\n",
       "    .dataframe thead th {\n",
       "        text-align: right;\n",
       "    }\n",
       "</style>\n",
       "<table border=\"1\" class=\"dataframe\">\n",
       "  <thead>\n",
       "    <tr style=\"text-align: right;\">\n",
       "      <th></th>\n",
       "      <th>ana</th>\n",
       "      <th>fever</th>\n",
       "      <th>leukopenia</th>\n",
       "      <th>thrombocytopenia</th>\n",
       "      <th>auto_immune_hemolysis</th>\n",
       "      <th>delirium</th>\n",
       "      <th>psychosis</th>\n",
       "      <th>seizure</th>\n",
       "      <th>non_scarring_alopecia</th>\n",
       "      <th>oral_ulcers</th>\n",
       "      <th>...</th>\n",
       "      <th>proteinuria</th>\n",
       "      <th>biopsy_proven_lupus_nephritis</th>\n",
       "      <th>anti_cardioliphin_antibodies</th>\n",
       "      <th>anti_β2gp1_antibodies</th>\n",
       "      <th>lupus_anti_coagulant</th>\n",
       "      <th>low_c3</th>\n",
       "      <th>low_c4</th>\n",
       "      <th>anti_dsdna_antibody</th>\n",
       "      <th>anti_smith_antibody</th>\n",
       "      <th>label</th>\n",
       "    </tr>\n",
       "  </thead>\n",
       "  <tbody>\n",
       "    <tr>\n",
       "      <th>0</th>\n",
       "      <td>1</td>\n",
       "      <td>0</td>\n",
       "      <td>1</td>\n",
       "      <td>0</td>\n",
       "      <td>0</td>\n",
       "      <td>0</td>\n",
       "      <td>0</td>\n",
       "      <td>0</td>\n",
       "      <td>0</td>\n",
       "      <td>0</td>\n",
       "      <td>...</td>\n",
       "      <td>1</td>\n",
       "      <td>0</td>\n",
       "      <td>0</td>\n",
       "      <td>0</td>\n",
       "      <td>0</td>\n",
       "      <td>1</td>\n",
       "      <td>0</td>\n",
       "      <td>1</td>\n",
       "      <td>0</td>\n",
       "      <td>1</td>\n",
       "    </tr>\n",
       "    <tr>\n",
       "      <th>1</th>\n",
       "      <td>1</td>\n",
       "      <td>0</td>\n",
       "      <td>0</td>\n",
       "      <td>0</td>\n",
       "      <td>0</td>\n",
       "      <td>0</td>\n",
       "      <td>0</td>\n",
       "      <td>0</td>\n",
       "      <td>0</td>\n",
       "      <td>0</td>\n",
       "      <td>...</td>\n",
       "      <td>0</td>\n",
       "      <td>0</td>\n",
       "      <td>0</td>\n",
       "      <td>0</td>\n",
       "      <td>0</td>\n",
       "      <td>0</td>\n",
       "      <td>1</td>\n",
       "      <td>0</td>\n",
       "      <td>0</td>\n",
       "      <td>0</td>\n",
       "    </tr>\n",
       "    <tr>\n",
       "      <th>2</th>\n",
       "      <td>1</td>\n",
       "      <td>0</td>\n",
       "      <td>1</td>\n",
       "      <td>0</td>\n",
       "      <td>0</td>\n",
       "      <td>0</td>\n",
       "      <td>0</td>\n",
       "      <td>0</td>\n",
       "      <td>0</td>\n",
       "      <td>0</td>\n",
       "      <td>...</td>\n",
       "      <td>0</td>\n",
       "      <td>0</td>\n",
       "      <td>0</td>\n",
       "      <td>0</td>\n",
       "      <td>0</td>\n",
       "      <td>1</td>\n",
       "      <td>0</td>\n",
       "      <td>1</td>\n",
       "      <td>0</td>\n",
       "      <td>1</td>\n",
       "    </tr>\n",
       "    <tr>\n",
       "      <th>3</th>\n",
       "      <td>1</td>\n",
       "      <td>0</td>\n",
       "      <td>0</td>\n",
       "      <td>0</td>\n",
       "      <td>0</td>\n",
       "      <td>0</td>\n",
       "      <td>0</td>\n",
       "      <td>0</td>\n",
       "      <td>1</td>\n",
       "      <td>0</td>\n",
       "      <td>...</td>\n",
       "      <td>0</td>\n",
       "      <td>0</td>\n",
       "      <td>0</td>\n",
       "      <td>0</td>\n",
       "      <td>0</td>\n",
       "      <td>0</td>\n",
       "      <td>0</td>\n",
       "      <td>0</td>\n",
       "      <td>0</td>\n",
       "      <td>0</td>\n",
       "    </tr>\n",
       "    <tr>\n",
       "      <th>4</th>\n",
       "      <td>1</td>\n",
       "      <td>0</td>\n",
       "      <td>0</td>\n",
       "      <td>0</td>\n",
       "      <td>0</td>\n",
       "      <td>0</td>\n",
       "      <td>0</td>\n",
       "      <td>0</td>\n",
       "      <td>0</td>\n",
       "      <td>0</td>\n",
       "      <td>...</td>\n",
       "      <td>1</td>\n",
       "      <td>4</td>\n",
       "      <td>1</td>\n",
       "      <td>0</td>\n",
       "      <td>0</td>\n",
       "      <td>0</td>\n",
       "      <td>1</td>\n",
       "      <td>0</td>\n",
       "      <td>0</td>\n",
       "      <td>1</td>\n",
       "    </tr>\n",
       "  </tbody>\n",
       "</table>\n",
       "<p>5 rows × 25 columns</p>\n",
       "</div>"
      ],
      "text/plain": [
       "   ana  fever  leukopenia  thrombocytopenia  auto_immune_hemolysis  delirium  \\\n",
       "0    1      0           1                 0                      0         0   \n",
       "1    1      0           0                 0                      0         0   \n",
       "2    1      0           1                 0                      0         0   \n",
       "3    1      0           0                 0                      0         0   \n",
       "4    1      0           0                 0                      0         0   \n",
       "\n",
       "   psychosis  seizure  non_scarring_alopecia  oral_ulcers  ...  proteinuria  \\\n",
       "0          0        0                      0            0  ...            1   \n",
       "1          0        0                      0            0  ...            0   \n",
       "2          0        0                      0            0  ...            0   \n",
       "3          0        0                      1            0  ...            0   \n",
       "4          0        0                      0            0  ...            1   \n",
       "\n",
       "   biopsy_proven_lupus_nephritis  anti_cardioliphin_antibodies  \\\n",
       "0                              0                             0   \n",
       "1                              0                             0   \n",
       "2                              0                             0   \n",
       "3                              0                             0   \n",
       "4                              4                             1   \n",
       "\n",
       "   anti_β2gp1_antibodies  lupus_anti_coagulant  low_c3  low_c4  \\\n",
       "0                      0                     0       1       0   \n",
       "1                      0                     0       0       1   \n",
       "2                      0                     0       1       0   \n",
       "3                      0                     0       0       0   \n",
       "4                      0                     0       0       1   \n",
       "\n",
       "   anti_dsdna_antibody  anti_smith_antibody  label  \n",
       "0                    1                    0      1  \n",
       "1                    0                    0      0  \n",
       "2                    1                    0      1  \n",
       "3                    0                    0      0  \n",
       "4                    0                    0      1  \n",
       "\n",
       "[5 rows x 25 columns]"
      ]
     },
     "execution_count": 25,
     "metadata": {},
     "output_type": "execute_result"
    }
   ],
   "source": [
    "testing_df = pd.read_csv('../new_data/test_set_constant.csv')\n",
    "testing_df.head()"
   ]
  },
  {
   "cell_type": "code",
   "execution_count": 33,
   "id": "2d3441e5",
   "metadata": {},
   "outputs": [],
   "source": [
    "import ast"
   ]
  },
  {
   "cell_type": "code",
   "execution_count": 71,
   "id": "98d92b99",
   "metadata": {},
   "outputs": [
    {
     "data": {
      "text/plain": [
       "[1, 2, 3]"
      ]
     },
     "execution_count": 71,
     "metadata": {},
     "output_type": "execute_result"
    }
   ],
   "source": [
    "a = [1, 2, 3]\n",
    "b = a.copy()\n",
    "b"
   ]
  },
  {
   "cell_type": "code",
   "execution_count": 72,
   "id": "2a42a42f",
   "metadata": {},
   "outputs": [
    {
     "data": {
      "text/plain": [
       "[1, 2, 3]"
      ]
     },
     "execution_count": 72,
     "metadata": {},
     "output_type": "execute_result"
    }
   ],
   "source": [
    "a.append(4)\n",
    "b"
   ]
  },
  {
   "cell_type": "code",
   "execution_count": 99,
   "id": "734419fd",
   "metadata": {},
   "outputs": [],
   "source": [
    "def get_threshold_value(df, source): #source e.g. 'ana'\n",
    "    threshold_values = df[source].unique().tolist()\n",
    "    if len(threshold_values) == 1:\n",
    "        return int(threshold_values[0])\n",
    "    else:\n",
    "        return str(threshold_values)"
   ]
  },
  {
   "cell_type": "markdown",
   "id": "2509883c",
   "metadata": {},
   "source": [
    "#### Pathways to test"
   ]
  },
  {
   "cell_type": "code",
   "execution_count": 207,
   "id": "16f8d618",
   "metadata": {},
   "outputs": [],
   "source": [
    "def get_distinct_pathways(test_df): #change to test_df after\n",
    "    unique_path_list = []\n",
    "    \n",
    "    for path in test_df.trajectory.unique():\n",
    "        path_features = ast.literal_eval(path)\n",
    "        fts = [i for i in path_features if i not in ['Lupus', 'No lupus']]\n",
    "        print(path_features)\n",
    "        path_df = test_df[test_df.trajectory == path]\n",
    "        path_testing_df = testing_df.loc[path_df.index][fts]\n",
    "        path_ft_vals_vc = path_testing_df.value_counts()\n",
    "        path_unique_vals_lists = path_ft_vals_vc.index.to_list()\n",
    "        path_sample_nums = path_ft_vals_vc.values\n",
    "        \n",
    "        for i in range(len(path_unique_vals_lists)):\n",
    "            unique_path_list.append(\n",
    "                {'features':path_features, 'values':path_unique_vals_lists[i], 'sample_num':path_sample_nums[i]}\n",
    "            )\n",
    "    return unique_path_list"
   ]
  },
  {
   "cell_type": "code",
   "execution_count": 23,
   "id": "70092367",
   "metadata": {},
   "outputs": [],
   "source": [
    "def get_weighted_mean_with_path_values(test_df):\n",
    "    weighted_mean = 0\n",
    "    \n",
    "    distinct_pathways = get_distinct_pathways(test_df)\n",
    "    \n",
    "    return weighted_mean "
   ]
  },
  {
   "cell_type": "code",
   "execution_count": 24,
   "id": "1bf69f2b",
   "metadata": {},
   "outputs": [
    {
     "data": {
      "text/plain": [
       "142.88475982659568"
      ]
     },
     "execution_count": 24,
     "metadata": {},
     "output_type": "execute_result"
    }
   ],
   "source": [
    "get_weighted_mean(test_df)"
   ]
  },
  {
   "cell_type": "code",
   "execution_count": 12,
   "id": "6ca913d1",
   "metadata": {},
   "outputs": [
    {
     "data": {
      "text/plain": [
       "142.88475982659568"
      ]
     },
     "execution_count": 12,
     "metadata": {},
     "output_type": "execute_result"
    }
   ],
   "source": [
    "distinct_acc_list = []\n",
    "distinct_score_list = []\n",
    "distinct_acc_score = 0\n",
    "for distinct_path in distinct_pathways:\n",
    "    distinct_path_df = test_df[test_df.trajectory==distinct_path]\n",
    "    sample_num = len(distinct_path_df)\n",
    "    correct_sample_num = len(distinct_path_df[distinct_path_df.y_actual==distinct_path_df.y_pred])\n",
    "    distinct_path_acc = correct_sample_num/sample_num\n",
    "    distinct_acc_list.append(distinct_path_acc)\n",
    "    \n",
    "    distinct_path_score = utils.get_pathway_score(distinct_path)\n",
    "    distinct_score_list.append(distinct_path_score)\n",
    "    \n",
    "#     print(distinct_path_acc*distinct_path_score)\n",
    "    distinct_acc_score +=distinct_path_acc*distinct_path_score\n",
    "distinct_acc_score"
   ]
  },
  {
   "cell_type": "code",
   "execution_count": 14,
   "id": "4ca05bb9",
   "metadata": {},
   "outputs": [
    {
     "data": {
      "text/plain": [
       "(0.0, 0.9017861643687605, 1.0)"
      ]
     },
     "execution_count": 14,
     "metadata": {},
     "output_type": "execute_result"
    }
   ],
   "source": [
    "min(distinct_acc_list), np.mean(distinct_acc_list), max(distinct_acc_list)"
   ]
  },
  {
   "cell_type": "code",
   "execution_count": 15,
   "id": "a94dcc86",
   "metadata": {},
   "outputs": [
    {
     "data": {
      "text/plain": [
       "(0.0, 0.2148253068932956, 0.9594356261022927)"
      ]
     },
     "execution_count": 15,
     "metadata": {},
     "output_type": "execute_result"
    }
   ],
   "source": [
    "min(distinct_score_list), np.mean(distinct_score_list), max(distinct_score_list)"
   ]
  },
  {
   "cell_type": "code",
   "execution_count": 16,
   "id": "d19f05e6",
   "metadata": {},
   "outputs": [
    {
     "data": {
      "text/plain": [
       "142.88475982659568"
      ]
     },
     "execution_count": 16,
     "metadata": {},
     "output_type": "execute_result"
    }
   ],
   "source": [
    "a = 0\n",
    "for i in range(len(distinct_acc_list)):\n",
    "    a += distinct_acc_list[i]*distinct_score_list[i]\n",
    "a"
   ]
  },
  {
   "cell_type": "markdown",
   "id": "a03fa2a9",
   "metadata": {},
   "source": [
    "#### end here"
   ]
  },
  {
   "cell_type": "code",
   "execution_count": null,
   "id": "5e5e9d39",
   "metadata": {},
   "outputs": [],
   "source": [
    "# dqn_model_acc = utils.load_dqn(f'../models/logs/{model_name}/biopsy_3/seed_{SEED}_{steps}/best_acc_model.zip')\n",
    "# test_df = utils.evaluate_dqn(dqn_model_acc, X_test, y_test)\n",
    "# acc, f1, roc_auc = utils.test(test_df.y_actual, test_df.y_pred)\n",
    "# acc_ft_score = utils.total_acc_feature_score(test_df)\n",
    "# print(f'{model_name}: {acc_ft_score}, {acc}, {f1}, {roc_auc}, {test_df.episode_length.min()}, {test_df.episode_length.mean()}, {test_df.episode_length.max()}')\n",
    "# print(f'{model_name}: {acc_ft_score}')"
   ]
  },
  {
   "cell_type": "code",
   "execution_count": null,
   "id": "6646b022",
   "metadata": {},
   "outputs": [],
   "source": [
    "dqn_model_acc_ft = utils.load_dqn(f'../models/logs/{model_name}/biopsy_7/seed_{SEED}_{steps}/best_weighted_pahm_model_9_1.zip')\n",
    "# dqn_model_acc_ft = utils.load_dqn(f'../models/logs/{model_name}/biopsy_without_cost/seed_{SEED}_{steps}/best_acc_model.zip')\n",
    "test_df = utils.evaluate_dqn(dqn_model_acc_ft, X_test, y_test)\n",
    "acc, f1, roc_auc = utils.test(test_df.y_actual, test_df.y_pred)\n",
    "pathway_score = utils.total_pathway_score(test_df)\n",
    "pahm_score = utils.pahm_score(acc, pathway_score)\n",
    "wpahm_score = utils.weighted_pahm_score([acc, pathway_score], [0.9, 0.1])\n",
    "print(f'{model_name}: {pathway_score}, {pahm_score}, {wpahm_score}, {acc}, {f1}, {roc_auc}, {test_df.episode_length.min()}, {test_df.episode_length.mean()}, {test_df.episode_length.max()}')"
   ]
  },
  {
   "cell_type": "code",
   "execution_count": null,
   "id": "60104e29",
   "metadata": {},
   "outputs": [],
   "source": [
    "# test_df.to_csv(f'../test_dfs/{model_name}_biopsy_3_best_path_pahm_{SEED}_{steps}.csv', index=False)"
   ]
  }
 ],
 "metadata": {
  "kernelspec": {
   "display_name": "Python 3 (ipykernel)",
   "language": "python",
   "name": "python3"
  },
  "language_info": {
   "codemirror_mode": {
    "name": "ipython",
    "version": 3
   },
   "file_extension": ".py",
   "mimetype": "text/x-python",
   "name": "python",
   "nbconvert_exporter": "python",
   "pygments_lexer": "ipython3",
   "version": "3.7.4"
  }
 },
 "nbformat": 4,
 "nbformat_minor": 5
}

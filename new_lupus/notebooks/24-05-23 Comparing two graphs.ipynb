{
 "cells": [
  {
   "cell_type": "code",
   "execution_count": 3,
   "id": "8e6544c6",
   "metadata": {},
   "outputs": [],
   "source": [
    "import pandas as pd\n",
    "import numpy as np\n",
    "import collections \n",
    "import itertools\n",
    "import pickle\n",
    "import networkx as nx\n",
    "from networkx.algorithms import similarity, isomorphism as iso\n",
    "from pyvis.network import Network\n",
    "import ast\n",
    "import sys\n",
    "sys.path.append('../')\n",
    "from modules import utils\n",
    "import matplotlib.pyplot as plt\n",
    "%matplotlib inline"
   ]
  },
  {
   "cell_type": "code",
   "execution_count": 4,
   "id": "d204d76a",
   "metadata": {},
   "outputs": [],
   "source": [
    "def get_all_subgraphs(nx_graph): #maybe i remove the lupus node \n",
    "    all_subgraphs = []\n",
    "    all_connected_subgraphs = []\n",
    "    for nb_nodes in (2, nx_graph.number_of_nodes()):\n",
    "        for subgraph in (nx_graph.subgraph(selected_nodes) for selected_nodes in itertools.combinations(nx_graph, nb_nodes)):\n",
    "            all_subgraphs.append(subgraph)\n",
    "#             if nx.is_connected(subgraph):\n",
    "#                 all_connected_subgraphs.append(subgraph)\n",
    "    return all_subgraphs#, all_connected_subgraphs  "
   ]
  },
  {
   "cell_type": "code",
   "execution_count": 5,
   "id": "5597b03b",
   "metadata": {},
   "outputs": [],
   "source": [
    "def find_subgraph(graph1, graph2): #is graph1 a subset of graph2\n",
    "    graph2_subgraphs = get_all_subgraphs(graph2)\n",
    "    for graph2_subgraph in graph2_subgraphs:\n",
    "#         print(type(graph1), type(graph2_subgraph))\n",
    "        if nx.is_isomorphic(graph1, graph2_subgraph):\n",
    "            return True\n",
    "    return False"
   ]
  },
  {
   "cell_type": "code",
   "execution_count": 6,
   "id": "e5489d61",
   "metadata": {},
   "outputs": [],
   "source": [
    "def is_subgraph(graph1, graph2):\n",
    "    if (find_subgraph(graph1, graph2)) | (find_subgraph(graph2, graph1)):\n",
    "        return True\n",
    "    else:\n",
    "        return False"
   ]
  },
  {
   "cell_type": "code",
   "execution_count": 7,
   "id": "9b1cfb62",
   "metadata": {},
   "outputs": [],
   "source": [
    "def is_isomorphic(graph1, graph2):\n",
    "    return nx.is_isomorphic(graph1, graph2)"
   ]
  },
  {
   "cell_type": "code",
   "execution_count": 8,
   "id": "a5a3ee22",
   "metadata": {},
   "outputs": [],
   "source": [
    "def get_ged(graph1, graph2): #graph edit distance\n",
    "    return similarity.graph_edit_distance(graph1, graph2)"
   ]
  },
  {
   "cell_type": "markdown",
   "id": "fa56e233",
   "metadata": {},
   "source": [
    "#### Preliminaries"
   ]
  },
  {
   "cell_type": "code",
   "execution_count": 49,
   "id": "73862409",
   "metadata": {},
   "outputs": [],
   "source": [
    "model_name = 'dueling_dqn_per'\n",
    "seed1, seed2 = 84, 63\n",
    "steps = int(10e7)\n",
    "folder_name1, folder_name2 = f'../graphs/risk_factor/seed_{seed1}', f'../graphs/risk_factor/seed_{seed2}'"
   ]
  },
  {
   "cell_type": "markdown",
   "id": "e36e6500",
   "metadata": {},
   "source": [
    "#### Comparing entire graphs"
   ]
  },
  {
   "cell_type": "code",
   "execution_count": 50,
   "id": "d814040a",
   "metadata": {},
   "outputs": [],
   "source": [
    "graph1 = pickle.load(open(f'{folder_name1}/{model_name}_test_df.pickle', 'rb'))\n",
    "graph2 = pickle.load(open(f'{folder_name2}/{model_name}_test_df.pickle', 'rb'))"
   ]
  },
  {
   "cell_type": "code",
   "execution_count": 51,
   "id": "2ded8988",
   "metadata": {},
   "outputs": [],
   "source": [
    "no_lupus_graph1 = pickle.load(open(f'{folder_name1}/{model_name}_no_lupus.pickle', 'rb'))\n",
    "no_lupus_graph2 = pickle.load(open(f'{folder_name2}/{model_name}_no_lupus.pickle', 'rb'))"
   ]
  },
  {
   "cell_type": "code",
   "execution_count": 52,
   "id": "328afd6c",
   "metadata": {},
   "outputs": [],
   "source": [
    "lupus_graph1 = pickle.load(open(f'{folder_name1}/{model_name}_lupus.pickle', 'rb'))\n",
    "lupus_graph2 = pickle.load(open(f'{folder_name2}/{model_name}_lupus.pickle', 'rb'))"
   ]
  },
  {
   "cell_type": "code",
   "execution_count": 53,
   "id": "f68a1a16",
   "metadata": {},
   "outputs": [
    {
     "data": {
      "text/plain": [
       "(False, False, False)"
      ]
     },
     "execution_count": 53,
     "metadata": {},
     "output_type": "execute_result"
    }
   ],
   "source": [
    "is_isomorphic(graph1, graph2), is_isomorphic(no_lupus_graph1, no_lupus_graph2), is_isomorphic(lupus_graph1, lupus_graph2)"
   ]
  },
  {
   "cell_type": "code",
   "execution_count": 54,
   "id": "b437f033",
   "metadata": {},
   "outputs": [],
   "source": [
    "# get_ged(graph1, graph2), get_ged(no_lupus_graph1, no_lupus_graph2), get_ged(lupus_graph1, lupus_graph2)"
   ]
  },
  {
   "cell_type": "code",
   "execution_count": 55,
   "id": "75e8216d",
   "metadata": {},
   "outputs": [],
   "source": [
    "# get_ged(graph2, graph1), get_ged(no_lupus_graph2, no_lupus_graph1), get_ged(lupus_graph2, lupus_graph1)"
   ]
  },
  {
   "cell_type": "markdown",
   "id": "81b351bb",
   "metadata": {},
   "source": [
    "#### No lupus"
   ]
  },
  {
   "cell_type": "code",
   "execution_count": 56,
   "id": "a3e983a6",
   "metadata": {},
   "outputs": [],
   "source": [
    "# sample_graph1 = pickle.load(open(f'{folder_name1}/{model_name}_sample_path1.pickle', 'rb'))\n",
    "# sample_graph2 = pickle.load(open(f'{folder_name1}/{model_name}_sample_path2.pickle', 'rb'))"
   ]
  },
  {
   "cell_type": "code",
   "execution_count": 57,
   "id": "948d18d6",
   "metadata": {},
   "outputs": [],
   "source": [
    "short_no_graph1 = pickle.load(open(f'{folder_name1}/{model_name}_no_lupus_shortest.pickle', 'rb'))\n",
    "short_no_graph2 = pickle.load(open(f'{folder_name2}/{model_name}_no_lupus_shortest.pickle', 'rb'))"
   ]
  },
  {
   "cell_type": "code",
   "execution_count": 58,
   "id": "8ff34e28",
   "metadata": {},
   "outputs": [],
   "source": [
    "common_no_graph1 = pickle.load(open(f'{folder_name1}/{model_name}_no_lupus_commonest.pickle', 'rb'))\n",
    "common_no_graph2 = pickle.load(open(f'{folder_name2}/{model_name}_no_lupus_commonest.pickle', 'rb'))"
   ]
  },
  {
   "cell_type": "code",
   "execution_count": 59,
   "id": "2fd6e1c6",
   "metadata": {},
   "outputs": [],
   "source": [
    "long_no_graph1 = pickle.load(open(f'{folder_name1}/{model_name}_no_lupus_longest.pickle', 'rb'))\n",
    "long_no_graph2 = pickle.load(open(f'{folder_name2}/{model_name}_no_lupus_longest.pickle', 'rb'))"
   ]
  },
  {
   "cell_type": "markdown",
   "id": "aaccd9cf",
   "metadata": {},
   "source": [
    "#### Lupus"
   ]
  },
  {
   "cell_type": "code",
   "execution_count": 60,
   "id": "62bc0b17",
   "metadata": {},
   "outputs": [],
   "source": [
    "short_lupus_graph1 = pickle.load(open(f'{folder_name1}/{model_name}_lupus_shortest.pickle', 'rb'))\n",
    "short_lupus_graph2 = pickle.load(open(f'{folder_name2}/{model_name}_lupus_shortest.pickle', 'rb'))"
   ]
  },
  {
   "cell_type": "code",
   "execution_count": 61,
   "id": "63a08643",
   "metadata": {},
   "outputs": [],
   "source": [
    "common_lupus_graph1 = pickle.load(open(f'{folder_name1}/{model_name}_lupus_commonest.pickle', 'rb'))\n",
    "common_lupus_graph2 = pickle.load(open(f'{folder_name2}/{model_name}_lupus_commonest.pickle', 'rb'))"
   ]
  },
  {
   "cell_type": "code",
   "execution_count": 62,
   "id": "06729865",
   "metadata": {},
   "outputs": [],
   "source": [
    "long_lupus_graph1 = pickle.load(open(f'{folder_name1}/{model_name}_lupus_longest.pickle', 'rb'))\n",
    "long_lupus_graph2 = pickle.load(open(f'{folder_name2}/{model_name}_lupus_longest.pickle', 'rb'))"
   ]
  },
  {
   "cell_type": "markdown",
   "id": "66d52dc6",
   "metadata": {},
   "source": [
    "#### Isormophism"
   ]
  },
  {
   "cell_type": "code",
   "execution_count": 63,
   "id": "13eb5554",
   "metadata": {},
   "outputs": [],
   "source": [
    "# is_isomorphic(sample_graph1, sample_graph2), is_isomorphic(sample_graph1, sample_graph2)"
   ]
  },
  {
   "cell_type": "code",
   "execution_count": 64,
   "id": "60e8a2fc",
   "metadata": {},
   "outputs": [
    {
     "data": {
      "text/plain": [
       "(False, False)"
      ]
     },
     "execution_count": 64,
     "metadata": {},
     "output_type": "execute_result"
    }
   ],
   "source": [
    "is_isomorphic(short_no_graph1, short_no_graph2), is_isomorphic(short_lupus_graph1, short_lupus_graph2)"
   ]
  },
  {
   "cell_type": "code",
   "execution_count": 65,
   "id": "d1453bbe",
   "metadata": {},
   "outputs": [
    {
     "data": {
      "text/plain": [
       "(False, False)"
      ]
     },
     "execution_count": 65,
     "metadata": {},
     "output_type": "execute_result"
    }
   ],
   "source": [
    "is_isomorphic(common_no_graph1, common_no_graph2), is_isomorphic(common_lupus_graph1, common_lupus_graph2)"
   ]
  },
  {
   "cell_type": "code",
   "execution_count": 66,
   "id": "ac79ee7a",
   "metadata": {},
   "outputs": [
    {
     "data": {
      "text/plain": [
       "(True, True)"
      ]
     },
     "execution_count": 66,
     "metadata": {},
     "output_type": "execute_result"
    }
   ],
   "source": [
    "is_isomorphic(long_no_graph1, long_no_graph2), is_isomorphic(long_lupus_graph1, long_lupus_graph2)"
   ]
  },
  {
   "cell_type": "markdown",
   "id": "d2b4315c",
   "metadata": {},
   "source": [
    "#### Subgraph"
   ]
  },
  {
   "cell_type": "code",
   "execution_count": 67,
   "id": "e89b46f8",
   "metadata": {},
   "outputs": [],
   "source": [
    "# is_subgraph(sample_graph2, sample_graph1)"
   ]
  },
  {
   "cell_type": "code",
   "execution_count": 68,
   "id": "8dc13c94",
   "metadata": {},
   "outputs": [
    {
     "data": {
      "text/plain": [
       "(False, False)"
      ]
     },
     "execution_count": 68,
     "metadata": {},
     "output_type": "execute_result"
    }
   ],
   "source": [
    "is_subgraph(short_no_graph1, short_no_graph2), is_subgraph(short_lupus_graph1, short_lupus_graph2)"
   ]
  },
  {
   "cell_type": "code",
   "execution_count": 69,
   "id": "8659b008",
   "metadata": {},
   "outputs": [
    {
     "data": {
      "text/plain": [
       "(False, False)"
      ]
     },
     "execution_count": 69,
     "metadata": {},
     "output_type": "execute_result"
    }
   ],
   "source": [
    "is_subgraph(common_no_graph1, common_no_graph2), is_subgraph(common_lupus_graph1, common_lupus_graph2)"
   ]
  },
  {
   "cell_type": "code",
   "execution_count": 70,
   "id": "c5f976b9",
   "metadata": {},
   "outputs": [
    {
     "data": {
      "text/plain": [
       "(True, True)"
      ]
     },
     "execution_count": 70,
     "metadata": {},
     "output_type": "execute_result"
    }
   ],
   "source": [
    "is_subgraph(long_no_graph1, long_no_graph2), is_subgraph(long_lupus_graph1, long_lupus_graph2)"
   ]
  },
  {
   "cell_type": "markdown",
   "id": "799aadd0",
   "metadata": {},
   "source": [
    "#### Similarity"
   ]
  },
  {
   "cell_type": "code",
   "execution_count": 71,
   "id": "b29d4a96",
   "metadata": {},
   "outputs": [],
   "source": [
    "# get_ged(sample_graph1, sample_graph2), get_ged(sample_graph2, sample_graph1)"
   ]
  },
  {
   "cell_type": "code",
   "execution_count": 72,
   "id": "be2329f2",
   "metadata": {},
   "outputs": [
    {
     "data": {
      "text/plain": [
       "(10.0, 4.0)"
      ]
     },
     "execution_count": 72,
     "metadata": {},
     "output_type": "execute_result"
    }
   ],
   "source": [
    "get_ged(short_no_graph1, short_no_graph2), get_ged(short_lupus_graph1, short_lupus_graph2)"
   ]
  },
  {
   "cell_type": "code",
   "execution_count": 73,
   "id": "28739949",
   "metadata": {},
   "outputs": [
    {
     "data": {
      "text/plain": [
       "(32.0, 2.0)"
      ]
     },
     "execution_count": 73,
     "metadata": {},
     "output_type": "execute_result"
    }
   ],
   "source": [
    "get_ged(common_no_graph1, common_no_graph2), get_ged(common_lupus_graph1, common_lupus_graph2)"
   ]
  },
  {
   "cell_type": "code",
   "execution_count": 74,
   "id": "703e852e",
   "metadata": {},
   "outputs": [
    {
     "data": {
      "text/plain": [
       "(0.0, 0.0)"
      ]
     },
     "execution_count": 74,
     "metadata": {},
     "output_type": "execute_result"
    }
   ],
   "source": [
    "get_ged(long_no_graph1, long_no_graph2), get_ged(long_lupus_graph1, long_lupus_graph2)"
   ]
  },
  {
   "cell_type": "code",
   "execution_count": null,
   "id": "ee2aea2c",
   "metadata": {},
   "outputs": [],
   "source": []
  },
  {
   "cell_type": "code",
   "execution_count": 75,
   "id": "98fb99b5",
   "metadata": {},
   "outputs": [],
   "source": [
    "# traj1_nx_graph = nx.from_pandas_edgelist(traj1_pathways_df, 'source', 'target', edge_attr=['edge_threshold'],\n",
    "#                                         create_using=nx.DiGraph(),)\n",
    "# undirected_traj1_nx_graph = traj1_nx_graph.to_undirected()"
   ]
  },
  {
   "cell_type": "code",
   "execution_count": null,
   "id": "0a68d8cb",
   "metadata": {},
   "outputs": [],
   "source": [
    "# nx.draw(undirected_traj1_nx_graph, with_labels=True)"
   ]
  },
  {
   "cell_type": "code",
   "execution_count": null,
   "id": "2ed8c5f4",
   "metadata": {},
   "outputs": [],
   "source": [
    "# draw_one_trajectory(pred_lupus, traj1).show('Example.html')"
   ]
  },
  {
   "cell_type": "markdown",
   "id": "0cbe3c3e",
   "metadata": {},
   "source": [
    "#### Graph 2"
   ]
  }
 ],
 "metadata": {
  "kernelspec": {
   "display_name": "Python 3 (ipykernel)",
   "language": "python",
   "name": "python3"
  },
  "language_info": {
   "codemirror_mode": {
    "name": "ipython",
    "version": 3
   },
   "file_extension": ".py",
   "mimetype": "text/x-python",
   "name": "python",
   "nbconvert_exporter": "python",
   "pygments_lexer": "ipython3",
   "version": "3.7.4"
  }
 },
 "nbformat": 4,
 "nbformat_minor": 5
}

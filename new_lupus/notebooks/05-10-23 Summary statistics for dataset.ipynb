{
 "cells": [
  {
   "cell_type": "code",
   "execution_count": 199,
   "id": "9677e109",
   "metadata": {},
   "outputs": [],
   "source": [
    "import pandas as pd\n",
    "import numpy as np\n",
    "import scipy.stats"
   ]
  },
  {
   "cell_type": "code",
   "execution_count": 200,
   "id": "526fba6f",
   "metadata": {},
   "outputs": [
    {
     "data": {
      "text/plain": [
       "(70000, 25)"
      ]
     },
     "execution_count": 200,
     "metadata": {},
     "output_type": "execute_result"
    }
   ],
   "source": [
    "full_df = pd.read_csv('../new_data/full_lupus_dataset.csv')\n",
    "full_df.shape"
   ]
  },
  {
   "cell_type": "code",
   "execution_count": 201,
   "id": "c4c291b3",
   "metadata": {},
   "outputs": [],
   "source": [
    "no_lupus_df = full_df[full_df.label==0]\n",
    "lupus_df = full_df[full_df.label == 1]"
   ]
  },
  {
   "cell_type": "code",
   "execution_count": 202,
   "id": "878f2348",
   "metadata": {},
   "outputs": [
    {
     "data": {
      "text/plain": [
       "Index(['ana', 'fever', 'leukopenia', 'thrombocytopenia',\n",
       "       'auto_immune_hemolysis', 'delirium', 'psychosis', 'seizure',\n",
       "       'non_scarring_alopecia', 'oral_ulcers', 'cutaneous_lupus',\n",
       "       'pleural_effusion', 'pericardial_effusion', 'acute_pericarditis',\n",
       "       'joint_involvement', 'proteinuria', 'biopsy_proven_lupus_nephritis',\n",
       "       'anti_cardioliphin_antibodies', 'anti_β2gp1_antibodies',\n",
       "       'lupus_anti_coagulant', 'low_c3', 'low_c4', 'anti_dsdna_antibody',\n",
       "       'anti_smith_antibody', 'label'],\n",
       "      dtype='object')"
      ]
     },
     "execution_count": 202,
     "metadata": {},
     "output_type": "execute_result"
    }
   ],
   "source": [
    "full_df.columns"
   ]
  },
  {
   "cell_type": "code",
   "execution_count": 203,
   "id": "9ccd4889",
   "metadata": {},
   "outputs": [],
   "source": [
    "feature = 'anti_smith_antibody'"
   ]
  },
  {
   "cell_type": "markdown",
   "id": "9d91e15b",
   "metadata": {},
   "source": [
    "#### Entire dataset"
   ]
  },
  {
   "cell_type": "code",
   "execution_count": 204,
   "id": "944d1a35",
   "metadata": {},
   "outputs": [
    {
     "data": {
      "text/plain": [
       "0    67399\n",
       "1     2601\n",
       "Name: anti_smith_antibody, dtype: int64"
      ]
     },
     "execution_count": 204,
     "metadata": {},
     "output_type": "execute_result"
    }
   ],
   "source": [
    "full_df[feature].value_counts()"
   ]
  },
  {
   "cell_type": "code",
   "execution_count": 205,
   "id": "224a8853",
   "metadata": {},
   "outputs": [
    {
     "data": {
      "text/plain": [
       "0    96.3%\n",
       "1     3.7%\n",
       "Name: anti_smith_antibody, dtype: object"
      ]
     },
     "execution_count": 205,
     "metadata": {},
     "output_type": "execute_result"
    }
   ],
   "source": [
    "full_df[feature].value_counts(normalize=True).mul(100).round(1).astype(str) + '%'"
   ]
  },
  {
   "cell_type": "markdown",
   "id": "b6e96f2d",
   "metadata": {},
   "source": [
    "#### No lupus dataset"
   ]
  },
  {
   "cell_type": "code",
   "execution_count": 206,
   "id": "ef66a9ae",
   "metadata": {},
   "outputs": [
    {
     "data": {
      "text/plain": [
       "0    34439\n",
       "1      617\n",
       "Name: anti_smith_antibody, dtype: int64"
      ]
     },
     "execution_count": 206,
     "metadata": {},
     "output_type": "execute_result"
    }
   ],
   "source": [
    "no_lupus_df[feature].value_counts()"
   ]
  },
  {
   "cell_type": "code",
   "execution_count": 207,
   "id": "c69a7be9",
   "metadata": {},
   "outputs": [
    {
     "data": {
      "text/plain": [
       "0    98.2%\n",
       "1     1.8%\n",
       "Name: anti_smith_antibody, dtype: object"
      ]
     },
     "execution_count": 207,
     "metadata": {},
     "output_type": "execute_result"
    }
   ],
   "source": [
    "no_lupus_df[feature].value_counts(normalize=True).mul(100).round(1).astype(str) + '%'"
   ]
  },
  {
   "cell_type": "markdown",
   "id": "223d5f38",
   "metadata": {},
   "source": [
    "#### Lupus dataset"
   ]
  },
  {
   "cell_type": "code",
   "execution_count": 208,
   "id": "51d2b516",
   "metadata": {},
   "outputs": [
    {
     "data": {
      "text/plain": [
       "0    32960\n",
       "1     1984\n",
       "Name: anti_smith_antibody, dtype: int64"
      ]
     },
     "execution_count": 208,
     "metadata": {},
     "output_type": "execute_result"
    }
   ],
   "source": [
    "lupus_df[feature].value_counts()"
   ]
  },
  {
   "cell_type": "code",
   "execution_count": 209,
   "id": "609605f7",
   "metadata": {},
   "outputs": [
    {
     "data": {
      "text/plain": [
       "0    94.3%\n",
       "1     5.7%\n",
       "Name: anti_smith_antibody, dtype: object"
      ]
     },
     "execution_count": 209,
     "metadata": {},
     "output_type": "execute_result"
    }
   ],
   "source": [
    "lupus_df[feature].value_counts(normalize=True).mul(100).round(1).astype(str) + '%'"
   ]
  },
  {
   "cell_type": "code",
   "execution_count": null,
   "id": "570163c2",
   "metadata": {},
   "outputs": [],
   "source": []
  }
 ],
 "metadata": {
  "kernelspec": {
   "display_name": "Python 3 (ipykernel)",
   "language": "python",
   "name": "python3"
  },
  "language_info": {
   "codemirror_mode": {
    "name": "ipython",
    "version": 3
   },
   "file_extension": ".py",
   "mimetype": "text/x-python",
   "name": "python",
   "nbconvert_exporter": "python",
   "pygments_lexer": "ipython3",
   "version": "3.7.4"
  }
 },
 "nbformat": 4,
 "nbformat_minor": 5
}
